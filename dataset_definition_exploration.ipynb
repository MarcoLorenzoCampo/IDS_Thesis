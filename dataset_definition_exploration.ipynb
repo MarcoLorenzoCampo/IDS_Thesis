{
 "cells": [
  {
   "cell_type": "code",
   "execution_count": 1,
   "metadata": {
    "ExecuteTime": {
     "end_time": "2024-02-25T17:41:24.515002600Z",
     "start_time": "2024-02-25T17:41:22.128035700Z"
    }
   },
   "outputs": [],
   "source": [
    "import numpy as np \n",
    "import pandas as pd\n",
    "import copy\n",
    "import pickle\n",
    "import joblib\n",
    "\n",
    "from sklearn.preprocessing import OneHotEncoder\n",
    "from sklearn.preprocessing import MinMaxScaler\n",
    "from sklearn.model_selection import train_test_split\n",
    "\n",
    "from sklearn.decomposition import PCA\n",
    "from imblearn.under_sampling import RandomUnderSampler as under_sam\n",
    "\n",
    "from sklearn.naive_bayes import GaussianNB\n",
    "from sklearn.svm import SVC\n",
    "from sklearn.metrics import confusion_matrix, accuracy_score, f1_score\n",
    "from sklearn.metrics import matthews_corrcoef, precision_score, recall_score\n",
    "from sklearn.ensemble import RandomForestClassifier"
   ]
  },
  {
   "cell_type": "markdown",
   "source": [
    "### ICFS function\n",
    "Takes a dataframe as parameter and saves to file all the features necessary to describe DoS+Probe and U2R+R2L"
   ],
   "metadata": {
    "collapsed": false
   }
  },
  {
   "cell_type": "markdown",
   "source": [
    "def pearson_correlated_features(x, y, threshold):\n",
    "    y['target'] = y['target'].astype(int)\n",
    "\n",
    "    for p in x.columns:\n",
    "        x[p] = x[p].astype(float)\n",
    "\n",
    "    # Ensure y is a DataFrame for consistency\n",
    "    if isinstance(y, pd.Series):\n",
    "        y = pd.DataFrame(y, columns=['target'])\n",
    "\n",
    "    # Calculate the Pearson's correlation coefficients between features and the target variable(s)\n",
    "    corr_matrix = x.corrwith(y['target'])\n",
    "\n",
    "    # Select features with correlations above the threshold\n",
    "    selected_features = x.columns[corr_matrix.abs() > threshold].tolist()\n",
    "\n",
    "    return selected_features"
   ],
   "metadata": {
    "collapsed": false
   }
  },
  {
   "cell_type": "markdown",
   "source": [
    "def compute_set_difference(df1, df2):\n",
    "    # Create a new DataFrame containing the set difference of the two DataFrames.\n",
    "    df_diff = df1[~df1.index.isin(df2.index)]\n",
    "    # Return the DataFrame.\n",
    "    return df_diff"
   ],
   "metadata": {
    "collapsed": false
   }
  },
  {
   "cell_type": "markdown",
   "source": [
    "def perform_icfs(x_train):\n",
    "    # now ICFS only on the numerical features\n",
    "    num_train = copy.deepcopy(x_train)\n",
    "    del num_train['protocol_type']\n",
    "    del num_train['service']\n",
    "    del num_train['flag']\n",
    "\n",
    "    target = pd.DataFrame()\n",
    "    target['target'] = np.array([1 if x != 'normal' else 0 for x in num_train['label']])\n",
    "    num_train = pd.concat([num_train, target], axis=1)\n",
    "\n",
    "    # These are how attacks are categorized in the trainset\n",
    "    dos_list = ['back', 'land', 'neptune', 'pod', 'smurf', 'teardrop']\n",
    "    probe_list = ['ipsweep', 'portsweep', 'satan', 'nmap']\n",
    "    u2r_list = ['loadmodule', 'perl', 'rootkit', 'buffer_overflow']\n",
    "    r2l_list = ['ftp_write', 'guess_passwd', 'imap', 'multihop', 'phf', 'spy', 'warezclient', 'warezmaster']\n",
    "    normal = ['normal']\n",
    "\n",
    "    # useful sub-sets\n",
    "    x_normal = num_train[num_train['label'].isin(normal)]\n",
    "    x_u2r = num_train[num_train['label'].isin(u2r_list)]\n",
    "    x_r2l = num_train[num_train['label'].isin(r2l_list)]\n",
    "    x_dos = num_train[num_train['label'].isin(dos_list)]\n",
    "    x_probe = num_train[num_train['label'].isin(probe_list)]\n",
    "\n",
    "    # start the ICFS with l1\n",
    "\n",
    "    # features for dos\n",
    "    dos = copy.deepcopy(num_train)\n",
    "    del dos['target']\n",
    "    y = np.array([1 if x in dos_list else 0 for x in dos['label']])\n",
    "    y_dos = pd.DataFrame(y, columns=['target'])\n",
    "    del dos['label']\n",
    "    dos_all = pearson_correlated_features(dos, y_dos, 0.1)\n",
    "    print(dos_all)\n",
    "\n",
    "    # features for probe\n",
    "    probe = copy.deepcopy(num_train)\n",
    "    del probe['target']\n",
    "    y = np.array([1 if x in probe_list else 0 for x in probe['label']])\n",
    "    y_probe = pd.DataFrame(y, columns=['target'])\n",
    "    del probe['label']\n",
    "    probe_all = pearson_correlated_features(probe, y_probe, 0.1)\n",
    "    print(probe_all)\n",
    "\n",
    "    # intersect for the optimal features\n",
    "    set_dos = set(dos_all)\n",
    "    set_probe = set(probe_all)\n",
    "\n",
    "    comm_features_l1 = set_probe & set_dos\n",
    "\n",
    "    print('common features to train l1: ', comm_features_l1)\n",
    "\n",
    "    # now l2 needs the features to describe the difference between rare attacks and normal traffic\n",
    "\n",
    "    # features for u2r\n",
    "    u2r = pd.concat([x_u2r, x_normal], axis=0)\n",
    "    del u2r['target']\n",
    "    y = np.array([1 if x in u2r_list else 0 for x in u2r['label']])\n",
    "    y_u2r = pd.DataFrame(y, columns=['target'])\n",
    "    del u2r['label']\n",
    "    u2r_all = pearson_correlated_features(u2r, y_u2r, 0.01)\n",
    "    print(u2r_all)\n",
    "\n",
    "    # features for r2l\n",
    "    r2l = pd.concat([x_r2l, x_normal], axis=0)\n",
    "    del r2l['target']\n",
    "    y = np.array([1 if x in r2l_list else 0 for x in r2l['label']])\n",
    "    y_r2l = pd.DataFrame(y, columns=['target'])\n",
    "    del r2l['label']\n",
    "    r2l_all = pearson_correlated_features(r2l, y_r2l, 0.01)\n",
    "    print(r2l_all)\n",
    "\n",
    "    # intersect for the optimal features\n",
    "    set_r2l = set(r2l_all)\n",
    "    set_u2r = set(u2r_all)\n",
    "\n",
    "    comm_features_l2 = set_r2l & set_u2r\n",
    "\n",
    "    with open('NSL-KDD Files/NSL_features_l1.txt', 'w') as g:\n",
    "        for a, x in enumerate(comm_features_l1):\n",
    "            if a < len(comm_features_l1) - 1:\n",
    "                g.write(x + ',' + '\\n')\n",
    "            else:\n",
    "                g.write(x)\n",
    "\n",
    "    # read the common features from file\n",
    "    with open('NSL-KDD Files/NSL_features_l2.txt', 'w') as g:\n",
    "        for a, x in enumerate(comm_features_l2):\n",
    "            if a < len(comm_features_l2) - 1:\n",
    "                g.write(x + ',' + '\\n')\n",
    "            else:\n",
    "                g.write(x)"
   ],
   "metadata": {
    "collapsed": false
   }
  },
  {
   "cell_type": "markdown",
   "source": [
    "# Main implementation"
   ],
   "metadata": {
    "collapsed": false
   }
  },
  {
   "cell_type": "markdown",
   "source": [
    "# loading the train 20% set\n",
    "df_train20 = pd.read_csv('EvalResources/KDDTrain+20_percent_with_labels.txt', sep=\",\", header=None)\n",
    "df_train20 = df_train20[df_train20.columns[:-1]]  # tags column\n",
    "titles = pd.read_csv('KB Process/NSL-KDD Original Datasets/Field Names.csv', header=None)\n",
    "label = pd.Series(['label'], index=[41])\n",
    "titles = pd.concat([titles[0], label])\n",
    "df_train20.columns = titles.to_list()\n",
    "df_train20 = df_train20.drop(['num_outbound_cmds'],axis=1)\n",
    "df_train_original = df_train20\n",
    "\n",
    "# df_train_original.to_csv('KB Process/NSL-KDD Original Datasets/KDDTrain+20_percent_with_labels.txt', index=False)\n",
    "\n",
    "df_train_original"
   ],
   "metadata": {
    "collapsed": false
   }
  },
  {
   "cell_type": "code",
   "execution_count": 2,
   "metadata": {
    "ExecuteTime": {
     "end_time": "2024-02-25T17:41:25.069365Z",
     "start_time": "2024-02-25T17:41:24.485337100Z"
    }
   },
   "outputs": [],
   "source": [
    "# loading the train set\n",
    "df_train = pd.read_csv('EvalResources/KDDTrain+.txt', sep=\",\", header=None, skipinitialspace = True)\n",
    "df_train = df_train[df_train.columns[:-1]]  # tags column\n",
    "titles = pd.read_csv('EvalResources/Field Names.csv', header=None, skipinitialspace = True)\n",
    "label = pd.Series(['label'], index=[41])\n",
    "titles = pd.concat([titles[0], label])\n",
    "df_train.columns = titles.to_list()\n",
    "df_train = df_train.drop(['num_outbound_cmds'],axis=1)\n",
    "df_train_original = df_train\n",
    "\n",
    "# df_train_original.to_csv('KB Process/NSL-KDD Original Datasets/KDDTrain+_with_labels.txt', index=False)\n",
    "\n",
    "#df_train_original"
   ]
  },
  {
   "cell_type": "markdown",
   "source": [
    "from matplotlib import pyplot as plt\n",
    "from sklearn.preprocessing import StandardScaler\n",
    "\n",
    "# EDA Plots of the whole dataset\n",
    "\n",
    "data = copy.deepcopy(df_train_original)\n",
    "\n",
    "# Separate features and labels\n",
    "features = data.drop('label', axis=1)\n",
    "labels = data['label']\n",
    "\n",
    "# Build the major category attacks array\n",
    "attacks = []\n",
    "for item in labels:\n",
    "    if item in [\"back\", \"land\", \"neptune\", \"pod\", \"smurf\", \"teardrop\"]:\n",
    "        attacks.append(\"dos\")\n",
    "    elif item in [\"ipsweep\", \"nmap\", \"portsweep\", \"satan\"]:\n",
    "        attacks.append(\"probe\")\n",
    "    elif item in [\"ftp_write\", \"guess_passwd\", \"imap\", \"multihop\", \"phf\", \"spy\", \"warezmaster\", \"warezclient\"]:\n",
    "        attacks.append(\"r2l\")\n",
    "    elif item in [\"buffer_overflow\", \"loadmodule\", \"perl\", \"rootkit\"]:\n",
    "        attacks.append(\"u2r\")\n",
    "    else: \n",
    "        attacks.append(\"normal\")\n",
    "        \n",
    "# Plot histograms\n",
    "df_hist = copy.deepcopy(features)\n",
    "df_hist['attack_cat'] = attacks\n",
    "df_hist['labels'] = labels\n",
    "\n",
    "plt.figure(figsize=(12, 6))\n",
    "plt.hist(df_hist['attack_cat'], bins=10, color='skyblue', align='mid')\n",
    "plt.xlabel('')\n",
    "plt.xticks(rotation=45)\n",
    "plt.tight_layout()\n",
    "plt.ylabel('')\n",
    "plt.title('')\n",
    "plt.savefig('Attacks histogram')\n",
    "#plt.show()"
   ],
   "metadata": {
    "collapsed": false
   }
  },
  {
   "cell_type": "markdown",
   "source": [
    "# Plot histograms\n",
    "df_hist = copy.deepcopy(features)\n",
    "df_hist['attack_cat'] = attacks\n",
    "df_hist['labels'] = labels\n",
    "\n",
    "plt.figure(figsize=(12, 6))\n",
    "plt.hist(df_hist['labels'], bins=60, color='red', align='mid')\n",
    "plt.xlabel('')\n",
    "plt.xticks(rotation=45)\n",
    "plt.tight_layout()\n",
    "plt.ylabel('')\n",
    "plt.title('')\n",
    "plt.savefig('Sub-attacks histogram')\n",
    "#plt.show()"
   ],
   "metadata": {
    "collapsed": false
   }
  },
  {
   "cell_type": "markdown",
   "source": [
    "# Drop the categorical features\n",
    "del features['flag']\n",
    "del features['protocol_type']\n",
    "del features['service']\n",
    "\n",
    "# Standardize features\n",
    "scaler = StandardScaler()\n",
    "scaled_features = scaler.fit_transform(features)\n",
    "\n",
    "# Apply PCA\n",
    "pca = PCA(n_components=2)\n",
    "pca_result = pca.fit_transform(scaled_features)\n",
    "\n",
    "# Create a DataFrame for visualization\n",
    "pca_df = pd.DataFrame(data=pca_result, columns=['PC1', 'PC2'])\n",
    "pca_df['label'] = labels\n",
    "pca_df['attacks'] = attacks\n",
    "\n",
    "# Plot the 2D PCA visualization\n",
    "plt.figure(figsize=(12, 8))\n",
    "colors = {'normal': 'blue', 'dos': 'orange', 'probe': 'green', 'u2r': 'red', 'r2l': 'purple'}\n",
    "\n",
    "for attack_class, color in colors.items():\n",
    "    subset = pca_df[pca_df['attacks'] == attack_class]\n",
    "    plt.scatter(subset['PC1'], subset['PC2'], label=attack_class, color=color, alpha=0.7)\n",
    "\n",
    "plt.title('2D PCA Visualization of NSL-KDD Attack Classes + Normal')\n",
    "plt.xlabel('Principal Component 1 (PC1)')\n",
    "plt.ylabel('Principal Component 2 (PC2)')\n",
    "plt.tight_layout()\n",
    "plt.legend()\n",
    "plt.savefig('PCA Visualization')\n",
    "#plt.show()"
   ],
   "metadata": {
    "collapsed": false
   }
  },
  {
   "cell_type": "markdown",
   "source": [
    "# Same plot without normal instances\n",
    "plt.figure(figsize=(12, 8))\n",
    "colors = {'dos': 'orange', 'probe': 'green', 'u2r': 'red', 'r2l': 'purple'}\n",
    "\n",
    "for attack_class, color in colors.items():\n",
    "    subset = pca_df[pca_df['attacks'] == attack_class]\n",
    "    plt.scatter(subset['PC1'], subset['PC2'], label=attack_class, color=color, alpha=0.7)\n",
    "\n",
    "plt.title('2D PCA Visualization of NSL-KDD Attack Classes')\n",
    "plt.xlabel('Principal Component 1 (PC1)')\n",
    "plt.ylabel('Principal Component 2 (PC2)')\n",
    "plt.tight_layout()\n",
    "plt.legend()\n",
    "plt.savefig('PCA Visualization no normal')\n",
    "#plt.show()"
   ],
   "metadata": {
    "collapsed": false
   }
  },
  {
   "cell_type": "code",
   "execution_count": 3,
   "metadata": {
    "ExecuteTime": {
     "end_time": "2024-02-25T17:41:25.219195300Z",
     "start_time": "2024-02-25T17:41:25.002573900Z"
    }
   },
   "outputs": [],
   "source": [
    "# load test set\n",
    "df_test = pd.read_csv('EvalResources/KDDTest+.txt', sep=\",\", header=None, skipinitialspace = True)\n",
    "df_test_ = df_test.sort_index(axis=1)\n",
    "df_test = df_test[df_test.columns[:-1]]\n",
    "df_test.columns = titles.to_list()\n",
    "df_test = df_test.drop(['num_outbound_cmds'],axis=1)\n",
    "df_test_original = df_test\n",
    "\n",
    "# df_test_original.to_csv('KB Process/NSL-KDD Original Datasets/KDDTest+.txt', index=False)\n",
    "\n",
    "#df_test_original"
   ]
  },
  {
   "cell_type": "markdown",
   "source": [
    "### Execution Parameters"
   ],
   "metadata": {
    "collapsed": false
   }
  },
  {
   "cell_type": "code",
   "execution_count": 4,
   "outputs": [],
   "source": [
    "EXPORT_MODELS = 0\n",
    "EXPORT_DATASETS = 0\n",
    "EXPORT_PCA = 0\n",
    "EXPORT_ENCODERS = 0\n",
    "\n",
    "pd.options.display.max_columns = None"
   ],
   "metadata": {
    "collapsed": false,
    "ExecuteTime": {
     "end_time": "2024-02-25T17:41:25.223767800Z",
     "start_time": "2024-02-25T17:41:25.120911100Z"
    }
   }
  },
  {
   "cell_type": "code",
   "execution_count": 5,
   "outputs": [],
   "source": [
    "# list of single attacks \n",
    "dos_attacks = ['back', 'land', 'neptune', 'pod', 'smurf', 'teardrop', 'worm', 'apache2', 'mailbomb', 'processtable', 'udpstorm']\n",
    "probe_attacks = ['ipsweep', 'mscan', 'nmap', 'portsweep', 'saint', 'satan']\n",
    "r2l_attacks = ['guess_passwd', 'ftp_write', 'imap', 'phf', 'multihop', 'warezmaster',\n",
    "                'snmpguess', 'spy', 'warezclient', 'httptunnel', 'named', 'sendmail', 'snmpgetattack', 'xlock', 'xsnoop']\n",
    "u2r_attacks = ['buffer_overflow', 'loadmodule', 'perl', 'ps', 'rootkit', 'sqlattack', 'xterm'] \n",
    "\n",
    "# list of attack classes split according to detection layer\n",
    "dos_probe_list = ['back', 'land', 'neptune', 'pod', 'smurf', 'teardrop', 'ipsweep', 'nmap', 'portsweep', 'satan']\n",
    "dos_probe_test = ['apache2', 'mailbomb', 'processtable', 'udpstorm', 'mscan', 'saint']\n",
    "u2r_r2l_list = ['guess_passwd', 'ftp_write', 'imap', 'phf', 'multihop', 'warezmaster',\n",
    "                'snmpguess', 'spy', 'warezclient', 'buffer_overflow', 'loadmodule', 'rootkit', 'perl']\n",
    "u2r_r2l_test = ['httptunnel', 'named', 'sendmail', 'snmpgetattack', 'xlock', 'xsnoop', 'ps', 'xterm', 'sqlattack']\n",
    "normal_list = ['normal']\n",
    "categorical_features = ['protocol_type', 'service', 'flag']"
   ],
   "metadata": {
    "collapsed": false,
    "ExecuteTime": {
     "end_time": "2024-02-25T17:41:25.251035300Z",
     "start_time": "2024-02-25T17:41:25.134920700Z"
    }
   }
  },
  {
   "cell_type": "code",
   "execution_count": 6,
   "outputs": [],
   "source": [
    "# load the features obtained with ICFS for both layer 1 and layer 2\n",
    "with open('KBProcess/AWS Downloads/MinimalFeatures/NSL_features_l1.txt', 'r') as f:\n",
    "    common_features_l1 = f.read().split(',')\n",
    "\n",
    "with open('KBProcess/AWS Downloads/MinimalFeatures/NSL_features_l2.txt', 'r') as f:\n",
    "    common_features_l2 = f.read().split(',')"
   ],
   "metadata": {
    "collapsed": false,
    "ExecuteTime": {
     "end_time": "2024-02-25T17:41:25.315001600Z",
     "start_time": "2024-02-25T17:41:25.140651300Z"
    }
   }
  },
  {
   "cell_type": "code",
   "execution_count": 7,
   "outputs": [],
   "source": [
    "df_train_and_validate = copy.deepcopy(df_train_original)\n",
    "df_test = copy.deepcopy(df_test_original)"
   ],
   "metadata": {
    "collapsed": false,
    "ExecuteTime": {
     "end_time": "2024-02-25T17:41:25.319508900Z",
     "start_time": "2024-02-25T17:41:25.148076100Z"
    }
   }
  },
  {
   "cell_type": "code",
   "execution_count": 8,
   "outputs": [],
   "source": [
    "# Save all the targets for the dataset\n",
    "\n",
    "y_test_l1 = [1 if x in (dos_attacks+probe_attacks) else 0 for x in df_test['label']]\n",
    "y_test_l2 = [1 if x in (u2r_attacks+r2l_attacks) else 0 for x in df_test['label']]\n",
    "\n",
    "if EXPORT_DATASETS:\n",
    "    np.save(\"EvalResources/AdditionalSets/l1_full_test_targets.npy\", y_test_l1)\n",
    "    np.save(\"EvalResources/AdditionalSets/l2_full_test_targets.npy\", y_test_l2)"
   ],
   "metadata": {
    "collapsed": false,
    "ExecuteTime": {
     "end_time": "2024-02-25T17:41:25.384969800Z",
     "start_time": "2024-02-25T17:41:25.168660300Z"
    }
   }
  },
  {
   "cell_type": "markdown",
   "metadata": {},
   "source": [
    "# DOS PROBE CLASSIFIER"
   ]
  },
  {
   "cell_type": "code",
   "execution_count": 9,
   "metadata": {
    "ExecuteTime": {
     "end_time": "2024-02-25T17:41:25.591394900Z",
     "start_time": "2024-02-25T17:41:25.192297900Z"
    }
   },
   "outputs": [
    {
     "data": {
      "text/plain": "        duration protocol_type   service  flag  src_bytes  dst_bytes  land  \\\n0              0           tcp      http    SF        214      14939     0   \n1              0           tcp   private    S0          0          0     0   \n2              0           tcp      http   REJ          0          0     0   \n3              0           tcp      http    SF        257        259     0   \n4              0           udp     other    SF        516          4     0   \n...          ...           ...       ...   ...        ...        ...   ...   \n100773         0           tcp      echo  RSTO          0          0     0   \n100774         0           tcp    telnet    S0          0          0     0   \n100775         0           tcp      http   REJ          0          0     0   \n100776         0           tcp      http    SF        309       4281     0   \n100777         0           udp  domain_u    SF         43         70     0   \n\n        wrong_fragment  urgent  hot  num_failed_logins  logged_in  \\\n0                    0       0    0                  0          1   \n1                    0       0    0                  0          0   \n2                    0       0    0                  0          0   \n3                    0       0    0                  0          1   \n4                    0       0    0                  0          0   \n...                ...     ...  ...                ...        ...   \n100773               0       0    0                  0          0   \n100774               0       0    0                  0          0   \n100775               0       0    0                  0          0   \n100776               0       0    0                  0          1   \n100777               0       0    0                  0          0   \n\n        num_compromised  root_shell  su_attempted  num_root  \\\n0                     0           0             0         0   \n1                     0           0             0         0   \n2                     0           0             0         0   \n3                     0           0             0         0   \n4                     0           0             0         0   \n...                 ...         ...           ...       ...   \n100773                0           0             0         0   \n100774                0           0             0         0   \n100775                0           0             0         0   \n100776                0           0             0         0   \n100777                0           0             0         0   \n\n        num_file_creations  num_shells  num_access_files  is_host_login  \\\n0                        0           0                 0              0   \n1                        0           0                 0              0   \n2                        0           0                 0              0   \n3                        0           0                 0              0   \n4                        0           0                 0              0   \n...                    ...         ...               ...            ...   \n100773                   0           0                 0              0   \n100774                   0           0                 0              0   \n100775                   0           0                 0              0   \n100776                   0           0                 0              0   \n100777                   0           0                 0              0   \n\n        is_guest_login  count  srv_count  serror_rate  srv_serror_rate  \\\n0                    0     16         18          0.0              0.0   \n1                    0    142          2          1.0              1.0   \n2                    0    273          8          0.0              0.0   \n3                    0     20         20          0.0              0.0   \n4                    0    274        274          0.0              0.0   \n...                ...    ...        ...          ...              ...   \n100773               0    258          4          0.0              0.0   \n100774               0     24          4          1.0              1.0   \n100775               0    258          6          0.0              0.0   \n100776               0      5          5          0.0              0.0   \n100777               0    202        201          0.0              0.0   \n\n        rerror_rate  srv_rerror_rate  same_srv_rate  diff_srv_rate  \\\n0               0.0              0.0           1.00           0.00   \n1               0.0              0.0           0.01           0.06   \n2               1.0              1.0           0.03           0.06   \n3               0.0              0.0           1.00           0.00   \n4               0.0              0.0           1.00           0.00   \n...             ...              ...            ...            ...   \n100773          1.0              1.0           0.02           0.07   \n100774          0.0              0.0           0.17           0.08   \n100775          1.0              1.0           0.02           0.07   \n100776          0.0              0.0           1.00           0.00   \n100777          0.0              0.0           1.00           0.01   \n\n        srv_diff_host_rate  dst_host_count  dst_host_srv_count  \\\n0                     0.17              52                 255   \n1                     0.00             255                   2   \n2                     0.00             255                   8   \n3                     0.00             255                 255   \n4                     0.00             255                 255   \n...                    ...             ...                 ...   \n100773                0.00             255                   4   \n100774                0.00             255                   4   \n100775                0.00             255                   6   \n100776                0.00              21                 255   \n100777                0.00             255                 254   \n\n        dst_host_same_srv_rate  dst_host_diff_srv_rate  \\\n0                         1.00                    0.00   \n1                         0.01                    0.06   \n2                         0.03                    0.06   \n3                         1.00                    0.00   \n4                         1.00                    0.00   \n...                        ...                     ...   \n100773                    0.02                    0.09   \n100774                    0.02                    0.07   \n100775                    0.02                    0.07   \n100776                    1.00                    0.00   \n100777                    1.00                    0.01   \n\n        dst_host_same_src_port_rate  dst_host_srv_diff_host_rate  \\\n0                              0.02                         0.06   \n1                              0.00                         0.00   \n2                              0.00                         0.00   \n3                              0.00                         0.00   \n4                              1.00                         0.00   \n...                             ...                          ...   \n100773                         0.00                         0.00   \n100774                         0.01                         0.00   \n100775                         0.00                         0.00   \n100776                         0.05                         0.05   \n100777                         0.01                         0.00   \n\n        dst_host_serror_rate  dst_host_srv_serror_rate  dst_host_rerror_rate  \\\n0                        0.0                       0.0                   0.0   \n1                        1.0                       1.0                   0.0   \n2                        0.0                       0.0                   1.0   \n3                        0.0                       0.0                   0.0   \n4                        0.0                       0.0                   0.0   \n...                      ...                       ...                   ...   \n100773                   0.0                       0.0                   1.0   \n100774                   1.0                       1.0                   0.0   \n100775                   0.0                       0.0                   1.0   \n100776                   0.0                       0.0                   0.0   \n100777                   0.0                       0.0                   0.0   \n\n        dst_host_srv_rerror_rate  \n0                            0.0  \n1                            0.0  \n2                            1.0  \n3                            0.0  \n4                            0.0  \n...                          ...  \n100773                       1.0  \n100774                       0.0  \n100775                       1.0  \n100776                       0.0  \n100777                       0.0  \n\n[100778 rows x 40 columns]",
      "text/html": "<div>\n<style scoped>\n    .dataframe tbody tr th:only-of-type {\n        vertical-align: middle;\n    }\n\n    .dataframe tbody tr th {\n        vertical-align: top;\n    }\n\n    .dataframe thead th {\n        text-align: right;\n    }\n</style>\n<table border=\"1\" class=\"dataframe\">\n  <thead>\n    <tr style=\"text-align: right;\">\n      <th></th>\n      <th>duration</th>\n      <th>protocol_type</th>\n      <th>service</th>\n      <th>flag</th>\n      <th>src_bytes</th>\n      <th>dst_bytes</th>\n      <th>land</th>\n      <th>wrong_fragment</th>\n      <th>urgent</th>\n      <th>hot</th>\n      <th>num_failed_logins</th>\n      <th>logged_in</th>\n      <th>num_compromised</th>\n      <th>root_shell</th>\n      <th>su_attempted</th>\n      <th>num_root</th>\n      <th>num_file_creations</th>\n      <th>num_shells</th>\n      <th>num_access_files</th>\n      <th>is_host_login</th>\n      <th>is_guest_login</th>\n      <th>count</th>\n      <th>srv_count</th>\n      <th>serror_rate</th>\n      <th>srv_serror_rate</th>\n      <th>rerror_rate</th>\n      <th>srv_rerror_rate</th>\n      <th>same_srv_rate</th>\n      <th>diff_srv_rate</th>\n      <th>srv_diff_host_rate</th>\n      <th>dst_host_count</th>\n      <th>dst_host_srv_count</th>\n      <th>dst_host_same_srv_rate</th>\n      <th>dst_host_diff_srv_rate</th>\n      <th>dst_host_same_src_port_rate</th>\n      <th>dst_host_srv_diff_host_rate</th>\n      <th>dst_host_serror_rate</th>\n      <th>dst_host_srv_serror_rate</th>\n      <th>dst_host_rerror_rate</th>\n      <th>dst_host_srv_rerror_rate</th>\n    </tr>\n  </thead>\n  <tbody>\n    <tr>\n      <th>0</th>\n      <td>0</td>\n      <td>tcp</td>\n      <td>http</td>\n      <td>SF</td>\n      <td>214</td>\n      <td>14939</td>\n      <td>0</td>\n      <td>0</td>\n      <td>0</td>\n      <td>0</td>\n      <td>0</td>\n      <td>1</td>\n      <td>0</td>\n      <td>0</td>\n      <td>0</td>\n      <td>0</td>\n      <td>0</td>\n      <td>0</td>\n      <td>0</td>\n      <td>0</td>\n      <td>0</td>\n      <td>16</td>\n      <td>18</td>\n      <td>0.0</td>\n      <td>0.0</td>\n      <td>0.0</td>\n      <td>0.0</td>\n      <td>1.00</td>\n      <td>0.00</td>\n      <td>0.17</td>\n      <td>52</td>\n      <td>255</td>\n      <td>1.00</td>\n      <td>0.00</td>\n      <td>0.02</td>\n      <td>0.06</td>\n      <td>0.0</td>\n      <td>0.0</td>\n      <td>0.0</td>\n      <td>0.0</td>\n    </tr>\n    <tr>\n      <th>1</th>\n      <td>0</td>\n      <td>tcp</td>\n      <td>private</td>\n      <td>S0</td>\n      <td>0</td>\n      <td>0</td>\n      <td>0</td>\n      <td>0</td>\n      <td>0</td>\n      <td>0</td>\n      <td>0</td>\n      <td>0</td>\n      <td>0</td>\n      <td>0</td>\n      <td>0</td>\n      <td>0</td>\n      <td>0</td>\n      <td>0</td>\n      <td>0</td>\n      <td>0</td>\n      <td>0</td>\n      <td>142</td>\n      <td>2</td>\n      <td>1.0</td>\n      <td>1.0</td>\n      <td>0.0</td>\n      <td>0.0</td>\n      <td>0.01</td>\n      <td>0.06</td>\n      <td>0.00</td>\n      <td>255</td>\n      <td>2</td>\n      <td>0.01</td>\n      <td>0.06</td>\n      <td>0.00</td>\n      <td>0.00</td>\n      <td>1.0</td>\n      <td>1.0</td>\n      <td>0.0</td>\n      <td>0.0</td>\n    </tr>\n    <tr>\n      <th>2</th>\n      <td>0</td>\n      <td>tcp</td>\n      <td>http</td>\n      <td>REJ</td>\n      <td>0</td>\n      <td>0</td>\n      <td>0</td>\n      <td>0</td>\n      <td>0</td>\n      <td>0</td>\n      <td>0</td>\n      <td>0</td>\n      <td>0</td>\n      <td>0</td>\n      <td>0</td>\n      <td>0</td>\n      <td>0</td>\n      <td>0</td>\n      <td>0</td>\n      <td>0</td>\n      <td>0</td>\n      <td>273</td>\n      <td>8</td>\n      <td>0.0</td>\n      <td>0.0</td>\n      <td>1.0</td>\n      <td>1.0</td>\n      <td>0.03</td>\n      <td>0.06</td>\n      <td>0.00</td>\n      <td>255</td>\n      <td>8</td>\n      <td>0.03</td>\n      <td>0.06</td>\n      <td>0.00</td>\n      <td>0.00</td>\n      <td>0.0</td>\n      <td>0.0</td>\n      <td>1.0</td>\n      <td>1.0</td>\n    </tr>\n    <tr>\n      <th>3</th>\n      <td>0</td>\n      <td>tcp</td>\n      <td>http</td>\n      <td>SF</td>\n      <td>257</td>\n      <td>259</td>\n      <td>0</td>\n      <td>0</td>\n      <td>0</td>\n      <td>0</td>\n      <td>0</td>\n      <td>1</td>\n      <td>0</td>\n      <td>0</td>\n      <td>0</td>\n      <td>0</td>\n      <td>0</td>\n      <td>0</td>\n      <td>0</td>\n      <td>0</td>\n      <td>0</td>\n      <td>20</td>\n      <td>20</td>\n      <td>0.0</td>\n      <td>0.0</td>\n      <td>0.0</td>\n      <td>0.0</td>\n      <td>1.00</td>\n      <td>0.00</td>\n      <td>0.00</td>\n      <td>255</td>\n      <td>255</td>\n      <td>1.00</td>\n      <td>0.00</td>\n      <td>0.00</td>\n      <td>0.00</td>\n      <td>0.0</td>\n      <td>0.0</td>\n      <td>0.0</td>\n      <td>0.0</td>\n    </tr>\n    <tr>\n      <th>4</th>\n      <td>0</td>\n      <td>udp</td>\n      <td>other</td>\n      <td>SF</td>\n      <td>516</td>\n      <td>4</td>\n      <td>0</td>\n      <td>0</td>\n      <td>0</td>\n      <td>0</td>\n      <td>0</td>\n      <td>0</td>\n      <td>0</td>\n      <td>0</td>\n      <td>0</td>\n      <td>0</td>\n      <td>0</td>\n      <td>0</td>\n      <td>0</td>\n      <td>0</td>\n      <td>0</td>\n      <td>274</td>\n      <td>274</td>\n      <td>0.0</td>\n      <td>0.0</td>\n      <td>0.0</td>\n      <td>0.0</td>\n      <td>1.00</td>\n      <td>0.00</td>\n      <td>0.00</td>\n      <td>255</td>\n      <td>255</td>\n      <td>1.00</td>\n      <td>0.00</td>\n      <td>1.00</td>\n      <td>0.00</td>\n      <td>0.0</td>\n      <td>0.0</td>\n      <td>0.0</td>\n      <td>0.0</td>\n    </tr>\n    <tr>\n      <th>...</th>\n      <td>...</td>\n      <td>...</td>\n      <td>...</td>\n      <td>...</td>\n      <td>...</td>\n      <td>...</td>\n      <td>...</td>\n      <td>...</td>\n      <td>...</td>\n      <td>...</td>\n      <td>...</td>\n      <td>...</td>\n      <td>...</td>\n      <td>...</td>\n      <td>...</td>\n      <td>...</td>\n      <td>...</td>\n      <td>...</td>\n      <td>...</td>\n      <td>...</td>\n      <td>...</td>\n      <td>...</td>\n      <td>...</td>\n      <td>...</td>\n      <td>...</td>\n      <td>...</td>\n      <td>...</td>\n      <td>...</td>\n      <td>...</td>\n      <td>...</td>\n      <td>...</td>\n      <td>...</td>\n      <td>...</td>\n      <td>...</td>\n      <td>...</td>\n      <td>...</td>\n      <td>...</td>\n      <td>...</td>\n      <td>...</td>\n      <td>...</td>\n    </tr>\n    <tr>\n      <th>100773</th>\n      <td>0</td>\n      <td>tcp</td>\n      <td>echo</td>\n      <td>RSTO</td>\n      <td>0</td>\n      <td>0</td>\n      <td>0</td>\n      <td>0</td>\n      <td>0</td>\n      <td>0</td>\n      <td>0</td>\n      <td>0</td>\n      <td>0</td>\n      <td>0</td>\n      <td>0</td>\n      <td>0</td>\n      <td>0</td>\n      <td>0</td>\n      <td>0</td>\n      <td>0</td>\n      <td>0</td>\n      <td>258</td>\n      <td>4</td>\n      <td>0.0</td>\n      <td>0.0</td>\n      <td>1.0</td>\n      <td>1.0</td>\n      <td>0.02</td>\n      <td>0.07</td>\n      <td>0.00</td>\n      <td>255</td>\n      <td>4</td>\n      <td>0.02</td>\n      <td>0.09</td>\n      <td>0.00</td>\n      <td>0.00</td>\n      <td>0.0</td>\n      <td>0.0</td>\n      <td>1.0</td>\n      <td>1.0</td>\n    </tr>\n    <tr>\n      <th>100774</th>\n      <td>0</td>\n      <td>tcp</td>\n      <td>telnet</td>\n      <td>S0</td>\n      <td>0</td>\n      <td>0</td>\n      <td>0</td>\n      <td>0</td>\n      <td>0</td>\n      <td>0</td>\n      <td>0</td>\n      <td>0</td>\n      <td>0</td>\n      <td>0</td>\n      <td>0</td>\n      <td>0</td>\n      <td>0</td>\n      <td>0</td>\n      <td>0</td>\n      <td>0</td>\n      <td>0</td>\n      <td>24</td>\n      <td>4</td>\n      <td>1.0</td>\n      <td>1.0</td>\n      <td>0.0</td>\n      <td>0.0</td>\n      <td>0.17</td>\n      <td>0.08</td>\n      <td>0.00</td>\n      <td>255</td>\n      <td>4</td>\n      <td>0.02</td>\n      <td>0.07</td>\n      <td>0.01</td>\n      <td>0.00</td>\n      <td>1.0</td>\n      <td>1.0</td>\n      <td>0.0</td>\n      <td>0.0</td>\n    </tr>\n    <tr>\n      <th>100775</th>\n      <td>0</td>\n      <td>tcp</td>\n      <td>http</td>\n      <td>REJ</td>\n      <td>0</td>\n      <td>0</td>\n      <td>0</td>\n      <td>0</td>\n      <td>0</td>\n      <td>0</td>\n      <td>0</td>\n      <td>0</td>\n      <td>0</td>\n      <td>0</td>\n      <td>0</td>\n      <td>0</td>\n      <td>0</td>\n      <td>0</td>\n      <td>0</td>\n      <td>0</td>\n      <td>0</td>\n      <td>258</td>\n      <td>6</td>\n      <td>0.0</td>\n      <td>0.0</td>\n      <td>1.0</td>\n      <td>1.0</td>\n      <td>0.02</td>\n      <td>0.07</td>\n      <td>0.00</td>\n      <td>255</td>\n      <td>6</td>\n      <td>0.02</td>\n      <td>0.07</td>\n      <td>0.00</td>\n      <td>0.00</td>\n      <td>0.0</td>\n      <td>0.0</td>\n      <td>1.0</td>\n      <td>1.0</td>\n    </tr>\n    <tr>\n      <th>100776</th>\n      <td>0</td>\n      <td>tcp</td>\n      <td>http</td>\n      <td>SF</td>\n      <td>309</td>\n      <td>4281</td>\n      <td>0</td>\n      <td>0</td>\n      <td>0</td>\n      <td>0</td>\n      <td>0</td>\n      <td>1</td>\n      <td>0</td>\n      <td>0</td>\n      <td>0</td>\n      <td>0</td>\n      <td>0</td>\n      <td>0</td>\n      <td>0</td>\n      <td>0</td>\n      <td>0</td>\n      <td>5</td>\n      <td>5</td>\n      <td>0.0</td>\n      <td>0.0</td>\n      <td>0.0</td>\n      <td>0.0</td>\n      <td>1.00</td>\n      <td>0.00</td>\n      <td>0.00</td>\n      <td>21</td>\n      <td>255</td>\n      <td>1.00</td>\n      <td>0.00</td>\n      <td>0.05</td>\n      <td>0.05</td>\n      <td>0.0</td>\n      <td>0.0</td>\n      <td>0.0</td>\n      <td>0.0</td>\n    </tr>\n    <tr>\n      <th>100777</th>\n      <td>0</td>\n      <td>udp</td>\n      <td>domain_u</td>\n      <td>SF</td>\n      <td>43</td>\n      <td>70</td>\n      <td>0</td>\n      <td>0</td>\n      <td>0</td>\n      <td>0</td>\n      <td>0</td>\n      <td>0</td>\n      <td>0</td>\n      <td>0</td>\n      <td>0</td>\n      <td>0</td>\n      <td>0</td>\n      <td>0</td>\n      <td>0</td>\n      <td>0</td>\n      <td>0</td>\n      <td>202</td>\n      <td>201</td>\n      <td>0.0</td>\n      <td>0.0</td>\n      <td>0.0</td>\n      <td>0.0</td>\n      <td>1.00</td>\n      <td>0.01</td>\n      <td>0.00</td>\n      <td>255</td>\n      <td>254</td>\n      <td>1.00</td>\n      <td>0.01</td>\n      <td>0.01</td>\n      <td>0.00</td>\n      <td>0.0</td>\n      <td>0.0</td>\n      <td>0.0</td>\n      <td>0.0</td>\n    </tr>\n  </tbody>\n</table>\n<p>100778 rows × 40 columns</p>\n</div>"
     },
     "execution_count": 9,
     "metadata": {},
     "output_type": "execute_result"
    }
   ],
   "source": [
    "# split in test and validation set for BOTH layers\n",
    "df_train_original, df_val_original = train_test_split(df_train_and_validate, test_size=0.2, random_state=42)\n",
    "\n",
    "# dataframes specifically for layer 1\n",
    "df_train = copy.deepcopy(df_train_original)\n",
    "df_val = copy.deepcopy(df_val_original)\n",
    "\n",
    "# set the target variables accordingly\n",
    "y_train = np.array([1 if x in (dos_attacks+probe_attacks) else 0 for x in df_train['label']])\n",
    "y_val = np.array([1 if x in (dos_attacks+probe_attacks) else 0 for x in df_val['label']])\n",
    "\n",
    "# this dataframe contains the whole train set \n",
    "df_train = df_train.drop(['label'],axis=1)\n",
    "df_train = df_train.reset_index().drop(['index'], axis=1)\n",
    "df_train"
   ]
  },
  {
   "cell_type": "code",
   "execution_count": 10,
   "outputs": [],
   "source": [
    "# this dataframe contains the whole validation set\n",
    "df_val = df_val.drop(['label'],axis=1)\n",
    "df_val = df_val.reset_index().drop(['index'], axis=1)\n",
    "\n",
    "#df_val"
   ],
   "metadata": {
    "collapsed": false,
    "ExecuteTime": {
     "end_time": "2024-02-25T17:41:25.595394Z",
     "start_time": "2024-02-25T17:41:25.441031100Z"
    }
   }
  },
  {
   "cell_type": "code",
   "execution_count": 11,
   "outputs": [],
   "source": [
    "X_train = df_train\n",
    "X_validate = df_val"
   ],
   "metadata": {
    "collapsed": false,
    "ExecuteTime": {
     "end_time": "2024-02-25T17:41:25.599498700Z",
     "start_time": "2024-02-25T17:41:25.458077400Z"
    }
   }
  },
  {
   "cell_type": "code",
   "execution_count": 12,
   "outputs": [],
   "source": [
    "# now the real processing for layer 1 starts\n",
    "X_train = df_train[common_features_l1]\n",
    "X_validate = df_val[common_features_l1]"
   ],
   "metadata": {
    "collapsed": false,
    "ExecuteTime": {
     "end_time": "2024-02-25T17:41:25.627325600Z",
     "start_time": "2024-02-25T17:41:25.462046100Z"
    }
   }
  },
  {
   "cell_type": "markdown",
   "source": [],
   "metadata": {
    "collapsed": false
   }
  },
  {
   "cell_type": "code",
   "execution_count": 13,
   "outputs": [],
   "source": [
    "#df_train.columns"
   ],
   "metadata": {
    "collapsed": false,
    "ExecuteTime": {
     "end_time": "2024-02-25T17:41:25.628334300Z",
     "start_time": "2024-02-25T17:41:25.473712Z"
    }
   }
  },
  {
   "cell_type": "markdown",
   "source": [
    "X_train = df_train.loc[:, ['service', 'flag', 'src_bytes', 'dst_bytes', 'count', 'diff_srv_rate',\n",
    "                           'dst_host_srv_count', 'dst_host_same_srv_rate',\n",
    "                           'dst_host_diff_srv_rate', 'dst_host_rerror_rate']]\n",
    "\n",
    "X_validate = df_val.loc[:, ['service', 'flag', 'src_bytes', 'dst_bytes', 'count', 'diff_srv_rate',\n",
    "                           'dst_host_srv_count', 'dst_host_same_srv_rate',\n",
    "                           'dst_host_diff_srv_rate', 'dst_host_rerror_rate']]"
   ],
   "metadata": {
    "collapsed": false
   }
  },
  {
   "cell_type": "code",
   "execution_count": 14,
   "outputs": [],
   "source": [
    "# 2 one-hot encoders, one for the features of layer1 and one for the features of layer2\n",
    "ohe = OneHotEncoder(handle_unknown='ignore')\n",
    "ohe2 = OneHotEncoder(handle_unknown='ignore')"
   ],
   "metadata": {
    "collapsed": false,
    "ExecuteTime": {
     "end_time": "2024-02-25T17:41:25.715752600Z",
     "start_time": "2024-02-25T17:41:25.483355200Z"
    }
   }
  },
  {
   "cell_type": "code",
   "execution_count": 15,
   "outputs": [],
   "source": [
    "scaler1 = MinMaxScaler()"
   ],
   "metadata": {
    "collapsed": false,
    "ExecuteTime": {
     "end_time": "2024-02-25T17:41:25.719353100Z",
     "start_time": "2024-02-25T17:41:25.487238Z"
    }
   }
  },
  {
   "cell_type": "code",
   "execution_count": 16,
   "outputs": [],
   "source": [
    "scaler2 = MinMaxScaler()"
   ],
   "metadata": {
    "collapsed": false,
    "ExecuteTime": {
     "end_time": "2024-02-25T17:41:25.758054600Z",
     "start_time": "2024-02-25T17:41:25.493018500Z"
    }
   }
  },
  {
   "cell_type": "code",
   "execution_count": 17,
   "outputs": [],
   "source": [
    "# scaling the train set for layer1\n",
    "df_minmax = scaler1.fit_transform(X_train)\n",
    "X_train = pd.DataFrame(df_minmax, columns=X_train.columns)\n",
    "\n",
    "#X_train"
   ],
   "metadata": {
    "collapsed": false,
    "ExecuteTime": {
     "end_time": "2024-02-25T17:41:25.792221800Z",
     "start_time": "2024-02-25T17:41:25.497295200Z"
    }
   }
  },
  {
   "cell_type": "code",
   "execution_count": 18,
   "outputs": [],
   "source": [
    "# scaling the validation set for layer1\n",
    "df_minmax_val = scaler1.transform(X_validate)\n",
    "X_validate = pd.DataFrame(df_minmax_val, columns=X_validate.columns)\n",
    "\n",
    "#X_validate"
   ],
   "metadata": {
    "collapsed": false,
    "ExecuteTime": {
     "end_time": "2024-02-25T17:41:25.820938300Z",
     "start_time": "2024-02-25T17:41:25.536554400Z"
    }
   }
  },
  {
   "cell_type": "code",
   "execution_count": 19,
   "outputs": [
    {
     "data": {
      "text/plain": "       protocol_type   service  flag\n0                tcp      http    SF\n1                tcp   private    S0\n2                tcp      http   REJ\n3                tcp      http    SF\n4                udp     other    SF\n...              ...       ...   ...\n100773           tcp      echo  RSTO\n100774           tcp    telnet    S0\n100775           tcp      http   REJ\n100776           tcp      http    SF\n100777           udp  domain_u    SF\n\n[100778 rows x 3 columns]",
      "text/html": "<div>\n<style scoped>\n    .dataframe tbody tr th:only-of-type {\n        vertical-align: middle;\n    }\n\n    .dataframe tbody tr th {\n        vertical-align: top;\n    }\n\n    .dataframe thead th {\n        text-align: right;\n    }\n</style>\n<table border=\"1\" class=\"dataframe\">\n  <thead>\n    <tr style=\"text-align: right;\">\n      <th></th>\n      <th>protocol_type</th>\n      <th>service</th>\n      <th>flag</th>\n    </tr>\n  </thead>\n  <tbody>\n    <tr>\n      <th>0</th>\n      <td>tcp</td>\n      <td>http</td>\n      <td>SF</td>\n    </tr>\n    <tr>\n      <th>1</th>\n      <td>tcp</td>\n      <td>private</td>\n      <td>S0</td>\n    </tr>\n    <tr>\n      <th>2</th>\n      <td>tcp</td>\n      <td>http</td>\n      <td>REJ</td>\n    </tr>\n    <tr>\n      <th>3</th>\n      <td>tcp</td>\n      <td>http</td>\n      <td>SF</td>\n    </tr>\n    <tr>\n      <th>4</th>\n      <td>udp</td>\n      <td>other</td>\n      <td>SF</td>\n    </tr>\n    <tr>\n      <th>...</th>\n      <td>...</td>\n      <td>...</td>\n      <td>...</td>\n    </tr>\n    <tr>\n      <th>100773</th>\n      <td>tcp</td>\n      <td>echo</td>\n      <td>RSTO</td>\n    </tr>\n    <tr>\n      <th>100774</th>\n      <td>tcp</td>\n      <td>telnet</td>\n      <td>S0</td>\n    </tr>\n    <tr>\n      <th>100775</th>\n      <td>tcp</td>\n      <td>http</td>\n      <td>REJ</td>\n    </tr>\n    <tr>\n      <th>100776</th>\n      <td>tcp</td>\n      <td>http</td>\n      <td>SF</td>\n    </tr>\n    <tr>\n      <th>100777</th>\n      <td>udp</td>\n      <td>domain_u</td>\n      <td>SF</td>\n    </tr>\n  </tbody>\n</table>\n<p>100778 rows × 3 columns</p>\n</div>"
     },
     "execution_count": 19,
     "metadata": {},
     "output_type": "execute_result"
    }
   ],
   "source": [
    "# perform One-hot encoding for the train set\n",
    "label_enc = ohe.fit_transform(df_train[categorical_features])\n",
    "label_enc.toarray()\n",
    "new_labels = ohe.get_feature_names_out(categorical_features)\n",
    "df_enc = pd.DataFrame(data=label_enc.toarray(), columns=new_labels)\n",
    "X_train = pd.concat([X_train, df_enc], axis=1)\n",
    "\n",
    "df_train.iloc[:,1:4]"
   ],
   "metadata": {
    "collapsed": false,
    "ExecuteTime": {
     "end_time": "2024-02-25T17:41:26.058898400Z",
     "start_time": "2024-02-25T17:41:25.549250700Z"
    }
   }
  },
  {
   "cell_type": "code",
   "execution_count": 20,
   "outputs": [],
   "source": [
    "# perform One-hot encoding for the validation set\n",
    "label_enc = ohe.transform(df_val[categorical_features])\n",
    "label_enc.toarray()\n",
    "new_labels = ohe.get_feature_names_out(categorical_features)\n",
    "df_enc = pd.DataFrame(data=label_enc.toarray(), columns=new_labels)\n",
    "X_validate = pd.concat([X_validate, df_enc], axis=1)\n",
    "\n",
    "#X_validate"
   ],
   "metadata": {
    "collapsed": false,
    "ExecuteTime": {
     "end_time": "2024-02-25T17:41:26.707243700Z",
     "start_time": "2024-02-25T17:41:25.728418100Z"
    }
   }
  },
  {
   "cell_type": "code",
   "execution_count": 21,
   "outputs": [],
   "source": [
    "#X_train"
   ],
   "metadata": {
    "collapsed": false,
    "ExecuteTime": {
     "end_time": "2024-02-25T17:41:26.825437600Z",
     "start_time": "2024-02-25T17:41:25.794223600Z"
    }
   }
  },
  {
   "cell_type": "code",
   "execution_count": 22,
   "outputs": [],
   "source": [
    "#X_validate"
   ],
   "metadata": {
    "collapsed": false,
    "ExecuteTime": {
     "end_time": "2024-02-25T17:41:26.843702700Z",
     "start_time": "2024-02-25T17:41:25.802425700Z"
    }
   }
  },
  {
   "cell_type": "code",
   "execution_count": 23,
   "metadata": {
    "ExecuteTime": {
     "end_time": "2024-02-25T17:41:27.001167300Z",
     "start_time": "2024-02-25T17:41:25.809564700Z"
    }
   },
   "outputs": [],
   "source": [
    "# do the same for test set\n",
    "y_test = np.array([1 if x in (dos_attacks+probe_attacks) else 0 for x in df_test['label']])\n",
    "\n",
    "df_test = df_test.drop(['label'],axis=1)\n",
    "df_test = df_test.reset_index().drop(['index'], axis=1)\n",
    "#df_test"
   ]
  },
  {
   "cell_type": "code",
   "execution_count": 24,
   "outputs": [],
   "source": [
    "X_test = df_test"
   ],
   "metadata": {
    "collapsed": false,
    "ExecuteTime": {
     "end_time": "2024-02-25T17:41:27.002229100Z",
     "start_time": "2024-02-25T17:41:25.835589900Z"
    }
   }
  },
  {
   "cell_type": "code",
   "execution_count": 25,
   "outputs": [],
   "source": [
    "X_test = df_test[common_features_l1]"
   ],
   "metadata": {
    "collapsed": false,
    "ExecuteTime": {
     "end_time": "2024-02-25T17:41:27.004879400Z",
     "start_time": "2024-02-25T17:41:25.846852600Z"
    }
   }
  },
  {
   "cell_type": "markdown",
   "source": [
    "X_test1 = df_test.loc[:, ['service', 'flag', 'src_bytes', 'dst_bytes', 'count', 'diff_srv_rate',\n",
    "                           'dst_host_srv_count', 'dst_host_same_srv_rate',\n",
    "                           'dst_host_diff_srv_rate', 'dst_host_rerror_rate']]"
   ],
   "metadata": {
    "collapsed": false
   }
  },
  {
   "cell_type": "code",
   "execution_count": 26,
   "outputs": [],
   "source": [
    "df_minmax = scaler1.transform(X_test)\n",
    "X_test = pd.DataFrame(df_minmax, columns=X_test.columns)\n",
    "#X_test"
   ],
   "metadata": {
    "collapsed": false,
    "ExecuteTime": {
     "end_time": "2024-02-25T17:41:27.022086500Z",
     "start_time": "2024-02-25T17:41:25.850389900Z"
    }
   }
  },
  {
   "cell_type": "code",
   "execution_count": 27,
   "outputs": [],
   "source": [
    "label_enc = ohe.transform(df_test.iloc[:,1:4])\n",
    "label_enc.toarray()\n",
    "new_labels = ohe.get_feature_names_out(categorical_features)\n",
    "df_enc = pd.DataFrame(data=label_enc.toarray(), columns=new_labels)\n",
    "X_test = pd.concat([X_test, df_enc], axis=1)\n",
    "#X_test"
   ],
   "metadata": {
    "collapsed": false,
    "ExecuteTime": {
     "end_time": "2024-02-25T17:41:27.243072100Z",
     "start_time": "2024-02-25T17:41:25.865358400Z"
    }
   }
  },
  {
   "cell_type": "code",
   "execution_count": 28,
   "metadata": {
    "ExecuteTime": {
     "end_time": "2024-02-25T17:41:27.467768500Z",
     "start_time": "2024-02-25T17:41:25.911576800Z"
    }
   },
   "outputs": [
    {
     "name": "stdout",
     "output_type": "stream",
     "text": [
      "Shape of the whole train set:  (100778, 101)\n",
      "Shape of its targets:  (100778,)\n",
      "Shape of the whole test set:  (22544, 101)\n",
      "Shape of its targets:  (22544,)\n"
     ]
    }
   ],
   "source": [
    "print('Shape of the whole train set: ', X_train.shape)\n",
    "print('Shape of its targets: ', y_train.shape)\n",
    "print('Shape of the whole test set: ', X_test.shape)\n",
    "print('Shape of its targets: ', y_test.shape)"
   ]
  },
  {
   "cell_type": "code",
   "execution_count": 29,
   "outputs": [],
   "source": [
    "# Export the dataset for training layer 1\n",
    "if EXPORT_DATASETS:\n",
    "    \"\"\"\n",
    "    X_train.to_csv('EvalResources/ProcessedDatasets/x_train_l1.txt', index=False)\n",
    "    X_validate.to_csv('EvalResources/ProcessedDatasets/x_val_l1.txt', index=False)\n",
    "    \"\"\"\n",
    "    np.save('EvalResources/ProcessedWithPCA/y_train_l1', y_train)\n",
    "    np.save('EvalResources/ProcessedWithPCA/y_val_l1', y_val)\n",
    "    np.save('EvalResources/ProcessedWithPCA/y_test_l1', y_test)"
   ],
   "metadata": {
    "collapsed": false,
    "ExecuteTime": {
     "end_time": "2024-02-25T17:41:27.890759700Z",
     "start_time": "2024-02-25T17:41:25.931571600Z"
    }
   }
  },
  {
   "cell_type": "markdown",
   "source": [
    "### Principal Component Analysis"
   ],
   "metadata": {
    "collapsed": false
   }
  },
  {
   "cell_type": "code",
   "execution_count": 30,
   "outputs": [
    {
     "data": {
      "text/plain": "(100778, 28)"
     },
     "execution_count": 30,
     "metadata": {},
     "output_type": "execute_result"
    }
   ],
   "source": [
    "pca_dos_probe = PCA(n_components=0.95)\n",
    "X_train_dos_probe = pca_dos_probe.fit_transform(X_train)\n",
    "X_test_dos_probe = pca_dos_probe.transform(X_test)\n",
    "X_validate_dos_probe = pca_dos_probe.transform(X_validate)\n",
    "\n",
    "# X_train = X_train.sort_index(axis=1)\n",
    "X_train_dos_probe.shape"
   ],
   "metadata": {
    "collapsed": false,
    "ExecuteTime": {
     "end_time": "2024-02-25T17:41:28.464289900Z",
     "start_time": "2024-02-25T17:41:25.968795100Z"
    }
   }
  },
  {
   "cell_type": "code",
   "execution_count": 31,
   "outputs": [],
   "source": [
    "if EXPORT_PCA:\n",
    "    # save the pca transformed as well as the transformer\n",
    "    column_names = [f'PC{i}' for i in range(1, X_test_dos_probe.shape[1] + 1)]\n",
    "    x = pd.DataFrame(data=X_test_dos_probe, columns=column_names)\n",
    "    x.to_csv('EvalResources/ProcessedWithPCA/x_test_l1_pca.txt', index=False)\n",
    "    \n",
    "    column_names = [f'PC{i}' for i in range(1, X_train_dos_probe.shape[1] + 1)]\n",
    "    x = pd.DataFrame(data=X_train_dos_probe, columns=column_names)\n",
    "    x.to_csv('EvalResources/ProcessedWithPCA/x_train_l1_pca.txt', index=False)\n",
    "    \n",
    "    column_names = [f'PC{i}' for i in range(1, X_validate_dos_probe.shape[1] + 1)]\n",
    "    x = pd.DataFrame(data=X_validate_dos_probe, columns=column_names)\n",
    "    x.to_csv('EvalResources/ProcessedWithPCA/x_val_l1_pca.txt', index=False)\n",
    "\n",
    "    joblib.dump(pca_dos_probe, 'EvalResources/Encoders/pca_transformer_l1.pkl')"
   ],
   "metadata": {
    "collapsed": false,
    "ExecuteTime": {
     "end_time": "2024-02-25T17:41:28.484288500Z",
     "start_time": "2024-02-25T17:41:28.025084700Z"
    }
   }
  },
  {
   "cell_type": "markdown",
   "source": [
    "### Building the classifier for the layer1"
   ],
   "metadata": {
    "collapsed": false
   }
  },
  {
   "cell_type": "code",
   "execution_count": 32,
   "outputs": [],
   "source": [
    "from datetime import datetime"
   ],
   "metadata": {
    "collapsed": false,
    "ExecuteTime": {
     "end_time": "2024-02-25T17:41:28.487386200Z",
     "start_time": "2024-02-25T17:41:28.031835800Z"
    }
   }
  },
  {
   "cell_type": "code",
   "execution_count": 33,
   "outputs": [],
   "source": [
    "# Voting classifiers\n",
    "\n",
    "voting_classifiers = []"
   ],
   "metadata": {
    "collapsed": false,
    "ExecuteTime": {
     "end_time": "2024-02-25T17:41:28.490658600Z",
     "start_time": "2024-02-25T17:41:28.037582800Z"
    }
   }
  },
  {
   "cell_type": "markdown",
   "source": [
    "from sklearn.ensemble import ExtraTreesClassifier\n",
    "\n",
    "dos_probe_classifier = ExtraTreesClassifier()\n",
    "\n",
    "start = datetime.now()\n",
    "dos_probe_classifier.fit(X_train_dos_probe, y_train)\n",
    "ttime = datetime.now() - start\n",
    "\n",
    "predicted = dos_probe_classifier.predict(X_test_dos_probe)\n",
    "\n",
    "print('Metrics for layer 1:')\n",
    "print('Confusion matrix: [TP FN / FP TN]\\n', confusion_matrix(y_test,predicted))\n",
    "print('Accuracy = ', accuracy_score(y_test,predicted))\n",
    "print('F1 Score = ', f1_score(y_test,predicted))\n",
    "print('Precision = ', precision_score(y_test,predicted))\n",
    "print('Recall = ', recall_score(y_test,predicted))\n",
    "print('Train time = ', ttime)\n",
    "print('Shape of the train set for l1: ', X_train_dos_probe.shape)"
   ],
   "metadata": {
    "collapsed": false
   }
  },
  {
   "cell_type": "code",
   "execution_count": 34,
   "outputs": [
    {
     "name": "stdout",
     "output_type": "stream",
     "text": [
      "Metrics for layer 1:\n",
      "Confusion matrix: [TP FN / FP TN]\n",
      " [[12388   275]\n",
      " [ 2422  7459]]\n",
      "Accuracy =  0.8803672817601136\n",
      "F1 Score =  0.84689185353392\n",
      "Precision =  0.9644427204551331\n",
      "Recall =  0.7548831089970651\n",
      "Train time =  0:01:29.678461\n",
      "Shape of the train set for l1:  (100778, 28)\n"
     ]
    }
   ],
   "source": [
    "# Using Random Forest Classifier\n",
    "dos_probe_classifier = RandomForestClassifier()\n",
    "\n",
    "start = datetime.now()\n",
    "dos_probe_classifier.fit(X_train_dos_probe, y_train)\n",
    "ttime = datetime.now() - start\n",
    "\n",
    "predicted = dos_probe_classifier.predict(X_test_dos_probe)\n",
    "\n",
    "print('Metrics for layer 1:')\n",
    "print('Confusion matrix: [TP FN / FP TN]\\n', confusion_matrix(y_test,predicted))\n",
    "print('Accuracy = ', accuracy_score(y_test,predicted))\n",
    "print('F1 Score = ', f1_score(y_test,predicted))\n",
    "print('Precision = ', precision_score(y_test,predicted))\n",
    "print('Recall = ', recall_score(y_test,predicted))\n",
    "print('Train time = ', ttime)\n",
    "print('Shape of the train set for l1: ', X_train_dos_probe.shape)\n",
    "\n",
    "voting_classifiers.append((\"rf\", dos_probe_classifier))"
   ],
   "metadata": {
    "collapsed": false,
    "ExecuteTime": {
     "end_time": "2024-02-25T17:42:57.911754800Z",
     "start_time": "2024-02-25T17:41:28.045901300Z"
    }
   }
  },
  {
   "cell_type": "markdown",
   "source": [
    "from sklearn.neural_network import MLPClassifier\n",
    "\n",
    "# Using MLP\n",
    "dos_probe_classifier = MLPClassifier()\n",
    "\n",
    "start = datetime.now()\n",
    "dos_probe_classifier.fit(X_train_dos_probe, y_train)\n",
    "ttime = datetime.now() - start\n",
    "\n",
    "predicted = dos_probe_classifier.predict(X_test_dos_probe)\n",
    "\n",
    "print('Metrics for layer 1:')\n",
    "print('Confusion matrix: [TP FN / FP TN]\\n', confusion_matrix(y_test,predicted))\n",
    "print('Accuracy = ', accuracy_score(y_test,predicted))\n",
    "print('F1 Score = ', f1_score(y_test,predicted))\n",
    "print('Precision = ', precision_score(y_test,predicted))\n",
    "print('Recall = ', recall_score(y_test,predicted))\n",
    "print('Train time = ', ttime)\n",
    "print('Shape of the train set for l1: ', X_train_dos_probe.shape)"
   ],
   "metadata": {
    "collapsed": false
   }
  },
  {
   "cell_type": "markdown",
   "source": [
    "from sklearn.neighbors import KNeighborsClassifier\n",
    "\n",
    "# Using KNN\n",
    "dos_probe_classifier = KNeighborsClassifier()\n",
    "\n",
    "start = datetime.now()\n",
    "dos_probe_classifier.fit(X_train_dos_probe, y_train)\n",
    "ttime = datetime.now() - start\n",
    "\n",
    "predicted = dos_probe_classifier.predict(X_test_dos_probe)\n",
    "\n",
    "print('Metrics for layer 1:')\n",
    "print('Confusion matrix: [TP FN / FP TN]\\n', confusion_matrix(y_test,predicted))\n",
    "print('Accuracy = ', accuracy_score(y_test,predicted))\n",
    "print('F1 Score = ', f1_score(y_test,predicted))\n",
    "print('Precision = ', precision_score(y_test,predicted))\n",
    "print('Recall = ', recall_score(y_test,predicted))\n",
    "print('Train time = ', ttime)\n",
    "print('Shape of the train set for l1: ', X_train_dos_probe.shape)"
   ],
   "metadata": {
    "collapsed": false
   }
  },
  {
   "cell_type": "markdown",
   "source": [
    "from sklearn.ensemble import HistGradientBoostingClassifier\n",
    "\n",
    "# Using HistGradientBoosting classifier\n",
    "dos_probe_classifier = HistGradientBoostingClassifier(learning_rate=1, l2_regularization=0)\n",
    "\n",
    "start = datetime.now()\n",
    "dos_probe_classifier.fit(X_train_dos_probe, y_train)\n",
    "ttime = datetime.now() - start\n",
    "\n",
    "predicted = dos_probe_classifier.predict(X_test_dos_probe)\n",
    "\n",
    "print('Metrics for layer 1:')\n",
    "print('Confusion matrix: [TP FN / FP TN]\\n', confusion_matrix(y_test,predicted))\n",
    "print('Accuracy = ', accuracy_score(y_test,predicted))\n",
    "print('F1 Score = ', f1_score(y_test,predicted))\n",
    "print('Precision = ', precision_score(y_test,predicted))\n",
    "print('Recall = ', recall_score(y_test,predicted))\n",
    "print('Train time = ', ttime)\n",
    "print('Shape of the train set for l1: ', X_train_dos_probe.shape)"
   ],
   "metadata": {
    "collapsed": false
   }
  },
  {
   "cell_type": "markdown",
   "source": [
    "# Using the Naive Bayes Classifier\n",
    "dos_probe_classifier = GaussianNB()\n",
    "\n",
    "start = datetime.now()\n",
    "dos_probe_classifier.fit(X_train_dos_probe, y_train)\n",
    "ttime = datetime.now() - start\n",
    "\n",
    "predicted = dos_probe_classifier.predict(X_test_dos_probe)\n",
    "\n",
    "print('Metrics for layer 1:')\n",
    "print('Confusion matrix: [TP FN / FP TN]\\n', confusion_matrix(y_test,predicted))\n",
    "print('Accuracy = ', accuracy_score(y_test,predicted))\n",
    "print('F1 Score = ', f1_score(y_test,predicted))\n",
    "print('Precision = ', precision_score(y_test,predicted))\n",
    "print('Recall = ', recall_score(y_test,predicted))\n",
    "print('Train time = ', ttime)\n",
    "print('Shape of the train set for l1: ', X_train_dos_probe.shape)\n",
    "\n",
    "voting_classifiers.append((\"nbc\", dos_probe_classifier))"
   ],
   "metadata": {
    "collapsed": false
   }
  },
  {
   "cell_type": "markdown",
   "metadata": {},
   "source": [
    "# R2L+U2R classifier"
   ]
  },
  {
   "cell_type": "code",
   "execution_count": 35,
   "metadata": {
    "ExecuteTime": {
     "end_time": "2024-02-25T17:42:58.004522500Z",
     "start_time": "2024-02-25T17:42:57.902349600Z"
    }
   },
   "outputs": [],
   "source": [
    "df_train = copy.deepcopy(df_train_original)\n",
    "df_test = copy.deepcopy(df_test_original)\n",
    "df_val = copy.deepcopy(df_val_original)\n",
    "\n",
    "# load targeted attacks (Normal + r2l + u2r)\n",
    "df_train = df_train[df_train['label'].isin(normal_list+u2r_attacks+r2l_attacks)]\n",
    "df_val = df_val[df_val['label'].isin(normal_list+u2r_attacks+r2l_attacks)]\n",
    "\n",
    "# set the target variables accordingly\n",
    "y_train = np.array([1 if x in (u2r_attacks+r2l_attacks) else 0 for x in df_train['label']])\n",
    "y_val = np.array([1 if x in (u2r_attacks+r2l_attacks) else 0 for x in df_val['label']])\n",
    "\n",
    "df_train = df_train.drop(['label'],axis=1)\n",
    "df_train = df_train.reset_index().drop(['index'], axis=1)\n",
    "#df_train"
   ]
  },
  {
   "cell_type": "code",
   "execution_count": 36,
   "outputs": [],
   "source": [
    "df_val = df_val.drop(['label'],axis=1)\n",
    "df_val = df_val.reset_index().drop(['index'], axis=1)\n",
    "#df_val"
   ],
   "metadata": {
    "collapsed": false,
    "ExecuteTime": {
     "end_time": "2024-02-25T17:42:58.036990300Z",
     "start_time": "2024-02-25T17:42:57.977761300Z"
    }
   }
  },
  {
   "cell_type": "code",
   "execution_count": 37,
   "outputs": [],
   "source": [
    "X_train = df_train\n",
    "X_validate = df_val"
   ],
   "metadata": {
    "collapsed": false,
    "ExecuteTime": {
     "end_time": "2024-02-25T17:42:58.071506400Z",
     "start_time": "2024-02-25T17:42:57.987920300Z"
    }
   }
  },
  {
   "cell_type": "code",
   "execution_count": 38,
   "outputs": [],
   "source": [
    "X_train = df_train[common_features_l2]\n",
    "X_validate = df_val[common_features_l2]"
   ],
   "metadata": {
    "collapsed": false,
    "ExecuteTime": {
     "end_time": "2024-02-25T17:42:58.099795200Z",
     "start_time": "2024-02-25T17:42:58.002915100Z"
    }
   }
  },
  {
   "cell_type": "code",
   "execution_count": 39,
   "metadata": {
    "ExecuteTime": {
     "end_time": "2024-02-25T17:42:58.127137200Z",
     "start_time": "2024-02-25T17:42:58.012078800Z"
    }
   },
   "outputs": [],
   "source": [
    "df_minmax = scaler2.fit_transform(X_train)\n",
    "X_train = pd.DataFrame(df_minmax, columns=X_train.columns)\n",
    "#X_train"
   ]
  },
  {
   "cell_type": "code",
   "execution_count": 40,
   "outputs": [],
   "source": [
    "df_minmax = scaler2.transform(X_validate)\n",
    "X_validate = pd.DataFrame(df_minmax, columns=X_validate.columns)\n",
    "#X_validate"
   ],
   "metadata": {
    "collapsed": false,
    "ExecuteTime": {
     "end_time": "2024-02-25T17:42:58.149872100Z",
     "start_time": "2024-02-25T17:42:58.034468800Z"
    }
   }
  },
  {
   "cell_type": "code",
   "execution_count": 41,
   "metadata": {
    "ExecuteTime": {
     "end_time": "2024-02-25T17:42:58.248930700Z",
     "start_time": "2024-02-25T17:42:58.045253400Z"
    }
   },
   "outputs": [],
   "source": [
    "# perform One-hot encoding for the train set\n",
    "label_enc = ohe2.fit_transform(df_train[categorical_features])\n",
    "label_enc.toarray()\n",
    "new_labels = ohe2.get_feature_names_out(categorical_features)\n",
    "df_enc = pd.DataFrame(data=label_enc.toarray(), columns=new_labels)\n",
    "X_train = pd.concat([X_train, df_enc], axis=1)\n",
    "#X_train"
   ]
  },
  {
   "cell_type": "code",
   "execution_count": 42,
   "outputs": [],
   "source": [
    "# perform One-hot encoding for the validation set\n",
    "label_enc = ohe2.transform(df_val[categorical_features])\n",
    "label_enc.toarray()\n",
    "new_labels = ohe2.get_feature_names_out(categorical_features)\n",
    "df_enc = pd.DataFrame(data=label_enc.toarray(), columns=new_labels)\n",
    "X_validate = pd.concat([X_validate, df_enc], axis=1)\n",
    "#X_validate"
   ],
   "metadata": {
    "collapsed": false,
    "ExecuteTime": {
     "end_time": "2024-02-25T17:42:58.285212600Z",
     "start_time": "2024-02-25T17:42:58.102262200Z"
    }
   }
  },
  {
   "cell_type": "code",
   "execution_count": 43,
   "metadata": {
    "ExecuteTime": {
     "end_time": "2024-02-25T17:42:58.291862800Z",
     "start_time": "2024-02-25T17:42:58.123911200Z"
    }
   },
   "outputs": [],
   "source": [
    "# do the same for test set\n",
    "df_test = df_test[df_test['label'].isin(normal_list+u2r_attacks+r2l_attacks)]\n",
    "\n",
    "y_test = np.array([0 if x=='normal' else 1 for x in df_test['label']])\n",
    "df_test = df_test.drop(['label'],axis=1)\n",
    "df_test = df_test.reset_index().drop(['index'], axis=1)\n",
    "#df_test"
   ]
  },
  {
   "cell_type": "code",
   "execution_count": 44,
   "outputs": [
    {
     "data": {
      "text/plain": "(12663,)"
     },
     "execution_count": 44,
     "metadata": {},
     "output_type": "execute_result"
    }
   ],
   "source": [
    "y_test.shape"
   ],
   "metadata": {
    "collapsed": false,
    "ExecuteTime": {
     "end_time": "2024-02-25T17:42:58.318069Z",
     "start_time": "2024-02-25T17:42:58.142997600Z"
    }
   }
  },
  {
   "cell_type": "code",
   "execution_count": 45,
   "outputs": [],
   "source": [
    "X_test = df_test"
   ],
   "metadata": {
    "collapsed": false,
    "ExecuteTime": {
     "end_time": "2024-02-25T17:42:58.324118900Z",
     "start_time": "2024-02-25T17:42:58.145334100Z"
    }
   }
  },
  {
   "cell_type": "code",
   "execution_count": 46,
   "outputs": [],
   "source": [
    "X_test = df_test[common_features_l2] "
   ],
   "metadata": {
    "collapsed": false,
    "ExecuteTime": {
     "end_time": "2024-02-25T17:42:58.325689400Z",
     "start_time": "2024-02-25T17:42:58.152320200Z"
    }
   }
  },
  {
   "cell_type": "code",
   "execution_count": 47,
   "metadata": {
    "ExecuteTime": {
     "end_time": "2024-02-25T17:42:58.352548Z",
     "start_time": "2024-02-25T17:42:58.157914300Z"
    }
   },
   "outputs": [],
   "source": [
    "df_minmax = scaler2.transform(X_test)\n",
    "X_test = pd.DataFrame(df_minmax, columns=X_test.columns)\n",
    "#X_test"
   ]
  },
  {
   "cell_type": "code",
   "execution_count": 48,
   "metadata": {
    "ExecuteTime": {
     "end_time": "2024-02-25T17:42:58.423658Z",
     "start_time": "2024-02-25T17:42:58.167922700Z"
    }
   },
   "outputs": [],
   "source": [
    "label_enc = ohe2.transform(df_test.iloc[:,1:4])\n",
    "label_enc.toarray()\n",
    "new_labels = ohe2.get_feature_names_out(categorical_features)\n",
    "df_enc = pd.DataFrame(data=label_enc.toarray(), columns=new_labels)\n",
    "X_test = pd.concat([X_test, df_enc], axis=1)\n",
    "#X_test"
   ]
  },
  {
   "cell_type": "code",
   "execution_count": 49,
   "metadata": {
    "ExecuteTime": {
     "end_time": "2024-02-25T17:42:58.427227100Z",
     "start_time": "2024-02-25T17:42:58.188712200Z"
    }
   },
   "outputs": [
    {
     "name": "stdout",
     "output_type": "stream",
     "text": [
      "Shape of the train set:  (54733, 51)\n",
      "Shape of its target:  (54733,)\n",
      "Shape of the test set:  (12663, 51)\n",
      "Shape of its target:  (12663,)\n"
     ]
    }
   ],
   "source": [
    "print('Shape of the train set: ', X_train.shape)\n",
    "print('Shape of its target: ', y_train.shape)\n",
    "print('Shape of the test set: ', X_test.shape)\n",
    "print('Shape of its target: ', y_test.shape)"
   ]
  },
  {
   "cell_type": "code",
   "execution_count": 50,
   "outputs": [],
   "source": [
    "# Under sampling the train set for l2\n",
    "sm = under_sam(sampling_strategy=1)\n",
    "X_train, y_train = sm.fit_resample(X_train,y_train)"
   ],
   "metadata": {
    "collapsed": false,
    "ExecuteTime": {
     "end_time": "2024-02-25T17:42:58.466028Z",
     "start_time": "2024-02-25T17:42:58.193515400Z"
    }
   }
  },
  {
   "cell_type": "markdown",
   "source": [
    "# Now let's compute the class weights\n",
    "class_counts = {0: len(y_train[y_train==0]), 1: len(y_train[y_train==1])}\n",
    "\n",
    "total_samples = sum(class_counts.values())\n",
    "class_weights = {0: total_samples / (2 * class_counts[0]), 1: total_samples / (2 * class_counts[1])}"
   ],
   "metadata": {
    "collapsed": false
   }
  },
  {
   "cell_type": "markdown",
   "source": [
    "## Export the datasets\n",
    "Train set has been scaled, one hot encoded, undersampled\n",
    "Test set has been scaled and one hot encoded"
   ],
   "metadata": {
    "collapsed": false
   }
  },
  {
   "cell_type": "code",
   "execution_count": 51,
   "outputs": [],
   "source": [
    "# Export the dataset for training layer 2\n",
    "if EXPORT_DATASETS:\n",
    "    # X_train.to_csv('EvalResources/ProcessedDatasets/x_train_l2.txt', index=False)\n",
    "    np.save('EvalResources/ProcessedWithPCA/y_train_l2', y_train)\n",
    "    # X_validate.to_csv('EvalResources/ProcessedDatasets/x_val_l2.txt', index=False)\n",
    "    np.save('EvalResources/ProcessedWithPCA/y_val_l2', y_val)\n",
    "    np.save('EvalResources/ProcessedWithPCA/y_test_l2', y_test)"
   ],
   "metadata": {
    "collapsed": false,
    "ExecuteTime": {
     "end_time": "2024-02-25T17:42:58.469089300Z",
     "start_time": "2024-02-25T17:42:58.211900100Z"
    }
   }
  },
  {
   "cell_type": "code",
   "execution_count": 52,
   "outputs": [],
   "source": [
    "# Principal Component Analysis\n",
    "pca_r2l_u2r = PCA(n_components=0.95)\n",
    "X_train_r2l_u2r = pca_r2l_u2r.fit_transform(X_train)\n",
    "X_test_r2l_u2r = pca_r2l_u2r.transform(X_test)\n",
    "X_validate_r2l_u2r = pca_r2l_u2r.transform(X_validate)"
   ],
   "metadata": {
    "collapsed": false,
    "ExecuteTime": {
     "end_time": "2024-02-25T17:42:58.501554900Z",
     "start_time": "2024-02-25T17:42:58.215307Z"
    }
   }
  },
  {
   "cell_type": "code",
   "execution_count": 53,
   "outputs": [
    {
     "name": "stdout",
     "output_type": "stream",
     "text": [
      "Metrics for layer 2:\n",
      "Confusion matrix: [TP FN / FP TN]\n",
      " [[9084  627]\n",
      " [1542 1410]]\n",
      "Accuracy =  0.8287135749822317\n",
      "F1 Score =  0.5652435357787131\n",
      "Precision =  0.6921944035346097\n",
      "Recall =  0.47764227642276424\n",
      "Matthew corr =  0.47537904406607984\n",
      "Train time =  0:00:00.393244\n",
      "Shape of the training set:  (1624, 14)\n"
     ]
    }
   ],
   "source": [
    "# Support Vector Machine for layer l2\n",
    "r2l_u2r_classifier = SVC(C=0.1, gamma=0.01, kernel='rbf', probability=True)\n",
    "\n",
    "start = datetime.now()\n",
    "r2l_u2r_classifier.fit(X_train_r2l_u2r, y_train)\n",
    "ttime = datetime.now() - start\n",
    "\n",
    "predicted = r2l_u2r_classifier.predict(X_test_r2l_u2r)\n",
    "\n",
    "print('Metrics for layer 2:')\n",
    "print('Confusion matrix: [TP FN / FP TN]\\n', confusion_matrix(y_test,predicted))\n",
    "print('Accuracy = ', accuracy_score(y_test,predicted))\n",
    "print('F1 Score = ', f1_score(y_test,predicted))\n",
    "print('Precision = ', precision_score(y_test,predicted))\n",
    "print('Recall = ', recall_score(y_test,predicted))\n",
    "print('Matthew corr = ', matthews_corrcoef(y_test,predicted))\n",
    "print('Train time = ', ttime)\n",
    "print('Shape of the training set: ', X_train_r2l_u2r.shape)"
   ],
   "metadata": {
    "collapsed": false,
    "ExecuteTime": {
     "end_time": "2024-02-25T17:42:59.627988500Z",
     "start_time": "2024-02-25T17:42:58.248930700Z"
    }
   }
  },
  {
   "cell_type": "code",
   "execution_count": 54,
   "outputs": [
    {
     "name": "stdout",
     "output_type": "stream",
     "text": [
      "Metrics for layer 2:\n",
      "Confusion matrix: [TP FN / FP TN]\n",
      " [[697 115]\n",
      " [  4 808]]\n",
      "Accuracy =  0.9267241379310345\n",
      "F1 Score =  0.9314121037463977\n",
      "Precision =  0.875406283856988\n",
      "Recall =  0.9950738916256158\n",
      "Matthew corr =  0.8615358920741935\n"
     ]
    }
   ],
   "source": [
    "predicted = r2l_u2r_classifier.predict(X_train_r2l_u2r)\n",
    "\n",
    "print('Metrics for layer 2:')\n",
    "print('Confusion matrix: [TP FN / FP TN]\\n', confusion_matrix(y_train,predicted))\n",
    "print('Accuracy = ', accuracy_score(y_train,predicted))\n",
    "print('F1 Score = ', f1_score(y_train,predicted))\n",
    "print('Precision = ', precision_score(y_train,predicted))\n",
    "print('Recall = ', recall_score(y_train,predicted))\n",
    "print('Matthew corr = ', matthews_corrcoef(y_train,predicted))"
   ],
   "metadata": {
    "collapsed": false,
    "ExecuteTime": {
     "end_time": "2024-02-25T17:42:59.775648800Z",
     "start_time": "2024-02-25T17:42:59.627988500Z"
    }
   }
  },
  {
   "cell_type": "markdown",
   "source": [
    "r2l_u2r_classifier = GaussianNB()\n",
    "\n",
    "start = datetime.now()\n",
    "r2l_u2r_classifier.fit(X_train_r2l_u2r, y_train)\n",
    "ttime = datetime.now() - start\n",
    "\n",
    "predicted = r2l_u2r_classifier.predict(X_test_r2l_u2r)\n",
    "\n",
    "print('Metrics for layer 2:')\n",
    "print('Confusion matrix: [TP FN / FP TN]\\n', confusion_matrix(y_test,predicted))\n",
    "print('Accuracy = ', accuracy_score(y_test,predicted))\n",
    "print('F1 Score = ', f1_score(y_test,predicted))\n",
    "print('Precision = ', precision_score(y_test,predicted))\n",
    "print('Recall = ', recall_score(y_test,predicted))\n",
    "print('Matthew corr = ', matthews_corrcoef(y_test,predicted))\n",
    "print('Train time = ', ttime)\n",
    "print('Shape of the training set: ', X_train_r2l_u2r.shape)"
   ],
   "metadata": {
    "collapsed": false
   }
  },
  {
   "cell_type": "markdown",
   "source": [
    "predicted = r2l_u2r_classifier.predict(X_train_r2l_u2r)\n",
    "\n",
    "print('Metrics for layer 2:')\n",
    "print('Confusion matrix: [TP FN / FP TN]\\n', confusion_matrix(y_train,predicted))\n",
    "print('Accuracy = ', accuracy_score(y_train,predicted))\n",
    "print('F1 Score = ', f1_score(y_train,predicted))\n",
    "print('Precision = ', precision_score(y_train,predicted))\n",
    "print('Recall = ', recall_score(y_train,predicted))\n",
    "print('Matthew corr = ', matthews_corrcoef(y_train,predicted))\n",
    "print('Train time = ', ttime)"
   ],
   "metadata": {
    "collapsed": false
   }
  },
  {
   "cell_type": "markdown",
   "source": [
    "from sklearn import tree\n",
    "\n",
    "r2l_u2r_classifier = tree.DecisionTreeClassifier()\n",
    "\n",
    "start = datetime.now()\n",
    "r2l_u2r_classifier.fit(X_train_r2l_u2r, y_train)\n",
    "ttime = datetime.now() - start\n",
    "\n",
    "predicted = r2l_u2r_classifier.predict(X_test_r2l_u2r)\n",
    "\n",
    "print('Metrics for layer 2:')\n",
    "print('Confusion matrix: [TP FN / FP TN]\\n', confusion_matrix(y_test,predicted))\n",
    "print('Accuracy = ', accuracy_score(y_test,predicted))\n",
    "print('F1 Score = ', f1_score(y_test,predicted))\n",
    "print('Precision = ', precision_score(y_test,predicted))\n",
    "print('Recall = ', recall_score(y_test,predicted))\n",
    "print('Matthew corr = ', matthews_corrcoef(y_test,predicted))\n",
    "print('Train time = ', ttime)\n",
    "print('Shape of the training set: ', X_train_r2l_u2r.shape)"
   ],
   "metadata": {
    "collapsed": false
   }
  },
  {
   "cell_type": "markdown",
   "source": [
    "predicted = r2l_u2r_classifier.predict(X_train_r2l_u2r)\n",
    "\n",
    "print('Metrics for layer 2:')\n",
    "print('Confusion matrix: [TP FN / FP TN]\\n', confusion_matrix(y_train,predicted))\n",
    "print('Accuracy = ', accuracy_score(y_train,predicted))\n",
    "print('F1 Score = ', f1_score(y_train,predicted))\n",
    "print('Precision = ', precision_score(y_train,predicted))\n",
    "print('Recall = ', recall_score(y_train,predicted))\n",
    "print('Matthew corr = ', matthews_corrcoef(y_train,predicted))\n",
    "print('Train time = ', ttime)"
   ],
   "metadata": {
    "collapsed": false
   }
  },
  {
   "cell_type": "markdown",
   "source": [
    "from sklearn.ensemble import GradientBoostingClassifier\n",
    "\n",
    "r2l_u2r_classifier = GradientBoostingClassifier()\n",
    "\n",
    "start = datetime.now()\n",
    "r2l_u2r_classifier.fit(X_train_r2l_u2r, y_train)\n",
    "ttime = datetime.now() - start\n",
    "\n",
    "predicted = r2l_u2r_classifier.predict(X_test_r2l_u2r)\n",
    "\n",
    "print('Metrics for layer 2:')\n",
    "print('Confusion matrix: [TP FN / FP TN]\\n', confusion_matrix(y_test,predicted))\n",
    "print('Accuracy = ', accuracy_score(y_test,predicted))\n",
    "print('F1 Score = ', f1_score(y_test,predicted))\n",
    "print('Precision = ', precision_score(y_test,predicted))\n",
    "print('Recall = ', recall_score(y_test,predicted))\n",
    "print('Matthew corr = ', matthews_corrcoef(y_test,predicted))\n",
    "print('Train time = ', ttime)\n",
    "print('Shape of the training set: ', X_train_r2l_u2r.shape)"
   ],
   "metadata": {
    "collapsed": false
   }
  },
  {
   "cell_type": "markdown",
   "source": [
    "predicted = r2l_u2r_classifier.predict(X_train_r2l_u2r)\n",
    "\n",
    "print('Metrics for layer 2:')\n",
    "print('Confusion matrix: [TP FN / FP TN]\\n', confusion_matrix(y_train,predicted))\n",
    "print('Accuracy = ', accuracy_score(y_train,predicted))\n",
    "print('F1 Score = ', f1_score(y_train,predicted))\n",
    "print('Precision = ', precision_score(y_train,predicted))\n",
    "print('Recall = ', recall_score(y_train,predicted))\n",
    "print('Matthew corr = ', matthews_corrcoef(y_train,predicted))\n",
    "print('Train time = ', ttime)"
   ],
   "metadata": {
    "collapsed": false
   }
  },
  {
   "cell_type": "code",
   "execution_count": 55,
   "outputs": [],
   "source": [
    "if EXPORT_PCA:\n",
    "        # save the pca transformed as well as the transformer\n",
    "    column_names = [f'PC{i}' for i in range(1, X_test_r2l_u2r.shape[1] + 1)]\n",
    "    x = pd.DataFrame(data=X_test_r2l_u2r, columns=column_names)\n",
    "    x.to_csv('EvalResources/ProcessedWithPCA/x_test_l2_pca.txt', index=False)\n",
    "        \n",
    "    print(x.shape)\n",
    "    \n",
    "    column_names = [f'PC{i}' for i in range(1, X_train_r2l_u2r.shape[1] + 1)]\n",
    "    x = pd.DataFrame(data=X_train_r2l_u2r, columns=column_names)\n",
    "    x.to_csv('EvalResources/ProcessedWithPCA/x_train_l2_pca.txt', index=False)\n",
    "        \n",
    "    print(x.shape)\n",
    "    \n",
    "    column_names = [f'PC{i}' for i in range(1, X_validate_r2l_u2r.shape[1] + 1)]\n",
    "    x = pd.DataFrame(data=X_validate_r2l_u2r, columns=column_names)\n",
    "    x.to_csv('EvalResources/ProcessedWithPCA/x_val_l2_pca.txt', index=False)\n",
    "        \n",
    "    print(x.shape)\n",
    "        \n",
    "    joblib.dump(pca_r2l_u2r, 'EvalResources/ProcessedWithPCA/pca_transformer_l2.pkl')"
   ],
   "metadata": {
    "collapsed": false,
    "ExecuteTime": {
     "end_time": "2024-02-25T17:42:59.779798800Z",
     "start_time": "2024-02-25T17:42:59.769372100Z"
    }
   }
  },
  {
   "cell_type": "markdown",
   "source": [
    "### Export the classifiers"
   ],
   "metadata": {
    "collapsed": false
   }
  },
  {
   "cell_type": "code",
   "execution_count": 56,
   "outputs": [],
   "source": [
    "if EXPORT_MODELS:\n",
    "    with open('EvalResources/StartingModels/l1_classifier.pkl', \"wb\") as f:\n",
    "        pickle.dump(dos_probe_classifier, f)\n",
    "    with open('EvalResources/StartingModels/l2_classifier.pkl', \"wb\") as f:\n",
    "        pickle.dump(r2l_u2r_classifier, f)"
   ],
   "metadata": {
    "collapsed": false,
    "ExecuteTime": {
     "end_time": "2024-02-25T17:42:59.805607400Z",
     "start_time": "2024-02-25T17:42:59.773330200Z"
    }
   }
  },
  {
   "cell_type": "code",
   "execution_count": 57,
   "outputs": [],
   "source": [
    "# Export one hot encoders\n",
    "if EXPORT_ENCODERS:\n",
    "    joblib.dump(ohe, 'EvalResources/Encoders/ohe_l1.pkl')\n",
    "    joblib.dump(ohe2, 'EvalResources/Encoders/ohe_l2.pkl')\n",
    "    joblib.dump(scaler1, 'EvalResources/Encoders/scaler_l1.pkl')\n",
    "    joblib.dump(scaler2, 'EvalResources/Encoders/scaler_l2.pkl')"
   ],
   "metadata": {
    "collapsed": false,
    "ExecuteTime": {
     "end_time": "2024-02-25T17:42:59.830946400Z",
     "start_time": "2024-02-25T17:42:59.779293900Z"
    }
   }
  },
  {
   "cell_type": "markdown",
   "metadata": {},
   "source": [
    "# Testing"
   ]
  },
  {
   "cell_type": "code",
   "execution_count": 58,
   "metadata": {
    "ExecuteTime": {
     "end_time": "2024-02-25T17:42:59.923395100Z",
     "start_time": "2024-02-25T17:42:59.782145100Z"
    }
   },
   "outputs": [],
   "source": [
    "df_test1 = copy.deepcopy(df_test_original)\n",
    "df_test2 = copy.deepcopy(df_test_original)\n",
    "y_test_real = np.array([0 if x=='normal' else 1 for x in df_test1['label']])"
   ]
  },
  {
   "cell_type": "code",
   "execution_count": 59,
   "outputs": [
    {
     "data": {
      "text/plain": "(22544,)"
     },
     "execution_count": 59,
     "metadata": {},
     "output_type": "execute_result"
    }
   ],
   "source": [
    "y_test_real.shape"
   ],
   "metadata": {
    "collapsed": false,
    "ExecuteTime": {
     "end_time": "2024-02-25T17:42:59.949022500Z",
     "start_time": "2024-02-25T17:42:59.793509800Z"
    }
   }
  },
  {
   "cell_type": "code",
   "execution_count": 60,
   "outputs": [],
   "source": [
    "X_test = df_test"
   ],
   "metadata": {
    "collapsed": false,
    "ExecuteTime": {
     "end_time": "2024-02-25T17:42:59.949022500Z",
     "start_time": "2024-02-25T17:42:59.797688400Z"
    }
   }
  },
  {
   "cell_type": "code",
   "execution_count": 61,
   "outputs": [],
   "source": [
    "X_test1 = df_test1[common_features_l1]"
   ],
   "metadata": {
    "collapsed": false,
    "ExecuteTime": {
     "end_time": "2024-02-25T17:42:59.972568100Z",
     "start_time": "2024-02-25T17:42:59.803595300Z"
    }
   }
  },
  {
   "cell_type": "markdown",
   "source": [
    "X_test1 = df_test1.loc[:, ['service', 'flag', 'src_bytes', 'dst_bytes', 'count', 'diff_srv_rate',\n",
    "                           'dst_host_srv_count', 'dst_host_same_srv_rate',\n",
    "                           'dst_host_diff_srv_rate', 'dst_host_rerror_rate']]"
   ],
   "metadata": {
    "collapsed": false
   }
  },
  {
   "cell_type": "code",
   "execution_count": 62,
   "metadata": {
    "ExecuteTime": {
     "end_time": "2024-02-25T17:42:59.996157900Z",
     "start_time": "2024-02-25T17:42:59.810311600Z"
    }
   },
   "outputs": [
    {
     "name": "stdout",
     "output_type": "stream",
     "text": [
      "Test set shape for layer 1:  (22544, 28)\n"
     ]
    }
   ],
   "source": [
    "df_minmax = scaler1.transform(X_test1)\n",
    "X_test1 = pd.DataFrame(df_minmax, columns=X_test1.columns)\n",
    "label_enc = ohe.transform(df_test1.iloc[:,1:4])\n",
    "label_enc.toarray()\n",
    "new_labels = ohe.get_feature_names_out(categorical_features)\n",
    "df_enc = pd.DataFrame(data=label_enc.toarray(), columns=new_labels)\n",
    "X_test1 = pd.concat([X_test1, df_enc], axis=1)\n",
    "\n",
    "X_test_layer1 = pca_dos_probe.transform(X_test1)\n",
    "print('Test set shape for layer 1: ', X_test_layer1.shape)"
   ]
  },
  {
   "cell_type": "code",
   "execution_count": 63,
   "outputs": [],
   "source": [
    "#X_test1"
   ],
   "metadata": {
    "collapsed": false,
    "ExecuteTime": {
     "end_time": "2024-02-25T17:43:00.027998Z",
     "start_time": "2024-02-25T17:42:59.864919600Z"
    }
   }
  },
  {
   "cell_type": "code",
   "execution_count": 64,
   "outputs": [],
   "source": [
    "X_test2 = df_test2"
   ],
   "metadata": {
    "collapsed": false,
    "ExecuteTime": {
     "end_time": "2024-02-25T17:43:00.044035200Z",
     "start_time": "2024-02-25T17:42:59.868380100Z"
    }
   }
  },
  {
   "cell_type": "code",
   "execution_count": 65,
   "outputs": [],
   "source": [
    "X_test2 = df_test2[common_features_l2] "
   ],
   "metadata": {
    "collapsed": false,
    "ExecuteTime": {
     "end_time": "2024-02-25T17:43:00.047685900Z",
     "start_time": "2024-02-25T17:42:59.871627900Z"
    }
   }
  },
  {
   "cell_type": "code",
   "execution_count": 66,
   "metadata": {
    "ExecuteTime": {
     "end_time": "2024-02-25T17:43:00.131982300Z",
     "start_time": "2024-02-25T17:42:59.877791500Z"
    }
   },
   "outputs": [
    {
     "name": "stdout",
     "output_type": "stream",
     "text": [
      "Test set shape for layer 1:  (22544, 28)\n",
      "Test set shape for layer 2:  (22544, 14)\n"
     ]
    }
   ],
   "source": [
    "df_minmax = scaler2.transform(X_test2)\n",
    "X_test2 = pd.DataFrame(df_minmax, columns=X_test2.columns)\n",
    "label_enc = ohe2.transform(df_test2.iloc[:,1:4])\n",
    "label_enc.toarray()\n",
    "new_labels = ohe2.get_feature_names_out(categorical_features)\n",
    "df_enc = pd.DataFrame(data=label_enc.toarray(), columns=new_labels)\n",
    "X_test2 = pd.concat([X_test2, df_enc], axis=1)\n",
    "\n",
    "X_test_layer2 = pca_r2l_u2r.transform(X_test2)\n",
    "print('Test set shape for layer 1: ', X_test_layer1.shape)\n",
    "print('Test set shape for layer 2: ', X_test_layer2.shape)"
   ]
  },
  {
   "cell_type": "code",
   "execution_count": 67,
   "outputs": [],
   "source": [
    "#X_test_layer1"
   ],
   "metadata": {
    "collapsed": false,
    "ExecuteTime": {
     "end_time": "2024-02-25T17:43:00.136220700Z",
     "start_time": "2024-02-25T17:42:59.918007500Z"
    }
   }
  },
  {
   "cell_type": "code",
   "execution_count": 68,
   "outputs": [],
   "source": [
    "#X_test_layer2"
   ],
   "metadata": {
    "collapsed": false,
    "ExecuteTime": {
     "end_time": "2024-02-25T17:43:00.183192400Z",
     "start_time": "2024-02-25T17:42:59.922887100Z"
    }
   }
  },
  {
   "cell_type": "code",
   "execution_count": 69,
   "metadata": {
    "ExecuteTime": {
     "end_time": "2024-02-25T17:43:00.217823200Z",
     "start_time": "2024-02-25T17:42:59.925406900Z"
    }
   },
   "outputs": [],
   "source": [
    "# same classifiers obtained above\n",
    "classifier1 = dos_probe_classifier\n",
    "classifier2 = r2l_u2r_classifier"
   ]
  },
  {
   "cell_type": "code",
   "execution_count": 70,
   "outputs": [],
   "source": [
    "# test the other classifiers obtained in the evaluation phase\n",
    "#classifier1 = joblib.load(\"EvalResources/Models/l1_clf.pkl\")\n",
    "#classifier2 = joblib.load(\"EvalResources/Models/l2_clf.pkl\")"
   ],
   "metadata": {
    "collapsed": false,
    "ExecuteTime": {
     "end_time": "2024-02-25T17:43:00.220836600Z",
     "start_time": "2024-02-25T17:42:59.930476400Z"
    }
   }
  },
  {
   "cell_type": "code",
   "execution_count": 71,
   "metadata": {
    "ExecuteTime": {
     "end_time": "2024-02-25T17:44:36.685314Z",
     "start_time": "2024-02-25T17:42:59.933495700Z"
    }
   },
   "outputs": [],
   "source": [
    "import warnings\n",
    "\n",
    "# Suppressing the warning\n",
    "warnings.filterwarnings(\"ignore\", message=\"X does not have valid feature names.*\")\n",
    "\n",
    "result = []\n",
    "\n",
    "start = datetime.now()\n",
    "for i in range(X_test_layer2.shape[0]):\n",
    "    layer1 = classifier1.predict(X_test_layer1[i].reshape(1, -1))[0]\n",
    "    if layer1 == 1:\n",
    "        result.append(layer1)\n",
    "    else:\n",
    "        layer2 = classifier2.predict(X_test_layer2[i].reshape(1, -1))[0]\n",
    "        if layer2 == 1:\n",
    "            result.append(layer2)\n",
    "        else:\n",
    "            result.append(0)\n",
    "clf_time = datetime.now() - start\n",
    "\n",
    "result = np.array(result)"
   ]
  },
  {
   "cell_type": "code",
   "execution_count": 72,
   "metadata": {
    "ExecuteTime": {
     "end_time": "2024-02-25T17:44:36.736768200Z",
     "start_time": "2024-02-25T17:44:36.686326500Z"
    }
   },
   "outputs": [
    {
     "name": "stdout",
     "output_type": "stream",
     "text": [
      "Results for the full pipeline:\n",
      "[[8885  826]\n",
      " [3547 9286]]\n",
      "Accuracy =  0.8060237757274663\n",
      "F1 Score =  0.8094138156461103\n",
      "Precision =  0.9183148734177216\n",
      "Recall =  0.7236032104729992\n",
      "Matthew corr =  0.6357678630795246\n",
      "Classification time =  0:01:36.745277\n"
     ]
    }
   ],
   "source": [
    "# the results may vary\n",
    "# C=0.1, gamma=0.01\n",
    "print('Results for the full pipeline:')\n",
    "print(confusion_matrix(y_test_real,result))\n",
    "print('Accuracy = ', accuracy_score(y_test_real,result))\n",
    "print('F1 Score = ', f1_score(y_test_real,result))\n",
    "print('Precision = ', precision_score(y_test_real,result))\n",
    "print('Recall = ', recall_score(y_test_real,result))\n",
    "print('Matthew corr = ', matthews_corrcoef(y_test_real,result))\n",
    "print('Classification time = ', clf_time)"
   ]
  },
  {
   "cell_type": "code",
   "execution_count": 73,
   "outputs": [
    {
     "name": "stdout",
     "output_type": "stream",
     "text": [
      "True Positive Rate (TPR) = 0.7236032104729992\n",
      "False Positive Rate (FPR) = 0.08505818144372361\n",
      "True Negative Rate (TNR) = 0.9149418185562764\n",
      "False Negative Rate (FNR) = 0.2763967895270007\n",
      "Classification time =  0:01:45.472577\n"
     ]
    }
   ],
   "source": [
    "result = []\n",
    "TP = FP = TN = FN = 0\n",
    "\n",
    "start = datetime.now()\n",
    "for i in range(X_test_layer2.shape[0]):\n",
    "    layer1 = classifier1.predict(X_test_layer1[i].reshape(1, -1))[0]\n",
    "    if layer1 == 1:\n",
    "        result.append(layer1)\n",
    "        if y_test_real[i] == 1:\n",
    "            TP += 1\n",
    "        else:\n",
    "            FP += 1\n",
    "    else:\n",
    "        layer2 = classifier2.predict(X_test_layer2[i].reshape(1, -1))[0]\n",
    "        if layer2 == 1:\n",
    "            result.append(layer2)\n",
    "            if y_test_real[i] == 1:\n",
    "                TP += 1\n",
    "            else:\n",
    "                FP += 1\n",
    "        else:\n",
    "            result.append(0)\n",
    "            if y_test_real[i] == 0:\n",
    "                TN += 1\n",
    "            else:\n",
    "                FN += 1\n",
    "clf_time = datetime.now() - start\n",
    "\n",
    "result = np.array(result)\n",
    "\n",
    "# Compute TPR, FPR, TNR, FNR\n",
    "TPR = TP / (TP + FN)\n",
    "FPR = FP / (FP + TN)\n",
    "TNR = TN / (TN + FP)\n",
    "FNR = FN / (FN + TP)\n",
    "\n",
    "# Print TPR, FPR, TNR, FNR\n",
    "print('True Positive Rate (TPR) =', TPR)\n",
    "print('False Positive Rate (FPR) =', FPR)\n",
    "print('True Negative Rate (TNR) =', TNR)\n",
    "print('False Negative Rate (FNR) =', FNR)\n",
    "print('Classification time = ', clf_time)"
   ],
   "metadata": {
    "collapsed": false,
    "ExecuteTime": {
     "end_time": "2024-02-25T17:46:22.206899Z",
     "start_time": "2024-02-25T17:44:36.725484Z"
    }
   }
  },
  {
   "cell_type": "code",
   "execution_count": 74,
   "outputs": [
    {
     "data": {
      "text/plain": "<Figure size 640x480 with 1 Axes>",
      "image/png": "[encoded data removed]"
     },
     "metadata": {},
     "output_type": "display_data"
    }
   ],
   "source": [
    "# ROC graph\n",
    "\n",
    "import matplotlib.pyplot as plt\n",
    "from sklearn.metrics import roc_curve, auc\n",
    "\n",
    "fpr, tpr, _ = roc_curve(y_test_real, result)\n",
    "roc_auc = auc(fpr, tpr)\n",
    "\n",
    "# Plot ROC curve\n",
    "plt.figure()\n",
    "plt.plot(fpr, tpr, color='darkorange', lw=2, label='ROC curve (area = %0.2f)' % roc_auc)\n",
    "plt.plot([0, 1], [0, 1], color='navy', lw=2, linestyle='--')\n",
    "plt.xlim([0.0, 1.0])\n",
    "plt.ylim([0.0, 1.05])\n",
    "plt.xlabel('False Positive Rate')\n",
    "plt.ylabel('True Positive Rate')\n",
    "plt.title('Receiver Operating Characteristic (ROC) Curve')\n",
    "plt.legend(loc=\"lower right\")\n",
    "\n",
    "#plt.savefig('static_roc_curve-knn.png')\n",
    "\n",
    "plt.show()"
   ],
   "metadata": {
    "collapsed": false,
    "ExecuteTime": {
     "end_time": "2024-02-25T17:46:22.936568500Z",
     "start_time": "2024-02-25T17:46:22.206899Z"
    }
   }
  },
  {
   "cell_type": "markdown",
   "source": [
    "### Export the test sets"
   ],
   "metadata": {
    "collapsed": false
   }
  },
  {
   "cell_type": "code",
   "execution_count": 75,
   "outputs": [
    {
     "data": {
      "text/plain": "\"\\nif True:\\n    column_names = [f'PC{i}' for i in range(1, X_test_layer1.shape[1] + 1)]\\n    X1_test = pd.DataFrame(data=X_test_layer1, columns=column_names)\\n    X1_test.to_csv('EvalResources/AdditionalSets/x_test_l1_pca.txt', index=False)\\n    \\n    column_names = [f'PC{i}' for i in range(1, X_test_layer2.shape[1] + 1)]\\n    X2_test = pd.DataFrame(data=X_test_layer2, columns=column_names)\\n    X2_test.to_csv('EvalResources/AdditionalSets/x_test_l2_pca.txt', index=False)\\n    \\n    np.save('EvalResources/AdditionalSets/y_test', y_test_real)\\n\""
     },
     "execution_count": 75,
     "metadata": {},
     "output_type": "execute_result"
    }
   ],
   "source": [
    "\"\"\"\n",
    "if True:\n",
    "    column_names = [f'PC{i}' for i in range(1, X_test_layer1.shape[1] + 1)]\n",
    "    X1_test = pd.DataFrame(data=X_test_layer1, columns=column_names)\n",
    "    X1_test.to_csv('EvalResources/AdditionalSets/x_test_l1_pca.txt', index=False)\n",
    "    \n",
    "    column_names = [f'PC{i}' for i in range(1, X_test_layer2.shape[1] + 1)]\n",
    "    X2_test = pd.DataFrame(data=X_test_layer2, columns=column_names)\n",
    "    X2_test.to_csv('EvalResources/AdditionalSets/x_test_l2_pca.txt', index=False)\n",
    "    \n",
    "    np.save('EvalResources/AdditionalSets/y_test', y_test_real)\n",
    "\"\"\"\n"
   ],
   "metadata": {
    "collapsed": false,
    "ExecuteTime": {
     "end_time": "2024-02-25T17:46:22.964662200Z",
     "start_time": "2024-02-25T17:46:22.936568500Z"
    }
   }
  },
  {
   "cell_type": "markdown",
   "metadata": {},
   "source": [
    "### evaluate seen and unseen attack categories"
   ]
  },
  {
   "cell_type": "code",
   "execution_count": 76,
   "metadata": {
    "ExecuteTime": {
     "end_time": "2024-02-25T17:46:23.101622200Z",
     "start_time": "2024-02-25T17:46:22.943964300Z"
    }
   },
   "outputs": [],
   "source": [
    "# load testset\n",
    "df_test = pd.read_csv('EvalResources/KDDTest+.txt', sep=\",\", header=None, skipinitialspace = True)\n",
    "df_test = df_test[df_test.columns[:-1]]\n",
    "df_test.columns = titles.to_list()\n",
    "y_test = df_test['label']\n",
    "df_test = df_test.drop(['num_outbound_cmds'],axis=1)\n",
    "\n",
    "df_test_original = df_test"
   ]
  },
  {
   "cell_type": "code",
   "execution_count": 77,
   "outputs": [
    {
     "data": {
      "text/plain": "       duration protocol_type   service  flag  src_bytes  dst_bytes  land  \\\n0             0           tcp   private   REJ          0          0     0   \n1             0           tcp   private   REJ          0          0     0   \n2             2           tcp  ftp_data    SF      12983          0     0   \n3             0          icmp     eco_i    SF         20          0     0   \n4             1           tcp    telnet  RSTO          0         15     0   \n...         ...           ...       ...   ...        ...        ...   ...   \n22539         0           tcp      smtp    SF        794        333     0   \n22540         0           tcp      http    SF        317        938     0   \n22541         0           tcp      http    SF      54540       8314     0   \n22542         0           udp  domain_u    SF         42         42     0   \n22543         0           tcp    sunrpc   REJ          0          0     0   \n\n       wrong_fragment  urgent  hot  num_failed_logins  logged_in  \\\n0                   0       0    0                  0          0   \n1                   0       0    0                  0          0   \n2                   0       0    0                  0          0   \n3                   0       0    0                  0          0   \n4                   0       0    0                  0          0   \n...               ...     ...  ...                ...        ...   \n22539               0       0    0                  0          1   \n22540               0       0    0                  0          1   \n22541               0       0    2                  0          1   \n22542               0       0    0                  0          0   \n22543               0       0    0                  0          0   \n\n       num_compromised  root_shell  su_attempted  num_root  \\\n0                    0           0             0         0   \n1                    0           0             0         0   \n2                    0           0             0         0   \n3                    0           0             0         0   \n4                    0           0             0         0   \n...                ...         ...           ...       ...   \n22539                0           0             0         0   \n22540                0           0             0         0   \n22541                1           0             0         0   \n22542                0           0             0         0   \n22543                0           0             0         0   \n\n       num_file_creations  num_shells  num_access_files  is_host_login  \\\n0                       0           0                 0              0   \n1                       0           0                 0              0   \n2                       0           0                 0              0   \n3                       0           0                 0              0   \n4                       0           0                 0              0   \n...                   ...         ...               ...            ...   \n22539                   0           0                 0              0   \n22540                   0           0                 0              0   \n22541                   0           0                 0              0   \n22542                   0           0                 0              0   \n22543                   0           0                 0              0   \n\n       is_guest_login  count  srv_count  serror_rate  srv_serror_rate  \\\n0                   0    229         10          0.0             0.00   \n1                   0    136          1          0.0             0.00   \n2                   0      1          1          0.0             0.00   \n3                   0      1         65          0.0             0.00   \n4                   0      1          8          0.0             0.12   \n...               ...    ...        ...          ...              ...   \n22539               0      1          1          0.0             0.00   \n22540               0      2         11          0.0             0.00   \n22541               0      5         10          0.0             0.00   \n22542               0      4          6          0.0             0.00   \n22543               0      4         10          0.0             0.00   \n\n       rerror_rate  srv_rerror_rate  same_srv_rate  diff_srv_rate  \\\n0              1.0              1.0           0.04           0.06   \n1              1.0              1.0           0.01           0.06   \n2              0.0              0.0           1.00           0.00   \n3              0.0              0.0           1.00           0.00   \n4              1.0              0.5           1.00           0.00   \n...            ...              ...            ...            ...   \n22539          0.0              0.0           1.00           0.00   \n22540          0.0              0.0           1.00           0.00   \n22541          0.0              0.0           1.00           0.00   \n22542          0.0              0.0           1.00           0.00   \n22543          1.0              1.0           0.25           1.00   \n\n       srv_diff_host_rate  dst_host_count  dst_host_srv_count  \\\n0                    0.00             255                  10   \n1                    0.00             255                   1   \n2                    0.00             134                  86   \n3                    1.00               3                  57   \n4                    0.75              29                  86   \n...                   ...             ...                 ...   \n22539                0.00             100                 141   \n22540                0.18             197                 255   \n22541                0.20             255                 255   \n22542                0.33             255                 252   \n22543                1.00             255                  21   \n\n       dst_host_same_srv_rate  dst_host_diff_srv_rate  \\\n0                        0.04                    0.06   \n1                        0.00                    0.06   \n2                        0.61                    0.04   \n3                        1.00                    0.00   \n4                        0.31                    0.17   \n...                       ...                     ...   \n22539                    0.72                    0.06   \n22540                    1.00                    0.00   \n22541                    1.00                    0.00   \n22542                    0.99                    0.01   \n22543                    0.08                    0.03   \n\n       dst_host_same_src_port_rate  dst_host_srv_diff_host_rate  \\\n0                             0.00                         0.00   \n1                             0.00                         0.00   \n2                             0.61                         0.02   \n3                             1.00                         0.28   \n4                             0.03                         0.02   \n...                            ...                          ...   \n22539                         0.01                         0.01   \n22540                         0.01                         0.01   \n22541                         0.00                         0.00   \n22542                         0.00                         0.00   \n22543                         0.00                         0.00   \n\n       dst_host_serror_rate  dst_host_srv_serror_rate  dst_host_rerror_rate  \\\n0                      0.00                       0.0                  1.00   \n1                      0.00                       0.0                  1.00   \n2                      0.00                       0.0                  0.00   \n3                      0.00                       0.0                  0.00   \n4                      0.00                       0.0                  0.83   \n...                     ...                       ...                   ...   \n22539                  0.01                       0.0                  0.00   \n22540                  0.01                       0.0                  0.00   \n22541                  0.00                       0.0                  0.07   \n22542                  0.00                       0.0                  0.00   \n22543                  0.00                       0.0                  0.44   \n\n       dst_host_srv_rerror_rate    label  \n0                          1.00  neptune  \n1                          1.00  neptune  \n2                          0.00   normal  \n3                          0.00    saint  \n4                          0.71    mscan  \n...                         ...      ...  \n22539                      0.00   normal  \n22540                      0.00   normal  \n22541                      0.07     back  \n22542                      0.00   normal  \n22543                      1.00    mscan  \n\n[22544 rows x 41 columns]",
      "text/html": "<div>\n<style scoped>\n    .dataframe tbody tr th:only-of-type {\n        vertical-align: middle;\n    }\n\n    .dataframe tbody tr th {\n        vertical-align: top;\n    }\n\n    .dataframe thead th {\n        text-align: right;\n    }\n</style>\n<table border=\"1\" class=\"dataframe\">\n  <thead>\n    <tr style=\"text-align: right;\">\n      <th></th>\n      <th>duration</th>\n      <th>protocol_type</th>\n      <th>service</th>\n      <th>flag</th>\n      <th>src_bytes</th>\n      <th>dst_bytes</th>\n      <th>land</th>\n      <th>wrong_fragment</th>\n      <th>urgent</th>\n      <th>hot</th>\n      <th>num_failed_logins</th>\n      <th>logged_in</th>\n      <th>num_compromised</th>\n      <th>root_shell</th>\n      <th>su_attempted</th>\n      <th>num_root</th>\n      <th>num_file_creations</th>\n      <th>num_shells</th>\n      <th>num_access_files</th>\n      <th>is_host_login</th>\n      <th>is_guest_login</th>\n      <th>count</th>\n      <th>srv_count</th>\n      <th>serror_rate</th>\n      <th>srv_serror_rate</th>\n      <th>rerror_rate</th>\n      <th>srv_rerror_rate</th>\n      <th>same_srv_rate</th>\n      <th>diff_srv_rate</th>\n      <th>srv_diff_host_rate</th>\n      <th>dst_host_count</th>\n      <th>dst_host_srv_count</th>\n      <th>dst_host_same_srv_rate</th>\n      <th>dst_host_diff_srv_rate</th>\n      <th>dst_host_same_src_port_rate</th>\n      <th>dst_host_srv_diff_host_rate</th>\n      <th>dst_host_serror_rate</th>\n      <th>dst_host_srv_serror_rate</th>\n      <th>dst_host_rerror_rate</th>\n      <th>dst_host_srv_rerror_rate</th>\n      <th>label</th>\n    </tr>\n  </thead>\n  <tbody>\n    <tr>\n      <th>0</th>\n      <td>0</td>\n      <td>tcp</td>\n      <td>private</td>\n      <td>REJ</td>\n      <td>0</td>\n      <td>0</td>\n      <td>0</td>\n      <td>0</td>\n      <td>0</td>\n      <td>0</td>\n      <td>0</td>\n      <td>0</td>\n      <td>0</td>\n      <td>0</td>\n      <td>0</td>\n      <td>0</td>\n      <td>0</td>\n      <td>0</td>\n      <td>0</td>\n      <td>0</td>\n      <td>0</td>\n      <td>229</td>\n      <td>10</td>\n      <td>0.0</td>\n      <td>0.00</td>\n      <td>1.0</td>\n      <td>1.0</td>\n      <td>0.04</td>\n      <td>0.06</td>\n      <td>0.00</td>\n      <td>255</td>\n      <td>10</td>\n      <td>0.04</td>\n      <td>0.06</td>\n      <td>0.00</td>\n      <td>0.00</td>\n      <td>0.00</td>\n      <td>0.0</td>\n      <td>1.00</td>\n      <td>1.00</td>\n      <td>neptune</td>\n    </tr>\n    <tr>\n      <th>1</th>\n      <td>0</td>\n      <td>tcp</td>\n      <td>private</td>\n      <td>REJ</td>\n      <td>0</td>\n      <td>0</td>\n      <td>0</td>\n      <td>0</td>\n      <td>0</td>\n      <td>0</td>\n      <td>0</td>\n      <td>0</td>\n      <td>0</td>\n      <td>0</td>\n      <td>0</td>\n      <td>0</td>\n      <td>0</td>\n      <td>0</td>\n      <td>0</td>\n      <td>0</td>\n      <td>0</td>\n      <td>136</td>\n      <td>1</td>\n      <td>0.0</td>\n      <td>0.00</td>\n      <td>1.0</td>\n      <td>1.0</td>\n      <td>0.01</td>\n      <td>0.06</td>\n      <td>0.00</td>\n      <td>255</td>\n      <td>1</td>\n      <td>0.00</td>\n      <td>0.06</td>\n      <td>0.00</td>\n      <td>0.00</td>\n      <td>0.00</td>\n      <td>0.0</td>\n      <td>1.00</td>\n      <td>1.00</td>\n      <td>neptune</td>\n    </tr>\n    <tr>\n      <th>2</th>\n      <td>2</td>\n      <td>tcp</td>\n      <td>ftp_data</td>\n      <td>SF</td>\n      <td>12983</td>\n      <td>0</td>\n      <td>0</td>\n      <td>0</td>\n      <td>0</td>\n      <td>0</td>\n      <td>0</td>\n      <td>0</td>\n      <td>0</td>\n      <td>0</td>\n      <td>0</td>\n      <td>0</td>\n      <td>0</td>\n      <td>0</td>\n      <td>0</td>\n      <td>0</td>\n      <td>0</td>\n      <td>1</td>\n      <td>1</td>\n      <td>0.0</td>\n      <td>0.00</td>\n      <td>0.0</td>\n      <td>0.0</td>\n      <td>1.00</td>\n      <td>0.00</td>\n      <td>0.00</td>\n      <td>134</td>\n      <td>86</td>\n      <td>0.61</td>\n      <td>0.04</td>\n      <td>0.61</td>\n      <td>0.02</td>\n      <td>0.00</td>\n      <td>0.0</td>\n      <td>0.00</td>\n      <td>0.00</td>\n      <td>normal</td>\n    </tr>\n    <tr>\n      <th>3</th>\n      <td>0</td>\n      <td>icmp</td>\n      <td>eco_i</td>\n      <td>SF</td>\n      <td>20</td>\n      <td>0</td>\n      <td>0</td>\n      <td>0</td>\n      <td>0</td>\n      <td>0</td>\n      <td>0</td>\n      <td>0</td>\n      <td>0</td>\n      <td>0</td>\n      <td>0</td>\n      <td>0</td>\n      <td>0</td>\n      <td>0</td>\n      <td>0</td>\n      <td>0</td>\n      <td>0</td>\n      <td>1</td>\n      <td>65</td>\n      <td>0.0</td>\n      <td>0.00</td>\n      <td>0.0</td>\n      <td>0.0</td>\n      <td>1.00</td>\n      <td>0.00</td>\n      <td>1.00</td>\n      <td>3</td>\n      <td>57</td>\n      <td>1.00</td>\n      <td>0.00</td>\n      <td>1.00</td>\n      <td>0.28</td>\n      <td>0.00</td>\n      <td>0.0</td>\n      <td>0.00</td>\n      <td>0.00</td>\n      <td>saint</td>\n    </tr>\n    <tr>\n      <th>4</th>\n      <td>1</td>\n      <td>tcp</td>\n      <td>telnet</td>\n      <td>RSTO</td>\n      <td>0</td>\n      <td>15</td>\n      <td>0</td>\n      <td>0</td>\n      <td>0</td>\n      <td>0</td>\n      <td>0</td>\n      <td>0</td>\n      <td>0</td>\n      <td>0</td>\n      <td>0</td>\n      <td>0</td>\n      <td>0</td>\n      <td>0</td>\n      <td>0</td>\n      <td>0</td>\n      <td>0</td>\n      <td>1</td>\n      <td>8</td>\n      <td>0.0</td>\n      <td>0.12</td>\n      <td>1.0</td>\n      <td>0.5</td>\n      <td>1.00</td>\n      <td>0.00</td>\n      <td>0.75</td>\n      <td>29</td>\n      <td>86</td>\n      <td>0.31</td>\n      <td>0.17</td>\n      <td>0.03</td>\n      <td>0.02</td>\n      <td>0.00</td>\n      <td>0.0</td>\n      <td>0.83</td>\n      <td>0.71</td>\n      <td>mscan</td>\n    </tr>\n    <tr>\n      <th>...</th>\n      <td>...</td>\n      <td>...</td>\n      <td>...</td>\n      <td>...</td>\n      <td>...</td>\n      <td>...</td>\n      <td>...</td>\n      <td>...</td>\n      <td>...</td>\n      <td>...</td>\n      <td>...</td>\n      <td>...</td>\n      <td>...</td>\n      <td>...</td>\n      <td>...</td>\n      <td>...</td>\n      <td>...</td>\n      <td>...</td>\n      <td>...</td>\n      <td>...</td>\n      <td>...</td>\n      <td>...</td>\n      <td>...</td>\n      <td>...</td>\n      <td>...</td>\n      <td>...</td>\n      <td>...</td>\n      <td>...</td>\n      <td>...</td>\n      <td>...</td>\n      <td>...</td>\n      <td>...</td>\n      <td>...</td>\n      <td>...</td>\n      <td>...</td>\n      <td>...</td>\n      <td>...</td>\n      <td>...</td>\n      <td>...</td>\n      <td>...</td>\n      <td>...</td>\n    </tr>\n    <tr>\n      <th>22539</th>\n      <td>0</td>\n      <td>tcp</td>\n      <td>smtp</td>\n      <td>SF</td>\n      <td>794</td>\n      <td>333</td>\n      <td>0</td>\n      <td>0</td>\n      <td>0</td>\n      <td>0</td>\n      <td>0</td>\n      <td>1</td>\n      <td>0</td>\n      <td>0</td>\n      <td>0</td>\n      <td>0</td>\n      <td>0</td>\n      <td>0</td>\n      <td>0</td>\n      <td>0</td>\n      <td>0</td>\n      <td>1</td>\n      <td>1</td>\n      <td>0.0</td>\n      <td>0.00</td>\n      <td>0.0</td>\n      <td>0.0</td>\n      <td>1.00</td>\n      <td>0.00</td>\n      <td>0.00</td>\n      <td>100</td>\n      <td>141</td>\n      <td>0.72</td>\n      <td>0.06</td>\n      <td>0.01</td>\n      <td>0.01</td>\n      <td>0.01</td>\n      <td>0.0</td>\n      <td>0.00</td>\n      <td>0.00</td>\n      <td>normal</td>\n    </tr>\n    <tr>\n      <th>22540</th>\n      <td>0</td>\n      <td>tcp</td>\n      <td>http</td>\n      <td>SF</td>\n      <td>317</td>\n      <td>938</td>\n      <td>0</td>\n      <td>0</td>\n      <td>0</td>\n      <td>0</td>\n      <td>0</td>\n      <td>1</td>\n      <td>0</td>\n      <td>0</td>\n      <td>0</td>\n      <td>0</td>\n      <td>0</td>\n      <td>0</td>\n      <td>0</td>\n      <td>0</td>\n      <td>0</td>\n      <td>2</td>\n      <td>11</td>\n      <td>0.0</td>\n      <td>0.00</td>\n      <td>0.0</td>\n      <td>0.0</td>\n      <td>1.00</td>\n      <td>0.00</td>\n      <td>0.18</td>\n      <td>197</td>\n      <td>255</td>\n      <td>1.00</td>\n      <td>0.00</td>\n      <td>0.01</td>\n      <td>0.01</td>\n      <td>0.01</td>\n      <td>0.0</td>\n      <td>0.00</td>\n      <td>0.00</td>\n      <td>normal</td>\n    </tr>\n    <tr>\n      <th>22541</th>\n      <td>0</td>\n      <td>tcp</td>\n      <td>http</td>\n      <td>SF</td>\n      <td>54540</td>\n      <td>8314</td>\n      <td>0</td>\n      <td>0</td>\n      <td>0</td>\n      <td>2</td>\n      <td>0</td>\n      <td>1</td>\n      <td>1</td>\n      <td>0</td>\n      <td>0</td>\n      <td>0</td>\n      <td>0</td>\n      <td>0</td>\n      <td>0</td>\n      <td>0</td>\n      <td>0</td>\n      <td>5</td>\n      <td>10</td>\n      <td>0.0</td>\n      <td>0.00</td>\n      <td>0.0</td>\n      <td>0.0</td>\n      <td>1.00</td>\n      <td>0.00</td>\n      <td>0.20</td>\n      <td>255</td>\n      <td>255</td>\n      <td>1.00</td>\n      <td>0.00</td>\n      <td>0.00</td>\n      <td>0.00</td>\n      <td>0.00</td>\n      <td>0.0</td>\n      <td>0.07</td>\n      <td>0.07</td>\n      <td>back</td>\n    </tr>\n    <tr>\n      <th>22542</th>\n      <td>0</td>\n      <td>udp</td>\n      <td>domain_u</td>\n      <td>SF</td>\n      <td>42</td>\n      <td>42</td>\n      <td>0</td>\n      <td>0</td>\n      <td>0</td>\n      <td>0</td>\n      <td>0</td>\n      <td>0</td>\n      <td>0</td>\n      <td>0</td>\n      <td>0</td>\n      <td>0</td>\n      <td>0</td>\n      <td>0</td>\n      <td>0</td>\n      <td>0</td>\n      <td>0</td>\n      <td>4</td>\n      <td>6</td>\n      <td>0.0</td>\n      <td>0.00</td>\n      <td>0.0</td>\n      <td>0.0</td>\n      <td>1.00</td>\n      <td>0.00</td>\n      <td>0.33</td>\n      <td>255</td>\n      <td>252</td>\n      <td>0.99</td>\n      <td>0.01</td>\n      <td>0.00</td>\n      <td>0.00</td>\n      <td>0.00</td>\n      <td>0.0</td>\n      <td>0.00</td>\n      <td>0.00</td>\n      <td>normal</td>\n    </tr>\n    <tr>\n      <th>22543</th>\n      <td>0</td>\n      <td>tcp</td>\n      <td>sunrpc</td>\n      <td>REJ</td>\n      <td>0</td>\n      <td>0</td>\n      <td>0</td>\n      <td>0</td>\n      <td>0</td>\n      <td>0</td>\n      <td>0</td>\n      <td>0</td>\n      <td>0</td>\n      <td>0</td>\n      <td>0</td>\n      <td>0</td>\n      <td>0</td>\n      <td>0</td>\n      <td>0</td>\n      <td>0</td>\n      <td>0</td>\n      <td>4</td>\n      <td>10</td>\n      <td>0.0</td>\n      <td>0.00</td>\n      <td>1.0</td>\n      <td>1.0</td>\n      <td>0.25</td>\n      <td>1.00</td>\n      <td>1.00</td>\n      <td>255</td>\n      <td>21</td>\n      <td>0.08</td>\n      <td>0.03</td>\n      <td>0.00</td>\n      <td>0.00</td>\n      <td>0.00</td>\n      <td>0.0</td>\n      <td>0.44</td>\n      <td>1.00</td>\n      <td>mscan</td>\n    </tr>\n  </tbody>\n</table>\n<p>22544 rows × 41 columns</p>\n</div>"
     },
     "execution_count": 77,
     "metadata": {},
     "output_type": "execute_result"
    }
   ],
   "source": [
    "if EXPORT_DATASETS:\n",
    "    df_test_original.to_csv('EvalResources/ProcessedDatasets/x_test_full.txt', index=False)\n",
    "    np.save('EvalResources/ProcessedDatasets/y_test_full', y_test)\n",
    "    \n",
    "df_test_original"
   ],
   "metadata": {
    "collapsed": false,
    "ExecuteTime": {
     "end_time": "2024-02-25T17:46:23.163011700Z",
     "start_time": "2024-02-25T17:46:23.042293900Z"
    }
   }
  },
  {
   "cell_type": "code",
   "execution_count": 78,
   "metadata": {
    "ExecuteTime": {
     "end_time": "2024-02-25T17:46:23.423607700Z",
     "start_time": "2024-02-25T17:46:23.070544900Z"
    }
   },
   "outputs": [
    {
     "data": {
      "text/plain": "['apache2',\n 'httptunnel',\n 'mailbomb',\n 'mscan',\n 'named',\n 'processtable',\n 'ps',\n 'saint',\n 'sendmail',\n 'snmpgetattack',\n 'snmpguess',\n 'sqlattack',\n 'udpstorm',\n 'worm',\n 'xlock',\n 'xsnoop',\n 'xterm']"
     },
     "execution_count": 78,
     "metadata": {},
     "output_type": "execute_result"
    }
   ],
   "source": [
    "new_attack = []\n",
    "for i in df_test_original['label'].value_counts().index.tolist()[1:]:\n",
    "    if i not in df_train_original['label'].value_counts().index.tolist()[1:]:\n",
    "        new_attack.append(i)\n",
    "        \n",
    "new_attack.sort()\n",
    "new_attack"
   ]
  },
  {
   "cell_type": "code",
   "execution_count": 79,
   "metadata": {
    "ExecuteTime": {
     "end_time": "2024-02-25T17:46:23.548700400Z",
     "start_time": "2024-02-25T17:46:23.296715500Z"
    }
   },
   "outputs": [],
   "source": [
    "index_of_new_attacks = []\n",
    "\n",
    "for i in range(len(df_test_original)):\n",
    "    if df_test_original['label'][i] in new_attack:\n",
    "        index_of_new_attacks.append(df_test_original.index[i])"
   ]
  },
  {
   "cell_type": "code",
   "execution_count": 80,
   "outputs": [
    {
     "data": {
      "text/plain": "3750"
     },
     "execution_count": 80,
     "metadata": {},
     "output_type": "execute_result"
    }
   ],
   "source": [
    "len(index_of_new_attacks)"
   ],
   "metadata": {
    "collapsed": false,
    "ExecuteTime": {
     "end_time": "2024-02-25T17:46:23.573935300Z",
     "start_time": "2024-02-25T17:46:23.397281300Z"
    }
   }
  },
  {
   "cell_type": "code",
   "execution_count": 81,
   "metadata": {
    "ExecuteTime": {
     "end_time": "2024-02-25T17:46:23.577936300Z",
     "start_time": "2024-02-25T17:46:23.406035700Z"
    }
   },
   "outputs": [
    {
     "data": {
      "text/plain": "['apache2',\n 'httptunnel',\n 'mailbomb',\n 'mscan',\n 'named',\n 'processtable',\n 'ps',\n 'saint',\n 'sendmail',\n 'snmpgetattack',\n 'snmpguess',\n 'sqlattack',\n 'udpstorm',\n 'worm',\n 'xlock',\n 'xsnoop',\n 'xterm',\n 'normal']"
     },
     "execution_count": 81,
     "metadata": {},
     "output_type": "execute_result"
    }
   ],
   "source": [
    "new_attack.append('normal')\n",
    "new_attack"
   ]
  },
  {
   "cell_type": "code",
   "execution_count": 82,
   "metadata": {
    "ExecuteTime": {
     "end_time": "2024-02-25T17:46:23.705829800Z",
     "start_time": "2024-02-25T17:46:23.443008600Z"
    }
   },
   "outputs": [],
   "source": [
    "index_of_old_attacks = []\n",
    "\n",
    "for i in range(len(df_test_original)):\n",
    "    if df_test_original['label'][i] not in new_attack:\n",
    "        index_of_old_attacks.append(df_test_original.index[i])"
   ]
  },
  {
   "cell_type": "code",
   "execution_count": 83,
   "metadata": {
    "ExecuteTime": {
     "end_time": "2024-02-25T17:46:23.734014100Z",
     "start_time": "2024-02-25T17:46:23.520695700Z"
    }
   },
   "outputs": [
    {
     "name": "stdout",
     "output_type": "stream",
     "text": [
      "Number of new attacks in the test set:  3750\n",
      "Number of new attacks detected by the classifiers:  1472\n",
      "Proportion of new attacks detected:  0.39253333333333335\n"
     ]
    }
   ],
   "source": [
    "print('Number of new attacks in the test set: ', result[index_of_new_attacks].shape[0])\n",
    "print('Number of new attacks detected by the classifiers: ', result[index_of_new_attacks].sum())\n",
    "print('Proportion of new attacks detected: ', result[index_of_new_attacks].sum()/result[index_of_new_attacks].shape[0])"
   ]
  },
  {
   "cell_type": "code",
   "execution_count": 84,
   "metadata": {
    "ExecuteTime": {
     "end_time": "2024-02-25T17:46:23.737846400Z",
     "start_time": "2024-02-25T17:46:23.527626600Z"
    }
   },
   "outputs": [
    {
     "name": "stdout",
     "output_type": "stream",
     "text": [
      "Number of old attacks in the test set:  9083\n",
      "Number of old attacks detected by the classifiers:  7814\n",
      "Proportion of old attacks detected:  0.8602884509523285\n"
     ]
    }
   ],
   "source": [
    "print('Number of old attacks in the test set: ', result[index_of_old_attacks].shape[0])\n",
    "print('Number of old attacks detected by the classifiers: ', result[index_of_old_attacks].sum())\n",
    "print('Proportion of old attacks detected: ', result[index_of_old_attacks].sum()/result[index_of_old_attacks].shape[0])"
   ]
  },
  {
   "cell_type": "markdown",
   "metadata": {},
   "source": [
    "### Evaluate single attack types"
   ]
  },
  {
   "cell_type": "code",
   "execution_count": 85,
   "metadata": {
    "ExecuteTime": {
     "end_time": "2024-02-25T17:46:23.811395700Z",
     "start_time": "2024-02-25T17:46:23.541393100Z"
    }
   },
   "outputs": [
    {
     "name": "stdout",
     "output_type": "stream",
     "text": [
      "Evaluation split into single attack type:\n",
      "Number of dos attacks:  7460\n",
      "Number of detected attacks:  5772\n",
      "Ratio of detection:  0.7737265415549598\n",
      "Number of probe attacks:  2421\n",
      "Number of detected attacks:  2083\n",
      "Ratio of detection:  0.8603882693102024\n",
      "Number of r2l attacks:  2885\n",
      "Number of detected attacks:  1366\n",
      "Ratio of detection:  0.4734835355285962\n",
      "Number of u2r attacks:  67\n",
      "Number of detected attacks:  65\n",
      "Ratio of detection:  0.9701492537313433\n"
     ]
    }
   ],
   "source": [
    "# load test set\n",
    "df_test = pd.read_csv('EvalResources/KDDTest+.txt', sep=\",\", header=None, skipinitialspace = True)\n",
    "df_test = df_test[df_test.columns[:-1]]\n",
    "df_test.columns = titles.to_list()\n",
    "y_test = df_test['label']\n",
    "df_test = df_test.drop(['num_outbound_cmds'],axis=1)\n",
    "df_test_original = df_test\n",
    "df = df_test_original\n",
    "\n",
    "dos_index = df.index[(df['label'].isin(dos_attacks))].tolist()\n",
    "probe_index = df.index[(df['label'].isin(probe_attacks))].tolist()\n",
    "r2l_index = df.index[(df['label'].isin(r2l_attacks))].tolist()\n",
    "u2r_index = df.index[(df['label'].isin(u2r_attacks))].tolist()\n",
    "\n",
    "print('Evaluation split into single attack type:')\n",
    "print(\"Number of dos attacks: \", result[dos_index].shape[0])\n",
    "print(\"Number of detected attacks: \", result[dos_index].sum())\n",
    "print(\"Ratio of detection: \", result[dos_index].sum()/result[dos_index].shape[0])\n",
    "\n",
    "print(\"Number of probe attacks: \", result[probe_index].shape[0])\n",
    "print(\"Number of detected attacks: \", result[probe_index].sum())\n",
    "print(\"Ratio of detection: \", result[probe_index].sum()/result[probe_index].shape[0])\n",
    "\n",
    "print(\"Number of r2l attacks: \", result[r2l_index].shape[0])\n",
    "print(\"Number of detected attacks: \", result[r2l_index].sum())\n",
    "print(\"Ratio of detection: \", result[r2l_index].sum()/result[r2l_index].shape[0])\n",
    "\n",
    "print(\"Number of u2r attacks: \", result[u2r_index].shape[0])\n",
    "print(\"Number of detected attacks: \", result[u2r_index].sum())\n",
    "print(\"Ratio of detection: \", result[u2r_index].sum()/result[u2r_index].shape[0])"
   ]
  }
 ],
 "metadata": {
  "kernelspec": {
   "display_name": "Python 3",
   "language": "python",
   "name": "python3"
  },
  "language_info": {
   "codemirror_mode": {
    "name": "ipython",
    "version": 3
   },
   "file_extension": ".py",
   "mimetype": "text/x-python",
   "name": "python",
   "nbconvert_exporter": "python",
   "pygments_lexer": "ipython3",
   "version": "3.8.3"
  }
 },
 "nbformat": 4,
 "nbformat_minor": 4
}
