{
 "cells": [
  {
   "cell_type": "markdown",
   "source": [
    "# Hyperparameter Tuning:\n",
    "\n",
    "The process of adjusting the _hyperparameters_ of a machine learning model to enhance its performance is known as hyperparameter tuning. Hyperparameters, which are parameters governing the model's training process but not learned from the data, are typically manually configured during the design phase and closely tied to the specific task.\n",
    "\n",
    "Selection of the optimal hyperparameters is based on the desired system output, with specific metrics utilized to assess its real-time behavior. While metric selection varies depending on the specific context and application, some common metrics employed in classification problems include accuracy, precision, recall, and the F1 score.\n",
    "\n",
    "Hyperparameter tuning, or optimization, can be categorized as either SOHT (Single Objective Hyperparameters Tuning) or MOHT (Multiple-Objectives Hyperparameters Tuning). In SOHT, the emphasis is on optimizing a single objective, such as model accuracy. Conversely, in multi-objective hyperparameter tuning (MOHT), hyperparameters are optimized to satisfy multiple, often conflicting objectives. MOHT can be accomplished through various approaches, with the option of consolidating multiple objectives into a single one sometimes proving to be a viable strategy.\n",
    "\n",
    "MOHT is useful in situations where we want to balance different performance metrics, such as accuracy, precision, recall, and training time. In the context of an IDS, we may want to optimize the model to reduce the number of false negatives, compared to the number of false positives that will not impact the security of the network.\n",
    "\n",
    "Some examples of SOHT can be:\n",
    "- Reduce the number of false negatives\n",
    "- Keep prediction time as low as possible\n",
    "\n",
    "Some examples of MOHT can be:\n",
    "- Optimizing a machine learning model for both accuracy and fairness.\n",
    "- Optimizing a machine learning model for both accuracy and speed.\n",
    "- Optimizing a machine learning model for both accuracy and low CPU usage.\n",
    "- Optimizing a machine learning model for low false negatives and high recall.\n",
    "\n",
    "### More on Hyperparameters Tuning\n",
    "\n",
    "In machine learning models like the Naive Bayes classifier and SVM, hyperparameters are settings that are not learned from the data but are crucial for model performance. Manually tuning these hyperparameters can be time-consuming and might not lead to optimal results. Self-tuning hyperparameters involve mechanisms that automatically find the best hyperparameter settings for your models during the planning phase of the MAPE-K loop. Here's how it can be implemented:\n",
    "\n",
    "- **Bayesian Optimization**: It's a probabilistic model-based approach that builds a surrogate model of the hyperparameter-performance relationship. It then uses an acquisition function to decide which hyperparameters to try next. Over time, Bayesian optimization adapts to discover the hyperparameters that yield the best performance.\n",
    "\n",
    "- **Grid Search with Evaluation**: You can set up a grid search where different hyperparameters are systematically tested within predefined ranges. Computationally expensive. In the planning phase, the system can perform a grid search with occasional model evaluation to find the best hyperparameters.\n",
    "\n",
    "- **Random Search**: Random combinations of hyperparameters are evaluated. Random search can be less intensive than grid search and may lead to good hyperparameter choices.\n",
    "\n",
    "Hyperparameters tuning and Cross Validation (CV) are strictly correlated.\n",
    "\n",
    "**Cross-Validation**: Cross-validation is a technique used to assess the performance and generalization ability of a machine learning model. It involves dividing the dataset into multiple subsets (known as _folds_) and iteratively training and testing the model using different combinations of these folds.\n",
    "\n",
    "**Hyperparameter Tuning within Cross-Validation**: To find the best hyperparameters for a model, it's common to perform hyperparameter tuning within each fold of a cross-validation procedure. In this setup, you search for the best hyperparameters while training on the training portion of the current fold and then evaluate the model's performance on the validation portion of the fold.\n",
    "This process is repeated for each fold, and the hyperparameters that yield the best average performance across the folds are selected as the final hyperparameters for the model. This approach ensures that the selected hyperparameters generalize well to different data partitions.\n",
    "\n",
    "# Hyperparameters tuning and self-adaptivity\n",
    "\n",
    "## Monitor Phase:\n",
    "\n",
    "Collect data from the IDS's operations on the KDDTest+ dataset first, and then on synthetic network traffic. This data should include information on detection results (e.g., true positives, false negatives), response times, and resource utilization. From the collected data, define performance metrics that are meaningful for the IDS. Common metrics include detection accuracy, false positive rate, false negative rate, and response time. These have already been selected for this specific IDS, but additional ones can be used to identify new trends in the system.\n",
    "In the Monitoring phase, the IDS continuously collects data about network traffic, system performance and security incidents.\n",
    "Also gather data on the current threat landscape, including emerging threats, attack patterns, and vulnerabilities.\n",
    "Monitor the computational resources available.\n",
    "\n",
    "#### What to monitor\n",
    "\n",
    "To detect the actual need for self-adaptation, metrics need to be identified to evaluate how _up-to-date_ the system is. These metrics are simple measurements that will be fed to the _analysis_ component that will identify if changes in trends may require adaptations. The following is a non-exhaustive list of what can be monitored in the system:\n",
    "\n",
    "1. **Performance metrics**: evaluate how the systems perform in terms of the actual intrusion detection.\n",
    "    - **Detection accuracy**: overall accuracy of the IDS.\n",
    "    - **Confusion matrix**: a representation of the positives and negatives [TP FN / FP TN]\n",
    "    - **False (True) positives**: rate at which the IDS produce false (true) alarms.\n",
    "    - **False (True) negatives**: rate at which che IDS marks traffic as 'normal' correctly (incorrectly).\n",
    "    - **Response time**: measures the time it takes for the IDS to produce a prediction.\n",
    "    - **Training time**: how long it takes for the classifier to be trained from data.\n",
    "    - **Model stability**: This metric is used to ensure the function of the performance tends to be constant in time. A drop of performance is alarming.\n",
    "\n",
    "2. **Feedback from analysts**: all the metrics above can be updated in complete autonomy in testing, but in real life applications, feedback will come from the classifiers themselves, as well as from analysts that manually classify misclassified connections.\n",
    "\n",
    "3. **Network data and traffic**: evaluate the properties of the incoming traffic.\n",
    "    - **Data distribution**: monitor the distribution of network data, including traffic patterns, protocols, attack prevalence. High volumes of data may require higher response times to ensure the IDS does not behave as the bottleneck of the network.\n",
    "    - **Data quality**: assess the quality of the data collected, inconsistencies or preprocessing problems. This may be useful to identify when the IDS is lacking accuracy or when problems happen before the classification process.\n",
    "4. **Hardware and software infrastructures**: evaluate the properties of the infrastructure in which the IDS operates.\n",
    "    - **Resource availability**: keep track of the computational resources, CPU, GPU etc.\n",
    "5. **Feature engineering**: periodically evaluate the relevance of the features used for detection and adapt the feature set as needed.\n",
    "6. **Thresholds**: monitor if thresholds have been changed and thus require adaptation.\n",
    "7. **Train set**: changes in the structure of the train set can be identified. Changes like the _number of features_ and the _number of samples_ which can also be linked to the changes in the features' quality.\n",
    "\n",
    "### Analyze Phase:\n",
    "\n",
    "**Analyze component**: this is a fundamental component of the self-adaptive loop in the IDS's MAPE-K architecture. In this phase, the system continuously evaluates the performance of the IDS and collects valuable insights from the data and feedback. The primary tasks of these phases include:\n",
    "\n",
    "- Compare _baseline_ values (set during design phase) of the metrics with current values to identify possible trends and evaluate if certain thresholds have been surpassed.\n",
    "- Evaluate if changes in the datasets lead to new optimal features.\n",
    "- Evaluate if the dataset itself was changed significantly.\n",
    "- Compare traffic volumes, patterns or other properties of the incoming traffic with historical patterns to evaluate if a drift in traffic distribution is taking place. \n",
    "- Evaluate the resource utilization of hardware/software components and identify possible critical situations.\n",
    "- Evaluate if too many resources are being used compared to baseline values.\n",
    "\n",
    "**A specific analysis case**: When traffic volumes change or analysts provide feedback the IDS may discover new attacks; if that's the case, evaluate if the expansion of the IDS and subsequent training of a new layer may be useful.\n",
    "\n",
    "### Plan Phase:\n",
    "\n",
    "The bulk of the self-adaptation happens here. In this phase, the issues identified in the _analysis_ phase are translated in objectives to reach, then actions to take on the IDS.\n",
    "\n",
    "1. **Target identification**:\n",
    "The system is composed of multiple layers, the first thing is to understand if both layers need tuning or if the changes involve only one of the two.\n",
    "A single adaptation may be needed in cases where a performance drop can be linked to one single layer or time to process increases only in one of the two. However, in real applications the incorrect classification happens only at the end of the pipeline. Another instance in which single layer optimization may be needed is it a single layer uses too many resources or time to process the samples.\n",
    "In case of dataset expansions, target identifications will be harder since new preprocessing will most likely be needed and subsequent fine-tuning of the whole IDS may be necessary.\n",
    "\n",
    "2. **Mapping**:\n",
    "First, a **metric <--> hyperparameter** mapping needs to be done; assigning each metric to one or more hyperparameters allows understanding how an increase/decrease of a numeric hyperparameter, or the change in categorical value, will affect the performance of the classifier. For example, the drastic reduction of support vectors number in an SVM will most likely lead to a decrease in precision. Identify **what** hyperparameter to tweak is the first step in performing precise hyperparameter tuning.\n",
    "\n",
    "3. **Objective(s) identification**:\n",
    "Understanding the system state that needs to be reached is the key to achieving good self-adaptation. Performing a **metric change <--> objective** mapping will be required to understand the starting and ending point of the adaptation process. First we need to evaluate what direction we want the system to head to, and then code the direction as a finite set of objectives to feed the tuning function(s).\n",
    "\n",
    "4. **Hyperparameter tuning**:\n",
    "Once the objectives have been identified, SOHT or MOHT is performed as well as cross validation to evaluate the goodness of these new hyperparameters in our system. The output of this process is a set of hyperparameters.\n",
    "\n",
    "### Execute Phase:\n",
    "**Model Reconfiguration**: the IDS should reconfigure its models based on the chosen hyperparameters. It may involve retraining the models using the KDDTest+ dataset with the optimized set of hyperparameters.\n",
    "After the models have been reconfigured, the Monitor phase should continue to detect the evolution of the metrics and enable new iterations of the MAPE-K loop.\n",
    "\n",
    "### Automation:\n",
    "Automate the self-adaptation process. The IDS should be able to perform most of these steps automatically without requiring manual intervention. However, manual intervention in IDS is unavoidable, human supervision can be reduced but not eliminated:\n",
    "\n",
    "1. Operators annotate intrusions when the system encounters difficulties in classifying specific cases or when it mistakenly labels anomalies. This annotation process helps in creating **new data elements** that can be incorporated into the dataset.\n",
    "2. Operators can **manually trigger** the self-adaptive loop.\n",
    "3. Adaptation rules such as **thresholds for accuracy** or **confusion matrix** values can be manually tweaked.\n",
    "4. _Baseline values_ for the thresholds are manually modified, the triggers for self-adaptation change after manual intervention.\n",
    "\n",
    "## When to self-adapt\n",
    "\n",
    "Here's a non-exhaustive list of scenarios in which the self-adaptation loop will be triggered:\n",
    "\n",
    "1. **Initial model training**: when the IDS is built, the best settings need to be found according to the data present.\n",
    "2. **Adapting to new threats**: as new attacks are documented and added to the knowledge base, the quality of the samples, their representation, or their volume may change. In this context new parameters may be necessary.\n",
    "3. **Changing network conditions**: fluctuations in the volume of data can impact the IDS's performance, traffic intensifies or slows down. Hyperparameter tuning may help the system adapt to new conditions.\n",
    "4. **Data drift**: Over time, the concept or distribution of normal and malicious network traffic may shift. This drift may be gradual but still requires adapting via tuning.\n",
    "5. **Model updates**: When (and if) the models deployed in the IDS change, new hyperparameters tuning is necessary. A new model choice requires new considerations.\n",
    "6. **Performance degradation**: general decrease of performance due to changes of threats, data patterns.\n",
    "7. **Feature engineering**: new features are introduced/modified, new hyperparameters may perform better under these conditions.\n",
    "\n"
   ],
   "metadata": {
    "collapsed": false
   }
  },
  {
   "cell_type": "code",
   "execution_count": 273,
   "metadata": {
    "ExecuteTime": {
     "end_time": "2023-10-23T13:26:31.303636800Z",
     "start_time": "2023-10-23T13:26:31.102920600Z"
    }
   },
   "outputs": [],
   "source": [
    "import numpy as np \n",
    "import pandas as pd\n",
    "import copy\n",
    "import pickle\n",
    "import joblib\n",
    "\n",
    "from sklearn.preprocessing import OneHotEncoder\n",
    "from sklearn.preprocessing import MinMaxScaler\n",
    "from sklearn.model_selection import train_test_split\n",
    "\n",
    "from sklearn.decomposition import PCA\n",
    "from imblearn.under_sampling import RandomUnderSampler as under_sam\n",
    "\n",
    "from sklearn.naive_bayes import GaussianNB\n",
    "from sklearn.svm import SVC\n",
    "from sklearn.metrics import confusion_matrix, accuracy_score, f1_score\n",
    "from sklearn.metrics import matthews_corrcoef, precision_score, recall_score\n",
    "from sklearn.ensemble import RandomForestClassifier"
   ]
  },
  {
   "cell_type": "markdown",
   "source": [
    "### ICFS function\n",
    "Takes a dataframe as parameter and saves to file all the features necessary to describe DoS+Probe and U2R+R2L"
   ],
   "metadata": {
    "collapsed": false
   }
  },
  {
   "cell_type": "code",
   "execution_count": 274,
   "outputs": [],
   "source": [
    "def pearson_correlated_features(x, y, threshold):\n",
    "    y['target'] = y['target'].astype(int)\n",
    "\n",
    "    for p in x.columns:\n",
    "        x[p] = x[p].astype(float)\n",
    "\n",
    "    # Ensure y is a DataFrame for consistency\n",
    "    if isinstance(y, pd.Series):\n",
    "        y = pd.DataFrame(y, columns=['target'])\n",
    "\n",
    "    # Calculate the Pearson's correlation coefficients between features and the target variable(s)\n",
    "    corr_matrix = x.corrwith(y['target'])\n",
    "\n",
    "    # Select features with correlations above the threshold\n",
    "    selected_features = x.columns[corr_matrix.abs() > threshold].tolist()\n",
    "\n",
    "    return selected_features"
   ],
   "metadata": {
    "collapsed": false,
    "ExecuteTime": {
     "end_time": "2023-10-23T13:26:31.382233100Z",
     "start_time": "2023-10-23T13:26:31.113976500Z"
    }
   }
  },
  {
   "cell_type": "code",
   "execution_count": 275,
   "outputs": [],
   "source": [
    "def compute_set_difference(df1, df2):\n",
    "    # Create a new DataFrame containing the set difference of the two DataFrames.\n",
    "    df_diff = df1[~df1.index.isin(df2.index)]\n",
    "    # Return the DataFrame.\n",
    "    return df_diff"
   ],
   "metadata": {
    "collapsed": false,
    "ExecuteTime": {
     "end_time": "2023-10-23T13:26:31.400481500Z",
     "start_time": "2023-10-23T13:26:31.121748100Z"
    }
   }
  },
  {
   "cell_type": "code",
   "execution_count": 276,
   "outputs": [],
   "source": [
    "def perform_icfs(x_train):\n",
    "    # now ICFS only on the numerical features\n",
    "    num_train = copy.deepcopy(x_train)\n",
    "    del num_train['protocol_type']\n",
    "    del num_train['service']\n",
    "    del num_train['flag']\n",
    "\n",
    "    target = pd.DataFrame()\n",
    "    target['target'] = np.array([1 if x != 'normal' else 0 for x in num_train['label']])\n",
    "    num_train = pd.concat([num_train, target], axis=1)\n",
    "\n",
    "    # These are how attacks are categorized in the trainset\n",
    "    dos_list = ['back', 'land', 'neptune', 'pod', 'smurf', 'teardrop']\n",
    "    probe_list = ['ipsweep', 'portsweep', 'satan', 'nmap']\n",
    "    u2r_list = ['loadmodule', 'perl', 'rootkit', 'buffer_overflow']\n",
    "    r2l_list = ['ftp_write', 'guess_passwd', 'imap', 'multihop', 'phf', 'spy', 'warezclient', 'warezmaster']\n",
    "    normal = ['normal']\n",
    "\n",
    "    # useful sub-sets\n",
    "    x_normal = num_train[num_train['label'].isin(normal)]\n",
    "    x_u2r = num_train[num_train['label'].isin(u2r_list)]\n",
    "    x_r2l = num_train[num_train['label'].isin(r2l_list)]\n",
    "    x_dos = num_train[num_train['label'].isin(dos_list)]\n",
    "    x_probe = num_train[num_train['label'].isin(probe_list)]\n",
    "\n",
    "    # start the ICFS with l1\n",
    "\n",
    "    # features for dos\n",
    "    dos = copy.deepcopy(num_train)\n",
    "    del dos['target']\n",
    "    y = np.array([1 if x in dos_list else 0 for x in dos['label']])\n",
    "    y_dos = pd.DataFrame(y, columns=['target'])\n",
    "    del dos['label']\n",
    "    dos_all = pearson_correlated_features(dos, y_dos, 0.1)\n",
    "    print(dos_all)\n",
    "\n",
    "    # features for probe\n",
    "    probe = copy.deepcopy(num_train)\n",
    "    del probe['target']\n",
    "    y = np.array([1 if x in probe_list else 0 for x in probe['label']])\n",
    "    y_probe = pd.DataFrame(y, columns=['target'])\n",
    "    del probe['label']\n",
    "    probe_all = pearson_correlated_features(probe, y_probe, 0.1)\n",
    "    print(probe_all)\n",
    "\n",
    "    # intersect for the optimal features\n",
    "    set_dos = set(dos_all)\n",
    "    set_probe = set(probe_all)\n",
    "\n",
    "    comm_features_l1 = set_probe & set_dos\n",
    "\n",
    "    print('common features to train l1: ', comm_features_l1)\n",
    "\n",
    "    # now l2 needs the features to describe the difference between rare attacks and normal traffic\n",
    "\n",
    "    # features for u2r\n",
    "    u2r = pd.concat([x_u2r, x_normal], axis=0)\n",
    "    del u2r['target']\n",
    "    y = np.array([1 if x in u2r_list else 0 for x in u2r['label']])\n",
    "    y_u2r = pd.DataFrame(y, columns=['target'])\n",
    "    del u2r['label']\n",
    "    u2r_all = pearson_correlated_features(u2r, y_u2r, 0.01)\n",
    "    print(u2r_all)\n",
    "\n",
    "    # features for r2l\n",
    "    r2l = pd.concat([x_r2l, x_normal], axis=0)\n",
    "    del r2l['target']\n",
    "    y = np.array([1 if x in r2l_list else 0 for x in r2l['label']])\n",
    "    y_r2l = pd.DataFrame(y, columns=['target'])\n",
    "    del r2l['label']\n",
    "    r2l_all = pearson_correlated_features(r2l, y_r2l, 0.01)\n",
    "    print(r2l_all)\n",
    "\n",
    "    # intersect for the optimal features\n",
    "    set_r2l = set(r2l_all)\n",
    "    set_u2r = set(u2r_all)\n",
    "\n",
    "    comm_features_l2 = set_r2l & set_u2r\n",
    "    # print('Common features to train l2: ', len(common_features_l2), common_features_l2)\n",
    "\n",
    "    with open('NSL-KDD Files/NSL_features_l1.txt', 'w') as g:\n",
    "        for a, x in enumerate(comm_features_l1):\n",
    "            if a < len(comm_features_l1) - 1:\n",
    "                g.write(x + ',' + '\\n')\n",
    "            else:\n",
    "                g.write(x)\n",
    "\n",
    "    # read the common features from file\n",
    "    with open('NSL-KDD Files/NSL_features_l2.txt', 'w') as g:\n",
    "        for a, x in enumerate(comm_features_l2):\n",
    "            if a < len(comm_features_l2) - 1:\n",
    "                g.write(x + ',' + '\\n')\n",
    "            else:\n",
    "                g.write(x)"
   ],
   "metadata": {
    "collapsed": false,
    "ExecuteTime": {
     "end_time": "2023-10-23T13:26:31.843695900Z",
     "start_time": "2023-10-23T13:26:31.130209300Z"
    }
   }
  },
  {
   "cell_type": "markdown",
   "source": [
    "# Main implementation"
   ],
   "metadata": {
    "collapsed": false
   }
  },
  {
   "cell_type": "code",
   "execution_count": 277,
   "metadata": {
    "ExecuteTime": {
     "end_time": "2023-10-23T13:26:32.836366100Z",
     "start_time": "2023-10-23T13:26:31.147156400Z"
    }
   },
   "outputs": [],
   "source": [
    "# loading the train set\n",
    "df_train = pd.read_csv('NSL-KDD Original Datasets/KDDTrain+.txt', sep=\",\", header=None)\n",
    "df_train = df_train[df_train.columns[:-1]]  # tags column\n",
    "titles = pd.read_csv('NSL-KDD Original Datasets/Field Names.csv', header=None)\n",
    "label = pd.Series(['label'], index=[41])\n",
    "titles = pd.concat([titles[0], label])\n",
    "df_train.columns = titles.to_list()\n",
    "df_train = df_train.drop(['num_outbound_cmds'],axis=1)\n",
    "df_train_original = df_train\n",
    "# df_train_original"
   ]
  },
  {
   "cell_type": "code",
   "execution_count": 278,
   "metadata": {
    "ExecuteTime": {
     "end_time": "2023-10-23T13:26:32.852296600Z",
     "start_time": "2023-10-23T13:26:31.584929800Z"
    }
   },
   "outputs": [],
   "source": [
    "# load test set\n",
    "df_test = pd.read_csv('NSL-KDD Original Datasets/KDDTest+.txt', sep=\",\", header=None)\n",
    "df_test = df_test[df_test.columns[:-1]]\n",
    "df_test.columns = titles.to_list()\n",
    "df_test = df_test.drop(['num_outbound_cmds'],axis=1)\n",
    "df_test_original = df_test\n",
    "# df_test_original"
   ]
  },
  {
   "cell_type": "markdown",
   "source": [
    "### Execution Parameters"
   ],
   "metadata": {
    "collapsed": false
   }
  },
  {
   "cell_type": "code",
   "execution_count": 279,
   "outputs": [],
   "source": [
    "EXPORT_MODELS = 1\n",
    "EXPORT_DATASETS = 1\n",
    "EXPORT_PCA = 1\n",
    "EXPORT_ENCODERS = 1"
   ],
   "metadata": {
    "collapsed": false,
    "ExecuteTime": {
     "end_time": "2023-10-23T13:26:32.852296600Z",
     "start_time": "2023-10-23T13:26:31.691563Z"
    }
   }
  },
  {
   "cell_type": "markdown",
   "metadata": {},
   "source": [
    "### Perform ICFS if needed"
   ]
  },
  {
   "cell_type": "code",
   "execution_count": 280,
   "outputs": [],
   "source": [
    "# It is possible to compute the ICFS again\n",
    "\n",
    "# perform_icfs(df_train_original)"
   ],
   "metadata": {
    "collapsed": false,
    "ExecuteTime": {
     "end_time": "2023-10-23T13:26:32.852296600Z",
     "start_time": "2023-10-23T13:26:31.697115700Z"
    }
   }
  },
  {
   "cell_type": "markdown",
   "metadata": {},
   "source": [
    "# DoS + Probe classifier (NBC)"
   ]
  },
  {
   "cell_type": "code",
   "execution_count": 281,
   "outputs": [],
   "source": [
    "# list of single attacks \n",
    "dos_attacks = ['back', 'land', 'neptune', 'pod', 'smurf', 'teardrop', 'worm', 'apache2', 'mailbomb', 'processtable', 'udpstorm']\n",
    "probe_attacks = ['ipsweep', 'mscan', 'nmap', 'portsweep', 'saint', 'satan']\n",
    "r2l_attacks = ['guess_passwd', 'ftp_write', 'imap', 'phf', 'multihop', 'warezmaster',\n",
    "                'snmpguess', 'spy', 'warezclient', 'httptunnel', 'named', 'sendmail', 'snmpgetattack', 'xlock', 'xsnoop']\n",
    "u2r_attacks = ['buffer_overflow', 'loadmodule', 'perl', 'ps', 'rootkit', 'sqlattack', 'xterm'] \n",
    "\n",
    "# list of attack classes split according to detection layer\n",
    "dos_probe_list = ['back', 'land', 'neptune', 'pod', 'smurf', 'teardrop', 'ipsweep', 'nmap', 'portsweep', 'satan']\n",
    "dos_probe_test = ['apache2', 'mailbomb', 'processtable', 'udpstorm', 'mscan', 'saint']\n",
    "u2r_r2l_list = ['guess_passwd', 'ftp_write', 'imap', 'phf', 'multihop', 'warezmaster',\n",
    "                'snmpguess', 'spy', 'warezclient', 'buffer_overflow', 'loadmodule', 'rootkit', 'perl']\n",
    "u2r_r2l_test = ['httptunnel', 'named', 'sendmail', 'snmpgetattack', 'xlock', 'xsnoop', 'ps', 'xterm', 'sqlattack']\n",
    "normal_list = ['normal']\n",
    "categorical_features = ['protocol_type', 'service', 'flag']\n",
    "\n",
    "# load the features obtained with ICFS for both layer 1 and layer 2\n",
    "with open('NSL-KDD Files/NSL_features_l1.txt', 'r') as f:\n",
    "    common_features_l1 = f.read().split(',')\n",
    "\n",
    "with open('NSL-KDD Files/NSL_features_l2.txt', 'r') as f:\n",
    "    common_features_l2 = f.read().split(',')\n",
    "    \n",
    "df_train_and_validate = copy.deepcopy(df_train_original)\n",
    "df_test = copy.deepcopy(df_test_original)"
   ],
   "metadata": {
    "collapsed": false,
    "ExecuteTime": {
     "end_time": "2023-10-23T13:26:32.852296600Z",
     "start_time": "2023-10-23T13:26:31.705571500Z"
    }
   }
  },
  {
   "cell_type": "code",
   "execution_count": 282,
   "metadata": {
    "ExecuteTime": {
     "end_time": "2023-10-23T13:26:32.930332400Z",
     "start_time": "2023-10-23T13:26:31.728010800Z"
    }
   },
   "outputs": [
    {
     "data": {
      "text/plain": "        duration protocol_type   service  flag  src_bytes  dst_bytes  land  \\\n0              0           tcp      http    SF        214      14939     0   \n1              0           tcp   private    S0          0          0     0   \n2              0           tcp      http   REJ          0          0     0   \n3              0           tcp      http    SF        257        259     0   \n4              0           udp     other    SF        516          4     0   \n...          ...           ...       ...   ...        ...        ...   ...   \n100773         0           tcp      echo  RSTO          0          0     0   \n100774         0           tcp    telnet    S0          0          0     0   \n100775         0           tcp      http   REJ          0          0     0   \n100776         0           tcp      http    SF        309       4281     0   \n100777         0           udp  domain_u    SF         43         70     0   \n\n        wrong_fragment  urgent  hot  ...  dst_host_count  dst_host_srv_count  \\\n0                    0       0    0  ...              52                 255   \n1                    0       0    0  ...             255                   2   \n2                    0       0    0  ...             255                   8   \n3                    0       0    0  ...             255                 255   \n4                    0       0    0  ...             255                 255   \n...                ...     ...  ...  ...             ...                 ...   \n100773               0       0    0  ...             255                   4   \n100774               0       0    0  ...             255                   4   \n100775               0       0    0  ...             255                   6   \n100776               0       0    0  ...              21                 255   \n100777               0       0    0  ...             255                 254   \n\n        dst_host_same_srv_rate  dst_host_diff_srv_rate  \\\n0                         1.00                    0.00   \n1                         0.01                    0.06   \n2                         0.03                    0.06   \n3                         1.00                    0.00   \n4                         1.00                    0.00   \n...                        ...                     ...   \n100773                    0.02                    0.09   \n100774                    0.02                    0.07   \n100775                    0.02                    0.07   \n100776                    1.00                    0.00   \n100777                    1.00                    0.01   \n\n        dst_host_same_src_port_rate  dst_host_srv_diff_host_rate  \\\n0                              0.02                         0.06   \n1                              0.00                         0.00   \n2                              0.00                         0.00   \n3                              0.00                         0.00   \n4                              1.00                         0.00   \n...                             ...                          ...   \n100773                         0.00                         0.00   \n100774                         0.01                         0.00   \n100775                         0.00                         0.00   \n100776                         0.05                         0.05   \n100777                         0.01                         0.00   \n\n        dst_host_serror_rate  dst_host_srv_serror_rate  dst_host_rerror_rate  \\\n0                        0.0                       0.0                   0.0   \n1                        1.0                       1.0                   0.0   \n2                        0.0                       0.0                   1.0   \n3                        0.0                       0.0                   0.0   \n4                        0.0                       0.0                   0.0   \n...                      ...                       ...                   ...   \n100773                   0.0                       0.0                   1.0   \n100774                   1.0                       1.0                   0.0   \n100775                   0.0                       0.0                   1.0   \n100776                   0.0                       0.0                   0.0   \n100777                   0.0                       0.0                   0.0   \n\n        dst_host_srv_rerror_rate  \n0                            0.0  \n1                            0.0  \n2                            1.0  \n3                            0.0  \n4                            0.0  \n...                          ...  \n100773                       1.0  \n100774                       0.0  \n100775                       1.0  \n100776                       0.0  \n100777                       0.0  \n\n[100778 rows x 40 columns]",
      "text/html": "<div>\n<style scoped>\n    .dataframe tbody tr th:only-of-type {\n        vertical-align: middle;\n    }\n\n    .dataframe tbody tr th {\n        vertical-align: top;\n    }\n\n    .dataframe thead th {\n        text-align: right;\n    }\n</style>\n<table border=\"1\" class=\"dataframe\">\n  <thead>\n    <tr style=\"text-align: right;\">\n      <th></th>\n      <th>duration</th>\n      <th>protocol_type</th>\n      <th>service</th>\n      <th>flag</th>\n      <th>src_bytes</th>\n      <th>dst_bytes</th>\n      <th>land</th>\n      <th>wrong_fragment</th>\n      <th>urgent</th>\n      <th>hot</th>\n      <th>...</th>\n      <th>dst_host_count</th>\n      <th>dst_host_srv_count</th>\n      <th>dst_host_same_srv_rate</th>\n      <th>dst_host_diff_srv_rate</th>\n      <th>dst_host_same_src_port_rate</th>\n      <th>dst_host_srv_diff_host_rate</th>\n      <th>dst_host_serror_rate</th>\n      <th>dst_host_srv_serror_rate</th>\n      <th>dst_host_rerror_rate</th>\n      <th>dst_host_srv_rerror_rate</th>\n    </tr>\n  </thead>\n  <tbody>\n    <tr>\n      <th>0</th>\n      <td>0</td>\n      <td>tcp</td>\n      <td>http</td>\n      <td>SF</td>\n      <td>214</td>\n      <td>14939</td>\n      <td>0</td>\n      <td>0</td>\n      <td>0</td>\n      <td>0</td>\n      <td>...</td>\n      <td>52</td>\n      <td>255</td>\n      <td>1.00</td>\n      <td>0.00</td>\n      <td>0.02</td>\n      <td>0.06</td>\n      <td>0.0</td>\n      <td>0.0</td>\n      <td>0.0</td>\n      <td>0.0</td>\n    </tr>\n    <tr>\n      <th>1</th>\n      <td>0</td>\n      <td>tcp</td>\n      <td>private</td>\n      <td>S0</td>\n      <td>0</td>\n      <td>0</td>\n      <td>0</td>\n      <td>0</td>\n      <td>0</td>\n      <td>0</td>\n      <td>...</td>\n      <td>255</td>\n      <td>2</td>\n      <td>0.01</td>\n      <td>0.06</td>\n      <td>0.00</td>\n      <td>0.00</td>\n      <td>1.0</td>\n      <td>1.0</td>\n      <td>0.0</td>\n      <td>0.0</td>\n    </tr>\n    <tr>\n      <th>2</th>\n      <td>0</td>\n      <td>tcp</td>\n      <td>http</td>\n      <td>REJ</td>\n      <td>0</td>\n      <td>0</td>\n      <td>0</td>\n      <td>0</td>\n      <td>0</td>\n      <td>0</td>\n      <td>...</td>\n      <td>255</td>\n      <td>8</td>\n      <td>0.03</td>\n      <td>0.06</td>\n      <td>0.00</td>\n      <td>0.00</td>\n      <td>0.0</td>\n      <td>0.0</td>\n      <td>1.0</td>\n      <td>1.0</td>\n    </tr>\n    <tr>\n      <th>3</th>\n      <td>0</td>\n      <td>tcp</td>\n      <td>http</td>\n      <td>SF</td>\n      <td>257</td>\n      <td>259</td>\n      <td>0</td>\n      <td>0</td>\n      <td>0</td>\n      <td>0</td>\n      <td>...</td>\n      <td>255</td>\n      <td>255</td>\n      <td>1.00</td>\n      <td>0.00</td>\n      <td>0.00</td>\n      <td>0.00</td>\n      <td>0.0</td>\n      <td>0.0</td>\n      <td>0.0</td>\n      <td>0.0</td>\n    </tr>\n    <tr>\n      <th>4</th>\n      <td>0</td>\n      <td>udp</td>\n      <td>other</td>\n      <td>SF</td>\n      <td>516</td>\n      <td>4</td>\n      <td>0</td>\n      <td>0</td>\n      <td>0</td>\n      <td>0</td>\n      <td>...</td>\n      <td>255</td>\n      <td>255</td>\n      <td>1.00</td>\n      <td>0.00</td>\n      <td>1.00</td>\n      <td>0.00</td>\n      <td>0.0</td>\n      <td>0.0</td>\n      <td>0.0</td>\n      <td>0.0</td>\n    </tr>\n    <tr>\n      <th>...</th>\n      <td>...</td>\n      <td>...</td>\n      <td>...</td>\n      <td>...</td>\n      <td>...</td>\n      <td>...</td>\n      <td>...</td>\n      <td>...</td>\n      <td>...</td>\n      <td>...</td>\n      <td>...</td>\n      <td>...</td>\n      <td>...</td>\n      <td>...</td>\n      <td>...</td>\n      <td>...</td>\n      <td>...</td>\n      <td>...</td>\n      <td>...</td>\n      <td>...</td>\n      <td>...</td>\n    </tr>\n    <tr>\n      <th>100773</th>\n      <td>0</td>\n      <td>tcp</td>\n      <td>echo</td>\n      <td>RSTO</td>\n      <td>0</td>\n      <td>0</td>\n      <td>0</td>\n      <td>0</td>\n      <td>0</td>\n      <td>0</td>\n      <td>...</td>\n      <td>255</td>\n      <td>4</td>\n      <td>0.02</td>\n      <td>0.09</td>\n      <td>0.00</td>\n      <td>0.00</td>\n      <td>0.0</td>\n      <td>0.0</td>\n      <td>1.0</td>\n      <td>1.0</td>\n    </tr>\n    <tr>\n      <th>100774</th>\n      <td>0</td>\n      <td>tcp</td>\n      <td>telnet</td>\n      <td>S0</td>\n      <td>0</td>\n      <td>0</td>\n      <td>0</td>\n      <td>0</td>\n      <td>0</td>\n      <td>0</td>\n      <td>...</td>\n      <td>255</td>\n      <td>4</td>\n      <td>0.02</td>\n      <td>0.07</td>\n      <td>0.01</td>\n      <td>0.00</td>\n      <td>1.0</td>\n      <td>1.0</td>\n      <td>0.0</td>\n      <td>0.0</td>\n    </tr>\n    <tr>\n      <th>100775</th>\n      <td>0</td>\n      <td>tcp</td>\n      <td>http</td>\n      <td>REJ</td>\n      <td>0</td>\n      <td>0</td>\n      <td>0</td>\n      <td>0</td>\n      <td>0</td>\n      <td>0</td>\n      <td>...</td>\n      <td>255</td>\n      <td>6</td>\n      <td>0.02</td>\n      <td>0.07</td>\n      <td>0.00</td>\n      <td>0.00</td>\n      <td>0.0</td>\n      <td>0.0</td>\n      <td>1.0</td>\n      <td>1.0</td>\n    </tr>\n    <tr>\n      <th>100776</th>\n      <td>0</td>\n      <td>tcp</td>\n      <td>http</td>\n      <td>SF</td>\n      <td>309</td>\n      <td>4281</td>\n      <td>0</td>\n      <td>0</td>\n      <td>0</td>\n      <td>0</td>\n      <td>...</td>\n      <td>21</td>\n      <td>255</td>\n      <td>1.00</td>\n      <td>0.00</td>\n      <td>0.05</td>\n      <td>0.05</td>\n      <td>0.0</td>\n      <td>0.0</td>\n      <td>0.0</td>\n      <td>0.0</td>\n    </tr>\n    <tr>\n      <th>100777</th>\n      <td>0</td>\n      <td>udp</td>\n      <td>domain_u</td>\n      <td>SF</td>\n      <td>43</td>\n      <td>70</td>\n      <td>0</td>\n      <td>0</td>\n      <td>0</td>\n      <td>0</td>\n      <td>...</td>\n      <td>255</td>\n      <td>254</td>\n      <td>1.00</td>\n      <td>0.01</td>\n      <td>0.01</td>\n      <td>0.00</td>\n      <td>0.0</td>\n      <td>0.0</td>\n      <td>0.0</td>\n      <td>0.0</td>\n    </tr>\n  </tbody>\n</table>\n<p>100778 rows × 40 columns</p>\n</div>"
     },
     "execution_count": 282,
     "metadata": {},
     "output_type": "execute_result"
    }
   ],
   "source": [
    "# split in test and validation set for BOTH layers\n",
    "df_train_original, df_val_original = train_test_split(df_train_and_validate, test_size=0.2, random_state=42)\n",
    "\n",
    "# dataframes specifically for layer 1\n",
    "df_train = copy.deepcopy(df_train_original)\n",
    "df_val = copy.deepcopy(df_val_original)\n",
    "\n",
    "# set the target variables accordingly\n",
    "y_train = np.array([1 if x in (dos_attacks+probe_attacks) else 0 for x in df_train['label']])\n",
    "y_val = np.array([1 if x in (dos_attacks+probe_attacks) else 0 for x in df_val['label']])\n",
    "\n",
    "# this dataframe contains the whole train set \n",
    "df_train = df_train.drop(['label'],axis=1)\n",
    "df_train = df_train.reset_index().drop(['index'], axis=1)\n",
    "df_train"
   ]
  },
  {
   "cell_type": "code",
   "execution_count": 283,
   "outputs": [
    {
     "data": {
      "text/plain": "       duration protocol_type   service  flag  src_bytes  dst_bytes  land  \\\n0             0           udp  domain_u    SF         36          0     0   \n1             0           tcp      http    S0          0          0     0   \n2             0           tcp     pop_3    S0          0          0     0   \n3             0           tcp   private   REJ          0          0     0   \n4             0           tcp   private  RSTR          0          0     0   \n...         ...           ...       ...   ...        ...        ...   ...   \n25190         0           tcp      http    SF        199        944     0   \n25191         0          icmp     eco_i    SF          8          0     0   \n25192         0           tcp  ftp_data    SF      12983          0     0   \n25193         2           tcp      smtp    SF        813        329     0   \n25194         0           tcp   private    S0          0          0     0   \n\n       wrong_fragment  urgent  hot  ...  dst_host_count  dst_host_srv_count  \\\n0                   0       0    0  ...              67                 171   \n1                   0       0    0  ...             255                  44   \n2                   0       0    0  ...             255                  20   \n3                   0       0    0  ...             255                  27   \n4                   0       0    0  ...             134                   1   \n...               ...     ...  ...  ...             ...                 ...   \n25190               0       0    0  ...             255                 255   \n25191               0       0    0  ...               2                 129   \n25192               0       0    0  ...             140                   9   \n25193               0       0    0  ...             255                 141   \n25194               0       0    0  ...             255                  19   \n\n       dst_host_same_srv_rate  dst_host_diff_srv_rate  \\\n0                        1.00                    0.00   \n1                        0.17                    0.05   \n2                        0.08                    0.06   \n3                        0.11                    0.07   \n4                        0.01                    0.64   \n...                       ...                     ...   \n25190                    1.00                    0.00   \n25191                    1.00                    0.00   \n25192                    0.06                    0.04   \n25193                    0.55                    0.06   \n25194                    0.07                    0.06   \n\n       dst_host_same_src_port_rate  dst_host_srv_diff_host_rate  \\\n0                             1.00                         0.01   \n1                             0.01                         0.00   \n2                             0.00                         0.00   \n3                             0.00                         0.00   \n4                             0.64                         0.00   \n...                            ...                          ...   \n25190                         0.00                         0.00   \n25191                         1.00                         0.50   \n25192                         0.06                         0.00   \n25193                         0.00                         0.00   \n25194                         0.00                         0.00   \n\n       dst_host_serror_rate  dst_host_srv_serror_rate  dst_host_rerror_rate  \\\n0                      0.00                      0.00                  0.00   \n1                      1.00                      1.00                  0.00   \n2                      1.00                      1.00                  0.00   \n3                      0.00                      0.00                  1.00   \n4                      0.04                      0.00                  0.63   \n...                     ...                       ...                   ...   \n25190                  0.00                      0.00                  0.00   \n25191                  0.00                      0.00                  0.00   \n25192                  0.00                      0.00                  0.02   \n25193                  0.02                      0.02                  0.00   \n25194                  1.00                      1.00                  0.00   \n\n       dst_host_srv_rerror_rate  \n0                           0.0  \n1                           0.0  \n2                           0.0  \n3                           1.0  \n4                           1.0  \n...                         ...  \n25190                       0.0  \n25191                       0.0  \n25192                       0.0  \n25193                       0.0  \n25194                       0.0  \n\n[25195 rows x 40 columns]",
      "text/html": "<div>\n<style scoped>\n    .dataframe tbody tr th:only-of-type {\n        vertical-align: middle;\n    }\n\n    .dataframe tbody tr th {\n        vertical-align: top;\n    }\n\n    .dataframe thead th {\n        text-align: right;\n    }\n</style>\n<table border=\"1\" class=\"dataframe\">\n  <thead>\n    <tr style=\"text-align: right;\">\n      <th></th>\n      <th>duration</th>\n      <th>protocol_type</th>\n      <th>service</th>\n      <th>flag</th>\n      <th>src_bytes</th>\n      <th>dst_bytes</th>\n      <th>land</th>\n      <th>wrong_fragment</th>\n      <th>urgent</th>\n      <th>hot</th>\n      <th>...</th>\n      <th>dst_host_count</th>\n      <th>dst_host_srv_count</th>\n      <th>dst_host_same_srv_rate</th>\n      <th>dst_host_diff_srv_rate</th>\n      <th>dst_host_same_src_port_rate</th>\n      <th>dst_host_srv_diff_host_rate</th>\n      <th>dst_host_serror_rate</th>\n      <th>dst_host_srv_serror_rate</th>\n      <th>dst_host_rerror_rate</th>\n      <th>dst_host_srv_rerror_rate</th>\n    </tr>\n  </thead>\n  <tbody>\n    <tr>\n      <th>0</th>\n      <td>0</td>\n      <td>udp</td>\n      <td>domain_u</td>\n      <td>SF</td>\n      <td>36</td>\n      <td>0</td>\n      <td>0</td>\n      <td>0</td>\n      <td>0</td>\n      <td>0</td>\n      <td>...</td>\n      <td>67</td>\n      <td>171</td>\n      <td>1.00</td>\n      <td>0.00</td>\n      <td>1.00</td>\n      <td>0.01</td>\n      <td>0.00</td>\n      <td>0.00</td>\n      <td>0.00</td>\n      <td>0.0</td>\n    </tr>\n    <tr>\n      <th>1</th>\n      <td>0</td>\n      <td>tcp</td>\n      <td>http</td>\n      <td>S0</td>\n      <td>0</td>\n      <td>0</td>\n      <td>0</td>\n      <td>0</td>\n      <td>0</td>\n      <td>0</td>\n      <td>...</td>\n      <td>255</td>\n      <td>44</td>\n      <td>0.17</td>\n      <td>0.05</td>\n      <td>0.01</td>\n      <td>0.00</td>\n      <td>1.00</td>\n      <td>1.00</td>\n      <td>0.00</td>\n      <td>0.0</td>\n    </tr>\n    <tr>\n      <th>2</th>\n      <td>0</td>\n      <td>tcp</td>\n      <td>pop_3</td>\n      <td>S0</td>\n      <td>0</td>\n      <td>0</td>\n      <td>0</td>\n      <td>0</td>\n      <td>0</td>\n      <td>0</td>\n      <td>...</td>\n      <td>255</td>\n      <td>20</td>\n      <td>0.08</td>\n      <td>0.06</td>\n      <td>0.00</td>\n      <td>0.00</td>\n      <td>1.00</td>\n      <td>1.00</td>\n      <td>0.00</td>\n      <td>0.0</td>\n    </tr>\n    <tr>\n      <th>3</th>\n      <td>0</td>\n      <td>tcp</td>\n      <td>private</td>\n      <td>REJ</td>\n      <td>0</td>\n      <td>0</td>\n      <td>0</td>\n      <td>0</td>\n      <td>0</td>\n      <td>0</td>\n      <td>...</td>\n      <td>255</td>\n      <td>27</td>\n      <td>0.11</td>\n      <td>0.07</td>\n      <td>0.00</td>\n      <td>0.00</td>\n      <td>0.00</td>\n      <td>0.00</td>\n      <td>1.00</td>\n      <td>1.0</td>\n    </tr>\n    <tr>\n      <th>4</th>\n      <td>0</td>\n      <td>tcp</td>\n      <td>private</td>\n      <td>RSTR</td>\n      <td>0</td>\n      <td>0</td>\n      <td>0</td>\n      <td>0</td>\n      <td>0</td>\n      <td>0</td>\n      <td>...</td>\n      <td>134</td>\n      <td>1</td>\n      <td>0.01</td>\n      <td>0.64</td>\n      <td>0.64</td>\n      <td>0.00</td>\n      <td>0.04</td>\n      <td>0.00</td>\n      <td>0.63</td>\n      <td>1.0</td>\n    </tr>\n    <tr>\n      <th>...</th>\n      <td>...</td>\n      <td>...</td>\n      <td>...</td>\n      <td>...</td>\n      <td>...</td>\n      <td>...</td>\n      <td>...</td>\n      <td>...</td>\n      <td>...</td>\n      <td>...</td>\n      <td>...</td>\n      <td>...</td>\n      <td>...</td>\n      <td>...</td>\n      <td>...</td>\n      <td>...</td>\n      <td>...</td>\n      <td>...</td>\n      <td>...</td>\n      <td>...</td>\n      <td>...</td>\n    </tr>\n    <tr>\n      <th>25190</th>\n      <td>0</td>\n      <td>tcp</td>\n      <td>http</td>\n      <td>SF</td>\n      <td>199</td>\n      <td>944</td>\n      <td>0</td>\n      <td>0</td>\n      <td>0</td>\n      <td>0</td>\n      <td>...</td>\n      <td>255</td>\n      <td>255</td>\n      <td>1.00</td>\n      <td>0.00</td>\n      <td>0.00</td>\n      <td>0.00</td>\n      <td>0.00</td>\n      <td>0.00</td>\n      <td>0.00</td>\n      <td>0.0</td>\n    </tr>\n    <tr>\n      <th>25191</th>\n      <td>0</td>\n      <td>icmp</td>\n      <td>eco_i</td>\n      <td>SF</td>\n      <td>8</td>\n      <td>0</td>\n      <td>0</td>\n      <td>0</td>\n      <td>0</td>\n      <td>0</td>\n      <td>...</td>\n      <td>2</td>\n      <td>129</td>\n      <td>1.00</td>\n      <td>0.00</td>\n      <td>1.00</td>\n      <td>0.50</td>\n      <td>0.00</td>\n      <td>0.00</td>\n      <td>0.00</td>\n      <td>0.0</td>\n    </tr>\n    <tr>\n      <th>25192</th>\n      <td>0</td>\n      <td>tcp</td>\n      <td>ftp_data</td>\n      <td>SF</td>\n      <td>12983</td>\n      <td>0</td>\n      <td>0</td>\n      <td>0</td>\n      <td>0</td>\n      <td>0</td>\n      <td>...</td>\n      <td>140</td>\n      <td>9</td>\n      <td>0.06</td>\n      <td>0.04</td>\n      <td>0.06</td>\n      <td>0.00</td>\n      <td>0.00</td>\n      <td>0.00</td>\n      <td>0.02</td>\n      <td>0.0</td>\n    </tr>\n    <tr>\n      <th>25193</th>\n      <td>2</td>\n      <td>tcp</td>\n      <td>smtp</td>\n      <td>SF</td>\n      <td>813</td>\n      <td>329</td>\n      <td>0</td>\n      <td>0</td>\n      <td>0</td>\n      <td>0</td>\n      <td>...</td>\n      <td>255</td>\n      <td>141</td>\n      <td>0.55</td>\n      <td>0.06</td>\n      <td>0.00</td>\n      <td>0.00</td>\n      <td>0.02</td>\n      <td>0.02</td>\n      <td>0.00</td>\n      <td>0.0</td>\n    </tr>\n    <tr>\n      <th>25194</th>\n      <td>0</td>\n      <td>tcp</td>\n      <td>private</td>\n      <td>S0</td>\n      <td>0</td>\n      <td>0</td>\n      <td>0</td>\n      <td>0</td>\n      <td>0</td>\n      <td>0</td>\n      <td>...</td>\n      <td>255</td>\n      <td>19</td>\n      <td>0.07</td>\n      <td>0.06</td>\n      <td>0.00</td>\n      <td>0.00</td>\n      <td>1.00</td>\n      <td>1.00</td>\n      <td>0.00</td>\n      <td>0.0</td>\n    </tr>\n  </tbody>\n</table>\n<p>25195 rows × 40 columns</p>\n</div>"
     },
     "execution_count": 283,
     "metadata": {},
     "output_type": "execute_result"
    }
   ],
   "source": [
    "# this dataframe contains the whole validation set\n",
    "df_val = df_val.drop(['label'],axis=1)\n",
    "df_val = df_val.reset_index().drop(['index'], axis=1)\n",
    "\n",
    "df_val"
   ],
   "metadata": {
    "collapsed": false,
    "ExecuteTime": {
     "end_time": "2023-10-23T13:26:32.934460400Z",
     "start_time": "2023-10-23T13:26:31.982692Z"
    }
   }
  },
  {
   "cell_type": "code",
   "execution_count": 284,
   "metadata": {
    "ExecuteTime": {
     "end_time": "2023-10-23T13:26:32.934460400Z",
     "start_time": "2023-10-23T13:26:32.019041900Z"
    }
   },
   "outputs": [
    {
     "data": {
      "text/plain": "        logged_in  count  serror_rate  rerror_rate  srv_rerror_rate  \\\n0               1     16          0.0          0.0              0.0   \n1               0    142          1.0          0.0              0.0   \n2               0    273          0.0          1.0              1.0   \n3               1     20          0.0          0.0              0.0   \n4               0    274          0.0          0.0              0.0   \n...           ...    ...          ...          ...              ...   \n100773          0    258          0.0          1.0              1.0   \n100774          0     24          1.0          0.0              0.0   \n100775          0    258          0.0          1.0              1.0   \n100776          1      5          0.0          0.0              0.0   \n100777          0    202          0.0          0.0              0.0   \n\n        same_srv_rate  diff_srv_rate  srv_diff_host_rate  dst_host_srv_count  \\\n0                1.00           0.00                0.17                 255   \n1                0.01           0.06                0.00                   2   \n2                0.03           0.06                0.00                   8   \n3                1.00           0.00                0.00                 255   \n4                1.00           0.00                0.00                 255   \n...               ...            ...                 ...                 ...   \n100773           0.02           0.07                0.00                   4   \n100774           0.17           0.08                0.00                   4   \n100775           0.02           0.07                0.00                   6   \n100776           1.00           0.00                0.00                 255   \n100777           1.00           0.01                0.00                 254   \n\n        dst_host_same_srv_rate  dst_host_diff_srv_rate  \\\n0                         1.00                    0.00   \n1                         0.01                    0.06   \n2                         0.03                    0.06   \n3                         1.00                    0.00   \n4                         1.00                    0.00   \n...                        ...                     ...   \n100773                    0.02                    0.09   \n100774                    0.02                    0.07   \n100775                    0.02                    0.07   \n100776                    1.00                    0.00   \n100777                    1.00                    0.01   \n\n        dst_host_same_src_port_rate  dst_host_srv_diff_host_rate  \\\n0                              0.02                         0.06   \n1                              0.00                         0.00   \n2                              0.00                         0.00   \n3                              0.00                         0.00   \n4                              1.00                         0.00   \n...                             ...                          ...   \n100773                         0.00                         0.00   \n100774                         0.01                         0.00   \n100775                         0.00                         0.00   \n100776                         0.05                         0.05   \n100777                         0.01                         0.00   \n\n        dst_host_serror_rate  dst_host_srv_serror_rate  \\\n0                        0.0                       0.0   \n1                        1.0                       1.0   \n2                        0.0                       0.0   \n3                        0.0                       0.0   \n4                        0.0                       0.0   \n...                      ...                       ...   \n100773                   0.0                       0.0   \n100774                   1.0                       1.0   \n100775                   0.0                       0.0   \n100776                   0.0                       0.0   \n100777                   0.0                       0.0   \n\n        dst_host_srv_rerror_rate  dst_host_rerror_rate  \n0                            0.0                   0.0  \n1                            0.0                   0.0  \n2                            1.0                   1.0  \n3                            0.0                   0.0  \n4                            0.0                   0.0  \n...                          ...                   ...  \n100773                       1.0                   1.0  \n100774                       0.0                   0.0  \n100775                       1.0                   1.0  \n100776                       0.0                   0.0  \n100777                       0.0                   0.0  \n\n[100778 rows x 17 columns]",
      "text/html": "<div>\n<style scoped>\n    .dataframe tbody tr th:only-of-type {\n        vertical-align: middle;\n    }\n\n    .dataframe tbody tr th {\n        vertical-align: top;\n    }\n\n    .dataframe thead th {\n        text-align: right;\n    }\n</style>\n<table border=\"1\" class=\"dataframe\">\n  <thead>\n    <tr style=\"text-align: right;\">\n      <th></th>\n      <th>logged_in</th>\n      <th>count</th>\n      <th>serror_rate</th>\n      <th>rerror_rate</th>\n      <th>srv_rerror_rate</th>\n      <th>same_srv_rate</th>\n      <th>diff_srv_rate</th>\n      <th>srv_diff_host_rate</th>\n      <th>dst_host_srv_count</th>\n      <th>dst_host_same_srv_rate</th>\n      <th>dst_host_diff_srv_rate</th>\n      <th>dst_host_same_src_port_rate</th>\n      <th>dst_host_srv_diff_host_rate</th>\n      <th>dst_host_serror_rate</th>\n      <th>dst_host_srv_serror_rate</th>\n      <th>dst_host_srv_rerror_rate</th>\n      <th>dst_host_rerror_rate</th>\n    </tr>\n  </thead>\n  <tbody>\n    <tr>\n      <th>0</th>\n      <td>1</td>\n      <td>16</td>\n      <td>0.0</td>\n      <td>0.0</td>\n      <td>0.0</td>\n      <td>1.00</td>\n      <td>0.00</td>\n      <td>0.17</td>\n      <td>255</td>\n      <td>1.00</td>\n      <td>0.00</td>\n      <td>0.02</td>\n      <td>0.06</td>\n      <td>0.0</td>\n      <td>0.0</td>\n      <td>0.0</td>\n      <td>0.0</td>\n    </tr>\n    <tr>\n      <th>1</th>\n      <td>0</td>\n      <td>142</td>\n      <td>1.0</td>\n      <td>0.0</td>\n      <td>0.0</td>\n      <td>0.01</td>\n      <td>0.06</td>\n      <td>0.00</td>\n      <td>2</td>\n      <td>0.01</td>\n      <td>0.06</td>\n      <td>0.00</td>\n      <td>0.00</td>\n      <td>1.0</td>\n      <td>1.0</td>\n      <td>0.0</td>\n      <td>0.0</td>\n    </tr>\n    <tr>\n      <th>2</th>\n      <td>0</td>\n      <td>273</td>\n      <td>0.0</td>\n      <td>1.0</td>\n      <td>1.0</td>\n      <td>0.03</td>\n      <td>0.06</td>\n      <td>0.00</td>\n      <td>8</td>\n      <td>0.03</td>\n      <td>0.06</td>\n      <td>0.00</td>\n      <td>0.00</td>\n      <td>0.0</td>\n      <td>0.0</td>\n      <td>1.0</td>\n      <td>1.0</td>\n    </tr>\n    <tr>\n      <th>3</th>\n      <td>1</td>\n      <td>20</td>\n      <td>0.0</td>\n      <td>0.0</td>\n      <td>0.0</td>\n      <td>1.00</td>\n      <td>0.00</td>\n      <td>0.00</td>\n      <td>255</td>\n      <td>1.00</td>\n      <td>0.00</td>\n      <td>0.00</td>\n      <td>0.00</td>\n      <td>0.0</td>\n      <td>0.0</td>\n      <td>0.0</td>\n      <td>0.0</td>\n    </tr>\n    <tr>\n      <th>4</th>\n      <td>0</td>\n      <td>274</td>\n      <td>0.0</td>\n      <td>0.0</td>\n      <td>0.0</td>\n      <td>1.00</td>\n      <td>0.00</td>\n      <td>0.00</td>\n      <td>255</td>\n      <td>1.00</td>\n      <td>0.00</td>\n      <td>1.00</td>\n      <td>0.00</td>\n      <td>0.0</td>\n      <td>0.0</td>\n      <td>0.0</td>\n      <td>0.0</td>\n    </tr>\n    <tr>\n      <th>...</th>\n      <td>...</td>\n      <td>...</td>\n      <td>...</td>\n      <td>...</td>\n      <td>...</td>\n      <td>...</td>\n      <td>...</td>\n      <td>...</td>\n      <td>...</td>\n      <td>...</td>\n      <td>...</td>\n      <td>...</td>\n      <td>...</td>\n      <td>...</td>\n      <td>...</td>\n      <td>...</td>\n      <td>...</td>\n    </tr>\n    <tr>\n      <th>100773</th>\n      <td>0</td>\n      <td>258</td>\n      <td>0.0</td>\n      <td>1.0</td>\n      <td>1.0</td>\n      <td>0.02</td>\n      <td>0.07</td>\n      <td>0.00</td>\n      <td>4</td>\n      <td>0.02</td>\n      <td>0.09</td>\n      <td>0.00</td>\n      <td>0.00</td>\n      <td>0.0</td>\n      <td>0.0</td>\n      <td>1.0</td>\n      <td>1.0</td>\n    </tr>\n    <tr>\n      <th>100774</th>\n      <td>0</td>\n      <td>24</td>\n      <td>1.0</td>\n      <td>0.0</td>\n      <td>0.0</td>\n      <td>0.17</td>\n      <td>0.08</td>\n      <td>0.00</td>\n      <td>4</td>\n      <td>0.02</td>\n      <td>0.07</td>\n      <td>0.01</td>\n      <td>0.00</td>\n      <td>1.0</td>\n      <td>1.0</td>\n      <td>0.0</td>\n      <td>0.0</td>\n    </tr>\n    <tr>\n      <th>100775</th>\n      <td>0</td>\n      <td>258</td>\n      <td>0.0</td>\n      <td>1.0</td>\n      <td>1.0</td>\n      <td>0.02</td>\n      <td>0.07</td>\n      <td>0.00</td>\n      <td>6</td>\n      <td>0.02</td>\n      <td>0.07</td>\n      <td>0.00</td>\n      <td>0.00</td>\n      <td>0.0</td>\n      <td>0.0</td>\n      <td>1.0</td>\n      <td>1.0</td>\n    </tr>\n    <tr>\n      <th>100776</th>\n      <td>1</td>\n      <td>5</td>\n      <td>0.0</td>\n      <td>0.0</td>\n      <td>0.0</td>\n      <td>1.00</td>\n      <td>0.00</td>\n      <td>0.00</td>\n      <td>255</td>\n      <td>1.00</td>\n      <td>0.00</td>\n      <td>0.05</td>\n      <td>0.05</td>\n      <td>0.0</td>\n      <td>0.0</td>\n      <td>0.0</td>\n      <td>0.0</td>\n    </tr>\n    <tr>\n      <th>100777</th>\n      <td>0</td>\n      <td>202</td>\n      <td>0.0</td>\n      <td>0.0</td>\n      <td>0.0</td>\n      <td>1.00</td>\n      <td>0.01</td>\n      <td>0.00</td>\n      <td>254</td>\n      <td>1.00</td>\n      <td>0.01</td>\n      <td>0.01</td>\n      <td>0.00</td>\n      <td>0.0</td>\n      <td>0.0</td>\n      <td>0.0</td>\n      <td>0.0</td>\n    </tr>\n  </tbody>\n</table>\n<p>100778 rows × 17 columns</p>\n</div>"
     },
     "execution_count": 284,
     "metadata": {},
     "output_type": "execute_result"
    }
   ],
   "source": [
    "# now the real processing for layer 1 starts\n",
    "X_train = df_train[common_features_l1]\n",
    "X_train"
   ]
  },
  {
   "cell_type": "code",
   "execution_count": 285,
   "outputs": [
    {
     "data": {
      "text/plain": "       logged_in  count  serror_rate  rerror_rate  srv_rerror_rate  \\\n0              0      2          0.0          0.0              0.0   \n1              0     42          1.0          0.0              0.0   \n2              0    284          1.0          0.0              0.0   \n3              0    110          0.0          1.0              1.0   \n4              0      1          0.0          1.0              1.0   \n...          ...    ...          ...          ...              ...   \n25190          1     11          0.0          0.0              0.0   \n25191          0      1          0.0          0.0              0.0   \n25192          0      2          0.0          0.0              0.0   \n25193          1      1          0.0          0.0              0.0   \n25194          0    186          1.0          0.0              0.0   \n\n       same_srv_rate  diff_srv_rate  srv_diff_host_rate  dst_host_srv_count  \\\n0               1.00           0.00                0.75                 171   \n1               0.26           0.10                0.00                  44   \n2               0.07           0.06                0.00                  20   \n3               0.07           0.06                0.00                  27   \n4               1.00           0.00                0.00                   1   \n...              ...            ...                 ...                 ...   \n25190           1.00           0.00                0.15                 255   \n25191           1.00           0.00                1.00                 129   \n25192           1.00           0.00                0.00                   9   \n25193           1.00           0.00                1.00                 141   \n25194           0.10           0.06                0.00                  19   \n\n       dst_host_same_srv_rate  dst_host_diff_srv_rate  \\\n0                        1.00                    0.00   \n1                        0.17                    0.05   \n2                        0.08                    0.06   \n3                        0.11                    0.07   \n4                        0.01                    0.64   \n...                       ...                     ...   \n25190                    1.00                    0.00   \n25191                    1.00                    0.00   \n25192                    0.06                    0.04   \n25193                    0.55                    0.06   \n25194                    0.07                    0.06   \n\n       dst_host_same_src_port_rate  dst_host_srv_diff_host_rate  \\\n0                             1.00                         0.01   \n1                             0.01                         0.00   \n2                             0.00                         0.00   \n3                             0.00                         0.00   \n4                             0.64                         0.00   \n...                            ...                          ...   \n25190                         0.00                         0.00   \n25191                         1.00                         0.50   \n25192                         0.06                         0.00   \n25193                         0.00                         0.00   \n25194                         0.00                         0.00   \n\n       dst_host_serror_rate  dst_host_srv_serror_rate  \\\n0                      0.00                      0.00   \n1                      1.00                      1.00   \n2                      1.00                      1.00   \n3                      0.00                      0.00   \n4                      0.04                      0.00   \n...                     ...                       ...   \n25190                  0.00                      0.00   \n25191                  0.00                      0.00   \n25192                  0.00                      0.00   \n25193                  0.02                      0.02   \n25194                  1.00                      1.00   \n\n       dst_host_srv_rerror_rate  dst_host_rerror_rate  \n0                           0.0                  0.00  \n1                           0.0                  0.00  \n2                           0.0                  0.00  \n3                           1.0                  1.00  \n4                           1.0                  0.63  \n...                         ...                   ...  \n25190                       0.0                  0.00  \n25191                       0.0                  0.00  \n25192                       0.0                  0.02  \n25193                       0.0                  0.00  \n25194                       0.0                  0.00  \n\n[25195 rows x 17 columns]",
      "text/html": "<div>\n<style scoped>\n    .dataframe tbody tr th:only-of-type {\n        vertical-align: middle;\n    }\n\n    .dataframe tbody tr th {\n        vertical-align: top;\n    }\n\n    .dataframe thead th {\n        text-align: right;\n    }\n</style>\n<table border=\"1\" class=\"dataframe\">\n  <thead>\n    <tr style=\"text-align: right;\">\n      <th></th>\n      <th>logged_in</th>\n      <th>count</th>\n      <th>serror_rate</th>\n      <th>rerror_rate</th>\n      <th>srv_rerror_rate</th>\n      <th>same_srv_rate</th>\n      <th>diff_srv_rate</th>\n      <th>srv_diff_host_rate</th>\n      <th>dst_host_srv_count</th>\n      <th>dst_host_same_srv_rate</th>\n      <th>dst_host_diff_srv_rate</th>\n      <th>dst_host_same_src_port_rate</th>\n      <th>dst_host_srv_diff_host_rate</th>\n      <th>dst_host_serror_rate</th>\n      <th>dst_host_srv_serror_rate</th>\n      <th>dst_host_srv_rerror_rate</th>\n      <th>dst_host_rerror_rate</th>\n    </tr>\n  </thead>\n  <tbody>\n    <tr>\n      <th>0</th>\n      <td>0</td>\n      <td>2</td>\n      <td>0.0</td>\n      <td>0.0</td>\n      <td>0.0</td>\n      <td>1.00</td>\n      <td>0.00</td>\n      <td>0.75</td>\n      <td>171</td>\n      <td>1.00</td>\n      <td>0.00</td>\n      <td>1.00</td>\n      <td>0.01</td>\n      <td>0.00</td>\n      <td>0.00</td>\n      <td>0.0</td>\n      <td>0.00</td>\n    </tr>\n    <tr>\n      <th>1</th>\n      <td>0</td>\n      <td>42</td>\n      <td>1.0</td>\n      <td>0.0</td>\n      <td>0.0</td>\n      <td>0.26</td>\n      <td>0.10</td>\n      <td>0.00</td>\n      <td>44</td>\n      <td>0.17</td>\n      <td>0.05</td>\n      <td>0.01</td>\n      <td>0.00</td>\n      <td>1.00</td>\n      <td>1.00</td>\n      <td>0.0</td>\n      <td>0.00</td>\n    </tr>\n    <tr>\n      <th>2</th>\n      <td>0</td>\n      <td>284</td>\n      <td>1.0</td>\n      <td>0.0</td>\n      <td>0.0</td>\n      <td>0.07</td>\n      <td>0.06</td>\n      <td>0.00</td>\n      <td>20</td>\n      <td>0.08</td>\n      <td>0.06</td>\n      <td>0.00</td>\n      <td>0.00</td>\n      <td>1.00</td>\n      <td>1.00</td>\n      <td>0.0</td>\n      <td>0.00</td>\n    </tr>\n    <tr>\n      <th>3</th>\n      <td>0</td>\n      <td>110</td>\n      <td>0.0</td>\n      <td>1.0</td>\n      <td>1.0</td>\n      <td>0.07</td>\n      <td>0.06</td>\n      <td>0.00</td>\n      <td>27</td>\n      <td>0.11</td>\n      <td>0.07</td>\n      <td>0.00</td>\n      <td>0.00</td>\n      <td>0.00</td>\n      <td>0.00</td>\n      <td>1.0</td>\n      <td>1.00</td>\n    </tr>\n    <tr>\n      <th>4</th>\n      <td>0</td>\n      <td>1</td>\n      <td>0.0</td>\n      <td>1.0</td>\n      <td>1.0</td>\n      <td>1.00</td>\n      <td>0.00</td>\n      <td>0.00</td>\n      <td>1</td>\n      <td>0.01</td>\n      <td>0.64</td>\n      <td>0.64</td>\n      <td>0.00</td>\n      <td>0.04</td>\n      <td>0.00</td>\n      <td>1.0</td>\n      <td>0.63</td>\n    </tr>\n    <tr>\n      <th>...</th>\n      <td>...</td>\n      <td>...</td>\n      <td>...</td>\n      <td>...</td>\n      <td>...</td>\n      <td>...</td>\n      <td>...</td>\n      <td>...</td>\n      <td>...</td>\n      <td>...</td>\n      <td>...</td>\n      <td>...</td>\n      <td>...</td>\n      <td>...</td>\n      <td>...</td>\n      <td>...</td>\n      <td>...</td>\n    </tr>\n    <tr>\n      <th>25190</th>\n      <td>1</td>\n      <td>11</td>\n      <td>0.0</td>\n      <td>0.0</td>\n      <td>0.0</td>\n      <td>1.00</td>\n      <td>0.00</td>\n      <td>0.15</td>\n      <td>255</td>\n      <td>1.00</td>\n      <td>0.00</td>\n      <td>0.00</td>\n      <td>0.00</td>\n      <td>0.00</td>\n      <td>0.00</td>\n      <td>0.0</td>\n      <td>0.00</td>\n    </tr>\n    <tr>\n      <th>25191</th>\n      <td>0</td>\n      <td>1</td>\n      <td>0.0</td>\n      <td>0.0</td>\n      <td>0.0</td>\n      <td>1.00</td>\n      <td>0.00</td>\n      <td>1.00</td>\n      <td>129</td>\n      <td>1.00</td>\n      <td>0.00</td>\n      <td>1.00</td>\n      <td>0.50</td>\n      <td>0.00</td>\n      <td>0.00</td>\n      <td>0.0</td>\n      <td>0.00</td>\n    </tr>\n    <tr>\n      <th>25192</th>\n      <td>0</td>\n      <td>2</td>\n      <td>0.0</td>\n      <td>0.0</td>\n      <td>0.0</td>\n      <td>1.00</td>\n      <td>0.00</td>\n      <td>0.00</td>\n      <td>9</td>\n      <td>0.06</td>\n      <td>0.04</td>\n      <td>0.06</td>\n      <td>0.00</td>\n      <td>0.00</td>\n      <td>0.00</td>\n      <td>0.0</td>\n      <td>0.02</td>\n    </tr>\n    <tr>\n      <th>25193</th>\n      <td>1</td>\n      <td>1</td>\n      <td>0.0</td>\n      <td>0.0</td>\n      <td>0.0</td>\n      <td>1.00</td>\n      <td>0.00</td>\n      <td>1.00</td>\n      <td>141</td>\n      <td>0.55</td>\n      <td>0.06</td>\n      <td>0.00</td>\n      <td>0.00</td>\n      <td>0.02</td>\n      <td>0.02</td>\n      <td>0.0</td>\n      <td>0.00</td>\n    </tr>\n    <tr>\n      <th>25194</th>\n      <td>0</td>\n      <td>186</td>\n      <td>1.0</td>\n      <td>0.0</td>\n      <td>0.0</td>\n      <td>0.10</td>\n      <td>0.06</td>\n      <td>0.00</td>\n      <td>19</td>\n      <td>0.07</td>\n      <td>0.06</td>\n      <td>0.00</td>\n      <td>0.00</td>\n      <td>1.00</td>\n      <td>1.00</td>\n      <td>0.0</td>\n      <td>0.00</td>\n    </tr>\n  </tbody>\n</table>\n<p>25195 rows × 17 columns</p>\n</div>"
     },
     "execution_count": 285,
     "metadata": {},
     "output_type": "execute_result"
    }
   ],
   "source": [
    "X_validate = df_val[common_features_l1]\n",
    "X_validate"
   ],
   "metadata": {
    "collapsed": false,
    "ExecuteTime": {
     "end_time": "2023-10-23T13:26:32.934460400Z",
     "start_time": "2023-10-23T13:26:32.112283100Z"
    }
   }
  },
  {
   "cell_type": "code",
   "execution_count": 286,
   "outputs": [],
   "source": [
    "# 2 one-hot encoders, one for the features of layer1 and one for the features of layer2\n",
    "ohe = OneHotEncoder(handle_unknown='ignore')\n",
    "ohe2 = OneHotEncoder(handle_unknown='ignore')\n",
    "scaler1 = MinMaxScaler()\n",
    "scaler2 = MinMaxScaler()"
   ],
   "metadata": {
    "collapsed": false,
    "ExecuteTime": {
     "end_time": "2023-10-23T13:26:32.934460400Z",
     "start_time": "2023-10-23T13:26:32.113984200Z"
    }
   }
  },
  {
   "cell_type": "code",
   "execution_count": 287,
   "metadata": {
    "ExecuteTime": {
     "end_time": "2023-10-23T13:26:32.934460400Z",
     "start_time": "2023-10-23T13:26:32.122369500Z"
    }
   },
   "outputs": [
    {
     "data": {
      "text/plain": "        logged_in     count  serror_rate  rerror_rate  srv_rerror_rate  \\\n0             1.0  0.031311          0.0          0.0              0.0   \n1             0.0  0.277886          1.0          0.0              0.0   \n2             0.0  0.534247          0.0          1.0              1.0   \n3             1.0  0.039139          0.0          0.0              0.0   \n4             0.0  0.536204          0.0          0.0              0.0   \n...           ...       ...          ...          ...              ...   \n100773        0.0  0.504892          0.0          1.0              1.0   \n100774        0.0  0.046967          1.0          0.0              0.0   \n100775        0.0  0.504892          0.0          1.0              1.0   \n100776        1.0  0.009785          0.0          0.0              0.0   \n100777        0.0  0.395303          0.0          0.0              0.0   \n\n        same_srv_rate  diff_srv_rate  srv_diff_host_rate  dst_host_srv_count  \\\n0                1.00           0.00                0.17            1.000000   \n1                0.01           0.06                0.00            0.007843   \n2                0.03           0.06                0.00            0.031373   \n3                1.00           0.00                0.00            1.000000   \n4                1.00           0.00                0.00            1.000000   \n...               ...            ...                 ...                 ...   \n100773           0.02           0.07                0.00            0.015686   \n100774           0.17           0.08                0.00            0.015686   \n100775           0.02           0.07                0.00            0.023529   \n100776           1.00           0.00                0.00            1.000000   \n100777           1.00           0.01                0.00            0.996078   \n\n        dst_host_same_srv_rate  dst_host_diff_srv_rate  \\\n0                         1.00                    0.00   \n1                         0.01                    0.06   \n2                         0.03                    0.06   \n3                         1.00                    0.00   \n4                         1.00                    0.00   \n...                        ...                     ...   \n100773                    0.02                    0.09   \n100774                    0.02                    0.07   \n100775                    0.02                    0.07   \n100776                    1.00                    0.00   \n100777                    1.00                    0.01   \n\n        dst_host_same_src_port_rate  dst_host_srv_diff_host_rate  \\\n0                              0.02                         0.06   \n1                              0.00                         0.00   \n2                              0.00                         0.00   \n3                              0.00                         0.00   \n4                              1.00                         0.00   \n...                             ...                          ...   \n100773                         0.00                         0.00   \n100774                         0.01                         0.00   \n100775                         0.00                         0.00   \n100776                         0.05                         0.05   \n100777                         0.01                         0.00   \n\n        dst_host_serror_rate  dst_host_srv_serror_rate  \\\n0                        0.0                       0.0   \n1                        1.0                       1.0   \n2                        0.0                       0.0   \n3                        0.0                       0.0   \n4                        0.0                       0.0   \n...                      ...                       ...   \n100773                   0.0                       0.0   \n100774                   1.0                       1.0   \n100775                   0.0                       0.0   \n100776                   0.0                       0.0   \n100777                   0.0                       0.0   \n\n        dst_host_srv_rerror_rate  dst_host_rerror_rate  \n0                            0.0                   0.0  \n1                            0.0                   0.0  \n2                            1.0                   1.0  \n3                            0.0                   0.0  \n4                            0.0                   0.0  \n...                          ...                   ...  \n100773                       1.0                   1.0  \n100774                       0.0                   0.0  \n100775                       1.0                   1.0  \n100776                       0.0                   0.0  \n100777                       0.0                   0.0  \n\n[100778 rows x 17 columns]",
      "text/html": "<div>\n<style scoped>\n    .dataframe tbody tr th:only-of-type {\n        vertical-align: middle;\n    }\n\n    .dataframe tbody tr th {\n        vertical-align: top;\n    }\n\n    .dataframe thead th {\n        text-align: right;\n    }\n</style>\n<table border=\"1\" class=\"dataframe\">\n  <thead>\n    <tr style=\"text-align: right;\">\n      <th></th>\n      <th>logged_in</th>\n      <th>count</th>\n      <th>serror_rate</th>\n      <th>rerror_rate</th>\n      <th>srv_rerror_rate</th>\n      <th>same_srv_rate</th>\n      <th>diff_srv_rate</th>\n      <th>srv_diff_host_rate</th>\n      <th>dst_host_srv_count</th>\n      <th>dst_host_same_srv_rate</th>\n      <th>dst_host_diff_srv_rate</th>\n      <th>dst_host_same_src_port_rate</th>\n      <th>dst_host_srv_diff_host_rate</th>\n      <th>dst_host_serror_rate</th>\n      <th>dst_host_srv_serror_rate</th>\n      <th>dst_host_srv_rerror_rate</th>\n      <th>dst_host_rerror_rate</th>\n    </tr>\n  </thead>\n  <tbody>\n    <tr>\n      <th>0</th>\n      <td>1.0</td>\n      <td>0.031311</td>\n      <td>0.0</td>\n      <td>0.0</td>\n      <td>0.0</td>\n      <td>1.00</td>\n      <td>0.00</td>\n      <td>0.17</td>\n      <td>1.000000</td>\n      <td>1.00</td>\n      <td>0.00</td>\n      <td>0.02</td>\n      <td>0.06</td>\n      <td>0.0</td>\n      <td>0.0</td>\n      <td>0.0</td>\n      <td>0.0</td>\n    </tr>\n    <tr>\n      <th>1</th>\n      <td>0.0</td>\n      <td>0.277886</td>\n      <td>1.0</td>\n      <td>0.0</td>\n      <td>0.0</td>\n      <td>0.01</td>\n      <td>0.06</td>\n      <td>0.00</td>\n      <td>0.007843</td>\n      <td>0.01</td>\n      <td>0.06</td>\n      <td>0.00</td>\n      <td>0.00</td>\n      <td>1.0</td>\n      <td>1.0</td>\n      <td>0.0</td>\n      <td>0.0</td>\n    </tr>\n    <tr>\n      <th>2</th>\n      <td>0.0</td>\n      <td>0.534247</td>\n      <td>0.0</td>\n      <td>1.0</td>\n      <td>1.0</td>\n      <td>0.03</td>\n      <td>0.06</td>\n      <td>0.00</td>\n      <td>0.031373</td>\n      <td>0.03</td>\n      <td>0.06</td>\n      <td>0.00</td>\n      <td>0.00</td>\n      <td>0.0</td>\n      <td>0.0</td>\n      <td>1.0</td>\n      <td>1.0</td>\n    </tr>\n    <tr>\n      <th>3</th>\n      <td>1.0</td>\n      <td>0.039139</td>\n      <td>0.0</td>\n      <td>0.0</td>\n      <td>0.0</td>\n      <td>1.00</td>\n      <td>0.00</td>\n      <td>0.00</td>\n      <td>1.000000</td>\n      <td>1.00</td>\n      <td>0.00</td>\n      <td>0.00</td>\n      <td>0.00</td>\n      <td>0.0</td>\n      <td>0.0</td>\n      <td>0.0</td>\n      <td>0.0</td>\n    </tr>\n    <tr>\n      <th>4</th>\n      <td>0.0</td>\n      <td>0.536204</td>\n      <td>0.0</td>\n      <td>0.0</td>\n      <td>0.0</td>\n      <td>1.00</td>\n      <td>0.00</td>\n      <td>0.00</td>\n      <td>1.000000</td>\n      <td>1.00</td>\n      <td>0.00</td>\n      <td>1.00</td>\n      <td>0.00</td>\n      <td>0.0</td>\n      <td>0.0</td>\n      <td>0.0</td>\n      <td>0.0</td>\n    </tr>\n    <tr>\n      <th>...</th>\n      <td>...</td>\n      <td>...</td>\n      <td>...</td>\n      <td>...</td>\n      <td>...</td>\n      <td>...</td>\n      <td>...</td>\n      <td>...</td>\n      <td>...</td>\n      <td>...</td>\n      <td>...</td>\n      <td>...</td>\n      <td>...</td>\n      <td>...</td>\n      <td>...</td>\n      <td>...</td>\n      <td>...</td>\n    </tr>\n    <tr>\n      <th>100773</th>\n      <td>0.0</td>\n      <td>0.504892</td>\n      <td>0.0</td>\n      <td>1.0</td>\n      <td>1.0</td>\n      <td>0.02</td>\n      <td>0.07</td>\n      <td>0.00</td>\n      <td>0.015686</td>\n      <td>0.02</td>\n      <td>0.09</td>\n      <td>0.00</td>\n      <td>0.00</td>\n      <td>0.0</td>\n      <td>0.0</td>\n      <td>1.0</td>\n      <td>1.0</td>\n    </tr>\n    <tr>\n      <th>100774</th>\n      <td>0.0</td>\n      <td>0.046967</td>\n      <td>1.0</td>\n      <td>0.0</td>\n      <td>0.0</td>\n      <td>0.17</td>\n      <td>0.08</td>\n      <td>0.00</td>\n      <td>0.015686</td>\n      <td>0.02</td>\n      <td>0.07</td>\n      <td>0.01</td>\n      <td>0.00</td>\n      <td>1.0</td>\n      <td>1.0</td>\n      <td>0.0</td>\n      <td>0.0</td>\n    </tr>\n    <tr>\n      <th>100775</th>\n      <td>0.0</td>\n      <td>0.504892</td>\n      <td>0.0</td>\n      <td>1.0</td>\n      <td>1.0</td>\n      <td>0.02</td>\n      <td>0.07</td>\n      <td>0.00</td>\n      <td>0.023529</td>\n      <td>0.02</td>\n      <td>0.07</td>\n      <td>0.00</td>\n      <td>0.00</td>\n      <td>0.0</td>\n      <td>0.0</td>\n      <td>1.0</td>\n      <td>1.0</td>\n    </tr>\n    <tr>\n      <th>100776</th>\n      <td>1.0</td>\n      <td>0.009785</td>\n      <td>0.0</td>\n      <td>0.0</td>\n      <td>0.0</td>\n      <td>1.00</td>\n      <td>0.00</td>\n      <td>0.00</td>\n      <td>1.000000</td>\n      <td>1.00</td>\n      <td>0.00</td>\n      <td>0.05</td>\n      <td>0.05</td>\n      <td>0.0</td>\n      <td>0.0</td>\n      <td>0.0</td>\n      <td>0.0</td>\n    </tr>\n    <tr>\n      <th>100777</th>\n      <td>0.0</td>\n      <td>0.395303</td>\n      <td>0.0</td>\n      <td>0.0</td>\n      <td>0.0</td>\n      <td>1.00</td>\n      <td>0.01</td>\n      <td>0.00</td>\n      <td>0.996078</td>\n      <td>1.00</td>\n      <td>0.01</td>\n      <td>0.01</td>\n      <td>0.00</td>\n      <td>0.0</td>\n      <td>0.0</td>\n      <td>0.0</td>\n      <td>0.0</td>\n    </tr>\n  </tbody>\n</table>\n<p>100778 rows × 17 columns</p>\n</div>"
     },
     "execution_count": 287,
     "metadata": {},
     "output_type": "execute_result"
    }
   ],
   "source": [
    "# scaling the train set for layer1\n",
    "df_minmax = scaler1.fit_transform(X_train)\n",
    "X_train = pd.DataFrame(df_minmax, columns=X_train.columns)\n",
    "\n",
    "X_train"
   ]
  },
  {
   "cell_type": "code",
   "execution_count": 288,
   "outputs": [
    {
     "data": {
      "text/plain": "       logged_in     count  serror_rate  rerror_rate  srv_rerror_rate  \\\n0            0.0  0.003914          0.0          0.0              0.0   \n1            0.0  0.082192          1.0          0.0              0.0   \n2            0.0  0.555773          1.0          0.0              0.0   \n3            0.0  0.215264          0.0          1.0              1.0   \n4            0.0  0.001957          0.0          1.0              1.0   \n...          ...       ...          ...          ...              ...   \n25190        1.0  0.021526          0.0          0.0              0.0   \n25191        0.0  0.001957          0.0          0.0              0.0   \n25192        0.0  0.003914          0.0          0.0              0.0   \n25193        1.0  0.001957          0.0          0.0              0.0   \n25194        0.0  0.363992          1.0          0.0              0.0   \n\n       same_srv_rate  diff_srv_rate  srv_diff_host_rate  dst_host_srv_count  \\\n0               1.00           0.00                0.75            0.670588   \n1               0.26           0.10                0.00            0.172549   \n2               0.07           0.06                0.00            0.078431   \n3               0.07           0.06                0.00            0.105882   \n4               1.00           0.00                0.00            0.003922   \n...              ...            ...                 ...                 ...   \n25190           1.00           0.00                0.15            1.000000   \n25191           1.00           0.00                1.00            0.505882   \n25192           1.00           0.00                0.00            0.035294   \n25193           1.00           0.00                1.00            0.552941   \n25194           0.10           0.06                0.00            0.074510   \n\n       dst_host_same_srv_rate  dst_host_diff_srv_rate  \\\n0                        1.00                    0.00   \n1                        0.17                    0.05   \n2                        0.08                    0.06   \n3                        0.11                    0.07   \n4                        0.01                    0.64   \n...                       ...                     ...   \n25190                    1.00                    0.00   \n25191                    1.00                    0.00   \n25192                    0.06                    0.04   \n25193                    0.55                    0.06   \n25194                    0.07                    0.06   \n\n       dst_host_same_src_port_rate  dst_host_srv_diff_host_rate  \\\n0                             1.00                         0.01   \n1                             0.01                         0.00   \n2                             0.00                         0.00   \n3                             0.00                         0.00   \n4                             0.64                         0.00   \n...                            ...                          ...   \n25190                         0.00                         0.00   \n25191                         1.00                         0.50   \n25192                         0.06                         0.00   \n25193                         0.00                         0.00   \n25194                         0.00                         0.00   \n\n       dst_host_serror_rate  dst_host_srv_serror_rate  \\\n0                      0.00                      0.00   \n1                      1.00                      1.00   \n2                      1.00                      1.00   \n3                      0.00                      0.00   \n4                      0.04                      0.00   \n...                     ...                       ...   \n25190                  0.00                      0.00   \n25191                  0.00                      0.00   \n25192                  0.00                      0.00   \n25193                  0.02                      0.02   \n25194                  1.00                      1.00   \n\n       dst_host_srv_rerror_rate  dst_host_rerror_rate  \n0                           0.0                  0.00  \n1                           0.0                  0.00  \n2                           0.0                  0.00  \n3                           1.0                  1.00  \n4                           1.0                  0.63  \n...                         ...                   ...  \n25190                       0.0                  0.00  \n25191                       0.0                  0.00  \n25192                       0.0                  0.02  \n25193                       0.0                  0.00  \n25194                       0.0                  0.00  \n\n[25195 rows x 17 columns]",
      "text/html": "<div>\n<style scoped>\n    .dataframe tbody tr th:only-of-type {\n        vertical-align: middle;\n    }\n\n    .dataframe tbody tr th {\n        vertical-align: top;\n    }\n\n    .dataframe thead th {\n        text-align: right;\n    }\n</style>\n<table border=\"1\" class=\"dataframe\">\n  <thead>\n    <tr style=\"text-align: right;\">\n      <th></th>\n      <th>logged_in</th>\n      <th>count</th>\n      <th>serror_rate</th>\n      <th>rerror_rate</th>\n      <th>srv_rerror_rate</th>\n      <th>same_srv_rate</th>\n      <th>diff_srv_rate</th>\n      <th>srv_diff_host_rate</th>\n      <th>dst_host_srv_count</th>\n      <th>dst_host_same_srv_rate</th>\n      <th>dst_host_diff_srv_rate</th>\n      <th>dst_host_same_src_port_rate</th>\n      <th>dst_host_srv_diff_host_rate</th>\n      <th>dst_host_serror_rate</th>\n      <th>dst_host_srv_serror_rate</th>\n      <th>dst_host_srv_rerror_rate</th>\n      <th>dst_host_rerror_rate</th>\n    </tr>\n  </thead>\n  <tbody>\n    <tr>\n      <th>0</th>\n      <td>0.0</td>\n      <td>0.003914</td>\n      <td>0.0</td>\n      <td>0.0</td>\n      <td>0.0</td>\n      <td>1.00</td>\n      <td>0.00</td>\n      <td>0.75</td>\n      <td>0.670588</td>\n      <td>1.00</td>\n      <td>0.00</td>\n      <td>1.00</td>\n      <td>0.01</td>\n      <td>0.00</td>\n      <td>0.00</td>\n      <td>0.0</td>\n      <td>0.00</td>\n    </tr>\n    <tr>\n      <th>1</th>\n      <td>0.0</td>\n      <td>0.082192</td>\n      <td>1.0</td>\n      <td>0.0</td>\n      <td>0.0</td>\n      <td>0.26</td>\n      <td>0.10</td>\n      <td>0.00</td>\n      <td>0.172549</td>\n      <td>0.17</td>\n      <td>0.05</td>\n      <td>0.01</td>\n      <td>0.00</td>\n      <td>1.00</td>\n      <td>1.00</td>\n      <td>0.0</td>\n      <td>0.00</td>\n    </tr>\n    <tr>\n      <th>2</th>\n      <td>0.0</td>\n      <td>0.555773</td>\n      <td>1.0</td>\n      <td>0.0</td>\n      <td>0.0</td>\n      <td>0.07</td>\n      <td>0.06</td>\n      <td>0.00</td>\n      <td>0.078431</td>\n      <td>0.08</td>\n      <td>0.06</td>\n      <td>0.00</td>\n      <td>0.00</td>\n      <td>1.00</td>\n      <td>1.00</td>\n      <td>0.0</td>\n      <td>0.00</td>\n    </tr>\n    <tr>\n      <th>3</th>\n      <td>0.0</td>\n      <td>0.215264</td>\n      <td>0.0</td>\n      <td>1.0</td>\n      <td>1.0</td>\n      <td>0.07</td>\n      <td>0.06</td>\n      <td>0.00</td>\n      <td>0.105882</td>\n      <td>0.11</td>\n      <td>0.07</td>\n      <td>0.00</td>\n      <td>0.00</td>\n      <td>0.00</td>\n      <td>0.00</td>\n      <td>1.0</td>\n      <td>1.00</td>\n    </tr>\n    <tr>\n      <th>4</th>\n      <td>0.0</td>\n      <td>0.001957</td>\n      <td>0.0</td>\n      <td>1.0</td>\n      <td>1.0</td>\n      <td>1.00</td>\n      <td>0.00</td>\n      <td>0.00</td>\n      <td>0.003922</td>\n      <td>0.01</td>\n      <td>0.64</td>\n      <td>0.64</td>\n      <td>0.00</td>\n      <td>0.04</td>\n      <td>0.00</td>\n      <td>1.0</td>\n      <td>0.63</td>\n    </tr>\n    <tr>\n      <th>...</th>\n      <td>...</td>\n      <td>...</td>\n      <td>...</td>\n      <td>...</td>\n      <td>...</td>\n      <td>...</td>\n      <td>...</td>\n      <td>...</td>\n      <td>...</td>\n      <td>...</td>\n      <td>...</td>\n      <td>...</td>\n      <td>...</td>\n      <td>...</td>\n      <td>...</td>\n      <td>...</td>\n      <td>...</td>\n    </tr>\n    <tr>\n      <th>25190</th>\n      <td>1.0</td>\n      <td>0.021526</td>\n      <td>0.0</td>\n      <td>0.0</td>\n      <td>0.0</td>\n      <td>1.00</td>\n      <td>0.00</td>\n      <td>0.15</td>\n      <td>1.000000</td>\n      <td>1.00</td>\n      <td>0.00</td>\n      <td>0.00</td>\n      <td>0.00</td>\n      <td>0.00</td>\n      <td>0.00</td>\n      <td>0.0</td>\n      <td>0.00</td>\n    </tr>\n    <tr>\n      <th>25191</th>\n      <td>0.0</td>\n      <td>0.001957</td>\n      <td>0.0</td>\n      <td>0.0</td>\n      <td>0.0</td>\n      <td>1.00</td>\n      <td>0.00</td>\n      <td>1.00</td>\n      <td>0.505882</td>\n      <td>1.00</td>\n      <td>0.00</td>\n      <td>1.00</td>\n      <td>0.50</td>\n      <td>0.00</td>\n      <td>0.00</td>\n      <td>0.0</td>\n      <td>0.00</td>\n    </tr>\n    <tr>\n      <th>25192</th>\n      <td>0.0</td>\n      <td>0.003914</td>\n      <td>0.0</td>\n      <td>0.0</td>\n      <td>0.0</td>\n      <td>1.00</td>\n      <td>0.00</td>\n      <td>0.00</td>\n      <td>0.035294</td>\n      <td>0.06</td>\n      <td>0.04</td>\n      <td>0.06</td>\n      <td>0.00</td>\n      <td>0.00</td>\n      <td>0.00</td>\n      <td>0.0</td>\n      <td>0.02</td>\n    </tr>\n    <tr>\n      <th>25193</th>\n      <td>1.0</td>\n      <td>0.001957</td>\n      <td>0.0</td>\n      <td>0.0</td>\n      <td>0.0</td>\n      <td>1.00</td>\n      <td>0.00</td>\n      <td>1.00</td>\n      <td>0.552941</td>\n      <td>0.55</td>\n      <td>0.06</td>\n      <td>0.00</td>\n      <td>0.00</td>\n      <td>0.02</td>\n      <td>0.02</td>\n      <td>0.0</td>\n      <td>0.00</td>\n    </tr>\n    <tr>\n      <th>25194</th>\n      <td>0.0</td>\n      <td>0.363992</td>\n      <td>1.0</td>\n      <td>0.0</td>\n      <td>0.0</td>\n      <td>0.10</td>\n      <td>0.06</td>\n      <td>0.00</td>\n      <td>0.074510</td>\n      <td>0.07</td>\n      <td>0.06</td>\n      <td>0.00</td>\n      <td>0.00</td>\n      <td>1.00</td>\n      <td>1.00</td>\n      <td>0.0</td>\n      <td>0.00</td>\n    </tr>\n  </tbody>\n</table>\n<p>25195 rows × 17 columns</p>\n</div>"
     },
     "execution_count": 288,
     "metadata": {},
     "output_type": "execute_result"
    }
   ],
   "source": [
    "# scaling the validation set for layer1\n",
    "df_minmax_val = scaler1.transform(X_validate)\n",
    "X_validate = pd.DataFrame(df_minmax_val, columns=X_validate.columns)\n",
    "\n",
    "X_validate"
   ],
   "metadata": {
    "collapsed": false,
    "ExecuteTime": {
     "end_time": "2023-10-23T13:26:32.934460400Z",
     "start_time": "2023-10-23T13:26:32.174927400Z"
    }
   }
  },
  {
   "cell_type": "code",
   "execution_count": 289,
   "metadata": {
    "ExecuteTime": {
     "end_time": "2023-10-23T13:26:32.934460400Z",
     "start_time": "2023-10-23T13:26:32.207312800Z"
    }
   },
   "outputs": [
    {
     "data": {
      "text/plain": "        logged_in     count  serror_rate  rerror_rate  srv_rerror_rate  \\\n0             1.0  0.031311          0.0          0.0              0.0   \n1             0.0  0.277886          1.0          0.0              0.0   \n2             0.0  0.534247          0.0          1.0              1.0   \n3             1.0  0.039139          0.0          0.0              0.0   \n4             0.0  0.536204          0.0          0.0              0.0   \n...           ...       ...          ...          ...              ...   \n100773        0.0  0.504892          0.0          1.0              1.0   \n100774        0.0  0.046967          1.0          0.0              0.0   \n100775        0.0  0.504892          0.0          1.0              1.0   \n100776        1.0  0.009785          0.0          0.0              0.0   \n100777        0.0  0.395303          0.0          0.0              0.0   \n\n        same_srv_rate  diff_srv_rate  srv_diff_host_rate  dst_host_srv_count  \\\n0                1.00           0.00                0.17            1.000000   \n1                0.01           0.06                0.00            0.007843   \n2                0.03           0.06                0.00            0.031373   \n3                1.00           0.00                0.00            1.000000   \n4                1.00           0.00                0.00            1.000000   \n...               ...            ...                 ...                 ...   \n100773           0.02           0.07                0.00            0.015686   \n100774           0.17           0.08                0.00            0.015686   \n100775           0.02           0.07                0.00            0.023529   \n100776           1.00           0.00                0.00            1.000000   \n100777           1.00           0.01                0.00            0.996078   \n\n        dst_host_same_srv_rate  ...  flag_REJ  flag_RSTO  flag_RSTOS0  \\\n0                         1.00  ...       0.0        0.0          0.0   \n1                         0.01  ...       0.0        0.0          0.0   \n2                         0.03  ...       1.0        0.0          0.0   \n3                         1.00  ...       0.0        0.0          0.0   \n4                         1.00  ...       0.0        0.0          0.0   \n...                        ...  ...       ...        ...          ...   \n100773                    0.02  ...       0.0        1.0          0.0   \n100774                    0.02  ...       0.0        0.0          0.0   \n100775                    0.02  ...       1.0        0.0          0.0   \n100776                    1.00  ...       0.0        0.0          0.0   \n100777                    1.00  ...       0.0        0.0          0.0   \n\n        flag_RSTR  flag_S0  flag_S1  flag_S2  flag_S3  flag_SF  flag_SH  \n0             0.0      0.0      0.0      0.0      0.0      1.0      0.0  \n1             0.0      1.0      0.0      0.0      0.0      0.0      0.0  \n2             0.0      0.0      0.0      0.0      0.0      0.0      0.0  \n3             0.0      0.0      0.0      0.0      0.0      1.0      0.0  \n4             0.0      0.0      0.0      0.0      0.0      1.0      0.0  \n...           ...      ...      ...      ...      ...      ...      ...  \n100773        0.0      0.0      0.0      0.0      0.0      0.0      0.0  \n100774        0.0      1.0      0.0      0.0      0.0      0.0      0.0  \n100775        0.0      0.0      0.0      0.0      0.0      0.0      0.0  \n100776        0.0      0.0      0.0      0.0      0.0      1.0      0.0  \n100777        0.0      0.0      0.0      0.0      0.0      1.0      0.0  \n\n[100778 rows x 101 columns]",
      "text/html": "<div>\n<style scoped>\n    .dataframe tbody tr th:only-of-type {\n        vertical-align: middle;\n    }\n\n    .dataframe tbody tr th {\n        vertical-align: top;\n    }\n\n    .dataframe thead th {\n        text-align: right;\n    }\n</style>\n<table border=\"1\" class=\"dataframe\">\n  <thead>\n    <tr style=\"text-align: right;\">\n      <th></th>\n      <th>logged_in</th>\n      <th>count</th>\n      <th>serror_rate</th>\n      <th>rerror_rate</th>\n      <th>srv_rerror_rate</th>\n      <th>same_srv_rate</th>\n      <th>diff_srv_rate</th>\n      <th>srv_diff_host_rate</th>\n      <th>dst_host_srv_count</th>\n      <th>dst_host_same_srv_rate</th>\n      <th>...</th>\n      <th>flag_REJ</th>\n      <th>flag_RSTO</th>\n      <th>flag_RSTOS0</th>\n      <th>flag_RSTR</th>\n      <th>flag_S0</th>\n      <th>flag_S1</th>\n      <th>flag_S2</th>\n      <th>flag_S3</th>\n      <th>flag_SF</th>\n      <th>flag_SH</th>\n    </tr>\n  </thead>\n  <tbody>\n    <tr>\n      <th>0</th>\n      <td>1.0</td>\n      <td>0.031311</td>\n      <td>0.0</td>\n      <td>0.0</td>\n      <td>0.0</td>\n      <td>1.00</td>\n      <td>0.00</td>\n      <td>0.17</td>\n      <td>1.000000</td>\n      <td>1.00</td>\n      <td>...</td>\n      <td>0.0</td>\n      <td>0.0</td>\n      <td>0.0</td>\n      <td>0.0</td>\n      <td>0.0</td>\n      <td>0.0</td>\n      <td>0.0</td>\n      <td>0.0</td>\n      <td>1.0</td>\n      <td>0.0</td>\n    </tr>\n    <tr>\n      <th>1</th>\n      <td>0.0</td>\n      <td>0.277886</td>\n      <td>1.0</td>\n      <td>0.0</td>\n      <td>0.0</td>\n      <td>0.01</td>\n      <td>0.06</td>\n      <td>0.00</td>\n      <td>0.007843</td>\n      <td>0.01</td>\n      <td>...</td>\n      <td>0.0</td>\n      <td>0.0</td>\n      <td>0.0</td>\n      <td>0.0</td>\n      <td>1.0</td>\n      <td>0.0</td>\n      <td>0.0</td>\n      <td>0.0</td>\n      <td>0.0</td>\n      <td>0.0</td>\n    </tr>\n    <tr>\n      <th>2</th>\n      <td>0.0</td>\n      <td>0.534247</td>\n      <td>0.0</td>\n      <td>1.0</td>\n      <td>1.0</td>\n      <td>0.03</td>\n      <td>0.06</td>\n      <td>0.00</td>\n      <td>0.031373</td>\n      <td>0.03</td>\n      <td>...</td>\n      <td>1.0</td>\n      <td>0.0</td>\n      <td>0.0</td>\n      <td>0.0</td>\n      <td>0.0</td>\n      <td>0.0</td>\n      <td>0.0</td>\n      <td>0.0</td>\n      <td>0.0</td>\n      <td>0.0</td>\n    </tr>\n    <tr>\n      <th>3</th>\n      <td>1.0</td>\n      <td>0.039139</td>\n      <td>0.0</td>\n      <td>0.0</td>\n      <td>0.0</td>\n      <td>1.00</td>\n      <td>0.00</td>\n      <td>0.00</td>\n      <td>1.000000</td>\n      <td>1.00</td>\n      <td>...</td>\n      <td>0.0</td>\n      <td>0.0</td>\n      <td>0.0</td>\n      <td>0.0</td>\n      <td>0.0</td>\n      <td>0.0</td>\n      <td>0.0</td>\n      <td>0.0</td>\n      <td>1.0</td>\n      <td>0.0</td>\n    </tr>\n    <tr>\n      <th>4</th>\n      <td>0.0</td>\n      <td>0.536204</td>\n      <td>0.0</td>\n      <td>0.0</td>\n      <td>0.0</td>\n      <td>1.00</td>\n      <td>0.00</td>\n      <td>0.00</td>\n      <td>1.000000</td>\n      <td>1.00</td>\n      <td>...</td>\n      <td>0.0</td>\n      <td>0.0</td>\n      <td>0.0</td>\n      <td>0.0</td>\n      <td>0.0</td>\n      <td>0.0</td>\n      <td>0.0</td>\n      <td>0.0</td>\n      <td>1.0</td>\n      <td>0.0</td>\n    </tr>\n    <tr>\n      <th>...</th>\n      <td>...</td>\n      <td>...</td>\n      <td>...</td>\n      <td>...</td>\n      <td>...</td>\n      <td>...</td>\n      <td>...</td>\n      <td>...</td>\n      <td>...</td>\n      <td>...</td>\n      <td>...</td>\n      <td>...</td>\n      <td>...</td>\n      <td>...</td>\n      <td>...</td>\n      <td>...</td>\n      <td>...</td>\n      <td>...</td>\n      <td>...</td>\n      <td>...</td>\n      <td>...</td>\n    </tr>\n    <tr>\n      <th>100773</th>\n      <td>0.0</td>\n      <td>0.504892</td>\n      <td>0.0</td>\n      <td>1.0</td>\n      <td>1.0</td>\n      <td>0.02</td>\n      <td>0.07</td>\n      <td>0.00</td>\n      <td>0.015686</td>\n      <td>0.02</td>\n      <td>...</td>\n      <td>0.0</td>\n      <td>1.0</td>\n      <td>0.0</td>\n      <td>0.0</td>\n      <td>0.0</td>\n      <td>0.0</td>\n      <td>0.0</td>\n      <td>0.0</td>\n      <td>0.0</td>\n      <td>0.0</td>\n    </tr>\n    <tr>\n      <th>100774</th>\n      <td>0.0</td>\n      <td>0.046967</td>\n      <td>1.0</td>\n      <td>0.0</td>\n      <td>0.0</td>\n      <td>0.17</td>\n      <td>0.08</td>\n      <td>0.00</td>\n      <td>0.015686</td>\n      <td>0.02</td>\n      <td>...</td>\n      <td>0.0</td>\n      <td>0.0</td>\n      <td>0.0</td>\n      <td>0.0</td>\n      <td>1.0</td>\n      <td>0.0</td>\n      <td>0.0</td>\n      <td>0.0</td>\n      <td>0.0</td>\n      <td>0.0</td>\n    </tr>\n    <tr>\n      <th>100775</th>\n      <td>0.0</td>\n      <td>0.504892</td>\n      <td>0.0</td>\n      <td>1.0</td>\n      <td>1.0</td>\n      <td>0.02</td>\n      <td>0.07</td>\n      <td>0.00</td>\n      <td>0.023529</td>\n      <td>0.02</td>\n      <td>...</td>\n      <td>1.0</td>\n      <td>0.0</td>\n      <td>0.0</td>\n      <td>0.0</td>\n      <td>0.0</td>\n      <td>0.0</td>\n      <td>0.0</td>\n      <td>0.0</td>\n      <td>0.0</td>\n      <td>0.0</td>\n    </tr>\n    <tr>\n      <th>100776</th>\n      <td>1.0</td>\n      <td>0.009785</td>\n      <td>0.0</td>\n      <td>0.0</td>\n      <td>0.0</td>\n      <td>1.00</td>\n      <td>0.00</td>\n      <td>0.00</td>\n      <td>1.000000</td>\n      <td>1.00</td>\n      <td>...</td>\n      <td>0.0</td>\n      <td>0.0</td>\n      <td>0.0</td>\n      <td>0.0</td>\n      <td>0.0</td>\n      <td>0.0</td>\n      <td>0.0</td>\n      <td>0.0</td>\n      <td>1.0</td>\n      <td>0.0</td>\n    </tr>\n    <tr>\n      <th>100777</th>\n      <td>0.0</td>\n      <td>0.395303</td>\n      <td>0.0</td>\n      <td>0.0</td>\n      <td>0.0</td>\n      <td>1.00</td>\n      <td>0.01</td>\n      <td>0.00</td>\n      <td>0.996078</td>\n      <td>1.00</td>\n      <td>...</td>\n      <td>0.0</td>\n      <td>0.0</td>\n      <td>0.0</td>\n      <td>0.0</td>\n      <td>0.0</td>\n      <td>0.0</td>\n      <td>0.0</td>\n      <td>0.0</td>\n      <td>1.0</td>\n      <td>0.0</td>\n    </tr>\n  </tbody>\n</table>\n<p>100778 rows × 101 columns</p>\n</div>"
     },
     "execution_count": 289,
     "metadata": {},
     "output_type": "execute_result"
    }
   ],
   "source": [
    "# perform One-hot encoding for the train set\n",
    "label_enc = ohe.fit_transform(df_train.iloc[:,1:4])\n",
    "label_enc.toarray()\n",
    "new_labels = ohe.get_feature_names_out(categorical_features)\n",
    "df_enc = pd.DataFrame(data=label_enc.toarray(), columns=new_labels)\n",
    "X_train = pd.concat([X_train, df_enc], axis=1)\n",
    "\n",
    "X_train"
   ]
  },
  {
   "cell_type": "code",
   "execution_count": 290,
   "outputs": [
    {
     "data": {
      "text/plain": "       logged_in     count  serror_rate  rerror_rate  srv_rerror_rate  \\\n0            0.0  0.003914          0.0          0.0              0.0   \n1            0.0  0.082192          1.0          0.0              0.0   \n2            0.0  0.555773          1.0          0.0              0.0   \n3            0.0  0.215264          0.0          1.0              1.0   \n4            0.0  0.001957          0.0          1.0              1.0   \n...          ...       ...          ...          ...              ...   \n25190        1.0  0.021526          0.0          0.0              0.0   \n25191        0.0  0.001957          0.0          0.0              0.0   \n25192        0.0  0.003914          0.0          0.0              0.0   \n25193        1.0  0.001957          0.0          0.0              0.0   \n25194        0.0  0.363992          1.0          0.0              0.0   \n\n       same_srv_rate  diff_srv_rate  srv_diff_host_rate  dst_host_srv_count  \\\n0               1.00           0.00                0.75            0.670588   \n1               0.26           0.10                0.00            0.172549   \n2               0.07           0.06                0.00            0.078431   \n3               0.07           0.06                0.00            0.105882   \n4               1.00           0.00                0.00            0.003922   \n...              ...            ...                 ...                 ...   \n25190           1.00           0.00                0.15            1.000000   \n25191           1.00           0.00                1.00            0.505882   \n25192           1.00           0.00                0.00            0.035294   \n25193           1.00           0.00                1.00            0.552941   \n25194           0.10           0.06                0.00            0.074510   \n\n       dst_host_same_srv_rate  ...  flag_REJ  flag_RSTO  flag_RSTOS0  \\\n0                        1.00  ...       0.0        0.0          0.0   \n1                        0.17  ...       0.0        0.0          0.0   \n2                        0.08  ...       0.0        0.0          0.0   \n3                        0.11  ...       1.0        0.0          0.0   \n4                        0.01  ...       0.0        0.0          0.0   \n...                       ...  ...       ...        ...          ...   \n25190                    1.00  ...       0.0        0.0          0.0   \n25191                    1.00  ...       0.0        0.0          0.0   \n25192                    0.06  ...       0.0        0.0          0.0   \n25193                    0.55  ...       0.0        0.0          0.0   \n25194                    0.07  ...       0.0        0.0          0.0   \n\n       flag_RSTR  flag_S0  flag_S1  flag_S2  flag_S3  flag_SF  flag_SH  \n0            0.0      0.0      0.0      0.0      0.0      1.0      0.0  \n1            0.0      1.0      0.0      0.0      0.0      0.0      0.0  \n2            0.0      1.0      0.0      0.0      0.0      0.0      0.0  \n3            0.0      0.0      0.0      0.0      0.0      0.0      0.0  \n4            1.0      0.0      0.0      0.0      0.0      0.0      0.0  \n...          ...      ...      ...      ...      ...      ...      ...  \n25190        0.0      0.0      0.0      0.0      0.0      1.0      0.0  \n25191        0.0      0.0      0.0      0.0      0.0      1.0      0.0  \n25192        0.0      0.0      0.0      0.0      0.0      1.0      0.0  \n25193        0.0      0.0      0.0      0.0      0.0      1.0      0.0  \n25194        0.0      1.0      0.0      0.0      0.0      0.0      0.0  \n\n[25195 rows x 101 columns]",
      "text/html": "<div>\n<style scoped>\n    .dataframe tbody tr th:only-of-type {\n        vertical-align: middle;\n    }\n\n    .dataframe tbody tr th {\n        vertical-align: top;\n    }\n\n    .dataframe thead th {\n        text-align: right;\n    }\n</style>\n<table border=\"1\" class=\"dataframe\">\n  <thead>\n    <tr style=\"text-align: right;\">\n      <th></th>\n      <th>logged_in</th>\n      <th>count</th>\n      <th>serror_rate</th>\n      <th>rerror_rate</th>\n      <th>srv_rerror_rate</th>\n      <th>same_srv_rate</th>\n      <th>diff_srv_rate</th>\n      <th>srv_diff_host_rate</th>\n      <th>dst_host_srv_count</th>\n      <th>dst_host_same_srv_rate</th>\n      <th>...</th>\n      <th>flag_REJ</th>\n      <th>flag_RSTO</th>\n      <th>flag_RSTOS0</th>\n      <th>flag_RSTR</th>\n      <th>flag_S0</th>\n      <th>flag_S1</th>\n      <th>flag_S2</th>\n      <th>flag_S3</th>\n      <th>flag_SF</th>\n      <th>flag_SH</th>\n    </tr>\n  </thead>\n  <tbody>\n    <tr>\n      <th>0</th>\n      <td>0.0</td>\n      <td>0.003914</td>\n      <td>0.0</td>\n      <td>0.0</td>\n      <td>0.0</td>\n      <td>1.00</td>\n      <td>0.00</td>\n      <td>0.75</td>\n      <td>0.670588</td>\n      <td>1.00</td>\n      <td>...</td>\n      <td>0.0</td>\n      <td>0.0</td>\n      <td>0.0</td>\n      <td>0.0</td>\n      <td>0.0</td>\n      <td>0.0</td>\n      <td>0.0</td>\n      <td>0.0</td>\n      <td>1.0</td>\n      <td>0.0</td>\n    </tr>\n    <tr>\n      <th>1</th>\n      <td>0.0</td>\n      <td>0.082192</td>\n      <td>1.0</td>\n      <td>0.0</td>\n      <td>0.0</td>\n      <td>0.26</td>\n      <td>0.10</td>\n      <td>0.00</td>\n      <td>0.172549</td>\n      <td>0.17</td>\n      <td>...</td>\n      <td>0.0</td>\n      <td>0.0</td>\n      <td>0.0</td>\n      <td>0.0</td>\n      <td>1.0</td>\n      <td>0.0</td>\n      <td>0.0</td>\n      <td>0.0</td>\n      <td>0.0</td>\n      <td>0.0</td>\n    </tr>\n    <tr>\n      <th>2</th>\n      <td>0.0</td>\n      <td>0.555773</td>\n      <td>1.0</td>\n      <td>0.0</td>\n      <td>0.0</td>\n      <td>0.07</td>\n      <td>0.06</td>\n      <td>0.00</td>\n      <td>0.078431</td>\n      <td>0.08</td>\n      <td>...</td>\n      <td>0.0</td>\n      <td>0.0</td>\n      <td>0.0</td>\n      <td>0.0</td>\n      <td>1.0</td>\n      <td>0.0</td>\n      <td>0.0</td>\n      <td>0.0</td>\n      <td>0.0</td>\n      <td>0.0</td>\n    </tr>\n    <tr>\n      <th>3</th>\n      <td>0.0</td>\n      <td>0.215264</td>\n      <td>0.0</td>\n      <td>1.0</td>\n      <td>1.0</td>\n      <td>0.07</td>\n      <td>0.06</td>\n      <td>0.00</td>\n      <td>0.105882</td>\n      <td>0.11</td>\n      <td>...</td>\n      <td>1.0</td>\n      <td>0.0</td>\n      <td>0.0</td>\n      <td>0.0</td>\n      <td>0.0</td>\n      <td>0.0</td>\n      <td>0.0</td>\n      <td>0.0</td>\n      <td>0.0</td>\n      <td>0.0</td>\n    </tr>\n    <tr>\n      <th>4</th>\n      <td>0.0</td>\n      <td>0.001957</td>\n      <td>0.0</td>\n      <td>1.0</td>\n      <td>1.0</td>\n      <td>1.00</td>\n      <td>0.00</td>\n      <td>0.00</td>\n      <td>0.003922</td>\n      <td>0.01</td>\n      <td>...</td>\n      <td>0.0</td>\n      <td>0.0</td>\n      <td>0.0</td>\n      <td>1.0</td>\n      <td>0.0</td>\n      <td>0.0</td>\n      <td>0.0</td>\n      <td>0.0</td>\n      <td>0.0</td>\n      <td>0.0</td>\n    </tr>\n    <tr>\n      <th>...</th>\n      <td>...</td>\n      <td>...</td>\n      <td>...</td>\n      <td>...</td>\n      <td>...</td>\n      <td>...</td>\n      <td>...</td>\n      <td>...</td>\n      <td>...</td>\n      <td>...</td>\n      <td>...</td>\n      <td>...</td>\n      <td>...</td>\n      <td>...</td>\n      <td>...</td>\n      <td>...</td>\n      <td>...</td>\n      <td>...</td>\n      <td>...</td>\n      <td>...</td>\n      <td>...</td>\n    </tr>\n    <tr>\n      <th>25190</th>\n      <td>1.0</td>\n      <td>0.021526</td>\n      <td>0.0</td>\n      <td>0.0</td>\n      <td>0.0</td>\n      <td>1.00</td>\n      <td>0.00</td>\n      <td>0.15</td>\n      <td>1.000000</td>\n      <td>1.00</td>\n      <td>...</td>\n      <td>0.0</td>\n      <td>0.0</td>\n      <td>0.0</td>\n      <td>0.0</td>\n      <td>0.0</td>\n      <td>0.0</td>\n      <td>0.0</td>\n      <td>0.0</td>\n      <td>1.0</td>\n      <td>0.0</td>\n    </tr>\n    <tr>\n      <th>25191</th>\n      <td>0.0</td>\n      <td>0.001957</td>\n      <td>0.0</td>\n      <td>0.0</td>\n      <td>0.0</td>\n      <td>1.00</td>\n      <td>0.00</td>\n      <td>1.00</td>\n      <td>0.505882</td>\n      <td>1.00</td>\n      <td>...</td>\n      <td>0.0</td>\n      <td>0.0</td>\n      <td>0.0</td>\n      <td>0.0</td>\n      <td>0.0</td>\n      <td>0.0</td>\n      <td>0.0</td>\n      <td>0.0</td>\n      <td>1.0</td>\n      <td>0.0</td>\n    </tr>\n    <tr>\n      <th>25192</th>\n      <td>0.0</td>\n      <td>0.003914</td>\n      <td>0.0</td>\n      <td>0.0</td>\n      <td>0.0</td>\n      <td>1.00</td>\n      <td>0.00</td>\n      <td>0.00</td>\n      <td>0.035294</td>\n      <td>0.06</td>\n      <td>...</td>\n      <td>0.0</td>\n      <td>0.0</td>\n      <td>0.0</td>\n      <td>0.0</td>\n      <td>0.0</td>\n      <td>0.0</td>\n      <td>0.0</td>\n      <td>0.0</td>\n      <td>1.0</td>\n      <td>0.0</td>\n    </tr>\n    <tr>\n      <th>25193</th>\n      <td>1.0</td>\n      <td>0.001957</td>\n      <td>0.0</td>\n      <td>0.0</td>\n      <td>0.0</td>\n      <td>1.00</td>\n      <td>0.00</td>\n      <td>1.00</td>\n      <td>0.552941</td>\n      <td>0.55</td>\n      <td>...</td>\n      <td>0.0</td>\n      <td>0.0</td>\n      <td>0.0</td>\n      <td>0.0</td>\n      <td>0.0</td>\n      <td>0.0</td>\n      <td>0.0</td>\n      <td>0.0</td>\n      <td>1.0</td>\n      <td>0.0</td>\n    </tr>\n    <tr>\n      <th>25194</th>\n      <td>0.0</td>\n      <td>0.363992</td>\n      <td>1.0</td>\n      <td>0.0</td>\n      <td>0.0</td>\n      <td>0.10</td>\n      <td>0.06</td>\n      <td>0.00</td>\n      <td>0.074510</td>\n      <td>0.07</td>\n      <td>...</td>\n      <td>0.0</td>\n      <td>0.0</td>\n      <td>0.0</td>\n      <td>0.0</td>\n      <td>1.0</td>\n      <td>0.0</td>\n      <td>0.0</td>\n      <td>0.0</td>\n      <td>0.0</td>\n      <td>0.0</td>\n    </tr>\n  </tbody>\n</table>\n<p>25195 rows × 101 columns</p>\n</div>"
     },
     "execution_count": 290,
     "metadata": {},
     "output_type": "execute_result"
    }
   ],
   "source": [
    "# perform One-hot encoding for the validation set\n",
    "label_enc = ohe.transform(df_val.iloc[:,1:4])\n",
    "label_enc.toarray()\n",
    "new_labels = ohe.get_feature_names_out(categorical_features)\n",
    "df_enc = pd.DataFrame(data=label_enc.toarray(), columns=new_labels)\n",
    "X_validate = pd.concat([X_validate, df_enc], axis=1)\n",
    "\n",
    "X_validate"
   ],
   "metadata": {
    "collapsed": false,
    "ExecuteTime": {
     "end_time": "2023-10-23T13:26:32.934460400Z",
     "start_time": "2023-10-23T13:26:32.403920100Z"
    }
   }
  },
  {
   "cell_type": "code",
   "execution_count": 291,
   "metadata": {
    "ExecuteTime": {
     "end_time": "2023-10-23T13:26:32.934460400Z",
     "start_time": "2023-10-23T13:26:32.480342800Z"
    }
   },
   "outputs": [
    {
     "data": {
      "text/plain": "       duration protocol_type   service  flag  src_bytes  dst_bytes  land  \\\n0             0           tcp   private   REJ          0          0     0   \n1             0           tcp   private   REJ          0          0     0   \n2             2           tcp  ftp_data    SF      12983          0     0   \n3             0          icmp     eco_i    SF         20          0     0   \n4             1           tcp    telnet  RSTO          0         15     0   \n...         ...           ...       ...   ...        ...        ...   ...   \n22539         0           tcp      smtp    SF        794        333     0   \n22540         0           tcp      http    SF        317        938     0   \n22541         0           tcp      http    SF      54540       8314     0   \n22542         0           udp  domain_u    SF         42         42     0   \n22543         0           tcp    sunrpc   REJ          0          0     0   \n\n       wrong_fragment  urgent  hot  ...  dst_host_count  dst_host_srv_count  \\\n0                   0       0    0  ...             255                  10   \n1                   0       0    0  ...             255                   1   \n2                   0       0    0  ...             134                  86   \n3                   0       0    0  ...               3                  57   \n4                   0       0    0  ...              29                  86   \n...               ...     ...  ...  ...             ...                 ...   \n22539               0       0    0  ...             100                 141   \n22540               0       0    0  ...             197                 255   \n22541               0       0    2  ...             255                 255   \n22542               0       0    0  ...             255                 252   \n22543               0       0    0  ...             255                  21   \n\n       dst_host_same_srv_rate  dst_host_diff_srv_rate  \\\n0                        0.04                    0.06   \n1                        0.00                    0.06   \n2                        0.61                    0.04   \n3                        1.00                    0.00   \n4                        0.31                    0.17   \n...                       ...                     ...   \n22539                    0.72                    0.06   \n22540                    1.00                    0.00   \n22541                    1.00                    0.00   \n22542                    0.99                    0.01   \n22543                    0.08                    0.03   \n\n       dst_host_same_src_port_rate  dst_host_srv_diff_host_rate  \\\n0                             0.00                         0.00   \n1                             0.00                         0.00   \n2                             0.61                         0.02   \n3                             1.00                         0.28   \n4                             0.03                         0.02   \n...                            ...                          ...   \n22539                         0.01                         0.01   \n22540                         0.01                         0.01   \n22541                         0.00                         0.00   \n22542                         0.00                         0.00   \n22543                         0.00                         0.00   \n\n       dst_host_serror_rate  dst_host_srv_serror_rate  dst_host_rerror_rate  \\\n0                      0.00                       0.0                  1.00   \n1                      0.00                       0.0                  1.00   \n2                      0.00                       0.0                  0.00   \n3                      0.00                       0.0                  0.00   \n4                      0.00                       0.0                  0.83   \n...                     ...                       ...                   ...   \n22539                  0.01                       0.0                  0.00   \n22540                  0.01                       0.0                  0.00   \n22541                  0.00                       0.0                  0.07   \n22542                  0.00                       0.0                  0.00   \n22543                  0.00                       0.0                  0.44   \n\n       dst_host_srv_rerror_rate  \n0                          1.00  \n1                          1.00  \n2                          0.00  \n3                          0.00  \n4                          0.71  \n...                         ...  \n22539                      0.00  \n22540                      0.00  \n22541                      0.07  \n22542                      0.00  \n22543                      1.00  \n\n[22544 rows x 40 columns]",
      "text/html": "<div>\n<style scoped>\n    .dataframe tbody tr th:only-of-type {\n        vertical-align: middle;\n    }\n\n    .dataframe tbody tr th {\n        vertical-align: top;\n    }\n\n    .dataframe thead th {\n        text-align: right;\n    }\n</style>\n<table border=\"1\" class=\"dataframe\">\n  <thead>\n    <tr style=\"text-align: right;\">\n      <th></th>\n      <th>duration</th>\n      <th>protocol_type</th>\n      <th>service</th>\n      <th>flag</th>\n      <th>src_bytes</th>\n      <th>dst_bytes</th>\n      <th>land</th>\n      <th>wrong_fragment</th>\n      <th>urgent</th>\n      <th>hot</th>\n      <th>...</th>\n      <th>dst_host_count</th>\n      <th>dst_host_srv_count</th>\n      <th>dst_host_same_srv_rate</th>\n      <th>dst_host_diff_srv_rate</th>\n      <th>dst_host_same_src_port_rate</th>\n      <th>dst_host_srv_diff_host_rate</th>\n      <th>dst_host_serror_rate</th>\n      <th>dst_host_srv_serror_rate</th>\n      <th>dst_host_rerror_rate</th>\n      <th>dst_host_srv_rerror_rate</th>\n    </tr>\n  </thead>\n  <tbody>\n    <tr>\n      <th>0</th>\n      <td>0</td>\n      <td>tcp</td>\n      <td>private</td>\n      <td>REJ</td>\n      <td>0</td>\n      <td>0</td>\n      <td>0</td>\n      <td>0</td>\n      <td>0</td>\n      <td>0</td>\n      <td>...</td>\n      <td>255</td>\n      <td>10</td>\n      <td>0.04</td>\n      <td>0.06</td>\n      <td>0.00</td>\n      <td>0.00</td>\n      <td>0.00</td>\n      <td>0.0</td>\n      <td>1.00</td>\n      <td>1.00</td>\n    </tr>\n    <tr>\n      <th>1</th>\n      <td>0</td>\n      <td>tcp</td>\n      <td>private</td>\n      <td>REJ</td>\n      <td>0</td>\n      <td>0</td>\n      <td>0</td>\n      <td>0</td>\n      <td>0</td>\n      <td>0</td>\n      <td>...</td>\n      <td>255</td>\n      <td>1</td>\n      <td>0.00</td>\n      <td>0.06</td>\n      <td>0.00</td>\n      <td>0.00</td>\n      <td>0.00</td>\n      <td>0.0</td>\n      <td>1.00</td>\n      <td>1.00</td>\n    </tr>\n    <tr>\n      <th>2</th>\n      <td>2</td>\n      <td>tcp</td>\n      <td>ftp_data</td>\n      <td>SF</td>\n      <td>12983</td>\n      <td>0</td>\n      <td>0</td>\n      <td>0</td>\n      <td>0</td>\n      <td>0</td>\n      <td>...</td>\n      <td>134</td>\n      <td>86</td>\n      <td>0.61</td>\n      <td>0.04</td>\n      <td>0.61</td>\n      <td>0.02</td>\n      <td>0.00</td>\n      <td>0.0</td>\n      <td>0.00</td>\n      <td>0.00</td>\n    </tr>\n    <tr>\n      <th>3</th>\n      <td>0</td>\n      <td>icmp</td>\n      <td>eco_i</td>\n      <td>SF</td>\n      <td>20</td>\n      <td>0</td>\n      <td>0</td>\n      <td>0</td>\n      <td>0</td>\n      <td>0</td>\n      <td>...</td>\n      <td>3</td>\n      <td>57</td>\n      <td>1.00</td>\n      <td>0.00</td>\n      <td>1.00</td>\n      <td>0.28</td>\n      <td>0.00</td>\n      <td>0.0</td>\n      <td>0.00</td>\n      <td>0.00</td>\n    </tr>\n    <tr>\n      <th>4</th>\n      <td>1</td>\n      <td>tcp</td>\n      <td>telnet</td>\n      <td>RSTO</td>\n      <td>0</td>\n      <td>15</td>\n      <td>0</td>\n      <td>0</td>\n      <td>0</td>\n      <td>0</td>\n      <td>...</td>\n      <td>29</td>\n      <td>86</td>\n      <td>0.31</td>\n      <td>0.17</td>\n      <td>0.03</td>\n      <td>0.02</td>\n      <td>0.00</td>\n      <td>0.0</td>\n      <td>0.83</td>\n      <td>0.71</td>\n    </tr>\n    <tr>\n      <th>...</th>\n      <td>...</td>\n      <td>...</td>\n      <td>...</td>\n      <td>...</td>\n      <td>...</td>\n      <td>...</td>\n      <td>...</td>\n      <td>...</td>\n      <td>...</td>\n      <td>...</td>\n      <td>...</td>\n      <td>...</td>\n      <td>...</td>\n      <td>...</td>\n      <td>...</td>\n      <td>...</td>\n      <td>...</td>\n      <td>...</td>\n      <td>...</td>\n      <td>...</td>\n      <td>...</td>\n    </tr>\n    <tr>\n      <th>22539</th>\n      <td>0</td>\n      <td>tcp</td>\n      <td>smtp</td>\n      <td>SF</td>\n      <td>794</td>\n      <td>333</td>\n      <td>0</td>\n      <td>0</td>\n      <td>0</td>\n      <td>0</td>\n      <td>...</td>\n      <td>100</td>\n      <td>141</td>\n      <td>0.72</td>\n      <td>0.06</td>\n      <td>0.01</td>\n      <td>0.01</td>\n      <td>0.01</td>\n      <td>0.0</td>\n      <td>0.00</td>\n      <td>0.00</td>\n    </tr>\n    <tr>\n      <th>22540</th>\n      <td>0</td>\n      <td>tcp</td>\n      <td>http</td>\n      <td>SF</td>\n      <td>317</td>\n      <td>938</td>\n      <td>0</td>\n      <td>0</td>\n      <td>0</td>\n      <td>0</td>\n      <td>...</td>\n      <td>197</td>\n      <td>255</td>\n      <td>1.00</td>\n      <td>0.00</td>\n      <td>0.01</td>\n      <td>0.01</td>\n      <td>0.01</td>\n      <td>0.0</td>\n      <td>0.00</td>\n      <td>0.00</td>\n    </tr>\n    <tr>\n      <th>22541</th>\n      <td>0</td>\n      <td>tcp</td>\n      <td>http</td>\n      <td>SF</td>\n      <td>54540</td>\n      <td>8314</td>\n      <td>0</td>\n      <td>0</td>\n      <td>0</td>\n      <td>2</td>\n      <td>...</td>\n      <td>255</td>\n      <td>255</td>\n      <td>1.00</td>\n      <td>0.00</td>\n      <td>0.00</td>\n      <td>0.00</td>\n      <td>0.00</td>\n      <td>0.0</td>\n      <td>0.07</td>\n      <td>0.07</td>\n    </tr>\n    <tr>\n      <th>22542</th>\n      <td>0</td>\n      <td>udp</td>\n      <td>domain_u</td>\n      <td>SF</td>\n      <td>42</td>\n      <td>42</td>\n      <td>0</td>\n      <td>0</td>\n      <td>0</td>\n      <td>0</td>\n      <td>...</td>\n      <td>255</td>\n      <td>252</td>\n      <td>0.99</td>\n      <td>0.01</td>\n      <td>0.00</td>\n      <td>0.00</td>\n      <td>0.00</td>\n      <td>0.0</td>\n      <td>0.00</td>\n      <td>0.00</td>\n    </tr>\n    <tr>\n      <th>22543</th>\n      <td>0</td>\n      <td>tcp</td>\n      <td>sunrpc</td>\n      <td>REJ</td>\n      <td>0</td>\n      <td>0</td>\n      <td>0</td>\n      <td>0</td>\n      <td>0</td>\n      <td>0</td>\n      <td>...</td>\n      <td>255</td>\n      <td>21</td>\n      <td>0.08</td>\n      <td>0.03</td>\n      <td>0.00</td>\n      <td>0.00</td>\n      <td>0.00</td>\n      <td>0.0</td>\n      <td>0.44</td>\n      <td>1.00</td>\n    </tr>\n  </tbody>\n</table>\n<p>22544 rows × 40 columns</p>\n</div>"
     },
     "execution_count": 291,
     "metadata": {},
     "output_type": "execute_result"
    }
   ],
   "source": [
    "# do the same for testset\n",
    "y_test = np.array([1 if x in (dos_attacks+probe_attacks) else 0 for x in df_test['label']])\n",
    "\n",
    "df_test = df_test.drop(['label'],axis=1)\n",
    "df_test = df_test.reset_index().drop(['index'], axis=1)\n",
    "df_test"
   ]
  },
  {
   "cell_type": "code",
   "execution_count": 292,
   "metadata": {
    "ExecuteTime": {
     "end_time": "2023-10-23T13:26:32.934460400Z",
     "start_time": "2023-10-23T13:26:32.534193300Z"
    }
   },
   "outputs": [
    {
     "data": {
      "text/plain": "       logged_in  count  serror_rate  rerror_rate  srv_rerror_rate  \\\n0              0    229          0.0          1.0              1.0   \n1              0    136          0.0          1.0              1.0   \n2              0      1          0.0          0.0              0.0   \n3              0      1          0.0          0.0              0.0   \n4              0      1          0.0          1.0              0.5   \n...          ...    ...          ...          ...              ...   \n22539          1      1          0.0          0.0              0.0   \n22540          1      2          0.0          0.0              0.0   \n22541          1      5          0.0          0.0              0.0   \n22542          0      4          0.0          0.0              0.0   \n22543          0      4          0.0          1.0              1.0   \n\n       same_srv_rate  diff_srv_rate  srv_diff_host_rate  dst_host_srv_count  \\\n0               0.04           0.06                0.00                  10   \n1               0.01           0.06                0.00                   1   \n2               1.00           0.00                0.00                  86   \n3               1.00           0.00                1.00                  57   \n4               1.00           0.00                0.75                  86   \n...              ...            ...                 ...                 ...   \n22539           1.00           0.00                0.00                 141   \n22540           1.00           0.00                0.18                 255   \n22541           1.00           0.00                0.20                 255   \n22542           1.00           0.00                0.33                 252   \n22543           0.25           1.00                1.00                  21   \n\n       dst_host_same_srv_rate  dst_host_diff_srv_rate  \\\n0                        0.04                    0.06   \n1                        0.00                    0.06   \n2                        0.61                    0.04   \n3                        1.00                    0.00   \n4                        0.31                    0.17   \n...                       ...                     ...   \n22539                    0.72                    0.06   \n22540                    1.00                    0.00   \n22541                    1.00                    0.00   \n22542                    0.99                    0.01   \n22543                    0.08                    0.03   \n\n       dst_host_same_src_port_rate  dst_host_srv_diff_host_rate  \\\n0                             0.00                         0.00   \n1                             0.00                         0.00   \n2                             0.61                         0.02   \n3                             1.00                         0.28   \n4                             0.03                         0.02   \n...                            ...                          ...   \n22539                         0.01                         0.01   \n22540                         0.01                         0.01   \n22541                         0.00                         0.00   \n22542                         0.00                         0.00   \n22543                         0.00                         0.00   \n\n       dst_host_serror_rate  dst_host_srv_serror_rate  \\\n0                      0.00                       0.0   \n1                      0.00                       0.0   \n2                      0.00                       0.0   \n3                      0.00                       0.0   \n4                      0.00                       0.0   \n...                     ...                       ...   \n22539                  0.01                       0.0   \n22540                  0.01                       0.0   \n22541                  0.00                       0.0   \n22542                  0.00                       0.0   \n22543                  0.00                       0.0   \n\n       dst_host_srv_rerror_rate  dst_host_rerror_rate  \n0                          1.00                  1.00  \n1                          1.00                  1.00  \n2                          0.00                  0.00  \n3                          0.00                  0.00  \n4                          0.71                  0.83  \n...                         ...                   ...  \n22539                      0.00                  0.00  \n22540                      0.00                  0.00  \n22541                      0.07                  0.07  \n22542                      0.00                  0.00  \n22543                      1.00                  0.44  \n\n[22544 rows x 17 columns]",
      "text/html": "<div>\n<style scoped>\n    .dataframe tbody tr th:only-of-type {\n        vertical-align: middle;\n    }\n\n    .dataframe tbody tr th {\n        vertical-align: top;\n    }\n\n    .dataframe thead th {\n        text-align: right;\n    }\n</style>\n<table border=\"1\" class=\"dataframe\">\n  <thead>\n    <tr style=\"text-align: right;\">\n      <th></th>\n      <th>logged_in</th>\n      <th>count</th>\n      <th>serror_rate</th>\n      <th>rerror_rate</th>\n      <th>srv_rerror_rate</th>\n      <th>same_srv_rate</th>\n      <th>diff_srv_rate</th>\n      <th>srv_diff_host_rate</th>\n      <th>dst_host_srv_count</th>\n      <th>dst_host_same_srv_rate</th>\n      <th>dst_host_diff_srv_rate</th>\n      <th>dst_host_same_src_port_rate</th>\n      <th>dst_host_srv_diff_host_rate</th>\n      <th>dst_host_serror_rate</th>\n      <th>dst_host_srv_serror_rate</th>\n      <th>dst_host_srv_rerror_rate</th>\n      <th>dst_host_rerror_rate</th>\n    </tr>\n  </thead>\n  <tbody>\n    <tr>\n      <th>0</th>\n      <td>0</td>\n      <td>229</td>\n      <td>0.0</td>\n      <td>1.0</td>\n      <td>1.0</td>\n      <td>0.04</td>\n      <td>0.06</td>\n      <td>0.00</td>\n      <td>10</td>\n      <td>0.04</td>\n      <td>0.06</td>\n      <td>0.00</td>\n      <td>0.00</td>\n      <td>0.00</td>\n      <td>0.0</td>\n      <td>1.00</td>\n      <td>1.00</td>\n    </tr>\n    <tr>\n      <th>1</th>\n      <td>0</td>\n      <td>136</td>\n      <td>0.0</td>\n      <td>1.0</td>\n      <td>1.0</td>\n      <td>0.01</td>\n      <td>0.06</td>\n      <td>0.00</td>\n      <td>1</td>\n      <td>0.00</td>\n      <td>0.06</td>\n      <td>0.00</td>\n      <td>0.00</td>\n      <td>0.00</td>\n      <td>0.0</td>\n      <td>1.00</td>\n      <td>1.00</td>\n    </tr>\n    <tr>\n      <th>2</th>\n      <td>0</td>\n      <td>1</td>\n      <td>0.0</td>\n      <td>0.0</td>\n      <td>0.0</td>\n      <td>1.00</td>\n      <td>0.00</td>\n      <td>0.00</td>\n      <td>86</td>\n      <td>0.61</td>\n      <td>0.04</td>\n      <td>0.61</td>\n      <td>0.02</td>\n      <td>0.00</td>\n      <td>0.0</td>\n      <td>0.00</td>\n      <td>0.00</td>\n    </tr>\n    <tr>\n      <th>3</th>\n      <td>0</td>\n      <td>1</td>\n      <td>0.0</td>\n      <td>0.0</td>\n      <td>0.0</td>\n      <td>1.00</td>\n      <td>0.00</td>\n      <td>1.00</td>\n      <td>57</td>\n      <td>1.00</td>\n      <td>0.00</td>\n      <td>1.00</td>\n      <td>0.28</td>\n      <td>0.00</td>\n      <td>0.0</td>\n      <td>0.00</td>\n      <td>0.00</td>\n    </tr>\n    <tr>\n      <th>4</th>\n      <td>0</td>\n      <td>1</td>\n      <td>0.0</td>\n      <td>1.0</td>\n      <td>0.5</td>\n      <td>1.00</td>\n      <td>0.00</td>\n      <td>0.75</td>\n      <td>86</td>\n      <td>0.31</td>\n      <td>0.17</td>\n      <td>0.03</td>\n      <td>0.02</td>\n      <td>0.00</td>\n      <td>0.0</td>\n      <td>0.71</td>\n      <td>0.83</td>\n    </tr>\n    <tr>\n      <th>...</th>\n      <td>...</td>\n      <td>...</td>\n      <td>...</td>\n      <td>...</td>\n      <td>...</td>\n      <td>...</td>\n      <td>...</td>\n      <td>...</td>\n      <td>...</td>\n      <td>...</td>\n      <td>...</td>\n      <td>...</td>\n      <td>...</td>\n      <td>...</td>\n      <td>...</td>\n      <td>...</td>\n      <td>...</td>\n    </tr>\n    <tr>\n      <th>22539</th>\n      <td>1</td>\n      <td>1</td>\n      <td>0.0</td>\n      <td>0.0</td>\n      <td>0.0</td>\n      <td>1.00</td>\n      <td>0.00</td>\n      <td>0.00</td>\n      <td>141</td>\n      <td>0.72</td>\n      <td>0.06</td>\n      <td>0.01</td>\n      <td>0.01</td>\n      <td>0.01</td>\n      <td>0.0</td>\n      <td>0.00</td>\n      <td>0.00</td>\n    </tr>\n    <tr>\n      <th>22540</th>\n      <td>1</td>\n      <td>2</td>\n      <td>0.0</td>\n      <td>0.0</td>\n      <td>0.0</td>\n      <td>1.00</td>\n      <td>0.00</td>\n      <td>0.18</td>\n      <td>255</td>\n      <td>1.00</td>\n      <td>0.00</td>\n      <td>0.01</td>\n      <td>0.01</td>\n      <td>0.01</td>\n      <td>0.0</td>\n      <td>0.00</td>\n      <td>0.00</td>\n    </tr>\n    <tr>\n      <th>22541</th>\n      <td>1</td>\n      <td>5</td>\n      <td>0.0</td>\n      <td>0.0</td>\n      <td>0.0</td>\n      <td>1.00</td>\n      <td>0.00</td>\n      <td>0.20</td>\n      <td>255</td>\n      <td>1.00</td>\n      <td>0.00</td>\n      <td>0.00</td>\n      <td>0.00</td>\n      <td>0.00</td>\n      <td>0.0</td>\n      <td>0.07</td>\n      <td>0.07</td>\n    </tr>\n    <tr>\n      <th>22542</th>\n      <td>0</td>\n      <td>4</td>\n      <td>0.0</td>\n      <td>0.0</td>\n      <td>0.0</td>\n      <td>1.00</td>\n      <td>0.00</td>\n      <td>0.33</td>\n      <td>252</td>\n      <td>0.99</td>\n      <td>0.01</td>\n      <td>0.00</td>\n      <td>0.00</td>\n      <td>0.00</td>\n      <td>0.0</td>\n      <td>0.00</td>\n      <td>0.00</td>\n    </tr>\n    <tr>\n      <th>22543</th>\n      <td>0</td>\n      <td>4</td>\n      <td>0.0</td>\n      <td>1.0</td>\n      <td>1.0</td>\n      <td>0.25</td>\n      <td>1.00</td>\n      <td>1.00</td>\n      <td>21</td>\n      <td>0.08</td>\n      <td>0.03</td>\n      <td>0.00</td>\n      <td>0.00</td>\n      <td>0.00</td>\n      <td>0.0</td>\n      <td>1.00</td>\n      <td>0.44</td>\n    </tr>\n  </tbody>\n</table>\n<p>22544 rows × 17 columns</p>\n</div>"
     },
     "execution_count": 292,
     "metadata": {},
     "output_type": "execute_result"
    }
   ],
   "source": [
    "X_test = df_test[common_features_l1]\n",
    "\n",
    "X_test"
   ]
  },
  {
   "cell_type": "code",
   "execution_count": 293,
   "metadata": {
    "ExecuteTime": {
     "end_time": "2023-10-23T13:26:32.934460400Z",
     "start_time": "2023-10-23T13:26:32.559043200Z"
    }
   },
   "outputs": [
    {
     "data": {
      "text/plain": "       logged_in     count  serror_rate  rerror_rate  srv_rerror_rate  \\\n0            0.0  0.448141          0.0          1.0              1.0   \n1            0.0  0.266145          0.0          1.0              1.0   \n2            0.0  0.001957          0.0          0.0              0.0   \n3            0.0  0.001957          0.0          0.0              0.0   \n4            0.0  0.001957          0.0          1.0              0.5   \n...          ...       ...          ...          ...              ...   \n22539        1.0  0.001957          0.0          0.0              0.0   \n22540        1.0  0.003914          0.0          0.0              0.0   \n22541        1.0  0.009785          0.0          0.0              0.0   \n22542        0.0  0.007828          0.0          0.0              0.0   \n22543        0.0  0.007828          0.0          1.0              1.0   \n\n       same_srv_rate  diff_srv_rate  srv_diff_host_rate  dst_host_srv_count  \\\n0               0.04           0.06                0.00            0.039216   \n1               0.01           0.06                0.00            0.003922   \n2               1.00           0.00                0.00            0.337255   \n3               1.00           0.00                1.00            0.223529   \n4               1.00           0.00                0.75            0.337255   \n...              ...            ...                 ...                 ...   \n22539           1.00           0.00                0.00            0.552941   \n22540           1.00           0.00                0.18            1.000000   \n22541           1.00           0.00                0.20            1.000000   \n22542           1.00           0.00                0.33            0.988235   \n22543           0.25           1.00                1.00            0.082353   \n\n       dst_host_same_srv_rate  dst_host_diff_srv_rate  \\\n0                        0.04                    0.06   \n1                        0.00                    0.06   \n2                        0.61                    0.04   \n3                        1.00                    0.00   \n4                        0.31                    0.17   \n...                       ...                     ...   \n22539                    0.72                    0.06   \n22540                    1.00                    0.00   \n22541                    1.00                    0.00   \n22542                    0.99                    0.01   \n22543                    0.08                    0.03   \n\n       dst_host_same_src_port_rate  dst_host_srv_diff_host_rate  \\\n0                             0.00                         0.00   \n1                             0.00                         0.00   \n2                             0.61                         0.02   \n3                             1.00                         0.28   \n4                             0.03                         0.02   \n...                            ...                          ...   \n22539                         0.01                         0.01   \n22540                         0.01                         0.01   \n22541                         0.00                         0.00   \n22542                         0.00                         0.00   \n22543                         0.00                         0.00   \n\n       dst_host_serror_rate  dst_host_srv_serror_rate  \\\n0                      0.00                       0.0   \n1                      0.00                       0.0   \n2                      0.00                       0.0   \n3                      0.00                       0.0   \n4                      0.00                       0.0   \n...                     ...                       ...   \n22539                  0.01                       0.0   \n22540                  0.01                       0.0   \n22541                  0.00                       0.0   \n22542                  0.00                       0.0   \n22543                  0.00                       0.0   \n\n       dst_host_srv_rerror_rate  dst_host_rerror_rate  \n0                          1.00                  1.00  \n1                          1.00                  1.00  \n2                          0.00                  0.00  \n3                          0.00                  0.00  \n4                          0.71                  0.83  \n...                         ...                   ...  \n22539                      0.00                  0.00  \n22540                      0.00                  0.00  \n22541                      0.07                  0.07  \n22542                      0.00                  0.00  \n22543                      1.00                  0.44  \n\n[22544 rows x 17 columns]",
      "text/html": "<div>\n<style scoped>\n    .dataframe tbody tr th:only-of-type {\n        vertical-align: middle;\n    }\n\n    .dataframe tbody tr th {\n        vertical-align: top;\n    }\n\n    .dataframe thead th {\n        text-align: right;\n    }\n</style>\n<table border=\"1\" class=\"dataframe\">\n  <thead>\n    <tr style=\"text-align: right;\">\n      <th></th>\n      <th>logged_in</th>\n      <th>count</th>\n      <th>serror_rate</th>\n      <th>rerror_rate</th>\n      <th>srv_rerror_rate</th>\n      <th>same_srv_rate</th>\n      <th>diff_srv_rate</th>\n      <th>srv_diff_host_rate</th>\n      <th>dst_host_srv_count</th>\n      <th>dst_host_same_srv_rate</th>\n      <th>dst_host_diff_srv_rate</th>\n      <th>dst_host_same_src_port_rate</th>\n      <th>dst_host_srv_diff_host_rate</th>\n      <th>dst_host_serror_rate</th>\n      <th>dst_host_srv_serror_rate</th>\n      <th>dst_host_srv_rerror_rate</th>\n      <th>dst_host_rerror_rate</th>\n    </tr>\n  </thead>\n  <tbody>\n    <tr>\n      <th>0</th>\n      <td>0.0</td>\n      <td>0.448141</td>\n      <td>0.0</td>\n      <td>1.0</td>\n      <td>1.0</td>\n      <td>0.04</td>\n      <td>0.06</td>\n      <td>0.00</td>\n      <td>0.039216</td>\n      <td>0.04</td>\n      <td>0.06</td>\n      <td>0.00</td>\n      <td>0.00</td>\n      <td>0.00</td>\n      <td>0.0</td>\n      <td>1.00</td>\n      <td>1.00</td>\n    </tr>\n    <tr>\n      <th>1</th>\n      <td>0.0</td>\n      <td>0.266145</td>\n      <td>0.0</td>\n      <td>1.0</td>\n      <td>1.0</td>\n      <td>0.01</td>\n      <td>0.06</td>\n      <td>0.00</td>\n      <td>0.003922</td>\n      <td>0.00</td>\n      <td>0.06</td>\n      <td>0.00</td>\n      <td>0.00</td>\n      <td>0.00</td>\n      <td>0.0</td>\n      <td>1.00</td>\n      <td>1.00</td>\n    </tr>\n    <tr>\n      <th>2</th>\n      <td>0.0</td>\n      <td>0.001957</td>\n      <td>0.0</td>\n      <td>0.0</td>\n      <td>0.0</td>\n      <td>1.00</td>\n      <td>0.00</td>\n      <td>0.00</td>\n      <td>0.337255</td>\n      <td>0.61</td>\n      <td>0.04</td>\n      <td>0.61</td>\n      <td>0.02</td>\n      <td>0.00</td>\n      <td>0.0</td>\n      <td>0.00</td>\n      <td>0.00</td>\n    </tr>\n    <tr>\n      <th>3</th>\n      <td>0.0</td>\n      <td>0.001957</td>\n      <td>0.0</td>\n      <td>0.0</td>\n      <td>0.0</td>\n      <td>1.00</td>\n      <td>0.00</td>\n      <td>1.00</td>\n      <td>0.223529</td>\n      <td>1.00</td>\n      <td>0.00</td>\n      <td>1.00</td>\n      <td>0.28</td>\n      <td>0.00</td>\n      <td>0.0</td>\n      <td>0.00</td>\n      <td>0.00</td>\n    </tr>\n    <tr>\n      <th>4</th>\n      <td>0.0</td>\n      <td>0.001957</td>\n      <td>0.0</td>\n      <td>1.0</td>\n      <td>0.5</td>\n      <td>1.00</td>\n      <td>0.00</td>\n      <td>0.75</td>\n      <td>0.337255</td>\n      <td>0.31</td>\n      <td>0.17</td>\n      <td>0.03</td>\n      <td>0.02</td>\n      <td>0.00</td>\n      <td>0.0</td>\n      <td>0.71</td>\n      <td>0.83</td>\n    </tr>\n    <tr>\n      <th>...</th>\n      <td>...</td>\n      <td>...</td>\n      <td>...</td>\n      <td>...</td>\n      <td>...</td>\n      <td>...</td>\n      <td>...</td>\n      <td>...</td>\n      <td>...</td>\n      <td>...</td>\n      <td>...</td>\n      <td>...</td>\n      <td>...</td>\n      <td>...</td>\n      <td>...</td>\n      <td>...</td>\n      <td>...</td>\n    </tr>\n    <tr>\n      <th>22539</th>\n      <td>1.0</td>\n      <td>0.001957</td>\n      <td>0.0</td>\n      <td>0.0</td>\n      <td>0.0</td>\n      <td>1.00</td>\n      <td>0.00</td>\n      <td>0.00</td>\n      <td>0.552941</td>\n      <td>0.72</td>\n      <td>0.06</td>\n      <td>0.01</td>\n      <td>0.01</td>\n      <td>0.01</td>\n      <td>0.0</td>\n      <td>0.00</td>\n      <td>0.00</td>\n    </tr>\n    <tr>\n      <th>22540</th>\n      <td>1.0</td>\n      <td>0.003914</td>\n      <td>0.0</td>\n      <td>0.0</td>\n      <td>0.0</td>\n      <td>1.00</td>\n      <td>0.00</td>\n      <td>0.18</td>\n      <td>1.000000</td>\n      <td>1.00</td>\n      <td>0.00</td>\n      <td>0.01</td>\n      <td>0.01</td>\n      <td>0.01</td>\n      <td>0.0</td>\n      <td>0.00</td>\n      <td>0.00</td>\n    </tr>\n    <tr>\n      <th>22541</th>\n      <td>1.0</td>\n      <td>0.009785</td>\n      <td>0.0</td>\n      <td>0.0</td>\n      <td>0.0</td>\n      <td>1.00</td>\n      <td>0.00</td>\n      <td>0.20</td>\n      <td>1.000000</td>\n      <td>1.00</td>\n      <td>0.00</td>\n      <td>0.00</td>\n      <td>0.00</td>\n      <td>0.00</td>\n      <td>0.0</td>\n      <td>0.07</td>\n      <td>0.07</td>\n    </tr>\n    <tr>\n      <th>22542</th>\n      <td>0.0</td>\n      <td>0.007828</td>\n      <td>0.0</td>\n      <td>0.0</td>\n      <td>0.0</td>\n      <td>1.00</td>\n      <td>0.00</td>\n      <td>0.33</td>\n      <td>0.988235</td>\n      <td>0.99</td>\n      <td>0.01</td>\n      <td>0.00</td>\n      <td>0.00</td>\n      <td>0.00</td>\n      <td>0.0</td>\n      <td>0.00</td>\n      <td>0.00</td>\n    </tr>\n    <tr>\n      <th>22543</th>\n      <td>0.0</td>\n      <td>0.007828</td>\n      <td>0.0</td>\n      <td>1.0</td>\n      <td>1.0</td>\n      <td>0.25</td>\n      <td>1.00</td>\n      <td>1.00</td>\n      <td>0.082353</td>\n      <td>0.08</td>\n      <td>0.03</td>\n      <td>0.00</td>\n      <td>0.00</td>\n      <td>0.00</td>\n      <td>0.0</td>\n      <td>1.00</td>\n      <td>0.44</td>\n    </tr>\n  </tbody>\n</table>\n<p>22544 rows × 17 columns</p>\n</div>"
     },
     "execution_count": 293,
     "metadata": {},
     "output_type": "execute_result"
    }
   ],
   "source": [
    "df_minmax = scaler1.transform(X_test)\n",
    "X_test = pd.DataFrame(df_minmax, columns=X_test.columns)\n",
    "X_test"
   ]
  },
  {
   "cell_type": "code",
   "execution_count": 294,
   "metadata": {
    "ExecuteTime": {
     "end_time": "2023-10-23T13:26:32.934460400Z",
     "start_time": "2023-10-23T13:26:32.589075Z"
    }
   },
   "outputs": [
    {
     "data": {
      "text/plain": "       logged_in     count  serror_rate  rerror_rate  srv_rerror_rate  \\\n0            0.0  0.448141          0.0          1.0              1.0   \n1            0.0  0.266145          0.0          1.0              1.0   \n2            0.0  0.001957          0.0          0.0              0.0   \n3            0.0  0.001957          0.0          0.0              0.0   \n4            0.0  0.001957          0.0          1.0              0.5   \n...          ...       ...          ...          ...              ...   \n22539        1.0  0.001957          0.0          0.0              0.0   \n22540        1.0  0.003914          0.0          0.0              0.0   \n22541        1.0  0.009785          0.0          0.0              0.0   \n22542        0.0  0.007828          0.0          0.0              0.0   \n22543        0.0  0.007828          0.0          1.0              1.0   \n\n       same_srv_rate  diff_srv_rate  srv_diff_host_rate  dst_host_srv_count  \\\n0               0.04           0.06                0.00            0.039216   \n1               0.01           0.06                0.00            0.003922   \n2               1.00           0.00                0.00            0.337255   \n3               1.00           0.00                1.00            0.223529   \n4               1.00           0.00                0.75            0.337255   \n...              ...            ...                 ...                 ...   \n22539           1.00           0.00                0.00            0.552941   \n22540           1.00           0.00                0.18            1.000000   \n22541           1.00           0.00                0.20            1.000000   \n22542           1.00           0.00                0.33            0.988235   \n22543           0.25           1.00                1.00            0.082353   \n\n       dst_host_same_srv_rate  ...  flag_REJ  flag_RSTO  flag_RSTOS0  \\\n0                        0.04  ...       1.0        0.0          0.0   \n1                        0.00  ...       1.0        0.0          0.0   \n2                        0.61  ...       0.0        0.0          0.0   \n3                        1.00  ...       0.0        0.0          0.0   \n4                        0.31  ...       0.0        1.0          0.0   \n...                       ...  ...       ...        ...          ...   \n22539                    0.72  ...       0.0        0.0          0.0   \n22540                    1.00  ...       0.0        0.0          0.0   \n22541                    1.00  ...       0.0        0.0          0.0   \n22542                    0.99  ...       0.0        0.0          0.0   \n22543                    0.08  ...       1.0        0.0          0.0   \n\n       flag_RSTR  flag_S0  flag_S1  flag_S2  flag_S3  flag_SF  flag_SH  \n0            0.0      0.0      0.0      0.0      0.0      0.0      0.0  \n1            0.0      0.0      0.0      0.0      0.0      0.0      0.0  \n2            0.0      0.0      0.0      0.0      0.0      1.0      0.0  \n3            0.0      0.0      0.0      0.0      0.0      1.0      0.0  \n4            0.0      0.0      0.0      0.0      0.0      0.0      0.0  \n...          ...      ...      ...      ...      ...      ...      ...  \n22539        0.0      0.0      0.0      0.0      0.0      1.0      0.0  \n22540        0.0      0.0      0.0      0.0      0.0      1.0      0.0  \n22541        0.0      0.0      0.0      0.0      0.0      1.0      0.0  \n22542        0.0      0.0      0.0      0.0      0.0      1.0      0.0  \n22543        0.0      0.0      0.0      0.0      0.0      0.0      0.0  \n\n[22544 rows x 101 columns]",
      "text/html": "<div>\n<style scoped>\n    .dataframe tbody tr th:only-of-type {\n        vertical-align: middle;\n    }\n\n    .dataframe tbody tr th {\n        vertical-align: top;\n    }\n\n    .dataframe thead th {\n        text-align: right;\n    }\n</style>\n<table border=\"1\" class=\"dataframe\">\n  <thead>\n    <tr style=\"text-align: right;\">\n      <th></th>\n      <th>logged_in</th>\n      <th>count</th>\n      <th>serror_rate</th>\n      <th>rerror_rate</th>\n      <th>srv_rerror_rate</th>\n      <th>same_srv_rate</th>\n      <th>diff_srv_rate</th>\n      <th>srv_diff_host_rate</th>\n      <th>dst_host_srv_count</th>\n      <th>dst_host_same_srv_rate</th>\n      <th>...</th>\n      <th>flag_REJ</th>\n      <th>flag_RSTO</th>\n      <th>flag_RSTOS0</th>\n      <th>flag_RSTR</th>\n      <th>flag_S0</th>\n      <th>flag_S1</th>\n      <th>flag_S2</th>\n      <th>flag_S3</th>\n      <th>flag_SF</th>\n      <th>flag_SH</th>\n    </tr>\n  </thead>\n  <tbody>\n    <tr>\n      <th>0</th>\n      <td>0.0</td>\n      <td>0.448141</td>\n      <td>0.0</td>\n      <td>1.0</td>\n      <td>1.0</td>\n      <td>0.04</td>\n      <td>0.06</td>\n      <td>0.00</td>\n      <td>0.039216</td>\n      <td>0.04</td>\n      <td>...</td>\n      <td>1.0</td>\n      <td>0.0</td>\n      <td>0.0</td>\n      <td>0.0</td>\n      <td>0.0</td>\n      <td>0.0</td>\n      <td>0.0</td>\n      <td>0.0</td>\n      <td>0.0</td>\n      <td>0.0</td>\n    </tr>\n    <tr>\n      <th>1</th>\n      <td>0.0</td>\n      <td>0.266145</td>\n      <td>0.0</td>\n      <td>1.0</td>\n      <td>1.0</td>\n      <td>0.01</td>\n      <td>0.06</td>\n      <td>0.00</td>\n      <td>0.003922</td>\n      <td>0.00</td>\n      <td>...</td>\n      <td>1.0</td>\n      <td>0.0</td>\n      <td>0.0</td>\n      <td>0.0</td>\n      <td>0.0</td>\n      <td>0.0</td>\n      <td>0.0</td>\n      <td>0.0</td>\n      <td>0.0</td>\n      <td>0.0</td>\n    </tr>\n    <tr>\n      <th>2</th>\n      <td>0.0</td>\n      <td>0.001957</td>\n      <td>0.0</td>\n      <td>0.0</td>\n      <td>0.0</td>\n      <td>1.00</td>\n      <td>0.00</td>\n      <td>0.00</td>\n      <td>0.337255</td>\n      <td>0.61</td>\n      <td>...</td>\n      <td>0.0</td>\n      <td>0.0</td>\n      <td>0.0</td>\n      <td>0.0</td>\n      <td>0.0</td>\n      <td>0.0</td>\n      <td>0.0</td>\n      <td>0.0</td>\n      <td>1.0</td>\n      <td>0.0</td>\n    </tr>\n    <tr>\n      <th>3</th>\n      <td>0.0</td>\n      <td>0.001957</td>\n      <td>0.0</td>\n      <td>0.0</td>\n      <td>0.0</td>\n      <td>1.00</td>\n      <td>0.00</td>\n      <td>1.00</td>\n      <td>0.223529</td>\n      <td>1.00</td>\n      <td>...</td>\n      <td>0.0</td>\n      <td>0.0</td>\n      <td>0.0</td>\n      <td>0.0</td>\n      <td>0.0</td>\n      <td>0.0</td>\n      <td>0.0</td>\n      <td>0.0</td>\n      <td>1.0</td>\n      <td>0.0</td>\n    </tr>\n    <tr>\n      <th>4</th>\n      <td>0.0</td>\n      <td>0.001957</td>\n      <td>0.0</td>\n      <td>1.0</td>\n      <td>0.5</td>\n      <td>1.00</td>\n      <td>0.00</td>\n      <td>0.75</td>\n      <td>0.337255</td>\n      <td>0.31</td>\n      <td>...</td>\n      <td>0.0</td>\n      <td>1.0</td>\n      <td>0.0</td>\n      <td>0.0</td>\n      <td>0.0</td>\n      <td>0.0</td>\n      <td>0.0</td>\n      <td>0.0</td>\n      <td>0.0</td>\n      <td>0.0</td>\n    </tr>\n    <tr>\n      <th>...</th>\n      <td>...</td>\n      <td>...</td>\n      <td>...</td>\n      <td>...</td>\n      <td>...</td>\n      <td>...</td>\n      <td>...</td>\n      <td>...</td>\n      <td>...</td>\n      <td>...</td>\n      <td>...</td>\n      <td>...</td>\n      <td>...</td>\n      <td>...</td>\n      <td>...</td>\n      <td>...</td>\n      <td>...</td>\n      <td>...</td>\n      <td>...</td>\n      <td>...</td>\n      <td>...</td>\n    </tr>\n    <tr>\n      <th>22539</th>\n      <td>1.0</td>\n      <td>0.001957</td>\n      <td>0.0</td>\n      <td>0.0</td>\n      <td>0.0</td>\n      <td>1.00</td>\n      <td>0.00</td>\n      <td>0.00</td>\n      <td>0.552941</td>\n      <td>0.72</td>\n      <td>...</td>\n      <td>0.0</td>\n      <td>0.0</td>\n      <td>0.0</td>\n      <td>0.0</td>\n      <td>0.0</td>\n      <td>0.0</td>\n      <td>0.0</td>\n      <td>0.0</td>\n      <td>1.0</td>\n      <td>0.0</td>\n    </tr>\n    <tr>\n      <th>22540</th>\n      <td>1.0</td>\n      <td>0.003914</td>\n      <td>0.0</td>\n      <td>0.0</td>\n      <td>0.0</td>\n      <td>1.00</td>\n      <td>0.00</td>\n      <td>0.18</td>\n      <td>1.000000</td>\n      <td>1.00</td>\n      <td>...</td>\n      <td>0.0</td>\n      <td>0.0</td>\n      <td>0.0</td>\n      <td>0.0</td>\n      <td>0.0</td>\n      <td>0.0</td>\n      <td>0.0</td>\n      <td>0.0</td>\n      <td>1.0</td>\n      <td>0.0</td>\n    </tr>\n    <tr>\n      <th>22541</th>\n      <td>1.0</td>\n      <td>0.009785</td>\n      <td>0.0</td>\n      <td>0.0</td>\n      <td>0.0</td>\n      <td>1.00</td>\n      <td>0.00</td>\n      <td>0.20</td>\n      <td>1.000000</td>\n      <td>1.00</td>\n      <td>...</td>\n      <td>0.0</td>\n      <td>0.0</td>\n      <td>0.0</td>\n      <td>0.0</td>\n      <td>0.0</td>\n      <td>0.0</td>\n      <td>0.0</td>\n      <td>0.0</td>\n      <td>1.0</td>\n      <td>0.0</td>\n    </tr>\n    <tr>\n      <th>22542</th>\n      <td>0.0</td>\n      <td>0.007828</td>\n      <td>0.0</td>\n      <td>0.0</td>\n      <td>0.0</td>\n      <td>1.00</td>\n      <td>0.00</td>\n      <td>0.33</td>\n      <td>0.988235</td>\n      <td>0.99</td>\n      <td>...</td>\n      <td>0.0</td>\n      <td>0.0</td>\n      <td>0.0</td>\n      <td>0.0</td>\n      <td>0.0</td>\n      <td>0.0</td>\n      <td>0.0</td>\n      <td>0.0</td>\n      <td>1.0</td>\n      <td>0.0</td>\n    </tr>\n    <tr>\n      <th>22543</th>\n      <td>0.0</td>\n      <td>0.007828</td>\n      <td>0.0</td>\n      <td>1.0</td>\n      <td>1.0</td>\n      <td>0.25</td>\n      <td>1.00</td>\n      <td>1.00</td>\n      <td>0.082353</td>\n      <td>0.08</td>\n      <td>...</td>\n      <td>1.0</td>\n      <td>0.0</td>\n      <td>0.0</td>\n      <td>0.0</td>\n      <td>0.0</td>\n      <td>0.0</td>\n      <td>0.0</td>\n      <td>0.0</td>\n      <td>0.0</td>\n      <td>0.0</td>\n    </tr>\n  </tbody>\n</table>\n<p>22544 rows × 101 columns</p>\n</div>"
     },
     "execution_count": 294,
     "metadata": {},
     "output_type": "execute_result"
    }
   ],
   "source": [
    "label_enc = ohe.transform(df_test.iloc[:,1:4])\n",
    "label_enc.toarray()\n",
    "new_labels = ohe.get_feature_names_out(categorical_features)\n",
    "df_enc = pd.DataFrame(data=label_enc.toarray(), columns=new_labels)\n",
    "X_test = pd.concat([X_test, df_enc], axis=1)\n",
    "X_test"
   ]
  },
  {
   "cell_type": "code",
   "execution_count": 295,
   "metadata": {
    "ExecuteTime": {
     "end_time": "2023-10-23T13:26:32.934460400Z",
     "start_time": "2023-10-23T13:26:32.651449100Z"
    }
   },
   "outputs": [
    {
     "name": "stdout",
     "output_type": "stream",
     "text": [
      "Shape of the whole train set:  (100778, 101)\n",
      "Shape of its targets:  (100778,)\n",
      "Shape of the whole test set:  (22544, 101)\n",
      "Shape of its targets:  (22544,)\n"
     ]
    }
   ],
   "source": [
    "print('Shape of the whole train set: ', X_train.shape)\n",
    "print('Shape of its targets: ', y_train.shape)\n",
    "print('Shape of the whole test set: ', X_test.shape)\n",
    "print('Shape of its targets: ', y_test.shape)"
   ]
  },
  {
   "cell_type": "code",
   "execution_count": 296,
   "outputs": [],
   "source": [
    "# Export the dataset for training layer 1\n",
    "if EXPORT_DATASETS:\n",
    "    X_train.to_csv('NSL-KDD Encoded Datasets/KDDTrain+_l1.txt', index=False)\n",
    "    X_validate.to_csv('NSL-KDD Encoded Datasets/KDDValidate+_l1.txt', index=False)\n",
    "    np.save('NSL-KDD Encoded Datasets/KDDTrain+_l1_targets', y_train)\n",
    "    np.save('NSL-KDD Encoded Datasets/KDDValidate+_l1_targets', y_val)"
   ],
   "metadata": {
    "collapsed": false,
    "ExecuteTime": {
     "end_time": "2023-10-23T13:26:39.819446800Z",
     "start_time": "2023-10-23T13:26:32.662319700Z"
    }
   }
  },
  {
   "cell_type": "markdown",
   "source": [
    "### Principal Component Analysis"
   ],
   "metadata": {
    "collapsed": false
   }
  },
  {
   "cell_type": "code",
   "execution_count": 297,
   "outputs": [],
   "source": [
    "pca_dos_probe = PCA(n_components=0.95)\n",
    "X_train_dos_probe = pca_dos_probe.fit_transform(X_train)\n",
    "X_test_dos_probe = pca_dos_probe.transform(X_test)\n",
    "X_validate_dos_probe = pca_dos_probe.transform(X_validate)"
   ],
   "metadata": {
    "collapsed": false,
    "ExecuteTime": {
     "end_time": "2023-10-23T13:26:41.229258800Z",
     "start_time": "2023-10-23T13:26:39.821072Z"
    }
   }
  },
  {
   "cell_type": "code",
   "execution_count": 298,
   "outputs": [],
   "source": [
    "if EXPORT_PCA:\n",
    "    # save the pca transformed as well as the transformer\n",
    "    joblib.dump(X_test_dos_probe, 'NSL-KDD Encoded Datasets/pca_transformed/pca_test1.pkl')\n",
    "    joblib.dump(X_train_dos_probe, 'NSL-KDD Encoded Datasets/pca_transformed/pca_train1.pkl')\n",
    "    joblib.dump(X_validate_dos_probe, 'NSL-KDD Encoded Datasets/pca_transformed/pca_validate1.pkl')\n",
    "    joblib.dump(pca_dos_probe, 'NSL-KDD Encoded Datasets/pca_transformed/layer1_transformer.pkl')"
   ],
   "metadata": {
    "collapsed": false,
    "ExecuteTime": {
     "end_time": "2023-10-23T13:26:41.257317500Z",
     "start_time": "2023-10-23T13:26:41.230637700Z"
    }
   }
  },
  {
   "cell_type": "markdown",
   "source": [
    "### Building the classifier for the layer1"
   ],
   "metadata": {
    "collapsed": false
   }
  },
  {
   "cell_type": "code",
   "execution_count": 299,
   "outputs": [],
   "source": [
    "# Using Random Forest Classifier\n",
    "# dos_probe_classifier = RandomForestClassifier(n_estimators=100, criterion='gini')\n",
    "\n",
    "# Using the Naive Bayes Classifier\n",
    "dos_probe_classifier = GaussianNB()\n",
    "dos_probe_classifier.fit(X_train_dos_probe, y_train)\n",
    "predicted = dos_probe_classifier.predict(X_test_dos_probe)"
   ],
   "metadata": {
    "collapsed": false,
    "ExecuteTime": {
     "end_time": "2023-10-23T13:26:41.324233Z",
     "start_time": "2023-10-23T13:26:41.258461300Z"
    }
   }
  },
  {
   "cell_type": "code",
   "execution_count": 300,
   "metadata": {
    "ExecuteTime": {
     "end_time": "2023-10-23T13:26:41.370651600Z",
     "start_time": "2023-10-23T13:26:41.324233Z"
    }
   },
   "outputs": [
    {
     "name": "stdout",
     "output_type": "stream",
     "text": [
      "Metrics for layer 1:\n",
      "Confusion matrix: [TP FN / FP TN]\n",
      " [[9557 3106]\n",
      " [ 903 8978]]\n",
      "Accuracy =  0.8221699787083038\n",
      "F1 Score =  0.8174823582972911\n",
      "Precision =  0.7429659053293611\n",
      "Recall =  0.9086124886145127\n",
      "Shape of the train set for l1:  (100778, 28)\n"
     ]
    }
   ],
   "source": [
    "print('Metrics for layer 1:')\n",
    "print('Confusion matrix: [TP FN / FP TN]\\n', confusion_matrix(y_test,predicted))\n",
    "print('Accuracy = ', accuracy_score(y_test,predicted))\n",
    "print('F1 Score = ', f1_score(y_test,predicted))\n",
    "print('Precision = ', precision_score(y_test,predicted))\n",
    "print('Recall = ', recall_score(y_test,predicted))\n",
    "print('Shape of the train set for l1: ', X_train_dos_probe.shape)"
   ]
  },
  {
   "cell_type": "markdown",
   "metadata": {},
   "source": [
    "# R2L+U2R classifier"
   ]
  },
  {
   "cell_type": "code",
   "execution_count": 301,
   "metadata": {
    "ExecuteTime": {
     "end_time": "2023-10-23T13:26:41.473120500Z",
     "start_time": "2023-10-23T13:26:41.354574800Z"
    }
   },
   "outputs": [
    {
     "data": {
      "text/plain": "       duration protocol_type   service flag  src_bytes  dst_bytes  land  \\\n0             0           tcp      http   SF        214      14939     0   \n1             0           tcp      http   SF        257        259     0   \n2             0           udp     other   SF        516          4     0   \n3             0           tcp  ftp_data   SF       7940          0     0   \n4          6496           udp     other   SF        147        105     0   \n...         ...           ...       ...  ...        ...        ...   ...   \n54728         5           tcp      smtp   SF        908        364     0   \n54729         5           tcp     shell   SF         67          1     0   \n54730         0           tcp      http   SF        304       2698     0   \n54731         0           tcp      http   SF        309       4281     0   \n54732         0           udp  domain_u   SF         43         70     0   \n\n       wrong_fragment  urgent  hot  ...  dst_host_count  dst_host_srv_count  \\\n0                   0       0    0  ...              52                 255   \n1                   0       0    0  ...             255                 255   \n2                   0       0    0  ...             255                 255   \n3                   0       0    0  ...              79                 129   \n4                   0       0    0  ...             255                   1   \n...               ...     ...  ...  ...             ...                 ...   \n54728               0       0    0  ...             199                 148   \n54729               0       0    0  ...             255                   1   \n54730               0       0    0  ...             218                 208   \n54731               0       0    0  ...              21                 255   \n54732               0       0    0  ...             255                 254   \n\n       dst_host_same_srv_rate  dst_host_diff_srv_rate  \\\n0                        1.00                    0.00   \n1                        1.00                    0.00   \n2                        1.00                    0.00   \n3                        0.70                    0.05   \n4                        0.00                    0.62   \n...                       ...                     ...   \n54728                    0.74                    0.03   \n54729                    0.00                    0.02   \n54730                    0.95                    0.01   \n54731                    1.00                    0.00   \n54732                    1.00                    0.01   \n\n       dst_host_same_src_port_rate  dst_host_srv_diff_host_rate  \\\n0                             0.02                         0.06   \n1                             0.00                         0.00   \n2                             1.00                         0.00   \n3                             0.70                         0.02   \n4                             0.90                         0.00   \n...                            ...                          ...   \n54728                         0.01                         0.00   \n54729                         0.00                         0.00   \n54730                         0.00                         0.00   \n54731                         0.05                         0.05   \n54732                         0.01                         0.00   \n\n       dst_host_serror_rate  dst_host_srv_serror_rate  dst_host_rerror_rate  \\\n0                       0.0                       0.0                   0.0   \n1                       0.0                       0.0                   0.0   \n2                       0.0                       0.0                   0.0   \n3                       0.0                       0.0                   0.0   \n4                       0.0                       0.0                   0.0   \n...                     ...                       ...                   ...   \n54728                   0.0                       0.0                   0.0   \n54729                   0.0                       0.0                   0.0   \n54730                   0.0                       0.0                   0.0   \n54731                   0.0                       0.0                   0.0   \n54732                   0.0                       0.0                   0.0   \n\n       dst_host_srv_rerror_rate  \n0                           0.0  \n1                           0.0  \n2                           0.0  \n3                           0.0  \n4                           0.0  \n...                         ...  \n54728                       0.0  \n54729                       0.0  \n54730                       0.0  \n54731                       0.0  \n54732                       0.0  \n\n[54733 rows x 40 columns]",
      "text/html": "<div>\n<style scoped>\n    .dataframe tbody tr th:only-of-type {\n        vertical-align: middle;\n    }\n\n    .dataframe tbody tr th {\n        vertical-align: top;\n    }\n\n    .dataframe thead th {\n        text-align: right;\n    }\n</style>\n<table border=\"1\" class=\"dataframe\">\n  <thead>\n    <tr style=\"text-align: right;\">\n      <th></th>\n      <th>duration</th>\n      <th>protocol_type</th>\n      <th>service</th>\n      <th>flag</th>\n      <th>src_bytes</th>\n      <th>dst_bytes</th>\n      <th>land</th>\n      <th>wrong_fragment</th>\n      <th>urgent</th>\n      <th>hot</th>\n      <th>...</th>\n      <th>dst_host_count</th>\n      <th>dst_host_srv_count</th>\n      <th>dst_host_same_srv_rate</th>\n      <th>dst_host_diff_srv_rate</th>\n      <th>dst_host_same_src_port_rate</th>\n      <th>dst_host_srv_diff_host_rate</th>\n      <th>dst_host_serror_rate</th>\n      <th>dst_host_srv_serror_rate</th>\n      <th>dst_host_rerror_rate</th>\n      <th>dst_host_srv_rerror_rate</th>\n    </tr>\n  </thead>\n  <tbody>\n    <tr>\n      <th>0</th>\n      <td>0</td>\n      <td>tcp</td>\n      <td>http</td>\n      <td>SF</td>\n      <td>214</td>\n      <td>14939</td>\n      <td>0</td>\n      <td>0</td>\n      <td>0</td>\n      <td>0</td>\n      <td>...</td>\n      <td>52</td>\n      <td>255</td>\n      <td>1.00</td>\n      <td>0.00</td>\n      <td>0.02</td>\n      <td>0.06</td>\n      <td>0.0</td>\n      <td>0.0</td>\n      <td>0.0</td>\n      <td>0.0</td>\n    </tr>\n    <tr>\n      <th>1</th>\n      <td>0</td>\n      <td>tcp</td>\n      <td>http</td>\n      <td>SF</td>\n      <td>257</td>\n      <td>259</td>\n      <td>0</td>\n      <td>0</td>\n      <td>0</td>\n      <td>0</td>\n      <td>...</td>\n      <td>255</td>\n      <td>255</td>\n      <td>1.00</td>\n      <td>0.00</td>\n      <td>0.00</td>\n      <td>0.00</td>\n      <td>0.0</td>\n      <td>0.0</td>\n      <td>0.0</td>\n      <td>0.0</td>\n    </tr>\n    <tr>\n      <th>2</th>\n      <td>0</td>\n      <td>udp</td>\n      <td>other</td>\n      <td>SF</td>\n      <td>516</td>\n      <td>4</td>\n      <td>0</td>\n      <td>0</td>\n      <td>0</td>\n      <td>0</td>\n      <td>...</td>\n      <td>255</td>\n      <td>255</td>\n      <td>1.00</td>\n      <td>0.00</td>\n      <td>1.00</td>\n      <td>0.00</td>\n      <td>0.0</td>\n      <td>0.0</td>\n      <td>0.0</td>\n      <td>0.0</td>\n    </tr>\n    <tr>\n      <th>3</th>\n      <td>0</td>\n      <td>tcp</td>\n      <td>ftp_data</td>\n      <td>SF</td>\n      <td>7940</td>\n      <td>0</td>\n      <td>0</td>\n      <td>0</td>\n      <td>0</td>\n      <td>0</td>\n      <td>...</td>\n      <td>79</td>\n      <td>129</td>\n      <td>0.70</td>\n      <td>0.05</td>\n      <td>0.70</td>\n      <td>0.02</td>\n      <td>0.0</td>\n      <td>0.0</td>\n      <td>0.0</td>\n      <td>0.0</td>\n    </tr>\n    <tr>\n      <th>4</th>\n      <td>6496</td>\n      <td>udp</td>\n      <td>other</td>\n      <td>SF</td>\n      <td>147</td>\n      <td>105</td>\n      <td>0</td>\n      <td>0</td>\n      <td>0</td>\n      <td>0</td>\n      <td>...</td>\n      <td>255</td>\n      <td>1</td>\n      <td>0.00</td>\n      <td>0.62</td>\n      <td>0.90</td>\n      <td>0.00</td>\n      <td>0.0</td>\n      <td>0.0</td>\n      <td>0.0</td>\n      <td>0.0</td>\n    </tr>\n    <tr>\n      <th>...</th>\n      <td>...</td>\n      <td>...</td>\n      <td>...</td>\n      <td>...</td>\n      <td>...</td>\n      <td>...</td>\n      <td>...</td>\n      <td>...</td>\n      <td>...</td>\n      <td>...</td>\n      <td>...</td>\n      <td>...</td>\n      <td>...</td>\n      <td>...</td>\n      <td>...</td>\n      <td>...</td>\n      <td>...</td>\n      <td>...</td>\n      <td>...</td>\n      <td>...</td>\n      <td>...</td>\n    </tr>\n    <tr>\n      <th>54728</th>\n      <td>5</td>\n      <td>tcp</td>\n      <td>smtp</td>\n      <td>SF</td>\n      <td>908</td>\n      <td>364</td>\n      <td>0</td>\n      <td>0</td>\n      <td>0</td>\n      <td>0</td>\n      <td>...</td>\n      <td>199</td>\n      <td>148</td>\n      <td>0.74</td>\n      <td>0.03</td>\n      <td>0.01</td>\n      <td>0.00</td>\n      <td>0.0</td>\n      <td>0.0</td>\n      <td>0.0</td>\n      <td>0.0</td>\n    </tr>\n    <tr>\n      <th>54729</th>\n      <td>5</td>\n      <td>tcp</td>\n      <td>shell</td>\n      <td>SF</td>\n      <td>67</td>\n      <td>1</td>\n      <td>0</td>\n      <td>0</td>\n      <td>0</td>\n      <td>0</td>\n      <td>...</td>\n      <td>255</td>\n      <td>1</td>\n      <td>0.00</td>\n      <td>0.02</td>\n      <td>0.00</td>\n      <td>0.00</td>\n      <td>0.0</td>\n      <td>0.0</td>\n      <td>0.0</td>\n      <td>0.0</td>\n    </tr>\n    <tr>\n      <th>54730</th>\n      <td>0</td>\n      <td>tcp</td>\n      <td>http</td>\n      <td>SF</td>\n      <td>304</td>\n      <td>2698</td>\n      <td>0</td>\n      <td>0</td>\n      <td>0</td>\n      <td>0</td>\n      <td>...</td>\n      <td>218</td>\n      <td>208</td>\n      <td>0.95</td>\n      <td>0.01</td>\n      <td>0.00</td>\n      <td>0.00</td>\n      <td>0.0</td>\n      <td>0.0</td>\n      <td>0.0</td>\n      <td>0.0</td>\n    </tr>\n    <tr>\n      <th>54731</th>\n      <td>0</td>\n      <td>tcp</td>\n      <td>http</td>\n      <td>SF</td>\n      <td>309</td>\n      <td>4281</td>\n      <td>0</td>\n      <td>0</td>\n      <td>0</td>\n      <td>0</td>\n      <td>...</td>\n      <td>21</td>\n      <td>255</td>\n      <td>1.00</td>\n      <td>0.00</td>\n      <td>0.05</td>\n      <td>0.05</td>\n      <td>0.0</td>\n      <td>0.0</td>\n      <td>0.0</td>\n      <td>0.0</td>\n    </tr>\n    <tr>\n      <th>54732</th>\n      <td>0</td>\n      <td>udp</td>\n      <td>domain_u</td>\n      <td>SF</td>\n      <td>43</td>\n      <td>70</td>\n      <td>0</td>\n      <td>0</td>\n      <td>0</td>\n      <td>0</td>\n      <td>...</td>\n      <td>255</td>\n      <td>254</td>\n      <td>1.00</td>\n      <td>0.01</td>\n      <td>0.01</td>\n      <td>0.00</td>\n      <td>0.0</td>\n      <td>0.0</td>\n      <td>0.0</td>\n      <td>0.0</td>\n    </tr>\n  </tbody>\n</table>\n<p>54733 rows × 40 columns</p>\n</div>"
     },
     "execution_count": 301,
     "metadata": {},
     "output_type": "execute_result"
    }
   ],
   "source": [
    "df_train = copy.deepcopy(df_train_original)\n",
    "df_test = copy.deepcopy(df_test_original)\n",
    "df_val = copy.deepcopy(df_val_original)\n",
    "\n",
    "# load targeted attacks (Normal + r2l + u2r)\n",
    "df_train = df_train[df_train['label'].isin(normal_list+u2r_attacks+r2l_attacks)]\n",
    "df_val = df_val[df_val['label'].isin(normal_list+u2r_attacks+r2l_attacks)]\n",
    "\n",
    "# set the target variables accordingly\n",
    "y_train = np.array([1 if x in (u2r_attacks+r2l_attacks) else 0 for x in df_train['label']])\n",
    "y_val = np.array([1 if x in (u2r_attacks+r2l_attacks) else 0 for x in df_val['label']])\n",
    "\n",
    "df_train = df_train.drop(['label'],axis=1)\n",
    "df_train = df_train.reset_index().drop(['index'], axis=1)\n",
    "df_train"
   ]
  },
  {
   "cell_type": "code",
   "execution_count": 302,
   "outputs": [
    {
     "data": {
      "text/plain": "       duration protocol_type   service flag  src_bytes  dst_bytes  land  \\\n0             0           udp  domain_u   SF         36          0     0   \n1             0           tcp      http   SF        325       4673     0   \n2             0           tcp      smtp   SF        743        335     0   \n3             0           tcp      http   SF        209      29055     0   \n4             0           tcp  ftp_data   SF        567          0     0   \n...         ...           ...       ...  ...        ...        ...   ...   \n13652         0           udp  domain_u   SF         43         70     0   \n13653         0           udp  domain_u   SF         45        134     0   \n13654         0           tcp      http   SF        199        944     0   \n13655         0           tcp  ftp_data   SF      12983          0     0   \n13656         2           tcp      smtp   SF        813        329     0   \n\n       wrong_fragment  urgent  hot  ...  dst_host_count  dst_host_srv_count  \\\n0                   0       0    0  ...              67                 171   \n1                   0       0    0  ...             255                 255   \n2                   0       0    0  ...             138                  85   \n3                   0       0    0  ...             168                 255   \n4                   0       0    0  ...             113                  39   \n...               ...     ...  ...  ...             ...                 ...   \n13652               0       0    0  ...             255                 254   \n13653               0       0    0  ...             255                 254   \n13654               0       0    0  ...             255                 255   \n13655               0       0    0  ...             140                   9   \n13656               0       0    0  ...             255                 141   \n\n       dst_host_same_srv_rate  dst_host_diff_srv_rate  \\\n0                        1.00                    0.00   \n1                        1.00                    0.00   \n2                        0.62                    0.05   \n3                        1.00                    0.00   \n4                        0.35                    0.04   \n...                       ...                     ...   \n13652                    1.00                    0.01   \n13653                    1.00                    0.01   \n13654                    1.00                    0.00   \n13655                    0.06                    0.04   \n13656                    0.55                    0.06   \n\n       dst_host_same_src_port_rate  dst_host_srv_diff_host_rate  \\\n0                             1.00                         0.01   \n1                             0.00                         0.00   \n2                             0.01                         0.00   \n3                             0.01                         0.02   \n4                             0.35                         0.00   \n...                            ...                          ...   \n13652                         0.00                         0.00   \n13653                         0.00                         0.00   \n13654                         0.00                         0.00   \n13655                         0.06                         0.00   \n13656                         0.00                         0.00   \n\n       dst_host_serror_rate  dst_host_srv_serror_rate  dst_host_rerror_rate  \\\n0                      0.00                      0.00                  0.00   \n1                      0.00                      0.00                  0.00   \n2                      0.00                      0.00                  0.00   \n3                      0.00                      0.00                  0.00   \n4                      0.02                      0.00                  0.00   \n...                     ...                       ...                   ...   \n13652                  0.00                      0.00                  0.00   \n13653                  0.00                      0.00                  0.00   \n13654                  0.00                      0.00                  0.00   \n13655                  0.00                      0.00                  0.02   \n13656                  0.02                      0.02                  0.00   \n\n       dst_host_srv_rerror_rate  \n0                           0.0  \n1                           0.0  \n2                           0.0  \n3                           0.0  \n4                           0.0  \n...                         ...  \n13652                       0.0  \n13653                       0.0  \n13654                       0.0  \n13655                       0.0  \n13656                       0.0  \n\n[13657 rows x 40 columns]",
      "text/html": "<div>\n<style scoped>\n    .dataframe tbody tr th:only-of-type {\n        vertical-align: middle;\n    }\n\n    .dataframe tbody tr th {\n        vertical-align: top;\n    }\n\n    .dataframe thead th {\n        text-align: right;\n    }\n</style>\n<table border=\"1\" class=\"dataframe\">\n  <thead>\n    <tr style=\"text-align: right;\">\n      <th></th>\n      <th>duration</th>\n      <th>protocol_type</th>\n      <th>service</th>\n      <th>flag</th>\n      <th>src_bytes</th>\n      <th>dst_bytes</th>\n      <th>land</th>\n      <th>wrong_fragment</th>\n      <th>urgent</th>\n      <th>hot</th>\n      <th>...</th>\n      <th>dst_host_count</th>\n      <th>dst_host_srv_count</th>\n      <th>dst_host_same_srv_rate</th>\n      <th>dst_host_diff_srv_rate</th>\n      <th>dst_host_same_src_port_rate</th>\n      <th>dst_host_srv_diff_host_rate</th>\n      <th>dst_host_serror_rate</th>\n      <th>dst_host_srv_serror_rate</th>\n      <th>dst_host_rerror_rate</th>\n      <th>dst_host_srv_rerror_rate</th>\n    </tr>\n  </thead>\n  <tbody>\n    <tr>\n      <th>0</th>\n      <td>0</td>\n      <td>udp</td>\n      <td>domain_u</td>\n      <td>SF</td>\n      <td>36</td>\n      <td>0</td>\n      <td>0</td>\n      <td>0</td>\n      <td>0</td>\n      <td>0</td>\n      <td>...</td>\n      <td>67</td>\n      <td>171</td>\n      <td>1.00</td>\n      <td>0.00</td>\n      <td>1.00</td>\n      <td>0.01</td>\n      <td>0.00</td>\n      <td>0.00</td>\n      <td>0.00</td>\n      <td>0.0</td>\n    </tr>\n    <tr>\n      <th>1</th>\n      <td>0</td>\n      <td>tcp</td>\n      <td>http</td>\n      <td>SF</td>\n      <td>325</td>\n      <td>4673</td>\n      <td>0</td>\n      <td>0</td>\n      <td>0</td>\n      <td>0</td>\n      <td>...</td>\n      <td>255</td>\n      <td>255</td>\n      <td>1.00</td>\n      <td>0.00</td>\n      <td>0.00</td>\n      <td>0.00</td>\n      <td>0.00</td>\n      <td>0.00</td>\n      <td>0.00</td>\n      <td>0.0</td>\n    </tr>\n    <tr>\n      <th>2</th>\n      <td>0</td>\n      <td>tcp</td>\n      <td>smtp</td>\n      <td>SF</td>\n      <td>743</td>\n      <td>335</td>\n      <td>0</td>\n      <td>0</td>\n      <td>0</td>\n      <td>0</td>\n      <td>...</td>\n      <td>138</td>\n      <td>85</td>\n      <td>0.62</td>\n      <td>0.05</td>\n      <td>0.01</td>\n      <td>0.00</td>\n      <td>0.00</td>\n      <td>0.00</td>\n      <td>0.00</td>\n      <td>0.0</td>\n    </tr>\n    <tr>\n      <th>3</th>\n      <td>0</td>\n      <td>tcp</td>\n      <td>http</td>\n      <td>SF</td>\n      <td>209</td>\n      <td>29055</td>\n      <td>0</td>\n      <td>0</td>\n      <td>0</td>\n      <td>0</td>\n      <td>...</td>\n      <td>168</td>\n      <td>255</td>\n      <td>1.00</td>\n      <td>0.00</td>\n      <td>0.01</td>\n      <td>0.02</td>\n      <td>0.00</td>\n      <td>0.00</td>\n      <td>0.00</td>\n      <td>0.0</td>\n    </tr>\n    <tr>\n      <th>4</th>\n      <td>0</td>\n      <td>tcp</td>\n      <td>ftp_data</td>\n      <td>SF</td>\n      <td>567</td>\n      <td>0</td>\n      <td>0</td>\n      <td>0</td>\n      <td>0</td>\n      <td>0</td>\n      <td>...</td>\n      <td>113</td>\n      <td>39</td>\n      <td>0.35</td>\n      <td>0.04</td>\n      <td>0.35</td>\n      <td>0.00</td>\n      <td>0.02</td>\n      <td>0.00</td>\n      <td>0.00</td>\n      <td>0.0</td>\n    </tr>\n    <tr>\n      <th>...</th>\n      <td>...</td>\n      <td>...</td>\n      <td>...</td>\n      <td>...</td>\n      <td>...</td>\n      <td>...</td>\n      <td>...</td>\n      <td>...</td>\n      <td>...</td>\n      <td>...</td>\n      <td>...</td>\n      <td>...</td>\n      <td>...</td>\n      <td>...</td>\n      <td>...</td>\n      <td>...</td>\n      <td>...</td>\n      <td>...</td>\n      <td>...</td>\n      <td>...</td>\n      <td>...</td>\n    </tr>\n    <tr>\n      <th>13652</th>\n      <td>0</td>\n      <td>udp</td>\n      <td>domain_u</td>\n      <td>SF</td>\n      <td>43</td>\n      <td>70</td>\n      <td>0</td>\n      <td>0</td>\n      <td>0</td>\n      <td>0</td>\n      <td>...</td>\n      <td>255</td>\n      <td>254</td>\n      <td>1.00</td>\n      <td>0.01</td>\n      <td>0.00</td>\n      <td>0.00</td>\n      <td>0.00</td>\n      <td>0.00</td>\n      <td>0.00</td>\n      <td>0.0</td>\n    </tr>\n    <tr>\n      <th>13653</th>\n      <td>0</td>\n      <td>udp</td>\n      <td>domain_u</td>\n      <td>SF</td>\n      <td>45</td>\n      <td>134</td>\n      <td>0</td>\n      <td>0</td>\n      <td>0</td>\n      <td>0</td>\n      <td>...</td>\n      <td>255</td>\n      <td>254</td>\n      <td>1.00</td>\n      <td>0.01</td>\n      <td>0.00</td>\n      <td>0.00</td>\n      <td>0.00</td>\n      <td>0.00</td>\n      <td>0.00</td>\n      <td>0.0</td>\n    </tr>\n    <tr>\n      <th>13654</th>\n      <td>0</td>\n      <td>tcp</td>\n      <td>http</td>\n      <td>SF</td>\n      <td>199</td>\n      <td>944</td>\n      <td>0</td>\n      <td>0</td>\n      <td>0</td>\n      <td>0</td>\n      <td>...</td>\n      <td>255</td>\n      <td>255</td>\n      <td>1.00</td>\n      <td>0.00</td>\n      <td>0.00</td>\n      <td>0.00</td>\n      <td>0.00</td>\n      <td>0.00</td>\n      <td>0.00</td>\n      <td>0.0</td>\n    </tr>\n    <tr>\n      <th>13655</th>\n      <td>0</td>\n      <td>tcp</td>\n      <td>ftp_data</td>\n      <td>SF</td>\n      <td>12983</td>\n      <td>0</td>\n      <td>0</td>\n      <td>0</td>\n      <td>0</td>\n      <td>0</td>\n      <td>...</td>\n      <td>140</td>\n      <td>9</td>\n      <td>0.06</td>\n      <td>0.04</td>\n      <td>0.06</td>\n      <td>0.00</td>\n      <td>0.00</td>\n      <td>0.00</td>\n      <td>0.02</td>\n      <td>0.0</td>\n    </tr>\n    <tr>\n      <th>13656</th>\n      <td>2</td>\n      <td>tcp</td>\n      <td>smtp</td>\n      <td>SF</td>\n      <td>813</td>\n      <td>329</td>\n      <td>0</td>\n      <td>0</td>\n      <td>0</td>\n      <td>0</td>\n      <td>...</td>\n      <td>255</td>\n      <td>141</td>\n      <td>0.55</td>\n      <td>0.06</td>\n      <td>0.00</td>\n      <td>0.00</td>\n      <td>0.02</td>\n      <td>0.02</td>\n      <td>0.00</td>\n      <td>0.0</td>\n    </tr>\n  </tbody>\n</table>\n<p>13657 rows × 40 columns</p>\n</div>"
     },
     "execution_count": 302,
     "metadata": {},
     "output_type": "execute_result"
    }
   ],
   "source": [
    "df_val = df_val.drop(['label'],axis=1)\n",
    "df_val = df_val.reset_index().drop(['index'], axis=1)\n",
    "df_val"
   ],
   "metadata": {
    "collapsed": false,
    "ExecuteTime": {
     "end_time": "2023-10-23T13:26:41.585650500Z",
     "start_time": "2023-10-23T13:26:41.471202100Z"
    }
   }
  },
  {
   "cell_type": "code",
   "execution_count": 303,
   "metadata": {
    "ExecuteTime": {
     "end_time": "2023-10-23T13:26:41.591219600Z",
     "start_time": "2023-10-23T13:26:41.500039800Z"
    }
   },
   "outputs": [
    {
     "data": {
      "text/plain": "       srv_count  urgent  root_shell  hot  dst_host_srv_diff_host_rate  \\\n0             18       0           0    0                         0.06   \n1             20       0           0    0                         0.00   \n2            274       0           0    0                         0.00   \n3              5       0           0    0                         0.02   \n4              1       0           0    0                         0.00   \n...          ...     ...         ...  ...                          ...   \n54728          4       0           0    0                         0.00   \n54729          1       0           0    0                         0.00   \n54730          4       0           0    0                         0.00   \n54731          5       0           0    0                         0.05   \n54732        201       0           0    0                         0.00   \n\n       dst_host_count  logged_in  dst_host_same_src_port_rate  \\\n0                  52          1                         0.02   \n1                 255          1                         0.00   \n2                 255          0                         1.00   \n3                  79          0                         0.70   \n4                 255          0                         0.90   \n...               ...        ...                          ...   \n54728             199          1                         0.01   \n54729             255          0                         0.00   \n54730             218          1                         0.00   \n54731              21          1                         0.05   \n54732             255          0                         0.01   \n\n       srv_diff_host_rate  num_shells  dst_host_srv_count  \n0                    0.17           0                 255  \n1                    0.00           0                 255  \n2                    0.00           0                 255  \n3                    0.00           0                 129  \n4                    0.00           0                   1  \n...                   ...         ...                 ...  \n54728                0.75           0                 148  \n54729                0.00           0                   1  \n54730                0.00           0                 208  \n54731                0.00           0                 255  \n54732                0.00           0                 254  \n\n[54733 rows x 11 columns]",
      "text/html": "<div>\n<style scoped>\n    .dataframe tbody tr th:only-of-type {\n        vertical-align: middle;\n    }\n\n    .dataframe tbody tr th {\n        vertical-align: top;\n    }\n\n    .dataframe thead th {\n        text-align: right;\n    }\n</style>\n<table border=\"1\" class=\"dataframe\">\n  <thead>\n    <tr style=\"text-align: right;\">\n      <th></th>\n      <th>srv_count</th>\n      <th>urgent</th>\n      <th>root_shell</th>\n      <th>hot</th>\n      <th>dst_host_srv_diff_host_rate</th>\n      <th>dst_host_count</th>\n      <th>logged_in</th>\n      <th>dst_host_same_src_port_rate</th>\n      <th>srv_diff_host_rate</th>\n      <th>num_shells</th>\n      <th>dst_host_srv_count</th>\n    </tr>\n  </thead>\n  <tbody>\n    <tr>\n      <th>0</th>\n      <td>18</td>\n      <td>0</td>\n      <td>0</td>\n      <td>0</td>\n      <td>0.06</td>\n      <td>52</td>\n      <td>1</td>\n      <td>0.02</td>\n      <td>0.17</td>\n      <td>0</td>\n      <td>255</td>\n    </tr>\n    <tr>\n      <th>1</th>\n      <td>20</td>\n      <td>0</td>\n      <td>0</td>\n      <td>0</td>\n      <td>0.00</td>\n      <td>255</td>\n      <td>1</td>\n      <td>0.00</td>\n      <td>0.00</td>\n      <td>0</td>\n      <td>255</td>\n    </tr>\n    <tr>\n      <th>2</th>\n      <td>274</td>\n      <td>0</td>\n      <td>0</td>\n      <td>0</td>\n      <td>0.00</td>\n      <td>255</td>\n      <td>0</td>\n      <td>1.00</td>\n      <td>0.00</td>\n      <td>0</td>\n      <td>255</td>\n    </tr>\n    <tr>\n      <th>3</th>\n      <td>5</td>\n      <td>0</td>\n      <td>0</td>\n      <td>0</td>\n      <td>0.02</td>\n      <td>79</td>\n      <td>0</td>\n      <td>0.70</td>\n      <td>0.00</td>\n      <td>0</td>\n      <td>129</td>\n    </tr>\n    <tr>\n      <th>4</th>\n      <td>1</td>\n      <td>0</td>\n      <td>0</td>\n      <td>0</td>\n      <td>0.00</td>\n      <td>255</td>\n      <td>0</td>\n      <td>0.90</td>\n      <td>0.00</td>\n      <td>0</td>\n      <td>1</td>\n    </tr>\n    <tr>\n      <th>...</th>\n      <td>...</td>\n      <td>...</td>\n      <td>...</td>\n      <td>...</td>\n      <td>...</td>\n      <td>...</td>\n      <td>...</td>\n      <td>...</td>\n      <td>...</td>\n      <td>...</td>\n      <td>...</td>\n    </tr>\n    <tr>\n      <th>54728</th>\n      <td>4</td>\n      <td>0</td>\n      <td>0</td>\n      <td>0</td>\n      <td>0.00</td>\n      <td>199</td>\n      <td>1</td>\n      <td>0.01</td>\n      <td>0.75</td>\n      <td>0</td>\n      <td>148</td>\n    </tr>\n    <tr>\n      <th>54729</th>\n      <td>1</td>\n      <td>0</td>\n      <td>0</td>\n      <td>0</td>\n      <td>0.00</td>\n      <td>255</td>\n      <td>0</td>\n      <td>0.00</td>\n      <td>0.00</td>\n      <td>0</td>\n      <td>1</td>\n    </tr>\n    <tr>\n      <th>54730</th>\n      <td>4</td>\n      <td>0</td>\n      <td>0</td>\n      <td>0</td>\n      <td>0.00</td>\n      <td>218</td>\n      <td>1</td>\n      <td>0.00</td>\n      <td>0.00</td>\n      <td>0</td>\n      <td>208</td>\n    </tr>\n    <tr>\n      <th>54731</th>\n      <td>5</td>\n      <td>0</td>\n      <td>0</td>\n      <td>0</td>\n      <td>0.05</td>\n      <td>21</td>\n      <td>1</td>\n      <td>0.05</td>\n      <td>0.00</td>\n      <td>0</td>\n      <td>255</td>\n    </tr>\n    <tr>\n      <th>54732</th>\n      <td>201</td>\n      <td>0</td>\n      <td>0</td>\n      <td>0</td>\n      <td>0.00</td>\n      <td>255</td>\n      <td>0</td>\n      <td>0.01</td>\n      <td>0.00</td>\n      <td>0</td>\n      <td>254</td>\n    </tr>\n  </tbody>\n</table>\n<p>54733 rows × 11 columns</p>\n</div>"
     },
     "execution_count": 303,
     "metadata": {},
     "output_type": "execute_result"
    }
   ],
   "source": [
    "X_train = df_train[common_features_l2]\n",
    "X_train"
   ]
  },
  {
   "cell_type": "code",
   "execution_count": 304,
   "outputs": [
    {
     "data": {
      "text/plain": "       srv_count  urgent  root_shell  hot  dst_host_srv_diff_host_rate  \\\n0              4       0           0    0                         0.01   \n1             20       0           0    0                         0.00   \n2              2       0           0    0                         0.00   \n3              3       0           0    0                         0.02   \n4              1       0           0    0                         0.00   \n...          ...     ...         ...  ...                          ...   \n13652        274       0           0    0                         0.00   \n13653        154       0           0    0                         0.00   \n13654         13       0           0    0                         0.00   \n13655          2       0           0    0                         0.00   \n13656          3       0           0    0                         0.00   \n\n       dst_host_count  logged_in  dst_host_same_src_port_rate  \\\n0                  67          0                         1.00   \n1                 255          1                         0.00   \n2                 138          1                         0.01   \n3                 168          1                         0.01   \n4                 113          1                         0.35   \n...               ...        ...                          ...   \n13652             255          0                         0.00   \n13653             255          0                         0.00   \n13654             255          1                         0.00   \n13655             140          0                         0.06   \n13656             255          1                         0.00   \n\n       srv_diff_host_rate  num_shells  dst_host_srv_count  \n0                    0.75           0                 171  \n1                    0.00           0                 255  \n2                    1.00           0                  85  \n3                    0.00           0                 255  \n4                    0.00           0                  39  \n...                   ...         ...                 ...  \n13652                0.00           0                 254  \n13653                0.01           0                 254  \n13654                0.15           0                 255  \n13655                0.00           0                   9  \n13656                1.00           0                 141  \n\n[13657 rows x 11 columns]",
      "text/html": "<div>\n<style scoped>\n    .dataframe tbody tr th:only-of-type {\n        vertical-align: middle;\n    }\n\n    .dataframe tbody tr th {\n        vertical-align: top;\n    }\n\n    .dataframe thead th {\n        text-align: right;\n    }\n</style>\n<table border=\"1\" class=\"dataframe\">\n  <thead>\n    <tr style=\"text-align: right;\">\n      <th></th>\n      <th>srv_count</th>\n      <th>urgent</th>\n      <th>root_shell</th>\n      <th>hot</th>\n      <th>dst_host_srv_diff_host_rate</th>\n      <th>dst_host_count</th>\n      <th>logged_in</th>\n      <th>dst_host_same_src_port_rate</th>\n      <th>srv_diff_host_rate</th>\n      <th>num_shells</th>\n      <th>dst_host_srv_count</th>\n    </tr>\n  </thead>\n  <tbody>\n    <tr>\n      <th>0</th>\n      <td>4</td>\n      <td>0</td>\n      <td>0</td>\n      <td>0</td>\n      <td>0.01</td>\n      <td>67</td>\n      <td>0</td>\n      <td>1.00</td>\n      <td>0.75</td>\n      <td>0</td>\n      <td>171</td>\n    </tr>\n    <tr>\n      <th>1</th>\n      <td>20</td>\n      <td>0</td>\n      <td>0</td>\n      <td>0</td>\n      <td>0.00</td>\n      <td>255</td>\n      <td>1</td>\n      <td>0.00</td>\n      <td>0.00</td>\n      <td>0</td>\n      <td>255</td>\n    </tr>\n    <tr>\n      <th>2</th>\n      <td>2</td>\n      <td>0</td>\n      <td>0</td>\n      <td>0</td>\n      <td>0.00</td>\n      <td>138</td>\n      <td>1</td>\n      <td>0.01</td>\n      <td>1.00</td>\n      <td>0</td>\n      <td>85</td>\n    </tr>\n    <tr>\n      <th>3</th>\n      <td>3</td>\n      <td>0</td>\n      <td>0</td>\n      <td>0</td>\n      <td>0.02</td>\n      <td>168</td>\n      <td>1</td>\n      <td>0.01</td>\n      <td>0.00</td>\n      <td>0</td>\n      <td>255</td>\n    </tr>\n    <tr>\n      <th>4</th>\n      <td>1</td>\n      <td>0</td>\n      <td>0</td>\n      <td>0</td>\n      <td>0.00</td>\n      <td>113</td>\n      <td>1</td>\n      <td>0.35</td>\n      <td>0.00</td>\n      <td>0</td>\n      <td>39</td>\n    </tr>\n    <tr>\n      <th>...</th>\n      <td>...</td>\n      <td>...</td>\n      <td>...</td>\n      <td>...</td>\n      <td>...</td>\n      <td>...</td>\n      <td>...</td>\n      <td>...</td>\n      <td>...</td>\n      <td>...</td>\n      <td>...</td>\n    </tr>\n    <tr>\n      <th>13652</th>\n      <td>274</td>\n      <td>0</td>\n      <td>0</td>\n      <td>0</td>\n      <td>0.00</td>\n      <td>255</td>\n      <td>0</td>\n      <td>0.00</td>\n      <td>0.00</td>\n      <td>0</td>\n      <td>254</td>\n    </tr>\n    <tr>\n      <th>13653</th>\n      <td>154</td>\n      <td>0</td>\n      <td>0</td>\n      <td>0</td>\n      <td>0.00</td>\n      <td>255</td>\n      <td>0</td>\n      <td>0.00</td>\n      <td>0.01</td>\n      <td>0</td>\n      <td>254</td>\n    </tr>\n    <tr>\n      <th>13654</th>\n      <td>13</td>\n      <td>0</td>\n      <td>0</td>\n      <td>0</td>\n      <td>0.00</td>\n      <td>255</td>\n      <td>1</td>\n      <td>0.00</td>\n      <td>0.15</td>\n      <td>0</td>\n      <td>255</td>\n    </tr>\n    <tr>\n      <th>13655</th>\n      <td>2</td>\n      <td>0</td>\n      <td>0</td>\n      <td>0</td>\n      <td>0.00</td>\n      <td>140</td>\n      <td>0</td>\n      <td>0.06</td>\n      <td>0.00</td>\n      <td>0</td>\n      <td>9</td>\n    </tr>\n    <tr>\n      <th>13656</th>\n      <td>3</td>\n      <td>0</td>\n      <td>0</td>\n      <td>0</td>\n      <td>0.00</td>\n      <td>255</td>\n      <td>1</td>\n      <td>0.00</td>\n      <td>1.00</td>\n      <td>0</td>\n      <td>141</td>\n    </tr>\n  </tbody>\n</table>\n<p>13657 rows × 11 columns</p>\n</div>"
     },
     "execution_count": 304,
     "metadata": {},
     "output_type": "execute_result"
    }
   ],
   "source": [
    "X_validate = df_val[common_features_l2]\n",
    "X_validate"
   ],
   "metadata": {
    "collapsed": false,
    "ExecuteTime": {
     "end_time": "2023-10-23T13:26:41.599729900Z",
     "start_time": "2023-10-23T13:26:41.518576100Z"
    }
   }
  },
  {
   "cell_type": "code",
   "execution_count": 305,
   "metadata": {
    "ExecuteTime": {
     "end_time": "2023-10-23T13:26:41.613535200Z",
     "start_time": "2023-10-23T13:26:41.540001900Z"
    }
   },
   "outputs": [
    {
     "data": {
      "text/plain": "       srv_count  urgent  root_shell  hot  dst_host_srv_diff_host_rate  \\\n0       0.035225     0.0         0.0  0.0                         0.06   \n1       0.039139     0.0         0.0  0.0                         0.00   \n2       0.536204     0.0         0.0  0.0                         0.00   \n3       0.009785     0.0         0.0  0.0                         0.02   \n4       0.001957     0.0         0.0  0.0                         0.00   \n...          ...     ...         ...  ...                          ...   \n54728   0.007828     0.0         0.0  0.0                         0.00   \n54729   0.001957     0.0         0.0  0.0                         0.00   \n54730   0.007828     0.0         0.0  0.0                         0.00   \n54731   0.009785     0.0         0.0  0.0                         0.05   \n54732   0.393346     0.0         0.0  0.0                         0.00   \n\n       dst_host_count  logged_in  dst_host_same_src_port_rate  \\\n0            0.203922        1.0                         0.02   \n1            1.000000        1.0                         0.00   \n2            1.000000        0.0                         1.00   \n3            0.309804        0.0                         0.70   \n4            1.000000        0.0                         0.90   \n...               ...        ...                          ...   \n54728        0.780392        1.0                         0.01   \n54729        1.000000        0.0                         0.00   \n54730        0.854902        1.0                         0.00   \n54731        0.082353        1.0                         0.05   \n54732        1.000000        0.0                         0.01   \n\n       srv_diff_host_rate  num_shells  dst_host_srv_count  \n0                    0.17         0.0            1.000000  \n1                    0.00         0.0            1.000000  \n2                    0.00         0.0            1.000000  \n3                    0.00         0.0            0.505882  \n4                    0.00         0.0            0.003922  \n...                   ...         ...                 ...  \n54728                0.75         0.0            0.580392  \n54729                0.00         0.0            0.003922  \n54730                0.00         0.0            0.815686  \n54731                0.00         0.0            1.000000  \n54732                0.00         0.0            0.996078  \n\n[54733 rows x 11 columns]",
      "text/html": "<div>\n<style scoped>\n    .dataframe tbody tr th:only-of-type {\n        vertical-align: middle;\n    }\n\n    .dataframe tbody tr th {\n        vertical-align: top;\n    }\n\n    .dataframe thead th {\n        text-align: right;\n    }\n</style>\n<table border=\"1\" class=\"dataframe\">\n  <thead>\n    <tr style=\"text-align: right;\">\n      <th></th>\n      <th>srv_count</th>\n      <th>urgent</th>\n      <th>root_shell</th>\n      <th>hot</th>\n      <th>dst_host_srv_diff_host_rate</th>\n      <th>dst_host_count</th>\n      <th>logged_in</th>\n      <th>dst_host_same_src_port_rate</th>\n      <th>srv_diff_host_rate</th>\n      <th>num_shells</th>\n      <th>dst_host_srv_count</th>\n    </tr>\n  </thead>\n  <tbody>\n    <tr>\n      <th>0</th>\n      <td>0.035225</td>\n      <td>0.0</td>\n      <td>0.0</td>\n      <td>0.0</td>\n      <td>0.06</td>\n      <td>0.203922</td>\n      <td>1.0</td>\n      <td>0.02</td>\n      <td>0.17</td>\n      <td>0.0</td>\n      <td>1.000000</td>\n    </tr>\n    <tr>\n      <th>1</th>\n      <td>0.039139</td>\n      <td>0.0</td>\n      <td>0.0</td>\n      <td>0.0</td>\n      <td>0.00</td>\n      <td>1.000000</td>\n      <td>1.0</td>\n      <td>0.00</td>\n      <td>0.00</td>\n      <td>0.0</td>\n      <td>1.000000</td>\n    </tr>\n    <tr>\n      <th>2</th>\n      <td>0.536204</td>\n      <td>0.0</td>\n      <td>0.0</td>\n      <td>0.0</td>\n      <td>0.00</td>\n      <td>1.000000</td>\n      <td>0.0</td>\n      <td>1.00</td>\n      <td>0.00</td>\n      <td>0.0</td>\n      <td>1.000000</td>\n    </tr>\n    <tr>\n      <th>3</th>\n      <td>0.009785</td>\n      <td>0.0</td>\n      <td>0.0</td>\n      <td>0.0</td>\n      <td>0.02</td>\n      <td>0.309804</td>\n      <td>0.0</td>\n      <td>0.70</td>\n      <td>0.00</td>\n      <td>0.0</td>\n      <td>0.505882</td>\n    </tr>\n    <tr>\n      <th>4</th>\n      <td>0.001957</td>\n      <td>0.0</td>\n      <td>0.0</td>\n      <td>0.0</td>\n      <td>0.00</td>\n      <td>1.000000</td>\n      <td>0.0</td>\n      <td>0.90</td>\n      <td>0.00</td>\n      <td>0.0</td>\n      <td>0.003922</td>\n    </tr>\n    <tr>\n      <th>...</th>\n      <td>...</td>\n      <td>...</td>\n      <td>...</td>\n      <td>...</td>\n      <td>...</td>\n      <td>...</td>\n      <td>...</td>\n      <td>...</td>\n      <td>...</td>\n      <td>...</td>\n      <td>...</td>\n    </tr>\n    <tr>\n      <th>54728</th>\n      <td>0.007828</td>\n      <td>0.0</td>\n      <td>0.0</td>\n      <td>0.0</td>\n      <td>0.00</td>\n      <td>0.780392</td>\n      <td>1.0</td>\n      <td>0.01</td>\n      <td>0.75</td>\n      <td>0.0</td>\n      <td>0.580392</td>\n    </tr>\n    <tr>\n      <th>54729</th>\n      <td>0.001957</td>\n      <td>0.0</td>\n      <td>0.0</td>\n      <td>0.0</td>\n      <td>0.00</td>\n      <td>1.000000</td>\n      <td>0.0</td>\n      <td>0.00</td>\n      <td>0.00</td>\n      <td>0.0</td>\n      <td>0.003922</td>\n    </tr>\n    <tr>\n      <th>54730</th>\n      <td>0.007828</td>\n      <td>0.0</td>\n      <td>0.0</td>\n      <td>0.0</td>\n      <td>0.00</td>\n      <td>0.854902</td>\n      <td>1.0</td>\n      <td>0.00</td>\n      <td>0.00</td>\n      <td>0.0</td>\n      <td>0.815686</td>\n    </tr>\n    <tr>\n      <th>54731</th>\n      <td>0.009785</td>\n      <td>0.0</td>\n      <td>0.0</td>\n      <td>0.0</td>\n      <td>0.05</td>\n      <td>0.082353</td>\n      <td>1.0</td>\n      <td>0.05</td>\n      <td>0.00</td>\n      <td>0.0</td>\n      <td>1.000000</td>\n    </tr>\n    <tr>\n      <th>54732</th>\n      <td>0.393346</td>\n      <td>0.0</td>\n      <td>0.0</td>\n      <td>0.0</td>\n      <td>0.00</td>\n      <td>1.000000</td>\n      <td>0.0</td>\n      <td>0.01</td>\n      <td>0.00</td>\n      <td>0.0</td>\n      <td>0.996078</td>\n    </tr>\n  </tbody>\n</table>\n<p>54733 rows × 11 columns</p>\n</div>"
     },
     "execution_count": 305,
     "metadata": {},
     "output_type": "execute_result"
    }
   ],
   "source": [
    "df_minmax = scaler2.fit_transform(X_train)\n",
    "X_train = pd.DataFrame(df_minmax, columns=X_train.columns)\n",
    "X_train"
   ]
  },
  {
   "cell_type": "code",
   "execution_count": 306,
   "outputs": [
    {
     "data": {
      "text/plain": "       srv_count  urgent  root_shell  hot  dst_host_srv_diff_host_rate  \\\n0       0.007828     0.0         0.0  0.0                         0.01   \n1       0.039139     0.0         0.0  0.0                         0.00   \n2       0.003914     0.0         0.0  0.0                         0.00   \n3       0.005871     0.0         0.0  0.0                         0.02   \n4       0.001957     0.0         0.0  0.0                         0.00   \n...          ...     ...         ...  ...                          ...   \n13652   0.536204     0.0         0.0  0.0                         0.00   \n13653   0.301370     0.0         0.0  0.0                         0.00   \n13654   0.025440     0.0         0.0  0.0                         0.00   \n13655   0.003914     0.0         0.0  0.0                         0.00   \n13656   0.005871     0.0         0.0  0.0                         0.00   \n\n       dst_host_count  logged_in  dst_host_same_src_port_rate  \\\n0            0.262745        0.0                         1.00   \n1            1.000000        1.0                         0.00   \n2            0.541176        1.0                         0.01   \n3            0.658824        1.0                         0.01   \n4            0.443137        1.0                         0.35   \n...               ...        ...                          ...   \n13652        1.000000        0.0                         0.00   \n13653        1.000000        0.0                         0.00   \n13654        1.000000        1.0                         0.00   \n13655        0.549020        0.0                         0.06   \n13656        1.000000        1.0                         0.00   \n\n       srv_diff_host_rate  num_shells  dst_host_srv_count  \n0                    0.75         0.0            0.670588  \n1                    0.00         0.0            1.000000  \n2                    1.00         0.0            0.333333  \n3                    0.00         0.0            1.000000  \n4                    0.00         0.0            0.152941  \n...                   ...         ...                 ...  \n13652                0.00         0.0            0.996078  \n13653                0.01         0.0            0.996078  \n13654                0.15         0.0            1.000000  \n13655                0.00         0.0            0.035294  \n13656                1.00         0.0            0.552941  \n\n[13657 rows x 11 columns]",
      "text/html": "<div>\n<style scoped>\n    .dataframe tbody tr th:only-of-type {\n        vertical-align: middle;\n    }\n\n    .dataframe tbody tr th {\n        vertical-align: top;\n    }\n\n    .dataframe thead th {\n        text-align: right;\n    }\n</style>\n<table border=\"1\" class=\"dataframe\">\n  <thead>\n    <tr style=\"text-align: right;\">\n      <th></th>\n      <th>srv_count</th>\n      <th>urgent</th>\n      <th>root_shell</th>\n      <th>hot</th>\n      <th>dst_host_srv_diff_host_rate</th>\n      <th>dst_host_count</th>\n      <th>logged_in</th>\n      <th>dst_host_same_src_port_rate</th>\n      <th>srv_diff_host_rate</th>\n      <th>num_shells</th>\n      <th>dst_host_srv_count</th>\n    </tr>\n  </thead>\n  <tbody>\n    <tr>\n      <th>0</th>\n      <td>0.007828</td>\n      <td>0.0</td>\n      <td>0.0</td>\n      <td>0.0</td>\n      <td>0.01</td>\n      <td>0.262745</td>\n      <td>0.0</td>\n      <td>1.00</td>\n      <td>0.75</td>\n      <td>0.0</td>\n      <td>0.670588</td>\n    </tr>\n    <tr>\n      <th>1</th>\n      <td>0.039139</td>\n      <td>0.0</td>\n      <td>0.0</td>\n      <td>0.0</td>\n      <td>0.00</td>\n      <td>1.000000</td>\n      <td>1.0</td>\n      <td>0.00</td>\n      <td>0.00</td>\n      <td>0.0</td>\n      <td>1.000000</td>\n    </tr>\n    <tr>\n      <th>2</th>\n      <td>0.003914</td>\n      <td>0.0</td>\n      <td>0.0</td>\n      <td>0.0</td>\n      <td>0.00</td>\n      <td>0.541176</td>\n      <td>1.0</td>\n      <td>0.01</td>\n      <td>1.00</td>\n      <td>0.0</td>\n      <td>0.333333</td>\n    </tr>\n    <tr>\n      <th>3</th>\n      <td>0.005871</td>\n      <td>0.0</td>\n      <td>0.0</td>\n      <td>0.0</td>\n      <td>0.02</td>\n      <td>0.658824</td>\n      <td>1.0</td>\n      <td>0.01</td>\n      <td>0.00</td>\n      <td>0.0</td>\n      <td>1.000000</td>\n    </tr>\n    <tr>\n      <th>4</th>\n      <td>0.001957</td>\n      <td>0.0</td>\n      <td>0.0</td>\n      <td>0.0</td>\n      <td>0.00</td>\n      <td>0.443137</td>\n      <td>1.0</td>\n      <td>0.35</td>\n      <td>0.00</td>\n      <td>0.0</td>\n      <td>0.152941</td>\n    </tr>\n    <tr>\n      <th>...</th>\n      <td>...</td>\n      <td>...</td>\n      <td>...</td>\n      <td>...</td>\n      <td>...</td>\n      <td>...</td>\n      <td>...</td>\n      <td>...</td>\n      <td>...</td>\n      <td>...</td>\n      <td>...</td>\n    </tr>\n    <tr>\n      <th>13652</th>\n      <td>0.536204</td>\n      <td>0.0</td>\n      <td>0.0</td>\n      <td>0.0</td>\n      <td>0.00</td>\n      <td>1.000000</td>\n      <td>0.0</td>\n      <td>0.00</td>\n      <td>0.00</td>\n      <td>0.0</td>\n      <td>0.996078</td>\n    </tr>\n    <tr>\n      <th>13653</th>\n      <td>0.301370</td>\n      <td>0.0</td>\n      <td>0.0</td>\n      <td>0.0</td>\n      <td>0.00</td>\n      <td>1.000000</td>\n      <td>0.0</td>\n      <td>0.00</td>\n      <td>0.01</td>\n      <td>0.0</td>\n      <td>0.996078</td>\n    </tr>\n    <tr>\n      <th>13654</th>\n      <td>0.025440</td>\n      <td>0.0</td>\n      <td>0.0</td>\n      <td>0.0</td>\n      <td>0.00</td>\n      <td>1.000000</td>\n      <td>1.0</td>\n      <td>0.00</td>\n      <td>0.15</td>\n      <td>0.0</td>\n      <td>1.000000</td>\n    </tr>\n    <tr>\n      <th>13655</th>\n      <td>0.003914</td>\n      <td>0.0</td>\n      <td>0.0</td>\n      <td>0.0</td>\n      <td>0.00</td>\n      <td>0.549020</td>\n      <td>0.0</td>\n      <td>0.06</td>\n      <td>0.00</td>\n      <td>0.0</td>\n      <td>0.035294</td>\n    </tr>\n    <tr>\n      <th>13656</th>\n      <td>0.005871</td>\n      <td>0.0</td>\n      <td>0.0</td>\n      <td>0.0</td>\n      <td>0.00</td>\n      <td>1.000000</td>\n      <td>1.0</td>\n      <td>0.00</td>\n      <td>1.00</td>\n      <td>0.0</td>\n      <td>0.552941</td>\n    </tr>\n  </tbody>\n</table>\n<p>13657 rows × 11 columns</p>\n</div>"
     },
     "execution_count": 306,
     "metadata": {},
     "output_type": "execute_result"
    }
   ],
   "source": [
    "df_minmax = scaler2.transform(X_validate)\n",
    "X_validate = pd.DataFrame(df_minmax, columns=X_validate.columns)\n",
    "X_validate"
   ],
   "metadata": {
    "collapsed": false,
    "ExecuteTime": {
     "end_time": "2023-10-23T13:26:41.620207300Z",
     "start_time": "2023-10-23T13:26:41.564600700Z"
    }
   }
  },
  {
   "cell_type": "code",
   "execution_count": 307,
   "metadata": {
    "ExecuteTime": {
     "end_time": "2023-10-23T13:26:41.887793500Z",
     "start_time": "2023-10-23T13:26:41.583908600Z"
    }
   },
   "outputs": [
    {
     "data": {
      "text/plain": "       srv_count  urgent  root_shell  hot  dst_host_srv_diff_host_rate  \\\n0       0.035225     0.0         0.0  0.0                         0.06   \n1       0.039139     0.0         0.0  0.0                         0.00   \n2       0.536204     0.0         0.0  0.0                         0.00   \n3       0.009785     0.0         0.0  0.0                         0.02   \n4       0.001957     0.0         0.0  0.0                         0.00   \n...          ...     ...         ...  ...                          ...   \n54728   0.007828     0.0         0.0  0.0                         0.00   \n54729   0.001957     0.0         0.0  0.0                         0.00   \n54730   0.007828     0.0         0.0  0.0                         0.00   \n54731   0.009785     0.0         0.0  0.0                         0.05   \n54732   0.393346     0.0         0.0  0.0                         0.00   \n\n       dst_host_count  logged_in  dst_host_same_src_port_rate  \\\n0            0.203922        1.0                         0.02   \n1            1.000000        1.0                         0.00   \n2            1.000000        0.0                         1.00   \n3            0.309804        0.0                         0.70   \n4            1.000000        0.0                         0.90   \n...               ...        ...                          ...   \n54728        0.780392        1.0                         0.01   \n54729        1.000000        0.0                         0.00   \n54730        0.854902        1.0                         0.00   \n54731        0.082353        1.0                         0.05   \n54732        1.000000        0.0                         0.01   \n\n       srv_diff_host_rate  num_shells  ...  flag_OTH  flag_REJ  flag_RSTO  \\\n0                    0.17         0.0  ...       0.0       0.0        0.0   \n1                    0.00         0.0  ...       0.0       0.0        0.0   \n2                    0.00         0.0  ...       0.0       0.0        0.0   \n3                    0.00         0.0  ...       0.0       0.0        0.0   \n4                    0.00         0.0  ...       0.0       0.0        0.0   \n...                   ...         ...  ...       ...       ...        ...   \n54728                0.75         0.0  ...       0.0       0.0        0.0   \n54729                0.00         0.0  ...       0.0       0.0        0.0   \n54730                0.00         0.0  ...       0.0       0.0        0.0   \n54731                0.00         0.0  ...       0.0       0.0        0.0   \n54732                0.00         0.0  ...       0.0       0.0        0.0   \n\n       flag_RSTR  flag_S0  flag_S1  flag_S2  flag_S3  flag_SF  flag_SH  \n0            0.0      0.0      0.0      0.0      0.0      1.0      0.0  \n1            0.0      0.0      0.0      0.0      0.0      1.0      0.0  \n2            0.0      0.0      0.0      0.0      0.0      1.0      0.0  \n3            0.0      0.0      0.0      0.0      0.0      1.0      0.0  \n4            0.0      0.0      0.0      0.0      0.0      1.0      0.0  \n...          ...      ...      ...      ...      ...      ...      ...  \n54728        0.0      0.0      0.0      0.0      0.0      1.0      0.0  \n54729        0.0      0.0      0.0      0.0      0.0      1.0      0.0  \n54730        0.0      0.0      0.0      0.0      0.0      1.0      0.0  \n54731        0.0      0.0      0.0      0.0      0.0      1.0      0.0  \n54732        0.0      0.0      0.0      0.0      0.0      1.0      0.0  \n\n[54733 rows x 51 columns]",
      "text/html": "<div>\n<style scoped>\n    .dataframe tbody tr th:only-of-type {\n        vertical-align: middle;\n    }\n\n    .dataframe tbody tr th {\n        vertical-align: top;\n    }\n\n    .dataframe thead th {\n        text-align: right;\n    }\n</style>\n<table border=\"1\" class=\"dataframe\">\n  <thead>\n    <tr style=\"text-align: right;\">\n      <th></th>\n      <th>srv_count</th>\n      <th>urgent</th>\n      <th>root_shell</th>\n      <th>hot</th>\n      <th>dst_host_srv_diff_host_rate</th>\n      <th>dst_host_count</th>\n      <th>logged_in</th>\n      <th>dst_host_same_src_port_rate</th>\n      <th>srv_diff_host_rate</th>\n      <th>num_shells</th>\n      <th>...</th>\n      <th>flag_OTH</th>\n      <th>flag_REJ</th>\n      <th>flag_RSTO</th>\n      <th>flag_RSTR</th>\n      <th>flag_S0</th>\n      <th>flag_S1</th>\n      <th>flag_S2</th>\n      <th>flag_S3</th>\n      <th>flag_SF</th>\n      <th>flag_SH</th>\n    </tr>\n  </thead>\n  <tbody>\n    <tr>\n      <th>0</th>\n      <td>0.035225</td>\n      <td>0.0</td>\n      <td>0.0</td>\n      <td>0.0</td>\n      <td>0.06</td>\n      <td>0.203922</td>\n      <td>1.0</td>\n      <td>0.02</td>\n      <td>0.17</td>\n      <td>0.0</td>\n      <td>...</td>\n      <td>0.0</td>\n      <td>0.0</td>\n      <td>0.0</td>\n      <td>0.0</td>\n      <td>0.0</td>\n      <td>0.0</td>\n      <td>0.0</td>\n      <td>0.0</td>\n      <td>1.0</td>\n      <td>0.0</td>\n    </tr>\n    <tr>\n      <th>1</th>\n      <td>0.039139</td>\n      <td>0.0</td>\n      <td>0.0</td>\n      <td>0.0</td>\n      <td>0.00</td>\n      <td>1.000000</td>\n      <td>1.0</td>\n      <td>0.00</td>\n      <td>0.00</td>\n      <td>0.0</td>\n      <td>...</td>\n      <td>0.0</td>\n      <td>0.0</td>\n      <td>0.0</td>\n      <td>0.0</td>\n      <td>0.0</td>\n      <td>0.0</td>\n      <td>0.0</td>\n      <td>0.0</td>\n      <td>1.0</td>\n      <td>0.0</td>\n    </tr>\n    <tr>\n      <th>2</th>\n      <td>0.536204</td>\n      <td>0.0</td>\n      <td>0.0</td>\n      <td>0.0</td>\n      <td>0.00</td>\n      <td>1.000000</td>\n      <td>0.0</td>\n      <td>1.00</td>\n      <td>0.00</td>\n      <td>0.0</td>\n      <td>...</td>\n      <td>0.0</td>\n      <td>0.0</td>\n      <td>0.0</td>\n      <td>0.0</td>\n      <td>0.0</td>\n      <td>0.0</td>\n      <td>0.0</td>\n      <td>0.0</td>\n      <td>1.0</td>\n      <td>0.0</td>\n    </tr>\n    <tr>\n      <th>3</th>\n      <td>0.009785</td>\n      <td>0.0</td>\n      <td>0.0</td>\n      <td>0.0</td>\n      <td>0.02</td>\n      <td>0.309804</td>\n      <td>0.0</td>\n      <td>0.70</td>\n      <td>0.00</td>\n      <td>0.0</td>\n      <td>...</td>\n      <td>0.0</td>\n      <td>0.0</td>\n      <td>0.0</td>\n      <td>0.0</td>\n      <td>0.0</td>\n      <td>0.0</td>\n      <td>0.0</td>\n      <td>0.0</td>\n      <td>1.0</td>\n      <td>0.0</td>\n    </tr>\n    <tr>\n      <th>4</th>\n      <td>0.001957</td>\n      <td>0.0</td>\n      <td>0.0</td>\n      <td>0.0</td>\n      <td>0.00</td>\n      <td>1.000000</td>\n      <td>0.0</td>\n      <td>0.90</td>\n      <td>0.00</td>\n      <td>0.0</td>\n      <td>...</td>\n      <td>0.0</td>\n      <td>0.0</td>\n      <td>0.0</td>\n      <td>0.0</td>\n      <td>0.0</td>\n      <td>0.0</td>\n      <td>0.0</td>\n      <td>0.0</td>\n      <td>1.0</td>\n      <td>0.0</td>\n    </tr>\n    <tr>\n      <th>...</th>\n      <td>...</td>\n      <td>...</td>\n      <td>...</td>\n      <td>...</td>\n      <td>...</td>\n      <td>...</td>\n      <td>...</td>\n      <td>...</td>\n      <td>...</td>\n      <td>...</td>\n      <td>...</td>\n      <td>...</td>\n      <td>...</td>\n      <td>...</td>\n      <td>...</td>\n      <td>...</td>\n      <td>...</td>\n      <td>...</td>\n      <td>...</td>\n      <td>...</td>\n      <td>...</td>\n    </tr>\n    <tr>\n      <th>54728</th>\n      <td>0.007828</td>\n      <td>0.0</td>\n      <td>0.0</td>\n      <td>0.0</td>\n      <td>0.00</td>\n      <td>0.780392</td>\n      <td>1.0</td>\n      <td>0.01</td>\n      <td>0.75</td>\n      <td>0.0</td>\n      <td>...</td>\n      <td>0.0</td>\n      <td>0.0</td>\n      <td>0.0</td>\n      <td>0.0</td>\n      <td>0.0</td>\n      <td>0.0</td>\n      <td>0.0</td>\n      <td>0.0</td>\n      <td>1.0</td>\n      <td>0.0</td>\n    </tr>\n    <tr>\n      <th>54729</th>\n      <td>0.001957</td>\n      <td>0.0</td>\n      <td>0.0</td>\n      <td>0.0</td>\n      <td>0.00</td>\n      <td>1.000000</td>\n      <td>0.0</td>\n      <td>0.00</td>\n      <td>0.00</td>\n      <td>0.0</td>\n      <td>...</td>\n      <td>0.0</td>\n      <td>0.0</td>\n      <td>0.0</td>\n      <td>0.0</td>\n      <td>0.0</td>\n      <td>0.0</td>\n      <td>0.0</td>\n      <td>0.0</td>\n      <td>1.0</td>\n      <td>0.0</td>\n    </tr>\n    <tr>\n      <th>54730</th>\n      <td>0.007828</td>\n      <td>0.0</td>\n      <td>0.0</td>\n      <td>0.0</td>\n      <td>0.00</td>\n      <td>0.854902</td>\n      <td>1.0</td>\n      <td>0.00</td>\n      <td>0.00</td>\n      <td>0.0</td>\n      <td>...</td>\n      <td>0.0</td>\n      <td>0.0</td>\n      <td>0.0</td>\n      <td>0.0</td>\n      <td>0.0</td>\n      <td>0.0</td>\n      <td>0.0</td>\n      <td>0.0</td>\n      <td>1.0</td>\n      <td>0.0</td>\n    </tr>\n    <tr>\n      <th>54731</th>\n      <td>0.009785</td>\n      <td>0.0</td>\n      <td>0.0</td>\n      <td>0.0</td>\n      <td>0.05</td>\n      <td>0.082353</td>\n      <td>1.0</td>\n      <td>0.05</td>\n      <td>0.00</td>\n      <td>0.0</td>\n      <td>...</td>\n      <td>0.0</td>\n      <td>0.0</td>\n      <td>0.0</td>\n      <td>0.0</td>\n      <td>0.0</td>\n      <td>0.0</td>\n      <td>0.0</td>\n      <td>0.0</td>\n      <td>1.0</td>\n      <td>0.0</td>\n    </tr>\n    <tr>\n      <th>54732</th>\n      <td>0.393346</td>\n      <td>0.0</td>\n      <td>0.0</td>\n      <td>0.0</td>\n      <td>0.00</td>\n      <td>1.000000</td>\n      <td>0.0</td>\n      <td>0.01</td>\n      <td>0.00</td>\n      <td>0.0</td>\n      <td>...</td>\n      <td>0.0</td>\n      <td>0.0</td>\n      <td>0.0</td>\n      <td>0.0</td>\n      <td>0.0</td>\n      <td>0.0</td>\n      <td>0.0</td>\n      <td>0.0</td>\n      <td>1.0</td>\n      <td>0.0</td>\n    </tr>\n  </tbody>\n</table>\n<p>54733 rows × 51 columns</p>\n</div>"
     },
     "execution_count": 307,
     "metadata": {},
     "output_type": "execute_result"
    }
   ],
   "source": [
    "# perform One-hot encoding for the train set\n",
    "label_enc = ohe2.fit_transform(df_train.iloc[:,1:4])\n",
    "label_enc.toarray()\n",
    "new_labels = ohe2.get_feature_names_out(categorical_features)\n",
    "df_enc = pd.DataFrame(data=label_enc.toarray(), columns=new_labels)\n",
    "X_train = pd.concat([X_train, df_enc], axis=1)\n",
    "X_train"
   ]
  },
  {
   "cell_type": "code",
   "execution_count": 308,
   "outputs": [
    {
     "data": {
      "text/plain": "       srv_count  urgent  root_shell  hot  dst_host_srv_diff_host_rate  \\\n0       0.007828     0.0         0.0  0.0                         0.01   \n1       0.039139     0.0         0.0  0.0                         0.00   \n2       0.003914     0.0         0.0  0.0                         0.00   \n3       0.005871     0.0         0.0  0.0                         0.02   \n4       0.001957     0.0         0.0  0.0                         0.00   \n...          ...     ...         ...  ...                          ...   \n13652   0.536204     0.0         0.0  0.0                         0.00   \n13653   0.301370     0.0         0.0  0.0                         0.00   \n13654   0.025440     0.0         0.0  0.0                         0.00   \n13655   0.003914     0.0         0.0  0.0                         0.00   \n13656   0.005871     0.0         0.0  0.0                         0.00   \n\n       dst_host_count  logged_in  dst_host_same_src_port_rate  \\\n0            0.262745        0.0                         1.00   \n1            1.000000        1.0                         0.00   \n2            0.541176        1.0                         0.01   \n3            0.658824        1.0                         0.01   \n4            0.443137        1.0                         0.35   \n...               ...        ...                          ...   \n13652        1.000000        0.0                         0.00   \n13653        1.000000        0.0                         0.00   \n13654        1.000000        1.0                         0.00   \n13655        0.549020        0.0                         0.06   \n13656        1.000000        1.0                         0.00   \n\n       srv_diff_host_rate  num_shells  ...  flag_OTH  flag_REJ  flag_RSTO  \\\n0                    0.75         0.0  ...       0.0       0.0        0.0   \n1                    0.00         0.0  ...       0.0       0.0        0.0   \n2                    1.00         0.0  ...       0.0       0.0        0.0   \n3                    0.00         0.0  ...       0.0       0.0        0.0   \n4                    0.00         0.0  ...       0.0       0.0        0.0   \n...                   ...         ...  ...       ...       ...        ...   \n13652                0.00         0.0  ...       0.0       0.0        0.0   \n13653                0.01         0.0  ...       0.0       0.0        0.0   \n13654                0.15         0.0  ...       0.0       0.0        0.0   \n13655                0.00         0.0  ...       0.0       0.0        0.0   \n13656                1.00         0.0  ...       0.0       0.0        0.0   \n\n       flag_RSTR  flag_S0  flag_S1  flag_S2  flag_S3  flag_SF  flag_SH  \n0            0.0      0.0      0.0      0.0      0.0      1.0      0.0  \n1            0.0      0.0      0.0      0.0      0.0      1.0      0.0  \n2            0.0      0.0      0.0      0.0      0.0      1.0      0.0  \n3            0.0      0.0      0.0      0.0      0.0      1.0      0.0  \n4            0.0      0.0      0.0      0.0      0.0      1.0      0.0  \n...          ...      ...      ...      ...      ...      ...      ...  \n13652        0.0      0.0      0.0      0.0      0.0      1.0      0.0  \n13653        0.0      0.0      0.0      0.0      0.0      1.0      0.0  \n13654        0.0      0.0      0.0      0.0      0.0      1.0      0.0  \n13655        0.0      0.0      0.0      0.0      0.0      1.0      0.0  \n13656        0.0      0.0      0.0      0.0      0.0      1.0      0.0  \n\n[13657 rows x 51 columns]",
      "text/html": "<div>\n<style scoped>\n    .dataframe tbody tr th:only-of-type {\n        vertical-align: middle;\n    }\n\n    .dataframe tbody tr th {\n        vertical-align: top;\n    }\n\n    .dataframe thead th {\n        text-align: right;\n    }\n</style>\n<table border=\"1\" class=\"dataframe\">\n  <thead>\n    <tr style=\"text-align: right;\">\n      <th></th>\n      <th>srv_count</th>\n      <th>urgent</th>\n      <th>root_shell</th>\n      <th>hot</th>\n      <th>dst_host_srv_diff_host_rate</th>\n      <th>dst_host_count</th>\n      <th>logged_in</th>\n      <th>dst_host_same_src_port_rate</th>\n      <th>srv_diff_host_rate</th>\n      <th>num_shells</th>\n      <th>...</th>\n      <th>flag_OTH</th>\n      <th>flag_REJ</th>\n      <th>flag_RSTO</th>\n      <th>flag_RSTR</th>\n      <th>flag_S0</th>\n      <th>flag_S1</th>\n      <th>flag_S2</th>\n      <th>flag_S3</th>\n      <th>flag_SF</th>\n      <th>flag_SH</th>\n    </tr>\n  </thead>\n  <tbody>\n    <tr>\n      <th>0</th>\n      <td>0.007828</td>\n      <td>0.0</td>\n      <td>0.0</td>\n      <td>0.0</td>\n      <td>0.01</td>\n      <td>0.262745</td>\n      <td>0.0</td>\n      <td>1.00</td>\n      <td>0.75</td>\n      <td>0.0</td>\n      <td>...</td>\n      <td>0.0</td>\n      <td>0.0</td>\n      <td>0.0</td>\n      <td>0.0</td>\n      <td>0.0</td>\n      <td>0.0</td>\n      <td>0.0</td>\n      <td>0.0</td>\n      <td>1.0</td>\n      <td>0.0</td>\n    </tr>\n    <tr>\n      <th>1</th>\n      <td>0.039139</td>\n      <td>0.0</td>\n      <td>0.0</td>\n      <td>0.0</td>\n      <td>0.00</td>\n      <td>1.000000</td>\n      <td>1.0</td>\n      <td>0.00</td>\n      <td>0.00</td>\n      <td>0.0</td>\n      <td>...</td>\n      <td>0.0</td>\n      <td>0.0</td>\n      <td>0.0</td>\n      <td>0.0</td>\n      <td>0.0</td>\n      <td>0.0</td>\n      <td>0.0</td>\n      <td>0.0</td>\n      <td>1.0</td>\n      <td>0.0</td>\n    </tr>\n    <tr>\n      <th>2</th>\n      <td>0.003914</td>\n      <td>0.0</td>\n      <td>0.0</td>\n      <td>0.0</td>\n      <td>0.00</td>\n      <td>0.541176</td>\n      <td>1.0</td>\n      <td>0.01</td>\n      <td>1.00</td>\n      <td>0.0</td>\n      <td>...</td>\n      <td>0.0</td>\n      <td>0.0</td>\n      <td>0.0</td>\n      <td>0.0</td>\n      <td>0.0</td>\n      <td>0.0</td>\n      <td>0.0</td>\n      <td>0.0</td>\n      <td>1.0</td>\n      <td>0.0</td>\n    </tr>\n    <tr>\n      <th>3</th>\n      <td>0.005871</td>\n      <td>0.0</td>\n      <td>0.0</td>\n      <td>0.0</td>\n      <td>0.02</td>\n      <td>0.658824</td>\n      <td>1.0</td>\n      <td>0.01</td>\n      <td>0.00</td>\n      <td>0.0</td>\n      <td>...</td>\n      <td>0.0</td>\n      <td>0.0</td>\n      <td>0.0</td>\n      <td>0.0</td>\n      <td>0.0</td>\n      <td>0.0</td>\n      <td>0.0</td>\n      <td>0.0</td>\n      <td>1.0</td>\n      <td>0.0</td>\n    </tr>\n    <tr>\n      <th>4</th>\n      <td>0.001957</td>\n      <td>0.0</td>\n      <td>0.0</td>\n      <td>0.0</td>\n      <td>0.00</td>\n      <td>0.443137</td>\n      <td>1.0</td>\n      <td>0.35</td>\n      <td>0.00</td>\n      <td>0.0</td>\n      <td>...</td>\n      <td>0.0</td>\n      <td>0.0</td>\n      <td>0.0</td>\n      <td>0.0</td>\n      <td>0.0</td>\n      <td>0.0</td>\n      <td>0.0</td>\n      <td>0.0</td>\n      <td>1.0</td>\n      <td>0.0</td>\n    </tr>\n    <tr>\n      <th>...</th>\n      <td>...</td>\n      <td>...</td>\n      <td>...</td>\n      <td>...</td>\n      <td>...</td>\n      <td>...</td>\n      <td>...</td>\n      <td>...</td>\n      <td>...</td>\n      <td>...</td>\n      <td>...</td>\n      <td>...</td>\n      <td>...</td>\n      <td>...</td>\n      <td>...</td>\n      <td>...</td>\n      <td>...</td>\n      <td>...</td>\n      <td>...</td>\n      <td>...</td>\n      <td>...</td>\n    </tr>\n    <tr>\n      <th>13652</th>\n      <td>0.536204</td>\n      <td>0.0</td>\n      <td>0.0</td>\n      <td>0.0</td>\n      <td>0.00</td>\n      <td>1.000000</td>\n      <td>0.0</td>\n      <td>0.00</td>\n      <td>0.00</td>\n      <td>0.0</td>\n      <td>...</td>\n      <td>0.0</td>\n      <td>0.0</td>\n      <td>0.0</td>\n      <td>0.0</td>\n      <td>0.0</td>\n      <td>0.0</td>\n      <td>0.0</td>\n      <td>0.0</td>\n      <td>1.0</td>\n      <td>0.0</td>\n    </tr>\n    <tr>\n      <th>13653</th>\n      <td>0.301370</td>\n      <td>0.0</td>\n      <td>0.0</td>\n      <td>0.0</td>\n      <td>0.00</td>\n      <td>1.000000</td>\n      <td>0.0</td>\n      <td>0.00</td>\n      <td>0.01</td>\n      <td>0.0</td>\n      <td>...</td>\n      <td>0.0</td>\n      <td>0.0</td>\n      <td>0.0</td>\n      <td>0.0</td>\n      <td>0.0</td>\n      <td>0.0</td>\n      <td>0.0</td>\n      <td>0.0</td>\n      <td>1.0</td>\n      <td>0.0</td>\n    </tr>\n    <tr>\n      <th>13654</th>\n      <td>0.025440</td>\n      <td>0.0</td>\n      <td>0.0</td>\n      <td>0.0</td>\n      <td>0.00</td>\n      <td>1.000000</td>\n      <td>1.0</td>\n      <td>0.00</td>\n      <td>0.15</td>\n      <td>0.0</td>\n      <td>...</td>\n      <td>0.0</td>\n      <td>0.0</td>\n      <td>0.0</td>\n      <td>0.0</td>\n      <td>0.0</td>\n      <td>0.0</td>\n      <td>0.0</td>\n      <td>0.0</td>\n      <td>1.0</td>\n      <td>0.0</td>\n    </tr>\n    <tr>\n      <th>13655</th>\n      <td>0.003914</td>\n      <td>0.0</td>\n      <td>0.0</td>\n      <td>0.0</td>\n      <td>0.00</td>\n      <td>0.549020</td>\n      <td>0.0</td>\n      <td>0.06</td>\n      <td>0.00</td>\n      <td>0.0</td>\n      <td>...</td>\n      <td>0.0</td>\n      <td>0.0</td>\n      <td>0.0</td>\n      <td>0.0</td>\n      <td>0.0</td>\n      <td>0.0</td>\n      <td>0.0</td>\n      <td>0.0</td>\n      <td>1.0</td>\n      <td>0.0</td>\n    </tr>\n    <tr>\n      <th>13656</th>\n      <td>0.005871</td>\n      <td>0.0</td>\n      <td>0.0</td>\n      <td>0.0</td>\n      <td>0.00</td>\n      <td>1.000000</td>\n      <td>1.0</td>\n      <td>0.00</td>\n      <td>1.00</td>\n      <td>0.0</td>\n      <td>...</td>\n      <td>0.0</td>\n      <td>0.0</td>\n      <td>0.0</td>\n      <td>0.0</td>\n      <td>0.0</td>\n      <td>0.0</td>\n      <td>0.0</td>\n      <td>0.0</td>\n      <td>1.0</td>\n      <td>0.0</td>\n    </tr>\n  </tbody>\n</table>\n<p>13657 rows × 51 columns</p>\n</div>"
     },
     "execution_count": 308,
     "metadata": {},
     "output_type": "execute_result"
    }
   ],
   "source": [
    "# perform One-hot encoding for the validation set\n",
    "label_enc = ohe2.transform(df_val.iloc[:,1:4])\n",
    "label_enc.toarray()\n",
    "new_labels = ohe2.get_feature_names_out(categorical_features)\n",
    "df_enc = pd.DataFrame(data=label_enc.toarray(), columns=new_labels)\n",
    "X_validate = pd.concat([X_validate, df_enc], axis=1)\n",
    "X_validate"
   ],
   "metadata": {
    "collapsed": false,
    "ExecuteTime": {
     "end_time": "2023-10-23T13:26:41.887793500Z",
     "start_time": "2023-10-23T13:26:41.657175900Z"
    }
   }
  },
  {
   "cell_type": "code",
   "execution_count": 309,
   "metadata": {
    "ExecuteTime": {
     "end_time": "2023-10-23T13:26:41.891803Z",
     "start_time": "2023-10-23T13:26:41.705767400Z"
    }
   },
   "outputs": [
    {
     "data": {
      "text/plain": "       duration protocol_type   service flag  src_bytes  dst_bytes  land  \\\n0             2           tcp  ftp_data   SF      12983          0     0   \n1             0           tcp      http   SF        267      14515     0   \n2             0           tcp      smtp   SF       1022        387     0   \n3             0           tcp    telnet   SF        129        174     0   \n4             0           tcp      http   SF        327        467     0   \n...         ...           ...       ...  ...        ...        ...   ...   \n12658         0           tcp      http   SF        274       1623     0   \n12659         0           tcp      http   SF        280       6087     0   \n12660         0           tcp      smtp   SF        794        333     0   \n12661         0           tcp      http   SF        317        938     0   \n12662         0           udp  domain_u   SF         42         42     0   \n\n       wrong_fragment  urgent  hot  ...  dst_host_count  dst_host_srv_count  \\\n0                   0       0    0  ...             134                  86   \n1                   0       0    0  ...             155                 255   \n2                   0       0    0  ...             255                  28   \n3                   0       0    0  ...             255                 255   \n4                   0       0    0  ...             151                 255   \n...               ...     ...  ...  ...             ...                 ...   \n12658               0       0    0  ...              92                 255   \n12659               0       0    0  ...               5                 255   \n12660               0       0    0  ...             100                 141   \n12661               0       0    0  ...             197                 255   \n12662               0       0    0  ...             255                 252   \n\n       dst_host_same_srv_rate  dst_host_diff_srv_rate  \\\n0                        0.61                    0.04   \n1                        1.00                    0.00   \n2                        0.11                    0.72   \n3                        1.00                    0.00   \n4                        1.00                    0.00   \n...                       ...                     ...   \n12658                    1.00                    0.00   \n12659                    1.00                    0.00   \n12660                    0.72                    0.06   \n12661                    1.00                    0.00   \n12662                    0.99                    0.01   \n\n       dst_host_same_src_port_rate  dst_host_srv_diff_host_rate  \\\n0                             0.61                         0.02   \n1                             0.01                         0.03   \n2                             0.00                         0.00   \n3                             0.00                         0.00   \n4                             0.01                         0.03   \n...                            ...                          ...   \n12658                         0.01                         0.04   \n12659                         0.20                         0.04   \n12660                         0.01                         0.01   \n12661                         0.01                         0.01   \n12662                         0.00                         0.00   \n\n       dst_host_serror_rate  dst_host_srv_serror_rate  dst_host_rerror_rate  \\\n0                      0.00                      0.00                  0.00   \n1                      0.01                      0.00                  0.00   \n2                      0.00                      0.00                  0.72   \n3                      0.01                      0.01                  0.02   \n4                      0.00                      0.00                  0.00   \n...                     ...                       ...                   ...   \n12658                  0.00                      0.00                  0.00   \n12659                  0.00                      0.00                  0.00   \n12660                  0.01                      0.00                  0.00   \n12661                  0.01                      0.00                  0.00   \n12662                  0.00                      0.00                  0.00   \n\n       dst_host_srv_rerror_rate  \n0                          0.00  \n1                          0.00  \n2                          0.04  \n3                          0.02  \n4                          0.00  \n...                         ...  \n12658                      0.00  \n12659                      0.00  \n12660                      0.00  \n12661                      0.00  \n12662                      0.00  \n\n[12663 rows x 40 columns]",
      "text/html": "<div>\n<style scoped>\n    .dataframe tbody tr th:only-of-type {\n        vertical-align: middle;\n    }\n\n    .dataframe tbody tr th {\n        vertical-align: top;\n    }\n\n    .dataframe thead th {\n        text-align: right;\n    }\n</style>\n<table border=\"1\" class=\"dataframe\">\n  <thead>\n    <tr style=\"text-align: right;\">\n      <th></th>\n      <th>duration</th>\n      <th>protocol_type</th>\n      <th>service</th>\n      <th>flag</th>\n      <th>src_bytes</th>\n      <th>dst_bytes</th>\n      <th>land</th>\n      <th>wrong_fragment</th>\n      <th>urgent</th>\n      <th>hot</th>\n      <th>...</th>\n      <th>dst_host_count</th>\n      <th>dst_host_srv_count</th>\n      <th>dst_host_same_srv_rate</th>\n      <th>dst_host_diff_srv_rate</th>\n      <th>dst_host_same_src_port_rate</th>\n      <th>dst_host_srv_diff_host_rate</th>\n      <th>dst_host_serror_rate</th>\n      <th>dst_host_srv_serror_rate</th>\n      <th>dst_host_rerror_rate</th>\n      <th>dst_host_srv_rerror_rate</th>\n    </tr>\n  </thead>\n  <tbody>\n    <tr>\n      <th>0</th>\n      <td>2</td>\n      <td>tcp</td>\n      <td>ftp_data</td>\n      <td>SF</td>\n      <td>12983</td>\n      <td>0</td>\n      <td>0</td>\n      <td>0</td>\n      <td>0</td>\n      <td>0</td>\n      <td>...</td>\n      <td>134</td>\n      <td>86</td>\n      <td>0.61</td>\n      <td>0.04</td>\n      <td>0.61</td>\n      <td>0.02</td>\n      <td>0.00</td>\n      <td>0.00</td>\n      <td>0.00</td>\n      <td>0.00</td>\n    </tr>\n    <tr>\n      <th>1</th>\n      <td>0</td>\n      <td>tcp</td>\n      <td>http</td>\n      <td>SF</td>\n      <td>267</td>\n      <td>14515</td>\n      <td>0</td>\n      <td>0</td>\n      <td>0</td>\n      <td>0</td>\n      <td>...</td>\n      <td>155</td>\n      <td>255</td>\n      <td>1.00</td>\n      <td>0.00</td>\n      <td>0.01</td>\n      <td>0.03</td>\n      <td>0.01</td>\n      <td>0.00</td>\n      <td>0.00</td>\n      <td>0.00</td>\n    </tr>\n    <tr>\n      <th>2</th>\n      <td>0</td>\n      <td>tcp</td>\n      <td>smtp</td>\n      <td>SF</td>\n      <td>1022</td>\n      <td>387</td>\n      <td>0</td>\n      <td>0</td>\n      <td>0</td>\n      <td>0</td>\n      <td>...</td>\n      <td>255</td>\n      <td>28</td>\n      <td>0.11</td>\n      <td>0.72</td>\n      <td>0.00</td>\n      <td>0.00</td>\n      <td>0.00</td>\n      <td>0.00</td>\n      <td>0.72</td>\n      <td>0.04</td>\n    </tr>\n    <tr>\n      <th>3</th>\n      <td>0</td>\n      <td>tcp</td>\n      <td>telnet</td>\n      <td>SF</td>\n      <td>129</td>\n      <td>174</td>\n      <td>0</td>\n      <td>0</td>\n      <td>0</td>\n      <td>0</td>\n      <td>...</td>\n      <td>255</td>\n      <td>255</td>\n      <td>1.00</td>\n      <td>0.00</td>\n      <td>0.00</td>\n      <td>0.00</td>\n      <td>0.01</td>\n      <td>0.01</td>\n      <td>0.02</td>\n      <td>0.02</td>\n    </tr>\n    <tr>\n      <th>4</th>\n      <td>0</td>\n      <td>tcp</td>\n      <td>http</td>\n      <td>SF</td>\n      <td>327</td>\n      <td>467</td>\n      <td>0</td>\n      <td>0</td>\n      <td>0</td>\n      <td>0</td>\n      <td>...</td>\n      <td>151</td>\n      <td>255</td>\n      <td>1.00</td>\n      <td>0.00</td>\n      <td>0.01</td>\n      <td>0.03</td>\n      <td>0.00</td>\n      <td>0.00</td>\n      <td>0.00</td>\n      <td>0.00</td>\n    </tr>\n    <tr>\n      <th>...</th>\n      <td>...</td>\n      <td>...</td>\n      <td>...</td>\n      <td>...</td>\n      <td>...</td>\n      <td>...</td>\n      <td>...</td>\n      <td>...</td>\n      <td>...</td>\n      <td>...</td>\n      <td>...</td>\n      <td>...</td>\n      <td>...</td>\n      <td>...</td>\n      <td>...</td>\n      <td>...</td>\n      <td>...</td>\n      <td>...</td>\n      <td>...</td>\n      <td>...</td>\n      <td>...</td>\n    </tr>\n    <tr>\n      <th>12658</th>\n      <td>0</td>\n      <td>tcp</td>\n      <td>http</td>\n      <td>SF</td>\n      <td>274</td>\n      <td>1623</td>\n      <td>0</td>\n      <td>0</td>\n      <td>0</td>\n      <td>0</td>\n      <td>...</td>\n      <td>92</td>\n      <td>255</td>\n      <td>1.00</td>\n      <td>0.00</td>\n      <td>0.01</td>\n      <td>0.04</td>\n      <td>0.00</td>\n      <td>0.00</td>\n      <td>0.00</td>\n      <td>0.00</td>\n    </tr>\n    <tr>\n      <th>12659</th>\n      <td>0</td>\n      <td>tcp</td>\n      <td>http</td>\n      <td>SF</td>\n      <td>280</td>\n      <td>6087</td>\n      <td>0</td>\n      <td>0</td>\n      <td>0</td>\n      <td>0</td>\n      <td>...</td>\n      <td>5</td>\n      <td>255</td>\n      <td>1.00</td>\n      <td>0.00</td>\n      <td>0.20</td>\n      <td>0.04</td>\n      <td>0.00</td>\n      <td>0.00</td>\n      <td>0.00</td>\n      <td>0.00</td>\n    </tr>\n    <tr>\n      <th>12660</th>\n      <td>0</td>\n      <td>tcp</td>\n      <td>smtp</td>\n      <td>SF</td>\n      <td>794</td>\n      <td>333</td>\n      <td>0</td>\n      <td>0</td>\n      <td>0</td>\n      <td>0</td>\n      <td>...</td>\n      <td>100</td>\n      <td>141</td>\n      <td>0.72</td>\n      <td>0.06</td>\n      <td>0.01</td>\n      <td>0.01</td>\n      <td>0.01</td>\n      <td>0.00</td>\n      <td>0.00</td>\n      <td>0.00</td>\n    </tr>\n    <tr>\n      <th>12661</th>\n      <td>0</td>\n      <td>tcp</td>\n      <td>http</td>\n      <td>SF</td>\n      <td>317</td>\n      <td>938</td>\n      <td>0</td>\n      <td>0</td>\n      <td>0</td>\n      <td>0</td>\n      <td>...</td>\n      <td>197</td>\n      <td>255</td>\n      <td>1.00</td>\n      <td>0.00</td>\n      <td>0.01</td>\n      <td>0.01</td>\n      <td>0.01</td>\n      <td>0.00</td>\n      <td>0.00</td>\n      <td>0.00</td>\n    </tr>\n    <tr>\n      <th>12662</th>\n      <td>0</td>\n      <td>udp</td>\n      <td>domain_u</td>\n      <td>SF</td>\n      <td>42</td>\n      <td>42</td>\n      <td>0</td>\n      <td>0</td>\n      <td>0</td>\n      <td>0</td>\n      <td>...</td>\n      <td>255</td>\n      <td>252</td>\n      <td>0.99</td>\n      <td>0.01</td>\n      <td>0.00</td>\n      <td>0.00</td>\n      <td>0.00</td>\n      <td>0.00</td>\n      <td>0.00</td>\n      <td>0.00</td>\n    </tr>\n  </tbody>\n</table>\n<p>12663 rows × 40 columns</p>\n</div>"
     },
     "execution_count": 309,
     "metadata": {},
     "output_type": "execute_result"
    }
   ],
   "source": [
    "# do the same for test set\n",
    "df_test = df_test[df_test['label'].isin(normal_list+u2r_attacks+r2l_attacks)]\n",
    "\n",
    "y_test = np.array([0 if x=='normal' else 1 for x in df_test['label']])\n",
    "df_test = df_test.drop(['label'],axis=1)\n",
    "df_test = df_test.reset_index().drop(['index'], axis=1)\n",
    "df_test"
   ]
  },
  {
   "cell_type": "code",
   "execution_count": 310,
   "metadata": {
    "ExecuteTime": {
     "end_time": "2023-10-23T13:26:41.928443800Z",
     "start_time": "2023-10-23T13:26:41.735592300Z"
    }
   },
   "outputs": [
    {
     "data": {
      "text/plain": "       srv_count  urgent  root_shell  hot  dst_host_srv_diff_host_rate  \\\n0              1       0           0    0                         0.02   \n1              4       0           0    0                         0.03   \n2              3       0           0    0                         0.00   \n3              1       0           0    0                         0.00   \n4             47       0           0    0                         0.03   \n...          ...     ...         ...  ...                          ...   \n12658          1       0           0    0                         0.04   \n12659          3       0           0    0                         0.04   \n12660          1       0           0    0                         0.01   \n12661         11       0           0    0                         0.01   \n12662          6       0           0    0                         0.00   \n\n       dst_host_count  logged_in  dst_host_same_src_port_rate  \\\n0                 134          0                         0.61   \n1                 155          1                         0.01   \n2                 255          1                         0.00   \n3                 255          0                         0.00   \n4                 151          1                         0.01   \n...               ...        ...                          ...   \n12658              92          1                         0.01   \n12659               5          1                         0.20   \n12660             100          1                         0.01   \n12661             197          1                         0.01   \n12662             255          0                         0.00   \n\n       srv_diff_host_rate  num_shells  dst_host_srv_count  \n0                    0.00           0                  86  \n1                    0.00           0                 255  \n2                    1.00           0                  28  \n3                    0.00           0                 255  \n4                    0.04           0                 255  \n...                   ...         ...                 ...  \n12658                0.00           0                 255  \n12659                0.00           0                 255  \n12660                0.00           0                 141  \n12661                0.18           0                 255  \n12662                0.33           0                 252  \n\n[12663 rows x 11 columns]",
      "text/html": "<div>\n<style scoped>\n    .dataframe tbody tr th:only-of-type {\n        vertical-align: middle;\n    }\n\n    .dataframe tbody tr th {\n        vertical-align: top;\n    }\n\n    .dataframe thead th {\n        text-align: right;\n    }\n</style>\n<table border=\"1\" class=\"dataframe\">\n  <thead>\n    <tr style=\"text-align: right;\">\n      <th></th>\n      <th>srv_count</th>\n      <th>urgent</th>\n      <th>root_shell</th>\n      <th>hot</th>\n      <th>dst_host_srv_diff_host_rate</th>\n      <th>dst_host_count</th>\n      <th>logged_in</th>\n      <th>dst_host_same_src_port_rate</th>\n      <th>srv_diff_host_rate</th>\n      <th>num_shells</th>\n      <th>dst_host_srv_count</th>\n    </tr>\n  </thead>\n  <tbody>\n    <tr>\n      <th>0</th>\n      <td>1</td>\n      <td>0</td>\n      <td>0</td>\n      <td>0</td>\n      <td>0.02</td>\n      <td>134</td>\n      <td>0</td>\n      <td>0.61</td>\n      <td>0.00</td>\n      <td>0</td>\n      <td>86</td>\n    </tr>\n    <tr>\n      <th>1</th>\n      <td>4</td>\n      <td>0</td>\n      <td>0</td>\n      <td>0</td>\n      <td>0.03</td>\n      <td>155</td>\n      <td>1</td>\n      <td>0.01</td>\n      <td>0.00</td>\n      <td>0</td>\n      <td>255</td>\n    </tr>\n    <tr>\n      <th>2</th>\n      <td>3</td>\n      <td>0</td>\n      <td>0</td>\n      <td>0</td>\n      <td>0.00</td>\n      <td>255</td>\n      <td>1</td>\n      <td>0.00</td>\n      <td>1.00</td>\n      <td>0</td>\n      <td>28</td>\n    </tr>\n    <tr>\n      <th>3</th>\n      <td>1</td>\n      <td>0</td>\n      <td>0</td>\n      <td>0</td>\n      <td>0.00</td>\n      <td>255</td>\n      <td>0</td>\n      <td>0.00</td>\n      <td>0.00</td>\n      <td>0</td>\n      <td>255</td>\n    </tr>\n    <tr>\n      <th>4</th>\n      <td>47</td>\n      <td>0</td>\n      <td>0</td>\n      <td>0</td>\n      <td>0.03</td>\n      <td>151</td>\n      <td>1</td>\n      <td>0.01</td>\n      <td>0.04</td>\n      <td>0</td>\n      <td>255</td>\n    </tr>\n    <tr>\n      <th>...</th>\n      <td>...</td>\n      <td>...</td>\n      <td>...</td>\n      <td>...</td>\n      <td>...</td>\n      <td>...</td>\n      <td>...</td>\n      <td>...</td>\n      <td>...</td>\n      <td>...</td>\n      <td>...</td>\n    </tr>\n    <tr>\n      <th>12658</th>\n      <td>1</td>\n      <td>0</td>\n      <td>0</td>\n      <td>0</td>\n      <td>0.04</td>\n      <td>92</td>\n      <td>1</td>\n      <td>0.01</td>\n      <td>0.00</td>\n      <td>0</td>\n      <td>255</td>\n    </tr>\n    <tr>\n      <th>12659</th>\n      <td>3</td>\n      <td>0</td>\n      <td>0</td>\n      <td>0</td>\n      <td>0.04</td>\n      <td>5</td>\n      <td>1</td>\n      <td>0.20</td>\n      <td>0.00</td>\n      <td>0</td>\n      <td>255</td>\n    </tr>\n    <tr>\n      <th>12660</th>\n      <td>1</td>\n      <td>0</td>\n      <td>0</td>\n      <td>0</td>\n      <td>0.01</td>\n      <td>100</td>\n      <td>1</td>\n      <td>0.01</td>\n      <td>0.00</td>\n      <td>0</td>\n      <td>141</td>\n    </tr>\n    <tr>\n      <th>12661</th>\n      <td>11</td>\n      <td>0</td>\n      <td>0</td>\n      <td>0</td>\n      <td>0.01</td>\n      <td>197</td>\n      <td>1</td>\n      <td>0.01</td>\n      <td>0.18</td>\n      <td>0</td>\n      <td>255</td>\n    </tr>\n    <tr>\n      <th>12662</th>\n      <td>6</td>\n      <td>0</td>\n      <td>0</td>\n      <td>0</td>\n      <td>0.00</td>\n      <td>255</td>\n      <td>0</td>\n      <td>0.00</td>\n      <td>0.33</td>\n      <td>0</td>\n      <td>252</td>\n    </tr>\n  </tbody>\n</table>\n<p>12663 rows × 11 columns</p>\n</div>"
     },
     "execution_count": 310,
     "metadata": {},
     "output_type": "execute_result"
    }
   ],
   "source": [
    "X_test = df_test[common_features_l2] \n",
    "X_test"
   ]
  },
  {
   "cell_type": "code",
   "execution_count": 311,
   "metadata": {
    "ExecuteTime": {
     "end_time": "2023-10-23T13:26:41.953900700Z",
     "start_time": "2023-10-23T13:26:41.748334400Z"
    }
   },
   "outputs": [
    {
     "data": {
      "text/plain": "       srv_count  urgent  root_shell  hot  dst_host_srv_diff_host_rate  \\\n0       0.001957     0.0         0.0  0.0                         0.02   \n1       0.007828     0.0         0.0  0.0                         0.03   \n2       0.005871     0.0         0.0  0.0                         0.00   \n3       0.001957     0.0         0.0  0.0                         0.00   \n4       0.091977     0.0         0.0  0.0                         0.03   \n...          ...     ...         ...  ...                          ...   \n12658   0.001957     0.0         0.0  0.0                         0.04   \n12659   0.005871     0.0         0.0  0.0                         0.04   \n12660   0.001957     0.0         0.0  0.0                         0.01   \n12661   0.021526     0.0         0.0  0.0                         0.01   \n12662   0.011742     0.0         0.0  0.0                         0.00   \n\n       dst_host_count  logged_in  dst_host_same_src_port_rate  \\\n0            0.525490        0.0                         0.61   \n1            0.607843        1.0                         0.01   \n2            1.000000        1.0                         0.00   \n3            1.000000        0.0                         0.00   \n4            0.592157        1.0                         0.01   \n...               ...        ...                          ...   \n12658        0.360784        1.0                         0.01   \n12659        0.019608        1.0                         0.20   \n12660        0.392157        1.0                         0.01   \n12661        0.772549        1.0                         0.01   \n12662        1.000000        0.0                         0.00   \n\n       srv_diff_host_rate  num_shells  dst_host_srv_count  \n0                    0.00         0.0            0.337255  \n1                    0.00         0.0            1.000000  \n2                    1.00         0.0            0.109804  \n3                    0.00         0.0            1.000000  \n4                    0.04         0.0            1.000000  \n...                   ...         ...                 ...  \n12658                0.00         0.0            1.000000  \n12659                0.00         0.0            1.000000  \n12660                0.00         0.0            0.552941  \n12661                0.18         0.0            1.000000  \n12662                0.33         0.0            0.988235  \n\n[12663 rows x 11 columns]",
      "text/html": "<div>\n<style scoped>\n    .dataframe tbody tr th:only-of-type {\n        vertical-align: middle;\n    }\n\n    .dataframe tbody tr th {\n        vertical-align: top;\n    }\n\n    .dataframe thead th {\n        text-align: right;\n    }\n</style>\n<table border=\"1\" class=\"dataframe\">\n  <thead>\n    <tr style=\"text-align: right;\">\n      <th></th>\n      <th>srv_count</th>\n      <th>urgent</th>\n      <th>root_shell</th>\n      <th>hot</th>\n      <th>dst_host_srv_diff_host_rate</th>\n      <th>dst_host_count</th>\n      <th>logged_in</th>\n      <th>dst_host_same_src_port_rate</th>\n      <th>srv_diff_host_rate</th>\n      <th>num_shells</th>\n      <th>dst_host_srv_count</th>\n    </tr>\n  </thead>\n  <tbody>\n    <tr>\n      <th>0</th>\n      <td>0.001957</td>\n      <td>0.0</td>\n      <td>0.0</td>\n      <td>0.0</td>\n      <td>0.02</td>\n      <td>0.525490</td>\n      <td>0.0</td>\n      <td>0.61</td>\n      <td>0.00</td>\n      <td>0.0</td>\n      <td>0.337255</td>\n    </tr>\n    <tr>\n      <th>1</th>\n      <td>0.007828</td>\n      <td>0.0</td>\n      <td>0.0</td>\n      <td>0.0</td>\n      <td>0.03</td>\n      <td>0.607843</td>\n      <td>1.0</td>\n      <td>0.01</td>\n      <td>0.00</td>\n      <td>0.0</td>\n      <td>1.000000</td>\n    </tr>\n    <tr>\n      <th>2</th>\n      <td>0.005871</td>\n      <td>0.0</td>\n      <td>0.0</td>\n      <td>0.0</td>\n      <td>0.00</td>\n      <td>1.000000</td>\n      <td>1.0</td>\n      <td>0.00</td>\n      <td>1.00</td>\n      <td>0.0</td>\n      <td>0.109804</td>\n    </tr>\n    <tr>\n      <th>3</th>\n      <td>0.001957</td>\n      <td>0.0</td>\n      <td>0.0</td>\n      <td>0.0</td>\n      <td>0.00</td>\n      <td>1.000000</td>\n      <td>0.0</td>\n      <td>0.00</td>\n      <td>0.00</td>\n      <td>0.0</td>\n      <td>1.000000</td>\n    </tr>\n    <tr>\n      <th>4</th>\n      <td>0.091977</td>\n      <td>0.0</td>\n      <td>0.0</td>\n      <td>0.0</td>\n      <td>0.03</td>\n      <td>0.592157</td>\n      <td>1.0</td>\n      <td>0.01</td>\n      <td>0.04</td>\n      <td>0.0</td>\n      <td>1.000000</td>\n    </tr>\n    <tr>\n      <th>...</th>\n      <td>...</td>\n      <td>...</td>\n      <td>...</td>\n      <td>...</td>\n      <td>...</td>\n      <td>...</td>\n      <td>...</td>\n      <td>...</td>\n      <td>...</td>\n      <td>...</td>\n      <td>...</td>\n    </tr>\n    <tr>\n      <th>12658</th>\n      <td>0.001957</td>\n      <td>0.0</td>\n      <td>0.0</td>\n      <td>0.0</td>\n      <td>0.04</td>\n      <td>0.360784</td>\n      <td>1.0</td>\n      <td>0.01</td>\n      <td>0.00</td>\n      <td>0.0</td>\n      <td>1.000000</td>\n    </tr>\n    <tr>\n      <th>12659</th>\n      <td>0.005871</td>\n      <td>0.0</td>\n      <td>0.0</td>\n      <td>0.0</td>\n      <td>0.04</td>\n      <td>0.019608</td>\n      <td>1.0</td>\n      <td>0.20</td>\n      <td>0.00</td>\n      <td>0.0</td>\n      <td>1.000000</td>\n    </tr>\n    <tr>\n      <th>12660</th>\n      <td>0.001957</td>\n      <td>0.0</td>\n      <td>0.0</td>\n      <td>0.0</td>\n      <td>0.01</td>\n      <td>0.392157</td>\n      <td>1.0</td>\n      <td>0.01</td>\n      <td>0.00</td>\n      <td>0.0</td>\n      <td>0.552941</td>\n    </tr>\n    <tr>\n      <th>12661</th>\n      <td>0.021526</td>\n      <td>0.0</td>\n      <td>0.0</td>\n      <td>0.0</td>\n      <td>0.01</td>\n      <td>0.772549</td>\n      <td>1.0</td>\n      <td>0.01</td>\n      <td>0.18</td>\n      <td>0.0</td>\n      <td>1.000000</td>\n    </tr>\n    <tr>\n      <th>12662</th>\n      <td>0.011742</td>\n      <td>0.0</td>\n      <td>0.0</td>\n      <td>0.0</td>\n      <td>0.00</td>\n      <td>1.000000</td>\n      <td>0.0</td>\n      <td>0.00</td>\n      <td>0.33</td>\n      <td>0.0</td>\n      <td>0.988235</td>\n    </tr>\n  </tbody>\n</table>\n<p>12663 rows × 11 columns</p>\n</div>"
     },
     "execution_count": 311,
     "metadata": {},
     "output_type": "execute_result"
    }
   ],
   "source": [
    "df_minmax = scaler2.transform(X_test)\n",
    "X_test = pd.DataFrame(df_minmax, columns=X_test.columns)\n",
    "X_test"
   ]
  },
  {
   "cell_type": "code",
   "execution_count": 312,
   "metadata": {
    "ExecuteTime": {
     "end_time": "2023-10-23T13:26:42.023302700Z",
     "start_time": "2023-10-23T13:26:41.773660100Z"
    }
   },
   "outputs": [
    {
     "data": {
      "text/plain": "       srv_count  urgent  root_shell  hot  dst_host_srv_diff_host_rate  \\\n0       0.001957     0.0         0.0  0.0                         0.02   \n1       0.007828     0.0         0.0  0.0                         0.03   \n2       0.005871     0.0         0.0  0.0                         0.00   \n3       0.001957     0.0         0.0  0.0                         0.00   \n4       0.091977     0.0         0.0  0.0                         0.03   \n...          ...     ...         ...  ...                          ...   \n12658   0.001957     0.0         0.0  0.0                         0.04   \n12659   0.005871     0.0         0.0  0.0                         0.04   \n12660   0.001957     0.0         0.0  0.0                         0.01   \n12661   0.021526     0.0         0.0  0.0                         0.01   \n12662   0.011742     0.0         0.0  0.0                         0.00   \n\n       dst_host_count  logged_in  dst_host_same_src_port_rate  \\\n0            0.525490        0.0                         0.61   \n1            0.607843        1.0                         0.01   \n2            1.000000        1.0                         0.00   \n3            1.000000        0.0                         0.00   \n4            0.592157        1.0                         0.01   \n...               ...        ...                          ...   \n12658        0.360784        1.0                         0.01   \n12659        0.019608        1.0                         0.20   \n12660        0.392157        1.0                         0.01   \n12661        0.772549        1.0                         0.01   \n12662        1.000000        0.0                         0.00   \n\n       srv_diff_host_rate  num_shells  ...  flag_OTH  flag_REJ  flag_RSTO  \\\n0                    0.00         0.0  ...       0.0       0.0        0.0   \n1                    0.00         0.0  ...       0.0       0.0        0.0   \n2                    1.00         0.0  ...       0.0       0.0        0.0   \n3                    0.00         0.0  ...       0.0       0.0        0.0   \n4                    0.04         0.0  ...       0.0       0.0        0.0   \n...                   ...         ...  ...       ...       ...        ...   \n12658                0.00         0.0  ...       0.0       0.0        0.0   \n12659                0.00         0.0  ...       0.0       0.0        0.0   \n12660                0.00         0.0  ...       0.0       0.0        0.0   \n12661                0.18         0.0  ...       0.0       0.0        0.0   \n12662                0.33         0.0  ...       0.0       0.0        0.0   \n\n       flag_RSTR  flag_S0  flag_S1  flag_S2  flag_S3  flag_SF  flag_SH  \n0            0.0      0.0      0.0      0.0      0.0      1.0      0.0  \n1            0.0      0.0      0.0      0.0      0.0      1.0      0.0  \n2            0.0      0.0      0.0      0.0      0.0      1.0      0.0  \n3            0.0      0.0      0.0      0.0      0.0      1.0      0.0  \n4            0.0      0.0      0.0      0.0      0.0      1.0      0.0  \n...          ...      ...      ...      ...      ...      ...      ...  \n12658        0.0      0.0      0.0      0.0      0.0      1.0      0.0  \n12659        0.0      0.0      0.0      0.0      0.0      1.0      0.0  \n12660        0.0      0.0      0.0      0.0      0.0      1.0      0.0  \n12661        0.0      0.0      0.0      0.0      0.0      1.0      0.0  \n12662        0.0      0.0      0.0      0.0      0.0      1.0      0.0  \n\n[12663 rows x 51 columns]",
      "text/html": "<div>\n<style scoped>\n    .dataframe tbody tr th:only-of-type {\n        vertical-align: middle;\n    }\n\n    .dataframe tbody tr th {\n        vertical-align: top;\n    }\n\n    .dataframe thead th {\n        text-align: right;\n    }\n</style>\n<table border=\"1\" class=\"dataframe\">\n  <thead>\n    <tr style=\"text-align: right;\">\n      <th></th>\n      <th>srv_count</th>\n      <th>urgent</th>\n      <th>root_shell</th>\n      <th>hot</th>\n      <th>dst_host_srv_diff_host_rate</th>\n      <th>dst_host_count</th>\n      <th>logged_in</th>\n      <th>dst_host_same_src_port_rate</th>\n      <th>srv_diff_host_rate</th>\n      <th>num_shells</th>\n      <th>...</th>\n      <th>flag_OTH</th>\n      <th>flag_REJ</th>\n      <th>flag_RSTO</th>\n      <th>flag_RSTR</th>\n      <th>flag_S0</th>\n      <th>flag_S1</th>\n      <th>flag_S2</th>\n      <th>flag_S3</th>\n      <th>flag_SF</th>\n      <th>flag_SH</th>\n    </tr>\n  </thead>\n  <tbody>\n    <tr>\n      <th>0</th>\n      <td>0.001957</td>\n      <td>0.0</td>\n      <td>0.0</td>\n      <td>0.0</td>\n      <td>0.02</td>\n      <td>0.525490</td>\n      <td>0.0</td>\n      <td>0.61</td>\n      <td>0.00</td>\n      <td>0.0</td>\n      <td>...</td>\n      <td>0.0</td>\n      <td>0.0</td>\n      <td>0.0</td>\n      <td>0.0</td>\n      <td>0.0</td>\n      <td>0.0</td>\n      <td>0.0</td>\n      <td>0.0</td>\n      <td>1.0</td>\n      <td>0.0</td>\n    </tr>\n    <tr>\n      <th>1</th>\n      <td>0.007828</td>\n      <td>0.0</td>\n      <td>0.0</td>\n      <td>0.0</td>\n      <td>0.03</td>\n      <td>0.607843</td>\n      <td>1.0</td>\n      <td>0.01</td>\n      <td>0.00</td>\n      <td>0.0</td>\n      <td>...</td>\n      <td>0.0</td>\n      <td>0.0</td>\n      <td>0.0</td>\n      <td>0.0</td>\n      <td>0.0</td>\n      <td>0.0</td>\n      <td>0.0</td>\n      <td>0.0</td>\n      <td>1.0</td>\n      <td>0.0</td>\n    </tr>\n    <tr>\n      <th>2</th>\n      <td>0.005871</td>\n      <td>0.0</td>\n      <td>0.0</td>\n      <td>0.0</td>\n      <td>0.00</td>\n      <td>1.000000</td>\n      <td>1.0</td>\n      <td>0.00</td>\n      <td>1.00</td>\n      <td>0.0</td>\n      <td>...</td>\n      <td>0.0</td>\n      <td>0.0</td>\n      <td>0.0</td>\n      <td>0.0</td>\n      <td>0.0</td>\n      <td>0.0</td>\n      <td>0.0</td>\n      <td>0.0</td>\n      <td>1.0</td>\n      <td>0.0</td>\n    </tr>\n    <tr>\n      <th>3</th>\n      <td>0.001957</td>\n      <td>0.0</td>\n      <td>0.0</td>\n      <td>0.0</td>\n      <td>0.00</td>\n      <td>1.000000</td>\n      <td>0.0</td>\n      <td>0.00</td>\n      <td>0.00</td>\n      <td>0.0</td>\n      <td>...</td>\n      <td>0.0</td>\n      <td>0.0</td>\n      <td>0.0</td>\n      <td>0.0</td>\n      <td>0.0</td>\n      <td>0.0</td>\n      <td>0.0</td>\n      <td>0.0</td>\n      <td>1.0</td>\n      <td>0.0</td>\n    </tr>\n    <tr>\n      <th>4</th>\n      <td>0.091977</td>\n      <td>0.0</td>\n      <td>0.0</td>\n      <td>0.0</td>\n      <td>0.03</td>\n      <td>0.592157</td>\n      <td>1.0</td>\n      <td>0.01</td>\n      <td>0.04</td>\n      <td>0.0</td>\n      <td>...</td>\n      <td>0.0</td>\n      <td>0.0</td>\n      <td>0.0</td>\n      <td>0.0</td>\n      <td>0.0</td>\n      <td>0.0</td>\n      <td>0.0</td>\n      <td>0.0</td>\n      <td>1.0</td>\n      <td>0.0</td>\n    </tr>\n    <tr>\n      <th>...</th>\n      <td>...</td>\n      <td>...</td>\n      <td>...</td>\n      <td>...</td>\n      <td>...</td>\n      <td>...</td>\n      <td>...</td>\n      <td>...</td>\n      <td>...</td>\n      <td>...</td>\n      <td>...</td>\n      <td>...</td>\n      <td>...</td>\n      <td>...</td>\n      <td>...</td>\n      <td>...</td>\n      <td>...</td>\n      <td>...</td>\n      <td>...</td>\n      <td>...</td>\n      <td>...</td>\n    </tr>\n    <tr>\n      <th>12658</th>\n      <td>0.001957</td>\n      <td>0.0</td>\n      <td>0.0</td>\n      <td>0.0</td>\n      <td>0.04</td>\n      <td>0.360784</td>\n      <td>1.0</td>\n      <td>0.01</td>\n      <td>0.00</td>\n      <td>0.0</td>\n      <td>...</td>\n      <td>0.0</td>\n      <td>0.0</td>\n      <td>0.0</td>\n      <td>0.0</td>\n      <td>0.0</td>\n      <td>0.0</td>\n      <td>0.0</td>\n      <td>0.0</td>\n      <td>1.0</td>\n      <td>0.0</td>\n    </tr>\n    <tr>\n      <th>12659</th>\n      <td>0.005871</td>\n      <td>0.0</td>\n      <td>0.0</td>\n      <td>0.0</td>\n      <td>0.04</td>\n      <td>0.019608</td>\n      <td>1.0</td>\n      <td>0.20</td>\n      <td>0.00</td>\n      <td>0.0</td>\n      <td>...</td>\n      <td>0.0</td>\n      <td>0.0</td>\n      <td>0.0</td>\n      <td>0.0</td>\n      <td>0.0</td>\n      <td>0.0</td>\n      <td>0.0</td>\n      <td>0.0</td>\n      <td>1.0</td>\n      <td>0.0</td>\n    </tr>\n    <tr>\n      <th>12660</th>\n      <td>0.001957</td>\n      <td>0.0</td>\n      <td>0.0</td>\n      <td>0.0</td>\n      <td>0.01</td>\n      <td>0.392157</td>\n      <td>1.0</td>\n      <td>0.01</td>\n      <td>0.00</td>\n      <td>0.0</td>\n      <td>...</td>\n      <td>0.0</td>\n      <td>0.0</td>\n      <td>0.0</td>\n      <td>0.0</td>\n      <td>0.0</td>\n      <td>0.0</td>\n      <td>0.0</td>\n      <td>0.0</td>\n      <td>1.0</td>\n      <td>0.0</td>\n    </tr>\n    <tr>\n      <th>12661</th>\n      <td>0.021526</td>\n      <td>0.0</td>\n      <td>0.0</td>\n      <td>0.0</td>\n      <td>0.01</td>\n      <td>0.772549</td>\n      <td>1.0</td>\n      <td>0.01</td>\n      <td>0.18</td>\n      <td>0.0</td>\n      <td>...</td>\n      <td>0.0</td>\n      <td>0.0</td>\n      <td>0.0</td>\n      <td>0.0</td>\n      <td>0.0</td>\n      <td>0.0</td>\n      <td>0.0</td>\n      <td>0.0</td>\n      <td>1.0</td>\n      <td>0.0</td>\n    </tr>\n    <tr>\n      <th>12662</th>\n      <td>0.011742</td>\n      <td>0.0</td>\n      <td>0.0</td>\n      <td>0.0</td>\n      <td>0.00</td>\n      <td>1.000000</td>\n      <td>0.0</td>\n      <td>0.00</td>\n      <td>0.33</td>\n      <td>0.0</td>\n      <td>...</td>\n      <td>0.0</td>\n      <td>0.0</td>\n      <td>0.0</td>\n      <td>0.0</td>\n      <td>0.0</td>\n      <td>0.0</td>\n      <td>0.0</td>\n      <td>0.0</td>\n      <td>1.0</td>\n      <td>0.0</td>\n    </tr>\n  </tbody>\n</table>\n<p>12663 rows × 51 columns</p>\n</div>"
     },
     "execution_count": 312,
     "metadata": {},
     "output_type": "execute_result"
    }
   ],
   "source": [
    "label_enc = ohe2.transform(df_test.iloc[:,1:4])\n",
    "label_enc.toarray()\n",
    "new_labels = ohe2.get_feature_names_out(categorical_features)\n",
    "df_enc = pd.DataFrame(data=label_enc.toarray(), columns=new_labels)\n",
    "X_test = pd.concat([X_test, df_enc], axis=1)\n",
    "X_test"
   ]
  },
  {
   "cell_type": "code",
   "execution_count": 313,
   "metadata": {
    "ExecuteTime": {
     "end_time": "2023-10-23T13:26:42.023302700Z",
     "start_time": "2023-10-23T13:26:41.820621700Z"
    }
   },
   "outputs": [
    {
     "name": "stdout",
     "output_type": "stream",
     "text": [
      "Shape of the train set:  (54733, 51)\n",
      "Shape of its target:  (54733,)\n",
      "Shape of the test set:  (12663, 51)\n",
      "Shape of its target:  (12663,)\n"
     ]
    }
   ],
   "source": [
    "print('Shape of the train set: ', X_train.shape)\n",
    "print('Shape of its target: ', y_train.shape)\n",
    "print('Shape of the test set: ', X_test.shape)\n",
    "print('Shape of its target: ', y_test.shape)"
   ]
  },
  {
   "cell_type": "code",
   "execution_count": 314,
   "outputs": [],
   "source": [
    "# Under sampling the train set for l2\n",
    "sm = under_sam(sampling_strategy=1)\n",
    "X_train, y_train = sm.fit_resample(X_train,y_train)"
   ],
   "metadata": {
    "collapsed": false,
    "ExecuteTime": {
     "end_time": "2023-10-23T13:26:42.038752300Z",
     "start_time": "2023-10-23T13:26:41.828194300Z"
    }
   }
  },
  {
   "cell_type": "markdown",
   "source": [
    "## Export the datasets\n",
    "Train set has been scaled, one hot encoded, undersampled\n",
    "Test set has been scaled and one hot encoded"
   ],
   "metadata": {
    "collapsed": false
   }
  },
  {
   "cell_type": "code",
   "execution_count": 315,
   "outputs": [],
   "source": [
    "# Export the dataset for training layer 2\n",
    "if EXPORT_DATASETS:\n",
    "    X_train.to_csv('NSL-KDD Encoded Datasets/KDDTrain+_l2.txt', index=False)\n",
    "    np.save('NSL-KDD Encoded Datasets/KDDTrain+_l2_targets', y_train)"
   ],
   "metadata": {
    "collapsed": false,
    "ExecuteTime": {
     "end_time": "2023-10-23T13:26:42.085637900Z",
     "start_time": "2023-10-23T13:26:41.842642Z"
    }
   }
  },
  {
   "cell_type": "code",
   "execution_count": 316,
   "outputs": [],
   "source": [
    "from sklearn import tree\n",
    "\n",
    "# Principal Component Analysis\n",
    "pca_r2l_u2r = PCA(n_components=0.95)\n",
    "X_train_r2l_u2r = pca_r2l_u2r.fit_transform(X_train)\n",
    "X_test_r2l_u2r = pca_r2l_u2r.transform(X_test)\n",
    "X_validate_r2l_u2r = pca_r2l_u2r.transform(X_validate)\n",
    "\n",
    "# Try also Decision Trees\n",
    "# r2l_u2r_classifier = tree.DecisionTreeClassifier()\n",
    "\n",
    "# Support Vector Machine for layer l2\n",
    "r2l_u2r_classifier = SVC(C=0.1, gamma=0.01, kernel='rbf')\n",
    "r2l_u2r_classifier.fit(X_train_r2l_u2r, y_train)\n",
    "predicted = r2l_u2r_classifier.predict(X_test_r2l_u2r)"
   ],
   "metadata": {
    "collapsed": false,
    "ExecuteTime": {
     "end_time": "2023-10-23T13:26:43.356635200Z",
     "start_time": "2023-10-23T13:26:41.883411100Z"
    }
   }
  },
  {
   "cell_type": "code",
   "execution_count": 317,
   "outputs": [],
   "source": [
    "if EXPORT_PCA:\n",
    "    # save the pca transformed as well as the transformer\n",
    "    joblib.dump(X_test_r2l_u2r, 'NSL-KDD Encoded Datasets/pca_transformed/pca_test2.pkl')\n",
    "    joblib.dump(X_train_r2l_u2r, 'NSL-KDD Encoded Datasets/pca_transformed/pca_train2.pkl')\n",
    "    joblib.dump(X_train_r2l_u2r, 'NSL-KDD Encoded Datasets/pca_transformed/pca_validate2.pkl')\n",
    "    joblib.dump(pca_r2l_u2r, 'NSL-KDD Encoded Datasets/pca_transformed/layer2_transformer.pkl')"
   ],
   "metadata": {
    "collapsed": false,
    "ExecuteTime": {
     "end_time": "2023-10-23T13:26:43.418677300Z",
     "start_time": "2023-10-23T13:26:43.361268300Z"
    }
   }
  },
  {
   "cell_type": "code",
   "execution_count": 318,
   "outputs": [
    {
     "name": "stdout",
     "output_type": "stream",
     "text": [
      "Metrics for layer 2:\n",
      "Confusion matrix: [TP FN / FP TN]\n",
      " [[9036  675]\n",
      " [1520 1432]]\n",
      "Accuracy =  0.8266603490484088\n",
      "F1 Score =  0.5661197865190749\n",
      "Precision =  0.6796392975794969\n",
      "Recall =  0.48509485094850946\n",
      "Matthew corr =  0.47181218476084225\n",
      "Shape of the training set:  (1624, 13)\n"
     ]
    }
   ],
   "source": [
    "print('Metrics for layer 2:')\n",
    "print('Confusion matrix: [TP FN / FP TN]\\n', confusion_matrix(y_test,predicted))\n",
    "print('Accuracy = ', accuracy_score(y_test,predicted))\n",
    "print('F1 Score = ', f1_score(y_test,predicted))\n",
    "print('Precision = ', precision_score(y_test,predicted))\n",
    "print('Recall = ', recall_score(y_test,predicted))\n",
    "print('Matthew corr = ', matthews_corrcoef(y_test,predicted))\n",
    "print('Shape of the training set: ', X_train_r2l_u2r.shape)"
   ],
   "metadata": {
    "collapsed": false,
    "ExecuteTime": {
     "end_time": "2023-10-23T13:26:43.435688800Z",
     "start_time": "2023-10-23T13:26:43.405847200Z"
    }
   }
  },
  {
   "cell_type": "markdown",
   "source": [
    "### Export the classifiers"
   ],
   "metadata": {
    "collapsed": false
   }
  },
  {
   "cell_type": "code",
   "execution_count": 319,
   "outputs": [],
   "source": [
    "if EXPORT_MODELS:\n",
    "    with open('Models/NSL_l1_classifier.pkl', \"wb\") as f:\n",
    "        pickle.dump(dos_probe_classifier, f)\n",
    "    with open('Models/NSL_l2_classifier.pkl', \"wb\") as f:\n",
    "        pickle.dump(r2l_u2r_classifier, f)"
   ],
   "metadata": {
    "collapsed": false,
    "ExecuteTime": {
     "end_time": "2023-10-23T13:26:43.438528100Z",
     "start_time": "2023-10-23T13:26:43.429522500Z"
    }
   }
  },
  {
   "cell_type": "markdown",
   "metadata": {},
   "source": [
    "# Testing"
   ]
  },
  {
   "cell_type": "code",
   "execution_count": 320,
   "metadata": {
    "ExecuteTime": {
     "end_time": "2023-10-23T13:26:43.485519100Z",
     "start_time": "2023-10-23T13:26:43.436932600Z"
    }
   },
   "outputs": [
    {
     "data": {
      "text/plain": "       duration protocol_type   service  flag  src_bytes  dst_bytes  land  \\\n0             0           tcp   private   REJ          0          0     0   \n1             0           tcp   private   REJ          0          0     0   \n2             2           tcp  ftp_data    SF      12983          0     0   \n3             0          icmp     eco_i    SF         20          0     0   \n4             1           tcp    telnet  RSTO          0         15     0   \n...         ...           ...       ...   ...        ...        ...   ...   \n22539         0           tcp      smtp    SF        794        333     0   \n22540         0           tcp      http    SF        317        938     0   \n22541         0           tcp      http    SF      54540       8314     0   \n22542         0           udp  domain_u    SF         42         42     0   \n22543         0           tcp    sunrpc   REJ          0          0     0   \n\n       wrong_fragment  urgent  hot  ...  dst_host_srv_count  \\\n0                   0       0    0  ...                  10   \n1                   0       0    0  ...                   1   \n2                   0       0    0  ...                  86   \n3                   0       0    0  ...                  57   \n4                   0       0    0  ...                  86   \n...               ...     ...  ...  ...                 ...   \n22539               0       0    0  ...                 141   \n22540               0       0    0  ...                 255   \n22541               0       0    2  ...                 255   \n22542               0       0    0  ...                 252   \n22543               0       0    0  ...                  21   \n\n       dst_host_same_srv_rate  dst_host_diff_srv_rate  \\\n0                        0.04                    0.06   \n1                        0.00                    0.06   \n2                        0.61                    0.04   \n3                        1.00                    0.00   \n4                        0.31                    0.17   \n...                       ...                     ...   \n22539                    0.72                    0.06   \n22540                    1.00                    0.00   \n22541                    1.00                    0.00   \n22542                    0.99                    0.01   \n22543                    0.08                    0.03   \n\n       dst_host_same_src_port_rate  dst_host_srv_diff_host_rate  \\\n0                             0.00                         0.00   \n1                             0.00                         0.00   \n2                             0.61                         0.02   \n3                             1.00                         0.28   \n4                             0.03                         0.02   \n...                            ...                          ...   \n22539                         0.01                         0.01   \n22540                         0.01                         0.01   \n22541                         0.00                         0.00   \n22542                         0.00                         0.00   \n22543                         0.00                         0.00   \n\n       dst_host_serror_rate  dst_host_srv_serror_rate  dst_host_rerror_rate  \\\n0                      0.00                       0.0                  1.00   \n1                      0.00                       0.0                  1.00   \n2                      0.00                       0.0                  0.00   \n3                      0.00                       0.0                  0.00   \n4                      0.00                       0.0                  0.83   \n...                     ...                       ...                   ...   \n22539                  0.01                       0.0                  0.00   \n22540                  0.01                       0.0                  0.00   \n22541                  0.00                       0.0                  0.07   \n22542                  0.00                       0.0                  0.00   \n22543                  0.00                       0.0                  0.44   \n\n       dst_host_srv_rerror_rate    label  \n0                          1.00  neptune  \n1                          1.00  neptune  \n2                          0.00   normal  \n3                          0.00    saint  \n4                          0.71    mscan  \n...                         ...      ...  \n22539                      0.00   normal  \n22540                      0.00   normal  \n22541                      0.07     back  \n22542                      0.00   normal  \n22543                      1.00    mscan  \n\n[22544 rows x 41 columns]",
      "text/html": "<div>\n<style scoped>\n    .dataframe tbody tr th:only-of-type {\n        vertical-align: middle;\n    }\n\n    .dataframe tbody tr th {\n        vertical-align: top;\n    }\n\n    .dataframe thead th {\n        text-align: right;\n    }\n</style>\n<table border=\"1\" class=\"dataframe\">\n  <thead>\n    <tr style=\"text-align: right;\">\n      <th></th>\n      <th>duration</th>\n      <th>protocol_type</th>\n      <th>service</th>\n      <th>flag</th>\n      <th>src_bytes</th>\n      <th>dst_bytes</th>\n      <th>land</th>\n      <th>wrong_fragment</th>\n      <th>urgent</th>\n      <th>hot</th>\n      <th>...</th>\n      <th>dst_host_srv_count</th>\n      <th>dst_host_same_srv_rate</th>\n      <th>dst_host_diff_srv_rate</th>\n      <th>dst_host_same_src_port_rate</th>\n      <th>dst_host_srv_diff_host_rate</th>\n      <th>dst_host_serror_rate</th>\n      <th>dst_host_srv_serror_rate</th>\n      <th>dst_host_rerror_rate</th>\n      <th>dst_host_srv_rerror_rate</th>\n      <th>label</th>\n    </tr>\n  </thead>\n  <tbody>\n    <tr>\n      <th>0</th>\n      <td>0</td>\n      <td>tcp</td>\n      <td>private</td>\n      <td>REJ</td>\n      <td>0</td>\n      <td>0</td>\n      <td>0</td>\n      <td>0</td>\n      <td>0</td>\n      <td>0</td>\n      <td>...</td>\n      <td>10</td>\n      <td>0.04</td>\n      <td>0.06</td>\n      <td>0.00</td>\n      <td>0.00</td>\n      <td>0.00</td>\n      <td>0.0</td>\n      <td>1.00</td>\n      <td>1.00</td>\n      <td>neptune</td>\n    </tr>\n    <tr>\n      <th>1</th>\n      <td>0</td>\n      <td>tcp</td>\n      <td>private</td>\n      <td>REJ</td>\n      <td>0</td>\n      <td>0</td>\n      <td>0</td>\n      <td>0</td>\n      <td>0</td>\n      <td>0</td>\n      <td>...</td>\n      <td>1</td>\n      <td>0.00</td>\n      <td>0.06</td>\n      <td>0.00</td>\n      <td>0.00</td>\n      <td>0.00</td>\n      <td>0.0</td>\n      <td>1.00</td>\n      <td>1.00</td>\n      <td>neptune</td>\n    </tr>\n    <tr>\n      <th>2</th>\n      <td>2</td>\n      <td>tcp</td>\n      <td>ftp_data</td>\n      <td>SF</td>\n      <td>12983</td>\n      <td>0</td>\n      <td>0</td>\n      <td>0</td>\n      <td>0</td>\n      <td>0</td>\n      <td>...</td>\n      <td>86</td>\n      <td>0.61</td>\n      <td>0.04</td>\n      <td>0.61</td>\n      <td>0.02</td>\n      <td>0.00</td>\n      <td>0.0</td>\n      <td>0.00</td>\n      <td>0.00</td>\n      <td>normal</td>\n    </tr>\n    <tr>\n      <th>3</th>\n      <td>0</td>\n      <td>icmp</td>\n      <td>eco_i</td>\n      <td>SF</td>\n      <td>20</td>\n      <td>0</td>\n      <td>0</td>\n      <td>0</td>\n      <td>0</td>\n      <td>0</td>\n      <td>...</td>\n      <td>57</td>\n      <td>1.00</td>\n      <td>0.00</td>\n      <td>1.00</td>\n      <td>0.28</td>\n      <td>0.00</td>\n      <td>0.0</td>\n      <td>0.00</td>\n      <td>0.00</td>\n      <td>saint</td>\n    </tr>\n    <tr>\n      <th>4</th>\n      <td>1</td>\n      <td>tcp</td>\n      <td>telnet</td>\n      <td>RSTO</td>\n      <td>0</td>\n      <td>15</td>\n      <td>0</td>\n      <td>0</td>\n      <td>0</td>\n      <td>0</td>\n      <td>...</td>\n      <td>86</td>\n      <td>0.31</td>\n      <td>0.17</td>\n      <td>0.03</td>\n      <td>0.02</td>\n      <td>0.00</td>\n      <td>0.0</td>\n      <td>0.83</td>\n      <td>0.71</td>\n      <td>mscan</td>\n    </tr>\n    <tr>\n      <th>...</th>\n      <td>...</td>\n      <td>...</td>\n      <td>...</td>\n      <td>...</td>\n      <td>...</td>\n      <td>...</td>\n      <td>...</td>\n      <td>...</td>\n      <td>...</td>\n      <td>...</td>\n      <td>...</td>\n      <td>...</td>\n      <td>...</td>\n      <td>...</td>\n      <td>...</td>\n      <td>...</td>\n      <td>...</td>\n      <td>...</td>\n      <td>...</td>\n      <td>...</td>\n      <td>...</td>\n    </tr>\n    <tr>\n      <th>22539</th>\n      <td>0</td>\n      <td>tcp</td>\n      <td>smtp</td>\n      <td>SF</td>\n      <td>794</td>\n      <td>333</td>\n      <td>0</td>\n      <td>0</td>\n      <td>0</td>\n      <td>0</td>\n      <td>...</td>\n      <td>141</td>\n      <td>0.72</td>\n      <td>0.06</td>\n      <td>0.01</td>\n      <td>0.01</td>\n      <td>0.01</td>\n      <td>0.0</td>\n      <td>0.00</td>\n      <td>0.00</td>\n      <td>normal</td>\n    </tr>\n    <tr>\n      <th>22540</th>\n      <td>0</td>\n      <td>tcp</td>\n      <td>http</td>\n      <td>SF</td>\n      <td>317</td>\n      <td>938</td>\n      <td>0</td>\n      <td>0</td>\n      <td>0</td>\n      <td>0</td>\n      <td>...</td>\n      <td>255</td>\n      <td>1.00</td>\n      <td>0.00</td>\n      <td>0.01</td>\n      <td>0.01</td>\n      <td>0.01</td>\n      <td>0.0</td>\n      <td>0.00</td>\n      <td>0.00</td>\n      <td>normal</td>\n    </tr>\n    <tr>\n      <th>22541</th>\n      <td>0</td>\n      <td>tcp</td>\n      <td>http</td>\n      <td>SF</td>\n      <td>54540</td>\n      <td>8314</td>\n      <td>0</td>\n      <td>0</td>\n      <td>0</td>\n      <td>2</td>\n      <td>...</td>\n      <td>255</td>\n      <td>1.00</td>\n      <td>0.00</td>\n      <td>0.00</td>\n      <td>0.00</td>\n      <td>0.00</td>\n      <td>0.0</td>\n      <td>0.07</td>\n      <td>0.07</td>\n      <td>back</td>\n    </tr>\n    <tr>\n      <th>22542</th>\n      <td>0</td>\n      <td>udp</td>\n      <td>domain_u</td>\n      <td>SF</td>\n      <td>42</td>\n      <td>42</td>\n      <td>0</td>\n      <td>0</td>\n      <td>0</td>\n      <td>0</td>\n      <td>...</td>\n      <td>252</td>\n      <td>0.99</td>\n      <td>0.01</td>\n      <td>0.00</td>\n      <td>0.00</td>\n      <td>0.00</td>\n      <td>0.0</td>\n      <td>0.00</td>\n      <td>0.00</td>\n      <td>normal</td>\n    </tr>\n    <tr>\n      <th>22543</th>\n      <td>0</td>\n      <td>tcp</td>\n      <td>sunrpc</td>\n      <td>REJ</td>\n      <td>0</td>\n      <td>0</td>\n      <td>0</td>\n      <td>0</td>\n      <td>0</td>\n      <td>0</td>\n      <td>...</td>\n      <td>21</td>\n      <td>0.08</td>\n      <td>0.03</td>\n      <td>0.00</td>\n      <td>0.00</td>\n      <td>0.00</td>\n      <td>0.0</td>\n      <td>0.44</td>\n      <td>1.00</td>\n      <td>mscan</td>\n    </tr>\n  </tbody>\n</table>\n<p>22544 rows × 41 columns</p>\n</div>"
     },
     "execution_count": 320,
     "metadata": {},
     "output_type": "execute_result"
    }
   ],
   "source": [
    "df_test1 = copy.deepcopy(df_test_original)\n",
    "df_test2 = copy.deepcopy(df_test_original)\n",
    "y_test_real = np.array([0 if x=='normal' else 1 for x in df_test1['label']])\n",
    "df_test_original"
   ]
  },
  {
   "cell_type": "code",
   "execution_count": 321,
   "outputs": [
    {
     "data": {
      "text/plain": "       logged_in  count  serror_rate  rerror_rate  srv_rerror_rate  \\\n0              0    229          0.0          1.0              1.0   \n1              0    136          0.0          1.0              1.0   \n2              0      1          0.0          0.0              0.0   \n3              0      1          0.0          0.0              0.0   \n4              0      1          0.0          1.0              0.5   \n...          ...    ...          ...          ...              ...   \n22539          1      1          0.0          0.0              0.0   \n22540          1      2          0.0          0.0              0.0   \n22541          1      5          0.0          0.0              0.0   \n22542          0      4          0.0          0.0              0.0   \n22543          0      4          0.0          1.0              1.0   \n\n       same_srv_rate  diff_srv_rate  srv_diff_host_rate  dst_host_srv_count  \\\n0               0.04           0.06                0.00                  10   \n1               0.01           0.06                0.00                   1   \n2               1.00           0.00                0.00                  86   \n3               1.00           0.00                1.00                  57   \n4               1.00           0.00                0.75                  86   \n...              ...            ...                 ...                 ...   \n22539           1.00           0.00                0.00                 141   \n22540           1.00           0.00                0.18                 255   \n22541           1.00           0.00                0.20                 255   \n22542           1.00           0.00                0.33                 252   \n22543           0.25           1.00                1.00                  21   \n\n       dst_host_same_srv_rate  dst_host_diff_srv_rate  \\\n0                        0.04                    0.06   \n1                        0.00                    0.06   \n2                        0.61                    0.04   \n3                        1.00                    0.00   \n4                        0.31                    0.17   \n...                       ...                     ...   \n22539                    0.72                    0.06   \n22540                    1.00                    0.00   \n22541                    1.00                    0.00   \n22542                    0.99                    0.01   \n22543                    0.08                    0.03   \n\n       dst_host_same_src_port_rate  dst_host_srv_diff_host_rate  \\\n0                             0.00                         0.00   \n1                             0.00                         0.00   \n2                             0.61                         0.02   \n3                             1.00                         0.28   \n4                             0.03                         0.02   \n...                            ...                          ...   \n22539                         0.01                         0.01   \n22540                         0.01                         0.01   \n22541                         0.00                         0.00   \n22542                         0.00                         0.00   \n22543                         0.00                         0.00   \n\n       dst_host_serror_rate  dst_host_srv_serror_rate  \\\n0                      0.00                       0.0   \n1                      0.00                       0.0   \n2                      0.00                       0.0   \n3                      0.00                       0.0   \n4                      0.00                       0.0   \n...                     ...                       ...   \n22539                  0.01                       0.0   \n22540                  0.01                       0.0   \n22541                  0.00                       0.0   \n22542                  0.00                       0.0   \n22543                  0.00                       0.0   \n\n       dst_host_srv_rerror_rate  dst_host_rerror_rate  \n0                          1.00                  1.00  \n1                          1.00                  1.00  \n2                          0.00                  0.00  \n3                          0.00                  0.00  \n4                          0.71                  0.83  \n...                         ...                   ...  \n22539                      0.00                  0.00  \n22540                      0.00                  0.00  \n22541                      0.07                  0.07  \n22542                      0.00                  0.00  \n22543                      1.00                  0.44  \n\n[22544 rows x 17 columns]",
      "text/html": "<div>\n<style scoped>\n    .dataframe tbody tr th:only-of-type {\n        vertical-align: middle;\n    }\n\n    .dataframe tbody tr th {\n        vertical-align: top;\n    }\n\n    .dataframe thead th {\n        text-align: right;\n    }\n</style>\n<table border=\"1\" class=\"dataframe\">\n  <thead>\n    <tr style=\"text-align: right;\">\n      <th></th>\n      <th>logged_in</th>\n      <th>count</th>\n      <th>serror_rate</th>\n      <th>rerror_rate</th>\n      <th>srv_rerror_rate</th>\n      <th>same_srv_rate</th>\n      <th>diff_srv_rate</th>\n      <th>srv_diff_host_rate</th>\n      <th>dst_host_srv_count</th>\n      <th>dst_host_same_srv_rate</th>\n      <th>dst_host_diff_srv_rate</th>\n      <th>dst_host_same_src_port_rate</th>\n      <th>dst_host_srv_diff_host_rate</th>\n      <th>dst_host_serror_rate</th>\n      <th>dst_host_srv_serror_rate</th>\n      <th>dst_host_srv_rerror_rate</th>\n      <th>dst_host_rerror_rate</th>\n    </tr>\n  </thead>\n  <tbody>\n    <tr>\n      <th>0</th>\n      <td>0</td>\n      <td>229</td>\n      <td>0.0</td>\n      <td>1.0</td>\n      <td>1.0</td>\n      <td>0.04</td>\n      <td>0.06</td>\n      <td>0.00</td>\n      <td>10</td>\n      <td>0.04</td>\n      <td>0.06</td>\n      <td>0.00</td>\n      <td>0.00</td>\n      <td>0.00</td>\n      <td>0.0</td>\n      <td>1.00</td>\n      <td>1.00</td>\n    </tr>\n    <tr>\n      <th>1</th>\n      <td>0</td>\n      <td>136</td>\n      <td>0.0</td>\n      <td>1.0</td>\n      <td>1.0</td>\n      <td>0.01</td>\n      <td>0.06</td>\n      <td>0.00</td>\n      <td>1</td>\n      <td>0.00</td>\n      <td>0.06</td>\n      <td>0.00</td>\n      <td>0.00</td>\n      <td>0.00</td>\n      <td>0.0</td>\n      <td>1.00</td>\n      <td>1.00</td>\n    </tr>\n    <tr>\n      <th>2</th>\n      <td>0</td>\n      <td>1</td>\n      <td>0.0</td>\n      <td>0.0</td>\n      <td>0.0</td>\n      <td>1.00</td>\n      <td>0.00</td>\n      <td>0.00</td>\n      <td>86</td>\n      <td>0.61</td>\n      <td>0.04</td>\n      <td>0.61</td>\n      <td>0.02</td>\n      <td>0.00</td>\n      <td>0.0</td>\n      <td>0.00</td>\n      <td>0.00</td>\n    </tr>\n    <tr>\n      <th>3</th>\n      <td>0</td>\n      <td>1</td>\n      <td>0.0</td>\n      <td>0.0</td>\n      <td>0.0</td>\n      <td>1.00</td>\n      <td>0.00</td>\n      <td>1.00</td>\n      <td>57</td>\n      <td>1.00</td>\n      <td>0.00</td>\n      <td>1.00</td>\n      <td>0.28</td>\n      <td>0.00</td>\n      <td>0.0</td>\n      <td>0.00</td>\n      <td>0.00</td>\n    </tr>\n    <tr>\n      <th>4</th>\n      <td>0</td>\n      <td>1</td>\n      <td>0.0</td>\n      <td>1.0</td>\n      <td>0.5</td>\n      <td>1.00</td>\n      <td>0.00</td>\n      <td>0.75</td>\n      <td>86</td>\n      <td>0.31</td>\n      <td>0.17</td>\n      <td>0.03</td>\n      <td>0.02</td>\n      <td>0.00</td>\n      <td>0.0</td>\n      <td>0.71</td>\n      <td>0.83</td>\n    </tr>\n    <tr>\n      <th>...</th>\n      <td>...</td>\n      <td>...</td>\n      <td>...</td>\n      <td>...</td>\n      <td>...</td>\n      <td>...</td>\n      <td>...</td>\n      <td>...</td>\n      <td>...</td>\n      <td>...</td>\n      <td>...</td>\n      <td>...</td>\n      <td>...</td>\n      <td>...</td>\n      <td>...</td>\n      <td>...</td>\n      <td>...</td>\n    </tr>\n    <tr>\n      <th>22539</th>\n      <td>1</td>\n      <td>1</td>\n      <td>0.0</td>\n      <td>0.0</td>\n      <td>0.0</td>\n      <td>1.00</td>\n      <td>0.00</td>\n      <td>0.00</td>\n      <td>141</td>\n      <td>0.72</td>\n      <td>0.06</td>\n      <td>0.01</td>\n      <td>0.01</td>\n      <td>0.01</td>\n      <td>0.0</td>\n      <td>0.00</td>\n      <td>0.00</td>\n    </tr>\n    <tr>\n      <th>22540</th>\n      <td>1</td>\n      <td>2</td>\n      <td>0.0</td>\n      <td>0.0</td>\n      <td>0.0</td>\n      <td>1.00</td>\n      <td>0.00</td>\n      <td>0.18</td>\n      <td>255</td>\n      <td>1.00</td>\n      <td>0.00</td>\n      <td>0.01</td>\n      <td>0.01</td>\n      <td>0.01</td>\n      <td>0.0</td>\n      <td>0.00</td>\n      <td>0.00</td>\n    </tr>\n    <tr>\n      <th>22541</th>\n      <td>1</td>\n      <td>5</td>\n      <td>0.0</td>\n      <td>0.0</td>\n      <td>0.0</td>\n      <td>1.00</td>\n      <td>0.00</td>\n      <td>0.20</td>\n      <td>255</td>\n      <td>1.00</td>\n      <td>0.00</td>\n      <td>0.00</td>\n      <td>0.00</td>\n      <td>0.00</td>\n      <td>0.0</td>\n      <td>0.07</td>\n      <td>0.07</td>\n    </tr>\n    <tr>\n      <th>22542</th>\n      <td>0</td>\n      <td>4</td>\n      <td>0.0</td>\n      <td>0.0</td>\n      <td>0.0</td>\n      <td>1.00</td>\n      <td>0.00</td>\n      <td>0.33</td>\n      <td>252</td>\n      <td>0.99</td>\n      <td>0.01</td>\n      <td>0.00</td>\n      <td>0.00</td>\n      <td>0.00</td>\n      <td>0.0</td>\n      <td>0.00</td>\n      <td>0.00</td>\n    </tr>\n    <tr>\n      <th>22543</th>\n      <td>0</td>\n      <td>4</td>\n      <td>0.0</td>\n      <td>1.0</td>\n      <td>1.0</td>\n      <td>0.25</td>\n      <td>1.00</td>\n      <td>1.00</td>\n      <td>21</td>\n      <td>0.08</td>\n      <td>0.03</td>\n      <td>0.00</td>\n      <td>0.00</td>\n      <td>0.00</td>\n      <td>0.0</td>\n      <td>1.00</td>\n      <td>0.44</td>\n    </tr>\n  </tbody>\n</table>\n<p>22544 rows × 17 columns</p>\n</div>"
     },
     "execution_count": 321,
     "metadata": {},
     "output_type": "execute_result"
    }
   ],
   "source": [
    "X_test = df_test1[common_features_l1]\n",
    "X_test"
   ],
   "metadata": {
    "collapsed": false,
    "ExecuteTime": {
     "end_time": "2023-10-23T13:26:43.506853100Z",
     "start_time": "2023-10-23T13:26:43.470151100Z"
    }
   }
  },
  {
   "cell_type": "code",
   "execution_count": 322,
   "metadata": {
    "ExecuteTime": {
     "end_time": "2023-10-23T13:26:43.661571700Z",
     "start_time": "2023-10-23T13:26:43.496757800Z"
    }
   },
   "outputs": [
    {
     "name": "stdout",
     "output_type": "stream",
     "text": [
      "Test set shape for layer 1:  (22544, 28)\n"
     ]
    }
   ],
   "source": [
    "df_minmax = scaler1.transform(X_test)\n",
    "X_test = pd.DataFrame(df_minmax, columns=X_test.columns)\n",
    "label_enc = ohe.transform(df_test1.iloc[:,1:4])\n",
    "label_enc.toarray()\n",
    "new_labels = ohe.get_feature_names_out(categorical_features)\n",
    "df_enc = pd.DataFrame(data=label_enc.toarray(), columns=new_labels)\n",
    "X_test = pd.concat([X_test, df_enc], axis=1)\n",
    "\n",
    "X_test_layer1 = pca_dos_probe.transform(X_test)\n",
    "print('Test set shape for layer 1: ', X_test_layer1.shape)"
   ]
  },
  {
   "cell_type": "code",
   "execution_count": 323,
   "outputs": [
    {
     "data": {
      "text/plain": "       srv_count  urgent  root_shell  hot  dst_host_srv_diff_host_rate  \\\n0             10       0           0    0                         0.00   \n1              1       0           0    0                         0.00   \n2              1       0           0    0                         0.02   \n3             65       0           0    0                         0.28   \n4              8       0           0    0                         0.02   \n...          ...     ...         ...  ...                          ...   \n22539          1       0           0    0                         0.01   \n22540         11       0           0    0                         0.01   \n22541         10       0           0    2                         0.00   \n22542          6       0           0    0                         0.00   \n22543         10       0           0    0                         0.00   \n\n       dst_host_count  logged_in  dst_host_same_src_port_rate  \\\n0                 255          0                         0.00   \n1                 255          0                         0.00   \n2                 134          0                         0.61   \n3                   3          0                         1.00   \n4                  29          0                         0.03   \n...               ...        ...                          ...   \n22539             100          1                         0.01   \n22540             197          1                         0.01   \n22541             255          1                         0.00   \n22542             255          0                         0.00   \n22543             255          0                         0.00   \n\n       srv_diff_host_rate  num_shells  dst_host_srv_count  \n0                    0.00           0                  10  \n1                    0.00           0                   1  \n2                    0.00           0                  86  \n3                    1.00           0                  57  \n4                    0.75           0                  86  \n...                   ...         ...                 ...  \n22539                0.00           0                 141  \n22540                0.18           0                 255  \n22541                0.20           0                 255  \n22542                0.33           0                 252  \n22543                1.00           0                  21  \n\n[22544 rows x 11 columns]",
      "text/html": "<div>\n<style scoped>\n    .dataframe tbody tr th:only-of-type {\n        vertical-align: middle;\n    }\n\n    .dataframe tbody tr th {\n        vertical-align: top;\n    }\n\n    .dataframe thead th {\n        text-align: right;\n    }\n</style>\n<table border=\"1\" class=\"dataframe\">\n  <thead>\n    <tr style=\"text-align: right;\">\n      <th></th>\n      <th>srv_count</th>\n      <th>urgent</th>\n      <th>root_shell</th>\n      <th>hot</th>\n      <th>dst_host_srv_diff_host_rate</th>\n      <th>dst_host_count</th>\n      <th>logged_in</th>\n      <th>dst_host_same_src_port_rate</th>\n      <th>srv_diff_host_rate</th>\n      <th>num_shells</th>\n      <th>dst_host_srv_count</th>\n    </tr>\n  </thead>\n  <tbody>\n    <tr>\n      <th>0</th>\n      <td>10</td>\n      <td>0</td>\n      <td>0</td>\n      <td>0</td>\n      <td>0.00</td>\n      <td>255</td>\n      <td>0</td>\n      <td>0.00</td>\n      <td>0.00</td>\n      <td>0</td>\n      <td>10</td>\n    </tr>\n    <tr>\n      <th>1</th>\n      <td>1</td>\n      <td>0</td>\n      <td>0</td>\n      <td>0</td>\n      <td>0.00</td>\n      <td>255</td>\n      <td>0</td>\n      <td>0.00</td>\n      <td>0.00</td>\n      <td>0</td>\n      <td>1</td>\n    </tr>\n    <tr>\n      <th>2</th>\n      <td>1</td>\n      <td>0</td>\n      <td>0</td>\n      <td>0</td>\n      <td>0.02</td>\n      <td>134</td>\n      <td>0</td>\n      <td>0.61</td>\n      <td>0.00</td>\n      <td>0</td>\n      <td>86</td>\n    </tr>\n    <tr>\n      <th>3</th>\n      <td>65</td>\n      <td>0</td>\n      <td>0</td>\n      <td>0</td>\n      <td>0.28</td>\n      <td>3</td>\n      <td>0</td>\n      <td>1.00</td>\n      <td>1.00</td>\n      <td>0</td>\n      <td>57</td>\n    </tr>\n    <tr>\n      <th>4</th>\n      <td>8</td>\n      <td>0</td>\n      <td>0</td>\n      <td>0</td>\n      <td>0.02</td>\n      <td>29</td>\n      <td>0</td>\n      <td>0.03</td>\n      <td>0.75</td>\n      <td>0</td>\n      <td>86</td>\n    </tr>\n    <tr>\n      <th>...</th>\n      <td>...</td>\n      <td>...</td>\n      <td>...</td>\n      <td>...</td>\n      <td>...</td>\n      <td>...</td>\n      <td>...</td>\n      <td>...</td>\n      <td>...</td>\n      <td>...</td>\n      <td>...</td>\n    </tr>\n    <tr>\n      <th>22539</th>\n      <td>1</td>\n      <td>0</td>\n      <td>0</td>\n      <td>0</td>\n      <td>0.01</td>\n      <td>100</td>\n      <td>1</td>\n      <td>0.01</td>\n      <td>0.00</td>\n      <td>0</td>\n      <td>141</td>\n    </tr>\n    <tr>\n      <th>22540</th>\n      <td>11</td>\n      <td>0</td>\n      <td>0</td>\n      <td>0</td>\n      <td>0.01</td>\n      <td>197</td>\n      <td>1</td>\n      <td>0.01</td>\n      <td>0.18</td>\n      <td>0</td>\n      <td>255</td>\n    </tr>\n    <tr>\n      <th>22541</th>\n      <td>10</td>\n      <td>0</td>\n      <td>0</td>\n      <td>2</td>\n      <td>0.00</td>\n      <td>255</td>\n      <td>1</td>\n      <td>0.00</td>\n      <td>0.20</td>\n      <td>0</td>\n      <td>255</td>\n    </tr>\n    <tr>\n      <th>22542</th>\n      <td>6</td>\n      <td>0</td>\n      <td>0</td>\n      <td>0</td>\n      <td>0.00</td>\n      <td>255</td>\n      <td>0</td>\n      <td>0.00</td>\n      <td>0.33</td>\n      <td>0</td>\n      <td>252</td>\n    </tr>\n    <tr>\n      <th>22543</th>\n      <td>10</td>\n      <td>0</td>\n      <td>0</td>\n      <td>0</td>\n      <td>0.00</td>\n      <td>255</td>\n      <td>0</td>\n      <td>0.00</td>\n      <td>1.00</td>\n      <td>0</td>\n      <td>21</td>\n    </tr>\n  </tbody>\n</table>\n<p>22544 rows × 11 columns</p>\n</div>"
     },
     "execution_count": 323,
     "metadata": {},
     "output_type": "execute_result"
    }
   ],
   "source": [
    "X_test = df_test2[common_features_l2] \n",
    "X_test"
   ],
   "metadata": {
    "collapsed": false,
    "ExecuteTime": {
     "end_time": "2023-10-23T13:26:43.661571700Z",
     "start_time": "2023-10-23T13:26:43.552406300Z"
    }
   }
  },
  {
   "cell_type": "code",
   "execution_count": 324,
   "metadata": {
    "ExecuteTime": {
     "end_time": "2023-10-23T13:26:43.741589100Z",
     "start_time": "2023-10-23T13:26:43.569533600Z"
    }
   },
   "outputs": [
    {
     "name": "stdout",
     "output_type": "stream",
     "text": [
      "Test set shape for layer 2:  (22544, 13)\n",
      "Type of X_test_layer1:  <class 'numpy.ndarray'>\n",
      "Type of X_test_layer1:  <class 'numpy.ndarray'>\n"
     ]
    }
   ],
   "source": [
    "df_minmax = scaler2.transform(X_test)\n",
    "X_test = pd.DataFrame(df_minmax, columns=X_test.columns)\n",
    "label_enc = ohe2.transform(df_test2.iloc[:,1:4])\n",
    "label_enc.toarray()\n",
    "new_labels = ohe2.get_feature_names_out(categorical_features)\n",
    "df_enc = pd.DataFrame(data=label_enc.toarray(), columns=new_labels)\n",
    "X_test = pd.concat([X_test, df_enc], axis=1)\n",
    "\n",
    "X_test_layer2 = pca_r2l_u2r.transform(X_test)\n",
    "print('Test set shape for layer 2: ', X_test_layer2.shape)\n",
    "print('Type of X_test_layer1: ', type(X_test_layer1))\n",
    "print('Type of X_test_layer1: ', type(X_test_layer2))"
   ]
  },
  {
   "cell_type": "code",
   "execution_count": 325,
   "metadata": {
    "ExecuteTime": {
     "end_time": "2023-10-23T13:26:43.741589100Z",
     "start_time": "2023-10-23T13:26:43.609788800Z"
    }
   },
   "outputs": [],
   "source": [
    "# same classifiers obtained above\n",
    "classifier1 = dos_probe_classifier\n",
    "classifier2 = r2l_u2r_classifier"
   ]
  },
  {
   "cell_type": "code",
   "execution_count": 326,
   "metadata": {
    "ExecuteTime": {
     "end_time": "2023-10-23T13:26:48.341220300Z",
     "start_time": "2023-10-23T13:26:43.616873100Z"
    }
   },
   "outputs": [],
   "source": [
    "result = []\n",
    "for i in range(X_test_layer2.shape[0]):\n",
    "    layer1 = classifier1.predict(X_test_layer1[i].reshape(1, -1))[0]\n",
    "    if layer1 == 1:\n",
    "        result.append(layer1)\n",
    "    else:\n",
    "        layer2 = classifier2.predict(X_test_layer2[i].reshape(1, -1))[0]\n",
    "        if layer2 == 1:\n",
    "            result.append(layer2)\n",
    "        else:\n",
    "            result.append(0)\n",
    "            \n",
    "result = np.array(result)"
   ]
  },
  {
   "cell_type": "code",
   "execution_count": 327,
   "metadata": {
    "ExecuteTime": {
     "end_time": "2023-10-23T13:26:48.387793300Z",
     "start_time": "2023-10-23T13:26:48.342437Z"
    }
   },
   "outputs": [
    {
     "name": "stdout",
     "output_type": "stream",
     "text": [
      "Results for the layer 2 (SVM):\n",
      "[[ 8107  1604]\n",
      " [  899 11934]]\n",
      "Accuracy =  0.888972675656494\n",
      "F1 Score =  0.9050851313943346\n",
      "Precision =  0.8815186881370956\n",
      "Recall =  0.9299462323696719\n",
      "Matthew corr =  0.7731882307380973\n"
     ]
    }
   ],
   "source": [
    "# the results may vary\n",
    "# C=0.1, gamma=0.01\n",
    "print('Results for the layer 2 (SVM):')\n",
    "print(confusion_matrix(y_test_real,result))\n",
    "print('Accuracy = ', accuracy_score(y_test_real,result))\n",
    "print('F1 Score = ', f1_score(y_test_real,result))\n",
    "print('Precision = ', precision_score(y_test_real,result))\n",
    "print('Recall = ', recall_score(y_test_real,result))\n",
    "print('Matthew corr = ', matthews_corrcoef(y_test_real,result))"
   ]
  },
  {
   "cell_type": "markdown",
   "source": [
    "### Export the test sets"
   ],
   "metadata": {
    "collapsed": false
   }
  },
  {
   "cell_type": "code",
   "execution_count": 328,
   "outputs": [],
   "source": [
    "if EXPORT_DATASETS:\n",
    "    column_names = [f'PC{i}' for i in range(1, X_test_layer1.shape[1] + 1)]\n",
    "    X1_test = pd.DataFrame(data=X_test_layer1, columns=column_names)\n",
    "    X1_test.to_csv('NSL-KDD Encoded Datasets/X_test_l1.txt', index=False)\n",
    "    \n",
    "    column_names = [f'PC{i}' for i in range(1, X_test_layer2.shape[1] + 1)]\n",
    "    X2_test = pd.DataFrame(data=X_test_layer2, columns=column_names)\n",
    "    X2_test.to_csv('NSL-KDD Encoded Datasets/X_test_l2.txt', index=False)\n",
    "    \n",
    "    np.save('NSL-KDD Encoded Datasets/y_test', y_test_real)"
   ],
   "metadata": {
    "collapsed": false,
    "ExecuteTime": {
     "end_time": "2023-10-23T13:26:49.397979800Z",
     "start_time": "2023-10-23T13:26:48.387793300Z"
    }
   }
  },
  {
   "cell_type": "markdown",
   "metadata": {},
   "source": [
    "### evaluate seen and unseen attack categories"
   ]
  },
  {
   "cell_type": "code",
   "execution_count": 329,
   "metadata": {
    "ExecuteTime": {
     "end_time": "2023-10-23T13:26:49.482511Z",
     "start_time": "2023-10-23T13:26:49.400487500Z"
    }
   },
   "outputs": [],
   "source": [
    "# load testset\n",
    "df_test = pd.read_csv('NSL-KDD Original Datasets\\KDDTest+.txt', sep=\",\", header=None)\n",
    "df_test = df_test[df_test.columns[:-1]]\n",
    "df_test.columns = titles.to_list()\n",
    "y_test = df_test['label']\n",
    "df_test = df_test.drop(['num_outbound_cmds'],axis=1)\n",
    "df_test_original = df_test"
   ]
  },
  {
   "cell_type": "code",
   "execution_count": 330,
   "outputs": [
    {
     "data": {
      "text/plain": "       duration protocol_type   service  flag  src_bytes  dst_bytes  land  \\\n0             0           tcp   private   REJ          0          0     0   \n1             0           tcp   private   REJ          0          0     0   \n2             2           tcp  ftp_data    SF      12983          0     0   \n3             0          icmp     eco_i    SF         20          0     0   \n4             1           tcp    telnet  RSTO          0         15     0   \n...         ...           ...       ...   ...        ...        ...   ...   \n22539         0           tcp      smtp    SF        794        333     0   \n22540         0           tcp      http    SF        317        938     0   \n22541         0           tcp      http    SF      54540       8314     0   \n22542         0           udp  domain_u    SF         42         42     0   \n22543         0           tcp    sunrpc   REJ          0          0     0   \n\n       wrong_fragment  urgent  hot  ...  dst_host_srv_count  \\\n0                   0       0    0  ...                  10   \n1                   0       0    0  ...                   1   \n2                   0       0    0  ...                  86   \n3                   0       0    0  ...                  57   \n4                   0       0    0  ...                  86   \n...               ...     ...  ...  ...                 ...   \n22539               0       0    0  ...                 141   \n22540               0       0    0  ...                 255   \n22541               0       0    2  ...                 255   \n22542               0       0    0  ...                 252   \n22543               0       0    0  ...                  21   \n\n       dst_host_same_srv_rate  dst_host_diff_srv_rate  \\\n0                        0.04                    0.06   \n1                        0.00                    0.06   \n2                        0.61                    0.04   \n3                        1.00                    0.00   \n4                        0.31                    0.17   \n...                       ...                     ...   \n22539                    0.72                    0.06   \n22540                    1.00                    0.00   \n22541                    1.00                    0.00   \n22542                    0.99                    0.01   \n22543                    0.08                    0.03   \n\n       dst_host_same_src_port_rate  dst_host_srv_diff_host_rate  \\\n0                             0.00                         0.00   \n1                             0.00                         0.00   \n2                             0.61                         0.02   \n3                             1.00                         0.28   \n4                             0.03                         0.02   \n...                            ...                          ...   \n22539                         0.01                         0.01   \n22540                         0.01                         0.01   \n22541                         0.00                         0.00   \n22542                         0.00                         0.00   \n22543                         0.00                         0.00   \n\n       dst_host_serror_rate  dst_host_srv_serror_rate  dst_host_rerror_rate  \\\n0                      0.00                       0.0                  1.00   \n1                      0.00                       0.0                  1.00   \n2                      0.00                       0.0                  0.00   \n3                      0.00                       0.0                  0.00   \n4                      0.00                       0.0                  0.83   \n...                     ...                       ...                   ...   \n22539                  0.01                       0.0                  0.00   \n22540                  0.01                       0.0                  0.00   \n22541                  0.00                       0.0                  0.07   \n22542                  0.00                       0.0                  0.00   \n22543                  0.00                       0.0                  0.44   \n\n       dst_host_srv_rerror_rate    label  \n0                          1.00  neptune  \n1                          1.00  neptune  \n2                          0.00   normal  \n3                          0.00    saint  \n4                          0.71    mscan  \n...                         ...      ...  \n22539                      0.00   normal  \n22540                      0.00   normal  \n22541                      0.07     back  \n22542                      0.00   normal  \n22543                      1.00    mscan  \n\n[22544 rows x 41 columns]",
      "text/html": "<div>\n<style scoped>\n    .dataframe tbody tr th:only-of-type {\n        vertical-align: middle;\n    }\n\n    .dataframe tbody tr th {\n        vertical-align: top;\n    }\n\n    .dataframe thead th {\n        text-align: right;\n    }\n</style>\n<table border=\"1\" class=\"dataframe\">\n  <thead>\n    <tr style=\"text-align: right;\">\n      <th></th>\n      <th>duration</th>\n      <th>protocol_type</th>\n      <th>service</th>\n      <th>flag</th>\n      <th>src_bytes</th>\n      <th>dst_bytes</th>\n      <th>land</th>\n      <th>wrong_fragment</th>\n      <th>urgent</th>\n      <th>hot</th>\n      <th>...</th>\n      <th>dst_host_srv_count</th>\n      <th>dst_host_same_srv_rate</th>\n      <th>dst_host_diff_srv_rate</th>\n      <th>dst_host_same_src_port_rate</th>\n      <th>dst_host_srv_diff_host_rate</th>\n      <th>dst_host_serror_rate</th>\n      <th>dst_host_srv_serror_rate</th>\n      <th>dst_host_rerror_rate</th>\n      <th>dst_host_srv_rerror_rate</th>\n      <th>label</th>\n    </tr>\n  </thead>\n  <tbody>\n    <tr>\n      <th>0</th>\n      <td>0</td>\n      <td>tcp</td>\n      <td>private</td>\n      <td>REJ</td>\n      <td>0</td>\n      <td>0</td>\n      <td>0</td>\n      <td>0</td>\n      <td>0</td>\n      <td>0</td>\n      <td>...</td>\n      <td>10</td>\n      <td>0.04</td>\n      <td>0.06</td>\n      <td>0.00</td>\n      <td>0.00</td>\n      <td>0.00</td>\n      <td>0.0</td>\n      <td>1.00</td>\n      <td>1.00</td>\n      <td>neptune</td>\n    </tr>\n    <tr>\n      <th>1</th>\n      <td>0</td>\n      <td>tcp</td>\n      <td>private</td>\n      <td>REJ</td>\n      <td>0</td>\n      <td>0</td>\n      <td>0</td>\n      <td>0</td>\n      <td>0</td>\n      <td>0</td>\n      <td>...</td>\n      <td>1</td>\n      <td>0.00</td>\n      <td>0.06</td>\n      <td>0.00</td>\n      <td>0.00</td>\n      <td>0.00</td>\n      <td>0.0</td>\n      <td>1.00</td>\n      <td>1.00</td>\n      <td>neptune</td>\n    </tr>\n    <tr>\n      <th>2</th>\n      <td>2</td>\n      <td>tcp</td>\n      <td>ftp_data</td>\n      <td>SF</td>\n      <td>12983</td>\n      <td>0</td>\n      <td>0</td>\n      <td>0</td>\n      <td>0</td>\n      <td>0</td>\n      <td>...</td>\n      <td>86</td>\n      <td>0.61</td>\n      <td>0.04</td>\n      <td>0.61</td>\n      <td>0.02</td>\n      <td>0.00</td>\n      <td>0.0</td>\n      <td>0.00</td>\n      <td>0.00</td>\n      <td>normal</td>\n    </tr>\n    <tr>\n      <th>3</th>\n      <td>0</td>\n      <td>icmp</td>\n      <td>eco_i</td>\n      <td>SF</td>\n      <td>20</td>\n      <td>0</td>\n      <td>0</td>\n      <td>0</td>\n      <td>0</td>\n      <td>0</td>\n      <td>...</td>\n      <td>57</td>\n      <td>1.00</td>\n      <td>0.00</td>\n      <td>1.00</td>\n      <td>0.28</td>\n      <td>0.00</td>\n      <td>0.0</td>\n      <td>0.00</td>\n      <td>0.00</td>\n      <td>saint</td>\n    </tr>\n    <tr>\n      <th>4</th>\n      <td>1</td>\n      <td>tcp</td>\n      <td>telnet</td>\n      <td>RSTO</td>\n      <td>0</td>\n      <td>15</td>\n      <td>0</td>\n      <td>0</td>\n      <td>0</td>\n      <td>0</td>\n      <td>...</td>\n      <td>86</td>\n      <td>0.31</td>\n      <td>0.17</td>\n      <td>0.03</td>\n      <td>0.02</td>\n      <td>0.00</td>\n      <td>0.0</td>\n      <td>0.83</td>\n      <td>0.71</td>\n      <td>mscan</td>\n    </tr>\n    <tr>\n      <th>...</th>\n      <td>...</td>\n      <td>...</td>\n      <td>...</td>\n      <td>...</td>\n      <td>...</td>\n      <td>...</td>\n      <td>...</td>\n      <td>...</td>\n      <td>...</td>\n      <td>...</td>\n      <td>...</td>\n      <td>...</td>\n      <td>...</td>\n      <td>...</td>\n      <td>...</td>\n      <td>...</td>\n      <td>...</td>\n      <td>...</td>\n      <td>...</td>\n      <td>...</td>\n      <td>...</td>\n    </tr>\n    <tr>\n      <th>22539</th>\n      <td>0</td>\n      <td>tcp</td>\n      <td>smtp</td>\n      <td>SF</td>\n      <td>794</td>\n      <td>333</td>\n      <td>0</td>\n      <td>0</td>\n      <td>0</td>\n      <td>0</td>\n      <td>...</td>\n      <td>141</td>\n      <td>0.72</td>\n      <td>0.06</td>\n      <td>0.01</td>\n      <td>0.01</td>\n      <td>0.01</td>\n      <td>0.0</td>\n      <td>0.00</td>\n      <td>0.00</td>\n      <td>normal</td>\n    </tr>\n    <tr>\n      <th>22540</th>\n      <td>0</td>\n      <td>tcp</td>\n      <td>http</td>\n      <td>SF</td>\n      <td>317</td>\n      <td>938</td>\n      <td>0</td>\n      <td>0</td>\n      <td>0</td>\n      <td>0</td>\n      <td>...</td>\n      <td>255</td>\n      <td>1.00</td>\n      <td>0.00</td>\n      <td>0.01</td>\n      <td>0.01</td>\n      <td>0.01</td>\n      <td>0.0</td>\n      <td>0.00</td>\n      <td>0.00</td>\n      <td>normal</td>\n    </tr>\n    <tr>\n      <th>22541</th>\n      <td>0</td>\n      <td>tcp</td>\n      <td>http</td>\n      <td>SF</td>\n      <td>54540</td>\n      <td>8314</td>\n      <td>0</td>\n      <td>0</td>\n      <td>0</td>\n      <td>2</td>\n      <td>...</td>\n      <td>255</td>\n      <td>1.00</td>\n      <td>0.00</td>\n      <td>0.00</td>\n      <td>0.00</td>\n      <td>0.00</td>\n      <td>0.0</td>\n      <td>0.07</td>\n      <td>0.07</td>\n      <td>back</td>\n    </tr>\n    <tr>\n      <th>22542</th>\n      <td>0</td>\n      <td>udp</td>\n      <td>domain_u</td>\n      <td>SF</td>\n      <td>42</td>\n      <td>42</td>\n      <td>0</td>\n      <td>0</td>\n      <td>0</td>\n      <td>0</td>\n      <td>...</td>\n      <td>252</td>\n      <td>0.99</td>\n      <td>0.01</td>\n      <td>0.00</td>\n      <td>0.00</td>\n      <td>0.00</td>\n      <td>0.0</td>\n      <td>0.00</td>\n      <td>0.00</td>\n      <td>normal</td>\n    </tr>\n    <tr>\n      <th>22543</th>\n      <td>0</td>\n      <td>tcp</td>\n      <td>sunrpc</td>\n      <td>REJ</td>\n      <td>0</td>\n      <td>0</td>\n      <td>0</td>\n      <td>0</td>\n      <td>0</td>\n      <td>0</td>\n      <td>...</td>\n      <td>21</td>\n      <td>0.08</td>\n      <td>0.03</td>\n      <td>0.00</td>\n      <td>0.00</td>\n      <td>0.00</td>\n      <td>0.0</td>\n      <td>0.44</td>\n      <td>1.00</td>\n      <td>mscan</td>\n    </tr>\n  </tbody>\n</table>\n<p>22544 rows × 41 columns</p>\n</div>"
     },
     "execution_count": 330,
     "metadata": {},
     "output_type": "execute_result"
    }
   ],
   "source": [
    "if EXPORT_DATASETS:\n",
    "    df_test_original.to_csv('NSL-KDD Encoded Datasets/KDDTest+', index=False)\n",
    "    np.save('NSL-KDD Encoded Datasets/KDDTest+_targets', y_test)\n",
    "    \n",
    "df_test_original"
   ],
   "metadata": {
    "collapsed": false,
    "ExecuteTime": {
     "end_time": "2023-10-23T13:26:49.763365100Z",
     "start_time": "2023-10-23T13:26:49.484977700Z"
    }
   }
  },
  {
   "cell_type": "code",
   "execution_count": 331,
   "metadata": {
    "ExecuteTime": {
     "end_time": "2023-10-23T13:26:49.957764200Z",
     "start_time": "2023-10-23T13:26:49.761473900Z"
    }
   },
   "outputs": [
    {
     "data": {
      "text/plain": "['apache2',\n 'httptunnel',\n 'mailbomb',\n 'mscan',\n 'named',\n 'processtable',\n 'ps',\n 'saint',\n 'sendmail',\n 'snmpgetattack',\n 'snmpguess',\n 'sqlattack',\n 'udpstorm',\n 'worm',\n 'xlock',\n 'xsnoop',\n 'xterm']"
     },
     "execution_count": 331,
     "metadata": {},
     "output_type": "execute_result"
    }
   ],
   "source": [
    "new_attack = []\n",
    "for i in df_test_original['label'].value_counts().index.tolist()[1:]:\n",
    "    if i not in df_train_original['label'].value_counts().index.tolist()[1:]:\n",
    "        new_attack.append(i)\n",
    "        \n",
    "new_attack.sort()\n",
    "new_attack"
   ]
  },
  {
   "cell_type": "code",
   "execution_count": 332,
   "metadata": {
    "ExecuteTime": {
     "end_time": "2023-10-23T13:26:50.032586800Z",
     "start_time": "2023-10-23T13:26:50.030207100Z"
    }
   },
   "outputs": [],
   "source": [
    "index_of_new_attacks = []\n",
    "\n",
    "for i in range(len(df_test_original)):\n",
    "    if df_test_original['label'][i] in new_attack:\n",
    "        index_of_new_attacks.append(df_test_original.index[i])"
   ]
  },
  {
   "cell_type": "code",
   "execution_count": 333,
   "outputs": [
    {
     "data": {
      "text/plain": "3750"
     },
     "execution_count": 333,
     "metadata": {},
     "output_type": "execute_result"
    }
   ],
   "source": [
    "len(index_of_new_attacks)"
   ],
   "metadata": {
    "collapsed": false,
    "ExecuteTime": {
     "end_time": "2023-10-23T13:26:50.040397900Z",
     "start_time": "2023-10-23T13:26:50.034094900Z"
    }
   }
  },
  {
   "cell_type": "code",
   "execution_count": 334,
   "metadata": {
    "ExecuteTime": {
     "end_time": "2023-10-23T13:26:50.046271300Z",
     "start_time": "2023-10-23T13:26:50.040796200Z"
    }
   },
   "outputs": [
    {
     "data": {
      "text/plain": "['apache2',\n 'httptunnel',\n 'mailbomb',\n 'mscan',\n 'named',\n 'processtable',\n 'ps',\n 'saint',\n 'sendmail',\n 'snmpgetattack',\n 'snmpguess',\n 'sqlattack',\n 'udpstorm',\n 'worm',\n 'xlock',\n 'xsnoop',\n 'xterm',\n 'normal']"
     },
     "execution_count": 334,
     "metadata": {},
     "output_type": "execute_result"
    }
   ],
   "source": [
    "new_attack.append('normal')\n",
    "new_attack"
   ]
  },
  {
   "cell_type": "code",
   "execution_count": 335,
   "metadata": {
    "ExecuteTime": {
     "end_time": "2023-10-23T13:26:50.129112400Z",
     "start_time": "2023-10-23T13:26:50.044900600Z"
    }
   },
   "outputs": [],
   "source": [
    "index_of_old_attacks = []\n",
    "\n",
    "for i in range(len(df_test_original)):\n",
    "    if df_test_original['label'][i] not in new_attack:\n",
    "        index_of_old_attacks.append(df_test_original.index[i])"
   ]
  },
  {
   "cell_type": "code",
   "execution_count": 336,
   "metadata": {
    "ExecuteTime": {
     "end_time": "2023-10-23T13:26:50.144448900Z",
     "start_time": "2023-10-23T13:26:50.124692900Z"
    }
   },
   "outputs": [
    {
     "data": {
      "text/plain": "9083"
     },
     "execution_count": 336,
     "metadata": {},
     "output_type": "execute_result"
    }
   ],
   "source": [
    "len(index_of_old_attacks)"
   ]
  },
  {
   "cell_type": "code",
   "execution_count": 337,
   "metadata": {
    "ExecuteTime": {
     "end_time": "2023-10-23T13:26:50.148940200Z",
     "start_time": "2023-10-23T13:26:50.129112400Z"
    }
   },
   "outputs": [
    {
     "name": "stdout",
     "output_type": "stream",
     "text": [
      "Number of new attacks in the test set:  3750\n",
      "Number of new attacks detected by the classifiers:  3416\n",
      "Proportion of new attacks detected:  0.9109333333333334\n"
     ]
    }
   ],
   "source": [
    "print('Number of new attacks in the test set: ', result[index_of_new_attacks].shape[0])\n",
    "print('Number of new attacks detected by the classifiers: ', result[index_of_new_attacks].sum())\n",
    "print('Proportion of new attacks detected: ', result[index_of_new_attacks].sum()/result[index_of_new_attacks].shape[0])"
   ]
  },
  {
   "cell_type": "code",
   "execution_count": 338,
   "metadata": {
    "ExecuteTime": {
     "end_time": "2023-10-23T13:26:50.148940200Z",
     "start_time": "2023-10-23T13:26:50.137694500Z"
    }
   },
   "outputs": [
    {
     "name": "stdout",
     "output_type": "stream",
     "text": [
      "Number of old attacks in the test set:  9083\n",
      "Number of old attacks detected by the classifiers:  8518\n",
      "Proportion of old attacks detected:  0.9377958824177034\n"
     ]
    }
   ],
   "source": [
    "print('Number of old attacks in the test set: ', result[index_of_old_attacks].shape[0])\n",
    "print('Number of old attacks detected by the classifiers: ', result[index_of_old_attacks].sum())\n",
    "print('Proportion of old attacks detected: ', result[index_of_old_attacks].sum()/result[index_of_old_attacks].shape[0])"
   ]
  },
  {
   "cell_type": "markdown",
   "metadata": {},
   "source": [
    "### Evaluate single attack types"
   ]
  },
  {
   "cell_type": "code",
   "execution_count": 339,
   "metadata": {
    "ExecuteTime": {
     "end_time": "2023-10-23T13:26:50.242412900Z",
     "start_time": "2023-10-23T13:26:50.144448900Z"
    }
   },
   "outputs": [
    {
     "name": "stdout",
     "output_type": "stream",
     "text": [
      "Evaluation split into single attack type:\n",
      "Number of dos attacks:  7460\n",
      "Number of detected attacks:  6880\n",
      "Ratio of detection:  0.9222520107238605\n",
      "Number of probe attacks:  2421\n",
      "Number of detected attacks:  2212\n",
      "Ratio of detection:  0.9136720363486163\n",
      "Number of r2l attacks:  2885\n",
      "Number of detected attacks:  2775\n",
      "Ratio of detection:  0.9618717504332756\n",
      "Number of u2r attacks:  67\n",
      "Number of detected attacks:  67\n",
      "Ratio of detection:  1.0\n"
     ]
    }
   ],
   "source": [
    "# load test set\n",
    "df_test = pd.read_csv('NSL-KDD Original Datasets/KDDTest+.txt', sep=\",\", header=None)\n",
    "df_test = df_test[df_test.columns[:-1]]\n",
    "df_test.columns = titles.to_list()\n",
    "y_test = df_test['label']\n",
    "df_test = df_test.drop(['num_outbound_cmds'],axis=1)\n",
    "df_test_original = df_test\n",
    "df = df_test_original\n",
    "\n",
    "dos_index = df.index[(df['label'].isin(dos_attacks))].tolist()\n",
    "probe_index = df.index[(df['label'].isin(probe_attacks))].tolist()\n",
    "r2l_index = df.index[(df['label'].isin(r2l_attacks))].tolist()\n",
    "u2r_index = df.index[(df['label'].isin(u2r_attacks))].tolist()\n",
    "\n",
    "print('Evaluation split into single attack type:')\n",
    "print(\"Number of dos attacks: \", result[dos_index].shape[0])\n",
    "print(\"Number of detected attacks: \", result[dos_index].sum())\n",
    "print(\"Ratio of detection: \", result[dos_index].sum()/result[dos_index].shape[0])\n",
    "\n",
    "print(\"Number of probe attacks: \", result[probe_index].shape[0])\n",
    "print(\"Number of detected attacks: \", result[probe_index].sum())\n",
    "print(\"Ratio of detection: \", result[probe_index].sum()/result[probe_index].shape[0])\n",
    "\n",
    "print(\"Number of r2l attacks: \", result[r2l_index].shape[0])\n",
    "print(\"Number of detected attacks: \", result[r2l_index].sum())\n",
    "print(\"Ratio of detection: \", result[r2l_index].sum()/result[r2l_index].shape[0])\n",
    "\n",
    "print(\"Number of u2r attacks: \", result[u2r_index].shape[0])\n",
    "print(\"Number of detected attacks: \", result[u2r_index].sum())\n",
    "print(\"Ratio of detection: \", result[u2r_index].sum()/result[u2r_index].shape[0])"
   ]
  },
  {
   "cell_type": "code",
   "execution_count": 340,
   "outputs": [],
   "source": [
    "# Export one hot encoders\n",
    "if EXPORT_ENCODERS:\n",
    "    joblib.dump(ohe, 'NSL-KDD Files/one_hot_encoders/ohe1.pkl')\n",
    "    joblib.dump(ohe2, 'NSL-KDD Files/one_hot_encoders/ohe2.pkl')"
   ],
   "metadata": {
    "collapsed": false,
    "ExecuteTime": {
     "end_time": "2023-10-23T13:26:50.242412900Z",
     "start_time": "2023-10-23T13:26:50.226638Z"
    }
   }
  }
 ],
 "metadata": {
  "kernelspec": {
   "display_name": "Python 3",
   "language": "python",
   "name": "python3"
  },
  "language_info": {
   "codemirror_mode": {
    "name": "ipython",
    "version": 3
   },
   "file_extension": ".py",
   "mimetype": "text/x-python",
   "name": "python",
   "nbconvert_exporter": "python",
   "pygments_lexer": "ipython3",
   "version": "3.8.3"
  }
 },
 "nbformat": 4,
 "nbformat_minor": 4
}
