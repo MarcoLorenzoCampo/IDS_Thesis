{
 "cells": [
  {
   "cell_type": "markdown",
   "source": [
    "# Hyperparameter Tuning:\n",
    "\n",
    "## Self-Tuning Hyperparameters:\n",
    "\n",
    "Hyperparameter tuning is the process of adjusting the _hyperparameters_ of a machine learning model to improve its performance. Hyperparameters are parameters that control the training process of a model, but are not learned from the data. They are usually set by the programmer and depend heavily on the task at hand.\n",
    "The _optimal_ hyperparameters are chosen based on a metric which compares the capabilities of the model with a specific set of hyperparameters to the desired capabilities. Even if the metric is choice depends on the specific context and application, some common metrics that are used in classification problems include: accuracy, precision, recall, F1 score.\n",
    "Hyperparameter tuning (or optimization) can either be SOHT (Single Objective Hyperparameters Tuning) or MOHT (Multiple-Objectives Hyperparameters Tuning). \n",
    "In SOHT, the focus is on optimizing a single objective, such as model accuracy. However, in multi-objective hyperparameter tuning (MOHT), we optimize the hyperparameters to achieve multiple, often conflicting objectives. MOHT can be achieved in multiple ways, and sometimes merging multiple objectives into a single one is a viable strategy.\n",
    "\n",
    "MOHT is useful in situations where we want to balance different performance metrics, such as accuracy, precision, recall, and training time. In the context of an IDS, we may want to optimize the model to reduce the number of false negatives, compared to the number of false positives that will not impact the security of the network.\n",
    "\n",
    "Some examples of MOHT can be:\n",
    "- Optimizing a machine learning model for both accuracy and fairness.\n",
    "- Optimizing a machine learning model for both accuracy and speed.\n",
    "- Optimizing a machine learning model for both accuracy and low CPU usage.\n",
    "\n",
    "### More on Hyperparameters Tuning\n",
    "\n",
    "In machine learning models like the Naive Bayes classifier and SVM, hyperparameters are settings that are not learned from the data but are crucial for model performance. Manually tuning these hyperparameters can be time-consuming and might not lead to optimal results. Self-tuning hyperparameters involve mechanisms that automatically find the best hyperparameter settings for your models during the planning phase of the MAPE-K loop. Here's how it can be implemented:\n",
    "\n",
    "- **Bayesian Optimization**: It's a probabilistic model-based approach that builds a surrogate model of the hyperparameter-performance relationship. It then uses an acquisition function to decide which hyperparameters to try next. Over time, Bayesian optimization adapts to discover the hyperparameters that yield the best performance.\n",
    "\n",
    "- **Grid Search with Evaluation**: You can set up a grid search where different hyperparameters are systematically tested within predefined ranges. Computationally expensive. In the planning phase, the system can perform a grid search with occasional model evaluation to find the best hyperparameters.\n",
    "\n",
    "- **Random Search**: Random combinations of hyperparameters are evaluated. Random search can be less intensive than grid search and may lead to good hyperparameter choices.\n",
    "\n",
    "Hyperparameters tuning and Cross Validation (CV) are strictly correlated.\n",
    "\n",
    "**Cross-Validation**: Cross-validation is a technique used to assess the performance and generalization ability of a machine learning model. It involves dividing the dataset into multiple subsets (known as _folds_) and iteratively training and testing the model using different combinations of these folds.\n",
    "\n",
    "**Hyperparameter Tuning within Cross-Validation**: To find the best hyperparameters for a model, it's common to perform hyperparameter tuning within each fold of a cross-validation procedure. In this setup, you search for the best hyperparameters while training on the training portion of the current fold and then evaluate the model's performance on the validation portion of the fold.\n",
    "This process is repeated for each fold, and the hyperparameters that yield the best average performance across the folds are selected as the final hyperparameters for the model. This approach ensures that the selected hyperparameters generalize well to different data partitions.\n",
    "\n",
    "## Monitor Phase:\n",
    "\n",
    "**Self-monitoring mechanism**: collects data from the IDS's operations on the KDDTest+ dataset. This data should include information on detection results (e.g., true positives, false negatives), response times, and resource utilization. From the collected data, define performance metrics: a set of performance metrics that are meaningful for your specific IDS. Common metrics include detection accuracy, false positive rate, false negative rate, and response time. These have already been identified for this specific IDS, but additional ones can be used to identify new trends in the system.\n",
    "In the Monitoring phase, the IDS continuously collects data about network traffic, system performance and security incidents.\n",
    "Collect performance metrics such as detection accuracy, false positives, and false negatives.\n",
    "Gather data on the current threat landscape, including emerging threats, attack patterns, and vulnerabilities.\n",
    "Monitor the computational resources available.\n",
    "\n",
    "#### What to monitor\n",
    "\n",
    "In order to detect the actual need for self-adaptation, metrics need to be identified to evaluate how _up-to-date_ the system is. These metrics are simple measurements that will be fed to the _analysis_ component that will identify if changes in trends may require adaptations. The following is a non-exhaustive list of what can be monitored in the system:\n",
    "\n",
    "1. **Performance metrics**: evaluate how the systems perform in terms of the actual intrusion detection.\n",
    "    - **Detection accuracy**: overall accuracy of the IDS.\n",
    "    - **Confusion matrix**: a representation of the positives and negatives [TP FN / FP TN]\n",
    "    - **False (True) positives**: rate at which the IDS produce false (true) alarms.\n",
    "    - **False (True) negatives**: rate at which che IDS misses (identifies) actual threats. \n",
    "    - **Response time**: measures the time it takes for the IDS to produce a prediction.\n",
    "- **Feedback from analysts**: all the metrics above can be updated in complete autonomy in testing, but in a real life applications, feedback will come from the classifiers themselves, as well as from analysts that manually classify misclassified connections.\n",
    "    - **Model stability**: This metric is used to ensure the function of the performance tends to be constant in time. A drop of performance is alarming.\n",
    "2. **Network data and traffic**: evaluate the properties of the incoming traffic.\n",
    "    - **Data distribution**: monitor the distribution of network data, including traffic patterns, protocols, attack prevalence. High volumes of data may require higher response times to ensure the IDS does not behave as the bottleneck of the network.\n",
    "    - **Data quality**: assess the quality of the data collected, inconsistencies or preprocessing problems. This may be useful to  identify when the IDS is lacking accuracy or when problems happen before the classification process.\n",
    "3. **Hardware and software infrastructures**: Keep track of the properties of the infrastructure in which the IDS operates.\n",
    "    - **Resource availability**: keep track of the computational resources, CPU, GPU etc.\n",
    "4. **Feature engineering**: periodically evaluate the relevance of the features used for detection and adapt the feature set as needed.\n",
    "5. **Thresholds**: monitor if thresholds have been changed and thus require adaptation.\n",
    "6. **Train set**: changes in the structure of the train set can be identified. Changes like the _number of features_ and the _number of samples_ which can also be linked to the changes in the features quality.\n",
    "7. **General requirements**: more requirements may be specified by operators, assigning an higher priority to some aspects of the IDS.\n",
    "\n",
    "### Analyze Phase:\n",
    "\n",
    "**Analyze component**: this is a fundamental component of the self-adaptive loop in the IDS's MAPE-K architecture. In this phase, the system continuously evaluates the performance of the IDS and collects valuable insights from the data and feedback. The primary tasks of these phases include:\n",
    "- Metrics:\n",
    "    - Compare _baseline_ values (set during design phase) of the metrics with current values to identify possible trends and evaluate if certain thresholds have been surpassed.\n",
    "    - Evaluate if changes in the datasets lead to new optimal features.\n",
    "    - Evaluate if the dataset itself was changed significantly.\n",
    "    - Compare traffic volumes, patterns or other properties of the incoming traffic with historical patterns to evaluate if a drift in traffic distribution is taking place. \n",
    "    - Evaluate the resources utilization of hardware/software components and identify possible critical situations.\n",
    "\n",
    "### Plan Phase:\n",
    "\n",
    "The bulk of the self-adaptation happens here. In this phase, the issues identified in the _analysis_ phase are translated in actions to take on the IDS.\n",
    "\n",
    "1. **Target identification**:\n",
    "The system is composed of multiple layers, the first thing is to understand if both layers need tuning or if the changes involve only one of the two.\n",
    "A single adaptation may be needed in cases where a performance drop can be linked to one single layer or time to process increases only in one of the two. However, in real applications the incorrect classification happens only at the end of the pipeline. Another instance in which single layer optimization may be needed is it a single layer uses too many resources or time to process the samples.\n",
    "In general, we can say that optimizing the time to train the models is always a priority, since once a problem is identified, the need to have a model quickly is very high.\n",
    "In case of dataset expansions, target identifications will be harder since new preprocessing will most likely be needed.\n",
    "\n",
    "2. **Mapping**:\n",
    "First, a **metric <--> hyperparameter** mapping needs to be done; assigning each metric to one or more hyperparameters allows understanding how an increase/decrease of a numeric hyperparameter, or the change in categorical value, will affect the performance of the classifier. For example, the drastic reduction of support vector in an SVM will most likely lead to a decrease in precision. Identify **what** hyperparameter to tweak is the first step in performing precise hyperparameter tuning.\n",
    "\n",
    "3. **Objective(s) identification**:\n",
    "Understanding the system state that needs to be reached is the key to achieving good self-adaptation. Performing a **metric <--> objective** mapping will be required to understand the starting and ending point of the adaptation process. First we need to evaluate what direction we want the system to head to, and then what metrics need to be improved to reach that specific objective.\n",
    "\n",
    "### Execute Phase:\n",
    "Model Reconfiguration: In the Execute phase, your IDS should reconfigure its models based on the chosen hyperparameters. It may involve retraining the models using the KDDTest+ dataset with the optimized hyperparameters.\n",
    "Response Actions: After the models have been reconfigured, the Execute phase should continue to detect and respond to threats based on the improved models and settings. The response actions may adapt based on changes in model performance.\n",
    "\n",
    "### Knowledge Phase:\n",
    "Hyperparameter Update: The Knowledge phase should record the chosen hyperparameters for both layers, including their performance and changes over time. This knowledge will inform future adaptation.\n",
    "Feedback Loop: Implement a feedback loop to ensure that the IDS learns from the outcomes of its decisions and adaptability. If certain hyperparameter choices consistently lead to poor performance, the system should adapt its choices.\n",
    "\n",
    "### Evaluation:\n",
    "Continuously evaluate the effectiveness of the self-adaptation mechanism. Use relevant performance metrics to assess whether the IDS are improving over time and whether the self-tuning of hyperparameters is having a positive impact.\n",
    "\n",
    "### Automation:\n",
    "Automate the self-adaptation process. Your IDS should be able to perform most of these steps automatically without requiring manual intervention.\n",
    "By following these steps, your IDS will continuously monitor its performance, adapt its hyperparameters, and improve its detection capabilities over time. Hyperparameter tuning is a crucial component of self-adaptation, ensuring that your IDS remains effective in the face of evolving threats and network conditions.\\\\\n",
    "\n",
    "## When to self-adapt\n",
    "\n",
    "1. **Initial model training**: when the IDS is built, the best settings need to be found according to the data present.\n",
    "2. **Adapting to new threats**: as new attacks are documented and added to the knowledge base, new parameters may be necessary to detect these new threats effectively.\n",
    "3. **Changing network conditions**: fluctuations in the volume of data can impact the IDS's performance, hyperparameter tuning may help the system adapt to new conditions.\n",
    "4. **Data drift**: Over time, the concept or distribution of normal and malicious network traffic may shift. This drift may be gradual but still requires adapting via tuning.\n",
    "5. **Model updates**: When (and if) the models deployed in the IDS change, new hyperparameters tuning is necessary.\n",
    "6. **Performance degradation**: general decrease of performance due to changes of threats, data patterns.\n",
    "7. **Feature engineering**: new features are introduced/modified, new hyperparameters may perform better under these conditions.\n",
    "\n",
    "## Human role\n",
    "\n",
    "1. Operators annotate intrusions when the system encounters difficulties in classifying specific cases or when it mistakenly labels anomalies. This annotation process helps in creating **new data elements** that can be incorporated into the dataset.\n",
    "2. Another way to keep human in the loop is to **specify additional requirements** to keep in consideration when performing multi-objective hyperparameter tuning such as time, accuracy etc.\n",
    "3. Operators can **manually trigger** the self adaptive loop.\n",
    "4. Adaptation rules such as **thresholds for accuracy** or **confusion matrix** values can be manually tweaked."
   ],
   "metadata": {
    "collapsed": false
   }
  },
  {
   "cell_type": "code",
   "execution_count": 25,
   "metadata": {
    "ExecuteTime": {
     "end_time": "2023-10-19T14:21:44.064009600Z",
     "start_time": "2023-10-19T14:21:43.942983800Z"
    }
   },
   "outputs": [],
   "source": [
    "import numpy as np \n",
    "import pandas as pd\n",
    "import copy\n",
    "import pickle\n",
    "\n",
    "from sklearn.preprocessing import OneHotEncoder\n",
    "from sklearn.preprocessing import MinMaxScaler\n",
    "\n",
    "from sklearn.decomposition import PCA\n",
    "from imblearn.under_sampling import RandomUnderSampler as under_sam\n",
    "\n",
    "from sklearn.naive_bayes import GaussianNB\n",
    "from sklearn.svm import SVC\n",
    "from sklearn.metrics import confusion_matrix, accuracy_score, f1_score\n",
    "from sklearn.metrics import matthews_corrcoef, precision_score, recall_score\n",
    "from sklearn.ensemble import RandomForestClassifier"
   ]
  },
  {
   "cell_type": "markdown",
   "source": [
    "### ICFS function\n",
    "Takes a dataframe as parameter and saves to file all the features necessary to describe DoS+Probe and U2R+R2L"
   ],
   "metadata": {
    "collapsed": false
   }
  },
  {
   "cell_type": "code",
   "execution_count": 26,
   "outputs": [],
   "source": [
    "def pearson_correlated_features(x, y, threshold):\n",
    "    y['target'] = y['target'].astype(int)\n",
    "\n",
    "    for p in x.columns:\n",
    "        x[p] = x[p].astype(float)\n",
    "\n",
    "    # Ensure y is a DataFrame for consistency\n",
    "    if isinstance(y, pd.Series):\n",
    "        y = pd.DataFrame(y, columns=['target'])\n",
    "\n",
    "    # Calculate the Pearson's correlation coefficients between features and the target variable(s)\n",
    "    corr_matrix = x.corrwith(y['target'])\n",
    "\n",
    "    # Select features with correlations above the threshold\n",
    "    selected_features = x.columns[corr_matrix.abs() > threshold].tolist()\n",
    "\n",
    "    return selected_features"
   ],
   "metadata": {
    "collapsed": false,
    "ExecuteTime": {
     "end_time": "2023-10-19T14:21:44.079895200Z",
     "start_time": "2023-10-19T14:21:43.953449200Z"
    }
   }
  },
  {
   "cell_type": "code",
   "execution_count": 27,
   "outputs": [],
   "source": [
    "def compute_set_difference(df1, df2):\n",
    "    # Create a new DataFrame containing the set difference of the two DataFrames.\n",
    "    df_diff = df1[~df1.index.isin(df2.index)]\n",
    "    # Return the DataFrame.\n",
    "    return df_diff"
   ],
   "metadata": {
    "collapsed": false,
    "ExecuteTime": {
     "end_time": "2023-10-19T14:21:44.097518500Z",
     "start_time": "2023-10-19T14:21:43.960341Z"
    }
   }
  },
  {
   "cell_type": "code",
   "execution_count": 28,
   "outputs": [],
   "source": [
    "def perform_icfs(x_train):\n",
    "    # now ICFS only on the numerical features\n",
    "    num_train = copy.deepcopy(x_train)\n",
    "    del num_train['protocol_type']\n",
    "    del num_train['service']\n",
    "    del num_train['flag']\n",
    "\n",
    "    target = pd.DataFrame()\n",
    "    target['target'] = np.array([1 if x != 'normal' else 0 for x in num_train['label']])\n",
    "    num_train = pd.concat([num_train, target], axis=1)\n",
    "\n",
    "    # These are how attacks are categorized in the trainset\n",
    "    dos_list = ['back', 'land', 'neptune', 'pod', 'smurf', 'teardrop']\n",
    "    probe_list = ['ipsweep', 'portsweep', 'satan', 'nmap']\n",
    "    u2r_list = ['loadmodule', 'perl', 'rootkit', 'buffer_overflow']\n",
    "    r2l_list = ['ftp_write', 'guess_passwd', 'imap', 'multihop', 'phf', 'spy', 'warezclient', 'warezmaster']\n",
    "    normal = ['normal']\n",
    "\n",
    "    # useful sub-sets\n",
    "    x_normal = num_train[num_train['label'].isin(normal)]\n",
    "    x_u2r = num_train[num_train['label'].isin(u2r_list)]\n",
    "    x_r2l = num_train[num_train['label'].isin(r2l_list)]\n",
    "    x_dos = num_train[num_train['label'].isin(dos_list)]\n",
    "    x_probe = num_train[num_train['label'].isin(probe_list)]\n",
    "\n",
    "    # start the ICFS with l1\n",
    "\n",
    "    # features for dos\n",
    "    dos = copy.deepcopy(num_train)\n",
    "    del dos['target']\n",
    "    y = np.array([1 if x in dos_list else 0 for x in dos['label']])\n",
    "    y_dos = pd.DataFrame(y, columns=['target'])\n",
    "    del dos['label']\n",
    "    dos_all = pearson_correlated_features(dos, y_dos, 0.1)\n",
    "    print(dos_all)\n",
    "\n",
    "    # features for probe\n",
    "    probe = copy.deepcopy(num_train)\n",
    "    del probe['target']\n",
    "    y = np.array([1 if x in probe_list else 0 for x in probe['label']])\n",
    "    y_probe = pd.DataFrame(y, columns=['target'])\n",
    "    del probe['label']\n",
    "    probe_all = pearson_correlated_features(probe, y_probe, 0.1)\n",
    "    print(probe_all)\n",
    "\n",
    "    # intersect for the optimal features\n",
    "    set_dos = set(dos_all)\n",
    "    set_probe = set(probe_all)\n",
    "\n",
    "    comm_features_l1 = set_probe & set_dos\n",
    "\n",
    "    print('common features to train l1: ', comm_features_l1)\n",
    "\n",
    "    # now l2 needs the features to describe the difference between rare attacks and normal traffic\n",
    "\n",
    "    # features for u2r\n",
    "    u2r = pd.concat([x_u2r, x_normal], axis=0)\n",
    "    del u2r['target']\n",
    "    y = np.array([1 if x in u2r_list else 0 for x in u2r['label']])\n",
    "    y_u2r = pd.DataFrame(y, columns=['target'])\n",
    "    del u2r['label']\n",
    "    u2r_all = pearson_correlated_features(u2r, y_u2r, 0.01)\n",
    "    print(u2r_all)\n",
    "\n",
    "    # features for r2l\n",
    "    r2l = pd.concat([x_r2l, x_normal], axis=0)\n",
    "    del r2l['target']\n",
    "    y = np.array([1 if x in r2l_list else 0 for x in r2l['label']])\n",
    "    y_r2l = pd.DataFrame(y, columns=['target'])\n",
    "    del r2l['label']\n",
    "    r2l_all = pearson_correlated_features(r2l, y_r2l, 0.01)\n",
    "    print(r2l_all)\n",
    "\n",
    "    # intersect for the optimal features\n",
    "    set_r2l = set(r2l_all)\n",
    "    set_u2r = set(u2r_all)\n",
    "\n",
    "    comm_features_l2 = set_r2l & set_u2r\n",
    "    # print('Common features to train l2: ', len(common_features_l2), common_features_l2)\n",
    "\n",
    "    with open('NSL-KDD Files/NSL_features_l1.txt', 'w') as g:\n",
    "        for a, x in enumerate(comm_features_l1):\n",
    "            if a < len(comm_features_l1) - 1:\n",
    "                g.write(x + ',' + '\\n')\n",
    "            else:\n",
    "                g.write(x)\n",
    "\n",
    "    # read the common features from file\n",
    "    with open('NSL-KDD Files/NSL_features_l2.txt', 'w') as g:\n",
    "        for a, x in enumerate(comm_features_l2):\n",
    "            if a < len(comm_features_l2) - 1:\n",
    "                g.write(x + ',' + '\\n')\n",
    "            else:\n",
    "                g.write(x)"
   ],
   "metadata": {
    "collapsed": false,
    "ExecuteTime": {
     "end_time": "2023-10-19T14:21:44.205616700Z",
     "start_time": "2023-10-19T14:21:43.969200600Z"
    }
   }
  },
  {
   "cell_type": "markdown",
   "source": [
    "# Main implementation"
   ],
   "metadata": {
    "collapsed": false
   }
  },
  {
   "cell_type": "code",
   "execution_count": 29,
   "metadata": {
    "ExecuteTime": {
     "end_time": "2023-10-19T14:21:44.552888200Z",
     "start_time": "2023-10-19T14:21:43.974865Z"
    }
   },
   "outputs": [],
   "source": [
    "# loading the train set\n",
    "df_train = pd.read_csv('NSL-KDD Original Datasets/KDDTrain+.txt', sep=\",\", header=None)\n",
    "df_train = df_train[df_train.columns[:-1]]  # tags column\n",
    "titles = pd.read_csv('NSL-KDD Original Datasets/Field Names.csv', header=None)\n",
    "label = pd.Series(['label'], index=[41])\n",
    "titles = pd.concat([titles[0], label])\n",
    "df_train.columns = titles.to_list()\n",
    "df_train = df_train.drop(['num_outbound_cmds'],axis=1)\n",
    "df_train_original = df_train\n",
    "# df_train_original"
   ]
  },
  {
   "cell_type": "code",
   "execution_count": 30,
   "metadata": {
    "ExecuteTime": {
     "end_time": "2023-10-19T14:21:44.556385300Z",
     "start_time": "2023-10-19T14:21:44.340524100Z"
    }
   },
   "outputs": [],
   "source": [
    "# load test set\n",
    "df_test = pd.read_csv('NSL-KDD Original Datasets/KDDTest+.txt', sep=\",\", header=None)\n",
    "df_test = df_test[df_test.columns[:-1]]\n",
    "df_test.columns = titles.to_list()\n",
    "df_test = df_test.drop(['num_outbound_cmds'],axis=1)\n",
    "df_test_original = df_test\n",
    "# df_test_original"
   ]
  },
  {
   "cell_type": "markdown",
   "source": [
    "### Execution Parameters"
   ],
   "metadata": {
    "collapsed": false
   }
  },
  {
   "cell_type": "code",
   "execution_count": 31,
   "outputs": [],
   "source": [
    "EXPORT_MODELS = 0\n",
    "EXPORT_DATASETS = 0"
   ],
   "metadata": {
    "collapsed": false,
    "ExecuteTime": {
     "end_time": "2023-10-19T14:21:44.556385300Z",
     "start_time": "2023-10-19T14:21:44.416264Z"
    }
   }
  },
  {
   "cell_type": "markdown",
   "metadata": {},
   "source": [
    "### Perform ICFS if needed"
   ]
  },
  {
   "cell_type": "code",
   "execution_count": 32,
   "outputs": [],
   "source": [
    "# It is possible to compute the ICFS again\n",
    "\n",
    "# perform_icfs(df_train_original)"
   ],
   "metadata": {
    "collapsed": false,
    "ExecuteTime": {
     "end_time": "2023-10-19T14:21:44.556385300Z",
     "start_time": "2023-10-19T14:21:44.424906600Z"
    }
   }
  },
  {
   "cell_type": "markdown",
   "metadata": {},
   "source": [
    "# DoS + Probe classifier (NBC)"
   ]
  },
  {
   "cell_type": "code",
   "execution_count": 33,
   "outputs": [],
   "source": [
    "# list of single attacks \n",
    "dos_attacks = ['back', 'land', 'neptune', 'pod', 'smurf', 'teardrop', 'worm', 'apache2', 'mailbomb', 'processtable', 'udpstorm']\n",
    "probe_attacks = ['ipsweep', 'mscan', 'nmap', 'portsweep', 'saint', 'satan']\n",
    "r2l_attacks = ['guess_passwd', 'ftp_write', 'imap', 'phf', 'multihop', 'warezmaster',\n",
    "                'snmpguess', 'spy', 'warezclient', 'httptunnel', 'named', 'sendmail', 'snmpgetattack', 'xlock', 'xsnoop']\n",
    "u2r_attacks = ['buffer_overflow', 'loadmodule', 'perl', 'ps', 'rootkit', 'sqlattack', 'xterm'] \n",
    "\n",
    "# list of attack classes split according to detection layer\n",
    "dos_probe_list = ['back', 'land', 'neptune', 'pod', 'smurf', 'teardrop', 'ipsweep', 'nmap', 'portsweep', 'satan']\n",
    "dos_probe_test = ['apache2', 'mailbomb', 'processtable', 'udpstorm', 'mscan', 'saint']\n",
    "u2r_r2l_list = ['guess_passwd', 'ftp_write', 'imap', 'phf', 'multihop', 'warezmaster',\n",
    "                'snmpguess', 'spy', 'warezclient', 'buffer_overflow', 'loadmodule', 'rootkit', 'perl']\n",
    "u2r_r2l_test = ['httptunnel', 'named', 'sendmail', 'snmpgetattack', 'xlock', 'xsnoop', 'ps', 'xterm', 'sqlattack']\n",
    "normal_list = ['normal']\n",
    "categorical_features = ['protocol_type', 'service', 'flag']\n",
    "\n",
    "# load the features obtained with ICFS for both layer 1 and layer 2\n",
    "with open('NSL-KDD Files/NSL_features_l1.txt', 'r') as f:\n",
    "    common_features_l1 = f.read().split(',')\n",
    "\n",
    "with open('NSL-KDD Files/NSL_features_l2.txt', 'r') as f:\n",
    "    common_features_l2 = f.read().split(',')\n",
    "    \n",
    "df_train = copy.deepcopy(df_train_original)\n",
    "df_test = copy.deepcopy(df_test_original)"
   ],
   "metadata": {
    "collapsed": false,
    "ExecuteTime": {
     "end_time": "2023-10-19T14:21:44.556385300Z",
     "start_time": "2023-10-19T14:21:44.428906500Z"
    }
   }
  },
  {
   "cell_type": "code",
   "execution_count": 34,
   "metadata": {
    "ExecuteTime": {
     "end_time": "2023-10-19T14:21:44.586512400Z",
     "start_time": "2023-10-19T14:21:44.442428700Z"
    }
   },
   "outputs": [
    {
     "data": {
      "text/plain": "        duration protocol_type   service flag  src_bytes  dst_bytes  land  \\\n0              0           tcp  ftp_data   SF        491          0     0   \n1              0           udp     other   SF        146          0     0   \n2              0           tcp   private   S0          0          0     0   \n3              0           tcp      http   SF        232       8153     0   \n4              0           tcp      http   SF        199        420     0   \n...          ...           ...       ...  ...        ...        ...   ...   \n125968         0           tcp   private   S0          0          0     0   \n125969         8           udp   private   SF        105        145     0   \n125970         0           tcp      smtp   SF       2231        384     0   \n125971         0           tcp    klogin   S0          0          0     0   \n125972         0           tcp  ftp_data   SF        151          0     0   \n\n        wrong_fragment  urgent  hot  ...  dst_host_count  dst_host_srv_count  \\\n0                    0       0    0  ...             150                  25   \n1                    0       0    0  ...             255                   1   \n2                    0       0    0  ...             255                  26   \n3                    0       0    0  ...              30                 255   \n4                    0       0    0  ...             255                 255   \n...                ...     ...  ...  ...             ...                 ...   \n125968               0       0    0  ...             255                  25   \n125969               0       0    0  ...             255                 244   \n125970               0       0    0  ...             255                  30   \n125971               0       0    0  ...             255                   8   \n125972               0       0    0  ...             255                  77   \n\n        dst_host_same_srv_rate  dst_host_diff_srv_rate  \\\n0                         0.17                    0.03   \n1                         0.00                    0.60   \n2                         0.10                    0.05   \n3                         1.00                    0.00   \n4                         1.00                    0.00   \n...                        ...                     ...   \n125968                    0.10                    0.06   \n125969                    0.96                    0.01   \n125970                    0.12                    0.06   \n125971                    0.03                    0.05   \n125972                    0.30                    0.03   \n\n        dst_host_same_src_port_rate  dst_host_srv_diff_host_rate  \\\n0                              0.17                         0.00   \n1                              0.88                         0.00   \n2                              0.00                         0.00   \n3                              0.03                         0.04   \n4                              0.00                         0.00   \n...                             ...                          ...   \n125968                         0.00                         0.00   \n125969                         0.01                         0.00   \n125970                         0.00                         0.00   \n125971                         0.00                         0.00   \n125972                         0.30                         0.00   \n\n        dst_host_serror_rate  dst_host_srv_serror_rate  dst_host_rerror_rate  \\\n0                       0.00                      0.00                  0.05   \n1                       0.00                      0.00                  0.00   \n2                       1.00                      1.00                  0.00   \n3                       0.03                      0.01                  0.00   \n4                       0.00                      0.00                  0.00   \n...                      ...                       ...                   ...   \n125968                  1.00                      1.00                  0.00   \n125969                  0.00                      0.00                  0.00   \n125970                  0.72                      0.00                  0.01   \n125971                  1.00                      1.00                  0.00   \n125972                  0.00                      0.00                  0.00   \n\n        dst_host_srv_rerror_rate  \n0                           0.00  \n1                           0.00  \n2                           0.00  \n3                           0.01  \n4                           0.00  \n...                          ...  \n125968                      0.00  \n125969                      0.00  \n125970                      0.00  \n125971                      0.00  \n125972                      0.00  \n\n[125973 rows x 40 columns]",
      "text/html": "<div>\n<style scoped>\n    .dataframe tbody tr th:only-of-type {\n        vertical-align: middle;\n    }\n\n    .dataframe tbody tr th {\n        vertical-align: top;\n    }\n\n    .dataframe thead th {\n        text-align: right;\n    }\n</style>\n<table border=\"1\" class=\"dataframe\">\n  <thead>\n    <tr style=\"text-align: right;\">\n      <th></th>\n      <th>duration</th>\n      <th>protocol_type</th>\n      <th>service</th>\n      <th>flag</th>\n      <th>src_bytes</th>\n      <th>dst_bytes</th>\n      <th>land</th>\n      <th>wrong_fragment</th>\n      <th>urgent</th>\n      <th>hot</th>\n      <th>...</th>\n      <th>dst_host_count</th>\n      <th>dst_host_srv_count</th>\n      <th>dst_host_same_srv_rate</th>\n      <th>dst_host_diff_srv_rate</th>\n      <th>dst_host_same_src_port_rate</th>\n      <th>dst_host_srv_diff_host_rate</th>\n      <th>dst_host_serror_rate</th>\n      <th>dst_host_srv_serror_rate</th>\n      <th>dst_host_rerror_rate</th>\n      <th>dst_host_srv_rerror_rate</th>\n    </tr>\n  </thead>\n  <tbody>\n    <tr>\n      <th>0</th>\n      <td>0</td>\n      <td>tcp</td>\n      <td>ftp_data</td>\n      <td>SF</td>\n      <td>491</td>\n      <td>0</td>\n      <td>0</td>\n      <td>0</td>\n      <td>0</td>\n      <td>0</td>\n      <td>...</td>\n      <td>150</td>\n      <td>25</td>\n      <td>0.17</td>\n      <td>0.03</td>\n      <td>0.17</td>\n      <td>0.00</td>\n      <td>0.00</td>\n      <td>0.00</td>\n      <td>0.05</td>\n      <td>0.00</td>\n    </tr>\n    <tr>\n      <th>1</th>\n      <td>0</td>\n      <td>udp</td>\n      <td>other</td>\n      <td>SF</td>\n      <td>146</td>\n      <td>0</td>\n      <td>0</td>\n      <td>0</td>\n      <td>0</td>\n      <td>0</td>\n      <td>...</td>\n      <td>255</td>\n      <td>1</td>\n      <td>0.00</td>\n      <td>0.60</td>\n      <td>0.88</td>\n      <td>0.00</td>\n      <td>0.00</td>\n      <td>0.00</td>\n      <td>0.00</td>\n      <td>0.00</td>\n    </tr>\n    <tr>\n      <th>2</th>\n      <td>0</td>\n      <td>tcp</td>\n      <td>private</td>\n      <td>S0</td>\n      <td>0</td>\n      <td>0</td>\n      <td>0</td>\n      <td>0</td>\n      <td>0</td>\n      <td>0</td>\n      <td>...</td>\n      <td>255</td>\n      <td>26</td>\n      <td>0.10</td>\n      <td>0.05</td>\n      <td>0.00</td>\n      <td>0.00</td>\n      <td>1.00</td>\n      <td>1.00</td>\n      <td>0.00</td>\n      <td>0.00</td>\n    </tr>\n    <tr>\n      <th>3</th>\n      <td>0</td>\n      <td>tcp</td>\n      <td>http</td>\n      <td>SF</td>\n      <td>232</td>\n      <td>8153</td>\n      <td>0</td>\n      <td>0</td>\n      <td>0</td>\n      <td>0</td>\n      <td>...</td>\n      <td>30</td>\n      <td>255</td>\n      <td>1.00</td>\n      <td>0.00</td>\n      <td>0.03</td>\n      <td>0.04</td>\n      <td>0.03</td>\n      <td>0.01</td>\n      <td>0.00</td>\n      <td>0.01</td>\n    </tr>\n    <tr>\n      <th>4</th>\n      <td>0</td>\n      <td>tcp</td>\n      <td>http</td>\n      <td>SF</td>\n      <td>199</td>\n      <td>420</td>\n      <td>0</td>\n      <td>0</td>\n      <td>0</td>\n      <td>0</td>\n      <td>...</td>\n      <td>255</td>\n      <td>255</td>\n      <td>1.00</td>\n      <td>0.00</td>\n      <td>0.00</td>\n      <td>0.00</td>\n      <td>0.00</td>\n      <td>0.00</td>\n      <td>0.00</td>\n      <td>0.00</td>\n    </tr>\n    <tr>\n      <th>...</th>\n      <td>...</td>\n      <td>...</td>\n      <td>...</td>\n      <td>...</td>\n      <td>...</td>\n      <td>...</td>\n      <td>...</td>\n      <td>...</td>\n      <td>...</td>\n      <td>...</td>\n      <td>...</td>\n      <td>...</td>\n      <td>...</td>\n      <td>...</td>\n      <td>...</td>\n      <td>...</td>\n      <td>...</td>\n      <td>...</td>\n      <td>...</td>\n      <td>...</td>\n      <td>...</td>\n    </tr>\n    <tr>\n      <th>125968</th>\n      <td>0</td>\n      <td>tcp</td>\n      <td>private</td>\n      <td>S0</td>\n      <td>0</td>\n      <td>0</td>\n      <td>0</td>\n      <td>0</td>\n      <td>0</td>\n      <td>0</td>\n      <td>...</td>\n      <td>255</td>\n      <td>25</td>\n      <td>0.10</td>\n      <td>0.06</td>\n      <td>0.00</td>\n      <td>0.00</td>\n      <td>1.00</td>\n      <td>1.00</td>\n      <td>0.00</td>\n      <td>0.00</td>\n    </tr>\n    <tr>\n      <th>125969</th>\n      <td>8</td>\n      <td>udp</td>\n      <td>private</td>\n      <td>SF</td>\n      <td>105</td>\n      <td>145</td>\n      <td>0</td>\n      <td>0</td>\n      <td>0</td>\n      <td>0</td>\n      <td>...</td>\n      <td>255</td>\n      <td>244</td>\n      <td>0.96</td>\n      <td>0.01</td>\n      <td>0.01</td>\n      <td>0.00</td>\n      <td>0.00</td>\n      <td>0.00</td>\n      <td>0.00</td>\n      <td>0.00</td>\n    </tr>\n    <tr>\n      <th>125970</th>\n      <td>0</td>\n      <td>tcp</td>\n      <td>smtp</td>\n      <td>SF</td>\n      <td>2231</td>\n      <td>384</td>\n      <td>0</td>\n      <td>0</td>\n      <td>0</td>\n      <td>0</td>\n      <td>...</td>\n      <td>255</td>\n      <td>30</td>\n      <td>0.12</td>\n      <td>0.06</td>\n      <td>0.00</td>\n      <td>0.00</td>\n      <td>0.72</td>\n      <td>0.00</td>\n      <td>0.01</td>\n      <td>0.00</td>\n    </tr>\n    <tr>\n      <th>125971</th>\n      <td>0</td>\n      <td>tcp</td>\n      <td>klogin</td>\n      <td>S0</td>\n      <td>0</td>\n      <td>0</td>\n      <td>0</td>\n      <td>0</td>\n      <td>0</td>\n      <td>0</td>\n      <td>...</td>\n      <td>255</td>\n      <td>8</td>\n      <td>0.03</td>\n      <td>0.05</td>\n      <td>0.00</td>\n      <td>0.00</td>\n      <td>1.00</td>\n      <td>1.00</td>\n      <td>0.00</td>\n      <td>0.00</td>\n    </tr>\n    <tr>\n      <th>125972</th>\n      <td>0</td>\n      <td>tcp</td>\n      <td>ftp_data</td>\n      <td>SF</td>\n      <td>151</td>\n      <td>0</td>\n      <td>0</td>\n      <td>0</td>\n      <td>0</td>\n      <td>0</td>\n      <td>...</td>\n      <td>255</td>\n      <td>77</td>\n      <td>0.30</td>\n      <td>0.03</td>\n      <td>0.30</td>\n      <td>0.00</td>\n      <td>0.00</td>\n      <td>0.00</td>\n      <td>0.00</td>\n      <td>0.00</td>\n    </tr>\n  </tbody>\n</table>\n<p>125973 rows × 40 columns</p>\n</div>"
     },
     "execution_count": 34,
     "metadata": {},
     "output_type": "execute_result"
    }
   ],
   "source": [
    "y_train = np.array([1 if x in (dos_attacks+probe_attacks) else 0 for x in df_train['label']])\n",
    "\n",
    "df_train = df_train.drop(['label'],axis=1)\n",
    "df_train = df_train.reset_index().drop(['index'], axis=1)\n",
    "df_train"
   ]
  },
  {
   "cell_type": "code",
   "execution_count": 35,
   "metadata": {
    "ExecuteTime": {
     "end_time": "2023-10-19T14:21:44.616670500Z",
     "start_time": "2023-10-19T14:21:44.556385300Z"
    }
   },
   "outputs": [
    {
     "data": {
      "text/plain": "        logged_in  count  serror_rate  rerror_rate  srv_rerror_rate  \\\n0               0      2          0.0          0.0              0.0   \n1               0     13          0.0          0.0              0.0   \n2               0    123          1.0          0.0              0.0   \n3               1      5          0.2          0.0              0.0   \n4               1     30          0.0          0.0              0.0   \n...           ...    ...          ...          ...              ...   \n125968          0    184          1.0          0.0              0.0   \n125969          0      2          0.0          0.0              0.0   \n125970          1      1          0.0          0.0              0.0   \n125971          0    144          1.0          0.0              0.0   \n125972          1      1          0.0          0.0              0.0   \n\n        same_srv_rate  diff_srv_rate  srv_diff_host_rate  dst_host_srv_count  \\\n0                1.00           0.00                0.00                  25   \n1                0.08           0.15                0.00                   1   \n2                0.05           0.07                0.00                  26   \n3                1.00           0.00                0.00                 255   \n4                1.00           0.00                0.09                 255   \n...               ...            ...                 ...                 ...   \n125968           0.14           0.06                0.00                  25   \n125969           1.00           0.00                0.00                 244   \n125970           1.00           0.00                0.00                  30   \n125971           0.06           0.05                0.00                   8   \n125972           1.00           0.00                0.00                  77   \n\n        dst_host_same_srv_rate  dst_host_diff_srv_rate  \\\n0                         0.17                    0.03   \n1                         0.00                    0.60   \n2                         0.10                    0.05   \n3                         1.00                    0.00   \n4                         1.00                    0.00   \n...                        ...                     ...   \n125968                    0.10                    0.06   \n125969                    0.96                    0.01   \n125970                    0.12                    0.06   \n125971                    0.03                    0.05   \n125972                    0.30                    0.03   \n\n        dst_host_same_src_port_rate  dst_host_srv_diff_host_rate  \\\n0                              0.17                         0.00   \n1                              0.88                         0.00   \n2                              0.00                         0.00   \n3                              0.03                         0.04   \n4                              0.00                         0.00   \n...                             ...                          ...   \n125968                         0.00                         0.00   \n125969                         0.01                         0.00   \n125970                         0.00                         0.00   \n125971                         0.00                         0.00   \n125972                         0.30                         0.00   \n\n        dst_host_serror_rate  dst_host_srv_serror_rate  \\\n0                       0.00                      0.00   \n1                       0.00                      0.00   \n2                       1.00                      1.00   \n3                       0.03                      0.01   \n4                       0.00                      0.00   \n...                      ...                       ...   \n125968                  1.00                      1.00   \n125969                  0.00                      0.00   \n125970                  0.72                      0.00   \n125971                  1.00                      1.00   \n125972                  0.00                      0.00   \n\n        dst_host_srv_rerror_rate  dst_host_rerror_rate  \n0                           0.00                  0.05  \n1                           0.00                  0.00  \n2                           0.00                  0.00  \n3                           0.01                  0.00  \n4                           0.00                  0.00  \n...                          ...                   ...  \n125968                      0.00                  0.00  \n125969                      0.00                  0.00  \n125970                      0.00                  0.01  \n125971                      0.00                  0.00  \n125972                      0.00                  0.00  \n\n[125973 rows x 17 columns]",
      "text/html": "<div>\n<style scoped>\n    .dataframe tbody tr th:only-of-type {\n        vertical-align: middle;\n    }\n\n    .dataframe tbody tr th {\n        vertical-align: top;\n    }\n\n    .dataframe thead th {\n        text-align: right;\n    }\n</style>\n<table border=\"1\" class=\"dataframe\">\n  <thead>\n    <tr style=\"text-align: right;\">\n      <th></th>\n      <th>logged_in</th>\n      <th>count</th>\n      <th>serror_rate</th>\n      <th>rerror_rate</th>\n      <th>srv_rerror_rate</th>\n      <th>same_srv_rate</th>\n      <th>diff_srv_rate</th>\n      <th>srv_diff_host_rate</th>\n      <th>dst_host_srv_count</th>\n      <th>dst_host_same_srv_rate</th>\n      <th>dst_host_diff_srv_rate</th>\n      <th>dst_host_same_src_port_rate</th>\n      <th>dst_host_srv_diff_host_rate</th>\n      <th>dst_host_serror_rate</th>\n      <th>dst_host_srv_serror_rate</th>\n      <th>dst_host_srv_rerror_rate</th>\n      <th>dst_host_rerror_rate</th>\n    </tr>\n  </thead>\n  <tbody>\n    <tr>\n      <th>0</th>\n      <td>0</td>\n      <td>2</td>\n      <td>0.0</td>\n      <td>0.0</td>\n      <td>0.0</td>\n      <td>1.00</td>\n      <td>0.00</td>\n      <td>0.00</td>\n      <td>25</td>\n      <td>0.17</td>\n      <td>0.03</td>\n      <td>0.17</td>\n      <td>0.00</td>\n      <td>0.00</td>\n      <td>0.00</td>\n      <td>0.00</td>\n      <td>0.05</td>\n    </tr>\n    <tr>\n      <th>1</th>\n      <td>0</td>\n      <td>13</td>\n      <td>0.0</td>\n      <td>0.0</td>\n      <td>0.0</td>\n      <td>0.08</td>\n      <td>0.15</td>\n      <td>0.00</td>\n      <td>1</td>\n      <td>0.00</td>\n      <td>0.60</td>\n      <td>0.88</td>\n      <td>0.00</td>\n      <td>0.00</td>\n      <td>0.00</td>\n      <td>0.00</td>\n      <td>0.00</td>\n    </tr>\n    <tr>\n      <th>2</th>\n      <td>0</td>\n      <td>123</td>\n      <td>1.0</td>\n      <td>0.0</td>\n      <td>0.0</td>\n      <td>0.05</td>\n      <td>0.07</td>\n      <td>0.00</td>\n      <td>26</td>\n      <td>0.10</td>\n      <td>0.05</td>\n      <td>0.00</td>\n      <td>0.00</td>\n      <td>1.00</td>\n      <td>1.00</td>\n      <td>0.00</td>\n      <td>0.00</td>\n    </tr>\n    <tr>\n      <th>3</th>\n      <td>1</td>\n      <td>5</td>\n      <td>0.2</td>\n      <td>0.0</td>\n      <td>0.0</td>\n      <td>1.00</td>\n      <td>0.00</td>\n      <td>0.00</td>\n      <td>255</td>\n      <td>1.00</td>\n      <td>0.00</td>\n      <td>0.03</td>\n      <td>0.04</td>\n      <td>0.03</td>\n      <td>0.01</td>\n      <td>0.01</td>\n      <td>0.00</td>\n    </tr>\n    <tr>\n      <th>4</th>\n      <td>1</td>\n      <td>30</td>\n      <td>0.0</td>\n      <td>0.0</td>\n      <td>0.0</td>\n      <td>1.00</td>\n      <td>0.00</td>\n      <td>0.09</td>\n      <td>255</td>\n      <td>1.00</td>\n      <td>0.00</td>\n      <td>0.00</td>\n      <td>0.00</td>\n      <td>0.00</td>\n      <td>0.00</td>\n      <td>0.00</td>\n      <td>0.00</td>\n    </tr>\n    <tr>\n      <th>...</th>\n      <td>...</td>\n      <td>...</td>\n      <td>...</td>\n      <td>...</td>\n      <td>...</td>\n      <td>...</td>\n      <td>...</td>\n      <td>...</td>\n      <td>...</td>\n      <td>...</td>\n      <td>...</td>\n      <td>...</td>\n      <td>...</td>\n      <td>...</td>\n      <td>...</td>\n      <td>...</td>\n      <td>...</td>\n    </tr>\n    <tr>\n      <th>125968</th>\n      <td>0</td>\n      <td>184</td>\n      <td>1.0</td>\n      <td>0.0</td>\n      <td>0.0</td>\n      <td>0.14</td>\n      <td>0.06</td>\n      <td>0.00</td>\n      <td>25</td>\n      <td>0.10</td>\n      <td>0.06</td>\n      <td>0.00</td>\n      <td>0.00</td>\n      <td>1.00</td>\n      <td>1.00</td>\n      <td>0.00</td>\n      <td>0.00</td>\n    </tr>\n    <tr>\n      <th>125969</th>\n      <td>0</td>\n      <td>2</td>\n      <td>0.0</td>\n      <td>0.0</td>\n      <td>0.0</td>\n      <td>1.00</td>\n      <td>0.00</td>\n      <td>0.00</td>\n      <td>244</td>\n      <td>0.96</td>\n      <td>0.01</td>\n      <td>0.01</td>\n      <td>0.00</td>\n      <td>0.00</td>\n      <td>0.00</td>\n      <td>0.00</td>\n      <td>0.00</td>\n    </tr>\n    <tr>\n      <th>125970</th>\n      <td>1</td>\n      <td>1</td>\n      <td>0.0</td>\n      <td>0.0</td>\n      <td>0.0</td>\n      <td>1.00</td>\n      <td>0.00</td>\n      <td>0.00</td>\n      <td>30</td>\n      <td>0.12</td>\n      <td>0.06</td>\n      <td>0.00</td>\n      <td>0.00</td>\n      <td>0.72</td>\n      <td>0.00</td>\n      <td>0.00</td>\n      <td>0.01</td>\n    </tr>\n    <tr>\n      <th>125971</th>\n      <td>0</td>\n      <td>144</td>\n      <td>1.0</td>\n      <td>0.0</td>\n      <td>0.0</td>\n      <td>0.06</td>\n      <td>0.05</td>\n      <td>0.00</td>\n      <td>8</td>\n      <td>0.03</td>\n      <td>0.05</td>\n      <td>0.00</td>\n      <td>0.00</td>\n      <td>1.00</td>\n      <td>1.00</td>\n      <td>0.00</td>\n      <td>0.00</td>\n    </tr>\n    <tr>\n      <th>125972</th>\n      <td>1</td>\n      <td>1</td>\n      <td>0.0</td>\n      <td>0.0</td>\n      <td>0.0</td>\n      <td>1.00</td>\n      <td>0.00</td>\n      <td>0.00</td>\n      <td>77</td>\n      <td>0.30</td>\n      <td>0.03</td>\n      <td>0.30</td>\n      <td>0.00</td>\n      <td>0.00</td>\n      <td>0.00</td>\n      <td>0.00</td>\n      <td>0.00</td>\n    </tr>\n  </tbody>\n</table>\n<p>125973 rows × 17 columns</p>\n</div>"
     },
     "execution_count": 35,
     "metadata": {},
     "output_type": "execute_result"
    }
   ],
   "source": [
    "X_train = df_train[common_features_l1] \n",
    "\n",
    "X_train"
   ]
  },
  {
   "cell_type": "code",
   "execution_count": 36,
   "outputs": [],
   "source": [
    "# 2 one hot encoder, one for the features of layer1 and one for the features of layer2\n",
    "ohe = OneHotEncoder(handle_unknown='ignore')\n",
    "ohe2 = OneHotEncoder(handle_unknown='ignore')\n",
    "scaler1 = MinMaxScaler()\n",
    "scaler2 = MinMaxScaler()"
   ],
   "metadata": {
    "collapsed": false,
    "ExecuteTime": {
     "end_time": "2023-10-19T14:21:44.616670500Z",
     "start_time": "2023-10-19T14:21:44.574922500Z"
    }
   }
  },
  {
   "cell_type": "code",
   "execution_count": 37,
   "metadata": {
    "ExecuteTime": {
     "end_time": "2023-10-19T14:21:44.743098500Z",
     "start_time": "2023-10-19T14:21:44.578089600Z"
    }
   },
   "outputs": [
    {
     "data": {
      "text/plain": "        logged_in     count  serror_rate  rerror_rate  srv_rerror_rate  \\\n0             0.0  0.003914          0.0          0.0              0.0   \n1             0.0  0.025440          0.0          0.0              0.0   \n2             0.0  0.240705          1.0          0.0              0.0   \n3             1.0  0.009785          0.2          0.0              0.0   \n4             1.0  0.058708          0.0          0.0              0.0   \n...           ...       ...          ...          ...              ...   \n125968        0.0  0.360078          1.0          0.0              0.0   \n125969        0.0  0.003914          0.0          0.0              0.0   \n125970        1.0  0.001957          0.0          0.0              0.0   \n125971        0.0  0.281800          1.0          0.0              0.0   \n125972        1.0  0.001957          0.0          0.0              0.0   \n\n        same_srv_rate  diff_srv_rate  srv_diff_host_rate  dst_host_srv_count  \\\n0                1.00           0.00                0.00            0.098039   \n1                0.08           0.15                0.00            0.003922   \n2                0.05           0.07                0.00            0.101961   \n3                1.00           0.00                0.00            1.000000   \n4                1.00           0.00                0.09            1.000000   \n...               ...            ...                 ...                 ...   \n125968           0.14           0.06                0.00            0.098039   \n125969           1.00           0.00                0.00            0.956863   \n125970           1.00           0.00                0.00            0.117647   \n125971           0.06           0.05                0.00            0.031373   \n125972           1.00           0.00                0.00            0.301961   \n\n        dst_host_same_srv_rate  dst_host_diff_srv_rate  \\\n0                         0.17                    0.03   \n1                         0.00                    0.60   \n2                         0.10                    0.05   \n3                         1.00                    0.00   \n4                         1.00                    0.00   \n...                        ...                     ...   \n125968                    0.10                    0.06   \n125969                    0.96                    0.01   \n125970                    0.12                    0.06   \n125971                    0.03                    0.05   \n125972                    0.30                    0.03   \n\n        dst_host_same_src_port_rate  dst_host_srv_diff_host_rate  \\\n0                              0.17                         0.00   \n1                              0.88                         0.00   \n2                              0.00                         0.00   \n3                              0.03                         0.04   \n4                              0.00                         0.00   \n...                             ...                          ...   \n125968                         0.00                         0.00   \n125969                         0.01                         0.00   \n125970                         0.00                         0.00   \n125971                         0.00                         0.00   \n125972                         0.30                         0.00   \n\n        dst_host_serror_rate  dst_host_srv_serror_rate  \\\n0                       0.00                      0.00   \n1                       0.00                      0.00   \n2                       1.00                      1.00   \n3                       0.03                      0.01   \n4                       0.00                      0.00   \n...                      ...                       ...   \n125968                  1.00                      1.00   \n125969                  0.00                      0.00   \n125970                  0.72                      0.00   \n125971                  1.00                      1.00   \n125972                  0.00                      0.00   \n\n        dst_host_srv_rerror_rate  dst_host_rerror_rate  \n0                           0.00                  0.05  \n1                           0.00                  0.00  \n2                           0.00                  0.00  \n3                           0.01                  0.00  \n4                           0.00                  0.00  \n...                          ...                   ...  \n125968                      0.00                  0.00  \n125969                      0.00                  0.00  \n125970                      0.00                  0.01  \n125971                      0.00                  0.00  \n125972                      0.00                  0.00  \n\n[125973 rows x 17 columns]",
      "text/html": "<div>\n<style scoped>\n    .dataframe tbody tr th:only-of-type {\n        vertical-align: middle;\n    }\n\n    .dataframe tbody tr th {\n        vertical-align: top;\n    }\n\n    .dataframe thead th {\n        text-align: right;\n    }\n</style>\n<table border=\"1\" class=\"dataframe\">\n  <thead>\n    <tr style=\"text-align: right;\">\n      <th></th>\n      <th>logged_in</th>\n      <th>count</th>\n      <th>serror_rate</th>\n      <th>rerror_rate</th>\n      <th>srv_rerror_rate</th>\n      <th>same_srv_rate</th>\n      <th>diff_srv_rate</th>\n      <th>srv_diff_host_rate</th>\n      <th>dst_host_srv_count</th>\n      <th>dst_host_same_srv_rate</th>\n      <th>dst_host_diff_srv_rate</th>\n      <th>dst_host_same_src_port_rate</th>\n      <th>dst_host_srv_diff_host_rate</th>\n      <th>dst_host_serror_rate</th>\n      <th>dst_host_srv_serror_rate</th>\n      <th>dst_host_srv_rerror_rate</th>\n      <th>dst_host_rerror_rate</th>\n    </tr>\n  </thead>\n  <tbody>\n    <tr>\n      <th>0</th>\n      <td>0.0</td>\n      <td>0.003914</td>\n      <td>0.0</td>\n      <td>0.0</td>\n      <td>0.0</td>\n      <td>1.00</td>\n      <td>0.00</td>\n      <td>0.00</td>\n      <td>0.098039</td>\n      <td>0.17</td>\n      <td>0.03</td>\n      <td>0.17</td>\n      <td>0.00</td>\n      <td>0.00</td>\n      <td>0.00</td>\n      <td>0.00</td>\n      <td>0.05</td>\n    </tr>\n    <tr>\n      <th>1</th>\n      <td>0.0</td>\n      <td>0.025440</td>\n      <td>0.0</td>\n      <td>0.0</td>\n      <td>0.0</td>\n      <td>0.08</td>\n      <td>0.15</td>\n      <td>0.00</td>\n      <td>0.003922</td>\n      <td>0.00</td>\n      <td>0.60</td>\n      <td>0.88</td>\n      <td>0.00</td>\n      <td>0.00</td>\n      <td>0.00</td>\n      <td>0.00</td>\n      <td>0.00</td>\n    </tr>\n    <tr>\n      <th>2</th>\n      <td>0.0</td>\n      <td>0.240705</td>\n      <td>1.0</td>\n      <td>0.0</td>\n      <td>0.0</td>\n      <td>0.05</td>\n      <td>0.07</td>\n      <td>0.00</td>\n      <td>0.101961</td>\n      <td>0.10</td>\n      <td>0.05</td>\n      <td>0.00</td>\n      <td>0.00</td>\n      <td>1.00</td>\n      <td>1.00</td>\n      <td>0.00</td>\n      <td>0.00</td>\n    </tr>\n    <tr>\n      <th>3</th>\n      <td>1.0</td>\n      <td>0.009785</td>\n      <td>0.2</td>\n      <td>0.0</td>\n      <td>0.0</td>\n      <td>1.00</td>\n      <td>0.00</td>\n      <td>0.00</td>\n      <td>1.000000</td>\n      <td>1.00</td>\n      <td>0.00</td>\n      <td>0.03</td>\n      <td>0.04</td>\n      <td>0.03</td>\n      <td>0.01</td>\n      <td>0.01</td>\n      <td>0.00</td>\n    </tr>\n    <tr>\n      <th>4</th>\n      <td>1.0</td>\n      <td>0.058708</td>\n      <td>0.0</td>\n      <td>0.0</td>\n      <td>0.0</td>\n      <td>1.00</td>\n      <td>0.00</td>\n      <td>0.09</td>\n      <td>1.000000</td>\n      <td>1.00</td>\n      <td>0.00</td>\n      <td>0.00</td>\n      <td>0.00</td>\n      <td>0.00</td>\n      <td>0.00</td>\n      <td>0.00</td>\n      <td>0.00</td>\n    </tr>\n    <tr>\n      <th>...</th>\n      <td>...</td>\n      <td>...</td>\n      <td>...</td>\n      <td>...</td>\n      <td>...</td>\n      <td>...</td>\n      <td>...</td>\n      <td>...</td>\n      <td>...</td>\n      <td>...</td>\n      <td>...</td>\n      <td>...</td>\n      <td>...</td>\n      <td>...</td>\n      <td>...</td>\n      <td>...</td>\n      <td>...</td>\n    </tr>\n    <tr>\n      <th>125968</th>\n      <td>0.0</td>\n      <td>0.360078</td>\n      <td>1.0</td>\n      <td>0.0</td>\n      <td>0.0</td>\n      <td>0.14</td>\n      <td>0.06</td>\n      <td>0.00</td>\n      <td>0.098039</td>\n      <td>0.10</td>\n      <td>0.06</td>\n      <td>0.00</td>\n      <td>0.00</td>\n      <td>1.00</td>\n      <td>1.00</td>\n      <td>0.00</td>\n      <td>0.00</td>\n    </tr>\n    <tr>\n      <th>125969</th>\n      <td>0.0</td>\n      <td>0.003914</td>\n      <td>0.0</td>\n      <td>0.0</td>\n      <td>0.0</td>\n      <td>1.00</td>\n      <td>0.00</td>\n      <td>0.00</td>\n      <td>0.956863</td>\n      <td>0.96</td>\n      <td>0.01</td>\n      <td>0.01</td>\n      <td>0.00</td>\n      <td>0.00</td>\n      <td>0.00</td>\n      <td>0.00</td>\n      <td>0.00</td>\n    </tr>\n    <tr>\n      <th>125970</th>\n      <td>1.0</td>\n      <td>0.001957</td>\n      <td>0.0</td>\n      <td>0.0</td>\n      <td>0.0</td>\n      <td>1.00</td>\n      <td>0.00</td>\n      <td>0.00</td>\n      <td>0.117647</td>\n      <td>0.12</td>\n      <td>0.06</td>\n      <td>0.00</td>\n      <td>0.00</td>\n      <td>0.72</td>\n      <td>0.00</td>\n      <td>0.00</td>\n      <td>0.01</td>\n    </tr>\n    <tr>\n      <th>125971</th>\n      <td>0.0</td>\n      <td>0.281800</td>\n      <td>1.0</td>\n      <td>0.0</td>\n      <td>0.0</td>\n      <td>0.06</td>\n      <td>0.05</td>\n      <td>0.00</td>\n      <td>0.031373</td>\n      <td>0.03</td>\n      <td>0.05</td>\n      <td>0.00</td>\n      <td>0.00</td>\n      <td>1.00</td>\n      <td>1.00</td>\n      <td>0.00</td>\n      <td>0.00</td>\n    </tr>\n    <tr>\n      <th>125972</th>\n      <td>1.0</td>\n      <td>0.001957</td>\n      <td>0.0</td>\n      <td>0.0</td>\n      <td>0.0</td>\n      <td>1.00</td>\n      <td>0.00</td>\n      <td>0.00</td>\n      <td>0.301961</td>\n      <td>0.30</td>\n      <td>0.03</td>\n      <td>0.30</td>\n      <td>0.00</td>\n      <td>0.00</td>\n      <td>0.00</td>\n      <td>0.00</td>\n      <td>0.00</td>\n    </tr>\n  </tbody>\n</table>\n<p>125973 rows × 17 columns</p>\n</div>"
     },
     "execution_count": 37,
     "metadata": {},
     "output_type": "execute_result"
    }
   ],
   "source": [
    "df_minmax = scaler1.fit_transform(X_train)\n",
    "X_train = pd.DataFrame(df_minmax, columns=X_train.columns)\n",
    "X_train"
   ]
  },
  {
   "cell_type": "code",
   "execution_count": 38,
   "metadata": {
    "ExecuteTime": {
     "end_time": "2023-10-19T14:21:44.945887600Z",
     "start_time": "2023-10-19T14:21:44.623922300Z"
    }
   },
   "outputs": [
    {
     "data": {
      "text/plain": "        logged_in     count  serror_rate  rerror_rate  srv_rerror_rate  \\\n0             0.0  0.003914          0.0          0.0              0.0   \n1             0.0  0.025440          0.0          0.0              0.0   \n2             0.0  0.240705          1.0          0.0              0.0   \n3             1.0  0.009785          0.2          0.0              0.0   \n4             1.0  0.058708          0.0          0.0              0.0   \n...           ...       ...          ...          ...              ...   \n125968        0.0  0.360078          1.0          0.0              0.0   \n125969        0.0  0.003914          0.0          0.0              0.0   \n125970        1.0  0.001957          0.0          0.0              0.0   \n125971        0.0  0.281800          1.0          0.0              0.0   \n125972        1.0  0.001957          0.0          0.0              0.0   \n\n        same_srv_rate  diff_srv_rate  srv_diff_host_rate  dst_host_srv_count  \\\n0                1.00           0.00                0.00            0.098039   \n1                0.08           0.15                0.00            0.003922   \n2                0.05           0.07                0.00            0.101961   \n3                1.00           0.00                0.00            1.000000   \n4                1.00           0.00                0.09            1.000000   \n...               ...            ...                 ...                 ...   \n125968           0.14           0.06                0.00            0.098039   \n125969           1.00           0.00                0.00            0.956863   \n125970           1.00           0.00                0.00            0.117647   \n125971           0.06           0.05                0.00            0.031373   \n125972           1.00           0.00                0.00            0.301961   \n\n        dst_host_same_srv_rate  ...  flag_REJ  flag_RSTO  flag_RSTOS0  \\\n0                         0.17  ...       0.0        0.0          0.0   \n1                         0.00  ...       0.0        0.0          0.0   \n2                         0.10  ...       0.0        0.0          0.0   \n3                         1.00  ...       0.0        0.0          0.0   \n4                         1.00  ...       0.0        0.0          0.0   \n...                        ...  ...       ...        ...          ...   \n125968                    0.10  ...       0.0        0.0          0.0   \n125969                    0.96  ...       0.0        0.0          0.0   \n125970                    0.12  ...       0.0        0.0          0.0   \n125971                    0.03  ...       0.0        0.0          0.0   \n125972                    0.30  ...       0.0        0.0          0.0   \n\n        flag_RSTR  flag_S0  flag_S1  flag_S2  flag_S3  flag_SF  flag_SH  \n0             0.0      0.0      0.0      0.0      0.0      1.0      0.0  \n1             0.0      0.0      0.0      0.0      0.0      1.0      0.0  \n2             0.0      1.0      0.0      0.0      0.0      0.0      0.0  \n3             0.0      0.0      0.0      0.0      0.0      1.0      0.0  \n4             0.0      0.0      0.0      0.0      0.0      1.0      0.0  \n...           ...      ...      ...      ...      ...      ...      ...  \n125968        0.0      1.0      0.0      0.0      0.0      0.0      0.0  \n125969        0.0      0.0      0.0      0.0      0.0      1.0      0.0  \n125970        0.0      0.0      0.0      0.0      0.0      1.0      0.0  \n125971        0.0      1.0      0.0      0.0      0.0      0.0      0.0  \n125972        0.0      0.0      0.0      0.0      0.0      1.0      0.0  \n\n[125973 rows x 101 columns]",
      "text/html": "<div>\n<style scoped>\n    .dataframe tbody tr th:only-of-type {\n        vertical-align: middle;\n    }\n\n    .dataframe tbody tr th {\n        vertical-align: top;\n    }\n\n    .dataframe thead th {\n        text-align: right;\n    }\n</style>\n<table border=\"1\" class=\"dataframe\">\n  <thead>\n    <tr style=\"text-align: right;\">\n      <th></th>\n      <th>logged_in</th>\n      <th>count</th>\n      <th>serror_rate</th>\n      <th>rerror_rate</th>\n      <th>srv_rerror_rate</th>\n      <th>same_srv_rate</th>\n      <th>diff_srv_rate</th>\n      <th>srv_diff_host_rate</th>\n      <th>dst_host_srv_count</th>\n      <th>dst_host_same_srv_rate</th>\n      <th>...</th>\n      <th>flag_REJ</th>\n      <th>flag_RSTO</th>\n      <th>flag_RSTOS0</th>\n      <th>flag_RSTR</th>\n      <th>flag_S0</th>\n      <th>flag_S1</th>\n      <th>flag_S2</th>\n      <th>flag_S3</th>\n      <th>flag_SF</th>\n      <th>flag_SH</th>\n    </tr>\n  </thead>\n  <tbody>\n    <tr>\n      <th>0</th>\n      <td>0.0</td>\n      <td>0.003914</td>\n      <td>0.0</td>\n      <td>0.0</td>\n      <td>0.0</td>\n      <td>1.00</td>\n      <td>0.00</td>\n      <td>0.00</td>\n      <td>0.098039</td>\n      <td>0.17</td>\n      <td>...</td>\n      <td>0.0</td>\n      <td>0.0</td>\n      <td>0.0</td>\n      <td>0.0</td>\n      <td>0.0</td>\n      <td>0.0</td>\n      <td>0.0</td>\n      <td>0.0</td>\n      <td>1.0</td>\n      <td>0.0</td>\n    </tr>\n    <tr>\n      <th>1</th>\n      <td>0.0</td>\n      <td>0.025440</td>\n      <td>0.0</td>\n      <td>0.0</td>\n      <td>0.0</td>\n      <td>0.08</td>\n      <td>0.15</td>\n      <td>0.00</td>\n      <td>0.003922</td>\n      <td>0.00</td>\n      <td>...</td>\n      <td>0.0</td>\n      <td>0.0</td>\n      <td>0.0</td>\n      <td>0.0</td>\n      <td>0.0</td>\n      <td>0.0</td>\n      <td>0.0</td>\n      <td>0.0</td>\n      <td>1.0</td>\n      <td>0.0</td>\n    </tr>\n    <tr>\n      <th>2</th>\n      <td>0.0</td>\n      <td>0.240705</td>\n      <td>1.0</td>\n      <td>0.0</td>\n      <td>0.0</td>\n      <td>0.05</td>\n      <td>0.07</td>\n      <td>0.00</td>\n      <td>0.101961</td>\n      <td>0.10</td>\n      <td>...</td>\n      <td>0.0</td>\n      <td>0.0</td>\n      <td>0.0</td>\n      <td>0.0</td>\n      <td>1.0</td>\n      <td>0.0</td>\n      <td>0.0</td>\n      <td>0.0</td>\n      <td>0.0</td>\n      <td>0.0</td>\n    </tr>\n    <tr>\n      <th>3</th>\n      <td>1.0</td>\n      <td>0.009785</td>\n      <td>0.2</td>\n      <td>0.0</td>\n      <td>0.0</td>\n      <td>1.00</td>\n      <td>0.00</td>\n      <td>0.00</td>\n      <td>1.000000</td>\n      <td>1.00</td>\n      <td>...</td>\n      <td>0.0</td>\n      <td>0.0</td>\n      <td>0.0</td>\n      <td>0.0</td>\n      <td>0.0</td>\n      <td>0.0</td>\n      <td>0.0</td>\n      <td>0.0</td>\n      <td>1.0</td>\n      <td>0.0</td>\n    </tr>\n    <tr>\n      <th>4</th>\n      <td>1.0</td>\n      <td>0.058708</td>\n      <td>0.0</td>\n      <td>0.0</td>\n      <td>0.0</td>\n      <td>1.00</td>\n      <td>0.00</td>\n      <td>0.09</td>\n      <td>1.000000</td>\n      <td>1.00</td>\n      <td>...</td>\n      <td>0.0</td>\n      <td>0.0</td>\n      <td>0.0</td>\n      <td>0.0</td>\n      <td>0.0</td>\n      <td>0.0</td>\n      <td>0.0</td>\n      <td>0.0</td>\n      <td>1.0</td>\n      <td>0.0</td>\n    </tr>\n    <tr>\n      <th>...</th>\n      <td>...</td>\n      <td>...</td>\n      <td>...</td>\n      <td>...</td>\n      <td>...</td>\n      <td>...</td>\n      <td>...</td>\n      <td>...</td>\n      <td>...</td>\n      <td>...</td>\n      <td>...</td>\n      <td>...</td>\n      <td>...</td>\n      <td>...</td>\n      <td>...</td>\n      <td>...</td>\n      <td>...</td>\n      <td>...</td>\n      <td>...</td>\n      <td>...</td>\n      <td>...</td>\n    </tr>\n    <tr>\n      <th>125968</th>\n      <td>0.0</td>\n      <td>0.360078</td>\n      <td>1.0</td>\n      <td>0.0</td>\n      <td>0.0</td>\n      <td>0.14</td>\n      <td>0.06</td>\n      <td>0.00</td>\n      <td>0.098039</td>\n      <td>0.10</td>\n      <td>...</td>\n      <td>0.0</td>\n      <td>0.0</td>\n      <td>0.0</td>\n      <td>0.0</td>\n      <td>1.0</td>\n      <td>0.0</td>\n      <td>0.0</td>\n      <td>0.0</td>\n      <td>0.0</td>\n      <td>0.0</td>\n    </tr>\n    <tr>\n      <th>125969</th>\n      <td>0.0</td>\n      <td>0.003914</td>\n      <td>0.0</td>\n      <td>0.0</td>\n      <td>0.0</td>\n      <td>1.00</td>\n      <td>0.00</td>\n      <td>0.00</td>\n      <td>0.956863</td>\n      <td>0.96</td>\n      <td>...</td>\n      <td>0.0</td>\n      <td>0.0</td>\n      <td>0.0</td>\n      <td>0.0</td>\n      <td>0.0</td>\n      <td>0.0</td>\n      <td>0.0</td>\n      <td>0.0</td>\n      <td>1.0</td>\n      <td>0.0</td>\n    </tr>\n    <tr>\n      <th>125970</th>\n      <td>1.0</td>\n      <td>0.001957</td>\n      <td>0.0</td>\n      <td>0.0</td>\n      <td>0.0</td>\n      <td>1.00</td>\n      <td>0.00</td>\n      <td>0.00</td>\n      <td>0.117647</td>\n      <td>0.12</td>\n      <td>...</td>\n      <td>0.0</td>\n      <td>0.0</td>\n      <td>0.0</td>\n      <td>0.0</td>\n      <td>0.0</td>\n      <td>0.0</td>\n      <td>0.0</td>\n      <td>0.0</td>\n      <td>1.0</td>\n      <td>0.0</td>\n    </tr>\n    <tr>\n      <th>125971</th>\n      <td>0.0</td>\n      <td>0.281800</td>\n      <td>1.0</td>\n      <td>0.0</td>\n      <td>0.0</td>\n      <td>0.06</td>\n      <td>0.05</td>\n      <td>0.00</td>\n      <td>0.031373</td>\n      <td>0.03</td>\n      <td>...</td>\n      <td>0.0</td>\n      <td>0.0</td>\n      <td>0.0</td>\n      <td>0.0</td>\n      <td>1.0</td>\n      <td>0.0</td>\n      <td>0.0</td>\n      <td>0.0</td>\n      <td>0.0</td>\n      <td>0.0</td>\n    </tr>\n    <tr>\n      <th>125972</th>\n      <td>1.0</td>\n      <td>0.001957</td>\n      <td>0.0</td>\n      <td>0.0</td>\n      <td>0.0</td>\n      <td>1.00</td>\n      <td>0.00</td>\n      <td>0.00</td>\n      <td>0.301961</td>\n      <td>0.30</td>\n      <td>...</td>\n      <td>0.0</td>\n      <td>0.0</td>\n      <td>0.0</td>\n      <td>0.0</td>\n      <td>0.0</td>\n      <td>0.0</td>\n      <td>0.0</td>\n      <td>0.0</td>\n      <td>1.0</td>\n      <td>0.0</td>\n    </tr>\n  </tbody>\n</table>\n<p>125973 rows × 101 columns</p>\n</div>"
     },
     "execution_count": 38,
     "metadata": {},
     "output_type": "execute_result"
    }
   ],
   "source": [
    "# perform One-hot encoding\n",
    "label_enc = ohe.fit_transform(df_train.iloc[:,1:4])\n",
    "label_enc.toarray()\n",
    "new_labels = ohe.get_feature_names_out(categorical_features)\n",
    "df_enc = pd.DataFrame(data=label_enc.toarray(), columns=new_labels)\n",
    "X_train = pd.concat([X_train, df_enc], axis=1)\n",
    "X_train"
   ]
  },
  {
   "cell_type": "code",
   "execution_count": 39,
   "metadata": {
    "ExecuteTime": {
     "end_time": "2023-10-19T14:21:44.964361500Z",
     "start_time": "2023-10-19T14:21:44.807291700Z"
    }
   },
   "outputs": [
    {
     "data": {
      "text/plain": "       duration protocol_type   service  flag  src_bytes  dst_bytes  land  \\\n0             0           tcp   private   REJ          0          0     0   \n1             0           tcp   private   REJ          0          0     0   \n2             2           tcp  ftp_data    SF      12983          0     0   \n3             0          icmp     eco_i    SF         20          0     0   \n4             1           tcp    telnet  RSTO          0         15     0   \n...         ...           ...       ...   ...        ...        ...   ...   \n22539         0           tcp      smtp    SF        794        333     0   \n22540         0           tcp      http    SF        317        938     0   \n22541         0           tcp      http    SF      54540       8314     0   \n22542         0           udp  domain_u    SF         42         42     0   \n22543         0           tcp    sunrpc   REJ          0          0     0   \n\n       wrong_fragment  urgent  hot  ...  dst_host_count  dst_host_srv_count  \\\n0                   0       0    0  ...             255                  10   \n1                   0       0    0  ...             255                   1   \n2                   0       0    0  ...             134                  86   \n3                   0       0    0  ...               3                  57   \n4                   0       0    0  ...              29                  86   \n...               ...     ...  ...  ...             ...                 ...   \n22539               0       0    0  ...             100                 141   \n22540               0       0    0  ...             197                 255   \n22541               0       0    2  ...             255                 255   \n22542               0       0    0  ...             255                 252   \n22543               0       0    0  ...             255                  21   \n\n       dst_host_same_srv_rate  dst_host_diff_srv_rate  \\\n0                        0.04                    0.06   \n1                        0.00                    0.06   \n2                        0.61                    0.04   \n3                        1.00                    0.00   \n4                        0.31                    0.17   \n...                       ...                     ...   \n22539                    0.72                    0.06   \n22540                    1.00                    0.00   \n22541                    1.00                    0.00   \n22542                    0.99                    0.01   \n22543                    0.08                    0.03   \n\n       dst_host_same_src_port_rate  dst_host_srv_diff_host_rate  \\\n0                             0.00                         0.00   \n1                             0.00                         0.00   \n2                             0.61                         0.02   \n3                             1.00                         0.28   \n4                             0.03                         0.02   \n...                            ...                          ...   \n22539                         0.01                         0.01   \n22540                         0.01                         0.01   \n22541                         0.00                         0.00   \n22542                         0.00                         0.00   \n22543                         0.00                         0.00   \n\n       dst_host_serror_rate  dst_host_srv_serror_rate  dst_host_rerror_rate  \\\n0                      0.00                       0.0                  1.00   \n1                      0.00                       0.0                  1.00   \n2                      0.00                       0.0                  0.00   \n3                      0.00                       0.0                  0.00   \n4                      0.00                       0.0                  0.83   \n...                     ...                       ...                   ...   \n22539                  0.01                       0.0                  0.00   \n22540                  0.01                       0.0                  0.00   \n22541                  0.00                       0.0                  0.07   \n22542                  0.00                       0.0                  0.00   \n22543                  0.00                       0.0                  0.44   \n\n       dst_host_srv_rerror_rate  \n0                          1.00  \n1                          1.00  \n2                          0.00  \n3                          0.00  \n4                          0.71  \n...                         ...  \n22539                      0.00  \n22540                      0.00  \n22541                      0.07  \n22542                      0.00  \n22543                      1.00  \n\n[22544 rows x 40 columns]",
      "text/html": "<div>\n<style scoped>\n    .dataframe tbody tr th:only-of-type {\n        vertical-align: middle;\n    }\n\n    .dataframe tbody tr th {\n        vertical-align: top;\n    }\n\n    .dataframe thead th {\n        text-align: right;\n    }\n</style>\n<table border=\"1\" class=\"dataframe\">\n  <thead>\n    <tr style=\"text-align: right;\">\n      <th></th>\n      <th>duration</th>\n      <th>protocol_type</th>\n      <th>service</th>\n      <th>flag</th>\n      <th>src_bytes</th>\n      <th>dst_bytes</th>\n      <th>land</th>\n      <th>wrong_fragment</th>\n      <th>urgent</th>\n      <th>hot</th>\n      <th>...</th>\n      <th>dst_host_count</th>\n      <th>dst_host_srv_count</th>\n      <th>dst_host_same_srv_rate</th>\n      <th>dst_host_diff_srv_rate</th>\n      <th>dst_host_same_src_port_rate</th>\n      <th>dst_host_srv_diff_host_rate</th>\n      <th>dst_host_serror_rate</th>\n      <th>dst_host_srv_serror_rate</th>\n      <th>dst_host_rerror_rate</th>\n      <th>dst_host_srv_rerror_rate</th>\n    </tr>\n  </thead>\n  <tbody>\n    <tr>\n      <th>0</th>\n      <td>0</td>\n      <td>tcp</td>\n      <td>private</td>\n      <td>REJ</td>\n      <td>0</td>\n      <td>0</td>\n      <td>0</td>\n      <td>0</td>\n      <td>0</td>\n      <td>0</td>\n      <td>...</td>\n      <td>255</td>\n      <td>10</td>\n      <td>0.04</td>\n      <td>0.06</td>\n      <td>0.00</td>\n      <td>0.00</td>\n      <td>0.00</td>\n      <td>0.0</td>\n      <td>1.00</td>\n      <td>1.00</td>\n    </tr>\n    <tr>\n      <th>1</th>\n      <td>0</td>\n      <td>tcp</td>\n      <td>private</td>\n      <td>REJ</td>\n      <td>0</td>\n      <td>0</td>\n      <td>0</td>\n      <td>0</td>\n      <td>0</td>\n      <td>0</td>\n      <td>...</td>\n      <td>255</td>\n      <td>1</td>\n      <td>0.00</td>\n      <td>0.06</td>\n      <td>0.00</td>\n      <td>0.00</td>\n      <td>0.00</td>\n      <td>0.0</td>\n      <td>1.00</td>\n      <td>1.00</td>\n    </tr>\n    <tr>\n      <th>2</th>\n      <td>2</td>\n      <td>tcp</td>\n      <td>ftp_data</td>\n      <td>SF</td>\n      <td>12983</td>\n      <td>0</td>\n      <td>0</td>\n      <td>0</td>\n      <td>0</td>\n      <td>0</td>\n      <td>...</td>\n      <td>134</td>\n      <td>86</td>\n      <td>0.61</td>\n      <td>0.04</td>\n      <td>0.61</td>\n      <td>0.02</td>\n      <td>0.00</td>\n      <td>0.0</td>\n      <td>0.00</td>\n      <td>0.00</td>\n    </tr>\n    <tr>\n      <th>3</th>\n      <td>0</td>\n      <td>icmp</td>\n      <td>eco_i</td>\n      <td>SF</td>\n      <td>20</td>\n      <td>0</td>\n      <td>0</td>\n      <td>0</td>\n      <td>0</td>\n      <td>0</td>\n      <td>...</td>\n      <td>3</td>\n      <td>57</td>\n      <td>1.00</td>\n      <td>0.00</td>\n      <td>1.00</td>\n      <td>0.28</td>\n      <td>0.00</td>\n      <td>0.0</td>\n      <td>0.00</td>\n      <td>0.00</td>\n    </tr>\n    <tr>\n      <th>4</th>\n      <td>1</td>\n      <td>tcp</td>\n      <td>telnet</td>\n      <td>RSTO</td>\n      <td>0</td>\n      <td>15</td>\n      <td>0</td>\n      <td>0</td>\n      <td>0</td>\n      <td>0</td>\n      <td>...</td>\n      <td>29</td>\n      <td>86</td>\n      <td>0.31</td>\n      <td>0.17</td>\n      <td>0.03</td>\n      <td>0.02</td>\n      <td>0.00</td>\n      <td>0.0</td>\n      <td>0.83</td>\n      <td>0.71</td>\n    </tr>\n    <tr>\n      <th>...</th>\n      <td>...</td>\n      <td>...</td>\n      <td>...</td>\n      <td>...</td>\n      <td>...</td>\n      <td>...</td>\n      <td>...</td>\n      <td>...</td>\n      <td>...</td>\n      <td>...</td>\n      <td>...</td>\n      <td>...</td>\n      <td>...</td>\n      <td>...</td>\n      <td>...</td>\n      <td>...</td>\n      <td>...</td>\n      <td>...</td>\n      <td>...</td>\n      <td>...</td>\n      <td>...</td>\n    </tr>\n    <tr>\n      <th>22539</th>\n      <td>0</td>\n      <td>tcp</td>\n      <td>smtp</td>\n      <td>SF</td>\n      <td>794</td>\n      <td>333</td>\n      <td>0</td>\n      <td>0</td>\n      <td>0</td>\n      <td>0</td>\n      <td>...</td>\n      <td>100</td>\n      <td>141</td>\n      <td>0.72</td>\n      <td>0.06</td>\n      <td>0.01</td>\n      <td>0.01</td>\n      <td>0.01</td>\n      <td>0.0</td>\n      <td>0.00</td>\n      <td>0.00</td>\n    </tr>\n    <tr>\n      <th>22540</th>\n      <td>0</td>\n      <td>tcp</td>\n      <td>http</td>\n      <td>SF</td>\n      <td>317</td>\n      <td>938</td>\n      <td>0</td>\n      <td>0</td>\n      <td>0</td>\n      <td>0</td>\n      <td>...</td>\n      <td>197</td>\n      <td>255</td>\n      <td>1.00</td>\n      <td>0.00</td>\n      <td>0.01</td>\n      <td>0.01</td>\n      <td>0.01</td>\n      <td>0.0</td>\n      <td>0.00</td>\n      <td>0.00</td>\n    </tr>\n    <tr>\n      <th>22541</th>\n      <td>0</td>\n      <td>tcp</td>\n      <td>http</td>\n      <td>SF</td>\n      <td>54540</td>\n      <td>8314</td>\n      <td>0</td>\n      <td>0</td>\n      <td>0</td>\n      <td>2</td>\n      <td>...</td>\n      <td>255</td>\n      <td>255</td>\n      <td>1.00</td>\n      <td>0.00</td>\n      <td>0.00</td>\n      <td>0.00</td>\n      <td>0.00</td>\n      <td>0.0</td>\n      <td>0.07</td>\n      <td>0.07</td>\n    </tr>\n    <tr>\n      <th>22542</th>\n      <td>0</td>\n      <td>udp</td>\n      <td>domain_u</td>\n      <td>SF</td>\n      <td>42</td>\n      <td>42</td>\n      <td>0</td>\n      <td>0</td>\n      <td>0</td>\n      <td>0</td>\n      <td>...</td>\n      <td>255</td>\n      <td>252</td>\n      <td>0.99</td>\n      <td>0.01</td>\n      <td>0.00</td>\n      <td>0.00</td>\n      <td>0.00</td>\n      <td>0.0</td>\n      <td>0.00</td>\n      <td>0.00</td>\n    </tr>\n    <tr>\n      <th>22543</th>\n      <td>0</td>\n      <td>tcp</td>\n      <td>sunrpc</td>\n      <td>REJ</td>\n      <td>0</td>\n      <td>0</td>\n      <td>0</td>\n      <td>0</td>\n      <td>0</td>\n      <td>0</td>\n      <td>...</td>\n      <td>255</td>\n      <td>21</td>\n      <td>0.08</td>\n      <td>0.03</td>\n      <td>0.00</td>\n      <td>0.00</td>\n      <td>0.00</td>\n      <td>0.0</td>\n      <td>0.44</td>\n      <td>1.00</td>\n    </tr>\n  </tbody>\n</table>\n<p>22544 rows × 40 columns</p>\n</div>"
     },
     "execution_count": 39,
     "metadata": {},
     "output_type": "execute_result"
    }
   ],
   "source": [
    "# do the same for testset\n",
    "y_test = np.array([1 if x in (dos_attacks+probe_attacks) else 0 for x in df_test['label']])\n",
    "\n",
    "df_test = df_test.drop(['label'],axis=1)\n",
    "df_test = df_test.reset_index().drop(['index'], axis=1)\n",
    "df_test"
   ]
  },
  {
   "cell_type": "code",
   "execution_count": 40,
   "metadata": {
    "ExecuteTime": {
     "end_time": "2023-10-19T14:21:45.028907Z",
     "start_time": "2023-10-19T14:21:44.838376700Z"
    }
   },
   "outputs": [
    {
     "data": {
      "text/plain": "       logged_in  count  serror_rate  rerror_rate  srv_rerror_rate  \\\n0              0    229          0.0          1.0              1.0   \n1              0    136          0.0          1.0              1.0   \n2              0      1          0.0          0.0              0.0   \n3              0      1          0.0          0.0              0.0   \n4              0      1          0.0          1.0              0.5   \n...          ...    ...          ...          ...              ...   \n22539          1      1          0.0          0.0              0.0   \n22540          1      2          0.0          0.0              0.0   \n22541          1      5          0.0          0.0              0.0   \n22542          0      4          0.0          0.0              0.0   \n22543          0      4          0.0          1.0              1.0   \n\n       same_srv_rate  diff_srv_rate  srv_diff_host_rate  dst_host_srv_count  \\\n0               0.04           0.06                0.00                  10   \n1               0.01           0.06                0.00                   1   \n2               1.00           0.00                0.00                  86   \n3               1.00           0.00                1.00                  57   \n4               1.00           0.00                0.75                  86   \n...              ...            ...                 ...                 ...   \n22539           1.00           0.00                0.00                 141   \n22540           1.00           0.00                0.18                 255   \n22541           1.00           0.00                0.20                 255   \n22542           1.00           0.00                0.33                 252   \n22543           0.25           1.00                1.00                  21   \n\n       dst_host_same_srv_rate  dst_host_diff_srv_rate  \\\n0                        0.04                    0.06   \n1                        0.00                    0.06   \n2                        0.61                    0.04   \n3                        1.00                    0.00   \n4                        0.31                    0.17   \n...                       ...                     ...   \n22539                    0.72                    0.06   \n22540                    1.00                    0.00   \n22541                    1.00                    0.00   \n22542                    0.99                    0.01   \n22543                    0.08                    0.03   \n\n       dst_host_same_src_port_rate  dst_host_srv_diff_host_rate  \\\n0                             0.00                         0.00   \n1                             0.00                         0.00   \n2                             0.61                         0.02   \n3                             1.00                         0.28   \n4                             0.03                         0.02   \n...                            ...                          ...   \n22539                         0.01                         0.01   \n22540                         0.01                         0.01   \n22541                         0.00                         0.00   \n22542                         0.00                         0.00   \n22543                         0.00                         0.00   \n\n       dst_host_serror_rate  dst_host_srv_serror_rate  \\\n0                      0.00                       0.0   \n1                      0.00                       0.0   \n2                      0.00                       0.0   \n3                      0.00                       0.0   \n4                      0.00                       0.0   \n...                     ...                       ...   \n22539                  0.01                       0.0   \n22540                  0.01                       0.0   \n22541                  0.00                       0.0   \n22542                  0.00                       0.0   \n22543                  0.00                       0.0   \n\n       dst_host_srv_rerror_rate  dst_host_rerror_rate  \n0                          1.00                  1.00  \n1                          1.00                  1.00  \n2                          0.00                  0.00  \n3                          0.00                  0.00  \n4                          0.71                  0.83  \n...                         ...                   ...  \n22539                      0.00                  0.00  \n22540                      0.00                  0.00  \n22541                      0.07                  0.07  \n22542                      0.00                  0.00  \n22543                      1.00                  0.44  \n\n[22544 rows x 17 columns]",
      "text/html": "<div>\n<style scoped>\n    .dataframe tbody tr th:only-of-type {\n        vertical-align: middle;\n    }\n\n    .dataframe tbody tr th {\n        vertical-align: top;\n    }\n\n    .dataframe thead th {\n        text-align: right;\n    }\n</style>\n<table border=\"1\" class=\"dataframe\">\n  <thead>\n    <tr style=\"text-align: right;\">\n      <th></th>\n      <th>logged_in</th>\n      <th>count</th>\n      <th>serror_rate</th>\n      <th>rerror_rate</th>\n      <th>srv_rerror_rate</th>\n      <th>same_srv_rate</th>\n      <th>diff_srv_rate</th>\n      <th>srv_diff_host_rate</th>\n      <th>dst_host_srv_count</th>\n      <th>dst_host_same_srv_rate</th>\n      <th>dst_host_diff_srv_rate</th>\n      <th>dst_host_same_src_port_rate</th>\n      <th>dst_host_srv_diff_host_rate</th>\n      <th>dst_host_serror_rate</th>\n      <th>dst_host_srv_serror_rate</th>\n      <th>dst_host_srv_rerror_rate</th>\n      <th>dst_host_rerror_rate</th>\n    </tr>\n  </thead>\n  <tbody>\n    <tr>\n      <th>0</th>\n      <td>0</td>\n      <td>229</td>\n      <td>0.0</td>\n      <td>1.0</td>\n      <td>1.0</td>\n      <td>0.04</td>\n      <td>0.06</td>\n      <td>0.00</td>\n      <td>10</td>\n      <td>0.04</td>\n      <td>0.06</td>\n      <td>0.00</td>\n      <td>0.00</td>\n      <td>0.00</td>\n      <td>0.0</td>\n      <td>1.00</td>\n      <td>1.00</td>\n    </tr>\n    <tr>\n      <th>1</th>\n      <td>0</td>\n      <td>136</td>\n      <td>0.0</td>\n      <td>1.0</td>\n      <td>1.0</td>\n      <td>0.01</td>\n      <td>0.06</td>\n      <td>0.00</td>\n      <td>1</td>\n      <td>0.00</td>\n      <td>0.06</td>\n      <td>0.00</td>\n      <td>0.00</td>\n      <td>0.00</td>\n      <td>0.0</td>\n      <td>1.00</td>\n      <td>1.00</td>\n    </tr>\n    <tr>\n      <th>2</th>\n      <td>0</td>\n      <td>1</td>\n      <td>0.0</td>\n      <td>0.0</td>\n      <td>0.0</td>\n      <td>1.00</td>\n      <td>0.00</td>\n      <td>0.00</td>\n      <td>86</td>\n      <td>0.61</td>\n      <td>0.04</td>\n      <td>0.61</td>\n      <td>0.02</td>\n      <td>0.00</td>\n      <td>0.0</td>\n      <td>0.00</td>\n      <td>0.00</td>\n    </tr>\n    <tr>\n      <th>3</th>\n      <td>0</td>\n      <td>1</td>\n      <td>0.0</td>\n      <td>0.0</td>\n      <td>0.0</td>\n      <td>1.00</td>\n      <td>0.00</td>\n      <td>1.00</td>\n      <td>57</td>\n      <td>1.00</td>\n      <td>0.00</td>\n      <td>1.00</td>\n      <td>0.28</td>\n      <td>0.00</td>\n      <td>0.0</td>\n      <td>0.00</td>\n      <td>0.00</td>\n    </tr>\n    <tr>\n      <th>4</th>\n      <td>0</td>\n      <td>1</td>\n      <td>0.0</td>\n      <td>1.0</td>\n      <td>0.5</td>\n      <td>1.00</td>\n      <td>0.00</td>\n      <td>0.75</td>\n      <td>86</td>\n      <td>0.31</td>\n      <td>0.17</td>\n      <td>0.03</td>\n      <td>0.02</td>\n      <td>0.00</td>\n      <td>0.0</td>\n      <td>0.71</td>\n      <td>0.83</td>\n    </tr>\n    <tr>\n      <th>...</th>\n      <td>...</td>\n      <td>...</td>\n      <td>...</td>\n      <td>...</td>\n      <td>...</td>\n      <td>...</td>\n      <td>...</td>\n      <td>...</td>\n      <td>...</td>\n      <td>...</td>\n      <td>...</td>\n      <td>...</td>\n      <td>...</td>\n      <td>...</td>\n      <td>...</td>\n      <td>...</td>\n      <td>...</td>\n    </tr>\n    <tr>\n      <th>22539</th>\n      <td>1</td>\n      <td>1</td>\n      <td>0.0</td>\n      <td>0.0</td>\n      <td>0.0</td>\n      <td>1.00</td>\n      <td>0.00</td>\n      <td>0.00</td>\n      <td>141</td>\n      <td>0.72</td>\n      <td>0.06</td>\n      <td>0.01</td>\n      <td>0.01</td>\n      <td>0.01</td>\n      <td>0.0</td>\n      <td>0.00</td>\n      <td>0.00</td>\n    </tr>\n    <tr>\n      <th>22540</th>\n      <td>1</td>\n      <td>2</td>\n      <td>0.0</td>\n      <td>0.0</td>\n      <td>0.0</td>\n      <td>1.00</td>\n      <td>0.00</td>\n      <td>0.18</td>\n      <td>255</td>\n      <td>1.00</td>\n      <td>0.00</td>\n      <td>0.01</td>\n      <td>0.01</td>\n      <td>0.01</td>\n      <td>0.0</td>\n      <td>0.00</td>\n      <td>0.00</td>\n    </tr>\n    <tr>\n      <th>22541</th>\n      <td>1</td>\n      <td>5</td>\n      <td>0.0</td>\n      <td>0.0</td>\n      <td>0.0</td>\n      <td>1.00</td>\n      <td>0.00</td>\n      <td>0.20</td>\n      <td>255</td>\n      <td>1.00</td>\n      <td>0.00</td>\n      <td>0.00</td>\n      <td>0.00</td>\n      <td>0.00</td>\n      <td>0.0</td>\n      <td>0.07</td>\n      <td>0.07</td>\n    </tr>\n    <tr>\n      <th>22542</th>\n      <td>0</td>\n      <td>4</td>\n      <td>0.0</td>\n      <td>0.0</td>\n      <td>0.0</td>\n      <td>1.00</td>\n      <td>0.00</td>\n      <td>0.33</td>\n      <td>252</td>\n      <td>0.99</td>\n      <td>0.01</td>\n      <td>0.00</td>\n      <td>0.00</td>\n      <td>0.00</td>\n      <td>0.0</td>\n      <td>0.00</td>\n      <td>0.00</td>\n    </tr>\n    <tr>\n      <th>22543</th>\n      <td>0</td>\n      <td>4</td>\n      <td>0.0</td>\n      <td>1.0</td>\n      <td>1.0</td>\n      <td>0.25</td>\n      <td>1.00</td>\n      <td>1.00</td>\n      <td>21</td>\n      <td>0.08</td>\n      <td>0.03</td>\n      <td>0.00</td>\n      <td>0.00</td>\n      <td>0.00</td>\n      <td>0.0</td>\n      <td>1.00</td>\n      <td>0.44</td>\n    </tr>\n  </tbody>\n</table>\n<p>22544 rows × 17 columns</p>\n</div>"
     },
     "execution_count": 40,
     "metadata": {},
     "output_type": "execute_result"
    }
   ],
   "source": [
    "X_test = df_test[common_features_l1]\n",
    "\n",
    "X_test"
   ]
  },
  {
   "cell_type": "code",
   "execution_count": 41,
   "metadata": {
    "ExecuteTime": {
     "end_time": "2023-10-19T14:21:45.028907Z",
     "start_time": "2023-10-19T14:21:44.860972100Z"
    }
   },
   "outputs": [
    {
     "data": {
      "text/plain": "       logged_in     count  serror_rate  rerror_rate  srv_rerror_rate  \\\n0            0.0  0.448141          0.0          1.0              1.0   \n1            0.0  0.266145          0.0          1.0              1.0   \n2            0.0  0.001957          0.0          0.0              0.0   \n3            0.0  0.001957          0.0          0.0              0.0   \n4            0.0  0.001957          0.0          1.0              0.5   \n...          ...       ...          ...          ...              ...   \n22539        1.0  0.001957          0.0          0.0              0.0   \n22540        1.0  0.003914          0.0          0.0              0.0   \n22541        1.0  0.009785          0.0          0.0              0.0   \n22542        0.0  0.007828          0.0          0.0              0.0   \n22543        0.0  0.007828          0.0          1.0              1.0   \n\n       same_srv_rate  diff_srv_rate  srv_diff_host_rate  dst_host_srv_count  \\\n0               0.04           0.06                0.00            0.039216   \n1               0.01           0.06                0.00            0.003922   \n2               1.00           0.00                0.00            0.337255   \n3               1.00           0.00                1.00            0.223529   \n4               1.00           0.00                0.75            0.337255   \n...              ...            ...                 ...                 ...   \n22539           1.00           0.00                0.00            0.552941   \n22540           1.00           0.00                0.18            1.000000   \n22541           1.00           0.00                0.20            1.000000   \n22542           1.00           0.00                0.33            0.988235   \n22543           0.25           1.00                1.00            0.082353   \n\n       dst_host_same_srv_rate  dst_host_diff_srv_rate  \\\n0                        0.04                    0.06   \n1                        0.00                    0.06   \n2                        0.61                    0.04   \n3                        1.00                    0.00   \n4                        0.31                    0.17   \n...                       ...                     ...   \n22539                    0.72                    0.06   \n22540                    1.00                    0.00   \n22541                    1.00                    0.00   \n22542                    0.99                    0.01   \n22543                    0.08                    0.03   \n\n       dst_host_same_src_port_rate  dst_host_srv_diff_host_rate  \\\n0                             0.00                         0.00   \n1                             0.00                         0.00   \n2                             0.61                         0.02   \n3                             1.00                         0.28   \n4                             0.03                         0.02   \n...                            ...                          ...   \n22539                         0.01                         0.01   \n22540                         0.01                         0.01   \n22541                         0.00                         0.00   \n22542                         0.00                         0.00   \n22543                         0.00                         0.00   \n\n       dst_host_serror_rate  dst_host_srv_serror_rate  \\\n0                      0.00                       0.0   \n1                      0.00                       0.0   \n2                      0.00                       0.0   \n3                      0.00                       0.0   \n4                      0.00                       0.0   \n...                     ...                       ...   \n22539                  0.01                       0.0   \n22540                  0.01                       0.0   \n22541                  0.00                       0.0   \n22542                  0.00                       0.0   \n22543                  0.00                       0.0   \n\n       dst_host_srv_rerror_rate  dst_host_rerror_rate  \n0                          1.00                  1.00  \n1                          1.00                  1.00  \n2                          0.00                  0.00  \n3                          0.00                  0.00  \n4                          0.71                  0.83  \n...                         ...                   ...  \n22539                      0.00                  0.00  \n22540                      0.00                  0.00  \n22541                      0.07                  0.07  \n22542                      0.00                  0.00  \n22543                      1.00                  0.44  \n\n[22544 rows x 17 columns]",
      "text/html": "<div>\n<style scoped>\n    .dataframe tbody tr th:only-of-type {\n        vertical-align: middle;\n    }\n\n    .dataframe tbody tr th {\n        vertical-align: top;\n    }\n\n    .dataframe thead th {\n        text-align: right;\n    }\n</style>\n<table border=\"1\" class=\"dataframe\">\n  <thead>\n    <tr style=\"text-align: right;\">\n      <th></th>\n      <th>logged_in</th>\n      <th>count</th>\n      <th>serror_rate</th>\n      <th>rerror_rate</th>\n      <th>srv_rerror_rate</th>\n      <th>same_srv_rate</th>\n      <th>diff_srv_rate</th>\n      <th>srv_diff_host_rate</th>\n      <th>dst_host_srv_count</th>\n      <th>dst_host_same_srv_rate</th>\n      <th>dst_host_diff_srv_rate</th>\n      <th>dst_host_same_src_port_rate</th>\n      <th>dst_host_srv_diff_host_rate</th>\n      <th>dst_host_serror_rate</th>\n      <th>dst_host_srv_serror_rate</th>\n      <th>dst_host_srv_rerror_rate</th>\n      <th>dst_host_rerror_rate</th>\n    </tr>\n  </thead>\n  <tbody>\n    <tr>\n      <th>0</th>\n      <td>0.0</td>\n      <td>0.448141</td>\n      <td>0.0</td>\n      <td>1.0</td>\n      <td>1.0</td>\n      <td>0.04</td>\n      <td>0.06</td>\n      <td>0.00</td>\n      <td>0.039216</td>\n      <td>0.04</td>\n      <td>0.06</td>\n      <td>0.00</td>\n      <td>0.00</td>\n      <td>0.00</td>\n      <td>0.0</td>\n      <td>1.00</td>\n      <td>1.00</td>\n    </tr>\n    <tr>\n      <th>1</th>\n      <td>0.0</td>\n      <td>0.266145</td>\n      <td>0.0</td>\n      <td>1.0</td>\n      <td>1.0</td>\n      <td>0.01</td>\n      <td>0.06</td>\n      <td>0.00</td>\n      <td>0.003922</td>\n      <td>0.00</td>\n      <td>0.06</td>\n      <td>0.00</td>\n      <td>0.00</td>\n      <td>0.00</td>\n      <td>0.0</td>\n      <td>1.00</td>\n      <td>1.00</td>\n    </tr>\n    <tr>\n      <th>2</th>\n      <td>0.0</td>\n      <td>0.001957</td>\n      <td>0.0</td>\n      <td>0.0</td>\n      <td>0.0</td>\n      <td>1.00</td>\n      <td>0.00</td>\n      <td>0.00</td>\n      <td>0.337255</td>\n      <td>0.61</td>\n      <td>0.04</td>\n      <td>0.61</td>\n      <td>0.02</td>\n      <td>0.00</td>\n      <td>0.0</td>\n      <td>0.00</td>\n      <td>0.00</td>\n    </tr>\n    <tr>\n      <th>3</th>\n      <td>0.0</td>\n      <td>0.001957</td>\n      <td>0.0</td>\n      <td>0.0</td>\n      <td>0.0</td>\n      <td>1.00</td>\n      <td>0.00</td>\n      <td>1.00</td>\n      <td>0.223529</td>\n      <td>1.00</td>\n      <td>0.00</td>\n      <td>1.00</td>\n      <td>0.28</td>\n      <td>0.00</td>\n      <td>0.0</td>\n      <td>0.00</td>\n      <td>0.00</td>\n    </tr>\n    <tr>\n      <th>4</th>\n      <td>0.0</td>\n      <td>0.001957</td>\n      <td>0.0</td>\n      <td>1.0</td>\n      <td>0.5</td>\n      <td>1.00</td>\n      <td>0.00</td>\n      <td>0.75</td>\n      <td>0.337255</td>\n      <td>0.31</td>\n      <td>0.17</td>\n      <td>0.03</td>\n      <td>0.02</td>\n      <td>0.00</td>\n      <td>0.0</td>\n      <td>0.71</td>\n      <td>0.83</td>\n    </tr>\n    <tr>\n      <th>...</th>\n      <td>...</td>\n      <td>...</td>\n      <td>...</td>\n      <td>...</td>\n      <td>...</td>\n      <td>...</td>\n      <td>...</td>\n      <td>...</td>\n      <td>...</td>\n      <td>...</td>\n      <td>...</td>\n      <td>...</td>\n      <td>...</td>\n      <td>...</td>\n      <td>...</td>\n      <td>...</td>\n      <td>...</td>\n    </tr>\n    <tr>\n      <th>22539</th>\n      <td>1.0</td>\n      <td>0.001957</td>\n      <td>0.0</td>\n      <td>0.0</td>\n      <td>0.0</td>\n      <td>1.00</td>\n      <td>0.00</td>\n      <td>0.00</td>\n      <td>0.552941</td>\n      <td>0.72</td>\n      <td>0.06</td>\n      <td>0.01</td>\n      <td>0.01</td>\n      <td>0.01</td>\n      <td>0.0</td>\n      <td>0.00</td>\n      <td>0.00</td>\n    </tr>\n    <tr>\n      <th>22540</th>\n      <td>1.0</td>\n      <td>0.003914</td>\n      <td>0.0</td>\n      <td>0.0</td>\n      <td>0.0</td>\n      <td>1.00</td>\n      <td>0.00</td>\n      <td>0.18</td>\n      <td>1.000000</td>\n      <td>1.00</td>\n      <td>0.00</td>\n      <td>0.01</td>\n      <td>0.01</td>\n      <td>0.01</td>\n      <td>0.0</td>\n      <td>0.00</td>\n      <td>0.00</td>\n    </tr>\n    <tr>\n      <th>22541</th>\n      <td>1.0</td>\n      <td>0.009785</td>\n      <td>0.0</td>\n      <td>0.0</td>\n      <td>0.0</td>\n      <td>1.00</td>\n      <td>0.00</td>\n      <td>0.20</td>\n      <td>1.000000</td>\n      <td>1.00</td>\n      <td>0.00</td>\n      <td>0.00</td>\n      <td>0.00</td>\n      <td>0.00</td>\n      <td>0.0</td>\n      <td>0.07</td>\n      <td>0.07</td>\n    </tr>\n    <tr>\n      <th>22542</th>\n      <td>0.0</td>\n      <td>0.007828</td>\n      <td>0.0</td>\n      <td>0.0</td>\n      <td>0.0</td>\n      <td>1.00</td>\n      <td>0.00</td>\n      <td>0.33</td>\n      <td>0.988235</td>\n      <td>0.99</td>\n      <td>0.01</td>\n      <td>0.00</td>\n      <td>0.00</td>\n      <td>0.00</td>\n      <td>0.0</td>\n      <td>0.00</td>\n      <td>0.00</td>\n    </tr>\n    <tr>\n      <th>22543</th>\n      <td>0.0</td>\n      <td>0.007828</td>\n      <td>0.0</td>\n      <td>1.0</td>\n      <td>1.0</td>\n      <td>0.25</td>\n      <td>1.00</td>\n      <td>1.00</td>\n      <td>0.082353</td>\n      <td>0.08</td>\n      <td>0.03</td>\n      <td>0.00</td>\n      <td>0.00</td>\n      <td>0.00</td>\n      <td>0.0</td>\n      <td>1.00</td>\n      <td>0.44</td>\n    </tr>\n  </tbody>\n</table>\n<p>22544 rows × 17 columns</p>\n</div>"
     },
     "execution_count": 41,
     "metadata": {},
     "output_type": "execute_result"
    }
   ],
   "source": [
    "df_minmax = scaler1.transform(X_test)\n",
    "X_test = pd.DataFrame(df_minmax, columns=X_test.columns)\n",
    "X_test"
   ]
  },
  {
   "cell_type": "code",
   "execution_count": 42,
   "metadata": {
    "ExecuteTime": {
     "end_time": "2023-10-19T14:21:45.046233700Z",
     "start_time": "2023-10-19T14:21:44.885444700Z"
    }
   },
   "outputs": [
    {
     "data": {
      "text/plain": "       logged_in     count  serror_rate  rerror_rate  srv_rerror_rate  \\\n0            0.0  0.448141          0.0          1.0              1.0   \n1            0.0  0.266145          0.0          1.0              1.0   \n2            0.0  0.001957          0.0          0.0              0.0   \n3            0.0  0.001957          0.0          0.0              0.0   \n4            0.0  0.001957          0.0          1.0              0.5   \n...          ...       ...          ...          ...              ...   \n22539        1.0  0.001957          0.0          0.0              0.0   \n22540        1.0  0.003914          0.0          0.0              0.0   \n22541        1.0  0.009785          0.0          0.0              0.0   \n22542        0.0  0.007828          0.0          0.0              0.0   \n22543        0.0  0.007828          0.0          1.0              1.0   \n\n       same_srv_rate  diff_srv_rate  srv_diff_host_rate  dst_host_srv_count  \\\n0               0.04           0.06                0.00            0.039216   \n1               0.01           0.06                0.00            0.003922   \n2               1.00           0.00                0.00            0.337255   \n3               1.00           0.00                1.00            0.223529   \n4               1.00           0.00                0.75            0.337255   \n...              ...            ...                 ...                 ...   \n22539           1.00           0.00                0.00            0.552941   \n22540           1.00           0.00                0.18            1.000000   \n22541           1.00           0.00                0.20            1.000000   \n22542           1.00           0.00                0.33            0.988235   \n22543           0.25           1.00                1.00            0.082353   \n\n       dst_host_same_srv_rate  ...  flag_REJ  flag_RSTO  flag_RSTOS0  \\\n0                        0.04  ...       1.0        0.0          0.0   \n1                        0.00  ...       1.0        0.0          0.0   \n2                        0.61  ...       0.0        0.0          0.0   \n3                        1.00  ...       0.0        0.0          0.0   \n4                        0.31  ...       0.0        1.0          0.0   \n...                       ...  ...       ...        ...          ...   \n22539                    0.72  ...       0.0        0.0          0.0   \n22540                    1.00  ...       0.0        0.0          0.0   \n22541                    1.00  ...       0.0        0.0          0.0   \n22542                    0.99  ...       0.0        0.0          0.0   \n22543                    0.08  ...       1.0        0.0          0.0   \n\n       flag_RSTR  flag_S0  flag_S1  flag_S2  flag_S3  flag_SF  flag_SH  \n0            0.0      0.0      0.0      0.0      0.0      0.0      0.0  \n1            0.0      0.0      0.0      0.0      0.0      0.0      0.0  \n2            0.0      0.0      0.0      0.0      0.0      1.0      0.0  \n3            0.0      0.0      0.0      0.0      0.0      1.0      0.0  \n4            0.0      0.0      0.0      0.0      0.0      0.0      0.0  \n...          ...      ...      ...      ...      ...      ...      ...  \n22539        0.0      0.0      0.0      0.0      0.0      1.0      0.0  \n22540        0.0      0.0      0.0      0.0      0.0      1.0      0.0  \n22541        0.0      0.0      0.0      0.0      0.0      1.0      0.0  \n22542        0.0      0.0      0.0      0.0      0.0      1.0      0.0  \n22543        0.0      0.0      0.0      0.0      0.0      0.0      0.0  \n\n[22544 rows x 101 columns]",
      "text/html": "<div>\n<style scoped>\n    .dataframe tbody tr th:only-of-type {\n        vertical-align: middle;\n    }\n\n    .dataframe tbody tr th {\n        vertical-align: top;\n    }\n\n    .dataframe thead th {\n        text-align: right;\n    }\n</style>\n<table border=\"1\" class=\"dataframe\">\n  <thead>\n    <tr style=\"text-align: right;\">\n      <th></th>\n      <th>logged_in</th>\n      <th>count</th>\n      <th>serror_rate</th>\n      <th>rerror_rate</th>\n      <th>srv_rerror_rate</th>\n      <th>same_srv_rate</th>\n      <th>diff_srv_rate</th>\n      <th>srv_diff_host_rate</th>\n      <th>dst_host_srv_count</th>\n      <th>dst_host_same_srv_rate</th>\n      <th>...</th>\n      <th>flag_REJ</th>\n      <th>flag_RSTO</th>\n      <th>flag_RSTOS0</th>\n      <th>flag_RSTR</th>\n      <th>flag_S0</th>\n      <th>flag_S1</th>\n      <th>flag_S2</th>\n      <th>flag_S3</th>\n      <th>flag_SF</th>\n      <th>flag_SH</th>\n    </tr>\n  </thead>\n  <tbody>\n    <tr>\n      <th>0</th>\n      <td>0.0</td>\n      <td>0.448141</td>\n      <td>0.0</td>\n      <td>1.0</td>\n      <td>1.0</td>\n      <td>0.04</td>\n      <td>0.06</td>\n      <td>0.00</td>\n      <td>0.039216</td>\n      <td>0.04</td>\n      <td>...</td>\n      <td>1.0</td>\n      <td>0.0</td>\n      <td>0.0</td>\n      <td>0.0</td>\n      <td>0.0</td>\n      <td>0.0</td>\n      <td>0.0</td>\n      <td>0.0</td>\n      <td>0.0</td>\n      <td>0.0</td>\n    </tr>\n    <tr>\n      <th>1</th>\n      <td>0.0</td>\n      <td>0.266145</td>\n      <td>0.0</td>\n      <td>1.0</td>\n      <td>1.0</td>\n      <td>0.01</td>\n      <td>0.06</td>\n      <td>0.00</td>\n      <td>0.003922</td>\n      <td>0.00</td>\n      <td>...</td>\n      <td>1.0</td>\n      <td>0.0</td>\n      <td>0.0</td>\n      <td>0.0</td>\n      <td>0.0</td>\n      <td>0.0</td>\n      <td>0.0</td>\n      <td>0.0</td>\n      <td>0.0</td>\n      <td>0.0</td>\n    </tr>\n    <tr>\n      <th>2</th>\n      <td>0.0</td>\n      <td>0.001957</td>\n      <td>0.0</td>\n      <td>0.0</td>\n      <td>0.0</td>\n      <td>1.00</td>\n      <td>0.00</td>\n      <td>0.00</td>\n      <td>0.337255</td>\n      <td>0.61</td>\n      <td>...</td>\n      <td>0.0</td>\n      <td>0.0</td>\n      <td>0.0</td>\n      <td>0.0</td>\n      <td>0.0</td>\n      <td>0.0</td>\n      <td>0.0</td>\n      <td>0.0</td>\n      <td>1.0</td>\n      <td>0.0</td>\n    </tr>\n    <tr>\n      <th>3</th>\n      <td>0.0</td>\n      <td>0.001957</td>\n      <td>0.0</td>\n      <td>0.0</td>\n      <td>0.0</td>\n      <td>1.00</td>\n      <td>0.00</td>\n      <td>1.00</td>\n      <td>0.223529</td>\n      <td>1.00</td>\n      <td>...</td>\n      <td>0.0</td>\n      <td>0.0</td>\n      <td>0.0</td>\n      <td>0.0</td>\n      <td>0.0</td>\n      <td>0.0</td>\n      <td>0.0</td>\n      <td>0.0</td>\n      <td>1.0</td>\n      <td>0.0</td>\n    </tr>\n    <tr>\n      <th>4</th>\n      <td>0.0</td>\n      <td>0.001957</td>\n      <td>0.0</td>\n      <td>1.0</td>\n      <td>0.5</td>\n      <td>1.00</td>\n      <td>0.00</td>\n      <td>0.75</td>\n      <td>0.337255</td>\n      <td>0.31</td>\n      <td>...</td>\n      <td>0.0</td>\n      <td>1.0</td>\n      <td>0.0</td>\n      <td>0.0</td>\n      <td>0.0</td>\n      <td>0.0</td>\n      <td>0.0</td>\n      <td>0.0</td>\n      <td>0.0</td>\n      <td>0.0</td>\n    </tr>\n    <tr>\n      <th>...</th>\n      <td>...</td>\n      <td>...</td>\n      <td>...</td>\n      <td>...</td>\n      <td>...</td>\n      <td>...</td>\n      <td>...</td>\n      <td>...</td>\n      <td>...</td>\n      <td>...</td>\n      <td>...</td>\n      <td>...</td>\n      <td>...</td>\n      <td>...</td>\n      <td>...</td>\n      <td>...</td>\n      <td>...</td>\n      <td>...</td>\n      <td>...</td>\n      <td>...</td>\n      <td>...</td>\n    </tr>\n    <tr>\n      <th>22539</th>\n      <td>1.0</td>\n      <td>0.001957</td>\n      <td>0.0</td>\n      <td>0.0</td>\n      <td>0.0</td>\n      <td>1.00</td>\n      <td>0.00</td>\n      <td>0.00</td>\n      <td>0.552941</td>\n      <td>0.72</td>\n      <td>...</td>\n      <td>0.0</td>\n      <td>0.0</td>\n      <td>0.0</td>\n      <td>0.0</td>\n      <td>0.0</td>\n      <td>0.0</td>\n      <td>0.0</td>\n      <td>0.0</td>\n      <td>1.0</td>\n      <td>0.0</td>\n    </tr>\n    <tr>\n      <th>22540</th>\n      <td>1.0</td>\n      <td>0.003914</td>\n      <td>0.0</td>\n      <td>0.0</td>\n      <td>0.0</td>\n      <td>1.00</td>\n      <td>0.00</td>\n      <td>0.18</td>\n      <td>1.000000</td>\n      <td>1.00</td>\n      <td>...</td>\n      <td>0.0</td>\n      <td>0.0</td>\n      <td>0.0</td>\n      <td>0.0</td>\n      <td>0.0</td>\n      <td>0.0</td>\n      <td>0.0</td>\n      <td>0.0</td>\n      <td>1.0</td>\n      <td>0.0</td>\n    </tr>\n    <tr>\n      <th>22541</th>\n      <td>1.0</td>\n      <td>0.009785</td>\n      <td>0.0</td>\n      <td>0.0</td>\n      <td>0.0</td>\n      <td>1.00</td>\n      <td>0.00</td>\n      <td>0.20</td>\n      <td>1.000000</td>\n      <td>1.00</td>\n      <td>...</td>\n      <td>0.0</td>\n      <td>0.0</td>\n      <td>0.0</td>\n      <td>0.0</td>\n      <td>0.0</td>\n      <td>0.0</td>\n      <td>0.0</td>\n      <td>0.0</td>\n      <td>1.0</td>\n      <td>0.0</td>\n    </tr>\n    <tr>\n      <th>22542</th>\n      <td>0.0</td>\n      <td>0.007828</td>\n      <td>0.0</td>\n      <td>0.0</td>\n      <td>0.0</td>\n      <td>1.00</td>\n      <td>0.00</td>\n      <td>0.33</td>\n      <td>0.988235</td>\n      <td>0.99</td>\n      <td>...</td>\n      <td>0.0</td>\n      <td>0.0</td>\n      <td>0.0</td>\n      <td>0.0</td>\n      <td>0.0</td>\n      <td>0.0</td>\n      <td>0.0</td>\n      <td>0.0</td>\n      <td>1.0</td>\n      <td>0.0</td>\n    </tr>\n    <tr>\n      <th>22543</th>\n      <td>0.0</td>\n      <td>0.007828</td>\n      <td>0.0</td>\n      <td>1.0</td>\n      <td>1.0</td>\n      <td>0.25</td>\n      <td>1.00</td>\n      <td>1.00</td>\n      <td>0.082353</td>\n      <td>0.08</td>\n      <td>...</td>\n      <td>1.0</td>\n      <td>0.0</td>\n      <td>0.0</td>\n      <td>0.0</td>\n      <td>0.0</td>\n      <td>0.0</td>\n      <td>0.0</td>\n      <td>0.0</td>\n      <td>0.0</td>\n      <td>0.0</td>\n    </tr>\n  </tbody>\n</table>\n<p>22544 rows × 101 columns</p>\n</div>"
     },
     "execution_count": 42,
     "metadata": {},
     "output_type": "execute_result"
    }
   ],
   "source": [
    "label_enc = ohe.transform(df_test.iloc[:,1:4])\n",
    "label_enc.toarray()\n",
    "new_labels = ohe.get_feature_names_out(categorical_features)\n",
    "df_enc = pd.DataFrame(data=label_enc.toarray(), columns=new_labels)\n",
    "X_test = pd.concat([X_test, df_enc], axis=1)\n",
    "X_test"
   ]
  },
  {
   "cell_type": "code",
   "execution_count": 43,
   "metadata": {
    "ExecuteTime": {
     "end_time": "2023-10-19T14:21:45.046233700Z",
     "start_time": "2023-10-19T14:21:44.932519700Z"
    }
   },
   "outputs": [
    {
     "name": "stdout",
     "output_type": "stream",
     "text": [
      "Shape of the whole train set:  (125973, 101)\n",
      "Shape of its targets:  (125973,)\n",
      "Shape of the whole test set:  (22544, 101)\n",
      "Shape of its targets:  (22544,)\n"
     ]
    }
   ],
   "source": [
    "print('Shape of the whole train set: ', X_train.shape)\n",
    "print('Shape of its targets: ', y_train.shape)\n",
    "print('Shape of the whole test set: ', X_test.shape)\n",
    "print('Shape of its targets: ', y_test.shape)"
   ]
  },
  {
   "cell_type": "code",
   "execution_count": 44,
   "outputs": [],
   "source": [
    "# Export the dataset for training layer 1\n",
    "if EXPORT_DATASETS:\n",
    "    X_train.to_csv('NSL-KDD Encoded Datasets/KDDTrain+_l1.txt', index=False)\n",
    "    np.save('NSL-KDD Encoded Datasets/KDDTrain+_l1_targets', y_train)"
   ],
   "metadata": {
    "collapsed": false,
    "ExecuteTime": {
     "end_time": "2023-10-19T14:21:45.046233700Z",
     "start_time": "2023-10-19T14:21:44.941029100Z"
    }
   }
  },
  {
   "cell_type": "markdown",
   "source": [
    "### Principal Component Analysis"
   ],
   "metadata": {
    "collapsed": false
   }
  },
  {
   "cell_type": "code",
   "execution_count": 45,
   "outputs": [],
   "source": [
    "pca_dos_probe = PCA(n_components=0.95)\n",
    "X_train_dos_probe = pca_dos_probe.fit_transform(X_train)\n",
    "X_test_dos_probe = pca_dos_probe.transform(X_test)"
   ],
   "metadata": {
    "collapsed": false,
    "ExecuteTime": {
     "end_time": "2023-10-19T14:21:47.122943300Z",
     "start_time": "2023-10-19T14:21:44.944448Z"
    }
   }
  },
  {
   "cell_type": "markdown",
   "source": [
    "### Building the classifier for the layer1"
   ],
   "metadata": {
    "collapsed": false
   }
  },
  {
   "cell_type": "code",
   "execution_count": 46,
   "outputs": [],
   "source": [
    "# Using Random Forest Classifier\n",
    "# dos_probe_classifier = RandomForestClassifier(n_estimators=100, criterion='gini')\n",
    "\n",
    "# Using the Naive Bayes Classifier\n",
    "dos_probe_classifier = GaussianNB()\n",
    "dos_probe_classifier.fit(X_train_dos_probe, y_train)\n",
    "predicted = dos_probe_classifier.predict(X_test_dos_probe)"
   ],
   "metadata": {
    "collapsed": false,
    "ExecuteTime": {
     "end_time": "2023-10-19T14:21:47.122943300Z",
     "start_time": "2023-10-19T14:21:46.951641900Z"
    }
   }
  },
  {
   "cell_type": "code",
   "execution_count": 47,
   "metadata": {
    "ExecuteTime": {
     "end_time": "2023-10-19T14:21:47.122943300Z",
     "start_time": "2023-10-19T14:21:47.054530700Z"
    }
   },
   "outputs": [
    {
     "name": "stdout",
     "output_type": "stream",
     "text": [
      "Metrics for layer 1:\n",
      "Confusion matrix: [TP FN / FP TN]\n",
      " [[9559 3104]\n",
      " [ 913 8968]]\n",
      "Accuracy =  0.8218151171043293\n",
      "F1 Score =  0.8170181751924567\n",
      "Precision =  0.7428760768721008\n",
      "Recall =  0.9076004452990588\n",
      "Shape of the train set for l1:  (125973, 28)\n"
     ]
    }
   ],
   "source": [
    "print('Metrics for layer 1:')\n",
    "print('Confusion matrix: [TP FN / FP TN]\\n', confusion_matrix(y_test,predicted))\n",
    "print('Accuracy = ', accuracy_score(y_test,predicted))\n",
    "print('F1 Score = ', f1_score(y_test,predicted))\n",
    "print('Precision = ', precision_score(y_test,predicted))\n",
    "print('Recall = ', recall_score(y_test,predicted))\n",
    "print('Shape of the train set for l1: ', X_train_dos_probe.shape)"
   ]
  },
  {
   "cell_type": "markdown",
   "metadata": {},
   "source": [
    "# R2L+U2R classifier"
   ]
  },
  {
   "cell_type": "code",
   "execution_count": 24,
   "metadata": {
    "ExecuteTime": {
     "end_time": "2023-10-19T14:21:41.613998900Z",
     "start_time": "2023-10-19T14:21:41.548765800Z"
    }
   },
   "outputs": [],
   "source": [
    "df_train = copy.deepcopy(df_train_original)\n",
    "df_test = copy.deepcopy(df_test_original)\n",
    "\n",
    "# load targeted attacks (Normal + r2l + u2r)\n",
    "df_train = df_train[df_train['label'].isin(normal_list+u2r_attacks+r2l_attacks)]\n",
    "\n",
    "y_train = np.array([0 if x=='normal' else 1 for x in df_train['label']])\n",
    "df_train = df_train.drop(['label'],axis=1)\n",
    "df_train = df_train.reset_index().drop(['index'], axis=1)\n",
    "# df_train"
   ]
  },
  {
   "cell_type": "code",
   "execution_count": 2230,
   "metadata": {
    "ExecuteTime": {
     "end_time": "2023-10-19T11:39:45.958684200Z",
     "start_time": "2023-10-19T11:39:45.882512800Z"
    }
   },
   "outputs": [],
   "source": [
    "X_train = df_train[common_features_l2] \n",
    "\n",
    "# X_train"
   ]
  },
  {
   "cell_type": "code",
   "execution_count": 2231,
   "metadata": {
    "ExecuteTime": {
     "end_time": "2023-10-19T11:39:45.958684200Z",
     "start_time": "2023-10-19T11:39:45.887754800Z"
    }
   },
   "outputs": [
    {
     "data": {
      "text/plain": "       srv_count  urgent  root_shell  hot  dst_host_srv_diff_host_rate  \\\n0       0.003914     0.0         0.0  0.0                         0.00   \n1       0.001957     0.0         0.0  0.0                         0.00   \n2       0.009785     0.0         0.0  0.0                         0.04   \n3       0.062622     0.0         0.0  0.0                         0.00   \n4       0.013699     0.0         0.0  0.0                         0.03   \n...          ...     ...         ...  ...                          ...   \n68385   0.001957     0.0         0.0  0.0                         1.00   \n68386   0.021526     0.0         0.0  0.0                         0.04   \n68387   0.003914     0.0         0.0  0.0                         0.00   \n68388   0.001957     0.0         0.0  0.0                         0.00   \n68389   0.001957     0.0         0.0  0.0                         0.00   \n\n       dst_host_count  logged_in  dst_host_same_src_port_rate  \\\n0            0.588235        0.0                         0.17   \n1            1.000000        0.0                         0.88   \n2            0.117647        1.0                         0.03   \n3            1.000000        1.0                         0.00   \n4            0.031373        1.0                         0.12   \n...               ...        ...                          ...   \n68385        0.003922        1.0                         1.00   \n68386        0.011765        1.0                         0.33   \n68387        1.000000        0.0                         0.01   \n68388        1.000000        1.0                         0.00   \n68389        1.000000        1.0                         0.30   \n\n       srv_diff_host_rate  num_shells  dst_host_srv_count  \n0                    0.00         0.0            0.098039  \n1                    0.00         0.0            0.003922  \n2                    0.00         0.0            1.000000  \n3                    0.09         0.0            1.000000  \n4                    0.43         0.0            0.858824  \n...                   ...         ...                 ...  \n68385                0.00         0.0            0.007843  \n68386                0.18         0.0            1.000000  \n68387                0.00         0.0            0.956863  \n68388                0.00         0.0            0.117647  \n68389                0.00         0.0            0.301961  \n\n[68390 rows x 11 columns]",
      "text/html": "<div>\n<style scoped>\n    .dataframe tbody tr th:only-of-type {\n        vertical-align: middle;\n    }\n\n    .dataframe tbody tr th {\n        vertical-align: top;\n    }\n\n    .dataframe thead th {\n        text-align: right;\n    }\n</style>\n<table border=\"1\" class=\"dataframe\">\n  <thead>\n    <tr style=\"text-align: right;\">\n      <th></th>\n      <th>srv_count</th>\n      <th>urgent</th>\n      <th>root_shell</th>\n      <th>hot</th>\n      <th>dst_host_srv_diff_host_rate</th>\n      <th>dst_host_count</th>\n      <th>logged_in</th>\n      <th>dst_host_same_src_port_rate</th>\n      <th>srv_diff_host_rate</th>\n      <th>num_shells</th>\n      <th>dst_host_srv_count</th>\n    </tr>\n  </thead>\n  <tbody>\n    <tr>\n      <th>0</th>\n      <td>0.003914</td>\n      <td>0.0</td>\n      <td>0.0</td>\n      <td>0.0</td>\n      <td>0.00</td>\n      <td>0.588235</td>\n      <td>0.0</td>\n      <td>0.17</td>\n      <td>0.00</td>\n      <td>0.0</td>\n      <td>0.098039</td>\n    </tr>\n    <tr>\n      <th>1</th>\n      <td>0.001957</td>\n      <td>0.0</td>\n      <td>0.0</td>\n      <td>0.0</td>\n      <td>0.00</td>\n      <td>1.000000</td>\n      <td>0.0</td>\n      <td>0.88</td>\n      <td>0.00</td>\n      <td>0.0</td>\n      <td>0.003922</td>\n    </tr>\n    <tr>\n      <th>2</th>\n      <td>0.009785</td>\n      <td>0.0</td>\n      <td>0.0</td>\n      <td>0.0</td>\n      <td>0.04</td>\n      <td>0.117647</td>\n      <td>1.0</td>\n      <td>0.03</td>\n      <td>0.00</td>\n      <td>0.0</td>\n      <td>1.000000</td>\n    </tr>\n    <tr>\n      <th>3</th>\n      <td>0.062622</td>\n      <td>0.0</td>\n      <td>0.0</td>\n      <td>0.0</td>\n      <td>0.00</td>\n      <td>1.000000</td>\n      <td>1.0</td>\n      <td>0.00</td>\n      <td>0.09</td>\n      <td>0.0</td>\n      <td>1.000000</td>\n    </tr>\n    <tr>\n      <th>4</th>\n      <td>0.013699</td>\n      <td>0.0</td>\n      <td>0.0</td>\n      <td>0.0</td>\n      <td>0.03</td>\n      <td>0.031373</td>\n      <td>1.0</td>\n      <td>0.12</td>\n      <td>0.43</td>\n      <td>0.0</td>\n      <td>0.858824</td>\n    </tr>\n    <tr>\n      <th>...</th>\n      <td>...</td>\n      <td>...</td>\n      <td>...</td>\n      <td>...</td>\n      <td>...</td>\n      <td>...</td>\n      <td>...</td>\n      <td>...</td>\n      <td>...</td>\n      <td>...</td>\n      <td>...</td>\n    </tr>\n    <tr>\n      <th>68385</th>\n      <td>0.001957</td>\n      <td>0.0</td>\n      <td>0.0</td>\n      <td>0.0</td>\n      <td>1.00</td>\n      <td>0.003922</td>\n      <td>1.0</td>\n      <td>1.00</td>\n      <td>0.00</td>\n      <td>0.0</td>\n      <td>0.007843</td>\n    </tr>\n    <tr>\n      <th>68386</th>\n      <td>0.021526</td>\n      <td>0.0</td>\n      <td>0.0</td>\n      <td>0.0</td>\n      <td>0.04</td>\n      <td>0.011765</td>\n      <td>1.0</td>\n      <td>0.33</td>\n      <td>0.18</td>\n      <td>0.0</td>\n      <td>1.000000</td>\n    </tr>\n    <tr>\n      <th>68387</th>\n      <td>0.003914</td>\n      <td>0.0</td>\n      <td>0.0</td>\n      <td>0.0</td>\n      <td>0.00</td>\n      <td>1.000000</td>\n      <td>0.0</td>\n      <td>0.01</td>\n      <td>0.00</td>\n      <td>0.0</td>\n      <td>0.956863</td>\n    </tr>\n    <tr>\n      <th>68388</th>\n      <td>0.001957</td>\n      <td>0.0</td>\n      <td>0.0</td>\n      <td>0.0</td>\n      <td>0.00</td>\n      <td>1.000000</td>\n      <td>1.0</td>\n      <td>0.00</td>\n      <td>0.00</td>\n      <td>0.0</td>\n      <td>0.117647</td>\n    </tr>\n    <tr>\n      <th>68389</th>\n      <td>0.001957</td>\n      <td>0.0</td>\n      <td>0.0</td>\n      <td>0.0</td>\n      <td>0.00</td>\n      <td>1.000000</td>\n      <td>1.0</td>\n      <td>0.30</td>\n      <td>0.00</td>\n      <td>0.0</td>\n      <td>0.301961</td>\n    </tr>\n  </tbody>\n</table>\n<p>68390 rows × 11 columns</p>\n</div>"
     },
     "execution_count": 2231,
     "metadata": {},
     "output_type": "execute_result"
    }
   ],
   "source": [
    "df_minmax = scaler2.fit_transform(X_train)\n",
    "X_train = pd.DataFrame(df_minmax, columns=X_train.columns)\n",
    "X_train"
   ]
  },
  {
   "cell_type": "code",
   "execution_count": 2232,
   "metadata": {
    "ExecuteTime": {
     "end_time": "2023-10-19T11:39:46.164408800Z",
     "start_time": "2023-10-19T11:39:45.927059700Z"
    }
   },
   "outputs": [
    {
     "data": {
      "text/plain": "       srv_count  urgent  root_shell  hot  dst_host_srv_diff_host_rate  \\\n0       0.003914     0.0         0.0  0.0                         0.00   \n1       0.001957     0.0         0.0  0.0                         0.00   \n2       0.009785     0.0         0.0  0.0                         0.04   \n3       0.062622     0.0         0.0  0.0                         0.00   \n4       0.013699     0.0         0.0  0.0                         0.03   \n...          ...     ...         ...  ...                          ...   \n68385   0.001957     0.0         0.0  0.0                         1.00   \n68386   0.021526     0.0         0.0  0.0                         0.04   \n68387   0.003914     0.0         0.0  0.0                         0.00   \n68388   0.001957     0.0         0.0  0.0                         0.00   \n68389   0.001957     0.0         0.0  0.0                         0.00   \n\n       dst_host_count  logged_in  dst_host_same_src_port_rate  \\\n0            0.588235        0.0                         0.17   \n1            1.000000        0.0                         0.88   \n2            0.117647        1.0                         0.03   \n3            1.000000        1.0                         0.00   \n4            0.031373        1.0                         0.12   \n...               ...        ...                          ...   \n68385        0.003922        1.0                         1.00   \n68386        0.011765        1.0                         0.33   \n68387        1.000000        0.0                         0.01   \n68388        1.000000        1.0                         0.00   \n68389        1.000000        1.0                         0.30   \n\n       srv_diff_host_rate  num_shells  ...  flag_OTH  flag_REJ  flag_RSTO  \\\n0                    0.00         0.0  ...       0.0       0.0        0.0   \n1                    0.00         0.0  ...       0.0       0.0        0.0   \n2                    0.00         0.0  ...       0.0       0.0        0.0   \n3                    0.09         0.0  ...       0.0       0.0        0.0   \n4                    0.43         0.0  ...       0.0       0.0        0.0   \n...                   ...         ...  ...       ...       ...        ...   \n68385                0.00         0.0  ...       0.0       0.0        0.0   \n68386                0.18         0.0  ...       0.0       0.0        0.0   \n68387                0.00         0.0  ...       0.0       0.0        0.0   \n68388                0.00         0.0  ...       0.0       0.0        0.0   \n68389                0.00         0.0  ...       0.0       0.0        0.0   \n\n       flag_RSTR  flag_S0  flag_S1  flag_S2  flag_S3  flag_SF  flag_SH  \n0            0.0      0.0      0.0      0.0      0.0      1.0      0.0  \n1            0.0      0.0      0.0      0.0      0.0      1.0      0.0  \n2            0.0      0.0      0.0      0.0      0.0      1.0      0.0  \n3            0.0      0.0      0.0      0.0      0.0      1.0      0.0  \n4            0.0      0.0      0.0      0.0      0.0      1.0      0.0  \n...          ...      ...      ...      ...      ...      ...      ...  \n68385        0.0      0.0      0.0      0.0      0.0      1.0      0.0  \n68386        0.0      0.0      0.0      0.0      0.0      1.0      0.0  \n68387        0.0      0.0      0.0      0.0      0.0      1.0      0.0  \n68388        0.0      0.0      0.0      0.0      0.0      1.0      0.0  \n68389        0.0      0.0      0.0      0.0      0.0      1.0      0.0  \n\n[68390 rows x 51 columns]",
      "text/html": "<div>\n<style scoped>\n    .dataframe tbody tr th:only-of-type {\n        vertical-align: middle;\n    }\n\n    .dataframe tbody tr th {\n        vertical-align: top;\n    }\n\n    .dataframe thead th {\n        text-align: right;\n    }\n</style>\n<table border=\"1\" class=\"dataframe\">\n  <thead>\n    <tr style=\"text-align: right;\">\n      <th></th>\n      <th>srv_count</th>\n      <th>urgent</th>\n      <th>root_shell</th>\n      <th>hot</th>\n      <th>dst_host_srv_diff_host_rate</th>\n      <th>dst_host_count</th>\n      <th>logged_in</th>\n      <th>dst_host_same_src_port_rate</th>\n      <th>srv_diff_host_rate</th>\n      <th>num_shells</th>\n      <th>...</th>\n      <th>flag_OTH</th>\n      <th>flag_REJ</th>\n      <th>flag_RSTO</th>\n      <th>flag_RSTR</th>\n      <th>flag_S0</th>\n      <th>flag_S1</th>\n      <th>flag_S2</th>\n      <th>flag_S3</th>\n      <th>flag_SF</th>\n      <th>flag_SH</th>\n    </tr>\n  </thead>\n  <tbody>\n    <tr>\n      <th>0</th>\n      <td>0.003914</td>\n      <td>0.0</td>\n      <td>0.0</td>\n      <td>0.0</td>\n      <td>0.00</td>\n      <td>0.588235</td>\n      <td>0.0</td>\n      <td>0.17</td>\n      <td>0.00</td>\n      <td>0.0</td>\n      <td>...</td>\n      <td>0.0</td>\n      <td>0.0</td>\n      <td>0.0</td>\n      <td>0.0</td>\n      <td>0.0</td>\n      <td>0.0</td>\n      <td>0.0</td>\n      <td>0.0</td>\n      <td>1.0</td>\n      <td>0.0</td>\n    </tr>\n    <tr>\n      <th>1</th>\n      <td>0.001957</td>\n      <td>0.0</td>\n      <td>0.0</td>\n      <td>0.0</td>\n      <td>0.00</td>\n      <td>1.000000</td>\n      <td>0.0</td>\n      <td>0.88</td>\n      <td>0.00</td>\n      <td>0.0</td>\n      <td>...</td>\n      <td>0.0</td>\n      <td>0.0</td>\n      <td>0.0</td>\n      <td>0.0</td>\n      <td>0.0</td>\n      <td>0.0</td>\n      <td>0.0</td>\n      <td>0.0</td>\n      <td>1.0</td>\n      <td>0.0</td>\n    </tr>\n    <tr>\n      <th>2</th>\n      <td>0.009785</td>\n      <td>0.0</td>\n      <td>0.0</td>\n      <td>0.0</td>\n      <td>0.04</td>\n      <td>0.117647</td>\n      <td>1.0</td>\n      <td>0.03</td>\n      <td>0.00</td>\n      <td>0.0</td>\n      <td>...</td>\n      <td>0.0</td>\n      <td>0.0</td>\n      <td>0.0</td>\n      <td>0.0</td>\n      <td>0.0</td>\n      <td>0.0</td>\n      <td>0.0</td>\n      <td>0.0</td>\n      <td>1.0</td>\n      <td>0.0</td>\n    </tr>\n    <tr>\n      <th>3</th>\n      <td>0.062622</td>\n      <td>0.0</td>\n      <td>0.0</td>\n      <td>0.0</td>\n      <td>0.00</td>\n      <td>1.000000</td>\n      <td>1.0</td>\n      <td>0.00</td>\n      <td>0.09</td>\n      <td>0.0</td>\n      <td>...</td>\n      <td>0.0</td>\n      <td>0.0</td>\n      <td>0.0</td>\n      <td>0.0</td>\n      <td>0.0</td>\n      <td>0.0</td>\n      <td>0.0</td>\n      <td>0.0</td>\n      <td>1.0</td>\n      <td>0.0</td>\n    </tr>\n    <tr>\n      <th>4</th>\n      <td>0.013699</td>\n      <td>0.0</td>\n      <td>0.0</td>\n      <td>0.0</td>\n      <td>0.03</td>\n      <td>0.031373</td>\n      <td>1.0</td>\n      <td>0.12</td>\n      <td>0.43</td>\n      <td>0.0</td>\n      <td>...</td>\n      <td>0.0</td>\n      <td>0.0</td>\n      <td>0.0</td>\n      <td>0.0</td>\n      <td>0.0</td>\n      <td>0.0</td>\n      <td>0.0</td>\n      <td>0.0</td>\n      <td>1.0</td>\n      <td>0.0</td>\n    </tr>\n    <tr>\n      <th>...</th>\n      <td>...</td>\n      <td>...</td>\n      <td>...</td>\n      <td>...</td>\n      <td>...</td>\n      <td>...</td>\n      <td>...</td>\n      <td>...</td>\n      <td>...</td>\n      <td>...</td>\n      <td>...</td>\n      <td>...</td>\n      <td>...</td>\n      <td>...</td>\n      <td>...</td>\n      <td>...</td>\n      <td>...</td>\n      <td>...</td>\n      <td>...</td>\n      <td>...</td>\n      <td>...</td>\n    </tr>\n    <tr>\n      <th>68385</th>\n      <td>0.001957</td>\n      <td>0.0</td>\n      <td>0.0</td>\n      <td>0.0</td>\n      <td>1.00</td>\n      <td>0.003922</td>\n      <td>1.0</td>\n      <td>1.00</td>\n      <td>0.00</td>\n      <td>0.0</td>\n      <td>...</td>\n      <td>0.0</td>\n      <td>0.0</td>\n      <td>0.0</td>\n      <td>0.0</td>\n      <td>0.0</td>\n      <td>0.0</td>\n      <td>0.0</td>\n      <td>0.0</td>\n      <td>1.0</td>\n      <td>0.0</td>\n    </tr>\n    <tr>\n      <th>68386</th>\n      <td>0.021526</td>\n      <td>0.0</td>\n      <td>0.0</td>\n      <td>0.0</td>\n      <td>0.04</td>\n      <td>0.011765</td>\n      <td>1.0</td>\n      <td>0.33</td>\n      <td>0.18</td>\n      <td>0.0</td>\n      <td>...</td>\n      <td>0.0</td>\n      <td>0.0</td>\n      <td>0.0</td>\n      <td>0.0</td>\n      <td>0.0</td>\n      <td>0.0</td>\n      <td>0.0</td>\n      <td>0.0</td>\n      <td>1.0</td>\n      <td>0.0</td>\n    </tr>\n    <tr>\n      <th>68387</th>\n      <td>0.003914</td>\n      <td>0.0</td>\n      <td>0.0</td>\n      <td>0.0</td>\n      <td>0.00</td>\n      <td>1.000000</td>\n      <td>0.0</td>\n      <td>0.01</td>\n      <td>0.00</td>\n      <td>0.0</td>\n      <td>...</td>\n      <td>0.0</td>\n      <td>0.0</td>\n      <td>0.0</td>\n      <td>0.0</td>\n      <td>0.0</td>\n      <td>0.0</td>\n      <td>0.0</td>\n      <td>0.0</td>\n      <td>1.0</td>\n      <td>0.0</td>\n    </tr>\n    <tr>\n      <th>68388</th>\n      <td>0.001957</td>\n      <td>0.0</td>\n      <td>0.0</td>\n      <td>0.0</td>\n      <td>0.00</td>\n      <td>1.000000</td>\n      <td>1.0</td>\n      <td>0.00</td>\n      <td>0.00</td>\n      <td>0.0</td>\n      <td>...</td>\n      <td>0.0</td>\n      <td>0.0</td>\n      <td>0.0</td>\n      <td>0.0</td>\n      <td>0.0</td>\n      <td>0.0</td>\n      <td>0.0</td>\n      <td>0.0</td>\n      <td>1.0</td>\n      <td>0.0</td>\n    </tr>\n    <tr>\n      <th>68389</th>\n      <td>0.001957</td>\n      <td>0.0</td>\n      <td>0.0</td>\n      <td>0.0</td>\n      <td>0.00</td>\n      <td>1.000000</td>\n      <td>1.0</td>\n      <td>0.30</td>\n      <td>0.00</td>\n      <td>0.0</td>\n      <td>...</td>\n      <td>0.0</td>\n      <td>0.0</td>\n      <td>0.0</td>\n      <td>0.0</td>\n      <td>0.0</td>\n      <td>0.0</td>\n      <td>0.0</td>\n      <td>0.0</td>\n      <td>1.0</td>\n      <td>0.0</td>\n    </tr>\n  </tbody>\n</table>\n<p>68390 rows × 51 columns</p>\n</div>"
     },
     "execution_count": 2232,
     "metadata": {},
     "output_type": "execute_result"
    }
   ],
   "source": [
    "# perform One-hot encoding\n",
    "label_enc = ohe2.fit_transform(df_train.iloc[:,1:4])\n",
    "label_enc.toarray()\n",
    "new_labels = ohe2.get_feature_names_out(categorical_features)\n",
    "df_enc = pd.DataFrame(data=label_enc.toarray(), columns=new_labels)\n",
    "X_train = pd.concat([X_train, df_enc], axis=1)\n",
    "X_train"
   ]
  },
  {
   "cell_type": "code",
   "execution_count": 2233,
   "metadata": {
    "ExecuteTime": {
     "end_time": "2023-10-19T11:39:46.164408800Z",
     "start_time": "2023-10-19T11:39:46.056787200Z"
    }
   },
   "outputs": [],
   "source": [
    "# do the same for test set\n",
    "df_test = df_test[df_test['label'].isin(normal_list+u2r_attacks+r2l_attacks)]\n",
    "\n",
    "y_test = np.array([0 if x=='normal' else 1 for x in df_test['label']])\n",
    "df_test = df_test.drop(['label'],axis=1)\n",
    "df_test = df_test.reset_index().drop(['index'], axis=1)\n",
    "# df_test"
   ]
  },
  {
   "cell_type": "code",
   "execution_count": 2234,
   "metadata": {
    "ExecuteTime": {
     "end_time": "2023-10-19T11:39:46.166805800Z",
     "start_time": "2023-10-19T11:39:46.082880300Z"
    }
   },
   "outputs": [],
   "source": [
    "X_test = df_test[common_features_l2] \n",
    "\n",
    "# X_test"
   ]
  },
  {
   "cell_type": "code",
   "execution_count": 2235,
   "metadata": {
    "ExecuteTime": {
     "end_time": "2023-10-19T11:39:46.167031100Z",
     "start_time": "2023-10-19T11:39:46.114440700Z"
    }
   },
   "outputs": [
    {
     "data": {
      "text/plain": "       srv_count  urgent  root_shell  hot  dst_host_srv_diff_host_rate  \\\n0       0.001957     0.0         0.0  0.0                         0.02   \n1       0.007828     0.0         0.0  0.0                         0.03   \n2       0.005871     0.0         0.0  0.0                         0.00   \n3       0.001957     0.0         0.0  0.0                         0.00   \n4       0.091977     0.0         0.0  0.0                         0.03   \n...          ...     ...         ...  ...                          ...   \n12658   0.001957     0.0         0.0  0.0                         0.04   \n12659   0.005871     0.0         0.0  0.0                         0.04   \n12660   0.001957     0.0         0.0  0.0                         0.01   \n12661   0.021526     0.0         0.0  0.0                         0.01   \n12662   0.011742     0.0         0.0  0.0                         0.00   \n\n       dst_host_count  logged_in  dst_host_same_src_port_rate  \\\n0            0.525490        0.0                         0.61   \n1            0.607843        1.0                         0.01   \n2            1.000000        1.0                         0.00   \n3            1.000000        0.0                         0.00   \n4            0.592157        1.0                         0.01   \n...               ...        ...                          ...   \n12658        0.360784        1.0                         0.01   \n12659        0.019608        1.0                         0.20   \n12660        0.392157        1.0                         0.01   \n12661        0.772549        1.0                         0.01   \n12662        1.000000        0.0                         0.00   \n\n       srv_diff_host_rate  num_shells  dst_host_srv_count  \n0                    0.00         0.0            0.337255  \n1                    0.00         0.0            1.000000  \n2                    1.00         0.0            0.109804  \n3                    0.00         0.0            1.000000  \n4                    0.04         0.0            1.000000  \n...                   ...         ...                 ...  \n12658                0.00         0.0            1.000000  \n12659                0.00         0.0            1.000000  \n12660                0.00         0.0            0.552941  \n12661                0.18         0.0            1.000000  \n12662                0.33         0.0            0.988235  \n\n[12663 rows x 11 columns]",
      "text/html": "<div>\n<style scoped>\n    .dataframe tbody tr th:only-of-type {\n        vertical-align: middle;\n    }\n\n    .dataframe tbody tr th {\n        vertical-align: top;\n    }\n\n    .dataframe thead th {\n        text-align: right;\n    }\n</style>\n<table border=\"1\" class=\"dataframe\">\n  <thead>\n    <tr style=\"text-align: right;\">\n      <th></th>\n      <th>srv_count</th>\n      <th>urgent</th>\n      <th>root_shell</th>\n      <th>hot</th>\n      <th>dst_host_srv_diff_host_rate</th>\n      <th>dst_host_count</th>\n      <th>logged_in</th>\n      <th>dst_host_same_src_port_rate</th>\n      <th>srv_diff_host_rate</th>\n      <th>num_shells</th>\n      <th>dst_host_srv_count</th>\n    </tr>\n  </thead>\n  <tbody>\n    <tr>\n      <th>0</th>\n      <td>0.001957</td>\n      <td>0.0</td>\n      <td>0.0</td>\n      <td>0.0</td>\n      <td>0.02</td>\n      <td>0.525490</td>\n      <td>0.0</td>\n      <td>0.61</td>\n      <td>0.00</td>\n      <td>0.0</td>\n      <td>0.337255</td>\n    </tr>\n    <tr>\n      <th>1</th>\n      <td>0.007828</td>\n      <td>0.0</td>\n      <td>0.0</td>\n      <td>0.0</td>\n      <td>0.03</td>\n      <td>0.607843</td>\n      <td>1.0</td>\n      <td>0.01</td>\n      <td>0.00</td>\n      <td>0.0</td>\n      <td>1.000000</td>\n    </tr>\n    <tr>\n      <th>2</th>\n      <td>0.005871</td>\n      <td>0.0</td>\n      <td>0.0</td>\n      <td>0.0</td>\n      <td>0.00</td>\n      <td>1.000000</td>\n      <td>1.0</td>\n      <td>0.00</td>\n      <td>1.00</td>\n      <td>0.0</td>\n      <td>0.109804</td>\n    </tr>\n    <tr>\n      <th>3</th>\n      <td>0.001957</td>\n      <td>0.0</td>\n      <td>0.0</td>\n      <td>0.0</td>\n      <td>0.00</td>\n      <td>1.000000</td>\n      <td>0.0</td>\n      <td>0.00</td>\n      <td>0.00</td>\n      <td>0.0</td>\n      <td>1.000000</td>\n    </tr>\n    <tr>\n      <th>4</th>\n      <td>0.091977</td>\n      <td>0.0</td>\n      <td>0.0</td>\n      <td>0.0</td>\n      <td>0.03</td>\n      <td>0.592157</td>\n      <td>1.0</td>\n      <td>0.01</td>\n      <td>0.04</td>\n      <td>0.0</td>\n      <td>1.000000</td>\n    </tr>\n    <tr>\n      <th>...</th>\n      <td>...</td>\n      <td>...</td>\n      <td>...</td>\n      <td>...</td>\n      <td>...</td>\n      <td>...</td>\n      <td>...</td>\n      <td>...</td>\n      <td>...</td>\n      <td>...</td>\n      <td>...</td>\n    </tr>\n    <tr>\n      <th>12658</th>\n      <td>0.001957</td>\n      <td>0.0</td>\n      <td>0.0</td>\n      <td>0.0</td>\n      <td>0.04</td>\n      <td>0.360784</td>\n      <td>1.0</td>\n      <td>0.01</td>\n      <td>0.00</td>\n      <td>0.0</td>\n      <td>1.000000</td>\n    </tr>\n    <tr>\n      <th>12659</th>\n      <td>0.005871</td>\n      <td>0.0</td>\n      <td>0.0</td>\n      <td>0.0</td>\n      <td>0.04</td>\n      <td>0.019608</td>\n      <td>1.0</td>\n      <td>0.20</td>\n      <td>0.00</td>\n      <td>0.0</td>\n      <td>1.000000</td>\n    </tr>\n    <tr>\n      <th>12660</th>\n      <td>0.001957</td>\n      <td>0.0</td>\n      <td>0.0</td>\n      <td>0.0</td>\n      <td>0.01</td>\n      <td>0.392157</td>\n      <td>1.0</td>\n      <td>0.01</td>\n      <td>0.00</td>\n      <td>0.0</td>\n      <td>0.552941</td>\n    </tr>\n    <tr>\n      <th>12661</th>\n      <td>0.021526</td>\n      <td>0.0</td>\n      <td>0.0</td>\n      <td>0.0</td>\n      <td>0.01</td>\n      <td>0.772549</td>\n      <td>1.0</td>\n      <td>0.01</td>\n      <td>0.18</td>\n      <td>0.0</td>\n      <td>1.000000</td>\n    </tr>\n    <tr>\n      <th>12662</th>\n      <td>0.011742</td>\n      <td>0.0</td>\n      <td>0.0</td>\n      <td>0.0</td>\n      <td>0.00</td>\n      <td>1.000000</td>\n      <td>0.0</td>\n      <td>0.00</td>\n      <td>0.33</td>\n      <td>0.0</td>\n      <td>0.988235</td>\n    </tr>\n  </tbody>\n</table>\n<p>12663 rows × 11 columns</p>\n</div>"
     },
     "execution_count": 2235,
     "metadata": {},
     "output_type": "execute_result"
    }
   ],
   "source": [
    "df_minmax = scaler2.transform(X_test)\n",
    "X_test = pd.DataFrame(df_minmax, columns=X_test.columns)\n",
    "X_test"
   ]
  },
  {
   "cell_type": "code",
   "execution_count": 2236,
   "metadata": {
    "ExecuteTime": {
     "end_time": "2023-10-19T11:39:46.204483Z",
     "start_time": "2023-10-19T11:39:46.136738300Z"
    }
   },
   "outputs": [
    {
     "data": {
      "text/plain": "       srv_count  urgent  root_shell  hot  dst_host_srv_diff_host_rate  \\\n0       0.001957     0.0         0.0  0.0                         0.02   \n1       0.007828     0.0         0.0  0.0                         0.03   \n2       0.005871     0.0         0.0  0.0                         0.00   \n3       0.001957     0.0         0.0  0.0                         0.00   \n4       0.091977     0.0         0.0  0.0                         0.03   \n...          ...     ...         ...  ...                          ...   \n12658   0.001957     0.0         0.0  0.0                         0.04   \n12659   0.005871     0.0         0.0  0.0                         0.04   \n12660   0.001957     0.0         0.0  0.0                         0.01   \n12661   0.021526     0.0         0.0  0.0                         0.01   \n12662   0.011742     0.0         0.0  0.0                         0.00   \n\n       dst_host_count  logged_in  dst_host_same_src_port_rate  \\\n0            0.525490        0.0                         0.61   \n1            0.607843        1.0                         0.01   \n2            1.000000        1.0                         0.00   \n3            1.000000        0.0                         0.00   \n4            0.592157        1.0                         0.01   \n...               ...        ...                          ...   \n12658        0.360784        1.0                         0.01   \n12659        0.019608        1.0                         0.20   \n12660        0.392157        1.0                         0.01   \n12661        0.772549        1.0                         0.01   \n12662        1.000000        0.0                         0.00   \n\n       srv_diff_host_rate  num_shells  ...  flag_OTH  flag_REJ  flag_RSTO  \\\n0                    0.00         0.0  ...       0.0       0.0        0.0   \n1                    0.00         0.0  ...       0.0       0.0        0.0   \n2                    1.00         0.0  ...       0.0       0.0        0.0   \n3                    0.00         0.0  ...       0.0       0.0        0.0   \n4                    0.04         0.0  ...       0.0       0.0        0.0   \n...                   ...         ...  ...       ...       ...        ...   \n12658                0.00         0.0  ...       0.0       0.0        0.0   \n12659                0.00         0.0  ...       0.0       0.0        0.0   \n12660                0.00         0.0  ...       0.0       0.0        0.0   \n12661                0.18         0.0  ...       0.0       0.0        0.0   \n12662                0.33         0.0  ...       0.0       0.0        0.0   \n\n       flag_RSTR  flag_S0  flag_S1  flag_S2  flag_S3  flag_SF  flag_SH  \n0            0.0      0.0      0.0      0.0      0.0      1.0      0.0  \n1            0.0      0.0      0.0      0.0      0.0      1.0      0.0  \n2            0.0      0.0      0.0      0.0      0.0      1.0      0.0  \n3            0.0      0.0      0.0      0.0      0.0      1.0      0.0  \n4            0.0      0.0      0.0      0.0      0.0      1.0      0.0  \n...          ...      ...      ...      ...      ...      ...      ...  \n12658        0.0      0.0      0.0      0.0      0.0      1.0      0.0  \n12659        0.0      0.0      0.0      0.0      0.0      1.0      0.0  \n12660        0.0      0.0      0.0      0.0      0.0      1.0      0.0  \n12661        0.0      0.0      0.0      0.0      0.0      1.0      0.0  \n12662        0.0      0.0      0.0      0.0      0.0      1.0      0.0  \n\n[12663 rows x 51 columns]",
      "text/html": "<div>\n<style scoped>\n    .dataframe tbody tr th:only-of-type {\n        vertical-align: middle;\n    }\n\n    .dataframe tbody tr th {\n        vertical-align: top;\n    }\n\n    .dataframe thead th {\n        text-align: right;\n    }\n</style>\n<table border=\"1\" class=\"dataframe\">\n  <thead>\n    <tr style=\"text-align: right;\">\n      <th></th>\n      <th>srv_count</th>\n      <th>urgent</th>\n      <th>root_shell</th>\n      <th>hot</th>\n      <th>dst_host_srv_diff_host_rate</th>\n      <th>dst_host_count</th>\n      <th>logged_in</th>\n      <th>dst_host_same_src_port_rate</th>\n      <th>srv_diff_host_rate</th>\n      <th>num_shells</th>\n      <th>...</th>\n      <th>flag_OTH</th>\n      <th>flag_REJ</th>\n      <th>flag_RSTO</th>\n      <th>flag_RSTR</th>\n      <th>flag_S0</th>\n      <th>flag_S1</th>\n      <th>flag_S2</th>\n      <th>flag_S3</th>\n      <th>flag_SF</th>\n      <th>flag_SH</th>\n    </tr>\n  </thead>\n  <tbody>\n    <tr>\n      <th>0</th>\n      <td>0.001957</td>\n      <td>0.0</td>\n      <td>0.0</td>\n      <td>0.0</td>\n      <td>0.02</td>\n      <td>0.525490</td>\n      <td>0.0</td>\n      <td>0.61</td>\n      <td>0.00</td>\n      <td>0.0</td>\n      <td>...</td>\n      <td>0.0</td>\n      <td>0.0</td>\n      <td>0.0</td>\n      <td>0.0</td>\n      <td>0.0</td>\n      <td>0.0</td>\n      <td>0.0</td>\n      <td>0.0</td>\n      <td>1.0</td>\n      <td>0.0</td>\n    </tr>\n    <tr>\n      <th>1</th>\n      <td>0.007828</td>\n      <td>0.0</td>\n      <td>0.0</td>\n      <td>0.0</td>\n      <td>0.03</td>\n      <td>0.607843</td>\n      <td>1.0</td>\n      <td>0.01</td>\n      <td>0.00</td>\n      <td>0.0</td>\n      <td>...</td>\n      <td>0.0</td>\n      <td>0.0</td>\n      <td>0.0</td>\n      <td>0.0</td>\n      <td>0.0</td>\n      <td>0.0</td>\n      <td>0.0</td>\n      <td>0.0</td>\n      <td>1.0</td>\n      <td>0.0</td>\n    </tr>\n    <tr>\n      <th>2</th>\n      <td>0.005871</td>\n      <td>0.0</td>\n      <td>0.0</td>\n      <td>0.0</td>\n      <td>0.00</td>\n      <td>1.000000</td>\n      <td>1.0</td>\n      <td>0.00</td>\n      <td>1.00</td>\n      <td>0.0</td>\n      <td>...</td>\n      <td>0.0</td>\n      <td>0.0</td>\n      <td>0.0</td>\n      <td>0.0</td>\n      <td>0.0</td>\n      <td>0.0</td>\n      <td>0.0</td>\n      <td>0.0</td>\n      <td>1.0</td>\n      <td>0.0</td>\n    </tr>\n    <tr>\n      <th>3</th>\n      <td>0.001957</td>\n      <td>0.0</td>\n      <td>0.0</td>\n      <td>0.0</td>\n      <td>0.00</td>\n      <td>1.000000</td>\n      <td>0.0</td>\n      <td>0.00</td>\n      <td>0.00</td>\n      <td>0.0</td>\n      <td>...</td>\n      <td>0.0</td>\n      <td>0.0</td>\n      <td>0.0</td>\n      <td>0.0</td>\n      <td>0.0</td>\n      <td>0.0</td>\n      <td>0.0</td>\n      <td>0.0</td>\n      <td>1.0</td>\n      <td>0.0</td>\n    </tr>\n    <tr>\n      <th>4</th>\n      <td>0.091977</td>\n      <td>0.0</td>\n      <td>0.0</td>\n      <td>0.0</td>\n      <td>0.03</td>\n      <td>0.592157</td>\n      <td>1.0</td>\n      <td>0.01</td>\n      <td>0.04</td>\n      <td>0.0</td>\n      <td>...</td>\n      <td>0.0</td>\n      <td>0.0</td>\n      <td>0.0</td>\n      <td>0.0</td>\n      <td>0.0</td>\n      <td>0.0</td>\n      <td>0.0</td>\n      <td>0.0</td>\n      <td>1.0</td>\n      <td>0.0</td>\n    </tr>\n    <tr>\n      <th>...</th>\n      <td>...</td>\n      <td>...</td>\n      <td>...</td>\n      <td>...</td>\n      <td>...</td>\n      <td>...</td>\n      <td>...</td>\n      <td>...</td>\n      <td>...</td>\n      <td>...</td>\n      <td>...</td>\n      <td>...</td>\n      <td>...</td>\n      <td>...</td>\n      <td>...</td>\n      <td>...</td>\n      <td>...</td>\n      <td>...</td>\n      <td>...</td>\n      <td>...</td>\n      <td>...</td>\n    </tr>\n    <tr>\n      <th>12658</th>\n      <td>0.001957</td>\n      <td>0.0</td>\n      <td>0.0</td>\n      <td>0.0</td>\n      <td>0.04</td>\n      <td>0.360784</td>\n      <td>1.0</td>\n      <td>0.01</td>\n      <td>0.00</td>\n      <td>0.0</td>\n      <td>...</td>\n      <td>0.0</td>\n      <td>0.0</td>\n      <td>0.0</td>\n      <td>0.0</td>\n      <td>0.0</td>\n      <td>0.0</td>\n      <td>0.0</td>\n      <td>0.0</td>\n      <td>1.0</td>\n      <td>0.0</td>\n    </tr>\n    <tr>\n      <th>12659</th>\n      <td>0.005871</td>\n      <td>0.0</td>\n      <td>0.0</td>\n      <td>0.0</td>\n      <td>0.04</td>\n      <td>0.019608</td>\n      <td>1.0</td>\n      <td>0.20</td>\n      <td>0.00</td>\n      <td>0.0</td>\n      <td>...</td>\n      <td>0.0</td>\n      <td>0.0</td>\n      <td>0.0</td>\n      <td>0.0</td>\n      <td>0.0</td>\n      <td>0.0</td>\n      <td>0.0</td>\n      <td>0.0</td>\n      <td>1.0</td>\n      <td>0.0</td>\n    </tr>\n    <tr>\n      <th>12660</th>\n      <td>0.001957</td>\n      <td>0.0</td>\n      <td>0.0</td>\n      <td>0.0</td>\n      <td>0.01</td>\n      <td>0.392157</td>\n      <td>1.0</td>\n      <td>0.01</td>\n      <td>0.00</td>\n      <td>0.0</td>\n      <td>...</td>\n      <td>0.0</td>\n      <td>0.0</td>\n      <td>0.0</td>\n      <td>0.0</td>\n      <td>0.0</td>\n      <td>0.0</td>\n      <td>0.0</td>\n      <td>0.0</td>\n      <td>1.0</td>\n      <td>0.0</td>\n    </tr>\n    <tr>\n      <th>12661</th>\n      <td>0.021526</td>\n      <td>0.0</td>\n      <td>0.0</td>\n      <td>0.0</td>\n      <td>0.01</td>\n      <td>0.772549</td>\n      <td>1.0</td>\n      <td>0.01</td>\n      <td>0.18</td>\n      <td>0.0</td>\n      <td>...</td>\n      <td>0.0</td>\n      <td>0.0</td>\n      <td>0.0</td>\n      <td>0.0</td>\n      <td>0.0</td>\n      <td>0.0</td>\n      <td>0.0</td>\n      <td>0.0</td>\n      <td>1.0</td>\n      <td>0.0</td>\n    </tr>\n    <tr>\n      <th>12662</th>\n      <td>0.011742</td>\n      <td>0.0</td>\n      <td>0.0</td>\n      <td>0.0</td>\n      <td>0.00</td>\n      <td>1.000000</td>\n      <td>0.0</td>\n      <td>0.00</td>\n      <td>0.33</td>\n      <td>0.0</td>\n      <td>...</td>\n      <td>0.0</td>\n      <td>0.0</td>\n      <td>0.0</td>\n      <td>0.0</td>\n      <td>0.0</td>\n      <td>0.0</td>\n      <td>0.0</td>\n      <td>0.0</td>\n      <td>1.0</td>\n      <td>0.0</td>\n    </tr>\n  </tbody>\n</table>\n<p>12663 rows × 51 columns</p>\n</div>"
     },
     "execution_count": 2236,
     "metadata": {},
     "output_type": "execute_result"
    }
   ],
   "source": [
    "label_enc = ohe2.transform(df_test.iloc[:,1:4])\n",
    "label_enc.toarray()\n",
    "new_labels = ohe2.get_feature_names_out(categorical_features)\n",
    "df_enc = pd.DataFrame(data=label_enc.toarray(), columns=new_labels)\n",
    "X_test = pd.concat([X_test, df_enc], axis=1)\n",
    "X_test"
   ]
  },
  {
   "cell_type": "code",
   "execution_count": 2237,
   "metadata": {
    "ExecuteTime": {
     "end_time": "2023-10-19T11:39:46.204483Z",
     "start_time": "2023-10-19T11:39:46.194366500Z"
    }
   },
   "outputs": [
    {
     "name": "stdout",
     "output_type": "stream",
     "text": [
      "Shape of the train set:  (68390, 51)\n",
      "Shape of its target:  (68390,)\n",
      "Shape of the test set:  (12663, 51)\n",
      "Shape of its target:  (12663,)\n"
     ]
    }
   ],
   "source": [
    "print('Shape of the train set: ', X_train.shape)\n",
    "print('Shape of its target: ', y_train.shape)\n",
    "print('Shape of the test set: ', X_test.shape)\n",
    "print('Shape of its target: ', y_test.shape)"
   ]
  },
  {
   "cell_type": "code",
   "execution_count": 2238,
   "outputs": [],
   "source": [
    "# Under sampling the train set for l2\n",
    "sm = under_sam(sampling_strategy=1)\n",
    "X_train, y_train = sm.fit_resample(X_train,y_train)"
   ],
   "metadata": {
    "collapsed": false,
    "ExecuteTime": {
     "end_time": "2023-10-19T11:39:46.343874100Z",
     "start_time": "2023-10-19T11:39:46.200289800Z"
    }
   }
  },
  {
   "cell_type": "markdown",
   "source": [
    "# Export the datasets\n",
    "Train set has been scaled, one hot encoded, undersampled\n",
    "Test set has been scaled and one hot encoded"
   ],
   "metadata": {
    "collapsed": false
   }
  },
  {
   "cell_type": "code",
   "execution_count": 2239,
   "outputs": [],
   "source": [
    "# Export the dataset for training layer 2\n",
    "if EXPORT_DATASETS:\n",
    "    X_train.to_csv('NSL-KDD Encoded Datasets/KDDTrain+_l2.txt', index=False)\n",
    "    np.save('NSL-KDD Encoded Datasets/KDDTrain+_l2_targets', y_train)"
   ],
   "metadata": {
    "collapsed": false,
    "ExecuteTime": {
     "end_time": "2023-10-19T11:39:46.404036100Z",
     "start_time": "2023-10-19T11:39:46.227152Z"
    }
   }
  },
  {
   "cell_type": "code",
   "execution_count": 2240,
   "outputs": [
    {
     "data": {
      "text/plain": "array([[ 5.63297231e-01,  4.74581823e-01,  2.22866974e-01, ...,\n         1.65923095e-01, -1.40921142e-02, -4.32941940e-01],\n       [-7.69292718e-01, -6.58713908e-01,  2.88033406e-01, ...,\n        -1.01834752e-02, -1.96293955e-02, -2.60941740e-03],\n       [-3.29108769e-01,  6.78369377e-02, -4.98049593e-01, ...,\n        -7.31480200e-02,  5.83650707e-03,  7.94045819e-02],\n       ...,\n       [-2.24052614e-01, -1.24085977e-01, -2.00526146e-01, ...,\n         3.44251846e-02,  5.78252186e-02, -5.07823769e-02],\n       [-8.40479466e-01, -6.28303602e-01,  2.42356179e-01, ...,\n         2.04181569e-04, -3.68087007e-02, -4.52980201e-03],\n       [-1.05368199e+00,  1.50181610e+00,  5.92994442e-01, ...,\n         1.78882707e-02,  5.89627528e-03,  7.07745257e-03]])"
     },
     "execution_count": 2240,
     "metadata": {},
     "output_type": "execute_result"
    }
   ],
   "source": [
    "from sklearn import tree\n",
    "\n",
    "# Principal Component Analysis\n",
    "pca_r2l_u2r = PCA(n_components=0.95)\n",
    "X_train_r2l_u2r = pca_r2l_u2r.fit_transform(X_train)\n",
    "X_test_r2l_u2r = pca_r2l_u2r.transform(X_test)\n",
    "\n",
    "# Try also Decision Trees\n",
    "# r2l_u2r_classifier = tree.DecisionTreeClassifier()\n",
    "\n",
    "# Support Vector Machine for layer l2\n",
    "r2l_u2r_classifier = SVC(C=0.1, gamma=0.01, kernel='rbf')\n",
    "r2l_u2r_classifier.fit(X_train_r2l_u2r, y_train)\n",
    "predicted = r2l_u2r_classifier.predict(X_test_r2l_u2r)\n",
    "\n",
    "X_test_r2l_u2r"
   ],
   "metadata": {
    "collapsed": false,
    "ExecuteTime": {
     "end_time": "2023-10-19T11:39:48.251474500Z",
     "start_time": "2023-10-19T11:39:46.233251400Z"
    }
   }
  },
  {
   "cell_type": "code",
   "execution_count": 2241,
   "outputs": [
    {
     "name": "stdout",
     "output_type": "stream",
     "text": [
      "Metrics for layer 2:\n",
      "Confusion matrix: [TP FP / FN TN]\n",
      " [[9088  623]\n",
      " [1427 1525]]\n",
      "Accuracy =  0.8381110321408829\n",
      "F1 Score =  0.5980392156862745\n",
      "Precision =  0.7099627560521415\n",
      "Recall =  0.5165989159891599\n",
      "Matthew corr =  0.5097227753691026\n",
      "Shape of the training set:  (2094, 13)\n"
     ]
    }
   ],
   "source": [
    "print('Metrics for layer 2:')\n",
    "print('Confusion matrix: [TP FN / FP TN]\\n', confusion_matrix(y_test,predicted))\n",
    "print('Accuracy = ', accuracy_score(y_test,predicted))\n",
    "print('F1 Score = ', f1_score(y_test,predicted))\n",
    "print('Precision = ', precision_score(y_test,predicted))\n",
    "print('Recall = ', recall_score(y_test,predicted))\n",
    "print('Matthew corr = ', matthews_corrcoef(y_test,predicted))\n",
    "print('Shape of the training set: ', X_train_r2l_u2r.shape)"
   ],
   "metadata": {
    "collapsed": false,
    "ExecuteTime": {
     "end_time": "2023-10-19T11:39:48.319253300Z",
     "start_time": "2023-10-19T11:39:48.246655900Z"
    }
   }
  },
  {
   "cell_type": "markdown",
   "source": [
    "### Export the classifiers"
   ],
   "metadata": {
    "collapsed": false
   }
  },
  {
   "cell_type": "code",
   "execution_count": 2170,
   "outputs": [],
   "source": [
    "if EXPORT_MODELS:\n",
    "    with open('Models/NSL_l1_classifier.pkl', \"wb\") as f:\n",
    "        pickle.dump(dos_probe_classifier, f)\n",
    "    with open('Models/NSL_l2_classifier.pkl', \"wb\") as f:\n",
    "        pickle.dump(r2l_u2r_classifier, f)"
   ],
   "metadata": {
    "collapsed": false,
    "ExecuteTime": {
     "end_time": "2023-10-19T11:33:30.996098600Z",
     "start_time": "2023-10-19T11:33:30.974401500Z"
    }
   }
  },
  {
   "cell_type": "markdown",
   "metadata": {},
   "source": [
    "# Testing"
   ]
  },
  {
   "cell_type": "code",
   "execution_count": 2006,
   "metadata": {
    "ExecuteTime": {
     "end_time": "2023-10-18T13:24:01.603731100Z",
     "start_time": "2023-10-18T13:24:01.529708300Z"
    }
   },
   "outputs": [
    {
     "data": {
      "text/plain": "       duration protocol_type   service  flag  src_bytes  dst_bytes  land  \\\n0             0           tcp   private   REJ          0          0     0   \n1             0           tcp   private   REJ          0          0     0   \n2             2           tcp  ftp_data    SF      12983          0     0   \n3             0          icmp     eco_i    SF         20          0     0   \n4             1           tcp    telnet  RSTO          0         15     0   \n...         ...           ...       ...   ...        ...        ...   ...   \n22539         0           tcp      smtp    SF        794        333     0   \n22540         0           tcp      http    SF        317        938     0   \n22541         0           tcp      http    SF      54540       8314     0   \n22542         0           udp  domain_u    SF         42         42     0   \n22543         0           tcp    sunrpc   REJ          0          0     0   \n\n       wrong_fragment  urgent  hot  ...  dst_host_srv_count  \\\n0                   0       0    0  ...                  10   \n1                   0       0    0  ...                   1   \n2                   0       0    0  ...                  86   \n3                   0       0    0  ...                  57   \n4                   0       0    0  ...                  86   \n...               ...     ...  ...  ...                 ...   \n22539               0       0    0  ...                 141   \n22540               0       0    0  ...                 255   \n22541               0       0    2  ...                 255   \n22542               0       0    0  ...                 252   \n22543               0       0    0  ...                  21   \n\n       dst_host_same_srv_rate  dst_host_diff_srv_rate  \\\n0                        0.04                    0.06   \n1                        0.00                    0.06   \n2                        0.61                    0.04   \n3                        1.00                    0.00   \n4                        0.31                    0.17   \n...                       ...                     ...   \n22539                    0.72                    0.06   \n22540                    1.00                    0.00   \n22541                    1.00                    0.00   \n22542                    0.99                    0.01   \n22543                    0.08                    0.03   \n\n       dst_host_same_src_port_rate  dst_host_srv_diff_host_rate  \\\n0                             0.00                         0.00   \n1                             0.00                         0.00   \n2                             0.61                         0.02   \n3                             1.00                         0.28   \n4                             0.03                         0.02   \n...                            ...                          ...   \n22539                         0.01                         0.01   \n22540                         0.01                         0.01   \n22541                         0.00                         0.00   \n22542                         0.00                         0.00   \n22543                         0.00                         0.00   \n\n       dst_host_serror_rate  dst_host_srv_serror_rate  dst_host_rerror_rate  \\\n0                      0.00                       0.0                  1.00   \n1                      0.00                       0.0                  1.00   \n2                      0.00                       0.0                  0.00   \n3                      0.00                       0.0                  0.00   \n4                      0.00                       0.0                  0.83   \n...                     ...                       ...                   ...   \n22539                  0.01                       0.0                  0.00   \n22540                  0.01                       0.0                  0.00   \n22541                  0.00                       0.0                  0.07   \n22542                  0.00                       0.0                  0.00   \n22543                  0.00                       0.0                  0.44   \n\n       dst_host_srv_rerror_rate    label  \n0                          1.00  neptune  \n1                          1.00  neptune  \n2                          0.00   normal  \n3                          0.00    saint  \n4                          0.71    mscan  \n...                         ...      ...  \n22539                      0.00   normal  \n22540                      0.00   normal  \n22541                      0.07     back  \n22542                      0.00   normal  \n22543                      1.00    mscan  \n\n[22544 rows x 41 columns]",
      "text/html": "<div>\n<style scoped>\n    .dataframe tbody tr th:only-of-type {\n        vertical-align: middle;\n    }\n\n    .dataframe tbody tr th {\n        vertical-align: top;\n    }\n\n    .dataframe thead th {\n        text-align: right;\n    }\n</style>\n<table border=\"1\" class=\"dataframe\">\n  <thead>\n    <tr style=\"text-align: right;\">\n      <th></th>\n      <th>duration</th>\n      <th>protocol_type</th>\n      <th>service</th>\n      <th>flag</th>\n      <th>src_bytes</th>\n      <th>dst_bytes</th>\n      <th>land</th>\n      <th>wrong_fragment</th>\n      <th>urgent</th>\n      <th>hot</th>\n      <th>...</th>\n      <th>dst_host_srv_count</th>\n      <th>dst_host_same_srv_rate</th>\n      <th>dst_host_diff_srv_rate</th>\n      <th>dst_host_same_src_port_rate</th>\n      <th>dst_host_srv_diff_host_rate</th>\n      <th>dst_host_serror_rate</th>\n      <th>dst_host_srv_serror_rate</th>\n      <th>dst_host_rerror_rate</th>\n      <th>dst_host_srv_rerror_rate</th>\n      <th>label</th>\n    </tr>\n  </thead>\n  <tbody>\n    <tr>\n      <th>0</th>\n      <td>0</td>\n      <td>tcp</td>\n      <td>private</td>\n      <td>REJ</td>\n      <td>0</td>\n      <td>0</td>\n      <td>0</td>\n      <td>0</td>\n      <td>0</td>\n      <td>0</td>\n      <td>...</td>\n      <td>10</td>\n      <td>0.04</td>\n      <td>0.06</td>\n      <td>0.00</td>\n      <td>0.00</td>\n      <td>0.00</td>\n      <td>0.0</td>\n      <td>1.00</td>\n      <td>1.00</td>\n      <td>neptune</td>\n    </tr>\n    <tr>\n      <th>1</th>\n      <td>0</td>\n      <td>tcp</td>\n      <td>private</td>\n      <td>REJ</td>\n      <td>0</td>\n      <td>0</td>\n      <td>0</td>\n      <td>0</td>\n      <td>0</td>\n      <td>0</td>\n      <td>...</td>\n      <td>1</td>\n      <td>0.00</td>\n      <td>0.06</td>\n      <td>0.00</td>\n      <td>0.00</td>\n      <td>0.00</td>\n      <td>0.0</td>\n      <td>1.00</td>\n      <td>1.00</td>\n      <td>neptune</td>\n    </tr>\n    <tr>\n      <th>2</th>\n      <td>2</td>\n      <td>tcp</td>\n      <td>ftp_data</td>\n      <td>SF</td>\n      <td>12983</td>\n      <td>0</td>\n      <td>0</td>\n      <td>0</td>\n      <td>0</td>\n      <td>0</td>\n      <td>...</td>\n      <td>86</td>\n      <td>0.61</td>\n      <td>0.04</td>\n      <td>0.61</td>\n      <td>0.02</td>\n      <td>0.00</td>\n      <td>0.0</td>\n      <td>0.00</td>\n      <td>0.00</td>\n      <td>normal</td>\n    </tr>\n    <tr>\n      <th>3</th>\n      <td>0</td>\n      <td>icmp</td>\n      <td>eco_i</td>\n      <td>SF</td>\n      <td>20</td>\n      <td>0</td>\n      <td>0</td>\n      <td>0</td>\n      <td>0</td>\n      <td>0</td>\n      <td>...</td>\n      <td>57</td>\n      <td>1.00</td>\n      <td>0.00</td>\n      <td>1.00</td>\n      <td>0.28</td>\n      <td>0.00</td>\n      <td>0.0</td>\n      <td>0.00</td>\n      <td>0.00</td>\n      <td>saint</td>\n    </tr>\n    <tr>\n      <th>4</th>\n      <td>1</td>\n      <td>tcp</td>\n      <td>telnet</td>\n      <td>RSTO</td>\n      <td>0</td>\n      <td>15</td>\n      <td>0</td>\n      <td>0</td>\n      <td>0</td>\n      <td>0</td>\n      <td>...</td>\n      <td>86</td>\n      <td>0.31</td>\n      <td>0.17</td>\n      <td>0.03</td>\n      <td>0.02</td>\n      <td>0.00</td>\n      <td>0.0</td>\n      <td>0.83</td>\n      <td>0.71</td>\n      <td>mscan</td>\n    </tr>\n    <tr>\n      <th>...</th>\n      <td>...</td>\n      <td>...</td>\n      <td>...</td>\n      <td>...</td>\n      <td>...</td>\n      <td>...</td>\n      <td>...</td>\n      <td>...</td>\n      <td>...</td>\n      <td>...</td>\n      <td>...</td>\n      <td>...</td>\n      <td>...</td>\n      <td>...</td>\n      <td>...</td>\n      <td>...</td>\n      <td>...</td>\n      <td>...</td>\n      <td>...</td>\n      <td>...</td>\n      <td>...</td>\n    </tr>\n    <tr>\n      <th>22539</th>\n      <td>0</td>\n      <td>tcp</td>\n      <td>smtp</td>\n      <td>SF</td>\n      <td>794</td>\n      <td>333</td>\n      <td>0</td>\n      <td>0</td>\n      <td>0</td>\n      <td>0</td>\n      <td>...</td>\n      <td>141</td>\n      <td>0.72</td>\n      <td>0.06</td>\n      <td>0.01</td>\n      <td>0.01</td>\n      <td>0.01</td>\n      <td>0.0</td>\n      <td>0.00</td>\n      <td>0.00</td>\n      <td>normal</td>\n    </tr>\n    <tr>\n      <th>22540</th>\n      <td>0</td>\n      <td>tcp</td>\n      <td>http</td>\n      <td>SF</td>\n      <td>317</td>\n      <td>938</td>\n      <td>0</td>\n      <td>0</td>\n      <td>0</td>\n      <td>0</td>\n      <td>...</td>\n      <td>255</td>\n      <td>1.00</td>\n      <td>0.00</td>\n      <td>0.01</td>\n      <td>0.01</td>\n      <td>0.01</td>\n      <td>0.0</td>\n      <td>0.00</td>\n      <td>0.00</td>\n      <td>normal</td>\n    </tr>\n    <tr>\n      <th>22541</th>\n      <td>0</td>\n      <td>tcp</td>\n      <td>http</td>\n      <td>SF</td>\n      <td>54540</td>\n      <td>8314</td>\n      <td>0</td>\n      <td>0</td>\n      <td>0</td>\n      <td>2</td>\n      <td>...</td>\n      <td>255</td>\n      <td>1.00</td>\n      <td>0.00</td>\n      <td>0.00</td>\n      <td>0.00</td>\n      <td>0.00</td>\n      <td>0.0</td>\n      <td>0.07</td>\n      <td>0.07</td>\n      <td>back</td>\n    </tr>\n    <tr>\n      <th>22542</th>\n      <td>0</td>\n      <td>udp</td>\n      <td>domain_u</td>\n      <td>SF</td>\n      <td>42</td>\n      <td>42</td>\n      <td>0</td>\n      <td>0</td>\n      <td>0</td>\n      <td>0</td>\n      <td>...</td>\n      <td>252</td>\n      <td>0.99</td>\n      <td>0.01</td>\n      <td>0.00</td>\n      <td>0.00</td>\n      <td>0.00</td>\n      <td>0.0</td>\n      <td>0.00</td>\n      <td>0.00</td>\n      <td>normal</td>\n    </tr>\n    <tr>\n      <th>22543</th>\n      <td>0</td>\n      <td>tcp</td>\n      <td>sunrpc</td>\n      <td>REJ</td>\n      <td>0</td>\n      <td>0</td>\n      <td>0</td>\n      <td>0</td>\n      <td>0</td>\n      <td>0</td>\n      <td>...</td>\n      <td>21</td>\n      <td>0.08</td>\n      <td>0.03</td>\n      <td>0.00</td>\n      <td>0.00</td>\n      <td>0.00</td>\n      <td>0.0</td>\n      <td>0.44</td>\n      <td>1.00</td>\n      <td>mscan</td>\n    </tr>\n  </tbody>\n</table>\n<p>22544 rows × 41 columns</p>\n</div>"
     },
     "execution_count": 2006,
     "metadata": {},
     "output_type": "execute_result"
    }
   ],
   "source": [
    "df_test1 = copy.deepcopy(df_test_original)\n",
    "df_test2 = copy.deepcopy(df_test_original)\n",
    "y_test_real = np.array([0 if x=='normal' else 1 for x in df_test1['label']])\n",
    "df_test_original"
   ]
  },
  {
   "cell_type": "code",
   "execution_count": 2007,
   "outputs": [
    {
     "data": {
      "text/plain": "       logged_in  count  serror_rate  rerror_rate  srv_rerror_rate  \\\n0              0    229          0.0          1.0              1.0   \n1              0    136          0.0          1.0              1.0   \n2              0      1          0.0          0.0              0.0   \n3              0      1          0.0          0.0              0.0   \n4              0      1          0.0          1.0              0.5   \n...          ...    ...          ...          ...              ...   \n22539          1      1          0.0          0.0              0.0   \n22540          1      2          0.0          0.0              0.0   \n22541          1      5          0.0          0.0              0.0   \n22542          0      4          0.0          0.0              0.0   \n22543          0      4          0.0          1.0              1.0   \n\n       same_srv_rate  diff_srv_rate  srv_diff_host_rate  dst_host_srv_count  \\\n0               0.04           0.06                0.00                  10   \n1               0.01           0.06                0.00                   1   \n2               1.00           0.00                0.00                  86   \n3               1.00           0.00                1.00                  57   \n4               1.00           0.00                0.75                  86   \n...              ...            ...                 ...                 ...   \n22539           1.00           0.00                0.00                 141   \n22540           1.00           0.00                0.18                 255   \n22541           1.00           0.00                0.20                 255   \n22542           1.00           0.00                0.33                 252   \n22543           0.25           1.00                1.00                  21   \n\n       dst_host_same_srv_rate  dst_host_diff_srv_rate  \\\n0                        0.04                    0.06   \n1                        0.00                    0.06   \n2                        0.61                    0.04   \n3                        1.00                    0.00   \n4                        0.31                    0.17   \n...                       ...                     ...   \n22539                    0.72                    0.06   \n22540                    1.00                    0.00   \n22541                    1.00                    0.00   \n22542                    0.99                    0.01   \n22543                    0.08                    0.03   \n\n       dst_host_same_src_port_rate  dst_host_srv_diff_host_rate  \\\n0                             0.00                         0.00   \n1                             0.00                         0.00   \n2                             0.61                         0.02   \n3                             1.00                         0.28   \n4                             0.03                         0.02   \n...                            ...                          ...   \n22539                         0.01                         0.01   \n22540                         0.01                         0.01   \n22541                         0.00                         0.00   \n22542                         0.00                         0.00   \n22543                         0.00                         0.00   \n\n       dst_host_serror_rate  dst_host_srv_serror_rate  \\\n0                      0.00                       0.0   \n1                      0.00                       0.0   \n2                      0.00                       0.0   \n3                      0.00                       0.0   \n4                      0.00                       0.0   \n...                     ...                       ...   \n22539                  0.01                       0.0   \n22540                  0.01                       0.0   \n22541                  0.00                       0.0   \n22542                  0.00                       0.0   \n22543                  0.00                       0.0   \n\n       dst_host_srv_rerror_rate  dst_host_rerror_rate  \n0                          1.00                  1.00  \n1                          1.00                  1.00  \n2                          0.00                  0.00  \n3                          0.00                  0.00  \n4                          0.71                  0.83  \n...                         ...                   ...  \n22539                      0.00                  0.00  \n22540                      0.00                  0.00  \n22541                      0.07                  0.07  \n22542                      0.00                  0.00  \n22543                      1.00                  0.44  \n\n[22544 rows x 17 columns]",
      "text/html": "<div>\n<style scoped>\n    .dataframe tbody tr th:only-of-type {\n        vertical-align: middle;\n    }\n\n    .dataframe tbody tr th {\n        vertical-align: top;\n    }\n\n    .dataframe thead th {\n        text-align: right;\n    }\n</style>\n<table border=\"1\" class=\"dataframe\">\n  <thead>\n    <tr style=\"text-align: right;\">\n      <th></th>\n      <th>logged_in</th>\n      <th>count</th>\n      <th>serror_rate</th>\n      <th>rerror_rate</th>\n      <th>srv_rerror_rate</th>\n      <th>same_srv_rate</th>\n      <th>diff_srv_rate</th>\n      <th>srv_diff_host_rate</th>\n      <th>dst_host_srv_count</th>\n      <th>dst_host_same_srv_rate</th>\n      <th>dst_host_diff_srv_rate</th>\n      <th>dst_host_same_src_port_rate</th>\n      <th>dst_host_srv_diff_host_rate</th>\n      <th>dst_host_serror_rate</th>\n      <th>dst_host_srv_serror_rate</th>\n      <th>dst_host_srv_rerror_rate</th>\n      <th>dst_host_rerror_rate</th>\n    </tr>\n  </thead>\n  <tbody>\n    <tr>\n      <th>0</th>\n      <td>0</td>\n      <td>229</td>\n      <td>0.0</td>\n      <td>1.0</td>\n      <td>1.0</td>\n      <td>0.04</td>\n      <td>0.06</td>\n      <td>0.00</td>\n      <td>10</td>\n      <td>0.04</td>\n      <td>0.06</td>\n      <td>0.00</td>\n      <td>0.00</td>\n      <td>0.00</td>\n      <td>0.0</td>\n      <td>1.00</td>\n      <td>1.00</td>\n    </tr>\n    <tr>\n      <th>1</th>\n      <td>0</td>\n      <td>136</td>\n      <td>0.0</td>\n      <td>1.0</td>\n      <td>1.0</td>\n      <td>0.01</td>\n      <td>0.06</td>\n      <td>0.00</td>\n      <td>1</td>\n      <td>0.00</td>\n      <td>0.06</td>\n      <td>0.00</td>\n      <td>0.00</td>\n      <td>0.00</td>\n      <td>0.0</td>\n      <td>1.00</td>\n      <td>1.00</td>\n    </tr>\n    <tr>\n      <th>2</th>\n      <td>0</td>\n      <td>1</td>\n      <td>0.0</td>\n      <td>0.0</td>\n      <td>0.0</td>\n      <td>1.00</td>\n      <td>0.00</td>\n      <td>0.00</td>\n      <td>86</td>\n      <td>0.61</td>\n      <td>0.04</td>\n      <td>0.61</td>\n      <td>0.02</td>\n      <td>0.00</td>\n      <td>0.0</td>\n      <td>0.00</td>\n      <td>0.00</td>\n    </tr>\n    <tr>\n      <th>3</th>\n      <td>0</td>\n      <td>1</td>\n      <td>0.0</td>\n      <td>0.0</td>\n      <td>0.0</td>\n      <td>1.00</td>\n      <td>0.00</td>\n      <td>1.00</td>\n      <td>57</td>\n      <td>1.00</td>\n      <td>0.00</td>\n      <td>1.00</td>\n      <td>0.28</td>\n      <td>0.00</td>\n      <td>0.0</td>\n      <td>0.00</td>\n      <td>0.00</td>\n    </tr>\n    <tr>\n      <th>4</th>\n      <td>0</td>\n      <td>1</td>\n      <td>0.0</td>\n      <td>1.0</td>\n      <td>0.5</td>\n      <td>1.00</td>\n      <td>0.00</td>\n      <td>0.75</td>\n      <td>86</td>\n      <td>0.31</td>\n      <td>0.17</td>\n      <td>0.03</td>\n      <td>0.02</td>\n      <td>0.00</td>\n      <td>0.0</td>\n      <td>0.71</td>\n      <td>0.83</td>\n    </tr>\n    <tr>\n      <th>...</th>\n      <td>...</td>\n      <td>...</td>\n      <td>...</td>\n      <td>...</td>\n      <td>...</td>\n      <td>...</td>\n      <td>...</td>\n      <td>...</td>\n      <td>...</td>\n      <td>...</td>\n      <td>...</td>\n      <td>...</td>\n      <td>...</td>\n      <td>...</td>\n      <td>...</td>\n      <td>...</td>\n      <td>...</td>\n    </tr>\n    <tr>\n      <th>22539</th>\n      <td>1</td>\n      <td>1</td>\n      <td>0.0</td>\n      <td>0.0</td>\n      <td>0.0</td>\n      <td>1.00</td>\n      <td>0.00</td>\n      <td>0.00</td>\n      <td>141</td>\n      <td>0.72</td>\n      <td>0.06</td>\n      <td>0.01</td>\n      <td>0.01</td>\n      <td>0.01</td>\n      <td>0.0</td>\n      <td>0.00</td>\n      <td>0.00</td>\n    </tr>\n    <tr>\n      <th>22540</th>\n      <td>1</td>\n      <td>2</td>\n      <td>0.0</td>\n      <td>0.0</td>\n      <td>0.0</td>\n      <td>1.00</td>\n      <td>0.00</td>\n      <td>0.18</td>\n      <td>255</td>\n      <td>1.00</td>\n      <td>0.00</td>\n      <td>0.01</td>\n      <td>0.01</td>\n      <td>0.01</td>\n      <td>0.0</td>\n      <td>0.00</td>\n      <td>0.00</td>\n    </tr>\n    <tr>\n      <th>22541</th>\n      <td>1</td>\n      <td>5</td>\n      <td>0.0</td>\n      <td>0.0</td>\n      <td>0.0</td>\n      <td>1.00</td>\n      <td>0.00</td>\n      <td>0.20</td>\n      <td>255</td>\n      <td>1.00</td>\n      <td>0.00</td>\n      <td>0.00</td>\n      <td>0.00</td>\n      <td>0.00</td>\n      <td>0.0</td>\n      <td>0.07</td>\n      <td>0.07</td>\n    </tr>\n    <tr>\n      <th>22542</th>\n      <td>0</td>\n      <td>4</td>\n      <td>0.0</td>\n      <td>0.0</td>\n      <td>0.0</td>\n      <td>1.00</td>\n      <td>0.00</td>\n      <td>0.33</td>\n      <td>252</td>\n      <td>0.99</td>\n      <td>0.01</td>\n      <td>0.00</td>\n      <td>0.00</td>\n      <td>0.00</td>\n      <td>0.0</td>\n      <td>0.00</td>\n      <td>0.00</td>\n    </tr>\n    <tr>\n      <th>22543</th>\n      <td>0</td>\n      <td>4</td>\n      <td>0.0</td>\n      <td>1.0</td>\n      <td>1.0</td>\n      <td>0.25</td>\n      <td>1.00</td>\n      <td>1.00</td>\n      <td>21</td>\n      <td>0.08</td>\n      <td>0.03</td>\n      <td>0.00</td>\n      <td>0.00</td>\n      <td>0.00</td>\n      <td>0.0</td>\n      <td>1.00</td>\n      <td>0.44</td>\n    </tr>\n  </tbody>\n</table>\n<p>22544 rows × 17 columns</p>\n</div>"
     },
     "execution_count": 2007,
     "metadata": {},
     "output_type": "execute_result"
    }
   ],
   "source": [
    "X_test = df_test1[common_features_l1]\n",
    "X_test"
   ],
   "metadata": {
    "collapsed": false,
    "ExecuteTime": {
     "end_time": "2023-10-18T13:24:01.603731100Z",
     "start_time": "2023-10-18T13:24:01.561904200Z"
    }
   }
  },
  {
   "cell_type": "code",
   "execution_count": 2008,
   "metadata": {
    "ExecuteTime": {
     "end_time": "2023-10-18T13:24:01.660265100Z",
     "start_time": "2023-10-18T13:24:01.582695800Z"
    }
   },
   "outputs": [
    {
     "name": "stdout",
     "output_type": "stream",
     "text": [
      "Test set shape for layer 1:  (22544, 28)\n"
     ]
    }
   ],
   "source": [
    "df_minmax = scaler1.transform(X_test)\n",
    "X_test = pd.DataFrame(df_minmax, columns=X_test.columns)\n",
    "label_enc = ohe.transform(df_test1.iloc[:,1:4])\n",
    "label_enc.toarray()\n",
    "new_labels = ohe.get_feature_names_out(categorical_features)\n",
    "df_enc = pd.DataFrame(data=label_enc.toarray(), columns=new_labels)\n",
    "X_test = pd.concat([X_test, df_enc], axis=1)\n",
    "\n",
    "X_test_layer1 = pca_dos_probe.transform(X_test)\n",
    "print('Test set shape for layer 1: ', X_test_layer1.shape)"
   ]
  },
  {
   "cell_type": "code",
   "execution_count": 2009,
   "outputs": [
    {
     "data": {
      "text/plain": "       srv_count  urgent  root_shell  hot  dst_host_srv_diff_host_rate  \\\n0             10       0           0    0                         0.00   \n1              1       0           0    0                         0.00   \n2              1       0           0    0                         0.02   \n3             65       0           0    0                         0.28   \n4              8       0           0    0                         0.02   \n...          ...     ...         ...  ...                          ...   \n22539          1       0           0    0                         0.01   \n22540         11       0           0    0                         0.01   \n22541         10       0           0    2                         0.00   \n22542          6       0           0    0                         0.00   \n22543         10       0           0    0                         0.00   \n\n       dst_host_count  logged_in  dst_host_same_src_port_rate  \\\n0                 255          0                         0.00   \n1                 255          0                         0.00   \n2                 134          0                         0.61   \n3                   3          0                         1.00   \n4                  29          0                         0.03   \n...               ...        ...                          ...   \n22539             100          1                         0.01   \n22540             197          1                         0.01   \n22541             255          1                         0.00   \n22542             255          0                         0.00   \n22543             255          0                         0.00   \n\n       srv_diff_host_rate  num_shells  dst_host_srv_count  \n0                    0.00           0                  10  \n1                    0.00           0                   1  \n2                    0.00           0                  86  \n3                    1.00           0                  57  \n4                    0.75           0                  86  \n...                   ...         ...                 ...  \n22539                0.00           0                 141  \n22540                0.18           0                 255  \n22541                0.20           0                 255  \n22542                0.33           0                 252  \n22543                1.00           0                  21  \n\n[22544 rows x 11 columns]",
      "text/html": "<div>\n<style scoped>\n    .dataframe tbody tr th:only-of-type {\n        vertical-align: middle;\n    }\n\n    .dataframe tbody tr th {\n        vertical-align: top;\n    }\n\n    .dataframe thead th {\n        text-align: right;\n    }\n</style>\n<table border=\"1\" class=\"dataframe\">\n  <thead>\n    <tr style=\"text-align: right;\">\n      <th></th>\n      <th>srv_count</th>\n      <th>urgent</th>\n      <th>root_shell</th>\n      <th>hot</th>\n      <th>dst_host_srv_diff_host_rate</th>\n      <th>dst_host_count</th>\n      <th>logged_in</th>\n      <th>dst_host_same_src_port_rate</th>\n      <th>srv_diff_host_rate</th>\n      <th>num_shells</th>\n      <th>dst_host_srv_count</th>\n    </tr>\n  </thead>\n  <tbody>\n    <tr>\n      <th>0</th>\n      <td>10</td>\n      <td>0</td>\n      <td>0</td>\n      <td>0</td>\n      <td>0.00</td>\n      <td>255</td>\n      <td>0</td>\n      <td>0.00</td>\n      <td>0.00</td>\n      <td>0</td>\n      <td>10</td>\n    </tr>\n    <tr>\n      <th>1</th>\n      <td>1</td>\n      <td>0</td>\n      <td>0</td>\n      <td>0</td>\n      <td>0.00</td>\n      <td>255</td>\n      <td>0</td>\n      <td>0.00</td>\n      <td>0.00</td>\n      <td>0</td>\n      <td>1</td>\n    </tr>\n    <tr>\n      <th>2</th>\n      <td>1</td>\n      <td>0</td>\n      <td>0</td>\n      <td>0</td>\n      <td>0.02</td>\n      <td>134</td>\n      <td>0</td>\n      <td>0.61</td>\n      <td>0.00</td>\n      <td>0</td>\n      <td>86</td>\n    </tr>\n    <tr>\n      <th>3</th>\n      <td>65</td>\n      <td>0</td>\n      <td>0</td>\n      <td>0</td>\n      <td>0.28</td>\n      <td>3</td>\n      <td>0</td>\n      <td>1.00</td>\n      <td>1.00</td>\n      <td>0</td>\n      <td>57</td>\n    </tr>\n    <tr>\n      <th>4</th>\n      <td>8</td>\n      <td>0</td>\n      <td>0</td>\n      <td>0</td>\n      <td>0.02</td>\n      <td>29</td>\n      <td>0</td>\n      <td>0.03</td>\n      <td>0.75</td>\n      <td>0</td>\n      <td>86</td>\n    </tr>\n    <tr>\n      <th>...</th>\n      <td>...</td>\n      <td>...</td>\n      <td>...</td>\n      <td>...</td>\n      <td>...</td>\n      <td>...</td>\n      <td>...</td>\n      <td>...</td>\n      <td>...</td>\n      <td>...</td>\n      <td>...</td>\n    </tr>\n    <tr>\n      <th>22539</th>\n      <td>1</td>\n      <td>0</td>\n      <td>0</td>\n      <td>0</td>\n      <td>0.01</td>\n      <td>100</td>\n      <td>1</td>\n      <td>0.01</td>\n      <td>0.00</td>\n      <td>0</td>\n      <td>141</td>\n    </tr>\n    <tr>\n      <th>22540</th>\n      <td>11</td>\n      <td>0</td>\n      <td>0</td>\n      <td>0</td>\n      <td>0.01</td>\n      <td>197</td>\n      <td>1</td>\n      <td>0.01</td>\n      <td>0.18</td>\n      <td>0</td>\n      <td>255</td>\n    </tr>\n    <tr>\n      <th>22541</th>\n      <td>10</td>\n      <td>0</td>\n      <td>0</td>\n      <td>2</td>\n      <td>0.00</td>\n      <td>255</td>\n      <td>1</td>\n      <td>0.00</td>\n      <td>0.20</td>\n      <td>0</td>\n      <td>255</td>\n    </tr>\n    <tr>\n      <th>22542</th>\n      <td>6</td>\n      <td>0</td>\n      <td>0</td>\n      <td>0</td>\n      <td>0.00</td>\n      <td>255</td>\n      <td>0</td>\n      <td>0.00</td>\n      <td>0.33</td>\n      <td>0</td>\n      <td>252</td>\n    </tr>\n    <tr>\n      <th>22543</th>\n      <td>10</td>\n      <td>0</td>\n      <td>0</td>\n      <td>0</td>\n      <td>0.00</td>\n      <td>255</td>\n      <td>0</td>\n      <td>0.00</td>\n      <td>1.00</td>\n      <td>0</td>\n      <td>21</td>\n    </tr>\n  </tbody>\n</table>\n<p>22544 rows × 11 columns</p>\n</div>"
     },
     "execution_count": 2009,
     "metadata": {},
     "output_type": "execute_result"
    }
   ],
   "source": [
    "X_test = df_test2[common_features_l2] \n",
    "X_test"
   ],
   "metadata": {
    "collapsed": false,
    "ExecuteTime": {
     "end_time": "2023-10-18T13:24:01.723705Z",
     "start_time": "2023-10-18T13:24:01.638442500Z"
    }
   }
  },
  {
   "cell_type": "code",
   "execution_count": 2010,
   "metadata": {
    "ExecuteTime": {
     "end_time": "2023-10-18T13:24:01.862460300Z",
     "start_time": "2023-10-18T13:24:01.656464900Z"
    }
   },
   "outputs": [
    {
     "name": "stdout",
     "output_type": "stream",
     "text": [
      "Test set shape for layer 2:  (22544, 13)\n",
      "Type of X_test_layer1:  <class 'numpy.ndarray'>\n",
      "Type of X_test_layer1:  <class 'numpy.ndarray'>\n"
     ]
    }
   ],
   "source": [
    "df_minmax = scaler2.transform(X_test)\n",
    "X_test = pd.DataFrame(df_minmax, columns=X_test.columns)\n",
    "label_enc = ohe2.transform(df_test2.iloc[:,1:4])\n",
    "label_enc.toarray()\n",
    "new_labels = ohe2.get_feature_names_out(categorical_features)\n",
    "df_enc = pd.DataFrame(data=label_enc.toarray(), columns=new_labels)\n",
    "X_test = pd.concat([X_test, df_enc], axis=1)\n",
    "\n",
    "X_test_layer2 = pca_r2l_u2r.transform(X_test)\n",
    "print('Test set shape for layer 2: ', X_test_layer2.shape)\n",
    "print('Type of X_test_layer1: ', type(X_test_layer1))\n",
    "print('Type of X_test_layer1: ', type(X_test_layer2))"
   ]
  },
  {
   "cell_type": "code",
   "execution_count": 2011,
   "metadata": {
    "ExecuteTime": {
     "end_time": "2023-10-18T13:24:01.862460300Z",
     "start_time": "2023-10-18T13:24:01.698456500Z"
    }
   },
   "outputs": [],
   "source": [
    "# same classifiers obtained above\n",
    "classifier1 = dos_probe_classifier\n",
    "classifier2 = r2l_u2r_classifier"
   ]
  },
  {
   "cell_type": "code",
   "execution_count": 2012,
   "metadata": {
    "ExecuteTime": {
     "end_time": "2023-10-18T13:24:06.960706900Z",
     "start_time": "2023-10-18T13:24:01.704028100Z"
    }
   },
   "outputs": [],
   "source": [
    "result = []\n",
    "for i in range(X_test_layer2.shape[0]):\n",
    "    layer1 = classifier1.predict(X_test_layer1[i].reshape(1, -1))[0]\n",
    "    if layer1 == 1:\n",
    "        result.append(layer1)\n",
    "    else:\n",
    "        layer2 = classifier2.predict(X_test_layer2[i].reshape(1, -1))[0]\n",
    "        if layer2 == 1:\n",
    "            result.append(layer2)\n",
    "        else:\n",
    "            result.append(0)\n",
    "            \n",
    "result = np.array(result)"
   ]
  },
  {
   "cell_type": "code",
   "execution_count": 2013,
   "metadata": {
    "ExecuteTime": {
     "end_time": "2023-10-18T13:24:06.999768Z",
     "start_time": "2023-10-18T13:24:06.960706900Z"
    }
   },
   "outputs": [
    {
     "name": "stdout",
     "output_type": "stream",
     "text": [
      "Results for the layer 2 (SVM):\n",
      "[[ 8133  1578]\n",
      " [  851 11982]]\n",
      "Accuracy =  0.8922551454932577\n",
      "F1 Score =  0.9079680218239685\n",
      "Precision =  0.8836283185840708\n",
      "Recall =  0.9336865892620587\n",
      "Matthew corr =  0.7799971236137284\n"
     ]
    }
   ],
   "source": [
    "# the results may vary\n",
    "# C=0.1, gamma=0.01\n",
    "print('Results for the layer 2 (SVM):')\n",
    "print(confusion_matrix(y_test_real,result))\n",
    "print('Accuracy = ', accuracy_score(y_test_real,result))\n",
    "print('F1 Score = ', f1_score(y_test_real,result))\n",
    "print('Precision = ', precision_score(y_test_real,result))\n",
    "print('Recall = ', recall_score(y_test_real,result))\n",
    "print('Matthew corr = ', matthews_corrcoef(y_test_real,result))"
   ]
  },
  {
   "cell_type": "markdown",
   "source": [
    "### Export the test sets"
   ],
   "metadata": {
    "collapsed": false
   }
  },
  {
   "cell_type": "code",
   "execution_count": 2014,
   "outputs": [],
   "source": [
    "if EXPORT_DATASETS:\n",
    "    column_names = [f'PC{i}' for i in range(1, X_test_layer1.shape[1] + 1)]\n",
    "    X1_test = pd.DataFrame(data=X_test_layer1, columns=column_names)\n",
    "    X1_test.to_csv('NSL-KDD Encoded Datasets/X_test_l1.txt', index=False)\n",
    "    \n",
    "    column_names = [f'PC{i}' for i in range(1, X_test_layer2.shape[1] + 1)]\n",
    "    X2_test = pd.DataFrame(data=X_test_layer2, columns=column_names)\n",
    "    X2_test.to_csv('NSL-KDD Encoded Datasets/X_test_l2.txt', index=False)\n",
    "    \n",
    "    np.save('NSL-KDD Encoded Datasets/y_test', y_test_real)"
   ],
   "metadata": {
    "collapsed": false,
    "ExecuteTime": {
     "end_time": "2023-10-18T13:24:08.020192200Z",
     "start_time": "2023-10-18T13:24:06.999768Z"
    }
   }
  },
  {
   "cell_type": "markdown",
   "metadata": {},
   "source": [
    "### evaluate seen and unseen attack categories"
   ]
  },
  {
   "cell_type": "code",
   "execution_count": 2015,
   "metadata": {
    "ExecuteTime": {
     "end_time": "2023-10-18T13:24:08.113703Z",
     "start_time": "2023-10-18T13:24:08.020192200Z"
    }
   },
   "outputs": [],
   "source": [
    "# load testset\n",
    "df_test = pd.read_csv('NSL-KDD Original Datasets\\KDDTest+.txt', sep=\",\", header=None)\n",
    "df_test = df_test[df_test.columns[:-1]]\n",
    "df_test.columns = titles.to_list()\n",
    "y_test = df_test['label']\n",
    "df_test = df_test.drop(['num_outbound_cmds'],axis=1)\n",
    "df_test_original = df_test"
   ]
  },
  {
   "cell_type": "code",
   "execution_count": 2016,
   "outputs": [
    {
     "data": {
      "text/plain": "       duration protocol_type   service  flag  src_bytes  dst_bytes  land  \\\n0             0           tcp   private   REJ          0          0     0   \n1             0           tcp   private   REJ          0          0     0   \n2             2           tcp  ftp_data    SF      12983          0     0   \n3             0          icmp     eco_i    SF         20          0     0   \n4             1           tcp    telnet  RSTO          0         15     0   \n...         ...           ...       ...   ...        ...        ...   ...   \n22539         0           tcp      smtp    SF        794        333     0   \n22540         0           tcp      http    SF        317        938     0   \n22541         0           tcp      http    SF      54540       8314     0   \n22542         0           udp  domain_u    SF         42         42     0   \n22543         0           tcp    sunrpc   REJ          0          0     0   \n\n       wrong_fragment  urgent  hot  ...  dst_host_srv_count  \\\n0                   0       0    0  ...                  10   \n1                   0       0    0  ...                   1   \n2                   0       0    0  ...                  86   \n3                   0       0    0  ...                  57   \n4                   0       0    0  ...                  86   \n...               ...     ...  ...  ...                 ...   \n22539               0       0    0  ...                 141   \n22540               0       0    0  ...                 255   \n22541               0       0    2  ...                 255   \n22542               0       0    0  ...                 252   \n22543               0       0    0  ...                  21   \n\n       dst_host_same_srv_rate  dst_host_diff_srv_rate  \\\n0                        0.04                    0.06   \n1                        0.00                    0.06   \n2                        0.61                    0.04   \n3                        1.00                    0.00   \n4                        0.31                    0.17   \n...                       ...                     ...   \n22539                    0.72                    0.06   \n22540                    1.00                    0.00   \n22541                    1.00                    0.00   \n22542                    0.99                    0.01   \n22543                    0.08                    0.03   \n\n       dst_host_same_src_port_rate  dst_host_srv_diff_host_rate  \\\n0                             0.00                         0.00   \n1                             0.00                         0.00   \n2                             0.61                         0.02   \n3                             1.00                         0.28   \n4                             0.03                         0.02   \n...                            ...                          ...   \n22539                         0.01                         0.01   \n22540                         0.01                         0.01   \n22541                         0.00                         0.00   \n22542                         0.00                         0.00   \n22543                         0.00                         0.00   \n\n       dst_host_serror_rate  dst_host_srv_serror_rate  dst_host_rerror_rate  \\\n0                      0.00                       0.0                  1.00   \n1                      0.00                       0.0                  1.00   \n2                      0.00                       0.0                  0.00   \n3                      0.00                       0.0                  0.00   \n4                      0.00                       0.0                  0.83   \n...                     ...                       ...                   ...   \n22539                  0.01                       0.0                  0.00   \n22540                  0.01                       0.0                  0.00   \n22541                  0.00                       0.0                  0.07   \n22542                  0.00                       0.0                  0.00   \n22543                  0.00                       0.0                  0.44   \n\n       dst_host_srv_rerror_rate    label  \n0                          1.00  neptune  \n1                          1.00  neptune  \n2                          0.00   normal  \n3                          0.00    saint  \n4                          0.71    mscan  \n...                         ...      ...  \n22539                      0.00   normal  \n22540                      0.00   normal  \n22541                      0.07     back  \n22542                      0.00   normal  \n22543                      1.00    mscan  \n\n[22544 rows x 41 columns]",
      "text/html": "<div>\n<style scoped>\n    .dataframe tbody tr th:only-of-type {\n        vertical-align: middle;\n    }\n\n    .dataframe tbody tr th {\n        vertical-align: top;\n    }\n\n    .dataframe thead th {\n        text-align: right;\n    }\n</style>\n<table border=\"1\" class=\"dataframe\">\n  <thead>\n    <tr style=\"text-align: right;\">\n      <th></th>\n      <th>duration</th>\n      <th>protocol_type</th>\n      <th>service</th>\n      <th>flag</th>\n      <th>src_bytes</th>\n      <th>dst_bytes</th>\n      <th>land</th>\n      <th>wrong_fragment</th>\n      <th>urgent</th>\n      <th>hot</th>\n      <th>...</th>\n      <th>dst_host_srv_count</th>\n      <th>dst_host_same_srv_rate</th>\n      <th>dst_host_diff_srv_rate</th>\n      <th>dst_host_same_src_port_rate</th>\n      <th>dst_host_srv_diff_host_rate</th>\n      <th>dst_host_serror_rate</th>\n      <th>dst_host_srv_serror_rate</th>\n      <th>dst_host_rerror_rate</th>\n      <th>dst_host_srv_rerror_rate</th>\n      <th>label</th>\n    </tr>\n  </thead>\n  <tbody>\n    <tr>\n      <th>0</th>\n      <td>0</td>\n      <td>tcp</td>\n      <td>private</td>\n      <td>REJ</td>\n      <td>0</td>\n      <td>0</td>\n      <td>0</td>\n      <td>0</td>\n      <td>0</td>\n      <td>0</td>\n      <td>...</td>\n      <td>10</td>\n      <td>0.04</td>\n      <td>0.06</td>\n      <td>0.00</td>\n      <td>0.00</td>\n      <td>0.00</td>\n      <td>0.0</td>\n      <td>1.00</td>\n      <td>1.00</td>\n      <td>neptune</td>\n    </tr>\n    <tr>\n      <th>1</th>\n      <td>0</td>\n      <td>tcp</td>\n      <td>private</td>\n      <td>REJ</td>\n      <td>0</td>\n      <td>0</td>\n      <td>0</td>\n      <td>0</td>\n      <td>0</td>\n      <td>0</td>\n      <td>...</td>\n      <td>1</td>\n      <td>0.00</td>\n      <td>0.06</td>\n      <td>0.00</td>\n      <td>0.00</td>\n      <td>0.00</td>\n      <td>0.0</td>\n      <td>1.00</td>\n      <td>1.00</td>\n      <td>neptune</td>\n    </tr>\n    <tr>\n      <th>2</th>\n      <td>2</td>\n      <td>tcp</td>\n      <td>ftp_data</td>\n      <td>SF</td>\n      <td>12983</td>\n      <td>0</td>\n      <td>0</td>\n      <td>0</td>\n      <td>0</td>\n      <td>0</td>\n      <td>...</td>\n      <td>86</td>\n      <td>0.61</td>\n      <td>0.04</td>\n      <td>0.61</td>\n      <td>0.02</td>\n      <td>0.00</td>\n      <td>0.0</td>\n      <td>0.00</td>\n      <td>0.00</td>\n      <td>normal</td>\n    </tr>\n    <tr>\n      <th>3</th>\n      <td>0</td>\n      <td>icmp</td>\n      <td>eco_i</td>\n      <td>SF</td>\n      <td>20</td>\n      <td>0</td>\n      <td>0</td>\n      <td>0</td>\n      <td>0</td>\n      <td>0</td>\n      <td>...</td>\n      <td>57</td>\n      <td>1.00</td>\n      <td>0.00</td>\n      <td>1.00</td>\n      <td>0.28</td>\n      <td>0.00</td>\n      <td>0.0</td>\n      <td>0.00</td>\n      <td>0.00</td>\n      <td>saint</td>\n    </tr>\n    <tr>\n      <th>4</th>\n      <td>1</td>\n      <td>tcp</td>\n      <td>telnet</td>\n      <td>RSTO</td>\n      <td>0</td>\n      <td>15</td>\n      <td>0</td>\n      <td>0</td>\n      <td>0</td>\n      <td>0</td>\n      <td>...</td>\n      <td>86</td>\n      <td>0.31</td>\n      <td>0.17</td>\n      <td>0.03</td>\n      <td>0.02</td>\n      <td>0.00</td>\n      <td>0.0</td>\n      <td>0.83</td>\n      <td>0.71</td>\n      <td>mscan</td>\n    </tr>\n    <tr>\n      <th>...</th>\n      <td>...</td>\n      <td>...</td>\n      <td>...</td>\n      <td>...</td>\n      <td>...</td>\n      <td>...</td>\n      <td>...</td>\n      <td>...</td>\n      <td>...</td>\n      <td>...</td>\n      <td>...</td>\n      <td>...</td>\n      <td>...</td>\n      <td>...</td>\n      <td>...</td>\n      <td>...</td>\n      <td>...</td>\n      <td>...</td>\n      <td>...</td>\n      <td>...</td>\n      <td>...</td>\n    </tr>\n    <tr>\n      <th>22539</th>\n      <td>0</td>\n      <td>tcp</td>\n      <td>smtp</td>\n      <td>SF</td>\n      <td>794</td>\n      <td>333</td>\n      <td>0</td>\n      <td>0</td>\n      <td>0</td>\n      <td>0</td>\n      <td>...</td>\n      <td>141</td>\n      <td>0.72</td>\n      <td>0.06</td>\n      <td>0.01</td>\n      <td>0.01</td>\n      <td>0.01</td>\n      <td>0.0</td>\n      <td>0.00</td>\n      <td>0.00</td>\n      <td>normal</td>\n    </tr>\n    <tr>\n      <th>22540</th>\n      <td>0</td>\n      <td>tcp</td>\n      <td>http</td>\n      <td>SF</td>\n      <td>317</td>\n      <td>938</td>\n      <td>0</td>\n      <td>0</td>\n      <td>0</td>\n      <td>0</td>\n      <td>...</td>\n      <td>255</td>\n      <td>1.00</td>\n      <td>0.00</td>\n      <td>0.01</td>\n      <td>0.01</td>\n      <td>0.01</td>\n      <td>0.0</td>\n      <td>0.00</td>\n      <td>0.00</td>\n      <td>normal</td>\n    </tr>\n    <tr>\n      <th>22541</th>\n      <td>0</td>\n      <td>tcp</td>\n      <td>http</td>\n      <td>SF</td>\n      <td>54540</td>\n      <td>8314</td>\n      <td>0</td>\n      <td>0</td>\n      <td>0</td>\n      <td>2</td>\n      <td>...</td>\n      <td>255</td>\n      <td>1.00</td>\n      <td>0.00</td>\n      <td>0.00</td>\n      <td>0.00</td>\n      <td>0.00</td>\n      <td>0.0</td>\n      <td>0.07</td>\n      <td>0.07</td>\n      <td>back</td>\n    </tr>\n    <tr>\n      <th>22542</th>\n      <td>0</td>\n      <td>udp</td>\n      <td>domain_u</td>\n      <td>SF</td>\n      <td>42</td>\n      <td>42</td>\n      <td>0</td>\n      <td>0</td>\n      <td>0</td>\n      <td>0</td>\n      <td>...</td>\n      <td>252</td>\n      <td>0.99</td>\n      <td>0.01</td>\n      <td>0.00</td>\n      <td>0.00</td>\n      <td>0.00</td>\n      <td>0.0</td>\n      <td>0.00</td>\n      <td>0.00</td>\n      <td>normal</td>\n    </tr>\n    <tr>\n      <th>22543</th>\n      <td>0</td>\n      <td>tcp</td>\n      <td>sunrpc</td>\n      <td>REJ</td>\n      <td>0</td>\n      <td>0</td>\n      <td>0</td>\n      <td>0</td>\n      <td>0</td>\n      <td>0</td>\n      <td>...</td>\n      <td>21</td>\n      <td>0.08</td>\n      <td>0.03</td>\n      <td>0.00</td>\n      <td>0.00</td>\n      <td>0.00</td>\n      <td>0.0</td>\n      <td>0.44</td>\n      <td>1.00</td>\n      <td>mscan</td>\n    </tr>\n  </tbody>\n</table>\n<p>22544 rows × 41 columns</p>\n</div>"
     },
     "execution_count": 2016,
     "metadata": {},
     "output_type": "execute_result"
    }
   ],
   "source": [
    "if EXPORT_DATASETS:\n",
    "    df_test_original.to_csv('NSL-KDD Encoded Datasets/KDDTest+', index=False)\n",
    "    np.save('NSL-KDD Encoded Datasets/KDDTest+_targets', y_test)\n",
    "    \n",
    "df_test_original"
   ],
   "metadata": {
    "collapsed": false,
    "ExecuteTime": {
     "end_time": "2023-10-18T13:24:08.365Z",
     "start_time": "2023-10-18T13:24:08.113703Z"
    }
   }
  },
  {
   "cell_type": "code",
   "execution_count": 2017,
   "metadata": {
    "ExecuteTime": {
     "end_time": "2023-10-18T13:24:08.614803800Z",
     "start_time": "2023-10-18T13:24:08.361151300Z"
    }
   },
   "outputs": [
    {
     "data": {
      "text/plain": "['apache2',\n 'httptunnel',\n 'mailbomb',\n 'mscan',\n 'named',\n 'processtable',\n 'ps',\n 'saint',\n 'sendmail',\n 'snmpgetattack',\n 'snmpguess',\n 'sqlattack',\n 'udpstorm',\n 'worm',\n 'xlock',\n 'xsnoop',\n 'xterm']"
     },
     "execution_count": 2017,
     "metadata": {},
     "output_type": "execute_result"
    }
   ],
   "source": [
    "new_attack = []\n",
    "for i in df_test_original['label'].value_counts().index.tolist()[1:]:\n",
    "    if i not in df_train_original['label'].value_counts().index.tolist()[1:]:\n",
    "        new_attack.append(i)\n",
    "        \n",
    "new_attack.sort()\n",
    "new_attack"
   ]
  },
  {
   "cell_type": "code",
   "execution_count": 2018,
   "metadata": {
    "ExecuteTime": {
     "end_time": "2023-10-18T13:24:08.707603300Z",
     "start_time": "2023-10-18T13:24:08.614803800Z"
    }
   },
   "outputs": [],
   "source": [
    "index_of_new_attacks = []\n",
    "\n",
    "for i in range(len(df_test_original)):\n",
    "    if df_test_original['label'][i] in new_attack:\n",
    "        index_of_new_attacks.append(df_test_original.index[i])"
   ]
  },
  {
   "cell_type": "code",
   "execution_count": 2019,
   "outputs": [
    {
     "data": {
      "text/plain": "3750"
     },
     "execution_count": 2019,
     "metadata": {},
     "output_type": "execute_result"
    }
   ],
   "source": [
    "len(index_of_new_attacks)"
   ],
   "metadata": {
    "collapsed": false,
    "ExecuteTime": {
     "end_time": "2023-10-18T13:24:08.713300600Z",
     "start_time": "2023-10-18T13:24:08.707603300Z"
    }
   }
  },
  {
   "cell_type": "code",
   "execution_count": 2020,
   "metadata": {
    "ExecuteTime": {
     "end_time": "2023-10-18T13:24:08.722922500Z",
     "start_time": "2023-10-18T13:24:08.713300600Z"
    }
   },
   "outputs": [
    {
     "data": {
      "text/plain": "['apache2',\n 'httptunnel',\n 'mailbomb',\n 'mscan',\n 'named',\n 'processtable',\n 'ps',\n 'saint',\n 'sendmail',\n 'snmpgetattack',\n 'snmpguess',\n 'sqlattack',\n 'udpstorm',\n 'worm',\n 'xlock',\n 'xsnoop',\n 'xterm',\n 'normal']"
     },
     "execution_count": 2020,
     "metadata": {},
     "output_type": "execute_result"
    }
   ],
   "source": [
    "new_attack.append('normal')\n",
    "new_attack"
   ]
  },
  {
   "cell_type": "code",
   "execution_count": 2021,
   "metadata": {
    "ExecuteTime": {
     "end_time": "2023-10-18T13:24:08.816898700Z",
     "start_time": "2023-10-18T13:24:08.754203800Z"
    }
   },
   "outputs": [],
   "source": [
    "index_of_old_attacks = []\n",
    "\n",
    "for i in range(len(df_test_original)):\n",
    "    if df_test_original['label'][i] not in new_attack:\n",
    "        index_of_old_attacks.append(df_test_original.index[i])"
   ]
  },
  {
   "cell_type": "code",
   "execution_count": 2022,
   "metadata": {
    "ExecuteTime": {
     "end_time": "2023-10-18T13:24:08.820419900Z",
     "start_time": "2023-10-18T13:24:08.816898700Z"
    }
   },
   "outputs": [
    {
     "data": {
      "text/plain": "9083"
     },
     "execution_count": 2022,
     "metadata": {},
     "output_type": "execute_result"
    }
   ],
   "source": [
    "len(index_of_old_attacks)"
   ]
  },
  {
   "cell_type": "code",
   "execution_count": 2023,
   "metadata": {
    "ExecuteTime": {
     "end_time": "2023-10-18T13:24:08.827725700Z",
     "start_time": "2023-10-18T13:24:08.820419900Z"
    }
   },
   "outputs": [
    {
     "name": "stdout",
     "output_type": "stream",
     "text": [
      "Number of new attacks in the test set:  3750\n",
      "Number of new attacks detected by the classifiers:  3392\n",
      "Proportion of new attacks detected:  0.9045333333333333\n"
     ]
    }
   ],
   "source": [
    "print('Number of new attacks in the test set: ', result[index_of_new_attacks].shape[0])\n",
    "print('Number of new attacks detected by the classifiers: ', result[index_of_new_attacks].sum())\n",
    "print('Proportion of new attacks detected: ', result[index_of_new_attacks].sum()/result[index_of_new_attacks].shape[0])"
   ]
  },
  {
   "cell_type": "code",
   "execution_count": 2024,
   "metadata": {
    "ExecuteTime": {
     "end_time": "2023-10-18T13:24:08.837625500Z",
     "start_time": "2023-10-18T13:24:08.827725700Z"
    }
   },
   "outputs": [
    {
     "name": "stdout",
     "output_type": "stream",
     "text": [
      "Number of old attacks in the test set:  9083\n",
      "Number of old attacks detected by the classifiers:  8590\n",
      "Proportion of old attacks detected:  0.9457227788175713\n"
     ]
    }
   ],
   "source": [
    "print('Number of old attacks in the test set: ', result[index_of_old_attacks].shape[0])\n",
    "print('Number of old attacks detected by the classifiers: ', result[index_of_old_attacks].sum())\n",
    "print('Proportion of old attacks detected: ', result[index_of_old_attacks].sum()/result[index_of_old_attacks].shape[0])"
   ]
  },
  {
   "cell_type": "markdown",
   "metadata": {},
   "source": [
    "### Evaluate single attack types"
   ]
  },
  {
   "cell_type": "code",
   "execution_count": 2025,
   "metadata": {
    "ExecuteTime": {
     "end_time": "2023-10-18T13:24:08.935348800Z",
     "start_time": "2023-10-18T13:24:08.837625500Z"
    }
   },
   "outputs": [
    {
     "name": "stdout",
     "output_type": "stream",
     "text": [
      "Evaluation split into single attack type:\n",
      "Number of dos attacks:  7460\n",
      "Number of detected attacks:  6893\n",
      "Ratio of detection:  0.923994638069705\n",
      "Number of probe attacks:  2421\n",
      "Number of detected attacks:  2246\n",
      "Ratio of detection:  0.9277158199091284\n",
      "Number of r2l attacks:  2885\n",
      "Number of detected attacks:  2776\n",
      "Ratio of detection:  0.9622183708838822\n",
      "Number of u2r attacks:  67\n",
      "Number of detected attacks:  67\n",
      "Ratio of detection:  1.0\n"
     ]
    }
   ],
   "source": [
    "# load test set\n",
    "df_test = pd.read_csv('NSL-KDD Original Datasets/KDDTest+.txt', sep=\",\", header=None)\n",
    "df_test = df_test[df_test.columns[:-1]]\n",
    "df_test.columns = titles.to_list()\n",
    "y_test = df_test['label']\n",
    "df_test = df_test.drop(['num_outbound_cmds'],axis=1)\n",
    "df_test_original = df_test\n",
    "df = df_test_original\n",
    "\n",
    "dos_index = df.index[(df['label'].isin(dos_attacks))].tolist()\n",
    "probe_index = df.index[(df['label'].isin(probe_attacks))].tolist()\n",
    "r2l_index = df.index[(df['label'].isin(r2l_attacks))].tolist()\n",
    "u2r_index = df.index[(df['label'].isin(u2r_attacks))].tolist()\n",
    "\n",
    "print('Evaluation split into single attack type:')\n",
    "print(\"Number of dos attacks: \", result[dos_index].shape[0])\n",
    "print(\"Number of detected attacks: \", result[dos_index].sum())\n",
    "print(\"Ratio of detection: \", result[dos_index].sum()/result[dos_index].shape[0])\n",
    "\n",
    "print(\"Number of probe attacks: \", result[probe_index].shape[0])\n",
    "print(\"Number of detected attacks: \", result[probe_index].sum())\n",
    "print(\"Ratio of detection: \", result[probe_index].sum()/result[probe_index].shape[0])\n",
    "\n",
    "print(\"Number of r2l attacks: \", result[r2l_index].shape[0])\n",
    "print(\"Number of detected attacks: \", result[r2l_index].sum())\n",
    "print(\"Ratio of detection: \", result[r2l_index].sum()/result[r2l_index].shape[0])\n",
    "\n",
    "print(\"Number of u2r attacks: \", result[u2r_index].shape[0])\n",
    "print(\"Number of detected attacks: \", result[u2r_index].sum())\n",
    "print(\"Ratio of detection: \", result[u2r_index].sum()/result[u2r_index].shape[0])"
   ]
  }
 ],
 "metadata": {
  "kernelspec": {
   "display_name": "Python 3",
   "language": "python",
   "name": "python3"
  },
  "language_info": {
   "codemirror_mode": {
    "name": "ipython",
    "version": 3
   },
   "file_extension": ".py",
   "mimetype": "text/x-python",
   "name": "python",
   "nbconvert_exporter": "python",
   "pygments_lexer": "ipython3",
   "version": "3.8.3"
  }
 },
 "nbformat": 4,
 "nbformat_minor": 4
}
