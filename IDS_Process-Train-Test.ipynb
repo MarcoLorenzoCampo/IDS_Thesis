{
 "cells": [
  {
   "cell_type": "code",
   "execution_count": 729,
   "metadata": {
    "ExecuteTime": {
     "end_time": "2023-10-27T14:27:56.372213500Z",
     "start_time": "2023-10-27T14:27:56.136719900Z"
    }
   },
   "outputs": [],
   "source": [
    "import numpy as np \n",
    "import pandas as pd\n",
    "import copy\n",
    "import pickle\n",
    "import joblib\n",
    "\n",
    "from sklearn.preprocessing import OneHotEncoder\n",
    "from sklearn.preprocessing import MinMaxScaler\n",
    "from sklearn.model_selection import train_test_split\n",
    "\n",
    "from sklearn.decomposition import PCA\n",
    "from imblearn.under_sampling import RandomUnderSampler as under_sam\n",
    "\n",
    "from sklearn.naive_bayes import GaussianNB\n",
    "from sklearn.svm import SVC\n",
    "from sklearn.metrics import confusion_matrix, accuracy_score, f1_score\n",
    "from sklearn.metrics import matthews_corrcoef, precision_score, recall_score\n",
    "from sklearn.ensemble import RandomForestClassifier"
   ]
  },
  {
   "cell_type": "markdown",
   "source": [
    "### ICFS function\n",
    "Takes a dataframe as parameter and saves to file all the features necessary to describe DoS+Probe and U2R+R2L"
   ],
   "metadata": {
    "collapsed": false
   }
  },
  {
   "cell_type": "code",
   "execution_count": 730,
   "outputs": [],
   "source": [
    "def pearson_correlated_features(x, y, threshold):\n",
    "    y['target'] = y['target'].astype(int)\n",
    "\n",
    "    for p in x.columns:\n",
    "        x[p] = x[p].astype(float)\n",
    "\n",
    "    # Ensure y is a DataFrame for consistency\n",
    "    if isinstance(y, pd.Series):\n",
    "        y = pd.DataFrame(y, columns=['target'])\n",
    "\n",
    "    # Calculate the Pearson's correlation coefficients between features and the target variable(s)\n",
    "    corr_matrix = x.corrwith(y['target'])\n",
    "\n",
    "    # Select features with correlations above the threshold\n",
    "    selected_features = x.columns[corr_matrix.abs() > threshold].tolist()\n",
    "\n",
    "    return selected_features"
   ],
   "metadata": {
    "collapsed": false,
    "ExecuteTime": {
     "end_time": "2023-10-27T14:27:56.860209100Z",
     "start_time": "2023-10-27T14:27:56.168448900Z"
    }
   }
  },
  {
   "cell_type": "code",
   "execution_count": 731,
   "outputs": [],
   "source": [
    "def compute_set_difference(df1, df2):\n",
    "    # Create a new DataFrame containing the set difference of the two DataFrames.\n",
    "    df_diff = df1[~df1.index.isin(df2.index)]\n",
    "    # Return the DataFrame.\n",
    "    return df_diff"
   ],
   "metadata": {
    "collapsed": false,
    "ExecuteTime": {
     "end_time": "2023-10-27T14:27:56.907463200Z",
     "start_time": "2023-10-27T14:27:56.183240600Z"
    }
   }
  },
  {
   "cell_type": "code",
   "execution_count": 732,
   "outputs": [],
   "source": [
    "def perform_icfs(x_train):\n",
    "    # now ICFS only on the numerical features\n",
    "    num_train = copy.deepcopy(x_train)\n",
    "    del num_train['protocol_type']\n",
    "    del num_train['service']\n",
    "    del num_train['flag']\n",
    "\n",
    "    target = pd.DataFrame()\n",
    "    target['target'] = np.array([1 if x != 'normal' else 0 for x in num_train['label']])\n",
    "    num_train = pd.concat([num_train, target], axis=1)\n",
    "\n",
    "    # These are how attacks are categorized in the trainset\n",
    "    dos_list = ['back', 'land', 'neptune', 'pod', 'smurf', 'teardrop']\n",
    "    probe_list = ['ipsweep', 'portsweep', 'satan', 'nmap']\n",
    "    u2r_list = ['loadmodule', 'perl', 'rootkit', 'buffer_overflow']\n",
    "    r2l_list = ['ftp_write', 'guess_passwd', 'imap', 'multihop', 'phf', 'spy', 'warezclient', 'warezmaster']\n",
    "    normal = ['normal']\n",
    "\n",
    "    # useful sub-sets\n",
    "    x_normal = num_train[num_train['label'].isin(normal)]\n",
    "    x_u2r = num_train[num_train['label'].isin(u2r_list)]\n",
    "    x_r2l = num_train[num_train['label'].isin(r2l_list)]\n",
    "    x_dos = num_train[num_train['label'].isin(dos_list)]\n",
    "    x_probe = num_train[num_train['label'].isin(probe_list)]\n",
    "\n",
    "    # start the ICFS with l1\n",
    "\n",
    "    # features for dos\n",
    "    dos = copy.deepcopy(num_train)\n",
    "    del dos['target']\n",
    "    y = np.array([1 if x in dos_list else 0 for x in dos['label']])\n",
    "    y_dos = pd.DataFrame(y, columns=['target'])\n",
    "    del dos['label']\n",
    "    dos_all = pearson_correlated_features(dos, y_dos, 0.1)\n",
    "    print(dos_all)\n",
    "\n",
    "    # features for probe\n",
    "    probe = copy.deepcopy(num_train)\n",
    "    del probe['target']\n",
    "    y = np.array([1 if x in probe_list else 0 for x in probe['label']])\n",
    "    y_probe = pd.DataFrame(y, columns=['target'])\n",
    "    del probe['label']\n",
    "    probe_all = pearson_correlated_features(probe, y_probe, 0.1)\n",
    "    print(probe_all)\n",
    "\n",
    "    # intersect for the optimal features\n",
    "    set_dos = set(dos_all)\n",
    "    set_probe = set(probe_all)\n",
    "\n",
    "    comm_features_l1 = set_probe & set_dos\n",
    "\n",
    "    print('common features to train l1: ', comm_features_l1)\n",
    "\n",
    "    # now l2 needs the features to describe the difference between rare attacks and normal traffic\n",
    "\n",
    "    # features for u2r\n",
    "    u2r = pd.concat([x_u2r, x_normal], axis=0)\n",
    "    del u2r['target']\n",
    "    y = np.array([1 if x in u2r_list else 0 for x in u2r['label']])\n",
    "    y_u2r = pd.DataFrame(y, columns=['target'])\n",
    "    del u2r['label']\n",
    "    u2r_all = pearson_correlated_features(u2r, y_u2r, 0.01)\n",
    "    print(u2r_all)\n",
    "\n",
    "    # features for r2l\n",
    "    r2l = pd.concat([x_r2l, x_normal], axis=0)\n",
    "    del r2l['target']\n",
    "    y = np.array([1 if x in r2l_list else 0 for x in r2l['label']])\n",
    "    y_r2l = pd.DataFrame(y, columns=['target'])\n",
    "    del r2l['label']\n",
    "    r2l_all = pearson_correlated_features(r2l, y_r2l, 0.01)\n",
    "    print(r2l_all)\n",
    "\n",
    "    # intersect for the optimal features\n",
    "    set_r2l = set(r2l_all)\n",
    "    set_u2r = set(u2r_all)\n",
    "\n",
    "    comm_features_l2 = set_r2l & set_u2r\n",
    "    # print('Common features to train l2: ', len(common_features_l2), common_features_l2)\n",
    "\n",
    "    with open('NSL-KDD Files/NSL_features_l1.txt', 'w') as g:\n",
    "        for a, x in enumerate(comm_features_l1):\n",
    "            if a < len(comm_features_l1) - 1:\n",
    "                g.write(x + ',' + '\\n')\n",
    "            else:\n",
    "                g.write(x)\n",
    "\n",
    "    # read the common features from file\n",
    "    with open('NSL-KDD Files/NSL_features_l2.txt', 'w') as g:\n",
    "        for a, x in enumerate(comm_features_l2):\n",
    "            if a < len(comm_features_l2) - 1:\n",
    "                g.write(x + ',' + '\\n')\n",
    "            else:\n",
    "                g.write(x)"
   ],
   "metadata": {
    "collapsed": false,
    "ExecuteTime": {
     "end_time": "2023-10-27T14:27:56.922766Z",
     "start_time": "2023-10-27T14:27:56.184270Z"
    }
   }
  },
  {
   "cell_type": "markdown",
   "source": [
    "# Main implementation"
   ],
   "metadata": {
    "collapsed": false
   }
  },
  {
   "cell_type": "code",
   "execution_count": 733,
   "metadata": {
    "ExecuteTime": {
     "end_time": "2023-10-27T14:27:57.975114800Z",
     "start_time": "2023-10-27T14:27:56.205628900Z"
    }
   },
   "outputs": [],
   "source": [
    "# loading the train set\n",
    "df_train = pd.read_csv('NSL-KDD Original Datasets/KDDTrain+.txt', sep=\",\", header=None)\n",
    "df_train = df_train[df_train.columns[:-1]]  # tags column\n",
    "titles = pd.read_csv('NSL-KDD Original Datasets/Field Names.csv', header=None)\n",
    "label = pd.Series(['label'], index=[41])\n",
    "titles = pd.concat([titles[0], label])\n",
    "df_train.columns = titles.to_list()\n",
    "df_train = df_train.drop(['num_outbound_cmds'],axis=1)\n",
    "df_train_original = df_train\n",
    "# df_train_original"
   ]
  },
  {
   "cell_type": "code",
   "execution_count": 734,
   "metadata": {
    "ExecuteTime": {
     "end_time": "2023-10-27T14:27:58.022354300Z",
     "start_time": "2023-10-27T14:27:56.813046700Z"
    }
   },
   "outputs": [],
   "source": [
    "# load test set\n",
    "df_test = pd.read_csv('NSL-KDD Original Datasets/KDDTest+.txt', sep=\",\", header=None)\n",
    "df_test_ = df_test.sort_index(axis=1)\n",
    "df_test = df_test[df_test.columns[:-1]]\n",
    "df_test.columns = titles.to_list()\n",
    "df_test = df_test.drop(['num_outbound_cmds'],axis=1)\n",
    "df_test_original = df_test\n",
    "# df_test_original"
   ]
  },
  {
   "cell_type": "markdown",
   "source": [
    "### Execution Parameters"
   ],
   "metadata": {
    "collapsed": false
   }
  },
  {
   "cell_type": "code",
   "execution_count": 735,
   "outputs": [],
   "source": [
    "EXPORT_MODELS = 1\n",
    "EXPORT_DATASETS = 1\n",
    "EXPORT_PCA = 1\n",
    "EXPORT_ENCODERS = 1"
   ],
   "metadata": {
    "collapsed": false,
    "ExecuteTime": {
     "end_time": "2023-10-27T14:27:58.022354300Z",
     "start_time": "2023-10-27T14:27:56.931801100Z"
    }
   }
  },
  {
   "cell_type": "markdown",
   "metadata": {},
   "source": [
    "### Perform ICFS if needed"
   ]
  },
  {
   "cell_type": "code",
   "execution_count": 736,
   "outputs": [],
   "source": [
    "# It is possible to compute the ICFS again\n",
    "\n",
    "# perform_icfs(df_train_original)"
   ],
   "metadata": {
    "collapsed": false,
    "ExecuteTime": {
     "end_time": "2023-10-27T14:27:58.022354300Z",
     "start_time": "2023-10-27T14:27:56.938630900Z"
    }
   }
  },
  {
   "cell_type": "markdown",
   "metadata": {},
   "source": [
    "# DoS + Probe classifier (NBC)"
   ]
  },
  {
   "cell_type": "code",
   "execution_count": 737,
   "outputs": [],
   "source": [
    "# list of single attacks \n",
    "dos_attacks = ['back', 'land', 'neptune', 'pod', 'smurf', 'teardrop', 'worm', 'apache2', 'mailbomb', 'processtable', 'udpstorm']\n",
    "probe_attacks = ['ipsweep', 'mscan', 'nmap', 'portsweep', 'saint', 'satan']\n",
    "r2l_attacks = ['guess_passwd', 'ftp_write', 'imap', 'phf', 'multihop', 'warezmaster',\n",
    "                'snmpguess', 'spy', 'warezclient', 'httptunnel', 'named', 'sendmail', 'snmpgetattack', 'xlock', 'xsnoop']\n",
    "u2r_attacks = ['buffer_overflow', 'loadmodule', 'perl', 'ps', 'rootkit', 'sqlattack', 'xterm'] \n",
    "\n",
    "# list of attack classes split according to detection layer\n",
    "dos_probe_list = ['back', 'land', 'neptune', 'pod', 'smurf', 'teardrop', 'ipsweep', 'nmap', 'portsweep', 'satan']\n",
    "dos_probe_test = ['apache2', 'mailbomb', 'processtable', 'udpstorm', 'mscan', 'saint']\n",
    "u2r_r2l_list = ['guess_passwd', 'ftp_write', 'imap', 'phf', 'multihop', 'warezmaster',\n",
    "                'snmpguess', 'spy', 'warezclient', 'buffer_overflow', 'loadmodule', 'rootkit', 'perl']\n",
    "u2r_r2l_test = ['httptunnel', 'named', 'sendmail', 'snmpgetattack', 'xlock', 'xsnoop', 'ps', 'xterm', 'sqlattack']\n",
    "normal_list = ['normal']\n",
    "categorical_features = ['protocol_type', 'service', 'flag']\n",
    "\n",
    "# load the features obtained with ICFS for both layer 1 and layer 2\n",
    "with open('NSL-KDD Files/NSL_features_l1.txt', 'r') as f:\n",
    "    common_features_l1 = f.read().split(',')\n",
    "\n",
    "with open('NSL-KDD Files/NSL_features_l2.txt', 'r') as f:\n",
    "    common_features_l2 = f.read().split(',')\n",
    "    \n",
    "df_train_and_validate = copy.deepcopy(df_train_original)\n",
    "df_test = copy.deepcopy(df_test_original)"
   ],
   "metadata": {
    "collapsed": false,
    "ExecuteTime": {
     "end_time": "2023-10-27T14:27:58.022354300Z",
     "start_time": "2023-10-27T14:27:56.953925800Z"
    }
   }
  },
  {
   "cell_type": "code",
   "execution_count": 738,
   "metadata": {
    "ExecuteTime": {
     "end_time": "2023-10-27T14:27:58.022354300Z",
     "start_time": "2023-10-27T14:27:56.985384300Z"
    }
   },
   "outputs": [
    {
     "data": {
      "text/plain": "        count  diff_srv_rate  dst_bytes  dst_host_count  \\\n0          16           0.00      14939              52   \n1         142           0.06          0             255   \n2         273           0.06          0             255   \n3          20           0.00        259             255   \n4         274           0.00          4             255   \n...       ...            ...        ...             ...   \n100773    258           0.07          0             255   \n100774     24           0.08          0             255   \n100775    258           0.07          0             255   \n100776      5           0.00       4281              21   \n100777    202           0.01         70             255   \n\n        dst_host_diff_srv_rate  dst_host_rerror_rate  \\\n0                         0.00                   0.0   \n1                         0.06                   0.0   \n2                         0.06                   1.0   \n3                         0.00                   0.0   \n4                         0.00                   0.0   \n...                        ...                   ...   \n100773                    0.09                   1.0   \n100774                    0.07                   0.0   \n100775                    0.07                   1.0   \n100776                    0.00                   0.0   \n100777                    0.01                   0.0   \n\n        dst_host_same_src_port_rate  dst_host_same_srv_rate  \\\n0                              0.02                    1.00   \n1                              0.00                    0.01   \n2                              0.00                    0.03   \n3                              0.00                    1.00   \n4                              1.00                    1.00   \n...                             ...                     ...   \n100773                         0.00                    0.02   \n100774                         0.01                    0.02   \n100775                         0.00                    0.02   \n100776                         0.05                    1.00   \n100777                         0.01                    1.00   \n\n        dst_host_serror_rate  dst_host_srv_count  ...  serror_rate   service  \\\n0                        0.0                 255  ...          0.0      http   \n1                        1.0                   2  ...          1.0   private   \n2                        0.0                   8  ...          0.0      http   \n3                        0.0                 255  ...          0.0      http   \n4                        0.0                 255  ...          0.0     other   \n...                      ...                 ...  ...          ...       ...   \n100773                   0.0                   4  ...          0.0      echo   \n100774                   1.0                   4  ...          1.0    telnet   \n100775                   0.0                   6  ...          0.0      http   \n100776                   0.0                 255  ...          0.0      http   \n100777                   0.0                 254  ...          0.0  domain_u   \n\n        src_bytes  srv_count srv_diff_host_rate  srv_rerror_rate  \\\n0             214         18               0.17              0.0   \n1               0          2               0.00              0.0   \n2               0          8               0.00              1.0   \n3             257         20               0.00              0.0   \n4             516        274               0.00              0.0   \n...           ...        ...                ...              ...   \n100773          0          4               0.00              1.0   \n100774          0          4               0.00              0.0   \n100775          0          6               0.00              1.0   \n100776        309          5               0.00              0.0   \n100777         43        201               0.00              0.0   \n\n        srv_serror_rate  su_attempted  urgent  wrong_fragment  \n0                   0.0             0       0               0  \n1                   1.0             0       0               0  \n2                   0.0             0       0               0  \n3                   0.0             0       0               0  \n4                   0.0             0       0               0  \n...                 ...           ...     ...             ...  \n100773              0.0             0       0               0  \n100774              1.0             0       0               0  \n100775              0.0             0       0               0  \n100776              0.0             0       0               0  \n100777              0.0             0       0               0  \n\n[100778 rows x 40 columns]",
      "text/html": "<div>\n<style scoped>\n    .dataframe tbody tr th:only-of-type {\n        vertical-align: middle;\n    }\n\n    .dataframe tbody tr th {\n        vertical-align: top;\n    }\n\n    .dataframe thead th {\n        text-align: right;\n    }\n</style>\n<table border=\"1\" class=\"dataframe\">\n  <thead>\n    <tr style=\"text-align: right;\">\n      <th></th>\n      <th>count</th>\n      <th>diff_srv_rate</th>\n      <th>dst_bytes</th>\n      <th>dst_host_count</th>\n      <th>dst_host_diff_srv_rate</th>\n      <th>dst_host_rerror_rate</th>\n      <th>dst_host_same_src_port_rate</th>\n      <th>dst_host_same_srv_rate</th>\n      <th>dst_host_serror_rate</th>\n      <th>dst_host_srv_count</th>\n      <th>...</th>\n      <th>serror_rate</th>\n      <th>service</th>\n      <th>src_bytes</th>\n      <th>srv_count</th>\n      <th>srv_diff_host_rate</th>\n      <th>srv_rerror_rate</th>\n      <th>srv_serror_rate</th>\n      <th>su_attempted</th>\n      <th>urgent</th>\n      <th>wrong_fragment</th>\n    </tr>\n  </thead>\n  <tbody>\n    <tr>\n      <th>0</th>\n      <td>16</td>\n      <td>0.00</td>\n      <td>14939</td>\n      <td>52</td>\n      <td>0.00</td>\n      <td>0.0</td>\n      <td>0.02</td>\n      <td>1.00</td>\n      <td>0.0</td>\n      <td>255</td>\n      <td>...</td>\n      <td>0.0</td>\n      <td>http</td>\n      <td>214</td>\n      <td>18</td>\n      <td>0.17</td>\n      <td>0.0</td>\n      <td>0.0</td>\n      <td>0</td>\n      <td>0</td>\n      <td>0</td>\n    </tr>\n    <tr>\n      <th>1</th>\n      <td>142</td>\n      <td>0.06</td>\n      <td>0</td>\n      <td>255</td>\n      <td>0.06</td>\n      <td>0.0</td>\n      <td>0.00</td>\n      <td>0.01</td>\n      <td>1.0</td>\n      <td>2</td>\n      <td>...</td>\n      <td>1.0</td>\n      <td>private</td>\n      <td>0</td>\n      <td>2</td>\n      <td>0.00</td>\n      <td>0.0</td>\n      <td>1.0</td>\n      <td>0</td>\n      <td>0</td>\n      <td>0</td>\n    </tr>\n    <tr>\n      <th>2</th>\n      <td>273</td>\n      <td>0.06</td>\n      <td>0</td>\n      <td>255</td>\n      <td>0.06</td>\n      <td>1.0</td>\n      <td>0.00</td>\n      <td>0.03</td>\n      <td>0.0</td>\n      <td>8</td>\n      <td>...</td>\n      <td>0.0</td>\n      <td>http</td>\n      <td>0</td>\n      <td>8</td>\n      <td>0.00</td>\n      <td>1.0</td>\n      <td>0.0</td>\n      <td>0</td>\n      <td>0</td>\n      <td>0</td>\n    </tr>\n    <tr>\n      <th>3</th>\n      <td>20</td>\n      <td>0.00</td>\n      <td>259</td>\n      <td>255</td>\n      <td>0.00</td>\n      <td>0.0</td>\n      <td>0.00</td>\n      <td>1.00</td>\n      <td>0.0</td>\n      <td>255</td>\n      <td>...</td>\n      <td>0.0</td>\n      <td>http</td>\n      <td>257</td>\n      <td>20</td>\n      <td>0.00</td>\n      <td>0.0</td>\n      <td>0.0</td>\n      <td>0</td>\n      <td>0</td>\n      <td>0</td>\n    </tr>\n    <tr>\n      <th>4</th>\n      <td>274</td>\n      <td>0.00</td>\n      <td>4</td>\n      <td>255</td>\n      <td>0.00</td>\n      <td>0.0</td>\n      <td>1.00</td>\n      <td>1.00</td>\n      <td>0.0</td>\n      <td>255</td>\n      <td>...</td>\n      <td>0.0</td>\n      <td>other</td>\n      <td>516</td>\n      <td>274</td>\n      <td>0.00</td>\n      <td>0.0</td>\n      <td>0.0</td>\n      <td>0</td>\n      <td>0</td>\n      <td>0</td>\n    </tr>\n    <tr>\n      <th>...</th>\n      <td>...</td>\n      <td>...</td>\n      <td>...</td>\n      <td>...</td>\n      <td>...</td>\n      <td>...</td>\n      <td>...</td>\n      <td>...</td>\n      <td>...</td>\n      <td>...</td>\n      <td>...</td>\n      <td>...</td>\n      <td>...</td>\n      <td>...</td>\n      <td>...</td>\n      <td>...</td>\n      <td>...</td>\n      <td>...</td>\n      <td>...</td>\n      <td>...</td>\n      <td>...</td>\n    </tr>\n    <tr>\n      <th>100773</th>\n      <td>258</td>\n      <td>0.07</td>\n      <td>0</td>\n      <td>255</td>\n      <td>0.09</td>\n      <td>1.0</td>\n      <td>0.00</td>\n      <td>0.02</td>\n      <td>0.0</td>\n      <td>4</td>\n      <td>...</td>\n      <td>0.0</td>\n      <td>echo</td>\n      <td>0</td>\n      <td>4</td>\n      <td>0.00</td>\n      <td>1.0</td>\n      <td>0.0</td>\n      <td>0</td>\n      <td>0</td>\n      <td>0</td>\n    </tr>\n    <tr>\n      <th>100774</th>\n      <td>24</td>\n      <td>0.08</td>\n      <td>0</td>\n      <td>255</td>\n      <td>0.07</td>\n      <td>0.0</td>\n      <td>0.01</td>\n      <td>0.02</td>\n      <td>1.0</td>\n      <td>4</td>\n      <td>...</td>\n      <td>1.0</td>\n      <td>telnet</td>\n      <td>0</td>\n      <td>4</td>\n      <td>0.00</td>\n      <td>0.0</td>\n      <td>1.0</td>\n      <td>0</td>\n      <td>0</td>\n      <td>0</td>\n    </tr>\n    <tr>\n      <th>100775</th>\n      <td>258</td>\n      <td>0.07</td>\n      <td>0</td>\n      <td>255</td>\n      <td>0.07</td>\n      <td>1.0</td>\n      <td>0.00</td>\n      <td>0.02</td>\n      <td>0.0</td>\n      <td>6</td>\n      <td>...</td>\n      <td>0.0</td>\n      <td>http</td>\n      <td>0</td>\n      <td>6</td>\n      <td>0.00</td>\n      <td>1.0</td>\n      <td>0.0</td>\n      <td>0</td>\n      <td>0</td>\n      <td>0</td>\n    </tr>\n    <tr>\n      <th>100776</th>\n      <td>5</td>\n      <td>0.00</td>\n      <td>4281</td>\n      <td>21</td>\n      <td>0.00</td>\n      <td>0.0</td>\n      <td>0.05</td>\n      <td>1.00</td>\n      <td>0.0</td>\n      <td>255</td>\n      <td>...</td>\n      <td>0.0</td>\n      <td>http</td>\n      <td>309</td>\n      <td>5</td>\n      <td>0.00</td>\n      <td>0.0</td>\n      <td>0.0</td>\n      <td>0</td>\n      <td>0</td>\n      <td>0</td>\n    </tr>\n    <tr>\n      <th>100777</th>\n      <td>202</td>\n      <td>0.01</td>\n      <td>70</td>\n      <td>255</td>\n      <td>0.01</td>\n      <td>0.0</td>\n      <td>0.01</td>\n      <td>1.00</td>\n      <td>0.0</td>\n      <td>254</td>\n      <td>...</td>\n      <td>0.0</td>\n      <td>domain_u</td>\n      <td>43</td>\n      <td>201</td>\n      <td>0.00</td>\n      <td>0.0</td>\n      <td>0.0</td>\n      <td>0</td>\n      <td>0</td>\n      <td>0</td>\n    </tr>\n  </tbody>\n</table>\n<p>100778 rows × 40 columns</p>\n</div>"
     },
     "execution_count": 738,
     "metadata": {},
     "output_type": "execute_result"
    }
   ],
   "source": [
    "# split in test and validation set for BOTH layers\n",
    "df_train_original, df_val_original = train_test_split(df_train_and_validate, test_size=0.2, random_state=42)\n",
    "df_train_original = df_train_original.sort_index(axis=1)\n",
    "df_val_original = df_val_original.sort_index(axis=1)\n",
    "\n",
    "# dataframes specifically for layer 1\n",
    "df_train = copy.deepcopy(df_train_original)\n",
    "df_val = copy.deepcopy(df_val_original)\n",
    "\n",
    "# set the target variables accordingly\n",
    "y_train = np.array([1 if x in (dos_attacks+probe_attacks) else 0 for x in df_train['label']])\n",
    "y_val = np.array([1 if x in (dos_attacks+probe_attacks) else 0 for x in df_val['label']])\n",
    "\n",
    "# this dataframe contains the whole train set \n",
    "df_train = df_train.drop(['label'],axis=1)\n",
    "df_train = df_train.reset_index().drop(['index'], axis=1)\n",
    "df_train"
   ]
  },
  {
   "cell_type": "code",
   "execution_count": 739,
   "outputs": [
    {
     "data": {
      "text/plain": "       count  diff_srv_rate  dst_bytes  dst_host_count  \\\n0          2           0.00          0              67   \n1         42           0.10          0             255   \n2        284           0.06          0             255   \n3        110           0.06          0             255   \n4          1           0.00          0             134   \n...      ...            ...        ...             ...   \n25190     11           0.00        944             255   \n25191      1           0.00          0               2   \n25192      2           0.00          0             140   \n25193      1           0.00        329             255   \n25194    186           0.06          0             255   \n\n       dst_host_diff_srv_rate  dst_host_rerror_rate  \\\n0                        0.00                  0.00   \n1                        0.05                  0.00   \n2                        0.06                  0.00   \n3                        0.07                  1.00   \n4                        0.64                  0.63   \n...                       ...                   ...   \n25190                    0.00                  0.00   \n25191                    0.00                  0.00   \n25192                    0.04                  0.02   \n25193                    0.06                  0.00   \n25194                    0.06                  0.00   \n\n       dst_host_same_src_port_rate  dst_host_same_srv_rate  \\\n0                             1.00                    1.00   \n1                             0.01                    0.17   \n2                             0.00                    0.08   \n3                             0.00                    0.11   \n4                             0.64                    0.01   \n...                            ...                     ...   \n25190                         0.00                    1.00   \n25191                         1.00                    1.00   \n25192                         0.06                    0.06   \n25193                         0.00                    0.55   \n25194                         0.00                    0.07   \n\n       dst_host_serror_rate  dst_host_srv_count  ...  serror_rate   service  \\\n0                      0.00                 171  ...          0.0  domain_u   \n1                      1.00                  44  ...          1.0      http   \n2                      1.00                  20  ...          1.0     pop_3   \n3                      0.00                  27  ...          0.0   private   \n4                      0.04                   1  ...          0.0   private   \n...                     ...                 ...  ...          ...       ...   \n25190                  0.00                 255  ...          0.0      http   \n25191                  0.00                 129  ...          0.0     eco_i   \n25192                  0.00                   9  ...          0.0  ftp_data   \n25193                  0.02                 141  ...          0.0      smtp   \n25194                  1.00                  19  ...          1.0   private   \n\n       src_bytes  srv_count srv_diff_host_rate  srv_rerror_rate  \\\n0             36          4               0.75              0.0   \n1              0         11               0.00              0.0   \n2              0         20               0.00              0.0   \n3              0          8               0.00              1.0   \n4              0          1               0.00              1.0   \n...          ...        ...                ...              ...   \n25190        199         13               0.15              0.0   \n25191          8          3               1.00              0.0   \n25192      12983          2               0.00              0.0   \n25193        813          3               1.00              0.0   \n25194          0         19               0.00              0.0   \n\n       srv_serror_rate  su_attempted  urgent  wrong_fragment  \n0                  0.0             0       0               0  \n1                  1.0             0       0               0  \n2                  1.0             0       0               0  \n3                  0.0             0       0               0  \n4                  0.0             0       0               0  \n...                ...           ...     ...             ...  \n25190              0.0             0       0               0  \n25191              0.0             0       0               0  \n25192              0.0             0       0               0  \n25193              0.0             0       0               0  \n25194              1.0             0       0               0  \n\n[25195 rows x 40 columns]",
      "text/html": "<div>\n<style scoped>\n    .dataframe tbody tr th:only-of-type {\n        vertical-align: middle;\n    }\n\n    .dataframe tbody tr th {\n        vertical-align: top;\n    }\n\n    .dataframe thead th {\n        text-align: right;\n    }\n</style>\n<table border=\"1\" class=\"dataframe\">\n  <thead>\n    <tr style=\"text-align: right;\">\n      <th></th>\n      <th>count</th>\n      <th>diff_srv_rate</th>\n      <th>dst_bytes</th>\n      <th>dst_host_count</th>\n      <th>dst_host_diff_srv_rate</th>\n      <th>dst_host_rerror_rate</th>\n      <th>dst_host_same_src_port_rate</th>\n      <th>dst_host_same_srv_rate</th>\n      <th>dst_host_serror_rate</th>\n      <th>dst_host_srv_count</th>\n      <th>...</th>\n      <th>serror_rate</th>\n      <th>service</th>\n      <th>src_bytes</th>\n      <th>srv_count</th>\n      <th>srv_diff_host_rate</th>\n      <th>srv_rerror_rate</th>\n      <th>srv_serror_rate</th>\n      <th>su_attempted</th>\n      <th>urgent</th>\n      <th>wrong_fragment</th>\n    </tr>\n  </thead>\n  <tbody>\n    <tr>\n      <th>0</th>\n      <td>2</td>\n      <td>0.00</td>\n      <td>0</td>\n      <td>67</td>\n      <td>0.00</td>\n      <td>0.00</td>\n      <td>1.00</td>\n      <td>1.00</td>\n      <td>0.00</td>\n      <td>171</td>\n      <td>...</td>\n      <td>0.0</td>\n      <td>domain_u</td>\n      <td>36</td>\n      <td>4</td>\n      <td>0.75</td>\n      <td>0.0</td>\n      <td>0.0</td>\n      <td>0</td>\n      <td>0</td>\n      <td>0</td>\n    </tr>\n    <tr>\n      <th>1</th>\n      <td>42</td>\n      <td>0.10</td>\n      <td>0</td>\n      <td>255</td>\n      <td>0.05</td>\n      <td>0.00</td>\n      <td>0.01</td>\n      <td>0.17</td>\n      <td>1.00</td>\n      <td>44</td>\n      <td>...</td>\n      <td>1.0</td>\n      <td>http</td>\n      <td>0</td>\n      <td>11</td>\n      <td>0.00</td>\n      <td>0.0</td>\n      <td>1.0</td>\n      <td>0</td>\n      <td>0</td>\n      <td>0</td>\n    </tr>\n    <tr>\n      <th>2</th>\n      <td>284</td>\n      <td>0.06</td>\n      <td>0</td>\n      <td>255</td>\n      <td>0.06</td>\n      <td>0.00</td>\n      <td>0.00</td>\n      <td>0.08</td>\n      <td>1.00</td>\n      <td>20</td>\n      <td>...</td>\n      <td>1.0</td>\n      <td>pop_3</td>\n      <td>0</td>\n      <td>20</td>\n      <td>0.00</td>\n      <td>0.0</td>\n      <td>1.0</td>\n      <td>0</td>\n      <td>0</td>\n      <td>0</td>\n    </tr>\n    <tr>\n      <th>3</th>\n      <td>110</td>\n      <td>0.06</td>\n      <td>0</td>\n      <td>255</td>\n      <td>0.07</td>\n      <td>1.00</td>\n      <td>0.00</td>\n      <td>0.11</td>\n      <td>0.00</td>\n      <td>27</td>\n      <td>...</td>\n      <td>0.0</td>\n      <td>private</td>\n      <td>0</td>\n      <td>8</td>\n      <td>0.00</td>\n      <td>1.0</td>\n      <td>0.0</td>\n      <td>0</td>\n      <td>0</td>\n      <td>0</td>\n    </tr>\n    <tr>\n      <th>4</th>\n      <td>1</td>\n      <td>0.00</td>\n      <td>0</td>\n      <td>134</td>\n      <td>0.64</td>\n      <td>0.63</td>\n      <td>0.64</td>\n      <td>0.01</td>\n      <td>0.04</td>\n      <td>1</td>\n      <td>...</td>\n      <td>0.0</td>\n      <td>private</td>\n      <td>0</td>\n      <td>1</td>\n      <td>0.00</td>\n      <td>1.0</td>\n      <td>0.0</td>\n      <td>0</td>\n      <td>0</td>\n      <td>0</td>\n    </tr>\n    <tr>\n      <th>...</th>\n      <td>...</td>\n      <td>...</td>\n      <td>...</td>\n      <td>...</td>\n      <td>...</td>\n      <td>...</td>\n      <td>...</td>\n      <td>...</td>\n      <td>...</td>\n      <td>...</td>\n      <td>...</td>\n      <td>...</td>\n      <td>...</td>\n      <td>...</td>\n      <td>...</td>\n      <td>...</td>\n      <td>...</td>\n      <td>...</td>\n      <td>...</td>\n      <td>...</td>\n      <td>...</td>\n    </tr>\n    <tr>\n      <th>25190</th>\n      <td>11</td>\n      <td>0.00</td>\n      <td>944</td>\n      <td>255</td>\n      <td>0.00</td>\n      <td>0.00</td>\n      <td>0.00</td>\n      <td>1.00</td>\n      <td>0.00</td>\n      <td>255</td>\n      <td>...</td>\n      <td>0.0</td>\n      <td>http</td>\n      <td>199</td>\n      <td>13</td>\n      <td>0.15</td>\n      <td>0.0</td>\n      <td>0.0</td>\n      <td>0</td>\n      <td>0</td>\n      <td>0</td>\n    </tr>\n    <tr>\n      <th>25191</th>\n      <td>1</td>\n      <td>0.00</td>\n      <td>0</td>\n      <td>2</td>\n      <td>0.00</td>\n      <td>0.00</td>\n      <td>1.00</td>\n      <td>1.00</td>\n      <td>0.00</td>\n      <td>129</td>\n      <td>...</td>\n      <td>0.0</td>\n      <td>eco_i</td>\n      <td>8</td>\n      <td>3</td>\n      <td>1.00</td>\n      <td>0.0</td>\n      <td>0.0</td>\n      <td>0</td>\n      <td>0</td>\n      <td>0</td>\n    </tr>\n    <tr>\n      <th>25192</th>\n      <td>2</td>\n      <td>0.00</td>\n      <td>0</td>\n      <td>140</td>\n      <td>0.04</td>\n      <td>0.02</td>\n      <td>0.06</td>\n      <td>0.06</td>\n      <td>0.00</td>\n      <td>9</td>\n      <td>...</td>\n      <td>0.0</td>\n      <td>ftp_data</td>\n      <td>12983</td>\n      <td>2</td>\n      <td>0.00</td>\n      <td>0.0</td>\n      <td>0.0</td>\n      <td>0</td>\n      <td>0</td>\n      <td>0</td>\n    </tr>\n    <tr>\n      <th>25193</th>\n      <td>1</td>\n      <td>0.00</td>\n      <td>329</td>\n      <td>255</td>\n      <td>0.06</td>\n      <td>0.00</td>\n      <td>0.00</td>\n      <td>0.55</td>\n      <td>0.02</td>\n      <td>141</td>\n      <td>...</td>\n      <td>0.0</td>\n      <td>smtp</td>\n      <td>813</td>\n      <td>3</td>\n      <td>1.00</td>\n      <td>0.0</td>\n      <td>0.0</td>\n      <td>0</td>\n      <td>0</td>\n      <td>0</td>\n    </tr>\n    <tr>\n      <th>25194</th>\n      <td>186</td>\n      <td>0.06</td>\n      <td>0</td>\n      <td>255</td>\n      <td>0.06</td>\n      <td>0.00</td>\n      <td>0.00</td>\n      <td>0.07</td>\n      <td>1.00</td>\n      <td>19</td>\n      <td>...</td>\n      <td>1.0</td>\n      <td>private</td>\n      <td>0</td>\n      <td>19</td>\n      <td>0.00</td>\n      <td>0.0</td>\n      <td>1.0</td>\n      <td>0</td>\n      <td>0</td>\n      <td>0</td>\n    </tr>\n  </tbody>\n</table>\n<p>25195 rows × 40 columns</p>\n</div>"
     },
     "execution_count": 739,
     "metadata": {},
     "output_type": "execute_result"
    }
   ],
   "source": [
    "# this dataframe contains the whole validation set\n",
    "df_val = df_val.drop(['label'],axis=1)\n",
    "df_val = df_val.reset_index().drop(['index'], axis=1)\n",
    "\n",
    "df_val"
   ],
   "metadata": {
    "collapsed": false,
    "ExecuteTime": {
     "end_time": "2023-10-27T14:27:58.022354300Z",
     "start_time": "2023-10-27T14:27:57.298118600Z"
    }
   }
  },
  {
   "cell_type": "code",
   "execution_count": 740,
   "metadata": {
    "ExecuteTime": {
     "end_time": "2023-10-27T14:27:58.022354300Z",
     "start_time": "2023-10-27T14:27:57.353231200Z"
    }
   },
   "outputs": [
    {
     "data": {
      "text/plain": "        logged_in  count  serror_rate  rerror_rate  srv_rerror_rate  \\\n0               1     16          0.0          0.0              0.0   \n1               0    142          1.0          0.0              0.0   \n2               0    273          0.0          1.0              1.0   \n3               1     20          0.0          0.0              0.0   \n4               0    274          0.0          0.0              0.0   \n...           ...    ...          ...          ...              ...   \n100773          0    258          0.0          1.0              1.0   \n100774          0     24          1.0          0.0              0.0   \n100775          0    258          0.0          1.0              1.0   \n100776          1      5          0.0          0.0              0.0   \n100777          0    202          0.0          0.0              0.0   \n\n        same_srv_rate  diff_srv_rate  srv_diff_host_rate  dst_host_srv_count  \\\n0                1.00           0.00                0.17                 255   \n1                0.01           0.06                0.00                   2   \n2                0.03           0.06                0.00                   8   \n3                1.00           0.00                0.00                 255   \n4                1.00           0.00                0.00                 255   \n...               ...            ...                 ...                 ...   \n100773           0.02           0.07                0.00                   4   \n100774           0.17           0.08                0.00                   4   \n100775           0.02           0.07                0.00                   6   \n100776           1.00           0.00                0.00                 255   \n100777           1.00           0.01                0.00                 254   \n\n        dst_host_same_srv_rate  dst_host_diff_srv_rate  \\\n0                         1.00                    0.00   \n1                         0.01                    0.06   \n2                         0.03                    0.06   \n3                         1.00                    0.00   \n4                         1.00                    0.00   \n...                        ...                     ...   \n100773                    0.02                    0.09   \n100774                    0.02                    0.07   \n100775                    0.02                    0.07   \n100776                    1.00                    0.00   \n100777                    1.00                    0.01   \n\n        dst_host_same_src_port_rate  dst_host_srv_diff_host_rate  \\\n0                              0.02                         0.06   \n1                              0.00                         0.00   \n2                              0.00                         0.00   \n3                              0.00                         0.00   \n4                              1.00                         0.00   \n...                             ...                          ...   \n100773                         0.00                         0.00   \n100774                         0.01                         0.00   \n100775                         0.00                         0.00   \n100776                         0.05                         0.05   \n100777                         0.01                         0.00   \n\n        dst_host_serror_rate  dst_host_srv_serror_rate  \\\n0                        0.0                       0.0   \n1                        1.0                       1.0   \n2                        0.0                       0.0   \n3                        0.0                       0.0   \n4                        0.0                       0.0   \n...                      ...                       ...   \n100773                   0.0                       0.0   \n100774                   1.0                       1.0   \n100775                   0.0                       0.0   \n100776                   0.0                       0.0   \n100777                   0.0                       0.0   \n\n        dst_host_srv_rerror_rate  dst_host_rerror_rate  \n0                            0.0                   0.0  \n1                            0.0                   0.0  \n2                            1.0                   1.0  \n3                            0.0                   0.0  \n4                            0.0                   0.0  \n...                          ...                   ...  \n100773                       1.0                   1.0  \n100774                       0.0                   0.0  \n100775                       1.0                   1.0  \n100776                       0.0                   0.0  \n100777                       0.0                   0.0  \n\n[100778 rows x 17 columns]",
      "text/html": "<div>\n<style scoped>\n    .dataframe tbody tr th:only-of-type {\n        vertical-align: middle;\n    }\n\n    .dataframe tbody tr th {\n        vertical-align: top;\n    }\n\n    .dataframe thead th {\n        text-align: right;\n    }\n</style>\n<table border=\"1\" class=\"dataframe\">\n  <thead>\n    <tr style=\"text-align: right;\">\n      <th></th>\n      <th>logged_in</th>\n      <th>count</th>\n      <th>serror_rate</th>\n      <th>rerror_rate</th>\n      <th>srv_rerror_rate</th>\n      <th>same_srv_rate</th>\n      <th>diff_srv_rate</th>\n      <th>srv_diff_host_rate</th>\n      <th>dst_host_srv_count</th>\n      <th>dst_host_same_srv_rate</th>\n      <th>dst_host_diff_srv_rate</th>\n      <th>dst_host_same_src_port_rate</th>\n      <th>dst_host_srv_diff_host_rate</th>\n      <th>dst_host_serror_rate</th>\n      <th>dst_host_srv_serror_rate</th>\n      <th>dst_host_srv_rerror_rate</th>\n      <th>dst_host_rerror_rate</th>\n    </tr>\n  </thead>\n  <tbody>\n    <tr>\n      <th>0</th>\n      <td>1</td>\n      <td>16</td>\n      <td>0.0</td>\n      <td>0.0</td>\n      <td>0.0</td>\n      <td>1.00</td>\n      <td>0.00</td>\n      <td>0.17</td>\n      <td>255</td>\n      <td>1.00</td>\n      <td>0.00</td>\n      <td>0.02</td>\n      <td>0.06</td>\n      <td>0.0</td>\n      <td>0.0</td>\n      <td>0.0</td>\n      <td>0.0</td>\n    </tr>\n    <tr>\n      <th>1</th>\n      <td>0</td>\n      <td>142</td>\n      <td>1.0</td>\n      <td>0.0</td>\n      <td>0.0</td>\n      <td>0.01</td>\n      <td>0.06</td>\n      <td>0.00</td>\n      <td>2</td>\n      <td>0.01</td>\n      <td>0.06</td>\n      <td>0.00</td>\n      <td>0.00</td>\n      <td>1.0</td>\n      <td>1.0</td>\n      <td>0.0</td>\n      <td>0.0</td>\n    </tr>\n    <tr>\n      <th>2</th>\n      <td>0</td>\n      <td>273</td>\n      <td>0.0</td>\n      <td>1.0</td>\n      <td>1.0</td>\n      <td>0.03</td>\n      <td>0.06</td>\n      <td>0.00</td>\n      <td>8</td>\n      <td>0.03</td>\n      <td>0.06</td>\n      <td>0.00</td>\n      <td>0.00</td>\n      <td>0.0</td>\n      <td>0.0</td>\n      <td>1.0</td>\n      <td>1.0</td>\n    </tr>\n    <tr>\n      <th>3</th>\n      <td>1</td>\n      <td>20</td>\n      <td>0.0</td>\n      <td>0.0</td>\n      <td>0.0</td>\n      <td>1.00</td>\n      <td>0.00</td>\n      <td>0.00</td>\n      <td>255</td>\n      <td>1.00</td>\n      <td>0.00</td>\n      <td>0.00</td>\n      <td>0.00</td>\n      <td>0.0</td>\n      <td>0.0</td>\n      <td>0.0</td>\n      <td>0.0</td>\n    </tr>\n    <tr>\n      <th>4</th>\n      <td>0</td>\n      <td>274</td>\n      <td>0.0</td>\n      <td>0.0</td>\n      <td>0.0</td>\n      <td>1.00</td>\n      <td>0.00</td>\n      <td>0.00</td>\n      <td>255</td>\n      <td>1.00</td>\n      <td>0.00</td>\n      <td>1.00</td>\n      <td>0.00</td>\n      <td>0.0</td>\n      <td>0.0</td>\n      <td>0.0</td>\n      <td>0.0</td>\n    </tr>\n    <tr>\n      <th>...</th>\n      <td>...</td>\n      <td>...</td>\n      <td>...</td>\n      <td>...</td>\n      <td>...</td>\n      <td>...</td>\n      <td>...</td>\n      <td>...</td>\n      <td>...</td>\n      <td>...</td>\n      <td>...</td>\n      <td>...</td>\n      <td>...</td>\n      <td>...</td>\n      <td>...</td>\n      <td>...</td>\n      <td>...</td>\n    </tr>\n    <tr>\n      <th>100773</th>\n      <td>0</td>\n      <td>258</td>\n      <td>0.0</td>\n      <td>1.0</td>\n      <td>1.0</td>\n      <td>0.02</td>\n      <td>0.07</td>\n      <td>0.00</td>\n      <td>4</td>\n      <td>0.02</td>\n      <td>0.09</td>\n      <td>0.00</td>\n      <td>0.00</td>\n      <td>0.0</td>\n      <td>0.0</td>\n      <td>1.0</td>\n      <td>1.0</td>\n    </tr>\n    <tr>\n      <th>100774</th>\n      <td>0</td>\n      <td>24</td>\n      <td>1.0</td>\n      <td>0.0</td>\n      <td>0.0</td>\n      <td>0.17</td>\n      <td>0.08</td>\n      <td>0.00</td>\n      <td>4</td>\n      <td>0.02</td>\n      <td>0.07</td>\n      <td>0.01</td>\n      <td>0.00</td>\n      <td>1.0</td>\n      <td>1.0</td>\n      <td>0.0</td>\n      <td>0.0</td>\n    </tr>\n    <tr>\n      <th>100775</th>\n      <td>0</td>\n      <td>258</td>\n      <td>0.0</td>\n      <td>1.0</td>\n      <td>1.0</td>\n      <td>0.02</td>\n      <td>0.07</td>\n      <td>0.00</td>\n      <td>6</td>\n      <td>0.02</td>\n      <td>0.07</td>\n      <td>0.00</td>\n      <td>0.00</td>\n      <td>0.0</td>\n      <td>0.0</td>\n      <td>1.0</td>\n      <td>1.0</td>\n    </tr>\n    <tr>\n      <th>100776</th>\n      <td>1</td>\n      <td>5</td>\n      <td>0.0</td>\n      <td>0.0</td>\n      <td>0.0</td>\n      <td>1.00</td>\n      <td>0.00</td>\n      <td>0.00</td>\n      <td>255</td>\n      <td>1.00</td>\n      <td>0.00</td>\n      <td>0.05</td>\n      <td>0.05</td>\n      <td>0.0</td>\n      <td>0.0</td>\n      <td>0.0</td>\n      <td>0.0</td>\n    </tr>\n    <tr>\n      <th>100777</th>\n      <td>0</td>\n      <td>202</td>\n      <td>0.0</td>\n      <td>0.0</td>\n      <td>0.0</td>\n      <td>1.00</td>\n      <td>0.01</td>\n      <td>0.00</td>\n      <td>254</td>\n      <td>1.00</td>\n      <td>0.01</td>\n      <td>0.01</td>\n      <td>0.00</td>\n      <td>0.0</td>\n      <td>0.0</td>\n      <td>0.0</td>\n      <td>0.0</td>\n    </tr>\n  </tbody>\n</table>\n<p>100778 rows × 17 columns</p>\n</div>"
     },
     "execution_count": 740,
     "metadata": {},
     "output_type": "execute_result"
    }
   ],
   "source": [
    "# now the real processing for layer 1 starts\n",
    "X_train = df_train[common_features_l1]\n",
    "X_train"
   ]
  },
  {
   "cell_type": "code",
   "execution_count": 741,
   "outputs": [
    {
     "data": {
      "text/plain": "       logged_in  count  serror_rate  rerror_rate  srv_rerror_rate  \\\n0              0      2          0.0          0.0              0.0   \n1              0     42          1.0          0.0              0.0   \n2              0    284          1.0          0.0              0.0   \n3              0    110          0.0          1.0              1.0   \n4              0      1          0.0          1.0              1.0   \n...          ...    ...          ...          ...              ...   \n25190          1     11          0.0          0.0              0.0   \n25191          0      1          0.0          0.0              0.0   \n25192          0      2          0.0          0.0              0.0   \n25193          1      1          0.0          0.0              0.0   \n25194          0    186          1.0          0.0              0.0   \n\n       same_srv_rate  diff_srv_rate  srv_diff_host_rate  dst_host_srv_count  \\\n0               1.00           0.00                0.75                 171   \n1               0.26           0.10                0.00                  44   \n2               0.07           0.06                0.00                  20   \n3               0.07           0.06                0.00                  27   \n4               1.00           0.00                0.00                   1   \n...              ...            ...                 ...                 ...   \n25190           1.00           0.00                0.15                 255   \n25191           1.00           0.00                1.00                 129   \n25192           1.00           0.00                0.00                   9   \n25193           1.00           0.00                1.00                 141   \n25194           0.10           0.06                0.00                  19   \n\n       dst_host_same_srv_rate  dst_host_diff_srv_rate  \\\n0                        1.00                    0.00   \n1                        0.17                    0.05   \n2                        0.08                    0.06   \n3                        0.11                    0.07   \n4                        0.01                    0.64   \n...                       ...                     ...   \n25190                    1.00                    0.00   \n25191                    1.00                    0.00   \n25192                    0.06                    0.04   \n25193                    0.55                    0.06   \n25194                    0.07                    0.06   \n\n       dst_host_same_src_port_rate  dst_host_srv_diff_host_rate  \\\n0                             1.00                         0.01   \n1                             0.01                         0.00   \n2                             0.00                         0.00   \n3                             0.00                         0.00   \n4                             0.64                         0.00   \n...                            ...                          ...   \n25190                         0.00                         0.00   \n25191                         1.00                         0.50   \n25192                         0.06                         0.00   \n25193                         0.00                         0.00   \n25194                         0.00                         0.00   \n\n       dst_host_serror_rate  dst_host_srv_serror_rate  \\\n0                      0.00                      0.00   \n1                      1.00                      1.00   \n2                      1.00                      1.00   \n3                      0.00                      0.00   \n4                      0.04                      0.00   \n...                     ...                       ...   \n25190                  0.00                      0.00   \n25191                  0.00                      0.00   \n25192                  0.00                      0.00   \n25193                  0.02                      0.02   \n25194                  1.00                      1.00   \n\n       dst_host_srv_rerror_rate  dst_host_rerror_rate  \n0                           0.0                  0.00  \n1                           0.0                  0.00  \n2                           0.0                  0.00  \n3                           1.0                  1.00  \n4                           1.0                  0.63  \n...                         ...                   ...  \n25190                       0.0                  0.00  \n25191                       0.0                  0.00  \n25192                       0.0                  0.02  \n25193                       0.0                  0.00  \n25194                       0.0                  0.00  \n\n[25195 rows x 17 columns]",
      "text/html": "<div>\n<style scoped>\n    .dataframe tbody tr th:only-of-type {\n        vertical-align: middle;\n    }\n\n    .dataframe tbody tr th {\n        vertical-align: top;\n    }\n\n    .dataframe thead th {\n        text-align: right;\n    }\n</style>\n<table border=\"1\" class=\"dataframe\">\n  <thead>\n    <tr style=\"text-align: right;\">\n      <th></th>\n      <th>logged_in</th>\n      <th>count</th>\n      <th>serror_rate</th>\n      <th>rerror_rate</th>\n      <th>srv_rerror_rate</th>\n      <th>same_srv_rate</th>\n      <th>diff_srv_rate</th>\n      <th>srv_diff_host_rate</th>\n      <th>dst_host_srv_count</th>\n      <th>dst_host_same_srv_rate</th>\n      <th>dst_host_diff_srv_rate</th>\n      <th>dst_host_same_src_port_rate</th>\n      <th>dst_host_srv_diff_host_rate</th>\n      <th>dst_host_serror_rate</th>\n      <th>dst_host_srv_serror_rate</th>\n      <th>dst_host_srv_rerror_rate</th>\n      <th>dst_host_rerror_rate</th>\n    </tr>\n  </thead>\n  <tbody>\n    <tr>\n      <th>0</th>\n      <td>0</td>\n      <td>2</td>\n      <td>0.0</td>\n      <td>0.0</td>\n      <td>0.0</td>\n      <td>1.00</td>\n      <td>0.00</td>\n      <td>0.75</td>\n      <td>171</td>\n      <td>1.00</td>\n      <td>0.00</td>\n      <td>1.00</td>\n      <td>0.01</td>\n      <td>0.00</td>\n      <td>0.00</td>\n      <td>0.0</td>\n      <td>0.00</td>\n    </tr>\n    <tr>\n      <th>1</th>\n      <td>0</td>\n      <td>42</td>\n      <td>1.0</td>\n      <td>0.0</td>\n      <td>0.0</td>\n      <td>0.26</td>\n      <td>0.10</td>\n      <td>0.00</td>\n      <td>44</td>\n      <td>0.17</td>\n      <td>0.05</td>\n      <td>0.01</td>\n      <td>0.00</td>\n      <td>1.00</td>\n      <td>1.00</td>\n      <td>0.0</td>\n      <td>0.00</td>\n    </tr>\n    <tr>\n      <th>2</th>\n      <td>0</td>\n      <td>284</td>\n      <td>1.0</td>\n      <td>0.0</td>\n      <td>0.0</td>\n      <td>0.07</td>\n      <td>0.06</td>\n      <td>0.00</td>\n      <td>20</td>\n      <td>0.08</td>\n      <td>0.06</td>\n      <td>0.00</td>\n      <td>0.00</td>\n      <td>1.00</td>\n      <td>1.00</td>\n      <td>0.0</td>\n      <td>0.00</td>\n    </tr>\n    <tr>\n      <th>3</th>\n      <td>0</td>\n      <td>110</td>\n      <td>0.0</td>\n      <td>1.0</td>\n      <td>1.0</td>\n      <td>0.07</td>\n      <td>0.06</td>\n      <td>0.00</td>\n      <td>27</td>\n      <td>0.11</td>\n      <td>0.07</td>\n      <td>0.00</td>\n      <td>0.00</td>\n      <td>0.00</td>\n      <td>0.00</td>\n      <td>1.0</td>\n      <td>1.00</td>\n    </tr>\n    <tr>\n      <th>4</th>\n      <td>0</td>\n      <td>1</td>\n      <td>0.0</td>\n      <td>1.0</td>\n      <td>1.0</td>\n      <td>1.00</td>\n      <td>0.00</td>\n      <td>0.00</td>\n      <td>1</td>\n      <td>0.01</td>\n      <td>0.64</td>\n      <td>0.64</td>\n      <td>0.00</td>\n      <td>0.04</td>\n      <td>0.00</td>\n      <td>1.0</td>\n      <td>0.63</td>\n    </tr>\n    <tr>\n      <th>...</th>\n      <td>...</td>\n      <td>...</td>\n      <td>...</td>\n      <td>...</td>\n      <td>...</td>\n      <td>...</td>\n      <td>...</td>\n      <td>...</td>\n      <td>...</td>\n      <td>...</td>\n      <td>...</td>\n      <td>...</td>\n      <td>...</td>\n      <td>...</td>\n      <td>...</td>\n      <td>...</td>\n      <td>...</td>\n    </tr>\n    <tr>\n      <th>25190</th>\n      <td>1</td>\n      <td>11</td>\n      <td>0.0</td>\n      <td>0.0</td>\n      <td>0.0</td>\n      <td>1.00</td>\n      <td>0.00</td>\n      <td>0.15</td>\n      <td>255</td>\n      <td>1.00</td>\n      <td>0.00</td>\n      <td>0.00</td>\n      <td>0.00</td>\n      <td>0.00</td>\n      <td>0.00</td>\n      <td>0.0</td>\n      <td>0.00</td>\n    </tr>\n    <tr>\n      <th>25191</th>\n      <td>0</td>\n      <td>1</td>\n      <td>0.0</td>\n      <td>0.0</td>\n      <td>0.0</td>\n      <td>1.00</td>\n      <td>0.00</td>\n      <td>1.00</td>\n      <td>129</td>\n      <td>1.00</td>\n      <td>0.00</td>\n      <td>1.00</td>\n      <td>0.50</td>\n      <td>0.00</td>\n      <td>0.00</td>\n      <td>0.0</td>\n      <td>0.00</td>\n    </tr>\n    <tr>\n      <th>25192</th>\n      <td>0</td>\n      <td>2</td>\n      <td>0.0</td>\n      <td>0.0</td>\n      <td>0.0</td>\n      <td>1.00</td>\n      <td>0.00</td>\n      <td>0.00</td>\n      <td>9</td>\n      <td>0.06</td>\n      <td>0.04</td>\n      <td>0.06</td>\n      <td>0.00</td>\n      <td>0.00</td>\n      <td>0.00</td>\n      <td>0.0</td>\n      <td>0.02</td>\n    </tr>\n    <tr>\n      <th>25193</th>\n      <td>1</td>\n      <td>1</td>\n      <td>0.0</td>\n      <td>0.0</td>\n      <td>0.0</td>\n      <td>1.00</td>\n      <td>0.00</td>\n      <td>1.00</td>\n      <td>141</td>\n      <td>0.55</td>\n      <td>0.06</td>\n      <td>0.00</td>\n      <td>0.00</td>\n      <td>0.02</td>\n      <td>0.02</td>\n      <td>0.0</td>\n      <td>0.00</td>\n    </tr>\n    <tr>\n      <th>25194</th>\n      <td>0</td>\n      <td>186</td>\n      <td>1.0</td>\n      <td>0.0</td>\n      <td>0.0</td>\n      <td>0.10</td>\n      <td>0.06</td>\n      <td>0.00</td>\n      <td>19</td>\n      <td>0.07</td>\n      <td>0.06</td>\n      <td>0.00</td>\n      <td>0.00</td>\n      <td>1.00</td>\n      <td>1.00</td>\n      <td>0.0</td>\n      <td>0.00</td>\n    </tr>\n  </tbody>\n</table>\n<p>25195 rows × 17 columns</p>\n</div>"
     },
     "execution_count": 741,
     "metadata": {},
     "output_type": "execute_result"
    }
   ],
   "source": [
    "X_validate = df_val[common_features_l1]\n",
    "X_validate"
   ],
   "metadata": {
    "collapsed": false,
    "ExecuteTime": {
     "end_time": "2023-10-27T14:27:58.022354300Z",
     "start_time": "2023-10-27T14:27:57.394055900Z"
    }
   }
  },
  {
   "cell_type": "code",
   "execution_count": 742,
   "outputs": [],
   "source": [
    "# 2 one-hot encoders, one for the features of layer1 and one for the features of layer2\n",
    "ohe = OneHotEncoder(handle_unknown='ignore')\n",
    "ohe2 = OneHotEncoder(handle_unknown='ignore')\n",
    "scaler1 = MinMaxScaler()\n",
    "scaler2 = MinMaxScaler()"
   ],
   "metadata": {
    "collapsed": false,
    "ExecuteTime": {
     "end_time": "2023-10-27T14:27:58.022354300Z",
     "start_time": "2023-10-27T14:27:57.425383300Z"
    }
   }
  },
  {
   "cell_type": "code",
   "execution_count": 743,
   "metadata": {
    "ExecuteTime": {
     "end_time": "2023-10-27T14:27:58.022354300Z",
     "start_time": "2023-10-27T14:27:57.431633100Z"
    }
   },
   "outputs": [
    {
     "data": {
      "text/plain": "        logged_in     count  serror_rate  rerror_rate  srv_rerror_rate  \\\n0             1.0  0.031311          0.0          0.0              0.0   \n1             0.0  0.277886          1.0          0.0              0.0   \n2             0.0  0.534247          0.0          1.0              1.0   \n3             1.0  0.039139          0.0          0.0              0.0   \n4             0.0  0.536204          0.0          0.0              0.0   \n...           ...       ...          ...          ...              ...   \n100773        0.0  0.504892          0.0          1.0              1.0   \n100774        0.0  0.046967          1.0          0.0              0.0   \n100775        0.0  0.504892          0.0          1.0              1.0   \n100776        1.0  0.009785          0.0          0.0              0.0   \n100777        0.0  0.395303          0.0          0.0              0.0   \n\n        same_srv_rate  diff_srv_rate  srv_diff_host_rate  dst_host_srv_count  \\\n0                1.00           0.00                0.17            1.000000   \n1                0.01           0.06                0.00            0.007843   \n2                0.03           0.06                0.00            0.031373   \n3                1.00           0.00                0.00            1.000000   \n4                1.00           0.00                0.00            1.000000   \n...               ...            ...                 ...                 ...   \n100773           0.02           0.07                0.00            0.015686   \n100774           0.17           0.08                0.00            0.015686   \n100775           0.02           0.07                0.00            0.023529   \n100776           1.00           0.00                0.00            1.000000   \n100777           1.00           0.01                0.00            0.996078   \n\n        dst_host_same_srv_rate  dst_host_diff_srv_rate  \\\n0                         1.00                    0.00   \n1                         0.01                    0.06   \n2                         0.03                    0.06   \n3                         1.00                    0.00   \n4                         1.00                    0.00   \n...                        ...                     ...   \n100773                    0.02                    0.09   \n100774                    0.02                    0.07   \n100775                    0.02                    0.07   \n100776                    1.00                    0.00   \n100777                    1.00                    0.01   \n\n        dst_host_same_src_port_rate  dst_host_srv_diff_host_rate  \\\n0                              0.02                         0.06   \n1                              0.00                         0.00   \n2                              0.00                         0.00   \n3                              0.00                         0.00   \n4                              1.00                         0.00   \n...                             ...                          ...   \n100773                         0.00                         0.00   \n100774                         0.01                         0.00   \n100775                         0.00                         0.00   \n100776                         0.05                         0.05   \n100777                         0.01                         0.00   \n\n        dst_host_serror_rate  dst_host_srv_serror_rate  \\\n0                        0.0                       0.0   \n1                        1.0                       1.0   \n2                        0.0                       0.0   \n3                        0.0                       0.0   \n4                        0.0                       0.0   \n...                      ...                       ...   \n100773                   0.0                       0.0   \n100774                   1.0                       1.0   \n100775                   0.0                       0.0   \n100776                   0.0                       0.0   \n100777                   0.0                       0.0   \n\n        dst_host_srv_rerror_rate  dst_host_rerror_rate  \n0                            0.0                   0.0  \n1                            0.0                   0.0  \n2                            1.0                   1.0  \n3                            0.0                   0.0  \n4                            0.0                   0.0  \n...                          ...                   ...  \n100773                       1.0                   1.0  \n100774                       0.0                   0.0  \n100775                       1.0                   1.0  \n100776                       0.0                   0.0  \n100777                       0.0                   0.0  \n\n[100778 rows x 17 columns]",
      "text/html": "<div>\n<style scoped>\n    .dataframe tbody tr th:only-of-type {\n        vertical-align: middle;\n    }\n\n    .dataframe tbody tr th {\n        vertical-align: top;\n    }\n\n    .dataframe thead th {\n        text-align: right;\n    }\n</style>\n<table border=\"1\" class=\"dataframe\">\n  <thead>\n    <tr style=\"text-align: right;\">\n      <th></th>\n      <th>logged_in</th>\n      <th>count</th>\n      <th>serror_rate</th>\n      <th>rerror_rate</th>\n      <th>srv_rerror_rate</th>\n      <th>same_srv_rate</th>\n      <th>diff_srv_rate</th>\n      <th>srv_diff_host_rate</th>\n      <th>dst_host_srv_count</th>\n      <th>dst_host_same_srv_rate</th>\n      <th>dst_host_diff_srv_rate</th>\n      <th>dst_host_same_src_port_rate</th>\n      <th>dst_host_srv_diff_host_rate</th>\n      <th>dst_host_serror_rate</th>\n      <th>dst_host_srv_serror_rate</th>\n      <th>dst_host_srv_rerror_rate</th>\n      <th>dst_host_rerror_rate</th>\n    </tr>\n  </thead>\n  <tbody>\n    <tr>\n      <th>0</th>\n      <td>1.0</td>\n      <td>0.031311</td>\n      <td>0.0</td>\n      <td>0.0</td>\n      <td>0.0</td>\n      <td>1.00</td>\n      <td>0.00</td>\n      <td>0.17</td>\n      <td>1.000000</td>\n      <td>1.00</td>\n      <td>0.00</td>\n      <td>0.02</td>\n      <td>0.06</td>\n      <td>0.0</td>\n      <td>0.0</td>\n      <td>0.0</td>\n      <td>0.0</td>\n    </tr>\n    <tr>\n      <th>1</th>\n      <td>0.0</td>\n      <td>0.277886</td>\n      <td>1.0</td>\n      <td>0.0</td>\n      <td>0.0</td>\n      <td>0.01</td>\n      <td>0.06</td>\n      <td>0.00</td>\n      <td>0.007843</td>\n      <td>0.01</td>\n      <td>0.06</td>\n      <td>0.00</td>\n      <td>0.00</td>\n      <td>1.0</td>\n      <td>1.0</td>\n      <td>0.0</td>\n      <td>0.0</td>\n    </tr>\n    <tr>\n      <th>2</th>\n      <td>0.0</td>\n      <td>0.534247</td>\n      <td>0.0</td>\n      <td>1.0</td>\n      <td>1.0</td>\n      <td>0.03</td>\n      <td>0.06</td>\n      <td>0.00</td>\n      <td>0.031373</td>\n      <td>0.03</td>\n      <td>0.06</td>\n      <td>0.00</td>\n      <td>0.00</td>\n      <td>0.0</td>\n      <td>0.0</td>\n      <td>1.0</td>\n      <td>1.0</td>\n    </tr>\n    <tr>\n      <th>3</th>\n      <td>1.0</td>\n      <td>0.039139</td>\n      <td>0.0</td>\n      <td>0.0</td>\n      <td>0.0</td>\n      <td>1.00</td>\n      <td>0.00</td>\n      <td>0.00</td>\n      <td>1.000000</td>\n      <td>1.00</td>\n      <td>0.00</td>\n      <td>0.00</td>\n      <td>0.00</td>\n      <td>0.0</td>\n      <td>0.0</td>\n      <td>0.0</td>\n      <td>0.0</td>\n    </tr>\n    <tr>\n      <th>4</th>\n      <td>0.0</td>\n      <td>0.536204</td>\n      <td>0.0</td>\n      <td>0.0</td>\n      <td>0.0</td>\n      <td>1.00</td>\n      <td>0.00</td>\n      <td>0.00</td>\n      <td>1.000000</td>\n      <td>1.00</td>\n      <td>0.00</td>\n      <td>1.00</td>\n      <td>0.00</td>\n      <td>0.0</td>\n      <td>0.0</td>\n      <td>0.0</td>\n      <td>0.0</td>\n    </tr>\n    <tr>\n      <th>...</th>\n      <td>...</td>\n      <td>...</td>\n      <td>...</td>\n      <td>...</td>\n      <td>...</td>\n      <td>...</td>\n      <td>...</td>\n      <td>...</td>\n      <td>...</td>\n      <td>...</td>\n      <td>...</td>\n      <td>...</td>\n      <td>...</td>\n      <td>...</td>\n      <td>...</td>\n      <td>...</td>\n      <td>...</td>\n    </tr>\n    <tr>\n      <th>100773</th>\n      <td>0.0</td>\n      <td>0.504892</td>\n      <td>0.0</td>\n      <td>1.0</td>\n      <td>1.0</td>\n      <td>0.02</td>\n      <td>0.07</td>\n      <td>0.00</td>\n      <td>0.015686</td>\n      <td>0.02</td>\n      <td>0.09</td>\n      <td>0.00</td>\n      <td>0.00</td>\n      <td>0.0</td>\n      <td>0.0</td>\n      <td>1.0</td>\n      <td>1.0</td>\n    </tr>\n    <tr>\n      <th>100774</th>\n      <td>0.0</td>\n      <td>0.046967</td>\n      <td>1.0</td>\n      <td>0.0</td>\n      <td>0.0</td>\n      <td>0.17</td>\n      <td>0.08</td>\n      <td>0.00</td>\n      <td>0.015686</td>\n      <td>0.02</td>\n      <td>0.07</td>\n      <td>0.01</td>\n      <td>0.00</td>\n      <td>1.0</td>\n      <td>1.0</td>\n      <td>0.0</td>\n      <td>0.0</td>\n    </tr>\n    <tr>\n      <th>100775</th>\n      <td>0.0</td>\n      <td>0.504892</td>\n      <td>0.0</td>\n      <td>1.0</td>\n      <td>1.0</td>\n      <td>0.02</td>\n      <td>0.07</td>\n      <td>0.00</td>\n      <td>0.023529</td>\n      <td>0.02</td>\n      <td>0.07</td>\n      <td>0.00</td>\n      <td>0.00</td>\n      <td>0.0</td>\n      <td>0.0</td>\n      <td>1.0</td>\n      <td>1.0</td>\n    </tr>\n    <tr>\n      <th>100776</th>\n      <td>1.0</td>\n      <td>0.009785</td>\n      <td>0.0</td>\n      <td>0.0</td>\n      <td>0.0</td>\n      <td>1.00</td>\n      <td>0.00</td>\n      <td>0.00</td>\n      <td>1.000000</td>\n      <td>1.00</td>\n      <td>0.00</td>\n      <td>0.05</td>\n      <td>0.05</td>\n      <td>0.0</td>\n      <td>0.0</td>\n      <td>0.0</td>\n      <td>0.0</td>\n    </tr>\n    <tr>\n      <th>100777</th>\n      <td>0.0</td>\n      <td>0.395303</td>\n      <td>0.0</td>\n      <td>0.0</td>\n      <td>0.0</td>\n      <td>1.00</td>\n      <td>0.01</td>\n      <td>0.00</td>\n      <td>0.996078</td>\n      <td>1.00</td>\n      <td>0.01</td>\n      <td>0.01</td>\n      <td>0.00</td>\n      <td>0.0</td>\n      <td>0.0</td>\n      <td>0.0</td>\n      <td>0.0</td>\n    </tr>\n  </tbody>\n</table>\n<p>100778 rows × 17 columns</p>\n</div>"
     },
     "execution_count": 743,
     "metadata": {},
     "output_type": "execute_result"
    }
   ],
   "source": [
    "# scaling the train set for layer1\n",
    "df_minmax = scaler1.fit_transform(X_train)\n",
    "X_train = pd.DataFrame(df_minmax, columns=X_train.columns)\n",
    "\n",
    "X_train"
   ]
  },
  {
   "cell_type": "code",
   "execution_count": 744,
   "outputs": [
    {
     "data": {
      "text/plain": "       logged_in     count  serror_rate  rerror_rate  srv_rerror_rate  \\\n0            0.0  0.003914          0.0          0.0              0.0   \n1            0.0  0.082192          1.0          0.0              0.0   \n2            0.0  0.555773          1.0          0.0              0.0   \n3            0.0  0.215264          0.0          1.0              1.0   \n4            0.0  0.001957          0.0          1.0              1.0   \n...          ...       ...          ...          ...              ...   \n25190        1.0  0.021526          0.0          0.0              0.0   \n25191        0.0  0.001957          0.0          0.0              0.0   \n25192        0.0  0.003914          0.0          0.0              0.0   \n25193        1.0  0.001957          0.0          0.0              0.0   \n25194        0.0  0.363992          1.0          0.0              0.0   \n\n       same_srv_rate  diff_srv_rate  srv_diff_host_rate  dst_host_srv_count  \\\n0               1.00           0.00                0.75            0.670588   \n1               0.26           0.10                0.00            0.172549   \n2               0.07           0.06                0.00            0.078431   \n3               0.07           0.06                0.00            0.105882   \n4               1.00           0.00                0.00            0.003922   \n...              ...            ...                 ...                 ...   \n25190           1.00           0.00                0.15            1.000000   \n25191           1.00           0.00                1.00            0.505882   \n25192           1.00           0.00                0.00            0.035294   \n25193           1.00           0.00                1.00            0.552941   \n25194           0.10           0.06                0.00            0.074510   \n\n       dst_host_same_srv_rate  dst_host_diff_srv_rate  \\\n0                        1.00                    0.00   \n1                        0.17                    0.05   \n2                        0.08                    0.06   \n3                        0.11                    0.07   \n4                        0.01                    0.64   \n...                       ...                     ...   \n25190                    1.00                    0.00   \n25191                    1.00                    0.00   \n25192                    0.06                    0.04   \n25193                    0.55                    0.06   \n25194                    0.07                    0.06   \n\n       dst_host_same_src_port_rate  dst_host_srv_diff_host_rate  \\\n0                             1.00                         0.01   \n1                             0.01                         0.00   \n2                             0.00                         0.00   \n3                             0.00                         0.00   \n4                             0.64                         0.00   \n...                            ...                          ...   \n25190                         0.00                         0.00   \n25191                         1.00                         0.50   \n25192                         0.06                         0.00   \n25193                         0.00                         0.00   \n25194                         0.00                         0.00   \n\n       dst_host_serror_rate  dst_host_srv_serror_rate  \\\n0                      0.00                      0.00   \n1                      1.00                      1.00   \n2                      1.00                      1.00   \n3                      0.00                      0.00   \n4                      0.04                      0.00   \n...                     ...                       ...   \n25190                  0.00                      0.00   \n25191                  0.00                      0.00   \n25192                  0.00                      0.00   \n25193                  0.02                      0.02   \n25194                  1.00                      1.00   \n\n       dst_host_srv_rerror_rate  dst_host_rerror_rate  \n0                           0.0                  0.00  \n1                           0.0                  0.00  \n2                           0.0                  0.00  \n3                           1.0                  1.00  \n4                           1.0                  0.63  \n...                         ...                   ...  \n25190                       0.0                  0.00  \n25191                       0.0                  0.00  \n25192                       0.0                  0.02  \n25193                       0.0                  0.00  \n25194                       0.0                  0.00  \n\n[25195 rows x 17 columns]",
      "text/html": "<div>\n<style scoped>\n    .dataframe tbody tr th:only-of-type {\n        vertical-align: middle;\n    }\n\n    .dataframe tbody tr th {\n        vertical-align: top;\n    }\n\n    .dataframe thead th {\n        text-align: right;\n    }\n</style>\n<table border=\"1\" class=\"dataframe\">\n  <thead>\n    <tr style=\"text-align: right;\">\n      <th></th>\n      <th>logged_in</th>\n      <th>count</th>\n      <th>serror_rate</th>\n      <th>rerror_rate</th>\n      <th>srv_rerror_rate</th>\n      <th>same_srv_rate</th>\n      <th>diff_srv_rate</th>\n      <th>srv_diff_host_rate</th>\n      <th>dst_host_srv_count</th>\n      <th>dst_host_same_srv_rate</th>\n      <th>dst_host_diff_srv_rate</th>\n      <th>dst_host_same_src_port_rate</th>\n      <th>dst_host_srv_diff_host_rate</th>\n      <th>dst_host_serror_rate</th>\n      <th>dst_host_srv_serror_rate</th>\n      <th>dst_host_srv_rerror_rate</th>\n      <th>dst_host_rerror_rate</th>\n    </tr>\n  </thead>\n  <tbody>\n    <tr>\n      <th>0</th>\n      <td>0.0</td>\n      <td>0.003914</td>\n      <td>0.0</td>\n      <td>0.0</td>\n      <td>0.0</td>\n      <td>1.00</td>\n      <td>0.00</td>\n      <td>0.75</td>\n      <td>0.670588</td>\n      <td>1.00</td>\n      <td>0.00</td>\n      <td>1.00</td>\n      <td>0.01</td>\n      <td>0.00</td>\n      <td>0.00</td>\n      <td>0.0</td>\n      <td>0.00</td>\n    </tr>\n    <tr>\n      <th>1</th>\n      <td>0.0</td>\n      <td>0.082192</td>\n      <td>1.0</td>\n      <td>0.0</td>\n      <td>0.0</td>\n      <td>0.26</td>\n      <td>0.10</td>\n      <td>0.00</td>\n      <td>0.172549</td>\n      <td>0.17</td>\n      <td>0.05</td>\n      <td>0.01</td>\n      <td>0.00</td>\n      <td>1.00</td>\n      <td>1.00</td>\n      <td>0.0</td>\n      <td>0.00</td>\n    </tr>\n    <tr>\n      <th>2</th>\n      <td>0.0</td>\n      <td>0.555773</td>\n      <td>1.0</td>\n      <td>0.0</td>\n      <td>0.0</td>\n      <td>0.07</td>\n      <td>0.06</td>\n      <td>0.00</td>\n      <td>0.078431</td>\n      <td>0.08</td>\n      <td>0.06</td>\n      <td>0.00</td>\n      <td>0.00</td>\n      <td>1.00</td>\n      <td>1.00</td>\n      <td>0.0</td>\n      <td>0.00</td>\n    </tr>\n    <tr>\n      <th>3</th>\n      <td>0.0</td>\n      <td>0.215264</td>\n      <td>0.0</td>\n      <td>1.0</td>\n      <td>1.0</td>\n      <td>0.07</td>\n      <td>0.06</td>\n      <td>0.00</td>\n      <td>0.105882</td>\n      <td>0.11</td>\n      <td>0.07</td>\n      <td>0.00</td>\n      <td>0.00</td>\n      <td>0.00</td>\n      <td>0.00</td>\n      <td>1.0</td>\n      <td>1.00</td>\n    </tr>\n    <tr>\n      <th>4</th>\n      <td>0.0</td>\n      <td>0.001957</td>\n      <td>0.0</td>\n      <td>1.0</td>\n      <td>1.0</td>\n      <td>1.00</td>\n      <td>0.00</td>\n      <td>0.00</td>\n      <td>0.003922</td>\n      <td>0.01</td>\n      <td>0.64</td>\n      <td>0.64</td>\n      <td>0.00</td>\n      <td>0.04</td>\n      <td>0.00</td>\n      <td>1.0</td>\n      <td>0.63</td>\n    </tr>\n    <tr>\n      <th>...</th>\n      <td>...</td>\n      <td>...</td>\n      <td>...</td>\n      <td>...</td>\n      <td>...</td>\n      <td>...</td>\n      <td>...</td>\n      <td>...</td>\n      <td>...</td>\n      <td>...</td>\n      <td>...</td>\n      <td>...</td>\n      <td>...</td>\n      <td>...</td>\n      <td>...</td>\n      <td>...</td>\n      <td>...</td>\n    </tr>\n    <tr>\n      <th>25190</th>\n      <td>1.0</td>\n      <td>0.021526</td>\n      <td>0.0</td>\n      <td>0.0</td>\n      <td>0.0</td>\n      <td>1.00</td>\n      <td>0.00</td>\n      <td>0.15</td>\n      <td>1.000000</td>\n      <td>1.00</td>\n      <td>0.00</td>\n      <td>0.00</td>\n      <td>0.00</td>\n      <td>0.00</td>\n      <td>0.00</td>\n      <td>0.0</td>\n      <td>0.00</td>\n    </tr>\n    <tr>\n      <th>25191</th>\n      <td>0.0</td>\n      <td>0.001957</td>\n      <td>0.0</td>\n      <td>0.0</td>\n      <td>0.0</td>\n      <td>1.00</td>\n      <td>0.00</td>\n      <td>1.00</td>\n      <td>0.505882</td>\n      <td>1.00</td>\n      <td>0.00</td>\n      <td>1.00</td>\n      <td>0.50</td>\n      <td>0.00</td>\n      <td>0.00</td>\n      <td>0.0</td>\n      <td>0.00</td>\n    </tr>\n    <tr>\n      <th>25192</th>\n      <td>0.0</td>\n      <td>0.003914</td>\n      <td>0.0</td>\n      <td>0.0</td>\n      <td>0.0</td>\n      <td>1.00</td>\n      <td>0.00</td>\n      <td>0.00</td>\n      <td>0.035294</td>\n      <td>0.06</td>\n      <td>0.04</td>\n      <td>0.06</td>\n      <td>0.00</td>\n      <td>0.00</td>\n      <td>0.00</td>\n      <td>0.0</td>\n      <td>0.02</td>\n    </tr>\n    <tr>\n      <th>25193</th>\n      <td>1.0</td>\n      <td>0.001957</td>\n      <td>0.0</td>\n      <td>0.0</td>\n      <td>0.0</td>\n      <td>1.00</td>\n      <td>0.00</td>\n      <td>1.00</td>\n      <td>0.552941</td>\n      <td>0.55</td>\n      <td>0.06</td>\n      <td>0.00</td>\n      <td>0.00</td>\n      <td>0.02</td>\n      <td>0.02</td>\n      <td>0.0</td>\n      <td>0.00</td>\n    </tr>\n    <tr>\n      <th>25194</th>\n      <td>0.0</td>\n      <td>0.363992</td>\n      <td>1.0</td>\n      <td>0.0</td>\n      <td>0.0</td>\n      <td>0.10</td>\n      <td>0.06</td>\n      <td>0.00</td>\n      <td>0.074510</td>\n      <td>0.07</td>\n      <td>0.06</td>\n      <td>0.00</td>\n      <td>0.00</td>\n      <td>1.00</td>\n      <td>1.00</td>\n      <td>0.0</td>\n      <td>0.00</td>\n    </tr>\n  </tbody>\n</table>\n<p>25195 rows × 17 columns</p>\n</div>"
     },
     "execution_count": 744,
     "metadata": {},
     "output_type": "execute_result"
    }
   ],
   "source": [
    "# scaling the validation set for layer1\n",
    "df_minmax_val = scaler1.transform(X_validate)\n",
    "X_validate = pd.DataFrame(df_minmax_val, columns=X_validate.columns)\n",
    "\n",
    "X_validate"
   ],
   "metadata": {
    "collapsed": false,
    "ExecuteTime": {
     "end_time": "2023-10-27T14:27:58.022354300Z",
     "start_time": "2023-10-27T14:27:57.502271800Z"
    }
   }
  },
  {
   "cell_type": "code",
   "execution_count": 745,
   "metadata": {
    "ExecuteTime": {
     "end_time": "2023-10-27T14:27:58.022354300Z",
     "start_time": "2023-10-27T14:27:57.534243700Z"
    }
   },
   "outputs": [
    {
     "data": {
      "text/plain": "        diff_srv_rate  dst_bytes  dst_host_count\n0                0.00      14939              52\n1                0.06          0             255\n2                0.06          0             255\n3                0.00        259             255\n4                0.00          4             255\n...               ...        ...             ...\n100773           0.07          0             255\n100774           0.08          0             255\n100775           0.07          0             255\n100776           0.00       4281              21\n100777           0.01         70             255\n\n[100778 rows x 3 columns]",
      "text/html": "<div>\n<style scoped>\n    .dataframe tbody tr th:only-of-type {\n        vertical-align: middle;\n    }\n\n    .dataframe tbody tr th {\n        vertical-align: top;\n    }\n\n    .dataframe thead th {\n        text-align: right;\n    }\n</style>\n<table border=\"1\" class=\"dataframe\">\n  <thead>\n    <tr style=\"text-align: right;\">\n      <th></th>\n      <th>diff_srv_rate</th>\n      <th>dst_bytes</th>\n      <th>dst_host_count</th>\n    </tr>\n  </thead>\n  <tbody>\n    <tr>\n      <th>0</th>\n      <td>0.00</td>\n      <td>14939</td>\n      <td>52</td>\n    </tr>\n    <tr>\n      <th>1</th>\n      <td>0.06</td>\n      <td>0</td>\n      <td>255</td>\n    </tr>\n    <tr>\n      <th>2</th>\n      <td>0.06</td>\n      <td>0</td>\n      <td>255</td>\n    </tr>\n    <tr>\n      <th>3</th>\n      <td>0.00</td>\n      <td>259</td>\n      <td>255</td>\n    </tr>\n    <tr>\n      <th>4</th>\n      <td>0.00</td>\n      <td>4</td>\n      <td>255</td>\n    </tr>\n    <tr>\n      <th>...</th>\n      <td>...</td>\n      <td>...</td>\n      <td>...</td>\n    </tr>\n    <tr>\n      <th>100773</th>\n      <td>0.07</td>\n      <td>0</td>\n      <td>255</td>\n    </tr>\n    <tr>\n      <th>100774</th>\n      <td>0.08</td>\n      <td>0</td>\n      <td>255</td>\n    </tr>\n    <tr>\n      <th>100775</th>\n      <td>0.07</td>\n      <td>0</td>\n      <td>255</td>\n    </tr>\n    <tr>\n      <th>100776</th>\n      <td>0.00</td>\n      <td>4281</td>\n      <td>21</td>\n    </tr>\n    <tr>\n      <th>100777</th>\n      <td>0.01</td>\n      <td>70</td>\n      <td>255</td>\n    </tr>\n  </tbody>\n</table>\n<p>100778 rows × 3 columns</p>\n</div>"
     },
     "execution_count": 745,
     "metadata": {},
     "output_type": "execute_result"
    }
   ],
   "source": [
    "# perform One-hot encoding for the train set\n",
    "label_enc = ohe.fit_transform(df_train[categorical_features])\n",
    "label_enc.toarray()\n",
    "new_labels = ohe.get_feature_names_out(categorical_features)\n",
    "df_enc = pd.DataFrame(data=label_enc.toarray(), columns=new_labels)\n",
    "X_train = pd.concat([X_train, df_enc], axis=1)\n",
    "\n",
    "df_train.iloc[:,1:4]"
   ]
  },
  {
   "cell_type": "code",
   "execution_count": 746,
   "outputs": [
    {
     "data": {
      "text/plain": "       logged_in     count  serror_rate  rerror_rate  srv_rerror_rate  \\\n0            0.0  0.003914          0.0          0.0              0.0   \n1            0.0  0.082192          1.0          0.0              0.0   \n2            0.0  0.555773          1.0          0.0              0.0   \n3            0.0  0.215264          0.0          1.0              1.0   \n4            0.0  0.001957          0.0          1.0              1.0   \n...          ...       ...          ...          ...              ...   \n25190        1.0  0.021526          0.0          0.0              0.0   \n25191        0.0  0.001957          0.0          0.0              0.0   \n25192        0.0  0.003914          0.0          0.0              0.0   \n25193        1.0  0.001957          0.0          0.0              0.0   \n25194        0.0  0.363992          1.0          0.0              0.0   \n\n       same_srv_rate  diff_srv_rate  srv_diff_host_rate  dst_host_srv_count  \\\n0               1.00           0.00                0.75            0.670588   \n1               0.26           0.10                0.00            0.172549   \n2               0.07           0.06                0.00            0.078431   \n3               0.07           0.06                0.00            0.105882   \n4               1.00           0.00                0.00            0.003922   \n...              ...            ...                 ...                 ...   \n25190           1.00           0.00                0.15            1.000000   \n25191           1.00           0.00                1.00            0.505882   \n25192           1.00           0.00                0.00            0.035294   \n25193           1.00           0.00                1.00            0.552941   \n25194           0.10           0.06                0.00            0.074510   \n\n       dst_host_same_srv_rate  ...  flag_REJ  flag_RSTO  flag_RSTOS0  \\\n0                        1.00  ...       0.0        0.0          0.0   \n1                        0.17  ...       0.0        0.0          0.0   \n2                        0.08  ...       0.0        0.0          0.0   \n3                        0.11  ...       1.0        0.0          0.0   \n4                        0.01  ...       0.0        0.0          0.0   \n...                       ...  ...       ...        ...          ...   \n25190                    1.00  ...       0.0        0.0          0.0   \n25191                    1.00  ...       0.0        0.0          0.0   \n25192                    0.06  ...       0.0        0.0          0.0   \n25193                    0.55  ...       0.0        0.0          0.0   \n25194                    0.07  ...       0.0        0.0          0.0   \n\n       flag_RSTR  flag_S0  flag_S1  flag_S2  flag_S3  flag_SF  flag_SH  \n0            0.0      0.0      0.0      0.0      0.0      1.0      0.0  \n1            0.0      1.0      0.0      0.0      0.0      0.0      0.0  \n2            0.0      1.0      0.0      0.0      0.0      0.0      0.0  \n3            0.0      0.0      0.0      0.0      0.0      0.0      0.0  \n4            1.0      0.0      0.0      0.0      0.0      0.0      0.0  \n...          ...      ...      ...      ...      ...      ...      ...  \n25190        0.0      0.0      0.0      0.0      0.0      1.0      0.0  \n25191        0.0      0.0      0.0      0.0      0.0      1.0      0.0  \n25192        0.0      0.0      0.0      0.0      0.0      1.0      0.0  \n25193        0.0      0.0      0.0      0.0      0.0      1.0      0.0  \n25194        0.0      1.0      0.0      0.0      0.0      0.0      0.0  \n\n[25195 rows x 101 columns]",
      "text/html": "<div>\n<style scoped>\n    .dataframe tbody tr th:only-of-type {\n        vertical-align: middle;\n    }\n\n    .dataframe tbody tr th {\n        vertical-align: top;\n    }\n\n    .dataframe thead th {\n        text-align: right;\n    }\n</style>\n<table border=\"1\" class=\"dataframe\">\n  <thead>\n    <tr style=\"text-align: right;\">\n      <th></th>\n      <th>logged_in</th>\n      <th>count</th>\n      <th>serror_rate</th>\n      <th>rerror_rate</th>\n      <th>srv_rerror_rate</th>\n      <th>same_srv_rate</th>\n      <th>diff_srv_rate</th>\n      <th>srv_diff_host_rate</th>\n      <th>dst_host_srv_count</th>\n      <th>dst_host_same_srv_rate</th>\n      <th>...</th>\n      <th>flag_REJ</th>\n      <th>flag_RSTO</th>\n      <th>flag_RSTOS0</th>\n      <th>flag_RSTR</th>\n      <th>flag_S0</th>\n      <th>flag_S1</th>\n      <th>flag_S2</th>\n      <th>flag_S3</th>\n      <th>flag_SF</th>\n      <th>flag_SH</th>\n    </tr>\n  </thead>\n  <tbody>\n    <tr>\n      <th>0</th>\n      <td>0.0</td>\n      <td>0.003914</td>\n      <td>0.0</td>\n      <td>0.0</td>\n      <td>0.0</td>\n      <td>1.00</td>\n      <td>0.00</td>\n      <td>0.75</td>\n      <td>0.670588</td>\n      <td>1.00</td>\n      <td>...</td>\n      <td>0.0</td>\n      <td>0.0</td>\n      <td>0.0</td>\n      <td>0.0</td>\n      <td>0.0</td>\n      <td>0.0</td>\n      <td>0.0</td>\n      <td>0.0</td>\n      <td>1.0</td>\n      <td>0.0</td>\n    </tr>\n    <tr>\n      <th>1</th>\n      <td>0.0</td>\n      <td>0.082192</td>\n      <td>1.0</td>\n      <td>0.0</td>\n      <td>0.0</td>\n      <td>0.26</td>\n      <td>0.10</td>\n      <td>0.00</td>\n      <td>0.172549</td>\n      <td>0.17</td>\n      <td>...</td>\n      <td>0.0</td>\n      <td>0.0</td>\n      <td>0.0</td>\n      <td>0.0</td>\n      <td>1.0</td>\n      <td>0.0</td>\n      <td>0.0</td>\n      <td>0.0</td>\n      <td>0.0</td>\n      <td>0.0</td>\n    </tr>\n    <tr>\n      <th>2</th>\n      <td>0.0</td>\n      <td>0.555773</td>\n      <td>1.0</td>\n      <td>0.0</td>\n      <td>0.0</td>\n      <td>0.07</td>\n      <td>0.06</td>\n      <td>0.00</td>\n      <td>0.078431</td>\n      <td>0.08</td>\n      <td>...</td>\n      <td>0.0</td>\n      <td>0.0</td>\n      <td>0.0</td>\n      <td>0.0</td>\n      <td>1.0</td>\n      <td>0.0</td>\n      <td>0.0</td>\n      <td>0.0</td>\n      <td>0.0</td>\n      <td>0.0</td>\n    </tr>\n    <tr>\n      <th>3</th>\n      <td>0.0</td>\n      <td>0.215264</td>\n      <td>0.0</td>\n      <td>1.0</td>\n      <td>1.0</td>\n      <td>0.07</td>\n      <td>0.06</td>\n      <td>0.00</td>\n      <td>0.105882</td>\n      <td>0.11</td>\n      <td>...</td>\n      <td>1.0</td>\n      <td>0.0</td>\n      <td>0.0</td>\n      <td>0.0</td>\n      <td>0.0</td>\n      <td>0.0</td>\n      <td>0.0</td>\n      <td>0.0</td>\n      <td>0.0</td>\n      <td>0.0</td>\n    </tr>\n    <tr>\n      <th>4</th>\n      <td>0.0</td>\n      <td>0.001957</td>\n      <td>0.0</td>\n      <td>1.0</td>\n      <td>1.0</td>\n      <td>1.00</td>\n      <td>0.00</td>\n      <td>0.00</td>\n      <td>0.003922</td>\n      <td>0.01</td>\n      <td>...</td>\n      <td>0.0</td>\n      <td>0.0</td>\n      <td>0.0</td>\n      <td>1.0</td>\n      <td>0.0</td>\n      <td>0.0</td>\n      <td>0.0</td>\n      <td>0.0</td>\n      <td>0.0</td>\n      <td>0.0</td>\n    </tr>\n    <tr>\n      <th>...</th>\n      <td>...</td>\n      <td>...</td>\n      <td>...</td>\n      <td>...</td>\n      <td>...</td>\n      <td>...</td>\n      <td>...</td>\n      <td>...</td>\n      <td>...</td>\n      <td>...</td>\n      <td>...</td>\n      <td>...</td>\n      <td>...</td>\n      <td>...</td>\n      <td>...</td>\n      <td>...</td>\n      <td>...</td>\n      <td>...</td>\n      <td>...</td>\n      <td>...</td>\n      <td>...</td>\n    </tr>\n    <tr>\n      <th>25190</th>\n      <td>1.0</td>\n      <td>0.021526</td>\n      <td>0.0</td>\n      <td>0.0</td>\n      <td>0.0</td>\n      <td>1.00</td>\n      <td>0.00</td>\n      <td>0.15</td>\n      <td>1.000000</td>\n      <td>1.00</td>\n      <td>...</td>\n      <td>0.0</td>\n      <td>0.0</td>\n      <td>0.0</td>\n      <td>0.0</td>\n      <td>0.0</td>\n      <td>0.0</td>\n      <td>0.0</td>\n      <td>0.0</td>\n      <td>1.0</td>\n      <td>0.0</td>\n    </tr>\n    <tr>\n      <th>25191</th>\n      <td>0.0</td>\n      <td>0.001957</td>\n      <td>0.0</td>\n      <td>0.0</td>\n      <td>0.0</td>\n      <td>1.00</td>\n      <td>0.00</td>\n      <td>1.00</td>\n      <td>0.505882</td>\n      <td>1.00</td>\n      <td>...</td>\n      <td>0.0</td>\n      <td>0.0</td>\n      <td>0.0</td>\n      <td>0.0</td>\n      <td>0.0</td>\n      <td>0.0</td>\n      <td>0.0</td>\n      <td>0.0</td>\n      <td>1.0</td>\n      <td>0.0</td>\n    </tr>\n    <tr>\n      <th>25192</th>\n      <td>0.0</td>\n      <td>0.003914</td>\n      <td>0.0</td>\n      <td>0.0</td>\n      <td>0.0</td>\n      <td>1.00</td>\n      <td>0.00</td>\n      <td>0.00</td>\n      <td>0.035294</td>\n      <td>0.06</td>\n      <td>...</td>\n      <td>0.0</td>\n      <td>0.0</td>\n      <td>0.0</td>\n      <td>0.0</td>\n      <td>0.0</td>\n      <td>0.0</td>\n      <td>0.0</td>\n      <td>0.0</td>\n      <td>1.0</td>\n      <td>0.0</td>\n    </tr>\n    <tr>\n      <th>25193</th>\n      <td>1.0</td>\n      <td>0.001957</td>\n      <td>0.0</td>\n      <td>0.0</td>\n      <td>0.0</td>\n      <td>1.00</td>\n      <td>0.00</td>\n      <td>1.00</td>\n      <td>0.552941</td>\n      <td>0.55</td>\n      <td>...</td>\n      <td>0.0</td>\n      <td>0.0</td>\n      <td>0.0</td>\n      <td>0.0</td>\n      <td>0.0</td>\n      <td>0.0</td>\n      <td>0.0</td>\n      <td>0.0</td>\n      <td>1.0</td>\n      <td>0.0</td>\n    </tr>\n    <tr>\n      <th>25194</th>\n      <td>0.0</td>\n      <td>0.363992</td>\n      <td>1.0</td>\n      <td>0.0</td>\n      <td>0.0</td>\n      <td>0.10</td>\n      <td>0.06</td>\n      <td>0.00</td>\n      <td>0.074510</td>\n      <td>0.07</td>\n      <td>...</td>\n      <td>0.0</td>\n      <td>0.0</td>\n      <td>0.0</td>\n      <td>0.0</td>\n      <td>1.0</td>\n      <td>0.0</td>\n      <td>0.0</td>\n      <td>0.0</td>\n      <td>0.0</td>\n      <td>0.0</td>\n    </tr>\n  </tbody>\n</table>\n<p>25195 rows × 101 columns</p>\n</div>"
     },
     "execution_count": 746,
     "metadata": {},
     "output_type": "execute_result"
    }
   ],
   "source": [
    "# perform One-hot encoding for the validation set\n",
    "label_enc = ohe.transform(df_val[categorical_features])\n",
    "label_enc.toarray()\n",
    "new_labels = ohe.get_feature_names_out(categorical_features)\n",
    "df_enc = pd.DataFrame(data=label_enc.toarray(), columns=new_labels)\n",
    "X_validate = pd.concat([X_validate, df_enc], axis=1)\n",
    "\n",
    "X_validate"
   ],
   "metadata": {
    "collapsed": false,
    "ExecuteTime": {
     "end_time": "2023-10-27T14:27:58.022354300Z",
     "start_time": "2023-10-27T14:27:57.706661300Z"
    }
   }
  },
  {
   "cell_type": "code",
   "execution_count": 747,
   "metadata": {
    "ExecuteTime": {
     "end_time": "2023-10-27T14:27:58.022354300Z",
     "start_time": "2023-10-27T14:27:57.777961500Z"
    }
   },
   "outputs": [
    {
     "data": {
      "text/plain": "       duration protocol_type   service  flag  src_bytes  dst_bytes  land  \\\n0             0           tcp   private   REJ          0          0     0   \n1             0           tcp   private   REJ          0          0     0   \n2             2           tcp  ftp_data    SF      12983          0     0   \n3             0          icmp     eco_i    SF         20          0     0   \n4             1           tcp    telnet  RSTO          0         15     0   \n...         ...           ...       ...   ...        ...        ...   ...   \n22539         0           tcp      smtp    SF        794        333     0   \n22540         0           tcp      http    SF        317        938     0   \n22541         0           tcp      http    SF      54540       8314     0   \n22542         0           udp  domain_u    SF         42         42     0   \n22543         0           tcp    sunrpc   REJ          0          0     0   \n\n       wrong_fragment  urgent  hot  ...  dst_host_count  dst_host_srv_count  \\\n0                   0       0    0  ...             255                  10   \n1                   0       0    0  ...             255                   1   \n2                   0       0    0  ...             134                  86   \n3                   0       0    0  ...               3                  57   \n4                   0       0    0  ...              29                  86   \n...               ...     ...  ...  ...             ...                 ...   \n22539               0       0    0  ...             100                 141   \n22540               0       0    0  ...             197                 255   \n22541               0       0    2  ...             255                 255   \n22542               0       0    0  ...             255                 252   \n22543               0       0    0  ...             255                  21   \n\n       dst_host_same_srv_rate  dst_host_diff_srv_rate  \\\n0                        0.04                    0.06   \n1                        0.00                    0.06   \n2                        0.61                    0.04   \n3                        1.00                    0.00   \n4                        0.31                    0.17   \n...                       ...                     ...   \n22539                    0.72                    0.06   \n22540                    1.00                    0.00   \n22541                    1.00                    0.00   \n22542                    0.99                    0.01   \n22543                    0.08                    0.03   \n\n       dst_host_same_src_port_rate  dst_host_srv_diff_host_rate  \\\n0                             0.00                         0.00   \n1                             0.00                         0.00   \n2                             0.61                         0.02   \n3                             1.00                         0.28   \n4                             0.03                         0.02   \n...                            ...                          ...   \n22539                         0.01                         0.01   \n22540                         0.01                         0.01   \n22541                         0.00                         0.00   \n22542                         0.00                         0.00   \n22543                         0.00                         0.00   \n\n       dst_host_serror_rate  dst_host_srv_serror_rate  dst_host_rerror_rate  \\\n0                      0.00                       0.0                  1.00   \n1                      0.00                       0.0                  1.00   \n2                      0.00                       0.0                  0.00   \n3                      0.00                       0.0                  0.00   \n4                      0.00                       0.0                  0.83   \n...                     ...                       ...                   ...   \n22539                  0.01                       0.0                  0.00   \n22540                  0.01                       0.0                  0.00   \n22541                  0.00                       0.0                  0.07   \n22542                  0.00                       0.0                  0.00   \n22543                  0.00                       0.0                  0.44   \n\n       dst_host_srv_rerror_rate  \n0                          1.00  \n1                          1.00  \n2                          0.00  \n3                          0.00  \n4                          0.71  \n...                         ...  \n22539                      0.00  \n22540                      0.00  \n22541                      0.07  \n22542                      0.00  \n22543                      1.00  \n\n[22544 rows x 40 columns]",
      "text/html": "<div>\n<style scoped>\n    .dataframe tbody tr th:only-of-type {\n        vertical-align: middle;\n    }\n\n    .dataframe tbody tr th {\n        vertical-align: top;\n    }\n\n    .dataframe thead th {\n        text-align: right;\n    }\n</style>\n<table border=\"1\" class=\"dataframe\">\n  <thead>\n    <tr style=\"text-align: right;\">\n      <th></th>\n      <th>duration</th>\n      <th>protocol_type</th>\n      <th>service</th>\n      <th>flag</th>\n      <th>src_bytes</th>\n      <th>dst_bytes</th>\n      <th>land</th>\n      <th>wrong_fragment</th>\n      <th>urgent</th>\n      <th>hot</th>\n      <th>...</th>\n      <th>dst_host_count</th>\n      <th>dst_host_srv_count</th>\n      <th>dst_host_same_srv_rate</th>\n      <th>dst_host_diff_srv_rate</th>\n      <th>dst_host_same_src_port_rate</th>\n      <th>dst_host_srv_diff_host_rate</th>\n      <th>dst_host_serror_rate</th>\n      <th>dst_host_srv_serror_rate</th>\n      <th>dst_host_rerror_rate</th>\n      <th>dst_host_srv_rerror_rate</th>\n    </tr>\n  </thead>\n  <tbody>\n    <tr>\n      <th>0</th>\n      <td>0</td>\n      <td>tcp</td>\n      <td>private</td>\n      <td>REJ</td>\n      <td>0</td>\n      <td>0</td>\n      <td>0</td>\n      <td>0</td>\n      <td>0</td>\n      <td>0</td>\n      <td>...</td>\n      <td>255</td>\n      <td>10</td>\n      <td>0.04</td>\n      <td>0.06</td>\n      <td>0.00</td>\n      <td>0.00</td>\n      <td>0.00</td>\n      <td>0.0</td>\n      <td>1.00</td>\n      <td>1.00</td>\n    </tr>\n    <tr>\n      <th>1</th>\n      <td>0</td>\n      <td>tcp</td>\n      <td>private</td>\n      <td>REJ</td>\n      <td>0</td>\n      <td>0</td>\n      <td>0</td>\n      <td>0</td>\n      <td>0</td>\n      <td>0</td>\n      <td>...</td>\n      <td>255</td>\n      <td>1</td>\n      <td>0.00</td>\n      <td>0.06</td>\n      <td>0.00</td>\n      <td>0.00</td>\n      <td>0.00</td>\n      <td>0.0</td>\n      <td>1.00</td>\n      <td>1.00</td>\n    </tr>\n    <tr>\n      <th>2</th>\n      <td>2</td>\n      <td>tcp</td>\n      <td>ftp_data</td>\n      <td>SF</td>\n      <td>12983</td>\n      <td>0</td>\n      <td>0</td>\n      <td>0</td>\n      <td>0</td>\n      <td>0</td>\n      <td>...</td>\n      <td>134</td>\n      <td>86</td>\n      <td>0.61</td>\n      <td>0.04</td>\n      <td>0.61</td>\n      <td>0.02</td>\n      <td>0.00</td>\n      <td>0.0</td>\n      <td>0.00</td>\n      <td>0.00</td>\n    </tr>\n    <tr>\n      <th>3</th>\n      <td>0</td>\n      <td>icmp</td>\n      <td>eco_i</td>\n      <td>SF</td>\n      <td>20</td>\n      <td>0</td>\n      <td>0</td>\n      <td>0</td>\n      <td>0</td>\n      <td>0</td>\n      <td>...</td>\n      <td>3</td>\n      <td>57</td>\n      <td>1.00</td>\n      <td>0.00</td>\n      <td>1.00</td>\n      <td>0.28</td>\n      <td>0.00</td>\n      <td>0.0</td>\n      <td>0.00</td>\n      <td>0.00</td>\n    </tr>\n    <tr>\n      <th>4</th>\n      <td>1</td>\n      <td>tcp</td>\n      <td>telnet</td>\n      <td>RSTO</td>\n      <td>0</td>\n      <td>15</td>\n      <td>0</td>\n      <td>0</td>\n      <td>0</td>\n      <td>0</td>\n      <td>...</td>\n      <td>29</td>\n      <td>86</td>\n      <td>0.31</td>\n      <td>0.17</td>\n      <td>0.03</td>\n      <td>0.02</td>\n      <td>0.00</td>\n      <td>0.0</td>\n      <td>0.83</td>\n      <td>0.71</td>\n    </tr>\n    <tr>\n      <th>...</th>\n      <td>...</td>\n      <td>...</td>\n      <td>...</td>\n      <td>...</td>\n      <td>...</td>\n      <td>...</td>\n      <td>...</td>\n      <td>...</td>\n      <td>...</td>\n      <td>...</td>\n      <td>...</td>\n      <td>...</td>\n      <td>...</td>\n      <td>...</td>\n      <td>...</td>\n      <td>...</td>\n      <td>...</td>\n      <td>...</td>\n      <td>...</td>\n      <td>...</td>\n      <td>...</td>\n    </tr>\n    <tr>\n      <th>22539</th>\n      <td>0</td>\n      <td>tcp</td>\n      <td>smtp</td>\n      <td>SF</td>\n      <td>794</td>\n      <td>333</td>\n      <td>0</td>\n      <td>0</td>\n      <td>0</td>\n      <td>0</td>\n      <td>...</td>\n      <td>100</td>\n      <td>141</td>\n      <td>0.72</td>\n      <td>0.06</td>\n      <td>0.01</td>\n      <td>0.01</td>\n      <td>0.01</td>\n      <td>0.0</td>\n      <td>0.00</td>\n      <td>0.00</td>\n    </tr>\n    <tr>\n      <th>22540</th>\n      <td>0</td>\n      <td>tcp</td>\n      <td>http</td>\n      <td>SF</td>\n      <td>317</td>\n      <td>938</td>\n      <td>0</td>\n      <td>0</td>\n      <td>0</td>\n      <td>0</td>\n      <td>...</td>\n      <td>197</td>\n      <td>255</td>\n      <td>1.00</td>\n      <td>0.00</td>\n      <td>0.01</td>\n      <td>0.01</td>\n      <td>0.01</td>\n      <td>0.0</td>\n      <td>0.00</td>\n      <td>0.00</td>\n    </tr>\n    <tr>\n      <th>22541</th>\n      <td>0</td>\n      <td>tcp</td>\n      <td>http</td>\n      <td>SF</td>\n      <td>54540</td>\n      <td>8314</td>\n      <td>0</td>\n      <td>0</td>\n      <td>0</td>\n      <td>2</td>\n      <td>...</td>\n      <td>255</td>\n      <td>255</td>\n      <td>1.00</td>\n      <td>0.00</td>\n      <td>0.00</td>\n      <td>0.00</td>\n      <td>0.00</td>\n      <td>0.0</td>\n      <td>0.07</td>\n      <td>0.07</td>\n    </tr>\n    <tr>\n      <th>22542</th>\n      <td>0</td>\n      <td>udp</td>\n      <td>domain_u</td>\n      <td>SF</td>\n      <td>42</td>\n      <td>42</td>\n      <td>0</td>\n      <td>0</td>\n      <td>0</td>\n      <td>0</td>\n      <td>...</td>\n      <td>255</td>\n      <td>252</td>\n      <td>0.99</td>\n      <td>0.01</td>\n      <td>0.00</td>\n      <td>0.00</td>\n      <td>0.00</td>\n      <td>0.0</td>\n      <td>0.00</td>\n      <td>0.00</td>\n    </tr>\n    <tr>\n      <th>22543</th>\n      <td>0</td>\n      <td>tcp</td>\n      <td>sunrpc</td>\n      <td>REJ</td>\n      <td>0</td>\n      <td>0</td>\n      <td>0</td>\n      <td>0</td>\n      <td>0</td>\n      <td>0</td>\n      <td>...</td>\n      <td>255</td>\n      <td>21</td>\n      <td>0.08</td>\n      <td>0.03</td>\n      <td>0.00</td>\n      <td>0.00</td>\n      <td>0.00</td>\n      <td>0.0</td>\n      <td>0.44</td>\n      <td>1.00</td>\n    </tr>\n  </tbody>\n</table>\n<p>22544 rows × 40 columns</p>\n</div>"
     },
     "execution_count": 747,
     "metadata": {},
     "output_type": "execute_result"
    }
   ],
   "source": [
    "# do the same for testset\n",
    "y_test = np.array([1 if x in (dos_attacks+probe_attacks) else 0 for x in df_test['label']])\n",
    "\n",
    "df_test = df_test.drop(['label'],axis=1)\n",
    "df_test = df_test.reset_index().drop(['index'], axis=1)\n",
    "df_test"
   ]
  },
  {
   "cell_type": "code",
   "execution_count": 748,
   "metadata": {
    "ExecuteTime": {
     "end_time": "2023-10-27T14:27:58.037653700Z",
     "start_time": "2023-10-27T14:27:57.833224700Z"
    }
   },
   "outputs": [
    {
     "data": {
      "text/plain": "       logged_in  count  serror_rate  rerror_rate  srv_rerror_rate  \\\n0              0    229          0.0          1.0              1.0   \n1              0    136          0.0          1.0              1.0   \n2              0      1          0.0          0.0              0.0   \n3              0      1          0.0          0.0              0.0   \n4              0      1          0.0          1.0              0.5   \n...          ...    ...          ...          ...              ...   \n22539          1      1          0.0          0.0              0.0   \n22540          1      2          0.0          0.0              0.0   \n22541          1      5          0.0          0.0              0.0   \n22542          0      4          0.0          0.0              0.0   \n22543          0      4          0.0          1.0              1.0   \n\n       same_srv_rate  diff_srv_rate  srv_diff_host_rate  dst_host_srv_count  \\\n0               0.04           0.06                0.00                  10   \n1               0.01           0.06                0.00                   1   \n2               1.00           0.00                0.00                  86   \n3               1.00           0.00                1.00                  57   \n4               1.00           0.00                0.75                  86   \n...              ...            ...                 ...                 ...   \n22539           1.00           0.00                0.00                 141   \n22540           1.00           0.00                0.18                 255   \n22541           1.00           0.00                0.20                 255   \n22542           1.00           0.00                0.33                 252   \n22543           0.25           1.00                1.00                  21   \n\n       dst_host_same_srv_rate  dst_host_diff_srv_rate  \\\n0                        0.04                    0.06   \n1                        0.00                    0.06   \n2                        0.61                    0.04   \n3                        1.00                    0.00   \n4                        0.31                    0.17   \n...                       ...                     ...   \n22539                    0.72                    0.06   \n22540                    1.00                    0.00   \n22541                    1.00                    0.00   \n22542                    0.99                    0.01   \n22543                    0.08                    0.03   \n\n       dst_host_same_src_port_rate  dst_host_srv_diff_host_rate  \\\n0                             0.00                         0.00   \n1                             0.00                         0.00   \n2                             0.61                         0.02   \n3                             1.00                         0.28   \n4                             0.03                         0.02   \n...                            ...                          ...   \n22539                         0.01                         0.01   \n22540                         0.01                         0.01   \n22541                         0.00                         0.00   \n22542                         0.00                         0.00   \n22543                         0.00                         0.00   \n\n       dst_host_serror_rate  dst_host_srv_serror_rate  \\\n0                      0.00                       0.0   \n1                      0.00                       0.0   \n2                      0.00                       0.0   \n3                      0.00                       0.0   \n4                      0.00                       0.0   \n...                     ...                       ...   \n22539                  0.01                       0.0   \n22540                  0.01                       0.0   \n22541                  0.00                       0.0   \n22542                  0.00                       0.0   \n22543                  0.00                       0.0   \n\n       dst_host_srv_rerror_rate  dst_host_rerror_rate  \n0                          1.00                  1.00  \n1                          1.00                  1.00  \n2                          0.00                  0.00  \n3                          0.00                  0.00  \n4                          0.71                  0.83  \n...                         ...                   ...  \n22539                      0.00                  0.00  \n22540                      0.00                  0.00  \n22541                      0.07                  0.07  \n22542                      0.00                  0.00  \n22543                      1.00                  0.44  \n\n[22544 rows x 17 columns]",
      "text/html": "<div>\n<style scoped>\n    .dataframe tbody tr th:only-of-type {\n        vertical-align: middle;\n    }\n\n    .dataframe tbody tr th {\n        vertical-align: top;\n    }\n\n    .dataframe thead th {\n        text-align: right;\n    }\n</style>\n<table border=\"1\" class=\"dataframe\">\n  <thead>\n    <tr style=\"text-align: right;\">\n      <th></th>\n      <th>logged_in</th>\n      <th>count</th>\n      <th>serror_rate</th>\n      <th>rerror_rate</th>\n      <th>srv_rerror_rate</th>\n      <th>same_srv_rate</th>\n      <th>diff_srv_rate</th>\n      <th>srv_diff_host_rate</th>\n      <th>dst_host_srv_count</th>\n      <th>dst_host_same_srv_rate</th>\n      <th>dst_host_diff_srv_rate</th>\n      <th>dst_host_same_src_port_rate</th>\n      <th>dst_host_srv_diff_host_rate</th>\n      <th>dst_host_serror_rate</th>\n      <th>dst_host_srv_serror_rate</th>\n      <th>dst_host_srv_rerror_rate</th>\n      <th>dst_host_rerror_rate</th>\n    </tr>\n  </thead>\n  <tbody>\n    <tr>\n      <th>0</th>\n      <td>0</td>\n      <td>229</td>\n      <td>0.0</td>\n      <td>1.0</td>\n      <td>1.0</td>\n      <td>0.04</td>\n      <td>0.06</td>\n      <td>0.00</td>\n      <td>10</td>\n      <td>0.04</td>\n      <td>0.06</td>\n      <td>0.00</td>\n      <td>0.00</td>\n      <td>0.00</td>\n      <td>0.0</td>\n      <td>1.00</td>\n      <td>1.00</td>\n    </tr>\n    <tr>\n      <th>1</th>\n      <td>0</td>\n      <td>136</td>\n      <td>0.0</td>\n      <td>1.0</td>\n      <td>1.0</td>\n      <td>0.01</td>\n      <td>0.06</td>\n      <td>0.00</td>\n      <td>1</td>\n      <td>0.00</td>\n      <td>0.06</td>\n      <td>0.00</td>\n      <td>0.00</td>\n      <td>0.00</td>\n      <td>0.0</td>\n      <td>1.00</td>\n      <td>1.00</td>\n    </tr>\n    <tr>\n      <th>2</th>\n      <td>0</td>\n      <td>1</td>\n      <td>0.0</td>\n      <td>0.0</td>\n      <td>0.0</td>\n      <td>1.00</td>\n      <td>0.00</td>\n      <td>0.00</td>\n      <td>86</td>\n      <td>0.61</td>\n      <td>0.04</td>\n      <td>0.61</td>\n      <td>0.02</td>\n      <td>0.00</td>\n      <td>0.0</td>\n      <td>0.00</td>\n      <td>0.00</td>\n    </tr>\n    <tr>\n      <th>3</th>\n      <td>0</td>\n      <td>1</td>\n      <td>0.0</td>\n      <td>0.0</td>\n      <td>0.0</td>\n      <td>1.00</td>\n      <td>0.00</td>\n      <td>1.00</td>\n      <td>57</td>\n      <td>1.00</td>\n      <td>0.00</td>\n      <td>1.00</td>\n      <td>0.28</td>\n      <td>0.00</td>\n      <td>0.0</td>\n      <td>0.00</td>\n      <td>0.00</td>\n    </tr>\n    <tr>\n      <th>4</th>\n      <td>0</td>\n      <td>1</td>\n      <td>0.0</td>\n      <td>1.0</td>\n      <td>0.5</td>\n      <td>1.00</td>\n      <td>0.00</td>\n      <td>0.75</td>\n      <td>86</td>\n      <td>0.31</td>\n      <td>0.17</td>\n      <td>0.03</td>\n      <td>0.02</td>\n      <td>0.00</td>\n      <td>0.0</td>\n      <td>0.71</td>\n      <td>0.83</td>\n    </tr>\n    <tr>\n      <th>...</th>\n      <td>...</td>\n      <td>...</td>\n      <td>...</td>\n      <td>...</td>\n      <td>...</td>\n      <td>...</td>\n      <td>...</td>\n      <td>...</td>\n      <td>...</td>\n      <td>...</td>\n      <td>...</td>\n      <td>...</td>\n      <td>...</td>\n      <td>...</td>\n      <td>...</td>\n      <td>...</td>\n      <td>...</td>\n    </tr>\n    <tr>\n      <th>22539</th>\n      <td>1</td>\n      <td>1</td>\n      <td>0.0</td>\n      <td>0.0</td>\n      <td>0.0</td>\n      <td>1.00</td>\n      <td>0.00</td>\n      <td>0.00</td>\n      <td>141</td>\n      <td>0.72</td>\n      <td>0.06</td>\n      <td>0.01</td>\n      <td>0.01</td>\n      <td>0.01</td>\n      <td>0.0</td>\n      <td>0.00</td>\n      <td>0.00</td>\n    </tr>\n    <tr>\n      <th>22540</th>\n      <td>1</td>\n      <td>2</td>\n      <td>0.0</td>\n      <td>0.0</td>\n      <td>0.0</td>\n      <td>1.00</td>\n      <td>0.00</td>\n      <td>0.18</td>\n      <td>255</td>\n      <td>1.00</td>\n      <td>0.00</td>\n      <td>0.01</td>\n      <td>0.01</td>\n      <td>0.01</td>\n      <td>0.0</td>\n      <td>0.00</td>\n      <td>0.00</td>\n    </tr>\n    <tr>\n      <th>22541</th>\n      <td>1</td>\n      <td>5</td>\n      <td>0.0</td>\n      <td>0.0</td>\n      <td>0.0</td>\n      <td>1.00</td>\n      <td>0.00</td>\n      <td>0.20</td>\n      <td>255</td>\n      <td>1.00</td>\n      <td>0.00</td>\n      <td>0.00</td>\n      <td>0.00</td>\n      <td>0.00</td>\n      <td>0.0</td>\n      <td>0.07</td>\n      <td>0.07</td>\n    </tr>\n    <tr>\n      <th>22542</th>\n      <td>0</td>\n      <td>4</td>\n      <td>0.0</td>\n      <td>0.0</td>\n      <td>0.0</td>\n      <td>1.00</td>\n      <td>0.00</td>\n      <td>0.33</td>\n      <td>252</td>\n      <td>0.99</td>\n      <td>0.01</td>\n      <td>0.00</td>\n      <td>0.00</td>\n      <td>0.00</td>\n      <td>0.0</td>\n      <td>0.00</td>\n      <td>0.00</td>\n    </tr>\n    <tr>\n      <th>22543</th>\n      <td>0</td>\n      <td>4</td>\n      <td>0.0</td>\n      <td>1.0</td>\n      <td>1.0</td>\n      <td>0.25</td>\n      <td>1.00</td>\n      <td>1.00</td>\n      <td>21</td>\n      <td>0.08</td>\n      <td>0.03</td>\n      <td>0.00</td>\n      <td>0.00</td>\n      <td>0.00</td>\n      <td>0.0</td>\n      <td>1.00</td>\n      <td>0.44</td>\n    </tr>\n  </tbody>\n</table>\n<p>22544 rows × 17 columns</p>\n</div>"
     },
     "execution_count": 748,
     "metadata": {},
     "output_type": "execute_result"
    }
   ],
   "source": [
    "X_test = df_test[common_features_l1]\n",
    "\n",
    "X_test"
   ]
  },
  {
   "cell_type": "code",
   "execution_count": 749,
   "metadata": {
    "ExecuteTime": {
     "end_time": "2023-10-27T14:27:58.053279600Z",
     "start_time": "2023-10-27T14:27:57.855760Z"
    }
   },
   "outputs": [
    {
     "data": {
      "text/plain": "       logged_in     count  serror_rate  rerror_rate  srv_rerror_rate  \\\n0            0.0  0.448141          0.0          1.0              1.0   \n1            0.0  0.266145          0.0          1.0              1.0   \n2            0.0  0.001957          0.0          0.0              0.0   \n3            0.0  0.001957          0.0          0.0              0.0   \n4            0.0  0.001957          0.0          1.0              0.5   \n...          ...       ...          ...          ...              ...   \n22539        1.0  0.001957          0.0          0.0              0.0   \n22540        1.0  0.003914          0.0          0.0              0.0   \n22541        1.0  0.009785          0.0          0.0              0.0   \n22542        0.0  0.007828          0.0          0.0              0.0   \n22543        0.0  0.007828          0.0          1.0              1.0   \n\n       same_srv_rate  diff_srv_rate  srv_diff_host_rate  dst_host_srv_count  \\\n0               0.04           0.06                0.00            0.039216   \n1               0.01           0.06                0.00            0.003922   \n2               1.00           0.00                0.00            0.337255   \n3               1.00           0.00                1.00            0.223529   \n4               1.00           0.00                0.75            0.337255   \n...              ...            ...                 ...                 ...   \n22539           1.00           0.00                0.00            0.552941   \n22540           1.00           0.00                0.18            1.000000   \n22541           1.00           0.00                0.20            1.000000   \n22542           1.00           0.00                0.33            0.988235   \n22543           0.25           1.00                1.00            0.082353   \n\n       dst_host_same_srv_rate  dst_host_diff_srv_rate  \\\n0                        0.04                    0.06   \n1                        0.00                    0.06   \n2                        0.61                    0.04   \n3                        1.00                    0.00   \n4                        0.31                    0.17   \n...                       ...                     ...   \n22539                    0.72                    0.06   \n22540                    1.00                    0.00   \n22541                    1.00                    0.00   \n22542                    0.99                    0.01   \n22543                    0.08                    0.03   \n\n       dst_host_same_src_port_rate  dst_host_srv_diff_host_rate  \\\n0                             0.00                         0.00   \n1                             0.00                         0.00   \n2                             0.61                         0.02   \n3                             1.00                         0.28   \n4                             0.03                         0.02   \n...                            ...                          ...   \n22539                         0.01                         0.01   \n22540                         0.01                         0.01   \n22541                         0.00                         0.00   \n22542                         0.00                         0.00   \n22543                         0.00                         0.00   \n\n       dst_host_serror_rate  dst_host_srv_serror_rate  \\\n0                      0.00                       0.0   \n1                      0.00                       0.0   \n2                      0.00                       0.0   \n3                      0.00                       0.0   \n4                      0.00                       0.0   \n...                     ...                       ...   \n22539                  0.01                       0.0   \n22540                  0.01                       0.0   \n22541                  0.00                       0.0   \n22542                  0.00                       0.0   \n22543                  0.00                       0.0   \n\n       dst_host_srv_rerror_rate  dst_host_rerror_rate  \n0                          1.00                  1.00  \n1                          1.00                  1.00  \n2                          0.00                  0.00  \n3                          0.00                  0.00  \n4                          0.71                  0.83  \n...                         ...                   ...  \n22539                      0.00                  0.00  \n22540                      0.00                  0.00  \n22541                      0.07                  0.07  \n22542                      0.00                  0.00  \n22543                      1.00                  0.44  \n\n[22544 rows x 17 columns]",
      "text/html": "<div>\n<style scoped>\n    .dataframe tbody tr th:only-of-type {\n        vertical-align: middle;\n    }\n\n    .dataframe tbody tr th {\n        vertical-align: top;\n    }\n\n    .dataframe thead th {\n        text-align: right;\n    }\n</style>\n<table border=\"1\" class=\"dataframe\">\n  <thead>\n    <tr style=\"text-align: right;\">\n      <th></th>\n      <th>logged_in</th>\n      <th>count</th>\n      <th>serror_rate</th>\n      <th>rerror_rate</th>\n      <th>srv_rerror_rate</th>\n      <th>same_srv_rate</th>\n      <th>diff_srv_rate</th>\n      <th>srv_diff_host_rate</th>\n      <th>dst_host_srv_count</th>\n      <th>dst_host_same_srv_rate</th>\n      <th>dst_host_diff_srv_rate</th>\n      <th>dst_host_same_src_port_rate</th>\n      <th>dst_host_srv_diff_host_rate</th>\n      <th>dst_host_serror_rate</th>\n      <th>dst_host_srv_serror_rate</th>\n      <th>dst_host_srv_rerror_rate</th>\n      <th>dst_host_rerror_rate</th>\n    </tr>\n  </thead>\n  <tbody>\n    <tr>\n      <th>0</th>\n      <td>0.0</td>\n      <td>0.448141</td>\n      <td>0.0</td>\n      <td>1.0</td>\n      <td>1.0</td>\n      <td>0.04</td>\n      <td>0.06</td>\n      <td>0.00</td>\n      <td>0.039216</td>\n      <td>0.04</td>\n      <td>0.06</td>\n      <td>0.00</td>\n      <td>0.00</td>\n      <td>0.00</td>\n      <td>0.0</td>\n      <td>1.00</td>\n      <td>1.00</td>\n    </tr>\n    <tr>\n      <th>1</th>\n      <td>0.0</td>\n      <td>0.266145</td>\n      <td>0.0</td>\n      <td>1.0</td>\n      <td>1.0</td>\n      <td>0.01</td>\n      <td>0.06</td>\n      <td>0.00</td>\n      <td>0.003922</td>\n      <td>0.00</td>\n      <td>0.06</td>\n      <td>0.00</td>\n      <td>0.00</td>\n      <td>0.00</td>\n      <td>0.0</td>\n      <td>1.00</td>\n      <td>1.00</td>\n    </tr>\n    <tr>\n      <th>2</th>\n      <td>0.0</td>\n      <td>0.001957</td>\n      <td>0.0</td>\n      <td>0.0</td>\n      <td>0.0</td>\n      <td>1.00</td>\n      <td>0.00</td>\n      <td>0.00</td>\n      <td>0.337255</td>\n      <td>0.61</td>\n      <td>0.04</td>\n      <td>0.61</td>\n      <td>0.02</td>\n      <td>0.00</td>\n      <td>0.0</td>\n      <td>0.00</td>\n      <td>0.00</td>\n    </tr>\n    <tr>\n      <th>3</th>\n      <td>0.0</td>\n      <td>0.001957</td>\n      <td>0.0</td>\n      <td>0.0</td>\n      <td>0.0</td>\n      <td>1.00</td>\n      <td>0.00</td>\n      <td>1.00</td>\n      <td>0.223529</td>\n      <td>1.00</td>\n      <td>0.00</td>\n      <td>1.00</td>\n      <td>0.28</td>\n      <td>0.00</td>\n      <td>0.0</td>\n      <td>0.00</td>\n      <td>0.00</td>\n    </tr>\n    <tr>\n      <th>4</th>\n      <td>0.0</td>\n      <td>0.001957</td>\n      <td>0.0</td>\n      <td>1.0</td>\n      <td>0.5</td>\n      <td>1.00</td>\n      <td>0.00</td>\n      <td>0.75</td>\n      <td>0.337255</td>\n      <td>0.31</td>\n      <td>0.17</td>\n      <td>0.03</td>\n      <td>0.02</td>\n      <td>0.00</td>\n      <td>0.0</td>\n      <td>0.71</td>\n      <td>0.83</td>\n    </tr>\n    <tr>\n      <th>...</th>\n      <td>...</td>\n      <td>...</td>\n      <td>...</td>\n      <td>...</td>\n      <td>...</td>\n      <td>...</td>\n      <td>...</td>\n      <td>...</td>\n      <td>...</td>\n      <td>...</td>\n      <td>...</td>\n      <td>...</td>\n      <td>...</td>\n      <td>...</td>\n      <td>...</td>\n      <td>...</td>\n      <td>...</td>\n    </tr>\n    <tr>\n      <th>22539</th>\n      <td>1.0</td>\n      <td>0.001957</td>\n      <td>0.0</td>\n      <td>0.0</td>\n      <td>0.0</td>\n      <td>1.00</td>\n      <td>0.00</td>\n      <td>0.00</td>\n      <td>0.552941</td>\n      <td>0.72</td>\n      <td>0.06</td>\n      <td>0.01</td>\n      <td>0.01</td>\n      <td>0.01</td>\n      <td>0.0</td>\n      <td>0.00</td>\n      <td>0.00</td>\n    </tr>\n    <tr>\n      <th>22540</th>\n      <td>1.0</td>\n      <td>0.003914</td>\n      <td>0.0</td>\n      <td>0.0</td>\n      <td>0.0</td>\n      <td>1.00</td>\n      <td>0.00</td>\n      <td>0.18</td>\n      <td>1.000000</td>\n      <td>1.00</td>\n      <td>0.00</td>\n      <td>0.01</td>\n      <td>0.01</td>\n      <td>0.01</td>\n      <td>0.0</td>\n      <td>0.00</td>\n      <td>0.00</td>\n    </tr>\n    <tr>\n      <th>22541</th>\n      <td>1.0</td>\n      <td>0.009785</td>\n      <td>0.0</td>\n      <td>0.0</td>\n      <td>0.0</td>\n      <td>1.00</td>\n      <td>0.00</td>\n      <td>0.20</td>\n      <td>1.000000</td>\n      <td>1.00</td>\n      <td>0.00</td>\n      <td>0.00</td>\n      <td>0.00</td>\n      <td>0.00</td>\n      <td>0.0</td>\n      <td>0.07</td>\n      <td>0.07</td>\n    </tr>\n    <tr>\n      <th>22542</th>\n      <td>0.0</td>\n      <td>0.007828</td>\n      <td>0.0</td>\n      <td>0.0</td>\n      <td>0.0</td>\n      <td>1.00</td>\n      <td>0.00</td>\n      <td>0.33</td>\n      <td>0.988235</td>\n      <td>0.99</td>\n      <td>0.01</td>\n      <td>0.00</td>\n      <td>0.00</td>\n      <td>0.00</td>\n      <td>0.0</td>\n      <td>0.00</td>\n      <td>0.00</td>\n    </tr>\n    <tr>\n      <th>22543</th>\n      <td>0.0</td>\n      <td>0.007828</td>\n      <td>0.0</td>\n      <td>1.0</td>\n      <td>1.0</td>\n      <td>0.25</td>\n      <td>1.00</td>\n      <td>1.00</td>\n      <td>0.082353</td>\n      <td>0.08</td>\n      <td>0.03</td>\n      <td>0.00</td>\n      <td>0.00</td>\n      <td>0.00</td>\n      <td>0.0</td>\n      <td>1.00</td>\n      <td>0.44</td>\n    </tr>\n  </tbody>\n</table>\n<p>22544 rows × 17 columns</p>\n</div>"
     },
     "execution_count": 749,
     "metadata": {},
     "output_type": "execute_result"
    }
   ],
   "source": [
    "df_minmax = scaler1.transform(X_test)\n",
    "X_test = pd.DataFrame(df_minmax, columns=X_test.columns)\n",
    "X_test"
   ]
  },
  {
   "cell_type": "code",
   "execution_count": 750,
   "metadata": {
    "ExecuteTime": {
     "end_time": "2023-10-27T14:27:58.053279600Z",
     "start_time": "2023-10-27T14:27:57.899181600Z"
    }
   },
   "outputs": [
    {
     "data": {
      "text/plain": "       logged_in     count  serror_rate  rerror_rate  srv_rerror_rate  \\\n0            0.0  0.448141          0.0          1.0              1.0   \n1            0.0  0.266145          0.0          1.0              1.0   \n2            0.0  0.001957          0.0          0.0              0.0   \n3            0.0  0.001957          0.0          0.0              0.0   \n4            0.0  0.001957          0.0          1.0              0.5   \n...          ...       ...          ...          ...              ...   \n22539        1.0  0.001957          0.0          0.0              0.0   \n22540        1.0  0.003914          0.0          0.0              0.0   \n22541        1.0  0.009785          0.0          0.0              0.0   \n22542        0.0  0.007828          0.0          0.0              0.0   \n22543        0.0  0.007828          0.0          1.0              1.0   \n\n       same_srv_rate  diff_srv_rate  srv_diff_host_rate  dst_host_srv_count  \\\n0               0.04           0.06                0.00            0.039216   \n1               0.01           0.06                0.00            0.003922   \n2               1.00           0.00                0.00            0.337255   \n3               1.00           0.00                1.00            0.223529   \n4               1.00           0.00                0.75            0.337255   \n...              ...            ...                 ...                 ...   \n22539           1.00           0.00                0.00            0.552941   \n22540           1.00           0.00                0.18            1.000000   \n22541           1.00           0.00                0.20            1.000000   \n22542           1.00           0.00                0.33            0.988235   \n22543           0.25           1.00                1.00            0.082353   \n\n       dst_host_same_srv_rate  ...  flag_REJ  flag_RSTO  flag_RSTOS0  \\\n0                        0.04  ...       1.0        0.0          0.0   \n1                        0.00  ...       1.0        0.0          0.0   \n2                        0.61  ...       0.0        0.0          0.0   \n3                        1.00  ...       0.0        0.0          0.0   \n4                        0.31  ...       0.0        1.0          0.0   \n...                       ...  ...       ...        ...          ...   \n22539                    0.72  ...       0.0        0.0          0.0   \n22540                    1.00  ...       0.0        0.0          0.0   \n22541                    1.00  ...       0.0        0.0          0.0   \n22542                    0.99  ...       0.0        0.0          0.0   \n22543                    0.08  ...       1.0        0.0          0.0   \n\n       flag_RSTR  flag_S0  flag_S1  flag_S2  flag_S3  flag_SF  flag_SH  \n0            0.0      0.0      0.0      0.0      0.0      0.0      0.0  \n1            0.0      0.0      0.0      0.0      0.0      0.0      0.0  \n2            0.0      0.0      0.0      0.0      0.0      1.0      0.0  \n3            0.0      0.0      0.0      0.0      0.0      1.0      0.0  \n4            0.0      0.0      0.0      0.0      0.0      0.0      0.0  \n...          ...      ...      ...      ...      ...      ...      ...  \n22539        0.0      0.0      0.0      0.0      0.0      1.0      0.0  \n22540        0.0      0.0      0.0      0.0      0.0      1.0      0.0  \n22541        0.0      0.0      0.0      0.0      0.0      1.0      0.0  \n22542        0.0      0.0      0.0      0.0      0.0      1.0      0.0  \n22543        0.0      0.0      0.0      0.0      0.0      0.0      0.0  \n\n[22544 rows x 101 columns]",
      "text/html": "<div>\n<style scoped>\n    .dataframe tbody tr th:only-of-type {\n        vertical-align: middle;\n    }\n\n    .dataframe tbody tr th {\n        vertical-align: top;\n    }\n\n    .dataframe thead th {\n        text-align: right;\n    }\n</style>\n<table border=\"1\" class=\"dataframe\">\n  <thead>\n    <tr style=\"text-align: right;\">\n      <th></th>\n      <th>logged_in</th>\n      <th>count</th>\n      <th>serror_rate</th>\n      <th>rerror_rate</th>\n      <th>srv_rerror_rate</th>\n      <th>same_srv_rate</th>\n      <th>diff_srv_rate</th>\n      <th>srv_diff_host_rate</th>\n      <th>dst_host_srv_count</th>\n      <th>dst_host_same_srv_rate</th>\n      <th>...</th>\n      <th>flag_REJ</th>\n      <th>flag_RSTO</th>\n      <th>flag_RSTOS0</th>\n      <th>flag_RSTR</th>\n      <th>flag_S0</th>\n      <th>flag_S1</th>\n      <th>flag_S2</th>\n      <th>flag_S3</th>\n      <th>flag_SF</th>\n      <th>flag_SH</th>\n    </tr>\n  </thead>\n  <tbody>\n    <tr>\n      <th>0</th>\n      <td>0.0</td>\n      <td>0.448141</td>\n      <td>0.0</td>\n      <td>1.0</td>\n      <td>1.0</td>\n      <td>0.04</td>\n      <td>0.06</td>\n      <td>0.00</td>\n      <td>0.039216</td>\n      <td>0.04</td>\n      <td>...</td>\n      <td>1.0</td>\n      <td>0.0</td>\n      <td>0.0</td>\n      <td>0.0</td>\n      <td>0.0</td>\n      <td>0.0</td>\n      <td>0.0</td>\n      <td>0.0</td>\n      <td>0.0</td>\n      <td>0.0</td>\n    </tr>\n    <tr>\n      <th>1</th>\n      <td>0.0</td>\n      <td>0.266145</td>\n      <td>0.0</td>\n      <td>1.0</td>\n      <td>1.0</td>\n      <td>0.01</td>\n      <td>0.06</td>\n      <td>0.00</td>\n      <td>0.003922</td>\n      <td>0.00</td>\n      <td>...</td>\n      <td>1.0</td>\n      <td>0.0</td>\n      <td>0.0</td>\n      <td>0.0</td>\n      <td>0.0</td>\n      <td>0.0</td>\n      <td>0.0</td>\n      <td>0.0</td>\n      <td>0.0</td>\n      <td>0.0</td>\n    </tr>\n    <tr>\n      <th>2</th>\n      <td>0.0</td>\n      <td>0.001957</td>\n      <td>0.0</td>\n      <td>0.0</td>\n      <td>0.0</td>\n      <td>1.00</td>\n      <td>0.00</td>\n      <td>0.00</td>\n      <td>0.337255</td>\n      <td>0.61</td>\n      <td>...</td>\n      <td>0.0</td>\n      <td>0.0</td>\n      <td>0.0</td>\n      <td>0.0</td>\n      <td>0.0</td>\n      <td>0.0</td>\n      <td>0.0</td>\n      <td>0.0</td>\n      <td>1.0</td>\n      <td>0.0</td>\n    </tr>\n    <tr>\n      <th>3</th>\n      <td>0.0</td>\n      <td>0.001957</td>\n      <td>0.0</td>\n      <td>0.0</td>\n      <td>0.0</td>\n      <td>1.00</td>\n      <td>0.00</td>\n      <td>1.00</td>\n      <td>0.223529</td>\n      <td>1.00</td>\n      <td>...</td>\n      <td>0.0</td>\n      <td>0.0</td>\n      <td>0.0</td>\n      <td>0.0</td>\n      <td>0.0</td>\n      <td>0.0</td>\n      <td>0.0</td>\n      <td>0.0</td>\n      <td>1.0</td>\n      <td>0.0</td>\n    </tr>\n    <tr>\n      <th>4</th>\n      <td>0.0</td>\n      <td>0.001957</td>\n      <td>0.0</td>\n      <td>1.0</td>\n      <td>0.5</td>\n      <td>1.00</td>\n      <td>0.00</td>\n      <td>0.75</td>\n      <td>0.337255</td>\n      <td>0.31</td>\n      <td>...</td>\n      <td>0.0</td>\n      <td>1.0</td>\n      <td>0.0</td>\n      <td>0.0</td>\n      <td>0.0</td>\n      <td>0.0</td>\n      <td>0.0</td>\n      <td>0.0</td>\n      <td>0.0</td>\n      <td>0.0</td>\n    </tr>\n    <tr>\n      <th>...</th>\n      <td>...</td>\n      <td>...</td>\n      <td>...</td>\n      <td>...</td>\n      <td>...</td>\n      <td>...</td>\n      <td>...</td>\n      <td>...</td>\n      <td>...</td>\n      <td>...</td>\n      <td>...</td>\n      <td>...</td>\n      <td>...</td>\n      <td>...</td>\n      <td>...</td>\n      <td>...</td>\n      <td>...</td>\n      <td>...</td>\n      <td>...</td>\n      <td>...</td>\n      <td>...</td>\n    </tr>\n    <tr>\n      <th>22539</th>\n      <td>1.0</td>\n      <td>0.001957</td>\n      <td>0.0</td>\n      <td>0.0</td>\n      <td>0.0</td>\n      <td>1.00</td>\n      <td>0.00</td>\n      <td>0.00</td>\n      <td>0.552941</td>\n      <td>0.72</td>\n      <td>...</td>\n      <td>0.0</td>\n      <td>0.0</td>\n      <td>0.0</td>\n      <td>0.0</td>\n      <td>0.0</td>\n      <td>0.0</td>\n      <td>0.0</td>\n      <td>0.0</td>\n      <td>1.0</td>\n      <td>0.0</td>\n    </tr>\n    <tr>\n      <th>22540</th>\n      <td>1.0</td>\n      <td>0.003914</td>\n      <td>0.0</td>\n      <td>0.0</td>\n      <td>0.0</td>\n      <td>1.00</td>\n      <td>0.00</td>\n      <td>0.18</td>\n      <td>1.000000</td>\n      <td>1.00</td>\n      <td>...</td>\n      <td>0.0</td>\n      <td>0.0</td>\n      <td>0.0</td>\n      <td>0.0</td>\n      <td>0.0</td>\n      <td>0.0</td>\n      <td>0.0</td>\n      <td>0.0</td>\n      <td>1.0</td>\n      <td>0.0</td>\n    </tr>\n    <tr>\n      <th>22541</th>\n      <td>1.0</td>\n      <td>0.009785</td>\n      <td>0.0</td>\n      <td>0.0</td>\n      <td>0.0</td>\n      <td>1.00</td>\n      <td>0.00</td>\n      <td>0.20</td>\n      <td>1.000000</td>\n      <td>1.00</td>\n      <td>...</td>\n      <td>0.0</td>\n      <td>0.0</td>\n      <td>0.0</td>\n      <td>0.0</td>\n      <td>0.0</td>\n      <td>0.0</td>\n      <td>0.0</td>\n      <td>0.0</td>\n      <td>1.0</td>\n      <td>0.0</td>\n    </tr>\n    <tr>\n      <th>22542</th>\n      <td>0.0</td>\n      <td>0.007828</td>\n      <td>0.0</td>\n      <td>0.0</td>\n      <td>0.0</td>\n      <td>1.00</td>\n      <td>0.00</td>\n      <td>0.33</td>\n      <td>0.988235</td>\n      <td>0.99</td>\n      <td>...</td>\n      <td>0.0</td>\n      <td>0.0</td>\n      <td>0.0</td>\n      <td>0.0</td>\n      <td>0.0</td>\n      <td>0.0</td>\n      <td>0.0</td>\n      <td>0.0</td>\n      <td>1.0</td>\n      <td>0.0</td>\n    </tr>\n    <tr>\n      <th>22543</th>\n      <td>0.0</td>\n      <td>0.007828</td>\n      <td>0.0</td>\n      <td>1.0</td>\n      <td>1.0</td>\n      <td>0.25</td>\n      <td>1.00</td>\n      <td>1.00</td>\n      <td>0.082353</td>\n      <td>0.08</td>\n      <td>...</td>\n      <td>1.0</td>\n      <td>0.0</td>\n      <td>0.0</td>\n      <td>0.0</td>\n      <td>0.0</td>\n      <td>0.0</td>\n      <td>0.0</td>\n      <td>0.0</td>\n      <td>0.0</td>\n      <td>0.0</td>\n    </tr>\n  </tbody>\n</table>\n<p>22544 rows × 101 columns</p>\n</div>"
     },
     "execution_count": 750,
     "metadata": {},
     "output_type": "execute_result"
    }
   ],
   "source": [
    "label_enc = ohe.transform(df_test.iloc[:,1:4])\n",
    "label_enc.toarray()\n",
    "new_labels = ohe.get_feature_names_out(categorical_features)\n",
    "df_enc = pd.DataFrame(data=label_enc.toarray(), columns=new_labels)\n",
    "X_test = pd.concat([X_test, df_enc], axis=1)\n",
    "X_test"
   ]
  },
  {
   "cell_type": "code",
   "execution_count": 751,
   "metadata": {
    "ExecuteTime": {
     "end_time": "2023-10-27T14:27:58.053279600Z",
     "start_time": "2023-10-27T14:27:57.971051900Z"
    }
   },
   "outputs": [
    {
     "name": "stdout",
     "output_type": "stream",
     "text": [
      "Shape of the whole train set:  (100778, 101)\n",
      "Shape of its targets:  (100778,)\n",
      "Shape of the whole test set:  (22544, 101)\n",
      "Shape of its targets:  (22544,)\n"
     ]
    }
   ],
   "source": [
    "print('Shape of the whole train set: ', X_train.shape)\n",
    "print('Shape of its targets: ', y_train.shape)\n",
    "print('Shape of the whole test set: ', X_test.shape)\n",
    "print('Shape of its targets: ', y_test.shape)"
   ]
  },
  {
   "cell_type": "code",
   "execution_count": 752,
   "outputs": [],
   "source": [
    "# Export the dataset for training layer 1\n",
    "if EXPORT_DATASETS:\n",
    "    X_train.to_csv('NSL-KDD Encoded Datasets/before_pca/KDDTrain+_l1.txt', index=False)\n",
    "    X_validate.to_csv('NSL-KDD Encoded Datasets/before_pca/KDDValidate+_l1.txt', index=False)\n",
    "    np.save('NSL-KDD Encoded Datasets/before_pca/KDDTrain+_l1_targets', y_train)\n",
    "    np.save('NSL-KDD Encoded Datasets/before_pca/KDDValidate+_l1_targets', y_val)"
   ],
   "metadata": {
    "collapsed": false,
    "ExecuteTime": {
     "end_time": "2023-10-27T14:28:08.670785500Z",
     "start_time": "2023-10-27T14:27:57.975114800Z"
    }
   }
  },
  {
   "cell_type": "markdown",
   "source": [
    "### Principal Component Analysis"
   ],
   "metadata": {
    "collapsed": false
   }
  },
  {
   "cell_type": "code",
   "execution_count": 753,
   "outputs": [
    {
     "data": {
      "text/plain": "Index(['logged_in', 'count', 'serror_rate', 'rerror_rate', 'srv_rerror_rate',\n       'same_srv_rate', 'diff_srv_rate', 'srv_diff_host_rate',\n       'dst_host_srv_count', 'dst_host_same_srv_rate',\n       ...\n       'flag_REJ', 'flag_RSTO', 'flag_RSTOS0', 'flag_RSTR', 'flag_S0',\n       'flag_S1', 'flag_S2', 'flag_S3', 'flag_SF', 'flag_SH'],\n      dtype='object', length=101)"
     },
     "execution_count": 753,
     "metadata": {},
     "output_type": "execute_result"
    }
   ],
   "source": [
    "pca_dos_probe = PCA(n_components=0.95)\n",
    "X_train_dos_probe = pca_dos_probe.fit_transform(X_train)\n",
    "X_test_dos_probe = pca_dos_probe.transform(X_test)\n",
    "X_validate_dos_probe = pca_dos_probe.transform(X_validate)\n",
    "\n",
    "X_train.columns"
   ],
   "metadata": {
    "collapsed": false,
    "ExecuteTime": {
     "end_time": "2023-10-27T14:28:10.060550800Z",
     "start_time": "2023-10-27T14:28:08.670785500Z"
    }
   }
  },
  {
   "cell_type": "code",
   "execution_count": 754,
   "outputs": [],
   "source": [
    "if EXPORT_PCA:\n",
    "    # save the pca transformed as well as the transformer\n",
    "    joblib.dump(X_test_dos_probe, 'NSL-KDD Encoded Datasets/pca_transformed/pca_test1.pkl')\n",
    "    joblib.dump(X_train_dos_probe, 'NSL-KDD Encoded Datasets/pca_transformed/pca_train1.pkl')\n",
    "    joblib.dump(X_validate_dos_probe, 'NSL-KDD Encoded Datasets/pca_transformed/pca_validate1.pkl')\n",
    "    joblib.dump(pca_dos_probe, 'NSL-KDD Encoded Datasets/pca_transformed/layer1_transformer.pkl')"
   ],
   "metadata": {
    "collapsed": false,
    "ExecuteTime": {
     "end_time": "2023-10-27T14:28:10.135249200Z",
     "start_time": "2023-10-27T14:28:10.060550800Z"
    }
   }
  },
  {
   "cell_type": "markdown",
   "source": [
    "### Building the classifier for the layer1"
   ],
   "metadata": {
    "collapsed": false
   }
  },
  {
   "cell_type": "code",
   "execution_count": 755,
   "outputs": [],
   "source": [
    "# Using Random Forest Classifier\n",
    "# dos_probe_classifier = RandomForestClassifier(n_estimators=100, criterion='gini')\n",
    "\n",
    "# Using the Naive Bayes Classifier\n",
    "dos_probe_classifier = GaussianNB()\n",
    "dos_probe_classifier.fit(X_train_dos_probe, y_train)\n",
    "predicted = dos_probe_classifier.predict(X_test_dos_probe)\n",
    "# class_probabilities = dos_probe_classifier.predict_proba(X_test_dos_probe)"
   ],
   "metadata": {
    "collapsed": false,
    "ExecuteTime": {
     "end_time": "2023-10-27T14:28:10.166736100Z",
     "start_time": "2023-10-27T14:28:10.090608Z"
    }
   }
  },
  {
   "cell_type": "code",
   "execution_count": 756,
   "metadata": {
    "ExecuteTime": {
     "end_time": "2023-10-27T14:28:10.198449900Z",
     "start_time": "2023-10-27T14:28:10.160705800Z"
    }
   },
   "outputs": [
    {
     "name": "stdout",
     "output_type": "stream",
     "text": [
      "Metrics for layer 1:\n",
      "Confusion matrix: [TP FN / FP TN]\n",
      " [[9557 3106]\n",
      " [ 903 8978]]\n",
      "Accuracy =  0.8221699787083038\n",
      "F1 Score =  0.8174823582972911\n",
      "Precision =  0.7429659053293611\n",
      "Recall =  0.9086124886145127\n",
      "Shape of the train set for l1:  (100778, 28)\n"
     ]
    }
   ],
   "source": [
    "print('Metrics for layer 1:')\n",
    "print('Confusion matrix: [TP FN / FP TN]\\n', confusion_matrix(y_test,predicted))\n",
    "print('Accuracy = ', accuracy_score(y_test,predicted))\n",
    "print('F1 Score = ', f1_score(y_test,predicted))\n",
    "print('Precision = ', precision_score(y_test,predicted))\n",
    "print('Recall = ', recall_score(y_test,predicted))\n",
    "print('Shape of the train set for l1: ', X_train_dos_probe.shape)"
   ]
  },
  {
   "cell_type": "markdown",
   "metadata": {},
   "source": [
    "# R2L+U2R classifier"
   ]
  },
  {
   "cell_type": "code",
   "execution_count": 757,
   "metadata": {
    "ExecuteTime": {
     "end_time": "2023-10-27T14:28:10.294903300Z",
     "start_time": "2023-10-27T14:28:10.191410300Z"
    }
   },
   "outputs": [
    {
     "data": {
      "text/plain": "       count  diff_srv_rate  dst_bytes  dst_host_count  \\\n0         16           0.00      14939              52   \n1         20           0.00        259             255   \n2        274           0.00          4             255   \n3          5           0.00          0              79   \n4          1           0.00        105             255   \n...      ...            ...        ...             ...   \n54728      2           0.00        364             199   \n54729      1           0.00          1             255   \n54730      4           0.00       2698             218   \n54731      5           0.00       4281              21   \n54732    202           0.01         70             255   \n\n       dst_host_diff_srv_rate  dst_host_rerror_rate  \\\n0                        0.00                   0.0   \n1                        0.00                   0.0   \n2                        0.00                   0.0   \n3                        0.05                   0.0   \n4                        0.62                   0.0   \n...                       ...                   ...   \n54728                    0.03                   0.0   \n54729                    0.02                   0.0   \n54730                    0.01                   0.0   \n54731                    0.00                   0.0   \n54732                    0.01                   0.0   \n\n       dst_host_same_src_port_rate  dst_host_same_srv_rate  \\\n0                             0.02                    1.00   \n1                             0.00                    1.00   \n2                             1.00                    1.00   \n3                             0.70                    0.70   \n4                             0.90                    0.00   \n...                            ...                     ...   \n54728                         0.01                    0.74   \n54729                         0.00                    0.00   \n54730                         0.00                    0.95   \n54731                         0.05                    1.00   \n54732                         0.01                    1.00   \n\n       dst_host_serror_rate  dst_host_srv_count  ...  serror_rate   service  \\\n0                       0.0                 255  ...          0.0      http   \n1                       0.0                 255  ...          0.0      http   \n2                       0.0                 255  ...          0.0     other   \n3                       0.0                 129  ...          0.0  ftp_data   \n4                       0.0                   1  ...          0.0     other   \n...                     ...                 ...  ...          ...       ...   \n54728                   0.0                 148  ...          0.0      smtp   \n54729                   0.0                   1  ...          0.0     shell   \n54730                   0.0                 208  ...          0.0      http   \n54731                   0.0                 255  ...          0.0      http   \n54732                   0.0                 254  ...          0.0  domain_u   \n\n       src_bytes  srv_count srv_diff_host_rate  srv_rerror_rate  \\\n0            214         18               0.17              0.0   \n1            257         20               0.00              0.0   \n2            516        274               0.00              0.0   \n3           7940          5               0.00              0.0   \n4            147          1               0.00              0.0   \n...          ...        ...                ...              ...   \n54728        908          4               0.75              0.0   \n54729         67          1               0.00              0.0   \n54730        304          4               0.00              0.0   \n54731        309          5               0.00              0.0   \n54732         43        201               0.00              0.0   \n\n       srv_serror_rate  su_attempted  urgent  wrong_fragment  \n0                  0.0             0       0               0  \n1                  0.0             0       0               0  \n2                  0.0             0       0               0  \n3                  0.0             0       0               0  \n4                  0.0             0       0               0  \n...                ...           ...     ...             ...  \n54728              0.0             0       0               0  \n54729              0.0             0       0               0  \n54730              0.0             0       0               0  \n54731              0.0             0       0               0  \n54732              0.0             0       0               0  \n\n[54733 rows x 40 columns]",
      "text/html": "<div>\n<style scoped>\n    .dataframe tbody tr th:only-of-type {\n        vertical-align: middle;\n    }\n\n    .dataframe tbody tr th {\n        vertical-align: top;\n    }\n\n    .dataframe thead th {\n        text-align: right;\n    }\n</style>\n<table border=\"1\" class=\"dataframe\">\n  <thead>\n    <tr style=\"text-align: right;\">\n      <th></th>\n      <th>count</th>\n      <th>diff_srv_rate</th>\n      <th>dst_bytes</th>\n      <th>dst_host_count</th>\n      <th>dst_host_diff_srv_rate</th>\n      <th>dst_host_rerror_rate</th>\n      <th>dst_host_same_src_port_rate</th>\n      <th>dst_host_same_srv_rate</th>\n      <th>dst_host_serror_rate</th>\n      <th>dst_host_srv_count</th>\n      <th>...</th>\n      <th>serror_rate</th>\n      <th>service</th>\n      <th>src_bytes</th>\n      <th>srv_count</th>\n      <th>srv_diff_host_rate</th>\n      <th>srv_rerror_rate</th>\n      <th>srv_serror_rate</th>\n      <th>su_attempted</th>\n      <th>urgent</th>\n      <th>wrong_fragment</th>\n    </tr>\n  </thead>\n  <tbody>\n    <tr>\n      <th>0</th>\n      <td>16</td>\n      <td>0.00</td>\n      <td>14939</td>\n      <td>52</td>\n      <td>0.00</td>\n      <td>0.0</td>\n      <td>0.02</td>\n      <td>1.00</td>\n      <td>0.0</td>\n      <td>255</td>\n      <td>...</td>\n      <td>0.0</td>\n      <td>http</td>\n      <td>214</td>\n      <td>18</td>\n      <td>0.17</td>\n      <td>0.0</td>\n      <td>0.0</td>\n      <td>0</td>\n      <td>0</td>\n      <td>0</td>\n    </tr>\n    <tr>\n      <th>1</th>\n      <td>20</td>\n      <td>0.00</td>\n      <td>259</td>\n      <td>255</td>\n      <td>0.00</td>\n      <td>0.0</td>\n      <td>0.00</td>\n      <td>1.00</td>\n      <td>0.0</td>\n      <td>255</td>\n      <td>...</td>\n      <td>0.0</td>\n      <td>http</td>\n      <td>257</td>\n      <td>20</td>\n      <td>0.00</td>\n      <td>0.0</td>\n      <td>0.0</td>\n      <td>0</td>\n      <td>0</td>\n      <td>0</td>\n    </tr>\n    <tr>\n      <th>2</th>\n      <td>274</td>\n      <td>0.00</td>\n      <td>4</td>\n      <td>255</td>\n      <td>0.00</td>\n      <td>0.0</td>\n      <td>1.00</td>\n      <td>1.00</td>\n      <td>0.0</td>\n      <td>255</td>\n      <td>...</td>\n      <td>0.0</td>\n      <td>other</td>\n      <td>516</td>\n      <td>274</td>\n      <td>0.00</td>\n      <td>0.0</td>\n      <td>0.0</td>\n      <td>0</td>\n      <td>0</td>\n      <td>0</td>\n    </tr>\n    <tr>\n      <th>3</th>\n      <td>5</td>\n      <td>0.00</td>\n      <td>0</td>\n      <td>79</td>\n      <td>0.05</td>\n      <td>0.0</td>\n      <td>0.70</td>\n      <td>0.70</td>\n      <td>0.0</td>\n      <td>129</td>\n      <td>...</td>\n      <td>0.0</td>\n      <td>ftp_data</td>\n      <td>7940</td>\n      <td>5</td>\n      <td>0.00</td>\n      <td>0.0</td>\n      <td>0.0</td>\n      <td>0</td>\n      <td>0</td>\n      <td>0</td>\n    </tr>\n    <tr>\n      <th>4</th>\n      <td>1</td>\n      <td>0.00</td>\n      <td>105</td>\n      <td>255</td>\n      <td>0.62</td>\n      <td>0.0</td>\n      <td>0.90</td>\n      <td>0.00</td>\n      <td>0.0</td>\n      <td>1</td>\n      <td>...</td>\n      <td>0.0</td>\n      <td>other</td>\n      <td>147</td>\n      <td>1</td>\n      <td>0.00</td>\n      <td>0.0</td>\n      <td>0.0</td>\n      <td>0</td>\n      <td>0</td>\n      <td>0</td>\n    </tr>\n    <tr>\n      <th>...</th>\n      <td>...</td>\n      <td>...</td>\n      <td>...</td>\n      <td>...</td>\n      <td>...</td>\n      <td>...</td>\n      <td>...</td>\n      <td>...</td>\n      <td>...</td>\n      <td>...</td>\n      <td>...</td>\n      <td>...</td>\n      <td>...</td>\n      <td>...</td>\n      <td>...</td>\n      <td>...</td>\n      <td>...</td>\n      <td>...</td>\n      <td>...</td>\n      <td>...</td>\n      <td>...</td>\n    </tr>\n    <tr>\n      <th>54728</th>\n      <td>2</td>\n      <td>0.00</td>\n      <td>364</td>\n      <td>199</td>\n      <td>0.03</td>\n      <td>0.0</td>\n      <td>0.01</td>\n      <td>0.74</td>\n      <td>0.0</td>\n      <td>148</td>\n      <td>...</td>\n      <td>0.0</td>\n      <td>smtp</td>\n      <td>908</td>\n      <td>4</td>\n      <td>0.75</td>\n      <td>0.0</td>\n      <td>0.0</td>\n      <td>0</td>\n      <td>0</td>\n      <td>0</td>\n    </tr>\n    <tr>\n      <th>54729</th>\n      <td>1</td>\n      <td>0.00</td>\n      <td>1</td>\n      <td>255</td>\n      <td>0.02</td>\n      <td>0.0</td>\n      <td>0.00</td>\n      <td>0.00</td>\n      <td>0.0</td>\n      <td>1</td>\n      <td>...</td>\n      <td>0.0</td>\n      <td>shell</td>\n      <td>67</td>\n      <td>1</td>\n      <td>0.00</td>\n      <td>0.0</td>\n      <td>0.0</td>\n      <td>0</td>\n      <td>0</td>\n      <td>0</td>\n    </tr>\n    <tr>\n      <th>54730</th>\n      <td>4</td>\n      <td>0.00</td>\n      <td>2698</td>\n      <td>218</td>\n      <td>0.01</td>\n      <td>0.0</td>\n      <td>0.00</td>\n      <td>0.95</td>\n      <td>0.0</td>\n      <td>208</td>\n      <td>...</td>\n      <td>0.0</td>\n      <td>http</td>\n      <td>304</td>\n      <td>4</td>\n      <td>0.00</td>\n      <td>0.0</td>\n      <td>0.0</td>\n      <td>0</td>\n      <td>0</td>\n      <td>0</td>\n    </tr>\n    <tr>\n      <th>54731</th>\n      <td>5</td>\n      <td>0.00</td>\n      <td>4281</td>\n      <td>21</td>\n      <td>0.00</td>\n      <td>0.0</td>\n      <td>0.05</td>\n      <td>1.00</td>\n      <td>0.0</td>\n      <td>255</td>\n      <td>...</td>\n      <td>0.0</td>\n      <td>http</td>\n      <td>309</td>\n      <td>5</td>\n      <td>0.00</td>\n      <td>0.0</td>\n      <td>0.0</td>\n      <td>0</td>\n      <td>0</td>\n      <td>0</td>\n    </tr>\n    <tr>\n      <th>54732</th>\n      <td>202</td>\n      <td>0.01</td>\n      <td>70</td>\n      <td>255</td>\n      <td>0.01</td>\n      <td>0.0</td>\n      <td>0.01</td>\n      <td>1.00</td>\n      <td>0.0</td>\n      <td>254</td>\n      <td>...</td>\n      <td>0.0</td>\n      <td>domain_u</td>\n      <td>43</td>\n      <td>201</td>\n      <td>0.00</td>\n      <td>0.0</td>\n      <td>0.0</td>\n      <td>0</td>\n      <td>0</td>\n      <td>0</td>\n    </tr>\n  </tbody>\n</table>\n<p>54733 rows × 40 columns</p>\n</div>"
     },
     "execution_count": 757,
     "metadata": {},
     "output_type": "execute_result"
    }
   ],
   "source": [
    "df_train = copy.deepcopy(df_train_original)\n",
    "df_test = copy.deepcopy(df_test_original)\n",
    "df_val = copy.deepcopy(df_val_original)\n",
    "\n",
    "# load targeted attacks (Normal + r2l + u2r)\n",
    "df_train = df_train[df_train['label'].isin(normal_list+u2r_attacks+r2l_attacks)]\n",
    "df_val = df_val[df_val['label'].isin(normal_list+u2r_attacks+r2l_attacks)]\n",
    "\n",
    "# set the target variables accordingly\n",
    "y_train = np.array([1 if x in (u2r_attacks+r2l_attacks) else 0 for x in df_train['label']])\n",
    "y_val = np.array([1 if x in (u2r_attacks+r2l_attacks) else 0 for x in df_val['label']])\n",
    "\n",
    "df_train = df_train.drop(['label'],axis=1)\n",
    "df_train = df_train.reset_index().drop(['index'], axis=1)\n",
    "df_train"
   ]
  },
  {
   "cell_type": "code",
   "execution_count": 758,
   "outputs": [
    {
     "data": {
      "text/plain": "       count  diff_srv_rate  dst_bytes  dst_host_count  \\\n0          2            0.0          0              67   \n1         20            0.0       4673             255   \n2          1            0.0        335             138   \n3          3            0.0      29055             168   \n4          1            0.0          0             113   \n...      ...            ...        ...             ...   \n13652    274            0.0         70             255   \n13653     74            0.0        134             255   \n13654     11            0.0        944             255   \n13655      2            0.0          0             140   \n13656      1            0.0        329             255   \n\n       dst_host_diff_srv_rate  dst_host_rerror_rate  \\\n0                        0.00                  0.00   \n1                        0.00                  0.00   \n2                        0.05                  0.00   \n3                        0.00                  0.00   \n4                        0.04                  0.00   \n...                       ...                   ...   \n13652                    0.01                  0.00   \n13653                    0.01                  0.00   \n13654                    0.00                  0.00   \n13655                    0.04                  0.02   \n13656                    0.06                  0.00   \n\n       dst_host_same_src_port_rate  dst_host_same_srv_rate  \\\n0                             1.00                    1.00   \n1                             0.00                    1.00   \n2                             0.01                    0.62   \n3                             0.01                    1.00   \n4                             0.35                    0.35   \n...                            ...                     ...   \n13652                         0.00                    1.00   \n13653                         0.00                    1.00   \n13654                         0.00                    1.00   \n13655                         0.06                    0.06   \n13656                         0.00                    0.55   \n\n       dst_host_serror_rate  dst_host_srv_count  ...  serror_rate   service  \\\n0                      0.00                 171  ...          0.0  domain_u   \n1                      0.00                 255  ...          0.0      http   \n2                      0.00                  85  ...          0.0      smtp   \n3                      0.00                 255  ...          0.0      http   \n4                      0.02                  39  ...          0.0  ftp_data   \n...                     ...                 ...  ...          ...       ...   \n13652                  0.00                 254  ...          0.0  domain_u   \n13653                  0.00                 254  ...          0.0  domain_u   \n13654                  0.00                 255  ...          0.0      http   \n13655                  0.00                   9  ...          0.0  ftp_data   \n13656                  0.02                 141  ...          0.0      smtp   \n\n       src_bytes  srv_count srv_diff_host_rate  srv_rerror_rate  \\\n0             36          4               0.75              0.0   \n1            325         20               0.00              0.0   \n2            743          2               1.00              0.0   \n3            209          3               0.00              0.0   \n4            567          1               0.00              0.0   \n...          ...        ...                ...              ...   \n13652         43        274               0.00              0.0   \n13653         45        154               0.01              0.0   \n13654        199         13               0.15              0.0   \n13655      12983          2               0.00              0.0   \n13656        813          3               1.00              0.0   \n\n       srv_serror_rate  su_attempted  urgent  wrong_fragment  \n0                  0.0             0       0               0  \n1                  0.0             0       0               0  \n2                  0.0             0       0               0  \n3                  0.0             0       0               0  \n4                  0.0             0       0               0  \n...                ...           ...     ...             ...  \n13652              0.0             0       0               0  \n13653              0.0             0       0               0  \n13654              0.0             0       0               0  \n13655              0.0             0       0               0  \n13656              0.0             0       0               0  \n\n[13657 rows x 40 columns]",
      "text/html": "<div>\n<style scoped>\n    .dataframe tbody tr th:only-of-type {\n        vertical-align: middle;\n    }\n\n    .dataframe tbody tr th {\n        vertical-align: top;\n    }\n\n    .dataframe thead th {\n        text-align: right;\n    }\n</style>\n<table border=\"1\" class=\"dataframe\">\n  <thead>\n    <tr style=\"text-align: right;\">\n      <th></th>\n      <th>count</th>\n      <th>diff_srv_rate</th>\n      <th>dst_bytes</th>\n      <th>dst_host_count</th>\n      <th>dst_host_diff_srv_rate</th>\n      <th>dst_host_rerror_rate</th>\n      <th>dst_host_same_src_port_rate</th>\n      <th>dst_host_same_srv_rate</th>\n      <th>dst_host_serror_rate</th>\n      <th>dst_host_srv_count</th>\n      <th>...</th>\n      <th>serror_rate</th>\n      <th>service</th>\n      <th>src_bytes</th>\n      <th>srv_count</th>\n      <th>srv_diff_host_rate</th>\n      <th>srv_rerror_rate</th>\n      <th>srv_serror_rate</th>\n      <th>su_attempted</th>\n      <th>urgent</th>\n      <th>wrong_fragment</th>\n    </tr>\n  </thead>\n  <tbody>\n    <tr>\n      <th>0</th>\n      <td>2</td>\n      <td>0.0</td>\n      <td>0</td>\n      <td>67</td>\n      <td>0.00</td>\n      <td>0.00</td>\n      <td>1.00</td>\n      <td>1.00</td>\n      <td>0.00</td>\n      <td>171</td>\n      <td>...</td>\n      <td>0.0</td>\n      <td>domain_u</td>\n      <td>36</td>\n      <td>4</td>\n      <td>0.75</td>\n      <td>0.0</td>\n      <td>0.0</td>\n      <td>0</td>\n      <td>0</td>\n      <td>0</td>\n    </tr>\n    <tr>\n      <th>1</th>\n      <td>20</td>\n      <td>0.0</td>\n      <td>4673</td>\n      <td>255</td>\n      <td>0.00</td>\n      <td>0.00</td>\n      <td>0.00</td>\n      <td>1.00</td>\n      <td>0.00</td>\n      <td>255</td>\n      <td>...</td>\n      <td>0.0</td>\n      <td>http</td>\n      <td>325</td>\n      <td>20</td>\n      <td>0.00</td>\n      <td>0.0</td>\n      <td>0.0</td>\n      <td>0</td>\n      <td>0</td>\n      <td>0</td>\n    </tr>\n    <tr>\n      <th>2</th>\n      <td>1</td>\n      <td>0.0</td>\n      <td>335</td>\n      <td>138</td>\n      <td>0.05</td>\n      <td>0.00</td>\n      <td>0.01</td>\n      <td>0.62</td>\n      <td>0.00</td>\n      <td>85</td>\n      <td>...</td>\n      <td>0.0</td>\n      <td>smtp</td>\n      <td>743</td>\n      <td>2</td>\n      <td>1.00</td>\n      <td>0.0</td>\n      <td>0.0</td>\n      <td>0</td>\n      <td>0</td>\n      <td>0</td>\n    </tr>\n    <tr>\n      <th>3</th>\n      <td>3</td>\n      <td>0.0</td>\n      <td>29055</td>\n      <td>168</td>\n      <td>0.00</td>\n      <td>0.00</td>\n      <td>0.01</td>\n      <td>1.00</td>\n      <td>0.00</td>\n      <td>255</td>\n      <td>...</td>\n      <td>0.0</td>\n      <td>http</td>\n      <td>209</td>\n      <td>3</td>\n      <td>0.00</td>\n      <td>0.0</td>\n      <td>0.0</td>\n      <td>0</td>\n      <td>0</td>\n      <td>0</td>\n    </tr>\n    <tr>\n      <th>4</th>\n      <td>1</td>\n      <td>0.0</td>\n      <td>0</td>\n      <td>113</td>\n      <td>0.04</td>\n      <td>0.00</td>\n      <td>0.35</td>\n      <td>0.35</td>\n      <td>0.02</td>\n      <td>39</td>\n      <td>...</td>\n      <td>0.0</td>\n      <td>ftp_data</td>\n      <td>567</td>\n      <td>1</td>\n      <td>0.00</td>\n      <td>0.0</td>\n      <td>0.0</td>\n      <td>0</td>\n      <td>0</td>\n      <td>0</td>\n    </tr>\n    <tr>\n      <th>...</th>\n      <td>...</td>\n      <td>...</td>\n      <td>...</td>\n      <td>...</td>\n      <td>...</td>\n      <td>...</td>\n      <td>...</td>\n      <td>...</td>\n      <td>...</td>\n      <td>...</td>\n      <td>...</td>\n      <td>...</td>\n      <td>...</td>\n      <td>...</td>\n      <td>...</td>\n      <td>...</td>\n      <td>...</td>\n      <td>...</td>\n      <td>...</td>\n      <td>...</td>\n      <td>...</td>\n    </tr>\n    <tr>\n      <th>13652</th>\n      <td>274</td>\n      <td>0.0</td>\n      <td>70</td>\n      <td>255</td>\n      <td>0.01</td>\n      <td>0.00</td>\n      <td>0.00</td>\n      <td>1.00</td>\n      <td>0.00</td>\n      <td>254</td>\n      <td>...</td>\n      <td>0.0</td>\n      <td>domain_u</td>\n      <td>43</td>\n      <td>274</td>\n      <td>0.00</td>\n      <td>0.0</td>\n      <td>0.0</td>\n      <td>0</td>\n      <td>0</td>\n      <td>0</td>\n    </tr>\n    <tr>\n      <th>13653</th>\n      <td>74</td>\n      <td>0.0</td>\n      <td>134</td>\n      <td>255</td>\n      <td>0.01</td>\n      <td>0.00</td>\n      <td>0.00</td>\n      <td>1.00</td>\n      <td>0.00</td>\n      <td>254</td>\n      <td>...</td>\n      <td>0.0</td>\n      <td>domain_u</td>\n      <td>45</td>\n      <td>154</td>\n      <td>0.01</td>\n      <td>0.0</td>\n      <td>0.0</td>\n      <td>0</td>\n      <td>0</td>\n      <td>0</td>\n    </tr>\n    <tr>\n      <th>13654</th>\n      <td>11</td>\n      <td>0.0</td>\n      <td>944</td>\n      <td>255</td>\n      <td>0.00</td>\n      <td>0.00</td>\n      <td>0.00</td>\n      <td>1.00</td>\n      <td>0.00</td>\n      <td>255</td>\n      <td>...</td>\n      <td>0.0</td>\n      <td>http</td>\n      <td>199</td>\n      <td>13</td>\n      <td>0.15</td>\n      <td>0.0</td>\n      <td>0.0</td>\n      <td>0</td>\n      <td>0</td>\n      <td>0</td>\n    </tr>\n    <tr>\n      <th>13655</th>\n      <td>2</td>\n      <td>0.0</td>\n      <td>0</td>\n      <td>140</td>\n      <td>0.04</td>\n      <td>0.02</td>\n      <td>0.06</td>\n      <td>0.06</td>\n      <td>0.00</td>\n      <td>9</td>\n      <td>...</td>\n      <td>0.0</td>\n      <td>ftp_data</td>\n      <td>12983</td>\n      <td>2</td>\n      <td>0.00</td>\n      <td>0.0</td>\n      <td>0.0</td>\n      <td>0</td>\n      <td>0</td>\n      <td>0</td>\n    </tr>\n    <tr>\n      <th>13656</th>\n      <td>1</td>\n      <td>0.0</td>\n      <td>329</td>\n      <td>255</td>\n      <td>0.06</td>\n      <td>0.00</td>\n      <td>0.00</td>\n      <td>0.55</td>\n      <td>0.02</td>\n      <td>141</td>\n      <td>...</td>\n      <td>0.0</td>\n      <td>smtp</td>\n      <td>813</td>\n      <td>3</td>\n      <td>1.00</td>\n      <td>0.0</td>\n      <td>0.0</td>\n      <td>0</td>\n      <td>0</td>\n      <td>0</td>\n    </tr>\n  </tbody>\n</table>\n<p>13657 rows × 40 columns</p>\n</div>"
     },
     "execution_count": 758,
     "metadata": {},
     "output_type": "execute_result"
    }
   ],
   "source": [
    "df_val = df_val.drop(['label'],axis=1)\n",
    "df_val = df_val.reset_index().drop(['index'], axis=1)\n",
    "df_val"
   ],
   "metadata": {
    "collapsed": false,
    "ExecuteTime": {
     "end_time": "2023-10-27T14:28:10.324673300Z",
     "start_time": "2023-10-27T14:28:10.293880700Z"
    }
   }
  },
  {
   "cell_type": "code",
   "execution_count": 759,
   "metadata": {
    "ExecuteTime": {
     "end_time": "2023-10-27T14:28:10.450090100Z",
     "start_time": "2023-10-27T14:28:10.320146700Z"
    }
   },
   "outputs": [
    {
     "data": {
      "text/plain": "       srv_count  urgent  root_shell  hot  dst_host_srv_diff_host_rate  \\\n0             18       0           0    0                         0.06   \n1             20       0           0    0                         0.00   \n2            274       0           0    0                         0.00   \n3              5       0           0    0                         0.02   \n4              1       0           0    0                         0.00   \n...          ...     ...         ...  ...                          ...   \n54728          4       0           0    0                         0.00   \n54729          1       0           0    0                         0.00   \n54730          4       0           0    0                         0.00   \n54731          5       0           0    0                         0.05   \n54732        201       0           0    0                         0.00   \n\n       dst_host_count  logged_in  dst_host_same_src_port_rate  \\\n0                  52          1                         0.02   \n1                 255          1                         0.00   \n2                 255          0                         1.00   \n3                  79          0                         0.70   \n4                 255          0                         0.90   \n...               ...        ...                          ...   \n54728             199          1                         0.01   \n54729             255          0                         0.00   \n54730             218          1                         0.00   \n54731              21          1                         0.05   \n54732             255          0                         0.01   \n\n       srv_diff_host_rate  num_shells  dst_host_srv_count  \n0                    0.17           0                 255  \n1                    0.00           0                 255  \n2                    0.00           0                 255  \n3                    0.00           0                 129  \n4                    0.00           0                   1  \n...                   ...         ...                 ...  \n54728                0.75           0                 148  \n54729                0.00           0                   1  \n54730                0.00           0                 208  \n54731                0.00           0                 255  \n54732                0.00           0                 254  \n\n[54733 rows x 11 columns]",
      "text/html": "<div>\n<style scoped>\n    .dataframe tbody tr th:only-of-type {\n        vertical-align: middle;\n    }\n\n    .dataframe tbody tr th {\n        vertical-align: top;\n    }\n\n    .dataframe thead th {\n        text-align: right;\n    }\n</style>\n<table border=\"1\" class=\"dataframe\">\n  <thead>\n    <tr style=\"text-align: right;\">\n      <th></th>\n      <th>srv_count</th>\n      <th>urgent</th>\n      <th>root_shell</th>\n      <th>hot</th>\n      <th>dst_host_srv_diff_host_rate</th>\n      <th>dst_host_count</th>\n      <th>logged_in</th>\n      <th>dst_host_same_src_port_rate</th>\n      <th>srv_diff_host_rate</th>\n      <th>num_shells</th>\n      <th>dst_host_srv_count</th>\n    </tr>\n  </thead>\n  <tbody>\n    <tr>\n      <th>0</th>\n      <td>18</td>\n      <td>0</td>\n      <td>0</td>\n      <td>0</td>\n      <td>0.06</td>\n      <td>52</td>\n      <td>1</td>\n      <td>0.02</td>\n      <td>0.17</td>\n      <td>0</td>\n      <td>255</td>\n    </tr>\n    <tr>\n      <th>1</th>\n      <td>20</td>\n      <td>0</td>\n      <td>0</td>\n      <td>0</td>\n      <td>0.00</td>\n      <td>255</td>\n      <td>1</td>\n      <td>0.00</td>\n      <td>0.00</td>\n      <td>0</td>\n      <td>255</td>\n    </tr>\n    <tr>\n      <th>2</th>\n      <td>274</td>\n      <td>0</td>\n      <td>0</td>\n      <td>0</td>\n      <td>0.00</td>\n      <td>255</td>\n      <td>0</td>\n      <td>1.00</td>\n      <td>0.00</td>\n      <td>0</td>\n      <td>255</td>\n    </tr>\n    <tr>\n      <th>3</th>\n      <td>5</td>\n      <td>0</td>\n      <td>0</td>\n      <td>0</td>\n      <td>0.02</td>\n      <td>79</td>\n      <td>0</td>\n      <td>0.70</td>\n      <td>0.00</td>\n      <td>0</td>\n      <td>129</td>\n    </tr>\n    <tr>\n      <th>4</th>\n      <td>1</td>\n      <td>0</td>\n      <td>0</td>\n      <td>0</td>\n      <td>0.00</td>\n      <td>255</td>\n      <td>0</td>\n      <td>0.90</td>\n      <td>0.00</td>\n      <td>0</td>\n      <td>1</td>\n    </tr>\n    <tr>\n      <th>...</th>\n      <td>...</td>\n      <td>...</td>\n      <td>...</td>\n      <td>...</td>\n      <td>...</td>\n      <td>...</td>\n      <td>...</td>\n      <td>...</td>\n      <td>...</td>\n      <td>...</td>\n      <td>...</td>\n    </tr>\n    <tr>\n      <th>54728</th>\n      <td>4</td>\n      <td>0</td>\n      <td>0</td>\n      <td>0</td>\n      <td>0.00</td>\n      <td>199</td>\n      <td>1</td>\n      <td>0.01</td>\n      <td>0.75</td>\n      <td>0</td>\n      <td>148</td>\n    </tr>\n    <tr>\n      <th>54729</th>\n      <td>1</td>\n      <td>0</td>\n      <td>0</td>\n      <td>0</td>\n      <td>0.00</td>\n      <td>255</td>\n      <td>0</td>\n      <td>0.00</td>\n      <td>0.00</td>\n      <td>0</td>\n      <td>1</td>\n    </tr>\n    <tr>\n      <th>54730</th>\n      <td>4</td>\n      <td>0</td>\n      <td>0</td>\n      <td>0</td>\n      <td>0.00</td>\n      <td>218</td>\n      <td>1</td>\n      <td>0.00</td>\n      <td>0.00</td>\n      <td>0</td>\n      <td>208</td>\n    </tr>\n    <tr>\n      <th>54731</th>\n      <td>5</td>\n      <td>0</td>\n      <td>0</td>\n      <td>0</td>\n      <td>0.05</td>\n      <td>21</td>\n      <td>1</td>\n      <td>0.05</td>\n      <td>0.00</td>\n      <td>0</td>\n      <td>255</td>\n    </tr>\n    <tr>\n      <th>54732</th>\n      <td>201</td>\n      <td>0</td>\n      <td>0</td>\n      <td>0</td>\n      <td>0.00</td>\n      <td>255</td>\n      <td>0</td>\n      <td>0.01</td>\n      <td>0.00</td>\n      <td>0</td>\n      <td>254</td>\n    </tr>\n  </tbody>\n</table>\n<p>54733 rows × 11 columns</p>\n</div>"
     },
     "execution_count": 759,
     "metadata": {},
     "output_type": "execute_result"
    }
   ],
   "source": [
    "X_train = df_train[common_features_l2]\n",
    "X_train"
   ]
  },
  {
   "cell_type": "code",
   "execution_count": 760,
   "outputs": [
    {
     "data": {
      "text/plain": "       srv_count  urgent  root_shell  hot  dst_host_srv_diff_host_rate  \\\n0              4       0           0    0                         0.01   \n1             20       0           0    0                         0.00   \n2              2       0           0    0                         0.00   \n3              3       0           0    0                         0.02   \n4              1       0           0    0                         0.00   \n...          ...     ...         ...  ...                          ...   \n13652        274       0           0    0                         0.00   \n13653        154       0           0    0                         0.00   \n13654         13       0           0    0                         0.00   \n13655          2       0           0    0                         0.00   \n13656          3       0           0    0                         0.00   \n\n       dst_host_count  logged_in  dst_host_same_src_port_rate  \\\n0                  67          0                         1.00   \n1                 255          1                         0.00   \n2                 138          1                         0.01   \n3                 168          1                         0.01   \n4                 113          1                         0.35   \n...               ...        ...                          ...   \n13652             255          0                         0.00   \n13653             255          0                         0.00   \n13654             255          1                         0.00   \n13655             140          0                         0.06   \n13656             255          1                         0.00   \n\n       srv_diff_host_rate  num_shells  dst_host_srv_count  \n0                    0.75           0                 171  \n1                    0.00           0                 255  \n2                    1.00           0                  85  \n3                    0.00           0                 255  \n4                    0.00           0                  39  \n...                   ...         ...                 ...  \n13652                0.00           0                 254  \n13653                0.01           0                 254  \n13654                0.15           0                 255  \n13655                0.00           0                   9  \n13656                1.00           0                 141  \n\n[13657 rows x 11 columns]",
      "text/html": "<div>\n<style scoped>\n    .dataframe tbody tr th:only-of-type {\n        vertical-align: middle;\n    }\n\n    .dataframe tbody tr th {\n        vertical-align: top;\n    }\n\n    .dataframe thead th {\n        text-align: right;\n    }\n</style>\n<table border=\"1\" class=\"dataframe\">\n  <thead>\n    <tr style=\"text-align: right;\">\n      <th></th>\n      <th>srv_count</th>\n      <th>urgent</th>\n      <th>root_shell</th>\n      <th>hot</th>\n      <th>dst_host_srv_diff_host_rate</th>\n      <th>dst_host_count</th>\n      <th>logged_in</th>\n      <th>dst_host_same_src_port_rate</th>\n      <th>srv_diff_host_rate</th>\n      <th>num_shells</th>\n      <th>dst_host_srv_count</th>\n    </tr>\n  </thead>\n  <tbody>\n    <tr>\n      <th>0</th>\n      <td>4</td>\n      <td>0</td>\n      <td>0</td>\n      <td>0</td>\n      <td>0.01</td>\n      <td>67</td>\n      <td>0</td>\n      <td>1.00</td>\n      <td>0.75</td>\n      <td>0</td>\n      <td>171</td>\n    </tr>\n    <tr>\n      <th>1</th>\n      <td>20</td>\n      <td>0</td>\n      <td>0</td>\n      <td>0</td>\n      <td>0.00</td>\n      <td>255</td>\n      <td>1</td>\n      <td>0.00</td>\n      <td>0.00</td>\n      <td>0</td>\n      <td>255</td>\n    </tr>\n    <tr>\n      <th>2</th>\n      <td>2</td>\n      <td>0</td>\n      <td>0</td>\n      <td>0</td>\n      <td>0.00</td>\n      <td>138</td>\n      <td>1</td>\n      <td>0.01</td>\n      <td>1.00</td>\n      <td>0</td>\n      <td>85</td>\n    </tr>\n    <tr>\n      <th>3</th>\n      <td>3</td>\n      <td>0</td>\n      <td>0</td>\n      <td>0</td>\n      <td>0.02</td>\n      <td>168</td>\n      <td>1</td>\n      <td>0.01</td>\n      <td>0.00</td>\n      <td>0</td>\n      <td>255</td>\n    </tr>\n    <tr>\n      <th>4</th>\n      <td>1</td>\n      <td>0</td>\n      <td>0</td>\n      <td>0</td>\n      <td>0.00</td>\n      <td>113</td>\n      <td>1</td>\n      <td>0.35</td>\n      <td>0.00</td>\n      <td>0</td>\n      <td>39</td>\n    </tr>\n    <tr>\n      <th>...</th>\n      <td>...</td>\n      <td>...</td>\n      <td>...</td>\n      <td>...</td>\n      <td>...</td>\n      <td>...</td>\n      <td>...</td>\n      <td>...</td>\n      <td>...</td>\n      <td>...</td>\n      <td>...</td>\n    </tr>\n    <tr>\n      <th>13652</th>\n      <td>274</td>\n      <td>0</td>\n      <td>0</td>\n      <td>0</td>\n      <td>0.00</td>\n      <td>255</td>\n      <td>0</td>\n      <td>0.00</td>\n      <td>0.00</td>\n      <td>0</td>\n      <td>254</td>\n    </tr>\n    <tr>\n      <th>13653</th>\n      <td>154</td>\n      <td>0</td>\n      <td>0</td>\n      <td>0</td>\n      <td>0.00</td>\n      <td>255</td>\n      <td>0</td>\n      <td>0.00</td>\n      <td>0.01</td>\n      <td>0</td>\n      <td>254</td>\n    </tr>\n    <tr>\n      <th>13654</th>\n      <td>13</td>\n      <td>0</td>\n      <td>0</td>\n      <td>0</td>\n      <td>0.00</td>\n      <td>255</td>\n      <td>1</td>\n      <td>0.00</td>\n      <td>0.15</td>\n      <td>0</td>\n      <td>255</td>\n    </tr>\n    <tr>\n      <th>13655</th>\n      <td>2</td>\n      <td>0</td>\n      <td>0</td>\n      <td>0</td>\n      <td>0.00</td>\n      <td>140</td>\n      <td>0</td>\n      <td>0.06</td>\n      <td>0.00</td>\n      <td>0</td>\n      <td>9</td>\n    </tr>\n    <tr>\n      <th>13656</th>\n      <td>3</td>\n      <td>0</td>\n      <td>0</td>\n      <td>0</td>\n      <td>0.00</td>\n      <td>255</td>\n      <td>1</td>\n      <td>0.00</td>\n      <td>1.00</td>\n      <td>0</td>\n      <td>141</td>\n    </tr>\n  </tbody>\n</table>\n<p>13657 rows × 11 columns</p>\n</div>"
     },
     "execution_count": 760,
     "metadata": {},
     "output_type": "execute_result"
    }
   ],
   "source": [
    "X_validate = df_val[common_features_l2]\n",
    "X_validate"
   ],
   "metadata": {
    "collapsed": false,
    "ExecuteTime": {
     "end_time": "2023-10-27T14:28:10.450090100Z",
     "start_time": "2023-10-27T14:28:10.340853700Z"
    }
   }
  },
  {
   "cell_type": "code",
   "execution_count": 761,
   "metadata": {
    "ExecuteTime": {
     "end_time": "2023-10-27T14:28:10.512815100Z",
     "start_time": "2023-10-27T14:28:10.355995900Z"
    }
   },
   "outputs": [
    {
     "data": {
      "text/plain": "       srv_count  urgent  root_shell  hot  dst_host_srv_diff_host_rate  \\\n0       0.035225     0.0         0.0  0.0                         0.06   \n1       0.039139     0.0         0.0  0.0                         0.00   \n2       0.536204     0.0         0.0  0.0                         0.00   \n3       0.009785     0.0         0.0  0.0                         0.02   \n4       0.001957     0.0         0.0  0.0                         0.00   \n...          ...     ...         ...  ...                          ...   \n54728   0.007828     0.0         0.0  0.0                         0.00   \n54729   0.001957     0.0         0.0  0.0                         0.00   \n54730   0.007828     0.0         0.0  0.0                         0.00   \n54731   0.009785     0.0         0.0  0.0                         0.05   \n54732   0.393346     0.0         0.0  0.0                         0.00   \n\n       dst_host_count  logged_in  dst_host_same_src_port_rate  \\\n0            0.203922        1.0                         0.02   \n1            1.000000        1.0                         0.00   \n2            1.000000        0.0                         1.00   \n3            0.309804        0.0                         0.70   \n4            1.000000        0.0                         0.90   \n...               ...        ...                          ...   \n54728        0.780392        1.0                         0.01   \n54729        1.000000        0.0                         0.00   \n54730        0.854902        1.0                         0.00   \n54731        0.082353        1.0                         0.05   \n54732        1.000000        0.0                         0.01   \n\n       srv_diff_host_rate  num_shells  dst_host_srv_count  \n0                    0.17         0.0            1.000000  \n1                    0.00         0.0            1.000000  \n2                    0.00         0.0            1.000000  \n3                    0.00         0.0            0.505882  \n4                    0.00         0.0            0.003922  \n...                   ...         ...                 ...  \n54728                0.75         0.0            0.580392  \n54729                0.00         0.0            0.003922  \n54730                0.00         0.0            0.815686  \n54731                0.00         0.0            1.000000  \n54732                0.00         0.0            0.996078  \n\n[54733 rows x 11 columns]",
      "text/html": "<div>\n<style scoped>\n    .dataframe tbody tr th:only-of-type {\n        vertical-align: middle;\n    }\n\n    .dataframe tbody tr th {\n        vertical-align: top;\n    }\n\n    .dataframe thead th {\n        text-align: right;\n    }\n</style>\n<table border=\"1\" class=\"dataframe\">\n  <thead>\n    <tr style=\"text-align: right;\">\n      <th></th>\n      <th>srv_count</th>\n      <th>urgent</th>\n      <th>root_shell</th>\n      <th>hot</th>\n      <th>dst_host_srv_diff_host_rate</th>\n      <th>dst_host_count</th>\n      <th>logged_in</th>\n      <th>dst_host_same_src_port_rate</th>\n      <th>srv_diff_host_rate</th>\n      <th>num_shells</th>\n      <th>dst_host_srv_count</th>\n    </tr>\n  </thead>\n  <tbody>\n    <tr>\n      <th>0</th>\n      <td>0.035225</td>\n      <td>0.0</td>\n      <td>0.0</td>\n      <td>0.0</td>\n      <td>0.06</td>\n      <td>0.203922</td>\n      <td>1.0</td>\n      <td>0.02</td>\n      <td>0.17</td>\n      <td>0.0</td>\n      <td>1.000000</td>\n    </tr>\n    <tr>\n      <th>1</th>\n      <td>0.039139</td>\n      <td>0.0</td>\n      <td>0.0</td>\n      <td>0.0</td>\n      <td>0.00</td>\n      <td>1.000000</td>\n      <td>1.0</td>\n      <td>0.00</td>\n      <td>0.00</td>\n      <td>0.0</td>\n      <td>1.000000</td>\n    </tr>\n    <tr>\n      <th>2</th>\n      <td>0.536204</td>\n      <td>0.0</td>\n      <td>0.0</td>\n      <td>0.0</td>\n      <td>0.00</td>\n      <td>1.000000</td>\n      <td>0.0</td>\n      <td>1.00</td>\n      <td>0.00</td>\n      <td>0.0</td>\n      <td>1.000000</td>\n    </tr>\n    <tr>\n      <th>3</th>\n      <td>0.009785</td>\n      <td>0.0</td>\n      <td>0.0</td>\n      <td>0.0</td>\n      <td>0.02</td>\n      <td>0.309804</td>\n      <td>0.0</td>\n      <td>0.70</td>\n      <td>0.00</td>\n      <td>0.0</td>\n      <td>0.505882</td>\n    </tr>\n    <tr>\n      <th>4</th>\n      <td>0.001957</td>\n      <td>0.0</td>\n      <td>0.0</td>\n      <td>0.0</td>\n      <td>0.00</td>\n      <td>1.000000</td>\n      <td>0.0</td>\n      <td>0.90</td>\n      <td>0.00</td>\n      <td>0.0</td>\n      <td>0.003922</td>\n    </tr>\n    <tr>\n      <th>...</th>\n      <td>...</td>\n      <td>...</td>\n      <td>...</td>\n      <td>...</td>\n      <td>...</td>\n      <td>...</td>\n      <td>...</td>\n      <td>...</td>\n      <td>...</td>\n      <td>...</td>\n      <td>...</td>\n    </tr>\n    <tr>\n      <th>54728</th>\n      <td>0.007828</td>\n      <td>0.0</td>\n      <td>0.0</td>\n      <td>0.0</td>\n      <td>0.00</td>\n      <td>0.780392</td>\n      <td>1.0</td>\n      <td>0.01</td>\n      <td>0.75</td>\n      <td>0.0</td>\n      <td>0.580392</td>\n    </tr>\n    <tr>\n      <th>54729</th>\n      <td>0.001957</td>\n      <td>0.0</td>\n      <td>0.0</td>\n      <td>0.0</td>\n      <td>0.00</td>\n      <td>1.000000</td>\n      <td>0.0</td>\n      <td>0.00</td>\n      <td>0.00</td>\n      <td>0.0</td>\n      <td>0.003922</td>\n    </tr>\n    <tr>\n      <th>54730</th>\n      <td>0.007828</td>\n      <td>0.0</td>\n      <td>0.0</td>\n      <td>0.0</td>\n      <td>0.00</td>\n      <td>0.854902</td>\n      <td>1.0</td>\n      <td>0.00</td>\n      <td>0.00</td>\n      <td>0.0</td>\n      <td>0.815686</td>\n    </tr>\n    <tr>\n      <th>54731</th>\n      <td>0.009785</td>\n      <td>0.0</td>\n      <td>0.0</td>\n      <td>0.0</td>\n      <td>0.05</td>\n      <td>0.082353</td>\n      <td>1.0</td>\n      <td>0.05</td>\n      <td>0.00</td>\n      <td>0.0</td>\n      <td>1.000000</td>\n    </tr>\n    <tr>\n      <th>54732</th>\n      <td>0.393346</td>\n      <td>0.0</td>\n      <td>0.0</td>\n      <td>0.0</td>\n      <td>0.00</td>\n      <td>1.000000</td>\n      <td>0.0</td>\n      <td>0.01</td>\n      <td>0.00</td>\n      <td>0.0</td>\n      <td>0.996078</td>\n    </tr>\n  </tbody>\n</table>\n<p>54733 rows × 11 columns</p>\n</div>"
     },
     "execution_count": 761,
     "metadata": {},
     "output_type": "execute_result"
    }
   ],
   "source": [
    "df_minmax = scaler2.fit_transform(X_train)\n",
    "X_train = pd.DataFrame(df_minmax, columns=X_train.columns)\n",
    "X_train"
   ]
  },
  {
   "cell_type": "code",
   "execution_count": 762,
   "outputs": [
    {
     "data": {
      "text/plain": "       srv_count  urgent  root_shell  hot  dst_host_srv_diff_host_rate  \\\n0       0.007828     0.0         0.0  0.0                         0.01   \n1       0.039139     0.0         0.0  0.0                         0.00   \n2       0.003914     0.0         0.0  0.0                         0.00   \n3       0.005871     0.0         0.0  0.0                         0.02   \n4       0.001957     0.0         0.0  0.0                         0.00   \n...          ...     ...         ...  ...                          ...   \n13652   0.536204     0.0         0.0  0.0                         0.00   \n13653   0.301370     0.0         0.0  0.0                         0.00   \n13654   0.025440     0.0         0.0  0.0                         0.00   \n13655   0.003914     0.0         0.0  0.0                         0.00   \n13656   0.005871     0.0         0.0  0.0                         0.00   \n\n       dst_host_count  logged_in  dst_host_same_src_port_rate  \\\n0            0.262745        0.0                         1.00   \n1            1.000000        1.0                         0.00   \n2            0.541176        1.0                         0.01   \n3            0.658824        1.0                         0.01   \n4            0.443137        1.0                         0.35   \n...               ...        ...                          ...   \n13652        1.000000        0.0                         0.00   \n13653        1.000000        0.0                         0.00   \n13654        1.000000        1.0                         0.00   \n13655        0.549020        0.0                         0.06   \n13656        1.000000        1.0                         0.00   \n\n       srv_diff_host_rate  num_shells  dst_host_srv_count  \n0                    0.75         0.0            0.670588  \n1                    0.00         0.0            1.000000  \n2                    1.00         0.0            0.333333  \n3                    0.00         0.0            1.000000  \n4                    0.00         0.0            0.152941  \n...                   ...         ...                 ...  \n13652                0.00         0.0            0.996078  \n13653                0.01         0.0            0.996078  \n13654                0.15         0.0            1.000000  \n13655                0.00         0.0            0.035294  \n13656                1.00         0.0            0.552941  \n\n[13657 rows x 11 columns]",
      "text/html": "<div>\n<style scoped>\n    .dataframe tbody tr th:only-of-type {\n        vertical-align: middle;\n    }\n\n    .dataframe tbody tr th {\n        vertical-align: top;\n    }\n\n    .dataframe thead th {\n        text-align: right;\n    }\n</style>\n<table border=\"1\" class=\"dataframe\">\n  <thead>\n    <tr style=\"text-align: right;\">\n      <th></th>\n      <th>srv_count</th>\n      <th>urgent</th>\n      <th>root_shell</th>\n      <th>hot</th>\n      <th>dst_host_srv_diff_host_rate</th>\n      <th>dst_host_count</th>\n      <th>logged_in</th>\n      <th>dst_host_same_src_port_rate</th>\n      <th>srv_diff_host_rate</th>\n      <th>num_shells</th>\n      <th>dst_host_srv_count</th>\n    </tr>\n  </thead>\n  <tbody>\n    <tr>\n      <th>0</th>\n      <td>0.007828</td>\n      <td>0.0</td>\n      <td>0.0</td>\n      <td>0.0</td>\n      <td>0.01</td>\n      <td>0.262745</td>\n      <td>0.0</td>\n      <td>1.00</td>\n      <td>0.75</td>\n      <td>0.0</td>\n      <td>0.670588</td>\n    </tr>\n    <tr>\n      <th>1</th>\n      <td>0.039139</td>\n      <td>0.0</td>\n      <td>0.0</td>\n      <td>0.0</td>\n      <td>0.00</td>\n      <td>1.000000</td>\n      <td>1.0</td>\n      <td>0.00</td>\n      <td>0.00</td>\n      <td>0.0</td>\n      <td>1.000000</td>\n    </tr>\n    <tr>\n      <th>2</th>\n      <td>0.003914</td>\n      <td>0.0</td>\n      <td>0.0</td>\n      <td>0.0</td>\n      <td>0.00</td>\n      <td>0.541176</td>\n      <td>1.0</td>\n      <td>0.01</td>\n      <td>1.00</td>\n      <td>0.0</td>\n      <td>0.333333</td>\n    </tr>\n    <tr>\n      <th>3</th>\n      <td>0.005871</td>\n      <td>0.0</td>\n      <td>0.0</td>\n      <td>0.0</td>\n      <td>0.02</td>\n      <td>0.658824</td>\n      <td>1.0</td>\n      <td>0.01</td>\n      <td>0.00</td>\n      <td>0.0</td>\n      <td>1.000000</td>\n    </tr>\n    <tr>\n      <th>4</th>\n      <td>0.001957</td>\n      <td>0.0</td>\n      <td>0.0</td>\n      <td>0.0</td>\n      <td>0.00</td>\n      <td>0.443137</td>\n      <td>1.0</td>\n      <td>0.35</td>\n      <td>0.00</td>\n      <td>0.0</td>\n      <td>0.152941</td>\n    </tr>\n    <tr>\n      <th>...</th>\n      <td>...</td>\n      <td>...</td>\n      <td>...</td>\n      <td>...</td>\n      <td>...</td>\n      <td>...</td>\n      <td>...</td>\n      <td>...</td>\n      <td>...</td>\n      <td>...</td>\n      <td>...</td>\n    </tr>\n    <tr>\n      <th>13652</th>\n      <td>0.536204</td>\n      <td>0.0</td>\n      <td>0.0</td>\n      <td>0.0</td>\n      <td>0.00</td>\n      <td>1.000000</td>\n      <td>0.0</td>\n      <td>0.00</td>\n      <td>0.00</td>\n      <td>0.0</td>\n      <td>0.996078</td>\n    </tr>\n    <tr>\n      <th>13653</th>\n      <td>0.301370</td>\n      <td>0.0</td>\n      <td>0.0</td>\n      <td>0.0</td>\n      <td>0.00</td>\n      <td>1.000000</td>\n      <td>0.0</td>\n      <td>0.00</td>\n      <td>0.01</td>\n      <td>0.0</td>\n      <td>0.996078</td>\n    </tr>\n    <tr>\n      <th>13654</th>\n      <td>0.025440</td>\n      <td>0.0</td>\n      <td>0.0</td>\n      <td>0.0</td>\n      <td>0.00</td>\n      <td>1.000000</td>\n      <td>1.0</td>\n      <td>0.00</td>\n      <td>0.15</td>\n      <td>0.0</td>\n      <td>1.000000</td>\n    </tr>\n    <tr>\n      <th>13655</th>\n      <td>0.003914</td>\n      <td>0.0</td>\n      <td>0.0</td>\n      <td>0.0</td>\n      <td>0.00</td>\n      <td>0.549020</td>\n      <td>0.0</td>\n      <td>0.06</td>\n      <td>0.00</td>\n      <td>0.0</td>\n      <td>0.035294</td>\n    </tr>\n    <tr>\n      <th>13656</th>\n      <td>0.005871</td>\n      <td>0.0</td>\n      <td>0.0</td>\n      <td>0.0</td>\n      <td>0.00</td>\n      <td>1.000000</td>\n      <td>1.0</td>\n      <td>0.00</td>\n      <td>1.00</td>\n      <td>0.0</td>\n      <td>0.552941</td>\n    </tr>\n  </tbody>\n</table>\n<p>13657 rows × 11 columns</p>\n</div>"
     },
     "execution_count": 762,
     "metadata": {},
     "output_type": "execute_result"
    }
   ],
   "source": [
    "df_minmax = scaler2.transform(X_validate)\n",
    "X_validate = pd.DataFrame(df_minmax, columns=X_validate.columns)\n",
    "X_validate"
   ],
   "metadata": {
    "collapsed": false,
    "ExecuteTime": {
     "end_time": "2023-10-27T14:28:10.512815100Z",
     "start_time": "2023-10-27T14:28:10.380355700Z"
    }
   }
  },
  {
   "cell_type": "code",
   "execution_count": 763,
   "metadata": {
    "ExecuteTime": {
     "end_time": "2023-10-27T14:28:10.576253300Z",
     "start_time": "2023-10-27T14:28:10.403177100Z"
    }
   },
   "outputs": [
    {
     "data": {
      "text/plain": "       srv_count  urgent  root_shell  hot  dst_host_srv_diff_host_rate  \\\n0       0.035225     0.0         0.0  0.0                         0.06   \n1       0.039139     0.0         0.0  0.0                         0.00   \n2       0.536204     0.0         0.0  0.0                         0.00   \n3       0.009785     0.0         0.0  0.0                         0.02   \n4       0.001957     0.0         0.0  0.0                         0.00   \n...          ...     ...         ...  ...                          ...   \n54728   0.007828     0.0         0.0  0.0                         0.00   \n54729   0.001957     0.0         0.0  0.0                         0.00   \n54730   0.007828     0.0         0.0  0.0                         0.00   \n54731   0.009785     0.0         0.0  0.0                         0.05   \n54732   0.393346     0.0         0.0  0.0                         0.00   \n\n       dst_host_count  logged_in  dst_host_same_src_port_rate  \\\n0            0.203922        1.0                         0.02   \n1            1.000000        1.0                         0.00   \n2            1.000000        0.0                         1.00   \n3            0.309804        0.0                         0.70   \n4            1.000000        0.0                         0.90   \n...               ...        ...                          ...   \n54728        0.780392        1.0                         0.01   \n54729        1.000000        0.0                         0.00   \n54730        0.854902        1.0                         0.00   \n54731        0.082353        1.0                         0.05   \n54732        1.000000        0.0                         0.01   \n\n       srv_diff_host_rate  num_shells  ...  flag_OTH  flag_REJ  flag_RSTO  \\\n0                    0.17         0.0  ...       0.0       0.0        0.0   \n1                    0.00         0.0  ...       0.0       0.0        0.0   \n2                    0.00         0.0  ...       0.0       0.0        0.0   \n3                    0.00         0.0  ...       0.0       0.0        0.0   \n4                    0.00         0.0  ...       0.0       0.0        0.0   \n...                   ...         ...  ...       ...       ...        ...   \n54728                0.75         0.0  ...       0.0       0.0        0.0   \n54729                0.00         0.0  ...       0.0       0.0        0.0   \n54730                0.00         0.0  ...       0.0       0.0        0.0   \n54731                0.00         0.0  ...       0.0       0.0        0.0   \n54732                0.00         0.0  ...       0.0       0.0        0.0   \n\n       flag_RSTR  flag_S0  flag_S1  flag_S2  flag_S3  flag_SF  flag_SH  \n0            0.0      0.0      0.0      0.0      0.0      1.0      0.0  \n1            0.0      0.0      0.0      0.0      0.0      1.0      0.0  \n2            0.0      0.0      0.0      0.0      0.0      1.0      0.0  \n3            0.0      0.0      0.0      0.0      0.0      1.0      0.0  \n4            0.0      0.0      0.0      0.0      0.0      1.0      0.0  \n...          ...      ...      ...      ...      ...      ...      ...  \n54728        0.0      0.0      0.0      0.0      0.0      1.0      0.0  \n54729        0.0      0.0      0.0      0.0      0.0      1.0      0.0  \n54730        0.0      0.0      0.0      0.0      0.0      1.0      0.0  \n54731        0.0      0.0      0.0      0.0      0.0      1.0      0.0  \n54732        0.0      0.0      0.0      0.0      0.0      1.0      0.0  \n\n[54733 rows x 51 columns]",
      "text/html": "<div>\n<style scoped>\n    .dataframe tbody tr th:only-of-type {\n        vertical-align: middle;\n    }\n\n    .dataframe tbody tr th {\n        vertical-align: top;\n    }\n\n    .dataframe thead th {\n        text-align: right;\n    }\n</style>\n<table border=\"1\" class=\"dataframe\">\n  <thead>\n    <tr style=\"text-align: right;\">\n      <th></th>\n      <th>srv_count</th>\n      <th>urgent</th>\n      <th>root_shell</th>\n      <th>hot</th>\n      <th>dst_host_srv_diff_host_rate</th>\n      <th>dst_host_count</th>\n      <th>logged_in</th>\n      <th>dst_host_same_src_port_rate</th>\n      <th>srv_diff_host_rate</th>\n      <th>num_shells</th>\n      <th>...</th>\n      <th>flag_OTH</th>\n      <th>flag_REJ</th>\n      <th>flag_RSTO</th>\n      <th>flag_RSTR</th>\n      <th>flag_S0</th>\n      <th>flag_S1</th>\n      <th>flag_S2</th>\n      <th>flag_S3</th>\n      <th>flag_SF</th>\n      <th>flag_SH</th>\n    </tr>\n  </thead>\n  <tbody>\n    <tr>\n      <th>0</th>\n      <td>0.035225</td>\n      <td>0.0</td>\n      <td>0.0</td>\n      <td>0.0</td>\n      <td>0.06</td>\n      <td>0.203922</td>\n      <td>1.0</td>\n      <td>0.02</td>\n      <td>0.17</td>\n      <td>0.0</td>\n      <td>...</td>\n      <td>0.0</td>\n      <td>0.0</td>\n      <td>0.0</td>\n      <td>0.0</td>\n      <td>0.0</td>\n      <td>0.0</td>\n      <td>0.0</td>\n      <td>0.0</td>\n      <td>1.0</td>\n      <td>0.0</td>\n    </tr>\n    <tr>\n      <th>1</th>\n      <td>0.039139</td>\n      <td>0.0</td>\n      <td>0.0</td>\n      <td>0.0</td>\n      <td>0.00</td>\n      <td>1.000000</td>\n      <td>1.0</td>\n      <td>0.00</td>\n      <td>0.00</td>\n      <td>0.0</td>\n      <td>...</td>\n      <td>0.0</td>\n      <td>0.0</td>\n      <td>0.0</td>\n      <td>0.0</td>\n      <td>0.0</td>\n      <td>0.0</td>\n      <td>0.0</td>\n      <td>0.0</td>\n      <td>1.0</td>\n      <td>0.0</td>\n    </tr>\n    <tr>\n      <th>2</th>\n      <td>0.536204</td>\n      <td>0.0</td>\n      <td>0.0</td>\n      <td>0.0</td>\n      <td>0.00</td>\n      <td>1.000000</td>\n      <td>0.0</td>\n      <td>1.00</td>\n      <td>0.00</td>\n      <td>0.0</td>\n      <td>...</td>\n      <td>0.0</td>\n      <td>0.0</td>\n      <td>0.0</td>\n      <td>0.0</td>\n      <td>0.0</td>\n      <td>0.0</td>\n      <td>0.0</td>\n      <td>0.0</td>\n      <td>1.0</td>\n      <td>0.0</td>\n    </tr>\n    <tr>\n      <th>3</th>\n      <td>0.009785</td>\n      <td>0.0</td>\n      <td>0.0</td>\n      <td>0.0</td>\n      <td>0.02</td>\n      <td>0.309804</td>\n      <td>0.0</td>\n      <td>0.70</td>\n      <td>0.00</td>\n      <td>0.0</td>\n      <td>...</td>\n      <td>0.0</td>\n      <td>0.0</td>\n      <td>0.0</td>\n      <td>0.0</td>\n      <td>0.0</td>\n      <td>0.0</td>\n      <td>0.0</td>\n      <td>0.0</td>\n      <td>1.0</td>\n      <td>0.0</td>\n    </tr>\n    <tr>\n      <th>4</th>\n      <td>0.001957</td>\n      <td>0.0</td>\n      <td>0.0</td>\n      <td>0.0</td>\n      <td>0.00</td>\n      <td>1.000000</td>\n      <td>0.0</td>\n      <td>0.90</td>\n      <td>0.00</td>\n      <td>0.0</td>\n      <td>...</td>\n      <td>0.0</td>\n      <td>0.0</td>\n      <td>0.0</td>\n      <td>0.0</td>\n      <td>0.0</td>\n      <td>0.0</td>\n      <td>0.0</td>\n      <td>0.0</td>\n      <td>1.0</td>\n      <td>0.0</td>\n    </tr>\n    <tr>\n      <th>...</th>\n      <td>...</td>\n      <td>...</td>\n      <td>...</td>\n      <td>...</td>\n      <td>...</td>\n      <td>...</td>\n      <td>...</td>\n      <td>...</td>\n      <td>...</td>\n      <td>...</td>\n      <td>...</td>\n      <td>...</td>\n      <td>...</td>\n      <td>...</td>\n      <td>...</td>\n      <td>...</td>\n      <td>...</td>\n      <td>...</td>\n      <td>...</td>\n      <td>...</td>\n      <td>...</td>\n    </tr>\n    <tr>\n      <th>54728</th>\n      <td>0.007828</td>\n      <td>0.0</td>\n      <td>0.0</td>\n      <td>0.0</td>\n      <td>0.00</td>\n      <td>0.780392</td>\n      <td>1.0</td>\n      <td>0.01</td>\n      <td>0.75</td>\n      <td>0.0</td>\n      <td>...</td>\n      <td>0.0</td>\n      <td>0.0</td>\n      <td>0.0</td>\n      <td>0.0</td>\n      <td>0.0</td>\n      <td>0.0</td>\n      <td>0.0</td>\n      <td>0.0</td>\n      <td>1.0</td>\n      <td>0.0</td>\n    </tr>\n    <tr>\n      <th>54729</th>\n      <td>0.001957</td>\n      <td>0.0</td>\n      <td>0.0</td>\n      <td>0.0</td>\n      <td>0.00</td>\n      <td>1.000000</td>\n      <td>0.0</td>\n      <td>0.00</td>\n      <td>0.00</td>\n      <td>0.0</td>\n      <td>...</td>\n      <td>0.0</td>\n      <td>0.0</td>\n      <td>0.0</td>\n      <td>0.0</td>\n      <td>0.0</td>\n      <td>0.0</td>\n      <td>0.0</td>\n      <td>0.0</td>\n      <td>1.0</td>\n      <td>0.0</td>\n    </tr>\n    <tr>\n      <th>54730</th>\n      <td>0.007828</td>\n      <td>0.0</td>\n      <td>0.0</td>\n      <td>0.0</td>\n      <td>0.00</td>\n      <td>0.854902</td>\n      <td>1.0</td>\n      <td>0.00</td>\n      <td>0.00</td>\n      <td>0.0</td>\n      <td>...</td>\n      <td>0.0</td>\n      <td>0.0</td>\n      <td>0.0</td>\n      <td>0.0</td>\n      <td>0.0</td>\n      <td>0.0</td>\n      <td>0.0</td>\n      <td>0.0</td>\n      <td>1.0</td>\n      <td>0.0</td>\n    </tr>\n    <tr>\n      <th>54731</th>\n      <td>0.009785</td>\n      <td>0.0</td>\n      <td>0.0</td>\n      <td>0.0</td>\n      <td>0.05</td>\n      <td>0.082353</td>\n      <td>1.0</td>\n      <td>0.05</td>\n      <td>0.00</td>\n      <td>0.0</td>\n      <td>...</td>\n      <td>0.0</td>\n      <td>0.0</td>\n      <td>0.0</td>\n      <td>0.0</td>\n      <td>0.0</td>\n      <td>0.0</td>\n      <td>0.0</td>\n      <td>0.0</td>\n      <td>1.0</td>\n      <td>0.0</td>\n    </tr>\n    <tr>\n      <th>54732</th>\n      <td>0.393346</td>\n      <td>0.0</td>\n      <td>0.0</td>\n      <td>0.0</td>\n      <td>0.00</td>\n      <td>1.000000</td>\n      <td>0.0</td>\n      <td>0.01</td>\n      <td>0.00</td>\n      <td>0.0</td>\n      <td>...</td>\n      <td>0.0</td>\n      <td>0.0</td>\n      <td>0.0</td>\n      <td>0.0</td>\n      <td>0.0</td>\n      <td>0.0</td>\n      <td>0.0</td>\n      <td>0.0</td>\n      <td>1.0</td>\n      <td>0.0</td>\n    </tr>\n  </tbody>\n</table>\n<p>54733 rows × 51 columns</p>\n</div>"
     },
     "execution_count": 763,
     "metadata": {},
     "output_type": "execute_result"
    }
   ],
   "source": [
    "# perform One-hot encoding for the train set\n",
    "label_enc = ohe2.fit_transform(df_train[categorical_features])\n",
    "label_enc.toarray()\n",
    "new_labels = ohe2.get_feature_names_out(categorical_features)\n",
    "df_enc = pd.DataFrame(data=label_enc.toarray(), columns=new_labels)\n",
    "X_train = pd.concat([X_train, df_enc], axis=1)\n",
    "X_train"
   ]
  },
  {
   "cell_type": "code",
   "execution_count": 764,
   "outputs": [
    {
     "data": {
      "text/plain": "       srv_count  urgent  root_shell  hot  dst_host_srv_diff_host_rate  \\\n0       0.007828     0.0         0.0  0.0                         0.01   \n1       0.039139     0.0         0.0  0.0                         0.00   \n2       0.003914     0.0         0.0  0.0                         0.00   \n3       0.005871     0.0         0.0  0.0                         0.02   \n4       0.001957     0.0         0.0  0.0                         0.00   \n...          ...     ...         ...  ...                          ...   \n13652   0.536204     0.0         0.0  0.0                         0.00   \n13653   0.301370     0.0         0.0  0.0                         0.00   \n13654   0.025440     0.0         0.0  0.0                         0.00   \n13655   0.003914     0.0         0.0  0.0                         0.00   \n13656   0.005871     0.0         0.0  0.0                         0.00   \n\n       dst_host_count  logged_in  dst_host_same_src_port_rate  \\\n0            0.262745        0.0                         1.00   \n1            1.000000        1.0                         0.00   \n2            0.541176        1.0                         0.01   \n3            0.658824        1.0                         0.01   \n4            0.443137        1.0                         0.35   \n...               ...        ...                          ...   \n13652        1.000000        0.0                         0.00   \n13653        1.000000        0.0                         0.00   \n13654        1.000000        1.0                         0.00   \n13655        0.549020        0.0                         0.06   \n13656        1.000000        1.0                         0.00   \n\n       srv_diff_host_rate  num_shells  ...  flag_OTH  flag_REJ  flag_RSTO  \\\n0                    0.75         0.0  ...       0.0       0.0        0.0   \n1                    0.00         0.0  ...       0.0       0.0        0.0   \n2                    1.00         0.0  ...       0.0       0.0        0.0   \n3                    0.00         0.0  ...       0.0       0.0        0.0   \n4                    0.00         0.0  ...       0.0       0.0        0.0   \n...                   ...         ...  ...       ...       ...        ...   \n13652                0.00         0.0  ...       0.0       0.0        0.0   \n13653                0.01         0.0  ...       0.0       0.0        0.0   \n13654                0.15         0.0  ...       0.0       0.0        0.0   \n13655                0.00         0.0  ...       0.0       0.0        0.0   \n13656                1.00         0.0  ...       0.0       0.0        0.0   \n\n       flag_RSTR  flag_S0  flag_S1  flag_S2  flag_S3  flag_SF  flag_SH  \n0            0.0      0.0      0.0      0.0      0.0      1.0      0.0  \n1            0.0      0.0      0.0      0.0      0.0      1.0      0.0  \n2            0.0      0.0      0.0      0.0      0.0      1.0      0.0  \n3            0.0      0.0      0.0      0.0      0.0      1.0      0.0  \n4            0.0      0.0      0.0      0.0      0.0      1.0      0.0  \n...          ...      ...      ...      ...      ...      ...      ...  \n13652        0.0      0.0      0.0      0.0      0.0      1.0      0.0  \n13653        0.0      0.0      0.0      0.0      0.0      1.0      0.0  \n13654        0.0      0.0      0.0      0.0      0.0      1.0      0.0  \n13655        0.0      0.0      0.0      0.0      0.0      1.0      0.0  \n13656        0.0      0.0      0.0      0.0      0.0      1.0      0.0  \n\n[13657 rows x 51 columns]",
      "text/html": "<div>\n<style scoped>\n    .dataframe tbody tr th:only-of-type {\n        vertical-align: middle;\n    }\n\n    .dataframe tbody tr th {\n        vertical-align: top;\n    }\n\n    .dataframe thead th {\n        text-align: right;\n    }\n</style>\n<table border=\"1\" class=\"dataframe\">\n  <thead>\n    <tr style=\"text-align: right;\">\n      <th></th>\n      <th>srv_count</th>\n      <th>urgent</th>\n      <th>root_shell</th>\n      <th>hot</th>\n      <th>dst_host_srv_diff_host_rate</th>\n      <th>dst_host_count</th>\n      <th>logged_in</th>\n      <th>dst_host_same_src_port_rate</th>\n      <th>srv_diff_host_rate</th>\n      <th>num_shells</th>\n      <th>...</th>\n      <th>flag_OTH</th>\n      <th>flag_REJ</th>\n      <th>flag_RSTO</th>\n      <th>flag_RSTR</th>\n      <th>flag_S0</th>\n      <th>flag_S1</th>\n      <th>flag_S2</th>\n      <th>flag_S3</th>\n      <th>flag_SF</th>\n      <th>flag_SH</th>\n    </tr>\n  </thead>\n  <tbody>\n    <tr>\n      <th>0</th>\n      <td>0.007828</td>\n      <td>0.0</td>\n      <td>0.0</td>\n      <td>0.0</td>\n      <td>0.01</td>\n      <td>0.262745</td>\n      <td>0.0</td>\n      <td>1.00</td>\n      <td>0.75</td>\n      <td>0.0</td>\n      <td>...</td>\n      <td>0.0</td>\n      <td>0.0</td>\n      <td>0.0</td>\n      <td>0.0</td>\n      <td>0.0</td>\n      <td>0.0</td>\n      <td>0.0</td>\n      <td>0.0</td>\n      <td>1.0</td>\n      <td>0.0</td>\n    </tr>\n    <tr>\n      <th>1</th>\n      <td>0.039139</td>\n      <td>0.0</td>\n      <td>0.0</td>\n      <td>0.0</td>\n      <td>0.00</td>\n      <td>1.000000</td>\n      <td>1.0</td>\n      <td>0.00</td>\n      <td>0.00</td>\n      <td>0.0</td>\n      <td>...</td>\n      <td>0.0</td>\n      <td>0.0</td>\n      <td>0.0</td>\n      <td>0.0</td>\n      <td>0.0</td>\n      <td>0.0</td>\n      <td>0.0</td>\n      <td>0.0</td>\n      <td>1.0</td>\n      <td>0.0</td>\n    </tr>\n    <tr>\n      <th>2</th>\n      <td>0.003914</td>\n      <td>0.0</td>\n      <td>0.0</td>\n      <td>0.0</td>\n      <td>0.00</td>\n      <td>0.541176</td>\n      <td>1.0</td>\n      <td>0.01</td>\n      <td>1.00</td>\n      <td>0.0</td>\n      <td>...</td>\n      <td>0.0</td>\n      <td>0.0</td>\n      <td>0.0</td>\n      <td>0.0</td>\n      <td>0.0</td>\n      <td>0.0</td>\n      <td>0.0</td>\n      <td>0.0</td>\n      <td>1.0</td>\n      <td>0.0</td>\n    </tr>\n    <tr>\n      <th>3</th>\n      <td>0.005871</td>\n      <td>0.0</td>\n      <td>0.0</td>\n      <td>0.0</td>\n      <td>0.02</td>\n      <td>0.658824</td>\n      <td>1.0</td>\n      <td>0.01</td>\n      <td>0.00</td>\n      <td>0.0</td>\n      <td>...</td>\n      <td>0.0</td>\n      <td>0.0</td>\n      <td>0.0</td>\n      <td>0.0</td>\n      <td>0.0</td>\n      <td>0.0</td>\n      <td>0.0</td>\n      <td>0.0</td>\n      <td>1.0</td>\n      <td>0.0</td>\n    </tr>\n    <tr>\n      <th>4</th>\n      <td>0.001957</td>\n      <td>0.0</td>\n      <td>0.0</td>\n      <td>0.0</td>\n      <td>0.00</td>\n      <td>0.443137</td>\n      <td>1.0</td>\n      <td>0.35</td>\n      <td>0.00</td>\n      <td>0.0</td>\n      <td>...</td>\n      <td>0.0</td>\n      <td>0.0</td>\n      <td>0.0</td>\n      <td>0.0</td>\n      <td>0.0</td>\n      <td>0.0</td>\n      <td>0.0</td>\n      <td>0.0</td>\n      <td>1.0</td>\n      <td>0.0</td>\n    </tr>\n    <tr>\n      <th>...</th>\n      <td>...</td>\n      <td>...</td>\n      <td>...</td>\n      <td>...</td>\n      <td>...</td>\n      <td>...</td>\n      <td>...</td>\n      <td>...</td>\n      <td>...</td>\n      <td>...</td>\n      <td>...</td>\n      <td>...</td>\n      <td>...</td>\n      <td>...</td>\n      <td>...</td>\n      <td>...</td>\n      <td>...</td>\n      <td>...</td>\n      <td>...</td>\n      <td>...</td>\n      <td>...</td>\n    </tr>\n    <tr>\n      <th>13652</th>\n      <td>0.536204</td>\n      <td>0.0</td>\n      <td>0.0</td>\n      <td>0.0</td>\n      <td>0.00</td>\n      <td>1.000000</td>\n      <td>0.0</td>\n      <td>0.00</td>\n      <td>0.00</td>\n      <td>0.0</td>\n      <td>...</td>\n      <td>0.0</td>\n      <td>0.0</td>\n      <td>0.0</td>\n      <td>0.0</td>\n      <td>0.0</td>\n      <td>0.0</td>\n      <td>0.0</td>\n      <td>0.0</td>\n      <td>1.0</td>\n      <td>0.0</td>\n    </tr>\n    <tr>\n      <th>13653</th>\n      <td>0.301370</td>\n      <td>0.0</td>\n      <td>0.0</td>\n      <td>0.0</td>\n      <td>0.00</td>\n      <td>1.000000</td>\n      <td>0.0</td>\n      <td>0.00</td>\n      <td>0.01</td>\n      <td>0.0</td>\n      <td>...</td>\n      <td>0.0</td>\n      <td>0.0</td>\n      <td>0.0</td>\n      <td>0.0</td>\n      <td>0.0</td>\n      <td>0.0</td>\n      <td>0.0</td>\n      <td>0.0</td>\n      <td>1.0</td>\n      <td>0.0</td>\n    </tr>\n    <tr>\n      <th>13654</th>\n      <td>0.025440</td>\n      <td>0.0</td>\n      <td>0.0</td>\n      <td>0.0</td>\n      <td>0.00</td>\n      <td>1.000000</td>\n      <td>1.0</td>\n      <td>0.00</td>\n      <td>0.15</td>\n      <td>0.0</td>\n      <td>...</td>\n      <td>0.0</td>\n      <td>0.0</td>\n      <td>0.0</td>\n      <td>0.0</td>\n      <td>0.0</td>\n      <td>0.0</td>\n      <td>0.0</td>\n      <td>0.0</td>\n      <td>1.0</td>\n      <td>0.0</td>\n    </tr>\n    <tr>\n      <th>13655</th>\n      <td>0.003914</td>\n      <td>0.0</td>\n      <td>0.0</td>\n      <td>0.0</td>\n      <td>0.00</td>\n      <td>0.549020</td>\n      <td>0.0</td>\n      <td>0.06</td>\n      <td>0.00</td>\n      <td>0.0</td>\n      <td>...</td>\n      <td>0.0</td>\n      <td>0.0</td>\n      <td>0.0</td>\n      <td>0.0</td>\n      <td>0.0</td>\n      <td>0.0</td>\n      <td>0.0</td>\n      <td>0.0</td>\n      <td>1.0</td>\n      <td>0.0</td>\n    </tr>\n    <tr>\n      <th>13656</th>\n      <td>0.005871</td>\n      <td>0.0</td>\n      <td>0.0</td>\n      <td>0.0</td>\n      <td>0.00</td>\n      <td>1.000000</td>\n      <td>1.0</td>\n      <td>0.00</td>\n      <td>1.00</td>\n      <td>0.0</td>\n      <td>...</td>\n      <td>0.0</td>\n      <td>0.0</td>\n      <td>0.0</td>\n      <td>0.0</td>\n      <td>0.0</td>\n      <td>0.0</td>\n      <td>0.0</td>\n      <td>0.0</td>\n      <td>1.0</td>\n      <td>0.0</td>\n    </tr>\n  </tbody>\n</table>\n<p>13657 rows × 51 columns</p>\n</div>"
     },
     "execution_count": 764,
     "metadata": {},
     "output_type": "execute_result"
    }
   ],
   "source": [
    "# perform One-hot encoding for the validation set\n",
    "label_enc = ohe2.transform(df_val[categorical_features])\n",
    "label_enc.toarray()\n",
    "new_labels = ohe2.get_feature_names_out(categorical_features)\n",
    "df_enc = pd.DataFrame(data=label_enc.toarray(), columns=new_labels)\n",
    "X_validate = pd.concat([X_validate, df_enc], axis=1)\n",
    "X_validate"
   ],
   "metadata": {
    "collapsed": false,
    "ExecuteTime": {
     "end_time": "2023-10-27T14:28:10.623563100Z",
     "start_time": "2023-10-27T14:28:10.481530800Z"
    }
   }
  },
  {
   "cell_type": "code",
   "execution_count": 765,
   "metadata": {
    "ExecuteTime": {
     "end_time": "2023-10-27T14:28:10.656683800Z",
     "start_time": "2023-10-27T14:28:10.528676400Z"
    }
   },
   "outputs": [
    {
     "data": {
      "text/plain": "       duration protocol_type   service flag  src_bytes  dst_bytes  land  \\\n0             2           tcp  ftp_data   SF      12983          0     0   \n1             0           tcp      http   SF        267      14515     0   \n2             0           tcp      smtp   SF       1022        387     0   \n3             0           tcp    telnet   SF        129        174     0   \n4             0           tcp      http   SF        327        467     0   \n...         ...           ...       ...  ...        ...        ...   ...   \n12658         0           tcp      http   SF        274       1623     0   \n12659         0           tcp      http   SF        280       6087     0   \n12660         0           tcp      smtp   SF        794        333     0   \n12661         0           tcp      http   SF        317        938     0   \n12662         0           udp  domain_u   SF         42         42     0   \n\n       wrong_fragment  urgent  hot  ...  dst_host_count  dst_host_srv_count  \\\n0                   0       0    0  ...             134                  86   \n1                   0       0    0  ...             155                 255   \n2                   0       0    0  ...             255                  28   \n3                   0       0    0  ...             255                 255   \n4                   0       0    0  ...             151                 255   \n...               ...     ...  ...  ...             ...                 ...   \n12658               0       0    0  ...              92                 255   \n12659               0       0    0  ...               5                 255   \n12660               0       0    0  ...             100                 141   \n12661               0       0    0  ...             197                 255   \n12662               0       0    0  ...             255                 252   \n\n       dst_host_same_srv_rate  dst_host_diff_srv_rate  \\\n0                        0.61                    0.04   \n1                        1.00                    0.00   \n2                        0.11                    0.72   \n3                        1.00                    0.00   \n4                        1.00                    0.00   \n...                       ...                     ...   \n12658                    1.00                    0.00   \n12659                    1.00                    0.00   \n12660                    0.72                    0.06   \n12661                    1.00                    0.00   \n12662                    0.99                    0.01   \n\n       dst_host_same_src_port_rate  dst_host_srv_diff_host_rate  \\\n0                             0.61                         0.02   \n1                             0.01                         0.03   \n2                             0.00                         0.00   \n3                             0.00                         0.00   \n4                             0.01                         0.03   \n...                            ...                          ...   \n12658                         0.01                         0.04   \n12659                         0.20                         0.04   \n12660                         0.01                         0.01   \n12661                         0.01                         0.01   \n12662                         0.00                         0.00   \n\n       dst_host_serror_rate  dst_host_srv_serror_rate  dst_host_rerror_rate  \\\n0                      0.00                      0.00                  0.00   \n1                      0.01                      0.00                  0.00   \n2                      0.00                      0.00                  0.72   \n3                      0.01                      0.01                  0.02   \n4                      0.00                      0.00                  0.00   \n...                     ...                       ...                   ...   \n12658                  0.00                      0.00                  0.00   \n12659                  0.00                      0.00                  0.00   \n12660                  0.01                      0.00                  0.00   \n12661                  0.01                      0.00                  0.00   \n12662                  0.00                      0.00                  0.00   \n\n       dst_host_srv_rerror_rate  \n0                          0.00  \n1                          0.00  \n2                          0.04  \n3                          0.02  \n4                          0.00  \n...                         ...  \n12658                      0.00  \n12659                      0.00  \n12660                      0.00  \n12661                      0.00  \n12662                      0.00  \n\n[12663 rows x 40 columns]",
      "text/html": "<div>\n<style scoped>\n    .dataframe tbody tr th:only-of-type {\n        vertical-align: middle;\n    }\n\n    .dataframe tbody tr th {\n        vertical-align: top;\n    }\n\n    .dataframe thead th {\n        text-align: right;\n    }\n</style>\n<table border=\"1\" class=\"dataframe\">\n  <thead>\n    <tr style=\"text-align: right;\">\n      <th></th>\n      <th>duration</th>\n      <th>protocol_type</th>\n      <th>service</th>\n      <th>flag</th>\n      <th>src_bytes</th>\n      <th>dst_bytes</th>\n      <th>land</th>\n      <th>wrong_fragment</th>\n      <th>urgent</th>\n      <th>hot</th>\n      <th>...</th>\n      <th>dst_host_count</th>\n      <th>dst_host_srv_count</th>\n      <th>dst_host_same_srv_rate</th>\n      <th>dst_host_diff_srv_rate</th>\n      <th>dst_host_same_src_port_rate</th>\n      <th>dst_host_srv_diff_host_rate</th>\n      <th>dst_host_serror_rate</th>\n      <th>dst_host_srv_serror_rate</th>\n      <th>dst_host_rerror_rate</th>\n      <th>dst_host_srv_rerror_rate</th>\n    </tr>\n  </thead>\n  <tbody>\n    <tr>\n      <th>0</th>\n      <td>2</td>\n      <td>tcp</td>\n      <td>ftp_data</td>\n      <td>SF</td>\n      <td>12983</td>\n      <td>0</td>\n      <td>0</td>\n      <td>0</td>\n      <td>0</td>\n      <td>0</td>\n      <td>...</td>\n      <td>134</td>\n      <td>86</td>\n      <td>0.61</td>\n      <td>0.04</td>\n      <td>0.61</td>\n      <td>0.02</td>\n      <td>0.00</td>\n      <td>0.00</td>\n      <td>0.00</td>\n      <td>0.00</td>\n    </tr>\n    <tr>\n      <th>1</th>\n      <td>0</td>\n      <td>tcp</td>\n      <td>http</td>\n      <td>SF</td>\n      <td>267</td>\n      <td>14515</td>\n      <td>0</td>\n      <td>0</td>\n      <td>0</td>\n      <td>0</td>\n      <td>...</td>\n      <td>155</td>\n      <td>255</td>\n      <td>1.00</td>\n      <td>0.00</td>\n      <td>0.01</td>\n      <td>0.03</td>\n      <td>0.01</td>\n      <td>0.00</td>\n      <td>0.00</td>\n      <td>0.00</td>\n    </tr>\n    <tr>\n      <th>2</th>\n      <td>0</td>\n      <td>tcp</td>\n      <td>smtp</td>\n      <td>SF</td>\n      <td>1022</td>\n      <td>387</td>\n      <td>0</td>\n      <td>0</td>\n      <td>0</td>\n      <td>0</td>\n      <td>...</td>\n      <td>255</td>\n      <td>28</td>\n      <td>0.11</td>\n      <td>0.72</td>\n      <td>0.00</td>\n      <td>0.00</td>\n      <td>0.00</td>\n      <td>0.00</td>\n      <td>0.72</td>\n      <td>0.04</td>\n    </tr>\n    <tr>\n      <th>3</th>\n      <td>0</td>\n      <td>tcp</td>\n      <td>telnet</td>\n      <td>SF</td>\n      <td>129</td>\n      <td>174</td>\n      <td>0</td>\n      <td>0</td>\n      <td>0</td>\n      <td>0</td>\n      <td>...</td>\n      <td>255</td>\n      <td>255</td>\n      <td>1.00</td>\n      <td>0.00</td>\n      <td>0.00</td>\n      <td>0.00</td>\n      <td>0.01</td>\n      <td>0.01</td>\n      <td>0.02</td>\n      <td>0.02</td>\n    </tr>\n    <tr>\n      <th>4</th>\n      <td>0</td>\n      <td>tcp</td>\n      <td>http</td>\n      <td>SF</td>\n      <td>327</td>\n      <td>467</td>\n      <td>0</td>\n      <td>0</td>\n      <td>0</td>\n      <td>0</td>\n      <td>...</td>\n      <td>151</td>\n      <td>255</td>\n      <td>1.00</td>\n      <td>0.00</td>\n      <td>0.01</td>\n      <td>0.03</td>\n      <td>0.00</td>\n      <td>0.00</td>\n      <td>0.00</td>\n      <td>0.00</td>\n    </tr>\n    <tr>\n      <th>...</th>\n      <td>...</td>\n      <td>...</td>\n      <td>...</td>\n      <td>...</td>\n      <td>...</td>\n      <td>...</td>\n      <td>...</td>\n      <td>...</td>\n      <td>...</td>\n      <td>...</td>\n      <td>...</td>\n      <td>...</td>\n      <td>...</td>\n      <td>...</td>\n      <td>...</td>\n      <td>...</td>\n      <td>...</td>\n      <td>...</td>\n      <td>...</td>\n      <td>...</td>\n      <td>...</td>\n    </tr>\n    <tr>\n      <th>12658</th>\n      <td>0</td>\n      <td>tcp</td>\n      <td>http</td>\n      <td>SF</td>\n      <td>274</td>\n      <td>1623</td>\n      <td>0</td>\n      <td>0</td>\n      <td>0</td>\n      <td>0</td>\n      <td>...</td>\n      <td>92</td>\n      <td>255</td>\n      <td>1.00</td>\n      <td>0.00</td>\n      <td>0.01</td>\n      <td>0.04</td>\n      <td>0.00</td>\n      <td>0.00</td>\n      <td>0.00</td>\n      <td>0.00</td>\n    </tr>\n    <tr>\n      <th>12659</th>\n      <td>0</td>\n      <td>tcp</td>\n      <td>http</td>\n      <td>SF</td>\n      <td>280</td>\n      <td>6087</td>\n      <td>0</td>\n      <td>0</td>\n      <td>0</td>\n      <td>0</td>\n      <td>...</td>\n      <td>5</td>\n      <td>255</td>\n      <td>1.00</td>\n      <td>0.00</td>\n      <td>0.20</td>\n      <td>0.04</td>\n      <td>0.00</td>\n      <td>0.00</td>\n      <td>0.00</td>\n      <td>0.00</td>\n    </tr>\n    <tr>\n      <th>12660</th>\n      <td>0</td>\n      <td>tcp</td>\n      <td>smtp</td>\n      <td>SF</td>\n      <td>794</td>\n      <td>333</td>\n      <td>0</td>\n      <td>0</td>\n      <td>0</td>\n      <td>0</td>\n      <td>...</td>\n      <td>100</td>\n      <td>141</td>\n      <td>0.72</td>\n      <td>0.06</td>\n      <td>0.01</td>\n      <td>0.01</td>\n      <td>0.01</td>\n      <td>0.00</td>\n      <td>0.00</td>\n      <td>0.00</td>\n    </tr>\n    <tr>\n      <th>12661</th>\n      <td>0</td>\n      <td>tcp</td>\n      <td>http</td>\n      <td>SF</td>\n      <td>317</td>\n      <td>938</td>\n      <td>0</td>\n      <td>0</td>\n      <td>0</td>\n      <td>0</td>\n      <td>...</td>\n      <td>197</td>\n      <td>255</td>\n      <td>1.00</td>\n      <td>0.00</td>\n      <td>0.01</td>\n      <td>0.01</td>\n      <td>0.01</td>\n      <td>0.00</td>\n      <td>0.00</td>\n      <td>0.00</td>\n    </tr>\n    <tr>\n      <th>12662</th>\n      <td>0</td>\n      <td>udp</td>\n      <td>domain_u</td>\n      <td>SF</td>\n      <td>42</td>\n      <td>42</td>\n      <td>0</td>\n      <td>0</td>\n      <td>0</td>\n      <td>0</td>\n      <td>...</td>\n      <td>255</td>\n      <td>252</td>\n      <td>0.99</td>\n      <td>0.01</td>\n      <td>0.00</td>\n      <td>0.00</td>\n      <td>0.00</td>\n      <td>0.00</td>\n      <td>0.00</td>\n      <td>0.00</td>\n    </tr>\n  </tbody>\n</table>\n<p>12663 rows × 40 columns</p>\n</div>"
     },
     "execution_count": 765,
     "metadata": {},
     "output_type": "execute_result"
    }
   ],
   "source": [
    "# do the same for test set\n",
    "df_test = df_test[df_test['label'].isin(normal_list+u2r_attacks+r2l_attacks)]\n",
    "\n",
    "y_test = np.array([0 if x=='normal' else 1 for x in df_test['label']])\n",
    "df_test = df_test.drop(['label'],axis=1)\n",
    "df_test = df_test.reset_index().drop(['index'], axis=1)\n",
    "df_test"
   ]
  },
  {
   "cell_type": "code",
   "execution_count": 766,
   "metadata": {
    "ExecuteTime": {
     "end_time": "2023-10-27T14:28:10.749768300Z",
     "start_time": "2023-10-27T14:28:10.560478300Z"
    }
   },
   "outputs": [
    {
     "data": {
      "text/plain": "       srv_count  urgent  root_shell  hot  dst_host_srv_diff_host_rate  \\\n0              1       0           0    0                         0.02   \n1              4       0           0    0                         0.03   \n2              3       0           0    0                         0.00   \n3              1       0           0    0                         0.00   \n4             47       0           0    0                         0.03   \n...          ...     ...         ...  ...                          ...   \n12658          1       0           0    0                         0.04   \n12659          3       0           0    0                         0.04   \n12660          1       0           0    0                         0.01   \n12661         11       0           0    0                         0.01   \n12662          6       0           0    0                         0.00   \n\n       dst_host_count  logged_in  dst_host_same_src_port_rate  \\\n0                 134          0                         0.61   \n1                 155          1                         0.01   \n2                 255          1                         0.00   \n3                 255          0                         0.00   \n4                 151          1                         0.01   \n...               ...        ...                          ...   \n12658              92          1                         0.01   \n12659               5          1                         0.20   \n12660             100          1                         0.01   \n12661             197          1                         0.01   \n12662             255          0                         0.00   \n\n       srv_diff_host_rate  num_shells  dst_host_srv_count  \n0                    0.00           0                  86  \n1                    0.00           0                 255  \n2                    1.00           0                  28  \n3                    0.00           0                 255  \n4                    0.04           0                 255  \n...                   ...         ...                 ...  \n12658                0.00           0                 255  \n12659                0.00           0                 255  \n12660                0.00           0                 141  \n12661                0.18           0                 255  \n12662                0.33           0                 252  \n\n[12663 rows x 11 columns]",
      "text/html": "<div>\n<style scoped>\n    .dataframe tbody tr th:only-of-type {\n        vertical-align: middle;\n    }\n\n    .dataframe tbody tr th {\n        vertical-align: top;\n    }\n\n    .dataframe thead th {\n        text-align: right;\n    }\n</style>\n<table border=\"1\" class=\"dataframe\">\n  <thead>\n    <tr style=\"text-align: right;\">\n      <th></th>\n      <th>srv_count</th>\n      <th>urgent</th>\n      <th>root_shell</th>\n      <th>hot</th>\n      <th>dst_host_srv_diff_host_rate</th>\n      <th>dst_host_count</th>\n      <th>logged_in</th>\n      <th>dst_host_same_src_port_rate</th>\n      <th>srv_diff_host_rate</th>\n      <th>num_shells</th>\n      <th>dst_host_srv_count</th>\n    </tr>\n  </thead>\n  <tbody>\n    <tr>\n      <th>0</th>\n      <td>1</td>\n      <td>0</td>\n      <td>0</td>\n      <td>0</td>\n      <td>0.02</td>\n      <td>134</td>\n      <td>0</td>\n      <td>0.61</td>\n      <td>0.00</td>\n      <td>0</td>\n      <td>86</td>\n    </tr>\n    <tr>\n      <th>1</th>\n      <td>4</td>\n      <td>0</td>\n      <td>0</td>\n      <td>0</td>\n      <td>0.03</td>\n      <td>155</td>\n      <td>1</td>\n      <td>0.01</td>\n      <td>0.00</td>\n      <td>0</td>\n      <td>255</td>\n    </tr>\n    <tr>\n      <th>2</th>\n      <td>3</td>\n      <td>0</td>\n      <td>0</td>\n      <td>0</td>\n      <td>0.00</td>\n      <td>255</td>\n      <td>1</td>\n      <td>0.00</td>\n      <td>1.00</td>\n      <td>0</td>\n      <td>28</td>\n    </tr>\n    <tr>\n      <th>3</th>\n      <td>1</td>\n      <td>0</td>\n      <td>0</td>\n      <td>0</td>\n      <td>0.00</td>\n      <td>255</td>\n      <td>0</td>\n      <td>0.00</td>\n      <td>0.00</td>\n      <td>0</td>\n      <td>255</td>\n    </tr>\n    <tr>\n      <th>4</th>\n      <td>47</td>\n      <td>0</td>\n      <td>0</td>\n      <td>0</td>\n      <td>0.03</td>\n      <td>151</td>\n      <td>1</td>\n      <td>0.01</td>\n      <td>0.04</td>\n      <td>0</td>\n      <td>255</td>\n    </tr>\n    <tr>\n      <th>...</th>\n      <td>...</td>\n      <td>...</td>\n      <td>...</td>\n      <td>...</td>\n      <td>...</td>\n      <td>...</td>\n      <td>...</td>\n      <td>...</td>\n      <td>...</td>\n      <td>...</td>\n      <td>...</td>\n    </tr>\n    <tr>\n      <th>12658</th>\n      <td>1</td>\n      <td>0</td>\n      <td>0</td>\n      <td>0</td>\n      <td>0.04</td>\n      <td>92</td>\n      <td>1</td>\n      <td>0.01</td>\n      <td>0.00</td>\n      <td>0</td>\n      <td>255</td>\n    </tr>\n    <tr>\n      <th>12659</th>\n      <td>3</td>\n      <td>0</td>\n      <td>0</td>\n      <td>0</td>\n      <td>0.04</td>\n      <td>5</td>\n      <td>1</td>\n      <td>0.20</td>\n      <td>0.00</td>\n      <td>0</td>\n      <td>255</td>\n    </tr>\n    <tr>\n      <th>12660</th>\n      <td>1</td>\n      <td>0</td>\n      <td>0</td>\n      <td>0</td>\n      <td>0.01</td>\n      <td>100</td>\n      <td>1</td>\n      <td>0.01</td>\n      <td>0.00</td>\n      <td>0</td>\n      <td>141</td>\n    </tr>\n    <tr>\n      <th>12661</th>\n      <td>11</td>\n      <td>0</td>\n      <td>0</td>\n      <td>0</td>\n      <td>0.01</td>\n      <td>197</td>\n      <td>1</td>\n      <td>0.01</td>\n      <td>0.18</td>\n      <td>0</td>\n      <td>255</td>\n    </tr>\n    <tr>\n      <th>12662</th>\n      <td>6</td>\n      <td>0</td>\n      <td>0</td>\n      <td>0</td>\n      <td>0.00</td>\n      <td>255</td>\n      <td>0</td>\n      <td>0.00</td>\n      <td>0.33</td>\n      <td>0</td>\n      <td>252</td>\n    </tr>\n  </tbody>\n</table>\n<p>12663 rows × 11 columns</p>\n</div>"
     },
     "execution_count": 766,
     "metadata": {},
     "output_type": "execute_result"
    }
   ],
   "source": [
    "X_test = df_test[common_features_l2] \n",
    "X_test"
   ]
  },
  {
   "cell_type": "code",
   "execution_count": 767,
   "metadata": {
    "ExecuteTime": {
     "end_time": "2023-10-27T14:28:10.781795200Z",
     "start_time": "2023-10-27T14:28:10.576253300Z"
    }
   },
   "outputs": [
    {
     "data": {
      "text/plain": "       srv_count  urgent  root_shell  hot  dst_host_srv_diff_host_rate  \\\n0       0.001957     0.0         0.0  0.0                         0.02   \n1       0.007828     0.0         0.0  0.0                         0.03   \n2       0.005871     0.0         0.0  0.0                         0.00   \n3       0.001957     0.0         0.0  0.0                         0.00   \n4       0.091977     0.0         0.0  0.0                         0.03   \n...          ...     ...         ...  ...                          ...   \n12658   0.001957     0.0         0.0  0.0                         0.04   \n12659   0.005871     0.0         0.0  0.0                         0.04   \n12660   0.001957     0.0         0.0  0.0                         0.01   \n12661   0.021526     0.0         0.0  0.0                         0.01   \n12662   0.011742     0.0         0.0  0.0                         0.00   \n\n       dst_host_count  logged_in  dst_host_same_src_port_rate  \\\n0            0.525490        0.0                         0.61   \n1            0.607843        1.0                         0.01   \n2            1.000000        1.0                         0.00   \n3            1.000000        0.0                         0.00   \n4            0.592157        1.0                         0.01   \n...               ...        ...                          ...   \n12658        0.360784        1.0                         0.01   \n12659        0.019608        1.0                         0.20   \n12660        0.392157        1.0                         0.01   \n12661        0.772549        1.0                         0.01   \n12662        1.000000        0.0                         0.00   \n\n       srv_diff_host_rate  num_shells  dst_host_srv_count  \n0                    0.00         0.0            0.337255  \n1                    0.00         0.0            1.000000  \n2                    1.00         0.0            0.109804  \n3                    0.00         0.0            1.000000  \n4                    0.04         0.0            1.000000  \n...                   ...         ...                 ...  \n12658                0.00         0.0            1.000000  \n12659                0.00         0.0            1.000000  \n12660                0.00         0.0            0.552941  \n12661                0.18         0.0            1.000000  \n12662                0.33         0.0            0.988235  \n\n[12663 rows x 11 columns]",
      "text/html": "<div>\n<style scoped>\n    .dataframe tbody tr th:only-of-type {\n        vertical-align: middle;\n    }\n\n    .dataframe tbody tr th {\n        vertical-align: top;\n    }\n\n    .dataframe thead th {\n        text-align: right;\n    }\n</style>\n<table border=\"1\" class=\"dataframe\">\n  <thead>\n    <tr style=\"text-align: right;\">\n      <th></th>\n      <th>srv_count</th>\n      <th>urgent</th>\n      <th>root_shell</th>\n      <th>hot</th>\n      <th>dst_host_srv_diff_host_rate</th>\n      <th>dst_host_count</th>\n      <th>logged_in</th>\n      <th>dst_host_same_src_port_rate</th>\n      <th>srv_diff_host_rate</th>\n      <th>num_shells</th>\n      <th>dst_host_srv_count</th>\n    </tr>\n  </thead>\n  <tbody>\n    <tr>\n      <th>0</th>\n      <td>0.001957</td>\n      <td>0.0</td>\n      <td>0.0</td>\n      <td>0.0</td>\n      <td>0.02</td>\n      <td>0.525490</td>\n      <td>0.0</td>\n      <td>0.61</td>\n      <td>0.00</td>\n      <td>0.0</td>\n      <td>0.337255</td>\n    </tr>\n    <tr>\n      <th>1</th>\n      <td>0.007828</td>\n      <td>0.0</td>\n      <td>0.0</td>\n      <td>0.0</td>\n      <td>0.03</td>\n      <td>0.607843</td>\n      <td>1.0</td>\n      <td>0.01</td>\n      <td>0.00</td>\n      <td>0.0</td>\n      <td>1.000000</td>\n    </tr>\n    <tr>\n      <th>2</th>\n      <td>0.005871</td>\n      <td>0.0</td>\n      <td>0.0</td>\n      <td>0.0</td>\n      <td>0.00</td>\n      <td>1.000000</td>\n      <td>1.0</td>\n      <td>0.00</td>\n      <td>1.00</td>\n      <td>0.0</td>\n      <td>0.109804</td>\n    </tr>\n    <tr>\n      <th>3</th>\n      <td>0.001957</td>\n      <td>0.0</td>\n      <td>0.0</td>\n      <td>0.0</td>\n      <td>0.00</td>\n      <td>1.000000</td>\n      <td>0.0</td>\n      <td>0.00</td>\n      <td>0.00</td>\n      <td>0.0</td>\n      <td>1.000000</td>\n    </tr>\n    <tr>\n      <th>4</th>\n      <td>0.091977</td>\n      <td>0.0</td>\n      <td>0.0</td>\n      <td>0.0</td>\n      <td>0.03</td>\n      <td>0.592157</td>\n      <td>1.0</td>\n      <td>0.01</td>\n      <td>0.04</td>\n      <td>0.0</td>\n      <td>1.000000</td>\n    </tr>\n    <tr>\n      <th>...</th>\n      <td>...</td>\n      <td>...</td>\n      <td>...</td>\n      <td>...</td>\n      <td>...</td>\n      <td>...</td>\n      <td>...</td>\n      <td>...</td>\n      <td>...</td>\n      <td>...</td>\n      <td>...</td>\n    </tr>\n    <tr>\n      <th>12658</th>\n      <td>0.001957</td>\n      <td>0.0</td>\n      <td>0.0</td>\n      <td>0.0</td>\n      <td>0.04</td>\n      <td>0.360784</td>\n      <td>1.0</td>\n      <td>0.01</td>\n      <td>0.00</td>\n      <td>0.0</td>\n      <td>1.000000</td>\n    </tr>\n    <tr>\n      <th>12659</th>\n      <td>0.005871</td>\n      <td>0.0</td>\n      <td>0.0</td>\n      <td>0.0</td>\n      <td>0.04</td>\n      <td>0.019608</td>\n      <td>1.0</td>\n      <td>0.20</td>\n      <td>0.00</td>\n      <td>0.0</td>\n      <td>1.000000</td>\n    </tr>\n    <tr>\n      <th>12660</th>\n      <td>0.001957</td>\n      <td>0.0</td>\n      <td>0.0</td>\n      <td>0.0</td>\n      <td>0.01</td>\n      <td>0.392157</td>\n      <td>1.0</td>\n      <td>0.01</td>\n      <td>0.00</td>\n      <td>0.0</td>\n      <td>0.552941</td>\n    </tr>\n    <tr>\n      <th>12661</th>\n      <td>0.021526</td>\n      <td>0.0</td>\n      <td>0.0</td>\n      <td>0.0</td>\n      <td>0.01</td>\n      <td>0.772549</td>\n      <td>1.0</td>\n      <td>0.01</td>\n      <td>0.18</td>\n      <td>0.0</td>\n      <td>1.000000</td>\n    </tr>\n    <tr>\n      <th>12662</th>\n      <td>0.011742</td>\n      <td>0.0</td>\n      <td>0.0</td>\n      <td>0.0</td>\n      <td>0.00</td>\n      <td>1.000000</td>\n      <td>0.0</td>\n      <td>0.00</td>\n      <td>0.33</td>\n      <td>0.0</td>\n      <td>0.988235</td>\n    </tr>\n  </tbody>\n</table>\n<p>12663 rows × 11 columns</p>\n</div>"
     },
     "execution_count": 767,
     "metadata": {},
     "output_type": "execute_result"
    }
   ],
   "source": [
    "df_minmax = scaler2.transform(X_test)\n",
    "X_test = pd.DataFrame(df_minmax, columns=X_test.columns)\n",
    "X_test"
   ]
  },
  {
   "cell_type": "code",
   "execution_count": 768,
   "metadata": {
    "ExecuteTime": {
     "end_time": "2023-10-27T14:28:10.923314600Z",
     "start_time": "2023-10-27T14:28:10.607905400Z"
    }
   },
   "outputs": [
    {
     "data": {
      "text/plain": "       srv_count  urgent  root_shell  hot  dst_host_srv_diff_host_rate  \\\n0       0.001957     0.0         0.0  0.0                         0.02   \n1       0.007828     0.0         0.0  0.0                         0.03   \n2       0.005871     0.0         0.0  0.0                         0.00   \n3       0.001957     0.0         0.0  0.0                         0.00   \n4       0.091977     0.0         0.0  0.0                         0.03   \n...          ...     ...         ...  ...                          ...   \n12658   0.001957     0.0         0.0  0.0                         0.04   \n12659   0.005871     0.0         0.0  0.0                         0.04   \n12660   0.001957     0.0         0.0  0.0                         0.01   \n12661   0.021526     0.0         0.0  0.0                         0.01   \n12662   0.011742     0.0         0.0  0.0                         0.00   \n\n       dst_host_count  logged_in  dst_host_same_src_port_rate  \\\n0            0.525490        0.0                         0.61   \n1            0.607843        1.0                         0.01   \n2            1.000000        1.0                         0.00   \n3            1.000000        0.0                         0.00   \n4            0.592157        1.0                         0.01   \n...               ...        ...                          ...   \n12658        0.360784        1.0                         0.01   \n12659        0.019608        1.0                         0.20   \n12660        0.392157        1.0                         0.01   \n12661        0.772549        1.0                         0.01   \n12662        1.000000        0.0                         0.00   \n\n       srv_diff_host_rate  num_shells  ...  flag_OTH  flag_REJ  flag_RSTO  \\\n0                    0.00         0.0  ...       0.0       0.0        0.0   \n1                    0.00         0.0  ...       0.0       0.0        0.0   \n2                    1.00         0.0  ...       0.0       0.0        0.0   \n3                    0.00         0.0  ...       0.0       0.0        0.0   \n4                    0.04         0.0  ...       0.0       0.0        0.0   \n...                   ...         ...  ...       ...       ...        ...   \n12658                0.00         0.0  ...       0.0       0.0        0.0   \n12659                0.00         0.0  ...       0.0       0.0        0.0   \n12660                0.00         0.0  ...       0.0       0.0        0.0   \n12661                0.18         0.0  ...       0.0       0.0        0.0   \n12662                0.33         0.0  ...       0.0       0.0        0.0   \n\n       flag_RSTR  flag_S0  flag_S1  flag_S2  flag_S3  flag_SF  flag_SH  \n0            0.0      0.0      0.0      0.0      0.0      1.0      0.0  \n1            0.0      0.0      0.0      0.0      0.0      1.0      0.0  \n2            0.0      0.0      0.0      0.0      0.0      1.0      0.0  \n3            0.0      0.0      0.0      0.0      0.0      1.0      0.0  \n4            0.0      0.0      0.0      0.0      0.0      1.0      0.0  \n...          ...      ...      ...      ...      ...      ...      ...  \n12658        0.0      0.0      0.0      0.0      0.0      1.0      0.0  \n12659        0.0      0.0      0.0      0.0      0.0      1.0      0.0  \n12660        0.0      0.0      0.0      0.0      0.0      1.0      0.0  \n12661        0.0      0.0      0.0      0.0      0.0      1.0      0.0  \n12662        0.0      0.0      0.0      0.0      0.0      1.0      0.0  \n\n[12663 rows x 51 columns]",
      "text/html": "<div>\n<style scoped>\n    .dataframe tbody tr th:only-of-type {\n        vertical-align: middle;\n    }\n\n    .dataframe tbody tr th {\n        vertical-align: top;\n    }\n\n    .dataframe thead th {\n        text-align: right;\n    }\n</style>\n<table border=\"1\" class=\"dataframe\">\n  <thead>\n    <tr style=\"text-align: right;\">\n      <th></th>\n      <th>srv_count</th>\n      <th>urgent</th>\n      <th>root_shell</th>\n      <th>hot</th>\n      <th>dst_host_srv_diff_host_rate</th>\n      <th>dst_host_count</th>\n      <th>logged_in</th>\n      <th>dst_host_same_src_port_rate</th>\n      <th>srv_diff_host_rate</th>\n      <th>num_shells</th>\n      <th>...</th>\n      <th>flag_OTH</th>\n      <th>flag_REJ</th>\n      <th>flag_RSTO</th>\n      <th>flag_RSTR</th>\n      <th>flag_S0</th>\n      <th>flag_S1</th>\n      <th>flag_S2</th>\n      <th>flag_S3</th>\n      <th>flag_SF</th>\n      <th>flag_SH</th>\n    </tr>\n  </thead>\n  <tbody>\n    <tr>\n      <th>0</th>\n      <td>0.001957</td>\n      <td>0.0</td>\n      <td>0.0</td>\n      <td>0.0</td>\n      <td>0.02</td>\n      <td>0.525490</td>\n      <td>0.0</td>\n      <td>0.61</td>\n      <td>0.00</td>\n      <td>0.0</td>\n      <td>...</td>\n      <td>0.0</td>\n      <td>0.0</td>\n      <td>0.0</td>\n      <td>0.0</td>\n      <td>0.0</td>\n      <td>0.0</td>\n      <td>0.0</td>\n      <td>0.0</td>\n      <td>1.0</td>\n      <td>0.0</td>\n    </tr>\n    <tr>\n      <th>1</th>\n      <td>0.007828</td>\n      <td>0.0</td>\n      <td>0.0</td>\n      <td>0.0</td>\n      <td>0.03</td>\n      <td>0.607843</td>\n      <td>1.0</td>\n      <td>0.01</td>\n      <td>0.00</td>\n      <td>0.0</td>\n      <td>...</td>\n      <td>0.0</td>\n      <td>0.0</td>\n      <td>0.0</td>\n      <td>0.0</td>\n      <td>0.0</td>\n      <td>0.0</td>\n      <td>0.0</td>\n      <td>0.0</td>\n      <td>1.0</td>\n      <td>0.0</td>\n    </tr>\n    <tr>\n      <th>2</th>\n      <td>0.005871</td>\n      <td>0.0</td>\n      <td>0.0</td>\n      <td>0.0</td>\n      <td>0.00</td>\n      <td>1.000000</td>\n      <td>1.0</td>\n      <td>0.00</td>\n      <td>1.00</td>\n      <td>0.0</td>\n      <td>...</td>\n      <td>0.0</td>\n      <td>0.0</td>\n      <td>0.0</td>\n      <td>0.0</td>\n      <td>0.0</td>\n      <td>0.0</td>\n      <td>0.0</td>\n      <td>0.0</td>\n      <td>1.0</td>\n      <td>0.0</td>\n    </tr>\n    <tr>\n      <th>3</th>\n      <td>0.001957</td>\n      <td>0.0</td>\n      <td>0.0</td>\n      <td>0.0</td>\n      <td>0.00</td>\n      <td>1.000000</td>\n      <td>0.0</td>\n      <td>0.00</td>\n      <td>0.00</td>\n      <td>0.0</td>\n      <td>...</td>\n      <td>0.0</td>\n      <td>0.0</td>\n      <td>0.0</td>\n      <td>0.0</td>\n      <td>0.0</td>\n      <td>0.0</td>\n      <td>0.0</td>\n      <td>0.0</td>\n      <td>1.0</td>\n      <td>0.0</td>\n    </tr>\n    <tr>\n      <th>4</th>\n      <td>0.091977</td>\n      <td>0.0</td>\n      <td>0.0</td>\n      <td>0.0</td>\n      <td>0.03</td>\n      <td>0.592157</td>\n      <td>1.0</td>\n      <td>0.01</td>\n      <td>0.04</td>\n      <td>0.0</td>\n      <td>...</td>\n      <td>0.0</td>\n      <td>0.0</td>\n      <td>0.0</td>\n      <td>0.0</td>\n      <td>0.0</td>\n      <td>0.0</td>\n      <td>0.0</td>\n      <td>0.0</td>\n      <td>1.0</td>\n      <td>0.0</td>\n    </tr>\n    <tr>\n      <th>...</th>\n      <td>...</td>\n      <td>...</td>\n      <td>...</td>\n      <td>...</td>\n      <td>...</td>\n      <td>...</td>\n      <td>...</td>\n      <td>...</td>\n      <td>...</td>\n      <td>...</td>\n      <td>...</td>\n      <td>...</td>\n      <td>...</td>\n      <td>...</td>\n      <td>...</td>\n      <td>...</td>\n      <td>...</td>\n      <td>...</td>\n      <td>...</td>\n      <td>...</td>\n      <td>...</td>\n    </tr>\n    <tr>\n      <th>12658</th>\n      <td>0.001957</td>\n      <td>0.0</td>\n      <td>0.0</td>\n      <td>0.0</td>\n      <td>0.04</td>\n      <td>0.360784</td>\n      <td>1.0</td>\n      <td>0.01</td>\n      <td>0.00</td>\n      <td>0.0</td>\n      <td>...</td>\n      <td>0.0</td>\n      <td>0.0</td>\n      <td>0.0</td>\n      <td>0.0</td>\n      <td>0.0</td>\n      <td>0.0</td>\n      <td>0.0</td>\n      <td>0.0</td>\n      <td>1.0</td>\n      <td>0.0</td>\n    </tr>\n    <tr>\n      <th>12659</th>\n      <td>0.005871</td>\n      <td>0.0</td>\n      <td>0.0</td>\n      <td>0.0</td>\n      <td>0.04</td>\n      <td>0.019608</td>\n      <td>1.0</td>\n      <td>0.20</td>\n      <td>0.00</td>\n      <td>0.0</td>\n      <td>...</td>\n      <td>0.0</td>\n      <td>0.0</td>\n      <td>0.0</td>\n      <td>0.0</td>\n      <td>0.0</td>\n      <td>0.0</td>\n      <td>0.0</td>\n      <td>0.0</td>\n      <td>1.0</td>\n      <td>0.0</td>\n    </tr>\n    <tr>\n      <th>12660</th>\n      <td>0.001957</td>\n      <td>0.0</td>\n      <td>0.0</td>\n      <td>0.0</td>\n      <td>0.01</td>\n      <td>0.392157</td>\n      <td>1.0</td>\n      <td>0.01</td>\n      <td>0.00</td>\n      <td>0.0</td>\n      <td>...</td>\n      <td>0.0</td>\n      <td>0.0</td>\n      <td>0.0</td>\n      <td>0.0</td>\n      <td>0.0</td>\n      <td>0.0</td>\n      <td>0.0</td>\n      <td>0.0</td>\n      <td>1.0</td>\n      <td>0.0</td>\n    </tr>\n    <tr>\n      <th>12661</th>\n      <td>0.021526</td>\n      <td>0.0</td>\n      <td>0.0</td>\n      <td>0.0</td>\n      <td>0.01</td>\n      <td>0.772549</td>\n      <td>1.0</td>\n      <td>0.01</td>\n      <td>0.18</td>\n      <td>0.0</td>\n      <td>...</td>\n      <td>0.0</td>\n      <td>0.0</td>\n      <td>0.0</td>\n      <td>0.0</td>\n      <td>0.0</td>\n      <td>0.0</td>\n      <td>0.0</td>\n      <td>0.0</td>\n      <td>1.0</td>\n      <td>0.0</td>\n    </tr>\n    <tr>\n      <th>12662</th>\n      <td>0.011742</td>\n      <td>0.0</td>\n      <td>0.0</td>\n      <td>0.0</td>\n      <td>0.00</td>\n      <td>1.000000</td>\n      <td>0.0</td>\n      <td>0.00</td>\n      <td>0.33</td>\n      <td>0.0</td>\n      <td>...</td>\n      <td>0.0</td>\n      <td>0.0</td>\n      <td>0.0</td>\n      <td>0.0</td>\n      <td>0.0</td>\n      <td>0.0</td>\n      <td>0.0</td>\n      <td>0.0</td>\n      <td>1.0</td>\n      <td>0.0</td>\n    </tr>\n  </tbody>\n</table>\n<p>12663 rows × 51 columns</p>\n</div>"
     },
     "execution_count": 768,
     "metadata": {},
     "output_type": "execute_result"
    }
   ],
   "source": [
    "label_enc = ohe2.transform(df_test.iloc[:,1:4])\n",
    "label_enc.toarray()\n",
    "new_labels = ohe2.get_feature_names_out(categorical_features)\n",
    "df_enc = pd.DataFrame(data=label_enc.toarray(), columns=new_labels)\n",
    "X_test = pd.concat([X_test, df_enc], axis=1)\n",
    "X_test"
   ]
  },
  {
   "cell_type": "code",
   "execution_count": 769,
   "metadata": {
    "ExecuteTime": {
     "end_time": "2023-10-27T14:28:10.938622Z",
     "start_time": "2023-10-27T14:28:10.650982200Z"
    }
   },
   "outputs": [
    {
     "name": "stdout",
     "output_type": "stream",
     "text": [
      "Shape of the train set:  (54733, 51)\n",
      "Shape of its target:  (54733,)\n",
      "Shape of the test set:  (12663, 51)\n",
      "Shape of its target:  (12663,)\n"
     ]
    }
   ],
   "source": [
    "print('Shape of the train set: ', X_train.shape)\n",
    "print('Shape of its target: ', y_train.shape)\n",
    "print('Shape of the test set: ', X_test.shape)\n",
    "print('Shape of its target: ', y_test.shape)"
   ]
  },
  {
   "cell_type": "code",
   "execution_count": 770,
   "outputs": [],
   "source": [
    "# Under sampling the train set for l2\n",
    "sm = under_sam(sampling_strategy=1)\n",
    "X_train, y_train = sm.fit_resample(X_train,y_train)"
   ],
   "metadata": {
    "collapsed": false,
    "ExecuteTime": {
     "end_time": "2023-10-27T14:28:11.001122400Z",
     "start_time": "2023-10-27T14:28:10.656683800Z"
    }
   }
  },
  {
   "cell_type": "markdown",
   "source": [
    "## Export the datasets\n",
    "Train set has been scaled, one hot encoded, undersampled\n",
    "Test set has been scaled and one hot encoded"
   ],
   "metadata": {
    "collapsed": false
   }
  },
  {
   "cell_type": "code",
   "execution_count": 771,
   "outputs": [],
   "source": [
    "# Export the dataset for training layer 2\n",
    "if EXPORT_DATASETS:\n",
    "    X_train.to_csv('NSL-KDD Encoded Datasets/before_pca/KDDTrain+_l2.txt', index=False)\n",
    "    np.save('NSL-KDD Encoded Datasets/before_pca/KDDTrain+_l2_targets', y_train)\n",
    "    X_validate.to_csv('NSL-KDD Encoded Datasets/before_pca/KDDValidate+_l2.txt', index=False)\n",
    "    np.save('NSL-KDD Encoded Datasets/before_pca/KDDValidate+_l2_targets', y_train)"
   ],
   "metadata": {
    "collapsed": false,
    "ExecuteTime": {
     "end_time": "2023-10-27T14:28:11.303909700Z",
     "start_time": "2023-10-27T14:28:10.676701900Z"
    }
   }
  },
  {
   "cell_type": "code",
   "execution_count": 772,
   "outputs": [],
   "source": [
    "from sklearn import tree\n",
    "\n",
    "# Principal Component Analysis\n",
    "pca_r2l_u2r = PCA(n_components=0.95)\n",
    "X_train_r2l_u2r = pca_r2l_u2r.fit_transform(X_train)\n",
    "X_test_r2l_u2r = pca_r2l_u2r.transform(X_test)\n",
    "X_validate_r2l_u2r = pca_r2l_u2r.transform(X_validate)\n",
    "\n",
    "# Try also Decision Trees\n",
    "# r2l_u2r_classifier = tree.DecisionTreeClassifier()\n",
    "\n",
    "# Support Vector Machine for layer l2\n",
    "r2l_u2r_classifier = SVC(C=0.1, gamma=0.01, kernel='rbf')\n",
    "r2l_u2r_classifier.fit(X_train_r2l_u2r, y_train)\n",
    "predicted = r2l_u2r_classifier.predict(X_test_r2l_u2r)"
   ],
   "metadata": {
    "collapsed": false,
    "ExecuteTime": {
     "end_time": "2023-10-27T14:28:12.890698200Z",
     "start_time": "2023-10-27T14:28:11.080595500Z"
    }
   }
  },
  {
   "cell_type": "code",
   "execution_count": 773,
   "outputs": [],
   "source": [
    "if EXPORT_PCA:\n",
    "    # save the pca transformed as well as the transformer\n",
    "    joblib.dump(X_test_r2l_u2r, 'NSL-KDD Encoded Datasets/pca_transformed/pca_test2.pkl')\n",
    "    joblib.dump(X_train_r2l_u2r, 'NSL-KDD Encoded Datasets/pca_transformed/pca_train2.pkl')\n",
    "    joblib.dump(X_train_r2l_u2r, 'NSL-KDD Encoded Datasets/pca_transformed/pca_validate2.pkl')\n",
    "    joblib.dump(pca_r2l_u2r, 'NSL-KDD Encoded Datasets/pca_transformed/layer2_transformer.pkl')"
   ],
   "metadata": {
    "collapsed": false,
    "ExecuteTime": {
     "end_time": "2023-10-27T14:28:12.913207200Z",
     "start_time": "2023-10-27T14:28:12.890698200Z"
    }
   }
  },
  {
   "cell_type": "code",
   "execution_count": 774,
   "outputs": [
    {
     "name": "stdout",
     "output_type": "stream",
     "text": [
      "Metrics for layer 2:\n",
      "Confusion matrix: [TP FN / FP TN]\n",
      " [[9079  632]\n",
      " [1530 1422]]\n",
      "Accuracy =  0.8292663665797995\n",
      "F1 Score =  0.5681182580902916\n",
      "Precision =  0.6923076923076923\n",
      "Recall =  0.4817073170731707\n",
      "Matthew corr =  0.4778587906703902\n",
      "Shape of the training set:  (1624, 13)\n"
     ]
    }
   ],
   "source": [
    "print('Metrics for layer 2:')\n",
    "print('Confusion matrix: [TP FN / FP TN]\\n', confusion_matrix(y_test,predicted))\n",
    "print('Accuracy = ', accuracy_score(y_test,predicted))\n",
    "print('F1 Score = ', f1_score(y_test,predicted))\n",
    "print('Precision = ', precision_score(y_test,predicted))\n",
    "print('Recall = ', recall_score(y_test,predicted))\n",
    "print('Matthew corr = ', matthews_corrcoef(y_test,predicted))\n",
    "print('Shape of the training set: ', X_train_r2l_u2r.shape)"
   ],
   "metadata": {
    "collapsed": false,
    "ExecuteTime": {
     "end_time": "2023-10-27T14:28:12.969775Z",
     "start_time": "2023-10-27T14:28:12.903632Z"
    }
   }
  },
  {
   "cell_type": "markdown",
   "source": [
    "### Export the classifiers"
   ],
   "metadata": {
    "collapsed": false
   }
  },
  {
   "cell_type": "code",
   "execution_count": 775,
   "outputs": [],
   "source": [
    "if EXPORT_MODELS:\n",
    "    with open('Models/NSL_l1_classifier.pkl', \"wb\") as f:\n",
    "        pickle.dump(dos_probe_classifier, f)\n",
    "    with open('Models/NSL_l2_classifier.pkl', \"wb\") as f:\n",
    "        pickle.dump(r2l_u2r_classifier, f)"
   ],
   "metadata": {
    "collapsed": false,
    "ExecuteTime": {
     "end_time": "2023-10-27T14:28:12.969775Z",
     "start_time": "2023-10-27T14:28:12.961651400Z"
    }
   }
  },
  {
   "cell_type": "markdown",
   "metadata": {},
   "source": [
    "# Testing"
   ]
  },
  {
   "cell_type": "code",
   "execution_count": 776,
   "metadata": {
    "ExecuteTime": {
     "end_time": "2023-10-27T14:28:13.007396100Z",
     "start_time": "2023-10-27T14:28:12.969775Z"
    }
   },
   "outputs": [
    {
     "data": {
      "text/plain": "       duration protocol_type   service  flag  src_bytes  dst_bytes  land  \\\n0             0           tcp   private   REJ          0          0     0   \n1             0           tcp   private   REJ          0          0     0   \n2             2           tcp  ftp_data    SF      12983          0     0   \n3             0          icmp     eco_i    SF         20          0     0   \n4             1           tcp    telnet  RSTO          0         15     0   \n...         ...           ...       ...   ...        ...        ...   ...   \n22539         0           tcp      smtp    SF        794        333     0   \n22540         0           tcp      http    SF        317        938     0   \n22541         0           tcp      http    SF      54540       8314     0   \n22542         0           udp  domain_u    SF         42         42     0   \n22543         0           tcp    sunrpc   REJ          0          0     0   \n\n       wrong_fragment  urgent  hot  ...  dst_host_srv_count  \\\n0                   0       0    0  ...                  10   \n1                   0       0    0  ...                   1   \n2                   0       0    0  ...                  86   \n3                   0       0    0  ...                  57   \n4                   0       0    0  ...                  86   \n...               ...     ...  ...  ...                 ...   \n22539               0       0    0  ...                 141   \n22540               0       0    0  ...                 255   \n22541               0       0    2  ...                 255   \n22542               0       0    0  ...                 252   \n22543               0       0    0  ...                  21   \n\n       dst_host_same_srv_rate  dst_host_diff_srv_rate  \\\n0                        0.04                    0.06   \n1                        0.00                    0.06   \n2                        0.61                    0.04   \n3                        1.00                    0.00   \n4                        0.31                    0.17   \n...                       ...                     ...   \n22539                    0.72                    0.06   \n22540                    1.00                    0.00   \n22541                    1.00                    0.00   \n22542                    0.99                    0.01   \n22543                    0.08                    0.03   \n\n       dst_host_same_src_port_rate  dst_host_srv_diff_host_rate  \\\n0                             0.00                         0.00   \n1                             0.00                         0.00   \n2                             0.61                         0.02   \n3                             1.00                         0.28   \n4                             0.03                         0.02   \n...                            ...                          ...   \n22539                         0.01                         0.01   \n22540                         0.01                         0.01   \n22541                         0.00                         0.00   \n22542                         0.00                         0.00   \n22543                         0.00                         0.00   \n\n       dst_host_serror_rate  dst_host_srv_serror_rate  dst_host_rerror_rate  \\\n0                      0.00                       0.0                  1.00   \n1                      0.00                       0.0                  1.00   \n2                      0.00                       0.0                  0.00   \n3                      0.00                       0.0                  0.00   \n4                      0.00                       0.0                  0.83   \n...                     ...                       ...                   ...   \n22539                  0.01                       0.0                  0.00   \n22540                  0.01                       0.0                  0.00   \n22541                  0.00                       0.0                  0.07   \n22542                  0.00                       0.0                  0.00   \n22543                  0.00                       0.0                  0.44   \n\n       dst_host_srv_rerror_rate    label  \n0                          1.00  neptune  \n1                          1.00  neptune  \n2                          0.00   normal  \n3                          0.00    saint  \n4                          0.71    mscan  \n...                         ...      ...  \n22539                      0.00   normal  \n22540                      0.00   normal  \n22541                      0.07     back  \n22542                      0.00   normal  \n22543                      1.00    mscan  \n\n[22544 rows x 41 columns]",
      "text/html": "<div>\n<style scoped>\n    .dataframe tbody tr th:only-of-type {\n        vertical-align: middle;\n    }\n\n    .dataframe tbody tr th {\n        vertical-align: top;\n    }\n\n    .dataframe thead th {\n        text-align: right;\n    }\n</style>\n<table border=\"1\" class=\"dataframe\">\n  <thead>\n    <tr style=\"text-align: right;\">\n      <th></th>\n      <th>duration</th>\n      <th>protocol_type</th>\n      <th>service</th>\n      <th>flag</th>\n      <th>src_bytes</th>\n      <th>dst_bytes</th>\n      <th>land</th>\n      <th>wrong_fragment</th>\n      <th>urgent</th>\n      <th>hot</th>\n      <th>...</th>\n      <th>dst_host_srv_count</th>\n      <th>dst_host_same_srv_rate</th>\n      <th>dst_host_diff_srv_rate</th>\n      <th>dst_host_same_src_port_rate</th>\n      <th>dst_host_srv_diff_host_rate</th>\n      <th>dst_host_serror_rate</th>\n      <th>dst_host_srv_serror_rate</th>\n      <th>dst_host_rerror_rate</th>\n      <th>dst_host_srv_rerror_rate</th>\n      <th>label</th>\n    </tr>\n  </thead>\n  <tbody>\n    <tr>\n      <th>0</th>\n      <td>0</td>\n      <td>tcp</td>\n      <td>private</td>\n      <td>REJ</td>\n      <td>0</td>\n      <td>0</td>\n      <td>0</td>\n      <td>0</td>\n      <td>0</td>\n      <td>0</td>\n      <td>...</td>\n      <td>10</td>\n      <td>0.04</td>\n      <td>0.06</td>\n      <td>0.00</td>\n      <td>0.00</td>\n      <td>0.00</td>\n      <td>0.0</td>\n      <td>1.00</td>\n      <td>1.00</td>\n      <td>neptune</td>\n    </tr>\n    <tr>\n      <th>1</th>\n      <td>0</td>\n      <td>tcp</td>\n      <td>private</td>\n      <td>REJ</td>\n      <td>0</td>\n      <td>0</td>\n      <td>0</td>\n      <td>0</td>\n      <td>0</td>\n      <td>0</td>\n      <td>...</td>\n      <td>1</td>\n      <td>0.00</td>\n      <td>0.06</td>\n      <td>0.00</td>\n      <td>0.00</td>\n      <td>0.00</td>\n      <td>0.0</td>\n      <td>1.00</td>\n      <td>1.00</td>\n      <td>neptune</td>\n    </tr>\n    <tr>\n      <th>2</th>\n      <td>2</td>\n      <td>tcp</td>\n      <td>ftp_data</td>\n      <td>SF</td>\n      <td>12983</td>\n      <td>0</td>\n      <td>0</td>\n      <td>0</td>\n      <td>0</td>\n      <td>0</td>\n      <td>...</td>\n      <td>86</td>\n      <td>0.61</td>\n      <td>0.04</td>\n      <td>0.61</td>\n      <td>0.02</td>\n      <td>0.00</td>\n      <td>0.0</td>\n      <td>0.00</td>\n      <td>0.00</td>\n      <td>normal</td>\n    </tr>\n    <tr>\n      <th>3</th>\n      <td>0</td>\n      <td>icmp</td>\n      <td>eco_i</td>\n      <td>SF</td>\n      <td>20</td>\n      <td>0</td>\n      <td>0</td>\n      <td>0</td>\n      <td>0</td>\n      <td>0</td>\n      <td>...</td>\n      <td>57</td>\n      <td>1.00</td>\n      <td>0.00</td>\n      <td>1.00</td>\n      <td>0.28</td>\n      <td>0.00</td>\n      <td>0.0</td>\n      <td>0.00</td>\n      <td>0.00</td>\n      <td>saint</td>\n    </tr>\n    <tr>\n      <th>4</th>\n      <td>1</td>\n      <td>tcp</td>\n      <td>telnet</td>\n      <td>RSTO</td>\n      <td>0</td>\n      <td>15</td>\n      <td>0</td>\n      <td>0</td>\n      <td>0</td>\n      <td>0</td>\n      <td>...</td>\n      <td>86</td>\n      <td>0.31</td>\n      <td>0.17</td>\n      <td>0.03</td>\n      <td>0.02</td>\n      <td>0.00</td>\n      <td>0.0</td>\n      <td>0.83</td>\n      <td>0.71</td>\n      <td>mscan</td>\n    </tr>\n    <tr>\n      <th>...</th>\n      <td>...</td>\n      <td>...</td>\n      <td>...</td>\n      <td>...</td>\n      <td>...</td>\n      <td>...</td>\n      <td>...</td>\n      <td>...</td>\n      <td>...</td>\n      <td>...</td>\n      <td>...</td>\n      <td>...</td>\n      <td>...</td>\n      <td>...</td>\n      <td>...</td>\n      <td>...</td>\n      <td>...</td>\n      <td>...</td>\n      <td>...</td>\n      <td>...</td>\n      <td>...</td>\n    </tr>\n    <tr>\n      <th>22539</th>\n      <td>0</td>\n      <td>tcp</td>\n      <td>smtp</td>\n      <td>SF</td>\n      <td>794</td>\n      <td>333</td>\n      <td>0</td>\n      <td>0</td>\n      <td>0</td>\n      <td>0</td>\n      <td>...</td>\n      <td>141</td>\n      <td>0.72</td>\n      <td>0.06</td>\n      <td>0.01</td>\n      <td>0.01</td>\n      <td>0.01</td>\n      <td>0.0</td>\n      <td>0.00</td>\n      <td>0.00</td>\n      <td>normal</td>\n    </tr>\n    <tr>\n      <th>22540</th>\n      <td>0</td>\n      <td>tcp</td>\n      <td>http</td>\n      <td>SF</td>\n      <td>317</td>\n      <td>938</td>\n      <td>0</td>\n      <td>0</td>\n      <td>0</td>\n      <td>0</td>\n      <td>...</td>\n      <td>255</td>\n      <td>1.00</td>\n      <td>0.00</td>\n      <td>0.01</td>\n      <td>0.01</td>\n      <td>0.01</td>\n      <td>0.0</td>\n      <td>0.00</td>\n      <td>0.00</td>\n      <td>normal</td>\n    </tr>\n    <tr>\n      <th>22541</th>\n      <td>0</td>\n      <td>tcp</td>\n      <td>http</td>\n      <td>SF</td>\n      <td>54540</td>\n      <td>8314</td>\n      <td>0</td>\n      <td>0</td>\n      <td>0</td>\n      <td>2</td>\n      <td>...</td>\n      <td>255</td>\n      <td>1.00</td>\n      <td>0.00</td>\n      <td>0.00</td>\n      <td>0.00</td>\n      <td>0.00</td>\n      <td>0.0</td>\n      <td>0.07</td>\n      <td>0.07</td>\n      <td>back</td>\n    </tr>\n    <tr>\n      <th>22542</th>\n      <td>0</td>\n      <td>udp</td>\n      <td>domain_u</td>\n      <td>SF</td>\n      <td>42</td>\n      <td>42</td>\n      <td>0</td>\n      <td>0</td>\n      <td>0</td>\n      <td>0</td>\n      <td>...</td>\n      <td>252</td>\n      <td>0.99</td>\n      <td>0.01</td>\n      <td>0.00</td>\n      <td>0.00</td>\n      <td>0.00</td>\n      <td>0.0</td>\n      <td>0.00</td>\n      <td>0.00</td>\n      <td>normal</td>\n    </tr>\n    <tr>\n      <th>22543</th>\n      <td>0</td>\n      <td>tcp</td>\n      <td>sunrpc</td>\n      <td>REJ</td>\n      <td>0</td>\n      <td>0</td>\n      <td>0</td>\n      <td>0</td>\n      <td>0</td>\n      <td>0</td>\n      <td>...</td>\n      <td>21</td>\n      <td>0.08</td>\n      <td>0.03</td>\n      <td>0.00</td>\n      <td>0.00</td>\n      <td>0.00</td>\n      <td>0.0</td>\n      <td>0.44</td>\n      <td>1.00</td>\n      <td>mscan</td>\n    </tr>\n  </tbody>\n</table>\n<p>22544 rows × 41 columns</p>\n</div>"
     },
     "execution_count": 776,
     "metadata": {},
     "output_type": "execute_result"
    }
   ],
   "source": [
    "df_test1 = copy.deepcopy(df_test_original)\n",
    "df_test2 = copy.deepcopy(df_test_original)\n",
    "y_test_real = np.array([0 if x=='normal' else 1 for x in df_test1['label']])\n",
    "df_test_original"
   ]
  },
  {
   "cell_type": "code",
   "execution_count": 777,
   "outputs": [
    {
     "data": {
      "text/plain": "       logged_in  count  serror_rate  rerror_rate  srv_rerror_rate  \\\n0              0    229          0.0          1.0              1.0   \n1              0    136          0.0          1.0              1.0   \n2              0      1          0.0          0.0              0.0   \n3              0      1          0.0          0.0              0.0   \n4              0      1          0.0          1.0              0.5   \n...          ...    ...          ...          ...              ...   \n22539          1      1          0.0          0.0              0.0   \n22540          1      2          0.0          0.0              0.0   \n22541          1      5          0.0          0.0              0.0   \n22542          0      4          0.0          0.0              0.0   \n22543          0      4          0.0          1.0              1.0   \n\n       same_srv_rate  diff_srv_rate  srv_diff_host_rate  dst_host_srv_count  \\\n0               0.04           0.06                0.00                  10   \n1               0.01           0.06                0.00                   1   \n2               1.00           0.00                0.00                  86   \n3               1.00           0.00                1.00                  57   \n4               1.00           0.00                0.75                  86   \n...              ...            ...                 ...                 ...   \n22539           1.00           0.00                0.00                 141   \n22540           1.00           0.00                0.18                 255   \n22541           1.00           0.00                0.20                 255   \n22542           1.00           0.00                0.33                 252   \n22543           0.25           1.00                1.00                  21   \n\n       dst_host_same_srv_rate  dst_host_diff_srv_rate  \\\n0                        0.04                    0.06   \n1                        0.00                    0.06   \n2                        0.61                    0.04   \n3                        1.00                    0.00   \n4                        0.31                    0.17   \n...                       ...                     ...   \n22539                    0.72                    0.06   \n22540                    1.00                    0.00   \n22541                    1.00                    0.00   \n22542                    0.99                    0.01   \n22543                    0.08                    0.03   \n\n       dst_host_same_src_port_rate  dst_host_srv_diff_host_rate  \\\n0                             0.00                         0.00   \n1                             0.00                         0.00   \n2                             0.61                         0.02   \n3                             1.00                         0.28   \n4                             0.03                         0.02   \n...                            ...                          ...   \n22539                         0.01                         0.01   \n22540                         0.01                         0.01   \n22541                         0.00                         0.00   \n22542                         0.00                         0.00   \n22543                         0.00                         0.00   \n\n       dst_host_serror_rate  dst_host_srv_serror_rate  \\\n0                      0.00                       0.0   \n1                      0.00                       0.0   \n2                      0.00                       0.0   \n3                      0.00                       0.0   \n4                      0.00                       0.0   \n...                     ...                       ...   \n22539                  0.01                       0.0   \n22540                  0.01                       0.0   \n22541                  0.00                       0.0   \n22542                  0.00                       0.0   \n22543                  0.00                       0.0   \n\n       dst_host_srv_rerror_rate  dst_host_rerror_rate  \n0                          1.00                  1.00  \n1                          1.00                  1.00  \n2                          0.00                  0.00  \n3                          0.00                  0.00  \n4                          0.71                  0.83  \n...                         ...                   ...  \n22539                      0.00                  0.00  \n22540                      0.00                  0.00  \n22541                      0.07                  0.07  \n22542                      0.00                  0.00  \n22543                      1.00                  0.44  \n\n[22544 rows x 17 columns]",
      "text/html": "<div>\n<style scoped>\n    .dataframe tbody tr th:only-of-type {\n        vertical-align: middle;\n    }\n\n    .dataframe tbody tr th {\n        vertical-align: top;\n    }\n\n    .dataframe thead th {\n        text-align: right;\n    }\n</style>\n<table border=\"1\" class=\"dataframe\">\n  <thead>\n    <tr style=\"text-align: right;\">\n      <th></th>\n      <th>logged_in</th>\n      <th>count</th>\n      <th>serror_rate</th>\n      <th>rerror_rate</th>\n      <th>srv_rerror_rate</th>\n      <th>same_srv_rate</th>\n      <th>diff_srv_rate</th>\n      <th>srv_diff_host_rate</th>\n      <th>dst_host_srv_count</th>\n      <th>dst_host_same_srv_rate</th>\n      <th>dst_host_diff_srv_rate</th>\n      <th>dst_host_same_src_port_rate</th>\n      <th>dst_host_srv_diff_host_rate</th>\n      <th>dst_host_serror_rate</th>\n      <th>dst_host_srv_serror_rate</th>\n      <th>dst_host_srv_rerror_rate</th>\n      <th>dst_host_rerror_rate</th>\n    </tr>\n  </thead>\n  <tbody>\n    <tr>\n      <th>0</th>\n      <td>0</td>\n      <td>229</td>\n      <td>0.0</td>\n      <td>1.0</td>\n      <td>1.0</td>\n      <td>0.04</td>\n      <td>0.06</td>\n      <td>0.00</td>\n      <td>10</td>\n      <td>0.04</td>\n      <td>0.06</td>\n      <td>0.00</td>\n      <td>0.00</td>\n      <td>0.00</td>\n      <td>0.0</td>\n      <td>1.00</td>\n      <td>1.00</td>\n    </tr>\n    <tr>\n      <th>1</th>\n      <td>0</td>\n      <td>136</td>\n      <td>0.0</td>\n      <td>1.0</td>\n      <td>1.0</td>\n      <td>0.01</td>\n      <td>0.06</td>\n      <td>0.00</td>\n      <td>1</td>\n      <td>0.00</td>\n      <td>0.06</td>\n      <td>0.00</td>\n      <td>0.00</td>\n      <td>0.00</td>\n      <td>0.0</td>\n      <td>1.00</td>\n      <td>1.00</td>\n    </tr>\n    <tr>\n      <th>2</th>\n      <td>0</td>\n      <td>1</td>\n      <td>0.0</td>\n      <td>0.0</td>\n      <td>0.0</td>\n      <td>1.00</td>\n      <td>0.00</td>\n      <td>0.00</td>\n      <td>86</td>\n      <td>0.61</td>\n      <td>0.04</td>\n      <td>0.61</td>\n      <td>0.02</td>\n      <td>0.00</td>\n      <td>0.0</td>\n      <td>0.00</td>\n      <td>0.00</td>\n    </tr>\n    <tr>\n      <th>3</th>\n      <td>0</td>\n      <td>1</td>\n      <td>0.0</td>\n      <td>0.0</td>\n      <td>0.0</td>\n      <td>1.00</td>\n      <td>0.00</td>\n      <td>1.00</td>\n      <td>57</td>\n      <td>1.00</td>\n      <td>0.00</td>\n      <td>1.00</td>\n      <td>0.28</td>\n      <td>0.00</td>\n      <td>0.0</td>\n      <td>0.00</td>\n      <td>0.00</td>\n    </tr>\n    <tr>\n      <th>4</th>\n      <td>0</td>\n      <td>1</td>\n      <td>0.0</td>\n      <td>1.0</td>\n      <td>0.5</td>\n      <td>1.00</td>\n      <td>0.00</td>\n      <td>0.75</td>\n      <td>86</td>\n      <td>0.31</td>\n      <td>0.17</td>\n      <td>0.03</td>\n      <td>0.02</td>\n      <td>0.00</td>\n      <td>0.0</td>\n      <td>0.71</td>\n      <td>0.83</td>\n    </tr>\n    <tr>\n      <th>...</th>\n      <td>...</td>\n      <td>...</td>\n      <td>...</td>\n      <td>...</td>\n      <td>...</td>\n      <td>...</td>\n      <td>...</td>\n      <td>...</td>\n      <td>...</td>\n      <td>...</td>\n      <td>...</td>\n      <td>...</td>\n      <td>...</td>\n      <td>...</td>\n      <td>...</td>\n      <td>...</td>\n      <td>...</td>\n    </tr>\n    <tr>\n      <th>22539</th>\n      <td>1</td>\n      <td>1</td>\n      <td>0.0</td>\n      <td>0.0</td>\n      <td>0.0</td>\n      <td>1.00</td>\n      <td>0.00</td>\n      <td>0.00</td>\n      <td>141</td>\n      <td>0.72</td>\n      <td>0.06</td>\n      <td>0.01</td>\n      <td>0.01</td>\n      <td>0.01</td>\n      <td>0.0</td>\n      <td>0.00</td>\n      <td>0.00</td>\n    </tr>\n    <tr>\n      <th>22540</th>\n      <td>1</td>\n      <td>2</td>\n      <td>0.0</td>\n      <td>0.0</td>\n      <td>0.0</td>\n      <td>1.00</td>\n      <td>0.00</td>\n      <td>0.18</td>\n      <td>255</td>\n      <td>1.00</td>\n      <td>0.00</td>\n      <td>0.01</td>\n      <td>0.01</td>\n      <td>0.01</td>\n      <td>0.0</td>\n      <td>0.00</td>\n      <td>0.00</td>\n    </tr>\n    <tr>\n      <th>22541</th>\n      <td>1</td>\n      <td>5</td>\n      <td>0.0</td>\n      <td>0.0</td>\n      <td>0.0</td>\n      <td>1.00</td>\n      <td>0.00</td>\n      <td>0.20</td>\n      <td>255</td>\n      <td>1.00</td>\n      <td>0.00</td>\n      <td>0.00</td>\n      <td>0.00</td>\n      <td>0.00</td>\n      <td>0.0</td>\n      <td>0.07</td>\n      <td>0.07</td>\n    </tr>\n    <tr>\n      <th>22542</th>\n      <td>0</td>\n      <td>4</td>\n      <td>0.0</td>\n      <td>0.0</td>\n      <td>0.0</td>\n      <td>1.00</td>\n      <td>0.00</td>\n      <td>0.33</td>\n      <td>252</td>\n      <td>0.99</td>\n      <td>0.01</td>\n      <td>0.00</td>\n      <td>0.00</td>\n      <td>0.00</td>\n      <td>0.0</td>\n      <td>0.00</td>\n      <td>0.00</td>\n    </tr>\n    <tr>\n      <th>22543</th>\n      <td>0</td>\n      <td>4</td>\n      <td>0.0</td>\n      <td>1.0</td>\n      <td>1.0</td>\n      <td>0.25</td>\n      <td>1.00</td>\n      <td>1.00</td>\n      <td>21</td>\n      <td>0.08</td>\n      <td>0.03</td>\n      <td>0.00</td>\n      <td>0.00</td>\n      <td>0.00</td>\n      <td>0.0</td>\n      <td>1.00</td>\n      <td>0.44</td>\n    </tr>\n  </tbody>\n</table>\n<p>22544 rows × 17 columns</p>\n</div>"
     },
     "execution_count": 777,
     "metadata": {},
     "output_type": "execute_result"
    }
   ],
   "source": [
    "X_test = df_test1[common_features_l1]\n",
    "X_test"
   ],
   "metadata": {
    "collapsed": false,
    "ExecuteTime": {
     "end_time": "2023-10-27T14:28:13.113399400Z",
     "start_time": "2023-10-27T14:28:13.007396100Z"
    }
   }
  },
  {
   "cell_type": "code",
   "execution_count": 778,
   "metadata": {
    "ExecuteTime": {
     "end_time": "2023-10-27T14:28:13.192217600Z",
     "start_time": "2023-10-27T14:28:13.033915800Z"
    }
   },
   "outputs": [
    {
     "name": "stdout",
     "output_type": "stream",
     "text": [
      "Test set shape for layer 1:  (22544, 28)\n"
     ]
    }
   ],
   "source": [
    "df_minmax = scaler1.transform(X_test)\n",
    "X_test = pd.DataFrame(df_minmax, columns=X_test.columns)\n",
    "label_enc = ohe.transform(df_test1.iloc[:,1:4])\n",
    "label_enc.toarray()\n",
    "new_labels = ohe.get_feature_names_out(categorical_features)\n",
    "df_enc = pd.DataFrame(data=label_enc.toarray(), columns=new_labels)\n",
    "X_test = pd.concat([X_test, df_enc], axis=1)\n",
    "\n",
    "X_test_layer1 = pca_dos_probe.transform(X_test)\n",
    "print('Test set shape for layer 1: ', X_test_layer1.shape)"
   ]
  },
  {
   "cell_type": "code",
   "execution_count": 779,
   "outputs": [
    {
     "data": {
      "text/plain": "       srv_count  urgent  root_shell  hot  dst_host_srv_diff_host_rate  \\\n0             10       0           0    0                         0.00   \n1              1       0           0    0                         0.00   \n2              1       0           0    0                         0.02   \n3             65       0           0    0                         0.28   \n4              8       0           0    0                         0.02   \n...          ...     ...         ...  ...                          ...   \n22539          1       0           0    0                         0.01   \n22540         11       0           0    0                         0.01   \n22541         10       0           0    2                         0.00   \n22542          6       0           0    0                         0.00   \n22543         10       0           0    0                         0.00   \n\n       dst_host_count  logged_in  dst_host_same_src_port_rate  \\\n0                 255          0                         0.00   \n1                 255          0                         0.00   \n2                 134          0                         0.61   \n3                   3          0                         1.00   \n4                  29          0                         0.03   \n...               ...        ...                          ...   \n22539             100          1                         0.01   \n22540             197          1                         0.01   \n22541             255          1                         0.00   \n22542             255          0                         0.00   \n22543             255          0                         0.00   \n\n       srv_diff_host_rate  num_shells  dst_host_srv_count  \n0                    0.00           0                  10  \n1                    0.00           0                   1  \n2                    0.00           0                  86  \n3                    1.00           0                  57  \n4                    0.75           0                  86  \n...                   ...         ...                 ...  \n22539                0.00           0                 141  \n22540                0.18           0                 255  \n22541                0.20           0                 255  \n22542                0.33           0                 252  \n22543                1.00           0                  21  \n\n[22544 rows x 11 columns]",
      "text/html": "<div>\n<style scoped>\n    .dataframe tbody tr th:only-of-type {\n        vertical-align: middle;\n    }\n\n    .dataframe tbody tr th {\n        vertical-align: top;\n    }\n\n    .dataframe thead th {\n        text-align: right;\n    }\n</style>\n<table border=\"1\" class=\"dataframe\">\n  <thead>\n    <tr style=\"text-align: right;\">\n      <th></th>\n      <th>srv_count</th>\n      <th>urgent</th>\n      <th>root_shell</th>\n      <th>hot</th>\n      <th>dst_host_srv_diff_host_rate</th>\n      <th>dst_host_count</th>\n      <th>logged_in</th>\n      <th>dst_host_same_src_port_rate</th>\n      <th>srv_diff_host_rate</th>\n      <th>num_shells</th>\n      <th>dst_host_srv_count</th>\n    </tr>\n  </thead>\n  <tbody>\n    <tr>\n      <th>0</th>\n      <td>10</td>\n      <td>0</td>\n      <td>0</td>\n      <td>0</td>\n      <td>0.00</td>\n      <td>255</td>\n      <td>0</td>\n      <td>0.00</td>\n      <td>0.00</td>\n      <td>0</td>\n      <td>10</td>\n    </tr>\n    <tr>\n      <th>1</th>\n      <td>1</td>\n      <td>0</td>\n      <td>0</td>\n      <td>0</td>\n      <td>0.00</td>\n      <td>255</td>\n      <td>0</td>\n      <td>0.00</td>\n      <td>0.00</td>\n      <td>0</td>\n      <td>1</td>\n    </tr>\n    <tr>\n      <th>2</th>\n      <td>1</td>\n      <td>0</td>\n      <td>0</td>\n      <td>0</td>\n      <td>0.02</td>\n      <td>134</td>\n      <td>0</td>\n      <td>0.61</td>\n      <td>0.00</td>\n      <td>0</td>\n      <td>86</td>\n    </tr>\n    <tr>\n      <th>3</th>\n      <td>65</td>\n      <td>0</td>\n      <td>0</td>\n      <td>0</td>\n      <td>0.28</td>\n      <td>3</td>\n      <td>0</td>\n      <td>1.00</td>\n      <td>1.00</td>\n      <td>0</td>\n      <td>57</td>\n    </tr>\n    <tr>\n      <th>4</th>\n      <td>8</td>\n      <td>0</td>\n      <td>0</td>\n      <td>0</td>\n      <td>0.02</td>\n      <td>29</td>\n      <td>0</td>\n      <td>0.03</td>\n      <td>0.75</td>\n      <td>0</td>\n      <td>86</td>\n    </tr>\n    <tr>\n      <th>...</th>\n      <td>...</td>\n      <td>...</td>\n      <td>...</td>\n      <td>...</td>\n      <td>...</td>\n      <td>...</td>\n      <td>...</td>\n      <td>...</td>\n      <td>...</td>\n      <td>...</td>\n      <td>...</td>\n    </tr>\n    <tr>\n      <th>22539</th>\n      <td>1</td>\n      <td>0</td>\n      <td>0</td>\n      <td>0</td>\n      <td>0.01</td>\n      <td>100</td>\n      <td>1</td>\n      <td>0.01</td>\n      <td>0.00</td>\n      <td>0</td>\n      <td>141</td>\n    </tr>\n    <tr>\n      <th>22540</th>\n      <td>11</td>\n      <td>0</td>\n      <td>0</td>\n      <td>0</td>\n      <td>0.01</td>\n      <td>197</td>\n      <td>1</td>\n      <td>0.01</td>\n      <td>0.18</td>\n      <td>0</td>\n      <td>255</td>\n    </tr>\n    <tr>\n      <th>22541</th>\n      <td>10</td>\n      <td>0</td>\n      <td>0</td>\n      <td>2</td>\n      <td>0.00</td>\n      <td>255</td>\n      <td>1</td>\n      <td>0.00</td>\n      <td>0.20</td>\n      <td>0</td>\n      <td>255</td>\n    </tr>\n    <tr>\n      <th>22542</th>\n      <td>6</td>\n      <td>0</td>\n      <td>0</td>\n      <td>0</td>\n      <td>0.00</td>\n      <td>255</td>\n      <td>0</td>\n      <td>0.00</td>\n      <td>0.33</td>\n      <td>0</td>\n      <td>252</td>\n    </tr>\n    <tr>\n      <th>22543</th>\n      <td>10</td>\n      <td>0</td>\n      <td>0</td>\n      <td>0</td>\n      <td>0.00</td>\n      <td>255</td>\n      <td>0</td>\n      <td>0.00</td>\n      <td>1.00</td>\n      <td>0</td>\n      <td>21</td>\n    </tr>\n  </tbody>\n</table>\n<p>22544 rows × 11 columns</p>\n</div>"
     },
     "execution_count": 779,
     "metadata": {},
     "output_type": "execute_result"
    }
   ],
   "source": [
    "X_test = df_test2[common_features_l2] \n",
    "X_test"
   ],
   "metadata": {
    "collapsed": false,
    "ExecuteTime": {
     "end_time": "2023-10-27T14:28:13.239098700Z",
     "start_time": "2023-10-27T14:28:13.092127400Z"
    }
   }
  },
  {
   "cell_type": "code",
   "execution_count": 780,
   "metadata": {
    "ExecuteTime": {
     "end_time": "2023-10-27T14:28:13.332845500Z",
     "start_time": "2023-10-27T14:28:13.113399400Z"
    }
   },
   "outputs": [
    {
     "name": "stdout",
     "output_type": "stream",
     "text": [
      "Test set shape for layer 2:  (22544, 13)\n",
      "Type of X_test_layer1:  <class 'numpy.ndarray'>\n",
      "Type of X_test_layer1:  <class 'numpy.ndarray'>\n"
     ]
    }
   ],
   "source": [
    "df_minmax = scaler2.transform(X_test)\n",
    "X_test = pd.DataFrame(df_minmax, columns=X_test.columns)\n",
    "label_enc = ohe2.transform(df_test2.iloc[:,1:4])\n",
    "label_enc.toarray()\n",
    "new_labels = ohe2.get_feature_names_out(categorical_features)\n",
    "df_enc = pd.DataFrame(data=label_enc.toarray(), columns=new_labels)\n",
    "X_test = pd.concat([X_test, df_enc], axis=1)\n",
    "\n",
    "X_test_layer2 = pca_r2l_u2r.transform(X_test)\n",
    "print('Test set shape for layer 2: ', X_test_layer2.shape)\n",
    "print('Type of X_test_layer1: ', type(X_test_layer1))\n",
    "print('Type of X_test_layer1: ', type(X_test_layer2))"
   ]
  },
  {
   "cell_type": "code",
   "execution_count": 781,
   "metadata": {
    "ExecuteTime": {
     "end_time": "2023-10-27T14:28:13.332845500Z",
     "start_time": "2023-10-27T14:28:13.160535600Z"
    }
   },
   "outputs": [],
   "source": [
    "# same classifiers obtained above\n",
    "classifier1 = dos_probe_classifier\n",
    "classifier2 = r2l_u2r_classifier"
   ]
  },
  {
   "cell_type": "code",
   "execution_count": 782,
   "metadata": {
    "ExecuteTime": {
     "end_time": "2023-10-27T14:28:18.462434600Z",
     "start_time": "2023-10-27T14:28:13.165034700Z"
    }
   },
   "outputs": [],
   "source": [
    "result = []\n",
    "for i in range(X_test_layer2.shape[0]):\n",
    "    layer1 = classifier1.predict(X_test_layer1[i].reshape(1, -1))[0]\n",
    "    if layer1 == 1:\n",
    "        result.append(layer1)\n",
    "    else:\n",
    "        layer2 = classifier2.predict(X_test_layer2[i].reshape(1, -1))[0]\n",
    "        if layer2 == 1:\n",
    "            result.append(layer2)\n",
    "        else:\n",
    "            result.append(0)\n",
    "            \n",
    "result = np.array(result)"
   ]
  },
  {
   "cell_type": "code",
   "execution_count": 783,
   "metadata": {
    "ExecuteTime": {
     "end_time": "2023-10-27T14:28:18.517255900Z",
     "start_time": "2023-10-27T14:28:18.462434600Z"
    }
   },
   "outputs": [
    {
     "name": "stdout",
     "output_type": "stream",
     "text": [
      "Results for the layer 2 (SVM):\n",
      "[[ 8109  1602]\n",
      " [  906 11927]]\n",
      "Accuracy =  0.88875088715401\n",
      "F1 Score =  0.904863060465822\n",
      "Precision =  0.8815877004952325\n",
      "Recall =  0.9294007636561988\n",
      "Matthew corr =  0.7727159938785936\n"
     ]
    }
   ],
   "source": [
    "# the results may vary\n",
    "# C=0.1, gamma=0.01\n",
    "print('Results for the layer 2 (SVM):')\n",
    "print(confusion_matrix(y_test_real,result))\n",
    "print('Accuracy = ', accuracy_score(y_test_real,result))\n",
    "print('F1 Score = ', f1_score(y_test_real,result))\n",
    "print('Precision = ', precision_score(y_test_real,result))\n",
    "print('Recall = ', recall_score(y_test_real,result))\n",
    "print('Matthew corr = ', matthews_corrcoef(y_test_real,result))"
   ]
  },
  {
   "cell_type": "markdown",
   "source": [
    "### Export the test sets"
   ],
   "metadata": {
    "collapsed": false
   }
  },
  {
   "cell_type": "code",
   "execution_count": 784,
   "outputs": [],
   "source": [
    "if EXPORT_DATASETS:\n",
    "    column_names = [f'PC{i}' for i in range(1, X_test_layer1.shape[1] + 1)]\n",
    "    X1_test = pd.DataFrame(data=X_test_layer1, columns=column_names)\n",
    "    X1_test.to_csv('NSL-KDD Encoded Datasets/before_pca/X_test_l1.txt', index=False)\n",
    "    \n",
    "    column_names = [f'PC{i}' for i in range(1, X_test_layer2.shape[1] + 1)]\n",
    "    X2_test = pd.DataFrame(data=X_test_layer2, columns=column_names)\n",
    "    X2_test.to_csv('NSL-KDD Encoded Datasets/before_pca/X_test_l2.txt', index=False)\n",
    "    \n",
    "    np.save('NSL-KDD Encoded Datasets/before_pca/y_test', y_test_real)"
   ],
   "metadata": {
    "collapsed": false,
    "ExecuteTime": {
     "end_time": "2023-10-27T14:28:19.562297600Z",
     "start_time": "2023-10-27T14:28:18.510412500Z"
    }
   }
  },
  {
   "cell_type": "markdown",
   "metadata": {},
   "source": [
    "### evaluate seen and unseen attack categories"
   ]
  },
  {
   "cell_type": "code",
   "execution_count": 785,
   "metadata": {
    "ExecuteTime": {
     "end_time": "2023-10-27T14:28:19.641001900Z",
     "start_time": "2023-10-27T14:28:19.562297600Z"
    }
   },
   "outputs": [],
   "source": [
    "# load testset\n",
    "df_test = pd.read_csv('NSL-KDD Original Datasets\\KDDTest+.txt', sep=\",\", header=None)\n",
    "df_test = df_test[df_test.columns[:-1]]\n",
    "df_test.columns = titles.to_list()\n",
    "y_test = df_test['label']\n",
    "df_test = df_test.drop(['num_outbound_cmds'],axis=1)\n",
    "df_test_original = df_test"
   ]
  },
  {
   "cell_type": "code",
   "execution_count": 786,
   "outputs": [
    {
     "data": {
      "text/plain": "       duration protocol_type   service  flag  src_bytes  dst_bytes  land  \\\n0             0           tcp   private   REJ          0          0     0   \n1             0           tcp   private   REJ          0          0     0   \n2             2           tcp  ftp_data    SF      12983          0     0   \n3             0          icmp     eco_i    SF         20          0     0   \n4             1           tcp    telnet  RSTO          0         15     0   \n...         ...           ...       ...   ...        ...        ...   ...   \n22539         0           tcp      smtp    SF        794        333     0   \n22540         0           tcp      http    SF        317        938     0   \n22541         0           tcp      http    SF      54540       8314     0   \n22542         0           udp  domain_u    SF         42         42     0   \n22543         0           tcp    sunrpc   REJ          0          0     0   \n\n       wrong_fragment  urgent  hot  ...  dst_host_srv_count  \\\n0                   0       0    0  ...                  10   \n1                   0       0    0  ...                   1   \n2                   0       0    0  ...                  86   \n3                   0       0    0  ...                  57   \n4                   0       0    0  ...                  86   \n...               ...     ...  ...  ...                 ...   \n22539               0       0    0  ...                 141   \n22540               0       0    0  ...                 255   \n22541               0       0    2  ...                 255   \n22542               0       0    0  ...                 252   \n22543               0       0    0  ...                  21   \n\n       dst_host_same_srv_rate  dst_host_diff_srv_rate  \\\n0                        0.04                    0.06   \n1                        0.00                    0.06   \n2                        0.61                    0.04   \n3                        1.00                    0.00   \n4                        0.31                    0.17   \n...                       ...                     ...   \n22539                    0.72                    0.06   \n22540                    1.00                    0.00   \n22541                    1.00                    0.00   \n22542                    0.99                    0.01   \n22543                    0.08                    0.03   \n\n       dst_host_same_src_port_rate  dst_host_srv_diff_host_rate  \\\n0                             0.00                         0.00   \n1                             0.00                         0.00   \n2                             0.61                         0.02   \n3                             1.00                         0.28   \n4                             0.03                         0.02   \n...                            ...                          ...   \n22539                         0.01                         0.01   \n22540                         0.01                         0.01   \n22541                         0.00                         0.00   \n22542                         0.00                         0.00   \n22543                         0.00                         0.00   \n\n       dst_host_serror_rate  dst_host_srv_serror_rate  dst_host_rerror_rate  \\\n0                      0.00                       0.0                  1.00   \n1                      0.00                       0.0                  1.00   \n2                      0.00                       0.0                  0.00   \n3                      0.00                       0.0                  0.00   \n4                      0.00                       0.0                  0.83   \n...                     ...                       ...                   ...   \n22539                  0.01                       0.0                  0.00   \n22540                  0.01                       0.0                  0.00   \n22541                  0.00                       0.0                  0.07   \n22542                  0.00                       0.0                  0.00   \n22543                  0.00                       0.0                  0.44   \n\n       dst_host_srv_rerror_rate    label  \n0                          1.00  neptune  \n1                          1.00  neptune  \n2                          0.00   normal  \n3                          0.00    saint  \n4                          0.71    mscan  \n...                         ...      ...  \n22539                      0.00   normal  \n22540                      0.00   normal  \n22541                      0.07     back  \n22542                      0.00   normal  \n22543                      1.00    mscan  \n\n[22544 rows x 41 columns]",
      "text/html": "<div>\n<style scoped>\n    .dataframe tbody tr th:only-of-type {\n        vertical-align: middle;\n    }\n\n    .dataframe tbody tr th {\n        vertical-align: top;\n    }\n\n    .dataframe thead th {\n        text-align: right;\n    }\n</style>\n<table border=\"1\" class=\"dataframe\">\n  <thead>\n    <tr style=\"text-align: right;\">\n      <th></th>\n      <th>duration</th>\n      <th>protocol_type</th>\n      <th>service</th>\n      <th>flag</th>\n      <th>src_bytes</th>\n      <th>dst_bytes</th>\n      <th>land</th>\n      <th>wrong_fragment</th>\n      <th>urgent</th>\n      <th>hot</th>\n      <th>...</th>\n      <th>dst_host_srv_count</th>\n      <th>dst_host_same_srv_rate</th>\n      <th>dst_host_diff_srv_rate</th>\n      <th>dst_host_same_src_port_rate</th>\n      <th>dst_host_srv_diff_host_rate</th>\n      <th>dst_host_serror_rate</th>\n      <th>dst_host_srv_serror_rate</th>\n      <th>dst_host_rerror_rate</th>\n      <th>dst_host_srv_rerror_rate</th>\n      <th>label</th>\n    </tr>\n  </thead>\n  <tbody>\n    <tr>\n      <th>0</th>\n      <td>0</td>\n      <td>tcp</td>\n      <td>private</td>\n      <td>REJ</td>\n      <td>0</td>\n      <td>0</td>\n      <td>0</td>\n      <td>0</td>\n      <td>0</td>\n      <td>0</td>\n      <td>...</td>\n      <td>10</td>\n      <td>0.04</td>\n      <td>0.06</td>\n      <td>0.00</td>\n      <td>0.00</td>\n      <td>0.00</td>\n      <td>0.0</td>\n      <td>1.00</td>\n      <td>1.00</td>\n      <td>neptune</td>\n    </tr>\n    <tr>\n      <th>1</th>\n      <td>0</td>\n      <td>tcp</td>\n      <td>private</td>\n      <td>REJ</td>\n      <td>0</td>\n      <td>0</td>\n      <td>0</td>\n      <td>0</td>\n      <td>0</td>\n      <td>0</td>\n      <td>...</td>\n      <td>1</td>\n      <td>0.00</td>\n      <td>0.06</td>\n      <td>0.00</td>\n      <td>0.00</td>\n      <td>0.00</td>\n      <td>0.0</td>\n      <td>1.00</td>\n      <td>1.00</td>\n      <td>neptune</td>\n    </tr>\n    <tr>\n      <th>2</th>\n      <td>2</td>\n      <td>tcp</td>\n      <td>ftp_data</td>\n      <td>SF</td>\n      <td>12983</td>\n      <td>0</td>\n      <td>0</td>\n      <td>0</td>\n      <td>0</td>\n      <td>0</td>\n      <td>...</td>\n      <td>86</td>\n      <td>0.61</td>\n      <td>0.04</td>\n      <td>0.61</td>\n      <td>0.02</td>\n      <td>0.00</td>\n      <td>0.0</td>\n      <td>0.00</td>\n      <td>0.00</td>\n      <td>normal</td>\n    </tr>\n    <tr>\n      <th>3</th>\n      <td>0</td>\n      <td>icmp</td>\n      <td>eco_i</td>\n      <td>SF</td>\n      <td>20</td>\n      <td>0</td>\n      <td>0</td>\n      <td>0</td>\n      <td>0</td>\n      <td>0</td>\n      <td>...</td>\n      <td>57</td>\n      <td>1.00</td>\n      <td>0.00</td>\n      <td>1.00</td>\n      <td>0.28</td>\n      <td>0.00</td>\n      <td>0.0</td>\n      <td>0.00</td>\n      <td>0.00</td>\n      <td>saint</td>\n    </tr>\n    <tr>\n      <th>4</th>\n      <td>1</td>\n      <td>tcp</td>\n      <td>telnet</td>\n      <td>RSTO</td>\n      <td>0</td>\n      <td>15</td>\n      <td>0</td>\n      <td>0</td>\n      <td>0</td>\n      <td>0</td>\n      <td>...</td>\n      <td>86</td>\n      <td>0.31</td>\n      <td>0.17</td>\n      <td>0.03</td>\n      <td>0.02</td>\n      <td>0.00</td>\n      <td>0.0</td>\n      <td>0.83</td>\n      <td>0.71</td>\n      <td>mscan</td>\n    </tr>\n    <tr>\n      <th>...</th>\n      <td>...</td>\n      <td>...</td>\n      <td>...</td>\n      <td>...</td>\n      <td>...</td>\n      <td>...</td>\n      <td>...</td>\n      <td>...</td>\n      <td>...</td>\n      <td>...</td>\n      <td>...</td>\n      <td>...</td>\n      <td>...</td>\n      <td>...</td>\n      <td>...</td>\n      <td>...</td>\n      <td>...</td>\n      <td>...</td>\n      <td>...</td>\n      <td>...</td>\n      <td>...</td>\n    </tr>\n    <tr>\n      <th>22539</th>\n      <td>0</td>\n      <td>tcp</td>\n      <td>smtp</td>\n      <td>SF</td>\n      <td>794</td>\n      <td>333</td>\n      <td>0</td>\n      <td>0</td>\n      <td>0</td>\n      <td>0</td>\n      <td>...</td>\n      <td>141</td>\n      <td>0.72</td>\n      <td>0.06</td>\n      <td>0.01</td>\n      <td>0.01</td>\n      <td>0.01</td>\n      <td>0.0</td>\n      <td>0.00</td>\n      <td>0.00</td>\n      <td>normal</td>\n    </tr>\n    <tr>\n      <th>22540</th>\n      <td>0</td>\n      <td>tcp</td>\n      <td>http</td>\n      <td>SF</td>\n      <td>317</td>\n      <td>938</td>\n      <td>0</td>\n      <td>0</td>\n      <td>0</td>\n      <td>0</td>\n      <td>...</td>\n      <td>255</td>\n      <td>1.00</td>\n      <td>0.00</td>\n      <td>0.01</td>\n      <td>0.01</td>\n      <td>0.01</td>\n      <td>0.0</td>\n      <td>0.00</td>\n      <td>0.00</td>\n      <td>normal</td>\n    </tr>\n    <tr>\n      <th>22541</th>\n      <td>0</td>\n      <td>tcp</td>\n      <td>http</td>\n      <td>SF</td>\n      <td>54540</td>\n      <td>8314</td>\n      <td>0</td>\n      <td>0</td>\n      <td>0</td>\n      <td>2</td>\n      <td>...</td>\n      <td>255</td>\n      <td>1.00</td>\n      <td>0.00</td>\n      <td>0.00</td>\n      <td>0.00</td>\n      <td>0.00</td>\n      <td>0.0</td>\n      <td>0.07</td>\n      <td>0.07</td>\n      <td>back</td>\n    </tr>\n    <tr>\n      <th>22542</th>\n      <td>0</td>\n      <td>udp</td>\n      <td>domain_u</td>\n      <td>SF</td>\n      <td>42</td>\n      <td>42</td>\n      <td>0</td>\n      <td>0</td>\n      <td>0</td>\n      <td>0</td>\n      <td>...</td>\n      <td>252</td>\n      <td>0.99</td>\n      <td>0.01</td>\n      <td>0.00</td>\n      <td>0.00</td>\n      <td>0.00</td>\n      <td>0.0</td>\n      <td>0.00</td>\n      <td>0.00</td>\n      <td>normal</td>\n    </tr>\n    <tr>\n      <th>22543</th>\n      <td>0</td>\n      <td>tcp</td>\n      <td>sunrpc</td>\n      <td>REJ</td>\n      <td>0</td>\n      <td>0</td>\n      <td>0</td>\n      <td>0</td>\n      <td>0</td>\n      <td>0</td>\n      <td>...</td>\n      <td>21</td>\n      <td>0.08</td>\n      <td>0.03</td>\n      <td>0.00</td>\n      <td>0.00</td>\n      <td>0.00</td>\n      <td>0.0</td>\n      <td>0.44</td>\n      <td>1.00</td>\n      <td>mscan</td>\n    </tr>\n  </tbody>\n</table>\n<p>22544 rows × 41 columns</p>\n</div>"
     },
     "execution_count": 786,
     "metadata": {},
     "output_type": "execute_result"
    }
   ],
   "source": [
    "if EXPORT_DATASETS:\n",
    "    df_test_original.to_csv('NSL-KDD Encoded Datasets/before_pca/KDDTest+', index=False)\n",
    "    np.save('NSL-KDD Encoded Datasets/before_pca/KDDTest+_targets', y_test)\n",
    "    \n",
    "df_test_original"
   ],
   "metadata": {
    "collapsed": false,
    "ExecuteTime": {
     "end_time": "2023-10-27T14:28:19.894798Z",
     "start_time": "2023-10-27T14:28:19.641001900Z"
    }
   }
  },
  {
   "cell_type": "code",
   "execution_count": 787,
   "metadata": {
    "ExecuteTime": {
     "end_time": "2023-10-27T14:28:20.111550Z",
     "start_time": "2023-10-27T14:28:19.894798Z"
    }
   },
   "outputs": [
    {
     "data": {
      "text/plain": "['apache2',\n 'httptunnel',\n 'mailbomb',\n 'mscan',\n 'named',\n 'processtable',\n 'ps',\n 'saint',\n 'sendmail',\n 'snmpgetattack',\n 'snmpguess',\n 'sqlattack',\n 'udpstorm',\n 'worm',\n 'xlock',\n 'xsnoop',\n 'xterm']"
     },
     "execution_count": 787,
     "metadata": {},
     "output_type": "execute_result"
    }
   ],
   "source": [
    "new_attack = []\n",
    "for i in df_test_original['label'].value_counts().index.tolist()[1:]:\n",
    "    if i not in df_train_original['label'].value_counts().index.tolist()[1:]:\n",
    "        new_attack.append(i)\n",
    "        \n",
    "new_attack.sort()\n",
    "new_attack"
   ]
  },
  {
   "cell_type": "code",
   "execution_count": 788,
   "metadata": {
    "ExecuteTime": {
     "end_time": "2023-10-27T14:28:20.206958400Z",
     "start_time": "2023-10-27T14:28:20.102884900Z"
    }
   },
   "outputs": [],
   "source": [
    "index_of_new_attacks = []\n",
    "\n",
    "for i in range(len(df_test_original)):\n",
    "    if df_test_original['label'][i] in new_attack:\n",
    "        index_of_new_attacks.append(df_test_original.index[i])"
   ]
  },
  {
   "cell_type": "code",
   "execution_count": 789,
   "outputs": [
    {
     "data": {
      "text/plain": "3750"
     },
     "execution_count": 789,
     "metadata": {},
     "output_type": "execute_result"
    }
   ],
   "source": [
    "len(index_of_new_attacks)"
   ],
   "metadata": {
    "collapsed": false,
    "ExecuteTime": {
     "end_time": "2023-10-27T14:28:20.206958400Z",
     "start_time": "2023-10-27T14:28:20.181195500Z"
    }
   }
  },
  {
   "cell_type": "code",
   "execution_count": 790,
   "metadata": {
    "ExecuteTime": {
     "end_time": "2023-10-27T14:28:20.206958400Z",
     "start_time": "2023-10-27T14:28:20.190992800Z"
    }
   },
   "outputs": [
    {
     "data": {
      "text/plain": "['apache2',\n 'httptunnel',\n 'mailbomb',\n 'mscan',\n 'named',\n 'processtable',\n 'ps',\n 'saint',\n 'sendmail',\n 'snmpgetattack',\n 'snmpguess',\n 'sqlattack',\n 'udpstorm',\n 'worm',\n 'xlock',\n 'xsnoop',\n 'xterm',\n 'normal']"
     },
     "execution_count": 790,
     "metadata": {},
     "output_type": "execute_result"
    }
   ],
   "source": [
    "new_attack.append('normal')\n",
    "new_attack"
   ]
  },
  {
   "cell_type": "code",
   "execution_count": 791,
   "metadata": {
    "ExecuteTime": {
     "end_time": "2023-10-27T14:28:20.332550400Z",
     "start_time": "2023-10-27T14:28:20.192929Z"
    }
   },
   "outputs": [],
   "source": [
    "index_of_old_attacks = []\n",
    "\n",
    "for i in range(len(df_test_original)):\n",
    "    if df_test_original['label'][i] not in new_attack:\n",
    "        index_of_old_attacks.append(df_test_original.index[i])"
   ]
  },
  {
   "cell_type": "code",
   "execution_count": 792,
   "metadata": {
    "ExecuteTime": {
     "end_time": "2023-10-27T14:28:20.332550400Z",
     "start_time": "2023-10-27T14:28:20.274754600Z"
    }
   },
   "outputs": [
    {
     "data": {
      "text/plain": "9083"
     },
     "execution_count": 792,
     "metadata": {},
     "output_type": "execute_result"
    }
   ],
   "source": [
    "len(index_of_old_attacks)"
   ]
  },
  {
   "cell_type": "code",
   "execution_count": 793,
   "metadata": {
    "ExecuteTime": {
     "end_time": "2023-10-27T14:28:20.332550400Z",
     "start_time": "2023-10-27T14:28:20.280869600Z"
    }
   },
   "outputs": [
    {
     "name": "stdout",
     "output_type": "stream",
     "text": [
      "Number of new attacks in the test set:  3750\n",
      "Number of new attacks detected by the classifiers:  3409\n",
      "Proportion of new attacks detected:  0.9090666666666667\n"
     ]
    }
   ],
   "source": [
    "print('Number of new attacks in the test set: ', result[index_of_new_attacks].shape[0])\n",
    "print('Number of new attacks detected by the classifiers: ', result[index_of_new_attacks].sum())\n",
    "print('Proportion of new attacks detected: ', result[index_of_new_attacks].sum()/result[index_of_new_attacks].shape[0])"
   ]
  },
  {
   "cell_type": "code",
   "execution_count": 794,
   "metadata": {
    "ExecuteTime": {
     "end_time": "2023-10-27T14:28:20.332550400Z",
     "start_time": "2023-10-27T14:28:20.293715400Z"
    }
   },
   "outputs": [
    {
     "name": "stdout",
     "output_type": "stream",
     "text": [
      "Number of old attacks in the test set:  9083\n",
      "Number of old attacks detected by the classifiers:  8518\n",
      "Proportion of old attacks detected:  0.9377958824177034\n"
     ]
    }
   ],
   "source": [
    "print('Number of old attacks in the test set: ', result[index_of_old_attacks].shape[0])\n",
    "print('Number of old attacks detected by the classifiers: ', result[index_of_old_attacks].sum())\n",
    "print('Proportion of old attacks detected: ', result[index_of_old_attacks].sum()/result[index_of_old_attacks].shape[0])"
   ]
  },
  {
   "cell_type": "markdown",
   "metadata": {},
   "source": [
    "### Evaluate single attack types"
   ]
  },
  {
   "cell_type": "code",
   "execution_count": 795,
   "metadata": {
    "ExecuteTime": {
     "end_time": "2023-10-27T14:28:20.442434400Z",
     "start_time": "2023-10-27T14:28:20.301271500Z"
    }
   },
   "outputs": [
    {
     "name": "stdout",
     "output_type": "stream",
     "text": [
      "Evaluation split into single attack type:\n",
      "Number of dos attacks:  7460\n",
      "Number of detected attacks:  6880\n",
      "Ratio of detection:  0.9222520107238605\n",
      "Number of probe attacks:  2421\n",
      "Number of detected attacks:  2212\n",
      "Ratio of detection:  0.9136720363486163\n",
      "Number of r2l attacks:  2885\n",
      "Number of detected attacks:  2768\n",
      "Ratio of detection:  0.9594454072790295\n",
      "Number of u2r attacks:  67\n",
      "Number of detected attacks:  67\n",
      "Ratio of detection:  1.0\n"
     ]
    }
   ],
   "source": [
    "# load test set\n",
    "df_test = pd.read_csv('NSL-KDD Original Datasets/KDDTest+.txt', sep=\",\", header=None)\n",
    "df_test = df_test[df_test.columns[:-1]]\n",
    "df_test.columns = titles.to_list()\n",
    "y_test = df_test['label']\n",
    "df_test = df_test.drop(['num_outbound_cmds'],axis=1)\n",
    "df_test_original = df_test\n",
    "df = df_test_original\n",
    "\n",
    "dos_index = df.index[(df['label'].isin(dos_attacks))].tolist()\n",
    "probe_index = df.index[(df['label'].isin(probe_attacks))].tolist()\n",
    "r2l_index = df.index[(df['label'].isin(r2l_attacks))].tolist()\n",
    "u2r_index = df.index[(df['label'].isin(u2r_attacks))].tolist()\n",
    "\n",
    "print('Evaluation split into single attack type:')\n",
    "print(\"Number of dos attacks: \", result[dos_index].shape[0])\n",
    "print(\"Number of detected attacks: \", result[dos_index].sum())\n",
    "print(\"Ratio of detection: \", result[dos_index].sum()/result[dos_index].shape[0])\n",
    "\n",
    "print(\"Number of probe attacks: \", result[probe_index].shape[0])\n",
    "print(\"Number of detected attacks: \", result[probe_index].sum())\n",
    "print(\"Ratio of detection: \", result[probe_index].sum()/result[probe_index].shape[0])\n",
    "\n",
    "print(\"Number of r2l attacks: \", result[r2l_index].shape[0])\n",
    "print(\"Number of detected attacks: \", result[r2l_index].sum())\n",
    "print(\"Ratio of detection: \", result[r2l_index].sum()/result[r2l_index].shape[0])\n",
    "\n",
    "print(\"Number of u2r attacks: \", result[u2r_index].shape[0])\n",
    "print(\"Number of detected attacks: \", result[u2r_index].sum())\n",
    "print(\"Ratio of detection: \", result[u2r_index].sum()/result[u2r_index].shape[0])"
   ]
  },
  {
   "cell_type": "code",
   "execution_count": 796,
   "outputs": [],
   "source": [
    "# Export one hot encoders\n",
    "if EXPORT_ENCODERS:\n",
    "    joblib.dump(ohe, 'NSL-KDD Files/one_hot_encoders/ohe1.pkl')\n",
    "    joblib.dump(ohe2, 'NSL-KDD Files/one_hot_encoders/ohe2.pkl')"
   ],
   "metadata": {
    "collapsed": false,
    "ExecuteTime": {
     "end_time": "2023-10-27T14:28:20.442434400Z",
     "start_time": "2023-10-27T14:28:20.379962100Z"
    }
   }
  }
 ],
 "metadata": {
  "kernelspec": {
   "display_name": "Python 3",
   "language": "python",
   "name": "python3"
  },
  "language_info": {
   "codemirror_mode": {
    "name": "ipython",
    "version": 3
   },
   "file_extension": ".py",
   "mimetype": "text/x-python",
   "name": "python",
   "nbconvert_exporter": "python",
   "pygments_lexer": "ipython3",
   "version": "3.8.3"
  }
 },
 "nbformat": 4,
 "nbformat_minor": 4
}
