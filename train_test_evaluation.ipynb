{
 "cells": [
  {
   "cell_type": "code",
   "execution_count": 267,
   "metadata": {
    "collapsed": true,
    "jupyter": {
     "outputs_hidden": true,
     "source_hidden": true
    },
    "ExecuteTime": {
     "end_time": "2024-03-08T11:22:28.036402100Z",
     "start_time": "2024-03-08T11:22:26.679187Z"
    }
   },
   "outputs": [],
   "source": [
    "import numpy as np \n",
    "import pandas as pd\n",
    "import copy\n",
    "import pickle\n",
    "\n",
    "from sklearn.preprocessing import OneHotEncoder\n",
    "from sklearn.preprocessing import MinMaxScaler\n",
    "from sklearn.model_selection import train_test_split\n",
    "\n",
    "from sklearn.decomposition import PCA\n",
    "from imblearn.under_sampling import RandomUnderSampler as under_sam\n",
    "\n",
    "from sklearn.naive_bayes import GaussianNB\n",
    "from sklearn.svm import SVC\n",
    "from sklearn.metrics import confusion_matrix, accuracy_score, f1_score\n",
    "from sklearn.metrics import matthews_corrcoef, precision_score, recall_score\n",
    "from sklearn.ensemble import RandomForestClassifier"
   ]
  },
  {
   "cell_type": "markdown",
   "metadata": {
    "collapsed": false
   },
   "source": [
    "# Main implementation"
   ]
  },
  {
   "cell_type": "code",
   "execution_count": 268,
   "metadata": {
    "collapsed": true,
    "jupyter": {
     "outputs_hidden": true,
     "source_hidden": true
    },
    "ExecuteTime": {
     "end_time": "2024-03-08T11:22:28.657521500Z",
     "start_time": "2024-03-08T11:22:28.025096500Z"
    }
   },
   "outputs": [],
   "source": [
    "# loading the train set\n",
    "df_train = pd.read_csv('EvalResources/KDDTrain+.txt', sep=\",\", header=None, skipinitialspace = True)\n",
    "df_train = df_train[df_train.columns[:-1]]  # tags column\n",
    "titles = pd.read_csv('EvalResources/Field Names.csv', header=None, skipinitialspace = True)\n",
    "label = pd.Series(['label'], index=[41])\n",
    "titles = pd.concat([titles[0], label])\n",
    "df_train.columns = titles.to_list()\n",
    "df_train = df_train.drop(['num_outbound_cmds'],axis=1)\n",
    "df_train_original = df_train\n",
    "\n",
    "# df_train_original.to_csv('KB Process/NSL-KDD Original Datasets/KDDTrain+_with_labels.txt', index=False)\n",
    "\n",
    "#df_train_original"
   ]
  },
  {
   "cell_type": "code",
   "execution_count": 269,
   "metadata": {
    "collapsed": true,
    "jupyter": {
     "outputs_hidden": true,
     "source_hidden": true
    },
    "ExecuteTime": {
     "end_time": "2024-03-08T11:22:28.785180400Z",
     "start_time": "2024-03-08T11:22:28.601302500Z"
    }
   },
   "outputs": [],
   "source": [
    "# load test set\n",
    "df_test = pd.read_csv('EvalResources/KDDTest+.txt', sep=\",\", header=None, skipinitialspace = True)\n",
    "df_test_ = df_test.sort_index(axis=1)\n",
    "df_test = df_test[df_test.columns[:-1]]\n",
    "df_test.columns = titles.to_list()\n",
    "df_test = df_test.drop(['num_outbound_cmds'],axis=1)\n",
    "df_test_original = df_test\n",
    "\n",
    "# df_test_original.to_csv('KB Process/NSL-KDD Original Datasets/KDDTest+.txt', index=False)\n",
    "\n",
    "#df_test_original"
   ]
  },
  {
   "cell_type": "markdown",
   "metadata": {
    "collapsed": false
   },
   "source": [
    "### Execution Parameters"
   ]
  },
  {
   "cell_type": "code",
   "execution_count": 270,
   "metadata": {
    "collapsed": true,
    "jupyter": {
     "outputs_hidden": true,
     "source_hidden": true
    },
    "ExecuteTime": {
     "end_time": "2024-03-08T11:22:28.790254900Z",
     "start_time": "2024-03-08T11:22:28.714598500Z"
    }
   },
   "outputs": [],
   "source": [
    "EXPORT_MODELS = 0\n",
    "EXPORT_DATASETS = 0\n",
    "EXPORT_PCA = 0\n",
    "EXPORT_ENCODERS = 0\n",
    "\n",
    "pd.options.display.max_columns = None"
   ]
  },
  {
   "cell_type": "code",
   "execution_count": 271,
   "metadata": {
    "collapsed": true,
    "jupyter": {
     "outputs_hidden": true,
     "source_hidden": true
    },
    "ExecuteTime": {
     "end_time": "2024-03-08T11:22:28.794852200Z",
     "start_time": "2024-03-08T11:22:28.722729700Z"
    }
   },
   "outputs": [],
   "source": [
    "# list of single attacks \n",
    "dos_attacks = ['back', 'land', 'neptune', 'pod', 'smurf', 'teardrop', 'worm', 'apache2', 'mailbomb', 'processtable', 'udpstorm']\n",
    "probe_attacks = ['ipsweep', 'mscan', 'nmap', 'portsweep', 'saint', 'satan']\n",
    "r2l_attacks = ['guess_passwd', 'ftp_write', 'imap', 'phf', 'multihop', 'warezmaster',\n",
    "                'snmpguess', 'spy', 'warezclient', 'httptunnel', 'named', 'sendmail', 'snmpgetattack', 'xlock', 'xsnoop']\n",
    "u2r_attacks = ['buffer_overflow', 'loadmodule', 'perl', 'ps', 'rootkit', 'sqlattack', 'xterm'] \n",
    "\n",
    "# list of attack classes split according to detection layer\n",
    "dos_probe_list = ['back', 'land', 'neptune', 'pod', 'smurf', 'teardrop', 'ipsweep', 'nmap', 'portsweep', 'satan']\n",
    "dos_probe_test = ['apache2', 'mailbomb', 'processtable', 'udpstorm', 'mscan', 'saint']\n",
    "u2r_r2l_list = ['guess_passwd', 'ftp_write', 'imap', 'phf', 'multihop', 'warezmaster',\n",
    "                'snmpguess', 'spy', 'warezclient', 'buffer_overflow', 'loadmodule', 'rootkit', 'perl']\n",
    "u2r_r2l_test = ['httptunnel', 'named', 'sendmail', 'snmpgetattack', 'xlock', 'xsnoop', 'ps', 'xterm', 'sqlattack']\n",
    "normal_list = ['normal']\n",
    "categorical_features = ['protocol_type', 'service', 'flag']"
   ]
  },
  {
   "cell_type": "code",
   "execution_count": 272,
   "metadata": {
    "collapsed": true,
    "jupyter": {
     "outputs_hidden": true,
     "source_hidden": true
    },
    "ExecuteTime": {
     "end_time": "2024-03-08T11:22:28.811190200Z",
     "start_time": "2024-03-08T11:22:28.729837300Z"
    }
   },
   "outputs": [],
   "source": [
    "# load the features obtained with ICFS for both layer 1 and layer 2\n",
    "with open('KBProcess/AWS Downloads/MinimalFeatures/NSL_features_l1.txt', 'r') as f:\n",
    "    common_features_l1 = f.read().split(',')\n",
    "\n",
    "with open('KBProcess/AWS Downloads/MinimalFeatures/NSL_features_l2.txt', 'r') as f:\n",
    "    common_features_l2 = f.read().split(',')"
   ]
  },
  {
   "cell_type": "code",
   "execution_count": 273,
   "metadata": {
    "collapsed": true,
    "jupyter": {
     "outputs_hidden": true,
     "source_hidden": true
    },
    "ExecuteTime": {
     "end_time": "2024-03-08T11:22:28.872264400Z",
     "start_time": "2024-03-08T11:22:28.738384900Z"
    }
   },
   "outputs": [],
   "source": [
    "df_train_and_validate = copy.deepcopy(df_train_original)\n",
    "df_test = copy.deepcopy(df_test_original)"
   ]
  },
  {
   "cell_type": "code",
   "execution_count": 274,
   "metadata": {
    "collapsed": true,
    "jupyter": {
     "outputs_hidden": true,
     "source_hidden": true
    },
    "ExecuteTime": {
     "end_time": "2024-03-08T11:22:28.922041600Z",
     "start_time": "2024-03-08T11:22:28.776969400Z"
    }
   },
   "outputs": [],
   "source": [
    "# Save all the targets for the dataset\n",
    "\n",
    "y_test_l1 = [1 if x in (dos_attacks+probe_attacks) else 0 for x in df_test['label']]\n",
    "y_test_l2 = [1 if x in (u2r_attacks+r2l_attacks) else 0 for x in df_test['label']]\n",
    "\n",
    "if EXPORT_DATASETS:\n",
    "    np.save(\"EvalResources/AdditionalSets/l1_full_test_targets.npy\", y_test_l1)\n",
    "    np.save(\"EvalResources/AdditionalSets/l2_full_test_targets.npy\", y_test_l2)"
   ]
  },
  {
   "cell_type": "code",
   "execution_count": 275,
   "metadata": {
    "collapsed": true,
    "jupyter": {
     "outputs_hidden": true,
     "source_hidden": true
    },
    "ExecuteTime": {
     "end_time": "2024-03-08T11:22:28.972691200Z",
     "start_time": "2024-03-08T11:22:28.784178500Z"
    }
   },
   "outputs": [],
   "source": [
    "# add an additional column to th dataframe to perform splitting\n",
    "\n",
    "attacks = ['dos' if x in dos_attacks else\n",
    "           'probe' if x in probe_attacks else\n",
    "           'u2r' if x in u2r_attacks else\n",
    "           'r2l' if x in r2l_attacks else\n",
    "           'normal' for x in df_train_and_validate['label']]\n",
    "\n",
    "# add the column to the dataframe\n",
    "df_train_and_validate['attacks'] = attacks"
   ]
  },
  {
   "cell_type": "markdown",
   "metadata": {},
   "source": [
    "# DOS PROBE CLASSIFIER"
   ]
  },
  {
   "cell_type": "code",
   "execution_count": 276,
   "metadata": {
    "collapsed": true,
    "jupyter": {
     "outputs_hidden": true,
     "source_hidden": true
    },
    "ExecuteTime": {
     "end_time": "2024-03-08T11:22:29.159329200Z",
     "start_time": "2024-03-08T11:22:28.974727600Z"
    }
   },
   "outputs": [],
   "source": [
    "# split in test and validation set for BOTH layers\n",
    "df_train_original, df_val_original = train_test_split(df_train_and_validate, test_size=0.3, stratify=df_train_and_validate['attacks'])"
   ]
  },
  {
   "cell_type": "markdown",
   "metadata": {
    "collapsed": false
   },
   "source": [
    "import matplotlib.pyplot as plt\n",
    "\n",
    "# Assuming df is your DataFrame and 'column_name' is the specific column you want to plot\n",
    "plt.hist(df_val_original['attacks'], bins=10)  # Adjust the number of bins as needed\n",
    "plt.xlabel('Values')  # Set x-axis label\n",
    "plt.ylabel('Frequency')  # Set y-axis label\n",
    "plt.title('Histogram of Column')  # Set title\n",
    "plt.show()"
   ]
  },
  {
   "cell_type": "markdown",
   "metadata": {
    "collapsed": false
   },
   "source": [
    "import matplotlib.pyplot as plt\n",
    "\n",
    "# Assuming df is your DataFrame and 'column_name' is the specific column you want to plot\n",
    "plt.hist(df_train_original['attacks'], bins=10)  # Adjust the number of bins as needed\n",
    "plt.xlabel('Values')  # Set x-axis label\n",
    "plt.ylabel('Frequency')  # Set y-axis label\n",
    "plt.title('Histogram of Column')  # Set title\n",
    "plt.show()"
   ]
  },
  {
   "cell_type": "code",
   "execution_count": 277,
   "metadata": {
    "collapsed": true,
    "jupyter": {
     "outputs_hidden": true,
     "source_hidden": true
    },
    "ExecuteTime": {
     "end_time": "2024-03-08T11:22:29.343133900Z",
     "start_time": "2024-03-08T11:22:29.113528300Z"
    }
   },
   "outputs": [],
   "source": [
    "# dataframes specifically for layer 1\n",
    "df_train = copy.deepcopy(df_train_original)\n",
    "df_val = copy.deepcopy(df_val_original)\n",
    "df_test = copy.deepcopy(df_test_original)\n",
    "\n",
    "# target variables for all layers\n",
    "y_train_full = np.array([1 if x not in normal_list else 0 for x in df_train['label']])\n",
    "y_test_full = np.array([1 if x not in normal_list else 0 for x in df_test['label']])\n",
    "\n",
    "# set the target variables accordingly\n",
    "y_train_l1 = np.array([1 if x in (dos_attacks+probe_attacks) else 0 for x in df_train['label']])\n",
    "y_validate_l1 = np.array([1 if x in (dos_attacks+probe_attacks) else 0 for x in df_val['label']])\n",
    "y_test = np.array([1 if x in (dos_attacks+probe_attacks) else 0 for x in df_test ['label']])"
   ]
  },
  {
   "cell_type": "code",
   "execution_count": 278,
   "metadata": {
    "collapsed": true,
    "jupyter": {
     "outputs_hidden": true,
     "source_hidden": true
    },
    "ExecuteTime": {
     "end_time": "2024-03-08T11:22:29.381711800Z",
     "start_time": "2024-03-08T11:22:29.237786200Z"
    }
   },
   "outputs": [],
   "source": [
    "# this dataframe contains the whole train set \n",
    "df_train = df_train.drop(['label'],axis=1)\n",
    "df_train = df_train.reset_index().drop(['index'], axis=1)\n",
    "#df_train"
   ]
  },
  {
   "cell_type": "code",
   "execution_count": 279,
   "metadata": {
    "collapsed": true,
    "jupyter": {
     "outputs_hidden": true,
     "source_hidden": true
    },
    "ExecuteTime": {
     "end_time": "2024-03-08T11:22:29.456546Z",
     "start_time": "2024-03-08T11:22:29.347913900Z"
    }
   },
   "outputs": [],
   "source": [
    "# this dataframe contains the whole validation set\n",
    "df_val = df_val.drop(['label'],axis=1)\n",
    "df_val = df_val.reset_index().drop(['index'], axis=1)\n",
    "#df_val"
   ]
  },
  {
   "cell_type": "code",
   "execution_count": 280,
   "metadata": {
    "collapsed": true,
    "jupyter": {
     "outputs_hidden": true,
     "source_hidden": true
    },
    "ExecuteTime": {
     "end_time": "2024-03-08T11:22:29.556875700Z",
     "start_time": "2024-03-08T11:22:29.442169300Z"
    }
   },
   "outputs": [],
   "source": [
    "# this dataframe contains the whole test set\n",
    "df_test = df_test.drop(['label'],axis=1)\n",
    "df_test = df_test.reset_index().drop(['index'], axis=1)\n",
    "#df_test"
   ]
  },
  {
   "cell_type": "markdown",
   "metadata": {
    "collapsed": false
   },
   "source": [
    "## Using features obtained with a random forest on numerical features only"
   ]
  },
  {
   "cell_type": "markdown",
   "metadata": {
    "collapsed": false
   },
   "source": [
    "# List of feature names\n",
    "feature_names_l1 = ['src_bytes', 'logged_in', 'count', 'srv_count', 'srv_serror_rate',\n",
    "       'same_srv_rate', 'diff_srv_rate', 'dst_host_srv_count',\n",
    "       'dst_host_same_srv_rate', 'dst_host_diff_srv_rate',\n",
    "       'dst_host_same_src_port_rate', 'dst_host_srv_diff_host_rate',\n",
    "       'dst_host_srv_serror_rate', 'dst_host_rerror_rate',\n",
    "       'dst_host_srv_rerror_rate']\n",
    "\n",
    "# Selecting features using loc\n",
    "X_train = df_train.loc[:, feature_names_l1]\n",
    "X_validate = df_val.loc[:, feature_names_l1]\n",
    "X_test = df_test.loc[:, feature_names_l1]"
   ]
  },
  {
   "cell_type": "code",
   "execution_count": 281,
   "metadata": {
    "collapsed": true,
    "jupyter": {
     "outputs_hidden": true,
     "source_hidden": true
    },
    "ExecuteTime": {
     "end_time": "2024-03-08T11:22:29.638749200Z",
     "start_time": "2024-03-08T11:22:29.568980400Z"
    }
   },
   "outputs": [],
   "source": [
    "# Using the features extracted by using the ICFS algorithm\n",
    "X_train = df_train[common_features_l1]\n",
    "X_validate = df_val[common_features_l1]\n",
    "X_test = df_test[common_features_l1]"
   ]
  },
  {
   "cell_type": "markdown",
   "metadata": {
    "collapsed": false
   },
   "source": []
  },
  {
   "cell_type": "code",
   "execution_count": 282,
   "metadata": {
    "collapsed": true,
    "jupyter": {
     "outputs_hidden": true,
     "source_hidden": true
    },
    "ExecuteTime": {
     "end_time": "2024-03-08T11:22:29.757234500Z",
     "start_time": "2024-03-08T11:22:29.633710800Z"
    }
   },
   "outputs": [],
   "source": [
    "# 2 one-hot encoders, one for the features of layer1 and one for the features of layer2\n",
    "ohe = OneHotEncoder(handle_unknown='ignore')\n",
    "ohe2 = OneHotEncoder(handle_unknown='ignore')"
   ]
  },
  {
   "cell_type": "code",
   "execution_count": 283,
   "metadata": {
    "collapsed": true,
    "jupyter": {
     "outputs_hidden": true,
     "source_hidden": true
    },
    "ExecuteTime": {
     "end_time": "2024-03-08T11:22:29.825971400Z",
     "start_time": "2024-03-08T11:22:29.757234500Z"
    }
   },
   "outputs": [],
   "source": [
    "scaler1 = MinMaxScaler()"
   ]
  },
  {
   "cell_type": "code",
   "execution_count": 284,
   "metadata": {
    "collapsed": true,
    "jupyter": {
     "outputs_hidden": true,
     "source_hidden": true
    },
    "ExecuteTime": {
     "end_time": "2024-03-08T11:22:29.935617300Z",
     "start_time": "2024-03-08T11:22:29.820347600Z"
    }
   },
   "outputs": [],
   "source": [
    "scaler2 = MinMaxScaler()"
   ]
  },
  {
   "cell_type": "code",
   "execution_count": 285,
   "metadata": {
    "collapsed": true,
    "jupyter": {
     "outputs_hidden": true,
     "source_hidden": true
    },
    "ExecuteTime": {
     "end_time": "2024-03-08T11:22:30.021156200Z",
     "start_time": "2024-03-08T11:22:29.907221700Z"
    }
   },
   "outputs": [],
   "source": [
    "# scaling the train set for layer1\n",
    "df_minmax = scaler1.fit_transform(X_train)\n",
    "X_train = pd.DataFrame(df_minmax, columns=X_train.columns)\n",
    "\n",
    "#X_train"
   ]
  },
  {
   "cell_type": "code",
   "execution_count": 286,
   "metadata": {
    "collapsed": true,
    "jupyter": {
     "outputs_hidden": true,
     "source_hidden": true
    },
    "ExecuteTime": {
     "end_time": "2024-03-08T11:22:30.080060800Z",
     "start_time": "2024-03-08T11:22:29.982705Z"
    }
   },
   "outputs": [],
   "source": [
    "# scaling the validation set for layer1\n",
    "df_minmax_val = scaler1.transform(X_validate)\n",
    "X_validate = pd.DataFrame(df_minmax_val, columns=X_validate.columns)\n",
    "\n",
    "#X_validate"
   ]
  },
  {
   "cell_type": "code",
   "execution_count": 287,
   "metadata": {
    "collapsed": true,
    "jupyter": {
     "outputs_hidden": true,
     "source_hidden": true
    },
    "ExecuteTime": {
     "end_time": "2024-03-08T11:22:30.217479300Z",
     "start_time": "2024-03-08T11:22:30.082756700Z"
    }
   },
   "outputs": [],
   "source": [
    "# scaling the test set for layer1\n",
    "df_minmax_test = scaler1.transform(X_test)\n",
    "X_test = pd.DataFrame(df_minmax_test, columns=X_test.columns)\n",
    "\n",
    "#X_vtest"
   ]
  },
  {
   "cell_type": "code",
   "execution_count": 288,
   "metadata": {
    "collapsed": true,
    "jupyter": {
     "outputs_hidden": true,
     "source_hidden": true
    },
    "ExecuteTime": {
     "end_time": "2024-03-08T11:22:30.390695800Z",
     "start_time": "2024-03-08T11:22:30.200101400Z"
    }
   },
   "outputs": [],
   "source": [
    "# perform One-hot encoding for the train set\n",
    "label_enc = ohe.fit_transform(df_train[categorical_features])\n",
    "label_enc.toarray()\n",
    "new_labels = ohe.get_feature_names_out(categorical_features)\n",
    "df_enc = pd.DataFrame(data=label_enc.toarray(), columns=new_labels)\n",
    "X_train = pd.concat([X_train, df_enc], axis=1)"
   ]
  },
  {
   "cell_type": "code",
   "execution_count": 289,
   "metadata": {
    "collapsed": true,
    "jupyter": {
     "outputs_hidden": true,
     "source_hidden": true
    },
    "ExecuteTime": {
     "end_time": "2024-03-08T11:22:30.490629200Z",
     "start_time": "2024-03-08T11:22:30.347122800Z"
    }
   },
   "outputs": [],
   "source": [
    "# perform One-hot encoding for the validation set\n",
    "label_enc = ohe.transform(df_val[categorical_features])\n",
    "label_enc.toarray()\n",
    "new_labels = ohe.get_feature_names_out(categorical_features)\n",
    "df_enc = pd.DataFrame(data=label_enc.toarray(), columns=new_labels)\n",
    "X_validate = pd.concat([X_validate, df_enc], axis=1)\n",
    "\n",
    "#X_validate"
   ]
  },
  {
   "cell_type": "code",
   "execution_count": 290,
   "metadata": {
    "collapsed": true,
    "jupyter": {
     "outputs_hidden": true,
     "source_hidden": true
    },
    "ExecuteTime": {
     "end_time": "2024-03-08T11:22:30.543296800Z",
     "start_time": "2024-03-08T11:22:30.423257800Z"
    }
   },
   "outputs": [],
   "source": [
    "# perform One-hot encoding for the test set\n",
    "label_enc = ohe.transform(df_test[categorical_features])\n",
    "label_enc.toarray()\n",
    "new_labels = ohe.get_feature_names_out(categorical_features)\n",
    "df_enc = pd.DataFrame(data=label_enc.toarray(), columns=new_labels)\n",
    "X_test = pd.concat([X_test, df_enc], axis=1)\n",
    "\n",
    "#X_test"
   ]
  },
  {
   "cell_type": "code",
   "execution_count": 291,
   "metadata": {
    "collapsed": true,
    "jupyter": {
     "outputs_hidden": true,
     "source_hidden": true
    },
    "ExecuteTime": {
     "end_time": "2024-03-08T11:22:30.599515400Z",
     "start_time": "2024-03-08T11:22:30.487153800Z"
    }
   },
   "outputs": [
    {
     "name": "stdout",
     "output_type": "stream",
     "text": [
      "Shape of the whole train set:  (88181, 99)\n",
      "Shape of its targets:  (88181,)\n",
      "Shape of the whole train set:  (37792, 99)\n",
      "Shape of its targets:  (37792,)\n",
      "Shape of the whole test set:  (22544, 99)\n",
      "Shape of its targets:  (22544,)\n"
     ]
    }
   ],
   "source": [
    "print('Shape of the whole train set: ', X_train.shape)\n",
    "print('Shape of its targets: ', y_train_l1.shape)\n",
    "print('Shape of the whole train set: ', X_validate.shape)\n",
    "print('Shape of its targets: ', y_validate_l1.shape)\n",
    "print('Shape of the whole test set: ', X_test.shape)\n",
    "print('Shape of its targets: ', y_test.shape)"
   ]
  },
  {
   "cell_type": "markdown",
   "metadata": {
    "collapsed": false
   },
   "source": [
    "# Export the dataset for training layer 1\n",
    "if EXPORT_DATASETS:\n",
    "    X_train.to_csv('EvalResources/ProcessedDatasets/x_train_l1.txt', index=False)\n",
    "    X_validate.to_csv('EvalResources/ProcessedDatasets/x_val_l1.txt', index=False)\n",
    "    np.save('EvalResources/ProcessedWithPCA/y_train_l1', y_train_l1)\n",
    "    np.save('EvalResources/ProcessedWithPCA/y_val_l1', y_validate_l1)\n",
    "    np.save('EvalResources/ProcessedWithPCA/y_test_l1', y_test)"
   ]
  },
  {
   "cell_type": "markdown",
   "metadata": {
    "collapsed": false
   },
   "source": [
    "### Principal Component Analysis"
   ]
  },
  {
   "cell_type": "code",
   "execution_count": 292,
   "metadata": {
    "collapsed": true,
    "jupyter": {
     "outputs_hidden": true,
     "source_hidden": true
    },
    "ExecuteTime": {
     "end_time": "2024-03-08T11:22:31.994911Z",
     "start_time": "2024-03-08T11:22:30.591045500Z"
    }
   },
   "outputs": [
    {
     "data": {
      "text/plain": "(88181, 28)"
     },
     "execution_count": 292,
     "metadata": {},
     "output_type": "execute_result"
    }
   ],
   "source": [
    "pca_dos_probe = PCA(n_components=0.95)\n",
    "X_train_dos_probe = pca_dos_probe.fit_transform(X_train)\n",
    "X_test_dos_probe = pca_dos_probe.transform(X_test)\n",
    "X_validate_dos_probe = pca_dos_probe.transform(X_validate)\n",
    "\n",
    "# X_train = X_train.sort_index(axis=1)\n",
    "X_train_dos_probe.shape"
   ]
  },
  {
   "cell_type": "markdown",
   "source": [
    "if EXPORT_PCA:\n",
    "    # save the pca transformed datasets for layer1\n",
    "    column_names = [f'PC{i}' for i in range(1, X_test_dos_probe.shape[1] + 1)]\n",
    "    x = pd.DataFrame(data=X_test_dos_probe, columns=column_names)\n",
    "    x.to_csv('EvalResources/ProcessedDatasets/KDDTest+_l1_pca.txt', index=False)\n",
    "    \n",
    "    column_names = [f'PC{i}' for i in range(1, X_train_dos_probe.shape[1] + 1)]\n",
    "    x = pd.DataFrame(data=X_train_dos_probe, columns=column_names)\n",
    "    x.to_csv('EvalResources/ProcessedDatasets/KDDTrain+_l1_pca.txt', index=False)\n",
    "    \n",
    "    column_names = [f'PC{i}' for i in range(1, X_validate_dos_probe.shape[1] + 1)]\n",
    "    x = pd.DataFrame(data=X_validate_dos_probe, columns=column_names)\n",
    "    x.to_csv('EvalResources/ProcessedDatasets/KDDValidate+_l1_pca.txt', index=False)\n",
    "    \n",
    "    # save the correspondant target values\n",
    "    np.save(\"EvalResources/ProcessedDatasets//KDDTrain+_l1_targets\", y_train_l1)\n",
    "    np.save(\"EvalResources/ProcessedDatasets/KDDValidate+_l1_targets\", y_validate_l1)\n",
    "    np.save(\"EvalResources/ProcessedDatasets//KDDTest+_l1_targets\", y_test)"
   ],
   "metadata": {
    "collapsed": false
   }
  },
  {
   "cell_type": "markdown",
   "metadata": {
    "collapsed": false
   },
   "source": [
    "### Building the classifier for the layer1"
   ]
  },
  {
   "cell_type": "code",
   "execution_count": 293,
   "metadata": {
    "collapsed": true,
    "jupyter": {
     "outputs_hidden": true,
     "source_hidden": true
    },
    "ExecuteTime": {
     "end_time": "2024-03-08T11:22:32.011812300Z",
     "start_time": "2024-03-08T11:22:31.963933900Z"
    }
   },
   "outputs": [],
   "source": [
    "from datetime import datetime"
   ]
  },
  {
   "cell_type": "markdown",
   "metadata": {
    "collapsed": false
   },
   "source": []
  },
  {
   "cell_type": "code",
   "execution_count": 294,
   "metadata": {
    "collapsed": true,
    "jupyter": {
     "outputs_hidden": true,
     "source_hidden": true
    },
    "ExecuteTime": {
     "end_time": "2024-03-08T11:22:32.258198900Z",
     "start_time": "2024-03-08T11:22:31.969018900Z"
    }
   },
   "outputs": [],
   "source": [
    "# Voting classifiers\n",
    "\n",
    "voting_classifiers = []"
   ]
  },
  {
   "cell_type": "code",
   "execution_count": 295,
   "outputs": [],
   "source": [
    "from sklearn.ensemble import HistGradientBoostingClassifier\n",
    "\n",
    "# Using HistGradientBoosting classifier\n",
    "dos_probe_classifier = HistGradientBoostingClassifier()\n",
    "\n",
    "start = datetime.now()\n",
    "dos_probe_classifier.fit(X_train_dos_probe, y_train_l1)\n",
    "ttime = datetime.now() - start\n",
    "\n",
    "\n",
    "voting_classifiers.append((\"hgbc\", dos_probe_classifier))"
   ],
   "metadata": {
    "collapsed": false,
    "ExecuteTime": {
     "end_time": "2024-03-08T11:22:34.024249300Z",
     "start_time": "2024-03-08T11:22:32.016008300Z"
    }
   }
  },
  {
   "cell_type": "markdown",
   "source": [
    "# Using Random Forest Classifier\n",
    "dos_probe_classifier = RandomForestClassifier()\n",
    "\n",
    "start = datetime.now()\n",
    "dos_probe_classifier.fit(X_train_dos_probe, y_train_l1)\n",
    "ttime = datetime.now() - start\n",
    "\n",
    "voting_classifiers.append((\"rf\", dos_probe_classifier))"
   ],
   "metadata": {
    "collapsed": false
   }
  },
  {
   "cell_type": "markdown",
   "source": [
    "predicted = dos_probe_classifier.predict(X_test_dos_probe)\n",
    "\n",
    "print('Metrics for layer 1:')\n",
    "print('Confusion matrix: [TP FN / FP TN]\\n', confusion_matrix(y_test,predicted))\n",
    "print('Accuracy = ', accuracy_score(y_test,predicted))\n",
    "print('F1 Score = ', f1_score(y_test,predicted))\n",
    "print('Precision = ', precision_score(y_test,predicted))\n",
    "print('Recall = ', recall_score(y_test,predicted))\n",
    "print('Train time = ', ttime)"
   ],
   "metadata": {
    "collapsed": false
   }
  },
  {
   "cell_type": "markdown",
   "metadata": {
    "collapsed": false
   },
   "source": [
    "# test the other classifiers obtained in the evaluation phase\n",
    "dos_probe_classifier = joblib.load(\"TunerProcess/TunedModels/l1_classifier.pkl\")\n",
    "#classifier2 = joblib.load(\"TunerProcess/TunedModels/l1_classifier.pkl\")"
   ]
  },
  {
   "cell_type": "markdown",
   "source": [
    "# Using the Naive Bayes Classifier\n",
    "dos_probe_classifier = GaussianNB()\n",
    "\n",
    "voting_classifiers.append((\"nbc\", dos_probe_classifier))"
   ],
   "metadata": {
    "collapsed": false
   }
  },
  {
   "cell_type": "markdown",
   "source": [
    "start = datetime.now()\n",
    "dos_probe_classifier.fit(X_train_dos_probe, y_train_l1)\n",
    "ttime = datetime.now() - start\n",
    "\n",
    "predicted = dos_probe_classifier.predict(X_test_dos_probe)\n",
    "\n",
    "print('Metrics for layer 1:')\n",
    "print('Confusion matrix: [TP FN / FP TN]\\n', confusion_matrix(y_test,predicted))\n",
    "print('Accuracy = ', accuracy_score(y_test,predicted))\n",
    "print('F1 Score = ', f1_score(y_test,predicted))\n",
    "print('Precision = ', precision_score(y_test,predicted))\n",
    "print('Recall = ', recall_score(y_test,predicted))\n",
    "print('Train time = ', ttime)\n",
    "print('Shape of the train set for l1: ', X_train_dos_probe.shape)"
   ],
   "metadata": {
    "collapsed": false
   }
  },
  {
   "cell_type": "markdown",
   "metadata": {
    "collapsed": false
   },
   "source": [
    "# Voting classifier"
   ]
  },
  {
   "cell_type": "markdown",
   "source": [
    "from sklearn.ensemble import VotingClassifier\n",
    "\n",
    "dos_probe_classifier = VotingClassifier(estimators=voting_classifiers, voting='soft')"
   ],
   "metadata": {
    "collapsed": false
   }
  },
  {
   "cell_type": "markdown",
   "source": [],
   "metadata": {
    "collapsed": false
   }
  },
  {
   "cell_type": "markdown",
   "source": [
    "start = datetime.now()\n",
    "dos_probe_classifier.fit(X_train_dos_probe, y_train_l1)\n",
    "ttime = datetime.now() - start"
   ],
   "metadata": {
    "collapsed": false
   }
  },
  {
   "cell_type": "markdown",
   "source": [
    "predicted = dos_probe_classifier.predict(X_test_dos_probe)\n",
    "\n",
    "print('Using a voting classifier:')\n",
    "print('Confusion matrix: [TP FN / FP TN]\\n', confusion_matrix(y_test,predicted))\n",
    "print('Accuracy = ', accuracy_score(y_test,predicted))\n",
    "print('F1 Score = ', f1_score(y_test,predicted))\n",
    "print('Precision = ', precision_score(y_test,predicted))\n",
    "print('Recall = ', recall_score(y_test,predicted))\n",
    "print('Train time = ', ttime)\n",
    "print('Shape of the train set for l1: ', X_train_dos_probe.shape)"
   ],
   "metadata": {
    "collapsed": false
   }
  },
  {
   "cell_type": "markdown",
   "metadata": {},
   "source": [
    "# R2L+U2R classifier"
   ]
  },
  {
   "cell_type": "code",
   "execution_count": 296,
   "metadata": {
    "collapsed": true,
    "jupyter": {
     "outputs_hidden": true,
     "source_hidden": true
    },
    "ExecuteTime": {
     "end_time": "2024-03-08T11:22:34.160702200Z",
     "start_time": "2024-03-08T11:22:33.956653500Z"
    }
   },
   "outputs": [],
   "source": [
    "df_train = copy.deepcopy(df_train_original)\n",
    "df_test = copy.deepcopy(df_test_original)\n",
    "df_val = copy.deepcopy(df_val_original)\n",
    "\n",
    "# load targeted attacks (Normal + r2l + u2r)\n",
    "df_train = df_train[df_train['label'].isin(normal_list+u2r_attacks+r2l_attacks)]\n",
    "df_val = df_val[df_val['label'].isin(normal_list+u2r_attacks+r2l_attacks)]\n",
    "df_test = df_test[df_test['label'].isin(normal_list+u2r_attacks+r2l_attacks)]\n",
    "\n",
    "# set the target variables accordingly\n",
    "y_train_l2 = np.array([1 if x in (u2r_attacks+r2l_attacks) else 0 for x in df_train['label']])\n",
    "y_validate_l2 = np.array([1 if x in (u2r_attacks+r2l_attacks) else 0 for x in df_val['label']])\n",
    "y_test = np.array([1 if x in (u2r_attacks+r2l_attacks) else 0 for x in df_test['label']])\n",
    "\n",
    "df_train = df_train.drop(['label'],axis=1)\n",
    "df_train = df_train.reset_index().drop(['index'], axis=1)\n",
    "#df_train"
   ]
  },
  {
   "cell_type": "code",
   "execution_count": 297,
   "metadata": {
    "collapsed": true,
    "jupyter": {
     "outputs_hidden": true,
     "source_hidden": true
    },
    "ExecuteTime": {
     "end_time": "2024-03-08T11:22:34.177481400Z",
     "start_time": "2024-03-08T11:22:34.079019Z"
    }
   },
   "outputs": [],
   "source": [
    "df_val = df_val.drop(['label'],axis=1)\n",
    "df_val = df_val.reset_index().drop(['index'], axis=1)\n",
    "#df_val"
   ]
  },
  {
   "cell_type": "code",
   "execution_count": 298,
   "metadata": {
    "collapsed": true,
    "jupyter": {
     "outputs_hidden": true,
     "source_hidden": true
    },
    "ExecuteTime": {
     "end_time": "2024-03-08T11:22:34.237685700Z",
     "start_time": "2024-03-08T11:22:34.095756200Z"
    }
   },
   "outputs": [],
   "source": [
    "df_test = df_test.drop(['label'],axis=1)\n",
    "df_test = df_test.reset_index().drop(['index'], axis=1)\n",
    "#df_test"
   ]
  },
  {
   "cell_type": "code",
   "execution_count": 299,
   "metadata": {
    "collapsed": true,
    "jupyter": {
     "outputs_hidden": true,
     "source_hidden": true
    },
    "ExecuteTime": {
     "end_time": "2024-03-08T11:22:34.242359600Z",
     "start_time": "2024-03-08T11:22:34.115249600Z"
    }
   },
   "outputs": [],
   "source": [
    "X_train = df_train\n",
    "X_validate = df_val\n",
    "X_test = df_test"
   ]
  },
  {
   "cell_type": "markdown",
   "metadata": {
    "collapsed": false
   },
   "source": [
    "## Using features obtained with a random forest on numerical features only"
   ]
  },
  {
   "cell_type": "markdown",
   "metadata": {
    "collapsed": false
   },
   "source": [
    "# List of feature names\n",
    "feature_names_l2 = ['count', 'is_guest_login', 'srv_count', 'hot', 'dst_host_serror_rate',\n",
    "       'dst_host_srv_count', 'dst_host_count', 'dst_host_same_srv_rate',\n",
    "       'dst_host_same_src_port_rate', 'num_file_creations', 'diff_srv_rate']\n",
    "\n",
    "# Selecting features using loc\n",
    "X_train = df_train.loc[:, feature_names_l2]\n",
    "X_validate = df_val.loc[:, feature_names_l2]\n",
    "X_test = df_test.loc[:, feature_names_l2]"
   ]
  },
  {
   "cell_type": "code",
   "execution_count": 300,
   "metadata": {
    "collapsed": true,
    "jupyter": {
     "outputs_hidden": true,
     "source_hidden": true
    },
    "ExecuteTime": {
     "end_time": "2024-03-08T11:22:34.266770300Z",
     "start_time": "2024-03-08T11:22:34.119192500Z"
    }
   },
   "outputs": [],
   "source": [
    "X_train = df_train[common_features_l2]\n",
    "X_validate = df_val[common_features_l2]\n",
    "X_test = df_test[common_features_l2]"
   ]
  },
  {
   "cell_type": "code",
   "execution_count": 301,
   "metadata": {
    "collapsed": true,
    "jupyter": {
     "outputs_hidden": true,
     "source_hidden": true
    },
    "ExecuteTime": {
     "end_time": "2024-03-08T11:22:34.311146800Z",
     "start_time": "2024-03-08T11:22:34.130526500Z"
    }
   },
   "outputs": [],
   "source": [
    "df_minmax = scaler2.fit_transform(X_train)\n",
    "X_train = pd.DataFrame(df_minmax, columns=X_train.columns)\n",
    "#X_train"
   ]
  },
  {
   "cell_type": "code",
   "execution_count": 302,
   "metadata": {
    "collapsed": true,
    "jupyter": {
     "outputs_hidden": true,
     "source_hidden": true
    },
    "ExecuteTime": {
     "end_time": "2024-03-08T11:22:34.314282800Z",
     "start_time": "2024-03-08T11:22:34.147133800Z"
    }
   },
   "outputs": [],
   "source": [
    "df_minmax = scaler2.transform(X_validate)\n",
    "X_validate = pd.DataFrame(df_minmax, columns=X_validate.columns)\n",
    "#X_validate"
   ]
  },
  {
   "cell_type": "code",
   "execution_count": 303,
   "metadata": {
    "collapsed": true,
    "jupyter": {
     "outputs_hidden": true,
     "source_hidden": true
    },
    "ExecuteTime": {
     "end_time": "2024-03-08T11:22:34.369377600Z",
     "start_time": "2024-03-08T11:22:34.159631200Z"
    }
   },
   "outputs": [],
   "source": [
    "df_minmax = scaler2.transform(X_test)\n",
    "X_test = pd.DataFrame(df_minmax, columns=X_test.columns)\n",
    "#X_test"
   ]
  },
  {
   "cell_type": "code",
   "execution_count": 304,
   "metadata": {
    "collapsed": true,
    "jupyter": {
     "outputs_hidden": true,
     "source_hidden": true
    },
    "ExecuteTime": {
     "end_time": "2024-03-08T11:22:34.391253100Z",
     "start_time": "2024-03-08T11:22:34.169762Z"
    }
   },
   "outputs": [],
   "source": [
    "# perform One-hot encoding for the train set\n",
    "label_enc = ohe2.fit_transform(df_train[categorical_features])\n",
    "label_enc.toarray()\n",
    "new_labels = ohe2.get_feature_names_out(categorical_features)\n",
    "df_enc = pd.DataFrame(data=label_enc.toarray(), columns=new_labels)\n",
    "X_train = pd.concat([X_train, df_enc], axis=1)\n",
    "#X_train"
   ]
  },
  {
   "cell_type": "code",
   "execution_count": 305,
   "metadata": {
    "collapsed": true,
    "jupyter": {
     "outputs_hidden": true,
     "source_hidden": true
    },
    "ExecuteTime": {
     "end_time": "2024-03-08T11:22:34.528459500Z",
     "start_time": "2024-03-08T11:22:34.225728800Z"
    }
   },
   "outputs": [],
   "source": [
    "# perform One-hot encoding for the validation set\n",
    "label_enc = ohe2.transform(df_val[categorical_features])\n",
    "label_enc.toarray()\n",
    "new_labels = ohe2.get_feature_names_out(categorical_features)\n",
    "df_enc = pd.DataFrame(data=label_enc.toarray(), columns=new_labels)\n",
    "X_validate = pd.concat([X_validate, df_enc], axis=1)\n",
    "#X_validate"
   ]
  },
  {
   "cell_type": "code",
   "execution_count": 306,
   "metadata": {
    "collapsed": true,
    "jupyter": {
     "outputs_hidden": true,
     "source_hidden": true
    },
    "ExecuteTime": {
     "end_time": "2024-03-08T11:22:34.565261800Z",
     "start_time": "2024-03-08T11:22:34.261759Z"
    }
   },
   "outputs": [],
   "source": [
    "# perform One-hot encoding for the test set\n",
    "label_enc = ohe2.transform(df_test[categorical_features])\n",
    "label_enc.toarray()\n",
    "new_labels = ohe2.get_feature_names_out(categorical_features)\n",
    "df_enc = pd.DataFrame(data=label_enc.toarray(), columns=new_labels)\n",
    "X_test = pd.concat([X_test, df_enc], axis=1)\n",
    "#X_test"
   ]
  },
  {
   "cell_type": "code",
   "execution_count": 307,
   "metadata": {
    "collapsed": true,
    "jupyter": {
     "outputs_hidden": true,
     "source_hidden": true
    },
    "ExecuteTime": {
     "end_time": "2024-03-08T11:22:34.570975600Z",
     "start_time": "2024-03-08T11:22:34.288021200Z"
    }
   },
   "outputs": [
    {
     "name": "stdout",
     "output_type": "stream",
     "text": [
      "Shape of the train set:  (47873, 51)\n",
      "Shape of its target:  (47873,)\n",
      "Shape of the test set:  (12663, 51)\n",
      "Shape of its target:  (12663,)\n"
     ]
    }
   ],
   "source": [
    "print('Shape of the train set: ', X_train.shape)\n",
    "print('Shape of its target: ', y_train_l2.shape)\n",
    "print('Shape of the test set: ', X_test.shape)\n",
    "print('Shape of its target: ', y_test.shape)"
   ]
  },
  {
   "cell_type": "code",
   "execution_count": 308,
   "metadata": {
    "collapsed": true,
    "jupyter": {
     "outputs_hidden": true,
     "source_hidden": true
    },
    "ExecuteTime": {
     "end_time": "2024-03-08T11:22:34.614379600Z",
     "start_time": "2024-03-08T11:22:34.295268700Z"
    }
   },
   "outputs": [],
   "source": [
    "# Under sampling the train set for l2\n",
    "sm = under_sam(sampling_strategy=1)\n",
    "X_train, y_train_l2 = sm.fit_resample(X_train,y_train_l2)"
   ]
  },
  {
   "cell_type": "markdown",
   "source": [
    "# Under sampling the validation set for l2\n",
    "sm = under_sam(sampling_strategy=1)\n",
    "X_validate, y_validate_l2 = sm.fit_resample(X_validate,y_validate_l2)"
   ],
   "metadata": {
    "collapsed": false
   }
  },
  {
   "cell_type": "markdown",
   "metadata": {
    "collapsed": false
   },
   "source": [
    "## Export the datasets\n",
    "Train set has been scaled, one hot encoded, undersampled\n",
    "Test set has been scaled and one hot encoded"
   ]
  },
  {
   "cell_type": "markdown",
   "metadata": {
    "collapsed": false
   },
   "source": [
    "# Export the dataset for training layer 2\n",
    "if EXPORT_DATASETS:\n",
    "    # X_train.to_csv('EvalResources/ProcessedDatasets/x_train_l2.txt', index=False)\n",
    "    np.save('EvalResources/ProcessedWithPCA/y_train_l2', y_train_l2)\n",
    "    # X_validate.to_csv('EvalResources/ProcessedDatasets/x_val_l2.txt', index=False)\n",
    "    np.save('EvalResources/ProcessedWithPCA/y_val_l2', y_val)\n",
    "    np.save('EvalResources/ProcessedWithPCA/y_test_l2', y_test)"
   ]
  },
  {
   "cell_type": "code",
   "execution_count": 310,
   "metadata": {
    "collapsed": true,
    "jupyter": {
     "outputs_hidden": true,
     "source_hidden": true
    },
    "ExecuteTime": {
     "end_time": "2024-03-08T11:22:34.677573800Z",
     "start_time": "2024-03-08T11:22:34.348295300Z"
    }
   },
   "outputs": [],
   "source": [
    "# Principal Component Analysis\n",
    "pca_r2l_u2r = PCA(n_components=0.95)\n",
    "X_train_r2l_u2r = pca_r2l_u2r.fit_transform(X_train)\n",
    "X_test_r2l_u2r = pca_r2l_u2r.transform(X_test)\n",
    "X_validate_r2l_u2r = pca_r2l_u2r.transform(X_validate)"
   ]
  },
  {
   "cell_type": "code",
   "execution_count": 311,
   "metadata": {
    "collapsed": true,
    "jupyter": {
     "outputs_hidden": true,
     "source_hidden": true
    },
    "ExecuteTime": {
     "end_time": "2024-03-08T11:22:34.710066300Z",
     "start_time": "2024-03-08T11:22:34.387062800Z"
    }
   },
   "outputs": [],
   "source": [
    "# Support Vector Machine for layer l2\n",
    "r2l_u2r_classifier = SVC(probability=True)\n",
    "\n",
    "#r2l_u2r_classifier = SVC()\n",
    "\n",
    "start = datetime.now()\n",
    "r2l_u2r_classifier.fit(X_train_r2l_u2r, y_train_l2)\n",
    "ttime = datetime.now() - start"
   ]
  },
  {
   "cell_type": "markdown",
   "metadata": {
    "collapsed": false
   },
   "source": [
    "predicted = r2l_u2r_classifier.predict(X_test_r2l_u2r)\n",
    "\n",
    "print('Metrics for layer 2:')\n",
    "print('Confusion matrix: [TP FN / FP TN]\\n', confusion_matrix(y_test,predicted))\n",
    "print('Accuracy = ', accuracy_score(y_test,predicted))\n",
    "print('F1 Score = ', f1_score(y_test,predicted))\n",
    "print('Precision = ', precision_score(y_test,predicted))\n",
    "print('Recall = ', recall_score(y_test,predicted))\n",
    "print('Matthew corr = ', matthews_corrcoef(y_test,predicted))\n",
    "print('Train time = ', ttime)\n",
    "print('Shape of the training set: ', X_train_r2l_u2r.shape)"
   ]
  },
  {
   "cell_type": "markdown",
   "metadata": {
    "collapsed": false
   },
   "source": [
    "predicted = r2l_u2r_classifier.predict(X_train_r2l_u2r)\n",
    "\n",
    "print('Metrics for layer 2:')\n",
    "print('Confusion matrix: [TP FN / FP TN]\\n', confusion_matrix(y_train_l2,predicted))\n",
    "print('Accuracy = ', accuracy_score(y_train_l2,predicted))\n",
    "print('F1 Score = ', f1_score(y_train_l2,predicted))\n",
    "print('Precision = ', precision_score(y_train_l2,predicted))\n",
    "print('Recall = ', recall_score(y_train_l2,predicted))\n",
    "print('Matthew corr = ', matthews_corrcoef(y_train_l2,predicted))"
   ]
  },
  {
   "cell_type": "markdown",
   "source": [
    "if EXPORT_PCA:\n",
    "    # save the pca transformed as well as the transformer\n",
    "    column_names = [f'PC{i}' for i in range(1, X_test_r2l_u2r.shape[1] + 1)]\n",
    "    x = pd.DataFrame(data=X_test_r2l_u2r, columns=column_names)\n",
    "    x.to_csv('EvalResources/ProcessedDatasets/KDDTest+_l2_pca.txt', index=False)\n",
    "    \n",
    "    column_names = [f'PC{i}' for i in range(1, X_train_r2l_u2r.shape[1] + 1)]\n",
    "    x = pd.DataFrame(data=X_train_r2l_u2r, columns=column_names)\n",
    "    x.to_csv('EvalResources/ProcessedDatasets/KDDTrain+_l2_pca.txt', index=False)\n",
    "    \n",
    "    column_names = [f'PC{i}' for i in range(1, X_validate_r2l_u2r.shape[1] + 1)]\n",
    "    x = pd.DataFrame(data=X_validate_r2l_u2r, columns=column_names)\n",
    "    x.to_csv('EvalResources/ProcessedDatasets/KDDValidate+_l2_pca.txt', index=False)\n",
    "\n",
    "    # export the correspondant targets values\n",
    "    np.save(\"EvalResources/ProcessedDatasets//KDDTrain+_l2_targets\", y_train_l2)\n",
    "    np.save(\"EvalResources/ProcessedDatasets/KDDValidate+_l2_targets\", y_validate_l2)\n",
    "    np.save(\"EvalResources/ProcessedDatasets//KDDTest+_l2_targets\", y_test)"
   ],
   "metadata": {
    "collapsed": false
   }
  },
  {
   "cell_type": "markdown",
   "metadata": {
    "collapsed": false
   },
   "source": [
    "### Export the classifiers"
   ]
  },
  {
   "cell_type": "markdown",
   "source": [
    "if EXPORT_MODELS:\n",
    "    with open('EvalResources/Models/HGBC/l1_classifier.pkl', \"wb\") as f:\n",
    "        pickle.dump(dos_probe_classifier, f)\n",
    "    with open('EvalResources/Models/HGBC/l2_classifier.pkl', \"wb\") as f:\n",
    "        pickle.dump(r2l_u2r_classifier, f)"
   ],
   "metadata": {
    "collapsed": false
   }
  },
  {
   "cell_type": "markdown",
   "metadata": {
    "collapsed": false
   },
   "source": [
    "# Export one hot encoders\n",
    "if EXPORT_ENCODERS:\n",
    "    joblib.dump(ohe, 'EvalResources/Encoders/ohe_l1.pkl')\n",
    "    joblib.dump(ohe2, 'EvalResources/Encoders/ohe_l2.pkl')\n",
    "    joblib.dump(scaler1, 'EvalResources/Encoders/Scaler_l1.pkl')\n",
    "    joblib.dump(scaler2, 'EvalResources/Encoders/Scaler_l2.pkl')\n",
    "    joblib.dump(pca_dos_probe, 'EvalResources/Encoders/pca_transformer_l1.pkl')\n",
    "    joblib.dump(pca_r2l_u2r, 'EvalResources/Encoders/pca_transformer_l2.pkl')"
   ]
  },
  {
   "cell_type": "markdown",
   "metadata": {},
   "source": [
    "# Testing"
   ]
  },
  {
   "cell_type": "code",
   "execution_count": 312,
   "metadata": {
    "collapsed": true,
    "jupyter": {
     "outputs_hidden": true,
     "source_hidden": true
    },
    "ExecuteTime": {
     "end_time": "2024-03-08T11:22:34.731330600Z",
     "start_time": "2024-03-08T11:22:34.496429900Z"
    }
   },
   "outputs": [],
   "source": [
    "df_test1 = copy.deepcopy(df_test_original)\n",
    "df_test2 = copy.deepcopy(df_test_original)\n",
    "\n",
    "y_test_real = np.array([0 if x=='normal' else 1 for x in df_test1['label']])\n",
    "\n",
    "np.save(\"EvalResources/Test/KDDTest+_targets\", y_test_real)"
   ]
  },
  {
   "cell_type": "code",
   "execution_count": 313,
   "metadata": {
    "collapsed": true,
    "jupyter": {
     "outputs_hidden": true,
     "source_hidden": true
    },
    "ExecuteTime": {
     "end_time": "2024-03-08T11:22:34.944683900Z",
     "start_time": "2024-03-08T11:22:34.513629100Z"
    }
   },
   "outputs": [
    {
     "data": {
      "text/plain": "(22544,)"
     },
     "execution_count": 313,
     "metadata": {},
     "output_type": "execute_result"
    }
   ],
   "source": [
    "y_test_real.shape"
   ]
  },
  {
   "cell_type": "markdown",
   "metadata": {
    "collapsed": false
   },
   "source": [
    "X_test1 = df_test1.loc[:, feature_names_l1]"
   ]
  },
  {
   "cell_type": "code",
   "execution_count": 314,
   "metadata": {
    "collapsed": true,
    "jupyter": {
     "outputs_hidden": true,
     "source_hidden": true
    },
    "ExecuteTime": {
     "end_time": "2024-03-08T11:22:34.989759Z",
     "start_time": "2024-03-08T11:22:34.524579Z"
    }
   },
   "outputs": [],
   "source": [
    "X_test1 = df_test1[common_features_l1]"
   ]
  },
  {
   "cell_type": "code",
   "execution_count": 315,
   "metadata": {
    "collapsed": true,
    "jupyter": {
     "outputs_hidden": true,
     "source_hidden": true
    },
    "ExecuteTime": {
     "end_time": "2024-03-08T11:22:35.059685900Z",
     "start_time": "2024-03-08T11:22:34.535199900Z"
    }
   },
   "outputs": [
    {
     "name": "stdout",
     "output_type": "stream",
     "text": [
      "Test set shape for layer 1:  (22544, 28)\n"
     ]
    }
   ],
   "source": [
    "df_minmax = scaler1.transform(X_test1)\n",
    "X_test1 = pd.DataFrame(df_minmax, columns=X_test1.columns)\n",
    "label_enc = ohe.transform(df_test1.iloc[:,1:4])\n",
    "label_enc.toarray()\n",
    "new_labels = ohe.get_feature_names_out(categorical_features)\n",
    "df_enc = pd.DataFrame(data=label_enc.toarray(), columns=new_labels)\n",
    "X_test1 = pd.concat([X_test1, df_enc], axis=1)\n",
    "\n",
    "X_test_layer1 = pca_dos_probe.transform(X_test1)\n",
    "print('Test set shape for layer 1: ', X_test_layer1.shape)"
   ]
  },
  {
   "cell_type": "code",
   "execution_count": 316,
   "metadata": {
    "collapsed": true,
    "jupyter": {
     "outputs_hidden": true,
     "source_hidden": true
    },
    "ExecuteTime": {
     "end_time": "2024-03-08T11:22:35.075300400Z",
     "start_time": "2024-03-08T11:22:34.604491Z"
    }
   },
   "outputs": [],
   "source": [
    "#X_test1"
   ]
  },
  {
   "cell_type": "code",
   "execution_count": 317,
   "metadata": {
    "collapsed": true,
    "jupyter": {
     "outputs_hidden": true,
     "source_hidden": true
    },
    "ExecuteTime": {
     "end_time": "2024-03-08T11:22:35.082386300Z",
     "start_time": "2024-03-08T11:22:34.610184700Z"
    }
   },
   "outputs": [],
   "source": [
    "X_test2 = df_test2"
   ]
  },
  {
   "cell_type": "markdown",
   "metadata": {
    "collapsed": false
   },
   "source": [
    "X_test2 = df_test2.loc[:, feature_names_l2]"
   ]
  },
  {
   "cell_type": "code",
   "execution_count": 318,
   "metadata": {
    "collapsed": true,
    "jupyter": {
     "outputs_hidden": true,
     "source_hidden": true
    },
    "ExecuteTime": {
     "end_time": "2024-03-08T11:22:35.087218800Z",
     "start_time": "2024-03-08T11:22:34.620361900Z"
    }
   },
   "outputs": [],
   "source": [
    "X_test2 = df_test2[common_features_l2] "
   ]
  },
  {
   "cell_type": "code",
   "execution_count": 319,
   "metadata": {
    "collapsed": true,
    "jupyter": {
     "outputs_hidden": true,
     "source_hidden": true
    },
    "ExecuteTime": {
     "end_time": "2024-03-08T11:22:35.146443500Z",
     "start_time": "2024-03-08T11:22:34.626370900Z"
    }
   },
   "outputs": [
    {
     "name": "stdout",
     "output_type": "stream",
     "text": [
      "Test set shape for layer 1:  (22544, 28)\n",
      "Test set shape for layer 2:  (22544, 14)\n"
     ]
    }
   ],
   "source": [
    "df_minmax = scaler2.transform(X_test2)\n",
    "X_test2 = pd.DataFrame(df_minmax, columns=X_test2.columns)\n",
    "label_enc = ohe2.transform(df_test2.iloc[:,1:4])\n",
    "label_enc.toarray()\n",
    "new_labels = ohe2.get_feature_names_out(categorical_features)\n",
    "df_enc = pd.DataFrame(data=label_enc.toarray(), columns=new_labels)\n",
    "X_test2 = pd.concat([X_test2, df_enc], axis=1)\n",
    "\n",
    "X_test_layer2 = pca_r2l_u2r.transform(X_test2)\n",
    "print('Test set shape for layer 1: ', X_test_layer1.shape)\n",
    "print('Test set shape for layer 2: ', X_test_layer2.shape)"
   ]
  },
  {
   "cell_type": "code",
   "execution_count": 320,
   "metadata": {
    "collapsed": true,
    "jupyter": {
     "outputs_hidden": true,
     "source_hidden": true
    },
    "ExecuteTime": {
     "end_time": "2024-03-08T11:22:35.163931600Z",
     "start_time": "2024-03-08T11:22:34.681339600Z"
    }
   },
   "outputs": [],
   "source": [
    "#X_test_layer1"
   ]
  },
  {
   "cell_type": "code",
   "execution_count": 321,
   "metadata": {
    "collapsed": true,
    "jupyter": {
     "outputs_hidden": true,
     "source_hidden": true
    },
    "ExecuteTime": {
     "end_time": "2024-03-08T11:22:35.169104400Z",
     "start_time": "2024-03-08T11:22:34.685862Z"
    }
   },
   "outputs": [],
   "source": [
    "#X_test_layer2"
   ]
  },
  {
   "cell_type": "code",
   "execution_count": 322,
   "metadata": {
    "collapsed": true,
    "jupyter": {
     "outputs_hidden": true,
     "source_hidden": true
    },
    "ExecuteTime": {
     "end_time": "2024-03-08T11:22:35.185061300Z",
     "start_time": "2024-03-08T11:22:34.692067Z"
    }
   },
   "outputs": [],
   "source": [
    "# same classifiers obtained above\n",
    "classifier1 = dos_probe_classifier\n",
    "classifier2 = r2l_u2r_classifier"
   ]
  },
  {
   "cell_type": "code",
   "execution_count": 323,
   "metadata": {
    "collapsed": true,
    "jupyter": {
     "outputs_hidden": true,
     "source_hidden": true
    },
    "ExecuteTime": {
     "end_time": "2024-03-08T11:22:35.206718800Z",
     "start_time": "2024-03-08T11:22:34.702831400Z"
    }
   },
   "outputs": [],
   "source": [
    "import warnings\n",
    "\n",
    "# Suppressing the warning\n",
    "warnings.filterwarnings(\"ignore\", message=\"X does not have valid feature names.*\")\n",
    "\n",
    "import numpy as np\n",
    "from datetime import datetime\n",
    "\n",
    "def test_metrics():\n",
    "    result_ = []\n",
    "    tn, fp, fn, tp = 0, 0, 0, 0\n",
    "    \n",
    "    start_ = datetime.now()\n",
    "    \n",
    "    for i in range(X_test_layer2.shape[0]):\n",
    "        layer1_ = classifier1.predict(X_test_layer1[i].reshape(1, -1))[0]\n",
    "        if layer1_ == 1:\n",
    "            result_.append(layer1_)\n",
    "        else:\n",
    "            layer2_ = classifier2.predict(X_test_layer2[i].reshape(1, -1))[0]\n",
    "            if layer2_ == 1:\n",
    "                result_.append(layer2_)\n",
    "            else:\n",
    "                result_.append(0)\n",
    "        # Evaluate confusion matrix\n",
    "        if y_test_real[i] == 1:\n",
    "            if result_[-1] == 1:\n",
    "                tp += 1\n",
    "            else:\n",
    "                fn += 1\n",
    "        else:\n",
    "            if result_[-1] == 1:\n",
    "                fp += 1\n",
    "            else:\n",
    "                tn += 1\n",
    "    \n",
    "    clf_time_ = datetime.now() - start_\n",
    "    \n",
    "    # Calculate rates\n",
    "    tnr_ = tn / (tn + fp)\n",
    "    fpr_= fp / (fp + tn)\n",
    "    fnr_ = fn / (fn + tp)\n",
    "    \n",
    "    return (accuracy_score(y_test_real,np.array(result_)), \n",
    "            f1_score(y_test_real, np.array(result_)),\n",
    "            precision_score(y_test_real, np.array(result_)),\n",
    "            recall_score(y_test_real, np.array(result_)),\n",
    "            clf_time_, tnr_, fpr_, fnr_, np.array(result_))"
   ]
  },
  {
   "cell_type": "code",
   "execution_count": 324,
   "outputs": [
    {
     "name": "stdout",
     "output_type": "stream",
     "text": [
      "Accuracy =  0.8499822569198012\n",
      "F1 Score =  0.8531225571093546\n",
      "Precision =  0.9636024722849014\n",
      "Recall =  0.7653705291046521\n",
      "Classification time =  0:00:40.172385\n",
      "False Positive Rate (FPR) = 0.0382040984450623\n",
      "True Negative Rate (TNR) = 0.9617959015549377\n",
      "False Negative Rate (FNR) = 0.23462947089534794\n"
     ]
    }
   ],
   "source": [
    "# the results may vary\n",
    "accuracy, f_score, precision, recall, clf_time, tnr, fpr, fnr, result = test_metrics()\n",
    "\n",
    "print('Accuracy = ', accuracy)\n",
    "print('F1 Score = ', f_score)\n",
    "print('Precision = ', precision)\n",
    "print('Recall = ', recall)\n",
    "print('Classification time = ', clf_time)\n",
    "print('False Positive Rate (FPR) =', fpr)\n",
    "print('True Negative Rate (TNR) =', tnr)\n",
    "print('False Negative Rate (FNR) =', fnr)"
   ],
   "metadata": {
    "collapsed": false,
    "ExecuteTime": {
     "end_time": "2024-03-08T11:23:14.933148500Z",
     "start_time": "2024-03-08T11:22:34.716951900Z"
    }
   }
  },
  {
   "cell_type": "markdown",
   "source": [
    "# Run the function multiple times and accumulate results\n",
    "num_iterations = 5\n",
    "total_accuracy = 0\n",
    "total_f1_score = 0\n",
    "total_precision = 0\n",
    "total_recall = 0\n",
    "total_clf_time = 0\n",
    "total_tnr = 0\n",
    "total_fpr = 0\n",
    "total_fnr = 0\n",
    "\n",
    "for _ in range(num_iterations):\n",
    "    acc, f1, prec, rec, clf_time, tnr, fpr, fnr, _ = test_metrics()\n",
    "    total_accuracy += acc\n",
    "    total_f1_score += f1\n",
    "    total_precision += prec\n",
    "    total_recall += rec\n",
    "    total_tnr += tnr\n",
    "    total_fpr += fpr\n",
    "    total_fnr += fnr\n",
    "\n",
    "# Calculate averages\n",
    "avg_accuracy = total_accuracy / num_iterations\n",
    "avg_f1_score = total_f1_score / num_iterations\n",
    "avg_precision = total_precision / num_iterations\n",
    "avg_recall = total_recall / num_iterations\n",
    "avg_tnr = total_tnr / num_iterations\n",
    "avg_fpr = total_fpr / num_iterations\n",
    "avg_fnr = total_fnr / num_iterations\n",
    "\n",
    "print('Average Accuracy:', avg_accuracy)\n",
    "print('Average F1 Score:', avg_f1_score)\n",
    "print('Average Precision:', avg_precision)\n",
    "print('Average Recall:', avg_recall)\n",
    "print('Average TNR:', avg_tnr)\n",
    "print('Average FPR:', avg_fpr)\n",
    "print('Average FNR:', avg_fnr)"
   ],
   "metadata": {
    "collapsed": false
   }
  },
  {
   "cell_type": "code",
   "execution_count": 325,
   "outputs": [
    {
     "name": "stdout",
     "output_type": "stream",
     "text": [
      "Number of new attacks in the test set:  3750\n",
      "Number of new attacks detected by the classifiers:  1986\n",
      "Proportion of new attacks detected:  0.5296\n",
      "Number of old attacks in the test set:  9083\n",
      "Number of old attacks detected by the classifiers:  7836\n",
      "Proportion of old attacks detected:  0.8627105581856215\n"
     ]
    }
   ],
   "source": [
    "# load testset\n",
    "df_test = pd.read_csv('EvalResources/KDDTest+.txt', sep=\",\", header=None, skipinitialspace=True)\n",
    "df_test = df_test[df_test.columns[:-1]]\n",
    "df_test.columns = titles.to_list()\n",
    "y_test = df_test['label']\n",
    "df_test = df_test.drop(['num_outbound_cmds'], axis=1)\n",
    "\n",
    "df_test_original = df_test\n",
    "if EXPORT_DATASETS:\n",
    "    df_test_original.to_csv('EvalResources/ProcessedDatasets/x_test_full.txt', index=False)\n",
    "    np.save('EvalResources/ProcessedDatasets/y_test_full', y_test)\n",
    "\n",
    "#df_test_original\n",
    "new_attack = []\n",
    "for i in df_test_original['label'].value_counts().index.tolist()[1:]:\n",
    "    if i not in df_train_original['label'].value_counts().index.tolist()[1:]:\n",
    "        new_attack.append(i)\n",
    "\n",
    "new_attack.sort()\n",
    "#new_attack\n",
    "index_of_new_attacks = []\n",
    "\n",
    "for i in range(len(df_test_original)):\n",
    "    if df_test_original['label'][i] in new_attack:\n",
    "        index_of_new_attacks.append(df_test_original.index[i])\n",
    "\n",
    "new_attack.append('normal')\n",
    "\n",
    "index_of_old_attacks = []\n",
    "\n",
    "for i in range(len(df_test_original)):\n",
    "    if df_test_original['label'][i] not in new_attack:\n",
    "        index_of_old_attacks.append(df_test_original.index[i])\n",
    "print('Number of new attacks in the test set: ', result[index_of_new_attacks].shape[0])\n",
    "print('Number of new attacks detected by the classifiers: ', result[index_of_new_attacks].sum())\n",
    "print('Proportion of new attacks detected: ',\n",
    "      result[index_of_new_attacks].sum() / result[index_of_new_attacks].shape[0])\n",
    "print('Number of old attacks in the test set: ', result[index_of_old_attacks].shape[0])\n",
    "print('Number of old attacks detected by the classifiers: ', result[index_of_old_attacks].sum())\n",
    "print('Proportion of old attacks detected: ',\n",
    "      result[index_of_old_attacks].sum() / result[index_of_old_attacks].shape[0])"
   ],
   "metadata": {
    "collapsed": false,
    "ExecuteTime": {
     "end_time": "2024-03-08T11:23:15.355830800Z",
     "start_time": "2024-03-08T11:23:14.925880800Z"
    }
   }
  },
  {
   "cell_type": "code",
   "execution_count": 326,
   "outputs": [
    {
     "name": "stdout",
     "output_type": "stream",
     "text": [
      "Ratio of DOS detection:  0.8517426273458445\n",
      "Ratio of PROBE detection:  0.8558446922759191\n",
      "Ratio of U2R detection:  0.464471403812825\n",
      "Ratio of R2L detection:  0.835820895522388\n",
      "New attacks detected:  0.5296\n",
      "Old attacks detected:  0.8627105581856215\n"
     ]
    }
   ],
   "source": [
    "### Evaluate single attack types\n",
    "# load test set\n",
    "df_test = pd.read_csv('EvalResources/KDDTest+.txt', sep=\",\", header=None, skipinitialspace=True)\n",
    "df_test = df_test[df_test.columns[:-1]]\n",
    "df_test.columns = titles.to_list()\n",
    "y_test = df_test['label']\n",
    "df_test = df_test.drop(['num_outbound_cmds'], axis=1)\n",
    "df_test_original = df_test\n",
    "df = df_test_original\n",
    "\n",
    "dos_index = df.index[(df['label'].isin(dos_attacks))].tolist()\n",
    "probe_index = df.index[(df['label'].isin(probe_attacks))].tolist()\n",
    "r2l_index = df.index[(df['label'].isin(r2l_attacks))].tolist()\n",
    "u2r_index = df.index[(df['label'].isin(u2r_attacks))].tolist()\n",
    "\n",
    "print(\"Ratio of DOS detection: \", result[dos_index].sum() / result[dos_index].shape[0])\n",
    "\n",
    "print(\"Ratio of PROBE detection: \", result[probe_index].sum() / result[probe_index].shape[0])\n",
    "\n",
    "print(\"Ratio of U2R detection: \", result[r2l_index].sum() / result[r2l_index].shape[0])\n",
    "\n",
    "print(\"Ratio of R2L detection: \", result[u2r_index].sum() / result[u2r_index].shape[0])\n",
    "\n",
    "print('New attacks detected: ',\n",
    "      result[index_of_new_attacks].sum() / result[index_of_new_attacks].shape[0])\n",
    "\n",
    "print('Old attacks detected: ',\n",
    "      result[index_of_old_attacks].sum() / result[index_of_old_attacks].shape[0])"
   ],
   "metadata": {
    "collapsed": false,
    "ExecuteTime": {
     "end_time": "2024-03-08T11:23:15.438892700Z",
     "start_time": "2024-03-08T11:23:15.359865900Z"
    }
   }
  },
  {
   "cell_type": "markdown",
   "metadata": {
    "collapsed": false
   },
   "source": [
    "# Now start the adaptation process"
   ]
  },
  {
   "cell_type": "code",
   "execution_count": 327,
   "metadata": {
    "collapsed": true,
    "jupyter": {
     "outputs_hidden": true,
     "source_hidden": true
    },
    "ExecuteTime": {
     "end_time": "2024-03-08T11:24:41.046026100Z",
     "start_time": "2024-03-08T11:24:40.461829600Z"
    }
   },
   "outputs": [],
   "source": [
    "from sklearn.metrics import precision_score\n",
    "import optuna"
   ]
  },
  {
   "cell_type": "markdown",
   "metadata": {
    "collapsed": false
   },
   "source": [
    "# S1 RF + SVM"
   ]
  },
  {
   "cell_type": "markdown",
   "source": [
    "## Define the space of hyperparameters for Random Forest\n",
    "rf_params = {\n",
    "    'n_estimators': optuna.distributions.IntDistribution(50, 500),\n",
    "    'max_depth': optuna.distributions.IntDistribution(2, 32),\n",
    "    'min_samples_split': optuna.distributions.IntDistribution(2, 20),\n",
    "    'min_samples_leaf': optuna.distributions.IntDistribution(1, 10)\n",
    "}\n",
    "\n",
    "## Define the space of hyperparameters for SVM\n",
    "svm_params = {\n",
    "    'C': optuna.distributions.FloatDistribution(0.1, 10),\n",
    "    'kernel': optuna.distributions.CategoricalDistribution(['linear', 'poly', 'rbf', 'sigmoid']),\n",
    "    'gamma': optuna.distributions.FloatDistribution(1e-6, 1e-2)\n",
    "}\n",
    "\n",
    "def objective(trial):\n",
    "    # Define hyperparameters for Random Forest\n",
    "    rf_hyperparams = {\n",
    "        'n_estimators': trial.suggest_int('rf_n_estimators', 10, 70),\n",
    "        'max_depth': trial.suggest_int('rf_max_depth', 2, 32),\n",
    "        'min_samples_split': trial.suggest_int('rf_min_samples_split', 2, 20),\n",
    "        'min_samples_leaf': trial.suggest_int('rf_min_samples_leaf', 1, 10)\n",
    "    }\n",
    "    \n",
    "    \n",
    "    # Define hyperparameters for SVM\n",
    "    svm_hyperparams = {\n",
    "        'C': trial.suggest_float('svm_C', 0.1, 10),\n",
    "        'kernel': trial.suggest_categorical('svm_kernel', ['linear', 'poly', 'rbf', 'sigmoid']),\n",
    "        'gamma': trial.suggest_float('svm_gamma', 1e-6, 1e-2)\n",
    "    }\n",
    "    \"\"\"\n",
    "    \n",
    "    # Define hyperparameters for SVM\n",
    "    svm_hyperparams = {\n",
    "        'C': trial.suggest_float('svm_C', 0.1, 0.1),\n",
    "        'kernel': trial.suggest_categorical('svm_kernel', ['rbf']),\n",
    "        'gamma': trial.suggest_float('svm_gamma', 0.01, 0.01)\n",
    "    }\n",
    "    \"\"\"\n",
    "    \n",
    "    # Initialize and train Random Forest classifier\n",
    "    rf_classifier = RandomForestClassifier(**rf_hyperparams)\n",
    "    rf_classifier.fit(X_train_dos_probe, y_train_l1)\n",
    "    \n",
    "    # Initialize and train SVM classifier\n",
    "    svm_classifier = SVC(**svm_hyperparams)\n",
    "    svm_classifier.fit(X_train_r2l_u2r, y_train_l2)\n",
    "    \n",
    "    # Predict on validation set and calculate metrics for both classifiers\n",
    "    rf_predicted = rf_classifier.predict(X_validate_dos_probe)\n",
    "    svm_predicted = svm_classifier.predict(X_validate_r2l_u2r)\n",
    "    \n",
    "    rf_precision = precision_score(y_validate_l1, rf_predicted)\n",
    "    svm_precision = precision_score(y_validate_l2, svm_predicted)\n",
    "    \n",
    "    rf_recall = recall_score(y_validate_l1, rf_predicted)\n",
    "    svm_recall = recall_score(y_validate_l2, svm_predicted)\n",
    "    \n",
    "    # Calculate weighted average of TPR and Precision (you can adjust weights based on preference)\n",
    "    weighted_score = (0.5 * (rf_recall + svm_recall)) + (0.5 * (rf_precision + svm_precision))\n",
    "    \n",
    "    return weighted_score\n",
    "\n",
    "\n",
    "# Create Optuna study and optimize\n",
    "study = optuna.create_study(direction='maximize')\n",
    "\n",
    "start = datetime.now()\n",
    "study.optimize(objective, n_trials=20, n_jobs=-1)\n",
    "tuning_time = datetime.now() - start"
   ],
   "metadata": {
    "collapsed": false
   }
  },
  {
   "cell_type": "markdown",
   "metadata": {
    "collapsed": false
   },
   "source": [
    "# S1 (RF+NBC) + SVM"
   ]
  },
  {
   "cell_type": "markdown",
   "source": [
    "rf_params = {\n",
    "    'n_estimators': optuna.distributions.IntDistribution(50, 500),\n",
    "    'max_depth': optuna.distributions.IntDistribution(2, 32),\n",
    "    'min_samples_split': optuna.distributions.IntDistribution(2, 20),\n",
    "    'min_samples_leaf': optuna.distributions.IntDistribution(1, 10)\n",
    "}\n",
    "\n",
    "svm_params = {\n",
    "    'C': optuna.distributions.FloatDistribution(0.1, 10),\n",
    "    'kernel': optuna.distributions.CategoricalDistribution(['linear', 'poly', 'rbf', 'sigmoid']),\n",
    "    'gamma': optuna.distributions.FloatDistribution(1e-6, 1e-2)\n",
    "}\n",
    "\n",
    "nbc_params = {\n",
    "    'var_smoothing': optuna.distributions.FloatDistribution(1e-10, 1e-1)\n",
    "}\n",
    "\n",
    "def objective(trial):\n",
    "    # Define hyperparameters for Random Forest\n",
    "    rf_hyperparams = {\n",
    "        'n_estimators': trial.suggest_int('rf_n_estimators', 10, 70),\n",
    "        'max_depth': trial.suggest_int('rf_max_depth', 2, 32),\n",
    "        'min_samples_split': trial.suggest_int('rf_min_samples_split', 2, 20),\n",
    "        'min_samples_leaf': trial.suggest_int('rf_min_samples_leaf', 1, 10)\n",
    "    }\n",
    "    \n",
    "    # Define hyperparameters for SVM\n",
    "    svm_hyperparams = {\n",
    "        'C': trial.suggest_float('svm_C', 0.1, 10),\n",
    "        'kernel': trial.suggest_categorical('svm_kernel', ['linear', 'poly', 'rbf', 'sigmoid']),\n",
    "        'gamma': trial.suggest_float('svm_gamma', 1e-6, 1e-2)\n",
    "    }\n",
    "    \n",
    "    \"\"\"\n",
    "    # Define hyperparameters for SVM\n",
    "    svm_hyperparams = {\n",
    "        'C': trial.suggest_float('svm_C', 0.1, 0.1),\n",
    "        'kernel': trial.suggest_categorical('svm_kernel', ['rbf']),\n",
    "        'gamma': trial.suggest_float('svm_gamma', 0.01, 0.01)\n",
    "    }\n",
    "    \"\"\"\n",
    "    \n",
    "    # Define hyperparameters for GaussianNB\n",
    "    gnb_hyperparams = {\n",
    "        'var_smoothing': trial.suggest_float('gnb_var_smoothing', 1e-10, 1e-1, log=True)\n",
    "    }\n",
    "    \n",
    "    # Initialize the rf\n",
    "    rf_classifier = RandomForestClassifier(**rf_hyperparams)\n",
    "    \n",
    "    # Initialize the nbc\n",
    "    nbc_classifier = GaussianNB(**gnb_hyperparams)\n",
    "    \n",
    "    # Initialize and train voting classifier\n",
    "    voting_classifier = VotingClassifier(\n",
    "        estimators=[(\"rf\", rf_classifier), (\"nbc\", nbc_classifier)] ,\n",
    "        voting='soft'\n",
    "    )\n",
    "    voting_classifier.fit(X_train_dos_probe, y_train_l1)\n",
    "    \n",
    "    # Initialize and train SVM classifier\n",
    "    svm_classifier = SVC(**svm_hyperparams)\n",
    "    svm_classifier.fit(X_train_r2l_u2r, y_train_l2)\n",
    "    \n",
    "    # Predict on validation set and calculate metrics for both classifiers\n",
    "    voting_predicted = voting_classifier.predict(X_validate_dos_probe)\n",
    "    svm_predicted = svm_classifier.predict(X_validate_r2l_u2r)\n",
    "    \n",
    "    voting_precision = precision_score(y_validate_l1, voting_predicted)\n",
    "    svm_precision = precision_score(y_validate_l2, svm_predicted)\n",
    "    \n",
    "    voting_recall = recall_score(y_validate_l1, voting_predicted)\n",
    "    svm_recall = recall_score(y_validate_l2, svm_predicted)\n",
    "    \n",
    "    # Calculate weighted average of TPR and Precision (you can adjust weights based on preference)\n",
    "    weighted_score = (0.5 * (voting_recall + svm_recall)) + (0.5 * (voting_precision + svm_precision))\n",
    "    \n",
    "    return weighted_score\n",
    "\n",
    "\n",
    "# Create Optuna study and optimize\n",
    "study = optuna.create_study(direction='maximize')\n",
    "\n",
    "start = datetime.now()\n",
    "study.optimize(objective, n_trials=20, n_jobs=-1)\n",
    "tuning_time = datetime.now() - start"
   ],
   "metadata": {
    "collapsed": false
   }
  },
  {
   "cell_type": "markdown",
   "metadata": {
    "collapsed": false
   },
   "source": [
    "# S1 (HGBC+NBC) + SVM"
   ]
  },
  {
   "cell_type": "markdown",
   "source": [
    "hgb_params = {\n",
    "    'learning_rate': optuna.distributions.FloatDistribution(0.001, 0.1),\n",
    "    'max_iter': optuna.distributions.IntDistribution(50, 500),\n",
    "    'max_depth': optuna.distributions.IntDistribution(2, 32),\n",
    "    'min_samples_leaf': optuna.distributions.IntDistribution(1, 10)\n",
    "}\n",
    "\n",
    "svm_params = {\n",
    "    'C': optuna.distributions.FloatDistribution(0.1, 10),\n",
    "    'kernel': optuna.distributions.CategoricalDistribution(['linear', 'poly', 'rbf', 'sigmoid']),\n",
    "    'gamma': optuna.distributions.FloatDistribution(1e-6, 1e-2)\n",
    "}\n",
    "\n",
    "nbc_params = {\n",
    "    'var_smoothing': optuna.distributions.FloatDistribution(1e-10, 1e-1)\n",
    "}\n",
    "\n",
    "def objective(trial):\n",
    "    # Define hyperparameters for HistGradientBoostingClassifier\n",
    "    hgb_hyperparams = {\n",
    "        'learning_rate': trial.suggest_float('hgb_learning_rate', 0.001, 0.1, log=True),\n",
    "        'max_iter': trial.suggest_int('hgb_max_iter', 50, 500),\n",
    "        'max_depth': trial.suggest_int('hgb_max_depth', 2, 32),\n",
    "        'min_samples_leaf': trial.suggest_int('hgb_min_samples_leaf', 1, 10)\n",
    "    }\n",
    "    \n",
    "    \n",
    "    # Define hyperparameters for SVM\n",
    "    svm_hyperparams = {\n",
    "        'C': trial.suggest_float('svm_C', 0.1, 10),\n",
    "        'kernel': trial.suggest_categorical('svm_kernel', ['linear', 'poly', 'rbf', 'sigmoid']),\n",
    "        'gamma': trial.suggest_float('svm_gamma', 1e-6, 1e-2)\n",
    "    }\n",
    "    \"\"\"\n",
    "    \n",
    "    # Define hyperparameters for SVM\n",
    "    svm_hyperparams = {\n",
    "        'C': trial.suggest_float('svm_C', 0.1, 0.1),\n",
    "        'kernel': trial.suggest_categorical('svm_kernel', ['rbf']),\n",
    "        'gamma': trial.suggest_float('svm_gamma', 0.01, 0.01)\n",
    "    }\n",
    "    \"\"\"\n",
    "    \n",
    "    # Define hyperparameters for GaussianNB\n",
    "    gnb_hyperparams = {\n",
    "        'var_smoothing': trial.suggest_float('gnb_var_smoothing', 1e-10, 1e-1, log=True)\n",
    "    }\n",
    "    \n",
    "    # Initialize the hgbc\n",
    "    hgbc_classifier = HistGradientBoostingClassifier(**hgb_hyperparams)\n",
    "    \n",
    "    # Initialize the nbc\n",
    "    nbc_classifier = GaussianNB(**gnb_hyperparams)\n",
    "    \n",
    "    # Initialize and train voting classifier\n",
    "    voting_classifier = VotingClassifier(\n",
    "        estimators=[(\"hgbc\", hgbc_classifier), (\"nbc\", nbc_classifier)] ,\n",
    "        voting='soft'\n",
    "    )\n",
    "    voting_classifier.fit(X_train_dos_probe, y_train_l1)\n",
    "    \n",
    "    # Initialize and train SVM classifier\n",
    "    svm_classifier = SVC(**svm_hyperparams)\n",
    "    svm_classifier.fit(X_train_r2l_u2r, y_train_l2)\n",
    "    \n",
    "    # Predict on validation set and calculate metrics for both classifiers\n",
    "    voting_predicted = voting_classifier.predict(X_validate_dos_probe)\n",
    "    svm_predicted = svm_classifier.predict(X_validate_r2l_u2r)\n",
    "    \n",
    "    voting_precision = precision_score(y_validate_l1, voting_predicted)\n",
    "    svm_precision = precision_score(y_validate_l2, svm_predicted)\n",
    "    \n",
    "    voting_recall = recall_score(y_validate_l1, voting_predicted)\n",
    "    svm_recall = recall_score(y_validate_l2, svm_predicted)\n",
    "    \n",
    "    # Calculate weighted average of TPR and Precision (you can adjust weights based on preference)\n",
    "    weighted_score = (0.5 * (voting_recall + svm_recall)) + (0.5 * (voting_precision + svm_precision))\n",
    "    \n",
    "    return weighted_score\n",
    "\n",
    "\n",
    "# Create Optuna study and optimize\n",
    "study = optuna.create_study(direction='maximize')\n",
    "\n",
    "start = datetime.now()\n",
    "study.optimize(objective, n_trials=20, n_jobs=-1)\n",
    "tuning_time = datetime.now() - start"
   ],
   "metadata": {
    "collapsed": false
   }
  },
  {
   "cell_type": "markdown",
   "metadata": {
    "collapsed": false
   },
   "source": [
    "# S1 HGBC + SVM"
   ]
  },
  {
   "cell_type": "code",
   "execution_count": 328,
   "outputs": [
    {
     "name": "stderr",
     "output_type": "stream",
     "text": [
      "[I 2024-03-08 12:24:41,041] A new study created in memory with name: no-name-6ec3fbb0-067e-462a-8801-b7dfeca7e78d\n",
      "[I 2024-03-08 12:24:49,327] Trial 4 finished with value: 1.9321083527989558 and parameters: {'hgb_learning_rate': 0.018222099550597826, 'hgb_max_iter': 211, 'hgb_max_depth': 2, 'hgb_min_samples_leaf': 2, 'svm_C': 9.836667442531127, 'svm_kernel': 'rbf', 'svm_gamma': 0.00881977578493193}. Best is trial 4 with value: 1.9321083527989558.\n",
      "[I 2024-03-08 12:24:52,635] Trial 6 finished with value: 1.931307276853666 and parameters: {'hgb_learning_rate': 0.02280601781756247, 'hgb_max_iter': 50, 'hgb_max_depth': 28, 'hgb_min_samples_leaf': 2, 'svm_C': 1.6833786298048685, 'svm_kernel': 'sigmoid', 'svm_gamma': 0.003194751708419497}. Best is trial 4 with value: 1.9321083527989558.\n",
      "[I 2024-03-08 12:24:52,666] Trial 2 finished with value: 1.9525110279939966 and parameters: {'hgb_learning_rate': 0.08461362911980046, 'hgb_max_iter': 52, 'hgb_max_depth': 24, 'hgb_min_samples_leaf': 6, 'svm_C': 7.344759914862007, 'svm_kernel': 'linear', 'svm_gamma': 0.008249605606658333}. Best is trial 2 with value: 1.9525110279939966.\n",
      "[I 2024-03-08 12:24:59,839] Trial 18 finished with value: 1.9022567794455876 and parameters: {'hgb_learning_rate': 0.005262922460066364, 'hgb_max_iter': 257, 'hgb_max_depth': 2, 'hgb_min_samples_leaf': 10, 'svm_C': 8.325201236162348, 'svm_kernel': 'rbf', 'svm_gamma': 0.006611988353914393}. Best is trial 2 with value: 1.9525110279939966.\n",
      "[I 2024-03-08 12:25:01,198] Trial 5 finished with value: 1.9304736161987628 and parameters: {'hgb_learning_rate': 0.015693018783035643, 'hgb_max_iter': 462, 'hgb_max_depth': 3, 'hgb_min_samples_leaf': 1, 'svm_C': 7.672052429679452, 'svm_kernel': 'sigmoid', 'svm_gamma': 0.007366931662802684}. Best is trial 2 with value: 1.9525110279939966.\n",
      "[I 2024-03-08 12:25:05,484] Trial 11 finished with value: 1.9512345891498761 and parameters: {'hgb_learning_rate': 0.01892684547622346, 'hgb_max_iter': 136, 'hgb_max_depth': 16, 'hgb_min_samples_leaf': 6, 'svm_C': 9.040475788648461, 'svm_kernel': 'linear', 'svm_gamma': 0.003241367019707805}. Best is trial 2 with value: 1.9525110279939966.\n",
      "[I 2024-03-08 12:25:06,097] Trial 9 finished with value: 1.9370580796589254 and parameters: {'hgb_learning_rate': 0.012340219413635847, 'hgb_max_iter': 141, 'hgb_max_depth': 28, 'hgb_min_samples_leaf': 4, 'svm_C': 5.434416469062738, 'svm_kernel': 'rbf', 'svm_gamma': 0.0013975395570075511}. Best is trial 2 with value: 1.9525110279939966.\n",
      "[I 2024-03-08 12:25:06,584] Trial 0 finished with value: 1.9340583020083342 and parameters: {'hgb_learning_rate': 0.0016739661601174684, 'hgb_max_iter': 172, 'hgb_max_depth': 7, 'hgb_min_samples_leaf': 6, 'svm_C': 1.7912067386586434, 'svm_kernel': 'linear', 'svm_gamma': 0.007120417205378686}. Best is trial 2 with value: 1.9525110279939966.\n",
      "[I 2024-03-08 12:25:07,418] Trial 13 finished with value: 1.9440935907937242 and parameters: {'hgb_learning_rate': 0.05645502418316997, 'hgb_max_iter': 195, 'hgb_max_depth': 6, 'hgb_min_samples_leaf': 2, 'svm_C': 6.57662492284823, 'svm_kernel': 'sigmoid', 'svm_gamma': 0.008599128754161073}. Best is trial 2 with value: 1.9525110279939966.\n",
      "[I 2024-03-08 12:25:07,748] Trial 8 finished with value: 1.9338461563775913 and parameters: {'hgb_learning_rate': 0.07572913302702701, 'hgb_max_iter': 154, 'hgb_max_depth': 24, 'hgb_min_samples_leaf': 10, 'svm_C': 0.7954986452094003, 'svm_kernel': 'sigmoid', 'svm_gamma': 0.004992108645678165}. Best is trial 2 with value: 1.9525110279939966.\n",
      "[I 2024-03-08 12:25:07,969] Trial 12 finished with value: 1.7629466993363936 and parameters: {'hgb_learning_rate': 0.015898160402231656, 'hgb_max_iter': 154, 'hgb_max_depth': 20, 'hgb_min_samples_leaf': 1, 'svm_C': 4.354363599059366, 'svm_kernel': 'poly', 'svm_gamma': 0.007029691341177706}. Best is trial 2 with value: 1.9525110279939966.\n",
      "[I 2024-03-08 12:25:10,542] Trial 1 finished with value: 1.9337960094868347 and parameters: {'hgb_learning_rate': 0.004724399588849181, 'hgb_max_iter': 185, 'hgb_max_depth': 27, 'hgb_min_samples_leaf': 10, 'svm_C': 0.6733307014776946, 'svm_kernel': 'rbf', 'svm_gamma': 0.0055190744436974075}. Best is trial 2 with value: 1.9525110279939966.\n",
      "[I 2024-03-08 12:25:14,921] Trial 7 finished with value: 1.943628081712698 and parameters: {'hgb_learning_rate': 0.015176718399406151, 'hgb_max_iter': 251, 'hgb_max_depth': 23, 'hgb_min_samples_leaf': 6, 'svm_C': 1.4497010899201388, 'svm_kernel': 'linear', 'svm_gamma': 0.0036868604377318158}. Best is trial 2 with value: 1.9525110279939966.\n",
      "[I 2024-03-08 12:25:17,949] Trial 16 finished with value: 1.761749881531411 and parameters: {'hgb_learning_rate': 0.007277371309231848, 'hgb_max_iter': 259, 'hgb_max_depth': 12, 'hgb_min_samples_leaf': 3, 'svm_C': 7.813999224976232, 'svm_kernel': 'poly', 'svm_gamma': 0.0017569156424456802}. Best is trial 2 with value: 1.9525110279939966.\n",
      "[I 2024-03-08 12:25:21,073] Trial 19 finished with value: 1.7580594542253292 and parameters: {'hgb_learning_rate': 0.0013928803781455225, 'hgb_max_iter': 256, 'hgb_max_depth': 29, 'hgb_min_samples_leaf': 4, 'svm_C': 3.7605292413117684, 'svm_kernel': 'poly', 'svm_gamma': 0.009126749013056807}. Best is trial 2 with value: 1.9525110279939966.\n",
      "[I 2024-03-08 12:25:21,811] Trial 15 finished with value: 1.9446447123883996 and parameters: {'hgb_learning_rate': 0.04111741273133119, 'hgb_max_iter': 380, 'hgb_max_depth': 28, 'hgb_min_samples_leaf': 6, 'svm_C': 9.812051660147564, 'svm_kernel': 'rbf', 'svm_gamma': 0.0037332607519206407}. Best is trial 2 with value: 1.9525110279939966.\n",
      "[I 2024-03-08 12:25:23,513] Trial 3 finished with value: 1.9467258293318865 and parameters: {'hgb_learning_rate': 0.0017993024938788562, 'hgb_max_iter': 415, 'hgb_max_depth': 16, 'hgb_min_samples_leaf': 6, 'svm_C': 2.9026521564125707, 'svm_kernel': 'linear', 'svm_gamma': 0.005569359816252348}. Best is trial 2 with value: 1.9525110279939966.\n",
      "[I 2024-03-08 12:25:24,954] Trial 10 finished with value: 1.9536587872241113 and parameters: {'hgb_learning_rate': 0.007380749580939124, 'hgb_max_iter': 464, 'hgb_max_depth': 18, 'hgb_min_samples_leaf': 8, 'svm_C': 9.290166683103118, 'svm_kernel': 'linear', 'svm_gamma': 0.0036481706038325747}. Best is trial 10 with value: 1.9536587872241113.\n",
      "[I 2024-03-08 12:25:25,186] Trial 14 finished with value: 1.9476859035977627 and parameters: {'hgb_learning_rate': 0.00289031986669825, 'hgb_max_iter': 483, 'hgb_max_depth': 9, 'hgb_min_samples_leaf': 10, 'svm_C': 2.6348767086102, 'svm_kernel': 'linear', 'svm_gamma': 0.006492419763299656}. Best is trial 10 with value: 1.9536587872241113.\n",
      "[I 2024-03-08 12:25:25,643] Trial 17 finished with value: 1.940343763626232 and parameters: {'hgb_learning_rate': 0.003620548087640153, 'hgb_max_iter': 434, 'hgb_max_depth': 25, 'hgb_min_samples_leaf': 10, 'svm_C': 1.2755339749901795, 'svm_kernel': 'linear', 'svm_gamma': 0.006973911795706106}. Best is trial 10 with value: 1.9536587872241113.\n"
     ]
    }
   ],
   "source": [
    "from sklearn.ensemble import HistGradientBoostingClassifier\n",
    "\n",
    "hgb_params = {\n",
    "    'learning_rate': optuna.distributions.FloatDistribution(0.001, 0.1),\n",
    "    'max_iter': optuna.distributions.IntDistribution(50, 500),\n",
    "    'max_depth': optuna.distributions.IntDistribution(2, 32),\n",
    "    'min_samples_leaf': optuna.distributions.IntDistribution(1, 10)\n",
    "}\n",
    "\n",
    "svm_params = {\n",
    "    'C': optuna.distributions.FloatDistribution(0.1, 10),\n",
    "    'kernel': optuna.distributions.CategoricalDistribution(['linear', 'poly', 'rbf', 'sigmoid']),\n",
    "    'gamma': optuna.distributions.FloatDistribution(1e-6, 1e-2)\n",
    "}\n",
    "\n",
    "def objective(trial):\n",
    "    # Define hyperparameters for HistGradientBoostingClassifier\n",
    "    hgb_hyperparams = {\n",
    "        'learning_rate': trial.suggest_float('hgb_learning_rate', 0.001, 0.1, log=True),\n",
    "        'max_iter': trial.suggest_int('hgb_max_iter', 50, 500),\n",
    "        'max_depth': trial.suggest_int('hgb_max_depth', 2, 32),\n",
    "        'min_samples_leaf': trial.suggest_int('hgb_min_samples_leaf', 1, 10)\n",
    "    }\n",
    "\n",
    "    # Define hyperparameters for SVM\n",
    "    svm_hyperparams = {\n",
    "        'C': trial.suggest_float('svm_C', 0.1, 10),\n",
    "        'kernel': trial.suggest_categorical('svm_kernel', ['linear', 'poly', 'rbf', 'sigmoid']),\n",
    "        'gamma': trial.suggest_float('svm_gamma', 1e-6, 1e-2)\n",
    "    }\n",
    "    \n",
    "    \"\"\"\n",
    "    # Define hyperparameters for SVM\n",
    "    svm_hyperparams = {\n",
    "        'C': trial.suggest_float('svm_C', 0.1, 0.1),\n",
    "        'kernel': trial.suggest_categorical('svm_kernel', ['rbf']),\n",
    "        'gamma': trial.suggest_float('svm_gamma', 0.01, 0.01)\n",
    "    }\n",
    "    \"\"\"\n",
    "    \n",
    "    # Initialize and train HistGradientBoostingClassifier\n",
    "    hgb_classifier = HistGradientBoostingClassifier(**hgb_hyperparams)\n",
    "    hgb_classifier.fit(X_train_dos_probe, y_train_l1)\n",
    "    \n",
    "    # Initialize and train SVM classifier\n",
    "    svm_classifier = SVC(**svm_hyperparams)\n",
    "    svm_classifier.fit(X_train_r2l_u2r, y_train_l2)\n",
    "    \n",
    "    # Predict on validation set and calculate metrics for both classifiers\n",
    "    hgb_predicted = hgb_classifier.predict(X_validate_dos_probe)\n",
    "    svm_predicted = svm_classifier.predict(X_validate_r2l_u2r)\n",
    "    \n",
    "    hgb_precision = precision_score(y_validate_l1, hgb_predicted)\n",
    "    svm_precision = precision_score(y_validate_l2, svm_predicted)\n",
    "    \n",
    "    hgb_recall = recall_score(y_validate_l1, hgb_predicted)\n",
    "    svm_recall = recall_score(y_validate_l2, svm_predicted)\n",
    "    \n",
    "    # Calculate weighted average of TPR and Precision (you can adjust weights based on preference)\n",
    "    weighted_score = (0.5 * (hgb_recall + svm_recall)) + (0.5 * (hgb_precision + svm_precision))\n",
    "    \n",
    "    return weighted_score\n",
    "\n",
    "\n",
    "# Create Optuna study and optimize\n",
    "study = optuna.create_study(direction='maximize')\n",
    "\n",
    "start = datetime.now()\n",
    "study.optimize(objective, n_trials=20, n_jobs=-1)\n",
    "tuning_time = datetime.now() - start"
   ],
   "metadata": {
    "collapsed": false,
    "ExecuteTime": {
     "end_time": "2024-03-08T11:25:25.655948200Z",
     "start_time": "2024-03-08T11:24:41.037945100Z"
    }
   }
  },
  {
   "cell_type": "markdown",
   "metadata": {
    "collapsed": false
   },
   "source": [
    "# S2 (RF+NBC) + SVM"
   ]
  },
  {
   "cell_type": "markdown",
   "source": [
    "hgb_params = {\n",
    "    'learning_rate': optuna.distributions.FloatDistribution(0.001, 0.1),\n",
    "    'max_iter': optuna.distributions.IntDistribution(50, 500),\n",
    "    'max_depth': optuna.distributions.IntDistribution(2, 32),\n",
    "    'min_samples_leaf': optuna.distributions.IntDistribution(1, 10)\n",
    "}\n",
    "\n",
    "svm_params = {\n",
    "    'C': optuna.distributions.FloatDistribution(0.1, 10),\n",
    "    'kernel': optuna.distributions.CategoricalDistribution(['linear', 'poly', 'rbf', 'sigmoid']),\n",
    "    'gamma': optuna.distributions.FloatDistribution(1e-6, 1e-2)\n",
    "}\n",
    "\n",
    "nbc_params = {\n",
    "    'var_smoothing': optuna.distributions.FloatDistribution(1e-10, 1e-1)\n",
    "}\n",
    "\n",
    "def objective(trial):\n",
    "    # Define hyperparameters for Random Forest\n",
    "    rf_hyperparams = {\n",
    "        'n_estimators': trial.suggest_int('rf_n_estimators', 10, 70),\n",
    "        'max_depth': trial.suggest_int('rf_max_depth', 2, 32),\n",
    "        'min_samples_split': trial.suggest_int('rf_min_samples_split', 2, 20),\n",
    "        'min_samples_leaf': trial.suggest_int('rf_min_samples_leaf', 1, 10)\n",
    "    }\n",
    "    \n",
    "    \n",
    "    # Define hyperparameters for SVM\n",
    "    svm_hyperparams = {\n",
    "        'C': trial.suggest_float('svm_C', 0.1, 10),\n",
    "        'kernel': trial.suggest_categorical('svm_kernel', ['linear', 'poly', 'rbf', 'sigmoid']),\n",
    "        'gamma': trial.suggest_float('svm_gamma', 1e-6, 1e-2)\n",
    "    }\n",
    "    \"\"\"\n",
    "    \n",
    "    # Define hyperparameters for SVM\n",
    "    svm_hyperparams = {\n",
    "        'C': trial.suggest_float('svm_C', 0.1, 0.1),\n",
    "        'kernel': trial.suggest_categorical('svm_kernel', ['rbf']),\n",
    "        'gamma': trial.suggest_float('svm_gamma', 0.01, 0.01)\n",
    "    }\n",
    "    \"\"\"\n",
    "    \n",
    "    # Define hyperparameters for GaussianNB\n",
    "    gnb_hyperparams = {\n",
    "        'var_smoothing': trial.suggest_float('gnb_var_smoothing', 1e-10, 1e-1, log=True)\n",
    "    }\n",
    "    \n",
    "    # Initialize the rf\n",
    "    rf_classifier = RandomForestClassifier(**rf_hyperparams)\n",
    "    \n",
    "    # Initialize the nbc\n",
    "    nbc_classifier = GaussianNB(**gnb_hyperparams)\n",
    "    \n",
    "    # Initialize and train voting classifier\n",
    "    voting_classifier = VotingClassifier(\n",
    "        estimators=[(\"rf\", rf_classifier), (\"nbc\", nbc_classifier)] ,\n",
    "        voting='soft'\n",
    "    )\n",
    "    voting_classifier.fit(X_train_dos_probe, y_train_l1)\n",
    "    \n",
    "    # Initialize and train SVM classifier\n",
    "    svm_classifier = SVC(**svm_hyperparams)\n",
    "    svm_classifier.fit(X_train_r2l_u2r, y_train_l2)\n",
    "    \n",
    "    # Predict on validation set and calculate metrics for both classifiers\n",
    "    voting_predicted = voting_classifier.predict(X_validate_dos_probe)\n",
    "    svm_predicted = svm_classifier.predict(X_validate_r2l_u2r)\n",
    "    \n",
    "    # Calculate confusion matrices for both classifiers\n",
    "    voting_cm = confusion_matrix(y_validate_l1, voting_predicted)\n",
    "    svm_cm = confusion_matrix(y_validate_l2, svm_predicted)\n",
    "    \n",
    "    # Calculate False Positive Rates for both classifiers\n",
    "    voting_fpr = voting_cm[0, 1] / np.sum(voting_cm[0, :])\n",
    "    svm_fpr = svm_cm[0, 1] / np.sum(svm_cm[0, :])\n",
    "    \n",
    "    # Calculate the average FPR\n",
    "    avg_fpr = (voting_fpr + svm_fpr) / 2\n",
    "    \n",
    "    return avg_fpr\n",
    "\n",
    "\n",
    "# Create Optuna study and optimize\n",
    "study = optuna.create_study(direction='minimize')\n",
    "\n",
    "start = datetime.now()\n",
    "study.optimize(objective, n_trials=20, n_jobs=-1)\n",
    "tuning_time = datetime.now() - start"
   ],
   "metadata": {
    "collapsed": false
   }
  },
  {
   "cell_type": "markdown",
   "metadata": {
    "collapsed": false
   },
   "source": [
    "# S2 (HGBC+NBC) + SVM"
   ]
  },
  {
   "cell_type": "markdown",
   "source": [
    "hgb_params = {\n",
    "    'learning_rate': optuna.distributions.FloatDistribution(0.001, 0.1),\n",
    "    'max_iter': optuna.distributions.IntDistribution(50, 500),\n",
    "    'max_depth': optuna.distributions.IntDistribution(2, 32),\n",
    "    'min_samples_leaf': optuna.distributions.IntDistribution(1, 10)\n",
    "}\n",
    "\n",
    "svm_params = {\n",
    "    'C': optuna.distributions.FloatDistribution(0.1, 10),\n",
    "    'kernel': optuna.distributions.CategoricalDistribution(['linear', 'poly', 'rbf', 'sigmoid']),\n",
    "    'gamma': optuna.distributions.FloatDistribution(1e-6, 1e-2)\n",
    "}\n",
    "\n",
    "def objective(trial):\n",
    "    # Define hyperparameters for HistGradientBoostingClassifier\n",
    "    hgb_hyperparams = {\n",
    "        'learning_rate': trial.suggest_float('hgb_learning_rate', 0.001, 0.1, log=True),\n",
    "        'max_iter': trial.suggest_int('hgb_max_iter', 50, 500),\n",
    "        'max_depth': trial.suggest_int('hgb_max_depth', 2, 32),\n",
    "        'min_samples_leaf': trial.suggest_int('hgb_min_samples_leaf', 1, 10)\n",
    "    }\n",
    "    \n",
    "    \n",
    "    # Define hyperparameters for SVM\n",
    "    svm_hyperparams = {\n",
    "        'C': trial.suggest_float('svm_C', 0.1, 10),\n",
    "        'kernel': trial.suggest_categorical('svm_kernel', ['linear', 'poly', 'rbf', 'sigmoid']),\n",
    "        'gamma': trial.suggest_float('svm_gamma', 1e-6, 1e-2)\n",
    "    }\n",
    "    \"\"\"\n",
    "    \n",
    "    # Define hyperparameters for SVM\n",
    "    svm_hyperparams = {\n",
    "        'C': trial.suggest_float('svm_C', 0.1, 0.1),\n",
    "        'kernel': trial.suggest_categorical('svm_kernel', ['rbf']),\n",
    "        'gamma': trial.suggest_float('svm_gamma', 0.01, 0.01)\n",
    "    }\n",
    "    \"\"\"\n",
    "    \n",
    "    # Define hyperparameters for GaussianNB\n",
    "    gnb_hyperparams = {\n",
    "        'var_smoothing': trial.suggest_float('gnb_var_smoothing', 1e-10, 1e-1, log=True)\n",
    "    }\n",
    "    \n",
    "    # Initialize the rf\n",
    "    hgb_classifier = HistGradientBoostingClassifier(**hgb_hyperparams)\n",
    "    \n",
    "    # Initialize the nbc\n",
    "    nbc_classifier = GaussianNB(**gnb_hyperparams)\n",
    "    \n",
    "    # Initialize and train voting classifier\n",
    "    voting_classifier = VotingClassifier(\n",
    "        estimators=[(\"hgbc\", hgb_classifier), (\"nbc\", nbc_classifier)] ,\n",
    "        voting='soft'\n",
    "    )\n",
    "    voting_classifier.fit(X_train_dos_probe, y_train_l1)\n",
    "    \n",
    "    # Initialize and train SVM classifier\n",
    "    svm_classifier = SVC(**svm_hyperparams)\n",
    "    svm_classifier.fit(X_train_r2l_u2r, y_train_l2)\n",
    "    \n",
    "    # Predict on validation set and calculate metrics for both classifiers\n",
    "    voting_predicted = voting_classifier.predict(X_validate_dos_probe)\n",
    "    svm_predicted = svm_classifier.predict(X_validate_r2l_u2r)\n",
    "    \n",
    "    # Calculate confusion matrices for both classifiers\n",
    "    voting_cm = confusion_matrix(y_validate_l1, voting_predicted)\n",
    "    svm_cm = confusion_matrix(y_validate_l2, svm_predicted)\n",
    "    \n",
    "    # Calculate False Positive Rates for both classifiers\n",
    "    voting_fpr = voting_cm[0, 1] / np.sum(voting_cm[0, :])\n",
    "    svm_fpr = svm_cm[0, 1] / np.sum(svm_cm[0, :])\n",
    "    \n",
    "    # Calculate the average FPR\n",
    "    avg_fpr = (voting_fpr + svm_fpr) / 2\n",
    "    \n",
    "    return avg_fpr\n",
    "\n",
    "\n",
    "# Create Optuna study and optimize\n",
    "study = optuna.create_study(direction='minimize')\n",
    "\n",
    "start = datetime.now()\n",
    "study.optimize(objective, n_trials=20, n_jobs=-1)\n",
    "tuning_time = datetime.now() - start"
   ],
   "metadata": {
    "collapsed": false
   }
  },
  {
   "cell_type": "markdown",
   "metadata": {
    "collapsed": false
   },
   "source": [
    "# S2 HGBC + SVM"
   ]
  },
  {
   "cell_type": "markdown",
   "source": [
    "hgb_params = {\n",
    "    'learning_rate': optuna.distributions.FloatDistribution(0.001, 0.1),\n",
    "    'max_iter': optuna.distributions.IntDistribution(50, 500),\n",
    "    'max_depth': optuna.distributions.IntDistribution(2, 32),\n",
    "    'min_samples_leaf': optuna.distributions.IntDistribution(1, 10)\n",
    "}\n",
    "\n",
    "svm_params = {\n",
    "    'C': optuna.distributions.FloatDistribution(0.1, 10),\n",
    "    'kernel': optuna.distributions.CategoricalDistribution(['linear', 'poly', 'rbf', 'sigmoid']),\n",
    "    'gamma': optuna.distributions.FloatDistribution(1e-6, 1e-2)\n",
    "}\n",
    "\n",
    "def objective(trial):\n",
    "    # Define hyperparameters for HistGradientBoostingClassifier\n",
    "    hgb_hyperparams = {\n",
    "        'learning_rate': trial.suggest_float('hgb_learning_rate', 0.001, 0.1, log=True),\n",
    "        'max_iter': trial.suggest_int('hgb_max_iter', 50, 500),\n",
    "        'max_depth': trial.suggest_int('hgb_max_depth', 2, 32),\n",
    "        'min_samples_leaf': trial.suggest_int('hgb_min_samples_leaf', 1, 10)\n",
    "    }\n",
    "    \n",
    "    \n",
    "    # Define hyperparameters for SVM\n",
    "    svm_hyperparams = {\n",
    "        'C': trial.suggest_float('svm_C', 0.1, 10),\n",
    "        'kernel': trial.suggest_categorical('svm_kernel', ['linear', 'poly', 'rbf', 'sigmoid']),\n",
    "        'gamma': trial.suggest_float('svm_gamma', 1e-6, 1e-2)\n",
    "    }\n",
    "    \"\"\"\n",
    "    \n",
    "    # Define hyperparameters for SVM\n",
    "    svm_hyperparams = {\n",
    "        'C': trial.suggest_float('svm_C', 0.1, 0.1),\n",
    "        'kernel': trial.suggest_categorical('svm_kernel', ['rbf']),\n",
    "        'gamma': trial.suggest_float('svm_gamma', 0.01, 0.01)\n",
    "    }\n",
    "    \"\"\"\n",
    "    \n",
    "    # Define hyperparameters for GaussianNB\n",
    "    gnb_hyperparams = {\n",
    "        'var_smoothing': trial.suggest_float('gnb_var_smoothing', 1e-10, 1e-1, log=True)\n",
    "    }\n",
    "    \n",
    "    # Initialize the rf\n",
    "    hgb_classifier = HistGradientBoostingClassifier(**hgb_hyperparams)\n",
    "    hgb_classifier.fit(X_train_dos_probe, y_train_l1)\n",
    "    \n",
    "    # Initialize and train SVM classifier\n",
    "    svm_classifier = SVC(**svm_hyperparams)\n",
    "    svm_classifier.fit(X_train_r2l_u2r, y_train_l2)\n",
    "    \n",
    "    # Predict on validation set and calculate metrics for both classifiers\n",
    "    hgb_predicted = hgb_classifier.predict(X_validate_dos_probe)\n",
    "    svm_predicted = svm_classifier.predict(X_validate_r2l_u2r)\n",
    "    \n",
    "    # Calculate confusion matrices for both classifiers\n",
    "    hgb_cm = confusion_matrix(y_validate_l1, hgb_predicted)\n",
    "    svm_cm = confusion_matrix(y_validate_l2, svm_predicted)\n",
    "    \n",
    "    # Calculate False Positive Rates for both classifiers\n",
    "    voting_fpr = hgb_cm[0, 1] / np.sum(hgb_cm[0, :])\n",
    "    svm_fpr = svm_cm[0, 1] / np.sum(svm_cm[0, :])\n",
    "    \n",
    "    # Calculate the average FPR\n",
    "    avg_fpr = (voting_fpr + svm_fpr) / 2\n",
    "    \n",
    "    return avg_fpr\n",
    "    \n",
    "\n",
    "# Create Optuna study and optimize\n",
    "study = optuna.create_study(direction='minimize')\n",
    "\n",
    "start = datetime.now()\n",
    "study.optimize(objective, n_trials=20, n_jobs=-1)\n",
    "tuning_time = datetime.now() - start"
   ],
   "metadata": {
    "collapsed": false
   }
  },
  {
   "cell_type": "markdown",
   "metadata": {
    "collapsed": false
   },
   "source": [
    "# S2 RF + SVM"
   ]
  },
  {
   "cell_type": "markdown",
   "source": [
    "rf_params = {\n",
    "    'n_estimators': optuna.distributions.IntDistribution(50, 500),\n",
    "    'max_depth': optuna.distributions.IntDistribution(2, 32),\n",
    "    'min_samples_split': optuna.distributions.IntDistribution(2, 20),\n",
    "    'min_samples_leaf': optuna.distributions.IntDistribution(1, 10)\n",
    "}\n",
    "\n",
    "svm_params = {\n",
    "    'C': optuna.distributions.FloatDistribution(0.1, 10),\n",
    "    'kernel': optuna.distributions.CategoricalDistribution(['linear', 'poly', 'rbf', 'sigmoid']),\n",
    "    'gamma': optuna.distributions.FloatDistribution(1e-6, 1e-2)\n",
    "}\n",
    "\n",
    "nbc_params = {\n",
    "    'var_smoothing': optuna.distributions.FloatDistribution(1e-10, 1e-1)\n",
    "}\n",
    "\n",
    "def objective(trial):\n",
    "    # Define hyperparameters for Random Forest\n",
    "    rf_hyperparams = {\n",
    "        'n_estimators': trial.suggest_int('rf_n_estimators', 10, 70),\n",
    "        'max_depth': trial.suggest_int('rf_max_depth', 2, 32),\n",
    "        'min_samples_split': trial.suggest_int('rf_min_samples_split', 2, 20),\n",
    "        'min_samples_leaf': trial.suggest_int('rf_min_samples_leaf', 1, 10)\n",
    "    }\n",
    "    \n",
    "    \n",
    "    # Define hyperparameters for SVM\n",
    "    svm_hyperparams = {\n",
    "        'C': trial.suggest_float('svm_C', 0.1, 10),\n",
    "        'kernel': trial.suggest_categorical('svm_kernel', ['linear', 'poly', 'rbf', 'sigmoid']),\n",
    "        'gamma': trial.suggest_float('svm_gamma', 1e-6, 1e-2)\n",
    "    }\n",
    "    \"\"\"\n",
    "    \n",
    "    # Define hyperparameters for SVM\n",
    "    svm_hyperparams = {\n",
    "        'C': trial.suggest_float('svm_C', 0.1, 0.1),\n",
    "        'kernel': trial.suggest_categorical('svm_kernel', ['rbf']),\n",
    "        'gamma': trial.suggest_float('svm_gamma', 0.01, 0.01)\n",
    "    }\n",
    "    \"\"\"\n",
    "    \n",
    "    # Initialize and train HistGradientBoostingClassifier\n",
    "    rf_classifier = RandomForestClassifier(**rf_hyperparams)\n",
    "    rf_classifier.fit(X_train_dos_probe, y_train_l1)\n",
    "    \n",
    "    # Initialize and train SVM classifier\n",
    "    svm_classifier = SVC(**svm_hyperparams)\n",
    "    svm_classifier.fit(X_train_r2l_u2r, y_train_l2)\n",
    "    \n",
    "    # Predict on validation set and calculate metrics for both classifiers\n",
    "    hgb_predicted = rf_classifier.predict(X_validate_dos_probe)\n",
    "    svm_predicted = svm_classifier.predict(X_validate_r2l_u2r)\n",
    "    \n",
    "    # Calculate confusion matrices for both classifiers\n",
    "    hgb_cm = confusion_matrix(y_validate_l1, hgb_predicted)\n",
    "    svm_cm = confusion_matrix(y_validate_l2, svm_predicted)\n",
    "    \n",
    "    # Calculate False Positive Rates for both classifiers\n",
    "    rf_fpr = hgb_cm[0, 1] / np.sum(hgb_cm[0, :])\n",
    "    svm_fpr = svm_cm[0, 1] / np.sum(svm_cm[0, :])\n",
    "    \n",
    "    # Calculate the average FPR\n",
    "    avg_fpr = (rf_fpr + svm_fpr) / 2\n",
    "    \n",
    "    return avg_fpr\n",
    "    \n",
    "\n",
    "# Create Optuna study and optimize\n",
    "study = optuna.create_study(direction='minimize')\n",
    "\n",
    "start = datetime.now()\n",
    "study.optimize(objective, n_trials=20, n_jobs=-1)\n",
    "tuning_time = datetime.now() - start"
   ],
   "metadata": {
    "collapsed": false
   }
  },
  {
   "cell_type": "markdown",
   "metadata": {
    "collapsed": false
   },
   "source": [
    "# S3 RF + SVM"
   ]
  },
  {
   "cell_type": "markdown",
   "source": [
    "import optuna\n",
    "\n",
    "rf_params = {\n",
    "    'n_estimators': optuna.distributions.IntDistribution(50, 500),\n",
    "    'max_depth': optuna.distributions.IntDistribution(2, 32),\n",
    "    'min_samples_split': optuna.distributions.IntDistribution(2, 20),\n",
    "    'min_samples_leaf': optuna.distributions.IntDistribution(1, 10)\n",
    "}\n",
    "\n",
    "svm_params = {\n",
    "    'C': optuna.distributions.FloatDistribution(0.1, 10),\n",
    "    'kernel': optuna.distributions.CategoricalDistribution(['linear', 'poly', 'rbf', 'sigmoid']),\n",
    "    'gamma': optuna.distributions.FloatDistribution(1e-6, 1e-2)\n",
    "}\n",
    "\n",
    "def objective(trial):\n",
    "    # Define hyperparameters for Random Forest\n",
    "    rf_hyperparams = {\n",
    "        'n_estimators': trial.suggest_int('rf_n_estimators', 10, 70),\n",
    "        'max_depth': trial.suggest_int('rf_max_depth', 2, 32),\n",
    "        'min_samples_split': trial.suggest_int('rf_min_samples_split', 2, 20),\n",
    "        'min_samples_leaf': trial.suggest_int('rf_min_samples_leaf', 1, 10)\n",
    "    }\n",
    "    \n",
    "    \n",
    "    # Define hyperparameters for SVM\n",
    "    svm_hyperparams = {\n",
    "        'C': trial.suggest_float('svm_C', 0.1, 10),\n",
    "        'kernel': trial.suggest_categorical('svm_kernel', ['linear', 'poly', 'rbf', 'sigmoid']),\n",
    "        'gamma': trial.suggest_float('svm_gamma', 1e-6, 1e-2)\n",
    "    }\n",
    "    \"\"\"\n",
    "    \n",
    "    # Define hyperparameters for SVM\n",
    "    svm_hyperparams = {\n",
    "        'C': trial.suggest_float('svm_C', 0.1, 0.1),\n",
    "        'kernel': trial.suggest_categorical('svm_kernel', ['rbf']),\n",
    "        'gamma': trial.suggest_float('svm_gamma', 0.01, 0.01)\n",
    "    }\n",
    "    \"\"\"\n",
    "    \n",
    "    # Initialize and train Random Forest classifier\n",
    "    rf_classifier = RandomForestClassifier(**rf_hyperparams)\n",
    "    rf_classifier.fit(X_train_dos_probe, y_train_l1)\n",
    "    \n",
    "    # Initialize and train SVM classifier\n",
    "    svm_classifier = SVC(**svm_hyperparams)\n",
    "    svm_classifier.fit(X_train_r2l_u2r, y_train_l2)\n",
    "    \n",
    "    # Predict on validation set and calculate metrics for both classifiers\n",
    "    rf_predicted = rf_classifier.predict(X_validate_dos_probe)\n",
    "    svm_predicted = svm_classifier.predict(X_validate_r2l_u2r)\n",
    "    \n",
    "    # Calculate confusion matrices for both classifiers\n",
    "    rf_cm = confusion_matrix(y_validate_l1, rf_predicted)\n",
    "    svm_cm = confusion_matrix(y_validate_l2, svm_predicted)\n",
    "    \n",
    "    # Calculate False Positive Rates (FPR) and True Negative Rates (TNR) for both classifiers\n",
    "    rf_fpr = rf_cm[0, 1] / np.sum(rf_cm[0, :])\n",
    "    rf_tnr = rf_cm[0, 0] / np.sum(rf_cm[0, :])\n",
    "    \n",
    "    svm_fpr = svm_cm[0, 1] / np.sum(svm_cm[0, :])\n",
    "    svm_tnr = svm_cm[0, 0] / np.sum(svm_cm[0, :])\n",
    "    \n",
    "    # Calculate the average FPR and TNR\n",
    "    avg_fpr = (rf_fpr + svm_fpr) / 2\n",
    "    avg_tnr = (rf_tnr + svm_tnr) / 2\n",
    "    \n",
    "    # Aim to optimize both FPR and TNR\n",
    "    return avg_fpr + (1 - avg_tnr)\n",
    "\n",
    "\n",
    "# Create Optuna study and optimize\n",
    "study = optuna.create_study(direction='minimize')\n",
    "\n",
    "start = datetime.now()\n",
    "study.optimize(objective, n_trials=20, n_jobs=-1)\n",
    "tuning_time = datetime.now() - start"
   ],
   "metadata": {
    "collapsed": false
   }
  },
  {
   "cell_type": "markdown",
   "metadata": {
    "collapsed": false
   },
   "source": [
    "# S3 (RF+NBC) + SVM"
   ]
  },
  {
   "cell_type": "markdown",
   "source": [
    "import optuna\n",
    "\n",
    "rf_params = {\n",
    "    'n_estimators': optuna.distributions.IntDistribution(50, 500),\n",
    "    'max_depth': optuna.distributions.IntDistribution(2, 32),\n",
    "    'min_samples_split': optuna.distributions.IntDistribution(2, 20),\n",
    "    'min_samples_leaf': optuna.distributions.IntDistribution(1, 10)\n",
    "}\n",
    "\n",
    "svm_params = {\n",
    "    'C': optuna.distributions.FloatDistribution(0.1, 10),\n",
    "    'kernel': optuna.distributions.CategoricalDistribution(['linear', 'poly', 'rbf', 'sigmoid']),\n",
    "    'gamma': optuna.distributions.FloatDistribution(1e-6, 1e-2)\n",
    "}\n",
    "\n",
    "nbc_params = {\n",
    "    'var_smoothing': optuna.distributions.FloatDistribution(1e-10, 1e-1)\n",
    "}\n",
    "\n",
    "def objective(trial):\n",
    "    # Define hyperparameters for Random Forest\n",
    "    rf_hyperparams = {\n",
    "        'n_estimators': trial.suggest_int('rf_n_estimators', 10, 70),\n",
    "        'max_depth': trial.suggest_int('rf_max_depth', 2, 32),\n",
    "        'min_samples_split': trial.suggest_int('rf_min_samples_split', 2, 20),\n",
    "        'min_samples_leaf': trial.suggest_int('rf_min_samples_leaf', 1, 10)\n",
    "    }\n",
    "    \n",
    "    # Define hyperparameters for GaussianNB\n",
    "    gnb_hyperparams = {\n",
    "        'var_smoothing': trial.suggest_float('gnb_var_smoothing', 1e-10, 1e-1, log=True)\n",
    "    }\n",
    "    \n",
    "    \n",
    "    # Define hyperparameters for SVM\n",
    "    svm_hyperparams = {\n",
    "        'C': trial.suggest_float('svm_C', 0.1, 10),\n",
    "        'kernel': trial.suggest_categorical('svm_kernel', ['linear', 'poly', 'rbf', 'sigmoid']),\n",
    "        'gamma': trial.suggest_float('svm_gamma', 1e-6, 1e-2)\n",
    "    }\n",
    "    \"\"\"\n",
    "    \n",
    "    # Define hyperparameters for SVM\n",
    "    svm_hyperparams = {\n",
    "        'C': trial.suggest_float('svm_C', 0.1, 0.1),\n",
    "        'kernel': trial.suggest_categorical('svm_kernel', ['rbf']),\n",
    "        'gamma': trial.suggest_float('svm_gamma', 0.01, 0.01)\n",
    "    }\n",
    "    \"\"\"\n",
    "    \n",
    "    voting_classifier = VotingClassifier(\n",
    "        [(\"rf\", RandomForestClassifier(**rf_hyperparams)), (\"nbc\", GaussianNB(**gnb_hyperparams))],\n",
    "        voting='soft'\n",
    "    )\n",
    "    voting_classifier.fit(X_train_dos_probe, y_train_l1)\n",
    "    \n",
    "    # Initialize and train SVM classifier\n",
    "    svm_classifier = SVC(**svm_hyperparams)\n",
    "    svm_classifier.fit(X_train_r2l_u2r, y_train_l2)\n",
    "    \n",
    "    # Predict on validation set and calculate metrics for both classifiers\n",
    "    voting_predicted = voting_classifier.predict(X_validate_dos_probe)\n",
    "    svm_predicted = svm_classifier.predict(X_validate_r2l_u2r)\n",
    "    \n",
    "    # Calculate confusion matrices for both classifiers\n",
    "    voting_cm = confusion_matrix(y_validate_l1, voting_predicted)\n",
    "    svm_cm = confusion_matrix(y_validate_l2, svm_predicted)\n",
    "    \n",
    "    # Calculate False Positive Rates (FPR) and True Negative Rates (TNR) for both classifiers\n",
    "    rf_fpr = voting_cm[0, 1] / np.sum(voting_cm[0, :])\n",
    "    rf_tnr = voting_cm[0, 0] / np.sum(voting_cm[0, :])\n",
    "    \n",
    "    svm_fpr = svm_cm[0, 1] / np.sum(svm_cm[0, :])\n",
    "    svm_tnr = svm_cm[0, 0] / np.sum(svm_cm[0, :])\n",
    "    \n",
    "    # Calculate the average FPR and TNR\n",
    "    avg_fpr = (rf_fpr + svm_fpr) / 2\n",
    "    avg_tnr = (rf_tnr + svm_tnr) / 2\n",
    "    \n",
    "    # Aim to optimize both FPR and TNR\n",
    "    return avg_fpr + (1 - avg_tnr)\n",
    "\n",
    "\n",
    "# Create Optuna study and optimize\n",
    "study = optuna.create_study(direction='minimize')\n",
    "\n",
    "start = datetime.now()\n",
    "study.optimize(objective, n_trials=20, n_jobs=-1)\n",
    "tuning_time = datetime.now() - start"
   ],
   "metadata": {
    "collapsed": false
   }
  },
  {
   "cell_type": "markdown",
   "metadata": {
    "collapsed": false
   },
   "source": [
    "# S3 (HGBC+NBC) + SVM"
   ]
  },
  {
   "cell_type": "markdown",
   "source": [
    "from sklearn.ensemble import HistGradientBoostingClassifier\n",
    "\n",
    "hgb_params = {\n",
    "    'learning_rate': optuna.distributions.FloatDistribution(0.001, 0.1),\n",
    "    'max_iter': optuna.distributions.IntDistribution(50, 500),\n",
    "    'max_depth': optuna.distributions.IntDistribution(2, 32),\n",
    "    'min_samples_leaf': optuna.distributions.IntDistribution(1, 10)\n",
    "}\n",
    "\n",
    "svm_params = {\n",
    "    'C': optuna.distributions.FloatDistribution(0.1, 10),\n",
    "    'kernel': optuna.distributions.CategoricalDistribution(['linear', 'poly', 'rbf', 'sigmoid']),\n",
    "    'gamma': optuna.distributions.FloatDistribution(1e-6, 1e-2)\n",
    "}\n",
    "\n",
    "nbc_params = {\n",
    "    'var_smoothing': optuna.distributions.FloatDistribution(1e-10, 1e-1)\n",
    "}\n",
    "\n",
    "def objective(trial):\n",
    "    # Define hyperparameters for Random Forest\n",
    "    hgb_hyperparams = {\n",
    "        'learning_rate': trial.suggest_float('hgb_learning_rate', 0.001, 0.1, log=True),\n",
    "        'max_iter': trial.suggest_int('hgb_max_iter', 50, 500),\n",
    "        'max_depth': trial.suggest_int('hgb_max_depth', 2, 32),\n",
    "        'min_samples_leaf': trial.suggest_int('hgb_min_samples_leaf', 1, 10)\n",
    "    }\n",
    "    \n",
    "    # Define hyperparameters for GaussianNB\n",
    "    gnb_hyperparams = {\n",
    "        'var_smoothing': trial.suggest_float('gnb_var_smoothing', 1e-10, 1e-1, log=True)\n",
    "    }\n",
    "    \n",
    "    \n",
    "    # Define hyperparameters for SVM\n",
    "    svm_hyperparams = {\n",
    "        'C': trial.suggest_float('svm_C', 0.1, 10),\n",
    "        'kernel': trial.suggest_categorical('svm_kernel', ['linear', 'poly', 'rbf', 'sigmoid']),\n",
    "        'gamma': trial.suggest_float('svm_gamma', 1e-6, 1e-2)\n",
    "    }\n",
    "    \"\"\"\n",
    "    \n",
    "    # Define hyperparameters for SVM\n",
    "    svm_hyperparams = {\n",
    "        'C': trial.suggest_float('svm_C', 0.1, 0.1),\n",
    "        'kernel': trial.suggest_categorical('svm_kernel', ['rbf']),\n",
    "        'gamma': trial.suggest_float('svm_gamma', 0.01, 0.01)\n",
    "    }\n",
    "    \"\"\"\n",
    "    \n",
    "    voting_classifier = VotingClassifier(\n",
    "        [(\"hgbc\", HistGradientBoostingClassifier(**hgb_hyperparams)), (\"nbc\", GaussianNB(**gnb_hyperparams))],\n",
    "        voting='soft'\n",
    "    )\n",
    "    voting_classifier.fit(X_train_dos_probe, y_train_l1)\n",
    "    \n",
    "    # Initialize and train SVM classifier\n",
    "    svm_classifier = SVC(**svm_hyperparams)\n",
    "    svm_classifier.fit(X_train_r2l_u2r, y_train_l2)\n",
    "    \n",
    "    # Predict on validation set and calculate metrics for both classifiers\n",
    "    voting_predicted = voting_classifier.predict(X_validate_dos_probe)\n",
    "    svm_predicted = svm_classifier.predict(X_validate_r2l_u2r)\n",
    "    \n",
    "    # Calculate confusion matrices for both classifiers\n",
    "    voting_cm = confusion_matrix(y_validate_l1, voting_predicted)\n",
    "    svm_cm = confusion_matrix(y_validate_l2, svm_predicted)\n",
    "    \n",
    "    # Calculate False Positive Rates (FPR) and True Negative Rates (TNR) for both classifiers\n",
    "    rf_fpr = voting_cm[0, 1] / np.sum(voting_cm[0, :])\n",
    "    rf_tnr = voting_cm[0, 0] / np.sum(voting_cm[0, :])\n",
    "    \n",
    "    svm_fpr = svm_cm[0, 1] / np.sum(svm_cm[0, :])\n",
    "    svm_tnr = svm_cm[0, 0] / np.sum(svm_cm[0, :])\n",
    "    \n",
    "    # Calculate the average FPR and TNR\n",
    "    avg_fpr = (rf_fpr + svm_fpr) / 2\n",
    "    avg_tnr = (rf_tnr + svm_tnr) / 2\n",
    "    \n",
    "    # Aim to optimize both FPR and TNR\n",
    "    return avg_fpr + (1 - avg_tnr)\n",
    "\n",
    "\n",
    "# Create Optuna study and optimize\n",
    "study = optuna.create_study(direction='minimize')\n",
    "\n",
    "start = datetime.now()\n",
    "study.optimize(objective, n_trials=20, n_jobs=-1)\n",
    "tuning_time = datetime.now() - start"
   ],
   "metadata": {
    "collapsed": false
   }
  },
  {
   "cell_type": "markdown",
   "metadata": {
    "collapsed": false
   },
   "source": [
    "# S3 HGBC + SVM"
   ]
  },
  {
   "cell_type": "markdown",
   "source": [
    "from sklearn.ensemble import HistGradientBoostingClassifier\n",
    "\n",
    "hgb_params = {\n",
    "    'learning_rate': optuna.distributions.FloatDistribution(0.001, 0.1),\n",
    "    'max_iter': optuna.distributions.IntDistribution(50, 500),\n",
    "    'max_depth': optuna.distributions.IntDistribution(2, 32),\n",
    "    'min_samples_leaf': optuna.distributions.IntDistribution(1, 10)\n",
    "}\n",
    "\n",
    "svm_params = {\n",
    "    'C': optuna.distributions.FloatDistribution(0.1, 10),\n",
    "    'kernel': optuna.distributions.CategoricalDistribution(['linear', 'poly', 'rbf', 'sigmoid']),\n",
    "    'gamma': optuna.distributions.FloatDistribution(1e-6, 1e-2)\n",
    "}\n",
    "\n",
    "def objective(trial):\n",
    "    # Define hyperparameters for Random Forest\n",
    "    hgb_hyperparams = {\n",
    "        'learning_rate': trial.suggest_float('hgb_learning_rate', 0.001, 0.1, log=True),\n",
    "        'max_iter': trial.suggest_int('hgb_max_iter', 50, 500),\n",
    "        'max_depth': trial.suggest_int('hgb_max_depth', 2, 32),\n",
    "        'min_samples_leaf': trial.suggest_int('hgb_min_samples_leaf', 1, 10)\n",
    "    }\n",
    "    \n",
    "   \n",
    "    # Define hyperparameters for SVM\n",
    "    svm_hyperparams = {\n",
    "        'C': trial.suggest_float('svm_C', 0.1, 10),\n",
    "        'kernel': trial.suggest_categorical('svm_kernel', ['linear', 'poly', 'rbf', 'sigmoid']),\n",
    "        'gamma': trial.suggest_float('svm_gamma', 1e-6, 1e-2)\n",
    "    }\n",
    "    \"\"\"\n",
    "    \n",
    "    # Define hyperparameters for SVM\n",
    "    svm_hyperparams = {\n",
    "        'C': trial.suggest_float('svm_C', 0.1, 0.1),\n",
    "        'kernel': trial.suggest_categorical('svm_kernel', ['rbf']),\n",
    "        'gamma': trial.suggest_float('svm_gamma', 0.01, 0.01)\n",
    "    }\n",
    "    \"\"\"\n",
    "    \n",
    "    hgb_classifier = HistGradientBoostingClassifier(**hgb_hyperparams)\n",
    "    hgb_classifier.fit(X_train_dos_probe, y_train_l1)\n",
    "    \n",
    "    # Initialize and train SVM classifier\n",
    "    svm_classifier = SVC(**svm_hyperparams)\n",
    "    svm_classifier.fit(X_train_r2l_u2r, y_train_l2)\n",
    "    \n",
    "    # Predict on validation set and calculate metrics for both classifiers\n",
    "    hgb_predicted = hgb_classifier.predict(X_validate_dos_probe)\n",
    "    svm_predicted = svm_classifier.predict(X_validate_r2l_u2r)\n",
    "    \n",
    "    # Calculate confusion matrices for both classifiers\n",
    "    hgb_cm = confusion_matrix(y_validate_l1, hgb_predicted)\n",
    "    svm_cm = confusion_matrix(y_validate_l2, svm_predicted)\n",
    "    \n",
    "    # Calculate False Positive Rates (FPR) and True Negative Rates (TNR) for both classifiers\n",
    "    rf_fpr = hgb_cm[0, 1] / np.sum(hgb_cm[0, :])\n",
    "    rf_tnr = hgb_cm[0, 0] / np.sum(hgb_cm[0, :])\n",
    "    \n",
    "    svm_fpr = svm_cm[0, 1] / np.sum(svm_cm[0, :])\n",
    "    svm_tnr = svm_cm[0, 0] / np.sum(svm_cm[0, :])\n",
    "    \n",
    "    # Calculate the average FPR and TNR\n",
    "    avg_fpr = (rf_fpr + svm_fpr) / 2\n",
    "    avg_tnr = (rf_tnr + svm_tnr) / 2\n",
    "    \n",
    "    # Aim to optimize both FPR and TNR\n",
    "    return avg_fpr + (1 - avg_tnr)\n",
    "\n",
    "\n",
    "# Create Optuna study and optimize\n",
    "study = optuna.create_study(direction='minimize')\n",
    "\n",
    "start = datetime.now()\n",
    "study.optimize(objective, n_trials=20, n_jobs=-1)\n",
    "tuning_time = datetime.now() - start"
   ],
   "metadata": {
    "collapsed": false
   }
  },
  {
   "cell_type": "markdown",
   "metadata": {
    "collapsed": false
   },
   "source": [
    "# S4 HGBC + SVM"
   ]
  },
  {
   "cell_type": "markdown",
   "source": [
    "from sklearn.ensemble import HistGradientBoostingClassifier\n",
    "\n",
    "hgb_params = {\n",
    "    'learning_rate': optuna.distributions.FloatDistribution(0.001, 0.1),\n",
    "    'max_iter': optuna.distributions.IntDistribution(50, 500),\n",
    "    'max_depth': optuna.distributions.IntDistribution(2, 32),\n",
    "    'min_samples_leaf': optuna.distributions.IntDistribution(1, 10)\n",
    "}\n",
    "\n",
    "svm_params = {\n",
    "    'C': optuna.distributions.FloatDistribution(0.1, 10),\n",
    "    'kernel': optuna.distributions.CategoricalDistribution(['linear', 'poly', 'rbf', 'sigmoid']),\n",
    "    'gamma': optuna.distributions.FloatDistribution(1e-6, 1e-2)\n",
    "}\n",
    "\n",
    "def objective(trial):\n",
    "    # Define hyperparameters for Random Forest\n",
    "    hgb_hyperparams = {\n",
    "        'learning_rate': trial.suggest_float('hgb_learning_rate', 0.001, 0.1, log=True),\n",
    "        'max_iter': trial.suggest_int('hgb_max_iter', 50, 500),\n",
    "        'max_depth': trial.suggest_int('hgb_max_depth', 2, 32),\n",
    "        'min_samples_leaf': trial.suggest_int('hgb_min_samples_leaf', 1, 10)\n",
    "    }\n",
    "    \n",
    "    \n",
    "    # Define hyperparameters for SVM\n",
    "    svm_hyperparams = {\n",
    "        'C': trial.suggest_float('svm_C', 0.1, 10),\n",
    "        'kernel': trial.suggest_categorical('svm_kernel', ['linear', 'poly', 'rbf', 'sigmoid']),\n",
    "        'gamma': trial.suggest_float('svm_gamma', 1e-6, 1e-2)\n",
    "    }\n",
    "    \"\"\"\n",
    "    \n",
    "    # Define hyperparameters for SVM\n",
    "    svm_hyperparams = {\n",
    "        'C': trial.suggest_float('svm_C', 0.1, 0.1),\n",
    "        'kernel': trial.suggest_categorical('svm_kernel', ['rbf']),\n",
    "        'gamma': trial.suggest_float('svm_gamma', 0.01, 0.01)\n",
    "    }\n",
    "    \"\"\"\n",
    "    \n",
    "    hgb_classifier = HistGradientBoostingClassifier(**hgb_hyperparams)\n",
    "    hgb_classifier.fit(X_train_dos_probe, y_train_l1)\n",
    "    \n",
    "    # Initialize and train SVM classifier\n",
    "    svm_classifier = SVC(**svm_hyperparams)\n",
    "    svm_classifier.fit(X_train_r2l_u2r, y_train_l2)\n",
    "    \n",
    "    # Predict on validation set and calculate metrics for both classifiers\n",
    "    hgb_predicted = hgb_classifier.predict(X_validate_dos_probe)\n",
    "    svm_predicted = svm_classifier.predict(X_validate_r2l_u2r)\n",
    "    \n",
    "    # Calculate confusion matrices for both classifiers\n",
    "    hgb_cm = confusion_matrix(y_validate_l1, hgb_predicted)\n",
    "    svm_cm = confusion_matrix(y_validate_l2, svm_predicted)\n",
    "    \n",
    "    # Calculate Precision and False Negative Rate (FNR) for both classifiers\n",
    "    hgb_precision = hgb_cm[1, 1] / np.sum(hgb_cm[:, 1])\n",
    "    hgb_fnr = hgb_cm[1, 0] / np.sum(hgb_cm[1, :])\n",
    "    \n",
    "    svm_precision = svm_cm[1, 1] / np.sum(svm_cm[:, 1])\n",
    "    svm_fnr = svm_cm[1, 0] / np.sum(svm_cm[1, :])\n",
    "    \n",
    "    # Calculate the average Precision and FNR\n",
    "    avg_precision = (hgb_precision + svm_precision) / 2\n",
    "    avg_fnr = (hgb_fnr + svm_fnr) / 2\n",
    "    \n",
    "    # Aim to optimize both Precision and FNR\n",
    "    return 1 - (avg_precision + avg_fnr)  # Minimize the sum of Precision and FNR\n",
    "\n",
    "\n",
    "# Create Optuna study and optimize\n",
    "study = optuna.create_study(direction='minimize')\n",
    "\n",
    "start = datetime.now()\n",
    "study.optimize(objective, n_trials=20, n_jobs=-1)\n",
    "tuning_time = datetime.now() - start"
   ],
   "metadata": {
    "collapsed": false
   }
  },
  {
   "cell_type": "markdown",
   "metadata": {
    "collapsed": false
   },
   "source": [
    "# S4 (HGBC+NBC) + SVM"
   ]
  },
  {
   "cell_type": "markdown",
   "source": [
    "from sklearn.ensemble import HistGradientBoostingClassifier\n",
    "\n",
    "hgb_params = {\n",
    "    'learning_rate': optuna.distributions.FloatDistribution(0.001, 0.1),\n",
    "    'max_iter': optuna.distributions.IntDistribution(50, 500),\n",
    "    'max_depth': optuna.distributions.IntDistribution(2, 32),\n",
    "    'min_samples_leaf': optuna.distributions.IntDistribution(1, 10)\n",
    "}\n",
    "\n",
    "svm_params = {\n",
    "    'C': optuna.distributions.FloatDistribution(0.1, 10),\n",
    "    'kernel': optuna.distributions.CategoricalDistribution(['linear', 'poly', 'rbf', 'sigmoid']),\n",
    "    'gamma': optuna.distributions.FloatDistribution(1e-6, 1e-2)\n",
    "}\n",
    "\n",
    "nbc_params = {\n",
    "    'var_smoothing': optuna.distributions.FloatDistribution(1e-10, 1e-1)\n",
    "}\n",
    "\n",
    "def objective(trial):\n",
    "    # Define hyperparameters for Random Forest\n",
    "    hgb_hyperparams = {\n",
    "        'learning_rate': trial.suggest_float('hgb_learning_rate', 0.001, 0.1, log=True),\n",
    "        'max_iter': trial.suggest_int('hgb_max_iter', 50, 500),\n",
    "        'max_depth': trial.suggest_int('hgb_max_depth', 2, 32),\n",
    "        'min_samples_leaf': trial.suggest_int('hgb_min_samples_leaf', 1, 10)\n",
    "    }\n",
    "    \n",
    "    # Define hyperparameters for GaussianNB\n",
    "    gnb_hyperparams = {\n",
    "        'var_smoothing': trial.suggest_float('gnb_var_smoothing', 1e-10, 1e-1, log=True)\n",
    "    }\n",
    "    \n",
    "    \n",
    "    # Define hyperparameters for SVM\n",
    "    svm_hyperparams = {\n",
    "        'C': trial.suggest_float('svm_C', 0.1, 10),\n",
    "        'kernel': trial.suggest_categorical('svm_kernel', ['linear', 'poly', 'rbf', 'sigmoid']),\n",
    "        'gamma': trial.suggest_float('svm_gamma', 1e-6, 1e-2)\n",
    "    }\n",
    "    \"\"\"\n",
    "    \n",
    "    # Define hyperparameters for SVM\n",
    "    svm_hyperparams = {\n",
    "        'C': trial.suggest_float('svm_C', 0.1, 0.1),\n",
    "        'kernel': trial.suggest_categorical('svm_kernel', ['rbf']),\n",
    "        'gamma': trial.suggest_float('svm_gamma', 0.01, 0.01)\n",
    "    }\n",
    "    \"\"\"\n",
    "    \n",
    "    voting_classifier = VotingClassifier(\n",
    "        [(\"hgbc\", HistGradientBoostingClassifier(**hgb_hyperparams)), (\"nbc\", GaussianNB(**gnb_hyperparams))],\n",
    "        voting='soft'\n",
    "    )\n",
    "    voting_classifier.fit(X_train_dos_probe, y_train_l1)\n",
    "    \n",
    "    hgb_classifier = HistGradientBoostingClassifier(**hgb_hyperparams)\n",
    "    hgb_classifier.fit(X_train_dos_probe, y_train_l1)\n",
    "    \n",
    "    # Initialize and train SVM classifier\n",
    "    svm_classifier = SVC(**svm_hyperparams)\n",
    "    svm_classifier.fit(X_train_r2l_u2r, y_train_l2)\n",
    "    \n",
    "    # Predict on validation set and calculate metrics for both classifiers\n",
    "    hgb_predicted = hgb_classifier.predict(X_validate_dos_probe)\n",
    "    svm_predicted = svm_classifier.predict(X_validate_r2l_u2r)\n",
    "    \n",
    "    # Calculate confusion matrices for both classifiers\n",
    "    hgb_cm = confusion_matrix(y_validate_l1, hgb_predicted)\n",
    "    svm_cm = confusion_matrix(y_validate_l2, svm_predicted)\n",
    "    \n",
    "    # Calculate Precision and False Negative Rate (FNR) for both classifiers\n",
    "    hgb_precision = hgb_cm[1, 1] / np.sum(hgb_cm[:, 1])\n",
    "    hgb_fnr = hgb_cm[1, 0] / np.sum(hgb_cm[1, :])\n",
    "    \n",
    "    svm_precision = svm_cm[1, 1] / np.sum(svm_cm[:, 1])\n",
    "    svm_fnr = svm_cm[1, 0] / np.sum(svm_cm[1, :])\n",
    "    \n",
    "    # Calculate the average Precision and FNR\n",
    "    avg_precision = (hgb_precision + svm_precision) / 2\n",
    "    avg_fnr = (hgb_fnr + svm_fnr) / 2\n",
    "    \n",
    "    # Aim to optimize both Precision and FNR\n",
    "    return 1 - (avg_precision + avg_fnr)  # Minimize the sum of Precision and FNR\n",
    "\n",
    "\n",
    "# Create Optuna study and optimize\n",
    "study = optuna.create_study(direction='minimize')\n",
    "\n",
    "start = datetime.now()\n",
    "study.optimize(objective, n_trials=20, n_jobs=-1)\n",
    "tuning_time = datetime.now() - start"
   ],
   "metadata": {
    "collapsed": false
   }
  },
  {
   "cell_type": "markdown",
   "metadata": {
    "collapsed": false
   },
   "source": [
    "# S4 RF + SVM"
   ]
  },
  {
   "cell_type": "markdown",
   "source": [
    "import optuna\n",
    "\n",
    "rf_params = {\n",
    "    'n_estimators': optuna.distributions.IntDistribution(50, 500),\n",
    "    'max_depth': optuna.distributions.IntDistribution(2, 32),\n",
    "    'min_samples_split': optuna.distributions.IntDistribution(2, 20),\n",
    "    'min_samples_leaf': optuna.distributions.IntDistribution(1, 10)\n",
    "}\n",
    "\n",
    "svm_params = {\n",
    "    'C': optuna.distributions.FloatDistribution(0.1, 10),\n",
    "    'kernel': optuna.distributions.CategoricalDistribution(['linear', 'poly', 'rbf', 'sigmoid']),\n",
    "    'gamma': optuna.distributions.FloatDistribution(1e-6, 1e-2)\n",
    "}\n",
    "\n",
    "def objective(trial):\n",
    "    # Define hyperparameters for Random Forest\n",
    "    rf_hyperparams = {\n",
    "        'n_estimators': trial.suggest_int('rf_n_estimators', 10, 70),\n",
    "        'max_depth': trial.suggest_int('rf_max_depth', 2, 32),\n",
    "        'min_samples_split': trial.suggest_int('rf_min_samples_split', 2, 20),\n",
    "        'min_samples_leaf': trial.suggest_int('rf_min_samples_leaf', 1, 10)\n",
    "    }\n",
    "    \n",
    "    \n",
    "    # Define hyperparameters for SVM\n",
    "    svm_hyperparams = {\n",
    "        'C': trial.suggest_float('svm_C', 0.1, 10),\n",
    "        'kernel': trial.suggest_categorical('svm_kernel', ['linear', 'poly', 'rbf', 'sigmoid']),\n",
    "        'gamma': trial.suggest_float('svm_gamma', 1e-6, 1e-2)\n",
    "    }\n",
    "    \"\"\"\n",
    "    \n",
    "    # Define hyperparameters for SVM\n",
    "    svm_hyperparams = {\n",
    "        'C': trial.suggest_float('svm_C', 0.1, 0.1),\n",
    "        'kernel': trial.suggest_categorical('svm_kernel', ['rbf']),\n",
    "        'gamma': trial.suggest_float('svm_gamma', 0.01, 0.01)\n",
    "    }\n",
    "    \"\"\"\n",
    "    \n",
    "    # Initialize and train Random Forest classifier\n",
    "    rf_classifier = RandomForestClassifier(**rf_hyperparams)\n",
    "    rf_classifier.fit(X_train_dos_probe, y_train_l1)\n",
    "    \n",
    "    # Initialize and train SVM classifier\n",
    "    svm_classifier = SVC(**svm_hyperparams)\n",
    "    svm_classifier.fit(X_train_r2l_u2r, y_train_l2)\n",
    "    \n",
    "    # Initialize and train SVM classifier\n",
    "    svm_classifier = SVC(**svm_hyperparams)\n",
    "    svm_classifier.fit(X_train_r2l_u2r, y_train_l2)\n",
    "    \n",
    "    # Predict on validation set and calculate metrics for both classifiers\n",
    "    rf_predicted = rf_classifier.predict(X_validate_dos_probe)\n",
    "    svm_predicted = svm_classifier.predict(X_validate_r2l_u2r)\n",
    "    \n",
    "    # Calculate confusion matrices for both classifiers\n",
    "    rf_cm = confusion_matrix(y_validate_l1, rf_predicted)\n",
    "    svm_cm = confusion_matrix(y_validate_l2, svm_predicted)\n",
    "    \n",
    "    # Calculate Precision and False Negative Rate (FNR) for both classifiers\n",
    "    rf_precision = rf_cm[1, 1] / np.sum(rf_cm[:, 1])\n",
    "    rf_fnr = rf_cm[1, 0] / np.sum(rf_cm[1, :])\n",
    "    \n",
    "    svm_precision = svm_cm[1, 1] / np.sum(svm_cm[:, 1])\n",
    "    svm_fnr = svm_cm[1, 0] / np.sum(svm_cm[1, :])\n",
    "    \n",
    "    # Calculate the average Precision and FNR\n",
    "    avg_precision = (rf_precision + svm_precision) / 2\n",
    "    avg_fnr = (rf_fnr + svm_fnr) / 2\n",
    "    \n",
    "    # Aim to optimize both Precision and FNR\n",
    "    return 1 - (avg_precision + avg_fnr)  # Minimize the sum of Precision and FNR\n",
    "    \n",
    "\n",
    "# Create Optuna study and optimize\n",
    "study = optuna.create_study(direction='minimize')\n",
    "\n",
    "start = datetime.now()\n",
    "study.optimize(objective, n_trials=20, n_jobs=-1)\n",
    "tuning_time = datetime.now() - start"
   ],
   "metadata": {
    "collapsed": false
   }
  },
  {
   "cell_type": "markdown",
   "metadata": {
    "collapsed": false
   },
   "source": [
    "# S4 (RF+NBC) + SVM"
   ]
  },
  {
   "cell_type": "markdown",
   "source": [
    "import optuna\n",
    "\n",
    "rf_params = {\n",
    "    'n_estimators': optuna.distributions.IntDistribution(50, 500),\n",
    "    'max_depth': optuna.distributions.IntDistribution(2, 32),\n",
    "    'min_samples_split': optuna.distributions.IntDistribution(2, 20),\n",
    "    'min_samples_leaf': optuna.distributions.IntDistribution(1, 10)\n",
    "}\n",
    "\n",
    "svm_params = {\n",
    "    'C': optuna.distributions.FloatDistribution(0.1, 10),\n",
    "    'kernel': optuna.distributions.CategoricalDistribution(['linear', 'poly', 'rbf', 'sigmoid']),\n",
    "    'gamma': optuna.distributions.FloatDistribution(1e-6, 1e-2)\n",
    "}\n",
    "\n",
    "nbc_params = {\n",
    "    'var_smoothing': optuna.distributions.FloatDistribution(1e-10, 1e-1)\n",
    "}\n",
    "\n",
    "def objective(trial):\n",
    "    # Define hyperparameters for Random Forest\n",
    "    rf_hyperparams = {\n",
    "        'n_estimators': trial.suggest_int('rf_n_estimators', 10, 70),\n",
    "        'max_depth': trial.suggest_int('rf_max_depth', 2, 32),\n",
    "        'min_samples_split': trial.suggest_int('rf_min_samples_split', 2, 20),\n",
    "        'min_samples_leaf': trial.suggest_int('rf_min_samples_leaf', 1, 10)\n",
    "    }\n",
    "    \n",
    "    # Define hyperparameters for GaussianNB\n",
    "    gnb_hyperparams = {\n",
    "        'var_smoothing': trial.suggest_float('gnb_var_smoothing', 1e-10, 1e-1, log=True)\n",
    "    }\n",
    "    \n",
    "    \n",
    "    # Define hyperparameters for SVM\n",
    "    svm_hyperparams = {\n",
    "        'C': trial.suggest_float('svm_C', 0.1, 10),\n",
    "        'kernel': trial.suggest_categorical('svm_kernel', ['linear', 'poly', 'rbf', 'sigmoid']),\n",
    "        'gamma': trial.suggest_float('svm_gamma', 1e-6, 1e-2)\n",
    "    }\n",
    "    \"\"\"\n",
    "    \n",
    "    # Define hyperparameters for SVM\n",
    "    svm_hyperparams = {\n",
    "        'C': trial.suggest_float('svm_C', 0.1, 0.1),\n",
    "        'kernel': trial.suggest_categorical('svm_kernel', ['rbf']),\n",
    "        'gamma': trial.suggest_float('svm_gamma', 0.01, 0.01)\n",
    "    }\n",
    "    \"\"\"\n",
    "    \n",
    "    voting_classifier = VotingClassifier(\n",
    "        [(\"rf\", RandomForestClassifier(**rf_hyperparams)), (\"nbc\", GaussianNB(**gnb_hyperparams))],\n",
    "        voting='soft'\n",
    "    )\n",
    "    voting_classifier.fit(X_train_dos_probe, y_train_l1)\n",
    "    \n",
    "    # Initialize and train SVM classifier\n",
    "    svm_classifier = SVC(**svm_hyperparams)\n",
    "    svm_classifier.fit(X_train_r2l_u2r, y_train_l2)\n",
    "    \n",
    "    # Predict on validation set and calculate metrics for both classifiers\n",
    "    voting_predicted = voting_classifier.predict(X_validate_dos_probe)\n",
    "    svm_predicted = svm_classifier.predict(X_validate_r2l_u2r)\n",
    "    \n",
    "    # Calculate confusion matrices for both classifiers\n",
    "    voting_cm = confusion_matrix(y_validate_l1, voting_predicted)\n",
    "    svm_cm = confusion_matrix(y_validate_l2, svm_predicted)\n",
    "    \n",
    "    # Calculate Precision and False Negative Rate (FNR) for both classifiers\n",
    "    voting_precision = voting_cm[1, 1] / np.sum(voting_cm[:, 1])\n",
    "    voting_fnr = voting_cm[1, 0] / np.sum(voting_cm[1, :])\n",
    "    \n",
    "    svm_precision = svm_cm[1, 1] / np.sum(svm_cm[:, 1])\n",
    "    svm_fnr = svm_cm[1, 0] / np.sum(svm_cm[1, :])\n",
    "    \n",
    "    # Calculate the average Precision and FNR\n",
    "    avg_precision = (voting_precision + svm_precision) / 2\n",
    "    avg_fnr = (voting_fnr + svm_fnr) / 2\n",
    "    \n",
    "    # Aim to optimize both Precision and FNR\n",
    "    return 1 - (avg_precision + avg_fnr)  # Minimize the sum of Precision and FNR\n",
    "\n",
    "\n",
    "# Create Optuna study and optimize\n",
    "study = optuna.create_study(direction='minimize')\n",
    "\n",
    "start = datetime.now()\n",
    "study.optimize(objective, n_trials=20, n_jobs=-1)\n",
    "tuning_time = datetime.now() - start"
   ],
   "metadata": {
    "collapsed": false
   }
  },
  {
   "cell_type": "code",
   "execution_count": 329,
   "metadata": {
    "collapsed": true,
    "jupyter": {
     "outputs_hidden": true,
     "source_hidden": true
    },
    "ExecuteTime": {
     "end_time": "2024-03-08T11:25:25.671378900Z",
     "start_time": "2024-03-08T11:25:25.649739100Z"
    }
   },
   "outputs": [
    {
     "name": "stdout",
     "output_type": "stream",
     "text": [
      "tuning_time:  0:00:44.597607\n"
     ]
    }
   ],
   "source": [
    "print('tuning_time: ', tuning_time)"
   ]
  },
  {
   "cell_type": "markdown",
   "metadata": {
    "collapsed": false
   },
   "source": [
    "# Get the best hyperparameters for RF + SVM"
   ]
  },
  {
   "cell_type": "markdown",
   "source": [
    "best_params1 = {\n",
    "    'n_estimators': study.best_trial.params['rf_n_estimators'],\n",
    "    'max_depth': study.best_trial.params['rf_max_depth'],\n",
    "    'min_samples_split': study.best_trial.params['rf_min_samples_split'],\n",
    "    'min_samples_leaf': study.best_trial.params['rf_min_samples_leaf']\n",
    "}\n",
    "\n",
    "best_params2 = {\n",
    "    'C': study.best_trial.params['svm_C'],\n",
    "    'kernel': study.best_trial.params['svm_kernel'],\n",
    "    'gamma': study.best_trial.params['svm_gamma']\n",
    "}"
   ],
   "metadata": {
    "collapsed": false
   }
  },
  {
   "cell_type": "markdown",
   "metadata": {
    "collapsed": false
   },
   "source": [
    "# Get the best hyperparameters for HGBC + SVM"
   ]
  },
  {
   "cell_type": "code",
   "execution_count": 330,
   "outputs": [],
   "source": [
    "best_params1 = {\n",
    "    'learning_rate': study.best_trial.params['hgb_learning_rate'],\n",
    "    'max_depth': study.best_trial.params['hgb_max_depth'],\n",
    "    'max_iter': study.best_trial.params['hgb_max_iter'],\n",
    "    'min_samples_leaf': study.best_trial.params['hgb_min_samples_leaf']\n",
    "}\n",
    "\n",
    "best_params2 = {\n",
    "    'C': study.best_trial.params['svm_C'],\n",
    "    'kernel': study.best_trial.params['svm_kernel'],\n",
    "    'gamma': study.best_trial.params['svm_gamma']\n",
    "}"
   ],
   "metadata": {
    "collapsed": false,
    "ExecuteTime": {
     "end_time": "2024-03-08T11:25:25.688673Z",
     "start_time": "2024-03-08T11:25:25.655948200Z"
    }
   }
  },
  {
   "cell_type": "markdown",
   "metadata": {
    "collapsed": false
   },
   "source": [
    "# Get the best hyperparameters for (RF+NBC) + SVM"
   ]
  },
  {
   "cell_type": "markdown",
   "source": [
    "best_params1 = {\n",
    "    'n_estimators': study.best_trial.params['rf_n_estimators'],\n",
    "    'max_depth': study.best_trial.params['rf_max_depth'],\n",
    "    'min_samples_split': study.best_trial.params['rf_min_samples_split'],\n",
    "    'min_samples_leaf': study.best_trial.params['rf_min_samples_leaf']\n",
    "}\n",
    "\n",
    "best_params_nbc = {\n",
    "    'var_smoothing': study.best_trial.params['gnb_var_smoothing']\n",
    "}\n",
    "\n",
    "best_params2 = {\n",
    "    'C': study.best_trial.params['svm_C'],\n",
    "    'kernel': study.best_trial.params['svm_kernel'],\n",
    "    'gamma': study.best_trial.params['svm_gamma']\n",
    "}"
   ],
   "metadata": {
    "collapsed": false
   }
  },
  {
   "cell_type": "markdown",
   "metadata": {
    "collapsed": false
   },
   "source": [
    "print(best_params_nbc)"
   ]
  },
  {
   "cell_type": "markdown",
   "metadata": {
    "collapsed": false
   },
   "source": [
    "# Get the best hyperparameters for (HGBC+NBC) + SVM"
   ]
  },
  {
   "cell_type": "markdown",
   "source": [
    "best_params1 = {\n",
    "    'learning_rate': study.best_trial.params['hgb_learning_rate'],\n",
    "    'max_depth': study.best_trial.params['hgb_max_depth'],\n",
    "    'max_iter': study.best_trial.params['hgb_max_iter'],\n",
    "    'min_samples_leaf': study.best_trial.params['hgb_min_samples_leaf']\n",
    "}\n",
    "\n",
    "best_params_nbc = {\n",
    "    'var_smoothing': study.best_trial.params['gnb_var_smoothing']\n",
    "}\n",
    "\n",
    "# Get the best hyperparameters for SVM\n",
    "best_params2 = {\n",
    "    'C': study.best_trial.params['svm_C'],\n",
    "    'kernel': study.best_trial.params['svm_kernel'],\n",
    "    'gamma': study.best_trial.params['svm_gamma']\n",
    "}\n",
    "\n",
    "print(best_params_nbc)"
   ],
   "metadata": {
    "collapsed": false
   }
  },
  {
   "cell_type": "code",
   "execution_count": 331,
   "metadata": {
    "collapsed": true,
    "jupyter": {
     "outputs_hidden": true,
     "source_hidden": true
    },
    "ExecuteTime": {
     "end_time": "2024-03-08T11:25:25.692782800Z",
     "start_time": "2024-03-08T11:25:25.662977Z"
    }
   },
   "outputs": [
    {
     "name": "stdout",
     "output_type": "stream",
     "text": [
      "{'learning_rate': 0.007380749580939124, 'max_depth': 18, 'max_iter': 464, 'min_samples_leaf': 8} {'C': 9.290166683103118, 'kernel': 'linear', 'gamma': 0.0036481706038325747}\n"
     ]
    }
   ],
   "source": [
    "print(best_params1, best_params2)"
   ]
  },
  {
   "cell_type": "markdown",
   "metadata": {
    "collapsed": false
   },
   "source": [
    "# Train RF + SVM"
   ]
  },
  {
   "cell_type": "markdown",
   "source": [
    "best_classifier1 = RandomForestClassifier(**best_params1)\n",
    "best_classifier1.fit(X_train_dos_probe, y_train_l1)\n",
    "\n",
    "best_classifier2 = SVC(**best_params2)\n",
    "best_classifier2.fit(X_train_r2l_u2r, y_train_l2)"
   ],
   "metadata": {
    "collapsed": false
   }
  },
  {
   "cell_type": "markdown",
   "metadata": {
    "collapsed": false
   },
   "source": [
    "# Train HGBC + SVM"
   ]
  },
  {
   "cell_type": "code",
   "execution_count": 332,
   "outputs": [
    {
     "data": {
      "text/plain": "SVC(C=9.290166683103118, gamma=0.0036481706038325747, kernel='linear')",
      "text/html": "<style>#sk-container-id-5 {color: black;}#sk-container-id-5 pre{padding: 0;}#sk-container-id-5 div.sk-toggleable {background-color: white;}#sk-container-id-5 label.sk-toggleable__label {cursor: pointer;display: block;width: 100%;margin-bottom: 0;padding: 0.3em;box-sizing: border-box;text-align: center;}#sk-container-id-5 label.sk-toggleable__label-arrow:before {content: \"▸\";float: left;margin-right: 0.25em;color: #696969;}#sk-container-id-5 label.sk-toggleable__label-arrow:hover:before {color: black;}#sk-container-id-5 div.sk-estimator:hover label.sk-toggleable__label-arrow:before {color: black;}#sk-container-id-5 div.sk-toggleable__content {max-height: 0;max-width: 0;overflow: hidden;text-align: left;background-color: #f0f8ff;}#sk-container-id-5 div.sk-toggleable__content pre {margin: 0.2em;color: black;border-radius: 0.25em;background-color: #f0f8ff;}#sk-container-id-5 input.sk-toggleable__control:checked~div.sk-toggleable__content {max-height: 200px;max-width: 100%;overflow: auto;}#sk-container-id-5 input.sk-toggleable__control:checked~label.sk-toggleable__label-arrow:before {content: \"▾\";}#sk-container-id-5 div.sk-estimator input.sk-toggleable__control:checked~label.sk-toggleable__label {background-color: #d4ebff;}#sk-container-id-5 div.sk-label input.sk-toggleable__control:checked~label.sk-toggleable__label {background-color: #d4ebff;}#sk-container-id-5 input.sk-hidden--visually {border: 0;clip: rect(1px 1px 1px 1px);clip: rect(1px, 1px, 1px, 1px);height: 1px;margin: -1px;overflow: hidden;padding: 0;position: absolute;width: 1px;}#sk-container-id-5 div.sk-estimator {font-family: monospace;background-color: #f0f8ff;border: 1px dotted black;border-radius: 0.25em;box-sizing: border-box;margin-bottom: 0.5em;}#sk-container-id-5 div.sk-estimator:hover {background-color: #d4ebff;}#sk-container-id-5 div.sk-parallel-item::after {content: \"\";width: 100%;border-bottom: 1px solid gray;flex-grow: 1;}#sk-container-id-5 div.sk-label:hover label.sk-toggleable__label {background-color: #d4ebff;}#sk-container-id-5 div.sk-serial::before {content: \"\";position: absolute;border-left: 1px solid gray;box-sizing: border-box;top: 0;bottom: 0;left: 50%;z-index: 0;}#sk-container-id-5 div.sk-serial {display: flex;flex-direction: column;align-items: center;background-color: white;padding-right: 0.2em;padding-left: 0.2em;position: relative;}#sk-container-id-5 div.sk-item {position: relative;z-index: 1;}#sk-container-id-5 div.sk-parallel {display: flex;align-items: stretch;justify-content: center;background-color: white;position: relative;}#sk-container-id-5 div.sk-item::before, #sk-container-id-5 div.sk-parallel-item::before {content: \"\";position: absolute;border-left: 1px solid gray;box-sizing: border-box;top: 0;bottom: 0;left: 50%;z-index: -1;}#sk-container-id-5 div.sk-parallel-item {display: flex;flex-direction: column;z-index: 1;position: relative;background-color: white;}#sk-container-id-5 div.sk-parallel-item:first-child::after {align-self: flex-end;width: 50%;}#sk-container-id-5 div.sk-parallel-item:last-child::after {align-self: flex-start;width: 50%;}#sk-container-id-5 div.sk-parallel-item:only-child::after {width: 0;}#sk-container-id-5 div.sk-dashed-wrapped {border: 1px dashed gray;margin: 0 0.4em 0.5em 0.4em;box-sizing: border-box;padding-bottom: 0.4em;background-color: white;}#sk-container-id-5 div.sk-label label {font-family: monospace;font-weight: bold;display: inline-block;line-height: 1.2em;}#sk-container-id-5 div.sk-label-container {text-align: center;}#sk-container-id-5 div.sk-container {/* jupyter's `normalize.less` sets `[hidden] { display: none; }` but bootstrap.min.css set `[hidden] { display: none !important; }` so we also need the `!important` here to be able to override the default hidden behavior on the sphinx rendered scikit-learn.org. See: https://github.com/scikit-learn/scikit-learn/issues/21755 */display: inline-block !important;position: relative;}#sk-container-id-5 div.sk-text-repr-fallback {display: none;}</style><div id=\"sk-container-id-5\" class=\"sk-top-container\"><div class=\"sk-text-repr-fallback\"><pre>SVC(C=9.290166683103118, gamma=0.0036481706038325747, kernel=&#x27;linear&#x27;)</pre><b>In a Jupyter environment, please rerun this cell to show the HTML representation or trust the notebook. <br />On GitHub, the HTML representation is unable to render, please try loading this page with nbviewer.org.</b></div><div class=\"sk-container\" hidden><div class=\"sk-item\"><div class=\"sk-estimator sk-toggleable\"><input class=\"sk-toggleable__control sk-hidden--visually\" id=\"sk-estimator-id-5\" type=\"checkbox\" checked><label for=\"sk-estimator-id-5\" class=\"sk-toggleable__label sk-toggleable__label-arrow\">SVC</label><div class=\"sk-toggleable__content\"><pre>SVC(C=9.290166683103118, gamma=0.0036481706038325747, kernel=&#x27;linear&#x27;)</pre></div></div></div></div></div>"
     },
     "execution_count": 332,
     "metadata": {},
     "output_type": "execute_result"
    }
   ],
   "source": [
    "best_classifier1 = HistGradientBoostingClassifier(**best_params1)\n",
    "best_classifier1.fit(X_train_dos_probe, y_train_l1)\n",
    "\n",
    "best_classifier2 = SVC(**best_params2)\n",
    "best_classifier2.fit(X_train_r2l_u2r, y_train_l2)"
   ],
   "metadata": {
    "collapsed": false,
    "ExecuteTime": {
     "end_time": "2024-03-08T11:25:30.589336500Z",
     "start_time": "2024-03-08T11:25:25.668378900Z"
    }
   }
  },
  {
   "cell_type": "markdown",
   "metadata": {
    "collapsed": false
   },
   "source": [
    "# Train (RF+NBC) + SVM"
   ]
  },
  {
   "cell_type": "markdown",
   "source": [
    "best_classifier1 = VotingClassifier(\n",
    "    [(\"rf\", RandomForestClassifier(**best_params1)), (\"nbc\", GaussianNB(**best_params_nbc))],\n",
    "    voting='soft'\n",
    ")\n",
    "\n",
    "best_classifier2 = SVC(**best_params2)\n",
    "\n",
    "best_classifier1.fit(X_train_dos_probe, y_train_l1)\n",
    "best_classifier2.fit(X_train_r2l_u2r, y_train_l2)"
   ],
   "metadata": {
    "collapsed": false
   }
  },
  {
   "cell_type": "markdown",
   "metadata": {
    "collapsed": false
   },
   "source": [
    "# Train (HGBC+NBC) + SVM"
   ]
  },
  {
   "cell_type": "markdown",
   "source": [
    "best_classifier1 = VotingClassifier(\n",
    "    [(\"hgbc\", HistGradientBoostingClassifier(**best_params1)), (\"nbc\", GaussianNB(**best_params_nbc))],\n",
    "    voting='soft'\n",
    ")\n",
    "\n",
    "best_classifier2 = SVC(**best_params2)\n",
    "\n",
    "best_classifier1.fit(X_train_dos_probe, y_train_l1)\n",
    "best_classifier2.fit(X_train_r2l_u2r, y_train_l2)"
   ],
   "metadata": {
    "collapsed": false
   }
  },
  {
   "cell_type": "code",
   "execution_count": 333,
   "outputs": [],
   "source": [
    "classifier1 = best_classifier1\n",
    "classifier2 = best_classifier2"
   ],
   "metadata": {
    "collapsed": false,
    "ExecuteTime": {
     "end_time": "2024-03-08T11:25:30.606453400Z",
     "start_time": "2024-03-08T11:25:30.585228100Z"
    }
   }
  },
  {
   "cell_type": "code",
   "execution_count": 334,
   "metadata": {
    "collapsed": false,
    "ExecuteTime": {
     "end_time": "2024-03-08T11:27:29.834457400Z",
     "start_time": "2024-03-08T11:25:30.590391100Z"
    }
   },
   "outputs": [],
   "source": [
    "# the results may vary\n",
    "accuracy, f_score, precision, recall, clf_time, tnr, fpr, fnr, result = test_metrics()"
   ]
  },
  {
   "cell_type": "code",
   "execution_count": 335,
   "outputs": [
    {
     "name": "stdout",
     "output_type": "stream",
     "text": [
      "Accuracy =  0.8251863023420866\n",
      "F1 Score =  0.8273989401305128\n",
      "Precision =  0.9446\n",
      "Recall =  0.7360710667809554\n",
      "True Negative Rate (TNR) = 0.9429512923488828\n",
      "False Positive Rate (FPR) = 0.05704870765111729\n",
      "False Negative Rate (FNR) = 0.26392893321904465\n",
      "Classification time =  0:01:59.202775\n"
     ]
    }
   ],
   "source": [
    "print('Accuracy = ', accuracy)\n",
    "print('F1 Score = ', f_score)\n",
    "print('Precision = ', precision)\n",
    "print('Recall = ', recall)\n",
    "print('True Negative Rate (TNR) =', tnr)\n",
    "print('False Positive Rate (FPR) =', fpr)\n",
    "\n",
    "print('False Negative Rate (FNR) =', fnr)\n",
    "\n",
    "print('Classification time = ', clf_time)"
   ],
   "metadata": {
    "collapsed": true,
    "jupyter": {
     "outputs_hidden": true,
     "source_hidden": true
    },
    "ExecuteTime": {
     "end_time": "2024-03-08T11:27:29.861329800Z",
     "start_time": "2024-03-08T11:27:29.836455600Z"
    }
   }
  },
  {
   "cell_type": "code",
   "execution_count": 336,
   "outputs": [
    {
     "data": {
      "text/plain": "<Figure size 640x480 with 1 Axes>",
      "image/png": "[encoded data removed]"
     },
     "metadata": {},
     "output_type": "display_data"
    }
   ],
   "source": [
    "# ROC graph\n",
    "\n",
    "import matplotlib.pyplot as plt\n",
    "from sklearn.metrics import roc_curve, auc\n",
    "\n",
    "fpr, tpr, _ = roc_curve(y_test_real, result)\n",
    "roc_auc = auc(fpr, tpr)\n",
    "\n",
    "# Plot ROC curve\n",
    "plt.figure()\n",
    "plt.plot(fpr, tpr, color='darkorange', lw=2, label='ROC curve (area = %0.2f)' % roc_auc)\n",
    "plt.plot([0, 1], [0, 1], color='navy', lw=2, linestyle='--')\n",
    "plt.xlim([0.0, 1.0])\n",
    "plt.ylim([0.0, 1.05])\n",
    "plt.xlabel('False Positive Rate')\n",
    "plt.ylabel('True Positive Rate')\n",
    "plt.title('Receiver Operating Characteristic (ROC) Curve')\n",
    "plt.legend(loc=\"lower right\")\n",
    "\n",
    "plt.savefig('static_roc_curve-hgbc.png')\n",
    "\n",
    "plt.show()"
   ],
   "metadata": {
    "collapsed": false,
    "ExecuteTime": {
     "end_time": "2024-03-08T11:27:30.077056600Z",
     "start_time": "2024-03-08T11:27:29.844319500Z"
    }
   }
  },
  {
   "cell_type": "markdown",
   "metadata": {
    "collapsed": false
   },
   "source": [
    "### Export the test sets"
   ]
  },
  {
   "cell_type": "markdown",
   "metadata": {
    "collapsed": false
   },
   "source": [
    "if True:\n",
    "    column_names = [f'PC{i}' for i in range(1, X_test_layer1.shape[1] + 1)]\n",
    "    X1_test = pd.DataFrame(data=X_test_layer1, columns=column_names)\n",
    "    X1_test.to_csv('EvalResources/AdditionalSets/x_test_l1_pca.txt', index=False)\n",
    "    \n",
    "    column_names = [f'PC{i}' for i in range(1, X_test_layer2.shape[1] + 1)]\n",
    "    X2_test = pd.DataFrame(data=X_test_layer2, columns=column_names)\n",
    "    X2_test.to_csv('EvalResources/AdditionalSets/x_test_l2_pca.txt', index=False)\n",
    "    \n",
    "    np.save('EvalResources/AdditionalSets/y_test', y_test_real)"
   ]
  },
  {
   "cell_type": "markdown",
   "metadata": {},
   "source": [
    "### evaluate seen and unseen attack categories"
   ]
  },
  {
   "cell_type": "code",
   "execution_count": 337,
   "metadata": {
    "collapsed": true,
    "jupyter": {
     "outputs_hidden": true,
     "source_hidden": true
    },
    "ExecuteTime": {
     "end_time": "2024-03-08T11:27:30.195082400Z",
     "start_time": "2024-03-08T11:27:30.074953300Z"
    }
   },
   "outputs": [],
   "source": [
    "# load testset\n",
    "df_test = pd.read_csv('EvalResources/KDDTest+.txt', sep=\",\", header=None, skipinitialspace = True)\n",
    "df_test = df_test[df_test.columns[:-1]]\n",
    "df_test.columns = titles.to_list()\n",
    "y_test = df_test['label']\n",
    "df_test = df_test.drop(['num_outbound_cmds'],axis=1)\n",
    "\n",
    "df_test_original = df_test"
   ]
  },
  {
   "cell_type": "markdown",
   "source": [
    "if EXPORT_DATASETS:\n",
    "    df_test_original.to_csv('EvalResources/ProcessedDatasets/x_test_full.txt', index=False)\n",
    "    np.save('EvalResources/ProcessedDatasets/y_test_full', y_test)\n",
    "    \n",
    "#df_test_original"
   ],
   "metadata": {
    "collapsed": false
   }
  },
  {
   "cell_type": "code",
   "execution_count": 338,
   "metadata": {
    "collapsed": true,
    "jupyter": {
     "outputs_hidden": true,
     "source_hidden": true
    },
    "ExecuteTime": {
     "end_time": "2024-03-08T11:27:30.309553700Z",
     "start_time": "2024-03-08T11:27:30.148853700Z"
    }
   },
   "outputs": [],
   "source": [
    "new_attack = []\n",
    "for i in df_test_original['label'].value_counts().index.tolist()[1:]:\n",
    "    if i not in df_train_original['label'].value_counts().index.tolist()[1:]:\n",
    "        new_attack.append(i)\n",
    "        \n",
    "new_attack.sort()\n",
    "#new_attack"
   ]
  },
  {
   "cell_type": "code",
   "execution_count": 339,
   "metadata": {
    "collapsed": true,
    "jupyter": {
     "outputs_hidden": true,
     "source_hidden": true
    },
    "ExecuteTime": {
     "end_time": "2024-03-08T11:27:30.409946100Z",
     "start_time": "2024-03-08T11:27:30.310621300Z"
    }
   },
   "outputs": [],
   "source": [
    "index_of_new_attacks = []\n",
    "\n",
    "for i in range(len(df_test_original)):\n",
    "    if df_test_original['label'][i] in new_attack:\n",
    "        index_of_new_attacks.append(df_test_original.index[i])"
   ]
  },
  {
   "cell_type": "code",
   "execution_count": 340,
   "metadata": {
    "collapsed": true,
    "jupyter": {
     "outputs_hidden": true,
     "source_hidden": true
    },
    "ExecuteTime": {
     "end_time": "2024-03-08T11:27:30.412775600Z",
     "start_time": "2024-03-08T11:27:30.404189500Z"
    }
   },
   "outputs": [],
   "source": [
    "#len(index_of_new_attacks)"
   ]
  },
  {
   "cell_type": "code",
   "execution_count": 341,
   "metadata": {
    "collapsed": true,
    "jupyter": {
     "outputs_hidden": true,
     "source_hidden": true
    },
    "ExecuteTime": {
     "end_time": "2024-03-08T11:27:30.443288300Z",
     "start_time": "2024-03-08T11:27:30.409946100Z"
    }
   },
   "outputs": [],
   "source": [
    "new_attack.append('normal')\n",
    "#new_attack"
   ]
  },
  {
   "cell_type": "code",
   "execution_count": 342,
   "metadata": {
    "collapsed": true,
    "jupyter": {
     "outputs_hidden": true,
     "source_hidden": true
    },
    "ExecuteTime": {
     "end_time": "2024-03-08T11:27:30.534865Z",
     "start_time": "2024-03-08T11:27:30.464206100Z"
    }
   },
   "outputs": [],
   "source": [
    "index_of_old_attacks = []\n",
    "\n",
    "for i in range(len(df_test_original)):\n",
    "    if df_test_original['label'][i] not in new_attack:\n",
    "        index_of_old_attacks.append(df_test_original.index[i])"
   ]
  },
  {
   "cell_type": "code",
   "execution_count": 343,
   "metadata": {
    "collapsed": true,
    "jupyter": {
     "outputs_hidden": true,
     "source_hidden": true
    },
    "ExecuteTime": {
     "end_time": "2024-03-08T11:27:30.551881300Z",
     "start_time": "2024-03-08T11:27:30.517631300Z"
    }
   },
   "outputs": [
    {
     "name": "stdout",
     "output_type": "stream",
     "text": [
      "Number of new attacks in the test set:  3750\n",
      "Number of new attacks detected by the classifiers:  1875\n",
      "Proportion of new attacks detected:  0.5\n"
     ]
    }
   ],
   "source": [
    "print('Number of new attacks in the test set: ', result[index_of_new_attacks].shape[0])\n",
    "print('Number of new attacks detected by the classifiers: ', result[index_of_new_attacks].sum())\n",
    "print('Proportion of new attacks detected: ', result[index_of_new_attacks].sum()/result[index_of_new_attacks].shape[0])"
   ]
  },
  {
   "cell_type": "code",
   "execution_count": 344,
   "metadata": {
    "collapsed": true,
    "jupyter": {
     "outputs_hidden": true,
     "source_hidden": true
    },
    "ExecuteTime": {
     "end_time": "2024-03-08T11:27:30.556851300Z",
     "start_time": "2024-03-08T11:27:30.523816100Z"
    }
   },
   "outputs": [
    {
     "name": "stdout",
     "output_type": "stream",
     "text": [
      "Number of old attacks in the test set:  9083\n",
      "Number of old attacks detected by the classifiers:  7571\n",
      "Proportion of old attacks detected:  0.8335351756027745\n"
     ]
    }
   ],
   "source": [
    "print('Number of old attacks in the test set: ', result[index_of_old_attacks].shape[0])\n",
    "print('Number of old attacks detected by the classifiers: ', result[index_of_old_attacks].sum())\n",
    "print('Proportion of old attacks detected: ', result[index_of_old_attacks].sum()/result[index_of_old_attacks].shape[0])"
   ]
  },
  {
   "cell_type": "markdown",
   "metadata": {},
   "source": [
    "### Evaluate single attack types"
   ]
  },
  {
   "cell_type": "code",
   "execution_count": 345,
   "metadata": {
    "collapsed": true,
    "jupyter": {
     "outputs_hidden": true,
     "source_hidden": true
    },
    "ExecuteTime": {
     "end_time": "2024-03-08T11:27:30.718371400Z",
     "start_time": "2024-03-08T11:27:30.534865Z"
    }
   },
   "outputs": [
    {
     "name": "stdout",
     "output_type": "stream",
     "text": [
      "Ratio DOS of detection:  0.803083109919571\n",
      "Ratio PROBE of detection:  0.9508467575382074\n",
      "Ratio U2R of detection:  0.3809358752166378\n",
      "Ratio R2L of detection:  0.8059701492537313\n",
      "New attacks detected:  0.5\n",
      "Old attacks detected:  0.8335351756027745\n"
     ]
    }
   ],
   "source": [
    "# load test set\n",
    "df_test = pd.read_csv('EvalResources/KDDTest+.txt', sep=\",\", header=None, skipinitialspace = True)\n",
    "df_test = df_test[df_test.columns[:-1]]\n",
    "df_test.columns = titles.to_list()\n",
    "y_test = df_test['label']\n",
    "df_test = df_test.drop(['num_outbound_cmds'],axis=1)\n",
    "df_test_original = df_test\n",
    "df = df_test_original\n",
    "\n",
    "dos_index = df.index[(df['label'].isin(dos_attacks))].tolist()\n",
    "probe_index = df.index[(df['label'].isin(probe_attacks))].tolist()\n",
    "r2l_index = df.index[(df['label'].isin(r2l_attacks))].tolist()\n",
    "u2r_index = df.index[(df['label'].isin(u2r_attacks))].tolist()\n",
    "\n",
    "print(\"Ratio DOS of detection: \", result[dos_index].sum()/result[dos_index].shape[0])\n",
    "\n",
    "print(\"Ratio PROBE of detection: \", result[probe_index].sum()/result[probe_index].shape[0])\n",
    "\n",
    "print(\"Ratio U2R of detection: \", result[r2l_index].sum()/result[r2l_index].shape[0])\n",
    "\n",
    "print(\"Ratio R2L of detection: \", result[u2r_index].sum()/result[u2r_index].shape[0])\n",
    "\n",
    "print('New attacks detected: ', result[index_of_new_attacks].sum()/result[index_of_new_attacks].shape[0])\n",
    "\n",
    "print('Old attacks detected: ', result[index_of_old_attacks].sum()/result[index_of_old_attacks].shape[0])"
   ]
  }
 ],
 "metadata": {
  "kernelspec": {
   "display_name": "Python 3 (ipykernel)",
   "language": "python",
   "name": "python3"
  },
  "language_info": {
   "codemirror_mode": {
    "name": "ipython",
    "version": 3
   },
   "file_extension": ".py",
   "mimetype": "text/x-python",
   "name": "python",
   "nbconvert_exporter": "python",
   "pygments_lexer": "ipython3",
   "version": "3.11.3"
  }
 },
 "nbformat": 4,
 "nbformat_minor": 4
}
