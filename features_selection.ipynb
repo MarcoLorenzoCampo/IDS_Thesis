{
 "cells": [
  {
   "cell_type": "code",
   "execution_count": 78,
   "outputs": [],
   "source": [
    "import pandas as pd\n",
    "import numpy as np\n",
    "import copy\n",
    "from sklearn.model_selection import train_test_split"
   ],
   "metadata": {
    "collapsed": false,
    "ExecuteTime": {
     "end_time": "2024-02-27T13:22:16.087368500Z",
     "start_time": "2024-02-27T13:22:15.940797700Z"
    }
   },
   "id": "748f5d01d1046220"
  },
  {
   "cell_type": "code",
   "execution_count": 79,
   "id": "initial_id",
   "metadata": {
    "collapsed": true,
    "ExecuteTime": {
     "end_time": "2024-02-27T13:22:16.565014400Z",
     "start_time": "2024-02-27T13:22:16.093032500Z"
    }
   },
   "outputs": [],
   "source": [
    "# loading the train set\n",
    "df_train = pd.read_csv('EvalResources/KDDTrain+.txt', sep=\",\", header=None, skipinitialspace = True)\n",
    "df_train = df_train[df_train.columns[:-1]]  # tags column\n",
    "titles = pd.read_csv('EvalResources/Field Names.csv', header=None, skipinitialspace = True)\n",
    "label = pd.Series(['label'], index=[41])\n",
    "titles = pd.concat([titles[0], label])\n",
    "df_train.columns = titles.to_list()\n",
    "df_train = df_train.drop(['num_outbound_cmds'],axis=1)\n",
    "df_train_original = df_train\n",
    "\n",
    "# load test set\n",
    "df_test = pd.read_csv('EvalResources/KDDTest+.txt', sep=\",\", header=None, skipinitialspace = True)\n",
    "df_test_ = df_test.sort_index(axis=1)\n",
    "df_test = df_test[df_test.columns[:-1]]\n",
    "df_test.columns = titles.to_list()\n",
    "df_test = df_test.drop(['num_outbound_cmds'],axis=1)\n",
    "df_test_original = df_test"
   ]
  },
  {
   "cell_type": "code",
   "execution_count": 80,
   "outputs": [],
   "source": [
    "# list of single attacks \n",
    "dos_attacks = ['back', 'land', 'neptune', 'pod', 'smurf', 'teardrop', 'worm', 'apache2', 'mailbomb', 'processtable', 'udpstorm']\n",
    "probe_attacks = ['ipsweep', 'mscan', 'nmap', 'portsweep', 'saint', 'satan']\n",
    "r2l_attacks = ['guess_passwd', 'ftp_write', 'imap', 'phf', 'multihop', 'warezmaster',\n",
    "                'snmpguess', 'spy', 'warezclient', 'httptunnel', 'named', 'sendmail', 'snmpgetattack', 'xlock', 'xsnoop']\n",
    "u2r_attacks = ['buffer_overflow', 'loadmodule', 'perl', 'ps', 'rootkit', 'sqlattack', 'xterm'] \n",
    "\n",
    "# list of attack classes split according to detection layer\n",
    "dos_probe_list = ['back', 'land', 'neptune', 'pod', 'smurf', 'teardrop', 'ipsweep', 'nmap', 'portsweep', 'satan']\n",
    "dos_probe_test = ['apache2', 'mailbomb', 'processtable', 'udpstorm', 'mscan', 'saint']\n",
    "u2r_r2l_list = ['guess_passwd', 'ftp_write', 'imap', 'phf', 'multihop', 'warezmaster',\n",
    "                'snmpguess', 'spy', 'warezclient', 'buffer_overflow', 'loadmodule', 'rootkit', 'perl']\n",
    "u2r_r2l_test = ['httptunnel', 'named', 'sendmail', 'snmpgetattack', 'xlock', 'xsnoop', 'ps', 'xterm', 'sqlattack']\n",
    "normal_list = ['normal']\n",
    "categorical_features = ['protocol_type', 'service', 'flag']"
   ],
   "metadata": {
    "collapsed": false,
    "ExecuteTime": {
     "end_time": "2024-02-27T13:22:16.578074800Z",
     "start_time": "2024-02-27T13:22:16.565014400Z"
    }
   },
   "id": "bb909cbacfd4c394"
  },
  {
   "cell_type": "code",
   "execution_count": 81,
   "outputs": [],
   "source": [
    "df_train_and_validate = copy.deepcopy(df_train_original)\n",
    "df_test = copy.deepcopy(df_test_original)"
   ],
   "metadata": {
    "collapsed": false,
    "ExecuteTime": {
     "end_time": "2024-02-27T13:22:16.598206200Z",
     "start_time": "2024-02-27T13:22:16.568665400Z"
    }
   },
   "id": "1ae6b0b90cb07cb2"
  },
  {
   "cell_type": "code",
   "execution_count": 82,
   "outputs": [],
   "source": [
    "# Save all the targets for the dataset\n",
    "y_test_l1 = [1 if x in (dos_attacks+probe_attacks) else 0 for x in df_test['label']]\n",
    "y_test_l2 = [1 if x in (u2r_attacks+r2l_attacks) else 0 for x in df_test['label']]"
   ],
   "metadata": {
    "collapsed": false,
    "ExecuteTime": {
     "end_time": "2024-02-27T13:22:16.612827900Z",
     "start_time": "2024-02-27T13:22:16.608030900Z"
    }
   },
   "id": "9ae458ccb417904e"
  },
  {
   "cell_type": "code",
   "execution_count": 83,
   "outputs": [],
   "source": [
    "# split in test and validation set for BOTH layers\n",
    "df_train_original, df_val_original = train_test_split(df_train_and_validate, test_size=0.2, random_state=42)"
   ],
   "metadata": {
    "collapsed": false,
    "ExecuteTime": {
     "end_time": "2024-02-27T13:22:16.671023900Z",
     "start_time": "2024-02-27T13:22:16.611546100Z"
    }
   },
   "id": "3f7d15bccc33b938"
  },
  {
   "cell_type": "code",
   "execution_count": 84,
   "outputs": [],
   "source": [
    "# LAYER 1 ONLY!\n",
    "\n",
    "# dataframes specifically for layer 1\n",
    "df_train = copy.deepcopy(df_train_original)\n",
    "df_val = copy.deepcopy(df_val_original)\n",
    "df_test = copy.deepcopy(df_test_original)\n",
    "\n",
    "# set the target variables accordingly\n",
    "y_train = np.array([1 if x in (dos_attacks+probe_attacks) else 0 for x in df_train['label']])\n",
    "y_val = np.array([1 if x in (dos_attacks+probe_attacks) else 0 for x in df_val['label']])\n",
    "y_test = np.array([1 if x in (dos_attacks+probe_attacks) else 0 for x in df_test['label']])"
   ],
   "metadata": {
    "collapsed": false,
    "ExecuteTime": {
     "end_time": "2024-02-27T13:22:16.725619300Z",
     "start_time": "2024-02-27T13:22:16.671023900Z"
    }
   },
   "id": "5ba5b1f14b9c064a"
  },
  {
   "cell_type": "code",
   "execution_count": 85,
   "outputs": [],
   "source": [
    "# this dataframe contains the whole train set \n",
    "df_train = df_train.drop(['label'],axis=1)\n",
    "df_train = df_train.reset_index().drop(['index'], axis=1)"
   ],
   "metadata": {
    "collapsed": false,
    "ExecuteTime": {
     "end_time": "2024-02-27T13:22:16.782578700Z",
     "start_time": "2024-02-27T13:22:16.725619300Z"
    }
   },
   "id": "d2572ef28b0c4a0d"
  },
  {
   "cell_type": "code",
   "execution_count": 86,
   "outputs": [],
   "source": [
    "# this dataframe contains the whole validation set\n",
    "df_val = df_val.drop(['label'],axis=1)\n",
    "df_val = df_val.reset_index().drop(['index'], axis=1)"
   ],
   "metadata": {
    "collapsed": false,
    "ExecuteTime": {
     "end_time": "2024-02-27T13:22:16.785262700Z",
     "start_time": "2024-02-27T13:22:16.767415800Z"
    }
   },
   "id": "e362601bbcaca496"
  },
  {
   "cell_type": "code",
   "execution_count": 87,
   "outputs": [],
   "source": [
    "# this dataframe contains the whole validation set\n",
    "df_test = df_test.drop(['label'],axis=1)\n",
    "df_test = df_test.reset_index().drop(['index'], axis=1)"
   ],
   "metadata": {
    "collapsed": false,
    "ExecuteTime": {
     "end_time": "2024-02-27T13:22:16.813974200Z",
     "start_time": "2024-02-27T13:22:16.784191800Z"
    }
   },
   "id": "7b37d6d30d0caa3c"
  },
  {
   "cell_type": "code",
   "execution_count": 88,
   "outputs": [],
   "source": [
    "from sklearn.preprocessing import OneHotEncoder\n",
    "\n",
    "# one-hot encoder for the features of layer1\n",
    "ohe = OneHotEncoder(handle_unknown='ignore')"
   ],
   "metadata": {
    "collapsed": false,
    "ExecuteTime": {
     "end_time": "2024-02-27T13:22:16.814976Z",
     "start_time": "2024-02-27T13:22:16.797154Z"
    }
   },
   "id": "f60bfa800be9a192"
  },
  {
   "cell_type": "code",
   "execution_count": 89,
   "outputs": [],
   "source": [
    "# perform One-hot encoding for the train set\n",
    "label_enc = ohe.fit_transform(df_train[categorical_features])\n",
    "label_enc.toarray()\n",
    "new_labels = ohe.get_feature_names_out(categorical_features)\n",
    "df_enc_train = pd.DataFrame(data=label_enc.toarray(), columns=new_labels)"
   ],
   "metadata": {
    "collapsed": false,
    "ExecuteTime": {
     "end_time": "2024-02-27T13:22:16.874903900Z",
     "start_time": "2024-02-27T13:22:16.800161200Z"
    }
   },
   "id": "5508bfbc664bedbd"
  },
  {
   "cell_type": "code",
   "execution_count": 90,
   "outputs": [],
   "source": [
    "# perform One-hot encoding for the validation set\n",
    "label_enc = ohe.transform(df_val[categorical_features])\n",
    "label_enc.toarray()\n",
    "new_labels = ohe.get_feature_names_out(categorical_features)\n",
    "df_enc_val = pd.DataFrame(data=label_enc.toarray(), columns=new_labels)"
   ],
   "metadata": {
    "collapsed": false,
    "ExecuteTime": {
     "end_time": "2024-02-27T13:22:16.900312600Z",
     "start_time": "2024-02-27T13:22:16.874903900Z"
    }
   },
   "id": "9e4a4d12f5511f88"
  },
  {
   "cell_type": "code",
   "execution_count": 91,
   "outputs": [],
   "source": [
    "# perform One-hot encoding for the test set\n",
    "label_enc = ohe.transform(df_test.iloc[:,1:4])\n",
    "label_enc.toarray()\n",
    "new_labels = ohe.get_feature_names_out(categorical_features)\n",
    "df_enc_test = pd.DataFrame(data=label_enc.toarray(), columns=new_labels)"
   ],
   "metadata": {
    "collapsed": false,
    "ExecuteTime": {
     "end_time": "2024-02-27T13:22:16.916725200Z",
     "start_time": "2024-02-27T13:22:16.895953200Z"
    }
   },
   "id": "e38d2cac104cd8e3"
  },
  {
   "cell_type": "code",
   "execution_count": 92,
   "outputs": [],
   "source": [
    "# remove categorical features from the datasets\n",
    "df_train.drop(columns=categorical_features, inplace=True)\n",
    "df_val.drop(columns=categorical_features, inplace=True)\n",
    "df_test.drop(columns=categorical_features, inplace=True)"
   ],
   "metadata": {
    "collapsed": false,
    "ExecuteTime": {
     "end_time": "2024-02-27T13:22:16.939380200Z",
     "start_time": "2024-02-27T13:22:16.916725200Z"
    }
   },
   "id": "d17837db9ad6fa9"
  },
  {
   "cell_type": "code",
   "execution_count": 93,
   "outputs": [],
   "source": [
    "from sklearn.preprocessing import MinMaxScaler\n",
    "\n",
    "scaler1 = MinMaxScaler()"
   ],
   "metadata": {
    "collapsed": false,
    "ExecuteTime": {
     "end_time": "2024-02-27T13:22:16.942594900Z",
     "start_time": "2024-02-27T13:22:16.936686200Z"
    }
   },
   "id": "ed87a7f68c6bf1bc"
  },
  {
   "cell_type": "code",
   "execution_count": 94,
   "outputs": [],
   "source": [
    "# scaling the train set for layer1\n",
    "df_minmax_train = scaler1.fit_transform(df_train)\n",
    "x_train = pd.DataFrame(df_minmax_train, columns=df_train.columns)"
   ],
   "metadata": {
    "collapsed": false,
    "ExecuteTime": {
     "end_time": "2024-02-27T13:22:16.996540600Z",
     "start_time": "2024-02-27T13:22:16.940996200Z"
    }
   },
   "id": "b0650a97d2787b08"
  },
  {
   "cell_type": "code",
   "execution_count": 95,
   "outputs": [],
   "source": [
    "# scaling the validation set for layer1\n",
    "df_minmax_val = scaler1.transform(df_val)\n",
    "x_val = pd.DataFrame(df_minmax_val, columns=df_val.columns)"
   ],
   "metadata": {
    "collapsed": false,
    "ExecuteTime": {
     "end_time": "2024-02-27T13:22:17.012581300Z",
     "start_time": "2024-02-27T13:22:16.996540600Z"
    }
   },
   "id": "1b523fd26791e94a"
  },
  {
   "cell_type": "code",
   "execution_count": 96,
   "outputs": [],
   "source": [
    "# scaling the test set for layer1\n",
    "df_minmax_test = scaler1.transform(df_test)\n",
    "x_test = pd.DataFrame(df_minmax_test, columns=df_test.columns)"
   ],
   "metadata": {
    "collapsed": false,
    "ExecuteTime": {
     "end_time": "2024-02-27T13:22:17.033831700Z",
     "start_time": "2024-02-27T13:22:17.010492600Z"
    }
   },
   "id": "9af10f62b73831eb"
  },
  {
   "cell_type": "code",
   "execution_count": 97,
   "outputs": [
    {
     "name": "stdout",
     "output_type": "stream",
     "text": [
      "DataFrame does not have NaN values\n"
     ]
    }
   ],
   "source": [
    "# Check if there are any NaN values in the entire DataFrame\n",
    "if x_test.isna().any().any():\n",
    "    print(\"DataFrame has NaN values\")\n",
    "else:\n",
    "    print(\"DataFrame does not have NaN values\")"
   ],
   "metadata": {
    "collapsed": false,
    "ExecuteTime": {
     "end_time": "2024-02-27T13:22:17.036239300Z",
     "start_time": "2024-02-27T13:22:17.023708Z"
    }
   },
   "id": "da62375eafab6102"
  },
  {
   "cell_type": "markdown",
   "source": [
    "x_train = pd.concat([x_train, df_enc_train], axis=1)\n",
    "x_val = pd.concat([x_val, df_enc_val], axis=1)\n",
    "x_test = pd.concat([x_test, df_enc_test], axis=1)"
   ],
   "metadata": {
    "collapsed": false
   },
   "id": "11e0d7dcc720aa51"
  },
  {
   "cell_type": "markdown",
   "source": [
    "### Now we can perform features selection"
   ],
   "metadata": {
    "collapsed": false
   },
   "id": "8ce33ab9b6680c4e"
  },
  {
   "cell_type": "code",
   "execution_count": 98,
   "outputs": [],
   "source": [
    "import matplotlib.pyplot as plt"
   ],
   "metadata": {
    "collapsed": false,
    "ExecuteTime": {
     "end_time": "2024-02-27T13:22:17.037453700Z",
     "start_time": "2024-02-27T13:22:17.029715200Z"
    }
   },
   "id": "363849dcaeacaf1f"
  },
  {
   "cell_type": "markdown",
   "source": [
    "\n",
    "## Feature importances with Random Forest"
   ],
   "metadata": {
    "collapsed": false
   },
   "id": "c604a01dead77e3e"
  },
  {
   "cell_type": "markdown",
   "source": [
    "import time\n",
    "from sklearn.ensemble import RandomForestClassifier\n",
    "from sklearn.inspection import permutation_importance\n",
    "\n",
    "forest = RandomForestClassifier()\n",
    "forest.fit(x_train, y_train)\n",
    "\n",
    "start_time = time.time()\n",
    "result = permutation_importance(\n",
    "    forest, x_test, y_test, n_repeats=100, random_state=42, n_jobs=-1\n",
    ")\n",
    "elapsed_time = time.time() - start_time\n",
    "print(f\"Elapsed time to compute the importances: {elapsed_time:.3f} seconds\")\n",
    "\n",
    "forest_importances = pd.Series(result.importances_mean, index=x_train.columns)\n",
    "\n",
    "# Sort the feature importances\n",
    "forest_importances_sorted = forest_importances.sort_values(ascending=False)\n",
    "\n",
    "# Select the top n important features\n",
    "n_top_features = 15\n",
    "top_features = forest_importances_sorted.head(n_top_features)\n",
    "\n",
    "# Print the top features\n",
    "print(\"Top\", n_top_features, \"features: \")\n",
    "print(top_features)\n",
    "\n",
    "print(top_features.index.to_list)\n",
    "\n",
    "fig, ax = plt.subplots()\n",
    "forest_importances.plot.bar(yerr=result.importances_std, ax=ax)\n",
    "ax.set_title(\"Feature importances using permutation on full model\")\n",
    "ax.set_ylabel(\"Mean accuracy decrease\")\n",
    "fig.tight_layout()\n",
    "plt.show()"
   ],
   "metadata": {
    "collapsed": false
   },
   "id": "9177b6acf27d97a1"
  },
  {
   "cell_type": "markdown",
   "source": [
    "## Using Recursive Feature Elimination method"
   ],
   "metadata": {
    "collapsed": false
   },
   "id": "1d8d580eae7f9fdd"
  },
  {
   "cell_type": "code",
   "execution_count": 99,
   "outputs": [
    {
     "name": "stdout",
     "output_type": "stream",
     "text": [
      "Selected features using RFE:\n",
      "Index(['logged_in', 'count', 'same_srv_rate', 'diff_srv_rate',\n",
      "       'dst_host_count', 'dst_host_srv_count', 'dst_host_same_srv_rate',\n",
      "       'dst_host_diff_srv_rate', 'dst_host_same_src_port_rate',\n",
      "       'dst_host_srv_diff_host_rate', 'dst_host_srv_serror_rate',\n",
      "       'dst_host_rerror_rate'],\n",
      "      dtype='object')\n"
     ]
    }
   ],
   "source": [
    "from sklearn.ensemble import RandomForestClassifier\n",
    "from sklearn.feature_selection import RFE\n",
    "\n",
    "forest = RandomForestClassifier()\n",
    "forest.fit(x_train, y_train)\n",
    "\n",
    "# Perform Recursive Feature Elimination (RFE)\n",
    "n_selected_features = 12\n",
    "selector_rfe = RFE(estimator=forest, n_features_to_select=n_selected_features, step=1)\n",
    "selector_rfe.fit(x_train, y_train)\n",
    "\n",
    "# Get selected features\n",
    "selected_features_rfe = x_train.columns[selector_rfe.support_]\n",
    "\n",
    "# Print selected features\n",
    "print(\"Selected features using RFE:\")\n",
    "print(selected_features_rfe)"
   ],
   "metadata": {
    "collapsed": false,
    "ExecuteTime": {
     "end_time": "2024-02-27T13:25:00.045528400Z",
     "start_time": "2024-02-27T13:22:17.033831700Z"
    }
   },
   "id": "e471c850245358e4"
  },
  {
   "cell_type": "code",
   "execution_count": 100,
   "outputs": [],
   "source": [
    "# LAYER 2 ONLY!\n",
    "\n",
    "# dataframes specifically for layer 2\n",
    "df_train = copy.deepcopy(df_train_original)\n",
    "df_val = copy.deepcopy(df_val_original)\n",
    "df_test = copy.deepcopy(df_test_original)"
   ],
   "metadata": {
    "collapsed": false,
    "ExecuteTime": {
     "end_time": "2024-02-27T13:25:00.063151400Z",
     "start_time": "2024-02-27T13:25:00.046567800Z"
    }
   },
   "id": "efa69ce044ea1534"
  },
  {
   "cell_type": "code",
   "execution_count": 101,
   "outputs": [],
   "source": [
    "# set the target variables accordingly\n",
    "y_train = np.array([1 if x in (u2r_attacks+r2l_attacks) else 0 for x in df_train['label']])\n",
    "y_val = np.array([1 if x in (u2r_attacks+r2l_attacks) else 0 for x in df_val['label']])\n",
    "y_test = np.array([1 if x in (u2r_attacks+r2l_attacks) else 0 for x in df_test['label']])"
   ],
   "metadata": {
    "collapsed": false,
    "ExecuteTime": {
     "end_time": "2024-02-27T13:25:00.116401500Z",
     "start_time": "2024-02-27T13:25:00.064359700Z"
    }
   },
   "id": "4dac9957269f07c4"
  },
  {
   "cell_type": "code",
   "execution_count": 102,
   "outputs": [],
   "source": [
    "# this dataframe contains the whole train set \n",
    "df_train = df_train.drop(['label'], axis=1)\n",
    "df_train = df_train.reset_index().drop(['index'], axis=1)"
   ],
   "metadata": {
    "collapsed": false,
    "ExecuteTime": {
     "end_time": "2024-02-27T13:25:00.158932300Z",
     "start_time": "2024-02-27T13:25:00.118508400Z"
    }
   },
   "id": "3c340fbaa5221d25"
  },
  {
   "cell_type": "code",
   "execution_count": 103,
   "outputs": [],
   "source": [
    "# this dataframe contains the whole validation set\n",
    "df_val = df_val.drop(['label'], axis=1)\n",
    "df_val = df_val.reset_index().drop(['index'], axis=1)"
   ],
   "metadata": {
    "collapsed": false,
    "ExecuteTime": {
     "end_time": "2024-02-27T13:25:00.170767700Z",
     "start_time": "2024-02-27T13:25:00.156637600Z"
    }
   },
   "id": "32fa03843d4f1abb"
  },
  {
   "cell_type": "code",
   "execution_count": 104,
   "outputs": [],
   "source": [
    "# this dataframe contains the whole validation set\n",
    "df_test = df_test.drop(['label'], axis=1)\n",
    "df_test = df_test.reset_index().drop(['index'], axis=1)"
   ],
   "metadata": {
    "collapsed": false,
    "ExecuteTime": {
     "end_time": "2024-02-27T13:25:00.182601500Z",
     "start_time": "2024-02-27T13:25:00.171768900Z"
    }
   },
   "id": "3b46a4e2788b65a8"
  },
  {
   "cell_type": "code",
   "execution_count": 105,
   "outputs": [],
   "source": [
    "# one-hot encoder for the features of layer2\n",
    "ohe = OneHotEncoder(handle_unknown='ignore')"
   ],
   "metadata": {
    "collapsed": false,
    "ExecuteTime": {
     "end_time": "2024-02-27T13:25:00.185871900Z",
     "start_time": "2024-02-27T13:25:00.182601500Z"
    }
   },
   "id": "2691bc4b68bc6988"
  },
  {
   "cell_type": "code",
   "execution_count": 106,
   "outputs": [],
   "source": [
    "# perform One-hot encoding for the train set\n",
    "label_enc = ohe.fit_transform(df_train[categorical_features])\n",
    "label_enc.toarray()\n",
    "new_labels = ohe.get_feature_names_out(categorical_features)\n",
    "df_enc_train = pd.DataFrame(data=label_enc.toarray(), columns=new_labels)"
   ],
   "metadata": {
    "collapsed": false,
    "ExecuteTime": {
     "end_time": "2024-02-27T13:25:00.257487400Z",
     "start_time": "2024-02-27T13:25:00.197950900Z"
    }
   },
   "id": "eb9f31682fbf00a4"
  },
  {
   "cell_type": "code",
   "execution_count": 107,
   "outputs": [],
   "source": [
    "# perform One-hot encoding for the validation set\n",
    "label_enc = ohe.transform(df_val[categorical_features])\n",
    "label_enc.toarray()\n",
    "new_labels = ohe.get_feature_names_out(categorical_features)\n",
    "df_enc_val = pd.DataFrame(data=label_enc.toarray(), columns=new_labels)\n",
    "# perform One-hot encoding for the test set"
   ],
   "metadata": {
    "collapsed": false,
    "ExecuteTime": {
     "end_time": "2024-02-27T13:25:00.277376200Z",
     "start_time": "2024-02-27T13:25:00.256448700Z"
    }
   },
   "id": "d99c1062a9b2f539"
  },
  {
   "cell_type": "code",
   "execution_count": 108,
   "outputs": [],
   "source": [
    "label_enc = ohe.transform(df_test.iloc[:, 1:4])\n",
    "label_enc.toarray()\n",
    "new_labels = ohe.get_feature_names_out(categorical_features)\n",
    "df_enc_test = pd.DataFrame(data=label_enc.toarray(), columns=new_labels)\n",
    "# remove categorical features from the datasets"
   ],
   "metadata": {
    "collapsed": false,
    "ExecuteTime": {
     "end_time": "2024-02-27T13:25:00.295116500Z",
     "start_time": "2024-02-27T13:25:00.277376200Z"
    }
   },
   "id": "49de1b46f8b51ed6"
  },
  {
   "cell_type": "code",
   "execution_count": 109,
   "outputs": [],
   "source": [
    "df_train.drop(columns=categorical_features, inplace=True)\n",
    "df_val.drop(columns=categorical_features, inplace=True)\n",
    "df_test.drop(columns=categorical_features, inplace=True)"
   ],
   "metadata": {
    "collapsed": false,
    "ExecuteTime": {
     "end_time": "2024-02-27T13:25:00.313901700Z",
     "start_time": "2024-02-27T13:25:00.294002200Z"
    }
   },
   "id": "f6e77dee434222e5"
  },
  {
   "cell_type": "code",
   "execution_count": 110,
   "outputs": [],
   "source": [
    "scaler1 = MinMaxScaler()"
   ],
   "metadata": {
    "collapsed": false,
    "ExecuteTime": {
     "end_time": "2024-02-27T13:25:00.316923700Z",
     "start_time": "2024-02-27T13:25:00.313901700Z"
    }
   },
   "id": "d6127ee764ac74aa"
  },
  {
   "cell_type": "code",
   "execution_count": 111,
   "outputs": [],
   "source": [
    "# scaling the train set for layer1\n",
    "df_minmax_train = scaler1.fit_transform(df_train)\n",
    "x_train = pd.DataFrame(df_minmax_train, columns=df_train.columns)"
   ],
   "metadata": {
    "collapsed": false,
    "ExecuteTime": {
     "end_time": "2024-02-27T13:25:00.365657300Z",
     "start_time": "2024-02-27T13:25:00.316923700Z"
    }
   },
   "id": "360820c0831feb3a"
  },
  {
   "cell_type": "code",
   "execution_count": 112,
   "outputs": [],
   "source": [
    "# scaling the validation set for layer1\n",
    "df_minmax_val = scaler1.transform(df_val)\n",
    "x_val = pd.DataFrame(df_minmax_val, columns=df_val.columns)"
   ],
   "metadata": {
    "collapsed": false,
    "ExecuteTime": {
     "end_time": "2024-02-27T13:25:00.374588500Z",
     "start_time": "2024-02-27T13:25:00.365657300Z"
    }
   },
   "id": "3017757f5ae2f142"
  },
  {
   "cell_type": "code",
   "execution_count": 113,
   "outputs": [],
   "source": [
    "# scaling the test set for layer1\n",
    "df_minmax_test = scaler1.transform(df_test)\n",
    "x_test = pd.DataFrame(df_minmax_test, columns=df_test.columns)\n",
    "# Check if there are any NaN values in the entire DataFrame"
   ],
   "metadata": {
    "collapsed": false,
    "ExecuteTime": {
     "end_time": "2024-02-27T13:25:00.385379700Z",
     "start_time": "2024-02-27T13:25:00.375619800Z"
    }
   },
   "id": "32c8b8661f639dfb"
  },
  {
   "cell_type": "code",
   "execution_count": 114,
   "outputs": [
    {
     "name": "stdout",
     "output_type": "stream",
     "text": [
      "DataFrame does not have NaN values\n"
     ]
    }
   ],
   "source": [
    "if x_test.isna().any().any():\n",
    "    print(\"DataFrame has NaN values\")\n",
    "else:\n",
    "    print(\"DataFrame does not have NaN values\")"
   ],
   "metadata": {
    "collapsed": false,
    "ExecuteTime": {
     "end_time": "2024-02-27T13:25:00.391872500Z",
     "start_time": "2024-02-27T13:25:00.386499500Z"
    }
   },
   "id": "b49165ebd4422f7c"
  },
  {
   "cell_type": "markdown",
   "source": [
    "x_train = pd.concat([x_train, df_enc_train], axis=1)\n",
    "x_val = pd.concat([x_val, df_enc_val], axis=1)\n",
    "x_test = pd.concat([x_test, df_enc_test], axis=1)"
   ],
   "metadata": {
    "collapsed": false
   },
   "id": "e18936090640feda"
  },
  {
   "cell_type": "code",
   "execution_count": 115,
   "outputs": [
    {
     "ename": "NameError",
     "evalue": "name 'time' is not defined",
     "output_type": "error",
     "traceback": [
      "\u001B[1;31m---------------------------------------------------------------------------\u001B[0m",
      "\u001B[1;31mNameError\u001B[0m                                 Traceback (most recent call last)",
      "Cell \u001B[1;32mIn[115], line 6\u001B[0m\n\u001B[0;32m      3\u001B[0m forest \u001B[38;5;241m=\u001B[39m RandomForestClassifier()\n\u001B[0;32m      4\u001B[0m forest\u001B[38;5;241m.\u001B[39mfit(x_train, y_train)\n\u001B[1;32m----> 6\u001B[0m start_time \u001B[38;5;241m=\u001B[39m \u001B[43mtime\u001B[49m\u001B[38;5;241m.\u001B[39mtime()\n\u001B[0;32m      7\u001B[0m result \u001B[38;5;241m=\u001B[39m permutation_importance(\n\u001B[0;32m      8\u001B[0m     forest, x_test, y_test, n_repeats\u001B[38;5;241m=\u001B[39m\u001B[38;5;241m100\u001B[39m, random_state\u001B[38;5;241m=\u001B[39m\u001B[38;5;241m42\u001B[39m, n_jobs\u001B[38;5;241m=\u001B[39m\u001B[38;5;241m-\u001B[39m\u001B[38;5;241m1\u001B[39m\n\u001B[0;32m      9\u001B[0m )\n\u001B[0;32m     10\u001B[0m elapsed_time \u001B[38;5;241m=\u001B[39m time\u001B[38;5;241m.\u001B[39mtime() \u001B[38;5;241m-\u001B[39m start_time\n",
      "\u001B[1;31mNameError\u001B[0m: name 'time' is not defined"
     ]
    }
   ],
   "source": [
    "# Feature importances with Random Forest\n",
    "\n",
    "forest = RandomForestClassifier()\n",
    "forest.fit(x_train, y_train)\n",
    "\n",
    "start_time = time.time()\n",
    "result = permutation_importance(\n",
    "    forest, x_test, y_test, n_repeats=100, random_state=42, n_jobs=-1\n",
    ")\n",
    "elapsed_time = time.time() - start_time\n",
    "print(f\"Elapsed time to compute the importances: {elapsed_time:.3f} seconds\")\n",
    "\n",
    "forest_importances = pd.Series(result.importances_mean, index=x_train.columns)\n",
    "\n",
    "# Sort the feature importances\n",
    "forest_importances_sorted = forest_importances.sort_values(ascending=False)\n",
    "\n",
    "# Select the top n important features\n",
    "n_top_features = 11\n",
    "top_features = forest_importances_sorted.head(n_top_features)\n",
    "\n",
    "# Print the top features\n",
    "print(\"Top\", n_top_features, \"features: \")\n",
    "print(top_features)\n",
    "\n",
    "print(top_features.index.to_list)\n",
    "\n",
    "fig, ax = plt.subplots()\n",
    "forest_importances.plot.bar(yerr=result.importances_std, ax=ax)\n",
    "ax.set_title(\"Feature importances using permutation on full model\")\n",
    "ax.set_ylabel(\"Mean accuracy decrease\")\n",
    "fig.tight_layout()\n",
    "plt.show()"
   ],
   "metadata": {
    "collapsed": false,
    "ExecuteTime": {
     "end_time": "2024-02-27T13:25:05.618657600Z",
     "start_time": "2024-02-27T13:25:00.392907800Z"
    }
   },
   "id": "3c70d7658539e8f4"
  }
 ],
 "metadata": {
  "kernelspec": {
   "display_name": "Python 3",
   "language": "python",
   "name": "python3"
  },
  "language_info": {
   "codemirror_mode": {
    "name": "ipython",
    "version": 2
   },
   "file_extension": ".py",
   "mimetype": "text/x-python",
   "name": "python",
   "nbconvert_exporter": "python",
   "pygments_lexer": "ipython2",
   "version": "2.7.6"
  }
 },
 "nbformat": 4,
 "nbformat_minor": 5
}
