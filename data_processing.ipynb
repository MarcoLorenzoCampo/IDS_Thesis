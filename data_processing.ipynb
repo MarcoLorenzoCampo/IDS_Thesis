{
 "cells": [
  {
   "cell_type": "code",
   "execution_count": 968,
   "id": "initial_id",
   "metadata": {
    "collapsed": true,
    "ExecuteTime": {
     "end_time": "2024-02-27T15:55:38.616077100Z",
     "start_time": "2024-02-27T15:55:38.610822300Z"
    }
   },
   "outputs": [],
   "source": [
    "import numpy as np \n",
    "import pandas as pd\n",
    "import copy\n",
    "import pickle\n",
    "import joblib\n",
    "\n",
    "from sklearn.preprocessing import OneHotEncoder\n",
    "from sklearn.preprocessing import MinMaxScaler\n",
    "from sklearn.model_selection import train_test_split\n",
    "\n",
    "from sklearn.decomposition import PCA\n",
    "from imblearn.under_sampling import RandomUnderSampler as under_sam\n",
    "\n",
    "from sklearn.naive_bayes import GaussianNB\n",
    "from sklearn.svm import SVC\n",
    "from sklearn.metrics import confusion_matrix, accuracy_score, f1_score\n",
    "from sklearn.metrics import matthews_corrcoef, precision_score, recall_score\n",
    "from sklearn.ensemble import RandomForestClassifier"
   ]
  },
  {
   "cell_type": "code",
   "execution_count": 969,
   "outputs": [],
   "source": [
    "# loading the train set\n",
    "df_train = pd.read_csv('EvalResources/KDDTrain+.txt', sep=\",\", header=None, skipinitialspace = True)\n",
    "df_train = df_train[df_train.columns[:-1]]  # tags column\n",
    "titles = pd.read_csv('EvalResources/Field Names.csv', header=None, skipinitialspace = True)\n",
    "label = pd.Series(['label'], index=[41])\n",
    "titles = pd.concat([titles[0], label])\n",
    "df_train.columns = titles.to_list()\n",
    "df_train = df_train.drop(['num_outbound_cmds'],axis=1)\n",
    "df_train_original = df_train"
   ],
   "metadata": {
    "collapsed": false,
    "ExecuteTime": {
     "end_time": "2024-02-27T15:55:38.918441400Z",
     "start_time": "2024-02-27T15:55:38.619075500Z"
    }
   },
   "id": "2b259ca6eb2046b1"
  },
  {
   "cell_type": "code",
   "execution_count": 970,
   "outputs": [],
   "source": [
    "# load test set\n",
    "df_test = pd.read_csv('EvalResources/KDDTest+.txt', sep=\",\", header=None, skipinitialspace = True)\n",
    "df_test_ = df_test.sort_index(axis=1)\n",
    "df_test = df_test[df_test.columns[:-1]]\n",
    "df_test.columns = titles.to_list()\n",
    "df_test = df_test.drop(['num_outbound_cmds'],axis=1)\n",
    "df_test_original = df_test"
   ],
   "metadata": {
    "collapsed": false,
    "ExecuteTime": {
     "end_time": "2024-02-27T15:55:38.992206700Z",
     "start_time": "2024-02-27T15:55:38.918441400Z"
    }
   },
   "id": "4b6d46baed18e201"
  },
  {
   "cell_type": "code",
   "execution_count": 971,
   "outputs": [],
   "source": [
    "# list of single attacks \n",
    "dos_attacks = ['back', 'land', 'neptune', 'pod', 'smurf', 'teardrop', 'worm', 'apache2', 'mailbomb', 'processtable', 'udpstorm']\n",
    "probe_attacks = ['ipsweep', 'mscan', 'nmap', 'portsweep', 'saint', 'satan']\n",
    "r2l_attacks = ['guess_passwd', 'ftp_write', 'imap', 'phf', 'multihop', 'warezmaster',\n",
    "                'snmpguess', 'spy', 'warezclient', 'httptunnel', 'named', 'sendmail', 'snmpgetattack', 'xlock', 'xsnoop']\n",
    "u2r_attacks = ['buffer_overflow', 'loadmodule', 'perl', 'ps', 'rootkit', 'sqlattack', 'xterm'] \n",
    "\n",
    "# list of attack classes split according to detection layer\n",
    "dos_probe_list = ['back', 'land', 'neptune', 'pod', 'smurf', 'teardrop', 'ipsweep', 'nmap', 'portsweep', 'satan']\n",
    "dos_probe_test = ['apache2', 'mailbomb', 'processtable', 'udpstorm', 'mscan', 'saint']\n",
    "u2r_r2l_list = ['guess_passwd', 'ftp_write', 'imap', 'phf', 'multihop', 'warezmaster',\n",
    "                'snmpguess', 'spy', 'warezclient', 'buffer_overflow', 'loadmodule', 'rootkit', 'perl']\n",
    "u2r_r2l_test = ['httptunnel', 'named', 'sendmail', 'snmpgetattack', 'xlock', 'xsnoop', 'ps', 'xterm', 'sqlattack']\n",
    "normal_list = ['normal']\n",
    "categorical_features = ['protocol_type', 'service', 'flag']"
   ],
   "metadata": {
    "collapsed": false,
    "ExecuteTime": {
     "end_time": "2024-02-27T15:55:38.999517300Z",
     "start_time": "2024-02-27T15:55:38.995394600Z"
    }
   },
   "id": "71c20cc4d74ca1fa"
  },
  {
   "cell_type": "code",
   "execution_count": 972,
   "outputs": [],
   "source": [
    "from sklearn.preprocessing import LabelEncoder\n",
    "\n",
    "le = LabelEncoder()\n",
    "\n",
    "df_train['protocol_type'] = le.fit_transform(df_train['protocol_type'])\n",
    "df_test['protocol_type'] = le.transform(df_test['protocol_type'])\n",
    "df_train['service'] = le.fit_transform(df_train['service'])\n",
    "df_test['service'] =le.transform(df_test['service'])\n",
    "df_train['flag'] = le.fit_transform(df_train['flag'])\n",
    "df_test['flag'] = le.transform(df_test['flag'])"
   ],
   "metadata": {
    "collapsed": false,
    "ExecuteTime": {
     "end_time": "2024-02-27T15:55:39.057970700Z",
     "start_time": "2024-02-27T15:55:39.001528Z"
    }
   },
   "id": "9eb29773fecb76ce"
  },
  {
   "cell_type": "code",
   "execution_count": 973,
   "outputs": [],
   "source": [
    "label = []\n",
    "for i in range(df_train.shape[0]):\n",
    "    if df_train.loc[i, 'label'] == 'normal':\n",
    "        label.append(0)\n",
    "    else:\n",
    "        label.append(1)\n",
    "\n",
    "df_train['target'] = label"
   ],
   "metadata": {
    "collapsed": false,
    "ExecuteTime": {
     "end_time": "2024-02-27T15:55:39.743618900Z",
     "start_time": "2024-02-27T15:55:39.058979300Z"
    }
   },
   "id": "547d64a96e357937"
  },
  {
   "cell_type": "code",
   "execution_count": 974,
   "outputs": [],
   "source": [
    "label = []\n",
    "for i in range(df_test.shape[0]):\n",
    "    if df_test.loc[i, 'label'] == 'normal':\n",
    "        label.append(0)\n",
    "    else:\n",
    "        label.append(1)\n",
    "\n",
    "df_test['target'] = label"
   ],
   "metadata": {
    "collapsed": false,
    "ExecuteTime": {
     "end_time": "2024-02-27T15:55:39.854278500Z",
     "start_time": "2024-02-27T15:55:39.742597900Z"
    }
   },
   "id": "1f2b311306e17982"
  },
  {
   "cell_type": "code",
   "execution_count": 975,
   "outputs": [],
   "source": [
    "df_train.drop('label',axis = 1,inplace = True)\n",
    "df_test.drop('label',axis = 1,inplace = True)"
   ],
   "metadata": {
    "collapsed": false,
    "ExecuteTime": {
     "end_time": "2024-02-27T15:55:39.877139600Z",
     "start_time": "2024-02-27T15:55:39.855570300Z"
    }
   },
   "id": "78dfcb7e518b54cc"
  },
  {
   "cell_type": "code",
   "execution_count": 976,
   "outputs": [],
   "source": [
    "from sklearn import model_selection\n",
    "\n",
    "df_test[\"kfold\"] = -1\n",
    "kf = model_selection.KFold(n_splits=5, shuffle=True, random_state=666)\n",
    "for fold, (train_indicies, valid_indicies) in enumerate(kf.split(X=df_test)):\n",
    "    df_test.loc[valid_indicies, \"kfold\"] = fold\n",
    "features = [x for x in df_test.columns.values if x[0]==\"f\"]"
   ],
   "metadata": {
    "collapsed": false,
    "ExecuteTime": {
     "end_time": "2024-02-27T15:55:39.887054900Z",
     "start_time": "2024-02-27T15:55:39.877139600Z"
    }
   },
   "id": "c6289a33323eaa69"
  },
  {
   "cell_type": "code",
   "execution_count": 977,
   "outputs": [
    {
     "data": {
      "text/plain": "['duration',\n 'protocol_type',\n 'service',\n 'flag',\n 'src_bytes',\n 'dst_bytes',\n 'land',\n 'wrong_fragment',\n 'urgent',\n 'hot',\n 'num_failed_logins',\n 'logged_in',\n 'num_compromised',\n 'root_shell',\n 'su_attempted',\n 'num_root',\n 'num_file_creations',\n 'num_shells',\n 'num_access_files',\n 'is_host_login',\n 'is_guest_login',\n 'count',\n 'srv_count',\n 'serror_rate',\n 'srv_serror_rate',\n 'rerror_rate',\n 'srv_rerror_rate',\n 'same_srv_rate',\n 'diff_srv_rate',\n 'srv_diff_host_rate',\n 'dst_host_count',\n 'dst_host_srv_count',\n 'dst_host_same_srv_rate',\n 'dst_host_diff_srv_rate',\n 'dst_host_same_src_port_rate',\n 'dst_host_srv_diff_host_rate',\n 'dst_host_serror_rate',\n 'dst_host_srv_serror_rate',\n 'dst_host_rerror_rate',\n 'dst_host_srv_rerror_rate',\n 'target']"
     },
     "execution_count": 977,
     "metadata": {},
     "output_type": "execute_result"
    }
   ],
   "source": [
    "useful_features = [c for c in df_test.columns if c not in (\"label\", \"kfold\")]\n",
    "\n",
    "useful_features"
   ],
   "metadata": {
    "collapsed": false,
    "ExecuteTime": {
     "end_time": "2024-02-27T15:55:39.894331600Z",
     "start_time": "2024-02-27T15:55:39.888248400Z"
    }
   },
   "id": "5c043962e24117ea"
  },
  {
   "cell_type": "code",
   "execution_count": 978,
   "outputs": [
    {
     "name": "stdout",
     "output_type": "stream",
     "text": [
      "Confusion matrix: [TP FN / FP TN]\n",
      " [[9446  265]\n",
      " [5010 7823]]\n",
      "Accuracy =  0.7660131298793471\n",
      "F1 Score =  0.7478610009081783\n",
      "Precision =  0.9672354104846687\n",
      "Recall =  0.6096002493571262\n",
      "Matthew corr =  0.6011832617859584\n"
     ]
    }
   ],
   "source": [
    "clf = RandomForestClassifier(n_estimators=233, max_depth=4)\n",
    "\n",
    "clf.fit(df_train.drop(['target'], axis=1), df_train['target'])\n",
    "\n",
    "predicted = clf.predict(df_test.drop(['target', 'kfold'], axis=1))\n",
    "\n",
    "y_test = df_test['target']\n",
    "\n",
    "print('Confusion matrix: [TP FN / FP TN]\\n', confusion_matrix(y_test,predicted))\n",
    "print('Accuracy = ', accuracy_score(y_test,predicted))\n",
    "print('F1 Score = ', f1_score(y_test,predicted))\n",
    "print('Precision = ', precision_score(y_test,predicted))\n",
    "print('Recall = ', recall_score(y_test,predicted))\n",
    "print('Matthew corr = ', matthews_corrcoef(y_test,predicted))"
   ],
   "metadata": {
    "collapsed": false,
    "ExecuteTime": {
     "end_time": "2024-02-27T15:55:48.750644Z",
     "start_time": "2024-02-27T15:55:39.893321700Z"
    }
   },
   "id": "3d4c644277378251"
  }
 ],
 "metadata": {
  "kernelspec": {
   "display_name": "Python 3",
   "language": "python",
   "name": "python3"
  },
  "language_info": {
   "codemirror_mode": {
    "name": "ipython",
    "version": 2
   },
   "file_extension": ".py",
   "mimetype": "text/x-python",
   "name": "python",
   "nbconvert_exporter": "python",
   "pygments_lexer": "ipython2",
   "version": "2.7.6"
  }
 },
 "nbformat": 4,
 "nbformat_minor": 5
}
