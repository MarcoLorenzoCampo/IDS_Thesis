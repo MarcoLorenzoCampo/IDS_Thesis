{
 "cells": [
  {
   "cell_type": "code",
   "execution_count": 804,
   "metadata": {
    "collapsed": true,
    "jupyter": {
     "outputs_hidden": true,
     "source_hidden": true
    },
    "ExecuteTime": {
     "end_time": "2024-03-09T10:27:19.220068300Z",
     "start_time": "2024-03-09T10:27:18.617951600Z"
    }
   },
   "outputs": [],
   "source": [
    "import numpy as np \n",
    "import pandas as pd\n",
    "import copy\n",
    "\n",
    "from sklearn.preprocessing import OneHotEncoder\n",
    "from sklearn.preprocessing import MinMaxScaler\n",
    "from sklearn.model_selection import train_test_split\n",
    "\n",
    "from sklearn.decomposition import PCA\n",
    "from imblearn.under_sampling import RandomUnderSampler as under_sam\n",
    "\n",
    "from sklearn.naive_bayes import GaussianNB\n",
    "from sklearn.svm import SVC\n",
    "from sklearn.metrics import confusion_matrix, accuracy_score, f1_score\n",
    "from sklearn.metrics import matthews_corrcoef, precision_score, recall_score\n",
    "from sklearn.ensemble import RandomForestClassifier"
   ]
  },
  {
   "cell_type": "markdown",
   "metadata": {
    "collapsed": false
   },
   "source": [
    "# Main implementation"
   ]
  },
  {
   "cell_type": "code",
   "execution_count": 805,
   "metadata": {
    "collapsed": true,
    "jupyter": {
     "outputs_hidden": true,
     "source_hidden": true
    },
    "ExecuteTime": {
     "end_time": "2024-03-09T10:27:19.758829Z",
     "start_time": "2024-03-09T10:27:19.203916Z"
    }
   },
   "outputs": [],
   "source": [
    "# loading the train set\n",
    "df_train = pd.read_csv('EvalResources/KDDTrain+.txt', sep=\",\", header=None, skipinitialspace = True)\n",
    "df_train = df_train[df_train.columns[:-1]]  # tags column\n",
    "titles = pd.read_csv('EvalResources/Field Names.csv', header=None, skipinitialspace = True)\n",
    "label = pd.Series(['label'], index=[41])\n",
    "titles = pd.concat([titles[0], label])\n",
    "df_train.columns = titles.to_list()\n",
    "df_train = df_train.drop(['num_outbound_cmds'],axis=1)\n",
    "df_train_original = df_train\n",
    "\n",
    "# df_train_original.to_csv('KB Process/NSL-KDD Original Datasets/KDDTrain+_with_labels.txt', index=False)\n",
    "\n",
    "#df_train_original"
   ]
  },
  {
   "cell_type": "code",
   "execution_count": 806,
   "metadata": {
    "collapsed": true,
    "jupyter": {
     "outputs_hidden": true,
     "source_hidden": true
    },
    "ExecuteTime": {
     "end_time": "2024-03-09T10:27:19.848933Z",
     "start_time": "2024-03-09T10:27:19.716138700Z"
    }
   },
   "outputs": [],
   "source": [
    "# load test set\n",
    "df_test = pd.read_csv('EvalResources/KDDTest+.txt', sep=\",\", header=None, skipinitialspace = True)\n",
    "df_test_ = df_test.sort_index(axis=1)\n",
    "df_test = df_test[df_test.columns[:-1]]\n",
    "df_test.columns = titles.to_list()\n",
    "df_test = df_test.drop(['num_outbound_cmds'],axis=1)\n",
    "df_test_original = df_test\n",
    "\n",
    "# df_test_original.to_csv('KB Process/NSL-KDD Original Datasets/KDDTest+.txt', index=False)\n",
    "\n",
    "#df_test_original"
   ]
  },
  {
   "cell_type": "markdown",
   "metadata": {
    "collapsed": false
   },
   "source": [
    "### Execution Parameters"
   ]
  },
  {
   "cell_type": "code",
   "execution_count": 807,
   "metadata": {
    "collapsed": true,
    "jupyter": {
     "outputs_hidden": true,
     "source_hidden": true
    },
    "ExecuteTime": {
     "end_time": "2024-03-09T10:27:19.853377200Z",
     "start_time": "2024-03-09T10:27:19.797948400Z"
    }
   },
   "outputs": [],
   "source": [
    "EXPORT_MODELS = 0\n",
    "EXPORT_DATASETS = 0\n",
    "EXPORT_PCA = 0\n",
    "EXPORT_ENCODERS = 0\n",
    "\n",
    "pd.options.display.max_columns = None"
   ]
  },
  {
   "cell_type": "code",
   "execution_count": 808,
   "metadata": {
    "collapsed": true,
    "jupyter": {
     "outputs_hidden": true,
     "source_hidden": true
    },
    "ExecuteTime": {
     "end_time": "2024-03-09T10:27:19.856383200Z",
     "start_time": "2024-03-09T10:27:19.807993600Z"
    }
   },
   "outputs": [],
   "source": [
    "# list of single attacks \n",
    "dos_attacks = ['back', 'land', 'neptune', 'pod', 'smurf', 'teardrop', 'worm', 'apache2', 'mailbomb', 'processtable', 'udpstorm']\n",
    "probe_attacks = ['ipsweep', 'mscan', 'nmap', 'portsweep', 'saint', 'satan']\n",
    "r2l_attacks = ['guess_passwd', 'ftp_write', 'imap', 'phf', 'multihop', 'warezmaster',\n",
    "                'snmpguess', 'spy', 'warezclient', 'httptunnel', 'named', 'sendmail', 'snmpgetattack', 'xlock', 'xsnoop']\n",
    "u2r_attacks = ['buffer_overflow', 'loadmodule', 'perl', 'ps', 'rootkit', 'sqlattack', 'xterm'] \n",
    "\n",
    "# list of attack classes split according to detection layer\n",
    "dos_probe_list = ['back', 'land', 'neptune', 'pod', 'smurf', 'teardrop', 'ipsweep', 'nmap', 'portsweep', 'satan']\n",
    "dos_probe_test = ['apache2', 'mailbomb', 'processtable', 'udpstorm', 'mscan', 'saint']\n",
    "u2r_r2l_list = ['guess_passwd', 'ftp_write', 'imap', 'phf', 'multihop', 'warezmaster',\n",
    "                'snmpguess', 'spy', 'warezclient', 'buffer_overflow', 'loadmodule', 'rootkit', 'perl']\n",
    "u2r_r2l_test = ['httptunnel', 'named', 'sendmail', 'snmpgetattack', 'xlock', 'xsnoop', 'ps', 'xterm', 'sqlattack']\n",
    "normal_list = ['normal']\n",
    "categorical_features = ['protocol_type', 'service', 'flag']"
   ]
  },
  {
   "cell_type": "code",
   "execution_count": 809,
   "metadata": {
    "collapsed": true,
    "jupyter": {
     "outputs_hidden": true,
     "source_hidden": true
    },
    "ExecuteTime": {
     "end_time": "2024-03-09T10:27:19.866892600Z",
     "start_time": "2024-03-09T10:27:19.811508100Z"
    }
   },
   "outputs": [],
   "source": [
    "# load the features obtained with ICFS for both layer 1 and layer 2\n",
    "with open('KBProcess/AWS Downloads/MinimalFeatures/NSL_features_l1.txt', 'r') as f:\n",
    "    common_features_l1 = f.read().split(',')\n",
    "\n",
    "with open('KBProcess/AWS Downloads/MinimalFeatures/NSL_features_l2.txt', 'r') as f:\n",
    "    common_features_l2 = f.read().split(',')"
   ]
  },
  {
   "cell_type": "code",
   "execution_count": 810,
   "metadata": {
    "collapsed": true,
    "jupyter": {
     "outputs_hidden": true,
     "source_hidden": true
    },
    "ExecuteTime": {
     "end_time": "2024-03-09T10:27:19.947259300Z",
     "start_time": "2024-03-09T10:27:19.816498800Z"
    }
   },
   "outputs": [],
   "source": [
    "df_train_and_validate = copy.deepcopy(df_train_original)\n",
    "df_test = copy.deepcopy(df_test_original)"
   ]
  },
  {
   "cell_type": "code",
   "execution_count": 811,
   "metadata": {
    "collapsed": true,
    "jupyter": {
     "outputs_hidden": true,
     "source_hidden": true
    },
    "ExecuteTime": {
     "end_time": "2024-03-09T10:27:19.975162400Z",
     "start_time": "2024-03-09T10:27:19.852871400Z"
    }
   },
   "outputs": [],
   "source": [
    "# save all the targets for the dataset\n",
    "\n",
    "y_test_l1 = [1 if x in (dos_attacks+probe_attacks) else 0 for x in df_test['label']]\n",
    "y_test_l2 = [1 if x in (u2r_attacks+r2l_attacks) else 0 for x in df_test['label']]\n",
    "\n",
    "if EXPORT_DATASETS:\n",
    "    np.save(\"EvalResources/AdditionalSets/l1_full_test_targets.npy\", y_test_l1)\n",
    "    np.save(\"EvalResources/AdditionalSets/l2_full_test_targets.npy\", y_test_l2)"
   ]
  },
  {
   "cell_type": "code",
   "execution_count": 812,
   "metadata": {
    "collapsed": true,
    "jupyter": {
     "outputs_hidden": true,
     "source_hidden": true
    },
    "ExecuteTime": {
     "end_time": "2024-03-09T10:27:19.999290100Z",
     "start_time": "2024-03-09T10:27:19.886591400Z"
    }
   },
   "outputs": [],
   "source": [
    "# add an additional column to th dataframe to perform splitting\n",
    "\n",
    "attacks = ['dos' if x in dos_attacks else\n",
    "           'probe' if x in probe_attacks else\n",
    "           'u2r' if x in u2r_attacks else\n",
    "           'r2l' if x in r2l_attacks else\n",
    "           'normal' for x in df_train_and_validate['label']]\n",
    "\n",
    "# add the column to the dataframe\n",
    "df_train_and_validate['attacks'] = attacks"
   ]
  },
  {
   "cell_type": "markdown",
   "source": [
    "# F1, we remove all probe attacks"
   ],
   "metadata": {
    "collapsed": false
   }
  },
  {
   "cell_type": "markdown",
   "source": [
    "df_train_and_validate = df_train_and_validate[df_train_and_validate['attacks'] != \"probe\"]"
   ],
   "metadata": {
    "collapsed": false
   }
  },
  {
   "cell_type": "code",
   "execution_count": 813,
   "outputs": [],
   "source": [
    "# F2, we remove all r2l attacks\n",
    "\n",
    "df_train_and_validate = df_train_and_validate[df_train_and_validate['attacks'] != \"r2l\"]\n"
   ],
   "metadata": {
    "collapsed": false,
    "ExecuteTime": {
     "end_time": "2024-03-09T10:27:20.029907800Z",
     "start_time": "2024-03-09T10:27:19.893517900Z"
    }
   }
  },
  {
   "cell_type": "code",
   "execution_count": 814,
   "outputs": [
    {
     "name": "stdout",
     "output_type": "stream",
     "text": [
      "Number of instances:  attacks\n",
      "normal    67343\n",
      "dos       45927\n",
      "probe     11656\n",
      "u2r          52\n",
      "Name: count, dtype: int64\n"
     ]
    },
    {
     "data": {
      "text/plain": "<Figure size 640x480 with 1 Axes>",
      "image/png": "[encoded data removed]"
     },
     "metadata": {},
     "output_type": "display_data"
    }
   ],
   "source": [
    "import matplotlib.pyplot as plt\n",
    "\n",
    "\"\"\"\n",
    "for index, row in df_train_and_validate.iterrows():\n",
    "    if row['attacks'] in [\"u2r\", \"r2l\"]:\n",
    "        df_train_and_validate.at[index, 'attacks'] = 'normal'\n",
    "\"\"\"\n",
    "\n",
    "# Assuming df is your DataFrame and 'column_name' is the specific column you want to plot\n",
    "plt.hist(df_train_and_validate['attacks'], bins=10)  # Adjust the number of bins as needed\n",
    "plt.xlabel('Values')  # Set x-axis label\n",
    "plt.ylabel('Frequency')  # Set y-axis label\n",
    "plt.title('Histogram of Column')  # Set title\n",
    "#plt.savefig(\"x_validate_f1.png\")\n",
    "\n",
    "print(\"Number of instances: \", df_train_and_validate['attacks'].value_counts())\n",
    "\n",
    "plt.show()"
   ],
   "metadata": {
    "collapsed": false,
    "ExecuteTime": {
     "end_time": "2024-03-09T10:27:20.154489200Z",
     "start_time": "2024-03-09T10:27:19.951771400Z"
    }
   }
  },
  {
   "cell_type": "code",
   "execution_count": 815,
   "metadata": {
    "collapsed": true,
    "jupyter": {
     "outputs_hidden": true,
     "source_hidden": true
    },
    "ExecuteTime": {
     "end_time": "2024-03-09T10:27:20.341753900Z",
     "start_time": "2024-03-09T10:27:20.101249900Z"
    }
   },
   "outputs": [],
   "source": [
    "# split in test and validation set for BOTH layers\n",
    "df_train_original, df_val_original = train_test_split(df_train_and_validate, test_size=0.3, stratify=df_train_and_validate['attacks'])"
   ]
  },
  {
   "cell_type": "markdown",
   "source": [
    "# DOS PROBE CLASSIFIER"
   ],
   "metadata": {
    "collapsed": false
   }
  },
  {
   "cell_type": "code",
   "execution_count": 816,
   "metadata": {
    "collapsed": false,
    "ExecuteTime": {
     "end_time": "2024-03-09T10:27:20.344880800Z",
     "start_time": "2024-03-09T10:27:20.239263300Z"
    }
   },
   "outputs": [],
   "source": [
    "# dataframes specifically for layer 1\n",
    "df_train = copy.deepcopy(df_train_original)\n",
    "df_val = copy.deepcopy(df_val_original)\n",
    "df_test = copy.deepcopy(df_test_original)"
   ]
  },
  {
   "cell_type": "code",
   "execution_count": 817,
   "outputs": [],
   "source": [
    "# target variables for all layers\n",
    "y_train_full = np.array([1 if x not in normal_list else 0 for x in df_train['label']])\n",
    "y_test_full = np.array([1 if x not in normal_list else 0 for x in df_test['label']])\n",
    "\n",
    "# set the target variables accordingly\n",
    "y_train_l1 = np.array([1 if x in (dos_attacks+probe_attacks) else 0 for x in df_train['label']])\n",
    "y_validate_l1 = np.array([1 if x in (dos_attacks+probe_attacks) else 0 for x in df_val['label']])\n",
    "y_test = np.array([1 if x in (dos_attacks+probe_attacks) else 0 for x in df_test ['label']])"
   ],
   "metadata": {
    "collapsed": true,
    "jupyter": {
     "outputs_hidden": true,
     "source_hidden": true
    },
    "ExecuteTime": {
     "end_time": "2024-03-09T10:27:20.416092200Z",
     "start_time": "2024-03-09T10:27:20.283322800Z"
    }
   }
  },
  {
   "cell_type": "code",
   "execution_count": 818,
   "metadata": {
    "collapsed": true,
    "jupyter": {
     "outputs_hidden": true,
     "source_hidden": true
    },
    "ExecuteTime": {
     "end_time": "2024-03-09T10:27:20.459559900Z",
     "start_time": "2024-03-09T10:27:20.343267300Z"
    }
   },
   "outputs": [],
   "source": [
    "# this dataframe contains the whole train set \n",
    "df_train = df_train.drop(['label'],axis=1)\n",
    "df_train = df_train.reset_index().drop(['index'], axis=1)\n",
    "#df_train"
   ]
  },
  {
   "cell_type": "code",
   "execution_count": 819,
   "metadata": {
    "collapsed": true,
    "jupyter": {
     "outputs_hidden": true,
     "source_hidden": true
    },
    "ExecuteTime": {
     "end_time": "2024-03-09T10:27:20.522251600Z",
     "start_time": "2024-03-09T10:27:20.440229600Z"
    }
   },
   "outputs": [],
   "source": [
    "# this dataframe contains the whole validation set\n",
    "df_val = df_val.drop(['label'],axis=1)\n",
    "df_val = df_val.reset_index().drop(['index'], axis=1)\n",
    "#df_val"
   ]
  },
  {
   "cell_type": "code",
   "execution_count": 820,
   "metadata": {
    "collapsed": true,
    "jupyter": {
     "outputs_hidden": true,
     "source_hidden": true
    },
    "ExecuteTime": {
     "end_time": "2024-03-09T10:27:20.557483200Z",
     "start_time": "2024-03-09T10:27:20.506916200Z"
    }
   },
   "outputs": [],
   "source": [
    "# this dataframe contains the whole test set\n",
    "df_test = df_test.drop(['label'],axis=1)\n",
    "df_test = df_test.reset_index().drop(['index'], axis=1)\n",
    "#df_test"
   ]
  },
  {
   "cell_type": "code",
   "execution_count": 821,
   "outputs": [
    {
     "name": "stdout",
     "output_type": "stream",
     "text": [
      "Number of instances:  attacks\n",
      "normal    47176\n",
      "dos       32149\n",
      "probe      8159\n",
      "Name: count, dtype: int64\n"
     ]
    },
    {
     "data": {
      "text/plain": "<Figure size 640x480 with 1 Axes>",
      "image/png": "[encoded data removed]"
     },
     "metadata": {},
     "output_type": "display_data"
    }
   ],
   "source": [
    "import matplotlib.pyplot as plt\n",
    "\n",
    "df_train_f1 = copy.deepcopy(df_train_original)\n",
    "\n",
    "for index, row in df_train_f1.iterrows():\n",
    "    if row['attacks'] in [\"u2r\", \"r2l\"]:\n",
    "        df_train_f1.at[index, 'attacks'] = 'normal'\n",
    "\n",
    "# Assuming df is your DataFrame and 'column_name' is the specific column you want to plot\n",
    "plt.hist(df_train_f1['attacks'], bins=10)  # Adjust the number of bins as needed\n",
    "plt.xlabel('Values')  # Set x-axis label\n",
    "plt.ylabel('Frequency')  # Set y-axis label\n",
    "plt.title('Histogram of Column')  # Set title\n",
    "plt.savefig(\"x_validate_f1.png\")\n",
    "\n",
    "print(\"Number of instances: \", df_train_f1['attacks'].value_counts())\n",
    "\n",
    "plt.show()"
   ],
   "metadata": {
    "collapsed": false,
    "ExecuteTime": {
     "end_time": "2024-03-09T10:27:24.311240100Z",
     "start_time": "2024-03-09T10:27:20.561034100Z"
    }
   }
  },
  {
   "cell_type": "code",
   "execution_count": 822,
   "outputs": [
    {
     "name": "stdout",
     "output_type": "stream",
     "text": [
      "Number of instances:  attacks\n",
      "normal    20219\n",
      "dos       13778\n",
      "probe      3497\n",
      "Name: count, dtype: int64\n"
     ]
    },
    {
     "data": {
      "text/plain": "<Figure size 640x480 with 1 Axes>",
      "image/png": "[encoded data removed]"
     },
     "metadata": {},
     "output_type": "display_data"
    }
   ],
   "source": [
    "import matplotlib.pyplot as plt\n",
    "\n",
    "df_val_f1 = copy.deepcopy(df_val_original)\n",
    "\n",
    "for index, row in df_val_f1.iterrows():\n",
    "    if row['attacks'] in [\"u2r\", \"r2l\"]:\n",
    "        df_val_f1.at[index, 'attacks'] = 'normal'\n",
    "\n",
    "plt.hist(df_val_f1['attacks'], bins=10)  # Adjust the number of bins as needed\n",
    "plt.xlabel('Values')  # Set x-axis label\n",
    "plt.ylabel('Frequency')  # Set y-axis label\n",
    "plt.title('Histogram of Column')  # Set title\n",
    "plt.savefig(\"x_validate_f1.png\")\n",
    "\n",
    "print(\"Number of instances: \", df_val_f1['attacks'].value_counts())\n",
    "\n",
    "plt.show()"
   ],
   "metadata": {
    "collapsed": false,
    "ExecuteTime": {
     "end_time": "2024-03-09T10:27:25.746031Z",
     "start_time": "2024-03-09T10:27:24.308095300Z"
    }
   }
  },
  {
   "cell_type": "code",
   "execution_count": 823,
   "metadata": {
    "collapsed": true,
    "jupyter": {
     "outputs_hidden": true,
     "source_hidden": true
    },
    "ExecuteTime": {
     "end_time": "2024-03-09T10:27:25.767789800Z",
     "start_time": "2024-03-09T10:27:25.742421400Z"
    }
   },
   "outputs": [],
   "source": [
    "# Using the features extracted by using the ICFS algorithm\n",
    "X_train = df_train[common_features_l1]\n",
    "X_validate = df_val[common_features_l1]\n",
    "X_test = df_test[common_features_l1]"
   ]
  },
  {
   "cell_type": "markdown",
   "metadata": {
    "collapsed": false
   },
   "source": []
  },
  {
   "cell_type": "code",
   "execution_count": 824,
   "metadata": {
    "collapsed": true,
    "jupyter": {
     "outputs_hidden": true,
     "source_hidden": true
    },
    "ExecuteTime": {
     "end_time": "2024-03-09T10:27:25.792795100Z",
     "start_time": "2024-03-09T10:27:25.754155100Z"
    }
   },
   "outputs": [],
   "source": [
    "# 2 one-hot encoders, one for the features of layer1 and one for the features of layer2\n",
    "ohe = OneHotEncoder(handle_unknown='ignore')\n",
    "ohe2 = OneHotEncoder(handle_unknown='ignore')"
   ]
  },
  {
   "cell_type": "code",
   "execution_count": 825,
   "metadata": {
    "collapsed": true,
    "jupyter": {
     "outputs_hidden": true,
     "source_hidden": true
    },
    "ExecuteTime": {
     "end_time": "2024-03-09T10:27:25.880428700Z",
     "start_time": "2024-03-09T10:27:25.759574500Z"
    }
   },
   "outputs": [],
   "source": [
    "scaler1 = MinMaxScaler()"
   ]
  },
  {
   "cell_type": "code",
   "execution_count": 826,
   "metadata": {
    "collapsed": true,
    "jupyter": {
     "outputs_hidden": true,
     "source_hidden": true
    },
    "ExecuteTime": {
     "end_time": "2024-03-09T10:27:25.909198100Z",
     "start_time": "2024-03-09T10:27:25.766452300Z"
    }
   },
   "outputs": [],
   "source": [
    "scaler2 = MinMaxScaler()"
   ]
  },
  {
   "cell_type": "code",
   "execution_count": 827,
   "metadata": {
    "collapsed": true,
    "jupyter": {
     "outputs_hidden": true,
     "source_hidden": true
    },
    "ExecuteTime": {
     "end_time": "2024-03-09T10:27:25.945821100Z",
     "start_time": "2024-03-09T10:27:25.770805800Z"
    }
   },
   "outputs": [],
   "source": [
    "# scaling the train set for layer1\n",
    "df_minmax = scaler1.fit_transform(X_train)\n",
    "X_train = pd.DataFrame(df_minmax, columns=X_train.columns)\n",
    "\n",
    "#X_train"
   ]
  },
  {
   "cell_type": "code",
   "execution_count": 828,
   "metadata": {
    "collapsed": true,
    "jupyter": {
     "outputs_hidden": true,
     "source_hidden": true
    },
    "ExecuteTime": {
     "end_time": "2024-03-09T10:27:25.946895300Z",
     "start_time": "2024-03-09T10:27:25.800336900Z"
    }
   },
   "outputs": [],
   "source": [
    "# scaling the validation set for layer1\n",
    "df_minmax_val = scaler1.transform(X_validate)\n",
    "X_validate = pd.DataFrame(df_minmax_val, columns=X_validate.columns)\n",
    "\n",
    "#X_validate"
   ]
  },
  {
   "cell_type": "code",
   "execution_count": 829,
   "metadata": {
    "collapsed": true,
    "jupyter": {
     "outputs_hidden": true,
     "source_hidden": true
    },
    "ExecuteTime": {
     "end_time": "2024-03-09T10:27:25.949929600Z",
     "start_time": "2024-03-09T10:27:25.810255500Z"
    }
   },
   "outputs": [],
   "source": [
    "# scaling the test set for layer1\n",
    "df_minmax_test = scaler1.transform(X_test)\n",
    "X_test = pd.DataFrame(df_minmax_test, columns=X_test.columns)\n",
    "\n",
    "#X_vtest"
   ]
  },
  {
   "cell_type": "code",
   "execution_count": 830,
   "metadata": {
    "collapsed": true,
    "jupyter": {
     "outputs_hidden": true,
     "source_hidden": true
    },
    "ExecuteTime": {
     "end_time": "2024-03-09T10:27:26.020550Z",
     "start_time": "2024-03-09T10:27:25.819672400Z"
    }
   },
   "outputs": [],
   "source": [
    "# perform One-hot encoding for the train set\n",
    "label_enc = ohe.fit_transform(df_train[categorical_features])\n",
    "label_enc.toarray()\n",
    "new_labels = ohe.get_feature_names_out(categorical_features)\n",
    "df_enc = pd.DataFrame(data=label_enc.toarray(), columns=new_labels)\n",
    "X_train = pd.concat([X_train, df_enc], axis=1)"
   ]
  },
  {
   "cell_type": "code",
   "execution_count": 831,
   "metadata": {
    "collapsed": true,
    "jupyter": {
     "outputs_hidden": true,
     "source_hidden": true
    },
    "ExecuteTime": {
     "end_time": "2024-03-09T10:27:26.064986800Z",
     "start_time": "2024-03-09T10:27:25.915582100Z"
    }
   },
   "outputs": [],
   "source": [
    "# perform One-hot encoding for the validation set\n",
    "label_enc = ohe.transform(df_val[categorical_features])\n",
    "label_enc.toarray()\n",
    "new_labels = ohe.get_feature_names_out(categorical_features)\n",
    "df_enc = pd.DataFrame(data=label_enc.toarray(), columns=new_labels)\n",
    "X_validate = pd.concat([X_validate, df_enc], axis=1)\n",
    "\n",
    "#X_validate"
   ]
  },
  {
   "cell_type": "code",
   "execution_count": 832,
   "metadata": {
    "collapsed": true,
    "jupyter": {
     "outputs_hidden": true,
     "source_hidden": true
    },
    "ExecuteTime": {
     "end_time": "2024-03-09T10:27:26.092599300Z",
     "start_time": "2024-03-09T10:27:25.968942500Z"
    }
   },
   "outputs": [],
   "source": [
    "# perform One-hot encoding for the test set\n",
    "label_enc = ohe.transform(df_test[categorical_features])\n",
    "label_enc.toarray()\n",
    "new_labels = ohe.get_feature_names_out(categorical_features)\n",
    "df_enc = pd.DataFrame(data=label_enc.toarray(), columns=new_labels)\n",
    "X_test = pd.concat([X_test, df_enc], axis=1)\n",
    "\n",
    "#X_test"
   ]
  },
  {
   "cell_type": "markdown",
   "metadata": {
    "collapsed": false
   },
   "source": [
    "### Principal Component Analysis"
   ]
  },
  {
   "cell_type": "code",
   "execution_count": 833,
   "metadata": {
    "collapsed": true,
    "jupyter": {
     "outputs_hidden": true,
     "source_hidden": true
    },
    "ExecuteTime": {
     "end_time": "2024-03-09T10:27:27.328694400Z",
     "start_time": "2024-03-09T10:27:26.003978300Z"
    }
   },
   "outputs": [
    {
     "data": {
      "text/plain": "(87484, 28)"
     },
     "execution_count": 833,
     "metadata": {},
     "output_type": "execute_result"
    }
   ],
   "source": [
    "pca_dos_probe = PCA(n_components=0.95)\n",
    "X_train_dos_probe = pca_dos_probe.fit_transform(X_train)\n",
    "X_test_dos_probe = pca_dos_probe.transform(X_test)\n",
    "X_validate_dos_probe = pca_dos_probe.transform(X_validate)\n",
    "\n",
    "# X_train = X_train.sort_index(axis=1)\n",
    "X_train_dos_probe.shape"
   ]
  },
  {
   "cell_type": "markdown",
   "metadata": {
    "collapsed": false
   },
   "source": [
    "### Building the classifier for the layer1"
   ]
  },
  {
   "cell_type": "code",
   "execution_count": 834,
   "metadata": {
    "collapsed": true,
    "jupyter": {
     "outputs_hidden": true,
     "source_hidden": true
    },
    "ExecuteTime": {
     "end_time": "2024-03-09T10:27:27.331204500Z",
     "start_time": "2024-03-09T10:27:27.324230500Z"
    }
   },
   "outputs": [],
   "source": [
    "from datetime import datetime"
   ]
  },
  {
   "cell_type": "markdown",
   "metadata": {
    "collapsed": false
   },
   "source": []
  },
  {
   "cell_type": "code",
   "execution_count": 835,
   "metadata": {
    "collapsed": true,
    "jupyter": {
     "outputs_hidden": true,
     "source_hidden": true
    },
    "ExecuteTime": {
     "end_time": "2024-03-09T10:27:27.353881500Z",
     "start_time": "2024-03-09T10:27:27.327696600Z"
    }
   },
   "outputs": [],
   "source": [
    "# Voting classifiers\n",
    "\n",
    "voting_classifiers = []"
   ]
  },
  {
   "cell_type": "markdown",
   "source": [
    "from sklearn.ensemble import HistGradientBoostingClassifier\n",
    "\n",
    "# Using HistGradientBoosting classifier\n",
    "dos_probe_classifier = HistGradientBoostingClassifier()\n",
    "\n",
    "start = datetime.now()\n",
    "dos_probe_classifier.fit(X_train_dos_probe, y_train_l1)\n",
    "ttime = datetime.now() - start\n",
    "\n",
    "voting_classifiers.append((\"hgbc\", dos_probe_classifier))"
   ],
   "metadata": {
    "collapsed": false
   }
  },
  {
   "cell_type": "code",
   "execution_count": 836,
   "outputs": [],
   "source": [
    "# Using Random Forest Classifier\n",
    "dos_probe_classifier = RandomForestClassifier()\n",
    "\n",
    "start = datetime.now()\n",
    "dos_probe_classifier.fit(X_train_dos_probe, y_train_l1)\n",
    "ttime = datetime.now() - start\n",
    "\n",
    "voting_classifiers.append((\"rf\", dos_probe_classifier))"
   ],
   "metadata": {
    "collapsed": false,
    "ExecuteTime": {
     "end_time": "2024-03-09T10:28:22.432782100Z",
     "start_time": "2024-03-09T10:27:27.332797800Z"
    }
   }
  },
  {
   "cell_type": "markdown",
   "source": [
    "predicted = dos_probe_classifier.predict(X_test_dos_probe)\n",
    "\n",
    "print('Metrics for layer 1:')\n",
    "print('Confusion matrix: [TP FN / FP TN]\\n', confusion_matrix(y_test,predicted))\n",
    "print('Accuracy = ', accuracy_score(y_test,predicted))\n",
    "print('F1 Score = ', f1_score(y_test,predicted))\n",
    "print('Precision = ', precision_score(y_test,predicted))\n",
    "print('Recall = ', recall_score(y_test,predicted))\n",
    "print('Train time = ', ttime)"
   ],
   "metadata": {
    "collapsed": false
   }
  },
  {
   "cell_type": "markdown",
   "metadata": {
    "collapsed": false
   },
   "source": [
    "# test the other classifiers obtained in the evaluation phase\n",
    "dos_probe_classifier = joblib.load(\"TunerProcess/TunedModels/l1_classifier.pkl\")\n",
    "#classifier2 = joblib.load(\"TunerProcess/TunedModels/l1_classifier.pkl\")"
   ]
  },
  {
   "cell_type": "markdown",
   "source": [
    "# Using the Naive Bayes Classifier\n",
    "dos_probe_classifier = GaussianNB()\n",
    "\n",
    "voting_classifiers.append((\"nbc\", dos_probe_classifier))"
   ],
   "metadata": {
    "collapsed": false
   }
  },
  {
   "cell_type": "markdown",
   "source": [
    "start = datetime.now()\n",
    "dos_probe_classifier.fit(X_train_dos_probe, y_train_l1)\n",
    "ttime = datetime.now() - start\n",
    "\n",
    "predicted = dos_probe_classifier.predict(X_test_dos_probe)\n",
    "\n",
    "print('Metrics for layer 1:')\n",
    "print('Confusion matrix: [TP FN / FP TN]\\n', confusion_matrix(y_test,predicted))\n",
    "print('Accuracy = ', accuracy_score(y_test,predicted))\n",
    "print('F1 Score = ', f1_score(y_test,predicted))\n",
    "print('Precision = ', precision_score(y_test,predicted))\n",
    "print('Recall = ', recall_score(y_test,predicted))\n",
    "print('Train time = ', ttime)\n",
    "print('Shape of the train set for l1: ', X_train_dos_probe.shape)"
   ],
   "metadata": {
    "collapsed": false
   }
  },
  {
   "cell_type": "markdown",
   "metadata": {
    "collapsed": false
   },
   "source": [
    "# Voting classifier"
   ]
  },
  {
   "cell_type": "markdown",
   "source": [
    "from sklearn.ensemble import VotingClassifier\n",
    "\n",
    "dos_probe_classifier = VotingClassifier(estimators=voting_classifiers, voting='soft')"
   ],
   "metadata": {
    "collapsed": false
   }
  },
  {
   "cell_type": "markdown",
   "source": [],
   "metadata": {
    "collapsed": false
   }
  },
  {
   "cell_type": "markdown",
   "source": [
    "start = datetime.now()\n",
    "dos_probe_classifier.fit(X_train_dos_probe, y_train_l1)\n",
    "ttime = datetime.now() - start"
   ],
   "metadata": {
    "collapsed": false
   }
  },
  {
   "cell_type": "markdown",
   "source": [
    "predicted = dos_probe_classifier.predict(X_test_dos_probe)\n",
    "\n",
    "print('Using a voting classifier:')\n",
    "print('Confusion matrix: [TP FN / FP TN]\\n', confusion_matrix(y_test,predicted))\n",
    "print('Accuracy = ', accuracy_score(y_test,predicted))\n",
    "print('F1 Score = ', f1_score(y_test,predicted))\n",
    "print('Precision = ', precision_score(y_test,predicted))\n",
    "print('Recall = ', recall_score(y_test,predicted))\n",
    "print('Train time = ', ttime)\n",
    "print('Shape of the train set for l1: ', X_train_dos_probe.shape)"
   ],
   "metadata": {
    "collapsed": false
   }
  },
  {
   "cell_type": "markdown",
   "metadata": {},
   "source": [
    "# R2L+U2R classifier"
   ]
  },
  {
   "cell_type": "markdown",
   "source": [
    "import matplotlib.pyplot as plt\n",
    "\n",
    "df_train_f2 = copy.deepcopy(df_train_original)\n",
    "\n",
    "for index, row in df_train_f2.iterrows():\n",
    "    if row['attacks'] in [\"dos\", \"probe\"]:\n",
    "        df_train_f2.at[index, 'attacks'] = 'normal'\n",
    "\n",
    "# Assuming df is your DataFrame and 'column_name' is the specific column you want to plot\n",
    "plt.hist(df_train_f2['attacks'], bins=10)  # Adjust the number of bins as needed\n",
    "plt.xlabel('Values')  # Set x-axis label\n",
    "plt.ylabel('Frequency')  # Set y-axis label\n",
    "plt.title('Histogram of Column')  # Set title\n",
    "plt.savefig(\"x_train_f2.png\")\n",
    "\n",
    "print(\"Number of instances: \", df_train_f2['attacks'].value_counts())\n",
    "\n",
    "plt.show()"
   ],
   "metadata": {
    "collapsed": false
   }
  },
  {
   "cell_type": "markdown",
   "source": [
    "import matplotlib.pyplot as plt\n",
    "\n",
    "df_val_f2 = copy.deepcopy(df_val_original)\n",
    "\n",
    "for index, row in df_val_f2.iterrows():\n",
    "    if row['attacks'] in [\"dos\", \"probe\"]:\n",
    "        df_val_f2.at[index, 'attacks'] = 'normal'\n",
    "\n",
    "# Assuming df is your DataFrame and 'column_name' is the specific column you want to plot\n",
    "plt.hist(df_val_f2['attacks'], bins=10)  # Adjust the number of bins as needed\n",
    "plt.xlabel('Values')  # Set x-axis label\n",
    "plt.ylabel('Frequency')  # Set y-axis label\n",
    "plt.title('Histogram of Column')  # Set title\n",
    "plt.savefig(\"x_validate_f2.png\")\n",
    "\n",
    "print(\"Number of instances: \", df_val_f2['attacks'].value_counts())\n",
    "\n",
    "plt.show()"
   ],
   "metadata": {
    "collapsed": false
   }
  },
  {
   "cell_type": "code",
   "execution_count": 837,
   "metadata": {
    "collapsed": true,
    "jupyter": {
     "outputs_hidden": true,
     "source_hidden": true
    },
    "ExecuteTime": {
     "end_time": "2024-03-09T10:28:22.513092200Z",
     "start_time": "2024-03-09T10:28:22.434781800Z"
    }
   },
   "outputs": [],
   "source": [
    "df_train = copy.deepcopy(df_train_original)\n",
    "df_test = copy.deepcopy(df_test_original)\n",
    "df_val = copy.deepcopy(df_val_original)\n",
    "\n",
    "# load targeted attacks (Normal + r2l + u2r)\n",
    "df_train = df_train[df_train['label'].isin(normal_list+u2r_attacks+r2l_attacks)]\n",
    "df_val = df_val[df_val['label'].isin(normal_list+u2r_attacks+r2l_attacks)]\n",
    "df_test = df_test[df_test['label'].isin(normal_list+u2r_attacks+r2l_attacks)]\n",
    "\n",
    "# set the target variables accordingly\n",
    "y_train_l2 = np.array([1 if x in (u2r_attacks+r2l_attacks) else 0 for x in df_train['label']])\n",
    "y_validate_l2 = np.array([1 if x in (u2r_attacks+r2l_attacks) else 0 for x in df_val['label']])\n",
    "y_test = np.array([1 if x in (u2r_attacks+r2l_attacks) else 0 for x in df_test['label']])\n",
    "\n",
    "df_train = df_train.drop(['label'],axis=1)\n",
    "df_train = df_train.reset_index().drop(['index'], axis=1)\n",
    "#df_train"
   ]
  },
  {
   "cell_type": "code",
   "execution_count": 838,
   "metadata": {
    "collapsed": true,
    "jupyter": {
     "outputs_hidden": true,
     "source_hidden": true
    },
    "ExecuteTime": {
     "end_time": "2024-03-09T10:28:22.552807500Z",
     "start_time": "2024-03-09T10:28:22.513092200Z"
    }
   },
   "outputs": [],
   "source": [
    "df_val = df_val.drop(['label'],axis=1)\n",
    "df_val = df_val.reset_index().drop(['index'], axis=1)\n",
    "#df_val"
   ]
  },
  {
   "cell_type": "code",
   "execution_count": 839,
   "metadata": {
    "collapsed": true,
    "jupyter": {
     "outputs_hidden": true,
     "source_hidden": true
    },
    "ExecuteTime": {
     "end_time": "2024-03-09T10:28:22.578362400Z",
     "start_time": "2024-03-09T10:28:22.525385300Z"
    }
   },
   "outputs": [],
   "source": [
    "df_test = df_test.drop(['label'],axis=1)\n",
    "df_test = df_test.reset_index().drop(['index'], axis=1)\n",
    "#df_test"
   ]
  },
  {
   "cell_type": "code",
   "execution_count": 840,
   "metadata": {
    "collapsed": true,
    "jupyter": {
     "outputs_hidden": true,
     "source_hidden": true
    },
    "ExecuteTime": {
     "end_time": "2024-03-09T10:28:22.582047Z",
     "start_time": "2024-03-09T10:28:22.547704600Z"
    }
   },
   "outputs": [],
   "source": [
    "X_train = df_train[common_features_l2]\n",
    "X_validate = df_val[common_features_l2]\n",
    "X_test = df_test[common_features_l2]"
   ]
  },
  {
   "cell_type": "code",
   "execution_count": 841,
   "metadata": {
    "collapsed": true,
    "jupyter": {
     "outputs_hidden": true,
     "source_hidden": true
    },
    "ExecuteTime": {
     "end_time": "2024-03-09T10:28:22.619843100Z",
     "start_time": "2024-03-09T10:28:22.550793500Z"
    }
   },
   "outputs": [],
   "source": [
    "df_minmax = scaler2.fit_transform(X_train[common_features_l2])\n",
    "X_train = pd.DataFrame(df_minmax, columns=X_train.columns)\n",
    "#X_train"
   ]
  },
  {
   "cell_type": "code",
   "execution_count": 842,
   "metadata": {
    "collapsed": true,
    "jupyter": {
     "outputs_hidden": true,
     "source_hidden": true
    },
    "ExecuteTime": {
     "end_time": "2024-03-09T10:28:22.623468800Z",
     "start_time": "2024-03-09T10:28:22.568085900Z"
    }
   },
   "outputs": [],
   "source": [
    "df_minmax = scaler2.transform(X_validate)\n",
    "X_validate = pd.DataFrame(df_minmax, columns=X_validate.columns)\n",
    "#X_validate"
   ]
  },
  {
   "cell_type": "code",
   "execution_count": 843,
   "metadata": {
    "collapsed": true,
    "jupyter": {
     "outputs_hidden": true,
     "source_hidden": true
    },
    "ExecuteTime": {
     "end_time": "2024-03-09T10:28:22.642878800Z",
     "start_time": "2024-03-09T10:28:22.575207100Z"
    }
   },
   "outputs": [],
   "source": [
    "df_minmax = scaler2.transform(X_test)\n",
    "X_test = pd.DataFrame(df_minmax, columns=X_test.columns)\n",
    "#X_test"
   ]
  },
  {
   "cell_type": "code",
   "execution_count": 844,
   "metadata": {
    "collapsed": true,
    "jupyter": {
     "outputs_hidden": true,
     "source_hidden": true
    },
    "ExecuteTime": {
     "end_time": "2024-03-09T10:28:22.693999700Z",
     "start_time": "2024-03-09T10:28:22.580871900Z"
    }
   },
   "outputs": [],
   "source": [
    "# perform One-hot encoding for the train set\n",
    "label_enc = ohe2.fit_transform(df_train[categorical_features])\n",
    "label_enc.toarray()\n",
    "new_labels = ohe2.get_feature_names_out(categorical_features)\n",
    "df_enc = pd.DataFrame(data=label_enc.toarray(), columns=new_labels)\n",
    "X_train = pd.concat([X_train, df_enc], axis=1)\n",
    "#X_train"
   ]
  },
  {
   "cell_type": "code",
   "execution_count": 845,
   "metadata": {
    "collapsed": true,
    "jupyter": {
     "outputs_hidden": true,
     "source_hidden": true
    },
    "ExecuteTime": {
     "end_time": "2024-03-09T10:28:22.722626600Z",
     "start_time": "2024-03-09T10:28:22.624470300Z"
    }
   },
   "outputs": [],
   "source": [
    "# perform One-hot encoding for the validation set\n",
    "label_enc = ohe2.transform(df_val[categorical_features])\n",
    "label_enc.toarray()\n",
    "new_labels = ohe2.get_feature_names_out(categorical_features)\n",
    "df_enc = pd.DataFrame(data=label_enc.toarray(), columns=new_labels)\n",
    "X_validate = pd.concat([X_validate, df_enc], axis=1)\n",
    "#X_validate"
   ]
  },
  {
   "cell_type": "code",
   "execution_count": 846,
   "metadata": {
    "collapsed": true,
    "jupyter": {
     "outputs_hidden": true,
     "source_hidden": true
    },
    "ExecuteTime": {
     "end_time": "2024-03-09T10:28:22.741274500Z",
     "start_time": "2024-03-09T10:28:22.645887500Z"
    }
   },
   "outputs": [],
   "source": [
    "# perform One-hot encoding for the test set\n",
    "label_enc = ohe2.transform(df_test[categorical_features])\n",
    "label_enc.toarray()\n",
    "new_labels = ohe2.get_feature_names_out(categorical_features)\n",
    "df_enc = pd.DataFrame(data=label_enc.toarray(), columns=new_labels)\n",
    "X_test = pd.concat([X_test, df_enc], axis=1)\n",
    "#X_test"
   ]
  },
  {
   "cell_type": "code",
   "execution_count": 847,
   "outputs": [
    {
     "name": "stdout",
     "output_type": "stream",
     "text": [
      "Number of instances:  attacks\n",
      "normal    87448\n",
      "u2r          36\n",
      "Name: count, dtype: int64\n"
     ]
    },
    {
     "data": {
      "text/plain": "<Figure size 640x480 with 1 Axes>",
      "image/png": "[encoded data removed]"
     },
     "metadata": {},
     "output_type": "display_data"
    }
   ],
   "source": [
    "import matplotlib.pyplot as plt\n",
    "\n",
    "df_train_f2 = copy.deepcopy(df_train_original)\n",
    "\n",
    "for index, row in df_train_f2.iterrows():\n",
    "    if row['attacks'] in [\"dos\", \"probe\"]:\n",
    "        df_train_f2.at[index, 'attacks'] = 'normal'\n",
    "\n",
    "# Assuming df is your DataFrame and 'column_name' is the specific column you want to plot\n",
    "plt.hist(df_train_f2['attacks'], bins=10)  # Adjust the number of bins as needed\n",
    "plt.xlabel('Values')  # Set x-axis label\n",
    "plt.ylabel('Frequency')  # Set y-axis label\n",
    "plt.title('Histogram of Column')  # Set title\n",
    "plt.savefig(\"x_train_f3.png\")\n",
    "\n",
    "print(\"Number of instances: \", df_train_f2['attacks'].value_counts())\n",
    "\n",
    "plt.show()"
   ],
   "metadata": {
    "collapsed": false,
    "ExecuteTime": {
     "end_time": "2024-03-09T10:28:26.319603700Z",
     "start_time": "2024-03-09T10:28:22.665600100Z"
    }
   }
  },
  {
   "cell_type": "code",
   "execution_count": 848,
   "outputs": [],
   "source": [
    "# Under sampling the train set for l2\n",
    "sm = under_sam(sampling_strategy=1)\n",
    "X_train, y_train_l2 = sm.fit_resample(X_train,y_train_l2)"
   ],
   "metadata": {
    "collapsed": false,
    "ExecuteTime": {
     "end_time": "2024-03-09T10:28:26.418466200Z",
     "start_time": "2024-03-09T10:28:26.320603400Z"
    }
   }
  },
  {
   "cell_type": "code",
   "execution_count": 849,
   "outputs": [
    {
     "name": "stdout",
     "output_type": "stream",
     "text": [
      "Number of instances:  attacks\n",
      "normal    37478\n",
      "u2r          16\n",
      "Name: count, dtype: int64\n"
     ]
    },
    {
     "data": {
      "text/plain": "<Figure size 640x480 with 1 Axes>",
      "image/png": "[encoded data removed]"
     },
     "metadata": {},
     "output_type": "display_data"
    }
   ],
   "source": [
    "import matplotlib.pyplot as plt\n",
    "\n",
    "df_val_f2 = copy.deepcopy(df_val_original)\n",
    "\n",
    "for index, row in df_val_f2.iterrows():\n",
    "    if row['attacks'] in [\"dos\", \"probe\"]:\n",
    "        df_val_f2.at[index, 'attacks'] = 'normal'\n",
    "\n",
    "# Assuming df is your DataFrame and 'column_name' is the specific column you want to plot\n",
    "plt.hist(df_val_f2['attacks'], bins=10)  # Adjust the number of bins as needed\n",
    "plt.xlabel('Values')  # Set x-axis label\n",
    "plt.ylabel('Frequency')  # Set y-axis label\n",
    "plt.title('Histogram of Column')  # Set title\n",
    "plt.savefig(\"x_validate_f3.png\")\n",
    "\n",
    "print(\"Number of instances: \", df_val_f2['attacks'].value_counts())\n",
    "\n",
    "plt.show()"
   ],
   "metadata": {
    "collapsed": false,
    "ExecuteTime": {
     "end_time": "2024-03-09T10:28:28.008551200Z",
     "start_time": "2024-03-09T10:28:26.337455800Z"
    }
   }
  },
  {
   "cell_type": "code",
   "execution_count": 850,
   "metadata": {
    "collapsed": true,
    "jupyter": {
     "outputs_hidden": true,
     "source_hidden": true
    },
    "ExecuteTime": {
     "end_time": "2024-03-09T10:28:28.102349400Z",
     "start_time": "2024-03-09T10:28:27.992435100Z"
    }
   },
   "outputs": [],
   "source": [
    "# Principal Component Analysis\n",
    "pca_r2l_u2r = PCA(n_components=0.95)\n",
    "X_train_r2l_u2r = pca_r2l_u2r.fit_transform(X_train)\n",
    "X_test_r2l_u2r = pca_r2l_u2r.transform(X_test)\n",
    "X_validate_r2l_u2r = pca_r2l_u2r.transform(X_validate)"
   ]
  },
  {
   "cell_type": "code",
   "execution_count": 851,
   "outputs": [],
   "source": [
    "# Support Vector Machine for layer l2\n",
    "r2l_u2r_classifier = SVC(probability=True)\n",
    "\n",
    "start = datetime.now()\n",
    "r2l_u2r_classifier.fit(X_train_r2l_u2r, y_train_l2)\n",
    "ttime = datetime.now() - start"
   ],
   "metadata": {
    "collapsed": false,
    "ExecuteTime": {
     "end_time": "2024-03-09T10:28:28.105360900Z",
     "start_time": "2024-03-09T10:28:28.014973800Z"
    }
   }
  },
  {
   "cell_type": "markdown",
   "source": [
    "# testing the one class SVM\n",
    "\n",
    "from sklearn.svm import OneClassSVM\n",
    "\n",
    "r2l_u2r_classifier = OneClassSVM(gamma=\"auto\")\n",
    "\n",
    "start = datetime.now()\n",
    "r2l_u2r_classifier.fit(X_train_r2l_u2r)\n",
    "ttime = datetime.now() - start"
   ],
   "metadata": {
    "collapsed": false
   }
  },
  {
   "cell_type": "markdown",
   "metadata": {},
   "source": [
    "# Testing"
   ]
  },
  {
   "cell_type": "code",
   "execution_count": 852,
   "metadata": {
    "collapsed": true,
    "jupyter": {
     "outputs_hidden": true,
     "source_hidden": true
    },
    "ExecuteTime": {
     "end_time": "2024-03-09T10:28:28.126132100Z",
     "start_time": "2024-03-09T10:28:28.021658200Z"
    }
   },
   "outputs": [],
   "source": [
    "df_test1 = copy.deepcopy(df_test_original)\n",
    "df_test2 = copy.deepcopy(df_test_original)\n",
    "\n",
    "y_test_real = np.array([0 if x=='normal' else 1 for x in df_test1['label']])\n",
    "\n",
    "np.save(\"EvalResources/Test/KDDTest+_targets\", y_test_real)"
   ]
  },
  {
   "cell_type": "code",
   "execution_count": 853,
   "metadata": {
    "collapsed": true,
    "jupyter": {
     "outputs_hidden": true,
     "source_hidden": true
    },
    "ExecuteTime": {
     "end_time": "2024-03-09T10:28:28.147509800Z",
     "start_time": "2024-03-09T10:28:28.035787100Z"
    }
   },
   "outputs": [
    {
     "data": {
      "text/plain": "(22544,)"
     },
     "execution_count": 853,
     "metadata": {},
     "output_type": "execute_result"
    }
   ],
   "source": [
    "y_test_real.shape"
   ]
  },
  {
   "cell_type": "code",
   "execution_count": 854,
   "metadata": {
    "collapsed": true,
    "jupyter": {
     "outputs_hidden": true,
     "source_hidden": true
    },
    "ExecuteTime": {
     "end_time": "2024-03-09T10:28:28.211192800Z",
     "start_time": "2024-03-09T10:28:28.040354800Z"
    }
   },
   "outputs": [],
   "source": [
    "X_test1 = df_test1[common_features_l1]"
   ]
  },
  {
   "cell_type": "code",
   "execution_count": 855,
   "metadata": {
    "collapsed": true,
    "jupyter": {
     "outputs_hidden": true,
     "source_hidden": true
    },
    "ExecuteTime": {
     "end_time": "2024-03-09T10:28:28.215477Z",
     "start_time": "2024-03-09T10:28:28.048671500Z"
    }
   },
   "outputs": [
    {
     "name": "stdout",
     "output_type": "stream",
     "text": [
      "Test set shape for layer 1:  (22544, 28)\n"
     ]
    }
   ],
   "source": [
    "df_minmax = scaler1.transform(X_test1)\n",
    "X_test1 = pd.DataFrame(df_minmax, columns=X_test1.columns)\n",
    "label_enc = ohe.transform(df_test1.iloc[:,1:4])\n",
    "label_enc.toarray()\n",
    "new_labels = ohe.get_feature_names_out(categorical_features)\n",
    "df_enc = pd.DataFrame(data=label_enc.toarray(), columns=new_labels)\n",
    "X_test1 = pd.concat([X_test1, df_enc], axis=1)\n",
    "\n",
    "X_test_layer1 = pca_dos_probe.transform(X_test1)\n",
    "print('Test set shape for layer 1: ', X_test_layer1.shape)"
   ]
  },
  {
   "cell_type": "code",
   "execution_count": 856,
   "metadata": {
    "collapsed": true,
    "jupyter": {
     "outputs_hidden": true,
     "source_hidden": true
    },
    "ExecuteTime": {
     "end_time": "2024-03-09T10:28:28.235886200Z",
     "start_time": "2024-03-09T10:28:28.096065600Z"
    }
   },
   "outputs": [],
   "source": [
    "#X_test1"
   ]
  },
  {
   "cell_type": "code",
   "execution_count": 857,
   "metadata": {
    "collapsed": true,
    "jupyter": {
     "outputs_hidden": true,
     "source_hidden": true
    },
    "ExecuteTime": {
     "end_time": "2024-03-09T10:28:28.257376200Z",
     "start_time": "2024-03-09T10:28:28.099135300Z"
    }
   },
   "outputs": [],
   "source": [
    "X_test2 = df_test2"
   ]
  },
  {
   "cell_type": "markdown",
   "metadata": {
    "collapsed": false
   },
   "source": [
    "X_test2 = df_test2.loc[:, feature_names_l2]"
   ]
  },
  {
   "cell_type": "code",
   "execution_count": 858,
   "metadata": {
    "collapsed": true,
    "jupyter": {
     "outputs_hidden": true,
     "source_hidden": true
    },
    "ExecuteTime": {
     "end_time": "2024-03-09T10:28:28.281428700Z",
     "start_time": "2024-03-09T10:28:28.103356100Z"
    }
   },
   "outputs": [],
   "source": [
    "X_test2 = df_test2[common_features_l2] "
   ]
  },
  {
   "cell_type": "code",
   "execution_count": 859,
   "metadata": {
    "collapsed": true,
    "jupyter": {
     "outputs_hidden": true,
     "source_hidden": true
    },
    "ExecuteTime": {
     "end_time": "2024-03-09T10:28:28.297375600Z",
     "start_time": "2024-03-09T10:28:28.110942Z"
    }
   },
   "outputs": [
    {
     "name": "stdout",
     "output_type": "stream",
     "text": [
      "Test set shape for layer 1:  (22544, 28)\n",
      "Test set shape for layer 2:  (22544, 11)\n"
     ]
    }
   ],
   "source": [
    "df_minmax = scaler2.transform(X_test2)\n",
    "X_test2 = pd.DataFrame(df_minmax, columns=X_test2.columns)\n",
    "label_enc = ohe2.transform(df_test2.iloc[:,1:4])\n",
    "label_enc.toarray()\n",
    "new_labels = ohe2.get_feature_names_out(categorical_features)\n",
    "df_enc = pd.DataFrame(data=label_enc.toarray(), columns=new_labels)\n",
    "X_test2 = pd.concat([X_test2, df_enc], axis=1)\n",
    "\n",
    "X_test_layer2 = pca_r2l_u2r.transform(X_test2)\n",
    "print('Test set shape for layer 1: ', X_test_layer1.shape)\n",
    "print('Test set shape for layer 2: ', X_test_layer2.shape)"
   ]
  },
  {
   "cell_type": "code",
   "execution_count": 860,
   "metadata": {
    "collapsed": true,
    "jupyter": {
     "outputs_hidden": true,
     "source_hidden": true
    },
    "ExecuteTime": {
     "end_time": "2024-03-09T10:28:28.305485900Z",
     "start_time": "2024-03-09T10:28:28.148521200Z"
    }
   },
   "outputs": [],
   "source": [
    "#X_test_layer1"
   ]
  },
  {
   "cell_type": "code",
   "execution_count": 861,
   "metadata": {
    "collapsed": true,
    "jupyter": {
     "outputs_hidden": true,
     "source_hidden": true
    },
    "ExecuteTime": {
     "end_time": "2024-03-09T10:28:28.317123800Z",
     "start_time": "2024-03-09T10:28:28.151274100Z"
    }
   },
   "outputs": [],
   "source": [
    "#X_test_layer2"
   ]
  },
  {
   "cell_type": "code",
   "execution_count": 862,
   "metadata": {
    "collapsed": true,
    "jupyter": {
     "outputs_hidden": true,
     "source_hidden": true
    },
    "ExecuteTime": {
     "end_time": "2024-03-09T10:28:28.322710400Z",
     "start_time": "2024-03-09T10:28:28.155391700Z"
    }
   },
   "outputs": [],
   "source": [
    "# same classifiers obtained above\n",
    "classifier1 = dos_probe_classifier\n",
    "classifier2 = r2l_u2r_classifier"
   ]
  },
  {
   "cell_type": "code",
   "execution_count": 863,
   "metadata": {
    "collapsed": true,
    "jupyter": {
     "outputs_hidden": true,
     "source_hidden": true
    },
    "ExecuteTime": {
     "end_time": "2024-03-09T10:28:28.325839400Z",
     "start_time": "2024-03-09T10:28:28.164549300Z"
    }
   },
   "outputs": [],
   "source": [
    "import warnings\n",
    "\n",
    "# Suppressing the warning\n",
    "warnings.filterwarnings(\"ignore\", message=\"X does not have valid feature names.*\")\n",
    "\n",
    "import numpy as np\n",
    "from datetime import datetime\n",
    "\n",
    "def test_metrics():\n",
    "    result_ = []\n",
    "    tn, fp, fn, tp = 0, 0, 0, 0\n",
    "    \n",
    "    start_ = datetime.now()\n",
    "    \n",
    "    for i in range(X_test_layer2.shape[0]):\n",
    "        layer1_ = classifier1.predict(X_test_layer1[i].reshape(1, -1))[0]\n",
    "        if layer1_ == 1:\n",
    "            result_.append(layer1_)\n",
    "        else:\n",
    "            layer2_ = classifier2.predict(X_test_layer2[i].reshape(1, -1))[0]\n",
    "            if layer2_ == 1:\n",
    "                result_.append(layer2_)\n",
    "            else:\n",
    "                result_.append(0)\n",
    "        # Evaluate confusion matrix\n",
    "        if y_test_real[i] == 1:\n",
    "            if result_[-1] == 1:\n",
    "                tp += 1\n",
    "            else:\n",
    "                fn += 1\n",
    "        else:\n",
    "            if result_[-1] == 1:\n",
    "                fp += 1\n",
    "            else:\n",
    "                tn += 1\n",
    "    \n",
    "    clf_time_ = datetime.now() - start_\n",
    "    \n",
    "    # Calculate rates\n",
    "    tnr_ = tn / (tn + fp)\n",
    "    fpr_= fp / (fp + tn)\n",
    "    fnr_ = fn / (fn + tp)\n",
    "    \n",
    "    return (accuracy_score(y_test_real,np.array(result_)), \n",
    "            f1_score(y_test_real, np.array(result_)),\n",
    "            precision_score(y_test_real, np.array(result_)),\n",
    "            recall_score(y_test_real, np.array(result_)),\n",
    "            clf_time_, tnr_, fpr_, fnr_, np.array(result_))"
   ]
  },
  {
   "cell_type": "code",
   "execution_count": 864,
   "outputs": [
    {
     "name": "stdout",
     "output_type": "stream",
     "text": [
      "Accuracy =  0.8580110007097232\n",
      "F1 Score =  0.8624940933888913\n",
      "Precision =  0.9610377177867127\n",
      "Recall =  0.7822800592223175\n",
      "Classification time =  0:01:23.201478\n",
      "False Positive Rate (FPR) = 0.04191123468231902\n",
      "True Negative Rate (TNR) = 0.958088765317681\n",
      "False Negative Rate (FNR) = 0.21771994077768253\n"
     ]
    }
   ],
   "source": [
    "# the results may vary\n",
    "accuracy, f_score, precision, recall, clf_time, tnr, fpr, fnr, result = test_metrics()\n",
    "\n",
    "print('Accuracy = ', accuracy)\n",
    "print('F1 Score = ', f_score)\n",
    "print('Precision = ', precision)\n",
    "print('Recall = ', recall)\n",
    "print('Classification time = ', clf_time)\n",
    "print('False Positive Rate (FPR) =', fpr)\n",
    "print('True Negative Rate (TNR) =', tnr)\n",
    "print('False Negative Rate (FNR) =', fnr)"
   ],
   "metadata": {
    "collapsed": false,
    "ExecuteTime": {
     "end_time": "2024-03-09T10:29:51.403809300Z",
     "start_time": "2024-03-09T10:28:28.169941800Z"
    }
   }
  },
  {
   "cell_type": "markdown",
   "source": [
    "# Run the function multiple times and accumulate results\n",
    "num_iterations = 5\n",
    "total_accuracy = 0\n",
    "total_f1_score = 0\n",
    "total_precision = 0\n",
    "total_recall = 0\n",
    "total_clf_time = 0\n",
    "total_tnr = 0\n",
    "total_fpr = 0\n",
    "total_fnr = 0\n",
    "\n",
    "for _ in range(num_iterations):\n",
    "    acc, f1, prec, rec, clf_time, tnr, fpr, fnr, _ = test_metrics()\n",
    "    total_accuracy += acc\n",
    "    total_f1_score += f1\n",
    "    total_precision += prec\n",
    "    total_recall += rec\n",
    "    total_tnr += tnr\n",
    "    total_fpr += fpr\n",
    "    total_fnr += fnr\n",
    "\n",
    "# Calculate averages\n",
    "avg_accuracy = total_accuracy / num_iterations\n",
    "avg_f1_score = total_f1_score / num_iterations\n",
    "avg_precision = total_precision / num_iterations\n",
    "avg_recall = total_recall / num_iterations\n",
    "avg_tnr = total_tnr / num_iterations\n",
    "avg_fpr = total_fpr / num_iterations\n",
    "avg_fnr = total_fnr / num_iterations\n",
    "\n",
    "print('Average Accuracy:', avg_accuracy)\n",
    "print('Average F1 Score:', avg_f1_score)\n",
    "print('Average Precision:', avg_precision)\n",
    "print('Average Recall:', avg_recall)\n",
    "print('Average TNR:', avg_tnr)\n",
    "print('Average FPR:', avg_fpr)\n",
    "print('Average FNR:', avg_fnr)"
   ],
   "metadata": {
    "collapsed": false
   }
  },
  {
   "cell_type": "code",
   "execution_count": 865,
   "outputs": [
    {
     "name": "stdout",
     "output_type": "stream",
     "text": [
      "Number of new attacks in the test set:  5949\n",
      "Number of new attacks detected by the classifiers:  3426\n",
      "Proportion of new attacks detected:  0.5758951084215834\n",
      "Number of old attacks in the test set:  6884\n",
      "Number of old attacks detected by the classifiers:  6613\n",
      "Proportion of old attacks detected:  0.9606333527019175\n"
     ]
    }
   ],
   "source": [
    "# load testset\n",
    "df_test = pd.read_csv('EvalResources/KDDTest+.txt', sep=\",\", header=None, skipinitialspace=True)\n",
    "df_test = df_test[df_test.columns[:-1]]\n",
    "df_test.columns = titles.to_list()\n",
    "y_test = df_test['label']\n",
    "df_test = df_test.drop(['num_outbound_cmds'], axis=1)\n",
    "\n",
    "df_test_original = df_test\n",
    "if EXPORT_DATASETS:\n",
    "    df_test_original.to_csv('EvalResources/ProcessedDatasets/x_test_full.txt', index=False)\n",
    "    np.save('EvalResources/ProcessedDatasets/y_test_full', y_test)\n",
    "\n",
    "#df_test_original\n",
    "new_attack = []\n",
    "for i in df_test_original['label'].value_counts().index.tolist()[1:]:\n",
    "    if i not in df_train_original['label'].value_counts().index.tolist()[1:]:\n",
    "        new_attack.append(i)\n",
    "\n",
    "new_attack.sort()\n",
    "#new_attack\n",
    "index_of_new_attacks = []\n",
    "\n",
    "for i in range(len(df_test_original)):\n",
    "    if df_test_original['label'][i] in new_attack:\n",
    "        index_of_new_attacks.append(df_test_original.index[i])\n",
    "\n",
    "new_attack.append('normal')\n",
    "\n",
    "index_of_old_attacks = []\n",
    "\n",
    "for i in range(len(df_test_original)):\n",
    "    if df_test_original['label'][i] not in new_attack:\n",
    "        index_of_old_attacks.append(df_test_original.index[i])\n",
    "print('Number of new attacks in the test set: ', result[index_of_new_attacks].shape[0])\n",
    "print('Number of new attacks detected by the classifiers: ', result[index_of_new_attacks].sum())\n",
    "print('Proportion of new attacks detected: ',\n",
    "      result[index_of_new_attacks].sum() / result[index_of_new_attacks].shape[0])\n",
    "print('Number of old attacks in the test set: ', result[index_of_old_attacks].shape[0])\n",
    "print('Number of old attacks detected by the classifiers: ', result[index_of_old_attacks].sum())\n",
    "print('Proportion of old attacks detected: ',\n",
    "      result[index_of_old_attacks].sum() / result[index_of_old_attacks].shape[0])"
   ],
   "metadata": {
    "collapsed": false,
    "ExecuteTime": {
     "end_time": "2024-03-09T10:29:51.740907800Z",
     "start_time": "2024-03-09T10:29:51.400811700Z"
    }
   }
  },
  {
   "cell_type": "code",
   "execution_count": 866,
   "outputs": [
    {
     "name": "stdout",
     "output_type": "stream",
     "text": [
      "Ratio of DOS detection:  0.8513404825737265\n",
      "Ratio of PROBE detection:  0.9355638166047088\n",
      "Ratio of U2R detection:  0.47383015597920275\n",
      "Ratio of R2L detection:  0.835820895522388\n",
      "New attacks detected:  0.5758951084215834\n",
      "Old attacks detected:  0.9606333527019175\n"
     ]
    }
   ],
   "source": [
    "### Evaluate single attack types\n",
    "# load test set\n",
    "df_test = pd.read_csv('EvalResources/KDDTest+.txt', sep=\",\", header=None, skipinitialspace=True)\n",
    "df_test = df_test[df_test.columns[:-1]]\n",
    "df_test.columns = titles.to_list()\n",
    "y_test = df_test['label']\n",
    "df_test = df_test.drop(['num_outbound_cmds'], axis=1)\n",
    "df_test_original = df_test\n",
    "df = df_test_original\n",
    "\n",
    "dos_index = df.index[(df['label'].isin(dos_attacks))].tolist()\n",
    "probe_index = df.index[(df['label'].isin(probe_attacks))].tolist()\n",
    "r2l_index = df.index[(df['label'].isin(r2l_attacks))].tolist()\n",
    "u2r_index = df.index[(df['label'].isin(u2r_attacks))].tolist()\n",
    "\n",
    "print(\"Ratio of DOS detection: \", result[dos_index].sum() / result[dos_index].shape[0])\n",
    "\n",
    "print(\"Ratio of PROBE detection: \", result[probe_index].sum() / result[probe_index].shape[0])\n",
    "\n",
    "print(\"Ratio of U2R detection: \", result[r2l_index].sum() / result[r2l_index].shape[0])\n",
    "\n",
    "print(\"Ratio of R2L detection: \", result[u2r_index].sum() / result[u2r_index].shape[0])\n",
    "\n",
    "print('New attacks detected: ',\n",
    "      result[index_of_new_attacks].sum() / result[index_of_new_attacks].shape[0])\n",
    "\n",
    "print('Old attacks detected: ',\n",
    "      result[index_of_old_attacks].sum() / result[index_of_old_attacks].shape[0])"
   ],
   "metadata": {
    "collapsed": false,
    "ExecuteTime": {
     "end_time": "2024-03-09T10:29:51.823269200Z",
     "start_time": "2024-03-09T10:29:51.741907700Z"
    }
   }
  },
  {
   "cell_type": "markdown",
   "metadata": {
    "collapsed": false
   },
   "source": [
    "# Now start the adaptation process"
   ]
  },
  {
   "cell_type": "code",
   "execution_count": 479,
   "metadata": {
    "collapsed": true,
    "jupyter": {
     "outputs_hidden": true,
     "source_hidden": true
    },
    "ExecuteTime": {
     "end_time": "2024-03-08T21:23:57.765203100Z",
     "start_time": "2024-03-08T21:23:56.278862800Z"
    }
   },
   "outputs": [],
   "source": [
    "from sklearn.metrics import precision_score\n",
    "import optuna"
   ]
  },
  {
   "cell_type": "markdown",
   "metadata": {
    "collapsed": false
   },
   "source": [
    "# S1 RF + SVM"
   ]
  },
  {
   "cell_type": "markdown",
   "source": [
    "## Define the space of hyperparameters for Random Forest\n",
    "rf_params = {\n",
    "    'n_estimators': optuna.distributions.IntDistribution(50, 500),\n",
    "    'max_depth': optuna.distributions.IntDistribution(2, 32),\n",
    "    'min_samples_split': optuna.distributions.IntDistribution(2, 20),\n",
    "    'min_samples_leaf': optuna.distributions.IntDistribution(1, 10)\n",
    "}\n",
    "\n",
    "## Define the space of hyperparameters for SVM\n",
    "svm_params = {\n",
    "    'C': optuna.distributions.FloatDistribution(0.1, 10),\n",
    "    'kernel': optuna.distributions.CategoricalDistribution(['linear', 'poly', 'rbf', 'sigmoid']),\n",
    "    'gamma': optuna.distributions.FloatDistribution(1e-6, 1e-2)\n",
    "}\n",
    "\n",
    "def objective(trial):\n",
    "    # Define hyperparameters for Random Forest\n",
    "    rf_hyperparams = {\n",
    "        'n_estimators': trial.suggest_int('rf_n_estimators', 10, 70),\n",
    "        'max_depth': trial.suggest_int('rf_max_depth', 2, 32),\n",
    "        'min_samples_split': trial.suggest_int('rf_min_samples_split', 2, 20),\n",
    "        'min_samples_leaf': trial.suggest_int('rf_min_samples_leaf', 1, 10)\n",
    "    }\n",
    "    \n",
    "    \n",
    "    # Define hyperparameters for SVM\n",
    "    svm_hyperparams = {\n",
    "        'C': trial.suggest_float('svm_C', 0.1, 10),\n",
    "        'kernel': trial.suggest_categorical('svm_kernel', ['linear', 'poly', 'rbf', 'sigmoid']),\n",
    "        'gamma': trial.suggest_float('svm_gamma', 1e-6, 1e-2)\n",
    "    }\n",
    "    \"\"\"\n",
    "    \n",
    "    # Define hyperparameters for SVM\n",
    "    svm_hyperparams = {\n",
    "        'C': trial.suggest_float('svm_C', 0.1, 0.1),\n",
    "        'kernel': trial.suggest_categorical('svm_kernel', ['rbf']),\n",
    "        'gamma': trial.suggest_float('svm_gamma', 0.01, 0.01)\n",
    "    }\n",
    "    \"\"\"\n",
    "    \n",
    "    # Initialize and train Random Forest classifier\n",
    "    rf_classifier = RandomForestClassifier(**rf_hyperparams)\n",
    "    rf_classifier.fit(X_train_dos_probe, y_train_l1)\n",
    "    \n",
    "    # Initialize and train SVM classifier\n",
    "    svm_classifier = SVC(**svm_hyperparams)\n",
    "    svm_classifier.fit(X_train_r2l_u2r, y_train_l2)\n",
    "    \n",
    "    # Predict on validation set and calculate metrics for both classifiers\n",
    "    rf_predicted = rf_classifier.predict(X_validate_dos_probe)\n",
    "    svm_predicted = svm_classifier.predict(X_validate_r2l_u2r)\n",
    "    \n",
    "    rf_precision = precision_score(y_validate_l1, rf_predicted)\n",
    "    svm_precision = precision_score(y_validate_l2, svm_predicted)\n",
    "    \n",
    "    rf_recall = recall_score(y_validate_l1, rf_predicted)\n",
    "    svm_recall = recall_score(y_validate_l2, svm_predicted)\n",
    "    \n",
    "    # Calculate weighted average of TPR and Precision (you can adjust weights based on preference)\n",
    "    weighted_score = (0.5 * (rf_recall + svm_recall)) + (0.5 * (rf_precision + svm_precision))\n",
    "    \n",
    "    return weighted_score\n",
    "\n",
    "\n",
    "# Create Optuna study and optimize\n",
    "study = optuna.create_study(direction='maximize')\n",
    "\n",
    "start = datetime.now()\n",
    "study.optimize(objective, n_trials=20, n_jobs=-1)\n",
    "tuning_time = datetime.now() - start"
   ],
   "metadata": {
    "collapsed": false
   }
  },
  {
   "cell_type": "markdown",
   "metadata": {
    "collapsed": false
   },
   "source": [
    "# S1 (RF+NBC) + SVM"
   ]
  },
  {
   "cell_type": "markdown",
   "source": [
    "rf_params = {\n",
    "    'n_estimators': optuna.distributions.IntDistribution(50, 500),\n",
    "    'max_depth': optuna.distributions.IntDistribution(2, 32),\n",
    "    'min_samples_split': optuna.distributions.IntDistribution(2, 20),\n",
    "    'min_samples_leaf': optuna.distributions.IntDistribution(1, 10)\n",
    "}\n",
    "\n",
    "svm_params = {\n",
    "    'C': optuna.distributions.FloatDistribution(0.1, 10),\n",
    "    'kernel': optuna.distributions.CategoricalDistribution(['linear', 'poly', 'rbf', 'sigmoid']),\n",
    "    'gamma': optuna.distributions.FloatDistribution(1e-6, 1e-2)\n",
    "}\n",
    "\n",
    "nbc_params = {\n",
    "    'var_smoothing': optuna.distributions.FloatDistribution(1e-10, 1e-1)\n",
    "}\n",
    "\n",
    "def objective(trial):\n",
    "    # Define hyperparameters for Random Forest\n",
    "    rf_hyperparams = {\n",
    "        'n_estimators': trial.suggest_int('rf_n_estimators', 10, 70),\n",
    "        'max_depth': trial.suggest_int('rf_max_depth', 2, 32),\n",
    "        'min_samples_split': trial.suggest_int('rf_min_samples_split', 2, 20),\n",
    "        'min_samples_leaf': trial.suggest_int('rf_min_samples_leaf', 1, 10)\n",
    "    }\n",
    "    \n",
    "    # Define hyperparameters for SVM\n",
    "    svm_hyperparams = {\n",
    "        'C': trial.suggest_float('svm_C', 0.1, 10),\n",
    "        'kernel': trial.suggest_categorical('svm_kernel', ['linear', 'poly', 'rbf', 'sigmoid']),\n",
    "        'gamma': trial.suggest_float('svm_gamma', 1e-6, 1e-2)\n",
    "    }\n",
    "    \n",
    "    \"\"\"\n",
    "    # Define hyperparameters for SVM\n",
    "    svm_hyperparams = {\n",
    "        'C': trial.suggest_float('svm_C', 0.1, 0.1),\n",
    "        'kernel': trial.suggest_categorical('svm_kernel', ['rbf']),\n",
    "        'gamma': trial.suggest_float('svm_gamma', 0.01, 0.01)\n",
    "    }\n",
    "    \"\"\"\n",
    "    \n",
    "    # Define hyperparameters for GaussianNB\n",
    "    gnb_hyperparams = {\n",
    "        'var_smoothing': trial.suggest_float('gnb_var_smoothing', 1e-10, 1e-1, log=True)\n",
    "    }\n",
    "    \n",
    "    # Initialize the rf\n",
    "    rf_classifier = RandomForestClassifier(**rf_hyperparams)\n",
    "    \n",
    "    # Initialize the nbc\n",
    "    nbc_classifier = GaussianNB(**gnb_hyperparams)\n",
    "    \n",
    "    # Initialize and train voting classifier\n",
    "    voting_classifier = VotingClassifier(\n",
    "        estimators=[(\"rf\", rf_classifier), (\"nbc\", nbc_classifier)] ,\n",
    "        voting='soft'\n",
    "    )\n",
    "    voting_classifier.fit(X_train_dos_probe, y_train_l1)\n",
    "    \n",
    "    # Initialize and train SVM classifier\n",
    "    svm_classifier = SVC(**svm_hyperparams)\n",
    "    svm_classifier.fit(X_train_r2l_u2r, y_train_l2)\n",
    "    \n",
    "    # Predict on validation set and calculate metrics for both classifiers\n",
    "    voting_predicted = voting_classifier.predict(X_validate_dos_probe)\n",
    "    svm_predicted = svm_classifier.predict(X_validate_r2l_u2r)\n",
    "    \n",
    "    voting_precision = precision_score(y_validate_l1, voting_predicted)\n",
    "    svm_precision = precision_score(y_validate_l2, svm_predicted)\n",
    "    \n",
    "    voting_recall = recall_score(y_validate_l1, voting_predicted)\n",
    "    svm_recall = recall_score(y_validate_l2, svm_predicted)\n",
    "    \n",
    "    # Calculate weighted average of TPR and Precision (you can adjust weights based on preference)\n",
    "    weighted_score = (0.5 * (voting_recall + svm_recall)) + (0.5 * (voting_precision + svm_precision))\n",
    "    \n",
    "    return weighted_score\n",
    "\n",
    "\n",
    "# Create Optuna study and optimize\n",
    "study = optuna.create_study(direction='maximize')\n",
    "\n",
    "start = datetime.now()\n",
    "study.optimize(objective, n_trials=20, n_jobs=-1)\n",
    "tuning_time = datetime.now() - start"
   ],
   "metadata": {
    "collapsed": false
   }
  },
  {
   "cell_type": "markdown",
   "metadata": {
    "collapsed": false
   },
   "source": [
    "# S1 (HGBC+NBC) + SVM"
   ]
  },
  {
   "cell_type": "markdown",
   "source": [
    "hgb_params = {\n",
    "    'learning_rate': optuna.distributions.FloatDistribution(0.001, 0.1),\n",
    "    'max_iter': optuna.distributions.IntDistribution(50, 500),\n",
    "    'max_depth': optuna.distributions.IntDistribution(2, 32),\n",
    "    'min_samples_leaf': optuna.distributions.IntDistribution(1, 10)\n",
    "}\n",
    "\n",
    "svm_params = {\n",
    "    'C': optuna.distributions.FloatDistribution(0.1, 10),\n",
    "    'kernel': optuna.distributions.CategoricalDistribution(['linear', 'poly', 'rbf', 'sigmoid']),\n",
    "    'gamma': optuna.distributions.FloatDistribution(1e-6, 1e-2)\n",
    "}\n",
    "\n",
    "nbc_params = {\n",
    "    'var_smoothing': optuna.distributions.FloatDistribution(1e-10, 1e-1)\n",
    "}\n",
    "\n",
    "def objective(trial):\n",
    "    # Define hyperparameters for HistGradientBoostingClassifier\n",
    "    hgb_hyperparams = {\n",
    "        'learning_rate': trial.suggest_float('hgb_learning_rate', 0.001, 0.1, log=True),\n",
    "        'max_iter': trial.suggest_int('hgb_max_iter', 50, 500),\n",
    "        'max_depth': trial.suggest_int('hgb_max_depth', 2, 32),\n",
    "        'min_samples_leaf': trial.suggest_int('hgb_min_samples_leaf', 1, 10)\n",
    "    }\n",
    "    \n",
    "    \n",
    "    # Define hyperparameters for SVM\n",
    "    svm_hyperparams = {\n",
    "        'C': trial.suggest_float('svm_C', 0.1, 10),\n",
    "        'kernel': trial.suggest_categorical('svm_kernel', ['linear', 'poly', 'rbf', 'sigmoid']),\n",
    "        'gamma': trial.suggest_float('svm_gamma', 1e-6, 1e-2)\n",
    "    }\n",
    "    \"\"\"\n",
    "    \n",
    "    # Define hyperparameters for SVM\n",
    "    svm_hyperparams = {\n",
    "        'C': trial.suggest_float('svm_C', 0.1, 0.1),\n",
    "        'kernel': trial.suggest_categorical('svm_kernel', ['rbf']),\n",
    "        'gamma': trial.suggest_float('svm_gamma', 0.01, 0.01)\n",
    "    }\n",
    "    \"\"\"\n",
    "    \n",
    "    # Define hyperparameters for GaussianNB\n",
    "    gnb_hyperparams = {\n",
    "        'var_smoothing': trial.suggest_float('gnb_var_smoothing', 1e-10, 1e-1, log=True)\n",
    "    }\n",
    "    \n",
    "    # Initialize the hgbc\n",
    "    hgbc_classifier = HistGradientBoostingClassifier(**hgb_hyperparams)\n",
    "    \n",
    "    # Initialize the nbc\n",
    "    nbc_classifier = GaussianNB(**gnb_hyperparams)\n",
    "    \n",
    "    # Initialize and train voting classifier\n",
    "    voting_classifier = VotingClassifier(\n",
    "        estimators=[(\"hgbc\", hgbc_classifier), (\"nbc\", nbc_classifier)] ,\n",
    "        voting='soft'\n",
    "    )\n",
    "    voting_classifier.fit(X_train_dos_probe, y_train_l1)\n",
    "    \n",
    "    # Initialize and train SVM classifier\n",
    "    svm_classifier = SVC(**svm_hyperparams)\n",
    "    svm_classifier.fit(X_train_r2l_u2r, y_train_l2)\n",
    "    \n",
    "    # Predict on validation set and calculate metrics for both classifiers\n",
    "    voting_predicted = voting_classifier.predict(X_validate_dos_probe)\n",
    "    svm_predicted = svm_classifier.predict(X_validate_r2l_u2r)\n",
    "    \n",
    "    voting_precision = precision_score(y_validate_l1, voting_predicted)\n",
    "    svm_precision = precision_score(y_validate_l2, svm_predicted)\n",
    "    \n",
    "    voting_recall = recall_score(y_validate_l1, voting_predicted)\n",
    "    svm_recall = recall_score(y_validate_l2, svm_predicted)\n",
    "    \n",
    "    # Calculate weighted average of TPR and Precision (you can adjust weights based on preference)\n",
    "    weighted_score = (0.5 * (voting_recall + svm_recall)) + (0.5 * (voting_precision + svm_precision))\n",
    "    \n",
    "    return weighted_score\n",
    "\n",
    "\n",
    "# Create Optuna study and optimize\n",
    "study = optuna.create_study(direction='maximize')\n",
    "\n",
    "start = datetime.now()\n",
    "study.optimize(objective, n_trials=20, n_jobs=-1)\n",
    "tuning_time = datetime.now() - start"
   ],
   "metadata": {
    "collapsed": false
   }
  },
  {
   "cell_type": "markdown",
   "metadata": {
    "collapsed": false
   },
   "source": [
    "# S1 HGBC + SVM"
   ]
  },
  {
   "cell_type": "markdown",
   "source": [
    "from sklearn.ensemble import HistGradientBoostingClassifier\n",
    "\n",
    "hgb_params = {\n",
    "    'learning_rate': optuna.distributions.FloatDistribution(0.001, 0.1),\n",
    "    'max_iter': optuna.distributions.IntDistribution(50, 500),\n",
    "    'max_depth': optuna.distributions.IntDistribution(2, 32),\n",
    "    'min_samples_leaf': optuna.distributions.IntDistribution(1, 10)\n",
    "}\n",
    "\n",
    "svm_params = {\n",
    "    'C': optuna.distributions.FloatDistribution(0.1, 10),\n",
    "    'kernel': optuna.distributions.CategoricalDistribution(['linear', 'poly', 'rbf', 'sigmoid']),\n",
    "    'gamma': optuna.distributions.FloatDistribution(1e-6, 1e-2)\n",
    "}\n",
    "\n",
    "def objective(trial):\n",
    "    # Define hyperparameters for HistGradientBoostingClassifier\n",
    "    hgb_hyperparams = {\n",
    "        'learning_rate': trial.suggest_float('hgb_learning_rate', 0.001, 0.1, log=True),\n",
    "        'max_iter': trial.suggest_int('hgb_max_iter', 50, 500),\n",
    "        'max_depth': trial.suggest_int('hgb_max_depth', 2, 32),\n",
    "        'min_samples_leaf': trial.suggest_int('hgb_min_samples_leaf', 1, 10)\n",
    "    }\n",
    "\n",
    "    # Define hyperparameters for SVM\n",
    "    svm_hyperparams = {\n",
    "        'C': trial.suggest_float('svm_C', 0.1, 10),\n",
    "        'kernel': trial.suggest_categorical('svm_kernel', ['linear', 'poly', 'rbf', 'sigmoid']),\n",
    "        'gamma': trial.suggest_float('svm_gamma', 1e-6, 1e-2)\n",
    "    }\n",
    "    \n",
    "    \"\"\"\n",
    "    # Define hyperparameters for SVM\n",
    "    svm_hyperparams = {\n",
    "        'C': trial.suggest_float('svm_C', 0.1, 0.1),\n",
    "        'kernel': trial.suggest_categorical('svm_kernel', ['rbf']),\n",
    "        'gamma': trial.suggest_float('svm_gamma', 0.01, 0.01)\n",
    "    }\n",
    "    \"\"\"\n",
    "    \n",
    "    # Initialize and train HistGradientBoostingClassifier\n",
    "    hgb_classifier = HistGradientBoostingClassifier(**hgb_hyperparams)\n",
    "    hgb_classifier.fit(X_train_dos_probe, y_train_l1)\n",
    "    \n",
    "    # Initialize and train SVM classifier\n",
    "    svm_classifier = SVC(**svm_hyperparams)\n",
    "    svm_classifier.fit(X_train_r2l_u2r, y_train_l2)\n",
    "    \n",
    "    # Predict on validation set and calculate metrics for both classifiers\n",
    "    hgb_predicted = hgb_classifier.predict(X_validate_dos_probe)\n",
    "    svm_predicted = svm_classifier.predict(X_validate_r2l_u2r)\n",
    "    \n",
    "    hgb_precision = precision_score(y_validate_l1, hgb_predicted)\n",
    "    svm_precision = precision_score(y_validate_l2, svm_predicted)\n",
    "    \n",
    "    hgb_recall = recall_score(y_validate_l1, hgb_predicted)\n",
    "    svm_recall = recall_score(y_validate_l2, svm_predicted)\n",
    "    \n",
    "    # Calculate weighted average of TPR and Precision (you can adjust weights based on preference)\n",
    "    weighted_score = (0.5 * (hgb_recall + svm_recall)) + (0.5 * (hgb_precision + svm_precision))\n",
    "    \n",
    "    return weighted_score\n",
    "\n",
    "\n",
    "# Create Optuna study and optimize\n",
    "study = optuna.create_study(direction='maximize')\n",
    "\n",
    "start = datetime.now()\n",
    "study.optimize(objective, n_trials=20, n_jobs=-1)\n",
    "tuning_time = datetime.now() - start"
   ],
   "metadata": {
    "collapsed": false
   }
  },
  {
   "cell_type": "markdown",
   "metadata": {
    "collapsed": false
   },
   "source": [
    "# S2 (RF+NBC) + SVM"
   ]
  },
  {
   "cell_type": "markdown",
   "source": [
    "hgb_params = {\n",
    "    'learning_rate': optuna.distributions.FloatDistribution(0.001, 0.1),\n",
    "    'max_iter': optuna.distributions.IntDistribution(50, 500),\n",
    "    'max_depth': optuna.distributions.IntDistribution(2, 32),\n",
    "    'min_samples_leaf': optuna.distributions.IntDistribution(1, 10)\n",
    "}\n",
    "\n",
    "svm_params = {\n",
    "    'C': optuna.distributions.FloatDistribution(0.1, 10),\n",
    "    'kernel': optuna.distributions.CategoricalDistribution(['linear', 'poly', 'rbf', 'sigmoid']),\n",
    "    'gamma': optuna.distributions.FloatDistribution(1e-6, 1e-2)\n",
    "}\n",
    "\n",
    "nbc_params = {\n",
    "    'var_smoothing': optuna.distributions.FloatDistribution(1e-10, 1e-1)\n",
    "}\n",
    "\n",
    "def objective(trial):\n",
    "    # Define hyperparameters for Random Forest\n",
    "    rf_hyperparams = {\n",
    "        'n_estimators': trial.suggest_int('rf_n_estimators', 10, 70),\n",
    "        'max_depth': trial.suggest_int('rf_max_depth', 2, 32),\n",
    "        'min_samples_split': trial.suggest_int('rf_min_samples_split', 2, 20),\n",
    "        'min_samples_leaf': trial.suggest_int('rf_min_samples_leaf', 1, 10)\n",
    "    }\n",
    "    \n",
    "    \n",
    "    # Define hyperparameters for SVM\n",
    "    svm_hyperparams = {\n",
    "        'C': trial.suggest_float('svm_C', 0.1, 10),\n",
    "        'kernel': trial.suggest_categorical('svm_kernel', ['linear', 'poly', 'rbf', 'sigmoid']),\n",
    "        'gamma': trial.suggest_float('svm_gamma', 1e-6, 1e-2)\n",
    "    }\n",
    "    \"\"\"\n",
    "    \n",
    "    # Define hyperparameters for SVM\n",
    "    svm_hyperparams = {\n",
    "        'C': trial.suggest_float('svm_C', 0.1, 0.1),\n",
    "        'kernel': trial.suggest_categorical('svm_kernel', ['rbf']),\n",
    "        'gamma': trial.suggest_float('svm_gamma', 0.01, 0.01)\n",
    "    }\n",
    "    \"\"\"\n",
    "    \n",
    "    # Define hyperparameters for GaussianNB\n",
    "    gnb_hyperparams = {\n",
    "        'var_smoothing': trial.suggest_float('gnb_var_smoothing', 1e-10, 1e-1, log=True)\n",
    "    }\n",
    "    \n",
    "    # Initialize the rf\n",
    "    rf_classifier = RandomForestClassifier(**rf_hyperparams)\n",
    "    \n",
    "    # Initialize the nbc\n",
    "    nbc_classifier = GaussianNB(**gnb_hyperparams)\n",
    "    \n",
    "    # Initialize and train voting classifier\n",
    "    voting_classifier = VotingClassifier(\n",
    "        estimators=[(\"rf\", rf_classifier), (\"nbc\", nbc_classifier)] ,\n",
    "        voting='soft'\n",
    "    )\n",
    "    voting_classifier.fit(X_train_dos_probe, y_train_l1)\n",
    "    \n",
    "    # Initialize and train SVM classifier\n",
    "    svm_classifier = SVC(**svm_hyperparams)\n",
    "    svm_classifier.fit(X_train_r2l_u2r, y_train_l2)\n",
    "    \n",
    "    # Predict on validation set and calculate metrics for both classifiers\n",
    "    voting_predicted = voting_classifier.predict(X_validate_dos_probe)\n",
    "    svm_predicted = svm_classifier.predict(X_validate_r2l_u2r)\n",
    "    \n",
    "    # Calculate confusion matrices for both classifiers\n",
    "    voting_cm = confusion_matrix(y_validate_l1, voting_predicted)\n",
    "    svm_cm = confusion_matrix(y_validate_l2, svm_predicted)\n",
    "    \n",
    "    # Calculate False Positive Rates for both classifiers\n",
    "    voting_fpr = voting_cm[0, 1] / np.sum(voting_cm[0, :])\n",
    "    svm_fpr = svm_cm[0, 1] / np.sum(svm_cm[0, :])\n",
    "    \n",
    "    # Calculate the average FPR\n",
    "    avg_fpr = (voting_fpr + svm_fpr) / 2\n",
    "    \n",
    "    return avg_fpr\n",
    "\n",
    "\n",
    "# Create Optuna study and optimize\n",
    "study = optuna.create_study(direction='minimize')\n",
    "\n",
    "start = datetime.now()\n",
    "study.optimize(objective, n_trials=20, n_jobs=-1)\n",
    "tuning_time = datetime.now() - start"
   ],
   "metadata": {
    "collapsed": false
   }
  },
  {
   "cell_type": "markdown",
   "metadata": {
    "collapsed": false
   },
   "source": [
    "# S2 (HGBC+NBC) + SVM"
   ]
  },
  {
   "cell_type": "markdown",
   "source": [
    "hgb_params = {\n",
    "    'learning_rate': optuna.distributions.FloatDistribution(0.001, 0.1),\n",
    "    'max_iter': optuna.distributions.IntDistribution(50, 500),\n",
    "    'max_depth': optuna.distributions.IntDistribution(2, 32),\n",
    "    'min_samples_leaf': optuna.distributions.IntDistribution(1, 10)\n",
    "}\n",
    "\n",
    "svm_params = {\n",
    "    'C': optuna.distributions.FloatDistribution(0.1, 10),\n",
    "    'kernel': optuna.distributions.CategoricalDistribution(['linear', 'poly', 'rbf', 'sigmoid']),\n",
    "    'gamma': optuna.distributions.FloatDistribution(1e-6, 1e-2)\n",
    "}\n",
    "\n",
    "def objective(trial):\n",
    "    # Define hyperparameters for HistGradientBoostingClassifier\n",
    "    hgb_hyperparams = {\n",
    "        'learning_rate': trial.suggest_float('hgb_learning_rate', 0.001, 0.1, log=True),\n",
    "        'max_iter': trial.suggest_int('hgb_max_iter', 50, 500),\n",
    "        'max_depth': trial.suggest_int('hgb_max_depth', 2, 32),\n",
    "        'min_samples_leaf': trial.suggest_int('hgb_min_samples_leaf', 1, 10)\n",
    "    }\n",
    "    \n",
    "    \n",
    "    # Define hyperparameters for SVM\n",
    "    svm_hyperparams = {\n",
    "        'C': trial.suggest_float('svm_C', 0.1, 10),\n",
    "        'kernel': trial.suggest_categorical('svm_kernel', ['linear', 'poly', 'rbf', 'sigmoid']),\n",
    "        'gamma': trial.suggest_float('svm_gamma', 1e-6, 1e-2)\n",
    "    }\n",
    "    \"\"\"\n",
    "    \n",
    "    # Define hyperparameters for SVM\n",
    "    svm_hyperparams = {\n",
    "        'C': trial.suggest_float('svm_C', 0.1, 0.1),\n",
    "        'kernel': trial.suggest_categorical('svm_kernel', ['rbf']),\n",
    "        'gamma': trial.suggest_float('svm_gamma', 0.01, 0.01)\n",
    "    }\n",
    "    \"\"\"\n",
    "    \n",
    "    # Define hyperparameters for GaussianNB\n",
    "    gnb_hyperparams = {\n",
    "        'var_smoothing': trial.suggest_float('gnb_var_smoothing', 1e-10, 1e-1, log=True)\n",
    "    }\n",
    "    \n",
    "    # Initialize the rf\n",
    "    hgb_classifier = HistGradientBoostingClassifier(**hgb_hyperparams)\n",
    "    \n",
    "    # Initialize the nbc\n",
    "    nbc_classifier = GaussianNB(**gnb_hyperparams)\n",
    "    \n",
    "    # Initialize and train voting classifier\n",
    "    voting_classifier = VotingClassifier(\n",
    "        estimators=[(\"hgbc\", hgb_classifier), (\"nbc\", nbc_classifier)] ,\n",
    "        voting='soft'\n",
    "    )\n",
    "    voting_classifier.fit(X_train_dos_probe, y_train_l1)\n",
    "    \n",
    "    # Initialize and train SVM classifier\n",
    "    svm_classifier = SVC(**svm_hyperparams)\n",
    "    svm_classifier.fit(X_train_r2l_u2r, y_train_l2)\n",
    "    \n",
    "    # Predict on validation set and calculate metrics for both classifiers\n",
    "    voting_predicted = voting_classifier.predict(X_validate_dos_probe)\n",
    "    svm_predicted = svm_classifier.predict(X_validate_r2l_u2r)\n",
    "    \n",
    "    # Calculate confusion matrices for both classifiers\n",
    "    voting_cm = confusion_matrix(y_validate_l1, voting_predicted)\n",
    "    svm_cm = confusion_matrix(y_validate_l2, svm_predicted)\n",
    "    \n",
    "    # Calculate False Positive Rates for both classifiers\n",
    "    voting_fpr = voting_cm[0, 1] / np.sum(voting_cm[0, :])\n",
    "    svm_fpr = svm_cm[0, 1] / np.sum(svm_cm[0, :])\n",
    "    \n",
    "    # Calculate the average FPR\n",
    "    avg_fpr = (voting_fpr + svm_fpr) / 2\n",
    "    \n",
    "    return avg_fpr\n",
    "\n",
    "\n",
    "# Create Optuna study and optimize\n",
    "study = optuna.create_study(direction='minimize')\n",
    "\n",
    "start = datetime.now()\n",
    "study.optimize(objective, n_trials=20, n_jobs=-1)\n",
    "tuning_time = datetime.now() - start"
   ],
   "metadata": {
    "collapsed": false
   }
  },
  {
   "cell_type": "markdown",
   "metadata": {
    "collapsed": false
   },
   "source": [
    "# S2 HGBC + SVM"
   ]
  },
  {
   "cell_type": "markdown",
   "source": [
    "hgb_params = {\n",
    "    'learning_rate': optuna.distributions.FloatDistribution(0.001, 0.1),\n",
    "    'max_iter': optuna.distributions.IntDistribution(50, 500),\n",
    "    'max_depth': optuna.distributions.IntDistribution(2, 32),\n",
    "    'min_samples_leaf': optuna.distributions.IntDistribution(1, 10)\n",
    "}\n",
    "\n",
    "svm_params = {\n",
    "    'C': optuna.distributions.FloatDistribution(0.1, 10),\n",
    "    'kernel': optuna.distributions.CategoricalDistribution(['linear', 'poly', 'rbf', 'sigmoid']),\n",
    "    'gamma': optuna.distributions.FloatDistribution(1e-6, 1e-2)\n",
    "}\n",
    "\n",
    "def objective(trial):\n",
    "    # Define hyperparameters for HistGradientBoostingClassifier\n",
    "    hgb_hyperparams = {\n",
    "        'learning_rate': trial.suggest_float('hgb_learning_rate', 0.001, 0.1, log=True),\n",
    "        'max_iter': trial.suggest_int('hgb_max_iter', 50, 500),\n",
    "        'max_depth': trial.suggest_int('hgb_max_depth', 2, 32),\n",
    "        'min_samples_leaf': trial.suggest_int('hgb_min_samples_leaf', 1, 10)\n",
    "    }\n",
    "    \n",
    "    \n",
    "    # Define hyperparameters for SVM\n",
    "    svm_hyperparams = {\n",
    "        'C': trial.suggest_float('svm_C', 0.1, 10),\n",
    "        'kernel': trial.suggest_categorical('svm_kernel', ['linear', 'poly', 'rbf', 'sigmoid']),\n",
    "        'gamma': trial.suggest_float('svm_gamma', 1e-6, 1e-2)\n",
    "    }\n",
    "    \"\"\"\n",
    "    \n",
    "    # Define hyperparameters for SVM\n",
    "    svm_hyperparams = {\n",
    "        'C': trial.suggest_float('svm_C', 0.1, 0.1),\n",
    "        'kernel': trial.suggest_categorical('svm_kernel', ['rbf']),\n",
    "        'gamma': trial.suggest_float('svm_gamma', 0.01, 0.01)\n",
    "    }\n",
    "    \"\"\"\n",
    "    \n",
    "    # Define hyperparameters for GaussianNB\n",
    "    gnb_hyperparams = {\n",
    "        'var_smoothing': trial.suggest_float('gnb_var_smoothing', 1e-10, 1e-1, log=True)\n",
    "    }\n",
    "    \n",
    "    # Initialize the rf\n",
    "    hgb_classifier = HistGradientBoostingClassifier(**hgb_hyperparams)\n",
    "    hgb_classifier.fit(X_train_dos_probe, y_train_l1)\n",
    "    \n",
    "    # Initialize and train SVM classifier\n",
    "    svm_classifier = SVC(**svm_hyperparams)\n",
    "    svm_classifier.fit(X_train_r2l_u2r, y_train_l2)\n",
    "    \n",
    "    # Predict on validation set and calculate metrics for both classifiers\n",
    "    hgb_predicted = hgb_classifier.predict(X_validate_dos_probe)\n",
    "    svm_predicted = svm_classifier.predict(X_validate_r2l_u2r)\n",
    "    \n",
    "    # Calculate confusion matrices for both classifiers\n",
    "    hgb_cm = confusion_matrix(y_validate_l1, hgb_predicted)\n",
    "    svm_cm = confusion_matrix(y_validate_l2, svm_predicted)\n",
    "    \n",
    "    # Calculate False Positive Rates for both classifiers\n",
    "    voting_fpr = hgb_cm[0, 1] / np.sum(hgb_cm[0, :])\n",
    "    svm_fpr = svm_cm[0, 1] / np.sum(svm_cm[0, :])\n",
    "    \n",
    "    # Calculate the average FPR\n",
    "    avg_fpr = (voting_fpr + svm_fpr) / 2\n",
    "    \n",
    "    return avg_fpr\n",
    "    \n",
    "\n",
    "# Create Optuna study and optimize\n",
    "study = optuna.create_study(direction='minimize')\n",
    "\n",
    "start = datetime.now()\n",
    "study.optimize(objective, n_trials=20, n_jobs=-1)\n",
    "tuning_time = datetime.now() - start"
   ],
   "metadata": {
    "collapsed": false
   }
  },
  {
   "cell_type": "markdown",
   "metadata": {
    "collapsed": false
   },
   "source": [
    "# S2 RF + SVM"
   ]
  },
  {
   "cell_type": "markdown",
   "source": [
    "rf_params = {\n",
    "    'n_estimators': optuna.distributions.IntDistribution(50, 500),\n",
    "    'max_depth': optuna.distributions.IntDistribution(2, 32),\n",
    "    'min_samples_split': optuna.distributions.IntDistribution(2, 20),\n",
    "    'min_samples_leaf': optuna.distributions.IntDistribution(1, 10)\n",
    "}\n",
    "\n",
    "svm_params = {\n",
    "    'C': optuna.distributions.FloatDistribution(0.1, 10),\n",
    "    'kernel': optuna.distributions.CategoricalDistribution(['linear', 'poly', 'rbf', 'sigmoid']),\n",
    "    'gamma': optuna.distributions.FloatDistribution(1e-6, 1e-2)\n",
    "}\n",
    "\n",
    "nbc_params = {\n",
    "    'var_smoothing': optuna.distributions.FloatDistribution(1e-10, 1e-1)\n",
    "}\n",
    "\n",
    "def objective(trial):\n",
    "    # Define hyperparameters for Random Forest\n",
    "    rf_hyperparams = {\n",
    "        'n_estimators': trial.suggest_int('rf_n_estimators', 10, 70),\n",
    "        'max_depth': trial.suggest_int('rf_max_depth', 2, 32),\n",
    "        'min_samples_split': trial.suggest_int('rf_min_samples_split', 2, 20),\n",
    "        'min_samples_leaf': trial.suggest_int('rf_min_samples_leaf', 1, 10)\n",
    "    }\n",
    "    \n",
    "    \n",
    "    # Define hyperparameters for SVM\n",
    "    svm_hyperparams = {\n",
    "        'C': trial.suggest_float('svm_C', 0.1, 10),\n",
    "        'kernel': trial.suggest_categorical('svm_kernel', ['linear', 'poly', 'rbf', 'sigmoid']),\n",
    "        'gamma': trial.suggest_float('svm_gamma', 1e-6, 1e-2)\n",
    "    }\n",
    "    \"\"\"\n",
    "    \n",
    "    # Define hyperparameters for SVM\n",
    "    svm_hyperparams = {\n",
    "        'C': trial.suggest_float('svm_C', 0.1, 0.1),\n",
    "        'kernel': trial.suggest_categorical('svm_kernel', ['rbf']),\n",
    "        'gamma': trial.suggest_float('svm_gamma', 0.01, 0.01)\n",
    "    }\n",
    "    \"\"\"\n",
    "    \n",
    "    # Initialize and train HistGradientBoostingClassifier\n",
    "    rf_classifier = RandomForestClassifier(**rf_hyperparams)\n",
    "    rf_classifier.fit(X_train_dos_probe, y_train_l1)\n",
    "    \n",
    "    # Initialize and train SVM classifier\n",
    "    svm_classifier = SVC(**svm_hyperparams)\n",
    "    svm_classifier.fit(X_train_r2l_u2r, y_train_l2)\n",
    "    \n",
    "    # Predict on validation set and calculate metrics for both classifiers\n",
    "    hgb_predicted = rf_classifier.predict(X_validate_dos_probe)\n",
    "    svm_predicted = svm_classifier.predict(X_validate_r2l_u2r)\n",
    "    \n",
    "    # Calculate confusion matrices for both classifiers\n",
    "    hgb_cm = confusion_matrix(y_validate_l1, hgb_predicted)\n",
    "    svm_cm = confusion_matrix(y_validate_l2, svm_predicted)\n",
    "    \n",
    "    # Calculate False Positive Rates for both classifiers\n",
    "    rf_fpr = hgb_cm[0, 1] / np.sum(hgb_cm[0, :])\n",
    "    svm_fpr = svm_cm[0, 1] / np.sum(svm_cm[0, :])\n",
    "    \n",
    "    # Calculate the average FPR\n",
    "    avg_fpr = (rf_fpr + svm_fpr) / 2\n",
    "    \n",
    "    return avg_fpr\n",
    "    \n",
    "\n",
    "# Create Optuna study and optimize\n",
    "study = optuna.create_study(direction='minimize')\n",
    "\n",
    "start = datetime.now()\n",
    "study.optimize(objective, n_trials=20, n_jobs=-1)\n",
    "tuning_time = datetime.now() - start"
   ],
   "metadata": {
    "collapsed": false
   }
  },
  {
   "cell_type": "markdown",
   "metadata": {
    "collapsed": false
   },
   "source": [
    "# S3 RF + SVM"
   ]
  },
  {
   "cell_type": "markdown",
   "source": [
    "import optuna\n",
    "\n",
    "rf_params = {\n",
    "    'n_estimators': optuna.distributions.IntDistribution(50, 500),\n",
    "    'max_depth': optuna.distributions.IntDistribution(2, 32),\n",
    "    'min_samples_split': optuna.distributions.IntDistribution(2, 20),\n",
    "    'min_samples_leaf': optuna.distributions.IntDistribution(1, 10)\n",
    "}\n",
    "\n",
    "svm_params = {\n",
    "    'C': optuna.distributions.FloatDistribution(0.1, 10),\n",
    "    'kernel': optuna.distributions.CategoricalDistribution(['linear', 'poly', 'rbf', 'sigmoid']),\n",
    "    'gamma': optuna.distributions.FloatDistribution(1e-6, 1e-2)\n",
    "}\n",
    "\n",
    "def objective(trial):\n",
    "    # Define hyperparameters for Random Forest\n",
    "    rf_hyperparams = {\n",
    "        'n_estimators': trial.suggest_int('rf_n_estimators', 10, 70),\n",
    "        'max_depth': trial.suggest_int('rf_max_depth', 2, 32),\n",
    "        'min_samples_split': trial.suggest_int('rf_min_samples_split', 2, 20),\n",
    "        'min_samples_leaf': trial.suggest_int('rf_min_samples_leaf', 1, 10)\n",
    "    }\n",
    "    \n",
    "    \n",
    "    # Define hyperparameters for SVM\n",
    "    svm_hyperparams = {\n",
    "        'C': trial.suggest_float('svm_C', 0.1, 10),\n",
    "        'kernel': trial.suggest_categorical('svm_kernel', ['linear', 'poly', 'rbf', 'sigmoid']),\n",
    "        'gamma': trial.suggest_float('svm_gamma', 1e-6, 1e-2)\n",
    "    }\n",
    "    \"\"\"\n",
    "    \n",
    "    # Define hyperparameters for SVM\n",
    "    svm_hyperparams = {\n",
    "        'C': trial.suggest_float('svm_C', 0.1, 0.1),\n",
    "        'kernel': trial.suggest_categorical('svm_kernel', ['rbf']),\n",
    "        'gamma': trial.suggest_float('svm_gamma', 0.01, 0.01)\n",
    "    }\n",
    "    \"\"\"\n",
    "    \n",
    "    # Initialize and train Random Forest classifier\n",
    "    rf_classifier = RandomForestClassifier(**rf_hyperparams)\n",
    "    rf_classifier.fit(X_train_dos_probe, y_train_l1)\n",
    "    \n",
    "    # Initialize and train SVM classifier\n",
    "    svm_classifier = SVC(**svm_hyperparams)\n",
    "    svm_classifier.fit(X_train_r2l_u2r, y_train_l2)\n",
    "    \n",
    "    # Predict on validation set and calculate metrics for both classifiers\n",
    "    rf_predicted = rf_classifier.predict(X_validate_dos_probe)\n",
    "    svm_predicted = svm_classifier.predict(X_validate_r2l_u2r)\n",
    "    \n",
    "    # Calculate confusion matrices for both classifiers\n",
    "    rf_cm = confusion_matrix(y_validate_l1, rf_predicted)\n",
    "    svm_cm = confusion_matrix(y_validate_l2, svm_predicted)\n",
    "    \n",
    "    # Calculate False Positive Rates (FPR) and True Negative Rates (TNR) for both classifiers\n",
    "    rf_fpr = rf_cm[0, 1] / np.sum(rf_cm[0, :])\n",
    "    rf_tnr = rf_cm[0, 0] / np.sum(rf_cm[0, :])\n",
    "    \n",
    "    svm_fpr = svm_cm[0, 1] / np.sum(svm_cm[0, :])\n",
    "    svm_tnr = svm_cm[0, 0] / np.sum(svm_cm[0, :])\n",
    "    \n",
    "    # Calculate the average FPR and TNR\n",
    "    avg_fpr = (rf_fpr + svm_fpr) / 2\n",
    "    avg_tnr = (rf_tnr + svm_tnr) / 2\n",
    "    \n",
    "    # Aim to optimize both FPR and TNR\n",
    "    return avg_fpr + (1 - avg_tnr)\n",
    "\n",
    "\n",
    "# Create Optuna study and optimize\n",
    "study = optuna.create_study(direction='minimize')\n",
    "\n",
    "start = datetime.now()\n",
    "study.optimize(objective, n_trials=20, n_jobs=-1)\n",
    "tuning_time = datetime.now() - start"
   ],
   "metadata": {
    "collapsed": false
   }
  },
  {
   "cell_type": "markdown",
   "metadata": {
    "collapsed": false
   },
   "source": [
    "# S3 (RF+NBC) + SVM"
   ]
  },
  {
   "cell_type": "markdown",
   "source": [
    "import optuna\n",
    "\n",
    "rf_params = {\n",
    "    'n_estimators': optuna.distributions.IntDistribution(50, 500),\n",
    "    'max_depth': optuna.distributions.IntDistribution(2, 32),\n",
    "    'min_samples_split': optuna.distributions.IntDistribution(2, 20),\n",
    "    'min_samples_leaf': optuna.distributions.IntDistribution(1, 10)\n",
    "}\n",
    "\n",
    "svm_params = {\n",
    "    'C': optuna.distributions.FloatDistribution(0.1, 10),\n",
    "    'kernel': optuna.distributions.CategoricalDistribution(['linear', 'poly', 'rbf', 'sigmoid']),\n",
    "    'gamma': optuna.distributions.FloatDistribution(1e-6, 1e-2)\n",
    "}\n",
    "\n",
    "nbc_params = {\n",
    "    'var_smoothing': optuna.distributions.FloatDistribution(1e-10, 1e-1)\n",
    "}\n",
    "\n",
    "def objective(trial):\n",
    "    # Define hyperparameters for Random Forest\n",
    "    rf_hyperparams = {\n",
    "        'n_estimators': trial.suggest_int('rf_n_estimators', 10, 70),\n",
    "        'max_depth': trial.suggest_int('rf_max_depth', 2, 32),\n",
    "        'min_samples_split': trial.suggest_int('rf_min_samples_split', 2, 20),\n",
    "        'min_samples_leaf': trial.suggest_int('rf_min_samples_leaf', 1, 10)\n",
    "    }\n",
    "    \n",
    "    # Define hyperparameters for GaussianNB\n",
    "    gnb_hyperparams = {\n",
    "        'var_smoothing': trial.suggest_float('gnb_var_smoothing', 1e-10, 1e-1, log=True)\n",
    "    }\n",
    "    \n",
    "    \n",
    "    # Define hyperparameters for SVM\n",
    "    svm_hyperparams = {\n",
    "        'C': trial.suggest_float('svm_C', 0.1, 10),\n",
    "        'kernel': trial.suggest_categorical('svm_kernel', ['linear', 'poly', 'rbf', 'sigmoid']),\n",
    "        'gamma': trial.suggest_float('svm_gamma', 1e-6, 1e-2)\n",
    "    }\n",
    "    \"\"\"\n",
    "    \n",
    "    # Define hyperparameters for SVM\n",
    "    svm_hyperparams = {\n",
    "        'C': trial.suggest_float('svm_C', 0.1, 0.1),\n",
    "        'kernel': trial.suggest_categorical('svm_kernel', ['rbf']),\n",
    "        'gamma': trial.suggest_float('svm_gamma', 0.01, 0.01)\n",
    "    }\n",
    "    \"\"\"\n",
    "    \n",
    "    voting_classifier = VotingClassifier(\n",
    "        [(\"rf\", RandomForestClassifier(**rf_hyperparams)), (\"nbc\", GaussianNB(**gnb_hyperparams))],\n",
    "        voting='soft'\n",
    "    )\n",
    "    voting_classifier.fit(X_train_dos_probe, y_train_l1)\n",
    "    \n",
    "    # Initialize and train SVM classifier\n",
    "    svm_classifier = SVC(**svm_hyperparams)\n",
    "    svm_classifier.fit(X_train_r2l_u2r, y_train_l2)\n",
    "    \n",
    "    # Predict on validation set and calculate metrics for both classifiers\n",
    "    voting_predicted = voting_classifier.predict(X_validate_dos_probe)\n",
    "    svm_predicted = svm_classifier.predict(X_validate_r2l_u2r)\n",
    "    \n",
    "    # Calculate confusion matrices for both classifiers\n",
    "    voting_cm = confusion_matrix(y_validate_l1, voting_predicted)\n",
    "    svm_cm = confusion_matrix(y_validate_l2, svm_predicted)\n",
    "    \n",
    "    # Calculate False Positive Rates (FPR) and True Negative Rates (TNR) for both classifiers\n",
    "    rf_fpr = voting_cm[0, 1] / np.sum(voting_cm[0, :])\n",
    "    rf_tnr = voting_cm[0, 0] / np.sum(voting_cm[0, :])\n",
    "    \n",
    "    svm_fpr = svm_cm[0, 1] / np.sum(svm_cm[0, :])\n",
    "    svm_tnr = svm_cm[0, 0] / np.sum(svm_cm[0, :])\n",
    "    \n",
    "    # Calculate the average FPR and TNR\n",
    "    avg_fpr = (rf_fpr + svm_fpr) / 2\n",
    "    avg_tnr = (rf_tnr + svm_tnr) / 2\n",
    "    \n",
    "    # Aim to optimize both FPR and TNR\n",
    "    return avg_fpr + (1 - avg_tnr)\n",
    "\n",
    "\n",
    "# Create Optuna study and optimize\n",
    "study = optuna.create_study(direction='minimize')\n",
    "\n",
    "start = datetime.now()\n",
    "study.optimize(objective, n_trials=20, n_jobs=-1)\n",
    "tuning_time = datetime.now() - start"
   ],
   "metadata": {
    "collapsed": false
   }
  },
  {
   "cell_type": "markdown",
   "metadata": {
    "collapsed": false
   },
   "source": [
    "# S3 (HGBC+NBC) + SVM"
   ]
  },
  {
   "cell_type": "markdown",
   "source": [
    "from sklearn.ensemble import HistGradientBoostingClassifier\n",
    "\n",
    "hgb_params = {\n",
    "    'learning_rate': optuna.distributions.FloatDistribution(0.001, 0.1),\n",
    "    'max_iter': optuna.distributions.IntDistribution(50, 500),\n",
    "    'max_depth': optuna.distributions.IntDistribution(2, 32),\n",
    "    'min_samples_leaf': optuna.distributions.IntDistribution(1, 10)\n",
    "}\n",
    "\n",
    "svm_params = {\n",
    "    'C': optuna.distributions.FloatDistribution(0.1, 10),\n",
    "    'kernel': optuna.distributions.CategoricalDistribution(['linear', 'poly', 'rbf', 'sigmoid']),\n",
    "    'gamma': optuna.distributions.FloatDistribution(1e-6, 1e-2)\n",
    "}\n",
    "\n",
    "nbc_params = {\n",
    "    'var_smoothing': optuna.distributions.FloatDistribution(1e-10, 1e-1)\n",
    "}\n",
    "\n",
    "def objective(trial):\n",
    "    # Define hyperparameters for Random Forest\n",
    "    hgb_hyperparams = {\n",
    "        'learning_rate': trial.suggest_float('hgb_learning_rate', 0.001, 0.1, log=True),\n",
    "        'max_iter': trial.suggest_int('hgb_max_iter', 50, 500),\n",
    "        'max_depth': trial.suggest_int('hgb_max_depth', 2, 32),\n",
    "        'min_samples_leaf': trial.suggest_int('hgb_min_samples_leaf', 1, 10)\n",
    "    }\n",
    "    \n",
    "    # Define hyperparameters for GaussianNB\n",
    "    gnb_hyperparams = {\n",
    "        'var_smoothing': trial.suggest_float('gnb_var_smoothing', 1e-10, 1e-1, log=True)\n",
    "    }\n",
    "    \n",
    "    \n",
    "    # Define hyperparameters for SVM\n",
    "    svm_hyperparams = {\n",
    "        'C': trial.suggest_float('svm_C', 0.1, 10),\n",
    "        'kernel': trial.suggest_categorical('svm_kernel', ['linear', 'poly', 'rbf', 'sigmoid']),\n",
    "        'gamma': trial.suggest_float('svm_gamma', 1e-6, 1e-2)\n",
    "    }\n",
    "    \"\"\"\n",
    "    \n",
    "    # Define hyperparameters for SVM\n",
    "    svm_hyperparams = {\n",
    "        'C': trial.suggest_float('svm_C', 0.1, 0.1),\n",
    "        'kernel': trial.suggest_categorical('svm_kernel', ['rbf']),\n",
    "        'gamma': trial.suggest_float('svm_gamma', 0.01, 0.01)\n",
    "    }\n",
    "    \"\"\"\n",
    "    \n",
    "    voting_classifier = VotingClassifier(\n",
    "        [(\"hgbc\", HistGradientBoostingClassifier(**hgb_hyperparams)), (\"nbc\", GaussianNB(**gnb_hyperparams))],\n",
    "        voting='soft'\n",
    "    )\n",
    "    voting_classifier.fit(X_train_dos_probe, y_train_l1)\n",
    "    \n",
    "    # Initialize and train SVM classifier\n",
    "    svm_classifier = SVC(**svm_hyperparams)\n",
    "    svm_classifier.fit(X_train_r2l_u2r, y_train_l2)\n",
    "    \n",
    "    # Predict on validation set and calculate metrics for both classifiers\n",
    "    voting_predicted = voting_classifier.predict(X_validate_dos_probe)\n",
    "    svm_predicted = svm_classifier.predict(X_validate_r2l_u2r)\n",
    "    \n",
    "    # Calculate confusion matrices for both classifiers\n",
    "    voting_cm = confusion_matrix(y_validate_l1, voting_predicted)\n",
    "    svm_cm = confusion_matrix(y_validate_l2, svm_predicted)\n",
    "    \n",
    "    # Calculate False Positive Rates (FPR) and True Negative Rates (TNR) for both classifiers\n",
    "    rf_fpr = voting_cm[0, 1] / np.sum(voting_cm[0, :])\n",
    "    rf_tnr = voting_cm[0, 0] / np.sum(voting_cm[0, :])\n",
    "    \n",
    "    svm_fpr = svm_cm[0, 1] / np.sum(svm_cm[0, :])\n",
    "    svm_tnr = svm_cm[0, 0] / np.sum(svm_cm[0, :])\n",
    "    \n",
    "    # Calculate the average FPR and TNR\n",
    "    avg_fpr = (rf_fpr + svm_fpr) / 2\n",
    "    avg_tnr = (rf_tnr + svm_tnr) / 2\n",
    "    \n",
    "    # Aim to optimize both FPR and TNR\n",
    "    return avg_fpr + (1 - avg_tnr)\n",
    "\n",
    "\n",
    "# Create Optuna study and optimize\n",
    "study = optuna.create_study(direction='minimize')\n",
    "\n",
    "start = datetime.now()\n",
    "study.optimize(objective, n_trials=20, n_jobs=-1)\n",
    "tuning_time = datetime.now() - start"
   ],
   "metadata": {
    "collapsed": false
   }
  },
  {
   "cell_type": "markdown",
   "metadata": {
    "collapsed": false
   },
   "source": [
    "# S3 HGBC + SVM"
   ]
  },
  {
   "cell_type": "markdown",
   "source": [
    "from sklearn.ensemble import HistGradientBoostingClassifier\n",
    "\n",
    "hgb_params = {\n",
    "    'learning_rate': optuna.distributions.FloatDistribution(0.001, 0.1),\n",
    "    'max_iter': optuna.distributions.IntDistribution(50, 500),\n",
    "    'max_depth': optuna.distributions.IntDistribution(2, 32),\n",
    "    'min_samples_leaf': optuna.distributions.IntDistribution(1, 10)\n",
    "}\n",
    "\n",
    "svm_params = {\n",
    "    'C': optuna.distributions.FloatDistribution(0.1, 10),\n",
    "    'kernel': optuna.distributions.CategoricalDistribution(['linear', 'poly', 'rbf', 'sigmoid']),\n",
    "    'gamma': optuna.distributions.FloatDistribution(1e-6, 1e-2)\n",
    "}\n",
    "\n",
    "def objective(trial):\n",
    "    # Define hyperparameters for Random Forest\n",
    "    hgb_hyperparams = {\n",
    "        'learning_rate': trial.suggest_float('hgb_learning_rate', 0.001, 0.1, log=True),\n",
    "        'max_iter': trial.suggest_int('hgb_max_iter', 50, 500),\n",
    "        'max_depth': trial.suggest_int('hgb_max_depth', 2, 32),\n",
    "        'min_samples_leaf': trial.suggest_int('hgb_min_samples_leaf', 1, 10)\n",
    "    }\n",
    "    \n",
    "   \n",
    "    # Define hyperparameters for SVM\n",
    "    svm_hyperparams = {\n",
    "        'C': trial.suggest_float('svm_C', 0.1, 10),\n",
    "        'kernel': trial.suggest_categorical('svm_kernel', ['linear', 'poly', 'rbf', 'sigmoid']),\n",
    "        'gamma': trial.suggest_float('svm_gamma', 1e-6, 1e-2)\n",
    "    }\n",
    "    \"\"\"\n",
    "    \n",
    "    # Define hyperparameters for SVM\n",
    "    svm_hyperparams = {\n",
    "        'C': trial.suggest_float('svm_C', 0.1, 0.1),\n",
    "        'kernel': trial.suggest_categorical('svm_kernel', ['rbf']),\n",
    "        'gamma': trial.suggest_float('svm_gamma', 0.01, 0.01)\n",
    "    }\n",
    "    \"\"\"\n",
    "    \n",
    "    hgb_classifier = HistGradientBoostingClassifier(**hgb_hyperparams)\n",
    "    hgb_classifier.fit(X_train_dos_probe, y_train_l1)\n",
    "    \n",
    "    # Initialize and train SVM classifier\n",
    "    svm_classifier = SVC(**svm_hyperparams)\n",
    "    svm_classifier.fit(X_train_r2l_u2r, y_train_l2)\n",
    "    \n",
    "    # Predict on validation set and calculate metrics for both classifiers\n",
    "    hgb_predicted = hgb_classifier.predict(X_validate_dos_probe)\n",
    "    svm_predicted = svm_classifier.predict(X_validate_r2l_u2r)\n",
    "    \n",
    "    # Calculate confusion matrices for both classifiers\n",
    "    hgb_cm = confusion_matrix(y_validate_l1, hgb_predicted)\n",
    "    svm_cm = confusion_matrix(y_validate_l2, svm_predicted)\n",
    "    \n",
    "    # Calculate False Positive Rates (FPR) and True Negative Rates (TNR) for both classifiers\n",
    "    rf_fpr = hgb_cm[0, 1] / np.sum(hgb_cm[0, :])\n",
    "    rf_tnr = hgb_cm[0, 0] / np.sum(hgb_cm[0, :])\n",
    "    \n",
    "    svm_fpr = svm_cm[0, 1] / np.sum(svm_cm[0, :])\n",
    "    svm_tnr = svm_cm[0, 0] / np.sum(svm_cm[0, :])\n",
    "    \n",
    "    # Calculate the average FPR and TNR\n",
    "    avg_fpr = (rf_fpr + svm_fpr) / 2\n",
    "    avg_tnr = (rf_tnr + svm_tnr) / 2\n",
    "    \n",
    "    # Aim to optimize both FPR and TNR\n",
    "    return avg_fpr + (1 - avg_tnr)\n",
    "\n",
    "\n",
    "# Create Optuna study and optimize\n",
    "study = optuna.create_study(direction='minimize')\n",
    "\n",
    "start = datetime.now()\n",
    "study.optimize(objective, n_trials=20, n_jobs=-1)\n",
    "tuning_time = datetime.now() - start"
   ],
   "metadata": {
    "collapsed": false
   }
  },
  {
   "cell_type": "markdown",
   "metadata": {
    "collapsed": false
   },
   "source": [
    "# S4 HGBC + SVM"
   ]
  },
  {
   "cell_type": "markdown",
   "source": [
    "from sklearn.ensemble import HistGradientBoostingClassifier\n",
    "\n",
    "hgb_params = {\n",
    "    'learning_rate': optuna.distributions.FloatDistribution(0.001, 0.1),\n",
    "    'max_iter': optuna.distributions.IntDistribution(50, 500),\n",
    "    'max_depth': optuna.distributions.IntDistribution(2, 32),\n",
    "    'min_samples_leaf': optuna.distributions.IntDistribution(1, 10)\n",
    "}\n",
    "\n",
    "svm_params = {\n",
    "    'C': optuna.distributions.FloatDistribution(0.1, 10),\n",
    "    'kernel': optuna.distributions.CategoricalDistribution(['linear', 'poly', 'rbf', 'sigmoid']),\n",
    "    'gamma': optuna.distributions.FloatDistribution(1e-6, 1e-2)\n",
    "}\n",
    "\n",
    "def objective(trial):\n",
    "    # Define hyperparameters for Random Forest\n",
    "    hgb_hyperparams = {\n",
    "        'learning_rate': trial.suggest_float('hgb_learning_rate', 0.001, 0.1, log=True),\n",
    "        'max_iter': trial.suggest_int('hgb_max_iter', 50, 500),\n",
    "        'max_depth': trial.suggest_int('hgb_max_depth', 2, 32),\n",
    "        'min_samples_leaf': trial.suggest_int('hgb_min_samples_leaf', 1, 10)\n",
    "    }\n",
    "    \n",
    "    \n",
    "    # Define hyperparameters for SVM\n",
    "    svm_hyperparams = {\n",
    "        'C': trial.suggest_float('svm_C', 0.1, 10),\n",
    "        'kernel': trial.suggest_categorical('svm_kernel', ['linear', 'poly', 'rbf', 'sigmoid']),\n",
    "        'gamma': trial.suggest_float('svm_gamma', 1e-6, 1e-2)\n",
    "    }\n",
    "    \"\"\"\n",
    "    \n",
    "    # Define hyperparameters for SVM\n",
    "    svm_hyperparams = {\n",
    "        'C': trial.suggest_float('svm_C', 0.1, 0.1),\n",
    "        'kernel': trial.suggest_categorical('svm_kernel', ['rbf']),\n",
    "        'gamma': trial.suggest_float('svm_gamma', 0.01, 0.01)\n",
    "    }\n",
    "    \"\"\"\n",
    "    \n",
    "    hgb_classifier = HistGradientBoostingClassifier(**hgb_hyperparams)\n",
    "    hgb_classifier.fit(X_train_dos_probe, y_train_l1)\n",
    "    \n",
    "    # Initialize and train SVM classifier\n",
    "    svm_classifier = SVC(**svm_hyperparams)\n",
    "    svm_classifier.fit(X_train_r2l_u2r, y_train_l2)\n",
    "    \n",
    "    # Predict on validation set and calculate metrics for both classifiers\n",
    "    hgb_predicted = hgb_classifier.predict(X_validate_dos_probe)\n",
    "    svm_predicted = svm_classifier.predict(X_validate_r2l_u2r)\n",
    "    \n",
    "    # Calculate confusion matrices for both classifiers\n",
    "    hgb_cm = confusion_matrix(y_validate_l1, hgb_predicted)\n",
    "    svm_cm = confusion_matrix(y_validate_l2, svm_predicted)\n",
    "    \n",
    "    # Calculate Precision and False Negative Rate (FNR) for both classifiers\n",
    "    hgb_precision = hgb_cm[1, 1] / np.sum(hgb_cm[:, 1])\n",
    "    hgb_fnr = hgb_cm[1, 0] / np.sum(hgb_cm[1, :])\n",
    "    \n",
    "    svm_precision = svm_cm[1, 1] / np.sum(svm_cm[:, 1])\n",
    "    svm_fnr = svm_cm[1, 0] / np.sum(svm_cm[1, :])\n",
    "    \n",
    "    # Calculate the average Precision and FNR\n",
    "    avg_precision = (hgb_precision + svm_precision) / 2\n",
    "    avg_fnr = (hgb_fnr + svm_fnr) / 2\n",
    "    \n",
    "    # Aim to optimize both Precision and FNR\n",
    "    return 1 - (avg_precision + avg_fnr)  # Minimize the sum of Precision and FNR\n",
    "\n",
    "\n",
    "# Create Optuna study and optimize\n",
    "study = optuna.create_study(direction='minimize')\n",
    "\n",
    "start = datetime.now()\n",
    "study.optimize(objective, n_trials=20, n_jobs=-1)\n",
    "tuning_time = datetime.now() - start"
   ],
   "metadata": {
    "collapsed": false
   }
  },
  {
   "cell_type": "markdown",
   "metadata": {
    "collapsed": false
   },
   "source": [
    "# S4 (HGBC+NBC) + SVM"
   ]
  },
  {
   "cell_type": "markdown",
   "source": [
    "from sklearn.ensemble import HistGradientBoostingClassifier\n",
    "\n",
    "hgb_params = {\n",
    "    'learning_rate': optuna.distributions.FloatDistribution(0.001, 0.1),\n",
    "    'max_iter': optuna.distributions.IntDistribution(50, 500),\n",
    "    'max_depth': optuna.distributions.IntDistribution(2, 32),\n",
    "    'min_samples_leaf': optuna.distributions.IntDistribution(1, 10)\n",
    "}\n",
    "\n",
    "svm_params = {\n",
    "    'C': optuna.distributions.FloatDistribution(0.1, 10),\n",
    "    'kernel': optuna.distributions.CategoricalDistribution(['linear', 'poly', 'rbf', 'sigmoid']),\n",
    "    'gamma': optuna.distributions.FloatDistribution(1e-6, 1e-2)\n",
    "}\n",
    "\n",
    "nbc_params = {\n",
    "    'var_smoothing': optuna.distributions.FloatDistribution(1e-10, 1e-1)\n",
    "}\n",
    "\n",
    "def objective(trial):\n",
    "    # Define hyperparameters for Random Forest\n",
    "    hgb_hyperparams = {\n",
    "        'learning_rate': trial.suggest_float('hgb_learning_rate', 0.001, 0.1, log=True),\n",
    "        'max_iter': trial.suggest_int('hgb_max_iter', 50, 500),\n",
    "        'max_depth': trial.suggest_int('hgb_max_depth', 2, 32),\n",
    "        'min_samples_leaf': trial.suggest_int('hgb_min_samples_leaf', 1, 10)\n",
    "    }\n",
    "    \n",
    "    # Define hyperparameters for GaussianNB\n",
    "    gnb_hyperparams = {\n",
    "        'var_smoothing': trial.suggest_float('gnb_var_smoothing', 1e-10, 1e-1, log=True)\n",
    "    }\n",
    "    \n",
    "    \n",
    "    # Define hyperparameters for SVM\n",
    "    svm_hyperparams = {\n",
    "        'C': trial.suggest_float('svm_C', 0.1, 10),\n",
    "        'kernel': trial.suggest_categorical('svm_kernel', ['linear', 'poly', 'rbf', 'sigmoid']),\n",
    "        'gamma': trial.suggest_float('svm_gamma', 1e-6, 1e-2)\n",
    "    }\n",
    "    \"\"\"\n",
    "    \n",
    "    # Define hyperparameters for SVM\n",
    "    svm_hyperparams = {\n",
    "        'C': trial.suggest_float('svm_C', 0.1, 0.1),\n",
    "        'kernel': trial.suggest_categorical('svm_kernel', ['rbf']),\n",
    "        'gamma': trial.suggest_float('svm_gamma', 0.01, 0.01)\n",
    "    }\n",
    "    \"\"\"\n",
    "    \n",
    "    voting_classifier = VotingClassifier(\n",
    "        [(\"hgbc\", HistGradientBoostingClassifier(**hgb_hyperparams)), (\"nbc\", GaussianNB(**gnb_hyperparams))],\n",
    "        voting='soft'\n",
    "    )\n",
    "    voting_classifier.fit(X_train_dos_probe, y_train_l1)\n",
    "    \n",
    "    hgb_classifier = HistGradientBoostingClassifier(**hgb_hyperparams)\n",
    "    hgb_classifier.fit(X_train_dos_probe, y_train_l1)\n",
    "    \n",
    "    # Initialize and train SVM classifier\n",
    "    svm_classifier = SVC(**svm_hyperparams)\n",
    "    svm_classifier.fit(X_train_r2l_u2r, y_train_l2)\n",
    "    \n",
    "    # Predict on validation set and calculate metrics for both classifiers\n",
    "    hgb_predicted = hgb_classifier.predict(X_validate_dos_probe)\n",
    "    svm_predicted = svm_classifier.predict(X_validate_r2l_u2r)\n",
    "    \n",
    "    # Calculate confusion matrices for both classifiers\n",
    "    hgb_cm = confusion_matrix(y_validate_l1, hgb_predicted)\n",
    "    svm_cm = confusion_matrix(y_validate_l2, svm_predicted)\n",
    "    \n",
    "    # Calculate Precision and False Negative Rate (FNR) for both classifiers\n",
    "    hgb_precision = hgb_cm[1, 1] / np.sum(hgb_cm[:, 1])\n",
    "    hgb_fnr = hgb_cm[1, 0] / np.sum(hgb_cm[1, :])\n",
    "    \n",
    "    svm_precision = svm_cm[1, 1] / np.sum(svm_cm[:, 1])\n",
    "    svm_fnr = svm_cm[1, 0] / np.sum(svm_cm[1, :])\n",
    "    \n",
    "    # Calculate the average Precision and FNR\n",
    "    avg_precision = (hgb_precision + svm_precision) / 2\n",
    "    avg_fnr = (hgb_fnr + svm_fnr) / 2\n",
    "    \n",
    "    # Aim to optimize both Precision and FNR\n",
    "    return 1 - (avg_precision + avg_fnr)  # Minimize the sum of Precision and FNR\n",
    "\n",
    "\n",
    "# Create Optuna study and optimize\n",
    "study = optuna.create_study(direction='minimize')\n",
    "\n",
    "start = datetime.now()\n",
    "study.optimize(objective, n_trials=20, n_jobs=-1)\n",
    "tuning_time = datetime.now() - start"
   ],
   "metadata": {
    "collapsed": false
   }
  },
  {
   "cell_type": "markdown",
   "metadata": {
    "collapsed": false
   },
   "source": [
    "# S4 RF + SVM"
   ]
  },
  {
   "cell_type": "code",
   "execution_count": 129,
   "outputs": [
    {
     "name": "stderr",
     "output_type": "stream",
     "text": [
      "[I 2024-03-06 17:40:11,252] A new study created in memory with name: no-name-d104aa69-b917-43c0-a4e9-9feef0684c17\n",
      "[I 2024-03-06 17:40:26,262] Trial 6 finished with value: 0.42396123414523024 and parameters: {'rf_n_estimators': 10, 'rf_max_depth': 7, 'rf_min_samples_split': 13, 'rf_min_samples_leaf': 6, 'svm_C': 4.416173358757267, 'svm_kernel': 'rbf', 'svm_gamma': 0.00470019883595315}. Best is trial 6 with value: 0.42396123414523024.\n",
      "[I 2024-03-06 17:40:29,713] Trial 1 finished with value: 0.46365415858233006 and parameters: {'rf_n_estimators': 25, 'rf_max_depth': 3, 'rf_min_samples_split': 16, 'rf_min_samples_leaf': 10, 'svm_C': 2.421964853313727, 'svm_kernel': 'poly', 'svm_gamma': 0.00628969973317604}. Best is trial 6 with value: 0.42396123414523024.\n",
      "[I 2024-03-06 17:40:33,963] Trial 15 finished with value: 0.48163006714297896 and parameters: {'rf_n_estimators': 18, 'rf_max_depth': 6, 'rf_min_samples_split': 8, 'rf_min_samples_leaf': 10, 'svm_C': 1.5703479986870046, 'svm_kernel': 'poly', 'svm_gamma': 0.005226985062602794}. Best is trial 6 with value: 0.42396123414523024.\n",
      "[I 2024-03-06 17:40:38,326] Trial 8 finished with value: 0.48833793138460435 and parameters: {'rf_n_estimators': 12, 'rf_max_depth': 29, 'rf_min_samples_split': 2, 'rf_min_samples_leaf': 1, 'svm_C': 5.863825168725568, 'svm_kernel': 'poly', 'svm_gamma': 0.0015284426913414755}. Best is trial 6 with value: 0.42396123414523024.\n",
      "[I 2024-03-06 17:40:50,795] Trial 3 finished with value: 0.4441821552173747 and parameters: {'rf_n_estimators': 37, 'rf_max_depth': 6, 'rf_min_samples_split': 18, 'rf_min_samples_leaf': 4, 'svm_C': 0.31392903394083865, 'svm_kernel': 'sigmoid', 'svm_gamma': 0.009506306448543642}. Best is trial 6 with value: 0.42396123414523024.\n",
      "[I 2024-03-06 17:41:03,095] Trial 0 finished with value: 0.4880200868391926 and parameters: {'rf_n_estimators': 28, 'rf_max_depth': 15, 'rf_min_samples_split': 19, 'rf_min_samples_leaf': 5, 'svm_C': 1.2820382396841885, 'svm_kernel': 'poly', 'svm_gamma': 0.007634890654608959}. Best is trial 6 with value: 0.42396123414523024.\n",
      "[I 2024-03-06 17:41:03,682] Trial 16 finished with value: 0.40437222076735735 and parameters: {'rf_n_estimators': 23, 'rf_max_depth': 22, 'rf_min_samples_split': 20, 'rf_min_samples_leaf': 3, 'svm_C': 9.129785064531918, 'svm_kernel': 'linear', 'svm_gamma': 0.0033968727716793367}. Best is trial 16 with value: 0.40437222076735735.\n",
      "[I 2024-03-06 17:41:16,554] Trial 11 finished with value: 0.429662775290685 and parameters: {'rf_n_estimators': 46, 'rf_max_depth': 10, 'rf_min_samples_split': 14, 'rf_min_samples_leaf': 2, 'svm_C': 4.467252605485965, 'svm_kernel': 'sigmoid', 'svm_gamma': 0.005816845554721219}. Best is trial 16 with value: 0.40437222076735735.\n",
      "[I 2024-03-06 17:41:19,991] Trial 2 finished with value: 0.3981088400601882 and parameters: {'rf_n_estimators': 57, 'rf_max_depth': 8, 'rf_min_samples_split': 9, 'rf_min_samples_leaf': 8, 'svm_C': 3.0599385828613115, 'svm_kernel': 'linear', 'svm_gamma': 0.0009468145373094688}. Best is trial 2 with value: 0.3981088400601882.\n",
      "[I 2024-03-06 17:41:24,919] Trial 7 finished with value: 0.42931503594555265 and parameters: {'rf_n_estimators': 50, 'rf_max_depth': 11, 'rf_min_samples_split': 11, 'rf_min_samples_leaf': 5, 'svm_C': 9.1886251742742, 'svm_kernel': 'sigmoid', 'svm_gamma': 0.006434666516397825}. Best is trial 2 with value: 0.3981088400601882.\n",
      "[I 2024-03-06 17:41:25,900] Trial 10 finished with value: 0.40202331358775223 and parameters: {'rf_n_estimators': 45, 'rf_max_depth': 31, 'rf_min_samples_split': 6, 'rf_min_samples_leaf': 8, 'svm_C': 2.491016079984884, 'svm_kernel': 'linear', 'svm_gamma': 0.0013293418830203649}. Best is trial 2 with value: 0.3981088400601882.\n",
      "[I 2024-03-06 17:41:28,473] Trial 13 finished with value: 0.430682878383184 and parameters: {'rf_n_estimators': 46, 'rf_max_depth': 26, 'rf_min_samples_split': 20, 'rf_min_samples_leaf': 2, 'svm_C': 0.2018192132749237, 'svm_kernel': 'linear', 'svm_gamma': 0.0067382876863791175}. Best is trial 2 with value: 0.3981088400601882.\n",
      "[I 2024-03-06 17:41:33,002] Trial 12 finished with value: 0.4874140581862856 and parameters: {'rf_n_estimators': 56, 'rf_max_depth': 12, 'rf_min_samples_split': 16, 'rf_min_samples_leaf': 6, 'svm_C': 5.722587549724691, 'svm_kernel': 'poly', 'svm_gamma': 0.008158834906456101}. Best is trial 2 with value: 0.3981088400601882.\n",
      "[I 2024-03-06 17:41:34,254] Trial 14 finished with value: 0.43208610488271826 and parameters: {'rf_n_estimators': 52, 'rf_max_depth': 26, 'rf_min_samples_split': 2, 'rf_min_samples_leaf': 2, 'svm_C': 3.007002849360261, 'svm_kernel': 'rbf', 'svm_gamma': 0.008521297966478136}. Best is trial 2 with value: 0.3981088400601882.\n",
      "[I 2024-03-06 17:41:37,757] Trial 9 finished with value: 0.40201453423629485 and parameters: {'rf_n_estimators': 54, 'rf_max_depth': 27, 'rf_min_samples_split': 18, 'rf_min_samples_leaf': 8, 'svm_C': 1.3677684660040548, 'svm_kernel': 'linear', 'svm_gamma': 0.00013046058155637984}. Best is trial 2 with value: 0.3981088400601882.\n",
      "[I 2024-03-06 17:41:40,089] Trial 18 finished with value: 0.4300934382384126 and parameters: {'rf_n_estimators': 53, 'rf_max_depth': 11, 'rf_min_samples_split': 6, 'rf_min_samples_leaf': 3, 'svm_C': 3.8497300588164385, 'svm_kernel': 'rbf', 'svm_gamma': 0.006696094915392445}. Best is trial 2 with value: 0.3981088400601882.\n",
      "[I 2024-03-06 17:41:44,998] Trial 5 finished with value: 0.4045559797153925 and parameters: {'rf_n_estimators': 67, 'rf_max_depth': 23, 'rf_min_samples_split': 15, 'rf_min_samples_leaf': 9, 'svm_C': 8.5812164584444, 'svm_kernel': 'linear', 'svm_gamma': 0.009478300826267159}. Best is trial 2 with value: 0.3981088400601882.\n",
      "[I 2024-03-06 17:41:50,767] Trial 4 finished with value: 0.43982214307464684 and parameters: {'rf_n_estimators': 70, 'rf_max_depth': 22, 'rf_min_samples_split': 20, 'rf_min_samples_leaf': 9, 'svm_C': 1.9280826812254703, 'svm_kernel': 'rbf', 'svm_gamma': 0.00013175440111778887}. Best is trial 2 with value: 0.3981088400601882.\n",
      "[I 2024-03-06 17:41:53,762] Trial 17 finished with value: 0.43659394183330635 and parameters: {'rf_n_estimators': 68, 'rf_max_depth': 24, 'rf_min_samples_split': 8, 'rf_min_samples_leaf': 10, 'svm_C': 8.72113410570603, 'svm_kernel': 'sigmoid', 'svm_gamma': 0.0014137782152702913}. Best is trial 2 with value: 0.3981088400601882.\n",
      "[I 2024-03-06 17:41:54,804] Trial 19 finished with value: 0.4084588228317396 and parameters: {'rf_n_estimators': 63, 'rf_max_depth': 23, 'rf_min_samples_split': 5, 'rf_min_samples_leaf': 5, 'svm_C': 0.8766775531252958, 'svm_kernel': 'linear', 'svm_gamma': 0.005211385896753816}. Best is trial 2 with value: 0.3981088400601882.\n"
     ]
    }
   ],
   "source": [
    "import optuna\n",
    "\n",
    "rf_params = {\n",
    "    'n_estimators': optuna.distributions.IntDistribution(50, 500),\n",
    "    'max_depth': optuna.distributions.IntDistribution(2, 32),\n",
    "    'min_samples_split': optuna.distributions.IntDistribution(2, 20),\n",
    "    'min_samples_leaf': optuna.distributions.IntDistribution(1, 10)\n",
    "}\n",
    "\n",
    "svm_params = {\n",
    "    'C': optuna.distributions.FloatDistribution(0.1, 10),\n",
    "    'kernel': optuna.distributions.CategoricalDistribution(['linear', 'poly', 'rbf', 'sigmoid']),\n",
    "    'gamma': optuna.distributions.FloatDistribution(1e-6, 1e-2)\n",
    "}\n",
    "\n",
    "def objective(trial):\n",
    "    # Define hyperparameters for Random Forest\n",
    "    rf_hyperparams = {\n",
    "        'n_estimators': trial.suggest_int('rf_n_estimators', 10, 70),\n",
    "        'max_depth': trial.suggest_int('rf_max_depth', 2, 32),\n",
    "        'min_samples_split': trial.suggest_int('rf_min_samples_split', 2, 20),\n",
    "        'min_samples_leaf': trial.suggest_int('rf_min_samples_leaf', 1, 10)\n",
    "    }\n",
    "    \n",
    "    \n",
    "    # Define hyperparameters for SVM\n",
    "    svm_hyperparams = {\n",
    "        'C': trial.suggest_float('svm_C', 0.1, 10),\n",
    "        'kernel': trial.suggest_categorical('svm_kernel', ['linear', 'poly', 'rbf', 'sigmoid']),\n",
    "        'gamma': trial.suggest_float('svm_gamma', 1e-6, 1e-2)\n",
    "    }\n",
    "    \"\"\"\n",
    "    \n",
    "    # Define hyperparameters for SVM\n",
    "    svm_hyperparams = {\n",
    "        'C': trial.suggest_float('svm_C', 0.1, 0.1),\n",
    "        'kernel': trial.suggest_categorical('svm_kernel', ['rbf']),\n",
    "        'gamma': trial.suggest_float('svm_gamma', 0.01, 0.01)\n",
    "    }\n",
    "    \"\"\"\n",
    "    \n",
    "    # Initialize and train Random Forest classifier\n",
    "    rf_classifier = RandomForestClassifier(**rf_hyperparams)\n",
    "    rf_classifier.fit(X_train_dos_probe, y_train_l1)\n",
    "    \n",
    "    # Initialize and train SVM classifier\n",
    "    svm_classifier = SVC(**svm_hyperparams)\n",
    "    svm_classifier.fit(X_train_r2l_u2r, y_train_l2)\n",
    "    \n",
    "    # Initialize and train SVM classifier\n",
    "    svm_classifier = SVC(**svm_hyperparams)\n",
    "    svm_classifier.fit(X_train_r2l_u2r, y_train_l2)\n",
    "    \n",
    "    # Predict on validation set and calculate metrics for both classifiers\n",
    "    rf_predicted = rf_classifier.predict(X_validate_dos_probe)\n",
    "    svm_predicted = svm_classifier.predict(X_validate_r2l_u2r)\n",
    "    \n",
    "    # Calculate confusion matrices for both classifiers\n",
    "    rf_cm = confusion_matrix(y_validate_l1, rf_predicted)\n",
    "    svm_cm = confusion_matrix(y_validate_l2, svm_predicted)\n",
    "    \n",
    "    # Calculate Precision and False Negative Rate (FNR) for both classifiers\n",
    "    rf_precision = rf_cm[1, 1] / np.sum(rf_cm[:, 1])\n",
    "    rf_fnr = rf_cm[1, 0] / np.sum(rf_cm[1, :])\n",
    "    \n",
    "    svm_precision = svm_cm[1, 1] / np.sum(svm_cm[:, 1])\n",
    "    svm_fnr = svm_cm[1, 0] / np.sum(svm_cm[1, :])\n",
    "    \n",
    "    # Calculate the average Precision and FNR\n",
    "    avg_precision = (rf_precision + svm_precision) / 2\n",
    "    avg_fnr = (rf_fnr + svm_fnr) / 2\n",
    "    \n",
    "    # Aim to optimize both Precision and FNR\n",
    "    return 1 - (avg_precision + avg_fnr)  # Minimize the sum of Precision and FNR\n",
    "    \n",
    "\n",
    "# Create Optuna study and optimize\n",
    "study = optuna.create_study(direction='minimize')\n",
    "\n",
    "start = datetime.now()\n",
    "study.optimize(objective, n_trials=20, n_jobs=-1)\n",
    "tuning_time = datetime.now() - start"
   ],
   "metadata": {
    "collapsed": false,
    "ExecuteTime": {
     "end_time": "2024-03-06T16:41:54.814084200Z",
     "start_time": "2024-03-06T16:40:11.252507900Z"
    }
   }
  },
  {
   "cell_type": "markdown",
   "metadata": {
    "collapsed": false
   },
   "source": [
    "# S4 (RF+NBC) + SVM"
   ]
  },
  {
   "cell_type": "markdown",
   "source": [
    "import optuna\n",
    "\n",
    "rf_params = {\n",
    "    'n_estimators': optuna.distributions.IntDistribution(50, 500),\n",
    "    'max_depth': optuna.distributions.IntDistribution(2, 32),\n",
    "    'min_samples_split': optuna.distributions.IntDistribution(2, 20),\n",
    "    'min_samples_leaf': optuna.distributions.IntDistribution(1, 10)\n",
    "}\n",
    "\n",
    "svm_params = {\n",
    "    'C': optuna.distributions.FloatDistribution(0.1, 10),\n",
    "    'kernel': optuna.distributions.CategoricalDistribution(['linear', 'poly', 'rbf', 'sigmoid']),\n",
    "    'gamma': optuna.distributions.FloatDistribution(1e-6, 1e-2)\n",
    "}\n",
    "\n",
    "nbc_params = {\n",
    "    'var_smoothing': optuna.distributions.FloatDistribution(1e-10, 1e-1)\n",
    "}\n",
    "\n",
    "def objective(trial):\n",
    "    # Define hyperparameters for Random Forest\n",
    "    rf_hyperparams = {\n",
    "        'n_estimators': trial.suggest_int('rf_n_estimators', 10, 70),\n",
    "        'max_depth': trial.suggest_int('rf_max_depth', 2, 32),\n",
    "        'min_samples_split': trial.suggest_int('rf_min_samples_split', 2, 20),\n",
    "        'min_samples_leaf': trial.suggest_int('rf_min_samples_leaf', 1, 10)\n",
    "    }\n",
    "    \n",
    "    # Define hyperparameters for GaussianNB\n",
    "    gnb_hyperparams = {\n",
    "        'var_smoothing': trial.suggest_float('gnb_var_smoothing', 1e-10, 1e-1, log=True)\n",
    "    }\n",
    "    \n",
    "    \n",
    "    # Define hyperparameters for SVM\n",
    "    svm_hyperparams = {\n",
    "        'C': trial.suggest_float('svm_C', 0.1, 10),\n",
    "        'kernel': trial.suggest_categorical('svm_kernel', ['linear', 'poly', 'rbf', 'sigmoid']),\n",
    "        'gamma': trial.suggest_float('svm_gamma', 1e-6, 1e-2)\n",
    "    }\n",
    "    \"\"\"\n",
    "    \n",
    "    # Define hyperparameters for SVM\n",
    "    svm_hyperparams = {\n",
    "        'C': trial.suggest_float('svm_C', 0.1, 0.1),\n",
    "        'kernel': trial.suggest_categorical('svm_kernel', ['rbf']),\n",
    "        'gamma': trial.suggest_float('svm_gamma', 0.01, 0.01)\n",
    "    }\n",
    "    \"\"\"\n",
    "    \n",
    "    voting_classifier = VotingClassifier(\n",
    "        [(\"rf\", RandomForestClassifier(**rf_hyperparams)), (\"nbc\", GaussianNB(**gnb_hyperparams))],\n",
    "        voting='soft'\n",
    "    )\n",
    "    voting_classifier.fit(X_train_dos_probe, y_train_l1)\n",
    "    \n",
    "    # Initialize and train SVM classifier\n",
    "    svm_classifier = SVC(**svm_hyperparams)\n",
    "    svm_classifier.fit(X_train_r2l_u2r, y_train_l2)\n",
    "    \n",
    "    # Predict on validation set and calculate metrics for both classifiers\n",
    "    voting_predicted = voting_classifier.predict(X_validate_dos_probe)\n",
    "    svm_predicted = svm_classifier.predict(X_validate_r2l_u2r)\n",
    "    \n",
    "    # Calculate confusion matrices for both classifiers\n",
    "    voting_cm = confusion_matrix(y_validate_l1, voting_predicted)\n",
    "    svm_cm = confusion_matrix(y_validate_l2, svm_predicted)\n",
    "    \n",
    "    # Calculate Precision and False Negative Rate (FNR) for both classifiers\n",
    "    voting_precision = voting_cm[1, 1] / np.sum(voting_cm[:, 1])\n",
    "    voting_fnr = voting_cm[1, 0] / np.sum(voting_cm[1, :])\n",
    "    \n",
    "    svm_precision = svm_cm[1, 1] / np.sum(svm_cm[:, 1])\n",
    "    svm_fnr = svm_cm[1, 0] / np.sum(svm_cm[1, :])\n",
    "    \n",
    "    # Calculate the average Precision and FNR\n",
    "    avg_precision = (voting_precision + svm_precision) / 2\n",
    "    avg_fnr = (voting_fnr + svm_fnr) / 2\n",
    "    \n",
    "    # Aim to optimize both Precision and FNR\n",
    "    return 1 - (avg_precision + avg_fnr)  # Minimize the sum of Precision and FNR\n",
    "\n",
    "\n",
    "# Create Optuna study and optimize\n",
    "study = optuna.create_study(direction='minimize')\n",
    "\n",
    "start = datetime.now()\n",
    "study.optimize(objective, n_trials=20, n_jobs=-1)\n",
    "tuning_time = datetime.now() - start"
   ],
   "metadata": {
    "collapsed": false
   }
  },
  {
   "cell_type": "code",
   "execution_count": 130,
   "metadata": {
    "collapsed": true,
    "jupyter": {
     "outputs_hidden": true,
     "source_hidden": true
    },
    "ExecuteTime": {
     "end_time": "2024-03-06T16:41:54.836687400Z",
     "start_time": "2024-03-06T16:41:54.813074500Z"
    }
   },
   "outputs": [
    {
     "name": "stdout",
     "output_type": "stream",
     "text": [
      "tuning_time:  0:01:43.551778\n"
     ]
    }
   ],
   "source": [
    "print('tuning_time: ', tuning_time)"
   ]
  },
  {
   "cell_type": "markdown",
   "metadata": {
    "collapsed": false
   },
   "source": [
    "# Get the best hyperparameters for RF + SVM"
   ]
  },
  {
   "cell_type": "code",
   "execution_count": 131,
   "outputs": [],
   "source": [
    "best_params1 = {\n",
    "    'n_estimators': study.best_trial.params['rf_n_estimators'],\n",
    "    'max_depth': study.best_trial.params['rf_max_depth'],\n",
    "    'min_samples_split': study.best_trial.params['rf_min_samples_split'],\n",
    "    'min_samples_leaf': study.best_trial.params['rf_min_samples_leaf']\n",
    "}\n",
    "\n",
    "best_params2 = {\n",
    "    'C': study.best_trial.params['svm_C'],\n",
    "    'kernel': study.best_trial.params['svm_kernel'],\n",
    "    'gamma': study.best_trial.params['svm_gamma']\n",
    "}"
   ],
   "metadata": {
    "collapsed": false,
    "ExecuteTime": {
     "end_time": "2024-03-06T16:41:54.961734800Z",
     "start_time": "2024-03-06T16:41:54.824277Z"
    }
   }
  },
  {
   "cell_type": "markdown",
   "metadata": {
    "collapsed": false
   },
   "source": [
    "# Get the best hyperparameters for HGBC + SVM"
   ]
  },
  {
   "cell_type": "markdown",
   "source": [
    "best_params1 = {\n",
    "    'learning_rate': study.best_trial.params['hgb_learning_rate'],\n",
    "    'max_depth': study.best_trial.params['hgb_max_depth'],\n",
    "    'max_iter': study.best_trial.params['hgb_max_iter'],\n",
    "    'min_samples_leaf': study.best_trial.params['hgb_min_samples_leaf']\n",
    "}\n",
    "\n",
    "best_params2 = {\n",
    "    'C': study.best_trial.params['svm_C'],\n",
    "    'kernel': study.best_trial.params['svm_kernel'],\n",
    "    'gamma': study.best_trial.params['svm_gamma']\n",
    "}"
   ],
   "metadata": {
    "collapsed": false
   }
  },
  {
   "cell_type": "markdown",
   "metadata": {
    "collapsed": false
   },
   "source": [
    "# Get the best hyperparameters for (RF+NBC) + SVM"
   ]
  },
  {
   "cell_type": "markdown",
   "source": [
    "best_params1 = {\n",
    "    'n_estimators': study.best_trial.params['rf_n_estimators'],\n",
    "    'max_depth': study.best_trial.params['rf_max_depth'],\n",
    "    'min_samples_split': study.best_trial.params['rf_min_samples_split'],\n",
    "    'min_samples_leaf': study.best_trial.params['rf_min_samples_leaf']\n",
    "}\n",
    "\n",
    "best_params_nbc = {\n",
    "    'var_smoothing': study.best_trial.params['gnb_var_smoothing']\n",
    "}\n",
    "\n",
    "best_params2 = {\n",
    "    'C': study.best_trial.params['svm_C'],\n",
    "    'kernel': study.best_trial.params['svm_kernel'],\n",
    "    'gamma': study.best_trial.params['svm_gamma']\n",
    "}"
   ],
   "metadata": {
    "collapsed": false
   }
  },
  {
   "cell_type": "markdown",
   "metadata": {
    "collapsed": false
   },
   "source": [
    "print(best_params_nbc)"
   ]
  },
  {
   "cell_type": "markdown",
   "metadata": {
    "collapsed": false
   },
   "source": [
    "# Get the best hyperparameters for (HGBC+NBC) + SVM"
   ]
  },
  {
   "cell_type": "markdown",
   "source": [
    "best_params1 = {\n",
    "    'learning_rate': study.best_trial.params['hgb_learning_rate'],\n",
    "    'max_depth': study.best_trial.params['hgb_max_depth'],\n",
    "    'max_iter': study.best_trial.params['hgb_max_iter'],\n",
    "    'min_samples_leaf': study.best_trial.params['hgb_min_samples_leaf']\n",
    "}\n",
    "\n",
    "best_params_nbc = {\n",
    "    'var_smoothing': study.best_trial.params['gnb_var_smoothing']\n",
    "}\n",
    "\n",
    "# Get the best hyperparameters for SVM\n",
    "best_params2 = {\n",
    "    'C': study.best_trial.params['svm_C'],\n",
    "    'kernel': study.best_trial.params['svm_kernel'],\n",
    "    'gamma': study.best_trial.params['svm_gamma']\n",
    "}\n",
    "\n",
    "print(best_params_nbc)"
   ],
   "metadata": {
    "collapsed": false
   }
  },
  {
   "cell_type": "code",
   "execution_count": 132,
   "metadata": {
    "collapsed": true,
    "jupyter": {
     "outputs_hidden": true,
     "source_hidden": true
    },
    "ExecuteTime": {
     "end_time": "2024-03-06T16:41:54.966492600Z",
     "start_time": "2024-03-06T16:41:54.862201800Z"
    }
   },
   "outputs": [
    {
     "name": "stdout",
     "output_type": "stream",
     "text": [
      "{'n_estimators': 57, 'max_depth': 8, 'min_samples_split': 9, 'min_samples_leaf': 8} {'C': 3.0599385828613115, 'kernel': 'linear', 'gamma': 0.0009468145373094688}\n"
     ]
    }
   ],
   "source": [
    "print(best_params1, best_params2)"
   ]
  },
  {
   "cell_type": "markdown",
   "metadata": {
    "collapsed": false
   },
   "source": [
    "# Train RF + SVM"
   ]
  },
  {
   "cell_type": "code",
   "execution_count": 133,
   "outputs": [
    {
     "data": {
      "text/plain": "SVC(C=3.0599385828613115, gamma=0.0009468145373094688, kernel='linear')",
      "text/html": "<style>#sk-container-id-4 {color: black;}#sk-container-id-4 pre{padding: 0;}#sk-container-id-4 div.sk-toggleable {background-color: white;}#sk-container-id-4 label.sk-toggleable__label {cursor: pointer;display: block;width: 100%;margin-bottom: 0;padding: 0.3em;box-sizing: border-box;text-align: center;}#sk-container-id-4 label.sk-toggleable__label-arrow:before {content: \"▸\";float: left;margin-right: 0.25em;color: #696969;}#sk-container-id-4 label.sk-toggleable__label-arrow:hover:before {color: black;}#sk-container-id-4 div.sk-estimator:hover label.sk-toggleable__label-arrow:before {color: black;}#sk-container-id-4 div.sk-toggleable__content {max-height: 0;max-width: 0;overflow: hidden;text-align: left;background-color: #f0f8ff;}#sk-container-id-4 div.sk-toggleable__content pre {margin: 0.2em;color: black;border-radius: 0.25em;background-color: #f0f8ff;}#sk-container-id-4 input.sk-toggleable__control:checked~div.sk-toggleable__content {max-height: 200px;max-width: 100%;overflow: auto;}#sk-container-id-4 input.sk-toggleable__control:checked~label.sk-toggleable__label-arrow:before {content: \"▾\";}#sk-container-id-4 div.sk-estimator input.sk-toggleable__control:checked~label.sk-toggleable__label {background-color: #d4ebff;}#sk-container-id-4 div.sk-label input.sk-toggleable__control:checked~label.sk-toggleable__label {background-color: #d4ebff;}#sk-container-id-4 input.sk-hidden--visually {border: 0;clip: rect(1px 1px 1px 1px);clip: rect(1px, 1px, 1px, 1px);height: 1px;margin: -1px;overflow: hidden;padding: 0;position: absolute;width: 1px;}#sk-container-id-4 div.sk-estimator {font-family: monospace;background-color: #f0f8ff;border: 1px dotted black;border-radius: 0.25em;box-sizing: border-box;margin-bottom: 0.5em;}#sk-container-id-4 div.sk-estimator:hover {background-color: #d4ebff;}#sk-container-id-4 div.sk-parallel-item::after {content: \"\";width: 100%;border-bottom: 1px solid gray;flex-grow: 1;}#sk-container-id-4 div.sk-label:hover label.sk-toggleable__label {background-color: #d4ebff;}#sk-container-id-4 div.sk-serial::before {content: \"\";position: absolute;border-left: 1px solid gray;box-sizing: border-box;top: 0;bottom: 0;left: 50%;z-index: 0;}#sk-container-id-4 div.sk-serial {display: flex;flex-direction: column;align-items: center;background-color: white;padding-right: 0.2em;padding-left: 0.2em;position: relative;}#sk-container-id-4 div.sk-item {position: relative;z-index: 1;}#sk-container-id-4 div.sk-parallel {display: flex;align-items: stretch;justify-content: center;background-color: white;position: relative;}#sk-container-id-4 div.sk-item::before, #sk-container-id-4 div.sk-parallel-item::before {content: \"\";position: absolute;border-left: 1px solid gray;box-sizing: border-box;top: 0;bottom: 0;left: 50%;z-index: -1;}#sk-container-id-4 div.sk-parallel-item {display: flex;flex-direction: column;z-index: 1;position: relative;background-color: white;}#sk-container-id-4 div.sk-parallel-item:first-child::after {align-self: flex-end;width: 50%;}#sk-container-id-4 div.sk-parallel-item:last-child::after {align-self: flex-start;width: 50%;}#sk-container-id-4 div.sk-parallel-item:only-child::after {width: 0;}#sk-container-id-4 div.sk-dashed-wrapped {border: 1px dashed gray;margin: 0 0.4em 0.5em 0.4em;box-sizing: border-box;padding-bottom: 0.4em;background-color: white;}#sk-container-id-4 div.sk-label label {font-family: monospace;font-weight: bold;display: inline-block;line-height: 1.2em;}#sk-container-id-4 div.sk-label-container {text-align: center;}#sk-container-id-4 div.sk-container {/* jupyter's `normalize.less` sets `[hidden] { display: none; }` but bootstrap.min.css set `[hidden] { display: none !important; }` so we also need the `!important` here to be able to override the default hidden behavior on the sphinx rendered scikit-learn.org. See: https://github.com/scikit-learn/scikit-learn/issues/21755 */display: inline-block !important;position: relative;}#sk-container-id-4 div.sk-text-repr-fallback {display: none;}</style><div id=\"sk-container-id-4\" class=\"sk-top-container\"><div class=\"sk-text-repr-fallback\"><pre>SVC(C=3.0599385828613115, gamma=0.0009468145373094688, kernel=&#x27;linear&#x27;)</pre><b>In a Jupyter environment, please rerun this cell to show the HTML representation or trust the notebook. <br />On GitHub, the HTML representation is unable to render, please try loading this page with nbviewer.org.</b></div><div class=\"sk-container\" hidden><div class=\"sk-item\"><div class=\"sk-estimator sk-toggleable\"><input class=\"sk-toggleable__control sk-hidden--visually\" id=\"sk-estimator-id-4\" type=\"checkbox\" checked><label for=\"sk-estimator-id-4\" class=\"sk-toggleable__label sk-toggleable__label-arrow\">SVC</label><div class=\"sk-toggleable__content\"><pre>SVC(C=3.0599385828613115, gamma=0.0009468145373094688, kernel=&#x27;linear&#x27;)</pre></div></div></div></div></div>"
     },
     "execution_count": 133,
     "metadata": {},
     "output_type": "execute_result"
    }
   ],
   "source": [
    "best_classifier1 = RandomForestClassifier(**best_params1)\n",
    "best_classifier1.fit(X_train_dos_probe, y_train_l1)\n",
    "\n",
    "best_classifier2 = SVC(**best_params2)\n",
    "best_classifier2.fit(X_train_r2l_u2r, y_train_l2)"
   ],
   "metadata": {
    "collapsed": false,
    "ExecuteTime": {
     "end_time": "2024-03-06T16:42:22.114016Z",
     "start_time": "2024-03-06T16:41:54.864844200Z"
    }
   }
  },
  {
   "cell_type": "markdown",
   "metadata": {
    "collapsed": false
   },
   "source": [
    "# Train HGBC + SVM"
   ]
  },
  {
   "cell_type": "markdown",
   "source": [
    "best_classifier1 = HistGradientBoostingClassifier(**best_params1)\n",
    "best_classifier1.fit(X_train_dos_probe, y_train_l1)\n",
    "\n",
    "best_classifier2 = SVC(**best_params2)\n",
    "best_classifier2.fit(X_train_r2l_u2r, y_train_l2)"
   ],
   "metadata": {
    "collapsed": false
   }
  },
  {
   "cell_type": "markdown",
   "metadata": {
    "collapsed": false
   },
   "source": [
    "# Train (RF+NBC) + SVM"
   ]
  },
  {
   "cell_type": "markdown",
   "source": [
    "best_classifier1 = VotingClassifier(\n",
    "    [(\"rf\", RandomForestClassifier(**best_params1)), (\"nbc\", GaussianNB(**best_params_nbc))],\n",
    "    voting='soft'\n",
    ")\n",
    "\n",
    "best_classifier2 = SVC(**best_params2)\n",
    "\n",
    "best_classifier1.fit(X_train_dos_probe, y_train_l1)\n",
    "best_classifier2.fit(X_train_r2l_u2r, y_train_l2)"
   ],
   "metadata": {
    "collapsed": false
   }
  },
  {
   "cell_type": "markdown",
   "metadata": {
    "collapsed": false
   },
   "source": [
    "# Train (HGBC+NBC) + SVM"
   ]
  },
  {
   "cell_type": "markdown",
   "source": [
    "best_classifier1 = VotingClassifier(\n",
    "    [(\"hgbc\", HistGradientBoostingClassifier(**best_params1)), (\"nbc\", GaussianNB(**best_params_nbc))],\n",
    "    voting='soft'\n",
    ")\n",
    "\n",
    "best_classifier2 = SVC(**best_params2)\n",
    "\n",
    "best_classifier1.fit(X_train_dos_probe, y_train_l1)\n",
    "best_classifier2.fit(X_train_r2l_u2r, y_train_l2)"
   ],
   "metadata": {
    "collapsed": false
   }
  },
  {
   "cell_type": "code",
   "execution_count": 134,
   "outputs": [],
   "source": [
    "classifier1 = best_classifier1\n",
    "classifier2 = best_classifier2"
   ],
   "metadata": {
    "collapsed": false,
    "ExecuteTime": {
     "end_time": "2024-03-06T16:42:22.129156300Z",
     "start_time": "2024-03-06T16:42:22.111881400Z"
    }
   }
  },
  {
   "cell_type": "code",
   "execution_count": 135,
   "metadata": {
    "collapsed": false,
    "ExecuteTime": {
     "end_time": "2024-03-06T16:43:25.346462100Z",
     "start_time": "2024-03-06T16:42:22.117514400Z"
    }
   },
   "outputs": [],
   "source": [
    "# the results may vary\n",
    "accuracy, f_score, precision, recall, clf_time, tnr, fpr, fnr, result = test_metrics()"
   ]
  },
  {
   "cell_type": "code",
   "execution_count": 136,
   "outputs": [
    {
     "name": "stdout",
     "output_type": "stream",
     "text": [
      "Accuracy =  0.8058907026259758\n",
      "F1 Score =  0.8088415166870522\n",
      "Precision =  0.9203698180733672\n",
      "Recall =  0.721421335619107\n",
      "True Negative Rate (TNR) = 0.917516218721038\n",
      "False Positive Rate (FPR) = 0.082483781278962\n",
      "False Negative Rate (FNR) = 0.278578664380893\n",
      "Classification time =  0:01:03.199782\n"
     ]
    }
   ],
   "source": [
    "print('Accuracy = ', accuracy)\n",
    "print('F1 Score = ', f_score)\n",
    "print('Precision = ', precision)\n",
    "print('Recall = ', recall)\n",
    "print('True Negative Rate (TNR) =', tnr)\n",
    "print('False Positive Rate (FPR) =', fpr)\n",
    "\n",
    "print('False Negative Rate (FNR) =', fnr)\n",
    "\n",
    "print('Classification time = ', clf_time)"
   ],
   "metadata": {
    "collapsed": true,
    "jupyter": {
     "outputs_hidden": true,
     "source_hidden": true
    },
    "ExecuteTime": {
     "end_time": "2024-03-06T16:43:25.368071200Z",
     "start_time": "2024-03-06T16:43:25.349570700Z"
    }
   }
  },
  {
   "cell_type": "code",
   "execution_count": 137,
   "outputs": [
    {
     "data": {
      "text/plain": "<Figure size 640x480 with 1 Axes>",
      "image/png": "[encoded data removed]"
     },
     "metadata": {},
     "output_type": "display_data"
    }
   ],
   "source": [
    "# ROC graph\n",
    "\n",
    "import matplotlib.pyplot as plt\n",
    "from sklearn.metrics import roc_curve, auc\n",
    "\n",
    "fpr, tpr, _ = roc_curve(y_test_real, result)\n",
    "roc_auc = auc(fpr, tpr)\n",
    "\n",
    "# Plot ROC curve\n",
    "plt.figure()\n",
    "plt.plot(fpr, tpr, color='darkorange', lw=2, label='ROC curve (area = %0.2f)' % roc_auc)\n",
    "plt.plot([0, 1], [0, 1], color='navy', lw=2, linestyle='--')\n",
    "plt.xlim([0.0, 1.0])\n",
    "plt.ylim([0.0, 1.05])\n",
    "plt.xlabel('False Positive Rate')\n",
    "plt.ylabel('True Positive Rate')\n",
    "plt.title('Receiver Operating Characteristic (ROC) Curve')\n",
    "plt.legend(loc=\"lower right\")\n",
    "\n",
    "plt.savefig('static_roc_curve-hgbc.png')\n",
    "\n",
    "plt.show()"
   ],
   "metadata": {
    "collapsed": false,
    "ExecuteTime": {
     "end_time": "2024-03-06T16:43:25.608996100Z",
     "start_time": "2024-03-06T16:43:25.358361100Z"
    }
   }
  },
  {
   "cell_type": "markdown",
   "metadata": {
    "collapsed": false
   },
   "source": [
    "### Export the test sets"
   ]
  },
  {
   "cell_type": "markdown",
   "metadata": {
    "collapsed": false
   },
   "source": [
    "if True:\n",
    "    column_names = [f'PC{i}' for i in range(1, X_test_layer1.shape[1] + 1)]\n",
    "    X1_test = pd.DataFrame(data=X_test_layer1, columns=column_names)\n",
    "    X1_test.to_csv('EvalResources/AdditionalSets/x_test_l1_pca.txt', index=False)\n",
    "    \n",
    "    column_names = [f'PC{i}' for i in range(1, X_test_layer2.shape[1] + 1)]\n",
    "    X2_test = pd.DataFrame(data=X_test_layer2, columns=column_names)\n",
    "    X2_test.to_csv('EvalResources/AdditionalSets/x_test_l2_pca.txt', index=False)\n",
    "    \n",
    "    np.save('EvalResources/AdditionalSets/y_test', y_test_real)"
   ]
  },
  {
   "cell_type": "markdown",
   "metadata": {},
   "source": [
    "### evaluate seen and unseen attack categories"
   ]
  },
  {
   "cell_type": "code",
   "execution_count": 138,
   "metadata": {
    "collapsed": true,
    "jupyter": {
     "outputs_hidden": true,
     "source_hidden": true
    },
    "ExecuteTime": {
     "end_time": "2024-03-06T16:43:25.755321700Z",
     "start_time": "2024-03-06T16:43:25.610395700Z"
    }
   },
   "outputs": [],
   "source": [
    "# load testset\n",
    "df_test = pd.read_csv('EvalResources/KDDTest+.txt', sep=\",\", header=None, skipinitialspace = True)\n",
    "df_test = df_test[df_test.columns[:-1]]\n",
    "df_test.columns = titles.to_list()\n",
    "y_test = df_test['label']\n",
    "df_test = df_test.drop(['num_outbound_cmds'],axis=1)\n",
    "\n",
    "df_test_original = df_test"
   ]
  },
  {
   "cell_type": "markdown",
   "source": [
    "if EXPORT_DATASETS:\n",
    "    df_test_original.to_csv('EvalResources/ProcessedDatasets/x_test_full.txt', index=False)\n",
    "    np.save('EvalResources/ProcessedDatasets/y_test_full', y_test)\n",
    "    \n",
    "#df_test_original"
   ],
   "metadata": {
    "collapsed": false
   }
  },
  {
   "cell_type": "code",
   "execution_count": 139,
   "metadata": {
    "collapsed": true,
    "jupyter": {
     "outputs_hidden": true,
     "source_hidden": true
    },
    "ExecuteTime": {
     "end_time": "2024-03-06T16:43:25.907492200Z",
     "start_time": "2024-03-06T16:43:25.702843500Z"
    }
   },
   "outputs": [],
   "source": [
    "new_attack = []\n",
    "for i in df_test_original['label'].value_counts().index.tolist()[1:]:\n",
    "    if i not in df_train_original['label'].value_counts().index.tolist()[1:]:\n",
    "        new_attack.append(i)\n",
    "        \n",
    "new_attack.sort()\n",
    "#new_attack"
   ]
  },
  {
   "cell_type": "code",
   "execution_count": 140,
   "metadata": {
    "collapsed": true,
    "jupyter": {
     "outputs_hidden": true,
     "source_hidden": true
    },
    "ExecuteTime": {
     "end_time": "2024-03-06T16:43:26.025966300Z",
     "start_time": "2024-03-06T16:43:25.910158600Z"
    }
   },
   "outputs": [],
   "source": [
    "index_of_new_attacks = []\n",
    "\n",
    "for i in range(len(df_test_original)):\n",
    "    if df_test_original['label'][i] in new_attack:\n",
    "        index_of_new_attacks.append(df_test_original.index[i])"
   ]
  },
  {
   "cell_type": "code",
   "execution_count": 141,
   "metadata": {
    "collapsed": true,
    "jupyter": {
     "outputs_hidden": true,
     "source_hidden": true
    },
    "ExecuteTime": {
     "end_time": "2024-03-06T16:43:26.052947500Z",
     "start_time": "2024-03-06T16:43:26.027508300Z"
    }
   },
   "outputs": [],
   "source": [
    "#len(index_of_new_attacks)"
   ]
  },
  {
   "cell_type": "code",
   "execution_count": 142,
   "metadata": {
    "collapsed": true,
    "jupyter": {
     "outputs_hidden": true,
     "source_hidden": true
    },
    "ExecuteTime": {
     "end_time": "2024-03-06T16:43:26.070418700Z",
     "start_time": "2024-03-06T16:43:26.032703700Z"
    }
   },
   "outputs": [],
   "source": [
    "new_attack.append('normal')\n",
    "#new_attack"
   ]
  },
  {
   "cell_type": "code",
   "execution_count": 143,
   "metadata": {
    "collapsed": true,
    "jupyter": {
     "outputs_hidden": true,
     "source_hidden": true
    },
    "ExecuteTime": {
     "end_time": "2024-03-06T16:43:26.211879400Z",
     "start_time": "2024-03-06T16:43:26.035795200Z"
    }
   },
   "outputs": [],
   "source": [
    "index_of_old_attacks = []\n",
    "\n",
    "for i in range(len(df_test_original)):\n",
    "    if df_test_original['label'][i] not in new_attack:\n",
    "        index_of_old_attacks.append(df_test_original.index[i])"
   ]
  },
  {
   "cell_type": "code",
   "execution_count": 144,
   "metadata": {
    "collapsed": true,
    "jupyter": {
     "outputs_hidden": true,
     "source_hidden": true
    },
    "ExecuteTime": {
     "end_time": "2024-03-06T16:43:26.215466800Z",
     "start_time": "2024-03-06T16:43:26.157217400Z"
    }
   },
   "outputs": [
    {
     "name": "stdout",
     "output_type": "stream",
     "text": [
      "Number of new attacks in the test set:  3750\n",
      "Number of new attacks detected by the classifiers:  1788\n",
      "Proportion of new attacks detected:  0.4768\n"
     ]
    }
   ],
   "source": [
    "print('Number of new attacks in the test set: ', result[index_of_new_attacks].shape[0])\n",
    "print('Number of new attacks detected by the classifiers: ', result[index_of_new_attacks].sum())\n",
    "print('Proportion of new attacks detected: ', result[index_of_new_attacks].sum()/result[index_of_new_attacks].shape[0])"
   ]
  },
  {
   "cell_type": "code",
   "execution_count": 145,
   "metadata": {
    "collapsed": true,
    "jupyter": {
     "outputs_hidden": true,
     "source_hidden": true
    },
    "ExecuteTime": {
     "end_time": "2024-03-06T16:43:26.218940800Z",
     "start_time": "2024-03-06T16:43:26.166342500Z"
    }
   },
   "outputs": [
    {
     "name": "stdout",
     "output_type": "stream",
     "text": [
      "Number of old attacks in the test set:  9083\n",
      "Number of old attacks detected by the classifiers:  7470\n",
      "Proportion of old attacks detected:  0.822415501486293\n"
     ]
    }
   ],
   "source": [
    "print('Number of old attacks in the test set: ', result[index_of_old_attacks].shape[0])\n",
    "print('Number of old attacks detected by the classifiers: ', result[index_of_old_attacks].sum())\n",
    "print('Proportion of old attacks detected: ', result[index_of_old_attacks].sum()/result[index_of_old_attacks].shape[0])"
   ]
  },
  {
   "cell_type": "markdown",
   "metadata": {},
   "source": [
    "### Evaluate single attack types"
   ]
  },
  {
   "cell_type": "code",
   "execution_count": 146,
   "metadata": {
    "collapsed": true,
    "jupyter": {
     "outputs_hidden": true,
     "source_hidden": true
    },
    "ExecuteTime": {
     "end_time": "2024-03-06T16:43:26.363024700Z",
     "start_time": "2024-03-06T16:43:26.172056500Z"
    }
   },
   "outputs": [
    {
     "name": "stdout",
     "output_type": "stream",
     "text": [
      "Ratio DOS of detection:  0.7912868632707775\n",
      "Ratio PROBE of detection:  0.892606361007848\n",
      "Ratio U2R of detection:  0.39549393414211437\n",
      "Ratio R2L of detection:  0.7910447761194029\n",
      "New attacks detected:  0.4768\n",
      "Old attacks detected:  0.822415501486293\n"
     ]
    }
   ],
   "source": [
    "# load test set\n",
    "df_test = pd.read_csv('EvalResources/KDDTest+.txt', sep=\",\", header=None, skipinitialspace = True)\n",
    "df_test = df_test[df_test.columns[:-1]]\n",
    "df_test.columns = titles.to_list()\n",
    "y_test = df_test['label']\n",
    "df_test = df_test.drop(['num_outbound_cmds'],axis=1)\n",
    "df_test_original = df_test\n",
    "df = df_test_original\n",
    "\n",
    "dos_index = df.index[(df['label'].isin(dos_attacks))].tolist()\n",
    "probe_index = df.index[(df['label'].isin(probe_attacks))].tolist()\n",
    "r2l_index = df.index[(df['label'].isin(r2l_attacks))].tolist()\n",
    "u2r_index = df.index[(df['label'].isin(u2r_attacks))].tolist()\n",
    "\n",
    "print(\"Ratio DOS of detection: \", result[dos_index].sum()/result[dos_index].shape[0])\n",
    "\n",
    "print(\"Ratio PROBE of detection: \", result[probe_index].sum()/result[probe_index].shape[0])\n",
    "\n",
    "print(\"Ratio U2R of detection: \", result[r2l_index].sum()/result[r2l_index].shape[0])\n",
    "\n",
    "print(\"Ratio R2L of detection: \", result[u2r_index].sum()/result[u2r_index].shape[0])\n",
    "\n",
    "print('New attacks detected: ', result[index_of_new_attacks].sum()/result[index_of_new_attacks].shape[0])\n",
    "\n",
    "print('Old attacks detected: ', result[index_of_old_attacks].sum()/result[index_of_old_attacks].shape[0])"
   ]
  }
 ],
 "metadata": {
  "kernelspec": {
   "display_name": "Python 3 (ipykernel)",
   "language": "python",
   "name": "python3"
  },
  "language_info": {
   "codemirror_mode": {
    "name": "ipython",
    "version": 3
   },
   "file_extension": ".py",
   "mimetype": "text/x-python",
   "name": "python",
   "nbconvert_exporter": "python",
   "pygments_lexer": "ipython3",
   "version": "3.11.3"
  }
 },
 "nbformat": 4,
 "nbformat_minor": 4
}
