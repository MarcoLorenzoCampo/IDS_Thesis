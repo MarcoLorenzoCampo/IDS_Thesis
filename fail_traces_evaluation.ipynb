{
 "cells": [
  {
   "cell_type": "code",
   "execution_count": 1,
   "metadata": {
    "collapsed": true,
    "jupyter": {
     "outputs_hidden": true,
     "source_hidden": true
    },
    "ExecuteTime": {
     "end_time": "2024-03-11T15:38:21.422002300Z",
     "start_time": "2024-03-11T15:38:19.703647Z"
    }
   },
   "outputs": [],
   "source": [
    "import numpy as np \n",
    "import pandas as pd\n",
    "import copy\n",
    "\n",
    "from sklearn.preprocessing import OneHotEncoder\n",
    "from sklearn.preprocessing import MinMaxScaler\n",
    "from sklearn.model_selection import train_test_split\n",
    "\n",
    "from sklearn.decomposition import PCA\n",
    "from imblearn.under_sampling import RandomUnderSampler as under_sam\n",
    "\n",
    "from sklearn.naive_bayes import GaussianNB\n",
    "from sklearn.svm import SVC\n",
    "from sklearn.metrics import confusion_matrix, accuracy_score, f1_score\n",
    "from sklearn.metrics import matthews_corrcoef, precision_score, recall_score\n",
    "from sklearn.ensemble import RandomForestClassifier"
   ]
  },
  {
   "cell_type": "markdown",
   "metadata": {
    "collapsed": false
   },
   "source": [
    "# Main implementation"
   ]
  },
  {
   "cell_type": "code",
   "execution_count": 2,
   "metadata": {
    "collapsed": true,
    "jupyter": {
     "outputs_hidden": true,
     "source_hidden": true
    },
    "ExecuteTime": {
     "end_time": "2024-03-11T15:38:21.718555100Z",
     "start_time": "2024-03-11T15:38:21.422002300Z"
    }
   },
   "outputs": [],
   "source": [
    "# loading the train set\n",
    "df_train = pd.read_csv('EvalResources/KDDTrain+.txt', sep=\",\", header=None, skipinitialspace = True)\n",
    "df_train = df_train[df_train.columns[:-1]]  # tags column\n",
    "titles = pd.read_csv('EvalResources/Field Names.csv', header=None, skipinitialspace = True)\n",
    "label = pd.Series(['label'], index=[41])\n",
    "titles = pd.concat([titles[0], label])\n",
    "df_train.columns = titles.to_list()\n",
    "df_train = df_train.drop(['num_outbound_cmds'],axis=1)\n",
    "df_train_original = df_train\n",
    "\n",
    "# df_train_original.to_csv('KB Process/NSL-KDD Original Datasets/KDDTrain+_with_labels.txt', index=False)\n",
    "\n",
    "#df_train_original"
   ]
  },
  {
   "cell_type": "code",
   "execution_count": 3,
   "metadata": {
    "collapsed": true,
    "jupyter": {
     "outputs_hidden": true,
     "source_hidden": true
    },
    "ExecuteTime": {
     "end_time": "2024-03-11T15:38:21.786518200Z",
     "start_time": "2024-03-11T15:38:21.719562500Z"
    }
   },
   "outputs": [],
   "source": [
    "# load test set\n",
    "df_test = pd.read_csv('EvalResources/KDDTest+.txt', sep=\",\", header=None, skipinitialspace = True)\n",
    "df_test_ = df_test.sort_index(axis=1)\n",
    "df_test = df_test[df_test.columns[:-1]]\n",
    "df_test.columns = titles.to_list()\n",
    "df_test = df_test.drop(['num_outbound_cmds'],axis=1)\n",
    "df_test_original = df_test\n",
    "\n",
    "# df_test_original.to_csv('KB Process/NSL-KDD Original Datasets/KDDTest+.txt', index=False)\n",
    "\n",
    "#df_test_original"
   ]
  },
  {
   "cell_type": "markdown",
   "metadata": {
    "collapsed": false
   },
   "source": [
    "### Execution Parameters"
   ]
  },
  {
   "cell_type": "code",
   "execution_count": 4,
   "metadata": {
    "collapsed": true,
    "jupyter": {
     "outputs_hidden": true,
     "source_hidden": true
    },
    "ExecuteTime": {
     "end_time": "2024-03-11T15:38:21.791790400Z",
     "start_time": "2024-03-11T15:38:21.786518200Z"
    }
   },
   "outputs": [],
   "source": [
    "EXPORT_MODELS = 0\n",
    "EXPORT_DATASETS = 0\n",
    "EXPORT_PCA = 0\n",
    "EXPORT_ENCODERS = 0\n",
    "\n",
    "pd.options.display.max_columns = None"
   ]
  },
  {
   "cell_type": "code",
   "execution_count": 5,
   "metadata": {
    "collapsed": true,
    "jupyter": {
     "outputs_hidden": true,
     "source_hidden": true
    },
    "ExecuteTime": {
     "end_time": "2024-03-11T15:38:21.796784800Z",
     "start_time": "2024-03-11T15:38:21.791790400Z"
    }
   },
   "outputs": [],
   "source": [
    "# list of single attacks \n",
    "dos_attacks = ['back', 'land', 'neptune', 'pod', 'smurf', 'teardrop', 'worm', 'apache2', 'mailbomb', 'processtable', 'udpstorm']\n",
    "probe_attacks = ['ipsweep', 'mscan', 'nmap', 'portsweep', 'saint', 'satan']\n",
    "r2l_attacks = ['guess_passwd', 'ftp_write', 'imap', 'phf', 'multihop', 'warezmaster',\n",
    "                'snmpguess', 'spy', 'warezclient', 'httptunnel', 'named', 'sendmail', 'snmpgetattack', 'xlock', 'xsnoop']\n",
    "u2r_attacks = ['buffer_overflow', 'loadmodule', 'perl', 'ps', 'rootkit', 'sqlattack', 'xterm'] \n",
    "\n",
    "# list of attack classes split according to detection layer\n",
    "dos_probe_list = ['back', 'land', 'neptune', 'pod', 'smurf', 'teardrop', 'ipsweep', 'nmap', 'portsweep', 'satan']\n",
    "dos_probe_test = ['apache2', 'mailbomb', 'processtable', 'udpstorm', 'mscan', 'saint']\n",
    "u2r_r2l_list = ['guess_passwd', 'ftp_write', 'imap', 'phf', 'multihop', 'warezmaster',\n",
    "                'snmpguess', 'spy', 'warezclient', 'buffer_overflow', 'loadmodule', 'rootkit', 'perl']\n",
    "u2r_r2l_test = ['httptunnel', 'named', 'sendmail', 'snmpgetattack', 'xlock', 'xsnoop', 'ps', 'xterm', 'sqlattack']\n",
    "normal_list = ['normal']\n",
    "categorical_features = ['protocol_type', 'service', 'flag']"
   ]
  },
  {
   "cell_type": "code",
   "execution_count": 6,
   "metadata": {
    "collapsed": true,
    "jupyter": {
     "outputs_hidden": true,
     "source_hidden": true
    },
    "ExecuteTime": {
     "end_time": "2024-03-11T15:38:21.810441300Z",
     "start_time": "2024-03-11T15:38:21.795764500Z"
    }
   },
   "outputs": [],
   "source": [
    "# load the features obtained with ICFS for both layer 1 and layer 2\n",
    "with open('KBProcess/AWS Downloads/MinimalFeatures/NSL_features_l1.txt', 'r') as f:\n",
    "    common_features_l1 = f.read().split(',')\n",
    "\n",
    "with open('KBProcess/AWS Downloads/MinimalFeatures/NSL_features_l2.txt', 'r') as f:\n",
    "    common_features_l2 = f.read().split(',')"
   ]
  },
  {
   "cell_type": "code",
   "execution_count": 7,
   "metadata": {
    "collapsed": true,
    "jupyter": {
     "outputs_hidden": true,
     "source_hidden": true
    },
    "ExecuteTime": {
     "end_time": "2024-03-11T15:38:21.845971400Z",
     "start_time": "2024-03-11T15:38:21.800152100Z"
    }
   },
   "outputs": [],
   "source": [
    "df_train_and_validate = copy.deepcopy(df_train_original)\n",
    "df_test = copy.deepcopy(df_test_original)"
   ]
  },
  {
   "cell_type": "code",
   "execution_count": 8,
   "metadata": {
    "collapsed": true,
    "jupyter": {
     "outputs_hidden": true,
     "source_hidden": true
    },
    "ExecuteTime": {
     "end_time": "2024-03-11T15:38:21.860878500Z",
     "start_time": "2024-03-11T15:38:21.823664800Z"
    }
   },
   "outputs": [],
   "source": [
    "# save all the targets for the dataset\n",
    "\n",
    "y_test_l1 = [1 if x in (dos_attacks+probe_attacks) else 0 for x in df_test['label']]\n",
    "y_test_l2 = [1 if x in (u2r_attacks+r2l_attacks) else 0 for x in df_test['label']]\n",
    "\n",
    "if EXPORT_DATASETS:\n",
    "    np.save(\"EvalResources/AdditionalSets/l1_full_test_targets.npy\", y_test_l1)\n",
    "    np.save(\"EvalResources/AdditionalSets/l2_full_test_targets.npy\", y_test_l2)"
   ]
  },
  {
   "cell_type": "code",
   "execution_count": 9,
   "metadata": {
    "collapsed": true,
    "jupyter": {
     "outputs_hidden": true,
     "source_hidden": true
    },
    "ExecuteTime": {
     "end_time": "2024-03-11T15:38:21.897767100Z",
     "start_time": "2024-03-11T15:38:21.827184100Z"
    }
   },
   "outputs": [],
   "source": [
    "# add an additional column to th dataframe to perform splitting\n",
    "\n",
    "attacks = ['dos' if x in dos_attacks else\n",
    "           'probe' if x in probe_attacks else\n",
    "           'u2r' if x in u2r_attacks else\n",
    "           'r2l' if x in r2l_attacks else\n",
    "           'normal' for x in df_train_and_validate['label']]\n",
    "\n",
    "# add the column to the dataframe\n",
    "df_train_and_validate['attacks'] = attacks"
   ]
  },
  {
   "cell_type": "markdown",
   "source": [
    "attacks = ['dos' if x in dos_attacks else\n",
    "           'probe' if x in probe_attacks else\n",
    "           'u2r' if x in u2r_attacks else\n",
    "           'r2l' if x in r2l_attacks else\n",
    "           'normal' for x in df_test['label']]\n",
    "\n",
    "# add the column to the dataframe\n",
    "df_test['attacks'] = attacks\n",
    "\n",
    "import matplotlib.pyplot as plt\n",
    "\n",
    "\"\"\"\n",
    "for index, row in df_test.iterrows():\n",
    "    if row['attacks'] in [\"dos\", \"probe\"]:\n",
    "        df_test.at[index, 'attacks'] = 'normal'\n",
    "\"\"\"\n",
    "\n",
    "# Assuming df is your DataFrame and 'column_name' is the specific column you want to plot\n",
    "plt.hist(df_test['attacks'], bins=10)  # Adjust the number of bins as needed\n",
    "plt.xlabel('Values')  # Set x-axis label\n",
    "plt.ylabel('Frequency')  # Set y-axis label\n",
    "plt.title('Histogram of Column')  # Set title\n",
    "#plt.savefig(\"x_validate_f3.png\")\n",
    "\n",
    "print(\"Number of instances: \", df_test['attacks'].value_counts())\n",
    "\n",
    "plt.show()"
   ],
   "metadata": {
    "collapsed": false
   }
  },
  {
   "cell_type": "markdown",
   "source": [
    "# F1, we remove all probe attacks"
   ],
   "metadata": {
    "collapsed": false
   }
  },
  {
   "cell_type": "markdown",
   "source": [
    "df_train_and_validate = df_train_and_validate[df_train_and_validate['attacks'] != \"probe\"]"
   ],
   "metadata": {
    "collapsed": false
   }
  },
  {
   "cell_type": "code",
   "execution_count": 10,
   "outputs": [],
   "source": [
    "# F2, we remove all r2l attacks\n",
    "\n",
    "df_train_and_validate = df_train_and_validate[df_train_and_validate['attacks'] != \"r2l\"]"
   ],
   "metadata": {
    "collapsed": false,
    "ExecuteTime": {
     "end_time": "2024-03-11T15:38:21.921768400Z",
     "start_time": "2024-03-11T15:38:21.861534100Z"
    }
   }
  },
  {
   "cell_type": "markdown",
   "source": [
    "# F3, we remove all u2r attacks\n",
    "\n",
    "df_train_and_validate = df_train_and_validate[df_train_and_validate['attacks'] != \"u2r\"]"
   ],
   "metadata": {
    "collapsed": false
   }
  },
  {
   "cell_type": "markdown",
   "source": [
    "# Removing all U2R and R2L attacks"
   ],
   "metadata": {
    "collapsed": false
   }
  },
  {
   "cell_type": "markdown",
   "source": [
    "df_train_and_validate = df_train_and_validate[~df_train_and_validate['attacks'].isin([\"u2r\", \"r2l\"])]"
   ],
   "metadata": {
    "collapsed": false
   }
  },
  {
   "cell_type": "markdown",
   "source": [
    "import matplotlib.pyplot as plt\n",
    "\n",
    "\"\"\"\n",
    "for index, row in df_train_and_validate.iterrows():\n",
    "    if row['attacks'] in [\"u2r\", \"r2l\"]:\n",
    "        df_train_and_validate.at[index, 'attacks'] = 'normal'\n",
    "\"\"\"\n",
    "\n",
    "# Assuming df is your DataFrame and 'column_name' is the specific column you want to plot\n",
    "plt.hist(df_train_and_validate['attacks'], bins=10)  # Adjust the number of bins as needed\n",
    "plt.xlabel('Values')  # Set x-axis label\n",
    "plt.ylabel('Frequency')  # Set y-axis label\n",
    "plt.title('Histogram of Column')  # Set title\n",
    "#plt.savefig(\"x_validate_f1.png\")\n",
    "\n",
    "print(\"Number of instances: \", df_train_and_validate['attacks'].value_counts())\n",
    "\n",
    "#plt.show()"
   ],
   "metadata": {
    "collapsed": false
   }
  },
  {
   "cell_type": "code",
   "execution_count": 11,
   "metadata": {
    "collapsed": true,
    "jupyter": {
     "outputs_hidden": true,
     "source_hidden": true
    },
    "ExecuteTime": {
     "end_time": "2024-03-11T15:38:22.000114900Z",
     "start_time": "2024-03-11T15:38:21.888789700Z"
    }
   },
   "outputs": [],
   "source": [
    "# split in test and validation set for BOTH layers\n",
    "df_train_original, df_val_original = train_test_split(df_train_and_validate, test_size=0.3, stratify=df_train_and_validate['attacks'])"
   ]
  },
  {
   "cell_type": "markdown",
   "source": [
    "# DOS PROBE CLASSIFIER"
   ],
   "metadata": {
    "collapsed": false
   }
  },
  {
   "cell_type": "code",
   "execution_count": 12,
   "metadata": {
    "collapsed": false,
    "ExecuteTime": {
     "end_time": "2024-03-11T15:38:22.021611400Z",
     "start_time": "2024-03-11T15:38:22.000114900Z"
    }
   },
   "outputs": [],
   "source": [
    "# dataframes specifically for layer 1\n",
    "df_train = copy.deepcopy(df_train_original)\n",
    "df_val = copy.deepcopy(df_val_original)\n",
    "df_test = copy.deepcopy(df_test_original)"
   ]
  },
  {
   "cell_type": "code",
   "execution_count": 13,
   "outputs": [],
   "source": [
    "# target variables for all layers\n",
    "y_train_full = np.array([1 if x not in normal_list else 0 for x in df_train['label']])\n",
    "y_test_full = np.array([1 if x not in normal_list else 0 for x in df_test['label']])\n",
    "\n",
    "# set the target variables accordingly\n",
    "y_train_l1 = np.array([1 if x in (dos_attacks+probe_attacks) else 0 for x in df_train['label']])\n",
    "y_validate_l1 = np.array([1 if x in (dos_attacks+probe_attacks) else 0 for x in df_val['label']])\n",
    "y_test = np.array([1 if x in (dos_attacks+probe_attacks) else 0 for x in df_test ['label']])"
   ],
   "metadata": {
    "collapsed": true,
    "jupyter": {
     "outputs_hidden": true,
     "source_hidden": true
    },
    "ExecuteTime": {
     "end_time": "2024-03-11T15:38:22.073628800Z",
     "start_time": "2024-03-11T15:38:22.018524900Z"
    }
   }
  },
  {
   "cell_type": "code",
   "execution_count": 14,
   "metadata": {
    "collapsed": true,
    "jupyter": {
     "outputs_hidden": true,
     "source_hidden": true
    },
    "ExecuteTime": {
     "end_time": "2024-03-11T15:38:22.104787200Z",
     "start_time": "2024-03-11T15:38:22.076180800Z"
    }
   },
   "outputs": [],
   "source": [
    "# this dataframe contains the whole train set \n",
    "df_train = df_train.drop(['label'],axis=1)\n",
    "df_train = df_train.reset_index().drop(['index'], axis=1)\n",
    "#df_train"
   ]
  },
  {
   "cell_type": "code",
   "execution_count": 15,
   "metadata": {
    "collapsed": true,
    "jupyter": {
     "outputs_hidden": true,
     "source_hidden": true
    },
    "ExecuteTime": {
     "end_time": "2024-03-11T15:38:22.125281800Z",
     "start_time": "2024-03-11T15:38:22.105797200Z"
    }
   },
   "outputs": [],
   "source": [
    "# this dataframe contains the whole validation set\n",
    "df_val = df_val.drop(['label'],axis=1)\n",
    "df_val = df_val.reset_index().drop(['index'], axis=1)\n",
    "#df_val"
   ]
  },
  {
   "cell_type": "code",
   "execution_count": 16,
   "metadata": {
    "collapsed": true,
    "jupyter": {
     "outputs_hidden": true,
     "source_hidden": true
    },
    "ExecuteTime": {
     "end_time": "2024-03-11T15:38:22.145373600Z",
     "start_time": "2024-03-11T15:38:22.122294800Z"
    }
   },
   "outputs": [],
   "source": [
    "# this dataframe contains the whole test set\n",
    "df_test = df_test.drop(['label'],axis=1)\n",
    "df_test = df_test.reset_index().drop(['index'], axis=1)\n",
    "#df_test"
   ]
  },
  {
   "cell_type": "markdown",
   "source": [
    "import matplotlib.pyplot as plt\n",
    "\n",
    "df_train_f1 = copy.deepcopy(df_train_original)\n",
    "\n",
    "for index, row in df_train_f1.iterrows():\n",
    "    if row['attacks'] in [\"u2r\", \"r2l\"]:\n",
    "        df_train_f1.at[index, 'attacks'] = 'normal'\n",
    "\n",
    "# Assuming df is your DataFrame and 'column_name' is the specific column you want to plot\n",
    "plt.hist(df_train_f1['attacks'], bins=10)  # Adjust the number of bins as needed\n",
    "plt.xlabel('Values')  # Set x-axis label\n",
    "plt.ylabel('Frequency')  # Set y-axis label\n",
    "plt.title('Histogram of Column')  # Set title\n",
    "plt.savefig(\"x_validate_f1.png\")\n",
    "\n",
    "print(\"Number of instances: \", df_train_f1['attacks'].value_counts())\n",
    "\n",
    "#plt.show()"
   ],
   "metadata": {
    "collapsed": false
   }
  },
  {
   "cell_type": "markdown",
   "source": [
    "import matplotlib.pyplot as plt\n",
    "\n",
    "df_val_f1 = copy.deepcopy(df_val_original)\n",
    "\n",
    "for index, row in df_val_f1.iterrows():\n",
    "    if row['attacks'] in [\"u2r\", \"r2l\"]:\n",
    "        df_val_f1.at[index, 'attacks'] = 'normal'\n",
    "\n",
    "plt.hist(df_val_f1['attacks'], bins=10)  # Adjust the number of bins as needed\n",
    "plt.xlabel('Values')  # Set x-axis label\n",
    "plt.ylabel('Frequency')  # Set y-axis label\n",
    "plt.title('Histogram of Column')  # Set title\n",
    "plt.savefig(\"x_validate_f1.png\")\n",
    "\n",
    "print(\"Number of instances: \", df_val_f1['attacks'].value_counts())\n",
    "\n",
    "#plt.show()"
   ],
   "metadata": {
    "collapsed": false
   }
  },
  {
   "cell_type": "code",
   "execution_count": 17,
   "metadata": {
    "collapsed": true,
    "jupyter": {
     "outputs_hidden": true,
     "source_hidden": true
    },
    "ExecuteTime": {
     "end_time": "2024-03-11T15:38:22.198236400Z",
     "start_time": "2024-03-11T15:38:22.133339600Z"
    }
   },
   "outputs": [],
   "source": [
    "# Using the features extracted by using the ICFS algorithm\n",
    "X_train = df_train[common_features_l1]\n",
    "X_validate = df_val[common_features_l1]\n",
    "X_test = df_test[common_features_l1]"
   ]
  },
  {
   "cell_type": "markdown",
   "metadata": {
    "collapsed": false
   },
   "source": []
  },
  {
   "cell_type": "code",
   "execution_count": 18,
   "metadata": {
    "collapsed": true,
    "jupyter": {
     "outputs_hidden": true,
     "source_hidden": true
    },
    "ExecuteTime": {
     "end_time": "2024-03-11T15:38:22.202956700Z",
     "start_time": "2024-03-11T15:38:22.144053800Z"
    }
   },
   "outputs": [],
   "source": [
    "# 2 one-hot encoders, one for the features of layer1 and one for the features of layer2\n",
    "ohe = OneHotEncoder(handle_unknown='ignore')\n",
    "ohe2 = OneHotEncoder(handle_unknown='ignore')"
   ]
  },
  {
   "cell_type": "code",
   "execution_count": 19,
   "metadata": {
    "collapsed": true,
    "jupyter": {
     "outputs_hidden": true,
     "source_hidden": true
    },
    "ExecuteTime": {
     "end_time": "2024-03-11T15:38:22.217047400Z",
     "start_time": "2024-03-11T15:38:22.146890600Z"
    }
   },
   "outputs": [],
   "source": [
    "scaler1 = MinMaxScaler()"
   ]
  },
  {
   "cell_type": "code",
   "execution_count": 20,
   "metadata": {
    "collapsed": true,
    "jupyter": {
     "outputs_hidden": true,
     "source_hidden": true
    },
    "ExecuteTime": {
     "end_time": "2024-03-11T15:38:22.219609500Z",
     "start_time": "2024-03-11T15:38:22.152022300Z"
    }
   },
   "outputs": [],
   "source": [
    "scaler2 = MinMaxScaler()"
   ]
  },
  {
   "cell_type": "code",
   "execution_count": 21,
   "metadata": {
    "collapsed": true,
    "jupyter": {
     "outputs_hidden": true,
     "source_hidden": true
    },
    "ExecuteTime": {
     "end_time": "2024-03-11T15:38:22.222878800Z",
     "start_time": "2024-03-11T15:38:22.155290500Z"
    }
   },
   "outputs": [],
   "source": [
    "# scaling the train set for layer1\n",
    "df_minmax = scaler1.fit_transform(X_train)\n",
    "X_train = pd.DataFrame(df_minmax, columns=X_train.columns)\n",
    "\n",
    "#X_train"
   ]
  },
  {
   "cell_type": "code",
   "execution_count": 22,
   "metadata": {
    "collapsed": true,
    "jupyter": {
     "outputs_hidden": true,
     "source_hidden": true
    },
    "ExecuteTime": {
     "end_time": "2024-03-11T15:38:22.233634500Z",
     "start_time": "2024-03-11T15:38:22.178062300Z"
    }
   },
   "outputs": [],
   "source": [
    "# scaling the validation set for layer1\n",
    "df_minmax_val = scaler1.transform(X_validate)\n",
    "X_validate = pd.DataFrame(df_minmax_val, columns=X_validate.columns)\n",
    "\n",
    "#X_validate"
   ]
  },
  {
   "cell_type": "code",
   "execution_count": 23,
   "metadata": {
    "collapsed": true,
    "jupyter": {
     "outputs_hidden": true,
     "source_hidden": true
    },
    "ExecuteTime": {
     "end_time": "2024-03-11T15:38:22.236632400Z",
     "start_time": "2024-03-11T15:38:22.186893200Z"
    }
   },
   "outputs": [],
   "source": [
    "# scaling the test set for layer1\n",
    "df_minmax_test = scaler1.transform(X_test)\n",
    "X_test = pd.DataFrame(df_minmax_test, columns=X_test.columns)\n",
    "\n",
    "#X_vtest"
   ]
  },
  {
   "cell_type": "code",
   "execution_count": 24,
   "metadata": {
    "collapsed": true,
    "jupyter": {
     "outputs_hidden": true,
     "source_hidden": true
    },
    "ExecuteTime": {
     "end_time": "2024-03-11T15:38:22.342465800Z",
     "start_time": "2024-03-11T15:38:22.195235200Z"
    }
   },
   "outputs": [],
   "source": [
    "# perform One-hot encoding for the train set\n",
    "label_enc = ohe.fit_transform(df_train[categorical_features])\n",
    "label_enc.toarray()\n",
    "new_labels = ohe.get_feature_names_out(categorical_features)\n",
    "df_enc = pd.DataFrame(data=label_enc.toarray(), columns=new_labels)\n",
    "X_train = pd.concat([X_train, df_enc], axis=1)"
   ]
  },
  {
   "cell_type": "code",
   "execution_count": 25,
   "metadata": {
    "collapsed": true,
    "jupyter": {
     "outputs_hidden": true,
     "source_hidden": true
    },
    "ExecuteTime": {
     "end_time": "2024-03-11T15:38:22.370616600Z",
     "start_time": "2024-03-11T15:38:22.289181100Z"
    }
   },
   "outputs": [],
   "source": [
    "# perform One-hot encoding for the validation set\n",
    "label_enc = ohe.transform(df_val[categorical_features])\n",
    "label_enc.toarray()\n",
    "new_labels = ohe.get_feature_names_out(categorical_features)\n",
    "df_enc = pd.DataFrame(data=label_enc.toarray(), columns=new_labels)\n",
    "X_validate = pd.concat([X_validate, df_enc], axis=1)\n",
    "\n",
    "#X_validate"
   ]
  },
  {
   "cell_type": "code",
   "execution_count": 26,
   "metadata": {
    "collapsed": true,
    "jupyter": {
     "outputs_hidden": true,
     "source_hidden": true
    },
    "ExecuteTime": {
     "end_time": "2024-03-11T15:38:22.388699200Z",
     "start_time": "2024-03-11T15:38:22.336419300Z"
    }
   },
   "outputs": [],
   "source": [
    "# perform One-hot encoding for the test set\n",
    "label_enc = ohe.transform(df_test[categorical_features])\n",
    "label_enc.toarray()\n",
    "new_labels = ohe.get_feature_names_out(categorical_features)\n",
    "df_enc = pd.DataFrame(data=label_enc.toarray(), columns=new_labels)\n",
    "X_test = pd.concat([X_test, df_enc], axis=1)\n",
    "\n",
    "#X_test"
   ]
  },
  {
   "cell_type": "markdown",
   "metadata": {
    "collapsed": false
   },
   "source": [
    "### Principal Component Analysis"
   ]
  },
  {
   "cell_type": "code",
   "execution_count": 27,
   "metadata": {
    "collapsed": true,
    "jupyter": {
     "outputs_hidden": true,
     "source_hidden": true
    },
    "ExecuteTime": {
     "end_time": "2024-03-11T15:38:23.705469700Z",
     "start_time": "2024-03-11T15:38:22.366618100Z"
    }
   },
   "outputs": [
    {
     "data": {
      "text/plain": "(87484, 28)"
     },
     "execution_count": 27,
     "metadata": {},
     "output_type": "execute_result"
    }
   ],
   "source": [
    "pca_dos_probe = PCA(n_components=0.95)\n",
    "X_train_dos_probe = pca_dos_probe.fit_transform(X_train)\n",
    "X_test_dos_probe = pca_dos_probe.transform(X_test)\n",
    "X_validate_dos_probe = pca_dos_probe.transform(X_validate)\n",
    "\n",
    "# X_train = X_train.sort_index(axis=1)\n",
    "X_train_dos_probe.shape"
   ]
  },
  {
   "cell_type": "markdown",
   "metadata": {
    "collapsed": false
   },
   "source": [
    "### Building the classifier for the layer1"
   ]
  },
  {
   "cell_type": "code",
   "execution_count": 28,
   "metadata": {
    "collapsed": true,
    "jupyter": {
     "outputs_hidden": true,
     "source_hidden": true
    },
    "ExecuteTime": {
     "end_time": "2024-03-11T15:38:23.711088500Z",
     "start_time": "2024-03-11T15:38:23.704422500Z"
    }
   },
   "outputs": [],
   "source": [
    "from datetime import datetime"
   ]
  },
  {
   "cell_type": "markdown",
   "metadata": {
    "collapsed": false
   },
   "source": []
  },
  {
   "cell_type": "code",
   "execution_count": 29,
   "metadata": {
    "collapsed": true,
    "jupyter": {
     "outputs_hidden": true,
     "source_hidden": true
    },
    "ExecuteTime": {
     "end_time": "2024-03-11T15:38:23.723711400Z",
     "start_time": "2024-03-11T15:38:23.707726600Z"
    }
   },
   "outputs": [],
   "source": [
    "# Voting classifiers\n",
    "\n",
    "voting_classifiers = []"
   ]
  },
  {
   "cell_type": "code",
   "execution_count": 30,
   "outputs": [],
   "source": [
    "from sklearn.ensemble import HistGradientBoostingClassifier\n",
    "\n",
    "# Using HistGradientBoosting classifier\n",
    "dos_probe_classifier = HistGradientBoostingClassifier()\n",
    "\n",
    "voting_classifiers.append((\"hgbc\", dos_probe_classifier))"
   ],
   "metadata": {
    "collapsed": false,
    "ExecuteTime": {
     "end_time": "2024-03-11T15:38:23.740290700Z",
     "start_time": "2024-03-11T15:38:23.711088500Z"
    }
   }
  },
  {
   "cell_type": "markdown",
   "source": [
    "start = datetime.now()\n",
    "dos_probe_classifier.fit(X_train_dos_probe, y_train_l1)\n",
    "ttime = datetime.now() - start"
   ],
   "metadata": {
    "collapsed": false
   }
  },
  {
   "cell_type": "markdown",
   "source": [
    "# Using Random Forest Classifier\n",
    "dos_probe_classifier = RandomForestClassifier()\n",
    "\n",
    "voting_classifiers.append((\"rf\", dos_probe_classifier))"
   ],
   "metadata": {
    "collapsed": false
   }
  },
  {
   "cell_type": "markdown",
   "source": [
    "start = datetime.now()\n",
    "dos_probe_classifier.fit(X_train_dos_probe, y_train_l1)\n",
    "ttime = datetime.now() - start"
   ],
   "metadata": {
    "collapsed": false
   }
  },
  {
   "cell_type": "code",
   "execution_count": 31,
   "outputs": [],
   "source": [
    "# Using the Naive Bayes Classifier\n",
    "dos_probe_classifier = GaussianNB()\n",
    "\n",
    "voting_classifiers.append((\"nbc\", dos_probe_classifier))"
   ],
   "metadata": {
    "collapsed": false,
    "ExecuteTime": {
     "end_time": "2024-03-11T15:38:23.742313700Z",
     "start_time": "2024-03-11T15:38:23.715467900Z"
    }
   }
  },
  {
   "cell_type": "markdown",
   "source": [
    "start = datetime.now()\n",
    "dos_probe_classifier.fit(X_train_dos_probe, y_train_l1)\n",
    "ttime = datetime.now() - start"
   ],
   "metadata": {
    "collapsed": false
   }
  },
  {
   "cell_type": "markdown",
   "metadata": {
    "collapsed": false
   },
   "source": [
    "# Voting classifier"
   ]
  },
  {
   "cell_type": "code",
   "execution_count": 32,
   "outputs": [],
   "source": [
    "from sklearn.ensemble import VotingClassifier\n",
    "\n",
    "dos_probe_classifier = VotingClassifier(estimators=voting_classifiers, voting='soft')"
   ],
   "metadata": {
    "collapsed": false,
    "ExecuteTime": {
     "end_time": "2024-03-11T15:38:23.815757400Z",
     "start_time": "2024-03-11T15:38:23.720653100Z"
    }
   }
  },
  {
   "cell_type": "code",
   "execution_count": 33,
   "outputs": [],
   "source": [
    "start = datetime.now()\n",
    "dos_probe_classifier.fit(X_train_dos_probe, y_train_l1)\n",
    "ttime = datetime.now() - start"
   ],
   "metadata": {
    "collapsed": false,
    "ExecuteTime": {
     "end_time": "2024-03-11T15:38:25.137694100Z",
     "start_time": "2024-03-11T15:38:23.723711400Z"
    }
   }
  },
  {
   "cell_type": "markdown",
   "source": [
    "predicted = dos_probe_classifier.predict(X_test_dos_probe)\n",
    "\n",
    "print('Using a voting classifier:')\n",
    "print('Confusion matrix: [TP FN / FP TN]\\n', confusion_matrix(y_test,predicted))\n",
    "print('Accuracy = ', accuracy_score(y_test,predicted))\n",
    "print('F1 Score = ', f1_score(y_test,predicted))\n",
    "print('Precision = ', precision_score(y_test,predicted))\n",
    "print('Recall = ', recall_score(y_test,predicted))\n",
    "print('Train time = ', ttime)\n",
    "print('Shape of the train set for l1: ', X_train_dos_probe.shape)"
   ],
   "metadata": {
    "collapsed": false
   }
  },
  {
   "cell_type": "markdown",
   "metadata": {},
   "source": [
    "# R2L+U2R classifier"
   ]
  },
  {
   "cell_type": "code",
   "execution_count": 34,
   "outputs": [
    {
     "name": "stdout",
     "output_type": "stream",
     "text": [
      "Number of instances:  attacks\n",
      "normal    87448\n",
      "u2r          36\n",
      "Name: count, dtype: int64\n"
     ]
    },
    {
     "data": {
      "text/plain": "<Figure size 640x480 with 1 Axes>",
      "image/png": "[encoded data removed]"
     },
     "metadata": {},
     "output_type": "display_data"
    }
   ],
   "source": [
    "import matplotlib.pyplot as plt\n",
    "\n",
    "df_train_f2 = copy.deepcopy(df_train_original)\n",
    "\n",
    "for index, row in df_train_f2.iterrows():\n",
    "    if row['attacks'] in [\"dos\", \"probe\"]:\n",
    "        df_train_f2.at[index, 'attacks'] = 'normal'\n",
    "\n",
    "plt.hist(df_train_f2['attacks'], bins=10)  # Adjust the number of bins as needed\n",
    "plt.xlabel('Values')  # Set x-axis label\n",
    "plt.ylabel('Frequency')  # Set y-axis label\n",
    "plt.title('Histogram of Column')  # Set title\n",
    "plt.savefig(\"x_train_f2.png\")\n",
    "\n",
    "print(\"Number of instances: \", df_train_f2['attacks'].value_counts())\n",
    "\n",
    "plt.show()"
   ],
   "metadata": {
    "collapsed": false,
    "ExecuteTime": {
     "end_time": "2024-03-11T15:38:29.158438700Z",
     "start_time": "2024-03-11T15:38:25.139881300Z"
    }
   }
  },
  {
   "cell_type": "code",
   "execution_count": 35,
   "outputs": [
    {
     "name": "stdout",
     "output_type": "stream",
     "text": [
      "Number of instances:  attacks\n",
      "normal    37478\n",
      "u2r          16\n",
      "Name: count, dtype: int64\n"
     ]
    },
    {
     "data": {
      "text/plain": "<Figure size 640x480 with 1 Axes>",
      "image/png": "[encoded data removed]"
     },
     "metadata": {},
     "output_type": "display_data"
    }
   ],
   "source": [
    "import matplotlib.pyplot as plt\n",
    "\n",
    "df_val_f2 = copy.deepcopy(df_val_original)\n",
    "\n",
    "for index, row in df_val_f2.iterrows():\n",
    "    if row['attacks'] in [\"dos\", \"probe\"]:\n",
    "        df_val_f2.at[index, 'attacks'] = 'normal'\n",
    "\n",
    "# Assuming df is your DataFrame and 'column_name' is the specific column you want to plot\n",
    "plt.hist(df_val_f2['attacks'], bins=10)  # Adjust the number of bins as needed\n",
    "plt.xlabel('Values')  # Set x-axis label\n",
    "plt.ylabel('Frequency')  # Set y-axis label\n",
    "plt.title('Histogram of Column')  # Set title\n",
    "plt.savefig(\"x_validate_f2.png\")\n",
    "\n",
    "print(\"Number of instances: \", df_val_f2['attacks'].value_counts())\n",
    "\n",
    "plt.show()"
   ],
   "metadata": {
    "collapsed": false,
    "ExecuteTime": {
     "end_time": "2024-03-11T15:38:30.796987900Z",
     "start_time": "2024-03-11T15:38:29.157407900Z"
    }
   }
  },
  {
   "cell_type": "code",
   "execution_count": 36,
   "metadata": {
    "collapsed": true,
    "jupyter": {
     "outputs_hidden": true,
     "source_hidden": true
    },
    "ExecuteTime": {
     "end_time": "2024-03-11T15:38:30.882597500Z",
     "start_time": "2024-03-11T15:38:30.795986200Z"
    }
   },
   "outputs": [],
   "source": [
    "df_train = copy.deepcopy(df_train_original)\n",
    "df_test = copy.deepcopy(df_test_original)\n",
    "df_val = copy.deepcopy(df_val_original)\n",
    "\n",
    "# load targeted attacks (Normal + r2l + u2r)\n",
    "df_train = df_train[df_train['label'].isin(normal_list+u2r_attacks+r2l_attacks)]\n",
    "df_val = df_val[df_val['label'].isin(normal_list+u2r_attacks+r2l_attacks)]\n",
    "df_test = df_test[df_test['label'].isin(normal_list+u2r_attacks+r2l_attacks)]\n",
    "\n",
    "# set the target variables accordingly\n",
    "y_train_l2 = np.array([1 if x in (u2r_attacks+r2l_attacks) else 0 for x in df_train['label']])\n",
    "y_validate_l2 = np.array([1 if x in (u2r_attacks+r2l_attacks) else 0 for x in df_val['label']])\n",
    "y_test = np.array([1 if x in (u2r_attacks+r2l_attacks) else 0 for x in df_test['label']])\n",
    "\n",
    "df_train = df_train.drop(['label'],axis=1)\n",
    "df_train = df_train.reset_index().drop(['index'], axis=1)\n",
    "#df_train"
   ]
  },
  {
   "cell_type": "code",
   "execution_count": 37,
   "metadata": {
    "collapsed": true,
    "jupyter": {
     "outputs_hidden": true,
     "source_hidden": true
    },
    "ExecuteTime": {
     "end_time": "2024-03-11T15:38:30.886717700Z",
     "start_time": "2024-03-11T15:38:30.870329500Z"
    }
   },
   "outputs": [],
   "source": [
    "df_val = df_val.drop(['label'],axis=1)\n",
    "df_val = df_val.reset_index().drop(['index'], axis=1)\n",
    "#df_val"
   ]
  },
  {
   "cell_type": "code",
   "execution_count": 38,
   "metadata": {
    "collapsed": true,
    "jupyter": {
     "outputs_hidden": true,
     "source_hidden": true
    },
    "ExecuteTime": {
     "end_time": "2024-03-11T15:38:30.919704800Z",
     "start_time": "2024-03-11T15:38:30.885193Z"
    }
   },
   "outputs": [],
   "source": [
    "df_test = df_test.drop(['label'],axis=1)\n",
    "df_test = df_test.reset_index().drop(['index'], axis=1)\n",
    "#df_test"
   ]
  },
  {
   "cell_type": "code",
   "execution_count": 39,
   "metadata": {
    "collapsed": true,
    "jupyter": {
     "outputs_hidden": true,
     "source_hidden": true
    },
    "ExecuteTime": {
     "end_time": "2024-03-11T15:38:30.947417300Z",
     "start_time": "2024-03-11T15:38:30.890990300Z"
    }
   },
   "outputs": [],
   "source": [
    "X_train = df_train[common_features_l2]\n",
    "X_validate = df_val[common_features_l2]\n",
    "X_test = df_test[common_features_l2]"
   ]
  },
  {
   "cell_type": "code",
   "execution_count": 40,
   "metadata": {
    "collapsed": true,
    "jupyter": {
     "outputs_hidden": true,
     "source_hidden": true
    },
    "ExecuteTime": {
     "end_time": "2024-03-11T15:38:30.960509900Z",
     "start_time": "2024-03-11T15:38:30.905441200Z"
    }
   },
   "outputs": [],
   "source": [
    "df_minmax = scaler2.fit_transform(X_train[common_features_l2])\n",
    "X_train = pd.DataFrame(df_minmax, columns=X_train.columns)\n",
    "#X_train"
   ]
  },
  {
   "cell_type": "code",
   "execution_count": 41,
   "metadata": {
    "collapsed": true,
    "jupyter": {
     "outputs_hidden": true,
     "source_hidden": true
    },
    "ExecuteTime": {
     "end_time": "2024-03-11T15:38:30.964119500Z",
     "start_time": "2024-03-11T15:38:30.924574600Z"
    }
   },
   "outputs": [],
   "source": [
    "df_minmax = scaler2.transform(X_validate)\n",
    "X_validate = pd.DataFrame(df_minmax, columns=X_validate.columns)\n",
    "#X_validate"
   ]
  },
  {
   "cell_type": "code",
   "execution_count": 42,
   "metadata": {
    "collapsed": true,
    "jupyter": {
     "outputs_hidden": true,
     "source_hidden": true
    },
    "ExecuteTime": {
     "end_time": "2024-03-11T15:38:30.979251700Z",
     "start_time": "2024-03-11T15:38:30.931050300Z"
    }
   },
   "outputs": [],
   "source": [
    "df_minmax = scaler2.transform(X_test)\n",
    "X_test = pd.DataFrame(df_minmax, columns=X_test.columns)\n",
    "#X_test"
   ]
  },
  {
   "cell_type": "code",
   "execution_count": 43,
   "metadata": {
    "collapsed": true,
    "jupyter": {
     "outputs_hidden": true,
     "source_hidden": true
    },
    "ExecuteTime": {
     "end_time": "2024-03-11T15:38:31.030680600Z",
     "start_time": "2024-03-11T15:38:30.936562600Z"
    }
   },
   "outputs": [],
   "source": [
    "# perform One-hot encoding for the train set\n",
    "label_enc = ohe2.fit_transform(df_train[categorical_features])\n",
    "label_enc.toarray()\n",
    "new_labels = ohe2.get_feature_names_out(categorical_features)\n",
    "df_enc = pd.DataFrame(data=label_enc.toarray(), columns=new_labels)\n",
    "X_train = pd.concat([X_train, df_enc], axis=1)\n",
    "#X_train"
   ]
  },
  {
   "cell_type": "code",
   "execution_count": 44,
   "metadata": {
    "collapsed": true,
    "jupyter": {
     "outputs_hidden": true,
     "source_hidden": true
    },
    "ExecuteTime": {
     "end_time": "2024-03-11T15:38:31.049274700Z",
     "start_time": "2024-03-11T15:38:30.977251900Z"
    }
   },
   "outputs": [],
   "source": [
    "# perform One-hot encoding for the validation set\n",
    "label_enc = ohe2.transform(df_val[categorical_features])\n",
    "label_enc.toarray()\n",
    "new_labels = ohe2.get_feature_names_out(categorical_features)\n",
    "df_enc = pd.DataFrame(data=label_enc.toarray(), columns=new_labels)\n",
    "X_validate = pd.concat([X_validate, df_enc], axis=1)\n",
    "#X_validate"
   ]
  },
  {
   "cell_type": "code",
   "execution_count": 45,
   "metadata": {
    "collapsed": true,
    "jupyter": {
     "outputs_hidden": true,
     "source_hidden": true
    },
    "ExecuteTime": {
     "end_time": "2024-03-11T15:38:31.082895Z",
     "start_time": "2024-03-11T15:38:30.999659700Z"
    }
   },
   "outputs": [],
   "source": [
    "# perform One-hot encoding for the test set\n",
    "label_enc = ohe2.transform(df_test[categorical_features])\n",
    "label_enc.toarray()\n",
    "new_labels = ohe2.get_feature_names_out(categorical_features)\n",
    "df_enc = pd.DataFrame(data=label_enc.toarray(), columns=new_labels)\n",
    "X_test = pd.concat([X_test, df_enc], axis=1)\n",
    "#X_test"
   ]
  },
  {
   "cell_type": "code",
   "execution_count": 46,
   "outputs": [
    {
     "name": "stdout",
     "output_type": "stream",
     "text": [
      "Number of instances:  attacks\n",
      "normal    87448\n",
      "u2r          36\n",
      "Name: count, dtype: int64\n"
     ]
    },
    {
     "data": {
      "text/plain": "<Figure size 640x480 with 1 Axes>",
      "image/png": "[encoded data removed]"
     },
     "metadata": {},
     "output_type": "display_data"
    }
   ],
   "source": [
    "import matplotlib.pyplot as plt\n",
    "\n",
    "df_train_f2 = copy.deepcopy(df_train_original)\n",
    "\n",
    "for index, row in df_train_f2.iterrows():\n",
    "    if row['attacks'] in [\"dos\", \"probe\"]:\n",
    "        df_train_f2.at[index, 'attacks'] = 'normal'\n",
    "\n",
    "# Assuming df is your DataFrame and 'column_name' is the specific column you want to plot\n",
    "plt.hist(df_train_f2['attacks'], bins=10)  # Adjust the number of bins as needed\n",
    "plt.xlabel('Values')  # Set x-axis label\n",
    "plt.ylabel('Frequency')  # Set y-axis label\n",
    "plt.title('Histogram of Column')  # Set title\n",
    "plt.savefig(\"x_train_f3.png\")\n",
    "\n",
    "print(\"Number of instances: \", df_train_f2['attacks'].value_counts())\n",
    "\n",
    "#plt.show()"
   ],
   "metadata": {
    "collapsed": false,
    "ExecuteTime": {
     "end_time": "2024-03-11T15:38:34.613454900Z",
     "start_time": "2024-03-11T15:38:31.018478500Z"
    }
   }
  },
  {
   "cell_type": "code",
   "execution_count": 47,
   "outputs": [],
   "source": [
    "# Under sampling the train set for l2\n",
    "sm = under_sam(sampling_strategy=1)\n",
    "X_train, y_train_l2 = sm.fit_resample(X_train,y_train_l2)"
   ],
   "metadata": {
    "collapsed": false,
    "ExecuteTime": {
     "end_time": "2024-03-11T15:38:34.626622800Z",
     "start_time": "2024-03-11T15:38:34.611030900Z"
    }
   }
  },
  {
   "cell_type": "markdown",
   "source": [
    "# Under sampling the validation set for l2\n",
    "sm = under_sam(sampling_strategy=1)\n",
    "X_validate, y_validate_l2 = sm.fit_resample(X_validate,y_validate_l2)"
   ],
   "metadata": {
    "collapsed": false
   }
  },
  {
   "cell_type": "code",
   "execution_count": 48,
   "outputs": [
    {
     "name": "stdout",
     "output_type": "stream",
     "text": [
      "Number of instances:  attacks\n",
      "normal    37478\n",
      "u2r          16\n",
      "Name: count, dtype: int64\n"
     ]
    },
    {
     "data": {
      "text/plain": "<Figure size 640x480 with 1 Axes>",
      "image/png": "[encoded data removed]"
     },
     "metadata": {},
     "output_type": "display_data"
    }
   ],
   "source": [
    "import matplotlib.pyplot as plt\n",
    "\n",
    "df_val_f2 = copy.deepcopy(df_val_original)\n",
    "\n",
    "for index, row in df_val_f2.iterrows():\n",
    "    if row['attacks'] in [\"dos\", \"probe\"]:\n",
    "        df_val_f2.at[index, 'attacks'] = 'normal'\n",
    "\n",
    "# Assuming df is your DataFrame and 'column_name' is the specific column you want to plot\n",
    "plt.hist(df_val_f2['attacks'], bins=10)  # Adjust the number of bins as needed\n",
    "plt.xlabel('Values')  # Set x-axis label\n",
    "plt.ylabel('Frequency')  # Set y-axis label\n",
    "plt.title('Histogram of Column')  # Set title\n",
    "plt.savefig(\"x_validate_f3.png\")\n",
    "\n",
    "print(\"Number of instances: \", df_val_f2['attacks'].value_counts())\n",
    "\n",
    "#plt.show()"
   ],
   "metadata": {
    "collapsed": false,
    "ExecuteTime": {
     "end_time": "2024-03-11T15:38:36.262245Z",
     "start_time": "2024-03-11T15:38:34.626622800Z"
    }
   }
  },
  {
   "cell_type": "code",
   "execution_count": 49,
   "metadata": {
    "collapsed": true,
    "jupyter": {
     "outputs_hidden": true,
     "source_hidden": true
    },
    "ExecuteTime": {
     "end_time": "2024-03-11T15:38:36.347897800Z",
     "start_time": "2024-03-11T15:38:36.260748700Z"
    }
   },
   "outputs": [],
   "source": [
    "# Principal Component Analysis\n",
    "pca_r2l_u2r = PCA(n_components=0.95)\n",
    "X_train_r2l_u2r = pca_r2l_u2r.fit_transform(X_train)\n",
    "X_test_r2l_u2r = pca_r2l_u2r.transform(X_test)\n",
    "X_validate_r2l_u2r = pca_r2l_u2r.transform(X_validate)"
   ]
  },
  {
   "cell_type": "code",
   "execution_count": 50,
   "outputs": [],
   "source": [
    "# Support Vector Machine for layer l2\n",
    "r2l_u2r_classifier = SVC(probability=True)\n",
    "\n",
    "start = datetime.now()\n",
    "r2l_u2r_classifier.fit(X_train_r2l_u2r, y_train_l2)\n",
    "ttime = datetime.now() - start"
   ],
   "metadata": {
    "collapsed": false,
    "ExecuteTime": {
     "end_time": "2024-03-11T15:38:36.351733500Z",
     "start_time": "2024-03-11T15:38:36.282067400Z"
    }
   }
  },
  {
   "cell_type": "markdown",
   "source": [
    "from sklearn.svm import OneClassSVM\n",
    "\n",
    "# One Class SVM for layer l2\n",
    "r2l_u2r_classifier = OneClassSVM()\n",
    "\n",
    "start = datetime.now()\n",
    "r2l_u2r_classifier.fit(X_train_r2l_u2r)\n",
    "ttime = datetime.now() - start"
   ],
   "metadata": {
    "collapsed": false
   }
  },
  {
   "cell_type": "markdown",
   "metadata": {},
   "source": [
    "# Testing"
   ]
  },
  {
   "cell_type": "code",
   "execution_count": 51,
   "metadata": {
    "collapsed": true,
    "jupyter": {
     "outputs_hidden": true,
     "source_hidden": true
    },
    "ExecuteTime": {
     "end_time": "2024-03-11T15:38:36.366286300Z",
     "start_time": "2024-03-11T15:38:36.288418Z"
    }
   },
   "outputs": [],
   "source": [
    "df_test1 = copy.deepcopy(df_test_original)\n",
    "df_test2 = copy.deepcopy(df_test_original)\n",
    "\n",
    "y_test_real = np.array([0 if x=='normal' else 1 for x in df_test1['label']])\n",
    "\n",
    "np.save(\"EvalResources/Test/KDDTest+_targets\", y_test_real)"
   ]
  },
  {
   "cell_type": "code",
   "execution_count": 52,
   "metadata": {
    "collapsed": true,
    "jupyter": {
     "outputs_hidden": true,
     "source_hidden": true
    },
    "ExecuteTime": {
     "end_time": "2024-03-11T15:38:36.368399Z",
     "start_time": "2024-03-11T15:38:36.298289400Z"
    }
   },
   "outputs": [
    {
     "data": {
      "text/plain": "(22544,)"
     },
     "execution_count": 52,
     "metadata": {},
     "output_type": "execute_result"
    }
   ],
   "source": [
    "y_test_real.shape"
   ]
  },
  {
   "cell_type": "code",
   "execution_count": 53,
   "metadata": {
    "collapsed": true,
    "jupyter": {
     "outputs_hidden": true,
     "source_hidden": true
    },
    "ExecuteTime": {
     "end_time": "2024-03-11T15:38:36.425054300Z",
     "start_time": "2024-03-11T15:38:36.302848600Z"
    }
   },
   "outputs": [],
   "source": [
    "X_test1 = df_test1[common_features_l1]"
   ]
  },
  {
   "cell_type": "code",
   "execution_count": 54,
   "metadata": {
    "collapsed": true,
    "jupyter": {
     "outputs_hidden": true,
     "source_hidden": true
    },
    "ExecuteTime": {
     "end_time": "2024-03-11T15:38:36.449486300Z",
     "start_time": "2024-03-11T15:38:36.308509700Z"
    }
   },
   "outputs": [
    {
     "name": "stdout",
     "output_type": "stream",
     "text": [
      "Test set shape for layer 1:  (22544, 28)\n"
     ]
    }
   ],
   "source": [
    "df_minmax = scaler1.transform(X_test1)\n",
    "X_test1 = pd.DataFrame(df_minmax, columns=X_test1.columns)\n",
    "label_enc = ohe.transform(df_test1.iloc[:,1:4])\n",
    "label_enc.toarray()\n",
    "new_labels = ohe.get_feature_names_out(categorical_features)\n",
    "df_enc = pd.DataFrame(data=label_enc.toarray(), columns=new_labels)\n",
    "X_test1 = pd.concat([X_test1, df_enc], axis=1)\n",
    "\n",
    "X_test_layer1 = pca_dos_probe.transform(X_test1)\n",
    "print('Test set shape for layer 1: ', X_test_layer1.shape)"
   ]
  },
  {
   "cell_type": "code",
   "execution_count": 55,
   "metadata": {
    "collapsed": true,
    "jupyter": {
     "outputs_hidden": true,
     "source_hidden": true
    },
    "ExecuteTime": {
     "end_time": "2024-03-11T15:38:36.463024Z",
     "start_time": "2024-03-11T15:38:36.353741900Z"
    }
   },
   "outputs": [],
   "source": [
    "#X_test1"
   ]
  },
  {
   "cell_type": "code",
   "execution_count": 56,
   "metadata": {
    "collapsed": true,
    "jupyter": {
     "outputs_hidden": true,
     "source_hidden": true
    },
    "ExecuteTime": {
     "end_time": "2024-03-11T15:38:36.466619100Z",
     "start_time": "2024-03-11T15:38:36.357730500Z"
    }
   },
   "outputs": [],
   "source": [
    "X_test2 = df_test2"
   ]
  },
  {
   "cell_type": "code",
   "execution_count": 57,
   "metadata": {
    "collapsed": true,
    "jupyter": {
     "outputs_hidden": true,
     "source_hidden": true
    },
    "ExecuteTime": {
     "end_time": "2024-03-11T15:38:36.478727500Z",
     "start_time": "2024-03-11T15:38:36.361285300Z"
    }
   },
   "outputs": [],
   "source": [
    "X_test2 = df_test2[common_features_l2] "
   ]
  },
  {
   "cell_type": "code",
   "execution_count": 58,
   "metadata": {
    "collapsed": true,
    "jupyter": {
     "outputs_hidden": true,
     "source_hidden": true
    },
    "ExecuteTime": {
     "end_time": "2024-03-11T15:38:36.501972600Z",
     "start_time": "2024-03-11T15:38:36.368399Z"
    }
   },
   "outputs": [
    {
     "name": "stdout",
     "output_type": "stream",
     "text": [
      "Test set shape for layer 1:  (22544, 28)\n",
      "Test set shape for layer 2:  (22544, 12)\n"
     ]
    }
   ],
   "source": [
    "df_minmax = scaler2.transform(X_test2)\n",
    "X_test2 = pd.DataFrame(df_minmax, columns=X_test2.columns)\n",
    "label_enc = ohe2.transform(df_test2.iloc[:,1:4])\n",
    "label_enc.toarray()\n",
    "new_labels = ohe2.get_feature_names_out(categorical_features)\n",
    "df_enc = pd.DataFrame(data=label_enc.toarray(), columns=new_labels)\n",
    "X_test2 = pd.concat([X_test2, df_enc], axis=1)\n",
    "\n",
    "X_test_layer2 = pca_r2l_u2r.transform(X_test2)\n",
    "print('Test set shape for layer 1: ', X_test_layer1.shape)\n",
    "print('Test set shape for layer 2: ', X_test_layer2.shape)"
   ]
  },
  {
   "cell_type": "code",
   "execution_count": 59,
   "metadata": {
    "collapsed": true,
    "jupyter": {
     "outputs_hidden": true,
     "source_hidden": true
    },
    "ExecuteTime": {
     "end_time": "2024-03-11T15:38:36.505052Z",
     "start_time": "2024-03-11T15:38:36.403866500Z"
    }
   },
   "outputs": [],
   "source": [
    "#X_test_layer1"
   ]
  },
  {
   "cell_type": "code",
   "execution_count": 60,
   "metadata": {
    "collapsed": true,
    "jupyter": {
     "outputs_hidden": true,
     "source_hidden": true
    },
    "ExecuteTime": {
     "end_time": "2024-03-11T15:38:36.516072200Z",
     "start_time": "2024-03-11T15:38:36.407602300Z"
    }
   },
   "outputs": [],
   "source": [
    "#X_test_layer2"
   ]
  },
  {
   "cell_type": "code",
   "execution_count": 61,
   "metadata": {
    "collapsed": true,
    "jupyter": {
     "outputs_hidden": true,
     "source_hidden": true
    },
    "ExecuteTime": {
     "end_time": "2024-03-11T15:38:36.518247400Z",
     "start_time": "2024-03-11T15:38:36.410525900Z"
    }
   },
   "outputs": [],
   "source": [
    "# same classifiers obtained above\n",
    "classifier1 = dos_probe_classifier\n",
    "classifier2 = r2l_u2r_classifier"
   ]
  },
  {
   "cell_type": "code",
   "execution_count": 62,
   "metadata": {
    "collapsed": true,
    "jupyter": {
     "outputs_hidden": true,
     "source_hidden": true
    },
    "ExecuteTime": {
     "end_time": "2024-03-11T15:38:36.521470300Z",
     "start_time": "2024-03-11T15:38:36.413898Z"
    }
   },
   "outputs": [],
   "source": [
    "import warnings\n",
    "\n",
    "# Suppressing the warning\n",
    "warnings.filterwarnings(\"ignore\", message=\"X does not have valid feature names.*\")\n",
    "\n",
    "import numpy as np\n",
    "from datetime import datetime\n",
    "\n",
    "def test_metrics():\n",
    "    result_ = []\n",
    "    tn, fp, fn, tp = 0, 0, 0, 0\n",
    "    \n",
    "    start_ = datetime.now()\n",
    "    \n",
    "    for i in range(X_test_layer2.shape[0]):\n",
    "        layer1_ = classifier1.predict(X_test_layer1[i].reshape(1, -1))[0]\n",
    "        if layer1_ == 1:\n",
    "            result_.append(layer1_)\n",
    "        else:\n",
    "            layer2_ = classifier2.predict(X_test_layer2[i].reshape(1, -1))[0]\n",
    "            if layer2_ == 1:\n",
    "                result_.append(layer2_)\n",
    "            else:\n",
    "                result_.append(0)\n",
    "        # Evaluate confusion matrix\n",
    "        if y_test_real[i] == 1:\n",
    "            if result_[-1] == 1:\n",
    "                tp += 1\n",
    "            else:\n",
    "                fn += 1\n",
    "        else:\n",
    "            if result_[-1] == 1:\n",
    "                fp += 1\n",
    "            else:\n",
    "                tn += 1\n",
    "    \n",
    "    clf_time_ = datetime.now() - start_\n",
    "    \n",
    "    # Calculate rates\n",
    "    tnr_ = tn / (tn + fp)\n",
    "    fpr_= fp / (fp + tn)\n",
    "    fnr_ = fn / (fn + tp)\n",
    "    \n",
    "    return (accuracy_score(y_test_real,np.array(result_)), \n",
    "            f1_score(y_test_real, np.array(result_)),\n",
    "            precision_score(y_test_real, np.array(result_)),\n",
    "            recall_score(y_test_real, np.array(result_)),\n",
    "            clf_time_, tnr_, fpr_, fnr_, np.array(result_))"
   ]
  },
  {
   "cell_type": "code",
   "execution_count": 63,
   "outputs": [],
   "source": [
    "# the results may vary\n",
    "accuracy, f_score, precision, recall, clf_time, tnr, fpr, fnr, result = test_metrics()"
   ],
   "metadata": {
    "collapsed": false,
    "ExecuteTime": {
     "end_time": "2024-03-11T15:39:04.643354500Z",
     "start_time": "2024-03-11T15:38:36.420053Z"
    }
   }
  },
  {
   "cell_type": "code",
   "execution_count": 64,
   "outputs": [],
   "source": [
    "# load testset\n",
    "df_test = pd.read_csv('EvalResources/KDDTest+.txt', sep=\",\", header=None, skipinitialspace=True)\n",
    "df_test = df_test[df_test.columns[:-1]]\n",
    "df_test.columns = titles.to_list()\n",
    "y_test = df_test['label']\n",
    "df_test = df_test.drop(['num_outbound_cmds'], axis=1)\n",
    "\n",
    "df_test_original = df_test\n",
    "if EXPORT_DATASETS:\n",
    "    df_test_original.to_csv('EvalResources/ProcessedDatasets/x_test_full.txt', index=False)\n",
    "    np.save('EvalResources/ProcessedDatasets/y_test_full', y_test)\n",
    "\n",
    "#df_test_original\n",
    "new_attack = []\n",
    "for i in df_test_original['label'].value_counts().index.tolist()[1:]:\n",
    "    if i not in df_train_original['label'].value_counts().index.tolist()[1:]:\n",
    "        new_attack.append(i)\n",
    "\n",
    "new_attack.sort()\n",
    "#new_attack\n",
    "index_of_new_attacks = []\n",
    "\n",
    "for i in range(len(df_test_original)):\n",
    "    if df_test_original['label'][i] in new_attack:\n",
    "        index_of_new_attacks.append(df_test_original.index[i])\n",
    "\n",
    "new_attack.append('normal')\n",
    "\n",
    "index_of_old_attacks = []\n",
    "\n",
    "for i in range(len(df_test_original)):\n",
    "    if df_test_original['label'][i] not in new_attack:\n",
    "        index_of_old_attacks.append(df_test_original.index[i])"
   ],
   "metadata": {
    "collapsed": false,
    "ExecuteTime": {
     "end_time": "2024-03-11T15:39:04.988145600Z",
     "start_time": "2024-03-11T15:39:04.648270800Z"
    }
   }
  },
  {
   "cell_type": "code",
   "execution_count": 65,
   "outputs": [
    {
     "name": "stdout",
     "output_type": "stream",
     "text": [
      "0.869\n",
      "0.881\n",
      "0.913\n",
      "0.852\n",
      "0:00:28.189482\n",
      "0.892\n",
      "0.108\n",
      "0.148\n",
      "0.912\n",
      "0.949\n",
      "0.613\n",
      "0.896\n",
      "0.754\n",
      "0.937\n"
     ]
    }
   ],
   "source": [
    "### Evaluate single attack types\n",
    "# load test set\n",
    "df_test = pd.read_csv('EvalResources/KDDTest+.txt', sep=\",\", header=None, skipinitialspace=True)\n",
    "df_test = df_test[df_test.columns[:-1]]\n",
    "df_test.columns = titles.to_list()\n",
    "y_test = df_test['label']\n",
    "df_test = df_test.drop(['num_outbound_cmds'], axis=1)\n",
    "df_test_original = df_test\n",
    "df = df_test_original\n",
    "\n",
    "dos_index = df.index[(df['label'].isin(dos_attacks))].tolist()\n",
    "probe_index = df.index[(df['label'].isin(probe_attacks))].tolist()\n",
    "r2l_index = df.index[(df['label'].isin(r2l_attacks))].tolist()\n",
    "u2r_index = df.index[(df['label'].isin(u2r_attacks))].tolist()\n",
    "\n",
    "\"\"\"\n",
    "print('Accuracy = ', accuracy)\n",
    "print('F1 Score = ', f_score)\n",
    "print('Precision = ', precision)\n",
    "print('Recall = ', recall)\n",
    "print('Classification time = ', clf_time)\n",
    "\n",
    "print('True Negative Rate (TNR) =', tnr)\n",
    "print('False Positive Rate (FPR) =', fpr)\n",
    "print('False Negative Rate (FNR) =', fnr)\n",
    "\n",
    "print(\"Ratio of DOS detection: \", result[dos_index].sum() / result[dos_index].shape[0])\n",
    "\n",
    "print(\"Ratio of PROBE detection: \", result[probe_index].sum() / result[probe_index].shape[0])\n",
    "\n",
    "print(\"Ratio of U2R detection: \", result[r2l_index].sum() / result[r2l_index].shape[0])\n",
    "\n",
    "print(\"Ratio of R2L detection: \", result[u2r_index].sum() / result[u2r_index].shape[0])\n",
    "\n",
    "print('New attacks detected: ',\n",
    "      result[index_of_new_attacks].sum() / result[index_of_new_attacks].shape[0])\n",
    "\n",
    "print('Old attacks detected: ',\n",
    "      result[index_of_old_attacks].sum() / result[index_of_old_attacks].shape[0])\n",
    "\"\"\"\n",
    "\n",
    "print('{:.3f}'.format(accuracy))\n",
    "print('{:.3f}'.format(f_score))\n",
    "print('{:.3f}'.format(precision))\n",
    "print('{:.3f}'.format(recall))\n",
    "print(clf_time)\n",
    "\n",
    "print('{:.3f}'.format(tnr))\n",
    "print('{:.3f}'.format(fpr))\n",
    "print('{:.3f}'.format(fnr))\n",
    "\n",
    "print('{:.3f}'.format(result[dos_index].sum() / result[dos_index].shape[0]))\n",
    "\n",
    "print('{:.3f}'.format(result[probe_index].sum() / result[probe_index].shape[0]))\n",
    "\n",
    "print('{:.3f}'.format(result[r2l_index].sum() / result[r2l_index].shape[0]))\n",
    "\n",
    "print('{:.3f}'.format(result[u2r_index].sum() / result[u2r_index].shape[0]))\n",
    "\n",
    "print('{:.3f}'.format(result[index_of_new_attacks].sum() / result[index_of_new_attacks].shape[0]))\n",
    "\n",
    "print('{:.3f}'.format(result[index_of_old_attacks].sum() / result[index_of_old_attacks].shape[0]))\n"
   ],
   "metadata": {
    "collapsed": false,
    "ExecuteTime": {
     "end_time": "2024-03-11T15:39:05.071127200Z",
     "start_time": "2024-03-11T15:39:04.992144200Z"
    }
   }
  },
  {
   "cell_type": "markdown",
   "metadata": {
    "collapsed": false
   },
   "source": [
    "# Now start the adaptation process"
   ]
  },
  {
   "cell_type": "code",
   "execution_count": 66,
   "metadata": {
    "collapsed": true,
    "jupyter": {
     "outputs_hidden": true,
     "source_hidden": true
    },
    "ExecuteTime": {
     "end_time": "2024-03-11T15:39:28.013648200Z",
     "start_time": "2024-03-11T15:39:27.603995600Z"
    }
   },
   "outputs": [],
   "source": [
    "from sklearn.metrics import precision_score\n",
    "import optuna\n",
    "from optuna.samplers import CmaEsSampler"
   ]
  },
  {
   "cell_type": "code",
   "execution_count": 67,
   "outputs": [],
   "source": [
    "p1, p2, p3, p4 = 0, 0, 0, 1\n",
    "f1, f2, f3 = 0, 0, 0"
   ],
   "metadata": {
    "collapsed": false,
    "ExecuteTime": {
     "end_time": "2024-03-11T15:39:28.111715300Z",
     "start_time": "2024-03-11T15:39:28.100570600Z"
    }
   }
  },
  {
   "cell_type": "markdown",
   "source": [
    "from sklearn.ensemble import VotingClassifier, HistGradientBoostingClassifier\n",
    "\n",
    "hgb_params = {\n",
    "    'learning_rate': optuna.distributions.FloatDistribution(0.001, 0.1),\n",
    "    'max_iter': optuna.distributions.IntDistribution(50, 500),\n",
    "    'max_depth': optuna.distributions.IntDistribution(2, 32),\n",
    "    'min_samples_leaf': optuna.distributions.IntDistribution(1, 10)\n",
    "}\n",
    "\n",
    "rf_params = {\n",
    "    'n_estimators': optuna.distributions.IntDistribution(50, 500),\n",
    "    'max_depth': optuna.distributions.IntDistribution(2, 32),\n",
    "    'min_samples_split': optuna.distributions.IntDistribution(2, 20),\n",
    "    'min_samples_leaf': optuna.distributions.IntDistribution(1, 10)\n",
    "}\n",
    "\n",
    "svm_params = {\n",
    "    'C': optuna.distributions.FloatDistribution(0.1, 10),\n",
    "    'kernel': optuna.distributions.CategoricalDistribution(['linear', 'poly', 'rbf', 'sigmoid']),\n",
    "    'gamma': optuna.distributions.FloatDistribution(1e-6, 1e-2)\n",
    "}\n",
    "\n",
    "nbc_params = {\n",
    "    'var_smoothing': optuna.distributions.FloatDistribution(1e-10, 1e-1)\n",
    "}\n",
    "\n",
    "def objective(trial):\n",
    "    \n",
    "    alpha = trial.suggest_float('alpha', 0.0, 1.0)\n",
    "    beta = trial.suggest_float('beta', 0.0, 1.0)\n",
    "    \n",
    "    gnb_hyperparams = {\n",
    "        'var_smoothing': trial.suggest_float('gnb_var_smoothing', 1e-10, 1e-1, log=True)\n",
    "    }\n",
    "    \n",
    "    rf_hyperparams = {\n",
    "        'n_estimators': trial.suggest_int('rf_n_estimators', 10, 70),\n",
    "        'max_depth': trial.suggest_int('rf_max_depth', 2, 32),\n",
    "        'min_samples_split': trial.suggest_int('rf_min_samples_split', 2, 20),\n",
    "        'min_samples_leaf': trial.suggest_int('rf_min_samples_leaf', 1, 10)\n",
    "    }\n",
    "    \n",
    "    hgb_hyperparams = {\n",
    "        'learning_rate': trial.suggest_float('hgb_learning_rate', 0.001, 0.1, log=True),\n",
    "        'max_iter': trial.suggest_int('hgb_max_iter', 50, 500),\n",
    "        'max_depth': trial.suggest_int('hgb_max_depth', 2, 32),\n",
    "        'min_samples_leaf': trial.suggest_int('hgb_min_samples_leaf', 1, 10)\n",
    "    }\n",
    "    \n",
    "    svm_hyperparams = {\n",
    "        'C': trial.suggest_float('svm_C', 0.1, 10),\n",
    "        'kernel': trial.suggest_categorical('svm_kernel', ['linear', 'poly', 'rbf', 'sigmoid']),\n",
    "        'gamma': trial.suggest_float('svm_gamma', 1e-6, 1e-2)\n",
    "    }\n",
    "    \n",
    "    if p1:\n",
    "        clf1 = HistGradientBoostingClassifier(**hgb_hyperparams)\n",
    "        clf1.fit(X_train_dos_probe, y_train_l1)\n",
    "    if p2:\n",
    "        clf1 = RandomForestClassifier(**rf_hyperparams)\n",
    "        clf1.fit(X_train_dos_probe, y_train_l1)\n",
    "    if p3:\n",
    "        v1 = RandomForestClassifier(**rf_hyperparams)        \n",
    "        v2 = GaussianNB(**gnb_hyperparams)\n",
    "        \n",
    "        clf1 = VotingClassifier([(\"rf\", v1), (\"gnb\", v2)])\n",
    "        clf1.fit(X_train_dos_probe, y_train_l1)\n",
    "    if p4:\n",
    "        v1 = HistGradientBoostingClassifier(**hgb_hyperparams)        \n",
    "        v2 = GaussianNB(**gnb_hyperparams)\n",
    "        \n",
    "        clf1 = VotingClassifier([(\"rf\", v1), (\"gnb\", v2)])\n",
    "        clf1.fit(X_train_dos_probe, y_train_l1)\n",
    "        \n",
    "    clf2 = SVC(**svm_hyperparams)\n",
    "    clf2.fit(X_train_r2l_u2r, y_train_l2)\n",
    "    \n",
    "    # Predict on validation set and calculate metrics for both classifiers\n",
    "    l1_predicted = clf1.predict(X_validate_dos_probe)\n",
    "    l2_predicted = clf2.predict(X_validate_r2l_u2r)\n",
    "    \n",
    "    # Calculate recall scores for both classifiers\n",
    "    recall_l1 = recall_score(y_validate_l1, l1_predicted)\n",
    "    recall_l2 = recall_score(y_validate_l2, l2_predicted)\n",
    "    \n",
    "    # Calculate the average recall\n",
    "    avg_recall = (recall_l1 + recall_l2) / 2\n",
    "    \n",
    "    # Calculate false negative rates (FNR) for both classifiers\n",
    "    fnr_l1 = 1 - recall_l1\n",
    "    fnr_l2 = 1 - recall_l2\n",
    "    \n",
    "    # Calculate the average FNR\n",
    "    avg_fnr = (fnr_l1 + fnr_l2) / 2\n",
    "    \n",
    "    penalty = max(0, avg_recall - 0.8)  # Penalize if TPR exceeds 0.8\n",
    "    \n",
    "    # return values according to the scenario\n",
    "    if (p4 and f2) or (f3 and p3):\n",
    "        return avg_fnr\n",
    "    else:\n",
    "        return 0.5 * avg_recall - beta * avg_fnr - penalty\n",
    "    \n",
    "\n",
    "# Create Optuna study and optimize\n",
    "study = optuna.create_study(direction='maximize')\n",
    "\n",
    "start = datetime.now()\n",
    "study.optimize(objective, n_trials=20, n_jobs=-1)\n",
    "tuning_time = datetime.now() - start"
   ],
   "metadata": {
    "collapsed": false
   }
  },
  {
   "cell_type": "markdown",
   "source": [
    "S2: (HGBC+NBC) + SVM"
   ],
   "metadata": {
    "collapsed": false
   }
  },
  {
   "cell_type": "code",
   "execution_count": 116,
   "outputs": [
    {
     "name": "stderr",
     "output_type": "stream",
     "text": [
      "[I 2024-03-11 17:31:07,107] A new study created in memory with name: no-name-aa345831-e290-453d-95c5-7c955db93082\n",
      "[I 2024-03-11 17:31:21,377] Trial 12 finished with value: 0.06838075114324363 and parameters: {'hgb_learning_rate': 0.06858058330994442, 'hgb_max_iter': 77, 'hgb_max_depth': 25, 'hgb_min_samples_leaf': 8, 'svm_C': 2.322437014751851, 'svm_kernel': 'sigmoid', 'svm_gamma': 3.544852360172682e-05, 'gnb_var_smoothing': 5.304572832320954e-10}. Best is trial 12 with value: 0.06838075114324363.\n",
      "[I 2024-03-11 17:31:24,388] Trial 8 finished with value: 0.10208462105572844 and parameters: {'hgb_learning_rate': 0.01901297589639982, 'hgb_max_iter': 98, 'hgb_max_depth': 26, 'hgb_min_samples_leaf': 7, 'svm_C': 2.2008514614685852, 'svm_kernel': 'linear', 'svm_gamma': 0.0031750662990458456, 'gnb_var_smoothing': 4.2877633086004764e-07}. Best is trial 12 with value: 0.06838075114324363.\n",
      "[I 2024-03-11 17:31:27,509] Trial 3 finished with value: 0.10549989665824666 and parameters: {'hgb_learning_rate': 0.015611412499087592, 'hgb_max_iter': 119, 'hgb_max_depth': 20, 'hgb_min_samples_leaf': 9, 'svm_C': 6.150568570397481, 'svm_kernel': 'linear', 'svm_gamma': 0.00047794599373932744, 'gnb_var_smoothing': 1.0369643032175873e-08}. Best is trial 12 with value: 0.06838075114324363.\n",
      "[I 2024-03-11 17:31:39,671] Trial 11 finished with value: 0.0779755886770497 and parameters: {'hgb_learning_rate': 0.0022233990190620155, 'hgb_max_iter': 196, 'hgb_max_depth': 23, 'hgb_min_samples_leaf': 8, 'svm_C': 2.801679119806919, 'svm_kernel': 'rbf', 'svm_gamma': 0.002326002642702913, 'gnb_var_smoothing': 2.599811283219948e-08}. Best is trial 12 with value: 0.06838075114324363.\n",
      "[I 2024-03-11 17:31:41,184] Trial 17 finished with value: 0.07810100348567241 and parameters: {'hgb_learning_rate': 0.021867153315257917, 'hgb_max_iter': 117, 'hgb_max_depth': 7, 'hgb_min_samples_leaf': 9, 'svm_C': 8.725448665887528, 'svm_kernel': 'linear', 'svm_gamma': 0.0017418119851545391, 'gnb_var_smoothing': 0.03698635505440328}. Best is trial 12 with value: 0.06838075114324363.\n",
      "[I 2024-03-11 17:31:48,102] Trial 4 finished with value: 0.0823439507271142 and parameters: {'hgb_learning_rate': 0.051776437349678746, 'hgb_max_iter': 291, 'hgb_max_depth': 8, 'hgb_min_samples_leaf': 4, 'svm_C': 3.24473225123388, 'svm_kernel': 'sigmoid', 'svm_gamma': 0.00852560731710219, 'gnb_var_smoothing': 9.902077057794967e-08}. Best is trial 12 with value: 0.06838075114324363.\n",
      "[I 2024-03-11 17:31:49,582] Trial 9 finished with value: 0.0570300414147704 and parameters: {'hgb_learning_rate': 0.029136827928759445, 'hgb_max_iter': 342, 'hgb_max_depth': 6, 'hgb_min_samples_leaf': 1, 'svm_C': 2.6329947463226846, 'svm_kernel': 'sigmoid', 'svm_gamma': 0.004090382315658654, 'gnb_var_smoothing': 0.001621507356869839}. Best is trial 9 with value: 0.0570300414147704.\n",
      "[I 2024-03-11 17:31:58,206] Trial 10 finished with value: 0.18274634498516548 and parameters: {'hgb_learning_rate': 0.01922916573088352, 'hgb_max_iter': 319, 'hgb_max_depth': 22, 'hgb_min_samples_leaf': 1, 'svm_C': 5.910296710141389, 'svm_kernel': 'poly', 'svm_gamma': 0.0016016095879901294, 'gnb_var_smoothing': 6.051702298846338e-09}. Best is trial 9 with value: 0.0570300414147704.\n",
      "[I 2024-03-11 17:32:00,692] Trial 13 finished with value: 0.06978714370030485 and parameters: {'hgb_learning_rate': 0.004883345042499416, 'hgb_max_iter': 337, 'hgb_max_depth': 11, 'hgb_min_samples_leaf': 2, 'svm_C': 4.095133003041695, 'svm_kernel': 'sigmoid', 'svm_gamma': 0.004301460799147161, 'gnb_var_smoothing': 5.394644188110935e-09}. Best is trial 9 with value: 0.0570300414147704.\n",
      "[I 2024-03-11 17:32:03,214] Trial 0 finished with value: 0.19419597157401755 and parameters: {'hgb_learning_rate': 0.0012522854832444834, 'hgb_max_iter': 349, 'hgb_max_depth': 20, 'hgb_min_samples_leaf': 7, 'svm_C': 2.7066102821516185, 'svm_kernel': 'poly', 'svm_gamma': 0.00751542268714616, 'gnb_var_smoothing': 8.881334417610189e-07}. Best is trial 9 with value: 0.0570300414147704.\n",
      "[I 2024-03-11 17:32:04,357] Trial 7 finished with value: 0.08402681035180734 and parameters: {'hgb_learning_rate': 0.03468668169634779, 'hgb_max_iter': 356, 'hgb_max_depth': 17, 'hgb_min_samples_leaf': 4, 'svm_C': 7.488173006022444, 'svm_kernel': 'sigmoid', 'svm_gamma': 0.003805591080276025, 'gnb_var_smoothing': 1.0520733951366633e-05}. Best is trial 9 with value: 0.0570300414147704.\n",
      "[I 2024-03-11 17:32:05,867] Trial 18 finished with value: 0.10958078510194086 and parameters: {'hgb_learning_rate': 0.0027525100561658724, 'hgb_max_iter': 233, 'hgb_max_depth': 15, 'hgb_min_samples_leaf': 10, 'svm_C': 9.936584928016819, 'svm_kernel': 'linear', 'svm_gamma': 0.007008232444694926, 'gnb_var_smoothing': 1.105657747406917e-08}. Best is trial 9 with value: 0.0570300414147704.\n",
      "[I 2024-03-11 17:32:10,178] Trial 23 finished with value: 0.11057034539749944 and parameters: {'hgb_learning_rate': 0.008501742019714752, 'hgb_max_iter': 63, 'hgb_max_depth': 31, 'hgb_min_samples_leaf': 5, 'svm_C': 6.680002617632238, 'svm_kernel': 'linear', 'svm_gamma': 0.005840681702832082, 'gnb_var_smoothing': 2.2254474216278436e-09}. Best is trial 9 with value: 0.0570300414147704.\n",
      "[I 2024-03-11 17:32:15,004] Trial 6 finished with value: 0.1017903968865087 and parameters: {'hgb_learning_rate': 0.009387050016001397, 'hgb_max_iter': 420, 'hgb_max_depth': 13, 'hgb_min_samples_leaf': 3, 'svm_C': 4.147104141574554, 'svm_kernel': 'rbf', 'svm_gamma': 0.009950318891196786, 'gnb_var_smoothing': 5.276743353568418e-10}. Best is trial 9 with value: 0.0570300414147704.\n",
      "[I 2024-03-11 17:32:17,164] Trial 5 finished with value: 0.07972886224162992 and parameters: {'hgb_learning_rate': 0.027747964109031565, 'hgb_max_iter': 484, 'hgb_max_depth': 9, 'hgb_min_samples_leaf': 5, 'svm_C': 1.9705417637490332, 'svm_kernel': 'linear', 'svm_gamma': 0.008835634197078536, 'gnb_var_smoothing': 0.002027400876857125}. Best is trial 9 with value: 0.0570300414147704.\n",
      "[I 2024-03-11 17:32:22,047] Trial 2 finished with value: 0.10839329316268208 and parameters: {'hgb_learning_rate': 0.001594785273588423, 'hgb_max_iter': 461, 'hgb_max_depth': 19, 'hgb_min_samples_leaf': 3, 'svm_C': 4.372785373141357, 'svm_kernel': 'rbf', 'svm_gamma': 0.009114897321199586, 'gnb_var_smoothing': 4.86873206296998e-06}. Best is trial 9 with value: 0.0570300414147704.\n",
      "[I 2024-03-11 17:32:22,667] Trial 28 finished with value: 0.06615512178471947 and parameters: {'hgb_learning_rate': 0.09937806271184012, 'hgb_max_iter': 451, 'hgb_max_depth': 2, 'hgb_min_samples_leaf': 3, 'svm_C': 0.37617427682146776, 'svm_kernel': 'sigmoid', 'svm_gamma': 0.00037341942717492206, 'gnb_var_smoothing': 1.6285149011295552e-10}. Best is trial 9 with value: 0.0570300414147704.\n",
      "[I 2024-03-11 17:32:24,831] Trial 1 finished with value: 0.03952175712771367 and parameters: {'hgb_learning_rate': 0.027089657764181343, 'hgb_max_iter': 476, 'hgb_max_depth': 19, 'hgb_min_samples_leaf': 4, 'svm_C': 0.9463321497617171, 'svm_kernel': 'sigmoid', 'svm_gamma': 0.0012853782906167405, 'gnb_var_smoothing': 0.03176952195936947}. Best is trial 1 with value: 0.03952175712771367.\n",
      "[I 2024-03-11 17:32:25,414] Trial 16 finished with value: 0.056782435910407235 and parameters: {'hgb_learning_rate': 0.030607266095193084, 'hgb_max_iter': 389, 'hgb_max_depth': 19, 'hgb_min_samples_leaf': 9, 'svm_C': 4.687013584519454, 'svm_kernel': 'sigmoid', 'svm_gamma': 0.003330299040191386, 'gnb_var_smoothing': 0.0007449514143140883}. Best is trial 1 with value: 0.03952175712771367.\n",
      "[I 2024-03-11 17:32:26,226] Trial 30 finished with value: 0.06763887469040224 and parameters: {'hgb_learning_rate': 0.09644354841555683, 'hgb_max_iter': 183, 'hgb_max_depth': 3, 'hgb_min_samples_leaf': 7, 'svm_C': 0.8098063352172482, 'svm_kernel': 'sigmoid', 'svm_gamma': 0.000252423946909861, 'gnb_var_smoothing': 2.0447760139420536e-10}. Best is trial 1 with value: 0.03952175712771367.\n",
      "[I 2024-03-11 17:32:28,441] Trial 31 finished with value: 0.07011179619987352 and parameters: {'hgb_learning_rate': 0.0995587446446176, 'hgb_max_iter': 178, 'hgb_max_depth': 2, 'hgb_min_samples_leaf': 7, 'svm_C': 0.4363052824223499, 'svm_kernel': 'sigmoid', 'svm_gamma': 0.0005008720012520018, 'gnb_var_smoothing': 3.5670735719643766e-10}. Best is trial 1 with value: 0.03952175712771367.\n",
      "[I 2024-03-11 17:32:28,972] Trial 14 finished with value: 0.10109942812340593 and parameters: {'hgb_learning_rate': 0.011689038072104556, 'hgb_max_iter': 490, 'hgb_max_depth': 18, 'hgb_min_samples_leaf': 1, 'svm_C': 7.806424070345576, 'svm_kernel': 'linear', 'svm_gamma': 0.002781371504857073, 'gnb_var_smoothing': 1.3121977604249987e-08}. Best is trial 1 with value: 0.03952175712771367.\n",
      "[I 2024-03-11 17:32:29,542] Trial 15 finished with value: 0.09884137280650558 and parameters: {'hgb_learning_rate': 0.0022983570665695316, 'hgb_max_iter': 493, 'hgb_max_depth': 13, 'hgb_min_samples_leaf': 8, 'svm_C': 8.663131490846519, 'svm_kernel': 'rbf', 'svm_gamma': 0.00838298998017133, 'gnb_var_smoothing': 2.0128802415869277e-10}. Best is trial 1 with value: 0.03952175712771367.\n",
      "[I 2024-03-11 17:32:34,807] Trial 32 finished with value: 0.06679808137718199 and parameters: {'hgb_learning_rate': 0.09271896557395082, 'hgb_max_iter': 410, 'hgb_max_depth': 2, 'hgb_min_samples_leaf': 1, 'svm_C': 0.19569432549209775, 'svm_kernel': 'sigmoid', 'svm_gamma': 0.0052565928873208444, 'gnb_var_smoothing': 6.907757567225705e-05}. Best is trial 1 with value: 0.03952175712771367.\n",
      "[I 2024-03-11 17:32:40,345] Trial 33 finished with value: 0.0662293094300036 and parameters: {'hgb_learning_rate': 0.032878271419455804, 'hgb_max_iter': 392, 'hgb_max_depth': 3, 'hgb_min_samples_leaf': 1, 'svm_C': 0.4859735277829041, 'svm_kernel': 'sigmoid', 'svm_gamma': 0.005187344537637984, 'gnb_var_smoothing': 0.0005550577416685196}. Best is trial 1 with value: 0.03952175712771367.\n",
      "[I 2024-03-11 17:32:41,506] Trial 21 finished with value: 0.18957160835130624 and parameters: {'hgb_learning_rate': 0.006094357376721543, 'hgb_max_iter': 307, 'hgb_max_depth': 26, 'hgb_min_samples_leaf': 8, 'svm_C': 1.680800440680037, 'svm_kernel': 'poly', 'svm_gamma': 0.0035802045825861543, 'gnb_var_smoothing': 6.145758986667252e-05}. Best is trial 1 with value: 0.03952175712771367.\n",
      "[I 2024-03-11 17:32:44,118] Trial 26 finished with value: 0.06101144504501918 and parameters: {'hgb_learning_rate': 0.07592281815270205, 'hgb_max_iter': 226, 'hgb_max_depth': 32, 'hgb_min_samples_leaf': 5, 'svm_C': 0.2292637217046467, 'svm_kernel': 'sigmoid', 'svm_gamma': 0.005319678116195844, 'gnb_var_smoothing': 2.1163570404886826e-10}. Best is trial 1 with value: 0.03952175712771367.\n",
      "[I 2024-03-11 17:32:44,293] Trial 20 finished with value: 0.10015515474068576 and parameters: {'hgb_learning_rate': 0.00692655062221662, 'hgb_max_iter': 371, 'hgb_max_depth': 13, 'hgb_min_samples_leaf': 3, 'svm_C': 6.783276644145063, 'svm_kernel': 'rbf', 'svm_gamma': 0.004890874656294219, 'gnb_var_smoothing': 6.5312298638881994e-06}. Best is trial 1 with value: 0.03952175712771367.\n",
      "[I 2024-03-11 17:32:45,964] Trial 27 finished with value: 0.058489065105358465 and parameters: {'hgb_learning_rate': 0.08657104494098987, 'hgb_max_iter': 497, 'hgb_max_depth': 32, 'hgb_min_samples_leaf': 5, 'svm_C': 0.23567253730946458, 'svm_kernel': 'sigmoid', 'svm_gamma': 0.00543543304443974, 'gnb_var_smoothing': 4.931943671616337e-05}. Best is trial 1 with value: 0.03952175712771367.\n",
      "[I 2024-03-11 17:32:52,240] Trial 29 finished with value: 0.0606652360336932 and parameters: {'hgb_learning_rate': 0.08530072152883834, 'hgb_max_iter': 497, 'hgb_max_depth': 30, 'hgb_min_samples_leaf': 6, 'svm_C': 0.5012106745419167, 'svm_kernel': 'sigmoid', 'svm_gamma': 0.0003242944333384733, 'gnb_var_smoothing': 1.0290402923315187e-10}. Best is trial 1 with value: 0.03952175712771367.\n",
      "[I 2024-03-11 17:32:55,669] Trial 19 finished with value: 0.05737247060051541 and parameters: {'hgb_learning_rate': 0.03191220639425259, 'hgb_max_iter': 480, 'hgb_max_depth': 26, 'hgb_min_samples_leaf': 2, 'svm_C': 7.0746631395906645, 'svm_kernel': 'rbf', 'svm_gamma': 0.0014324275281985463, 'gnb_var_smoothing': 1.2180393495247718e-09}. Best is trial 1 with value: 0.03952175712771367.\n",
      "[I 2024-03-11 17:32:58,056] Trial 22 finished with value: 0.17831981548321188 and parameters: {'hgb_learning_rate': 0.03531007581770444, 'hgb_max_iter': 399, 'hgb_max_depth': 19, 'hgb_min_samples_leaf': 6, 'svm_C': 9.187344226268477, 'svm_kernel': 'poly', 'svm_gamma': 0.009552524596198583, 'gnb_var_smoothing': 3.574203096213834e-05}. Best is trial 1 with value: 0.03952175712771367.\n",
      "[I 2024-03-11 17:33:05,205] Trial 24 finished with value: 0.1737696399057847 and parameters: {'hgb_learning_rate': 0.04285934833900875, 'hgb_max_iter': 380, 'hgb_max_depth': 14, 'hgb_min_samples_leaf': 10, 'svm_C': 4.604807710046137, 'svm_kernel': 'poly', 'svm_gamma': 0.0003988059429648742, 'gnb_var_smoothing': 0.0003056640703706291}. Best is trial 1 with value: 0.03952175712771367.\n",
      "[I 2024-03-11 17:33:18,819] Trial 35 finished with value: 0.05848064985248631 and parameters: {'hgb_learning_rate': 0.046271692775577244, 'hgb_max_iter': 404, 'hgb_max_depth': 29, 'hgb_min_samples_leaf': 6, 'svm_C': 5.265239651167611, 'svm_kernel': 'sigmoid', 'svm_gamma': 0.005317899071670329, 'gnb_var_smoothing': 0.08509513608865311}. Best is trial 1 with value: 0.03952175712771367.\n",
      "[I 2024-03-11 17:33:26,841] Trial 41 finished with value: 0.038829339105061714 and parameters: {'hgb_learning_rate': 0.042406006306624826, 'hgb_max_iter': 265, 'hgb_max_depth': 15, 'hgb_min_samples_leaf': 6, 'svm_C': 1.6236548761900562, 'svm_kernel': 'sigmoid', 'svm_gamma': 0.004551432974216663, 'gnb_var_smoothing': 0.05138065468725666}. Best is trial 41 with value: 0.038829339105061714.\n",
      "[I 2024-03-11 17:33:27,927] Trial 25 finished with value: 0.07025993647537977 and parameters: {'hgb_learning_rate': 0.006125559602727172, 'hgb_max_iter': 491, 'hgb_max_depth': 32, 'hgb_min_samples_leaf': 3, 'svm_C': 0.23728335366300746, 'svm_kernel': 'rbf', 'svm_gamma': 0.0052618239340649405, 'gnb_var_smoothing': 0.00022474652019761825}. Best is trial 41 with value: 0.038829339105061714.\n",
      "[I 2024-03-11 17:33:31,777] Trial 39 finished with value: 0.03759287835032607 and parameters: {'hgb_learning_rate': 0.04698880323864719, 'hgb_max_iter': 391, 'hgb_max_depth': 28, 'hgb_min_samples_leaf': 6, 'svm_C': 1.6684252321468107, 'svm_kernel': 'sigmoid', 'svm_gamma': 0.003755873253452754, 'gnb_var_smoothing': 0.0989285311713811}. Best is trial 39 with value: 0.03759287835032607.\n",
      "[I 2024-03-11 17:33:32,926] Trial 36 finished with value: 0.054730224410962106 and parameters: {'hgb_learning_rate': 0.03983263299395637, 'hgb_max_iter': 399, 'hgb_max_depth': 16, 'hgb_min_samples_leaf': 1, 'svm_C': 1.2507809553655092, 'svm_kernel': 'sigmoid', 'svm_gamma': 0.004857659763748133, 'gnb_var_smoothing': 0.0007975963208623236}. Best is trial 39 with value: 0.03759287835032607.\n",
      "[I 2024-03-11 17:33:34,786] Trial 37 finished with value: 0.05346903444113174 and parameters: {'hgb_learning_rate': 0.04066247278290845, 'hgb_max_iter': 401, 'hgb_max_depth': 14, 'hgb_min_samples_leaf': 6, 'svm_C': 1.4593138525951974, 'svm_kernel': 'sigmoid', 'svm_gamma': 0.004919586039240226, 'gnb_var_smoothing': 0.001049229036606633}. Best is trial 39 with value: 0.03759287835032607.\n",
      "[I 2024-03-11 17:33:35,296] Trial 34 finished with value: 0.037889628931462624 and parameters: {'hgb_learning_rate': 0.04358297274815764, 'hgb_max_iter': 416, 'hgb_max_depth': 29, 'hgb_min_samples_leaf': 6, 'svm_C': 0.19258236788431926, 'svm_kernel': 'sigmoid', 'svm_gamma': 0.0051777086530543125, 'gnb_var_smoothing': 0.06987248707932785}. Best is trial 39 with value: 0.03759287835032607.\n",
      "[I 2024-03-11 17:33:35,837] Trial 38 finished with value: 0.055645205369466474 and parameters: {'hgb_learning_rate': 0.03750178727832768, 'hgb_max_iter': 400, 'hgb_max_depth': 15, 'hgb_min_samples_leaf': 6, 'svm_C': 1.384193915523231, 'svm_kernel': 'sigmoid', 'svm_gamma': 0.004305973218322505, 'gnb_var_smoothing': 0.0009245645124548968}. Best is trial 39 with value: 0.03759287835032607.\n",
      "[I 2024-03-11 17:33:44,519] Trial 40 finished with value: 0.03796381657674676 and parameters: {'hgb_learning_rate': 0.044627266325401774, 'hgb_max_iter': 381, 'hgb_max_depth': 29, 'hgb_min_samples_leaf': 6, 'svm_C': 1.4419441679911702, 'svm_kernel': 'sigmoid', 'svm_gamma': 0.003979171114178141, 'gnb_var_smoothing': 0.07744970803331415}. Best is trial 39 with value: 0.03759287835032607.\n",
      "[I 2024-03-11 17:33:48,114] Trial 42 finished with value: 0.03786489971636791 and parameters: {'hgb_learning_rate': 0.04196696831021865, 'hgb_max_iter': 384, 'hgb_max_depth': 15, 'hgb_min_samples_leaf': 6, 'svm_C': 1.3992818464606867, 'svm_kernel': 'sigmoid', 'svm_gamma': 0.00457869154246113, 'gnb_var_smoothing': 0.07563664168101193}. Best is trial 39 with value: 0.03759287835032607.\n",
      "[I 2024-03-11 17:33:56,399] Trial 48 finished with value: 0.040733410329000595 and parameters: {'hgb_learning_rate': 0.052402257967814905, 'hgb_max_iter': 436, 'hgb_max_depth': 29, 'hgb_min_samples_leaf': 2, 'svm_C': 5.299811988000258, 'svm_kernel': 'rbf', 'svm_gamma': 0.0012359004824281884, 'gnb_var_smoothing': 0.013446095972596078}. Best is trial 39 with value: 0.03759287835032607.\n",
      "[I 2024-03-11 17:33:56,560] Trial 47 finished with value: 0.03754332199719413 and parameters: {'hgb_learning_rate': 0.04906376167040868, 'hgb_max_iter': 435, 'hgb_max_depth': 28, 'hgb_min_samples_leaf': 2, 'svm_C': 4.729196367483181, 'svm_kernel': 'rbf', 'svm_gamma': 0.0014953606360729893, 'gnb_var_smoothing': 0.08940992116897188}. Best is trial 47 with value: 0.03754332199719413.\n",
      "[I 2024-03-11 17:33:56,656] Trial 43 finished with value: 0.03779071207108377 and parameters: {'hgb_learning_rate': 0.04577105850149953, 'hgb_max_iter': 440, 'hgb_max_depth': 16, 'hgb_min_samples_leaf': 6, 'svm_C': 3.4029294434019977, 'svm_kernel': 'sigmoid', 'svm_gamma': 0.002759428917831884, 'gnb_var_smoothing': 0.07745757979259703}. Best is trial 47 with value: 0.03754332199719413.\n",
      "[I 2024-03-11 17:33:58,150] Trial 44 finished with value: 0.15368951724887783 and parameters: {'hgb_learning_rate': 0.04569558896728568, 'hgb_max_iter': 430, 'hgb_max_depth': 16, 'hgb_min_samples_leaf': 6, 'svm_C': 1.5299847652328078, 'svm_kernel': 'poly', 'svm_gamma': 0.0026447311138099215, 'gnb_var_smoothing': 0.08325574050137288}. Best is trial 47 with value: 0.03754332199719413.\n",
      "[I 2024-03-11 17:34:03,791] Trial 45 finished with value: 0.15391208018473027 and parameters: {'hgb_learning_rate': 0.047118159390108834, 'hgb_max_iter': 432, 'hgb_max_depth': 16, 'hgb_min_samples_leaf': 2, 'svm_C': 3.3572715321210205, 'svm_kernel': 'poly', 'svm_gamma': 0.0025833260325013267, 'gnb_var_smoothing': 0.05972282665224066}. Best is trial 47 with value: 0.03754332199719413.\n",
      "[I 2024-03-11 17:34:06,003] Trial 46 finished with value: 0.1538131633243514 and parameters: {'hgb_learning_rate': 0.04424389544807606, 'hgb_max_iter': 439, 'hgb_max_depth': 28, 'hgb_min_samples_leaf': 2, 'svm_C': 5.154683364957189, 'svm_kernel': 'poly', 'svm_gamma': 0.0016432219937233578, 'gnb_var_smoothing': 0.07423053823791016}. Best is trial 47 with value: 0.03754332199719413.\n",
      "[I 2024-03-11 17:34:14,092] Trial 51 finished with value: 0.04145063590510128 and parameters: {'hgb_learning_rate': 0.05618581192015573, 'hgb_max_iter': 274, 'hgb_max_depth': 21, 'hgb_min_samples_leaf': 4, 'svm_C': 1.2778295731114226, 'svm_kernel': 'sigmoid', 'svm_gamma': 0.004419208007269217, 'gnb_var_smoothing': 0.01245711168059064}. Best is trial 47 with value: 0.03754332199719413.\n",
      "[I 2024-03-11 17:34:14,123] Trial 50 finished with value: 0.041153885323964724 and parameters: {'hgb_learning_rate': 0.05905381257193521, 'hgb_max_iter': 278, 'hgb_max_depth': 21, 'hgb_min_samples_leaf': 4, 'svm_C': 1.1998547479891046, 'svm_kernel': 'sigmoid', 'svm_gamma': 0.004344721707512725, 'gnb_var_smoothing': 0.011451225849829133}. Best is trial 47 with value: 0.03754332199719413.\n",
      "[I 2024-03-11 17:34:17,170] Trial 56 finished with value: 0.04162374041076427 and parameters: {'hgb_learning_rate': 0.056063761679678074, 'hgb_max_iter': 272, 'hgb_max_depth': 28, 'hgb_min_samples_leaf': 4, 'svm_C': 1.0194055337404184, 'svm_kernel': 'sigmoid', 'svm_gamma': 0.0060534690715841905, 'gnb_var_smoothing': 0.011464648835534776}. Best is trial 47 with value: 0.03754332199719413.\n",
      "[I 2024-03-11 17:34:24,369] Trial 53 finished with value: 0.04058511337678633 and parameters: {'hgb_learning_rate': 0.060190925901996754, 'hgb_max_iter': 445, 'hgb_max_depth': 16, 'hgb_min_samples_leaf': 4, 'svm_C': 1.0344251737294585, 'svm_kernel': 'sigmoid', 'svm_gamma': 0.004451652367741754, 'gnb_var_smoothing': 0.013146745275843672}. Best is trial 47 with value: 0.03754332199719413.\n",
      "[I 2024-03-11 17:34:24,580] Trial 54 finished with value: 0.04135171904472243 and parameters: {'hgb_learning_rate': 0.06212838686688271, 'hgb_max_iter': 436, 'hgb_max_depth': 10, 'hgb_min_samples_leaf': 4, 'svm_C': 1.4006104182741346, 'svm_kernel': 'sigmoid', 'svm_gamma': 0.004276379952454989, 'gnb_var_smoothing': 0.009048003399829242}. Best is trial 47 with value: 0.03754332199719413.\n",
      "[I 2024-03-11 17:34:25,979] Trial 55 finished with value: 0.04090659317301759 and parameters: {'hgb_learning_rate': 0.05965735925768709, 'hgb_max_iter': 442, 'hgb_max_depth': 28, 'hgb_min_samples_leaf': 4, 'svm_C': 1.1311486888197662, 'svm_kernel': 'sigmoid', 'svm_gamma': 0.004332765314637858, 'gnb_var_smoothing': 0.011825174130125632}. Best is trial 47 with value: 0.03754332199719413.\n",
      "[I 2024-03-11 17:34:29,448] Trial 58 finished with value: 0.04234088764851094 and parameters: {'hgb_learning_rate': 0.05491736598896547, 'hgb_max_iter': 440, 'hgb_max_depth': 28, 'hgb_min_samples_leaf': 4, 'svm_C': 1.0603910936742416, 'svm_kernel': 'sigmoid', 'svm_gamma': 0.003944265273125416, 'gnb_var_smoothing': 0.00824017063827315}. Best is trial 47 with value: 0.03754332199719413.\n",
      "[I 2024-03-11 17:34:30,503] Trial 52 finished with value: 0.040164716720176206 and parameters: {'hgb_learning_rate': 0.05850745579772478, 'hgb_max_iter': 439, 'hgb_max_depth': 21, 'hgb_min_samples_leaf': 9, 'svm_C': 1.3395549561682938, 'svm_kernel': 'sigmoid', 'svm_gamma': 0.0031954679513186515, 'gnb_var_smoothing': 0.014650692662410862}. Best is trial 47 with value: 0.03754332199719413.\n",
      "[I 2024-03-11 17:34:31,748] Trial 49 finished with value: 0.04318158303878867 and parameters: {'hgb_learning_rate': 0.025168826029476028, 'hgb_max_iter': 443, 'hgb_max_depth': 22, 'hgb_min_samples_leaf': 2, 'svm_C': 3.288263987288973, 'svm_kernel': 'rbf', 'svm_gamma': 0.0013399945086562687, 'gnb_var_smoothing': 0.00832589539535466}. Best is trial 47 with value: 0.03754332199719413.\n",
      "[I 2024-03-11 17:34:37,068] Trial 57 finished with value: 0.04036255044093391 and parameters: {'hgb_learning_rate': 0.05504976459223812, 'hgb_max_iter': 437, 'hgb_max_depth': 28, 'hgb_min_samples_leaf': 4, 'svm_C': 1.8415492524475887, 'svm_kernel': 'sigmoid', 'svm_gamma': 0.0037589170827157037, 'gnb_var_smoothing': 0.0139654077998871}. Best is trial 47 with value: 0.03754332199719413.\n",
      "[I 2024-03-11 17:34:42,246] Trial 61 finished with value: 0.0396672926529491 and parameters: {'hgb_learning_rate': 0.05719674101296879, 'hgb_max_iter': 433, 'hgb_max_depth': 21, 'hgb_min_samples_leaf': 4, 'svm_C': 3.258834076408413, 'svm_kernel': 'rbf', 'svm_gamma': 0.002746374250019355, 'gnb_var_smoothing': 0.006041756815890297}. Best is trial 47 with value: 0.03754332199719413.\n",
      "[I 2024-03-11 17:34:43,693] Trial 59 finished with value: 0.042266700003226805 and parameters: {'hgb_learning_rate': 0.05635242298429863, 'hgb_max_iter': 291, 'hgb_max_depth': 28, 'hgb_min_samples_leaf': 4, 'svm_C': 0.9694670489940251, 'svm_kernel': 'sigmoid', 'svm_gamma': 0.00396709868396123, 'gnb_var_smoothing': 0.008064961522070516}. Best is trial 47 with value: 0.03754332199719413.\n",
      "[I 2024-03-11 17:34:48,433] Trial 64 finished with value: 0.0416978301331059 and parameters: {'hgb_learning_rate': 0.058273146421443836, 'hgb_max_iter': 463, 'hgb_max_depth': 22, 'hgb_min_samples_leaf': 4, 'svm_C': 2.0580647684011826, 'svm_kernel': 'rbf', 'svm_gamma': 0.0031241419673621153, 'gnb_var_smoothing': 0.009599113340878406}. Best is trial 47 with value: 0.03754332199719413.\n",
      "[I 2024-03-11 17:34:51,947] Trial 65 finished with value: 0.040288264872707265 and parameters: {'hgb_learning_rate': 0.06895121837059186, 'hgb_max_iter': 463, 'hgb_max_depth': 24, 'hgb_min_samples_leaf': 7, 'svm_C': 2.0760566723022484, 'svm_kernel': 'rbf', 'svm_gamma': 0.003165696498522943, 'gnb_var_smoothing': 0.016394777804419235}. Best is trial 47 with value: 0.03754332199719413.\n",
      "[I 2024-03-11 17:34:53,407] Trial 62 finished with value: 0.041798039576325906 and parameters: {'hgb_learning_rate': 0.058818770277022155, 'hgb_max_iter': 450, 'hgb_max_depth': 21, 'hgb_min_samples_leaf': 4, 'svm_C': 3.2256372860778155, 'svm_kernel': 'rbf', 'svm_gamma': 0.00365908034348538, 'gnb_var_smoothing': 0.014333807180549146}. Best is trial 47 with value: 0.03754332199719413.\n",
      "[I 2024-03-11 17:34:57,780] Trial 66 finished with value: 0.039348358853223145 and parameters: {'hgb_learning_rate': 0.061263229610607095, 'hgb_max_iter': 460, 'hgb_max_depth': 27, 'hgb_min_samples_leaf': 7, 'svm_C': 2.040645669668218, 'svm_kernel': 'rbf', 'svm_gamma': 0.003938223852329446, 'gnb_var_smoothing': 0.021174960675638028}. Best is trial 47 with value: 0.03754332199719413.\n",
      "[I 2024-03-11 17:34:58,916] Trial 60 finished with value: 0.040139830828373475 and parameters: {'hgb_learning_rate': 0.05735757228379985, 'hgb_max_iter': 441, 'hgb_max_depth': 27, 'hgb_min_samples_leaf': 4, 'svm_C': 0.927157906393494, 'svm_kernel': 'rbf', 'svm_gamma': 0.003837675282162202, 'gnb_var_smoothing': 0.013163664426210787}. Best is trial 47 with value: 0.03754332199719413.\n",
      "[I 2024-03-11 17:35:09,813] Trial 68 finished with value: 0.043602214710460815 and parameters: {'hgb_learning_rate': 0.07236605062028292, 'hgb_max_iter': 465, 'hgb_max_depth': 27, 'hgb_min_samples_leaf': 7, 'svm_C': 2.1043359293774007, 'svm_kernel': 'rbf', 'svm_gamma': 0.0038803477868069626, 'gnb_var_smoothing': 0.004532790455822203}. Best is trial 47 with value: 0.03754332199719413.\n",
      "[I 2024-03-11 17:35:10,291] Trial 63 finished with value: 0.039892597431191855 and parameters: {'hgb_learning_rate': 0.05334899540839877, 'hgb_max_iter': 458, 'hgb_max_depth': 21, 'hgb_min_samples_leaf': 4, 'svm_C': 2.1323456494013246, 'svm_kernel': 'rbf', 'svm_gamma': 0.0031394764418727398, 'gnb_var_smoothing': 0.014805360292408998}. Best is trial 47 with value: 0.03754332199719413.\n",
      "[I 2024-03-11 17:35:26,929] Trial 75 finished with value: 0.03863160330724653 and parameters: {'hgb_learning_rate': 0.07204109602475163, 'hgb_max_iter': 469, 'hgb_max_depth': 25, 'hgb_min_samples_leaf': 7, 'svm_C': 2.355939284345958, 'svm_kernel': 'rbf', 'svm_gamma': 0.0034800942694983147, 'gnb_var_smoothing': 0.030692445645424667}. Best is trial 47 with value: 0.03754332199719413.\n",
      "[I 2024-03-11 17:35:28,072] Trial 67 finished with value: 0.0475089802498899 and parameters: {'hgb_learning_rate': 0.024696296013708787, 'hgb_max_iter': 462, 'hgb_max_depth': 24, 'hgb_min_samples_leaf': 7, 'svm_C': 2.1016861694255504, 'svm_kernel': 'rbf', 'svm_gamma': 0.0037056321479261856, 'gnb_var_smoothing': 0.004065092969553557}. Best is trial 47 with value: 0.03754332199719413.\n",
      "[I 2024-03-11 17:35:28,692] Trial 77 finished with value: 0.03831002558807274 and parameters: {'hgb_learning_rate': 0.07449300556779344, 'hgb_max_iter': 367, 'hgb_max_depth': 25, 'hgb_min_samples_leaf': 7, 'svm_C': 2.370494796995524, 'svm_kernel': 'sigmoid', 'svm_gamma': 0.0034334711458140436, 'gnb_var_smoothing': 0.03550891514229958}. Best is trial 47 with value: 0.03754332199719413.\n",
      "[I 2024-03-11 17:35:35,366] Trial 69 finished with value: 0.039076337487181305 and parameters: {'hgb_learning_rate': 0.02585882940247606, 'hgb_max_iter': 465, 'hgb_max_depth': 27, 'hgb_min_samples_leaf': 7, 'svm_C': 2.08439283874276, 'svm_kernel': 'rbf', 'svm_gamma': 0.0037089023359435933, 'gnb_var_smoothing': 0.03545905495264867}. Best is trial 47 with value: 0.03754332199719413.\n",
      "[I 2024-03-11 17:35:36,913] Trial 70 finished with value: 0.03957111763496059 and parameters: {'hgb_learning_rate': 0.02761967308024574, 'hgb_max_iter': 464, 'hgb_max_depth': 25, 'hgb_min_samples_leaf': 7, 'svm_C': 2.0494595534249602, 'svm_kernel': 'rbf', 'svm_gamma': 0.0030915674881680515, 'gnb_var_smoothing': 0.028907787795389214}. Best is trial 47 with value: 0.03754332199719413.\n",
      "[I 2024-03-11 17:35:40,315] Trial 71 finished with value: 0.04830053056339424 and parameters: {'hgb_learning_rate': 0.024747042007988346, 'hgb_max_iter': 468, 'hgb_max_depth': 24, 'hgb_min_samples_leaf': 7, 'svm_C': 2.285414003596486, 'svm_kernel': 'rbf', 'svm_gamma': 0.0032217875168056784, 'gnb_var_smoothing': 0.0036292278470912613}. Best is trial 47 with value: 0.03754332199719413.\n",
      "[I 2024-03-11 17:35:41,493] Trial 72 finished with value: 0.0399914751223937 and parameters: {'hgb_learning_rate': 0.026010742278428374, 'hgb_max_iter': 467, 'hgb_max_depth': 24, 'hgb_min_samples_leaf': 7, 'svm_C': 2.0629974074980897, 'svm_kernel': 'rbf', 'svm_gamma': 0.0036713647864508644, 'gnb_var_smoothing': 0.027220459206581494}. Best is trial 47 with value: 0.03754332199719413.\n",
      "[I 2024-03-11 17:35:42,279] Trial 73 finished with value: 0.03650224688965338 and parameters: {'hgb_learning_rate': 0.026750135049634104, 'hgb_max_iter': 465, 'hgb_max_depth': 25, 'hgb_min_samples_leaf': 7, 'svm_C': 2.4814964046076695, 'svm_kernel': 'rbf', 'svm_gamma': 0.0036423431089443736, 'gnb_var_smoothing': 0.03041291628775994}. Best is trial 73 with value: 0.03650224688965338.\n",
      "[I 2024-03-11 17:35:46,752] Trial 78 finished with value: 0.06738968895455427 and parameters: {'hgb_learning_rate': 0.03504357163983952, 'hgb_max_iter': 358, 'hgb_max_depth': 18, 'hgb_min_samples_leaf': 5, 'svm_C': 2.5451535642719767, 'svm_kernel': 'linear', 'svm_gamma': 0.0034740121875009708, 'gnb_var_smoothing': 0.05262143243231034}. Best is trial 73 with value: 0.03650224688965338.\n",
      "[I 2024-03-11 17:35:47,942] Trial 74 finished with value: 0.03976893177112979 and parameters: {'hgb_learning_rate': 0.025426316196414122, 'hgb_max_iter': 466, 'hgb_max_depth': 24, 'hgb_min_samples_leaf': 7, 'svm_C': 2.051444091250309, 'svm_kernel': 'rbf', 'svm_gamma': 0.0034931913379363773, 'gnb_var_smoothing': 0.03165305475922026}. Best is trial 73 with value: 0.03650224688965338.\n",
      "[I 2024-03-11 17:35:48,508] Trial 79 finished with value: 0.06862607137093592 and parameters: {'hgb_learning_rate': 0.027418488795384357, 'hgb_max_iter': 357, 'hgb_max_depth': 18, 'hgb_min_samples_leaf': 5, 'svm_C': 2.3297534799994457, 'svm_kernel': 'linear', 'svm_gamma': 0.002175177191639848, 'gnb_var_smoothing': 0.034640288084883876}. Best is trial 73 with value: 0.03650224688965338.\n",
      "[I 2024-03-11 17:35:49,237] Trial 80 finished with value: 0.06870033735457405 and parameters: {'hgb_learning_rate': 0.029610075244436988, 'hgb_max_iter': 343, 'hgb_max_depth': 12, 'hgb_min_samples_leaf': 5, 'svm_C': 2.5214436912206413, 'svm_kernel': 'linear', 'svm_gamma': 0.003513601691420641, 'gnb_var_smoothing': 0.033651486152886156}. Best is trial 73 with value: 0.03650224688965338.\n",
      "[I 2024-03-11 17:35:52,209] Trial 81 finished with value: 0.06837885755834279 and parameters: {'hgb_learning_rate': 0.028843569480767293, 'hgb_max_iter': 358, 'hgb_max_depth': 12, 'hgb_min_samples_leaf': 5, 'svm_C': 2.486656251890196, 'svm_kernel': 'linear', 'svm_gamma': 0.003486327876132258, 'gnb_var_smoothing': 0.03921170405109616}. Best is trial 73 with value: 0.03650224688965338.\n",
      "[I 2024-03-11 17:35:55,174] Trial 76 finished with value: 0.039175450193445184 and parameters: {'hgb_learning_rate': 0.027222428299920116, 'hgb_max_iter': 467, 'hgb_max_depth': 25, 'hgb_min_samples_leaf': 7, 'svm_C': 1.98266806712572, 'svm_kernel': 'rbf', 'svm_gamma': 0.0034793510088338858, 'gnb_var_smoothing': 0.03809309612345771}. Best is trial 73 with value: 0.03650224688965338.\n",
      "[I 2024-03-11 17:36:02,288] Trial 82 finished with value: 0.06857663252533498 and parameters: {'hgb_learning_rate': 0.027757171198504987, 'hgb_max_iter': 358, 'hgb_max_depth': 11, 'hgb_min_samples_leaf': 5, 'svm_C': 2.465166951775649, 'svm_kernel': 'linear', 'svm_gamma': 0.003408886116449984, 'gnb_var_smoothing': 0.03698683366934713}. Best is trial 73 with value: 0.03650224688965338.\n",
      "[I 2024-03-11 17:36:02,987] Trial 83 finished with value: 0.06877452499985819 and parameters: {'hgb_learning_rate': 0.02835521617213542, 'hgb_max_iter': 356, 'hgb_max_depth': 11, 'hgb_min_samples_leaf': 5, 'svm_C': 2.5269016990330004, 'svm_kernel': 'linear', 'svm_gamma': 0.0022041800517535832, 'gnb_var_smoothing': 0.03666194865890686}. Best is trial 73 with value: 0.03650224688965338.\n",
      "[I 2024-03-11 17:36:07,289] Trial 86 finished with value: 0.06726604287908071 and parameters: {'hgb_learning_rate': 0.0794796269805049, 'hgb_max_iter': 351, 'hgb_max_depth': 30, 'hgb_min_samples_leaf': 5, 'svm_C': 2.4954176864380133, 'svm_kernel': 'linear', 'svm_gamma': 0.0034273792721865987, 'gnb_var_smoothing': 0.03426478368495115}. Best is trial 73 with value: 0.03650224688965338.\n",
      "[I 2024-03-11 17:36:12,890] Trial 87 finished with value: 0.06729069375582142 and parameters: {'hgb_learning_rate': 0.0810266854787348, 'hgb_max_iter': 360, 'hgb_max_depth': 30, 'hgb_min_samples_leaf': 5, 'svm_C': 2.4216896705075346, 'svm_kernel': 'linear', 'svm_gamma': 0.003427303218421157, 'gnb_var_smoothing': 0.033852024001389695}. Best is trial 73 with value: 0.03650224688965338.\n",
      "[I 2024-03-11 17:36:19,383] Trial 85 finished with value: 0.06832943829733037 and parameters: {'hgb_learning_rate': 0.03092771959850202, 'hgb_max_iter': 336, 'hgb_max_depth': 30, 'hgb_min_samples_leaf': 5, 'svm_C': 2.7315182812811374, 'svm_kernel': 'linear', 'svm_gamma': 0.002018754391176922, 'gnb_var_smoothing': 0.03955939053329625}. Best is trial 73 with value: 0.03650224688965338.\n",
      "[I 2024-03-11 17:36:21,543] Trial 84 finished with value: 0.06835414792783658 and parameters: {'hgb_learning_rate': 0.026639762996337833, 'hgb_max_iter': 367, 'hgb_max_depth': 30, 'hgb_min_samples_leaf': 5, 'svm_C': 2.509328874145818, 'svm_kernel': 'linear', 'svm_gamma': 0.002248639203035925, 'gnb_var_smoothing': 0.04042271724048121}. Best is trial 73 with value: 0.03650224688965338.\n",
      "[I 2024-03-11 17:36:23,459] Trial 97 finished with value: 0.03779071207108377 and parameters: {'hgb_learning_rate': 0.07887623534592944, 'hgb_max_iter': 416, 'hgb_max_depth': 31, 'hgb_min_samples_leaf': 6, 'svm_C': 1.7355741238180564, 'svm_kernel': 'sigmoid', 'svm_gamma': 0.004619048640481155, 'gnb_var_smoothing': 0.08777827342643015}. Best is trial 73 with value: 0.03650224688965338.\n",
      "[I 2024-03-11 17:36:28,335] Trial 88 finished with value: 0.06795850007090969 and parameters: {'hgb_learning_rate': 0.034312437611504334, 'hgb_max_iter': 364, 'hgb_max_depth': 25, 'hgb_min_samples_leaf': 5, 'svm_C': 2.6513841003064345, 'svm_kernel': 'linear', 'svm_gamma': 0.0022355577699534317, 'gnb_var_smoothing': 0.0422905296060627}. Best is trial 73 with value: 0.03650224688965338.\n",
      "[I 2024-03-11 17:36:29,424] Trial 89 finished with value: 0.0666725417168076 and parameters: {'hgb_learning_rate': 0.03519423672788957, 'hgb_max_iter': 358, 'hgb_max_depth': 25, 'hgb_min_samples_leaf': 5, 'svm_C': 2.5280388968999334, 'svm_kernel': 'linear', 'svm_gamma': 0.0024267713148136277, 'gnb_var_smoothing': 0.09755634951768954}. Best is trial 73 with value: 0.03650224688965338.\n",
      "[I 2024-03-11 17:36:30,444] Trial 99 finished with value: 0.03761760756542078 and parameters: {'hgb_learning_rate': 0.08032139525122661, 'hgb_max_iter': 419, 'hgb_max_depth': 30, 'hgb_min_samples_leaf': 8, 'svm_C': 2.8391793338250357, 'svm_kernel': 'sigmoid', 'svm_gamma': 0.004098645516921526, 'gnb_var_smoothing': 0.08958279779580557}. Best is trial 73 with value: 0.03650224688965338.\n",
      "[I 2024-03-11 17:36:30,772] Trial 90 finished with value: 0.06746383743066141 and parameters: {'hgb_learning_rate': 0.03453413962796543, 'hgb_max_iter': 363, 'hgb_max_depth': 31, 'hgb_min_samples_leaf': 5, 'svm_C': 2.5867020241090533, 'svm_kernel': 'linear', 'svm_gamma': 0.0034282612019411896, 'gnb_var_smoothing': 0.044457384414336366}. Best is trial 73 with value: 0.03650224688965338.\n",
      "[I 2024-03-11 17:36:31,055] Trial 92 finished with value: 0.03801327500693619 and parameters: {'hgb_learning_rate': 0.031211636150404946, 'hgb_max_iter': 332, 'hgb_max_depth': 30, 'hgb_min_samples_leaf': 5, 'svm_C': 2.8525534183188372, 'svm_kernel': 'sigmoid', 'svm_gamma': 0.0028812682312935574, 'gnb_var_smoothing': 0.09930648142138575}. Best is trial 73 with value: 0.03650224688965338.\n",
      "[I 2024-03-11 17:36:31,651] Trial 91 finished with value: 0.03776598285598906 and parameters: {'hgb_learning_rate': 0.03565541306466176, 'hgb_max_iter': 372, 'hgb_max_depth': 30, 'hgb_min_samples_leaf': 5, 'svm_C': 2.624111943348181, 'svm_kernel': 'sigmoid', 'svm_gamma': 0.0024300568506504263, 'gnb_var_smoothing': 0.09527741429874834}. Best is trial 73 with value: 0.03650224688965338.\n",
      "[I 2024-03-11 17:36:34,849] Trial 95 finished with value: 0.03791435814655734 and parameters: {'hgb_learning_rate': 0.036699856013260805, 'hgb_max_iter': 418, 'hgb_max_depth': 30, 'hgb_min_samples_leaf': 8, 'svm_C': 1.7373419152021252, 'svm_kernel': 'sigmoid', 'svm_gamma': 0.0023097718541603657, 'gnb_var_smoothing': 0.08238344382082315}. Best is trial 73 with value: 0.03650224688965338.\n",
      "[I 2024-03-11 17:36:35,183] Trial 96 finished with value: 0.03771652442579963 and parameters: {'hgb_learning_rate': 0.039408366314175956, 'hgb_max_iter': 418, 'hgb_max_depth': 30, 'hgb_min_samples_leaf': 8, 'svm_C': 2.815126706838824, 'svm_kernel': 'sigmoid', 'svm_gamma': 0.00410754488078013, 'gnb_var_smoothing': 0.09612345172406392}. Best is trial 73 with value: 0.03650224688965338.\n",
      "[I 2024-03-11 17:36:35,259] Trial 93 finished with value: 0.03776598285598906 and parameters: {'hgb_learning_rate': 0.030602752104041713, 'hgb_max_iter': 417, 'hgb_max_depth': 30, 'hgb_min_samples_leaf': 5, 'svm_C': 1.7642739418290971, 'svm_kernel': 'sigmoid', 'svm_gamma': 0.0021019776616458125, 'gnb_var_smoothing': 0.09942366612261352}. Best is trial 73 with value: 0.03650224688965338.\n",
      "[I 2024-03-11 17:36:35,626] Trial 94 finished with value: 0.03786489971636791 and parameters: {'hgb_learning_rate': 0.031960530139034826, 'hgb_max_iter': 418, 'hgb_max_depth': 30, 'hgb_min_samples_leaf': 6, 'svm_C': 1.7293826039565108, 'svm_kernel': 'sigmoid', 'svm_gamma': 0.0020536426332496485, 'gnb_var_smoothing': 0.08622539858956281}. Best is trial 73 with value: 0.03650224688965338.\n",
      "[I 2024-03-11 17:36:37,424] Trial 98 finished with value: 0.037889628931462624 and parameters: {'hgb_learning_rate': 0.03810259413676757, 'hgb_max_iter': 417, 'hgb_max_depth': 31, 'hgb_min_samples_leaf': 8, 'svm_C': 2.786296604854676, 'svm_kernel': 'sigmoid', 'svm_gamma': 0.004695318517596985, 'gnb_var_smoothing': 0.07001319063481279}. Best is trial 73 with value: 0.03650224688965338.\n"
     ]
    }
   ],
   "source": [
    "hgb_params = {\n",
    "    'learning_rate': optuna.distributions.FloatDistribution(0.001, 0.1),\n",
    "    'max_iter': optuna.distributions.IntDistribution(50, 500),\n",
    "    'max_depth': optuna.distributions.IntDistribution(2, 32),\n",
    "    'min_samples_leaf': optuna.distributions.IntDistribution(1, 10)\n",
    "}\n",
    "\n",
    "svm_params = {\n",
    "    'C': optuna.distributions.FloatDistribution(0.1, 10),\n",
    "    'kernel': optuna.distributions.CategoricalDistribution(['linear', 'poly', 'rbf', 'sigmoid']),\n",
    "    'gamma': optuna.distributions.FloatDistribution(1e-6, 1e-2)\n",
    "}\n",
    "\n",
    "def objective(trial):\n",
    "    # Define hyperparameters for HistGradientBoostingClassifier\n",
    "    hgb_hyperparams = {\n",
    "        'learning_rate': trial.suggest_float('hgb_learning_rate', 0.001, 0.1, log=True),\n",
    "        'max_iter': trial.suggest_int('hgb_max_iter', 50, 500),\n",
    "        'max_depth': trial.suggest_int('hgb_max_depth', 2, 32),\n",
    "        'min_samples_leaf': trial.suggest_int('hgb_min_samples_leaf', 1, 10)\n",
    "    }\n",
    "    \n",
    "    \n",
    "    # Define hyperparameters for SVM\n",
    "    svm_hyperparams = {\n",
    "        'C': trial.suggest_float('svm_C', 0.1, 10),\n",
    "        'kernel': trial.suggest_categorical('svm_kernel', ['linear', 'poly', 'rbf', 'sigmoid']),\n",
    "        'gamma': trial.suggest_float('svm_gamma', 1e-6, 1e-2)\n",
    "    }\n",
    "    \"\"\"\n",
    "    \n",
    "    # Define hyperparameters for SVM\n",
    "    svm_hyperparams = {\n",
    "        'C': trial.suggest_float('svm_C', 0.1, 0.1),\n",
    "        'kernel': trial.suggest_categorical('svm_kernel', ['rbf']),\n",
    "        'gamma': trial.suggest_float('svm_gamma', 0.01, 0.01)\n",
    "    }\n",
    "    \"\"\"\n",
    "    \n",
    "    # Define hyperparameters for GaussianNB\n",
    "    gnb_hyperparams = {\n",
    "        'var_smoothing': trial.suggest_float('gnb_var_smoothing', 1e-10, 1e-1, log=True)\n",
    "    }\n",
    "    \n",
    "    # Initialize the rf\n",
    "    hgb_classifier = HistGradientBoostingClassifier(**hgb_hyperparams)\n",
    "    \n",
    "    # Initialize the nbc\n",
    "    nbc_classifier = GaussianNB(**gnb_hyperparams)\n",
    "    \n",
    "    # Initialize and train voting classifier\n",
    "    voting_classifier = VotingClassifier(\n",
    "        estimators=[(\"hgbc\", hgb_classifier), (\"nbc\", nbc_classifier)] ,\n",
    "        voting='soft'\n",
    "    )\n",
    "    voting_classifier.fit(X_train_dos_probe, y_train_l1)\n",
    "    \n",
    "    # Initialize and train SVM classifier\n",
    "    svm_classifier = SVC(**svm_hyperparams)\n",
    "    svm_classifier.fit(X_train_r2l_u2r, y_train_l2)\n",
    "    \n",
    "    # Predict on validation set and calculate metrics for both classifiers\n",
    "    voting_predicted = voting_classifier.predict(X_validate_dos_probe)\n",
    "    svm_predicted = svm_classifier.predict(X_validate_r2l_u2r)\n",
    "    \n",
    "    # Calculate confusion matrices for both classifiers\n",
    "    voting_cm = confusion_matrix(y_validate_l1, voting_predicted)\n",
    "    svm_cm = confusion_matrix(y_validate_l2, svm_predicted)\n",
    "    \n",
    "    # Calculate False Negative Rates for both classifiers\n",
    "    voting_fnr = voting_cm[1, 0] / np.sum(voting_cm[1, :])\n",
    "    svm_fnr = svm_cm[1, 0] / np.sum(svm_cm[1, :])\n",
    "    \n",
    "    # Calculate the average FNR\n",
    "    avg_fnr = (voting_fnr + svm_fnr) / 2\n",
    "    \n",
    "    return avg_fnr\n",
    "\n",
    "\n",
    "# Create Optuna study and optimize\n",
    "study = optuna.create_study(direction='minimize')\n",
    "\n",
    "start = datetime.now()\n",
    "study.optimize(objective, n_trials=100, n_jobs=-1)\n",
    "tuning_time = datetime.now() - start"
   ],
   "metadata": {
    "collapsed": false,
    "ExecuteTime": {
     "end_time": "2024-03-11T16:36:37.773099300Z",
     "start_time": "2024-03-11T16:31:07.109050300Z"
    }
   }
  },
  {
   "cell_type": "markdown",
   "source": [
    "S2: (RF+NBC) + SVM"
   ],
   "metadata": {
    "collapsed": false
   }
  },
  {
   "cell_type": "markdown",
   "source": [
    "S4: (HGBC+NBC) + SVM"
   ],
   "metadata": {
    "collapsed": false
   }
  },
  {
   "cell_type": "markdown",
   "source": [
    "from sklearn.ensemble import HistGradientBoostingClassifier\n",
    "\n",
    "hgb_params = {\n",
    "    'learning_rate': optuna.distributions.FloatDistribution(0.001, 0.1),\n",
    "    'max_iter': optuna.distributions.IntDistribution(50, 500),\n",
    "    'max_depth': optuna.distributions.IntDistribution(2, 32),\n",
    "    'min_samples_leaf': optuna.distributions.IntDistribution(1, 10)\n",
    "}\n",
    "\n",
    "svm_params = {\n",
    "    'C': optuna.distributions.FloatDistribution(0.1, 10),\n",
    "    'kernel': optuna.distributions.CategoricalDistribution(['linear', 'poly', 'rbf', 'sigmoid']),\n",
    "    'gamma': optuna.distributions.FloatDistribution(1e-6, 1e-2)\n",
    "}\n",
    "\n",
    "nbc_params = {\n",
    "    'var_smoothing': optuna.distributions.FloatDistribution(1e-10, 1e-1)\n",
    "}\n",
    "\n",
    "def objective(trial):\n",
    "    # Define hyperparameters for Random Forest\n",
    "    hgb_hyperparams = {\n",
    "        'learning_rate': trial.suggest_float('hgb_learning_rate', 0.001, 0.1, log=True),\n",
    "        'max_iter': trial.suggest_int('hgb_max_iter', 50, 500),\n",
    "        'max_depth': trial.suggest_int('hgb_max_depth', 2, 32),\n",
    "        'min_samples_leaf': trial.suggest_int('hgb_min_samples_leaf', 1, 10)\n",
    "    }\n",
    "    \n",
    "    # Define hyperparameters for GaussianNB\n",
    "    gnb_hyperparams = {\n",
    "        'var_smoothing': trial.suggest_float('gnb_var_smoothing', 1e-10, 1e-1, log=True)\n",
    "    }\n",
    "    \n",
    "    \n",
    "    # Define hyperparameters for SVM\n",
    "    svm_hyperparams = {\n",
    "        'C': trial.suggest_float('svm_C', 0.1, 10),\n",
    "        'kernel': trial.suggest_categorical('svm_kernel', ['linear', 'poly', 'rbf', 'sigmoid']),\n",
    "        'gamma': trial.suggest_float('svm_gamma', 1e-6, 1e-2)\n",
    "    }\n",
    "    \"\"\"\n",
    "    \n",
    "    # Define hyperparameters for SVM\n",
    "    svm_hyperparams = {\n",
    "        'C': trial.suggest_float('svm_C', 0.1, 0.1),\n",
    "        'kernel': trial.suggest_categorical('svm_kernel', ['rbf']),\n",
    "        'gamma': trial.suggest_float('svm_gamma', 0.01, 0.01)\n",
    "    }\n",
    "    \"\"\"\n",
    "    \n",
    "    voting_classifier = VotingClassifier(\n",
    "        [(\"hgbc\", HistGradientBoostingClassifier(**hgb_hyperparams)), (\"nbc\", GaussianNB(**gnb_hyperparams))],\n",
    "        voting='soft'\n",
    "    )\n",
    "    voting_classifier.fit(X_train_dos_probe, y_train_l1)\n",
    "    \n",
    "    hgb_classifier = HistGradientBoostingClassifier(**hgb_hyperparams)\n",
    "    hgb_classifier.fit(X_train_dos_probe, y_train_l1)\n",
    "    \n",
    "    # Initialize and train SVM classifier\n",
    "    svm_classifier = SVC(**svm_hyperparams)\n",
    "    svm_classifier.fit(X_train_r2l_u2r, y_train_l2)\n",
    "    \n",
    "    # Predict on validation set and calculate metrics for both classifiers\n",
    "    hgb_predicted = hgb_classifier.predict(X_validate_dos_probe)\n",
    "    svm_predicted = svm_classifier.predict(X_validate_r2l_u2r)\n",
    "    \n",
    "    # Calculate confusion matrices for both classifiers\n",
    "    hgb_cm = confusion_matrix(y_validate_l1, hgb_predicted)\n",
    "    svm_cm = confusion_matrix(y_validate_l2, svm_predicted)\n",
    "    \n",
    "    # Calculate Precision and False Negative Rate (FNR) for both classifiers\n",
    "    hgb_precision = hgb_cm[1, 1] / np.sum(hgb_cm[:, 1])\n",
    "    hgb_fnr = hgb_cm[1, 0] / np.sum(hgb_cm[1, :])\n",
    "    \n",
    "    svm_precision = svm_cm[1, 1] / np.sum(svm_cm[:, 1])\n",
    "    svm_fnr = svm_cm[1, 0] / np.sum(svm_cm[1, :])\n",
    "    \n",
    "    # Calculate the average Precision and FNR\n",
    "    avg_precision = (hgb_precision + svm_precision) / 2\n",
    "    avg_fnr = (hgb_fnr + svm_fnr) / 2\n",
    "    \n",
    "    # Aim to optimize both Precision and FNR\n",
    "    return 1 - (avg_precision + avg_fnr)  # Minimize the sum of Precision and FNR\n",
    "\n",
    "\n",
    "# Create Optuna study and optimize\n",
    "study = optuna.create_study(direction='minimize')\n",
    "\n",
    "start = datetime.now()\n",
    "study.optimize(objective, n_trials=100, n_jobs=-1)\n",
    "tuning_time = datetime.now() - start"
   ],
   "metadata": {
    "collapsed": false
   }
  },
  {
   "cell_type": "markdown",
   "source": [
    "S4: (RF+NBC) + SVM"
   ],
   "metadata": {
    "collapsed": false
   }
  },
  {
   "cell_type": "markdown",
   "source": [
    "import optuna\n",
    "\n",
    "rf_params = {\n",
    "    'n_estimators': optuna.distributions.IntDistribution(50, 500),\n",
    "    'max_depth': optuna.distributions.IntDistribution(2, 32),\n",
    "    'min_samples_split': optuna.distributions.IntDistribution(2, 20),\n",
    "    'min_samples_leaf': optuna.distributions.IntDistribution(1, 10)\n",
    "}\n",
    "\n",
    "svm_params = {\n",
    "    'C': optuna.distributions.FloatDistribution(0.1, 10),\n",
    "    'kernel': optuna.distributions.CategoricalDistribution(['linear', 'poly', 'rbf', 'sigmoid']),\n",
    "    'gamma': optuna.distributions.FloatDistribution(1e-6, 1e-2)\n",
    "}\n",
    "\n",
    "nbc_params = {\n",
    "    'var_smoothing': optuna.distributions.FloatDistribution(1e-10, 1e-1)\n",
    "}\n",
    "\n",
    "def objective(trial):\n",
    "    # Define hyperparameters for Random Forest\n",
    "    rf_hyperparams = {\n",
    "        'n_estimators': trial.suggest_int('rf_n_estimators', 10, 70),\n",
    "        'max_depth': trial.suggest_int('rf_max_depth', 2, 32),\n",
    "        'min_samples_split': trial.suggest_int('rf_min_samples_split', 2, 20),\n",
    "        'min_samples_leaf': trial.suggest_int('rf_min_samples_leaf', 1, 10)\n",
    "    }\n",
    "    \n",
    "    # Define hyperparameters for GaussianNB\n",
    "    gnb_hyperparams = {\n",
    "        'var_smoothing': trial.suggest_float('gnb_var_smoothing', 1e-10, 1e-1, log=True)\n",
    "    }\n",
    "    \n",
    "    \n",
    "    # Define hyperparameters for SVM\n",
    "    svm_hyperparams = {\n",
    "        'C': trial.suggest_float('svm_C', 0.1, 10),\n",
    "        'kernel': trial.suggest_categorical('svm_kernel', ['linear', 'poly', 'rbf', 'sigmoid']),\n",
    "        'gamma': trial.suggest_float('svm_gamma', 1e-6, 1e-2)\n",
    "    }\n",
    "    \"\"\"\n",
    "    \n",
    "    # Define hyperparameters for SVM\n",
    "    svm_hyperparams = {\n",
    "        'C': trial.suggest_float('svm_C', 0.1, 0.1),\n",
    "        'kernel': trial.suggest_categorical('svm_kernel', ['rbf']),\n",
    "        'gamma': trial.suggest_float('svm_gamma', 0.01, 0.01)\n",
    "    }\n",
    "    \"\"\"\n",
    "    \n",
    "    voting_classifier = VotingClassifier(\n",
    "        [(\"rf\", RandomForestClassifier(**rf_hyperparams)), (\"nbc\", GaussianNB(**gnb_hyperparams))],\n",
    "        voting='soft'\n",
    "    )\n",
    "    voting_classifier.fit(X_train_dos_probe, y_train_l1)\n",
    "    \n",
    "    # Initialize and train SVM classifier\n",
    "    svm_classifier = SVC(**svm_hyperparams)\n",
    "    svm_classifier.fit(X_train_r2l_u2r, y_train_l2)\n",
    "    \n",
    "    # Predict on validation set and calculate metrics for both classifiers\n",
    "    voting_predicted = voting_classifier.predict(X_validate_dos_probe)\n",
    "    svm_predicted = svm_classifier.predict(X_validate_r2l_u2r)\n",
    "    \n",
    "    # Calculate confusion matrices for both classifiers\n",
    "    voting_cm = confusion_matrix(y_validate_l1, voting_predicted)\n",
    "    svm_cm = confusion_matrix(y_validate_l2, svm_predicted)\n",
    "    \n",
    "    # Calculate Precision and False Negative Rate (FNR) for both classifiers\n",
    "    voting_precision = voting_cm[1, 1] / np.sum(voting_cm[:, 1])\n",
    "    voting_fnr = voting_cm[1, 0] / np.sum(voting_cm[1, :])\n",
    "    \n",
    "    svm_precision = svm_cm[1, 1] / np.sum(svm_cm[:, 1])\n",
    "    svm_fnr = svm_cm[1, 0] / np.sum(svm_cm[1, :])\n",
    "    \n",
    "    # Calculate the average Precision and FNR\n",
    "    avg_precision = (voting_precision + svm_precision) / 2\n",
    "    avg_fnr = (voting_fnr + svm_fnr) / 2\n",
    "    \n",
    "    # Aim to optimize both Precision and FNR\n",
    "    return 1 - (avg_precision + avg_fnr)  # Minimize the sum of Precision and FNR\n",
    "\n",
    "\n",
    "# Create Optuna study and optimize\n",
    "study = optuna.create_study(direction='minimize')\n",
    "\n",
    "start = datetime.now()\n",
    "study.optimize(objective, n_trials=100, n_jobs=-1)\n",
    "tuning_time = datetime.now() - start"
   ],
   "metadata": {
    "collapsed": false
   }
  },
  {
   "cell_type": "markdown",
   "metadata": {
    "collapsed": false
   },
   "source": [
    "# Get the best hyperparameters"
   ]
  },
  {
   "cell_type": "code",
   "execution_count": 117,
   "outputs": [],
   "source": [
    "from sklearn.ensemble import HistGradientBoostingClassifier\n",
    "\n",
    "best_params_nbc = {\n",
    "    'var_smoothing': study.best_trial.params['gnb_var_smoothing']\n",
    "}\n",
    "\n",
    "best_params2 = {\n",
    "    'C': study.best_trial.params['svm_C'],\n",
    "    'kernel': study.best_trial.params['svm_kernel'],\n",
    "    'gamma': study.best_trial.params['svm_gamma']\n",
    "}\n",
    "\n",
    "best_classifier2 = SVC(**best_params2)\n",
    "best_classifier2.fit(X_train_r2l_u2r, y_train_l2)\n",
    "\n",
    "if p1:\n",
    "    best_params1 = {\n",
    "        'learning_rate': study.best_trial.params['hgb_learning_rate'],\n",
    "        'max_depth': study.best_trial.params['hgb_max_depth'],\n",
    "        'max_iter': study.best_trial.params['hgb_max_iter'],\n",
    "        'min_samples_leaf': study.best_trial.params['hgb_min_samples_leaf']\n",
    "    }\n",
    "    \n",
    "    best_classifier1 = HistGradientBoostingClassifier(**best_params1)\n",
    "    best_classifier1.fit(X_train_dos_probe, y_train_l1)\n",
    "    \n",
    "if p2:\n",
    "    best_params1 = {\n",
    "        'n_estimators': study.best_trial.params['rf_n_estimators'],\n",
    "        'max_depth': study.best_trial.params['rf_max_depth'],\n",
    "        'min_samples_split': study.best_trial.params['rf_min_samples_split'],\n",
    "        'min_samples_leaf': study.best_trial.params['rf_min_samples_leaf']\n",
    "    }\n",
    "    \n",
    "    best_classifier1 = RandomForestClassifier(**best_params1)\n",
    "    best_classifier1.fit(X_train_dos_probe, y_train_l1)\n",
    "    \n",
    "if p3:\n",
    "    best_params1 = {\n",
    "        'n_estimators': study.best_trial.params['rf_n_estimators'],\n",
    "        'max_depth': study.best_trial.params['rf_max_depth'],\n",
    "        'min_samples_split': study.best_trial.params['rf_min_samples_split'],\n",
    "        'min_samples_leaf': study.best_trial.params['rf_min_samples_leaf']\n",
    "    }\n",
    "    \n",
    "    best_classifier1 = VotingClassifier(\n",
    "        [(\"rf\", RandomForestClassifier(**best_params1)), (\"nbc\", GaussianNB(**best_params_nbc))],\n",
    "        voting='soft')\n",
    "    best_classifier1.fit(X_train_dos_probe, y_train_l1)\n",
    "    \n",
    "if p4:\n",
    "    best_params1 = {\n",
    "        'learning_rate': study.best_trial.params['hgb_learning_rate'],\n",
    "        'max_depth': study.best_trial.params['hgb_max_depth'],\n",
    "        'max_iter': study.best_trial.params['hgb_max_iter'],\n",
    "        'min_samples_leaf': study.best_trial.params['hgb_min_samples_leaf']\n",
    "    }\n",
    "    \n",
    "    best_classifier1 = VotingClassifier(\n",
    "        [(\"hgbc\", HistGradientBoostingClassifier(**best_params1)), (\"nbc\", GaussianNB(**best_params_nbc))],\n",
    "        voting='soft')\n",
    "    best_classifier1.fit(X_train_dos_probe, y_train_l1)"
   ],
   "metadata": {
    "collapsed": false,
    "ExecuteTime": {
     "end_time": "2024-03-11T16:36:47.806654100Z",
     "start_time": "2024-03-11T16:36:37.442888900Z"
    }
   }
  },
  {
   "cell_type": "code",
   "execution_count": 118,
   "outputs": [],
   "source": [
    "classifier1 = best_classifier1\n",
    "classifier2 = best_classifier2"
   ],
   "metadata": {
    "collapsed": false,
    "ExecuteTime": {
     "end_time": "2024-03-11T16:36:47.815959100Z",
     "start_time": "2024-03-11T16:36:47.808260300Z"
    }
   }
  },
  {
   "cell_type": "code",
   "execution_count": 119,
   "metadata": {
    "collapsed": false,
    "ExecuteTime": {
     "end_time": "2024-03-11T16:38:55.110375800Z",
     "start_time": "2024-03-11T16:36:47.813707300Z"
    }
   },
   "outputs": [],
   "source": [
    "# the results may vary\n",
    "accuracy, f_score, precision, recall, clf_time, tnr, fpr, fnr, result = test_metrics()"
   ]
  },
  {
   "cell_type": "code",
   "execution_count": 120,
   "outputs": [
    {
     "data": {
      "text/plain": "<Figure size 640x480 with 1 Axes>",
      "image/png": "[encoded data removed]"
     },
     "metadata": {},
     "output_type": "display_data"
    }
   ],
   "source": [
    "# ROC graph\n",
    "\n",
    "import matplotlib.pyplot as plt\n",
    "from sklearn.metrics import roc_curve, auc\n",
    "\n",
    "fpr, tpr, _ = roc_curve(y_test_real, result)\n",
    "roc_auc = auc(fpr, tpr)\n",
    "\n",
    "# Plot ROC curve\n",
    "plt.figure()\n",
    "plt.plot(fpr, tpr, color='darkorange', lw=2, label='ROC curve (area = %0.2f)' % roc_auc)\n",
    "plt.plot([0, 1], [0, 1], color='navy', lw=2, linestyle='--')\n",
    "plt.xlim([0.0, 1.0])\n",
    "plt.ylim([0.0, 1.05])\n",
    "plt.xlabel('False Positive Rate')\n",
    "plt.ylabel('True Positive Rate')\n",
    "plt.title('Receiver Operating Characteristic (ROC) Curve')\n",
    "plt.legend(loc=\"lower right\")\n",
    "\n",
    "if p2:\n",
    "    if f1:\n",
    "        plt.savefig('static_roc_curve-rf-f1.png')\n",
    "    if f2:\n",
    "        plt.savefig('static_roc_curve-rf-f2.png')\n",
    "    if f3:\n",
    "        plt.savefig('static_roc_curve-rf-f3.png')\n",
    "        \n",
    "if p1:\n",
    "    if f1:\n",
    "        plt.savefig('static_roc_curve-hgbc-f1.png')\n",
    "    if f2:\n",
    "        plt.savefig('static_roc_curve-hgbc-f2.png')\n",
    "    if f3:\n",
    "        plt.savefig('static_roc_curve-hgbc-f3.png')\n",
    "        \n",
    "if p3:\n",
    "    if f1:\n",
    "        plt.savefig('static_roc_curve-voting-rf-f1.png')\n",
    "    if f2:\n",
    "        plt.savefig('static_roc_curve-voting-rf-f2.png')\n",
    "    if f3:\n",
    "        plt.savefig('static_roc_curve-voting-rf-f3.png')\n",
    "        \n",
    "if p3:\n",
    "    if f1:\n",
    "        plt.savefig('static_roc_curve-voting-hgbc-f1.png')\n",
    "    if f2:\n",
    "        plt.savefig('static_roc_curve-voting-hgbc-f2.png')\n",
    "    if f3:\n",
    "        plt.savefig('static_roc_curve-voting-hgbc-f3.png')\n",
    "\n",
    "\n",
    "plt.savefig('S3_HGBC+NBC.png')\n",
    "\n",
    "plt.show()"
   ],
   "metadata": {
    "collapsed": false,
    "ExecuteTime": {
     "end_time": "2024-03-11T16:38:55.321122700Z",
     "start_time": "2024-03-11T16:38:55.115764200Z"
    }
   }
  },
  {
   "cell_type": "markdown",
   "metadata": {},
   "source": [
    "### evaluate seen and unseen attack categories"
   ]
  },
  {
   "cell_type": "code",
   "execution_count": 121,
   "metadata": {
    "collapsed": true,
    "jupyter": {
     "outputs_hidden": true,
     "source_hidden": true
    },
    "ExecuteTime": {
     "end_time": "2024-03-11T16:38:55.442975100Z",
     "start_time": "2024-03-11T16:38:55.319635400Z"
    }
   },
   "outputs": [],
   "source": [
    "# load testset\n",
    "df_test = pd.read_csv('EvalResources/KDDTest+.txt', sep=\",\", header=None, skipinitialspace = True)\n",
    "df_test = df_test[df_test.columns[:-1]]\n",
    "df_test.columns = titles.to_list()\n",
    "y_test = df_test['label']\n",
    "df_test = df_test.drop(['num_outbound_cmds'],axis=1)\n",
    "\n",
    "df_test_original = df_test"
   ]
  },
  {
   "cell_type": "code",
   "execution_count": 122,
   "metadata": {
    "collapsed": true,
    "jupyter": {
     "outputs_hidden": true,
     "source_hidden": true
    },
    "ExecuteTime": {
     "end_time": "2024-03-11T16:38:55.584925200Z",
     "start_time": "2024-03-11T16:38:55.411311Z"
    }
   },
   "outputs": [],
   "source": [
    "new_attack = []\n",
    "for i in df_test_original['label'].value_counts().index.tolist()[1:]:\n",
    "    if i not in df_train_original['label'].value_counts().index.tolist()[1:]:\n",
    "        new_attack.append(i)\n",
    "        \n",
    "new_attack.sort()\n",
    "#new_attack"
   ]
  },
  {
   "cell_type": "code",
   "execution_count": 123,
   "metadata": {
    "collapsed": true,
    "jupyter": {
     "outputs_hidden": true,
     "source_hidden": true
    },
    "ExecuteTime": {
     "end_time": "2024-03-11T16:38:55.668535200Z",
     "start_time": "2024-03-11T16:38:55.584925200Z"
    }
   },
   "outputs": [],
   "source": [
    "index_of_new_attacks = []\n",
    "\n",
    "for i in range(len(df_test_original)):\n",
    "    if df_test_original['label'][i] in new_attack:\n",
    "        index_of_new_attacks.append(df_test_original.index[i])"
   ]
  },
  {
   "cell_type": "code",
   "execution_count": 124,
   "metadata": {
    "collapsed": true,
    "jupyter": {
     "outputs_hidden": true,
     "source_hidden": true
    },
    "ExecuteTime": {
     "end_time": "2024-03-11T16:38:55.717634Z",
     "start_time": "2024-03-11T16:38:55.668535200Z"
    }
   },
   "outputs": [],
   "source": [
    "#len(index_of_new_attacks)"
   ]
  },
  {
   "cell_type": "code",
   "execution_count": 125,
   "metadata": {
    "collapsed": true,
    "jupyter": {
     "outputs_hidden": true,
     "source_hidden": true
    },
    "ExecuteTime": {
     "end_time": "2024-03-11T16:38:55.719652Z",
     "start_time": "2024-03-11T16:38:55.699079500Z"
    }
   },
   "outputs": [],
   "source": [
    "new_attack.append('normal')\n",
    "#new_attack"
   ]
  },
  {
   "cell_type": "code",
   "execution_count": 126,
   "metadata": {
    "collapsed": true,
    "jupyter": {
     "outputs_hidden": true,
     "source_hidden": true
    },
    "ExecuteTime": {
     "end_time": "2024-03-11T16:38:55.806241200Z",
     "start_time": "2024-03-11T16:38:55.704477800Z"
    }
   },
   "outputs": [],
   "source": [
    "index_of_old_attacks = []\n",
    "\n",
    "for i in range(len(df_test_original)):\n",
    "    if df_test_original['label'][i] not in new_attack:\n",
    "        index_of_old_attacks.append(df_test_original.index[i])"
   ]
  },
  {
   "cell_type": "markdown",
   "metadata": {},
   "source": [
    "### Evaluate single attack types"
   ]
  },
  {
   "cell_type": "code",
   "execution_count": 127,
   "metadata": {
    "collapsed": true,
    "jupyter": {
     "outputs_hidden": true,
     "source_hidden": true
    },
    "ExecuteTime": {
     "end_time": "2024-03-11T16:38:55.901624900Z",
     "start_time": "2024-03-11T16:38:55.812683200Z"
    }
   },
   "outputs": [
    {
     "name": "stdout",
     "output_type": "stream",
     "text": [
      "Accuracy =  0.7984386089425124\n",
      "F1 Score =  0.7948162196333423\n",
      "Precision =  0.9450230860088049\n",
      "Recall =  0.6858100210395075\n",
      "tuning_time:  0:05:30.317736\n",
      "True Negative Rate (TNR) = 0.9472762846256823\n",
      "False Positive Rate (FPR) = [0.         0.05272372 1.        ]\n",
      "False Negative Rate (FNR) = 0.3141899789604925\n",
      "Ratio DOS of detection:  0.7689008042895442\n",
      "Ratio PROBE of detection:  0.9264766625361421\n",
      "Ratio U2R of detection:  0.2662045060658579\n",
      "Ratio R2L of detection:  0.8059701492537313\n",
      "New attacks detected:  0.39872247436543956\n",
      "Old attacks detected:  0.93390470656595\n"
     ]
    }
   ],
   "source": [
    "# load test set\n",
    "df_test = pd.read_csv('EvalResources/KDDTest+.txt', sep=\",\", header=None, skipinitialspace = True)\n",
    "df_test = df_test[df_test.columns[:-1]]\n",
    "df_test.columns = titles.to_list()\n",
    "y_test = df_test['label']\n",
    "df_test = df_test.drop(['num_outbound_cmds'],axis=1)\n",
    "df_test_original = df_test\n",
    "df = df_test_original\n",
    "\n",
    "dos_index = df.index[(df['label'].isin(dos_attacks))].tolist()\n",
    "probe_index = df.index[(df['label'].isin(probe_attacks))].tolist()\n",
    "r2l_index = df.index[(df['label'].isin(r2l_attacks))].tolist()\n",
    "u2r_index = df.index[(df['label'].isin(u2r_attacks))].tolist()\n",
    "\n",
    "print('Accuracy = ', accuracy)\n",
    "print('F1 Score = ', f_score)\n",
    "print('Precision = ', precision)\n",
    "print('Recall = ', recall)\n",
    "\n",
    "print('tuning_time: ', tuning_time)\n",
    "print('True Negative Rate (TNR) =', tnr)\n",
    "print('False Positive Rate (FPR) =', fpr)\n",
    "\n",
    "print('False Negative Rate (FNR) =', fnr)\n",
    "\n",
    "print(\"Ratio DOS of detection: \", result[dos_index].sum()/result[dos_index].shape[0])\n",
    "\n",
    "print(\"Ratio PROBE of detection: \", result[probe_index].sum()/result[probe_index].shape[0])\n",
    "\n",
    "print(\"Ratio U2R of detection: \", result[r2l_index].sum()/result[r2l_index].shape[0])\n",
    "\n",
    "print(\"Ratio R2L of detection: \", result[u2r_index].sum()/result[u2r_index].shape[0])\n",
    "\n",
    "print('New attacks detected: ', result[index_of_new_attacks].sum()/result[index_of_new_attacks].shape[0])\n",
    "\n",
    "print('Old attacks detected: ', result[index_of_old_attacks].sum()/result[index_of_old_attacks].shape[0])"
   ]
  }
 ],
 "metadata": {
  "kernelspec": {
   "display_name": "Python 3 (ipykernel)",
   "language": "python",
   "name": "python3"
  },
  "language_info": {
   "codemirror_mode": {
    "name": "ipython",
    "version": 3
   },
   "file_extension": ".py",
   "mimetype": "text/x-python",
   "name": "python",
   "nbconvert_exporter": "python",
   "pygments_lexer": "ipython3",
   "version": "3.11.3"
  }
 },
 "nbformat": 4,
 "nbformat_minor": 4
}
