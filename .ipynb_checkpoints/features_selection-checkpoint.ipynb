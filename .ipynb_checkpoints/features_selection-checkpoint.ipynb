{
 "cells": [
  {
   "cell_type": "code",
   "execution_count": 49,
   "outputs": [],
   "source": [
    "import pandas as pd\n",
    "import numpy as np\n",
    "import copy\n",
    "from sklearn.model_selection import train_test_split"
   ],
   "metadata": {
    "collapsed": false,
    "ExecuteTime": {
     "end_time": "2024-02-26T14:21:44.560683500Z",
     "start_time": "2024-02-26T14:21:44.538035700Z"
    }
   },
   "id": "748f5d01d1046220"
  },
  {
   "cell_type": "code",
   "execution_count": 50,
   "id": "initial_id",
   "metadata": {
    "collapsed": true,
    "ExecuteTime": {
     "end_time": "2024-02-26T14:21:45.210488Z",
     "start_time": "2024-02-26T14:21:44.568902600Z"
    }
   },
   "outputs": [],
   "source": [
    "# loading the train set\n",
    "df_train = pd.read_csv('EvalResources/KDDTrain+.txt', sep=\",\", header=None, skipinitialspace = True)\n",
    "df_train = df_train[df_train.columns[:-1]]  # tags column\n",
    "titles = pd.read_csv('EvalResources/Field Names.csv', header=None, skipinitialspace = True)\n",
    "label = pd.Series(['label'], index=[41])\n",
    "titles = pd.concat([titles[0], label])\n",
    "df_train.columns = titles.to_list()\n",
    "df_train = df_train.drop(['num_outbound_cmds'],axis=1)\n",
    "df_train_original = df_train\n",
    "\n",
    "# load test set\n",
    "df_test = pd.read_csv('EvalResources/KDDTest+.txt', sep=\",\", header=None, skipinitialspace = True)\n",
    "df_test_ = df_test.sort_index(axis=1)\n",
    "df_test = df_test[df_test.columns[:-1]]\n",
    "df_test.columns = titles.to_list()\n",
    "df_test = df_test.drop(['num_outbound_cmds'],axis=1)\n",
    "df_test_original = df_test"
   ]
  },
  {
   "cell_type": "code",
   "execution_count": 51,
   "outputs": [],
   "source": [
    "# list of single attacks \n",
    "dos_attacks = ['back', 'land', 'neptune', 'pod', 'smurf', 'teardrop', 'worm', 'apache2', 'mailbomb', 'processtable', 'udpstorm']\n",
    "probe_attacks = ['ipsweep', 'mscan', 'nmap', 'portsweep', 'saint', 'satan']\n",
    "r2l_attacks = ['guess_passwd', 'ftp_write', 'imap', 'phf', 'multihop', 'warezmaster',\n",
    "                'snmpguess', 'spy', 'warezclient', 'httptunnel', 'named', 'sendmail', 'snmpgetattack', 'xlock', 'xsnoop']\n",
    "u2r_attacks = ['buffer_overflow', 'loadmodule', 'perl', 'ps', 'rootkit', 'sqlattack', 'xterm'] \n",
    "\n",
    "# list of attack classes split according to detection layer\n",
    "dos_probe_list = ['back', 'land', 'neptune', 'pod', 'smurf', 'teardrop', 'ipsweep', 'nmap', 'portsweep', 'satan']\n",
    "dos_probe_test = ['apache2', 'mailbomb', 'processtable', 'udpstorm', 'mscan', 'saint']\n",
    "u2r_r2l_list = ['guess_passwd', 'ftp_write', 'imap', 'phf', 'multihop', 'warezmaster',\n",
    "                'snmpguess', 'spy', 'warezclient', 'buffer_overflow', 'loadmodule', 'rootkit', 'perl']\n",
    "u2r_r2l_test = ['httptunnel', 'named', 'sendmail', 'snmpgetattack', 'xlock', 'xsnoop', 'ps', 'xterm', 'sqlattack']\n",
    "normal_list = ['normal']\n",
    "categorical_features = ['protocol_type', 'service', 'flag']"
   ],
   "metadata": {
    "collapsed": false,
    "ExecuteTime": {
     "end_time": "2024-02-26T14:21:45.224825900Z",
     "start_time": "2024-02-26T14:21:45.216978Z"
    }
   },
   "id": "bb909cbacfd4c394"
  },
  {
   "cell_type": "code",
   "execution_count": 52,
   "outputs": [],
   "source": [
    "df_train_and_validate = copy.deepcopy(df_train_original)\n",
    "df_test = copy.deepcopy(df_test_original)"
   ],
   "metadata": {
    "collapsed": false,
    "ExecuteTime": {
     "end_time": "2024-02-26T14:21:45.270818300Z",
     "start_time": "2024-02-26T14:21:45.220545200Z"
    }
   },
   "id": "1ae6b0b90cb07cb2"
  },
  {
   "cell_type": "code",
   "execution_count": 53,
   "outputs": [],
   "source": [
    "# Save all the targets for the dataset\n",
    "y_test_l1 = [1 if x in (dos_attacks+probe_attacks) else 0 for x in df_test['label']]\n",
    "y_test_l2 = [1 if x in (u2r_attacks+r2l_attacks) else 0 for x in df_test['label']]"
   ],
   "metadata": {
    "collapsed": false,
    "ExecuteTime": {
     "end_time": "2024-02-26T14:21:45.303660300Z",
     "start_time": "2024-02-26T14:21:45.274320500Z"
    }
   },
   "id": "9ae458ccb417904e"
  },
  {
   "cell_type": "code",
   "execution_count": 54,
   "outputs": [],
   "source": [
    "# split in test and validation set for BOTH layers\n",
    "df_train_original, df_val_original = train_test_split(df_train_and_validate, test_size=0.2, random_state=42)"
   ],
   "metadata": {
    "collapsed": false,
    "ExecuteTime": {
     "end_time": "2024-02-26T14:21:45.362160500Z",
     "start_time": "2024-02-26T14:21:45.297429400Z"
    }
   },
   "id": "3f7d15bccc33b938"
  },
  {
   "cell_type": "code",
   "execution_count": 55,
   "outputs": [],
   "source": [
    "# LAYER 1 ONLY!\n",
    "\n",
    "# dataframes specifically for layer 1\n",
    "df_train = copy.deepcopy(df_train_original)\n",
    "df_val = copy.deepcopy(df_val_original)\n",
    "\n",
    "# set the target variables accordingly\n",
    "y_train = np.array([1 if x in (dos_attacks+probe_attacks) else 0 for x in df_train['label']])\n",
    "y_val = np.array([1 if x in (dos_attacks+probe_attacks) else 0 for x in df_val['label']])\n",
    "\n",
    "# this dataframe contains the whole train set \n",
    "df_train = df_train.drop(['label'],axis=1)\n",
    "df_train = df_train.reset_index().drop(['index'], axis=1)"
   ],
   "metadata": {
    "collapsed": false,
    "ExecuteTime": {
     "end_time": "2024-02-26T14:21:45.468256600Z",
     "start_time": "2024-02-26T14:21:45.366212Z"
    }
   },
   "id": "8210f0ffb357008b"
  },
  {
   "cell_type": "code",
   "execution_count": 56,
   "outputs": [],
   "source": [
    "# this dataframe contains the whole validation set\n",
    "df_val = df_val.drop(['label'],axis=1)\n",
    "df_val = df_val.reset_index().drop(['index'], axis=1)"
   ],
   "metadata": {
    "collapsed": false,
    "ExecuteTime": {
     "end_time": "2024-02-26T14:21:45.501102600Z",
     "start_time": "2024-02-26T14:21:45.473580500Z"
    }
   },
   "id": "e362601bbcaca496"
  },
  {
   "cell_type": "code",
   "execution_count": 57,
   "outputs": [],
   "source": [
    "from sklearn.preprocessing import OneHotEncoder\n",
    "\n",
    "# 2 one-hot encoders, one for the features of layer1 and one for the features of layer2\n",
    "ohe = OneHotEncoder(handle_unknown='ignore')\n",
    "ohe2 = OneHotEncoder(handle_unknown='ignore')"
   ],
   "metadata": {
    "collapsed": false,
    "ExecuteTime": {
     "end_time": "2024-02-26T14:21:45.511284500Z",
     "start_time": "2024-02-26T14:21:45.490421900Z"
    }
   },
   "id": "f60bfa800be9a192"
  },
  {
   "cell_type": "code",
   "execution_count": 58,
   "outputs": [],
   "source": [
    "# perform One-hot encoding for the train set\n",
    "label_enc = ohe.fit_transform(df_train[categorical_features])\n",
    "label_enc.toarray()\n",
    "new_labels = ohe.get_feature_names_out(categorical_features)\n",
    "df_enc_train = pd.DataFrame(data=label_enc.toarray(), columns=new_labels)"
   ],
   "metadata": {
    "collapsed": false,
    "ExecuteTime": {
     "end_time": "2024-02-26T14:21:45.603255400Z",
     "start_time": "2024-02-26T14:21:45.506112500Z"
    }
   },
   "id": "5508bfbc664bedbd"
  },
  {
   "cell_type": "code",
   "execution_count": 59,
   "outputs": [],
   "source": [
    "# perform One-hot encoding for the validation set\n",
    "label_enc = ohe.transform(df_val[categorical_features])\n",
    "label_enc.toarray()\n",
    "new_labels = ohe.get_feature_names_out(categorical_features)\n",
    "df_enc_val = pd.DataFrame(data=label_enc.toarray(), columns=new_labels)"
   ],
   "metadata": {
    "collapsed": false,
    "ExecuteTime": {
     "end_time": "2024-02-26T14:21:45.650206100Z",
     "start_time": "2024-02-26T14:21:45.606773400Z"
    }
   },
   "id": "9e4a4d12f5511f88"
  },
  {
   "cell_type": "code",
   "execution_count": 60,
   "outputs": [],
   "source": [
    "# perform One-hot encoding for the test set\n",
    "label_enc = ohe.transform(df_test.iloc[:,1:4])\n",
    "label_enc.toarray()\n",
    "new_labels = ohe.get_feature_names_out(categorical_features)\n",
    "df_enc_test = pd.DataFrame(data=label_enc.toarray(), columns=new_labels)"
   ],
   "metadata": {
    "collapsed": false,
    "ExecuteTime": {
     "end_time": "2024-02-26T14:21:45.690880700Z",
     "start_time": "2024-02-26T14:21:45.638124200Z"
    }
   },
   "id": "e38d2cac104cd8e3"
  },
  {
   "cell_type": "code",
   "execution_count": 61,
   "outputs": [],
   "source": [
    "# remove categorical features from the datasets\n",
    "df_train.drop(columns=categorical_features, inplace=True)\n",
    "df_val.drop(columns=categorical_features, inplace=True)\n",
    "df_test.drop(columns=categorical_features, inplace=True)"
   ],
   "metadata": {
    "collapsed": false,
    "ExecuteTime": {
     "end_time": "2024-02-26T14:21:45.695179200Z",
     "start_time": "2024-02-26T14:21:45.667425300Z"
    }
   },
   "id": "d17837db9ad6fa9"
  },
  {
   "cell_type": "code",
   "execution_count": 62,
   "outputs": [],
   "source": [
    "from sklearn.preprocessing import MinMaxScaler\n",
    "\n",
    "scaler1 = MinMaxScaler()\n",
    "scaler2 = MinMaxScaler()"
   ],
   "metadata": {
    "collapsed": false,
    "ExecuteTime": {
     "end_time": "2024-02-26T14:21:45.717646400Z",
     "start_time": "2024-02-26T14:21:45.692000400Z"
    }
   },
   "id": "ed87a7f68c6bf1bc"
  },
  {
   "cell_type": "code",
   "execution_count": 63,
   "outputs": [],
   "source": [
    "# scaling the train set for layer1\n",
    "df_minmax = scaler1.fit_transform(df_train)\n",
    "x_train = pd.DataFrame(df_minmax, columns=df_train.columns)"
   ],
   "metadata": {
    "collapsed": false,
    "ExecuteTime": {
     "end_time": "2024-02-26T14:21:45.786616800Z",
     "start_time": "2024-02-26T14:21:45.702272600Z"
    }
   },
   "id": "b0650a97d2787b08"
  },
  {
   "cell_type": "code",
   "execution_count": 64,
   "outputs": [],
   "source": [
    "# scaling the validation set for layer1\n",
    "df_minmax_val = scaler1.transform(df_val)\n",
    "x_val = pd.DataFrame(df_minmax_val, columns=df_val.columns)"
   ],
   "metadata": {
    "collapsed": false,
    "ExecuteTime": {
     "end_time": "2024-02-26T14:21:45.788795100Z",
     "start_time": "2024-02-26T14:21:45.769158700Z"
    }
   },
   "id": "1b523fd26791e94a"
  },
  {
   "cell_type": "code",
   "execution_count": 65,
   "outputs": [],
   "source": [
    "x_train = pd.concat([x_train, df_enc_train], axis=1)\n",
    "x_val = pd.concat([x_val, df_enc_val], axis=1)"
   ],
   "metadata": {
    "collapsed": false,
    "ExecuteTime": {
     "end_time": "2024-02-26T14:21:45.849387200Z",
     "start_time": "2024-02-26T14:21:45.787631700Z"
    }
   },
   "id": "986305e9b6017445"
  },
  {
   "cell_type": "code",
   "execution_count": 66,
   "outputs": [
    {
     "data": {
      "text/plain": "        duration     src_bytes     dst_bytes  land  wrong_fragment  urgent  \\\n0            0.0  1.550765e-07  1.140436e-05   0.0             0.0     0.0   \n1            0.0  0.000000e+00  0.000000e+00   0.0             0.0     0.0   \n2            0.0  0.000000e+00  0.000000e+00   0.0             0.0     0.0   \n3            0.0  1.862368e-07  1.977194e-07   0.0             0.0     0.0   \n4            0.0  3.739228e-07  3.053581e-09   0.0             0.0     0.0   \n...          ...           ...           ...   ...             ...     ...   \n100773       0.0  0.000000e+00  0.000000e+00   0.0             0.0     0.0   \n100774       0.0  0.000000e+00  0.000000e+00   0.0             0.0     0.0   \n100775       0.0  0.000000e+00  0.000000e+00   0.0             0.0     0.0   \n100776       0.0  2.239189e-07  3.268095e-06   0.0             0.0     0.0   \n100777       0.0  3.116024e-08  5.343767e-08   0.0             0.0     0.0   \n\n        hot  num_failed_logins  logged_in  num_compromised  ...  flag_REJ  \\\n0       0.0                0.0        1.0              0.0  ...       0.0   \n1       0.0                0.0        0.0              0.0  ...       0.0   \n2       0.0                0.0        0.0              0.0  ...       1.0   \n3       0.0                0.0        1.0              0.0  ...       0.0   \n4       0.0                0.0        0.0              0.0  ...       0.0   \n...     ...                ...        ...              ...  ...       ...   \n100773  0.0                0.0        0.0              0.0  ...       0.0   \n100774  0.0                0.0        0.0              0.0  ...       0.0   \n100775  0.0                0.0        0.0              0.0  ...       1.0   \n100776  0.0                0.0        1.0              0.0  ...       0.0   \n100777  0.0                0.0        0.0              0.0  ...       0.0   \n\n        flag_RSTO  flag_RSTOS0  flag_RSTR  flag_S0  flag_S1  flag_S2  flag_S3  \\\n0             0.0          0.0        0.0      0.0      0.0      0.0      0.0   \n1             0.0          0.0        0.0      1.0      0.0      0.0      0.0   \n2             0.0          0.0        0.0      0.0      0.0      0.0      0.0   \n3             0.0          0.0        0.0      0.0      0.0      0.0      0.0   \n4             0.0          0.0        0.0      0.0      0.0      0.0      0.0   \n...           ...          ...        ...      ...      ...      ...      ...   \n100773        1.0          0.0        0.0      0.0      0.0      0.0      0.0   \n100774        0.0          0.0        0.0      1.0      0.0      0.0      0.0   \n100775        0.0          0.0        0.0      0.0      0.0      0.0      0.0   \n100776        0.0          0.0        0.0      0.0      0.0      0.0      0.0   \n100777        0.0          0.0        0.0      0.0      0.0      0.0      0.0   \n\n        flag_SF  flag_SH  \n0           1.0      0.0  \n1           0.0      0.0  \n2           0.0      0.0  \n3           1.0      0.0  \n4           1.0      0.0  \n...         ...      ...  \n100773      0.0      0.0  \n100774      0.0      0.0  \n100775      0.0      0.0  \n100776      1.0      0.0  \n100777      1.0      0.0  \n\n[100778 rows x 121 columns]",
      "text/html": "<div>\n<style scoped>\n    .dataframe tbody tr th:only-of-type {\n        vertical-align: middle;\n    }\n\n    .dataframe tbody tr th {\n        vertical-align: top;\n    }\n\n    .dataframe thead th {\n        text-align: right;\n    }\n</style>\n<table border=\"1\" class=\"dataframe\">\n  <thead>\n    <tr style=\"text-align: right;\">\n      <th></th>\n      <th>duration</th>\n      <th>src_bytes</th>\n      <th>dst_bytes</th>\n      <th>land</th>\n      <th>wrong_fragment</th>\n      <th>urgent</th>\n      <th>hot</th>\n      <th>num_failed_logins</th>\n      <th>logged_in</th>\n      <th>num_compromised</th>\n      <th>...</th>\n      <th>flag_REJ</th>\n      <th>flag_RSTO</th>\n      <th>flag_RSTOS0</th>\n      <th>flag_RSTR</th>\n      <th>flag_S0</th>\n      <th>flag_S1</th>\n      <th>flag_S2</th>\n      <th>flag_S3</th>\n      <th>flag_SF</th>\n      <th>flag_SH</th>\n    </tr>\n  </thead>\n  <tbody>\n    <tr>\n      <th>0</th>\n      <td>0.0</td>\n      <td>1.550765e-07</td>\n      <td>1.140436e-05</td>\n      <td>0.0</td>\n      <td>0.0</td>\n      <td>0.0</td>\n      <td>0.0</td>\n      <td>0.0</td>\n      <td>1.0</td>\n      <td>0.0</td>\n      <td>...</td>\n      <td>0.0</td>\n      <td>0.0</td>\n      <td>0.0</td>\n      <td>0.0</td>\n      <td>0.0</td>\n      <td>0.0</td>\n      <td>0.0</td>\n      <td>0.0</td>\n      <td>1.0</td>\n      <td>0.0</td>\n    </tr>\n    <tr>\n      <th>1</th>\n      <td>0.0</td>\n      <td>0.000000e+00</td>\n      <td>0.000000e+00</td>\n      <td>0.0</td>\n      <td>0.0</td>\n      <td>0.0</td>\n      <td>0.0</td>\n      <td>0.0</td>\n      <td>0.0</td>\n      <td>0.0</td>\n      <td>...</td>\n      <td>0.0</td>\n      <td>0.0</td>\n      <td>0.0</td>\n      <td>0.0</td>\n      <td>1.0</td>\n      <td>0.0</td>\n      <td>0.0</td>\n      <td>0.0</td>\n      <td>0.0</td>\n      <td>0.0</td>\n    </tr>\n    <tr>\n      <th>2</th>\n      <td>0.0</td>\n      <td>0.000000e+00</td>\n      <td>0.000000e+00</td>\n      <td>0.0</td>\n      <td>0.0</td>\n      <td>0.0</td>\n      <td>0.0</td>\n      <td>0.0</td>\n      <td>0.0</td>\n      <td>0.0</td>\n      <td>...</td>\n      <td>1.0</td>\n      <td>0.0</td>\n      <td>0.0</td>\n      <td>0.0</td>\n      <td>0.0</td>\n      <td>0.0</td>\n      <td>0.0</td>\n      <td>0.0</td>\n      <td>0.0</td>\n      <td>0.0</td>\n    </tr>\n    <tr>\n      <th>3</th>\n      <td>0.0</td>\n      <td>1.862368e-07</td>\n      <td>1.977194e-07</td>\n      <td>0.0</td>\n      <td>0.0</td>\n      <td>0.0</td>\n      <td>0.0</td>\n      <td>0.0</td>\n      <td>1.0</td>\n      <td>0.0</td>\n      <td>...</td>\n      <td>0.0</td>\n      <td>0.0</td>\n      <td>0.0</td>\n      <td>0.0</td>\n      <td>0.0</td>\n      <td>0.0</td>\n      <td>0.0</td>\n      <td>0.0</td>\n      <td>1.0</td>\n      <td>0.0</td>\n    </tr>\n    <tr>\n      <th>4</th>\n      <td>0.0</td>\n      <td>3.739228e-07</td>\n      <td>3.053581e-09</td>\n      <td>0.0</td>\n      <td>0.0</td>\n      <td>0.0</td>\n      <td>0.0</td>\n      <td>0.0</td>\n      <td>0.0</td>\n      <td>0.0</td>\n      <td>...</td>\n      <td>0.0</td>\n      <td>0.0</td>\n      <td>0.0</td>\n      <td>0.0</td>\n      <td>0.0</td>\n      <td>0.0</td>\n      <td>0.0</td>\n      <td>0.0</td>\n      <td>1.0</td>\n      <td>0.0</td>\n    </tr>\n    <tr>\n      <th>...</th>\n      <td>...</td>\n      <td>...</td>\n      <td>...</td>\n      <td>...</td>\n      <td>...</td>\n      <td>...</td>\n      <td>...</td>\n      <td>...</td>\n      <td>...</td>\n      <td>...</td>\n      <td>...</td>\n      <td>...</td>\n      <td>...</td>\n      <td>...</td>\n      <td>...</td>\n      <td>...</td>\n      <td>...</td>\n      <td>...</td>\n      <td>...</td>\n      <td>...</td>\n      <td>...</td>\n    </tr>\n    <tr>\n      <th>100773</th>\n      <td>0.0</td>\n      <td>0.000000e+00</td>\n      <td>0.000000e+00</td>\n      <td>0.0</td>\n      <td>0.0</td>\n      <td>0.0</td>\n      <td>0.0</td>\n      <td>0.0</td>\n      <td>0.0</td>\n      <td>0.0</td>\n      <td>...</td>\n      <td>0.0</td>\n      <td>1.0</td>\n      <td>0.0</td>\n      <td>0.0</td>\n      <td>0.0</td>\n      <td>0.0</td>\n      <td>0.0</td>\n      <td>0.0</td>\n      <td>0.0</td>\n      <td>0.0</td>\n    </tr>\n    <tr>\n      <th>100774</th>\n      <td>0.0</td>\n      <td>0.000000e+00</td>\n      <td>0.000000e+00</td>\n      <td>0.0</td>\n      <td>0.0</td>\n      <td>0.0</td>\n      <td>0.0</td>\n      <td>0.0</td>\n      <td>0.0</td>\n      <td>0.0</td>\n      <td>...</td>\n      <td>0.0</td>\n      <td>0.0</td>\n      <td>0.0</td>\n      <td>0.0</td>\n      <td>1.0</td>\n      <td>0.0</td>\n      <td>0.0</td>\n      <td>0.0</td>\n      <td>0.0</td>\n      <td>0.0</td>\n    </tr>\n    <tr>\n      <th>100775</th>\n      <td>0.0</td>\n      <td>0.000000e+00</td>\n      <td>0.000000e+00</td>\n      <td>0.0</td>\n      <td>0.0</td>\n      <td>0.0</td>\n      <td>0.0</td>\n      <td>0.0</td>\n      <td>0.0</td>\n      <td>0.0</td>\n      <td>...</td>\n      <td>1.0</td>\n      <td>0.0</td>\n      <td>0.0</td>\n      <td>0.0</td>\n      <td>0.0</td>\n      <td>0.0</td>\n      <td>0.0</td>\n      <td>0.0</td>\n      <td>0.0</td>\n      <td>0.0</td>\n    </tr>\n    <tr>\n      <th>100776</th>\n      <td>0.0</td>\n      <td>2.239189e-07</td>\n      <td>3.268095e-06</td>\n      <td>0.0</td>\n      <td>0.0</td>\n      <td>0.0</td>\n      <td>0.0</td>\n      <td>0.0</td>\n      <td>1.0</td>\n      <td>0.0</td>\n      <td>...</td>\n      <td>0.0</td>\n      <td>0.0</td>\n      <td>0.0</td>\n      <td>0.0</td>\n      <td>0.0</td>\n      <td>0.0</td>\n      <td>0.0</td>\n      <td>0.0</td>\n      <td>1.0</td>\n      <td>0.0</td>\n    </tr>\n    <tr>\n      <th>100777</th>\n      <td>0.0</td>\n      <td>3.116024e-08</td>\n      <td>5.343767e-08</td>\n      <td>0.0</td>\n      <td>0.0</td>\n      <td>0.0</td>\n      <td>0.0</td>\n      <td>0.0</td>\n      <td>0.0</td>\n      <td>0.0</td>\n      <td>...</td>\n      <td>0.0</td>\n      <td>0.0</td>\n      <td>0.0</td>\n      <td>0.0</td>\n      <td>0.0</td>\n      <td>0.0</td>\n      <td>0.0</td>\n      <td>0.0</td>\n      <td>1.0</td>\n      <td>0.0</td>\n    </tr>\n  </tbody>\n</table>\n<p>100778 rows × 121 columns</p>\n</div>"
     },
     "execution_count": 66,
     "metadata": {},
     "output_type": "execute_result"
    }
   ],
   "source": [
    "x_train"
   ],
   "metadata": {
    "collapsed": false,
    "ExecuteTime": {
     "end_time": "2024-02-26T14:21:45.921237900Z",
     "start_time": "2024-02-26T14:21:45.850443800Z"
    }
   },
   "id": "33af731e25718c21"
  },
  {
   "cell_type": "code",
   "execution_count": 67,
   "outputs": [
    {
     "data": {
      "text/plain": "       duration     src_bytes     dst_bytes  land  wrong_fragment  urgent  \\\n0      0.000000  2.608764e-08  0.000000e+00   0.0             0.0     0.0   \n1      0.000000  0.000000e+00  0.000000e+00   0.0             0.0     0.0   \n2      0.000000  0.000000e+00  0.000000e+00   0.0             0.0     0.0   \n3      0.000000  0.000000e+00  0.000000e+00   0.0             0.0     0.0   \n4      0.000000  0.000000e+00  0.000000e+00   0.0             0.0     0.0   \n...         ...           ...           ...   ...             ...     ...   \n25190  0.000000  1.442067e-07  7.206451e-07   0.0             0.0     0.0   \n25191  0.000000  5.797253e-09  0.000000e+00   0.0             0.0     0.0   \n25192  0.000000  9.408217e-06  0.000000e+00   0.0             0.0     0.0   \n25193  0.000047  5.891459e-07  2.511570e-07   0.0             0.0     0.0   \n25194  0.000000  0.000000e+00  0.000000e+00   0.0             0.0     0.0   \n\n       hot  num_failed_logins  logged_in  num_compromised  ...  flag_REJ  \\\n0      0.0                0.0        0.0              0.0  ...       0.0   \n1      0.0                0.0        0.0              0.0  ...       0.0   \n2      0.0                0.0        0.0              0.0  ...       0.0   \n3      0.0                0.0        0.0              0.0  ...       1.0   \n4      0.0                0.0        0.0              0.0  ...       0.0   \n...    ...                ...        ...              ...  ...       ...   \n25190  0.0                0.0        1.0              0.0  ...       0.0   \n25191  0.0                0.0        0.0              0.0  ...       0.0   \n25192  0.0                0.0        0.0              0.0  ...       0.0   \n25193  0.0                0.0        1.0              0.0  ...       0.0   \n25194  0.0                0.0        0.0              0.0  ...       0.0   \n\n       flag_RSTO  flag_RSTOS0  flag_RSTR  flag_S0  flag_S1  flag_S2  flag_S3  \\\n0            0.0          0.0        0.0      0.0      0.0      0.0      0.0   \n1            0.0          0.0        0.0      1.0      0.0      0.0      0.0   \n2            0.0          0.0        0.0      1.0      0.0      0.0      0.0   \n3            0.0          0.0        0.0      0.0      0.0      0.0      0.0   \n4            0.0          0.0        1.0      0.0      0.0      0.0      0.0   \n...          ...          ...        ...      ...      ...      ...      ...   \n25190        0.0          0.0        0.0      0.0      0.0      0.0      0.0   \n25191        0.0          0.0        0.0      0.0      0.0      0.0      0.0   \n25192        0.0          0.0        0.0      0.0      0.0      0.0      0.0   \n25193        0.0          0.0        0.0      0.0      0.0      0.0      0.0   \n25194        0.0          0.0        0.0      1.0      0.0      0.0      0.0   \n\n       flag_SF  flag_SH  \n0          1.0      0.0  \n1          0.0      0.0  \n2          0.0      0.0  \n3          0.0      0.0  \n4          0.0      0.0  \n...        ...      ...  \n25190      1.0      0.0  \n25191      1.0      0.0  \n25192      1.0      0.0  \n25193      1.0      0.0  \n25194      0.0      0.0  \n\n[25195 rows x 121 columns]",
      "text/html": "<div>\n<style scoped>\n    .dataframe tbody tr th:only-of-type {\n        vertical-align: middle;\n    }\n\n    .dataframe tbody tr th {\n        vertical-align: top;\n    }\n\n    .dataframe thead th {\n        text-align: right;\n    }\n</style>\n<table border=\"1\" class=\"dataframe\">\n  <thead>\n    <tr style=\"text-align: right;\">\n      <th></th>\n      <th>duration</th>\n      <th>src_bytes</th>\n      <th>dst_bytes</th>\n      <th>land</th>\n      <th>wrong_fragment</th>\n      <th>urgent</th>\n      <th>hot</th>\n      <th>num_failed_logins</th>\n      <th>logged_in</th>\n      <th>num_compromised</th>\n      <th>...</th>\n      <th>flag_REJ</th>\n      <th>flag_RSTO</th>\n      <th>flag_RSTOS0</th>\n      <th>flag_RSTR</th>\n      <th>flag_S0</th>\n      <th>flag_S1</th>\n      <th>flag_S2</th>\n      <th>flag_S3</th>\n      <th>flag_SF</th>\n      <th>flag_SH</th>\n    </tr>\n  </thead>\n  <tbody>\n    <tr>\n      <th>0</th>\n      <td>0.000000</td>\n      <td>2.608764e-08</td>\n      <td>0.000000e+00</td>\n      <td>0.0</td>\n      <td>0.0</td>\n      <td>0.0</td>\n      <td>0.0</td>\n      <td>0.0</td>\n      <td>0.0</td>\n      <td>0.0</td>\n      <td>...</td>\n      <td>0.0</td>\n      <td>0.0</td>\n      <td>0.0</td>\n      <td>0.0</td>\n      <td>0.0</td>\n      <td>0.0</td>\n      <td>0.0</td>\n      <td>0.0</td>\n      <td>1.0</td>\n      <td>0.0</td>\n    </tr>\n    <tr>\n      <th>1</th>\n      <td>0.000000</td>\n      <td>0.000000e+00</td>\n      <td>0.000000e+00</td>\n      <td>0.0</td>\n      <td>0.0</td>\n      <td>0.0</td>\n      <td>0.0</td>\n      <td>0.0</td>\n      <td>0.0</td>\n      <td>0.0</td>\n      <td>...</td>\n      <td>0.0</td>\n      <td>0.0</td>\n      <td>0.0</td>\n      <td>0.0</td>\n      <td>1.0</td>\n      <td>0.0</td>\n      <td>0.0</td>\n      <td>0.0</td>\n      <td>0.0</td>\n      <td>0.0</td>\n    </tr>\n    <tr>\n      <th>2</th>\n      <td>0.000000</td>\n      <td>0.000000e+00</td>\n      <td>0.000000e+00</td>\n      <td>0.0</td>\n      <td>0.0</td>\n      <td>0.0</td>\n      <td>0.0</td>\n      <td>0.0</td>\n      <td>0.0</td>\n      <td>0.0</td>\n      <td>...</td>\n      <td>0.0</td>\n      <td>0.0</td>\n      <td>0.0</td>\n      <td>0.0</td>\n      <td>1.0</td>\n      <td>0.0</td>\n      <td>0.0</td>\n      <td>0.0</td>\n      <td>0.0</td>\n      <td>0.0</td>\n    </tr>\n    <tr>\n      <th>3</th>\n      <td>0.000000</td>\n      <td>0.000000e+00</td>\n      <td>0.000000e+00</td>\n      <td>0.0</td>\n      <td>0.0</td>\n      <td>0.0</td>\n      <td>0.0</td>\n      <td>0.0</td>\n      <td>0.0</td>\n      <td>0.0</td>\n      <td>...</td>\n      <td>1.0</td>\n      <td>0.0</td>\n      <td>0.0</td>\n      <td>0.0</td>\n      <td>0.0</td>\n      <td>0.0</td>\n      <td>0.0</td>\n      <td>0.0</td>\n      <td>0.0</td>\n      <td>0.0</td>\n    </tr>\n    <tr>\n      <th>4</th>\n      <td>0.000000</td>\n      <td>0.000000e+00</td>\n      <td>0.000000e+00</td>\n      <td>0.0</td>\n      <td>0.0</td>\n      <td>0.0</td>\n      <td>0.0</td>\n      <td>0.0</td>\n      <td>0.0</td>\n      <td>0.0</td>\n      <td>...</td>\n      <td>0.0</td>\n      <td>0.0</td>\n      <td>0.0</td>\n      <td>1.0</td>\n      <td>0.0</td>\n      <td>0.0</td>\n      <td>0.0</td>\n      <td>0.0</td>\n      <td>0.0</td>\n      <td>0.0</td>\n    </tr>\n    <tr>\n      <th>...</th>\n      <td>...</td>\n      <td>...</td>\n      <td>...</td>\n      <td>...</td>\n      <td>...</td>\n      <td>...</td>\n      <td>...</td>\n      <td>...</td>\n      <td>...</td>\n      <td>...</td>\n      <td>...</td>\n      <td>...</td>\n      <td>...</td>\n      <td>...</td>\n      <td>...</td>\n      <td>...</td>\n      <td>...</td>\n      <td>...</td>\n      <td>...</td>\n      <td>...</td>\n      <td>...</td>\n    </tr>\n    <tr>\n      <th>25190</th>\n      <td>0.000000</td>\n      <td>1.442067e-07</td>\n      <td>7.206451e-07</td>\n      <td>0.0</td>\n      <td>0.0</td>\n      <td>0.0</td>\n      <td>0.0</td>\n      <td>0.0</td>\n      <td>1.0</td>\n      <td>0.0</td>\n      <td>...</td>\n      <td>0.0</td>\n      <td>0.0</td>\n      <td>0.0</td>\n      <td>0.0</td>\n      <td>0.0</td>\n      <td>0.0</td>\n      <td>0.0</td>\n      <td>0.0</td>\n      <td>1.0</td>\n      <td>0.0</td>\n    </tr>\n    <tr>\n      <th>25191</th>\n      <td>0.000000</td>\n      <td>5.797253e-09</td>\n      <td>0.000000e+00</td>\n      <td>0.0</td>\n      <td>0.0</td>\n      <td>0.0</td>\n      <td>0.0</td>\n      <td>0.0</td>\n      <td>0.0</td>\n      <td>0.0</td>\n      <td>...</td>\n      <td>0.0</td>\n      <td>0.0</td>\n      <td>0.0</td>\n      <td>0.0</td>\n      <td>0.0</td>\n      <td>0.0</td>\n      <td>0.0</td>\n      <td>0.0</td>\n      <td>1.0</td>\n      <td>0.0</td>\n    </tr>\n    <tr>\n      <th>25192</th>\n      <td>0.000000</td>\n      <td>9.408217e-06</td>\n      <td>0.000000e+00</td>\n      <td>0.0</td>\n      <td>0.0</td>\n      <td>0.0</td>\n      <td>0.0</td>\n      <td>0.0</td>\n      <td>0.0</td>\n      <td>0.0</td>\n      <td>...</td>\n      <td>0.0</td>\n      <td>0.0</td>\n      <td>0.0</td>\n      <td>0.0</td>\n      <td>0.0</td>\n      <td>0.0</td>\n      <td>0.0</td>\n      <td>0.0</td>\n      <td>1.0</td>\n      <td>0.0</td>\n    </tr>\n    <tr>\n      <th>25193</th>\n      <td>0.000047</td>\n      <td>5.891459e-07</td>\n      <td>2.511570e-07</td>\n      <td>0.0</td>\n      <td>0.0</td>\n      <td>0.0</td>\n      <td>0.0</td>\n      <td>0.0</td>\n      <td>1.0</td>\n      <td>0.0</td>\n      <td>...</td>\n      <td>0.0</td>\n      <td>0.0</td>\n      <td>0.0</td>\n      <td>0.0</td>\n      <td>0.0</td>\n      <td>0.0</td>\n      <td>0.0</td>\n      <td>0.0</td>\n      <td>1.0</td>\n      <td>0.0</td>\n    </tr>\n    <tr>\n      <th>25194</th>\n      <td>0.000000</td>\n      <td>0.000000e+00</td>\n      <td>0.000000e+00</td>\n      <td>0.0</td>\n      <td>0.0</td>\n      <td>0.0</td>\n      <td>0.0</td>\n      <td>0.0</td>\n      <td>0.0</td>\n      <td>0.0</td>\n      <td>...</td>\n      <td>0.0</td>\n      <td>0.0</td>\n      <td>0.0</td>\n      <td>0.0</td>\n      <td>1.0</td>\n      <td>0.0</td>\n      <td>0.0</td>\n      <td>0.0</td>\n      <td>0.0</td>\n      <td>0.0</td>\n    </tr>\n  </tbody>\n</table>\n<p>25195 rows × 121 columns</p>\n</div>"
     },
     "execution_count": 67,
     "metadata": {},
     "output_type": "execute_result"
    }
   ],
   "source": [
    "x_val"
   ],
   "metadata": {
    "collapsed": false,
    "ExecuteTime": {
     "end_time": "2024-02-26T14:21:45.954143700Z",
     "start_time": "2024-02-26T14:21:45.910614800Z"
    }
   },
   "id": "81bb1754d902e8a"
  },
  {
   "cell_type": "markdown",
   "source": [
    "### Now we can perform features selection"
   ],
   "metadata": {
    "collapsed": false
   },
   "id": "8ce33ab9b6680c4e"
  },
  {
   "cell_type": "code",
   "execution_count": 68,
   "outputs": [
    {
     "data": {
      "text/plain": "array([2.95921057e-02, 5.75191681e-01, 4.36989326e-01, 9.77389208e-04,\n       8.33914992e-03, 0.00000000e+00, 6.80088023e-03, 0.00000000e+00,\n       3.13477590e-01, 4.90382670e-03, 1.57755029e-03, 0.00000000e+00,\n       4.43837611e-03, 0.00000000e+00, 0.00000000e+00, 2.13940452e-03,\n       2.91626354e-03, 6.33221730e-03, 2.73110441e-01, 6.81472308e-02,\n       2.84462090e-01, 2.73351586e-01, 4.11690837e-02, 3.70947865e-02,\n       3.76636274e-01, 3.70355277e-01, 9.78071576e-02, 1.49259618e-01,\n       3.28728222e-01, 3.18816832e-01, 2.94714563e-01, 1.26804878e-01,\n       1.94255801e-01, 2.91500920e-01, 2.88924412e-01, 4.04399234e-02,\n       6.73033712e-02, 2.22510189e-02, 1.06712103e-02, 2.34471277e-02,\n       5.97643520e-04, 0.00000000e+00, 3.69173754e-03, 0.00000000e+00,\n       1.88305250e-03, 3.88008875e-03, 4.16047276e-03, 1.65265818e-03,\n       2.52263214e-03, 4.75862838e-03, 2.89108700e-03, 3.81194875e-03,\n       4.77132493e-02, 2.86287797e-03, 1.42728369e-02, 1.70496817e-02,\n       5.11506151e-03, 2.04431317e-03, 3.48467976e-03, 0.00000000e+00,\n       8.96964330e-03, 1.46810733e-03, 0.00000000e+00, 2.71552510e-03,\n       1.84374909e-01, 1.84752042e-03, 9.90838040e-04, 2.66421678e-03,\n       4.94516763e-03, 2.96471460e-03, 2.20533625e-03, 3.71592489e-03,\n       7.15051226e-04, 5.27492029e-03, 7.93577807e-04, 5.54015058e-04,\n       3.73484153e-03, 2.80912545e-03, 2.98728990e-03, 2.83459979e-03,\n       1.46521430e-03, 2.98377627e-03, 6.12837060e-04, 2.33833564e-03,\n       3.44743505e-04, 1.64965062e-03, 0.00000000e+00, 0.00000000e+00,\n       1.40496317e-04, 1.23048082e-01, 0.00000000e+00, 3.21136055e-03,\n       9.93929743e-05, 9.49031012e-04, 2.87337576e-02, 0.00000000e+00,\n       6.80140476e-04, 3.41918796e-03, 5.63484741e-03, 3.67865323e-03,\n       7.34734951e-04, 1.07630092e-03, 0.00000000e+00, 1.21155866e-03,\n       1.20397911e-03, 2.13248210e-03, 6.74198535e-03, 2.36484466e-03,\n       4.99916930e-03, 4.48145719e-03, 5.38293026e-04, 2.03727212e-02,\n       2.69811229e-03, 1.88230269e-03, 8.19379993e-03, 2.70335845e-01,\n       2.82230295e-03, 5.29143896e-04, 7.89421735e-04, 3.51093489e-01,\n       1.03644169e-03])"
     },
     "execution_count": 68,
     "metadata": {},
     "output_type": "execute_result"
    }
   ],
   "source": [
    "# Information gain\n",
    "\n",
    "from sklearn.feature_selection import mutual_info_classif\n",
    "\n",
    "mutual_info_classif(x_train, y_train)"
   ],
   "metadata": {
    "collapsed": false,
    "ExecuteTime": {
     "end_time": "2024-02-26T14:24:44.023969700Z",
     "start_time": "2024-02-26T14:23:34.732054700Z"
    }
   },
   "id": "584cb8103640aa11"
  },
  {
   "cell_type": "code",
   "execution_count": 71,
   "outputs": [
    {
     "name": "stdout",
     "output_type": "stream",
     "text": [
      "original features:  Index(['duration', 'src_bytes', 'dst_bytes', 'land', 'wrong_fragment',\n",
      "       'urgent', 'hot', 'num_failed_logins', 'logged_in', 'num_compromised',\n",
      "       ...\n",
      "       'flag_REJ', 'flag_RSTO', 'flag_RSTOS0', 'flag_RSTR', 'flag_S0',\n",
      "       'flag_S1', 'flag_S2', 'flag_S3', 'flag_SF', 'flag_SH'],\n",
      "      dtype='object', length=121)\n",
      "reduced features:  Index(['Feature_0', 'Feature_1', 'Feature_2', 'Feature_3', 'Feature_4',\n",
      "       'Feature_5', 'Feature_6', 'Feature_7', 'Feature_8', 'Feature_9',\n",
      "       'Feature_10', 'Feature_11', 'Feature_12', 'Feature_13', 'Feature_14'],\n",
      "      dtype='object')\n",
      "(100778, 121) (100778, 15)\n"
     ]
    }
   ],
   "source": [
    "# Chi-squared Test\n",
    "\n",
    "from sklearn.feature_selection import SelectKBest\n",
    "from sklearn.feature_selection import chi2\n",
    "\n",
    "chi2_features = SelectKBest(chi2, k = 15)\n",
    "x_kbest_features = chi2_features.fit_transform(x_train, y_train)\n",
    "\n",
    "x_reduced = pd.DataFrame(x_kbest_features, columns=[f\"Feature_{i}\" for i in range(x_kbest_features.shape[1])])\n",
    "\n",
    "print(\"original features: \", x_train.columns)\n",
    "print(\"reduced features: \", x_reduced.columns)\n",
    "\n",
    "print(x_train.shape, x_reduced.shape)"
   ],
   "metadata": {
    "collapsed": false,
    "ExecuteTime": {
     "end_time": "2024-02-26T14:34:38.839506700Z",
     "start_time": "2024-02-26T14:34:38.653218600Z"
    }
   },
   "id": "6d3545af67d14c7a"
  }
 ],
 "metadata": {
  "kernelspec": {
   "display_name": "Python 3",
   "language": "python",
   "name": "python3"
  },
  "language_info": {
   "codemirror_mode": {
    "name": "ipython",
    "version": 2
   },
   "file_extension": ".py",
   "mimetype": "text/x-python",
   "name": "python",
   "nbconvert_exporter": "python",
   "pygments_lexer": "ipython2",
   "version": "2.7.6"
  }
 },
 "nbformat": 4,
 "nbformat_minor": 5
}
